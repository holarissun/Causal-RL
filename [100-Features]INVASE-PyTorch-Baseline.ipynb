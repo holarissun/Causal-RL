{
 "cells": [
  {
   "cell_type": "markdown",
   "metadata": {},
   "source": [
    "# INVASE Baseline, in 100-feature dataset"
   ]
  },
  {
   "cell_type": "code",
   "execution_count": 1,
   "metadata": {},
   "outputs": [],
   "source": [
    "X_DIM = 100 # feature dimension Hyper-Param"
   ]
  },
  {
   "cell_type": "code",
   "execution_count": 2,
   "metadata": {},
   "outputs": [],
   "source": [
    "import numpy as np\n",
    "from sklearn.metrics import roc_auc_score\n",
    "from sklearn.metrics import average_precision_score\n",
    "from sklearn.metrics import accuracy_score\n",
    "# import argparse\n",
    "from data_generation import generate_data\n",
    "import os\n",
    "import json\n",
    "import pandas as pd\n",
    "import time\n",
    "import initpath_alg\n",
    "#initpath_alg.init_sys_path()\n",
    "import utilmlab\n",
    "import data_loader_mlab\n",
    "\n",
    "\n",
    "def array2str(a):\n",
    "    s = ''\n",
    "    for idx, el in enumerate(a):\n",
    "        s += (' ' if idx > 0 else '') + '{:0.3f}'.format(el)\n",
    "    return s\n",
    "\n",
    "\n",
    "def one_hot_encoder(a):\n",
    "    n_values = np.max(a) + 1\n",
    "    return np.eye(n_values)[a]\n",
    "\n",
    "\n",
    "def load_create_data(\n",
    "        data_type,\n",
    "        data_out,\n",
    "        is_logging_enabled=True,\n",
    "        fn_csv=None,\n",
    "        label_nm=None):\n",
    "\n",
    "    df_train, df_test, dset = None, None, None\n",
    "    features = None\n",
    "    if data_type in data_loader_mlab.get_available_datasets() + ['show'] \\\n",
    "       or fn_csv is not None:\n",
    "        if fn_csv is not None:\n",
    "            rval, dset = data_loader_mlab.load_dataset_from_csv(\n",
    "                logger, fn_csv, label_nm)\n",
    "        else:\n",
    "            rval, dset = data_loader_mlab.get_dataset(data_type)\n",
    "        assert rval == 0\n",
    "        data_loader_mlab.dataset_log_properties(logger, dset)\n",
    "        if is_logging_enabled:\n",
    "            logger.info('warning no seed')\n",
    "        df = dset['df']\n",
    "        features = dset['features']\n",
    "        labels = dset['targets']\n",
    "        nsample = len(df)\n",
    "        train_ratio = 0.8\n",
    "        idx = np.random.permutation(nsample)\n",
    "        ntrain = int(nsample * train_ratio)\n",
    "        df_train = df.iloc[idx[:ntrain]]\n",
    "        df_test = df.iloc[idx[ntrain:]]\n",
    "\n",
    "        col_drop = utilmlab.col_with_nan(df)\n",
    "        if is_logging_enabled and len(col_drop):\n",
    "            print('warning: dropping features {}'\n",
    "                  ', contains nan'.format(col_drop))\n",
    "            time.sleep(2)\n",
    "\n",
    "        features = [el for el in features if el not in col_drop]\n",
    "\n",
    "        x_train = df_train[features].values\n",
    "        y_train = df_train[labels].values\n",
    "        x_test = df_test[features].values\n",
    "        y_test = df_test[labels].values\n",
    "\n",
    "        g_train, g_test = None, None\n",
    "\n",
    "        y_train = one_hot_encoder(np.ravel(y_train))\n",
    "        y_test = one_hot_encoder(np.ravel(y_test))\n",
    "        if is_logging_enabled:\n",
    "            logger.info('y: train:{} test:{}'.format(\n",
    "                set(np.ravel(y_train)), set(np.ravel(y_test))))\n",
    "    else:\n",
    "        x_train, y_train, g_train = generate_data(\n",
    "            n=train_N, data_type=data_type, seed=train_seed, out=data_out, x_dim = X_DIM)\n",
    "        x_test,  y_test,  g_test = generate_data(\n",
    "            n=test_N,  data_type=data_type, seed=test_seed,  out=data_out, x_dim = X_DIM)\n",
    "    if is_logging_enabled:\n",
    "        logger.info('{} {} {} {}'.format(\n",
    "            x_train.shape,\n",
    "            y_train.shape,\n",
    "            x_test.shape,\n",
    "            y_test.shape))\n",
    "    return x_train, y_train, g_train, x_test, y_test, \\\n",
    "        g_test, df_train, df_test, dset, features\n",
    "\n",
    "\n"
   ]
  },
  {
   "cell_type": "code",
   "execution_count": 3,
   "metadata": {},
   "outputs": [],
   "source": [
    "from IPython import embed\n",
    "import torch\n",
    "import torch.nn as nn\n",
    "import torch.nn.functional as F\n",
    "device = torch.device(\"cuda\" if torch.cuda.is_available() else \"cpu\")\n",
    "torch.cuda.set_device(2)\n",
    "\n",
    "# Generator (Actor) in PyTorch\n",
    "class Actor(nn.Module):\n",
    "    def __init__(self, state_dim, action_dim):\n",
    "        super(Actor, self).__init__()\n",
    "\n",
    "        self.l1 = nn.Linear(state_dim, 100)\n",
    "        self.l2 = nn.Linear(100, 100)\n",
    "        self.l3 = nn.Linear(100, action_dim)\n",
    "\n",
    "\n",
    "    def forward(self, state):\n",
    "        a = F.selu(self.l1(state))\n",
    "        a = F.selu(self.l2(a))\n",
    "        return torch.sigmoid(self.l3(a))\n",
    "        \n",
    "# Discriminator (Critic) in PyTorch    \n",
    "# Critic in INVASE is a classifier that provide return signal\n",
    "class Critic(nn.Module):\n",
    "    def __init__(self, state_dim, action_dim):\n",
    "        super(Critic, self).__init__()\n",
    "\n",
    "        # Q1 architecture\n",
    "        self.l1 = nn.Linear(state_dim, 200)\n",
    "        self.bn1 = nn.BatchNorm1d(num_features=200)\n",
    "        self.l2 = nn.Linear(200, 200)\n",
    "        self.bn2 = nn.BatchNorm1d(num_features=200)\n",
    "        self.l3 = nn.Linear(200, 2)\n",
    "\n",
    "\n",
    "    def forward(self, state, action):\n",
    "        #sa = torch.cat([state, action], 1)\n",
    "        sa = state * action\n",
    "\n",
    "        q1 = F.selu(self.bn1(self.l1(sa)))\n",
    "        q1 = F.selu(self.bn2(self.l2(q1)))\n",
    "        q1 = self.l3(q1)\n",
    "\n",
    "        return q1 # prob, actually the binary classification result with softmax activation (logits)\n",
    "    \n",
    "# Valuefunction (Baseline) in PyTorch   \n",
    "# Valuefunction in INVASE is a classifier that provide return signal\n",
    "class Baseline(nn.Module):\n",
    "    def __init__(self, state_dim, action_dim):\n",
    "        super(Baseline, self).__init__()\n",
    "\n",
    "        # Q1 architecture\n",
    "        self.l1 = nn.Linear(state_dim, 200)\n",
    "        self.bn1 = nn.BatchNorm1d(num_features=200)\n",
    "        self.l2 = nn.Linear(200, 200)\n",
    "        self.bn2 = nn.BatchNorm1d(num_features=200)\n",
    "        self.l3 = nn.Linear(200, 2)\n",
    "\n",
    "\n",
    "    def forward(self, state):\n",
    "        #sa = torch.cat([state, action], 1)\n",
    "        sa = state\n",
    "\n",
    "        q1 = F.selu(self.bn1(self.l1(sa)))\n",
    "        q1 = F.selu(self.bn2(self.l2(q1)))\n",
    "        q1 = self.l3(q1)\n",
    "\n",
    "        return q1 # prob, actually the binary classification result with softmax activation (logits)    \n",
    "\n",
    "    \n",
    "    \n",
    "class PVS():\n",
    "    # 1. Initialization\n",
    "    '''\n",
    "    x_train: training samples\n",
    "    data_type: Syn1 to Syn 6\n",
    "    '''\n",
    "    def __init__(self, x_train, data_type, nepoch, is_logging_enabled=True, thres = 0.5):\n",
    "        self.is_logging_enabled = is_logging_enabled\n",
    "        self.latent_dim1 = 100      # Dimension of actor (generator) network\n",
    "        self.latent_dim2 = 200      # Dimension of critic (discriminator) network\n",
    "        \n",
    "        self.batch_size = min(1000, x_train.shape[0])      # Batch size\n",
    "        self.epochs = nepoch        # Epoch size (large epoch is needed due to the policy gradient framework)\n",
    "        self.lamda = 99999.           # Hyper-parameter for the number of selected features \n",
    "        self.thres = thres\n",
    "        '''lamda is number of selected features? is it the coefficient?'''\n",
    "        \n",
    "        \n",
    "        self.input_shape = x_train.shape[1]     # Input dimension\n",
    "        logger.info('input shape: {}'.format(self.input_shape))\n",
    "        \n",
    "        # Actionvation. (For Syn1 and 2, relu, others, selu)\n",
    "        self.activation = 'relu' if data_type in ['Syn1','Syn2'] else 'selu'       \n",
    "        \n",
    "        \n",
    "        self.generator = Actor(state_dim=self.input_shape, action_dim = self.input_shape).to(device)\n",
    "        self.discriminator = Critic(state_dim=self.input_shape, action_dim = self.input_shape).to(device)\n",
    "        self.valfunction = Baseline(state_dim=self.input_shape, action_dim = self.input_shape).to(device)\n",
    "        \n",
    "        \n",
    "        self.generator_optimizer = torch.optim.Adam(self.generator.parameters(), lr=1e-4)#,weight_decay=1e-3)\n",
    "        self.discriminator_optimizer = torch.optim.Adam(self.discriminator.parameters(), lr=1e-4)#,weight_decay=1e-3)\n",
    "        self.valfunction_optimizer = torch.optim.Adam(self.valfunction.parameters(), lr=1e-4)#,weight_decay=1e-3)\n",
    "        \n",
    "    def my_loss(self, y_true, y_pred,lmd,thr):\n",
    "        \n",
    "        \n",
    "        # dimension of the features\n",
    "        d = y_pred.shape[1]        \n",
    "        \n",
    "        # Put all three in y_true \n",
    "        # 1. selected probability\n",
    "        sel_prob = y_true[:,:d] # bs x d\n",
    "        # 2. discriminator output\n",
    "        dis_prob = y_true[:,d:(d+2)] # bs x 2\n",
    "        # 3. valfunction output\n",
    "        val_prob = y_true[:,(d+2):(d+4)] # bs x 2\n",
    "        # 4. ground truth\n",
    "        y_final = y_true[:,(d+4):] # bs x 2\n",
    "        \n",
    "        # A1. Compute the rewards of the actor network\n",
    "        Reward1 = torch.sum( y_final * torch.log(dis_prob + 1e-8), axis = 1)  \n",
    "        #reduce_sum(\n",
    "        \n",
    "        # A2. Compute the rewards of the actor network\n",
    "        Reward2 = torch.sum( y_final * torch.log(val_prob + 1e-8), axis = 1)  \n",
    "\n",
    "        # Difference is the rewards\n",
    "        Reward = Reward1 - Reward2\n",
    "\n",
    "        # B. Policy gradient loss computation. \n",
    "        #embed()\n",
    "        loss1 = Reward * torch.sum( sel_prob * torch.log(y_pred + 1e-8) + (1-sel_prob) * torch.log(1-y_pred + 1e-8), axis = 1) - lmd *torch.mean( torch.abs(y_pred-thr), axis = 1)\n",
    "        \n",
    "        # C. Maximize the loss1\n",
    "        loss = torch.mean(-loss1)\n",
    "        #embed()\n",
    "        return loss\n",
    "    \n",
    "\n",
    "    def Sample_M(self, gen_prob):\n",
    "        # Shape of the selection probability\n",
    "        n = gen_prob.shape[0]\n",
    "        d = gen_prob.shape[1]\n",
    "        # Sampling\n",
    "        samples = np.random.binomial(1, gen_prob, (n,d))\n",
    "\n",
    "        return samples\n",
    "\n",
    "    #%% Training procedure\n",
    "    def train(self, x_train, y_train, lmd,thr):\n",
    "\n",
    "        # For each epoch (actually iterations)\n",
    "        for epoch in range(self.epochs):\n",
    "\n",
    "            #%% Train Discriminator\n",
    "            # Select a random batch of samples\n",
    "            idx = np.random.randint(0, x_train.shape[0], self.batch_size)\n",
    "            x_batch = torch.as_tensor(x_train[idx,:]).float().to(device)\n",
    "            y_batch = torch.as_tensor(np.argmax(y_train[idx,:],1)).long().to(device)\n",
    "            \n",
    "            # Generate a batch of probabilities of feature selection\n",
    "            gen_prob = self.generator(x_batch).cpu().detach().numpy()\n",
    "            #print(gen_prob)\n",
    "            # Sampling the features based on the generated probability\n",
    "            sel_prob = self.Sample_M(gen_prob)\n",
    "            '''sel_prob is the mask'''\n",
    "            \n",
    "            # Compute the prediction of the critic based on the sampled features (used for generator training)\n",
    "            dis_prob = self.discriminator(x_batch, torch.as_tensor(sel_prob).float().to(device))\n",
    "            \n",
    "            # Train the discriminator\n",
    "            #d_loss = self.discriminator.train_on_batch([x_batch, sel_prob], y_batch)\n",
    "            loss_func_c = nn.CrossEntropyLoss()\n",
    "            self.discriminator_optimizer.zero_grad()\n",
    "            critic_loss = loss_func_c(dis_prob, y_batch)\n",
    "            critic_loss.backward()\n",
    "            self.discriminator_optimizer.step()\n",
    "\n",
    "            #%% Train Valud function\n",
    "\n",
    "            # Compute the prediction of the baseline based on the sampled features (used for generator training)\n",
    "            val_prob = self.valfunction(x_batch)#.cpu().detach().numpy()\n",
    "            \n",
    "            # Train the baseline model\n",
    "            #v_loss = self.valfunction.train_on_batch(x_batch, y_batch)\n",
    "            loss_func_v = nn.CrossEntropyLoss()\n",
    "            self.valfunction_optimizer.zero_grad()\n",
    "            value_loss = loss_func_v(val_prob, y_batch)\n",
    "            value_loss.backward()\n",
    "            self.valfunction_optimizer.step()\n",
    "            \n",
    "            \n",
    "            #%% Train Generator\n",
    "            # Use three things as the y_true: sel_prob, dis_prob, and ground truth (y_batch)\n",
    "            '''\n",
    "            sel_prob: the mask generated by bernulli sampler [bs, d]\n",
    "            dis_prob: prediction of the critic               [bs, 2]\n",
    "            val_prob: prediction of the baseline model       [bs, 2]\n",
    "            y_batch: batch of y_train                        [bs, 2]\n",
    "            all of those variables are 'placeholders'\n",
    "            '''\n",
    "            \n",
    "            y_batch_final = torch.as_tensor(np.concatenate( (sel_prob, np.asarray(torch.softmax(torch.as_tensor(dis_prob),-1).cpu().detach().numpy()), np.asarray(torch.softmax(torch.as_tensor(val_prob),-1).cpu().detach().numpy()), y_train[idx,:]), axis = 1 )).to(device)\n",
    "            # Train the generator\n",
    "            \n",
    "            actor_pred = self.generator(x_batch)\n",
    "            self.generator_optimizer.zero_grad()\n",
    "            actor_loss = self.my_loss(y_batch_final,actor_pred,lmd,thr)\n",
    "            actor_loss.backward()\n",
    "            self.generator_optimizer.step()\n",
    "            \n",
    "            #%% Plot the progress\n",
    "            dialog = 'Epoch: ' + '{:6d}'.format(epoch) + ', d_loss (Acc)): '\n",
    "            dialog += '{:0.3f}'.format(critic_loss) + ', v_loss (Acc): '\n",
    "            dialog += '{:0.3f}'.format(value_loss) + ', g_loss: ' + '{:+6.4f}'.format(actor_loss)\n",
    "\n",
    "            if epoch % 100 == 0:\n",
    "                logger.info('{}'.format(dialog))\n",
    "    \n",
    "    #%% Selected Features        \n",
    "    def output(self, x_train):\n",
    "        \n",
    "        gen_prob = self.generator(x_train).cpu().detach().numpy()\n",
    "        \n",
    "        return np.asarray(gen_prob)\n",
    "     \n",
    "    #%% Prediction Results \n",
    "    def get_prediction(self, x_train, m_train):\n",
    "        \n",
    "        val_prediction = self.valfunction(x_train).cpu().detach().numpy()\n",
    "        \n",
    "        dis_prediction = self.discriminator(x_train, m_train).cpu().detach().numpy()\n",
    "        \n",
    "        return np.asarray(val_prediction), np.asarray(dis_prediction)"
   ]
  },
  {
   "cell_type": "code",
   "execution_count": 5,
   "metadata": {
    "scrolled": true
   },
   "outputs": [
    {
     "name": "stderr",
     "output_type": "stream",
     "text": [
      "invase: Syn4 10000 . Y\n",
      "(10000, 100) (10000, 2) (10000, 100) (10000, 2)\n",
      "input shape: 100\n",
      "Epoch:      0, d_loss (Acc)): 0.762, v_loss (Acc): 0.765, g_loss: +0.7014\n"
     ]
    },
    {
     "name": "stdout",
     "output_type": "stream",
     "text": [
      "now at training epoch number 0 hyp-params: lamda 1.0000 prior 0.0000\n",
      "rec time now 0 dataset now: Syn4\n"
     ]
    },
    {
     "name": "stderr",
     "output_type": "stream",
     "text": [
      "TPR mean: 38.7%  std: 23.4%\n",
      "FDR mean: 96.4%  std: 2.3%\n"
     ]
    },
    {
     "name": "stdout",
     "output_type": "stream",
     "text": [
      "[[0.50776901 0.51515415]\n",
      " [0.53512117 0.53508962]\n",
      " [0.5135     0.522     ]]\n",
      "rec time now 1 dataset now: Syn4\n"
     ]
    },
    {
     "name": "stderr",
     "output_type": "stream",
     "text": [
      "TPR mean: 26.2%  std: 20.3%\n",
      "FDR mean: 96.5%  std: 2.9%\n"
     ]
    },
    {
     "name": "stdout",
     "output_type": "stream",
     "text": [
      "[[0.50776901 0.50291837]\n",
      " [0.53512117 0.52622458]\n",
      " [0.5135     0.5166    ]]\n",
      "rec time now 2 dataset now: Syn4\n"
     ]
    },
    {
     "name": "stderr",
     "output_type": "stream",
     "text": [
      "TPR mean: 21.8%  std: 18.9%\n",
      "FDR mean: 96.4%  std: 3.3%\n"
     ]
    },
    {
     "name": "stdout",
     "output_type": "stream",
     "text": [
      "[[0.50776901 0.49901706]\n",
      " [0.53512117 0.52317978]\n",
      " [0.5135     0.5119    ]]\n",
      "rec time now 3 dataset now: Syn4\n"
     ]
    },
    {
     "name": "stderr",
     "output_type": "stream",
     "text": [
      "TPR mean: 19.9%  std: 18.3%\n",
      "FDR mean: 96.4%  std: 3.6%\n",
      "Epoch:      0, d_loss (Acc)): 0.686, v_loss (Acc): 0.689, g_loss: +0.6979\n"
     ]
    },
    {
     "name": "stdout",
     "output_type": "stream",
     "text": [
      "[[0.50776901 0.49865277]\n",
      " [0.53512117 0.52274391]\n",
      " [0.5135     0.508     ]]\n",
      "now at training epoch number 100 hyp-params: lamda 1.0000 prior 0.0000\n",
      "rec time now 0 dataset now: Syn4\n"
     ]
    },
    {
     "name": "stderr",
     "output_type": "stream",
     "text": [
      "TPR mean: 30.7%  std: 22.3%\n",
      "FDR mean: 96.5%  std: 2.7%\n"
     ]
    },
    {
     "name": "stdout",
     "output_type": "stream",
     "text": [
      "[[0.51594514 0.52221424]\n",
      " [0.53693624 0.54292012]\n",
      " [0.5176     0.5223    ]]\n",
      "rec time now 1 dataset now: Syn4\n"
     ]
    },
    {
     "name": "stderr",
     "output_type": "stream",
     "text": [
      "TPR mean: 17.4%  std: 17.9%\n",
      "FDR mean: 96.6%  std: 3.8%\n"
     ]
    },
    {
     "name": "stdout",
     "output_type": "stream",
     "text": [
      "[[0.51594514 0.51012371]\n",
      " [0.53693624 0.53317978]\n",
      " [0.5176     0.5128    ]]\n",
      "rec time now 2 dataset now: Syn4\n"
     ]
    },
    {
     "name": "stderr",
     "output_type": "stream",
     "text": [
      "TPR mean: 12.6%  std: 15.9%\n",
      "FDR mean: 96.7%  std: 4.5%\n"
     ]
    },
    {
     "name": "stdout",
     "output_type": "stream",
     "text": [
      "[[0.51594514 0.51300204]\n",
      " [0.53693624 0.53206644]\n",
      " [0.5176     0.5174    ]]\n",
      "rec time now 3 dataset now: Syn4\n"
     ]
    },
    {
     "name": "stderr",
     "output_type": "stream",
     "text": [
      "TPR mean: 10.4%  std: 14.7%\n",
      "FDR mean: 96.7%  std: 5.1%\n",
      "Epoch:      0, d_loss (Acc)): 0.691, v_loss (Acc): 0.666, g_loss: -1.2252\n"
     ]
    },
    {
     "name": "stdout",
     "output_type": "stream",
     "text": [
      "[[0.51594514 0.51028125]\n",
      " [0.53693624 0.53083995]\n",
      " [0.5176     0.5215    ]]\n",
      "now at training epoch number 200 hyp-params: lamda 1.0000 prior 0.0000\n",
      "rec time now 0 dataset now: Syn4\n"
     ]
    },
    {
     "name": "stderr",
     "output_type": "stream",
     "text": [
      "TPR mean: 21.3%  std: 20.3%\n",
      "FDR mean: 96.7%  std: 3.4%\n"
     ]
    },
    {
     "name": "stdout",
     "output_type": "stream",
     "text": [
      "[[0.52711566 0.51455719]\n",
      " [0.54613497 0.53314398]\n",
      " [0.5252     0.5221    ]]\n",
      "rec time now 1 dataset now: Syn4\n"
     ]
    },
    {
     "name": "stderr",
     "output_type": "stream",
     "text": [
      "TPR mean: 7.6%  std: 13.2%\n",
      "FDR mean: 97.1%  std: 5.8%\n"
     ]
    },
    {
     "name": "stdout",
     "output_type": "stream",
     "text": [
      "[[0.52711566 0.51574923]\n",
      " [0.54613497 0.53990791]\n",
      " [0.5252     0.5228    ]]\n",
      "rec time now 2 dataset now: Syn4\n"
     ]
    },
    {
     "name": "stderr",
     "output_type": "stream",
     "text": [
      "TPR mean: 3.1%  std: 8.8%\n",
      "FDR mean: 96.8%  std: 13.0%\n"
     ]
    },
    {
     "name": "stdout",
     "output_type": "stream",
     "text": [
      "[[0.52711566 0.50467915]\n",
      " [0.54613497 0.52359159]\n",
      " [0.5252     0.5229    ]]\n",
      "rec time now 3 dataset now: Syn4\n"
     ]
    },
    {
     "name": "stderr",
     "output_type": "stream",
     "text": [
      "TPR mean: 1.6%  std: 6.6%\n",
      "FDR mean: 94.2%  std: 21.6%\n",
      "Epoch:      0, d_loss (Acc)): 0.682, v_loss (Acc): 0.654, g_loss: -1.4111\n"
     ]
    },
    {
     "name": "stdout",
     "output_type": "stream",
     "text": [
      "[[0.52711566 0.51278496]\n",
      " [0.54613497 0.53447244]\n",
      " [0.5252     0.52      ]]\n",
      "now at training epoch number 300 hyp-params: lamda 1.0000 prior 0.0000\n",
      "rec time now 0 dataset now: Syn4\n"
     ]
    },
    {
     "name": "stderr",
     "output_type": "stream",
     "text": [
      "TPR mean: 10.3%  std: 15.7%\n",
      "FDR mean: 97.1%  std: 4.9%\n"
     ]
    },
    {
     "name": "stdout",
     "output_type": "stream",
     "text": [
      "[[0.52260469 0.5122614 ]\n",
      " [0.5429158  0.53313369]\n",
      " [0.5207     0.5184    ]]\n",
      "rec time now 1 dataset now: Syn4\n"
     ]
    },
    {
     "name": "stderr",
     "output_type": "stream",
     "text": [
      "TPR mean: 0.9%  std: 4.8%\n",
      "FDR mean: 81.7%  std: 38.0%\n"
     ]
    },
    {
     "name": "stdout",
     "output_type": "stream",
     "text": [
      "[[0.52260469 0.52450863]\n",
      " [0.5429158  0.53931206]\n",
      " [0.5207     0.529     ]]\n",
      "rec time now 2 dataset now: Syn4\n"
     ]
    },
    {
     "name": "stderr",
     "output_type": "stream",
     "text": [
      "TPR mean: 0.1%  std: 1.7%\n",
      "FDR mean: 53.1%  std: 49.8%\n"
     ]
    },
    {
     "name": "stdout",
     "output_type": "stream",
     "text": [
      "[[0.52260469 0.49804174]\n",
      " [0.5429158  0.52585336]\n",
      " [0.5207     0.5261    ]]\n",
      "rec time now 3 dataset now: Syn4\n"
     ]
    },
    {
     "name": "stderr",
     "output_type": "stream",
     "text": [
      "TPR mean: 0.0%  std: 0.8%\n",
      "FDR mean: 48.0%  std: 49.9%\n",
      "Epoch:      0, d_loss (Acc)): 0.685, v_loss (Acc): 0.648, g_loss: -2.0591\n"
     ]
    },
    {
     "name": "stdout",
     "output_type": "stream",
     "text": [
      "[[0.52260469 0.49684763]\n",
      " [0.5429158  0.52558578]\n",
      " [0.5207     0.5221    ]]\n",
      "now at training epoch number 400 hyp-params: lamda 1.0000 prior 0.0000\n",
      "rec time now 0 dataset now: Syn4\n"
     ]
    },
    {
     "name": "stderr",
     "output_type": "stream",
     "text": [
      "TPR mean: 2.6%  std: 8.5%\n",
      "FDR mean: 88.3%  std: 30.4%\n"
     ]
    },
    {
     "name": "stdout",
     "output_type": "stream",
     "text": [
      "[[0.5335518  0.51018251]\n",
      " [0.55307201 0.52640451]\n",
      " [0.528      0.5263    ]]\n",
      "rec time now 1 dataset now: Syn4\n"
     ]
    },
    {
     "name": "stderr",
     "output_type": "stream",
     "text": [
      "TPR mean: 0.0%  std: 1.1%\n",
      "FDR mean: 6.0%  std: 23.8%\n"
     ]
    },
    {
     "name": "stdout",
     "output_type": "stream",
     "text": [
      "[[0.5335518  0.50021895]\n",
      " [0.55307201 0.52483128]\n",
      " [0.528      0.5233    ]]\n",
      "rec time now 2 dataset now: Syn4\n"
     ]
    },
    {
     "name": "stderr",
     "output_type": "stream",
     "text": [
      "TPR mean: 0.0%  std: 0.2%\n",
      "FDR mean: 0.1%  std: 3.4%\n"
     ]
    },
    {
     "name": "stdout",
     "output_type": "stream",
     "text": [
      "[[0.5335518  0.50024936]\n",
      " [0.55307201 0.52467702]\n",
      " [0.528      0.5247    ]]\n",
      "rec time now 3 dataset now: Syn4\n"
     ]
    },
    {
     "name": "stderr",
     "output_type": "stream",
     "text": [
      "TPR mean: 0.0%  std: 0.0%\n",
      "FDR mean: 0.0%  std: 1.0%\n",
      "Epoch:      0, d_loss (Acc)): 0.693, v_loss (Acc): 0.640, g_loss: -3.0120\n"
     ]
    },
    {
     "name": "stdout",
     "output_type": "stream",
     "text": [
      "[[0.5335518  0.49990467]\n",
      " [0.55307201 0.52445245]\n",
      " [0.528      0.5244    ]]\n",
      "now at training epoch number 500 hyp-params: lamda 1.0000 prior 0.0000\n",
      "rec time now 0 dataset now: Syn4\n"
     ]
    },
    {
     "name": "stderr",
     "output_type": "stream",
     "text": [
      "TPR mean: 0.3%  std: 2.9%\n",
      "FDR mean: 22.1%  std: 41.3%\n"
     ]
    },
    {
     "name": "stdout",
     "output_type": "stream",
     "text": [
      "[[0.53163275 0.50339237]\n",
      " [0.54961234 0.52665545]\n",
      " [0.5268     0.5262    ]]\n",
      "rec time now 1 dataset now: Syn4\n"
     ]
    },
    {
     "name": "stderr",
     "output_type": "stream",
     "text": [
      "TPR mean: 0.0%  std: 0.0%\n",
      "FDR mean: 0.0%  std: 1.4%\n"
     ]
    },
    {
     "name": "stdout",
     "output_type": "stream",
     "text": [
      "[[0.53163275 0.50000984]\n",
      " [0.54961234 0.52450491]\n",
      " [0.5268     0.5245    ]]\n",
      "rec time now 2 dataset now: Syn4\n"
     ]
    },
    {
     "name": "stderr",
     "output_type": "stream",
     "text": [
      "TPR mean: 0.0%  std: 0.0%\n",
      "FDR mean: 0.0%  std: 0.0%\n"
     ]
    },
    {
     "name": "stdout",
     "output_type": "stream",
     "text": [
      "[[0.53163275 0.5       ]\n",
      " [0.54961234 0.5245    ]\n",
      " [0.5268     0.5245    ]]\n",
      "rec time now 3 dataset now: Syn4\n"
     ]
    },
    {
     "name": "stderr",
     "output_type": "stream",
     "text": [
      "TPR mean: 0.0%  std: 0.0%\n",
      "FDR mean: 0.0%  std: 0.0%\n",
      "Epoch:      0, d_loss (Acc)): 0.692, v_loss (Acc): 0.626, g_loss: -3.5577\n"
     ]
    },
    {
     "name": "stdout",
     "output_type": "stream",
     "text": [
      "[[0.53163275 0.5       ]\n",
      " [0.54961234 0.5245    ]\n",
      " [0.5268     0.5245    ]]\n",
      "now at training epoch number 600 hyp-params: lamda 1.0000 prior 0.0000\n",
      "rec time now 0 dataset now: Syn4\n"
     ]
    },
    {
     "name": "stderr",
     "output_type": "stream",
     "text": [
      "TPR mean: 0.0%  std: 0.5%\n",
      "FDR mean: 0.6%  std: 7.4%\n"
     ]
    },
    {
     "name": "stdout",
     "output_type": "stream",
     "text": [
      "[[0.53994862 0.50067203]\n",
      " [0.55646528 0.52496205]\n",
      " [0.5322     0.5254    ]]\n",
      "rec time now 1 dataset now: Syn4\n"
     ]
    },
    {
     "name": "stderr",
     "output_type": "stream",
     "text": [
      "TPR mean: 0.0%  std: 0.0%\n",
      "FDR mean: 0.0%  std: 0.0%\n"
     ]
    },
    {
     "name": "stdout",
     "output_type": "stream",
     "text": [
      "[[0.53994862 0.5       ]\n",
      " [0.55646528 0.5245    ]\n",
      " [0.5322     0.5245    ]]\n",
      "rec time now 2 dataset now: Syn4\n"
     ]
    },
    {
     "name": "stderr",
     "output_type": "stream",
     "text": [
      "TPR mean: 0.0%  std: 0.0%\n",
      "FDR mean: 0.0%  std: 0.0%\n"
     ]
    },
    {
     "name": "stdout",
     "output_type": "stream",
     "text": [
      "[[0.53994862 0.5       ]\n",
      " [0.55646528 0.5245    ]\n",
      " [0.5322     0.5245    ]]\n",
      "rec time now 3 dataset now: Syn4\n"
     ]
    },
    {
     "name": "stderr",
     "output_type": "stream",
     "text": [
      "TPR mean: 0.0%  std: 0.0%\n",
      "FDR mean: 0.0%  std: 0.0%\n",
      "Epoch:      0, d_loss (Acc)): 0.684, v_loss (Acc): 0.597, g_loss: -3.9673\n"
     ]
    },
    {
     "name": "stdout",
     "output_type": "stream",
     "text": [
      "[[0.53994862 0.5       ]\n",
      " [0.55646528 0.5245    ]\n",
      " [0.5322     0.5245    ]]\n",
      "now at training epoch number 700 hyp-params: lamda 1.0000 prior 0.0000\n",
      "rec time now 0 dataset now: Syn4\n"
     ]
    },
    {
     "name": "stderr",
     "output_type": "stream",
     "text": [
      "TPR mean: 0.0%  std: 0.0%\n",
      "FDR mean: 0.0%  std: 0.0%\n"
     ]
    },
    {
     "name": "stdout",
     "output_type": "stream",
     "text": [
      "[[0.54153434 0.5       ]\n",
      " [0.55848325 0.5245    ]\n",
      " [0.5293     0.5245    ]]\n",
      "rec time now 1 dataset now: Syn4\n"
     ]
    },
    {
     "name": "stderr",
     "output_type": "stream",
     "text": [
      "TPR mean: 0.0%  std: 0.0%\n",
      "FDR mean: 0.0%  std: 0.0%\n"
     ]
    },
    {
     "name": "stdout",
     "output_type": "stream",
     "text": [
      "[[0.54153434 0.5       ]\n",
      " [0.55848325 0.5245    ]\n",
      " [0.5293     0.5245    ]]\n",
      "rec time now 2 dataset now: Syn4\n"
     ]
    },
    {
     "name": "stderr",
     "output_type": "stream",
     "text": [
      "TPR mean: 0.0%  std: 0.0%\n",
      "FDR mean: 0.0%  std: 0.0%\n"
     ]
    },
    {
     "name": "stdout",
     "output_type": "stream",
     "text": [
      "[[0.54153434 0.5       ]\n",
      " [0.55848325 0.5245    ]\n",
      " [0.5293     0.5245    ]]\n",
      "rec time now 3 dataset now: Syn4\n"
     ]
    },
    {
     "name": "stderr",
     "output_type": "stream",
     "text": [
      "TPR mean: 0.0%  std: 0.0%\n",
      "FDR mean: 0.0%  std: 0.0%\n",
      "Epoch:      0, d_loss (Acc)): 0.683, v_loss (Acc): 0.573, g_loss: -3.8994\n"
     ]
    },
    {
     "name": "stdout",
     "output_type": "stream",
     "text": [
      "[[0.54153434 0.5       ]\n",
      " [0.55848325 0.5245    ]\n",
      " [0.5293     0.5245    ]]\n",
      "now at training epoch number 800 hyp-params: lamda 1.0000 prior 0.0000\n",
      "rec time now 0 dataset now: Syn4\n"
     ]
    },
    {
     "name": "stderr",
     "output_type": "stream",
     "text": [
      "TPR mean: 0.0%  std: 0.0%\n",
      "FDR mean: 0.0%  std: 0.0%\n"
     ]
    },
    {
     "name": "stdout",
     "output_type": "stream",
     "text": [
      "[[0.54077721 0.5       ]\n",
      " [0.5587965  0.5245    ]\n",
      " [0.5313     0.5245    ]]\n",
      "rec time now 1 dataset now: Syn4\n"
     ]
    },
    {
     "name": "stderr",
     "output_type": "stream",
     "text": [
      "TPR mean: 0.0%  std: 0.0%\n",
      "FDR mean: 0.0%  std: 0.0%\n"
     ]
    },
    {
     "name": "stdout",
     "output_type": "stream",
     "text": [
      "[[0.54077721 0.5       ]\n",
      " [0.5587965  0.5245    ]\n",
      " [0.5313     0.5245    ]]\n",
      "rec time now 2 dataset now: Syn4\n"
     ]
    },
    {
     "name": "stderr",
     "output_type": "stream",
     "text": [
      "TPR mean: 0.0%  std: 0.0%\n",
      "FDR mean: 0.0%  std: 0.0%\n"
     ]
    },
    {
     "name": "stdout",
     "output_type": "stream",
     "text": [
      "[[0.54077721 0.5       ]\n",
      " [0.5587965  0.5245    ]\n",
      " [0.5313     0.5245    ]]\n",
      "rec time now 3 dataset now: Syn4\n"
     ]
    },
    {
     "name": "stderr",
     "output_type": "stream",
     "text": [
      "TPR mean: 0.0%  std: 0.0%\n",
      "FDR mean: 0.0%  std: 0.0%\n",
      "Epoch:      0, d_loss (Acc)): 0.688, v_loss (Acc): 0.535, g_loss: -4.1791\n"
     ]
    },
    {
     "name": "stdout",
     "output_type": "stream",
     "text": [
      "[[0.54077721 0.5       ]\n",
      " [0.5587965  0.5245    ]\n",
      " [0.5313     0.5245    ]]\n",
      "now at training epoch number 900 hyp-params: lamda 1.0000 prior 0.0000\n",
      "rec time now 0 dataset now: Syn4\n"
     ]
    },
    {
     "name": "stderr",
     "output_type": "stream",
     "text": [
      "TPR mean: 0.0%  std: 0.0%\n",
      "FDR mean: 0.0%  std: 0.0%\n"
     ]
    },
    {
     "name": "stdout",
     "output_type": "stream",
     "text": [
      "[[0.54727419 0.5       ]\n",
      " [0.56048256 0.5245    ]\n",
      " [0.5397     0.5245    ]]\n",
      "rec time now 1 dataset now: Syn4\n"
     ]
    },
    {
     "name": "stderr",
     "output_type": "stream",
     "text": [
      "TPR mean: 0.0%  std: 0.0%\n",
      "FDR mean: 0.0%  std: 0.0%\n"
     ]
    },
    {
     "name": "stdout",
     "output_type": "stream",
     "text": [
      "[[0.54727419 0.5       ]\n",
      " [0.56048256 0.5245    ]\n",
      " [0.5397     0.5245    ]]\n",
      "rec time now 2 dataset now: Syn4\n"
     ]
    },
    {
     "name": "stderr",
     "output_type": "stream",
     "text": [
      "TPR mean: 0.0%  std: 0.0%\n",
      "FDR mean: 0.0%  std: 0.0%\n"
     ]
    },
    {
     "name": "stdout",
     "output_type": "stream",
     "text": [
      "[[0.54727419 0.5       ]\n",
      " [0.56048256 0.5245    ]\n",
      " [0.5397     0.5245    ]]\n",
      "rec time now 3 dataset now: Syn4\n"
     ]
    },
    {
     "name": "stderr",
     "output_type": "stream",
     "text": [
      "TPR mean: 0.0%  std: 0.0%\n",
      "FDR mean: 0.0%  std: 0.0%\n",
      "Epoch:      0, d_loss (Acc)): 0.680, v_loss (Acc): 0.500, g_loss: -3.6715\n"
     ]
    },
    {
     "name": "stdout",
     "output_type": "stream",
     "text": [
      "[[0.54727419 0.5       ]\n",
      " [0.56048256 0.5245    ]\n",
      " [0.5397     0.5245    ]]\n",
      "now at training epoch number 1000 hyp-params: lamda 1.0000 prior 0.0000\n",
      "rec time now 0 dataset now: Syn4\n"
     ]
    },
    {
     "name": "stderr",
     "output_type": "stream",
     "text": [
      "TPR mean: 0.0%  std: 0.0%\n",
      "FDR mean: 0.0%  std: 0.0%\n"
     ]
    },
    {
     "name": "stdout",
     "output_type": "stream",
     "text": [
      "[[0.54510806 0.5       ]\n",
      " [0.55641361 0.5245    ]\n",
      " [0.5363     0.5245    ]]\n",
      "rec time now 1 dataset now: Syn4\n"
     ]
    },
    {
     "name": "stderr",
     "output_type": "stream",
     "text": [
      "TPR mean: 0.0%  std: 0.0%\n",
      "FDR mean: 0.0%  std: 0.0%\n"
     ]
    },
    {
     "name": "stdout",
     "output_type": "stream",
     "text": [
      "[[0.54510806 0.5       ]\n",
      " [0.55641361 0.5245    ]\n",
      " [0.5363     0.5245    ]]\n",
      "rec time now 2 dataset now: Syn4\n"
     ]
    },
    {
     "name": "stderr",
     "output_type": "stream",
     "text": [
      "TPR mean: 0.0%  std: 0.0%\n",
      "FDR mean: 0.0%  std: 0.0%\n"
     ]
    },
    {
     "name": "stdout",
     "output_type": "stream",
     "text": [
      "[[0.54510806 0.5       ]\n",
      " [0.55641361 0.5245    ]\n",
      " [0.5363     0.5245    ]]\n",
      "rec time now 3 dataset now: Syn4\n"
     ]
    },
    {
     "name": "stderr",
     "output_type": "stream",
     "text": [
      "TPR mean: 0.0%  std: 0.0%\n",
      "FDR mean: 0.0%  std: 0.0%\n",
      "Epoch:      0, d_loss (Acc)): 0.681, v_loss (Acc): 0.502, g_loss: -2.8344\n"
     ]
    },
    {
     "name": "stdout",
     "output_type": "stream",
     "text": [
      "[[0.54510806 0.5       ]\n",
      " [0.55641361 0.5245    ]\n",
      " [0.5363     0.5245    ]]\n",
      "now at training epoch number 1100 hyp-params: lamda 1.0000 prior 0.0000\n",
      "rec time now 0 dataset now: Syn4\n"
     ]
    },
    {
     "name": "stderr",
     "output_type": "stream",
     "text": [
      "TPR mean: 0.0%  std: 0.0%\n",
      "FDR mean: 0.0%  std: 0.0%\n"
     ]
    },
    {
     "name": "stdout",
     "output_type": "stream",
     "text": [
      "[[0.54863936 0.5       ]\n",
      " [0.56522399 0.5245    ]\n",
      " [0.5329     0.5245    ]]\n",
      "rec time now 1 dataset now: Syn4\n"
     ]
    },
    {
     "name": "stderr",
     "output_type": "stream",
     "text": [
      "TPR mean: 0.0%  std: 0.0%\n",
      "FDR mean: 0.0%  std: 0.0%\n"
     ]
    },
    {
     "name": "stdout",
     "output_type": "stream",
     "text": [
      "[[0.54863936 0.5       ]\n",
      " [0.56522399 0.5245    ]\n",
      " [0.5329     0.5245    ]]\n",
      "rec time now 2 dataset now: Syn4\n"
     ]
    },
    {
     "name": "stderr",
     "output_type": "stream",
     "text": [
      "TPR mean: 0.0%  std: 0.0%\n",
      "FDR mean: 0.0%  std: 0.0%\n"
     ]
    },
    {
     "name": "stdout",
     "output_type": "stream",
     "text": [
      "[[0.54863936 0.5       ]\n",
      " [0.56522399 0.5245    ]\n",
      " [0.5329     0.5245    ]]\n",
      "rec time now 3 dataset now: Syn4\n"
     ]
    },
    {
     "name": "stderr",
     "output_type": "stream",
     "text": [
      "TPR mean: 0.0%  std: 0.0%\n",
      "FDR mean: 0.0%  std: 0.0%\n",
      "Epoch:      0, d_loss (Acc)): 0.690, v_loss (Acc): 0.451, g_loss: -3.2187\n"
     ]
    },
    {
     "name": "stdout",
     "output_type": "stream",
     "text": [
      "[[0.54863936 0.5       ]\n",
      " [0.56522399 0.5245    ]\n",
      " [0.5329     0.5245    ]]\n",
      "now at training epoch number 1200 hyp-params: lamda 1.0000 prior 0.0000\n",
      "rec time now 0 dataset now: Syn4\n"
     ]
    },
    {
     "name": "stderr",
     "output_type": "stream",
     "text": [
      "TPR mean: 0.0%  std: 0.0%\n",
      "FDR mean: 0.0%  std: 0.0%\n"
     ]
    },
    {
     "name": "stdout",
     "output_type": "stream",
     "text": [
      "[[0.5526132 0.5      ]\n",
      " [0.5658175 0.5245   ]\n",
      " [0.5397    0.5245   ]]\n",
      "rec time now 1 dataset now: Syn4\n"
     ]
    },
    {
     "name": "stderr",
     "output_type": "stream",
     "text": [
      "TPR mean: 0.0%  std: 0.0%\n",
      "FDR mean: 0.0%  std: 0.0%\n"
     ]
    },
    {
     "name": "stdout",
     "output_type": "stream",
     "text": [
      "[[0.5526132 0.5      ]\n",
      " [0.5658175 0.5245   ]\n",
      " [0.5397    0.5245   ]]\n",
      "rec time now 2 dataset now: Syn4\n"
     ]
    },
    {
     "name": "stderr",
     "output_type": "stream",
     "text": [
      "TPR mean: 0.0%  std: 0.0%\n",
      "FDR mean: 0.0%  std: 0.0%\n"
     ]
    },
    {
     "name": "stdout",
     "output_type": "stream",
     "text": [
      "[[0.5526132 0.5      ]\n",
      " [0.5658175 0.5245   ]\n",
      " [0.5397    0.5245   ]]\n",
      "rec time now 3 dataset now: Syn4\n"
     ]
    },
    {
     "name": "stderr",
     "output_type": "stream",
     "text": [
      "TPR mean: 0.0%  std: 0.0%\n",
      "FDR mean: 0.0%  std: 0.0%\n",
      "Epoch:      0, d_loss (Acc)): 0.700, v_loss (Acc): 0.428, g_loss: -2.9860\n"
     ]
    },
    {
     "name": "stdout",
     "output_type": "stream",
     "text": [
      "[[0.5526132 0.5      ]\n",
      " [0.5658175 0.5245   ]\n",
      " [0.5397    0.5245   ]]\n",
      "now at training epoch number 1300 hyp-params: lamda 1.0000 prior 0.0000\n",
      "rec time now 0 dataset now: Syn4\n"
     ]
    },
    {
     "name": "stderr",
     "output_type": "stream",
     "text": [
      "TPR mean: 0.0%  std: 0.0%\n",
      "FDR mean: 0.0%  std: 0.0%\n"
     ]
    },
    {
     "name": "stdout",
     "output_type": "stream",
     "text": [
      "[[0.55291465 0.5       ]\n",
      " [0.56503215 0.5245    ]\n",
      " [0.5411     0.5245    ]]\n",
      "rec time now 1 dataset now: Syn4\n"
     ]
    },
    {
     "name": "stderr",
     "output_type": "stream",
     "text": [
      "TPR mean: 0.0%  std: 0.0%\n",
      "FDR mean: 0.0%  std: 0.0%\n"
     ]
    },
    {
     "name": "stdout",
     "output_type": "stream",
     "text": [
      "[[0.55291465 0.5       ]\n",
      " [0.56503215 0.5245    ]\n",
      " [0.5411     0.5245    ]]\n",
      "rec time now 2 dataset now: Syn4\n"
     ]
    },
    {
     "name": "stderr",
     "output_type": "stream",
     "text": [
      "TPR mean: 0.0%  std: 0.0%\n",
      "FDR mean: 0.0%  std: 0.0%\n"
     ]
    },
    {
     "name": "stdout",
     "output_type": "stream",
     "text": [
      "[[0.55291465 0.5       ]\n",
      " [0.56503215 0.5245    ]\n",
      " [0.5411     0.5245    ]]\n",
      "rec time now 3 dataset now: Syn4\n"
     ]
    },
    {
     "name": "stderr",
     "output_type": "stream",
     "text": [
      "TPR mean: 0.0%  std: 0.0%\n",
      "FDR mean: 0.0%  std: 0.0%\n",
      "Epoch:      0, d_loss (Acc)): 0.693, v_loss (Acc): 0.396, g_loss: -2.8112\n"
     ]
    },
    {
     "name": "stdout",
     "output_type": "stream",
     "text": [
      "[[0.55291465 0.5       ]\n",
      " [0.56503215 0.5245    ]\n",
      " [0.5411     0.5245    ]]\n",
      "now at training epoch number 1400 hyp-params: lamda 1.0000 prior 0.0000\n",
      "rec time now 0 dataset now: Syn4\n"
     ]
    },
    {
     "name": "stderr",
     "output_type": "stream",
     "text": [
      "TPR mean: 0.0%  std: 0.0%\n",
      "FDR mean: 0.0%  std: 0.0%\n"
     ]
    },
    {
     "name": "stdout",
     "output_type": "stream",
     "text": [
      "[[0.55353865 0.5       ]\n",
      " [0.56566627 0.5245    ]\n",
      " [0.5409     0.5245    ]]\n",
      "rec time now 1 dataset now: Syn4\n"
     ]
    },
    {
     "name": "stderr",
     "output_type": "stream",
     "text": [
      "TPR mean: 0.0%  std: 0.0%\n",
      "FDR mean: 0.0%  std: 0.0%\n"
     ]
    },
    {
     "name": "stdout",
     "output_type": "stream",
     "text": [
      "[[0.55353865 0.5       ]\n",
      " [0.56566627 0.5245    ]\n",
      " [0.5409     0.5245    ]]\n",
      "rec time now 2 dataset now: Syn4\n"
     ]
    },
    {
     "name": "stderr",
     "output_type": "stream",
     "text": [
      "TPR mean: 0.0%  std: 0.0%\n",
      "FDR mean: 0.0%  std: 0.0%\n"
     ]
    },
    {
     "name": "stdout",
     "output_type": "stream",
     "text": [
      "[[0.55353865 0.5       ]\n",
      " [0.56566627 0.5245    ]\n",
      " [0.5409     0.5245    ]]\n",
      "rec time now 3 dataset now: Syn4\n"
     ]
    },
    {
     "name": "stderr",
     "output_type": "stream",
     "text": [
      "TPR mean: 0.0%  std: 0.0%\n",
      "FDR mean: 0.0%  std: 0.0%\n",
      "Epoch:      0, d_loss (Acc)): 0.689, v_loss (Acc): 0.359, g_loss: -2.6468\n"
     ]
    },
    {
     "name": "stdout",
     "output_type": "stream",
     "text": [
      "[[0.55353865 0.5       ]\n",
      " [0.56566627 0.5245    ]\n",
      " [0.5409     0.5245    ]]\n",
      "now at training epoch number 1500 hyp-params: lamda 1.0000 prior 0.0000\n",
      "rec time now 0 dataset now: Syn4\n"
     ]
    },
    {
     "name": "stderr",
     "output_type": "stream",
     "text": [
      "TPR mean: 0.0%  std: 0.0%\n",
      "FDR mean: 0.0%  std: 0.0%\n"
     ]
    },
    {
     "name": "stdout",
     "output_type": "stream",
     "text": [
      "[[0.5538198  0.5       ]\n",
      " [0.56646288 0.5245    ]\n",
      " [0.5387     0.5245    ]]\n",
      "rec time now 1 dataset now: Syn4\n"
     ]
    },
    {
     "name": "stderr",
     "output_type": "stream",
     "text": [
      "TPR mean: 0.0%  std: 0.0%\n",
      "FDR mean: 0.0%  std: 0.0%\n"
     ]
    },
    {
     "name": "stdout",
     "output_type": "stream",
     "text": [
      "[[0.5538198  0.5       ]\n",
      " [0.56646288 0.5245    ]\n",
      " [0.5387     0.5245    ]]\n",
      "rec time now 2 dataset now: Syn4\n"
     ]
    },
    {
     "name": "stderr",
     "output_type": "stream",
     "text": [
      "TPR mean: 0.0%  std: 0.0%\n",
      "FDR mean: 0.0%  std: 0.0%\n"
     ]
    },
    {
     "name": "stdout",
     "output_type": "stream",
     "text": [
      "[[0.5538198  0.5       ]\n",
      " [0.56646288 0.5245    ]\n",
      " [0.5387     0.5245    ]]\n",
      "rec time now 3 dataset now: Syn4\n"
     ]
    },
    {
     "name": "stderr",
     "output_type": "stream",
     "text": [
      "TPR mean: 0.0%  std: 0.0%\n",
      "FDR mean: 0.0%  std: 0.0%\n",
      "Epoch:      0, d_loss (Acc)): 0.687, v_loss (Acc): 0.345, g_loss: -2.6516\n"
     ]
    },
    {
     "name": "stdout",
     "output_type": "stream",
     "text": [
      "[[0.5538198  0.5       ]\n",
      " [0.56646288 0.5245    ]\n",
      " [0.5387     0.5245    ]]\n",
      "now at training epoch number 1600 hyp-params: lamda 1.0000 prior 0.0000\n",
      "rec time now 0 dataset now: Syn4\n"
     ]
    },
    {
     "name": "stderr",
     "output_type": "stream",
     "text": [
      "TPR mean: 0.0%  std: 0.0%\n",
      "FDR mean: 0.0%  std: 0.0%\n"
     ]
    },
    {
     "name": "stdout",
     "output_type": "stream",
     "text": [
      "[[0.55676503 0.5       ]\n",
      " [0.56886666 0.5245    ]\n",
      " [0.541      0.5245    ]]\n",
      "rec time now 1 dataset now: Syn4\n"
     ]
    },
    {
     "name": "stderr",
     "output_type": "stream",
     "text": [
      "TPR mean: 0.0%  std: 0.0%\n",
      "FDR mean: 0.0%  std: 0.0%\n"
     ]
    },
    {
     "name": "stdout",
     "output_type": "stream",
     "text": [
      "[[0.55676503 0.5       ]\n",
      " [0.56886666 0.5245    ]\n",
      " [0.541      0.5245    ]]\n",
      "rec time now 2 dataset now: Syn4\n"
     ]
    },
    {
     "name": "stderr",
     "output_type": "stream",
     "text": [
      "TPR mean: 0.0%  std: 0.0%\n",
      "FDR mean: 0.0%  std: 0.0%\n"
     ]
    },
    {
     "name": "stdout",
     "output_type": "stream",
     "text": [
      "[[0.55676503 0.5       ]\n",
      " [0.56886666 0.5245    ]\n",
      " [0.541      0.5245    ]]\n",
      "rec time now 3 dataset now: Syn4\n"
     ]
    },
    {
     "name": "stderr",
     "output_type": "stream",
     "text": [
      "TPR mean: 0.0%  std: 0.0%\n",
      "FDR mean: 0.0%  std: 0.0%\n",
      "Epoch:      0, d_loss (Acc)): 0.698, v_loss (Acc): 0.308, g_loss: -2.5570\n"
     ]
    },
    {
     "name": "stdout",
     "output_type": "stream",
     "text": [
      "[[0.55676503 0.5       ]\n",
      " [0.56886666 0.5245    ]\n",
      " [0.541      0.5245    ]]\n",
      "now at training epoch number 1700 hyp-params: lamda 1.0000 prior 0.0000\n",
      "rec time now 0 dataset now: Syn4\n"
     ]
    },
    {
     "name": "stderr",
     "output_type": "stream",
     "text": [
      "TPR mean: 0.0%  std: 0.0%\n",
      "FDR mean: 0.0%  std: 0.0%\n"
     ]
    },
    {
     "name": "stdout",
     "output_type": "stream",
     "text": [
      "[[0.55713801 0.5       ]\n",
      " [0.57006181 0.5245    ]\n",
      " [0.5391     0.5245    ]]\n",
      "rec time now 1 dataset now: Syn4\n"
     ]
    },
    {
     "name": "stderr",
     "output_type": "stream",
     "text": [
      "TPR mean: 0.0%  std: 0.0%\n",
      "FDR mean: 0.0%  std: 0.0%\n"
     ]
    },
    {
     "name": "stdout",
     "output_type": "stream",
     "text": [
      "[[0.55713801 0.5       ]\n",
      " [0.57006181 0.5245    ]\n",
      " [0.5391     0.5245    ]]\n",
      "rec time now 2 dataset now: Syn4\n"
     ]
    },
    {
     "name": "stderr",
     "output_type": "stream",
     "text": [
      "TPR mean: 0.0%  std: 0.0%\n",
      "FDR mean: 0.0%  std: 0.0%\n"
     ]
    },
    {
     "name": "stdout",
     "output_type": "stream",
     "text": [
      "[[0.55713801 0.5       ]\n",
      " [0.57006181 0.5245    ]\n",
      " [0.5391     0.5245    ]]\n",
      "rec time now 3 dataset now: Syn4\n"
     ]
    },
    {
     "name": "stderr",
     "output_type": "stream",
     "text": [
      "TPR mean: 0.0%  std: 0.0%\n",
      "FDR mean: 0.0%  std: 0.0%\n",
      "Epoch:      0, d_loss (Acc)): 0.693, v_loss (Acc): 0.291, g_loss: -2.4476\n"
     ]
    },
    {
     "name": "stdout",
     "output_type": "stream",
     "text": [
      "[[0.55713801 0.5       ]\n",
      " [0.57006181 0.5245    ]\n",
      " [0.5391     0.5245    ]]\n",
      "now at training epoch number 1800 hyp-params: lamda 1.0000 prior 0.0000\n",
      "rec time now 0 dataset now: Syn4\n"
     ]
    },
    {
     "name": "stderr",
     "output_type": "stream",
     "text": [
      "TPR mean: 0.0%  std: 0.0%\n",
      "FDR mean: 0.0%  std: 0.0%\n"
     ]
    },
    {
     "name": "stdout",
     "output_type": "stream",
     "text": [
      "[[0.55777177 0.5       ]\n",
      " [0.56938375 0.5245    ]\n",
      " [0.5441     0.5245    ]]\n",
      "rec time now 1 dataset now: Syn4\n"
     ]
    },
    {
     "name": "stderr",
     "output_type": "stream",
     "text": [
      "TPR mean: 0.0%  std: 0.0%\n",
      "FDR mean: 0.0%  std: 0.0%\n"
     ]
    },
    {
     "name": "stdout",
     "output_type": "stream",
     "text": [
      "[[0.55777177 0.5       ]\n",
      " [0.56938375 0.5245    ]\n",
      " [0.5441     0.5245    ]]\n",
      "rec time now 2 dataset now: Syn4\n"
     ]
    },
    {
     "name": "stderr",
     "output_type": "stream",
     "text": [
      "TPR mean: 0.0%  std: 0.0%\n",
      "FDR mean: 0.0%  std: 0.0%\n"
     ]
    },
    {
     "name": "stdout",
     "output_type": "stream",
     "text": [
      "[[0.55777177 0.5       ]\n",
      " [0.56938375 0.5245    ]\n",
      " [0.5441     0.5245    ]]\n",
      "rec time now 3 dataset now: Syn4\n"
     ]
    },
    {
     "name": "stderr",
     "output_type": "stream",
     "text": [
      "TPR mean: 0.0%  std: 0.0%\n",
      "FDR mean: 0.0%  std: 0.0%\n",
      "Epoch:      0, d_loss (Acc)): 0.691, v_loss (Acc): 0.281, g_loss: -2.1857\n"
     ]
    },
    {
     "name": "stdout",
     "output_type": "stream",
     "text": [
      "[[0.55777177 0.5       ]\n",
      " [0.56938375 0.5245    ]\n",
      " [0.5441     0.5245    ]]\n",
      "now at training epoch number 1900 hyp-params: lamda 1.0000 prior 0.0000\n",
      "rec time now 0 dataset now: Syn4\n"
     ]
    },
    {
     "name": "stderr",
     "output_type": "stream",
     "text": [
      "TPR mean: 0.0%  std: 0.0%\n",
      "FDR mean: 0.0%  std: 0.0%\n"
     ]
    },
    {
     "name": "stdout",
     "output_type": "stream",
     "text": [
      "[[0.55788975 0.5       ]\n",
      " [0.57112861 0.5245    ]\n",
      " [0.5424     0.5245    ]]\n",
      "rec time now 1 dataset now: Syn4\n"
     ]
    },
    {
     "name": "stderr",
     "output_type": "stream",
     "text": [
      "TPR mean: 0.0%  std: 0.0%\n",
      "FDR mean: 0.0%  std: 0.0%\n"
     ]
    },
    {
     "name": "stdout",
     "output_type": "stream",
     "text": [
      "[[0.55788975 0.5       ]\n",
      " [0.57112861 0.5245    ]\n",
      " [0.5424     0.5245    ]]\n",
      "rec time now 2 dataset now: Syn4\n"
     ]
    },
    {
     "name": "stderr",
     "output_type": "stream",
     "text": [
      "TPR mean: 0.0%  std: 0.0%\n",
      "FDR mean: 0.0%  std: 0.0%\n"
     ]
    },
    {
     "name": "stdout",
     "output_type": "stream",
     "text": [
      "[[0.55788975 0.5       ]\n",
      " [0.57112861 0.5245    ]\n",
      " [0.5424     0.5245    ]]\n",
      "rec time now 3 dataset now: Syn4\n"
     ]
    },
    {
     "name": "stderr",
     "output_type": "stream",
     "text": [
      "TPR mean: 0.0%  std: 0.0%\n",
      "FDR mean: 0.0%  std: 0.0%\n",
      "Epoch:      0, d_loss (Acc)): 0.688, v_loss (Acc): 0.244, g_loss: -2.1700\n"
     ]
    },
    {
     "name": "stdout",
     "output_type": "stream",
     "text": [
      "[[0.55788975 0.5       ]\n",
      " [0.57112861 0.5245    ]\n",
      " [0.5424     0.5245    ]]\n",
      "now at training epoch number 2000 hyp-params: lamda 1.0000 prior 0.0000\n",
      "rec time now 0 dataset now: Syn4\n"
     ]
    },
    {
     "name": "stderr",
     "output_type": "stream",
     "text": [
      "TPR mean: 0.0%  std: 0.0%\n",
      "FDR mean: 0.0%  std: 0.0%\n"
     ]
    },
    {
     "name": "stdout",
     "output_type": "stream",
     "text": [
      "[[0.55757853 0.5       ]\n",
      " [0.5703276  0.5245    ]\n",
      " [0.5444     0.5245    ]]\n",
      "rec time now 1 dataset now: Syn4\n"
     ]
    },
    {
     "name": "stderr",
     "output_type": "stream",
     "text": [
      "TPR mean: 0.0%  std: 0.0%\n",
      "FDR mean: 0.0%  std: 0.0%\n"
     ]
    },
    {
     "name": "stdout",
     "output_type": "stream",
     "text": [
      "[[0.55757853 0.5       ]\n",
      " [0.5703276  0.5245    ]\n",
      " [0.5444     0.5245    ]]\n",
      "rec time now 2 dataset now: Syn4\n"
     ]
    },
    {
     "name": "stderr",
     "output_type": "stream",
     "text": [
      "TPR mean: 0.0%  std: 0.0%\n",
      "FDR mean: 0.0%  std: 0.0%\n"
     ]
    },
    {
     "name": "stdout",
     "output_type": "stream",
     "text": [
      "[[0.55757853 0.5       ]\n",
      " [0.5703276  0.5245    ]\n",
      " [0.5444     0.5245    ]]\n",
      "rec time now 3 dataset now: Syn4\n"
     ]
    },
    {
     "name": "stderr",
     "output_type": "stream",
     "text": [
      "TPR mean: 0.0%  std: 0.0%\n",
      "FDR mean: 0.0%  std: 0.0%\n",
      "Epoch:      0, d_loss (Acc)): 0.694, v_loss (Acc): 0.230, g_loss: -2.1038\n"
     ]
    },
    {
     "name": "stdout",
     "output_type": "stream",
     "text": [
      "[[0.55757853 0.5       ]\n",
      " [0.5703276  0.5245    ]\n",
      " [0.5444     0.5245    ]]\n",
      "now at training epoch number 2100 hyp-params: lamda 1.0000 prior 0.0000\n",
      "rec time now 0 dataset now: Syn4\n"
     ]
    },
    {
     "name": "stderr",
     "output_type": "stream",
     "text": [
      "TPR mean: 0.0%  std: 0.0%\n",
      "FDR mean: 0.0%  std: 0.0%\n"
     ]
    },
    {
     "name": "stdout",
     "output_type": "stream",
     "text": [
      "[[0.55729545 0.5       ]\n",
      " [0.57069094 0.5245    ]\n",
      " [0.5405     0.5245    ]]\n",
      "rec time now 1 dataset now: Syn4\n"
     ]
    },
    {
     "name": "stderr",
     "output_type": "stream",
     "text": [
      "TPR mean: 0.0%  std: 0.0%\n",
      "FDR mean: 0.0%  std: 0.0%\n"
     ]
    },
    {
     "name": "stdout",
     "output_type": "stream",
     "text": [
      "[[0.55729545 0.5       ]\n",
      " [0.57069094 0.5245    ]\n",
      " [0.5405     0.5245    ]]\n",
      "rec time now 2 dataset now: Syn4\n"
     ]
    },
    {
     "name": "stderr",
     "output_type": "stream",
     "text": [
      "TPR mean: 0.0%  std: 0.0%\n",
      "FDR mean: 0.0%  std: 0.0%\n"
     ]
    },
    {
     "name": "stdout",
     "output_type": "stream",
     "text": [
      "[[0.55729545 0.5       ]\n",
      " [0.57069094 0.5245    ]\n",
      " [0.5405     0.5245    ]]\n",
      "rec time now 3 dataset now: Syn4\n"
     ]
    },
    {
     "name": "stderr",
     "output_type": "stream",
     "text": [
      "TPR mean: 0.0%  std: 0.0%\n",
      "FDR mean: 0.0%  std: 0.0%\n",
      "Epoch:      0, d_loss (Acc)): 0.690, v_loss (Acc): 0.196, g_loss: -1.9791\n"
     ]
    },
    {
     "name": "stdout",
     "output_type": "stream",
     "text": [
      "[[0.55729545 0.5       ]\n",
      " [0.57069094 0.5245    ]\n",
      " [0.5405     0.5245    ]]\n",
      "now at training epoch number 2200 hyp-params: lamda 1.0000 prior 0.0000\n",
      "rec time now 0 dataset now: Syn4\n"
     ]
    },
    {
     "name": "stderr",
     "output_type": "stream",
     "text": [
      "TPR mean: 0.0%  std: 0.0%\n",
      "FDR mean: 0.0%  std: 0.0%\n"
     ]
    },
    {
     "name": "stdout",
     "output_type": "stream",
     "text": [
      "[[0.55729956 0.5       ]\n",
      " [0.56892896 0.5245    ]\n",
      " [0.5444     0.5245    ]]\n",
      "rec time now 1 dataset now: Syn4\n"
     ]
    },
    {
     "name": "stderr",
     "output_type": "stream",
     "text": [
      "TPR mean: 0.0%  std: 0.0%\n",
      "FDR mean: 0.0%  std: 0.0%\n"
     ]
    },
    {
     "name": "stdout",
     "output_type": "stream",
     "text": [
      "[[0.55729956 0.5       ]\n",
      " [0.56892896 0.5245    ]\n",
      " [0.5444     0.5245    ]]\n",
      "rec time now 2 dataset now: Syn4\n"
     ]
    },
    {
     "name": "stderr",
     "output_type": "stream",
     "text": [
      "TPR mean: 0.0%  std: 0.0%\n",
      "FDR mean: 0.0%  std: 0.0%\n"
     ]
    },
    {
     "name": "stdout",
     "output_type": "stream",
     "text": [
      "[[0.55729956 0.5       ]\n",
      " [0.56892896 0.5245    ]\n",
      " [0.5444     0.5245    ]]\n",
      "rec time now 3 dataset now: Syn4\n"
     ]
    },
    {
     "name": "stderr",
     "output_type": "stream",
     "text": [
      "TPR mean: 0.0%  std: 0.0%\n",
      "FDR mean: 0.0%  std: 0.0%\n",
      "Epoch:      0, d_loss (Acc)): 0.687, v_loss (Acc): 0.187, g_loss: -1.9682\n"
     ]
    },
    {
     "name": "stdout",
     "output_type": "stream",
     "text": [
      "[[0.55729956 0.5       ]\n",
      " [0.56892896 0.5245    ]\n",
      " [0.5444     0.5245    ]]\n",
      "now at training epoch number 2300 hyp-params: lamda 1.0000 prior 0.0000\n",
      "rec time now 0 dataset now: Syn4\n"
     ]
    },
    {
     "name": "stderr",
     "output_type": "stream",
     "text": [
      "TPR mean: 0.0%  std: 0.0%\n",
      "FDR mean: 0.0%  std: 0.0%\n"
     ]
    },
    {
     "name": "stdout",
     "output_type": "stream",
     "text": [
      "[[0.55809497 0.5       ]\n",
      " [0.57170923 0.5245    ]\n",
      " [0.5415     0.5245    ]]\n",
      "rec time now 1 dataset now: Syn4\n"
     ]
    },
    {
     "name": "stderr",
     "output_type": "stream",
     "text": [
      "TPR mean: 0.0%  std: 0.0%\n",
      "FDR mean: 0.0%  std: 0.0%\n"
     ]
    },
    {
     "name": "stdout",
     "output_type": "stream",
     "text": [
      "[[0.55809497 0.5       ]\n",
      " [0.57170923 0.5245    ]\n",
      " [0.5415     0.5245    ]]\n",
      "rec time now 2 dataset now: Syn4\n"
     ]
    },
    {
     "name": "stderr",
     "output_type": "stream",
     "text": [
      "TPR mean: 0.0%  std: 0.0%\n",
      "FDR mean: 0.0%  std: 0.0%\n"
     ]
    },
    {
     "name": "stdout",
     "output_type": "stream",
     "text": [
      "[[0.55809497 0.5       ]\n",
      " [0.57170923 0.5245    ]\n",
      " [0.5415     0.5245    ]]\n",
      "rec time now 3 dataset now: Syn4\n"
     ]
    },
    {
     "name": "stderr",
     "output_type": "stream",
     "text": [
      "TPR mean: 0.0%  std: 0.0%\n",
      "FDR mean: 0.0%  std: 0.0%\n",
      "Epoch:      0, d_loss (Acc)): 0.691, v_loss (Acc): 0.160, g_loss: -2.1286\n"
     ]
    },
    {
     "name": "stdout",
     "output_type": "stream",
     "text": [
      "[[0.55809497 0.5       ]\n",
      " [0.57170923 0.5245    ]\n",
      " [0.5415     0.5245    ]]\n",
      "now at training epoch number 2400 hyp-params: lamda 1.0000 prior 0.0000\n",
      "rec time now 0 dataset now: Syn4\n"
     ]
    },
    {
     "name": "stderr",
     "output_type": "stream",
     "text": [
      "TPR mean: 0.0%  std: 0.0%\n",
      "FDR mean: 0.0%  std: 0.0%\n"
     ]
    },
    {
     "name": "stdout",
     "output_type": "stream",
     "text": [
      "[[0.55675389 0.5       ]\n",
      " [0.56966099 0.5245    ]\n",
      " [0.5419     0.5245    ]]\n",
      "rec time now 1 dataset now: Syn4\n"
     ]
    },
    {
     "name": "stderr",
     "output_type": "stream",
     "text": [
      "TPR mean: 0.0%  std: 0.0%\n",
      "FDR mean: 0.0%  std: 0.0%\n"
     ]
    },
    {
     "name": "stdout",
     "output_type": "stream",
     "text": [
      "[[0.55675389 0.5       ]\n",
      " [0.56966099 0.5245    ]\n",
      " [0.5419     0.5245    ]]\n",
      "rec time now 2 dataset now: Syn4\n"
     ]
    },
    {
     "name": "stderr",
     "output_type": "stream",
     "text": [
      "TPR mean: 0.0%  std: 0.0%\n",
      "FDR mean: 0.0%  std: 0.0%\n"
     ]
    },
    {
     "name": "stdout",
     "output_type": "stream",
     "text": [
      "[[0.55675389 0.5       ]\n",
      " [0.56966099 0.5245    ]\n",
      " [0.5419     0.5245    ]]\n",
      "rec time now 3 dataset now: Syn4\n"
     ]
    },
    {
     "name": "stderr",
     "output_type": "stream",
     "text": [
      "TPR mean: 0.0%  std: 0.0%\n",
      "FDR mean: 0.0%  std: 0.0%\n",
      "Epoch:      0, d_loss (Acc)): 0.687, v_loss (Acc): 0.139, g_loss: -1.8678\n"
     ]
    },
    {
     "name": "stdout",
     "output_type": "stream",
     "text": [
      "[[0.55675389 0.5       ]\n",
      " [0.56966099 0.5245    ]\n",
      " [0.5419     0.5245    ]]\n",
      "now at training epoch number 2500 hyp-params: lamda 1.0000 prior 0.0000\n",
      "rec time now 0 dataset now: Syn4\n"
     ]
    },
    {
     "name": "stderr",
     "output_type": "stream",
     "text": [
      "TPR mean: 0.0%  std: 0.0%\n",
      "FDR mean: 0.0%  std: 0.0%\n"
     ]
    },
    {
     "name": "stdout",
     "output_type": "stream",
     "text": [
      "[[0.55602381 0.5       ]\n",
      " [0.56884066 0.5245    ]\n",
      " [0.5423     0.5245    ]]\n",
      "rec time now 1 dataset now: Syn4\n"
     ]
    },
    {
     "name": "stderr",
     "output_type": "stream",
     "text": [
      "TPR mean: 0.0%  std: 0.0%\n",
      "FDR mean: 0.0%  std: 0.0%\n"
     ]
    },
    {
     "name": "stdout",
     "output_type": "stream",
     "text": [
      "[[0.55602381 0.5       ]\n",
      " [0.56884066 0.5245    ]\n",
      " [0.5423     0.5245    ]]\n",
      "rec time now 2 dataset now: Syn4\n"
     ]
    },
    {
     "name": "stderr",
     "output_type": "stream",
     "text": [
      "TPR mean: 0.0%  std: 0.0%\n",
      "FDR mean: 0.0%  std: 0.0%\n"
     ]
    },
    {
     "name": "stdout",
     "output_type": "stream",
     "text": [
      "[[0.55602381 0.5       ]\n",
      " [0.56884066 0.5245    ]\n",
      " [0.5423     0.5245    ]]\n",
      "rec time now 3 dataset now: Syn4\n"
     ]
    },
    {
     "name": "stderr",
     "output_type": "stream",
     "text": [
      "TPR mean: 0.0%  std: 0.0%\n",
      "FDR mean: 0.0%  std: 0.0%\n",
      "Epoch:      0, d_loss (Acc)): 0.689, v_loss (Acc): 0.137, g_loss: -1.8136\n"
     ]
    },
    {
     "name": "stdout",
     "output_type": "stream",
     "text": [
      "[[0.55602381 0.5       ]\n",
      " [0.56884066 0.5245    ]\n",
      " [0.5423     0.5245    ]]\n",
      "now at training epoch number 2600 hyp-params: lamda 1.0000 prior 0.0000\n",
      "rec time now 0 dataset now: Syn4\n"
     ]
    },
    {
     "name": "stderr",
     "output_type": "stream",
     "text": [
      "TPR mean: 0.0%  std: 0.0%\n",
      "FDR mean: 0.0%  std: 0.0%\n"
     ]
    },
    {
     "name": "stdout",
     "output_type": "stream",
     "text": [
      "[[0.5568755  0.5       ]\n",
      " [0.57046341 0.5245    ]\n",
      " [0.5397     0.5245    ]]\n",
      "rec time now 1 dataset now: Syn4\n"
     ]
    },
    {
     "name": "stderr",
     "output_type": "stream",
     "text": [
      "TPR mean: 0.0%  std: 0.0%\n",
      "FDR mean: 0.0%  std: 0.0%\n"
     ]
    },
    {
     "name": "stdout",
     "output_type": "stream",
     "text": [
      "[[0.5568755  0.5       ]\n",
      " [0.57046341 0.5245    ]\n",
      " [0.5397     0.5245    ]]\n",
      "rec time now 2 dataset now: Syn4\n"
     ]
    },
    {
     "name": "stderr",
     "output_type": "stream",
     "text": [
      "TPR mean: 0.0%  std: 0.0%\n",
      "FDR mean: 0.0%  std: 0.0%\n"
     ]
    },
    {
     "name": "stdout",
     "output_type": "stream",
     "text": [
      "[[0.5568755  0.5       ]\n",
      " [0.57046341 0.5245    ]\n",
      " [0.5397     0.5245    ]]\n",
      "rec time now 3 dataset now: Syn4\n"
     ]
    },
    {
     "name": "stderr",
     "output_type": "stream",
     "text": [
      "TPR mean: 0.0%  std: 0.0%\n",
      "FDR mean: 0.0%  std: 0.0%\n",
      "Epoch:      0, d_loss (Acc)): 0.684, v_loss (Acc): 0.116, g_loss: -1.8502\n"
     ]
    },
    {
     "name": "stdout",
     "output_type": "stream",
     "text": [
      "[[0.5568755  0.5       ]\n",
      " [0.57046341 0.5245    ]\n",
      " [0.5397     0.5245    ]]\n",
      "now at training epoch number 2700 hyp-params: lamda 1.0000 prior 0.0000\n",
      "rec time now 0 dataset now: Syn4\n"
     ]
    },
    {
     "name": "stderr",
     "output_type": "stream",
     "text": [
      "TPR mean: 0.0%  std: 0.0%\n",
      "FDR mean: 0.0%  std: 0.0%\n"
     ]
    },
    {
     "name": "stdout",
     "output_type": "stream",
     "text": [
      "[[0.55573783 0.5       ]\n",
      " [0.56801719 0.5245    ]\n",
      " [0.5402     0.5245    ]]\n",
      "rec time now 1 dataset now: Syn4\n"
     ]
    },
    {
     "name": "stderr",
     "output_type": "stream",
     "text": [
      "TPR mean: 0.0%  std: 0.0%\n",
      "FDR mean: 0.0%  std: 0.0%\n"
     ]
    },
    {
     "name": "stdout",
     "output_type": "stream",
     "text": [
      "[[0.55573783 0.5       ]\n",
      " [0.56801719 0.5245    ]\n",
      " [0.5402     0.5245    ]]\n",
      "rec time now 2 dataset now: Syn4\n"
     ]
    },
    {
     "name": "stderr",
     "output_type": "stream",
     "text": [
      "TPR mean: 0.0%  std: 0.0%\n",
      "FDR mean: 0.0%  std: 0.0%\n"
     ]
    },
    {
     "name": "stdout",
     "output_type": "stream",
     "text": [
      "[[0.55573783 0.5       ]\n",
      " [0.56801719 0.5245    ]\n",
      " [0.5402     0.5245    ]]\n",
      "rec time now 3 dataset now: Syn4\n"
     ]
    },
    {
     "name": "stderr",
     "output_type": "stream",
     "text": [
      "TPR mean: 0.0%  std: 0.0%\n",
      "FDR mean: 0.0%  std: 0.0%\n",
      "Epoch:      0, d_loss (Acc)): 0.685, v_loss (Acc): 0.098, g_loss: -1.7532\n"
     ]
    },
    {
     "name": "stdout",
     "output_type": "stream",
     "text": [
      "[[0.55573783 0.5       ]\n",
      " [0.56801719 0.5245    ]\n",
      " [0.5402     0.5245    ]]\n",
      "now at training epoch number 2800 hyp-params: lamda 1.0000 prior 0.0000\n",
      "rec time now 0 dataset now: Syn4\n"
     ]
    },
    {
     "name": "stderr",
     "output_type": "stream",
     "text": [
      "TPR mean: 0.0%  std: 0.0%\n",
      "FDR mean: 0.0%  std: 0.0%\n"
     ]
    },
    {
     "name": "stdout",
     "output_type": "stream",
     "text": [
      "[[0.55559681 0.5       ]\n",
      " [0.5690484  0.5245    ]\n",
      " [0.5405     0.5245    ]]\n",
      "rec time now 1 dataset now: Syn4\n"
     ]
    },
    {
     "name": "stderr",
     "output_type": "stream",
     "text": [
      "TPR mean: 0.0%  std: 0.0%\n",
      "FDR mean: 0.0%  std: 0.0%\n"
     ]
    },
    {
     "name": "stdout",
     "output_type": "stream",
     "text": [
      "[[0.55559681 0.5       ]\n",
      " [0.5690484  0.5245    ]\n",
      " [0.5405     0.5245    ]]\n",
      "rec time now 2 dataset now: Syn4\n"
     ]
    },
    {
     "name": "stderr",
     "output_type": "stream",
     "text": [
      "TPR mean: 0.0%  std: 0.0%\n",
      "FDR mean: 0.0%  std: 0.0%\n"
     ]
    },
    {
     "name": "stdout",
     "output_type": "stream",
     "text": [
      "[[0.55559681 0.5       ]\n",
      " [0.5690484  0.5245    ]\n",
      " [0.5405     0.5245    ]]\n",
      "rec time now 3 dataset now: Syn4\n"
     ]
    },
    {
     "name": "stderr",
     "output_type": "stream",
     "text": [
      "TPR mean: 0.0%  std: 0.0%\n",
      "FDR mean: 0.0%  std: 0.0%\n",
      "Epoch:      0, d_loss (Acc)): 0.690, v_loss (Acc): 0.097, g_loss: -1.6183\n"
     ]
    },
    {
     "name": "stdout",
     "output_type": "stream",
     "text": [
      "[[0.55559681 0.5       ]\n",
      " [0.5690484  0.5245    ]\n",
      " [0.5405     0.5245    ]]\n",
      "now at training epoch number 2900 hyp-params: lamda 1.0000 prior 0.0000\n",
      "rec time now 0 dataset now: Syn4\n"
     ]
    },
    {
     "name": "stderr",
     "output_type": "stream",
     "text": [
      "TPR mean: 0.0%  std: 0.0%\n",
      "FDR mean: 0.0%  std: 0.0%\n"
     ]
    },
    {
     "name": "stdout",
     "output_type": "stream",
     "text": [
      "[[0.55487461 0.5       ]\n",
      " [0.56785385 0.5245    ]\n",
      " [0.5397     0.5245    ]]\n",
      "rec time now 1 dataset now: Syn4\n"
     ]
    },
    {
     "name": "stderr",
     "output_type": "stream",
     "text": [
      "TPR mean: 0.0%  std: 0.0%\n",
      "FDR mean: 0.0%  std: 0.0%\n"
     ]
    },
    {
     "name": "stdout",
     "output_type": "stream",
     "text": [
      "[[0.55487461 0.5       ]\n",
      " [0.56785385 0.5245    ]\n",
      " [0.5397     0.5245    ]]\n",
      "rec time now 2 dataset now: Syn4\n"
     ]
    },
    {
     "name": "stderr",
     "output_type": "stream",
     "text": [
      "TPR mean: 0.0%  std: 0.0%\n",
      "FDR mean: 0.0%  std: 0.0%\n"
     ]
    },
    {
     "name": "stdout",
     "output_type": "stream",
     "text": [
      "[[0.55487461 0.5       ]\n",
      " [0.56785385 0.5245    ]\n",
      " [0.5397     0.5245    ]]\n",
      "rec time now 3 dataset now: Syn4\n"
     ]
    },
    {
     "name": "stderr",
     "output_type": "stream",
     "text": [
      "TPR mean: 0.0%  std: 0.0%\n",
      "FDR mean: 0.0%  std: 0.0%\n",
      "Epoch:      0, d_loss (Acc)): 0.686, v_loss (Acc): 0.084, g_loss: -1.7909\n"
     ]
    },
    {
     "name": "stdout",
     "output_type": "stream",
     "text": [
      "[[0.55487461 0.5       ]\n",
      " [0.56785385 0.5245    ]\n",
      " [0.5397     0.5245    ]]\n",
      "now at training epoch number 3000 hyp-params: lamda 1.0000 prior 0.0000\n",
      "rec time now 0 dataset now: Syn4\n"
     ]
    },
    {
     "name": "stderr",
     "output_type": "stream",
     "text": [
      "TPR mean: 0.0%  std: 0.0%\n",
      "FDR mean: 0.0%  std: 0.0%\n"
     ]
    },
    {
     "name": "stdout",
     "output_type": "stream",
     "text": [
      "[[0.55459789 0.5       ]\n",
      " [0.56786467 0.5245    ]\n",
      " [0.5402     0.5245    ]]\n",
      "rec time now 1 dataset now: Syn4\n"
     ]
    },
    {
     "name": "stderr",
     "output_type": "stream",
     "text": [
      "TPR mean: 0.0%  std: 0.0%\n",
      "FDR mean: 0.0%  std: 0.0%\n"
     ]
    },
    {
     "name": "stdout",
     "output_type": "stream",
     "text": [
      "[[0.55459789 0.5       ]\n",
      " [0.56786467 0.5245    ]\n",
      " [0.5402     0.5245    ]]\n",
      "rec time now 2 dataset now: Syn4\n"
     ]
    },
    {
     "name": "stderr",
     "output_type": "stream",
     "text": [
      "TPR mean: 0.0%  std: 0.0%\n",
      "FDR mean: 0.0%  std: 0.0%\n"
     ]
    },
    {
     "name": "stdout",
     "output_type": "stream",
     "text": [
      "[[0.55459789 0.5       ]\n",
      " [0.56786467 0.5245    ]\n",
      " [0.5402     0.5245    ]]\n",
      "rec time now 3 dataset now: Syn4\n"
     ]
    },
    {
     "name": "stderr",
     "output_type": "stream",
     "text": [
      "TPR mean: 0.0%  std: 0.0%\n",
      "FDR mean: 0.0%  std: 0.0%\n",
      "Epoch:      0, d_loss (Acc)): 0.686, v_loss (Acc): 0.070, g_loss: -1.7118\n"
     ]
    },
    {
     "name": "stdout",
     "output_type": "stream",
     "text": [
      "[[0.55459789 0.5       ]\n",
      " [0.56786467 0.5245    ]\n",
      " [0.5402     0.5245    ]]\n",
      "now at training epoch number 3100 hyp-params: lamda 1.0000 prior 0.0000\n",
      "rec time now 0 dataset now: Syn4\n"
     ]
    },
    {
     "name": "stderr",
     "output_type": "stream",
     "text": [
      "TPR mean: 0.0%  std: 0.0%\n",
      "FDR mean: 0.0%  std: 0.0%\n"
     ]
    },
    {
     "name": "stdout",
     "output_type": "stream",
     "text": [
      "[[0.55499244 0.5       ]\n",
      " [0.56873075 0.5245    ]\n",
      " [0.5403     0.5245    ]]\n",
      "rec time now 1 dataset now: Syn4\n"
     ]
    },
    {
     "name": "stderr",
     "output_type": "stream",
     "text": [
      "TPR mean: 0.0%  std: 0.0%\n",
      "FDR mean: 0.0%  std: 0.0%\n"
     ]
    },
    {
     "name": "stdout",
     "output_type": "stream",
     "text": [
      "[[0.55499244 0.5       ]\n",
      " [0.56873075 0.5245    ]\n",
      " [0.5403     0.5245    ]]\n",
      "rec time now 2 dataset now: Syn4\n"
     ]
    },
    {
     "name": "stderr",
     "output_type": "stream",
     "text": [
      "TPR mean: 0.0%  std: 0.0%\n",
      "FDR mean: 0.0%  std: 0.0%\n"
     ]
    },
    {
     "name": "stdout",
     "output_type": "stream",
     "text": [
      "[[0.55499244 0.5       ]\n",
      " [0.56873075 0.5245    ]\n",
      " [0.5403     0.5245    ]]\n",
      "rec time now 3 dataset now: Syn4\n"
     ]
    },
    {
     "name": "stderr",
     "output_type": "stream",
     "text": [
      "TPR mean: 0.0%  std: 0.0%\n",
      "FDR mean: 0.0%  std: 0.0%\n",
      "Epoch:      0, d_loss (Acc)): 0.687, v_loss (Acc): 0.078, g_loss: -1.7155\n"
     ]
    },
    {
     "name": "stdout",
     "output_type": "stream",
     "text": [
      "[[0.55499244 0.5       ]\n",
      " [0.56873075 0.5245    ]\n",
      " [0.5403     0.5245    ]]\n",
      "now at training epoch number 3200 hyp-params: lamda 1.0000 prior 0.0000\n",
      "rec time now 0 dataset now: Syn4\n"
     ]
    },
    {
     "name": "stderr",
     "output_type": "stream",
     "text": [
      "TPR mean: 0.0%  std: 0.0%\n",
      "FDR mean: 0.0%  std: 0.0%\n"
     ]
    },
    {
     "name": "stdout",
     "output_type": "stream",
     "text": [
      "[[0.55517969 0.5       ]\n",
      " [0.56848878 0.5245    ]\n",
      " [0.5403     0.5245    ]]\n",
      "rec time now 1 dataset now: Syn4\n"
     ]
    },
    {
     "name": "stderr",
     "output_type": "stream",
     "text": [
      "TPR mean: 0.0%  std: 0.0%\n",
      "FDR mean: 0.0%  std: 0.0%\n"
     ]
    },
    {
     "name": "stdout",
     "output_type": "stream",
     "text": [
      "[[0.55517969 0.5       ]\n",
      " [0.56848878 0.5245    ]\n",
      " [0.5403     0.5245    ]]\n",
      "rec time now 2 dataset now: Syn4\n"
     ]
    },
    {
     "name": "stderr",
     "output_type": "stream",
     "text": [
      "TPR mean: 0.0%  std: 0.0%\n",
      "FDR mean: 0.0%  std: 0.0%\n"
     ]
    },
    {
     "name": "stdout",
     "output_type": "stream",
     "text": [
      "[[0.55517969 0.5       ]\n",
      " [0.56848878 0.5245    ]\n",
      " [0.5403     0.5245    ]]\n",
      "rec time now 3 dataset now: Syn4\n"
     ]
    },
    {
     "name": "stderr",
     "output_type": "stream",
     "text": [
      "TPR mean: 0.0%  std: 0.0%\n",
      "FDR mean: 0.0%  std: 0.0%\n",
      "Epoch:      0, d_loss (Acc)): 0.684, v_loss (Acc): 0.053, g_loss: -1.6389\n"
     ]
    },
    {
     "name": "stdout",
     "output_type": "stream",
     "text": [
      "[[0.55517969 0.5       ]\n",
      " [0.56848878 0.5245    ]\n",
      " [0.5403     0.5245    ]]\n",
      "now at training epoch number 3300 hyp-params: lamda 1.0000 prior 0.0000\n",
      "rec time now 0 dataset now: Syn4\n"
     ]
    },
    {
     "name": "stderr",
     "output_type": "stream",
     "text": [
      "TPR mean: 0.0%  std: 0.0%\n",
      "FDR mean: 0.0%  std: 0.0%\n"
     ]
    },
    {
     "name": "stdout",
     "output_type": "stream",
     "text": [
      "[[0.55539695 0.5       ]\n",
      " [0.56896363 0.5245    ]\n",
      " [0.5408     0.5245    ]]\n",
      "rec time now 1 dataset now: Syn4\n"
     ]
    },
    {
     "name": "stderr",
     "output_type": "stream",
     "text": [
      "TPR mean: 0.0%  std: 0.0%\n",
      "FDR mean: 0.0%  std: 0.0%\n"
     ]
    },
    {
     "name": "stdout",
     "output_type": "stream",
     "text": [
      "[[0.55539695 0.5       ]\n",
      " [0.56896363 0.5245    ]\n",
      " [0.5408     0.5245    ]]\n",
      "rec time now 2 dataset now: Syn4\n"
     ]
    },
    {
     "name": "stderr",
     "output_type": "stream",
     "text": [
      "TPR mean: 0.0%  std: 0.0%\n",
      "FDR mean: 0.0%  std: 0.0%\n"
     ]
    },
    {
     "name": "stdout",
     "output_type": "stream",
     "text": [
      "[[0.55539695 0.5       ]\n",
      " [0.56896363 0.5245    ]\n",
      " [0.5408     0.5245    ]]\n",
      "rec time now 3 dataset now: Syn4\n"
     ]
    },
    {
     "name": "stderr",
     "output_type": "stream",
     "text": [
      "TPR mean: 0.0%  std: 0.0%\n",
      "FDR mean: 0.0%  std: 0.0%\n",
      "Epoch:      0, d_loss (Acc)): 0.691, v_loss (Acc): 0.052, g_loss: -1.6694\n"
     ]
    },
    {
     "name": "stdout",
     "output_type": "stream",
     "text": [
      "[[0.55539695 0.5       ]\n",
      " [0.56896363 0.5245    ]\n",
      " [0.5408     0.5245    ]]\n",
      "now at training epoch number 3400 hyp-params: lamda 1.0000 prior 0.0000\n",
      "rec time now 0 dataset now: Syn4\n"
     ]
    },
    {
     "name": "stderr",
     "output_type": "stream",
     "text": [
      "TPR mean: 0.0%  std: 0.0%\n",
      "FDR mean: 0.0%  std: 0.0%\n"
     ]
    },
    {
     "name": "stdout",
     "output_type": "stream",
     "text": [
      "[[0.55410386 0.5       ]\n",
      " [0.56749463 0.5245    ]\n",
      " [0.5417     0.5245    ]]\n",
      "rec time now 1 dataset now: Syn4\n"
     ]
    },
    {
     "name": "stderr",
     "output_type": "stream",
     "text": [
      "TPR mean: 0.0%  std: 0.0%\n",
      "FDR mean: 0.0%  std: 0.0%\n"
     ]
    },
    {
     "name": "stdout",
     "output_type": "stream",
     "text": [
      "[[0.55410386 0.5       ]\n",
      " [0.56749463 0.5245    ]\n",
      " [0.5417     0.5245    ]]\n",
      "rec time now 2 dataset now: Syn4\n"
     ]
    },
    {
     "name": "stderr",
     "output_type": "stream",
     "text": [
      "TPR mean: 0.0%  std: 0.0%\n",
      "FDR mean: 0.0%  std: 0.0%\n"
     ]
    },
    {
     "name": "stdout",
     "output_type": "stream",
     "text": [
      "[[0.55410386 0.5       ]\n",
      " [0.56749463 0.5245    ]\n",
      " [0.5417     0.5245    ]]\n",
      "rec time now 3 dataset now: Syn4\n"
     ]
    },
    {
     "name": "stderr",
     "output_type": "stream",
     "text": [
      "TPR mean: 0.0%  std: 0.0%\n",
      "FDR mean: 0.0%  std: 0.0%\n",
      "Epoch:      0, d_loss (Acc)): 0.684, v_loss (Acc): 0.045, g_loss: -1.5275\n"
     ]
    },
    {
     "name": "stdout",
     "output_type": "stream",
     "text": [
      "[[0.55410386 0.5       ]\n",
      " [0.56749463 0.5245    ]\n",
      " [0.5417     0.5245    ]]\n",
      "now at training epoch number 3500 hyp-params: lamda 1.0000 prior 0.0000\n",
      "rec time now 0 dataset now: Syn4\n"
     ]
    },
    {
     "name": "stderr",
     "output_type": "stream",
     "text": [
      "TPR mean: 0.0%  std: 0.3%\n",
      "FDR mean: 0.0%  std: 1.0%\n"
     ]
    },
    {
     "name": "stdout",
     "output_type": "stream",
     "text": [
      "[[0.55533771 0.50000984]\n",
      " [0.56911122 0.52454803]\n",
      " [0.5423     0.5244    ]]\n",
      "rec time now 1 dataset now: Syn4\n"
     ]
    },
    {
     "name": "stderr",
     "output_type": "stream",
     "text": [
      "TPR mean: 0.0%  std: 0.0%\n",
      "FDR mean: 0.0%  std: 0.0%\n"
     ]
    },
    {
     "name": "stdout",
     "output_type": "stream",
     "text": [
      "[[0.55533771 0.5       ]\n",
      " [0.56911122 0.5245    ]\n",
      " [0.5423     0.5245    ]]\n",
      "rec time now 2 dataset now: Syn4\n"
     ]
    },
    {
     "name": "stderr",
     "output_type": "stream",
     "text": [
      "TPR mean: 0.0%  std: 0.0%\n",
      "FDR mean: 0.0%  std: 0.0%\n"
     ]
    },
    {
     "name": "stdout",
     "output_type": "stream",
     "text": [
      "[[0.55533771 0.5       ]\n",
      " [0.56911122 0.5245    ]\n",
      " [0.5423     0.5245    ]]\n",
      "rec time now 3 dataset now: Syn4\n"
     ]
    },
    {
     "name": "stderr",
     "output_type": "stream",
     "text": [
      "TPR mean: 0.0%  std: 0.0%\n",
      "FDR mean: 0.0%  std: 0.0%\n",
      "Epoch:      0, d_loss (Acc)): 0.690, v_loss (Acc): 0.040, g_loss: -1.6410\n"
     ]
    },
    {
     "name": "stdout",
     "output_type": "stream",
     "text": [
      "[[0.55533771 0.5       ]\n",
      " [0.56911122 0.5245    ]\n",
      " [0.5423     0.5245    ]]\n",
      "now at training epoch number 3600 hyp-params: lamda 1.0000 prior 0.0000\n",
      "rec time now 0 dataset now: Syn4\n"
     ]
    },
    {
     "name": "stderr",
     "output_type": "stream",
     "text": [
      "TPR mean: 0.7%  std: 3.6%\n",
      "FDR mean: 0.5%  std: 6.8%\n"
     ]
    },
    {
     "name": "stdout",
     "output_type": "stream",
     "text": [
      "[[0.55252184 0.4998349 ]\n",
      " [0.56597781 0.52436019]\n",
      " [0.54       0.5215    ]]\n",
      "rec time now 1 dataset now: Syn4\n"
     ]
    },
    {
     "name": "stderr",
     "output_type": "stream",
     "text": [
      "TPR mean: 0.0%  std: 0.0%\n",
      "FDR mean: 0.0%  std: 0.0%\n"
     ]
    },
    {
     "name": "stdout",
     "output_type": "stream",
     "text": [
      "[[0.55252184 0.5       ]\n",
      " [0.56597781 0.5245    ]\n",
      " [0.54       0.5245    ]]\n",
      "rec time now 2 dataset now: Syn4\n"
     ]
    },
    {
     "name": "stderr",
     "output_type": "stream",
     "text": [
      "TPR mean: 0.0%  std: 0.0%\n",
      "FDR mean: 0.0%  std: 0.0%\n"
     ]
    },
    {
     "name": "stdout",
     "output_type": "stream",
     "text": [
      "[[0.55252184 0.5       ]\n",
      " [0.56597781 0.5245    ]\n",
      " [0.54       0.5245    ]]\n",
      "rec time now 3 dataset now: Syn4\n"
     ]
    },
    {
     "name": "stderr",
     "output_type": "stream",
     "text": [
      "TPR mean: 0.0%  std: 0.0%\n",
      "FDR mean: 0.0%  std: 0.0%\n",
      "Epoch:      0, d_loss (Acc)): 0.688, v_loss (Acc): 0.040, g_loss: -1.5088\n"
     ]
    },
    {
     "name": "stdout",
     "output_type": "stream",
     "text": [
      "[[0.55252184 0.5       ]\n",
      " [0.56597781 0.5245    ]\n",
      " [0.54       0.5245    ]]\n",
      "now at training epoch number 3700 hyp-params: lamda 1.0000 prior 0.0000\n",
      "rec time now 0 dataset now: Syn4\n"
     ]
    },
    {
     "name": "stderr",
     "output_type": "stream",
     "text": [
      "TPR mean: 1.9%  std: 5.9%\n",
      "FDR mean: 2.0%  std: 13.9%\n"
     ]
    },
    {
     "name": "stdout",
     "output_type": "stream",
     "text": [
      "[[0.55485555 0.51147044]\n",
      " [0.56791148 0.53159716]\n",
      " [0.5403     0.526     ]]\n",
      "rec time now 1 dataset now: Syn4\n"
     ]
    },
    {
     "name": "stderr",
     "output_type": "stream",
     "text": [
      "TPR mean: 0.0%  std: 0.0%\n",
      "FDR mean: 0.0%  std: 0.0%\n"
     ]
    },
    {
     "name": "stdout",
     "output_type": "stream",
     "text": [
      "[[0.55485555 0.5       ]\n",
      " [0.56791148 0.5245    ]\n",
      " [0.5403     0.5245    ]]\n",
      "rec time now 2 dataset now: Syn4\n"
     ]
    },
    {
     "name": "stderr",
     "output_type": "stream",
     "text": [
      "TPR mean: 0.0%  std: 0.0%\n",
      "FDR mean: 0.0%  std: 0.0%\n"
     ]
    },
    {
     "name": "stdout",
     "output_type": "stream",
     "text": [
      "[[0.55485555 0.5       ]\n",
      " [0.56791148 0.5245    ]\n",
      " [0.5403     0.5245    ]]\n",
      "rec time now 3 dataset now: Syn4\n"
     ]
    },
    {
     "name": "stderr",
     "output_type": "stream",
     "text": [
      "TPR mean: 0.0%  std: 0.0%\n",
      "FDR mean: 0.0%  std: 0.0%\n",
      "Epoch:      0, d_loss (Acc)): 0.681, v_loss (Acc): 0.029, g_loss: -1.5432\n"
     ]
    },
    {
     "name": "stdout",
     "output_type": "stream",
     "text": [
      "[[0.55485555 0.5       ]\n",
      " [0.56791148 0.5245    ]\n",
      " [0.5403     0.5245    ]]\n",
      "now at training epoch number 3800 hyp-params: lamda 1.0000 prior 0.0000\n",
      "rec time now 0 dataset now: Syn4\n"
     ]
    },
    {
     "name": "stderr",
     "output_type": "stream",
     "text": [
      "TPR mean: 5.1%  std: 8.7%\n",
      "FDR mean: 9.2%  std: 28.9%\n"
     ]
    },
    {
     "name": "stdout",
     "output_type": "stream",
     "text": [
      "[[0.55402209 0.54028366]\n",
      " [0.56772971 0.55342073]\n",
      " [0.5401     0.5417    ]]\n",
      "rec time now 1 dataset now: Syn4\n"
     ]
    },
    {
     "name": "stderr",
     "output_type": "stream",
     "text": [
      "TPR mean: 0.0%  std: 0.3%\n",
      "FDR mean: 0.0%  std: 0.0%\n"
     ]
    },
    {
     "name": "stdout",
     "output_type": "stream",
     "text": [
      "[[0.55402209 0.5002103 ]\n",
      " [0.56772971 0.52460492]\n",
      " [0.5401     0.5247    ]]\n",
      "rec time now 2 dataset now: Syn4\n"
     ]
    },
    {
     "name": "stderr",
     "output_type": "stream",
     "text": [
      "TPR mean: 0.0%  std: 0.3%\n",
      "FDR mean: 0.0%  std: 0.0%\n"
     ]
    },
    {
     "name": "stdout",
     "output_type": "stream",
     "text": [
      "[[0.55402209 0.5002103 ]\n",
      " [0.56772971 0.52460492]\n",
      " [0.5401     0.5247    ]]\n",
      "rec time now 3 dataset now: Syn4\n"
     ]
    },
    {
     "name": "stderr",
     "output_type": "stream",
     "text": [
      "TPR mean: 0.0%  std: 0.3%\n",
      "FDR mean: 0.0%  std: 0.0%\n",
      "Epoch:      0, d_loss (Acc)): 0.678, v_loss (Acc): 0.027, g_loss: -1.5306\n"
     ]
    },
    {
     "name": "stdout",
     "output_type": "stream",
     "text": [
      "[[0.55402209 0.5002103 ]\n",
      " [0.56772971 0.52460492]\n",
      " [0.5401     0.5247    ]]\n",
      "now at training epoch number 3900 hyp-params: lamda 1.0000 prior 0.0000\n",
      "rec time now 0 dataset now: Syn4\n"
     ]
    },
    {
     "name": "stderr",
     "output_type": "stream",
     "text": [
      "TPR mean: 3.3%  std: 7.4%\n",
      "FDR mean: 4.0%  std: 19.5%\n"
     ]
    },
    {
     "name": "stdout",
     "output_type": "stream",
     "text": [
      "[[0.55399061 0.52304786]\n",
      " [0.56805394 0.53918057]\n",
      " [0.5397     0.5307    ]]\n",
      "rec time now 1 dataset now: Syn4\n"
     ]
    },
    {
     "name": "stderr",
     "output_type": "stream",
     "text": [
      "TPR mean: 0.0%  std: 0.0%\n",
      "FDR mean: 0.0%  std: 0.0%\n"
     ]
    },
    {
     "name": "stdout",
     "output_type": "stream",
     "text": [
      "[[0.55399061 0.5       ]\n",
      " [0.56805394 0.5245    ]\n",
      " [0.5397     0.5245    ]]\n",
      "rec time now 2 dataset now: Syn4\n"
     ]
    },
    {
     "name": "stderr",
     "output_type": "stream",
     "text": [
      "TPR mean: 0.0%  std: 0.0%\n",
      "FDR mean: 0.0%  std: 0.0%\n"
     ]
    },
    {
     "name": "stdout",
     "output_type": "stream",
     "text": [
      "[[0.55399061 0.5       ]\n",
      " [0.56805394 0.5245    ]\n",
      " [0.5397     0.5245    ]]\n",
      "rec time now 3 dataset now: Syn4\n"
     ]
    },
    {
     "name": "stderr",
     "output_type": "stream",
     "text": [
      "TPR mean: 0.0%  std: 0.0%\n",
      "FDR mean: 0.0%  std: 0.0%\n",
      "Epoch:      0, d_loss (Acc)): 0.677, v_loss (Acc): 0.025, g_loss: -1.5299\n"
     ]
    },
    {
     "name": "stdout",
     "output_type": "stream",
     "text": [
      "[[0.55399061 0.5       ]\n",
      " [0.56805394 0.5245    ]\n",
      " [0.5397     0.5245    ]]\n",
      "now at training epoch number 4000 hyp-params: lamda 1.0000 prior 0.0000\n",
      "rec time now 0 dataset now: Syn4\n"
     ]
    },
    {
     "name": "stderr",
     "output_type": "stream",
     "text": [
      "TPR mean: 7.8%  std: 9.8%\n",
      "FDR mean: 23.0%  std: 42.1%\n"
     ]
    },
    {
     "name": "stdout",
     "output_type": "stream",
     "text": [
      "[[0.55373406 0.55589468]\n",
      " [0.56743642 0.56207485]\n",
      " [0.5397     0.5494    ]]\n",
      "rec time now 1 dataset now: Syn4\n"
     ]
    },
    {
     "name": "stderr",
     "output_type": "stream",
     "text": [
      "TPR mean: 7.8%  std: 9.8%\n",
      "FDR mean: 23.0%  std: 42.1%\n"
     ]
    },
    {
     "name": "stdout",
     "output_type": "stream",
     "text": [
      "[[0.55373406 0.55595892]\n",
      " [0.56743642 0.56233147]\n",
      " [0.5397     0.5494    ]]\n",
      "rec time now 2 dataset now: Syn4\n"
     ]
    },
    {
     "name": "stderr",
     "output_type": "stream",
     "text": [
      "TPR mean: 7.8%  std: 9.8%\n",
      "FDR mean: 23.0%  std: 42.1%\n"
     ]
    },
    {
     "name": "stdout",
     "output_type": "stream",
     "text": [
      "[[0.55373406 0.55595892]\n",
      " [0.56743642 0.56233147]\n",
      " [0.5397     0.5494    ]]\n",
      "rec time now 3 dataset now: Syn4\n"
     ]
    },
    {
     "name": "stderr",
     "output_type": "stream",
     "text": [
      "TPR mean: 7.8%  std: 9.8%\n",
      "FDR mean: 23.0%  std: 42.1%\n",
      "Epoch:      0, d_loss (Acc)): 0.674, v_loss (Acc): 0.023, g_loss: -1.4786\n"
     ]
    },
    {
     "name": "stdout",
     "output_type": "stream",
     "text": [
      "[[0.55373406 0.55595892]\n",
      " [0.56743642 0.56233147]\n",
      " [0.5397     0.5494    ]]\n",
      "now at training epoch number 4100 hyp-params: lamda 1.0000 prior 0.0000\n",
      "rec time now 0 dataset now: Syn4\n"
     ]
    },
    {
     "name": "stderr",
     "output_type": "stream",
     "text": [
      "TPR mean: 9.4%  std: 10.0%\n",
      "FDR mean: 39.3%  std: 48.8%\n"
     ]
    },
    {
     "name": "stdout",
     "output_type": "stream",
     "text": [
      "[[0.55314644 0.56727148]\n",
      " [0.56704457 0.56571284]\n",
      " [0.5415     0.5621    ]]\n",
      "rec time now 1 dataset now: Syn4\n"
     ]
    },
    {
     "name": "stderr",
     "output_type": "stream",
     "text": [
      "TPR mean: 9.4%  std: 10.0%\n",
      "FDR mean: 39.3%  std: 48.8%\n"
     ]
    },
    {
     "name": "stdout",
     "output_type": "stream",
     "text": [
      "[[0.55314644 0.56727148]\n",
      " [0.56704457 0.56571284]\n",
      " [0.5415     0.5621    ]]\n",
      "rec time now 2 dataset now: Syn4\n"
     ]
    },
    {
     "name": "stderr",
     "output_type": "stream",
     "text": [
      "TPR mean: 9.4%  std: 10.0%\n",
      "FDR mean: 39.3%  std: 48.8%\n"
     ]
    },
    {
     "name": "stdout",
     "output_type": "stream",
     "text": [
      "[[0.55314644 0.56727148]\n",
      " [0.56704457 0.56571284]\n",
      " [0.5415     0.5621    ]]\n",
      "rec time now 3 dataset now: Syn4\n"
     ]
    },
    {
     "name": "stderr",
     "output_type": "stream",
     "text": [
      "TPR mean: 9.4%  std: 10.0%\n",
      "FDR mean: 39.3%  std: 48.8%\n",
      "Epoch:      0, d_loss (Acc)): 0.679, v_loss (Acc): 0.023, g_loss: -1.5303\n"
     ]
    },
    {
     "name": "stdout",
     "output_type": "stream",
     "text": [
      "[[0.55314644 0.56727148]\n",
      " [0.56704457 0.56571284]\n",
      " [0.5415     0.5621    ]]\n",
      "now at training epoch number 4200 hyp-params: lamda 1.0000 prior 0.0000\n",
      "rec time now 0 dataset now: Syn4\n"
     ]
    },
    {
     "name": "stderr",
     "output_type": "stream",
     "text": [
      "TPR mean: 9.8%  std: 10.0%\n",
      "FDR mean: 46.1%  std: 49.8%\n"
     ]
    },
    {
     "name": "stdout",
     "output_type": "stream",
     "text": [
      "[[0.5537186  0.55953017]\n",
      " [0.56735045 0.55915031]\n",
      " [0.5392     0.5548    ]]\n",
      "rec time now 1 dataset now: Syn4\n"
     ]
    },
    {
     "name": "stderr",
     "output_type": "stream",
     "text": [
      "TPR mean: 9.8%  std: 10.0%\n",
      "FDR mean: 46.1%  std: 49.8%\n"
     ]
    },
    {
     "name": "stdout",
     "output_type": "stream",
     "text": [
      "[[0.5537186  0.55953017]\n",
      " [0.56735045 0.55915031]\n",
      " [0.5392     0.5548    ]]\n",
      "rec time now 2 dataset now: Syn4\n"
     ]
    },
    {
     "name": "stderr",
     "output_type": "stream",
     "text": [
      "TPR mean: 9.8%  std: 10.0%\n",
      "FDR mean: 46.1%  std: 49.8%\n"
     ]
    },
    {
     "name": "stdout",
     "output_type": "stream",
     "text": [
      "[[0.5537186  0.55953017]\n",
      " [0.56735045 0.55915031]\n",
      " [0.5392     0.5548    ]]\n",
      "rec time now 3 dataset now: Syn4\n"
     ]
    },
    {
     "name": "stderr",
     "output_type": "stream",
     "text": [
      "TPR mean: 9.8%  std: 10.0%\n",
      "FDR mean: 46.1%  std: 49.8%\n",
      "Epoch:      0, d_loss (Acc)): 0.681, v_loss (Acc): 0.017, g_loss: -1.4652\n"
     ]
    },
    {
     "name": "stdout",
     "output_type": "stream",
     "text": [
      "[[0.5537186  0.55953017]\n",
      " [0.56735045 0.55915031]\n",
      " [0.5392     0.5548    ]]\n",
      "now at training epoch number 4300 hyp-params: lamda 1.0000 prior 0.0000\n",
      "rec time now 0 dataset now: Syn4\n"
     ]
    },
    {
     "name": "stderr",
     "output_type": "stream",
     "text": [
      "TPR mean: 9.9%  std: 10.0%\n",
      "FDR mean: 50.0%  std: 50.0%\n"
     ]
    },
    {
     "name": "stdout",
     "output_type": "stream",
     "text": [
      "[[0.55410575 0.553971  ]\n",
      " [0.56818875 0.55459147]\n",
      " [0.5406     0.5556    ]]\n",
      "rec time now 1 dataset now: Syn4\n"
     ]
    },
    {
     "name": "stderr",
     "output_type": "stream",
     "text": [
      "TPR mean: 9.9%  std: 10.0%\n",
      "FDR mean: 50.0%  std: 50.0%\n"
     ]
    },
    {
     "name": "stdout",
     "output_type": "stream",
     "text": [
      "[[0.55410575 0.553971  ]\n",
      " [0.56818875 0.55459147]\n",
      " [0.5406     0.5556    ]]\n",
      "rec time now 2 dataset now: Syn4\n"
     ]
    },
    {
     "name": "stderr",
     "output_type": "stream",
     "text": [
      "TPR mean: 9.9%  std: 10.0%\n",
      "FDR mean: 50.0%  std: 50.0%\n"
     ]
    },
    {
     "name": "stdout",
     "output_type": "stream",
     "text": [
      "[[0.55410575 0.553971  ]\n",
      " [0.56818875 0.55459147]\n",
      " [0.5406     0.5556    ]]\n",
      "rec time now 3 dataset now: Syn4\n"
     ]
    },
    {
     "name": "stderr",
     "output_type": "stream",
     "text": [
      "TPR mean: 9.9%  std: 10.0%\n",
      "FDR mean: 50.0%  std: 50.0%\n",
      "Epoch:      0, d_loss (Acc)): 0.682, v_loss (Acc): 0.017, g_loss: -1.3704\n"
     ]
    },
    {
     "name": "stdout",
     "output_type": "stream",
     "text": [
      "[[0.55410575 0.553971  ]\n",
      " [0.56818875 0.55459147]\n",
      " [0.5406     0.5556    ]]\n",
      "now at training epoch number 4400 hyp-params: lamda 1.0000 prior 0.0000\n",
      "rec time now 0 dataset now: Syn4\n"
     ]
    },
    {
     "name": "stderr",
     "output_type": "stream",
     "text": [
      "TPR mean: 9.9%  std: 10.0%\n",
      "FDR mean: 49.5%  std: 50.0%\n"
     ]
    },
    {
     "name": "stdout",
     "output_type": "stream",
     "text": [
      "[[0.55274606 0.56236871]\n",
      " [0.56716264 0.55948586]\n",
      " [0.5371     0.5622    ]]\n",
      "rec time now 1 dataset now: Syn4\n"
     ]
    },
    {
     "name": "stderr",
     "output_type": "stream",
     "text": [
      "TPR mean: 9.9%  std: 10.0%\n",
      "FDR mean: 49.5%  std: 50.0%\n"
     ]
    },
    {
     "name": "stdout",
     "output_type": "stream",
     "text": [
      "[[0.55274606 0.56224641]\n",
      " [0.56716264 0.55883822]\n",
      " [0.5371     0.5629    ]]\n",
      "rec time now 2 dataset now: Syn4\n"
     ]
    },
    {
     "name": "stderr",
     "output_type": "stream",
     "text": [
      "TPR mean: 9.9%  std: 10.0%\n",
      "FDR mean: 49.5%  std: 50.0%\n"
     ]
    },
    {
     "name": "stdout",
     "output_type": "stream",
     "text": [
      "[[0.55274606 0.56224641]\n",
      " [0.56716264 0.55883822]\n",
      " [0.5371     0.5629    ]]\n",
      "rec time now 3 dataset now: Syn4\n"
     ]
    },
    {
     "name": "stderr",
     "output_type": "stream",
     "text": [
      "TPR mean: 9.9%  std: 10.0%\n",
      "FDR mean: 49.5%  std: 50.0%\n",
      "Epoch:      0, d_loss (Acc)): 0.673, v_loss (Acc): 0.015, g_loss: -1.3763\n"
     ]
    },
    {
     "name": "stdout",
     "output_type": "stream",
     "text": [
      "[[0.55274606 0.56224641]\n",
      " [0.56716264 0.55883822]\n",
      " [0.5371     0.5629    ]]\n",
      "now at training epoch number 4500 hyp-params: lamda 1.0000 prior 0.0000\n",
      "rec time now 0 dataset now: Syn4\n"
     ]
    },
    {
     "name": "stderr",
     "output_type": "stream",
     "text": [
      "TPR mean: 9.8%  std: 10.0%\n",
      "FDR mean: 46.9%  std: 49.9%\n"
     ]
    },
    {
     "name": "stdout",
     "output_type": "stream",
     "text": [
      "[[0.55351615 0.56576518]\n",
      " [0.56760411 0.56359518]\n",
      " [0.5384     0.5623    ]]\n",
      "rec time now 1 dataset now: Syn4\n"
     ]
    },
    {
     "name": "stderr",
     "output_type": "stream",
     "text": [
      "TPR mean: 9.8%  std: 10.0%\n",
      "FDR mean: 46.9%  std: 49.9%\n"
     ]
    },
    {
     "name": "stdout",
     "output_type": "stream",
     "text": [
      "[[0.55351615 0.56558509]\n",
      " [0.56760411 0.56350327]\n",
      " [0.5384     0.562     ]]\n",
      "rec time now 2 dataset now: Syn4\n"
     ]
    },
    {
     "name": "stderr",
     "output_type": "stream",
     "text": [
      "TPR mean: 9.8%  std: 10.0%\n",
      "FDR mean: 46.9%  std: 49.9%\n"
     ]
    },
    {
     "name": "stdout",
     "output_type": "stream",
     "text": [
      "[[0.55351615 0.56558509]\n",
      " [0.56760411 0.56350327]\n",
      " [0.5384     0.562     ]]\n",
      "rec time now 3 dataset now: Syn4\n"
     ]
    },
    {
     "name": "stderr",
     "output_type": "stream",
     "text": [
      "TPR mean: 9.8%  std: 10.0%\n",
      "FDR mean: 46.9%  std: 49.9%\n",
      "Epoch:      0, d_loss (Acc)): 0.677, v_loss (Acc): 0.015, g_loss: -1.4497\n"
     ]
    },
    {
     "name": "stdout",
     "output_type": "stream",
     "text": [
      "[[0.55351615 0.56558509]\n",
      " [0.56760411 0.56350327]\n",
      " [0.5384     0.562     ]]\n",
      "now at training epoch number 4600 hyp-params: lamda 1.0000 prior 0.0000\n",
      "rec time now 0 dataset now: Syn4\n"
     ]
    },
    {
     "name": "stderr",
     "output_type": "stream",
     "text": [
      "TPR mean: 9.8%  std: 10.0%\n",
      "FDR mean: 46.9%  std: 49.9%\n"
     ]
    },
    {
     "name": "stdout",
     "output_type": "stream",
     "text": [
      "[[0.55430364 0.56395071]\n",
      " [0.56843938 0.56241782]\n",
      " [0.5406     0.5617    ]]\n",
      "rec time now 1 dataset now: Syn4\n"
     ]
    },
    {
     "name": "stderr",
     "output_type": "stream",
     "text": [
      "TPR mean: 9.8%  std: 10.0%\n",
      "FDR mean: 46.9%  std: 49.9%\n"
     ]
    },
    {
     "name": "stdout",
     "output_type": "stream",
     "text": [
      "[[0.55430364 0.56403346]\n",
      " [0.56843938 0.56245911]\n",
      " [0.5406     0.5611    ]]\n",
      "rec time now 2 dataset now: Syn4\n"
     ]
    },
    {
     "name": "stderr",
     "output_type": "stream",
     "text": [
      "TPR mean: 9.8%  std: 10.0%\n",
      "FDR mean: 46.9%  std: 49.9%\n"
     ]
    },
    {
     "name": "stdout",
     "output_type": "stream",
     "text": [
      "[[0.55430364 0.56403346]\n",
      " [0.56843938 0.56245911]\n",
      " [0.5406     0.5611    ]]\n",
      "rec time now 3 dataset now: Syn4\n"
     ]
    },
    {
     "name": "stderr",
     "output_type": "stream",
     "text": [
      "TPR mean: 9.8%  std: 10.0%\n",
      "FDR mean: 46.9%  std: 49.9%\n",
      "Epoch:      0, d_loss (Acc)): 0.676, v_loss (Acc): 0.010, g_loss: -1.4470\n"
     ]
    },
    {
     "name": "stdout",
     "output_type": "stream",
     "text": [
      "[[0.55430364 0.56403346]\n",
      " [0.56843938 0.56245911]\n",
      " [0.5406     0.5611    ]]\n",
      "now at training epoch number 4700 hyp-params: lamda 1.0000 prior 0.0000\n",
      "rec time now 0 dataset now: Syn4\n"
     ]
    },
    {
     "name": "stderr",
     "output_type": "stream",
     "text": [
      "TPR mean: 9.9%  std: 10.1%\n",
      "FDR mean: 48.0%  std: 50.0%\n"
     ]
    },
    {
     "name": "stdout",
     "output_type": "stream",
     "text": [
      "[[0.55318357 0.56339778]\n",
      " [0.56764433 0.56110784]\n",
      " [0.5379     0.5612    ]]\n",
      "rec time now 1 dataset now: Syn4\n"
     ]
    },
    {
     "name": "stderr",
     "output_type": "stream",
     "text": [
      "TPR mean: 9.8%  std: 10.0%\n",
      "FDR mean: 48.0%  std: 50.0%\n"
     ]
    },
    {
     "name": "stdout",
     "output_type": "stream",
     "text": [
      "[[0.55318357 0.56324758]\n",
      " [0.56764433 0.56149847]\n",
      " [0.5379     0.5616    ]]\n",
      "rec time now 2 dataset now: Syn4\n"
     ]
    },
    {
     "name": "stderr",
     "output_type": "stream",
     "text": [
      "TPR mean: 9.8%  std: 10.0%\n",
      "FDR mean: 48.0%  std: 50.0%\n"
     ]
    },
    {
     "name": "stdout",
     "output_type": "stream",
     "text": [
      "[[0.55318357 0.56324758]\n",
      " [0.56764433 0.56149847]\n",
      " [0.5379     0.5616    ]]\n",
      "rec time now 3 dataset now: Syn4\n"
     ]
    },
    {
     "name": "stderr",
     "output_type": "stream",
     "text": [
      "TPR mean: 9.8%  std: 10.0%\n",
      "FDR mean: 48.0%  std: 50.0%\n",
      "Epoch:      0, d_loss (Acc)): 0.661, v_loss (Acc): 0.011, g_loss: -1.4207\n"
     ]
    },
    {
     "name": "stdout",
     "output_type": "stream",
     "text": [
      "[[0.55318357 0.56324758]\n",
      " [0.56764433 0.56149847]\n",
      " [0.5379     0.5616    ]]\n",
      "now at training epoch number 4800 hyp-params: lamda 1.0000 prior 0.0000\n",
      "rec time now 0 dataset now: Syn4\n"
     ]
    },
    {
     "name": "stderr",
     "output_type": "stream",
     "text": [
      "TPR mean: 10.2%  std: 10.5%\n",
      "FDR mean: 49.4%  std: 50.0%\n"
     ]
    },
    {
     "name": "stdout",
     "output_type": "stream",
     "text": [
      "[[0.55355204 0.5619248 ]\n",
      " [0.56683619 0.56088261]\n",
      " [0.5394     0.5619    ]]\n",
      "rec time now 1 dataset now: Syn4\n"
     ]
    },
    {
     "name": "stderr",
     "output_type": "stream",
     "text": [
      "TPR mean: 9.9%  std: 10.0%\n",
      "FDR mean: 49.4%  std: 50.0%\n"
     ]
    },
    {
     "name": "stdout",
     "output_type": "stream",
     "text": [
      "[[0.55355204 0.56146853]\n",
      " [0.56683619 0.56020403]\n",
      " [0.5394     0.5611    ]]\n",
      "rec time now 2 dataset now: Syn4\n"
     ]
    },
    {
     "name": "stderr",
     "output_type": "stream",
     "text": [
      "TPR mean: 9.9%  std: 10.0%\n",
      "FDR mean: 49.4%  std: 50.0%\n"
     ]
    },
    {
     "name": "stdout",
     "output_type": "stream",
     "text": [
      "[[0.55355204 0.56146853]\n",
      " [0.56683619 0.56020403]\n",
      " [0.5394     0.5611    ]]\n",
      "rec time now 3 dataset now: Syn4\n"
     ]
    },
    {
     "name": "stderr",
     "output_type": "stream",
     "text": [
      "TPR mean: 9.9%  std: 10.0%\n",
      "FDR mean: 49.4%  std: 50.0%\n",
      "Epoch:      0, d_loss (Acc)): 0.676, v_loss (Acc): 0.012, g_loss: -1.5002\n"
     ]
    },
    {
     "name": "stdout",
     "output_type": "stream",
     "text": [
      "[[0.55355204 0.56146853]\n",
      " [0.56683619 0.56020403]\n",
      " [0.5394     0.5611    ]]\n",
      "now at training epoch number 4900 hyp-params: lamda 1.0000 prior 0.0000\n",
      "rec time now 0 dataset now: Syn4\n"
     ]
    },
    {
     "name": "stderr",
     "output_type": "stream",
     "text": [
      "TPR mean: 11.2%  std: 12.4%\n",
      "FDR mean: 49.4%  std: 50.0%\n"
     ]
    },
    {
     "name": "stdout",
     "output_type": "stream",
     "text": [
      "[[0.55312706 0.56344603]\n",
      " [0.56685747 0.56340672]\n",
      " [0.5399     0.5668    ]]\n",
      "rec time now 1 dataset now: Syn4\n"
     ]
    },
    {
     "name": "stderr",
     "output_type": "stream",
     "text": [
      "TPR mean: 9.9%  std: 10.0%\n",
      "FDR mean: 49.4%  std: 50.0%\n"
     ]
    },
    {
     "name": "stdout",
     "output_type": "stream",
     "text": [
      "[[0.55312706 0.56173539]\n",
      " [0.56685747 0.55972754]\n",
      " [0.5399     0.5614    ]]\n",
      "rec time now 2 dataset now: Syn4\n"
     ]
    },
    {
     "name": "stderr",
     "output_type": "stream",
     "text": [
      "TPR mean: 9.9%  std: 10.0%\n",
      "FDR mean: 49.4%  std: 50.0%\n"
     ]
    },
    {
     "name": "stdout",
     "output_type": "stream",
     "text": [
      "[[0.55312706 0.56173539]\n",
      " [0.56685747 0.55972754]\n",
      " [0.5399     0.5614    ]]\n",
      "rec time now 3 dataset now: Syn4\n"
     ]
    },
    {
     "name": "stderr",
     "output_type": "stream",
     "text": [
      "TPR mean: 9.9%  std: 10.0%\n",
      "FDR mean: 49.4%  std: 50.0%\n",
      "Epoch:      0, d_loss (Acc)): 0.666, v_loss (Acc): 0.011, g_loss: -1.5727\n"
     ]
    },
    {
     "name": "stdout",
     "output_type": "stream",
     "text": [
      "[[0.55312706 0.56173539]\n",
      " [0.56685747 0.55972754]\n",
      " [0.5399     0.5614    ]]\n",
      "now at training epoch number 5000 hyp-params: lamda 1.0000 prior 0.0000\n",
      "rec time now 0 dataset now: Syn4\n"
     ]
    },
    {
     "name": "stderr",
     "output_type": "stream",
     "text": [
      "TPR mean: 15.8%  std: 17.5%\n",
      "FDR mean: 47.7%  std: 49.9%\n"
     ]
    },
    {
     "name": "stdout",
     "output_type": "stream",
     "text": [
      "[[0.55309306 0.59071741]\n",
      " [0.56721547 0.59291481]\n",
      " [0.5384     0.5818    ]]\n",
      "rec time now 1 dataset now: Syn4\n"
     ]
    },
    {
     "name": "stderr",
     "output_type": "stream",
     "text": [
      "TPR mean: 9.9%  std: 10.0%\n",
      "FDR mean: 47.7%  std: 49.9%\n"
     ]
    },
    {
     "name": "stdout",
     "output_type": "stream",
     "text": [
      "[[0.55309306 0.5630321 ]\n",
      " [0.56721547 0.56089552]\n",
      " [0.5384     0.5618    ]]\n",
      "rec time now 2 dataset now: Syn4\n"
     ]
    },
    {
     "name": "stderr",
     "output_type": "stream",
     "text": [
      "TPR mean: 9.9%  std: 10.0%\n",
      "FDR mean: 47.7%  std: 49.9%\n"
     ]
    },
    {
     "name": "stdout",
     "output_type": "stream",
     "text": [
      "[[0.55309306 0.5630321 ]\n",
      " [0.56721547 0.56089552]\n",
      " [0.5384     0.5618    ]]\n",
      "rec time now 3 dataset now: Syn4\n"
     ]
    },
    {
     "name": "stderr",
     "output_type": "stream",
     "text": [
      "TPR mean: 9.9%  std: 10.0%\n",
      "FDR mean: 47.7%  std: 49.9%\n",
      "Epoch:      0, d_loss (Acc)): 0.669, v_loss (Acc): 0.010, g_loss: -1.5223\n"
     ]
    },
    {
     "name": "stdout",
     "output_type": "stream",
     "text": [
      "[[0.55309306 0.5630321 ]\n",
      " [0.56721547 0.56089552]\n",
      " [0.5384     0.5618    ]]\n",
      "now at training epoch number 5100 hyp-params: lamda 1.0000 prior 0.0000\n",
      "rec time now 0 dataset now: Syn4\n"
     ]
    },
    {
     "name": "stderr",
     "output_type": "stream",
     "text": [
      "TPR mean: 16.4%  std: 18.0%\n",
      "FDR mean: 47.8%  std: 50.0%\n"
     ]
    },
    {
     "name": "stdout",
     "output_type": "stream",
     "text": [
      "[[0.5531616  0.59419649]\n",
      " [0.56765319 0.59461852]\n",
      " [0.5396     0.5849    ]]\n",
      "rec time now 1 dataset now: Syn4\n"
     ]
    },
    {
     "name": "stderr",
     "output_type": "stream",
     "text": [
      "TPR mean: 10.0%  std: 10.3%\n",
      "FDR mean: 47.8%  std: 50.0%\n"
     ]
    },
    {
     "name": "stdout",
     "output_type": "stream",
     "text": [
      "[[0.5531616  0.56493357]\n",
      " [0.56765319 0.56171822]\n",
      " [0.5396     0.561     ]]\n",
      "rec time now 2 dataset now: Syn4\n"
     ]
    },
    {
     "name": "stderr",
     "output_type": "stream",
     "text": [
      "TPR mean: 10.0%  std: 10.3%\n",
      "FDR mean: 47.8%  std: 50.0%\n"
     ]
    },
    {
     "name": "stdout",
     "output_type": "stream",
     "text": [
      "[[0.5531616  0.56477881]\n",
      " [0.56765319 0.56166563]\n",
      " [0.5396     0.5608    ]]\n",
      "rec time now 3 dataset now: Syn4\n"
     ]
    },
    {
     "name": "stderr",
     "output_type": "stream",
     "text": [
      "TPR mean: 10.0%  std: 10.3%\n",
      "FDR mean: 47.8%  std: 50.0%\n",
      "Epoch:      0, d_loss (Acc)): 0.661, v_loss (Acc): 0.008, g_loss: -1.6051\n"
     ]
    },
    {
     "name": "stdout",
     "output_type": "stream",
     "text": [
      "[[0.5531616  0.56477881]\n",
      " [0.56765319 0.56166563]\n",
      " [0.5396     0.5608    ]]\n",
      "now at training epoch number 5200 hyp-params: lamda 1.0000 prior 0.0000\n",
      "rec time now 0 dataset now: Syn4\n"
     ]
    },
    {
     "name": "stderr",
     "output_type": "stream",
     "text": [
      "TPR mean: 17.7%  std: 19.0%\n",
      "FDR mean: 46.3%  std: 49.9%\n"
     ]
    },
    {
     "name": "stdout",
     "output_type": "stream",
     "text": [
      "[[0.5527016  0.60620446]\n",
      " [0.56648164 0.60189696]\n",
      " [0.5391     0.5902    ]]\n",
      "rec time now 1 dataset now: Syn4\n"
     ]
    },
    {
     "name": "stderr",
     "output_type": "stream",
     "text": [
      "TPR mean: 17.6%  std: 18.8%\n",
      "FDR mean: 46.3%  std: 49.9%\n"
     ]
    },
    {
     "name": "stdout",
     "output_type": "stream",
     "text": [
      "[[0.5527016  0.60627086]\n",
      " [0.56648164 0.60202496]\n",
      " [0.5391     0.59      ]]\n",
      "rec time now 2 dataset now: Syn4\n"
     ]
    },
    {
     "name": "stderr",
     "output_type": "stream",
     "text": [
      "TPR mean: 17.6%  std: 18.8%\n",
      "FDR mean: 46.3%  std: 49.9%\n"
     ]
    },
    {
     "name": "stdout",
     "output_type": "stream",
     "text": [
      "[[0.5527016  0.60627086]\n",
      " [0.56648164 0.60202496]\n",
      " [0.5391     0.59      ]]\n",
      "rec time now 3 dataset now: Syn4\n"
     ]
    },
    {
     "name": "stderr",
     "output_type": "stream",
     "text": [
      "TPR mean: 17.6%  std: 18.8%\n",
      "FDR mean: 46.3%  std: 49.9%\n",
      "Epoch:      0, d_loss (Acc)): 0.665, v_loss (Acc): 0.007, g_loss: -1.6292\n"
     ]
    },
    {
     "name": "stdout",
     "output_type": "stream",
     "text": [
      "[[0.5527016  0.60627086]\n",
      " [0.56648164 0.60202496]\n",
      " [0.5391     0.59      ]]\n",
      "now at training epoch number 5300 hyp-params: lamda 1.0000 prior 0.0000\n",
      "rec time now 0 dataset now: Syn4\n"
     ]
    },
    {
     "name": "stderr",
     "output_type": "stream",
     "text": [
      "TPR mean: 17.0%  std: 18.5%\n",
      "FDR mean: 44.2%  std: 49.7%\n"
     ]
    },
    {
     "name": "stdout",
     "output_type": "stream",
     "text": [
      "[[0.55287916 0.6086723 ]\n",
      " [0.56713307 0.60531995]\n",
      " [0.5402     0.5925    ]]\n",
      "rec time now 1 dataset now: Syn4\n"
     ]
    },
    {
     "name": "stderr",
     "output_type": "stream",
     "text": [
      "TPR mean: 12.7%  std: 14.4%\n",
      "FDR mean: 44.2%  std: 49.7%\n"
     ]
    },
    {
     "name": "stdout",
     "output_type": "stream",
     "text": [
      "[[0.55287916 0.58099302]\n",
      " [0.56713307 0.58028814]\n",
      " [0.5402     0.5762    ]]\n",
      "rec time now 2 dataset now: Syn4\n"
     ]
    },
    {
     "name": "stderr",
     "output_type": "stream",
     "text": [
      "TPR mean: 12.7%  std: 14.4%\n",
      "FDR mean: 44.2%  std: 49.7%\n"
     ]
    },
    {
     "name": "stdout",
     "output_type": "stream",
     "text": [
      "[[0.55287916 0.58095678]\n",
      " [0.56713307 0.58023318]\n",
      " [0.5402     0.5761    ]]\n",
      "rec time now 3 dataset now: Syn4\n"
     ]
    },
    {
     "name": "stderr",
     "output_type": "stream",
     "text": [
      "TPR mean: 12.7%  std: 14.4%\n",
      "FDR mean: 44.2%  std: 49.7%\n",
      "Epoch:      0, d_loss (Acc)): 0.657, v_loss (Acc): 0.006, g_loss: -1.5555\n"
     ]
    },
    {
     "name": "stdout",
     "output_type": "stream",
     "text": [
      "[[0.55287916 0.58095678]\n",
      " [0.56713307 0.58023318]\n",
      " [0.5402     0.5761    ]]\n",
      "now at training epoch number 5400 hyp-params: lamda 1.0000 prior 0.0000\n",
      "rec time now 0 dataset now: Syn4\n"
     ]
    },
    {
     "name": "stderr",
     "output_type": "stream",
     "text": [
      "TPR mean: 19.1%  std: 21.5%\n",
      "FDR mean: 41.5%  std: 49.3%\n"
     ]
    },
    {
     "name": "stdout",
     "output_type": "stream",
     "text": [
      "[[0.55223159 0.61582437]\n",
      " [0.56717967 0.61326839]\n",
      " [0.5378     0.5956    ]]\n",
      "rec time now 1 dataset now: Syn4\n"
     ]
    },
    {
     "name": "stderr",
     "output_type": "stream",
     "text": [
      "TPR mean: 16.9%  std: 18.3%\n",
      "FDR mean: 41.5%  std: 49.3%\n"
     ]
    },
    {
     "name": "stdout",
     "output_type": "stream",
     "text": [
      "[[0.55223159 0.58901685]\n",
      " [0.56717967 0.59080595]\n",
      " [0.5378     0.5793    ]]\n",
      "rec time now 2 dataset now: Syn4\n"
     ]
    },
    {
     "name": "stderr",
     "output_type": "stream",
     "text": [
      "TPR mean: 16.8%  std: 18.3%\n",
      "FDR mean: 41.5%  std: 49.3%\n"
     ]
    },
    {
     "name": "stdout",
     "output_type": "stream",
     "text": [
      "[[0.55223159 0.58692821]\n",
      " [0.56717967 0.58948896]\n",
      " [0.5378     0.5773    ]]\n",
      "rec time now 3 dataset now: Syn4\n"
     ]
    },
    {
     "name": "stderr",
     "output_type": "stream",
     "text": [
      "TPR mean: 16.8%  std: 18.3%\n",
      "FDR mean: 41.5%  std: 49.3%\n",
      "Epoch:      0, d_loss (Acc)): 0.667, v_loss (Acc): 0.006, g_loss: -1.6069\n"
     ]
    },
    {
     "name": "stdout",
     "output_type": "stream",
     "text": [
      "[[0.55223159 0.58692821]\n",
      " [0.56717967 0.58948896]\n",
      " [0.5378     0.5773    ]]\n",
      "now at training epoch number 5500 hyp-params: lamda 1.0000 prior 0.0000\n",
      "rec time now 0 dataset now: Syn4\n"
     ]
    },
    {
     "name": "stderr",
     "output_type": "stream",
     "text": [
      "TPR mean: 21.6%  std: 23.9%\n",
      "FDR mean: 36.2%  std: 48.1%\n"
     ]
    },
    {
     "name": "stdout",
     "output_type": "stream",
     "text": [
      "[[0.55246946 0.61580725]\n",
      " [0.56673107 0.59845413]\n",
      " [0.5386     0.5929    ]]\n",
      "rec time now 1 dataset now: Syn4\n"
     ]
    },
    {
     "name": "stderr",
     "output_type": "stream",
     "text": [
      "TPR mean: 18.4%  std: 19.5%\n",
      "FDR mean: 36.2%  std: 48.1%\n"
     ]
    },
    {
     "name": "stdout",
     "output_type": "stream",
     "text": [
      "[[0.55246946 0.60884121]\n",
      " [0.56673107 0.59569422]\n",
      " [0.5386     0.5854    ]]\n",
      "rec time now 2 dataset now: Syn4\n"
     ]
    },
    {
     "name": "stderr",
     "output_type": "stream",
     "text": [
      "TPR mean: 18.4%  std: 19.5%\n",
      "FDR mean: 36.2%  std: 48.1%\n"
     ]
    },
    {
     "name": "stdout",
     "output_type": "stream",
     "text": [
      "[[0.55246946 0.60884121]\n",
      " [0.56673107 0.59569422]\n",
      " [0.5386     0.5854    ]]\n",
      "rec time now 3 dataset now: Syn4\n"
     ]
    },
    {
     "name": "stderr",
     "output_type": "stream",
     "text": [
      "TPR mean: 18.4%  std: 19.5%\n",
      "FDR mean: 36.2%  std: 48.1%\n",
      "Epoch:      0, d_loss (Acc)): 0.655, v_loss (Acc): 0.004, g_loss: -1.6692\n"
     ]
    },
    {
     "name": "stdout",
     "output_type": "stream",
     "text": [
      "[[0.55246946 0.60884121]\n",
      " [0.56673107 0.59569422]\n",
      " [0.5386     0.5854    ]]\n",
      "now at training epoch number 5600 hyp-params: lamda 1.0000 prior 0.0000\n",
      "rec time now 0 dataset now: Syn4\n"
     ]
    },
    {
     "name": "stderr",
     "output_type": "stream",
     "text": [
      "TPR mean: 25.0%  std: 27.4%\n",
      "FDR mean: 33.7%  std: 47.3%\n"
     ]
    },
    {
     "name": "stdout",
     "output_type": "stream",
     "text": [
      "[[0.55258153 0.6273893 ]\n",
      " [0.5671049  0.61570114]\n",
      " [0.5369     0.6023    ]]\n",
      "rec time now 1 dataset now: Syn4\n"
     ]
    },
    {
     "name": "stderr",
     "output_type": "stream",
     "text": [
      "TPR mean: 18.4%  std: 19.5%\n",
      "FDR mean: 33.6%  std: 47.2%\n"
     ]
    },
    {
     "name": "stdout",
     "output_type": "stream",
     "text": [
      "[[0.55258153 0.61529003]\n",
      " [0.5671049  0.60279344]\n",
      " [0.5369     0.5934    ]]\n",
      "rec time now 2 dataset now: Syn4\n"
     ]
    },
    {
     "name": "stderr",
     "output_type": "stream",
     "text": [
      "TPR mean: 18.4%  std: 19.5%\n",
      "FDR mean: 33.6%  std: 47.2%\n"
     ]
    },
    {
     "name": "stdout",
     "output_type": "stream",
     "text": [
      "[[0.55258153 0.61529003]\n",
      " [0.5671049  0.60279344]\n",
      " [0.5369     0.5934    ]]\n",
      "rec time now 3 dataset now: Syn4\n"
     ]
    },
    {
     "name": "stderr",
     "output_type": "stream",
     "text": [
      "TPR mean: 18.4%  std: 19.5%\n",
      "FDR mean: 33.6%  std: 47.2%\n",
      "Epoch:      0, d_loss (Acc)): 0.658, v_loss (Acc): 0.005, g_loss: -1.5012\n"
     ]
    },
    {
     "name": "stdout",
     "output_type": "stream",
     "text": [
      "[[0.55258153 0.61529003]\n",
      " [0.5671049  0.60279344]\n",
      " [0.5369     0.5934    ]]\n",
      "now at training epoch number 5700 hyp-params: lamda 1.0000 prior 0.0000\n",
      "rec time now 0 dataset now: Syn4\n"
     ]
    },
    {
     "name": "stderr",
     "output_type": "stream",
     "text": [
      "TPR mean: 25.8%  std: 28.4%\n",
      "FDR mean: 30.3%  std: 46.0%\n"
     ]
    },
    {
     "name": "stdout",
     "output_type": "stream",
     "text": [
      "[[0.55289394 0.63699152]\n",
      " [0.56762946 0.62341201]\n",
      " [0.5389     0.609     ]]\n",
      "rec time now 1 dataset now: Syn4\n"
     ]
    },
    {
     "name": "stderr",
     "output_type": "stream",
     "text": [
      "TPR mean: 25.8%  std: 28.4%\n",
      "FDR mean: 30.3%  std: 46.0%\n"
     ]
    },
    {
     "name": "stdout",
     "output_type": "stream",
     "text": [
      "[[0.55289394 0.6371853 ]\n",
      " [0.56762946 0.62344519]\n",
      " [0.5389     0.6092    ]]\n",
      "rec time now 2 dataset now: Syn4\n"
     ]
    },
    {
     "name": "stderr",
     "output_type": "stream",
     "text": [
      "TPR mean: 25.8%  std: 28.4%\n",
      "FDR mean: 30.3%  std: 46.0%\n"
     ]
    },
    {
     "name": "stdout",
     "output_type": "stream",
     "text": [
      "[[0.55289394 0.6371853 ]\n",
      " [0.56762946 0.62344519]\n",
      " [0.5389     0.6092    ]]\n",
      "rec time now 3 dataset now: Syn4\n"
     ]
    },
    {
     "name": "stderr",
     "output_type": "stream",
     "text": [
      "TPR mean: 25.8%  std: 28.4%\n",
      "FDR mean: 30.3%  std: 46.0%\n",
      "Epoch:      0, d_loss (Acc)): 0.659, v_loss (Acc): 0.006, g_loss: -1.5763\n"
     ]
    },
    {
     "name": "stdout",
     "output_type": "stream",
     "text": [
      "[[0.55289394 0.6371853 ]\n",
      " [0.56762946 0.62344519]\n",
      " [0.5389     0.6092    ]]\n",
      "now at training epoch number 5800 hyp-params: lamda 1.0000 prior 0.0000\n",
      "rec time now 0 dataset now: Syn4\n"
     ]
    },
    {
     "name": "stderr",
     "output_type": "stream",
     "text": [
      "TPR mean: 25.9%  std: 28.5%\n",
      "FDR mean: 29.3%  std: 45.5%\n"
     ]
    },
    {
     "name": "stdout",
     "output_type": "stream",
     "text": [
      "[[0.55168891 0.63384901]\n",
      " [0.56795606 0.62540799]\n",
      " [0.5361     0.6065    ]]\n",
      "rec time now 1 dataset now: Syn4\n"
     ]
    },
    {
     "name": "stderr",
     "output_type": "stream",
     "text": [
      "TPR mean: 25.9%  std: 28.5%\n",
      "FDR mean: 29.3%  std: 45.5%\n"
     ]
    },
    {
     "name": "stdout",
     "output_type": "stream",
     "text": [
      "[[0.55168891 0.63384901]\n",
      " [0.56795606 0.62540799]\n",
      " [0.5361     0.6065    ]]\n",
      "rec time now 2 dataset now: Syn4\n"
     ]
    },
    {
     "name": "stderr",
     "output_type": "stream",
     "text": [
      "TPR mean: 25.9%  std: 28.5%\n",
      "FDR mean: 29.3%  std: 45.5%\n"
     ]
    },
    {
     "name": "stdout",
     "output_type": "stream",
     "text": [
      "[[0.55168891 0.63384901]\n",
      " [0.56795606 0.62540799]\n",
      " [0.5361     0.6065    ]]\n",
      "rec time now 3 dataset now: Syn4\n"
     ]
    },
    {
     "name": "stderr",
     "output_type": "stream",
     "text": [
      "TPR mean: 25.9%  std: 28.5%\n",
      "FDR mean: 29.3%  std: 45.5%\n",
      "Epoch:      0, d_loss (Acc)): 0.645, v_loss (Acc): 0.004, g_loss: -1.4573\n"
     ]
    },
    {
     "name": "stdout",
     "output_type": "stream",
     "text": [
      "[[0.55168891 0.63384901]\n",
      " [0.56795606 0.62540799]\n",
      " [0.5361     0.6065    ]]\n",
      "now at training epoch number 5900 hyp-params: lamda 1.0000 prior 0.0000\n",
      "rec time now 0 dataset now: Syn4\n"
     ]
    },
    {
     "name": "stderr",
     "output_type": "stream",
     "text": [
      "TPR mean: 25.3%  std: 28.0%\n",
      "FDR mean: 28.9%  std: 45.3%\n"
     ]
    },
    {
     "name": "stdout",
     "output_type": "stream",
     "text": [
      "[[0.5521266  0.63473492]\n",
      " [0.56748764 0.62402827]\n",
      " [0.5384     0.6052    ]]\n",
      "rec time now 1 dataset now: Syn4\n"
     ]
    },
    {
     "name": "stderr",
     "output_type": "stream",
     "text": [
      "TPR mean: 18.1%  std: 19.4%\n",
      "FDR mean: 28.9%  std: 45.3%\n"
     ]
    },
    {
     "name": "stdout",
     "output_type": "stream",
     "text": [
      "[[0.5521266  0.62160505]\n",
      " [0.56748764 0.61033692]\n",
      " [0.5384     0.5957    ]]\n",
      "rec time now 2 dataset now: Syn4\n"
     ]
    },
    {
     "name": "stderr",
     "output_type": "stream",
     "text": [
      "TPR mean: 18.1%  std: 19.4%\n",
      "FDR mean: 28.9%  std: 45.3%\n"
     ]
    },
    {
     "name": "stdout",
     "output_type": "stream",
     "text": [
      "[[0.5521266  0.62160505]\n",
      " [0.56748764 0.61033692]\n",
      " [0.5384     0.5957    ]]\n",
      "rec time now 3 dataset now: Syn4\n"
     ]
    },
    {
     "name": "stderr",
     "output_type": "stream",
     "text": [
      "TPR mean: 18.1%  std: 19.4%\n",
      "FDR mean: 28.9%  std: 45.3%\n",
      "Epoch:      0, d_loss (Acc)): 0.640, v_loss (Acc): 0.003, g_loss: -1.3799\n"
     ]
    },
    {
     "name": "stdout",
     "output_type": "stream",
     "text": [
      "[[0.5521266  0.62160505]\n",
      " [0.56748764 0.61033692]\n",
      " [0.5384     0.5957    ]]\n",
      "now at training epoch number 6000 hyp-params: lamda 1.0000 prior 0.0000\n",
      "rec time now 0 dataset now: Syn4\n"
     ]
    },
    {
     "name": "stderr",
     "output_type": "stream",
     "text": [
      "TPR mean: 25.7%  std: 28.6%\n",
      "FDR mean: 24.3%  std: 42.9%\n"
     ]
    },
    {
     "name": "stdout",
     "output_type": "stream",
     "text": [
      "[[0.55387447 0.63922267]\n",
      " [0.56973642 0.62539511]\n",
      " [0.5378     0.6069    ]]\n",
      "rec time now 1 dataset now: Syn4\n"
     ]
    },
    {
     "name": "stderr",
     "output_type": "stream",
     "text": [
      "TPR mean: 25.0%  std: 28.0%\n",
      "FDR mean: 24.3%  std: 42.9%\n"
     ]
    },
    {
     "name": "stdout",
     "output_type": "stream",
     "text": [
      "[[0.55387447 0.63670882]\n",
      " [0.56973642 0.62303381]\n",
      " [0.5378     0.6048    ]]\n",
      "rec time now 2 dataset now: Syn4\n"
     ]
    },
    {
     "name": "stderr",
     "output_type": "stream",
     "text": [
      "TPR mean: 25.0%  std: 28.0%\n",
      "FDR mean: 24.3%  std: 42.9%\n"
     ]
    },
    {
     "name": "stdout",
     "output_type": "stream",
     "text": [
      "[[0.55387447 0.63670882]\n",
      " [0.56973642 0.62303381]\n",
      " [0.5378     0.6048    ]]\n",
      "rec time now 3 dataset now: Syn4\n"
     ]
    },
    {
     "name": "stderr",
     "output_type": "stream",
     "text": [
      "TPR mean: 25.0%  std: 28.0%\n",
      "FDR mean: 24.3%  std: 42.9%\n",
      "Epoch:      0, d_loss (Acc)): 0.641, v_loss (Acc): 0.003, g_loss: -1.3346\n"
     ]
    },
    {
     "name": "stdout",
     "output_type": "stream",
     "text": [
      "[[0.55387447 0.63670882]\n",
      " [0.56973642 0.62303381]\n",
      " [0.5378     0.6048    ]]\n",
      "now at training epoch number 6100 hyp-params: lamda 1.0000 prior 0.0000\n",
      "rec time now 0 dataset now: Syn4\n"
     ]
    },
    {
     "name": "stderr",
     "output_type": "stream",
     "text": [
      "TPR mean: 26.2%  std: 28.7%\n",
      "FDR mean: 27.8%  std: 44.8%\n"
     ]
    },
    {
     "name": "stdout",
     "output_type": "stream",
     "text": [
      "[[0.55327782 0.64658898]\n",
      " [0.56824773 0.63711614]\n",
      " [0.5385     0.6131    ]]\n",
      "rec time now 1 dataset now: Syn4\n"
     ]
    },
    {
     "name": "stderr",
     "output_type": "stream",
     "text": [
      "TPR mean: 26.2%  std: 28.7%\n",
      "FDR mean: 27.8%  std: 44.8%\n"
     ]
    },
    {
     "name": "stdout",
     "output_type": "stream",
     "text": [
      "[[0.55327782 0.64658898]\n",
      " [0.56824773 0.63711614]\n",
      " [0.5385     0.6131    ]]\n",
      "rec time now 2 dataset now: Syn4\n"
     ]
    },
    {
     "name": "stderr",
     "output_type": "stream",
     "text": [
      "TPR mean: 26.2%  std: 28.7%\n",
      "FDR mean: 27.8%  std: 44.8%\n"
     ]
    },
    {
     "name": "stdout",
     "output_type": "stream",
     "text": [
      "[[0.55327782 0.64658898]\n",
      " [0.56824773 0.63711614]\n",
      " [0.5385     0.6131    ]]\n",
      "rec time now 3 dataset now: Syn4\n"
     ]
    },
    {
     "name": "stderr",
     "output_type": "stream",
     "text": [
      "TPR mean: 26.2%  std: 28.7%\n",
      "FDR mean: 27.8%  std: 44.8%\n",
      "Epoch:      0, d_loss (Acc)): 0.651, v_loss (Acc): 0.003, g_loss: -1.3839\n"
     ]
    },
    {
     "name": "stdout",
     "output_type": "stream",
     "text": [
      "[[0.55327782 0.64658898]\n",
      " [0.56824773 0.63711614]\n",
      " [0.5385     0.6131    ]]\n",
      "now at training epoch number 6200 hyp-params: lamda 1.0000 prior 0.0000\n",
      "rec time now 0 dataset now: Syn4\n"
     ]
    },
    {
     "name": "stderr",
     "output_type": "stream",
     "text": [
      "TPR mean: 27.1%  std: 29.1%\n",
      "FDR mean: 28.1%  std: 45.0%\n"
     ]
    },
    {
     "name": "stdout",
     "output_type": "stream",
     "text": [
      "[[0.55225761 0.65129135]\n",
      " [0.56698454 0.64132622]\n",
      " [0.5346     0.6123    ]]\n",
      "rec time now 1 dataset now: Syn4\n"
     ]
    },
    {
     "name": "stderr",
     "output_type": "stream",
     "text": [
      "TPR mean: 27.1%  std: 29.1%\n",
      "FDR mean: 28.1%  std: 45.0%\n"
     ]
    },
    {
     "name": "stdout",
     "output_type": "stream",
     "text": [
      "[[0.55225761 0.65129135]\n",
      " [0.56698454 0.64132622]\n",
      " [0.5346     0.6123    ]]\n",
      "rec time now 2 dataset now: Syn4\n"
     ]
    },
    {
     "name": "stderr",
     "output_type": "stream",
     "text": [
      "TPR mean: 27.1%  std: 29.1%\n",
      "FDR mean: 28.1%  std: 45.0%\n"
     ]
    },
    {
     "name": "stdout",
     "output_type": "stream",
     "text": [
      "[[0.55225761 0.65129135]\n",
      " [0.56698454 0.64132622]\n",
      " [0.5346     0.6123    ]]\n",
      "rec time now 3 dataset now: Syn4\n"
     ]
    },
    {
     "name": "stderr",
     "output_type": "stream",
     "text": [
      "TPR mean: 27.1%  std: 29.1%\n",
      "FDR mean: 28.1%  std: 45.0%\n",
      "Epoch:      0, d_loss (Acc)): 0.643, v_loss (Acc): 0.003, g_loss: -1.2963\n"
     ]
    },
    {
     "name": "stdout",
     "output_type": "stream",
     "text": [
      "[[0.55225761 0.65129135]\n",
      " [0.56698454 0.64132622]\n",
      " [0.5346     0.6123    ]]\n",
      "now at training epoch number 6300 hyp-params: lamda 1.0000 prior 0.0000\n",
      "rec time now 0 dataset now: Syn4\n"
     ]
    },
    {
     "name": "stderr",
     "output_type": "stream",
     "text": [
      "TPR mean: 27.0%  std: 29.2%\n",
      "FDR mean: 24.6%  std: 43.1%\n"
     ]
    },
    {
     "name": "stdout",
     "output_type": "stream",
     "text": [
      "[[0.55227656 0.65521607]\n",
      " [0.5673795  0.64621277]\n",
      " [0.5364     0.6121    ]]\n",
      "rec time now 1 dataset now: Syn4\n"
     ]
    },
    {
     "name": "stderr",
     "output_type": "stream",
     "text": [
      "TPR mean: 27.0%  std: 29.2%\n",
      "FDR mean: 24.6%  std: 43.1%\n"
     ]
    },
    {
     "name": "stdout",
     "output_type": "stream",
     "text": [
      "[[0.55227656 0.65521607]\n",
      " [0.5673795  0.64621277]\n",
      " [0.5364     0.6121    ]]\n",
      "rec time now 2 dataset now: Syn4\n"
     ]
    },
    {
     "name": "stderr",
     "output_type": "stream",
     "text": [
      "TPR mean: 27.0%  std: 29.2%\n",
      "FDR mean: 24.6%  std: 43.1%\n"
     ]
    },
    {
     "name": "stdout",
     "output_type": "stream",
     "text": [
      "[[0.55227656 0.65521607]\n",
      " [0.5673795  0.64621277]\n",
      " [0.5364     0.6121    ]]\n",
      "rec time now 3 dataset now: Syn4\n"
     ]
    },
    {
     "name": "stderr",
     "output_type": "stream",
     "text": [
      "TPR mean: 27.0%  std: 29.2%\n",
      "FDR mean: 24.6%  std: 43.1%\n",
      "Epoch:      0, d_loss (Acc)): 0.639, v_loss (Acc): 0.005, g_loss: -1.3054\n"
     ]
    },
    {
     "name": "stdout",
     "output_type": "stream",
     "text": [
      "[[0.55227656 0.65521607]\n",
      " [0.5673795  0.64621277]\n",
      " [0.5364     0.6121    ]]\n",
      "now at training epoch number 6400 hyp-params: lamda 1.0000 prior 0.0000\n",
      "rec time now 0 dataset now: Syn4\n"
     ]
    },
    {
     "name": "stderr",
     "output_type": "stream",
     "text": [
      "TPR mean: 26.2%  std: 28.9%\n",
      "FDR mean: 20.9%  std: 40.6%\n"
     ]
    },
    {
     "name": "stdout",
     "output_type": "stream",
     "text": [
      "[[0.5513119  0.65322541]\n",
      " [0.5661865  0.64380592]\n",
      " [0.5368     0.6133    ]]\n",
      "rec time now 1 dataset now: Syn4\n"
     ]
    },
    {
     "name": "stderr",
     "output_type": "stream",
     "text": [
      "TPR mean: 25.0%  std: 27.9%\n",
      "FDR mean: 20.8%  std: 40.6%\n"
     ]
    },
    {
     "name": "stdout",
     "output_type": "stream",
     "text": [
      "[[0.5513119  0.63154396]\n",
      " [0.5661865  0.6207247 ]\n",
      " [0.5368     0.6037    ]]\n",
      "rec time now 2 dataset now: Syn4\n"
     ]
    },
    {
     "name": "stderr",
     "output_type": "stream",
     "text": [
      "TPR mean: 25.0%  std: 27.9%\n",
      "FDR mean: 20.8%  std: 40.6%\n"
     ]
    },
    {
     "name": "stdout",
     "output_type": "stream",
     "text": [
      "[[0.5513119  0.63154396]\n",
      " [0.5661865  0.6207247 ]\n",
      " [0.5368     0.6037    ]]\n",
      "rec time now 3 dataset now: Syn4\n"
     ]
    },
    {
     "name": "stderr",
     "output_type": "stream",
     "text": [
      "TPR mean: 25.0%  std: 27.9%\n",
      "FDR mean: 20.8%  std: 40.6%\n",
      "Epoch:      0, d_loss (Acc)): 0.629, v_loss (Acc): 0.003, g_loss: -1.1550\n"
     ]
    },
    {
     "name": "stdout",
     "output_type": "stream",
     "text": [
      "[[0.5513119  0.63154396]\n",
      " [0.5661865  0.6207247 ]\n",
      " [0.5368     0.6037    ]]\n",
      "now at training epoch number 6500 hyp-params: lamda 1.0000 prior 0.0000\n",
      "rec time now 0 dataset now: Syn4\n"
     ]
    },
    {
     "name": "stderr",
     "output_type": "stream",
     "text": [
      "TPR mean: 26.3%  std: 29.0%\n",
      "FDR mean: 20.5%  std: 40.4%\n"
     ]
    },
    {
     "name": "stdout",
     "output_type": "stream",
     "text": [
      "[[0.55300549 0.65449119]\n",
      " [0.5676442  0.64626777]\n",
      " [0.5384     0.6125    ]]\n",
      "rec time now 1 dataset now: Syn4\n"
     ]
    },
    {
     "name": "stderr",
     "output_type": "stream",
     "text": [
      "TPR mean: 26.3%  std: 29.0%\n",
      "FDR mean: 20.5%  std: 40.4%\n"
     ]
    },
    {
     "name": "stdout",
     "output_type": "stream",
     "text": [
      "[[0.55300549 0.65449119]\n",
      " [0.5676442  0.64626777]\n",
      " [0.5384     0.6125    ]]\n",
      "rec time now 2 dataset now: Syn4\n"
     ]
    },
    {
     "name": "stderr",
     "output_type": "stream",
     "text": [
      "TPR mean: 26.3%  std: 29.0%\n",
      "FDR mean: 20.5%  std: 40.4%\n"
     ]
    },
    {
     "name": "stdout",
     "output_type": "stream",
     "text": [
      "[[0.55300549 0.65449119]\n",
      " [0.5676442  0.64626777]\n",
      " [0.5384     0.6125    ]]\n",
      "rec time now 3 dataset now: Syn4\n"
     ]
    },
    {
     "name": "stderr",
     "output_type": "stream",
     "text": [
      "TPR mean: 26.3%  std: 29.0%\n",
      "FDR mean: 20.5%  std: 40.4%\n",
      "Epoch:      0, d_loss (Acc)): 0.641, v_loss (Acc): 0.003, g_loss: -1.1264\n"
     ]
    },
    {
     "name": "stdout",
     "output_type": "stream",
     "text": [
      "[[0.55300549 0.65449119]\n",
      " [0.5676442  0.64626777]\n",
      " [0.5384     0.6125    ]]\n",
      "now at training epoch number 6600 hyp-params: lamda 1.0000 prior 0.0000\n",
      "rec time now 0 dataset now: Syn4\n"
     ]
    },
    {
     "name": "stderr",
     "output_type": "stream",
     "text": [
      "TPR mean: 26.8%  std: 29.1%\n",
      "FDR mean: 21.6%  std: 41.2%\n"
     ]
    },
    {
     "name": "stdout",
     "output_type": "stream",
     "text": [
      "[[0.55191731 0.66171853]\n",
      " [0.56669881 0.65329499]\n",
      " [0.5386     0.6144    ]]\n",
      "rec time now 1 dataset now: Syn4\n"
     ]
    },
    {
     "name": "stderr",
     "output_type": "stream",
     "text": [
      "TPR mean: 26.8%  std: 29.1%\n",
      "FDR mean: 21.6%  std: 41.2%\n"
     ]
    },
    {
     "name": "stdout",
     "output_type": "stream",
     "text": [
      "[[0.55191731 0.66171853]\n",
      " [0.56669881 0.65329499]\n",
      " [0.5386     0.6144    ]]\n",
      "rec time now 2 dataset now: Syn4\n"
     ]
    },
    {
     "name": "stderr",
     "output_type": "stream",
     "text": [
      "TPR mean: 26.8%  std: 29.1%\n",
      "FDR mean: 21.6%  std: 41.2%\n"
     ]
    },
    {
     "name": "stdout",
     "output_type": "stream",
     "text": [
      "[[0.55191731 0.66171853]\n",
      " [0.56669881 0.65329499]\n",
      " [0.5386     0.6144    ]]\n",
      "rec time now 3 dataset now: Syn4\n"
     ]
    },
    {
     "name": "stderr",
     "output_type": "stream",
     "text": [
      "TPR mean: 26.8%  std: 29.1%\n",
      "FDR mean: 21.6%  std: 41.2%\n",
      "Epoch:      0, d_loss (Acc)): 0.649, v_loss (Acc): 0.003, g_loss: -1.1343\n"
     ]
    },
    {
     "name": "stdout",
     "output_type": "stream",
     "text": [
      "[[0.55191731 0.66171853]\n",
      " [0.56669881 0.65329499]\n",
      " [0.5386     0.6144    ]]\n",
      "now at training epoch number 6700 hyp-params: lamda 1.0000 prior 0.0000\n",
      "rec time now 0 dataset now: Syn4\n"
     ]
    },
    {
     "name": "stderr",
     "output_type": "stream",
     "text": [
      "TPR mean: 26.8%  std: 29.0%\n",
      "FDR mean: 21.9%  std: 41.3%\n"
     ]
    },
    {
     "name": "stdout",
     "output_type": "stream",
     "text": [
      "[[0.55280701 0.66757346]\n",
      " [0.56791073 0.65852699]\n",
      " [0.5361     0.6187    ]]\n",
      "rec time now 1 dataset now: Syn4\n"
     ]
    },
    {
     "name": "stderr",
     "output_type": "stream",
     "text": [
      "TPR mean: 26.8%  std: 29.0%\n",
      "FDR mean: 21.9%  std: 41.3%\n"
     ]
    },
    {
     "name": "stdout",
     "output_type": "stream",
     "text": [
      "[[0.55280701 0.66537456]\n",
      " [0.56791073 0.65680132]\n",
      " [0.5361     0.6173    ]]\n",
      "rec time now 2 dataset now: Syn4\n"
     ]
    },
    {
     "name": "stderr",
     "output_type": "stream",
     "text": [
      "TPR mean: 26.8%  std: 29.0%\n",
      "FDR mean: 21.9%  std: 41.3%\n"
     ]
    },
    {
     "name": "stdout",
     "output_type": "stream",
     "text": [
      "[[0.55280701 0.66537456]\n",
      " [0.56791073 0.65680132]\n",
      " [0.5361     0.6173    ]]\n",
      "rec time now 3 dataset now: Syn4\n"
     ]
    },
    {
     "name": "stderr",
     "output_type": "stream",
     "text": [
      "TPR mean: 26.8%  std: 29.0%\n",
      "FDR mean: 21.9%  std: 41.3%\n",
      "Epoch:      0, d_loss (Acc)): 0.641, v_loss (Acc): 0.003, g_loss: -1.1431\n"
     ]
    },
    {
     "name": "stdout",
     "output_type": "stream",
     "text": [
      "[[0.55280701 0.66537456]\n",
      " [0.56791073 0.65680132]\n",
      " [0.5361     0.6173    ]]\n",
      "now at training epoch number 6800 hyp-params: lamda 1.0000 prior 0.0000\n",
      "rec time now 0 dataset now: Syn4\n"
     ]
    },
    {
     "name": "stderr",
     "output_type": "stream",
     "text": [
      "TPR mean: 26.8%  std: 29.2%\n",
      "FDR mean: 19.0%  std: 39.2%\n"
     ]
    },
    {
     "name": "stdout",
     "output_type": "stream",
     "text": [
      "[[0.55132222 0.6674739 ]\n",
      " [0.56603259 0.65262372]\n",
      " [0.5367     0.6171    ]]\n",
      "rec time now 1 dataset now: Syn4\n"
     ]
    },
    {
     "name": "stderr",
     "output_type": "stream",
     "text": [
      "TPR mean: 26.8%  std: 29.2%\n",
      "FDR mean: 19.0%  std: 39.2%\n"
     ]
    },
    {
     "name": "stdout",
     "output_type": "stream",
     "text": [
      "[[0.55132222 0.66745877]\n",
      " [0.56603259 0.65260468]\n",
      " [0.5367     0.6171    ]]\n",
      "rec time now 2 dataset now: Syn4\n"
     ]
    },
    {
     "name": "stderr",
     "output_type": "stream",
     "text": [
      "TPR mean: 26.8%  std: 29.2%\n",
      "FDR mean: 19.0%  std: 39.2%\n"
     ]
    },
    {
     "name": "stdout",
     "output_type": "stream",
     "text": [
      "[[0.55132222 0.66745877]\n",
      " [0.56603259 0.65260468]\n",
      " [0.5367     0.6171    ]]\n",
      "rec time now 3 dataset now: Syn4\n"
     ]
    },
    {
     "name": "stderr",
     "output_type": "stream",
     "text": [
      "TPR mean: 26.8%  std: 29.2%\n",
      "FDR mean: 19.0%  std: 39.2%\n",
      "Epoch:      0, d_loss (Acc)): 0.629, v_loss (Acc): 0.003, g_loss: -1.0740\n"
     ]
    },
    {
     "name": "stdout",
     "output_type": "stream",
     "text": [
      "[[0.55132222 0.66745877]\n",
      " [0.56603259 0.65260468]\n",
      " [0.5367     0.6171    ]]\n",
      "now at training epoch number 6900 hyp-params: lamda 1.0000 prior 0.0000\n",
      "rec time now 0 dataset now: Syn4\n"
     ]
    },
    {
     "name": "stderr",
     "output_type": "stream",
     "text": [
      "TPR mean: 26.9%  std: 29.3%\n",
      "FDR mean: 17.9%  std: 38.4%\n"
     ]
    },
    {
     "name": "stdout",
     "output_type": "stream",
     "text": [
      "[[0.55203163 0.66753399]\n",
      " [0.5660827  0.65426769]\n",
      " [0.5353     0.6188    ]]\n",
      "rec time now 1 dataset now: Syn4\n"
     ]
    },
    {
     "name": "stderr",
     "output_type": "stream",
     "text": [
      "TPR mean: 26.9%  std: 29.3%\n",
      "FDR mean: 17.9%  std: 38.4%\n"
     ]
    },
    {
     "name": "stdout",
     "output_type": "stream",
     "text": [
      "[[0.55203163 0.66753399]\n",
      " [0.5660827  0.65426769]\n",
      " [0.5353     0.6188    ]]\n",
      "rec time now 2 dataset now: Syn4\n"
     ]
    },
    {
     "name": "stderr",
     "output_type": "stream",
     "text": [
      "TPR mean: 26.9%  std: 29.3%\n",
      "FDR mean: 17.9%  std: 38.4%\n"
     ]
    },
    {
     "name": "stdout",
     "output_type": "stream",
     "text": [
      "[[0.55203163 0.66753399]\n",
      " [0.5660827  0.65426769]\n",
      " [0.5353     0.6188    ]]\n",
      "rec time now 3 dataset now: Syn4\n"
     ]
    },
    {
     "name": "stderr",
     "output_type": "stream",
     "text": [
      "TPR mean: 26.9%  std: 29.3%\n",
      "FDR mean: 17.9%  std: 38.4%\n",
      "Epoch:      0, d_loss (Acc)): 0.647, v_loss (Acc): 0.002, g_loss: -1.0312\n"
     ]
    },
    {
     "name": "stdout",
     "output_type": "stream",
     "text": [
      "[[0.55203163 0.66753399]\n",
      " [0.5660827  0.65426769]\n",
      " [0.5353     0.6188    ]]\n",
      "now at training epoch number 7000 hyp-params: lamda 1.0000 prior 0.0000\n",
      "rec time now 0 dataset now: Syn4\n"
     ]
    },
    {
     "name": "stderr",
     "output_type": "stream",
     "text": [
      "TPR mean: 26.8%  std: 29.2%\n",
      "FDR mean: 16.7%  std: 37.3%\n"
     ]
    },
    {
     "name": "stdout",
     "output_type": "stream",
     "text": [
      "[[0.55245919 0.6728965 ]\n",
      " [0.56666543 0.66129911]\n",
      " [0.5385     0.6161    ]]\n",
      "rec time now 1 dataset now: Syn4\n"
     ]
    },
    {
     "name": "stderr",
     "output_type": "stream",
     "text": [
      "TPR mean: 26.8%  std: 29.2%\n",
      "FDR mean: 16.7%  std: 37.3%\n"
     ]
    },
    {
     "name": "stdout",
     "output_type": "stream",
     "text": [
      "[[0.55245919 0.6728965 ]\n",
      " [0.56666543 0.66129911]\n",
      " [0.5385     0.6161    ]]\n",
      "rec time now 2 dataset now: Syn4\n"
     ]
    },
    {
     "name": "stderr",
     "output_type": "stream",
     "text": [
      "TPR mean: 26.8%  std: 29.2%\n",
      "FDR mean: 16.7%  std: 37.3%\n"
     ]
    },
    {
     "name": "stdout",
     "output_type": "stream",
     "text": [
      "[[0.55245919 0.6728965 ]\n",
      " [0.56666543 0.66129911]\n",
      " [0.5385     0.6161    ]]\n",
      "rec time now 3 dataset now: Syn4\n"
     ]
    },
    {
     "name": "stderr",
     "output_type": "stream",
     "text": [
      "TPR mean: 26.8%  std: 29.2%\n",
      "FDR mean: 16.7%  std: 37.3%\n",
      "Epoch:      0, d_loss (Acc)): 0.602, v_loss (Acc): 0.003, g_loss: -0.9070\n"
     ]
    },
    {
     "name": "stdout",
     "output_type": "stream",
     "text": [
      "[[0.55245919 0.6728965 ]\n",
      " [0.56666543 0.66129911]\n",
      " [0.5385     0.6161    ]]\n",
      "now at training epoch number 7100 hyp-params: lamda 1.0000 prior 0.0000\n",
      "rec time now 0 dataset now: Syn4\n"
     ]
    },
    {
     "name": "stderr",
     "output_type": "stream",
     "text": [
      "TPR mean: 27.1%  std: 29.3%\n",
      "FDR mean: 17.3%  std: 37.8%\n"
     ]
    },
    {
     "name": "stdout",
     "output_type": "stream",
     "text": [
      "[[0.55245843 0.67256471]\n",
      " [0.56576405 0.65990554]\n",
      " [0.5367     0.6178    ]]\n",
      "rec time now 1 dataset now: Syn4\n"
     ]
    },
    {
     "name": "stderr",
     "output_type": "stream",
     "text": [
      "TPR mean: 27.1%  std: 29.3%\n",
      "FDR mean: 17.3%  std: 37.8%\n"
     ]
    },
    {
     "name": "stdout",
     "output_type": "stream",
     "text": [
      "[[0.55245843 0.67256471]\n",
      " [0.56576405 0.65990554]\n",
      " [0.5367     0.6178    ]]\n",
      "rec time now 2 dataset now: Syn4\n"
     ]
    },
    {
     "name": "stderr",
     "output_type": "stream",
     "text": [
      "TPR mean: 27.1%  std: 29.3%\n",
      "FDR mean: 17.3%  std: 37.8%\n"
     ]
    },
    {
     "name": "stdout",
     "output_type": "stream",
     "text": [
      "[[0.55245843 0.67256471]\n",
      " [0.56576405 0.65990554]\n",
      " [0.5367     0.6178    ]]\n",
      "rec time now 3 dataset now: Syn4\n"
     ]
    },
    {
     "name": "stderr",
     "output_type": "stream",
     "text": [
      "TPR mean: 27.1%  std: 29.3%\n",
      "FDR mean: 17.3%  std: 37.8%\n",
      "Epoch:      0, d_loss (Acc)): 0.626, v_loss (Acc): 0.001, g_loss: -0.8786\n"
     ]
    },
    {
     "name": "stdout",
     "output_type": "stream",
     "text": [
      "[[0.55245843 0.67256471]\n",
      " [0.56576405 0.65990554]\n",
      " [0.5367     0.6178    ]]\n",
      "now at training epoch number 7200 hyp-params: lamda 1.0000 prior 0.0000\n",
      "rec time now 0 dataset now: Syn4\n"
     ]
    },
    {
     "name": "stderr",
     "output_type": "stream",
     "text": [
      "TPR mean: 26.9%  std: 29.2%\n",
      "FDR mean: 16.8%  std: 37.4%\n"
     ]
    },
    {
     "name": "stdout",
     "output_type": "stream",
     "text": [
      "[[0.55271092 0.67096238]\n",
      " [0.56774036 0.65830347]\n",
      " [0.539      0.6154    ]]\n",
      "rec time now 1 dataset now: Syn4\n"
     ]
    },
    {
     "name": "stderr",
     "output_type": "stream",
     "text": [
      "TPR mean: 26.9%  std: 29.2%\n",
      "FDR mean: 16.8%  std: 37.4%\n"
     ]
    },
    {
     "name": "stdout",
     "output_type": "stream",
     "text": [
      "[[0.55271092 0.67072663]\n",
      " [0.56774036 0.65800084]\n",
      " [0.539      0.6156    ]]\n",
      "rec time now 2 dataset now: Syn4\n"
     ]
    },
    {
     "name": "stderr",
     "output_type": "stream",
     "text": [
      "TPR mean: 26.9%  std: 29.2%\n",
      "FDR mean: 16.8%  std: 37.4%\n"
     ]
    },
    {
     "name": "stdout",
     "output_type": "stream",
     "text": [
      "[[0.55271092 0.67072663]\n",
      " [0.56774036 0.65800084]\n",
      " [0.539      0.6156    ]]\n",
      "rec time now 3 dataset now: Syn4\n"
     ]
    },
    {
     "name": "stderr",
     "output_type": "stream",
     "text": [
      "TPR mean: 26.9%  std: 29.2%\n",
      "FDR mean: 16.8%  std: 37.4%\n",
      "Epoch:      0, d_loss (Acc)): 0.637, v_loss (Acc): 0.002, g_loss: -0.8873\n"
     ]
    },
    {
     "name": "stdout",
     "output_type": "stream",
     "text": [
      "[[0.55271092 0.67072663]\n",
      " [0.56774036 0.65800084]\n",
      " [0.539      0.6156    ]]\n",
      "now at training epoch number 7300 hyp-params: lamda 1.0000 prior 0.0000\n",
      "rec time now 0 dataset now: Syn4\n"
     ]
    },
    {
     "name": "stderr",
     "output_type": "stream",
     "text": [
      "TPR mean: 26.7%  std: 29.1%\n",
      "FDR mean: 15.3%  std: 36.0%\n"
     ]
    },
    {
     "name": "stdout",
     "output_type": "stream",
     "text": [
      "[[0.55160079 0.6760617 ]\n",
      " [0.56470627 0.66473925]\n",
      " [0.5395     0.6183    ]]\n",
      "rec time now 1 dataset now: Syn4\n"
     ]
    },
    {
     "name": "stderr",
     "output_type": "stream",
     "text": [
      "TPR mean: 26.4%  std: 28.9%\n",
      "FDR mean: 15.3%  std: 36.0%\n"
     ]
    },
    {
     "name": "stdout",
     "output_type": "stream",
     "text": [
      "[[0.55160079 0.67145304]\n",
      " [0.56470627 0.66178424]\n",
      " [0.5395     0.615     ]]\n",
      "rec time now 2 dataset now: Syn4\n"
     ]
    },
    {
     "name": "stderr",
     "output_type": "stream",
     "text": [
      "TPR mean: 26.4%  std: 28.9%\n",
      "FDR mean: 15.3%  std: 36.0%\n"
     ]
    },
    {
     "name": "stdout",
     "output_type": "stream",
     "text": [
      "[[0.55160079 0.67145304]\n",
      " [0.56470627 0.66178424]\n",
      " [0.5395     0.615     ]]\n",
      "rec time now 3 dataset now: Syn4\n"
     ]
    },
    {
     "name": "stderr",
     "output_type": "stream",
     "text": [
      "TPR mean: 26.4%  std: 28.9%\n",
      "FDR mean: 15.3%  std: 36.0%\n",
      "Epoch:      0, d_loss (Acc)): 0.606, v_loss (Acc): 0.005, g_loss: -0.8508\n"
     ]
    },
    {
     "name": "stdout",
     "output_type": "stream",
     "text": [
      "[[0.55160079 0.67145304]\n",
      " [0.56470627 0.66178424]\n",
      " [0.5395     0.615     ]]\n",
      "now at training epoch number 7400 hyp-params: lamda 1.0000 prior 0.0000\n",
      "rec time now 0 dataset now: Syn4\n"
     ]
    },
    {
     "name": "stderr",
     "output_type": "stream",
     "text": [
      "TPR mean: 26.4%  std: 29.1%\n",
      "FDR mean: 13.5%  std: 34.2%\n"
     ]
    },
    {
     "name": "stdout",
     "output_type": "stream",
     "text": [
      "[[0.55227034 0.67503452]\n",
      " [0.56685272 0.66161458]\n",
      " [0.5351     0.6187    ]]\n",
      "rec time now 1 dataset now: Syn4\n"
     ]
    },
    {
     "name": "stderr",
     "output_type": "stream",
     "text": [
      "TPR mean: 24.0%  std: 27.0%\n",
      "FDR mean: 13.5%  std: 34.2%\n"
     ]
    },
    {
     "name": "stdout",
     "output_type": "stream",
     "text": [
      "[[0.55227034 0.6326941 ]\n",
      " [0.56685272 0.62206037]\n",
      " [0.5351     0.5962    ]]\n",
      "rec time now 2 dataset now: Syn4\n"
     ]
    },
    {
     "name": "stderr",
     "output_type": "stream",
     "text": [
      "TPR mean: 24.0%  std: 27.0%\n",
      "FDR mean: 13.5%  std: 34.2%\n"
     ]
    },
    {
     "name": "stdout",
     "output_type": "stream",
     "text": [
      "[[0.55227034 0.6326941 ]\n",
      " [0.56685272 0.62206037]\n",
      " [0.5351     0.5962    ]]\n",
      "rec time now 3 dataset now: Syn4\n"
     ]
    },
    {
     "name": "stderr",
     "output_type": "stream",
     "text": [
      "TPR mean: 24.0%  std: 27.0%\n",
      "FDR mean: 13.5%  std: 34.2%\n",
      "Epoch:      0, d_loss (Acc)): 0.611, v_loss (Acc): 0.002, g_loss: -0.7415\n"
     ]
    },
    {
     "name": "stdout",
     "output_type": "stream",
     "text": [
      "[[0.55227034 0.6326941 ]\n",
      " [0.56685272 0.62206037]\n",
      " [0.5351     0.5962    ]]\n",
      "now at training epoch number 7500 hyp-params: lamda 1.0000 prior 0.0000\n",
      "rec time now 0 dataset now: Syn4\n"
     ]
    },
    {
     "name": "stderr",
     "output_type": "stream",
     "text": [
      "TPR mean: 26.4%  std: 29.3%\n",
      "FDR mean: 12.1%  std: 32.7%\n"
     ]
    },
    {
     "name": "stdout",
     "output_type": "stream",
     "text": [
      "[[0.55221739 0.67535164]\n",
      " [0.5663125  0.66349968]\n",
      " [0.5347     0.6176    ]]\n",
      "rec time now 1 dataset now: Syn4\n"
     ]
    },
    {
     "name": "stderr",
     "output_type": "stream",
     "text": [
      "TPR mean: 25.2%  std: 28.3%\n",
      "FDR mean: 12.1%  std: 32.7%\n"
     ]
    },
    {
     "name": "stdout",
     "output_type": "stream",
     "text": [
      "[[0.55221739 0.65823157]\n",
      " [0.5663125  0.65120438]\n",
      " [0.5347     0.6063    ]]\n",
      "rec time now 2 dataset now: Syn4\n"
     ]
    },
    {
     "name": "stderr",
     "output_type": "stream",
     "text": [
      "TPR mean: 25.2%  std: 28.3%\n",
      "FDR mean: 12.1%  std: 32.7%\n"
     ]
    },
    {
     "name": "stdout",
     "output_type": "stream",
     "text": [
      "[[0.55221739 0.65823157]\n",
      " [0.5663125  0.65120438]\n",
      " [0.5347     0.6063    ]]\n",
      "rec time now 3 dataset now: Syn4\n"
     ]
    },
    {
     "name": "stderr",
     "output_type": "stream",
     "text": [
      "TPR mean: 25.2%  std: 28.3%\n",
      "FDR mean: 12.1%  std: 32.7%\n",
      "Epoch:      0, d_loss (Acc)): 0.620, v_loss (Acc): 0.001, g_loss: -0.7751\n"
     ]
    },
    {
     "name": "stdout",
     "output_type": "stream",
     "text": [
      "[[0.55221739 0.65823157]\n",
      " [0.5663125  0.65120438]\n",
      " [0.5347     0.6063    ]]\n",
      "now at training epoch number 7600 hyp-params: lamda 1.0000 prior 0.0000\n",
      "rec time now 0 dataset now: Syn4\n"
     ]
    },
    {
     "name": "stderr",
     "output_type": "stream",
     "text": [
      "TPR mean: 26.5%  std: 29.3%\n",
      "FDR mean: 12.1%  std: 32.6%\n"
     ]
    },
    {
     "name": "stdout",
     "output_type": "stream",
     "text": [
      "[[0.5528693  0.67764769]\n",
      " [0.5673426  0.66497819]\n",
      " [0.5338     0.6182    ]]\n",
      "rec time now 1 dataset now: Syn4\n"
     ]
    },
    {
     "name": "stderr",
     "output_type": "stream",
     "text": [
      "TPR mean: 25.7%  std: 28.6%\n",
      "FDR mean: 12.1%  std: 32.6%\n"
     ]
    },
    {
     "name": "stdout",
     "output_type": "stream",
     "text": [
      "[[0.5528693  0.65997554]\n",
      " [0.5673426  0.65160668]\n",
      " [0.5338     0.6068    ]]\n",
      "rec time now 2 dataset now: Syn4\n"
     ]
    },
    {
     "name": "stderr",
     "output_type": "stream",
     "text": [
      "TPR mean: 25.7%  std: 28.6%\n",
      "FDR mean: 12.1%  std: 32.6%\n"
     ]
    },
    {
     "name": "stdout",
     "output_type": "stream",
     "text": [
      "[[0.5528693  0.65997554]\n",
      " [0.5673426  0.65160668]\n",
      " [0.5338     0.6068    ]]\n",
      "rec time now 3 dataset now: Syn4\n"
     ]
    },
    {
     "name": "stderr",
     "output_type": "stream",
     "text": [
      "TPR mean: 25.7%  std: 28.6%\n",
      "FDR mean: 12.1%  std: 32.6%\n",
      "Epoch:      0, d_loss (Acc)): 0.630, v_loss (Acc): 0.001, g_loss: -0.7685\n"
     ]
    },
    {
     "name": "stdout",
     "output_type": "stream",
     "text": [
      "[[0.5528693  0.65997554]\n",
      " [0.5673426  0.65160668]\n",
      " [0.5338     0.6068    ]]\n",
      "now at training epoch number 7700 hyp-params: lamda 1.0000 prior 0.0000\n",
      "rec time now 0 dataset now: Syn4\n"
     ]
    },
    {
     "name": "stderr",
     "output_type": "stream",
     "text": [
      "TPR mean: 26.2%  std: 29.2%\n",
      "FDR mean: 11.6%  std: 32.0%\n"
     ]
    },
    {
     "name": "stdout",
     "output_type": "stream",
     "text": [
      "[[0.5515853  0.67712911]\n",
      " [0.56534979 0.66374497]\n",
      " [0.537      0.6174    ]]\n",
      "rec time now 1 dataset now: Syn4\n"
     ]
    },
    {
     "name": "stderr",
     "output_type": "stream",
     "text": [
      "TPR mean: 21.5%  std: 24.7%\n",
      "FDR mean: 11.6%  std: 32.0%\n"
     ]
    },
    {
     "name": "stdout",
     "output_type": "stream",
     "text": [
      "[[0.5515853  0.62860253]\n",
      " [0.56534979 0.61547055]\n",
      " [0.537      0.5961    ]]\n",
      "rec time now 2 dataset now: Syn4\n"
     ]
    },
    {
     "name": "stderr",
     "output_type": "stream",
     "text": [
      "TPR mean: 21.5%  std: 24.7%\n",
      "FDR mean: 11.6%  std: 32.0%\n"
     ]
    },
    {
     "name": "stdout",
     "output_type": "stream",
     "text": [
      "[[0.5515853  0.6286028 ]\n",
      " [0.56534979 0.61547113]\n",
      " [0.537      0.5961    ]]\n",
      "rec time now 3 dataset now: Syn4\n"
     ]
    },
    {
     "name": "stderr",
     "output_type": "stream",
     "text": [
      "TPR mean: 21.5%  std: 24.7%\n",
      "FDR mean: 11.6%  std: 32.0%\n",
      "Epoch:      0, d_loss (Acc)): 0.591, v_loss (Acc): 0.001, g_loss: -0.7201\n"
     ]
    },
    {
     "name": "stdout",
     "output_type": "stream",
     "text": [
      "[[0.5515853  0.6286028 ]\n",
      " [0.56534979 0.61547113]\n",
      " [0.537      0.5961    ]]\n",
      "now at training epoch number 7800 hyp-params: lamda 1.0000 prior 0.0000\n",
      "rec time now 0 dataset now: Syn4\n"
     ]
    },
    {
     "name": "stderr",
     "output_type": "stream",
     "text": [
      "TPR mean: 26.6%  std: 29.2%\n",
      "FDR mean: 12.0%  std: 32.4%\n"
     ]
    },
    {
     "name": "stdout",
     "output_type": "stream",
     "text": [
      "[[0.55190729 0.67950898]\n",
      " [0.56463558 0.66717499]\n",
      " [0.5368     0.6186    ]]\n",
      "rec time now 1 dataset now: Syn4\n"
     ]
    },
    {
     "name": "stderr",
     "output_type": "stream",
     "text": [
      "TPR mean: 23.3%  std: 26.3%\n",
      "FDR mean: 12.0%  std: 32.4%\n"
     ]
    },
    {
     "name": "stdout",
     "output_type": "stream",
     "text": [
      "[[0.55190729 0.63225937]\n",
      " [0.56463558 0.61875365]\n",
      " [0.5368     0.5971    ]]\n",
      "rec time now 2 dataset now: Syn4\n"
     ]
    },
    {
     "name": "stderr",
     "output_type": "stream",
     "text": [
      "TPR mean: 23.3%  std: 26.3%\n",
      "FDR mean: 12.0%  std: 32.4%\n"
     ]
    },
    {
     "name": "stdout",
     "output_type": "stream",
     "text": [
      "[[0.55190729 0.63225937]\n",
      " [0.56463558 0.61875365]\n",
      " [0.5368     0.5971    ]]\n",
      "rec time now 3 dataset now: Syn4\n"
     ]
    },
    {
     "name": "stderr",
     "output_type": "stream",
     "text": [
      "TPR mean: 23.3%  std: 26.3%\n",
      "FDR mean: 12.0%  std: 32.4%\n",
      "Epoch:      0, d_loss (Acc)): 0.624, v_loss (Acc): 0.006, g_loss: -0.7857\n"
     ]
    },
    {
     "name": "stdout",
     "output_type": "stream",
     "text": [
      "[[0.55190729 0.63225937]\n",
      " [0.56463558 0.61875365]\n",
      " [0.5368     0.5971    ]]\n",
      "now at training epoch number 7900 hyp-params: lamda 1.0000 prior 0.0000\n",
      "rec time now 0 dataset now: Syn4\n"
     ]
    },
    {
     "name": "stderr",
     "output_type": "stream",
     "text": [
      "TPR mean: 26.7%  std: 29.2%\n",
      "FDR mean: 12.0%  std: 32.5%\n"
     ]
    },
    {
     "name": "stdout",
     "output_type": "stream",
     "text": [
      "[[0.55429929 0.67698404]\n",
      " [0.56864044 0.66112531]\n",
      " [0.5372     0.6165    ]]\n",
      "rec time now 1 dataset now: Syn4\n"
     ]
    },
    {
     "name": "stderr",
     "output_type": "stream",
     "text": [
      "TPR mean: 21.6%  std: 24.3%\n",
      "FDR mean: 12.0%  std: 32.5%\n"
     ]
    },
    {
     "name": "stdout",
     "output_type": "stream",
     "text": [
      "[[0.55429929 0.62523491]\n",
      " [0.56864044 0.60928015]\n",
      " [0.5372     0.5914    ]]\n",
      "rec time now 2 dataset now: Syn4\n"
     ]
    },
    {
     "name": "stderr",
     "output_type": "stream",
     "text": [
      "TPR mean: 21.6%  std: 24.3%\n",
      "FDR mean: 12.0%  std: 32.5%\n"
     ]
    },
    {
     "name": "stdout",
     "output_type": "stream",
     "text": [
      "[[0.55429929 0.62523491]\n",
      " [0.56864044 0.60928015]\n",
      " [0.5372     0.5914    ]]\n",
      "rec time now 3 dataset now: Syn4\n"
     ]
    },
    {
     "name": "stderr",
     "output_type": "stream",
     "text": [
      "TPR mean: 21.6%  std: 24.3%\n",
      "FDR mean: 12.0%  std: 32.5%\n",
      "Epoch:      0, d_loss (Acc)): 0.602, v_loss (Acc): 0.008, g_loss: -0.6081\n"
     ]
    },
    {
     "name": "stdout",
     "output_type": "stream",
     "text": [
      "[[0.55429929 0.62523491]\n",
      " [0.56864044 0.60928015]\n",
      " [0.5372     0.5914    ]]\n",
      "now at training epoch number 8000 hyp-params: lamda 1.0000 prior 0.0000\n",
      "rec time now 0 dataset now: Syn4\n"
     ]
    },
    {
     "name": "stderr",
     "output_type": "stream",
     "text": [
      "TPR mean: 26.6%  std: 29.2%\n",
      "FDR mean: 11.4%  std: 31.8%\n"
     ]
    },
    {
     "name": "stdout",
     "output_type": "stream",
     "text": [
      "[[0.55317999 0.67409825]\n",
      " [0.56741676 0.65861106]\n",
      " [0.5369     0.614     ]]\n",
      "rec time now 1 dataset now: Syn4\n"
     ]
    },
    {
     "name": "stderr",
     "output_type": "stream",
     "text": [
      "TPR mean: 20.2%  std: 22.7%\n",
      "FDR mean: 11.4%  std: 31.8%\n"
     ]
    },
    {
     "name": "stdout",
     "output_type": "stream",
     "text": [
      "[[0.55317999 0.63360619]\n",
      " [0.56741676 0.61614687]\n",
      " [0.5369     0.5961    ]]\n",
      "rec time now 2 dataset now: Syn4\n"
     ]
    },
    {
     "name": "stderr",
     "output_type": "stream",
     "text": [
      "TPR mean: 20.2%  std: 22.7%\n",
      "FDR mean: 11.4%  std: 31.8%\n"
     ]
    },
    {
     "name": "stdout",
     "output_type": "stream",
     "text": [
      "[[0.55317999 0.63360619]\n",
      " [0.56741676 0.61614687]\n",
      " [0.5369     0.5961    ]]\n",
      "rec time now 3 dataset now: Syn4\n"
     ]
    },
    {
     "name": "stderr",
     "output_type": "stream",
     "text": [
      "TPR mean: 20.2%  std: 22.7%\n",
      "FDR mean: 11.4%  std: 31.8%\n",
      "Epoch:      0, d_loss (Acc)): 0.604, v_loss (Acc): 0.001, g_loss: -0.5866\n"
     ]
    },
    {
     "name": "stdout",
     "output_type": "stream",
     "text": [
      "[[0.55317999 0.63360619]\n",
      " [0.56741676 0.61614687]\n",
      " [0.5369     0.5961    ]]\n",
      "now at training epoch number 8100 hyp-params: lamda 1.0000 prior 0.0000\n",
      "rec time now 0 dataset now: Syn4\n"
     ]
    },
    {
     "name": "stderr",
     "output_type": "stream",
     "text": [
      "TPR mean: 26.5%  std: 29.2%\n",
      "FDR mean: 11.0%  std: 31.2%\n"
     ]
    },
    {
     "name": "stdout",
     "output_type": "stream",
     "text": [
      "[[0.55222425 0.67781269]\n",
      " [0.56614678 0.66546308]\n",
      " [0.5355     0.6172    ]]\n",
      "rec time now 1 dataset now: Syn4\n"
     ]
    },
    {
     "name": "stderr",
     "output_type": "stream",
     "text": [
      "TPR mean: 19.5%  std: 21.8%\n",
      "FDR mean: 11.0%  std: 31.2%\n"
     ]
    },
    {
     "name": "stdout",
     "output_type": "stream",
     "text": [
      "[[0.55222425 0.63663135]\n",
      " [0.56614678 0.62402836]\n",
      " [0.5355     0.5949    ]]\n",
      "rec time now 2 dataset now: Syn4\n"
     ]
    },
    {
     "name": "stderr",
     "output_type": "stream",
     "text": [
      "TPR mean: 19.5%  std: 21.8%\n",
      "FDR mean: 11.0%  std: 31.2%\n"
     ]
    },
    {
     "name": "stdout",
     "output_type": "stream",
     "text": [
      "[[0.55222425 0.63663135]\n",
      " [0.56614678 0.62402836]\n",
      " [0.5355     0.5949    ]]\n",
      "rec time now 3 dataset now: Syn4\n"
     ]
    },
    {
     "name": "stderr",
     "output_type": "stream",
     "text": [
      "TPR mean: 19.5%  std: 21.8%\n",
      "FDR mean: 11.0%  std: 31.2%\n",
      "Epoch:      0, d_loss (Acc)): 0.621, v_loss (Acc): 0.001, g_loss: -0.6632\n"
     ]
    },
    {
     "name": "stdout",
     "output_type": "stream",
     "text": [
      "[[0.55222425 0.63663135]\n",
      " [0.56614678 0.62402836]\n",
      " [0.5355     0.5949    ]]\n",
      "now at training epoch number 8200 hyp-params: lamda 1.0000 prior 0.0000\n",
      "rec time now 0 dataset now: Syn4\n"
     ]
    },
    {
     "name": "stderr",
     "output_type": "stream",
     "text": [
      "TPR mean: 26.5%  std: 29.2%\n",
      "FDR mean: 10.3%  std: 30.4%\n"
     ]
    },
    {
     "name": "stdout",
     "output_type": "stream",
     "text": [
      "[[0.55283251 0.67958607]\n",
      " [0.56664033 0.66563733]\n",
      " [0.5345     0.6166    ]]\n",
      "rec time now 1 dataset now: Syn4\n"
     ]
    },
    {
     "name": "stderr",
     "output_type": "stream",
     "text": [
      "TPR mean: 19.6%  std: 22.0%\n",
      "FDR mean: 10.3%  std: 30.4%\n"
     ]
    },
    {
     "name": "stdout",
     "output_type": "stream",
     "text": [
      "[[0.55283251 0.63617149]\n",
      " [0.56664033 0.62106535]\n",
      " [0.5345     0.5954    ]]\n",
      "rec time now 2 dataset now: Syn4\n"
     ]
    },
    {
     "name": "stderr",
     "output_type": "stream",
     "text": [
      "TPR mean: 19.6%  std: 22.0%\n",
      "FDR mean: 10.3%  std: 30.4%\n"
     ]
    },
    {
     "name": "stdout",
     "output_type": "stream",
     "text": [
      "[[0.55283251 0.63617149]\n",
      " [0.56664033 0.62106535]\n",
      " [0.5345     0.5954    ]]\n",
      "rec time now 3 dataset now: Syn4\n"
     ]
    },
    {
     "name": "stderr",
     "output_type": "stream",
     "text": [
      "TPR mean: 19.6%  std: 22.0%\n",
      "FDR mean: 10.3%  std: 30.4%\n",
      "Epoch:      0, d_loss (Acc)): 0.600, v_loss (Acc): 0.001, g_loss: -0.5998\n"
     ]
    },
    {
     "name": "stdout",
     "output_type": "stream",
     "text": [
      "[[0.55283251 0.63617149]\n",
      " [0.56664033 0.62106535]\n",
      " [0.5345     0.5954    ]]\n",
      "now at training epoch number 8300 hyp-params: lamda 1.0000 prior 0.0000\n",
      "rec time now 0 dataset now: Syn4\n"
     ]
    },
    {
     "name": "stderr",
     "output_type": "stream",
     "text": [
      "TPR mean: 27.0%  std: 29.3%\n",
      "FDR mean: 11.3%  std: 31.7%\n"
     ]
    },
    {
     "name": "stdout",
     "output_type": "stream",
     "text": [
      "[[0.55203682 0.68222963]\n",
      " [0.56603268 0.67007712]\n",
      " [0.5349     0.6187    ]]\n",
      "rec time now 1 dataset now: Syn4\n"
     ]
    },
    {
     "name": "stderr",
     "output_type": "stream",
     "text": [
      "TPR mean: 23.4%  std: 26.2%\n",
      "FDR mean: 11.3%  std: 31.7%\n"
     ]
    },
    {
     "name": "stdout",
     "output_type": "stream",
     "text": [
      "[[0.55203682 0.63494109]\n",
      " [0.56603268 0.6210355 ]\n",
      " [0.5349     0.5974    ]]\n",
      "rec time now 2 dataset now: Syn4\n"
     ]
    },
    {
     "name": "stderr",
     "output_type": "stream",
     "text": [
      "TPR mean: 23.4%  std: 26.2%\n",
      "FDR mean: 11.3%  std: 31.7%\n"
     ]
    },
    {
     "name": "stdout",
     "output_type": "stream",
     "text": [
      "[[0.55203682 0.63494109]\n",
      " [0.56603268 0.6210355 ]\n",
      " [0.5349     0.5974    ]]\n",
      "rec time now 3 dataset now: Syn4\n"
     ]
    },
    {
     "name": "stderr",
     "output_type": "stream",
     "text": [
      "TPR mean: 23.4%  std: 26.2%\n",
      "FDR mean: 11.3%  std: 31.7%\n",
      "Epoch:      0, d_loss (Acc)): 0.604, v_loss (Acc): 0.001, g_loss: -0.5515\n"
     ]
    },
    {
     "name": "stdout",
     "output_type": "stream",
     "text": [
      "[[0.55203682 0.63494109]\n",
      " [0.56603268 0.6210355 ]\n",
      " [0.5349     0.5974    ]]\n",
      "now at training epoch number 8400 hyp-params: lamda 1.0000 prior 0.0000\n",
      "rec time now 0 dataset now: Syn4\n"
     ]
    },
    {
     "name": "stderr",
     "output_type": "stream",
     "text": [
      "TPR mean: 26.9%  std: 29.3%\n",
      "FDR mean: 11.1%  std: 31.4%\n"
     ]
    },
    {
     "name": "stdout",
     "output_type": "stream",
     "text": [
      "[[0.55272898 0.68164677]\n",
      " [0.56694068 0.67049672]\n",
      " [0.5358     0.6173    ]]\n",
      "rec time now 1 dataset now: Syn4\n"
     ]
    },
    {
     "name": "stderr",
     "output_type": "stream",
     "text": [
      "TPR mean: 20.5%  std: 22.8%\n",
      "FDR mean: 11.1%  std: 31.4%\n"
     ]
    },
    {
     "name": "stdout",
     "output_type": "stream",
     "text": [
      "[[0.55272898 0.64011462]\n",
      " [0.56694068 0.62654206]\n",
      " [0.5358     0.5957    ]]\n",
      "rec time now 2 dataset now: Syn4\n"
     ]
    },
    {
     "name": "stderr",
     "output_type": "stream",
     "text": [
      "TPR mean: 20.5%  std: 22.8%\n",
      "FDR mean: 11.1%  std: 31.4%\n"
     ]
    },
    {
     "name": "stdout",
     "output_type": "stream",
     "text": [
      "[[0.55272898 0.64011462]\n",
      " [0.56694068 0.62654206]\n",
      " [0.5358     0.5957    ]]\n",
      "rec time now 3 dataset now: Syn4\n"
     ]
    },
    {
     "name": "stderr",
     "output_type": "stream",
     "text": [
      "TPR mean: 20.5%  std: 22.8%\n",
      "FDR mean: 11.1%  std: 31.4%\n",
      "Epoch:      0, d_loss (Acc)): 0.585, v_loss (Acc): 0.001, g_loss: -0.5211\n"
     ]
    },
    {
     "name": "stdout",
     "output_type": "stream",
     "text": [
      "[[0.55272898 0.64011462]\n",
      " [0.56694068 0.62654206]\n",
      " [0.5358     0.5957    ]]\n",
      "now at training epoch number 8500 hyp-params: lamda 1.0000 prior 0.0000\n",
      "rec time now 0 dataset now: Syn4\n"
     ]
    },
    {
     "name": "stderr",
     "output_type": "stream",
     "text": [
      "TPR mean: 27.0%  std: 29.3%\n",
      "FDR mean: 10.8%  std: 31.0%\n"
     ]
    },
    {
     "name": "stdout",
     "output_type": "stream",
     "text": [
      "[[0.55205178 0.68355   ]\n",
      " [0.56547476 0.67232728]\n",
      " [0.5345     0.6168    ]]\n",
      "rec time now 1 dataset now: Syn4\n"
     ]
    },
    {
     "name": "stderr",
     "output_type": "stream",
     "text": [
      "TPR mean: 23.0%  std: 25.8%\n",
      "FDR mean: 10.8%  std: 31.0%\n"
     ]
    },
    {
     "name": "stdout",
     "output_type": "stream",
     "text": [
      "[[0.55205178 0.63736614]\n",
      " [0.56547476 0.62556035]\n",
      " [0.5345     0.5958    ]]\n",
      "rec time now 2 dataset now: Syn4\n"
     ]
    },
    {
     "name": "stderr",
     "output_type": "stream",
     "text": [
      "TPR mean: 23.0%  std: 25.8%\n",
      "FDR mean: 10.8%  std: 31.0%\n"
     ]
    },
    {
     "name": "stdout",
     "output_type": "stream",
     "text": [
      "[[0.55205178 0.63736614]\n",
      " [0.56547476 0.62556035]\n",
      " [0.5345     0.5958    ]]\n",
      "rec time now 3 dataset now: Syn4\n"
     ]
    },
    {
     "name": "stderr",
     "output_type": "stream",
     "text": [
      "TPR mean: 23.0%  std: 25.8%\n",
      "FDR mean: 10.8%  std: 31.0%\n",
      "Epoch:      0, d_loss (Acc)): 0.623, v_loss (Acc): 0.001, g_loss: -0.5613\n"
     ]
    },
    {
     "name": "stdout",
     "output_type": "stream",
     "text": [
      "[[0.55205178 0.63736614]\n",
      " [0.56547476 0.62556035]\n",
      " [0.5345     0.5958    ]]\n",
      "now at training epoch number 8600 hyp-params: lamda 1.0000 prior 0.0000\n",
      "rec time now 0 dataset now: Syn4\n"
     ]
    },
    {
     "name": "stderr",
     "output_type": "stream",
     "text": [
      "TPR mean: 26.5%  std: 29.2%\n",
      "FDR mean: 9.0%  std: 28.6%\n"
     ]
    },
    {
     "name": "stdout",
     "output_type": "stream",
     "text": [
      "[[0.55265569 0.68354024]\n",
      " [0.56707692 0.67050941]\n",
      " [0.5371     0.6188    ]]\n",
      "rec time now 1 dataset now: Syn4\n"
     ]
    },
    {
     "name": "stderr",
     "output_type": "stream",
     "text": [
      "TPR mean: 18.5%  std: 20.4%\n",
      "FDR mean: 9.0%  std: 28.6%\n"
     ]
    },
    {
     "name": "stdout",
     "output_type": "stream",
     "text": [
      "[[0.55265569 0.64839215]\n",
      " [0.56707692 0.63069768]\n",
      " [0.5371     0.6002    ]]\n",
      "rec time now 2 dataset now: Syn4\n"
     ]
    },
    {
     "name": "stderr",
     "output_type": "stream",
     "text": [
      "TPR mean: 18.5%  std: 20.4%\n",
      "FDR mean: 9.0%  std: 28.6%\n"
     ]
    },
    {
     "name": "stdout",
     "output_type": "stream",
     "text": [
      "[[0.55265569 0.64839215]\n",
      " [0.56707692 0.63069768]\n",
      " [0.5371     0.6002    ]]\n",
      "rec time now 3 dataset now: Syn4\n"
     ]
    },
    {
     "name": "stderr",
     "output_type": "stream",
     "text": [
      "TPR mean: 18.5%  std: 20.4%\n",
      "FDR mean: 9.0%  std: 28.6%\n",
      "Epoch:      0, d_loss (Acc)): 0.610, v_loss (Acc): 0.001, g_loss: -0.5652\n"
     ]
    },
    {
     "name": "stdout",
     "output_type": "stream",
     "text": [
      "[[0.55265569 0.64839215]\n",
      " [0.56707692 0.63069768]\n",
      " [0.5371     0.6002    ]]\n",
      "now at training epoch number 8700 hyp-params: lamda 1.0000 prior 0.0000\n",
      "rec time now 0 dataset now: Syn4\n"
     ]
    },
    {
     "name": "stderr",
     "output_type": "stream",
     "text": [
      "TPR mean: 27.0%  std: 29.4%\n",
      "FDR mean: 9.6%  std: 29.5%\n"
     ]
    },
    {
     "name": "stdout",
     "output_type": "stream",
     "text": [
      "[[0.55263478 0.68429265]\n",
      " [0.5667776  0.67253545]\n",
      " [0.5375     0.6182    ]]\n",
      "rec time now 1 dataset now: Syn4\n"
     ]
    },
    {
     "name": "stderr",
     "output_type": "stream",
     "text": [
      "TPR mean: 20.2%  std: 22.5%\n",
      "FDR mean: 9.6%  std: 29.4%\n"
     ]
    },
    {
     "name": "stdout",
     "output_type": "stream",
     "text": [
      "[[0.55263478 0.64237458]\n",
      " [0.5667776  0.62969579]\n",
      " [0.5375     0.5991    ]]\n",
      "rec time now 2 dataset now: Syn4\n"
     ]
    },
    {
     "name": "stderr",
     "output_type": "stream",
     "text": [
      "TPR mean: 20.2%  std: 22.5%\n",
      "FDR mean: 9.6%  std: 29.4%\n"
     ]
    },
    {
     "name": "stdout",
     "output_type": "stream",
     "text": [
      "[[0.55263478 0.64237458]\n",
      " [0.5667776  0.62969579]\n",
      " [0.5375     0.5991    ]]\n",
      "rec time now 3 dataset now: Syn4\n"
     ]
    },
    {
     "name": "stderr",
     "output_type": "stream",
     "text": [
      "TPR mean: 20.2%  std: 22.5%\n",
      "FDR mean: 9.6%  std: 29.4%\n",
      "Epoch:      0, d_loss (Acc)): 0.606, v_loss (Acc): 0.001, g_loss: -0.4290\n"
     ]
    },
    {
     "name": "stdout",
     "output_type": "stream",
     "text": [
      "[[0.55263478 0.64237458]\n",
      " [0.5667776  0.62969579]\n",
      " [0.5375     0.5991    ]]\n",
      "now at training epoch number 8800 hyp-params: lamda 1.0000 prior 0.0000\n",
      "rec time now 0 dataset now: Syn4\n"
     ]
    },
    {
     "name": "stderr",
     "output_type": "stream",
     "text": [
      "TPR mean: 26.9%  std: 29.4%\n",
      "FDR mean: 8.5%  std: 27.9%\n"
     ]
    },
    {
     "name": "stdout",
     "output_type": "stream",
     "text": [
      "[[0.55280635 0.68376388]\n",
      " [0.56669013 0.66947194]\n",
      " [0.5375     0.6176    ]]\n",
      "rec time now 1 dataset now: Syn4\n"
     ]
    },
    {
     "name": "stderr",
     "output_type": "stream",
     "text": [
      "TPR mean: 19.3%  std: 21.4%\n",
      "FDR mean: 8.5%  std: 27.8%\n"
     ]
    },
    {
     "name": "stdout",
     "output_type": "stream",
     "text": [
      "[[0.55280635 0.64054792]\n",
      " [0.56669013 0.62644686]\n",
      " [0.5375     0.5943    ]]\n",
      "rec time now 2 dataset now: Syn4\n"
     ]
    },
    {
     "name": "stderr",
     "output_type": "stream",
     "text": [
      "TPR mean: 19.3%  std: 21.4%\n",
      "FDR mean: 8.5%  std: 27.8%\n"
     ]
    },
    {
     "name": "stdout",
     "output_type": "stream",
     "text": [
      "[[0.55280635 0.64054792]\n",
      " [0.56669013 0.62644686]\n",
      " [0.5375     0.5943    ]]\n",
      "rec time now 3 dataset now: Syn4\n"
     ]
    },
    {
     "name": "stderr",
     "output_type": "stream",
     "text": [
      "TPR mean: 19.3%  std: 21.4%\n",
      "FDR mean: 8.5%  std: 27.8%\n",
      "Epoch:      0, d_loss (Acc)): 0.611, v_loss (Acc): 0.000, g_loss: -0.5320\n"
     ]
    },
    {
     "name": "stdout",
     "output_type": "stream",
     "text": [
      "[[0.55280635 0.64054792]\n",
      " [0.56669013 0.62644686]\n",
      " [0.5375     0.5943    ]]\n",
      "now at training epoch number 8900 hyp-params: lamda 1.0000 prior 0.0000\n",
      "rec time now 0 dataset now: Syn4\n"
     ]
    },
    {
     "name": "stderr",
     "output_type": "stream",
     "text": [
      "TPR mean: 27.0%  std: 29.4%\n",
      "FDR mean: 8.7%  std: 28.2%\n"
     ]
    },
    {
     "name": "stdout",
     "output_type": "stream",
     "text": [
      "[[0.55267652 0.68699736]\n",
      " [0.56697581 0.67453002]\n",
      " [0.5375     0.6165    ]]\n",
      "rec time now 1 dataset now: Syn4\n"
     ]
    },
    {
     "name": "stderr",
     "output_type": "stream",
     "text": [
      "TPR mean: 19.9%  std: 22.1%\n",
      "FDR mean: 8.7%  std: 28.2%\n"
     ]
    },
    {
     "name": "stdout",
     "output_type": "stream",
     "text": [
      "[[0.55267652 0.64382891]\n",
      " [0.56697581 0.63291114]\n",
      " [0.5375     0.5977    ]]\n",
      "rec time now 2 dataset now: Syn4\n"
     ]
    },
    {
     "name": "stderr",
     "output_type": "stream",
     "text": [
      "TPR mean: 19.9%  std: 22.1%\n",
      "FDR mean: 8.7%  std: 28.2%\n"
     ]
    },
    {
     "name": "stdout",
     "output_type": "stream",
     "text": [
      "[[0.55267652 0.64382891]\n",
      " [0.56697581 0.63291114]\n",
      " [0.5375     0.5977    ]]\n",
      "rec time now 3 dataset now: Syn4\n"
     ]
    },
    {
     "name": "stderr",
     "output_type": "stream",
     "text": [
      "TPR mean: 19.9%  std: 22.1%\n",
      "FDR mean: 8.7%  std: 28.2%\n",
      "Epoch:      0, d_loss (Acc)): 0.631, v_loss (Acc): 0.000, g_loss: -0.5013\n"
     ]
    },
    {
     "name": "stdout",
     "output_type": "stream",
     "text": [
      "[[0.55267652 0.64382891]\n",
      " [0.56697581 0.63291114]\n",
      " [0.5375     0.5977    ]]\n",
      "now at training epoch number 9000 hyp-params: lamda 1.0000 prior 0.0000\n",
      "rec time now 0 dataset now: Syn4\n"
     ]
    },
    {
     "name": "stderr",
     "output_type": "stream",
     "text": [
      "TPR mean: 26.9%  std: 29.4%\n",
      "FDR mean: 8.1%  std: 27.3%\n"
     ]
    },
    {
     "name": "stdout",
     "output_type": "stream",
     "text": [
      "[[0.55276545 0.683181  ]\n",
      " [0.56633831 0.66848615]\n",
      " [0.5391     0.6187    ]]\n",
      "rec time now 1 dataset now: Syn4\n"
     ]
    },
    {
     "name": "stderr",
     "output_type": "stream",
     "text": [
      "TPR mean: 19.5%  std: 21.7%\n",
      "FDR mean: 8.1%  std: 27.3%\n"
     ]
    },
    {
     "name": "stdout",
     "output_type": "stream",
     "text": [
      "[[0.55276545 0.64851563]\n",
      " [0.56633831 0.63175834]\n",
      " [0.5391     0.6004    ]]\n",
      "rec time now 2 dataset now: Syn4\n"
     ]
    },
    {
     "name": "stderr",
     "output_type": "stream",
     "text": [
      "TPR mean: 19.5%  std: 21.7%\n",
      "FDR mean: 8.1%  std: 27.3%\n"
     ]
    },
    {
     "name": "stdout",
     "output_type": "stream",
     "text": [
      "[[0.55276545 0.64851563]\n",
      " [0.56633831 0.63175834]\n",
      " [0.5391     0.6004    ]]\n",
      "rec time now 3 dataset now: Syn4\n"
     ]
    },
    {
     "name": "stderr",
     "output_type": "stream",
     "text": [
      "TPR mean: 19.5%  std: 21.7%\n",
      "FDR mean: 8.1%  std: 27.3%\n",
      "Epoch:      0, d_loss (Acc)): 0.619, v_loss (Acc): 0.001, g_loss: -0.4978\n"
     ]
    },
    {
     "name": "stdout",
     "output_type": "stream",
     "text": [
      "[[0.55276545 0.64851563]\n",
      " [0.56633831 0.63175834]\n",
      " [0.5391     0.6004    ]]\n",
      "now at training epoch number 9100 hyp-params: lamda 1.0000 prior 0.0000\n",
      "rec time now 0 dataset now: Syn4\n"
     ]
    },
    {
     "name": "stderr",
     "output_type": "stream",
     "text": [
      "TPR mean: 26.8%  std: 29.4%\n",
      "FDR mean: 7.5%  std: 26.4%\n"
     ]
    },
    {
     "name": "stdout",
     "output_type": "stream",
     "text": [
      "[[0.552827   0.68501588]\n",
      " [0.56695025 0.67102116]\n",
      " [0.5347     0.6174    ]]\n",
      "rec time now 1 dataset now: Syn4\n"
     ]
    },
    {
     "name": "stderr",
     "output_type": "stream",
     "text": [
      "TPR mean: 18.3%  std: 20.1%\n",
      "FDR mean: 7.5%  std: 26.3%\n"
     ]
    },
    {
     "name": "stdout",
     "output_type": "stream",
     "text": [
      "[[0.552827   0.64840827]\n",
      " [0.56695025 0.63163931]\n",
      " [0.5347     0.6       ]]\n",
      "rec time now 2 dataset now: Syn4\n"
     ]
    },
    {
     "name": "stderr",
     "output_type": "stream",
     "text": [
      "TPR mean: 18.3%  std: 20.1%\n",
      "FDR mean: 7.5%  std: 26.3%\n"
     ]
    },
    {
     "name": "stdout",
     "output_type": "stream",
     "text": [
      "[[0.552827   0.64781204]\n",
      " [0.56695025 0.63144853]\n",
      " [0.5347     0.5994    ]]\n",
      "rec time now 3 dataset now: Syn4\n"
     ]
    },
    {
     "name": "stderr",
     "output_type": "stream",
     "text": [
      "TPR mean: 18.3%  std: 20.1%\n",
      "FDR mean: 7.5%  std: 26.3%\n",
      "Epoch:      0, d_loss (Acc)): 0.589, v_loss (Acc): 0.001, g_loss: -0.4606\n"
     ]
    },
    {
     "name": "stdout",
     "output_type": "stream",
     "text": [
      "[[0.552827   0.64781204]\n",
      " [0.56695025 0.63144853]\n",
      " [0.5347     0.5994    ]]\n",
      "now at training epoch number 9200 hyp-params: lamda 1.0000 prior 0.0000\n",
      "rec time now 0 dataset now: Syn4\n"
     ]
    },
    {
     "name": "stderr",
     "output_type": "stream",
     "text": [
      "TPR mean: 27.0%  std: 29.4%\n",
      "FDR mean: 8.0%  std: 27.1%\n"
     ]
    },
    {
     "name": "stdout",
     "output_type": "stream",
     "text": [
      "[[0.55273768 0.68624123]\n",
      " [0.56689474 0.67307652]\n",
      " [0.5352     0.6174    ]]\n",
      "rec time now 1 dataset now: Syn4\n"
     ]
    },
    {
     "name": "stderr",
     "output_type": "stream",
     "text": [
      "TPR mean: 19.4%  std: 21.5%\n",
      "FDR mean: 8.0%  std: 27.1%\n"
     ]
    },
    {
     "name": "stdout",
     "output_type": "stream",
     "text": [
      "[[0.55273768 0.65169514]\n",
      " [0.56689474 0.63655818]\n",
      " [0.5352     0.6016    ]]\n",
      "rec time now 2 dataset now: Syn4\n"
     ]
    },
    {
     "name": "stderr",
     "output_type": "stream",
     "text": [
      "TPR mean: 19.4%  std: 21.5%\n",
      "FDR mean: 8.0%  std: 27.1%\n"
     ]
    },
    {
     "name": "stdout",
     "output_type": "stream",
     "text": [
      "[[0.55273768 0.65169514]\n",
      " [0.56689474 0.63655818]\n",
      " [0.5352     0.6016    ]]\n",
      "rec time now 3 dataset now: Syn4\n"
     ]
    },
    {
     "name": "stderr",
     "output_type": "stream",
     "text": [
      "TPR mean: 19.4%  std: 21.5%\n",
      "FDR mean: 8.0%  std: 27.1%\n",
      "Epoch:      0, d_loss (Acc)): 0.596, v_loss (Acc): 0.000, g_loss: -0.4052\n"
     ]
    },
    {
     "name": "stdout",
     "output_type": "stream",
     "text": [
      "[[0.55273768 0.65169514]\n",
      " [0.56689474 0.63655818]\n",
      " [0.5352     0.6016    ]]\n",
      "now at training epoch number 9300 hyp-params: lamda 1.0000 prior 0.0000\n",
      "rec time now 0 dataset now: Syn4\n"
     ]
    },
    {
     "name": "stderr",
     "output_type": "stream",
     "text": [
      "TPR mean: 27.0%  std: 29.4%\n",
      "FDR mean: 7.5%  std: 26.4%\n"
     ]
    },
    {
     "name": "stdout",
     "output_type": "stream",
     "text": [
      "[[0.55212174 0.6865121 ]\n",
      " [0.56573635 0.67335946]\n",
      " [0.5354     0.6182    ]]\n",
      "rec time now 1 dataset now: Syn4\n"
     ]
    },
    {
     "name": "stderr",
     "output_type": "stream",
     "text": [
      "TPR mean: 18.4%  std: 20.0%\n",
      "FDR mean: 7.5%  std: 26.4%\n"
     ]
    },
    {
     "name": "stdout",
     "output_type": "stream",
     "text": [
      "[[0.55212174 0.63712951]\n",
      " [0.56573635 0.6203803 ]\n",
      " [0.5354     0.589     ]]\n",
      "rec time now 2 dataset now: Syn4\n"
     ]
    },
    {
     "name": "stderr",
     "output_type": "stream",
     "text": [
      "TPR mean: 18.4%  std: 20.0%\n",
      "FDR mean: 7.5%  std: 26.4%\n"
     ]
    },
    {
     "name": "stdout",
     "output_type": "stream",
     "text": [
      "[[0.55212174 0.63712951]\n",
      " [0.56573635 0.6203803 ]\n",
      " [0.5354     0.589     ]]\n",
      "rec time now 3 dataset now: Syn4\n"
     ]
    },
    {
     "name": "stderr",
     "output_type": "stream",
     "text": [
      "TPR mean: 18.4%  std: 20.0%\n",
      "FDR mean: 7.5%  std: 26.4%\n",
      "Epoch:      0, d_loss (Acc)): 0.585, v_loss (Acc): 0.000, g_loss: -0.3438\n"
     ]
    },
    {
     "name": "stdout",
     "output_type": "stream",
     "text": [
      "[[0.55212174 0.63712951]\n",
      " [0.56573635 0.6203803 ]\n",
      " [0.5354     0.589     ]]\n",
      "now at training epoch number 9400 hyp-params: lamda 1.0000 prior 0.0000\n",
      "rec time now 0 dataset now: Syn4\n"
     ]
    },
    {
     "name": "stderr",
     "output_type": "stream",
     "text": [
      "TPR mean: 27.0%  std: 29.4%\n",
      "FDR mean: 7.5%  std: 26.4%\n"
     ]
    },
    {
     "name": "stdout",
     "output_type": "stream",
     "text": [
      "[[0.55276377 0.68657926]\n",
      " [0.56625153 0.6738424 ]\n",
      " [0.538      0.6181    ]]\n",
      "rec time now 1 dataset now: Syn4\n"
     ]
    },
    {
     "name": "stderr",
     "output_type": "stream",
     "text": [
      "TPR mean: 18.3%  std: 19.8%\n",
      "FDR mean: 7.5%  std: 26.4%\n"
     ]
    },
    {
     "name": "stdout",
     "output_type": "stream",
     "text": [
      "[[0.55276377 0.58682872]\n",
      " [0.56625153 0.58228855]\n",
      " [0.538      0.5537    ]]\n",
      "rec time now 2 dataset now: Syn4\n"
     ]
    },
    {
     "name": "stderr",
     "output_type": "stream",
     "text": [
      "TPR mean: 18.3%  std: 19.8%\n",
      "FDR mean: 7.5%  std: 26.4%\n"
     ]
    },
    {
     "name": "stdout",
     "output_type": "stream",
     "text": [
      "[[0.55276377 0.58682872]\n",
      " [0.56625153 0.58228855]\n",
      " [0.538      0.5537    ]]\n",
      "rec time now 3 dataset now: Syn4\n"
     ]
    },
    {
     "name": "stderr",
     "output_type": "stream",
     "text": [
      "TPR mean: 18.3%  std: 19.8%\n",
      "FDR mean: 7.5%  std: 26.4%\n",
      "Epoch:      0, d_loss (Acc)): 0.595, v_loss (Acc): 0.001, g_loss: -0.3818\n"
     ]
    },
    {
     "name": "stdout",
     "output_type": "stream",
     "text": [
      "[[0.55276377 0.58682872]\n",
      " [0.56625153 0.58228855]\n",
      " [0.538      0.5537    ]]\n",
      "now at training epoch number 9500 hyp-params: lamda 1.0000 prior 0.0000\n",
      "rec time now 0 dataset now: Syn4\n"
     ]
    },
    {
     "name": "stderr",
     "output_type": "stream",
     "text": [
      "TPR mean: 27.1%  std: 29.4%\n",
      "FDR mean: 7.5%  std: 26.4%\n"
     ]
    },
    {
     "name": "stdout",
     "output_type": "stream",
     "text": [
      "[[0.55250112 0.68602946]\n",
      " [0.56647688 0.6732094 ]\n",
      " [0.5369     0.6173    ]]\n",
      "rec time now 1 dataset now: Syn4\n"
     ]
    },
    {
     "name": "stderr",
     "output_type": "stream",
     "text": [
      "TPR mean: 18.4%  std: 19.8%\n",
      "FDR mean: 7.5%  std: 26.4%\n"
     ]
    },
    {
     "name": "stdout",
     "output_type": "stream",
     "text": [
      "[[0.55250112 0.58113976]\n",
      " [0.56647688 0.57940317]\n",
      " [0.5369     0.5485    ]]\n",
      "rec time now 2 dataset now: Syn4\n"
     ]
    },
    {
     "name": "stderr",
     "output_type": "stream",
     "text": [
      "TPR mean: 18.4%  std: 19.8%\n",
      "FDR mean: 7.5%  std: 26.4%\n"
     ]
    },
    {
     "name": "stdout",
     "output_type": "stream",
     "text": [
      "[[0.55250112 0.58113976]\n",
      " [0.56647688 0.57940317]\n",
      " [0.5369     0.5485    ]]\n",
      "rec time now 3 dataset now: Syn4\n"
     ]
    },
    {
     "name": "stderr",
     "output_type": "stream",
     "text": [
      "TPR mean: 18.4%  std: 19.8%\n",
      "FDR mean: 7.5%  std: 26.4%\n",
      "Epoch:      0, d_loss (Acc)): 0.612, v_loss (Acc): 0.000, g_loss: -0.4059\n"
     ]
    },
    {
     "name": "stdout",
     "output_type": "stream",
     "text": [
      "[[0.55250112 0.58113976]\n",
      " [0.56647688 0.57940317]\n",
      " [0.5369     0.5485    ]]\n",
      "now at training epoch number 9600 hyp-params: lamda 1.0000 prior 0.0000\n",
      "rec time now 0 dataset now: Syn4\n"
     ]
    },
    {
     "name": "stderr",
     "output_type": "stream",
     "text": [
      "TPR mean: 27.1%  std: 29.4%\n",
      "FDR mean: 7.2%  std: 25.9%\n"
     ]
    },
    {
     "name": "stdout",
     "output_type": "stream",
     "text": [
      "[[0.55218728 0.68347506]\n",
      " [0.56530871 0.67117938]\n",
      " [0.5365     0.6166    ]]\n",
      "rec time now 1 dataset now: Syn4\n"
     ]
    },
    {
     "name": "stderr",
     "output_type": "stream",
     "text": [
      "TPR mean: 18.3%  std: 19.7%\n",
      "FDR mean: 7.2%  std: 25.9%\n"
     ]
    },
    {
     "name": "stdout",
     "output_type": "stream",
     "text": [
      "[[0.55218728 0.57659306]\n",
      " [0.56530871 0.57781563]\n",
      " [0.5365     0.5454    ]]\n",
      "rec time now 2 dataset now: Syn4\n"
     ]
    },
    {
     "name": "stderr",
     "output_type": "stream",
     "text": [
      "TPR mean: 18.3%  std: 19.7%\n",
      "FDR mean: 7.2%  std: 25.9%\n"
     ]
    },
    {
     "name": "stdout",
     "output_type": "stream",
     "text": [
      "[[0.55218728 0.57659306]\n",
      " [0.56530871 0.57781563]\n",
      " [0.5365     0.5454    ]]\n",
      "rec time now 3 dataset now: Syn4\n"
     ]
    },
    {
     "name": "stderr",
     "output_type": "stream",
     "text": [
      "TPR mean: 18.3%  std: 19.7%\n",
      "FDR mean: 7.2%  std: 25.9%\n",
      "Epoch:      0, d_loss (Acc)): 0.588, v_loss (Acc): 0.000, g_loss: -0.3829\n"
     ]
    },
    {
     "name": "stdout",
     "output_type": "stream",
     "text": [
      "[[0.55218728 0.57659306]\n",
      " [0.56530871 0.57781563]\n",
      " [0.5365     0.5454    ]]\n",
      "now at training epoch number 9700 hyp-params: lamda 1.0000 prior 0.0000\n",
      "rec time now 0 dataset now: Syn4\n"
     ]
    },
    {
     "name": "stderr",
     "output_type": "stream",
     "text": [
      "TPR mean: 27.1%  std: 29.5%\n",
      "FDR mean: 6.8%  std: 25.2%\n"
     ]
    },
    {
     "name": "stdout",
     "output_type": "stream",
     "text": [
      "[[0.55245763 0.6872071 ]\n",
      " [0.5651276  0.67505289]\n",
      " [0.5356     0.6181    ]]\n",
      "rec time now 1 dataset now: Syn4\n"
     ]
    },
    {
     "name": "stderr",
     "output_type": "stream",
     "text": [
      "TPR mean: 18.3%  std: 19.8%\n",
      "FDR mean: 6.8%  std: 25.2%\n"
     ]
    },
    {
     "name": "stdout",
     "output_type": "stream",
     "text": [
      "[[0.55245763 0.58272921]\n",
      " [0.5651276  0.58033533]\n",
      " [0.5356     0.5502    ]]\n",
      "rec time now 2 dataset now: Syn4\n"
     ]
    },
    {
     "name": "stderr",
     "output_type": "stream",
     "text": [
      "TPR mean: 18.3%  std: 19.8%\n",
      "FDR mean: 6.8%  std: 25.2%\n"
     ]
    },
    {
     "name": "stdout",
     "output_type": "stream",
     "text": [
      "[[0.55245763 0.58272921]\n",
      " [0.5651276  0.58033533]\n",
      " [0.5356     0.5502    ]]\n",
      "rec time now 3 dataset now: Syn4\n"
     ]
    },
    {
     "name": "stderr",
     "output_type": "stream",
     "text": [
      "TPR mean: 18.3%  std: 19.8%\n",
      "FDR mean: 6.8%  std: 25.2%\n",
      "Epoch:      0, d_loss (Acc)): 0.587, v_loss (Acc): 0.000, g_loss: -0.4171\n"
     ]
    },
    {
     "name": "stdout",
     "output_type": "stream",
     "text": [
      "[[0.55245763 0.58272921]\n",
      " [0.5651276  0.58033533]\n",
      " [0.5356     0.5502    ]]\n",
      "now at training epoch number 9800 hyp-params: lamda 1.0000 prior 0.0000\n",
      "rec time now 0 dataset now: Syn4\n"
     ]
    },
    {
     "name": "stderr",
     "output_type": "stream",
     "text": [
      "TPR mean: 26.9%  std: 29.4%\n",
      "FDR mean: 6.3%  std: 24.4%\n"
     ]
    },
    {
     "name": "stdout",
     "output_type": "stream",
     "text": [
      "[[0.55287802 0.68388378]\n",
      " [0.56578023 0.6705856 ]\n",
      " [0.536      0.6159    ]]\n",
      "rec time now 1 dataset now: Syn4\n"
     ]
    },
    {
     "name": "stderr",
     "output_type": "stream",
     "text": [
      "TPR mean: 18.0%  std: 19.7%\n",
      "FDR mean: 6.3%  std: 24.3%\n"
     ]
    },
    {
     "name": "stdout",
     "output_type": "stream",
     "text": [
      "[[0.55287802 0.56653846]\n",
      " [0.56578023 0.56998042]\n",
      " [0.536      0.5368    ]]\n",
      "rec time now 2 dataset now: Syn4\n"
     ]
    },
    {
     "name": "stderr",
     "output_type": "stream",
     "text": [
      "TPR mean: 18.0%  std: 19.7%\n",
      "FDR mean: 6.3%  std: 24.3%\n"
     ]
    },
    {
     "name": "stdout",
     "output_type": "stream",
     "text": [
      "[[0.55287802 0.56653846]\n",
      " [0.56578023 0.56998042]\n",
      " [0.536      0.5368    ]]\n",
      "rec time now 3 dataset now: Syn4\n"
     ]
    },
    {
     "name": "stderr",
     "output_type": "stream",
     "text": [
      "TPR mean: 18.0%  std: 19.7%\n",
      "FDR mean: 6.3%  std: 24.3%\n",
      "Epoch:      0, d_loss (Acc)): 0.606, v_loss (Acc): 0.000, g_loss: -0.3884\n"
     ]
    },
    {
     "name": "stdout",
     "output_type": "stream",
     "text": [
      "[[0.55287802 0.56653846]\n",
      " [0.56578023 0.56998042]\n",
      " [0.536      0.5368    ]]\n",
      "now at training epoch number 9900 hyp-params: lamda 1.0000 prior 0.0000\n",
      "rec time now 0 dataset now: Syn4\n"
     ]
    },
    {
     "name": "stderr",
     "output_type": "stream",
     "text": [
      "TPR mean: 27.0%  std: 29.5%\n",
      "FDR mean: 6.5%  std: 24.7%\n"
     ]
    },
    {
     "name": "stdout",
     "output_type": "stream",
     "text": [
      "[[0.55215372 0.6855131 ]\n",
      " [0.56538644 0.67260597]\n",
      " [0.5366     0.6183    ]]\n",
      "rec time now 1 dataset now: Syn4\n"
     ]
    },
    {
     "name": "stderr",
     "output_type": "stream",
     "text": [
      "TPR mean: 18.0%  std: 19.6%\n",
      "FDR mean: 6.4%  std: 24.5%\n"
     ]
    },
    {
     "name": "stdout",
     "output_type": "stream",
     "text": [
      "[[0.55215372 0.58576294]\n",
      " [0.56538644 0.58231512]\n",
      " [0.5366     0.5513    ]]\n",
      "rec time now 2 dataset now: Syn4\n"
     ]
    },
    {
     "name": "stderr",
     "output_type": "stream",
     "text": [
      "TPR mean: 18.0%  std: 19.6%\n",
      "FDR mean: 6.4%  std: 24.5%\n"
     ]
    },
    {
     "name": "stdout",
     "output_type": "stream",
     "text": [
      "[[0.55215372 0.58586859]\n",
      " [0.56538644 0.58236971]\n",
      " [0.5366     0.5512    ]]\n",
      "rec time now 3 dataset now: Syn4\n"
     ]
    },
    {
     "name": "stderr",
     "output_type": "stream",
     "text": [
      "TPR mean: 18.0%  std: 19.6%\n",
      "FDR mean: 6.4%  std: 24.5%\n",
      "invase: Syn5 10000 . Y\n",
      "(10000, 100) (10000, 2) (10000, 100) (10000, 2)\n",
      "input shape: 100\n",
      "Epoch:      0, d_loss (Acc)): 0.814, v_loss (Acc): 0.769, g_loss: -2.4919\n"
     ]
    },
    {
     "name": "stdout",
     "output_type": "stream",
     "text": [
      "[[0.55215372 0.58586859]\n",
      " [0.56538644 0.58236971]\n",
      " [0.5366     0.5512    ]]\n",
      "PyTorch Version: elapsed time for Syn4: 100 feature, 10000 sample: [1046.6599] sec.\n",
      "now at training epoch number 0 hyp-params: lamda 1.0000 prior 0.0000\n",
      "rec time now 0 dataset now: Syn5\n"
     ]
    },
    {
     "name": "stderr",
     "output_type": "stream",
     "text": [
      "TPR mean: 46.5%  std: 25.2%\n",
      "FDR mean: 95.7%  std: 2.9%\n"
     ]
    },
    {
     "name": "stdout",
     "output_type": "stream",
     "text": [
      "[[0.67156877 0.63954465]\n",
      " [0.66376603 0.64008902]\n",
      " [0.6344     0.5962    ]]\n",
      "rec time now 1 dataset now: Syn5\n"
     ]
    },
    {
     "name": "stderr",
     "output_type": "stream",
     "text": [
      "TPR mean: 34.9%  std: 24.9%\n",
      "FDR mean: 95.4%  std: 3.8%\n"
     ]
    },
    {
     "name": "stdout",
     "output_type": "stream",
     "text": [
      "[[0.67156877 0.63561445]\n",
      " [0.66376603 0.63671187]\n",
      " [0.6344     0.5936    ]]\n",
      "rec time now 2 dataset now: Syn5\n"
     ]
    },
    {
     "name": "stderr",
     "output_type": "stream",
     "text": [
      "TPR mean: 30.4%  std: 24.3%\n",
      "FDR mean: 95.2%  std: 4.3%\n"
     ]
    },
    {
     "name": "stdout",
     "output_type": "stream",
     "text": [
      "[[0.67156877 0.63029099]\n",
      " [0.66376603 0.63258824]\n",
      " [0.6344     0.591     ]]\n",
      "rec time now 3 dataset now: Syn5\n"
     ]
    },
    {
     "name": "stderr",
     "output_type": "stream",
     "text": [
      "TPR mean: 28.5%  std: 24.0%\n",
      "FDR mean: 95.1%  std: 4.6%\n",
      "Epoch:      0, d_loss (Acc)): 0.663, v_loss (Acc): 0.633, g_loss: -1.5756\n"
     ]
    },
    {
     "name": "stdout",
     "output_type": "stream",
     "text": [
      "[[0.67156877 0.62685924]\n",
      " [0.66376603 0.62928465]\n",
      " [0.6344     0.587     ]]\n",
      "now at training epoch number 100 hyp-params: lamda 1.0000 prior 0.0000\n",
      "rec time now 0 dataset now: Syn5\n"
     ]
    },
    {
     "name": "stderr",
     "output_type": "stream",
     "text": [
      "TPR mean: 45.2%  std: 25.5%\n",
      "FDR mean: 95.4%  std: 3.2%\n"
     ]
    },
    {
     "name": "stdout",
     "output_type": "stream",
     "text": [
      "[[0.67562862 0.65107906]\n",
      " [0.66587474 0.64482743]\n",
      " [0.6383     0.605     ]]\n",
      "rec time now 1 dataset now: Syn5\n"
     ]
    },
    {
     "name": "stderr",
     "output_type": "stream",
     "text": [
      "TPR mean: 33.2%  std: 25.2%\n",
      "FDR mean: 94.8%  std: 4.6%\n"
     ]
    },
    {
     "name": "stdout",
     "output_type": "stream",
     "text": [
      "[[0.67562862 0.64935942]\n",
      " [0.66587474 0.64677789]\n",
      " [0.6383     0.6023    ]]\n",
      "rec time now 2 dataset now: Syn5\n"
     ]
    },
    {
     "name": "stderr",
     "output_type": "stream",
     "text": [
      "TPR mean: 28.5%  std: 24.6%\n",
      "FDR mean: 94.4%  std: 5.5%\n"
     ]
    },
    {
     "name": "stdout",
     "output_type": "stream",
     "text": [
      "[[0.67562862 0.64675239]\n",
      " [0.66587474 0.64338828]\n",
      " [0.6383     0.6023    ]]\n",
      "rec time now 3 dataset now: Syn5\n"
     ]
    },
    {
     "name": "stderr",
     "output_type": "stream",
     "text": [
      "TPR mean: 26.6%  std: 24.3%\n",
      "FDR mean: 94.1%  std: 6.0%\n",
      "Epoch:      0, d_loss (Acc)): 0.667, v_loss (Acc): 0.642, g_loss: -1.1951\n"
     ]
    },
    {
     "name": "stdout",
     "output_type": "stream",
     "text": [
      "[[0.67562862 0.64723262]\n",
      " [0.66587474 0.64309589]\n",
      " [0.6383     0.6045    ]]\n",
      "now at training epoch number 200 hyp-params: lamda 1.0000 prior 0.0000\n",
      "rec time now 0 dataset now: Syn5\n"
     ]
    },
    {
     "name": "stderr",
     "output_type": "stream",
     "text": [
      "TPR mean: 43.2%  std: 26.2%\n",
      "FDR mean: 94.9%  std: 3.7%\n"
     ]
    },
    {
     "name": "stdout",
     "output_type": "stream",
     "text": [
      "[[0.67781119 0.66349099]\n",
      " [0.67063316 0.65756383]\n",
      " [0.6367     0.6132    ]]\n",
      "rec time now 1 dataset now: Syn5\n"
     ]
    },
    {
     "name": "stderr",
     "output_type": "stream",
     "text": [
      "TPR mean: 31.1%  std: 25.6%\n",
      "FDR mean: 93.8%  std: 5.8%\n"
     ]
    },
    {
     "name": "stdout",
     "output_type": "stream",
     "text": [
      "[[0.67781119 0.66255309]\n",
      " [0.67063316 0.65601561]\n",
      " [0.6367     0.6162    ]]\n",
      "rec time now 2 dataset now: Syn5\n"
     ]
    },
    {
     "name": "stderr",
     "output_type": "stream",
     "text": [
      "TPR mean: 26.6%  std: 25.0%\n",
      "FDR mean: 92.9%  std: 7.5%\n"
     ]
    },
    {
     "name": "stdout",
     "output_type": "stream",
     "text": [
      "[[0.67781119 0.66092656]\n",
      " [0.67063316 0.65582307]\n",
      " [0.6367     0.6139    ]]\n",
      "rec time now 3 dataset now: Syn5\n"
     ]
    },
    {
     "name": "stderr",
     "output_type": "stream",
     "text": [
      "TPR mean: 24.7%  std: 24.6%\n",
      "FDR mean: 92.3%  std: 8.5%\n",
      "Epoch:      0, d_loss (Acc)): 0.659, v_loss (Acc): 0.604, g_loss: -3.3332\n"
     ]
    },
    {
     "name": "stdout",
     "output_type": "stream",
     "text": [
      "[[0.67781119 0.65900621]\n",
      " [0.67063316 0.65499149]\n",
      " [0.6367     0.6123    ]]\n",
      "now at training epoch number 300 hyp-params: lamda 1.0000 prior 0.0000\n",
      "rec time now 0 dataset now: Syn5\n"
     ]
    },
    {
     "name": "stderr",
     "output_type": "stream",
     "text": [
      "TPR mean: 40.8%  std: 26.7%\n",
      "FDR mean: 94.3%  std: 4.6%\n"
     ]
    },
    {
     "name": "stdout",
     "output_type": "stream",
     "text": [
      "[[0.67692981 0.67278519]\n",
      " [0.66837425 0.66702125]\n",
      " [0.6369     0.6247    ]]\n",
      "rec time now 1 dataset now: Syn5\n"
     ]
    },
    {
     "name": "stderr",
     "output_type": "stream",
     "text": [
      "TPR mean: 28.3%  std: 25.8%\n",
      "FDR mean: 92.1%  std: 8.2%\n"
     ]
    },
    {
     "name": "stdout",
     "output_type": "stream",
     "text": [
      "[[0.67692981 0.67240915]\n",
      " [0.66837425 0.66837596]\n",
      " [0.6369     0.6219    ]]\n",
      "rec time now 2 dataset now: Syn5\n"
     ]
    },
    {
     "name": "stderr",
     "output_type": "stream",
     "text": [
      "TPR mean: 24.0%  std: 24.7%\n",
      "FDR mean: 90.2%  std: 11.3%\n"
     ]
    },
    {
     "name": "stdout",
     "output_type": "stream",
     "text": [
      "[[0.67692981 0.66866533]\n",
      " [0.66837425 0.66750043]\n",
      " [0.6369     0.6189    ]]\n",
      "rec time now 3 dataset now: Syn5\n"
     ]
    },
    {
     "name": "stderr",
     "output_type": "stream",
     "text": [
      "TPR mean: 22.3%  std: 24.1%\n",
      "FDR mean: 88.9%  std: 13.3%\n",
      "Epoch:      0, d_loss (Acc)): 0.647, v_loss (Acc): 0.600, g_loss: -2.7713\n"
     ]
    },
    {
     "name": "stdout",
     "output_type": "stream",
     "text": [
      "[[0.67692981 0.66749268]\n",
      " [0.66837425 0.6665289 ]\n",
      " [0.6369     0.619     ]]\n",
      "now at training epoch number 400 hyp-params: lamda 1.0000 prior 0.0000\n",
      "rec time now 0 dataset now: Syn5\n"
     ]
    },
    {
     "name": "stderr",
     "output_type": "stream",
     "text": [
      "TPR mean: 37.8%  std: 26.9%\n",
      "FDR mean: 93.1%  std: 6.0%\n"
     ]
    },
    {
     "name": "stdout",
     "output_type": "stream",
     "text": [
      "[[0.67335384 0.67325612]\n",
      " [0.66805417 0.66870091]\n",
      " [0.6339     0.6254    ]]\n",
      "rec time now 1 dataset now: Syn5\n"
     ]
    },
    {
     "name": "stderr",
     "output_type": "stream",
     "text": [
      "TPR mean: 25.3%  std: 25.1%\n",
      "FDR mean: 88.5%  std: 12.8%\n"
     ]
    },
    {
     "name": "stdout",
     "output_type": "stream",
     "text": [
      "[[0.67335384 0.67434667]\n",
      " [0.66805417 0.67119827]\n",
      " [0.6339     0.6245    ]]\n",
      "rec time now 2 dataset now: Syn5\n"
     ]
    },
    {
     "name": "stderr",
     "output_type": "stream",
     "text": [
      "TPR mean: 21.4%  std: 23.3%\n",
      "FDR mean: 84.5%  std: 18.6%\n"
     ]
    },
    {
     "name": "stdout",
     "output_type": "stream",
     "text": [
      "[[0.67335384 0.67179939]\n",
      " [0.66805417 0.66847243]\n",
      " [0.6339     0.6191    ]]\n",
      "rec time now 3 dataset now: Syn5\n"
     ]
    },
    {
     "name": "stderr",
     "output_type": "stream",
     "text": [
      "TPR mean: 20.1%  std: 22.4%\n",
      "FDR mean: 82.0%  std: 22.2%\n",
      "Epoch:      0, d_loss (Acc)): 0.662, v_loss (Acc): 0.584, g_loss: -4.8171\n"
     ]
    },
    {
     "name": "stdout",
     "output_type": "stream",
     "text": [
      "[[0.67335384 0.6720489 ]\n",
      " [0.66805417 0.66881861]\n",
      " [0.6339     0.6219    ]]\n",
      "now at training epoch number 500 hyp-params: lamda 1.0000 prior 0.0000\n",
      "rec time now 0 dataset now: Syn5\n"
     ]
    },
    {
     "name": "stderr",
     "output_type": "stream",
     "text": [
      "TPR mean: 33.7%  std: 26.5%\n",
      "FDR mean: 90.6%  std: 9.2%\n"
     ]
    },
    {
     "name": "stdout",
     "output_type": "stream",
     "text": [
      "[[0.675101   0.67898205]\n",
      " [0.66939192 0.67498415]\n",
      " [0.6353     0.6289    ]]\n",
      "rec time now 1 dataset now: Syn5\n"
     ]
    },
    {
     "name": "stderr",
     "output_type": "stream",
     "text": [
      "TPR mean: 22.0%  std: 23.2%\n",
      "FDR mean: 79.3%  std: 24.4%\n"
     ]
    },
    {
     "name": "stdout",
     "output_type": "stream",
     "text": [
      "[[0.675101   0.6754923 ]\n",
      " [0.66939192 0.668977  ]\n",
      " [0.6353     0.6246    ]]\n",
      "rec time now 2 dataset now: Syn5\n"
     ]
    },
    {
     "name": "stderr",
     "output_type": "stream",
     "text": [
      "TPR mean: 19.3%  std: 20.8%\n",
      "FDR mean: 70.7%  std: 33.9%\n"
     ]
    },
    {
     "name": "stdout",
     "output_type": "stream",
     "text": [
      "[[0.675101   0.67381266]\n",
      " [0.66939192 0.66653762]\n",
      " [0.6353     0.623     ]]\n",
      "rec time now 3 dataset now: Syn5\n"
     ]
    },
    {
     "name": "stderr",
     "output_type": "stream",
     "text": [
      "TPR mean: 18.8%  std: 20.2%\n",
      "FDR mean: 67.5%  std: 36.8%\n",
      "Epoch:      0, d_loss (Acc)): 0.651, v_loss (Acc): 0.563, g_loss: -5.4709\n"
     ]
    },
    {
     "name": "stdout",
     "output_type": "stream",
     "text": [
      "[[0.675101   0.67379923]\n",
      " [0.66939192 0.66567019]\n",
      " [0.6353     0.625     ]]\n",
      "now at training epoch number 600 hyp-params: lamda 1.0000 prior 0.0000\n",
      "rec time now 0 dataset now: Syn5\n"
     ]
    },
    {
     "name": "stderr",
     "output_type": "stream",
     "text": [
      "TPR mean: 30.4%  std: 26.7%\n",
      "FDR mean: 83.9%  std: 17.9%\n"
     ]
    },
    {
     "name": "stdout",
     "output_type": "stream",
     "text": [
      "[[0.66851199 0.68101395]\n",
      " [0.66352022 0.67522952]\n",
      " [0.6284     0.6298    ]]\n",
      "rec time now 1 dataset now: Syn5\n"
     ]
    },
    {
     "name": "stderr",
     "output_type": "stream",
     "text": [
      "TPR mean: 20.6%  std: 21.8%\n",
      "FDR mean: 61.0%  std: 42.3%\n"
     ]
    },
    {
     "name": "stdout",
     "output_type": "stream",
     "text": [
      "[[0.66851199 0.67339902]\n",
      " [0.66352022 0.66161223]\n",
      " [0.6284     0.6279    ]]\n",
      "rec time now 2 dataset now: Syn5\n"
     ]
    },
    {
     "name": "stderr",
     "output_type": "stream",
     "text": [
      "TPR mean: 19.3%  std: 20.2%\n",
      "FDR mean: 54.4%  std: 46.7%\n"
     ]
    },
    {
     "name": "stdout",
     "output_type": "stream",
     "text": [
      "[[0.66851199 0.67045585]\n",
      " [0.66352022 0.65639176]\n",
      " [0.6284     0.6264    ]]\n",
      "rec time now 3 dataset now: Syn5\n"
     ]
    },
    {
     "name": "stderr",
     "output_type": "stream",
     "text": [
      "TPR mean: 19.2%  std: 20.0%\n",
      "FDR mean: 53.4%  std: 47.2%\n",
      "Epoch:      0, d_loss (Acc)): 0.653, v_loss (Acc): 0.529, g_loss: -7.7944\n"
     ]
    },
    {
     "name": "stdout",
     "output_type": "stream",
     "text": [
      "[[0.66851199 0.67105004]\n",
      " [0.66352022 0.65594728]\n",
      " [0.6284     0.6268    ]]\n",
      "now at training epoch number 700 hyp-params: lamda 1.0000 prior 0.0000\n",
      "rec time now 0 dataset now: Syn5\n"
     ]
    },
    {
     "name": "stderr",
     "output_type": "stream",
     "text": [
      "TPR mean: 27.1%  std: 26.3%\n",
      "FDR mean: 70.1%  std: 33.5%\n"
     ]
    },
    {
     "name": "stdout",
     "output_type": "stream",
     "text": [
      "[[0.66377534 0.68145358]\n",
      " [0.65757813 0.67453526]\n",
      " [0.6207     0.6319    ]]\n",
      "rec time now 1 dataset now: Syn5\n"
     ]
    },
    {
     "name": "stderr",
     "output_type": "stream",
     "text": [
      "TPR mean: 20.0%  std: 20.7%\n",
      "FDR mean: 50.8%  std: 49.5%\n"
     ]
    },
    {
     "name": "stdout",
     "output_type": "stream",
     "text": [
      "[[0.66377534 0.67310607]\n",
      " [0.65757813 0.65963203]\n",
      " [0.6207     0.6281    ]]\n",
      "rec time now 2 dataset now: Syn5\n"
     ]
    },
    {
     "name": "stderr",
     "output_type": "stream",
     "text": [
      "TPR mean: 19.5%  std: 20.0%\n",
      "FDR mean: 49.9%  std: 49.9%\n"
     ]
    },
    {
     "name": "stdout",
     "output_type": "stream",
     "text": [
      "[[0.66377534 0.67154778]\n",
      " [0.65757813 0.65520426]\n",
      " [0.6207     0.627     ]]\n",
      "rec time now 3 dataset now: Syn5\n"
     ]
    },
    {
     "name": "stderr",
     "output_type": "stream",
     "text": [
      "TPR mean: 19.5%  std: 20.0%\n",
      "FDR mean: 49.9%  std: 49.9%\n",
      "Epoch:      0, d_loss (Acc)): 0.630, v_loss (Acc): 0.517, g_loss: -6.8181\n"
     ]
    },
    {
     "name": "stdout",
     "output_type": "stream",
     "text": [
      "[[0.66377534 0.67158535]\n",
      " [0.65757813 0.65531682]\n",
      " [0.6207     0.6271    ]]\n",
      "now at training epoch number 800 hyp-params: lamda 1.0000 prior 0.0000\n",
      "rec time now 0 dataset now: Syn5\n"
     ]
    },
    {
     "name": "stderr",
     "output_type": "stream",
     "text": [
      "TPR mean: 24.9%  std: 25.5%\n",
      "FDR mean: 55.3%  std: 46.3%\n"
     ]
    },
    {
     "name": "stdout",
     "output_type": "stream",
     "text": [
      "[[0.66628008 0.67896517]\n",
      " [0.66599546 0.66968068]\n",
      " [0.6223     0.6308    ]]\n",
      "rec time now 1 dataset now: Syn5\n"
     ]
    },
    {
     "name": "stderr",
     "output_type": "stream",
     "text": [
      "TPR mean: 19.7%  std: 20.1%\n",
      "FDR mean: 50.3%  std: 50.0%\n"
     ]
    },
    {
     "name": "stdout",
     "output_type": "stream",
     "text": [
      "[[0.66628008 0.66975492]\n",
      " [0.66599546 0.65608244]\n",
      " [0.6223     0.6241    ]]\n",
      "rec time now 2 dataset now: Syn5\n"
     ]
    },
    {
     "name": "stderr",
     "output_type": "stream",
     "text": [
      "TPR mean: 19.6%  std: 20.0%\n",
      "FDR mean: 50.2%  std: 50.0%\n"
     ]
    },
    {
     "name": "stdout",
     "output_type": "stream",
     "text": [
      "[[0.66628008 0.66930417]\n",
      " [0.66599546 0.65522   ]\n",
      " [0.6223     0.6241    ]]\n",
      "rec time now 3 dataset now: Syn5\n"
     ]
    },
    {
     "name": "stderr",
     "output_type": "stream",
     "text": [
      "TPR mean: 19.6%  std: 20.0%\n",
      "FDR mean: 50.2%  std: 50.0%\n",
      "Epoch:      0, d_loss (Acc)): 0.649, v_loss (Acc): 0.495, g_loss: -8.7361\n"
     ]
    },
    {
     "name": "stdout",
     "output_type": "stream",
     "text": [
      "[[0.66628008 0.66930417]\n",
      " [0.66599546 0.65522   ]\n",
      " [0.6223     0.6241    ]]\n",
      "now at training epoch number 900 hyp-params: lamda 1.0000 prior 0.0000\n",
      "rec time now 0 dataset now: Syn5\n"
     ]
    },
    {
     "name": "stderr",
     "output_type": "stream",
     "text": [
      "TPR mean: 23.9%  std: 24.8%\n",
      "FDR mean: 50.7%  std: 49.6%\n"
     ]
    },
    {
     "name": "stdout",
     "output_type": "stream",
     "text": [
      "[[0.66121387 0.67004329]\n",
      " [0.65756435 0.65809919]\n",
      " [0.6179     0.6265    ]]\n",
      "rec time now 1 dataset now: Syn5\n"
     ]
    },
    {
     "name": "stderr",
     "output_type": "stream",
     "text": [
      "TPR mean: 19.7%  std: 20.0%\n",
      "FDR mean: 50.5%  std: 50.0%\n"
     ]
    },
    {
     "name": "stdout",
     "output_type": "stream",
     "text": [
      "[[0.66121387 0.66372351]\n",
      " [0.65756435 0.64768298]\n",
      " [0.6179     0.6214    ]]\n",
      "rec time now 2 dataset now: Syn5\n"
     ]
    },
    {
     "name": "stderr",
     "output_type": "stream",
     "text": [
      "TPR mean: 19.7%  std: 20.0%\n",
      "FDR mean: 50.5%  std: 50.0%\n"
     ]
    },
    {
     "name": "stdout",
     "output_type": "stream",
     "text": [
      "[[0.66121387 0.66365702]\n",
      " [0.65756435 0.64680495]\n",
      " [0.6179     0.6214    ]]\n",
      "rec time now 3 dataset now: Syn5\n"
     ]
    },
    {
     "name": "stderr",
     "output_type": "stream",
     "text": [
      "TPR mean: 19.7%  std: 20.0%\n",
      "FDR mean: 50.5%  std: 50.0%\n",
      "Epoch:      0, d_loss (Acc)): 0.639, v_loss (Acc): 0.479, g_loss: -8.0478\n"
     ]
    },
    {
     "name": "stdout",
     "output_type": "stream",
     "text": [
      "[[0.66121387 0.66365702]\n",
      " [0.65756435 0.64680495]\n",
      " [0.6179     0.6214    ]]\n",
      "now at training epoch number 1000 hyp-params: lamda 1.0000 prior 0.0000\n",
      "rec time now 0 dataset now: Syn5\n"
     ]
    },
    {
     "name": "stderr",
     "output_type": "stream",
     "text": [
      "TPR mean: 22.8%  std: 23.6%\n",
      "FDR mean: 50.3%  std: 49.8%\n"
     ]
    },
    {
     "name": "stdout",
     "output_type": "stream",
     "text": [
      "[[0.65371864 0.67358882]\n",
      " [0.65404163 0.66490982]\n",
      " [0.6123     0.6294    ]]\n",
      "rec time now 1 dataset now: Syn5\n"
     ]
    },
    {
     "name": "stderr",
     "output_type": "stream",
     "text": [
      "TPR mean: 19.8%  std: 20.0%\n",
      "FDR mean: 50.5%  std: 50.0%\n"
     ]
    },
    {
     "name": "stdout",
     "output_type": "stream",
     "text": [
      "[[0.65371864 0.67037399]\n",
      " [0.65404163 0.6556436 ]\n",
      " [0.6123     0.6256    ]]\n",
      "rec time now 2 dataset now: Syn5\n"
     ]
    },
    {
     "name": "stderr",
     "output_type": "stream",
     "text": [
      "TPR mean: 19.8%  std: 20.0%\n",
      "FDR mean: 50.5%  std: 50.0%\n"
     ]
    },
    {
     "name": "stdout",
     "output_type": "stream",
     "text": [
      "[[0.65371864 0.67024616]\n",
      " [0.65404163 0.65525784]\n",
      " [0.6123     0.6252    ]]\n",
      "rec time now 3 dataset now: Syn5\n"
     ]
    },
    {
     "name": "stderr",
     "output_type": "stream",
     "text": [
      "TPR mean: 19.8%  std: 20.0%\n",
      "FDR mean: 50.5%  std: 50.0%\n",
      "Epoch:      0, d_loss (Acc)): 0.627, v_loss (Acc): 0.457, g_loss: -7.2777\n"
     ]
    },
    {
     "name": "stdout",
     "output_type": "stream",
     "text": [
      "[[0.65371864 0.67024616]\n",
      " [0.65404163 0.65525784]\n",
      " [0.6123     0.6252    ]]\n",
      "now at training epoch number 1100 hyp-params: lamda 1.0000 prior 0.0000\n",
      "rec time now 0 dataset now: Syn5\n"
     ]
    },
    {
     "name": "stderr",
     "output_type": "stream",
     "text": [
      "TPR mean: 22.6%  std: 23.2%\n",
      "FDR mean: 50.2%  std: 49.7%\n"
     ]
    },
    {
     "name": "stdout",
     "output_type": "stream",
     "text": [
      "[[0.65097168 0.6711803 ]\n",
      " [0.64862188 0.66272664]\n",
      " [0.6088     0.628     ]]\n",
      "rec time now 1 dataset now: Syn5\n"
     ]
    },
    {
     "name": "stderr",
     "output_type": "stream",
     "text": [
      "TPR mean: 19.8%  std: 20.0%\n",
      "FDR mean: 50.6%  std: 50.0%\n"
     ]
    },
    {
     "name": "stdout",
     "output_type": "stream",
     "text": [
      "[[0.65097168 0.66849846]\n",
      " [0.64862188 0.6534871 ]\n",
      " [0.6088     0.6258    ]]\n",
      "rec time now 2 dataset now: Syn5\n"
     ]
    },
    {
     "name": "stderr",
     "output_type": "stream",
     "text": [
      "TPR mean: 19.8%  std: 20.0%\n",
      "FDR mean: 50.6%  std: 50.0%\n"
     ]
    },
    {
     "name": "stdout",
     "output_type": "stream",
     "text": [
      "[[0.65097168 0.66841378]\n",
      " [0.64862188 0.65292054]\n",
      " [0.6088     0.6259    ]]\n",
      "rec time now 3 dataset now: Syn5\n"
     ]
    },
    {
     "name": "stderr",
     "output_type": "stream",
     "text": [
      "TPR mean: 19.8%  std: 20.0%\n",
      "FDR mean: 50.6%  std: 50.0%\n",
      "Epoch:      0, d_loss (Acc)): 0.617, v_loss (Acc): 0.416, g_loss: -7.2070\n"
     ]
    },
    {
     "name": "stdout",
     "output_type": "stream",
     "text": [
      "[[0.65097168 0.66841378]\n",
      " [0.64862188 0.65292054]\n",
      " [0.6088     0.6259    ]]\n",
      "now at training epoch number 1200 hyp-params: lamda 1.0000 prior 0.0000\n",
      "rec time now 0 dataset now: Syn5\n"
     ]
    },
    {
     "name": "stderr",
     "output_type": "stream",
     "text": [
      "TPR mean: 32.5%  std: 26.6%\n",
      "FDR mean: 45.4%  std: 46.2%\n"
     ]
    },
    {
     "name": "stdout",
     "output_type": "stream",
     "text": [
      "[[0.64855521 0.69263196]\n",
      " [0.65016685 0.70350646]\n",
      " [0.6055     0.6326    ]]\n",
      "rec time now 1 dataset now: Syn5\n"
     ]
    },
    {
     "name": "stderr",
     "output_type": "stream",
     "text": [
      "TPR mean: 21.5%  std: 21.7%\n",
      "FDR mean: 50.0%  std: 49.6%\n"
     ]
    },
    {
     "name": "stdout",
     "output_type": "stream",
     "text": [
      "[[0.64855521 0.67784174]\n",
      " [0.65016685 0.68352813]\n",
      " [0.6055     0.6306    ]]\n",
      "rec time now 2 dataset now: Syn5\n"
     ]
    },
    {
     "name": "stderr",
     "output_type": "stream",
     "text": [
      "TPR mean: 21.1%  std: 21.2%\n",
      "FDR mean: 50.0%  std: 49.6%\n"
     ]
    },
    {
     "name": "stdout",
     "output_type": "stream",
     "text": [
      "[[0.64855521 0.67743124]\n",
      " [0.65016685 0.6815611 ]\n",
      " [0.6055     0.6306    ]]\n",
      "rec time now 3 dataset now: Syn5\n"
     ]
    },
    {
     "name": "stderr",
     "output_type": "stream",
     "text": [
      "TPR mean: 21.1%  std: 21.2%\n",
      "FDR mean: 50.0%  std: 49.6%\n",
      "Epoch:      0, d_loss (Acc)): 0.632, v_loss (Acc): 0.375, g_loss: -7.7915\n"
     ]
    },
    {
     "name": "stdout",
     "output_type": "stream",
     "text": [
      "[[0.64855521 0.67743124]\n",
      " [0.65016685 0.6815611 ]\n",
      " [0.6055     0.6306    ]]\n",
      "now at training epoch number 1300 hyp-params: lamda 1.0000 prior 0.0000\n",
      "rec time now 0 dataset now: Syn5\n"
     ]
    },
    {
     "name": "stderr",
     "output_type": "stream",
     "text": [
      "TPR mean: 53.9%  std: 22.8%\n",
      "FDR mean: 35.9%  std: 35.8%\n"
     ]
    },
    {
     "name": "stdout",
     "output_type": "stream",
     "text": [
      "[[0.64506158 0.7136649 ]\n",
      " [0.64642059 0.72982712]\n",
      " [0.6013     0.6409    ]]\n",
      "rec time now 1 dataset now: Syn5\n"
     ]
    },
    {
     "name": "stderr",
     "output_type": "stream",
     "text": [
      "TPR mean: 53.9%  std: 22.8%\n",
      "FDR mean: 35.2%  std: 35.1%\n"
     ]
    },
    {
     "name": "stdout",
     "output_type": "stream",
     "text": [
      "[[0.64506158 0.71268866]\n",
      " [0.64642059 0.72792729]\n",
      " [0.6013     0.6414    ]]\n",
      "rec time now 2 dataset now: Syn5\n"
     ]
    },
    {
     "name": "stderr",
     "output_type": "stream",
     "text": [
      "TPR mean: 53.9%  std: 22.8%\n",
      "FDR mean: 35.2%  std: 35.1%\n"
     ]
    },
    {
     "name": "stdout",
     "output_type": "stream",
     "text": [
      "[[0.64506158 0.71268866]\n",
      " [0.64642059 0.72792729]\n",
      " [0.6013     0.6414    ]]\n",
      "rec time now 3 dataset now: Syn5\n"
     ]
    },
    {
     "name": "stderr",
     "output_type": "stream",
     "text": [
      "TPR mean: 53.9%  std: 22.8%\n",
      "FDR mean: 35.2%  std: 35.1%\n",
      "Epoch:      0, d_loss (Acc)): 0.622, v_loss (Acc): 0.352, g_loss: -6.6173\n"
     ]
    },
    {
     "name": "stdout",
     "output_type": "stream",
     "text": [
      "[[0.64506158 0.71268866]\n",
      " [0.64642059 0.72792729]\n",
      " [0.6013     0.6414    ]]\n",
      "now at training epoch number 1400 hyp-params: lamda 1.0000 prior 0.0000\n",
      "rec time now 0 dataset now: Syn5\n"
     ]
    },
    {
     "name": "stderr",
     "output_type": "stream",
     "text": [
      "TPR mean: 55.9%  std: 23.1%\n",
      "FDR mean: 36.6%  std: 36.3%\n"
     ]
    },
    {
     "name": "stdout",
     "output_type": "stream",
     "text": [
      "[[0.64190073 0.72114624]\n",
      " [0.6405421  0.73659049]\n",
      " [0.6024     0.6464    ]]\n",
      "rec time now 1 dataset now: Syn5\n"
     ]
    },
    {
     "name": "stderr",
     "output_type": "stream",
     "text": [
      "TPR mean: 55.9%  std: 23.1%\n",
      "FDR mean: 36.4%  std: 36.1%\n"
     ]
    },
    {
     "name": "stdout",
     "output_type": "stream",
     "text": [
      "[[0.64190073 0.72094863]\n",
      " [0.6405421  0.73610645]\n",
      " [0.6024     0.6458    ]]\n",
      "rec time now 2 dataset now: Syn5\n"
     ]
    },
    {
     "name": "stderr",
     "output_type": "stream",
     "text": [
      "TPR mean: 55.9%  std: 23.1%\n",
      "FDR mean: 36.4%  std: 36.1%\n"
     ]
    },
    {
     "name": "stdout",
     "output_type": "stream",
     "text": [
      "[[0.64190073 0.72094863]\n",
      " [0.6405421  0.73610645]\n",
      " [0.6024     0.6458    ]]\n",
      "rec time now 3 dataset now: Syn5\n"
     ]
    },
    {
     "name": "stderr",
     "output_type": "stream",
     "text": [
      "TPR mean: 55.9%  std: 23.1%\n",
      "FDR mean: 36.4%  std: 36.1%\n",
      "Epoch:      0, d_loss (Acc)): 0.615, v_loss (Acc): 0.326, g_loss: -6.0046\n"
     ]
    },
    {
     "name": "stdout",
     "output_type": "stream",
     "text": [
      "[[0.64190073 0.72094863]\n",
      " [0.6405421  0.73610645]\n",
      " [0.6024     0.6458    ]]\n",
      "now at training epoch number 1500 hyp-params: lamda 1.0000 prior 0.0000\n",
      "rec time now 0 dataset now: Syn5\n"
     ]
    },
    {
     "name": "stderr",
     "output_type": "stream",
     "text": [
      "TPR mean: 56.3%  std: 23.3%\n",
      "FDR mean: 37.5%  std: 37.1%\n"
     ]
    },
    {
     "name": "stdout",
     "output_type": "stream",
     "text": [
      "[[0.6433157  0.7306835 ]\n",
      " [0.64315037 0.74968577]\n",
      " [0.5987     0.6505    ]]\n",
      "rec time now 1 dataset now: Syn5\n"
     ]
    },
    {
     "name": "stderr",
     "output_type": "stream",
     "text": [
      "TPR mean: 56.3%  std: 23.3%\n",
      "FDR mean: 37.4%  std: 37.1%\n"
     ]
    },
    {
     "name": "stdout",
     "output_type": "stream",
     "text": [
      "[[0.6433157  0.73053114]\n",
      " [0.64315037 0.74955178]\n",
      " [0.5987     0.6504    ]]\n",
      "rec time now 2 dataset now: Syn5\n"
     ]
    },
    {
     "name": "stderr",
     "output_type": "stream",
     "text": [
      "TPR mean: 56.3%  std: 23.3%\n",
      "FDR mean: 37.4%  std: 37.1%\n"
     ]
    },
    {
     "name": "stdout",
     "output_type": "stream",
     "text": [
      "[[0.6433157  0.73053114]\n",
      " [0.64315037 0.74955178]\n",
      " [0.5987     0.6504    ]]\n",
      "rec time now 3 dataset now: Syn5\n"
     ]
    },
    {
     "name": "stderr",
     "output_type": "stream",
     "text": [
      "TPR mean: 56.3%  std: 23.3%\n",
      "FDR mean: 37.4%  std: 37.1%\n",
      "Epoch:      0, d_loss (Acc)): 0.598, v_loss (Acc): 0.313, g_loss: -5.1485\n"
     ]
    },
    {
     "name": "stdout",
     "output_type": "stream",
     "text": [
      "[[0.6433157  0.73053114]\n",
      " [0.64315037 0.74955178]\n",
      " [0.5987     0.6504    ]]\n",
      "now at training epoch number 1600 hyp-params: lamda 1.0000 prior 0.0000\n",
      "rec time now 0 dataset now: Syn5\n"
     ]
    },
    {
     "name": "stderr",
     "output_type": "stream",
     "text": [
      "TPR mean: 56.4%  std: 23.3%\n",
      "FDR mean: 37.7%  std: 37.3%\n"
     ]
    },
    {
     "name": "stdout",
     "output_type": "stream",
     "text": [
      "[[0.63484518 0.73002494]\n",
      " [0.6319303  0.74707528]\n",
      " [0.5961     0.6528    ]]\n",
      "rec time now 1 dataset now: Syn5\n"
     ]
    },
    {
     "name": "stderr",
     "output_type": "stream",
     "text": [
      "TPR mean: 56.4%  std: 23.3%\n",
      "FDR mean: 37.7%  std: 37.3%\n"
     ]
    },
    {
     "name": "stdout",
     "output_type": "stream",
     "text": [
      "[[0.63484518 0.72997063]\n",
      " [0.6319303  0.74702532]\n",
      " [0.5961     0.6531    ]]\n",
      "rec time now 2 dataset now: Syn5\n"
     ]
    },
    {
     "name": "stderr",
     "output_type": "stream",
     "text": [
      "TPR mean: 56.4%  std: 23.3%\n",
      "FDR mean: 37.7%  std: 37.3%\n"
     ]
    },
    {
     "name": "stdout",
     "output_type": "stream",
     "text": [
      "[[0.63484518 0.72997063]\n",
      " [0.6319303  0.74702532]\n",
      " [0.5961     0.6531    ]]\n",
      "rec time now 3 dataset now: Syn5\n"
     ]
    },
    {
     "name": "stderr",
     "output_type": "stream",
     "text": [
      "TPR mean: 56.4%  std: 23.3%\n",
      "FDR mean: 37.7%  std: 37.3%\n",
      "Epoch:      0, d_loss (Acc)): 0.599, v_loss (Acc): 0.281, g_loss: -4.8774\n"
     ]
    },
    {
     "name": "stdout",
     "output_type": "stream",
     "text": [
      "[[0.63484518 0.72997063]\n",
      " [0.6319303  0.74702532]\n",
      " [0.5961     0.6531    ]]\n",
      "now at training epoch number 1700 hyp-params: lamda 1.0000 prior 0.0000\n",
      "rec time now 0 dataset now: Syn5\n"
     ]
    },
    {
     "name": "stderr",
     "output_type": "stream",
     "text": [
      "TPR mean: 56.4%  std: 23.3%\n",
      "FDR mean: 37.9%  std: 37.5%\n"
     ]
    },
    {
     "name": "stdout",
     "output_type": "stream",
     "text": [
      "[[0.63533937 0.73130655]\n",
      " [0.63317358 0.75046872]\n",
      " [0.5955     0.646     ]]\n",
      "rec time now 1 dataset now: Syn5\n"
     ]
    },
    {
     "name": "stderr",
     "output_type": "stream",
     "text": [
      "TPR mean: 56.4%  std: 23.3%\n",
      "FDR mean: 37.9%  std: 37.5%\n"
     ]
    },
    {
     "name": "stdout",
     "output_type": "stream",
     "text": [
      "[[0.63533937 0.73130655]\n",
      " [0.63317358 0.75046872]\n",
      " [0.5955     0.646     ]]\n",
      "rec time now 2 dataset now: Syn5\n"
     ]
    },
    {
     "name": "stderr",
     "output_type": "stream",
     "text": [
      "TPR mean: 56.4%  std: 23.3%\n",
      "FDR mean: 37.9%  std: 37.5%\n"
     ]
    },
    {
     "name": "stdout",
     "output_type": "stream",
     "text": [
      "[[0.63533937 0.73130655]\n",
      " [0.63317358 0.75046872]\n",
      " [0.5955     0.646     ]]\n",
      "rec time now 3 dataset now: Syn5\n"
     ]
    },
    {
     "name": "stderr",
     "output_type": "stream",
     "text": [
      "TPR mean: 56.4%  std: 23.3%\n",
      "FDR mean: 37.9%  std: 37.5%\n",
      "Epoch:      0, d_loss (Acc)): 0.609, v_loss (Acc): 0.262, g_loss: -4.2702\n"
     ]
    },
    {
     "name": "stdout",
     "output_type": "stream",
     "text": [
      "[[0.63533937 0.73130655]\n",
      " [0.63317358 0.75046872]\n",
      " [0.5955     0.646     ]]\n",
      "now at training epoch number 1800 hyp-params: lamda 1.0000 prior 0.0000\n",
      "rec time now 0 dataset now: Syn5\n"
     ]
    },
    {
     "name": "stderr",
     "output_type": "stream",
     "text": [
      "TPR mean: 56.4%  std: 23.3%\n",
      "FDR mean: 37.9%  std: 37.5%\n"
     ]
    },
    {
     "name": "stdout",
     "output_type": "stream",
     "text": [
      "[[0.63672551 0.73048504]\n",
      " [0.6330474  0.74734864]\n",
      " [0.5983     0.6476    ]]\n",
      "rec time now 1 dataset now: Syn5\n"
     ]
    },
    {
     "name": "stderr",
     "output_type": "stream",
     "text": [
      "TPR mean: 56.4%  std: 23.3%\n",
      "FDR mean: 37.9%  std: 37.5%\n"
     ]
    },
    {
     "name": "stdout",
     "output_type": "stream",
     "text": [
      "[[0.63672551 0.73048504]\n",
      " [0.6330474  0.74734864]\n",
      " [0.5983     0.6476    ]]\n",
      "rec time now 2 dataset now: Syn5\n"
     ]
    },
    {
     "name": "stderr",
     "output_type": "stream",
     "text": [
      "TPR mean: 56.4%  std: 23.3%\n",
      "FDR mean: 37.9%  std: 37.5%\n"
     ]
    },
    {
     "name": "stdout",
     "output_type": "stream",
     "text": [
      "[[0.63672551 0.73048504]\n",
      " [0.6330474  0.74734864]\n",
      " [0.5983     0.6476    ]]\n",
      "rec time now 3 dataset now: Syn5\n"
     ]
    },
    {
     "name": "stderr",
     "output_type": "stream",
     "text": [
      "TPR mean: 56.4%  std: 23.3%\n",
      "FDR mean: 37.9%  std: 37.5%\n",
      "Epoch:      0, d_loss (Acc)): 0.583, v_loss (Acc): 0.229, g_loss: -3.8538\n"
     ]
    },
    {
     "name": "stdout",
     "output_type": "stream",
     "text": [
      "[[0.63672551 0.73048504]\n",
      " [0.6330474  0.74734864]\n",
      " [0.5983     0.6476    ]]\n",
      "now at training epoch number 1900 hyp-params: lamda 1.0000 prior 0.0000\n",
      "rec time now 0 dataset now: Syn5\n"
     ]
    },
    {
     "name": "stderr",
     "output_type": "stream",
     "text": [
      "TPR mean: 56.4%  std: 23.3%\n",
      "FDR mean: 37.9%  std: 37.5%\n"
     ]
    },
    {
     "name": "stdout",
     "output_type": "stream",
     "text": [
      "[[0.63422761 0.73497622]\n",
      " [0.63088954 0.75364986]\n",
      " [0.5928     0.6503    ]]\n",
      "rec time now 1 dataset now: Syn5\n"
     ]
    },
    {
     "name": "stderr",
     "output_type": "stream",
     "text": [
      "TPR mean: 56.4%  std: 23.3%\n",
      "FDR mean: 37.9%  std: 37.5%\n"
     ]
    },
    {
     "name": "stdout",
     "output_type": "stream",
     "text": [
      "[[0.63422761 0.73497622]\n",
      " [0.63088954 0.75364986]\n",
      " [0.5928     0.6503    ]]\n",
      "rec time now 2 dataset now: Syn5\n"
     ]
    },
    {
     "name": "stderr",
     "output_type": "stream",
     "text": [
      "TPR mean: 56.4%  std: 23.3%\n",
      "FDR mean: 37.9%  std: 37.5%\n"
     ]
    },
    {
     "name": "stdout",
     "output_type": "stream",
     "text": [
      "[[0.63422761 0.73497622]\n",
      " [0.63088954 0.75364986]\n",
      " [0.5928     0.6503    ]]\n",
      "rec time now 3 dataset now: Syn5\n"
     ]
    },
    {
     "name": "stderr",
     "output_type": "stream",
     "text": [
      "TPR mean: 56.4%  std: 23.3%\n",
      "FDR mean: 37.9%  std: 37.5%\n",
      "Epoch:      0, d_loss (Acc)): 0.569, v_loss (Acc): 0.205, g_loss: -3.6273\n"
     ]
    },
    {
     "name": "stdout",
     "output_type": "stream",
     "text": [
      "[[0.63422761 0.73497622]\n",
      " [0.63088954 0.75364986]\n",
      " [0.5928     0.6503    ]]\n",
      "now at training epoch number 2000 hyp-params: lamda 1.0000 prior 0.0000\n",
      "rec time now 0 dataset now: Syn5\n"
     ]
    },
    {
     "name": "stderr",
     "output_type": "stream",
     "text": [
      "TPR mean: 56.4%  std: 23.3%\n",
      "FDR mean: 37.9%  std: 37.5%\n"
     ]
    },
    {
     "name": "stdout",
     "output_type": "stream",
     "text": [
      "[[0.63425146 0.7349373 ]\n",
      " [0.63025305 0.75312224]\n",
      " [0.5958     0.6516    ]]\n",
      "rec time now 1 dataset now: Syn5\n"
     ]
    },
    {
     "name": "stderr",
     "output_type": "stream",
     "text": [
      "TPR mean: 56.4%  std: 23.3%\n",
      "FDR mean: 37.9%  std: 37.5%\n"
     ]
    },
    {
     "name": "stdout",
     "output_type": "stream",
     "text": [
      "[[0.63425146 0.7349373 ]\n",
      " [0.63025305 0.75312224]\n",
      " [0.5958     0.6516    ]]\n",
      "rec time now 2 dataset now: Syn5\n"
     ]
    },
    {
     "name": "stderr",
     "output_type": "stream",
     "text": [
      "TPR mean: 56.4%  std: 23.3%\n",
      "FDR mean: 37.9%  std: 37.5%\n"
     ]
    },
    {
     "name": "stdout",
     "output_type": "stream",
     "text": [
      "[[0.63425146 0.7349373 ]\n",
      " [0.63025305 0.75312224]\n",
      " [0.5958     0.6516    ]]\n",
      "rec time now 3 dataset now: Syn5\n"
     ]
    },
    {
     "name": "stderr",
     "output_type": "stream",
     "text": [
      "TPR mean: 56.4%  std: 23.3%\n",
      "FDR mean: 37.9%  std: 37.5%\n",
      "Epoch:      0, d_loss (Acc)): 0.596, v_loss (Acc): 0.192, g_loss: -3.5747\n"
     ]
    },
    {
     "name": "stdout",
     "output_type": "stream",
     "text": [
      "[[0.63425146 0.7349373 ]\n",
      " [0.63025305 0.75312224]\n",
      " [0.5958     0.6516    ]]\n",
      "now at training epoch number 2100 hyp-params: lamda 1.0000 prior 0.0000\n",
      "rec time now 0 dataset now: Syn5\n"
     ]
    },
    {
     "name": "stderr",
     "output_type": "stream",
     "text": [
      "TPR mean: 56.4%  std: 23.3%\n",
      "FDR mean: 37.9%  std: 37.5%\n"
     ]
    },
    {
     "name": "stdout",
     "output_type": "stream",
     "text": [
      "[[0.63227539 0.73588769]\n",
      " [0.62880692 0.7548144 ]\n",
      " [0.5942     0.6503    ]]\n",
      "rec time now 1 dataset now: Syn5\n"
     ]
    },
    {
     "name": "stderr",
     "output_type": "stream",
     "text": [
      "TPR mean: 56.4%  std: 23.3%\n",
      "FDR mean: 37.9%  std: 37.5%\n"
     ]
    },
    {
     "name": "stdout",
     "output_type": "stream",
     "text": [
      "[[0.63227539 0.73588769]\n",
      " [0.62880692 0.7548144 ]\n",
      " [0.5942     0.6503    ]]\n",
      "rec time now 2 dataset now: Syn5\n"
     ]
    },
    {
     "name": "stderr",
     "output_type": "stream",
     "text": [
      "TPR mean: 56.4%  std: 23.3%\n",
      "FDR mean: 37.9%  std: 37.5%\n"
     ]
    },
    {
     "name": "stdout",
     "output_type": "stream",
     "text": [
      "[[0.63227539 0.73588769]\n",
      " [0.62880692 0.7548144 ]\n",
      " [0.5942     0.6503    ]]\n",
      "rec time now 3 dataset now: Syn5\n"
     ]
    },
    {
     "name": "stderr",
     "output_type": "stream",
     "text": [
      "TPR mean: 56.4%  std: 23.3%\n",
      "FDR mean: 37.9%  std: 37.5%\n",
      "Epoch:      0, d_loss (Acc)): 0.579, v_loss (Acc): 0.166, g_loss: -3.1689\n"
     ]
    },
    {
     "name": "stdout",
     "output_type": "stream",
     "text": [
      "[[0.63227539 0.73588769]\n",
      " [0.62880692 0.7548144 ]\n",
      " [0.5942     0.6503    ]]\n",
      "now at training epoch number 2200 hyp-params: lamda 1.0000 prior 0.0000\n",
      "rec time now 0 dataset now: Syn5\n"
     ]
    },
    {
     "name": "stderr",
     "output_type": "stream",
     "text": [
      "TPR mean: 56.4%  std: 23.3%\n",
      "FDR mean: 37.9%  std: 37.5%\n"
     ]
    },
    {
     "name": "stdout",
     "output_type": "stream",
     "text": [
      "[[0.62581221 0.7361348 ]\n",
      " [0.62256324 0.75421308]\n",
      " [0.5891     0.653     ]]\n",
      "rec time now 1 dataset now: Syn5\n"
     ]
    },
    {
     "name": "stderr",
     "output_type": "stream",
     "text": [
      "TPR mean: 56.4%  std: 23.3%\n",
      "FDR mean: 37.9%  std: 37.5%\n"
     ]
    },
    {
     "name": "stdout",
     "output_type": "stream",
     "text": [
      "[[0.62581221 0.7361348 ]\n",
      " [0.62256324 0.75421308]\n",
      " [0.5891     0.653     ]]\n",
      "rec time now 2 dataset now: Syn5\n"
     ]
    },
    {
     "name": "stderr",
     "output_type": "stream",
     "text": [
      "TPR mean: 56.4%  std: 23.3%\n",
      "FDR mean: 37.9%  std: 37.5%\n"
     ]
    },
    {
     "name": "stdout",
     "output_type": "stream",
     "text": [
      "[[0.62581221 0.7361348 ]\n",
      " [0.62256324 0.75421308]\n",
      " [0.5891     0.653     ]]\n",
      "rec time now 3 dataset now: Syn5\n"
     ]
    },
    {
     "name": "stderr",
     "output_type": "stream",
     "text": [
      "TPR mean: 56.4%  std: 23.3%\n",
      "FDR mean: 37.9%  std: 37.5%\n",
      "Epoch:      0, d_loss (Acc)): 0.601, v_loss (Acc): 0.144, g_loss: -3.1347\n"
     ]
    },
    {
     "name": "stdout",
     "output_type": "stream",
     "text": [
      "[[0.62581221 0.7361348 ]\n",
      " [0.62256324 0.75421308]\n",
      " [0.5891     0.653     ]]\n",
      "now at training epoch number 2300 hyp-params: lamda 1.0000 prior 0.0000\n",
      "rec time now 0 dataset now: Syn5\n"
     ]
    },
    {
     "name": "stderr",
     "output_type": "stream",
     "text": [
      "TPR mean: 56.4%  std: 23.3%\n",
      "FDR mean: 37.9%  std: 37.5%\n"
     ]
    },
    {
     "name": "stdout",
     "output_type": "stream",
     "text": [
      "[[0.63191205 0.73630578]\n",
      " [0.62578101 0.75522358]\n",
      " [0.594      0.6519    ]]\n",
      "rec time now 1 dataset now: Syn5\n"
     ]
    },
    {
     "name": "stderr",
     "output_type": "stream",
     "text": [
      "TPR mean: 56.4%  std: 23.3%\n",
      "FDR mean: 37.9%  std: 37.5%\n"
     ]
    },
    {
     "name": "stdout",
     "output_type": "stream",
     "text": [
      "[[0.63191205 0.73630578]\n",
      " [0.62578101 0.75522358]\n",
      " [0.594      0.6519    ]]\n",
      "rec time now 2 dataset now: Syn5\n"
     ]
    },
    {
     "name": "stderr",
     "output_type": "stream",
     "text": [
      "TPR mean: 56.4%  std: 23.3%\n",
      "FDR mean: 37.9%  std: 37.5%\n"
     ]
    },
    {
     "name": "stdout",
     "output_type": "stream",
     "text": [
      "[[0.63191205 0.73630578]\n",
      " [0.62578101 0.75522358]\n",
      " [0.594      0.6519    ]]\n",
      "rec time now 3 dataset now: Syn5\n"
     ]
    },
    {
     "name": "stderr",
     "output_type": "stream",
     "text": [
      "TPR mean: 56.4%  std: 23.3%\n",
      "FDR mean: 37.9%  std: 37.5%\n",
      "Epoch:      0, d_loss (Acc)): 0.575, v_loss (Acc): 0.123, g_loss: -3.1178\n"
     ]
    },
    {
     "name": "stdout",
     "output_type": "stream",
     "text": [
      "[[0.63191205 0.73630578]\n",
      " [0.62578101 0.75522358]\n",
      " [0.594      0.6519    ]]\n",
      "now at training epoch number 2400 hyp-params: lamda 1.0000 prior 0.0000\n",
      "rec time now 0 dataset now: Syn5\n"
     ]
    },
    {
     "name": "stderr",
     "output_type": "stream",
     "text": [
      "TPR mean: 56.4%  std: 23.3%\n",
      "FDR mean: 37.9%  std: 37.5%\n"
     ]
    },
    {
     "name": "stdout",
     "output_type": "stream",
     "text": [
      "[[0.62688013 0.73946534]\n",
      " [0.62370953 0.7594604 ]\n",
      " [0.59       0.6503    ]]\n",
      "rec time now 1 dataset now: Syn5\n"
     ]
    },
    {
     "name": "stderr",
     "output_type": "stream",
     "text": [
      "TPR mean: 56.4%  std: 23.3%\n",
      "FDR mean: 37.9%  std: 37.5%\n"
     ]
    },
    {
     "name": "stdout",
     "output_type": "stream",
     "text": [
      "[[0.62688013 0.73946534]\n",
      " [0.62370953 0.7594604 ]\n",
      " [0.59       0.6503    ]]\n",
      "rec time now 2 dataset now: Syn5\n"
     ]
    },
    {
     "name": "stderr",
     "output_type": "stream",
     "text": [
      "TPR mean: 56.4%  std: 23.3%\n",
      "FDR mean: 37.9%  std: 37.5%\n"
     ]
    },
    {
     "name": "stdout",
     "output_type": "stream",
     "text": [
      "[[0.62688013 0.73946534]\n",
      " [0.62370953 0.7594604 ]\n",
      " [0.59       0.6503    ]]\n",
      "rec time now 3 dataset now: Syn5\n"
     ]
    },
    {
     "name": "stderr",
     "output_type": "stream",
     "text": [
      "TPR mean: 56.4%  std: 23.3%\n",
      "FDR mean: 37.9%  std: 37.5%\n",
      "Epoch:      0, d_loss (Acc)): 0.548, v_loss (Acc): 0.125, g_loss: -2.6290\n"
     ]
    },
    {
     "name": "stdout",
     "output_type": "stream",
     "text": [
      "[[0.62688013 0.73946534]\n",
      " [0.62370953 0.7594604 ]\n",
      " [0.59       0.6503    ]]\n",
      "now at training epoch number 2500 hyp-params: lamda 1.0000 prior 0.0000\n",
      "rec time now 0 dataset now: Syn5\n"
     ]
    },
    {
     "name": "stderr",
     "output_type": "stream",
     "text": [
      "TPR mean: 56.4%  std: 23.3%\n",
      "FDR mean: 37.9%  std: 37.5%\n"
     ]
    },
    {
     "name": "stdout",
     "output_type": "stream",
     "text": [
      "[[0.62588226 0.73615649]\n",
      " [0.61940899 0.75543662]\n",
      " [0.5913     0.6503    ]]\n",
      "rec time now 1 dataset now: Syn5\n"
     ]
    },
    {
     "name": "stderr",
     "output_type": "stream",
     "text": [
      "TPR mean: 56.4%  std: 23.3%\n",
      "FDR mean: 37.9%  std: 37.5%\n"
     ]
    },
    {
     "name": "stdout",
     "output_type": "stream",
     "text": [
      "[[0.62588226 0.73615649]\n",
      " [0.61940899 0.75543662]\n",
      " [0.5913     0.6503    ]]\n",
      "rec time now 2 dataset now: Syn5\n"
     ]
    },
    {
     "name": "stderr",
     "output_type": "stream",
     "text": [
      "TPR mean: 56.4%  std: 23.3%\n",
      "FDR mean: 37.9%  std: 37.5%\n"
     ]
    },
    {
     "name": "stdout",
     "output_type": "stream",
     "text": [
      "[[0.62588226 0.73615649]\n",
      " [0.61940899 0.75543662]\n",
      " [0.5913     0.6503    ]]\n",
      "rec time now 3 dataset now: Syn5\n"
     ]
    },
    {
     "name": "stderr",
     "output_type": "stream",
     "text": [
      "TPR mean: 56.4%  std: 23.3%\n",
      "FDR mean: 37.9%  std: 37.5%\n",
      "Epoch:      0, d_loss (Acc)): 0.580, v_loss (Acc): 0.109, g_loss: -2.4796\n"
     ]
    },
    {
     "name": "stdout",
     "output_type": "stream",
     "text": [
      "[[0.62588226 0.73615649]\n",
      " [0.61940899 0.75543662]\n",
      " [0.5913     0.6503    ]]\n",
      "now at training epoch number 2600 hyp-params: lamda 1.0000 prior 0.0000\n",
      "rec time now 0 dataset now: Syn5\n"
     ]
    },
    {
     "name": "stderr",
     "output_type": "stream",
     "text": [
      "TPR mean: 56.4%  std: 23.3%\n",
      "FDR mean: 37.9%  std: 37.5%\n"
     ]
    },
    {
     "name": "stdout",
     "output_type": "stream",
     "text": [
      "[[0.62764767 0.73831831]\n",
      " [0.62317366 0.75831601]\n",
      " [0.5905     0.6493    ]]\n",
      "rec time now 1 dataset now: Syn5\n"
     ]
    },
    {
     "name": "stderr",
     "output_type": "stream",
     "text": [
      "TPR mean: 56.4%  std: 23.3%\n",
      "FDR mean: 37.9%  std: 37.5%\n"
     ]
    },
    {
     "name": "stdout",
     "output_type": "stream",
     "text": [
      "[[0.62764767 0.73831831]\n",
      " [0.62317366 0.75831601]\n",
      " [0.5905     0.6493    ]]\n",
      "rec time now 2 dataset now: Syn5\n"
     ]
    },
    {
     "name": "stderr",
     "output_type": "stream",
     "text": [
      "TPR mean: 56.4%  std: 23.3%\n",
      "FDR mean: 37.9%  std: 37.5%\n"
     ]
    },
    {
     "name": "stdout",
     "output_type": "stream",
     "text": [
      "[[0.62764767 0.73831831]\n",
      " [0.62317366 0.75831601]\n",
      " [0.5905     0.6493    ]]\n",
      "rec time now 3 dataset now: Syn5\n"
     ]
    },
    {
     "name": "stderr",
     "output_type": "stream",
     "text": [
      "TPR mean: 56.4%  std: 23.3%\n",
      "FDR mean: 37.9%  std: 37.5%\n",
      "Epoch:      0, d_loss (Acc)): 0.575, v_loss (Acc): 0.093, g_loss: -2.3643\n"
     ]
    },
    {
     "name": "stdout",
     "output_type": "stream",
     "text": [
      "[[0.62764767 0.73831831]\n",
      " [0.62317366 0.75831601]\n",
      " [0.5905     0.6493    ]]\n",
      "now at training epoch number 2700 hyp-params: lamda 1.0000 prior 0.0000\n",
      "rec time now 0 dataset now: Syn5\n"
     ]
    },
    {
     "name": "stderr",
     "output_type": "stream",
     "text": [
      "TPR mean: 56.4%  std: 23.3%\n",
      "FDR mean: 37.9%  std: 37.5%\n"
     ]
    },
    {
     "name": "stdout",
     "output_type": "stream",
     "text": [
      "[[0.62641605 0.73973424]\n",
      " [0.61980567 0.75955103]\n",
      " [0.5902     0.6535    ]]\n",
      "rec time now 1 dataset now: Syn5\n"
     ]
    },
    {
     "name": "stderr",
     "output_type": "stream",
     "text": [
      "TPR mean: 56.4%  std: 23.3%\n",
      "FDR mean: 37.9%  std: 37.5%\n"
     ]
    },
    {
     "name": "stdout",
     "output_type": "stream",
     "text": [
      "[[0.62641605 0.73973424]\n",
      " [0.61980567 0.75955103]\n",
      " [0.5902     0.6535    ]]\n",
      "rec time now 2 dataset now: Syn5\n"
     ]
    },
    {
     "name": "stderr",
     "output_type": "stream",
     "text": [
      "TPR mean: 56.4%  std: 23.3%\n",
      "FDR mean: 37.9%  std: 37.5%\n"
     ]
    },
    {
     "name": "stdout",
     "output_type": "stream",
     "text": [
      "[[0.62641605 0.73973424]\n",
      " [0.61980567 0.75955103]\n",
      " [0.5902     0.6535    ]]\n",
      "rec time now 3 dataset now: Syn5\n"
     ]
    },
    {
     "name": "stderr",
     "output_type": "stream",
     "text": [
      "TPR mean: 56.4%  std: 23.3%\n",
      "FDR mean: 37.9%  std: 37.5%\n",
      "Epoch:      0, d_loss (Acc)): 0.571, v_loss (Acc): 0.078, g_loss: -2.2399\n"
     ]
    },
    {
     "name": "stdout",
     "output_type": "stream",
     "text": [
      "[[0.62641605 0.73973424]\n",
      " [0.61980567 0.75955103]\n",
      " [0.5902     0.6535    ]]\n",
      "now at training epoch number 2800 hyp-params: lamda 1.0000 prior 0.0000\n",
      "rec time now 0 dataset now: Syn5\n"
     ]
    },
    {
     "name": "stderr",
     "output_type": "stream",
     "text": [
      "TPR mean: 56.4%  std: 23.3%\n",
      "FDR mean: 37.9%  std: 37.5%\n"
     ]
    },
    {
     "name": "stdout",
     "output_type": "stream",
     "text": [
      "[[0.62598555 0.73817114]\n",
      " [0.61985604 0.75766387]\n",
      " [0.59       0.6515    ]]\n",
      "rec time now 1 dataset now: Syn5\n"
     ]
    },
    {
     "name": "stderr",
     "output_type": "stream",
     "text": [
      "TPR mean: 56.4%  std: 23.3%\n",
      "FDR mean: 37.9%  std: 37.5%\n"
     ]
    },
    {
     "name": "stdout",
     "output_type": "stream",
     "text": [
      "[[0.62598555 0.73817114]\n",
      " [0.61985604 0.75766387]\n",
      " [0.59       0.6515    ]]\n",
      "rec time now 2 dataset now: Syn5\n"
     ]
    },
    {
     "name": "stderr",
     "output_type": "stream",
     "text": [
      "TPR mean: 56.4%  std: 23.3%\n",
      "FDR mean: 37.9%  std: 37.5%\n"
     ]
    },
    {
     "name": "stdout",
     "output_type": "stream",
     "text": [
      "[[0.62598555 0.73817114]\n",
      " [0.61985604 0.75766387]\n",
      " [0.59       0.6515    ]]\n",
      "rec time now 3 dataset now: Syn5\n"
     ]
    },
    {
     "name": "stderr",
     "output_type": "stream",
     "text": [
      "TPR mean: 56.4%  std: 23.3%\n",
      "FDR mean: 37.9%  std: 37.5%\n",
      "Epoch:      0, d_loss (Acc)): 0.574, v_loss (Acc): 0.069, g_loss: -2.0015\n"
     ]
    },
    {
     "name": "stdout",
     "output_type": "stream",
     "text": [
      "[[0.62598555 0.73817114]\n",
      " [0.61985604 0.75766387]\n",
      " [0.59       0.6515    ]]\n",
      "now at training epoch number 2900 hyp-params: lamda 1.0000 prior 0.0000\n",
      "rec time now 0 dataset now: Syn5\n"
     ]
    },
    {
     "name": "stderr",
     "output_type": "stream",
     "text": [
      "TPR mean: 56.4%  std: 23.3%\n",
      "FDR mean: 37.9%  std: 37.5%\n"
     ]
    },
    {
     "name": "stdout",
     "output_type": "stream",
     "text": [
      "[[0.62593633 0.73773759]\n",
      " [0.62002697 0.75783673]\n",
      " [0.5901     0.6492    ]]\n",
      "rec time now 1 dataset now: Syn5\n"
     ]
    },
    {
     "name": "stderr",
     "output_type": "stream",
     "text": [
      "TPR mean: 56.4%  std: 23.3%\n",
      "FDR mean: 37.9%  std: 37.5%\n"
     ]
    },
    {
     "name": "stdout",
     "output_type": "stream",
     "text": [
      "[[0.62593633 0.73773759]\n",
      " [0.62002697 0.75783673]\n",
      " [0.5901     0.6492    ]]\n",
      "rec time now 2 dataset now: Syn5\n"
     ]
    },
    {
     "name": "stderr",
     "output_type": "stream",
     "text": [
      "TPR mean: 56.4%  std: 23.3%\n",
      "FDR mean: 37.9%  std: 37.5%\n"
     ]
    },
    {
     "name": "stdout",
     "output_type": "stream",
     "text": [
      "[[0.62593633 0.73773759]\n",
      " [0.62002697 0.75783673]\n",
      " [0.5901     0.6492    ]]\n",
      "rec time now 3 dataset now: Syn5\n"
     ]
    },
    {
     "name": "stderr",
     "output_type": "stream",
     "text": [
      "TPR mean: 56.4%  std: 23.3%\n",
      "FDR mean: 37.9%  std: 37.5%\n",
      "Epoch:      0, d_loss (Acc)): 0.572, v_loss (Acc): 0.061, g_loss: -2.0495\n"
     ]
    },
    {
     "name": "stdout",
     "output_type": "stream",
     "text": [
      "[[0.62593633 0.73773759]\n",
      " [0.62002697 0.75783673]\n",
      " [0.5901     0.6492    ]]\n",
      "now at training epoch number 3000 hyp-params: lamda 1.0000 prior 0.0000\n",
      "rec time now 0 dataset now: Syn5\n"
     ]
    },
    {
     "name": "stderr",
     "output_type": "stream",
     "text": [
      "TPR mean: 56.4%  std: 23.3%\n",
      "FDR mean: 37.9%  std: 37.5%\n"
     ]
    },
    {
     "name": "stdout",
     "output_type": "stream",
     "text": [
      "[[0.62454188 0.74083856]\n",
      " [0.61932035 0.76122932]\n",
      " [0.5868     0.6508    ]]\n",
      "rec time now 1 dataset now: Syn5\n"
     ]
    },
    {
     "name": "stderr",
     "output_type": "stream",
     "text": [
      "TPR mean: 56.4%  std: 23.3%\n",
      "FDR mean: 37.9%  std: 37.5%\n"
     ]
    },
    {
     "name": "stdout",
     "output_type": "stream",
     "text": [
      "[[0.62454188 0.74083856]\n",
      " [0.61932035 0.76122932]\n",
      " [0.5868     0.6508    ]]\n",
      "rec time now 2 dataset now: Syn5\n"
     ]
    },
    {
     "name": "stderr",
     "output_type": "stream",
     "text": [
      "TPR mean: 56.4%  std: 23.3%\n",
      "FDR mean: 37.9%  std: 37.5%\n"
     ]
    },
    {
     "name": "stdout",
     "output_type": "stream",
     "text": [
      "[[0.62454188 0.74083856]\n",
      " [0.61932035 0.76122932]\n",
      " [0.5868     0.6508    ]]\n",
      "rec time now 3 dataset now: Syn5\n"
     ]
    },
    {
     "name": "stderr",
     "output_type": "stream",
     "text": [
      "TPR mean: 56.4%  std: 23.3%\n",
      "FDR mean: 37.9%  std: 37.5%\n",
      "Epoch:      0, d_loss (Acc)): 0.578, v_loss (Acc): 0.051, g_loss: -1.8594\n"
     ]
    },
    {
     "name": "stdout",
     "output_type": "stream",
     "text": [
      "[[0.62454188 0.74083856]\n",
      " [0.61932035 0.76122932]\n",
      " [0.5868     0.6508    ]]\n",
      "now at training epoch number 3100 hyp-params: lamda 1.0000 prior 0.0000\n",
      "rec time now 0 dataset now: Syn5\n"
     ]
    },
    {
     "name": "stderr",
     "output_type": "stream",
     "text": [
      "TPR mean: 56.4%  std: 23.3%\n",
      "FDR mean: 37.9%  std: 37.5%\n"
     ]
    },
    {
     "name": "stdout",
     "output_type": "stream",
     "text": [
      "[[0.62440236 0.74051244]\n",
      " [0.61914768 0.76085536]\n",
      " [0.588      0.6521    ]]\n",
      "rec time now 1 dataset now: Syn5\n"
     ]
    },
    {
     "name": "stderr",
     "output_type": "stream",
     "text": [
      "TPR mean: 56.4%  std: 23.3%\n",
      "FDR mean: 37.9%  std: 37.5%\n"
     ]
    },
    {
     "name": "stdout",
     "output_type": "stream",
     "text": [
      "[[0.62440236 0.74051244]\n",
      " [0.61914768 0.76085536]\n",
      " [0.588      0.6521    ]]\n",
      "rec time now 2 dataset now: Syn5\n"
     ]
    },
    {
     "name": "stderr",
     "output_type": "stream",
     "text": [
      "TPR mean: 56.4%  std: 23.3%\n",
      "FDR mean: 37.9%  std: 37.5%\n"
     ]
    },
    {
     "name": "stdout",
     "output_type": "stream",
     "text": [
      "[[0.62440236 0.74051244]\n",
      " [0.61914768 0.76085536]\n",
      " [0.588      0.6521    ]]\n",
      "rec time now 3 dataset now: Syn5\n"
     ]
    },
    {
     "name": "stderr",
     "output_type": "stream",
     "text": [
      "TPR mean: 56.4%  std: 23.3%\n",
      "FDR mean: 37.9%  std: 37.5%\n",
      "Epoch:      0, d_loss (Acc)): 0.577, v_loss (Acc): 0.044, g_loss: -1.6190\n"
     ]
    },
    {
     "name": "stdout",
     "output_type": "stream",
     "text": [
      "[[0.62440236 0.74051244]\n",
      " [0.61914768 0.76085536]\n",
      " [0.588      0.6521    ]]\n",
      "now at training epoch number 3200 hyp-params: lamda 1.0000 prior 0.0000\n",
      "rec time now 0 dataset now: Syn5\n"
     ]
    },
    {
     "name": "stderr",
     "output_type": "stream",
     "text": [
      "TPR mean: 56.4%  std: 23.3%\n",
      "FDR mean: 37.9%  std: 37.5%\n"
     ]
    },
    {
     "name": "stdout",
     "output_type": "stream",
     "text": [
      "[[0.62205863 0.74255942]\n",
      " [0.61596159 0.7631007 ]\n",
      " [0.5876     0.6519    ]]\n",
      "rec time now 1 dataset now: Syn5\n"
     ]
    },
    {
     "name": "stderr",
     "output_type": "stream",
     "text": [
      "TPR mean: 56.4%  std: 23.3%\n",
      "FDR mean: 37.9%  std: 37.5%\n"
     ]
    },
    {
     "name": "stdout",
     "output_type": "stream",
     "text": [
      "[[0.62205863 0.74255942]\n",
      " [0.61596159 0.7631007 ]\n",
      " [0.5876     0.6519    ]]\n",
      "rec time now 2 dataset now: Syn5\n"
     ]
    },
    {
     "name": "stderr",
     "output_type": "stream",
     "text": [
      "TPR mean: 56.4%  std: 23.3%\n",
      "FDR mean: 37.9%  std: 37.5%\n"
     ]
    },
    {
     "name": "stdout",
     "output_type": "stream",
     "text": [
      "[[0.62205863 0.74255942]\n",
      " [0.61596159 0.7631007 ]\n",
      " [0.5876     0.6519    ]]\n",
      "rec time now 3 dataset now: Syn5\n"
     ]
    },
    {
     "name": "stderr",
     "output_type": "stream",
     "text": [
      "TPR mean: 56.4%  std: 23.3%\n",
      "FDR mean: 37.9%  std: 37.5%\n",
      "Epoch:      0, d_loss (Acc)): 0.581, v_loss (Acc): 0.040, g_loss: -1.5923\n"
     ]
    },
    {
     "name": "stdout",
     "output_type": "stream",
     "text": [
      "[[0.62205863 0.74255942]\n",
      " [0.61596159 0.7631007 ]\n",
      " [0.5876     0.6519    ]]\n",
      "now at training epoch number 3300 hyp-params: lamda 1.0000 prior 0.0000\n",
      "rec time now 0 dataset now: Syn5\n"
     ]
    },
    {
     "name": "stderr",
     "output_type": "stream",
     "text": [
      "TPR mean: 56.4%  std: 23.3%\n",
      "FDR mean: 37.9%  std: 37.5%\n"
     ]
    },
    {
     "name": "stdout",
     "output_type": "stream",
     "text": [
      "[[0.62471047 0.74115241]\n",
      " [0.62001097 0.76174838]\n",
      " [0.5891     0.6509    ]]\n",
      "rec time now 1 dataset now: Syn5\n"
     ]
    },
    {
     "name": "stderr",
     "output_type": "stream",
     "text": [
      "TPR mean: 56.4%  std: 23.3%\n",
      "FDR mean: 37.9%  std: 37.5%\n"
     ]
    },
    {
     "name": "stdout",
     "output_type": "stream",
     "text": [
      "[[0.62471047 0.74115241]\n",
      " [0.62001097 0.76174838]\n",
      " [0.5891     0.6509    ]]\n",
      "rec time now 2 dataset now: Syn5\n"
     ]
    },
    {
     "name": "stderr",
     "output_type": "stream",
     "text": [
      "TPR mean: 56.4%  std: 23.3%\n",
      "FDR mean: 37.9%  std: 37.5%\n"
     ]
    },
    {
     "name": "stdout",
     "output_type": "stream",
     "text": [
      "[[0.62471047 0.74115241]\n",
      " [0.62001097 0.76174838]\n",
      " [0.5891     0.6509    ]]\n",
      "rec time now 3 dataset now: Syn5\n"
     ]
    },
    {
     "name": "stderr",
     "output_type": "stream",
     "text": [
      "TPR mean: 56.4%  std: 23.3%\n",
      "FDR mean: 37.9%  std: 37.5%\n",
      "Epoch:      0, d_loss (Acc)): 0.594, v_loss (Acc): 0.036, g_loss: -1.4968\n"
     ]
    },
    {
     "name": "stdout",
     "output_type": "stream",
     "text": [
      "[[0.62471047 0.74115241]\n",
      " [0.62001097 0.76174838]\n",
      " [0.5891     0.6509    ]]\n",
      "now at training epoch number 3400 hyp-params: lamda 1.0000 prior 0.0000\n",
      "rec time now 0 dataset now: Syn5\n"
     ]
    },
    {
     "name": "stderr",
     "output_type": "stream",
     "text": [
      "TPR mean: 56.4%  std: 23.3%\n",
      "FDR mean: 37.9%  std: 37.5%\n"
     ]
    },
    {
     "name": "stdout",
     "output_type": "stream",
     "text": [
      "[[0.62408646 0.74354413]\n",
      " [0.61810899 0.7646367 ]\n",
      " [0.5875     0.6526    ]]\n",
      "rec time now 1 dataset now: Syn5\n"
     ]
    },
    {
     "name": "stderr",
     "output_type": "stream",
     "text": [
      "TPR mean: 56.4%  std: 23.3%\n",
      "FDR mean: 37.9%  std: 37.5%\n"
     ]
    },
    {
     "name": "stdout",
     "output_type": "stream",
     "text": [
      "[[0.62408646 0.74354413]\n",
      " [0.61810899 0.7646367 ]\n",
      " [0.5875     0.6526    ]]\n",
      "rec time now 2 dataset now: Syn5\n"
     ]
    },
    {
     "name": "stderr",
     "output_type": "stream",
     "text": [
      "TPR mean: 56.4%  std: 23.3%\n",
      "FDR mean: 37.9%  std: 37.5%\n"
     ]
    },
    {
     "name": "stdout",
     "output_type": "stream",
     "text": [
      "[[0.62408646 0.74354413]\n",
      " [0.61810899 0.7646367 ]\n",
      " [0.5875     0.6526    ]]\n",
      "rec time now 3 dataset now: Syn5\n"
     ]
    },
    {
     "name": "stderr",
     "output_type": "stream",
     "text": [
      "TPR mean: 56.4%  std: 23.3%\n",
      "FDR mean: 37.9%  std: 37.5%\n",
      "Epoch:      0, d_loss (Acc)): 0.570, v_loss (Acc): 0.030, g_loss: -1.3036\n"
     ]
    },
    {
     "name": "stdout",
     "output_type": "stream",
     "text": [
      "[[0.62408646 0.74354413]\n",
      " [0.61810899 0.7646367 ]\n",
      " [0.5875     0.6526    ]]\n",
      "now at training epoch number 3500 hyp-params: lamda 1.0000 prior 0.0000\n",
      "rec time now 0 dataset now: Syn5\n"
     ]
    },
    {
     "name": "stderr",
     "output_type": "stream",
     "text": [
      "TPR mean: 56.4%  std: 23.3%\n",
      "FDR mean: 37.9%  std: 37.5%\n"
     ]
    },
    {
     "name": "stdout",
     "output_type": "stream",
     "text": [
      "[[0.62469987 0.74240912]\n",
      " [0.61844132 0.76329663]\n",
      " [0.5897     0.6509    ]]\n",
      "rec time now 1 dataset now: Syn5\n"
     ]
    },
    {
     "name": "stderr",
     "output_type": "stream",
     "text": [
      "TPR mean: 56.4%  std: 23.3%\n",
      "FDR mean: 37.9%  std: 37.5%\n"
     ]
    },
    {
     "name": "stdout",
     "output_type": "stream",
     "text": [
      "[[0.62469987 0.74240912]\n",
      " [0.61844132 0.76329663]\n",
      " [0.5897     0.6509    ]]\n",
      "rec time now 2 dataset now: Syn5\n"
     ]
    },
    {
     "name": "stderr",
     "output_type": "stream",
     "text": [
      "TPR mean: 56.4%  std: 23.3%\n",
      "FDR mean: 37.9%  std: 37.5%\n"
     ]
    },
    {
     "name": "stdout",
     "output_type": "stream",
     "text": [
      "[[0.62469987 0.74240912]\n",
      " [0.61844132 0.76329663]\n",
      " [0.5897     0.6509    ]]\n",
      "rec time now 3 dataset now: Syn5\n"
     ]
    },
    {
     "name": "stderr",
     "output_type": "stream",
     "text": [
      "TPR mean: 56.4%  std: 23.3%\n",
      "FDR mean: 37.9%  std: 37.5%\n",
      "Epoch:      0, d_loss (Acc)): 0.575, v_loss (Acc): 0.026, g_loss: -1.2718\n"
     ]
    },
    {
     "name": "stdout",
     "output_type": "stream",
     "text": [
      "[[0.62469987 0.74240912]\n",
      " [0.61844132 0.76329663]\n",
      " [0.5897     0.6509    ]]\n",
      "now at training epoch number 3600 hyp-params: lamda 1.0000 prior 0.0000\n",
      "rec time now 0 dataset now: Syn5\n"
     ]
    },
    {
     "name": "stderr",
     "output_type": "stream",
     "text": [
      "TPR mean: 56.4%  std: 23.3%\n",
      "FDR mean: 37.9%  std: 37.5%\n"
     ]
    },
    {
     "name": "stdout",
     "output_type": "stream",
     "text": [
      "[[0.62205977 0.74392045]\n",
      " [0.6150356  0.76503803]\n",
      " [0.5864     0.6539    ]]\n",
      "rec time now 1 dataset now: Syn5\n"
     ]
    },
    {
     "name": "stderr",
     "output_type": "stream",
     "text": [
      "TPR mean: 56.4%  std: 23.3%\n",
      "FDR mean: 37.9%  std: 37.5%\n"
     ]
    },
    {
     "name": "stdout",
     "output_type": "stream",
     "text": [
      "[[0.62205977 0.74392045]\n",
      " [0.6150356  0.76503803]\n",
      " [0.5864     0.6539    ]]\n",
      "rec time now 2 dataset now: Syn5\n"
     ]
    },
    {
     "name": "stderr",
     "output_type": "stream",
     "text": [
      "TPR mean: 56.4%  std: 23.3%\n",
      "FDR mean: 37.9%  std: 37.5%\n"
     ]
    },
    {
     "name": "stdout",
     "output_type": "stream",
     "text": [
      "[[0.62205977 0.74392045]\n",
      " [0.6150356  0.76503803]\n",
      " [0.5864     0.6539    ]]\n",
      "rec time now 3 dataset now: Syn5\n"
     ]
    },
    {
     "name": "stderr",
     "output_type": "stream",
     "text": [
      "TPR mean: 56.4%  std: 23.3%\n",
      "FDR mean: 37.9%  std: 37.5%\n",
      "Epoch:      0, d_loss (Acc)): 0.568, v_loss (Acc): 0.022, g_loss: -1.1923\n"
     ]
    },
    {
     "name": "stdout",
     "output_type": "stream",
     "text": [
      "[[0.62205977 0.74392045]\n",
      " [0.6150356  0.76503803]\n",
      " [0.5864     0.6539    ]]\n",
      "now at training epoch number 3700 hyp-params: lamda 1.0000 prior 0.0000\n",
      "rec time now 0 dataset now: Syn5\n"
     ]
    },
    {
     "name": "stderr",
     "output_type": "stream",
     "text": [
      "TPR mean: 56.4%  std: 23.3%\n",
      "FDR mean: 37.9%  std: 37.5%\n"
     ]
    },
    {
     "name": "stdout",
     "output_type": "stream",
     "text": [
      "[[0.6211564  0.74505754]\n",
      " [0.61499179 0.76589241]\n",
      " [0.5857     0.6515    ]]\n",
      "rec time now 1 dataset now: Syn5\n"
     ]
    },
    {
     "name": "stderr",
     "output_type": "stream",
     "text": [
      "TPR mean: 56.4%  std: 23.3%\n",
      "FDR mean: 37.9%  std: 37.5%\n"
     ]
    },
    {
     "name": "stdout",
     "output_type": "stream",
     "text": [
      "[[0.6211564  0.74505754]\n",
      " [0.61499179 0.76589241]\n",
      " [0.5857     0.6515    ]]\n",
      "rec time now 2 dataset now: Syn5\n"
     ]
    },
    {
     "name": "stderr",
     "output_type": "stream",
     "text": [
      "TPR mean: 56.4%  std: 23.3%\n",
      "FDR mean: 37.9%  std: 37.5%\n"
     ]
    },
    {
     "name": "stdout",
     "output_type": "stream",
     "text": [
      "[[0.6211564  0.74505754]\n",
      " [0.61499179 0.76589241]\n",
      " [0.5857     0.6515    ]]\n",
      "rec time now 3 dataset now: Syn5\n"
     ]
    },
    {
     "name": "stderr",
     "output_type": "stream",
     "text": [
      "TPR mean: 56.4%  std: 23.3%\n",
      "FDR mean: 37.9%  std: 37.5%\n",
      "Epoch:      0, d_loss (Acc)): 0.585, v_loss (Acc): 0.020, g_loss: -1.0593\n"
     ]
    },
    {
     "name": "stdout",
     "output_type": "stream",
     "text": [
      "[[0.6211564  0.74505754]\n",
      " [0.61499179 0.76589241]\n",
      " [0.5857     0.6515    ]]\n",
      "now at training epoch number 3800 hyp-params: lamda 1.0000 prior 0.0000\n",
      "rec time now 0 dataset now: Syn5\n"
     ]
    },
    {
     "name": "stderr",
     "output_type": "stream",
     "text": [
      "TPR mean: 56.4%  std: 23.3%\n",
      "FDR mean: 37.9%  std: 37.5%\n"
     ]
    },
    {
     "name": "stdout",
     "output_type": "stream",
     "text": [
      "[[0.62008039 0.74217135]\n",
      " [0.61316208 0.76413571]\n",
      " [0.5861     0.6485    ]]\n",
      "rec time now 1 dataset now: Syn5\n"
     ]
    },
    {
     "name": "stderr",
     "output_type": "stream",
     "text": [
      "TPR mean: 56.4%  std: 23.3%\n",
      "FDR mean: 37.9%  std: 37.5%\n"
     ]
    },
    {
     "name": "stdout",
     "output_type": "stream",
     "text": [
      "[[0.62008039 0.74217135]\n",
      " [0.61316208 0.76413571]\n",
      " [0.5861     0.6485    ]]\n",
      "rec time now 2 dataset now: Syn5\n"
     ]
    },
    {
     "name": "stderr",
     "output_type": "stream",
     "text": [
      "TPR mean: 56.4%  std: 23.3%\n",
      "FDR mean: 37.9%  std: 37.5%\n"
     ]
    },
    {
     "name": "stdout",
     "output_type": "stream",
     "text": [
      "[[0.62008039 0.74217135]\n",
      " [0.61316208 0.76413571]\n",
      " [0.5861     0.6485    ]]\n",
      "rec time now 3 dataset now: Syn5\n"
     ]
    },
    {
     "name": "stderr",
     "output_type": "stream",
     "text": [
      "TPR mean: 56.4%  std: 23.3%\n",
      "FDR mean: 37.9%  std: 37.5%\n",
      "Epoch:      0, d_loss (Acc)): 0.570, v_loss (Acc): 0.017, g_loss: -1.0274\n"
     ]
    },
    {
     "name": "stdout",
     "output_type": "stream",
     "text": [
      "[[0.62008039 0.74217135]\n",
      " [0.61316208 0.76413571]\n",
      " [0.5861     0.6485    ]]\n",
      "now at training epoch number 3900 hyp-params: lamda 1.0000 prior 0.0000\n",
      "rec time now 0 dataset now: Syn5\n"
     ]
    },
    {
     "name": "stderr",
     "output_type": "stream",
     "text": [
      "TPR mean: 56.4%  std: 23.3%\n",
      "FDR mean: 37.9%  std: 37.5%\n"
     ]
    },
    {
     "name": "stdout",
     "output_type": "stream",
     "text": [
      "[[0.62462548 0.74410717]\n",
      " [0.61913037 0.76563518]\n",
      " [0.5847     0.6518    ]]\n",
      "rec time now 1 dataset now: Syn5\n"
     ]
    },
    {
     "name": "stderr",
     "output_type": "stream",
     "text": [
      "TPR mean: 56.4%  std: 23.3%\n",
      "FDR mean: 37.9%  std: 37.5%\n"
     ]
    },
    {
     "name": "stdout",
     "output_type": "stream",
     "text": [
      "[[0.62462548 0.74410717]\n",
      " [0.61913037 0.76563518]\n",
      " [0.5847     0.6518    ]]\n",
      "rec time now 2 dataset now: Syn5\n"
     ]
    },
    {
     "name": "stderr",
     "output_type": "stream",
     "text": [
      "TPR mean: 56.4%  std: 23.3%\n",
      "FDR mean: 37.9%  std: 37.5%\n"
     ]
    },
    {
     "name": "stdout",
     "output_type": "stream",
     "text": [
      "[[0.62462548 0.74410717]\n",
      " [0.61913037 0.76563518]\n",
      " [0.5847     0.6518    ]]\n",
      "rec time now 3 dataset now: Syn5\n"
     ]
    },
    {
     "name": "stderr",
     "output_type": "stream",
     "text": [
      "TPR mean: 56.4%  std: 23.3%\n",
      "FDR mean: 37.9%  std: 37.5%\n",
      "Epoch:      0, d_loss (Acc)): 0.544, v_loss (Acc): 0.016, g_loss: -1.0050\n"
     ]
    },
    {
     "name": "stdout",
     "output_type": "stream",
     "text": [
      "[[0.62462548 0.74410717]\n",
      " [0.61913037 0.76563518]\n",
      " [0.5847     0.6518    ]]\n",
      "now at training epoch number 4000 hyp-params: lamda 1.0000 prior 0.0000\n",
      "rec time now 0 dataset now: Syn5\n"
     ]
    },
    {
     "name": "stderr",
     "output_type": "stream",
     "text": [
      "TPR mean: 56.4%  std: 23.3%\n",
      "FDR mean: 37.9%  std: 37.5%\n"
     ]
    },
    {
     "name": "stdout",
     "output_type": "stream",
     "text": [
      "[[0.6217153  0.74227812]\n",
      " [0.61532611 0.76280686]\n",
      " [0.5864     0.6511    ]]\n",
      "rec time now 1 dataset now: Syn5\n"
     ]
    },
    {
     "name": "stderr",
     "output_type": "stream",
     "text": [
      "TPR mean: 56.4%  std: 23.3%\n",
      "FDR mean: 37.9%  std: 37.5%\n"
     ]
    },
    {
     "name": "stdout",
     "output_type": "stream",
     "text": [
      "[[0.6217153  0.74227812]\n",
      " [0.61532611 0.76280686]\n",
      " [0.5864     0.6511    ]]\n",
      "rec time now 2 dataset now: Syn5\n"
     ]
    },
    {
     "name": "stderr",
     "output_type": "stream",
     "text": [
      "TPR mean: 56.4%  std: 23.3%\n",
      "FDR mean: 37.9%  std: 37.5%\n"
     ]
    },
    {
     "name": "stdout",
     "output_type": "stream",
     "text": [
      "[[0.6217153  0.74227812]\n",
      " [0.61532611 0.76280686]\n",
      " [0.5864     0.6511    ]]\n",
      "rec time now 3 dataset now: Syn5\n"
     ]
    },
    {
     "name": "stderr",
     "output_type": "stream",
     "text": [
      "TPR mean: 56.4%  std: 23.3%\n",
      "FDR mean: 37.9%  std: 37.5%\n",
      "Epoch:      0, d_loss (Acc)): 0.573, v_loss (Acc): 0.012, g_loss: -0.9654\n"
     ]
    },
    {
     "name": "stdout",
     "output_type": "stream",
     "text": [
      "[[0.6217153  0.74227812]\n",
      " [0.61532611 0.76280686]\n",
      " [0.5864     0.6511    ]]\n",
      "now at training epoch number 4100 hyp-params: lamda 1.0000 prior 0.0000\n",
      "rec time now 0 dataset now: Syn5\n"
     ]
    },
    {
     "name": "stderr",
     "output_type": "stream",
     "text": [
      "TPR mean: 56.4%  std: 23.3%\n",
      "FDR mean: 37.9%  std: 37.5%\n"
     ]
    },
    {
     "name": "stdout",
     "output_type": "stream",
     "text": [
      "[[0.62023526 0.74186122]\n",
      " [0.61307471 0.76403334]\n",
      " [0.584      0.6522    ]]\n",
      "rec time now 1 dataset now: Syn5\n"
     ]
    },
    {
     "name": "stderr",
     "output_type": "stream",
     "text": [
      "TPR mean: 56.4%  std: 23.3%\n",
      "FDR mean: 37.9%  std: 37.5%\n"
     ]
    },
    {
     "name": "stdout",
     "output_type": "stream",
     "text": [
      "[[0.62023526 0.74186122]\n",
      " [0.61307471 0.76403334]\n",
      " [0.584      0.6522    ]]\n",
      "rec time now 2 dataset now: Syn5\n"
     ]
    },
    {
     "name": "stderr",
     "output_type": "stream",
     "text": [
      "TPR mean: 56.4%  std: 23.3%\n",
      "FDR mean: 37.9%  std: 37.5%\n"
     ]
    },
    {
     "name": "stdout",
     "output_type": "stream",
     "text": [
      "[[0.62023526 0.74186122]\n",
      " [0.61307471 0.76403334]\n",
      " [0.584      0.6522    ]]\n",
      "rec time now 3 dataset now: Syn5\n"
     ]
    },
    {
     "name": "stderr",
     "output_type": "stream",
     "text": [
      "TPR mean: 56.4%  std: 23.3%\n",
      "FDR mean: 37.9%  std: 37.5%\n",
      "Epoch:      0, d_loss (Acc)): 0.581, v_loss (Acc): 0.015, g_loss: -0.9066\n"
     ]
    },
    {
     "name": "stdout",
     "output_type": "stream",
     "text": [
      "[[0.62023526 0.74186122]\n",
      " [0.61307471 0.76403334]\n",
      " [0.584      0.6522    ]]\n",
      "now at training epoch number 4200 hyp-params: lamda 1.0000 prior 0.0000\n",
      "rec time now 0 dataset now: Syn5\n"
     ]
    },
    {
     "name": "stderr",
     "output_type": "stream",
     "text": [
      "TPR mean: 56.4%  std: 23.3%\n",
      "FDR mean: 37.9%  std: 37.5%\n"
     ]
    },
    {
     "name": "stdout",
     "output_type": "stream",
     "text": [
      "[[0.62136041 0.74458802]\n",
      " [0.61380898 0.76629828]\n",
      " [0.5868     0.6498    ]]\n",
      "rec time now 1 dataset now: Syn5\n"
     ]
    },
    {
     "name": "stderr",
     "output_type": "stream",
     "text": [
      "TPR mean: 56.4%  std: 23.3%\n",
      "FDR mean: 37.9%  std: 37.5%\n"
     ]
    },
    {
     "name": "stdout",
     "output_type": "stream",
     "text": [
      "[[0.62136041 0.74458802]\n",
      " [0.61380898 0.76629828]\n",
      " [0.5868     0.6498    ]]\n",
      "rec time now 2 dataset now: Syn5\n"
     ]
    },
    {
     "name": "stderr",
     "output_type": "stream",
     "text": [
      "TPR mean: 56.4%  std: 23.3%\n",
      "FDR mean: 37.9%  std: 37.5%\n"
     ]
    },
    {
     "name": "stdout",
     "output_type": "stream",
     "text": [
      "[[0.62136041 0.74458802]\n",
      " [0.61380898 0.76629828]\n",
      " [0.5868     0.6498    ]]\n",
      "rec time now 3 dataset now: Syn5\n"
     ]
    },
    {
     "name": "stderr",
     "output_type": "stream",
     "text": [
      "TPR mean: 56.4%  std: 23.3%\n",
      "FDR mean: 37.9%  std: 37.5%\n",
      "Epoch:      0, d_loss (Acc)): 0.543, v_loss (Acc): 0.014, g_loss: -0.8031\n"
     ]
    },
    {
     "name": "stdout",
     "output_type": "stream",
     "text": [
      "[[0.62136041 0.74458802]\n",
      " [0.61380898 0.76629828]\n",
      " [0.5868     0.6498    ]]\n",
      "now at training epoch number 4300 hyp-params: lamda 1.0000 prior 0.0000\n",
      "rec time now 0 dataset now: Syn5\n"
     ]
    },
    {
     "name": "stderr",
     "output_type": "stream",
     "text": [
      "TPR mean: 56.4%  std: 23.3%\n",
      "FDR mean: 37.9%  std: 37.5%\n"
     ]
    },
    {
     "name": "stdout",
     "output_type": "stream",
     "text": [
      "[[0.6223206  0.74534973]\n",
      " [0.61498992 0.76687021]\n",
      " [0.5881     0.651     ]]\n",
      "rec time now 1 dataset now: Syn5\n"
     ]
    },
    {
     "name": "stderr",
     "output_type": "stream",
     "text": [
      "TPR mean: 56.4%  std: 23.3%\n",
      "FDR mean: 37.9%  std: 37.5%\n"
     ]
    },
    {
     "name": "stdout",
     "output_type": "stream",
     "text": [
      "[[0.6223206  0.74534973]\n",
      " [0.61498992 0.76687021]\n",
      " [0.5881     0.651     ]]\n",
      "rec time now 2 dataset now: Syn5\n"
     ]
    },
    {
     "name": "stderr",
     "output_type": "stream",
     "text": [
      "TPR mean: 56.4%  std: 23.3%\n",
      "FDR mean: 37.9%  std: 37.5%\n"
     ]
    },
    {
     "name": "stdout",
     "output_type": "stream",
     "text": [
      "[[0.6223206  0.74534973]\n",
      " [0.61498992 0.76687021]\n",
      " [0.5881     0.651     ]]\n",
      "rec time now 3 dataset now: Syn5\n"
     ]
    },
    {
     "name": "stderr",
     "output_type": "stream",
     "text": [
      "TPR mean: 56.4%  std: 23.3%\n",
      "FDR mean: 37.9%  std: 37.5%\n",
      "Epoch:      0, d_loss (Acc)): 0.570, v_loss (Acc): 0.011, g_loss: -0.6915\n"
     ]
    },
    {
     "name": "stdout",
     "output_type": "stream",
     "text": [
      "[[0.6223206  0.74534973]\n",
      " [0.61498992 0.76687021]\n",
      " [0.5881     0.651     ]]\n",
      "now at training epoch number 4400 hyp-params: lamda 1.0000 prior 0.0000\n",
      "rec time now 0 dataset now: Syn5\n"
     ]
    },
    {
     "name": "stderr",
     "output_type": "stream",
     "text": [
      "TPR mean: 56.4%  std: 23.3%\n",
      "FDR mean: 37.9%  std: 37.5%\n"
     ]
    },
    {
     "name": "stdout",
     "output_type": "stream",
     "text": [
      "[[0.62227944 0.74750504]\n",
      " [0.61513181 0.7686911 ]\n",
      " [0.5846     0.6575    ]]\n",
      "rec time now 1 dataset now: Syn5\n"
     ]
    },
    {
     "name": "stderr",
     "output_type": "stream",
     "text": [
      "TPR mean: 56.4%  std: 23.3%\n",
      "FDR mean: 37.9%  std: 37.5%\n"
     ]
    },
    {
     "name": "stdout",
     "output_type": "stream",
     "text": [
      "[[0.62227944 0.74750504]\n",
      " [0.61513181 0.7686911 ]\n",
      " [0.5846     0.6575    ]]\n",
      "rec time now 2 dataset now: Syn5\n"
     ]
    },
    {
     "name": "stderr",
     "output_type": "stream",
     "text": [
      "TPR mean: 56.4%  std: 23.3%\n",
      "FDR mean: 37.9%  std: 37.5%\n"
     ]
    },
    {
     "name": "stdout",
     "output_type": "stream",
     "text": [
      "[[0.62227944 0.74750504]\n",
      " [0.61513181 0.7686911 ]\n",
      " [0.5846     0.6575    ]]\n",
      "rec time now 3 dataset now: Syn5\n"
     ]
    },
    {
     "name": "stderr",
     "output_type": "stream",
     "text": [
      "TPR mean: 56.4%  std: 23.3%\n",
      "FDR mean: 37.9%  std: 37.5%\n",
      "Epoch:      0, d_loss (Acc)): 0.581, v_loss (Acc): 0.009, g_loss: -0.7215\n"
     ]
    },
    {
     "name": "stdout",
     "output_type": "stream",
     "text": [
      "[[0.62227944 0.74750504]\n",
      " [0.61513181 0.7686911 ]\n",
      " [0.5846     0.6575    ]]\n",
      "now at training epoch number 4500 hyp-params: lamda 1.0000 prior 0.0000\n",
      "rec time now 0 dataset now: Syn5\n"
     ]
    },
    {
     "name": "stderr",
     "output_type": "stream",
     "text": [
      "TPR mean: 56.4%  std: 23.3%\n",
      "FDR mean: 37.9%  std: 37.5%\n"
     ]
    },
    {
     "name": "stdout",
     "output_type": "stream",
     "text": [
      "[[0.6219935  0.74775979]\n",
      " [0.61479218 0.7692777 ]\n",
      " [0.5878     0.6577    ]]\n",
      "rec time now 1 dataset now: Syn5\n"
     ]
    },
    {
     "name": "stderr",
     "output_type": "stream",
     "text": [
      "TPR mean: 56.4%  std: 23.3%\n",
      "FDR mean: 37.9%  std: 37.5%\n"
     ]
    },
    {
     "name": "stdout",
     "output_type": "stream",
     "text": [
      "[[0.6219935  0.74775979]\n",
      " [0.61479218 0.7692777 ]\n",
      " [0.5878     0.6577    ]]\n",
      "rec time now 2 dataset now: Syn5\n"
     ]
    },
    {
     "name": "stderr",
     "output_type": "stream",
     "text": [
      "TPR mean: 56.4%  std: 23.3%\n",
      "FDR mean: 37.9%  std: 37.5%\n"
     ]
    },
    {
     "name": "stdout",
     "output_type": "stream",
     "text": [
      "[[0.6219935  0.74775979]\n",
      " [0.61479218 0.7692777 ]\n",
      " [0.5878     0.6577    ]]\n",
      "rec time now 3 dataset now: Syn5\n"
     ]
    },
    {
     "name": "stderr",
     "output_type": "stream",
     "text": [
      "TPR mean: 56.4%  std: 23.3%\n",
      "FDR mean: 37.9%  std: 37.5%\n",
      "Epoch:      0, d_loss (Acc)): 0.546, v_loss (Acc): 0.007, g_loss: -0.6680\n"
     ]
    },
    {
     "name": "stdout",
     "output_type": "stream",
     "text": [
      "[[0.6219935  0.74775979]\n",
      " [0.61479218 0.7692777 ]\n",
      " [0.5878     0.6577    ]]\n",
      "now at training epoch number 4600 hyp-params: lamda 1.0000 prior 0.0000\n",
      "rec time now 0 dataset now: Syn5\n"
     ]
    },
    {
     "name": "stderr",
     "output_type": "stream",
     "text": [
      "TPR mean: 56.4%  std: 23.3%\n",
      "FDR mean: 37.9%  std: 37.5%\n"
     ]
    },
    {
     "name": "stdout",
     "output_type": "stream",
     "text": [
      "[[0.62100607 0.74598342]\n",
      " [0.61331409 0.76770882]\n",
      " [0.5849     0.6528    ]]\n",
      "rec time now 1 dataset now: Syn5\n"
     ]
    },
    {
     "name": "stderr",
     "output_type": "stream",
     "text": [
      "TPR mean: 56.4%  std: 23.3%\n",
      "FDR mean: 37.9%  std: 37.5%\n"
     ]
    },
    {
     "name": "stdout",
     "output_type": "stream",
     "text": [
      "[[0.62100607 0.74598342]\n",
      " [0.61331409 0.76770882]\n",
      " [0.5849     0.6528    ]]\n",
      "rec time now 2 dataset now: Syn5\n"
     ]
    },
    {
     "name": "stderr",
     "output_type": "stream",
     "text": [
      "TPR mean: 56.4%  std: 23.3%\n",
      "FDR mean: 37.9%  std: 37.5%\n"
     ]
    },
    {
     "name": "stdout",
     "output_type": "stream",
     "text": [
      "[[0.62100607 0.74598342]\n",
      " [0.61331409 0.76770882]\n",
      " [0.5849     0.6528    ]]\n",
      "rec time now 3 dataset now: Syn5\n"
     ]
    },
    {
     "name": "stderr",
     "output_type": "stream",
     "text": [
      "TPR mean: 56.4%  std: 23.3%\n",
      "FDR mean: 37.9%  std: 37.5%\n",
      "Epoch:      0, d_loss (Acc)): 0.575, v_loss (Acc): 0.009, g_loss: -0.5957\n"
     ]
    },
    {
     "name": "stdout",
     "output_type": "stream",
     "text": [
      "[[0.62100607 0.74598342]\n",
      " [0.61331409 0.76770882]\n",
      " [0.5849     0.6528    ]]\n",
      "now at training epoch number 4700 hyp-params: lamda 1.0000 prior 0.0000\n",
      "rec time now 0 dataset now: Syn5\n"
     ]
    },
    {
     "name": "stderr",
     "output_type": "stream",
     "text": [
      "TPR mean: 56.4%  std: 23.3%\n",
      "FDR mean: 37.9%  std: 37.5%\n"
     ]
    },
    {
     "name": "stdout",
     "output_type": "stream",
     "text": [
      "[[0.62017127 0.74656792]\n",
      " [0.6126333  0.76795552]\n",
      " [0.5851     0.6509    ]]\n",
      "rec time now 1 dataset now: Syn5\n"
     ]
    },
    {
     "name": "stderr",
     "output_type": "stream",
     "text": [
      "TPR mean: 56.4%  std: 23.3%\n",
      "FDR mean: 37.9%  std: 37.5%\n"
     ]
    },
    {
     "name": "stdout",
     "output_type": "stream",
     "text": [
      "[[0.62017127 0.74656792]\n",
      " [0.6126333  0.76795552]\n",
      " [0.5851     0.6509    ]]\n",
      "rec time now 2 dataset now: Syn5\n"
     ]
    },
    {
     "name": "stderr",
     "output_type": "stream",
     "text": [
      "TPR mean: 56.4%  std: 23.3%\n",
      "FDR mean: 37.9%  std: 37.5%\n"
     ]
    },
    {
     "name": "stdout",
     "output_type": "stream",
     "text": [
      "[[0.62017127 0.74656792]\n",
      " [0.6126333  0.76795552]\n",
      " [0.5851     0.6509    ]]\n",
      "rec time now 3 dataset now: Syn5\n"
     ]
    },
    {
     "name": "stderr",
     "output_type": "stream",
     "text": [
      "TPR mean: 56.4%  std: 23.3%\n",
      "FDR mean: 37.9%  std: 37.5%\n",
      "Epoch:      0, d_loss (Acc)): 0.533, v_loss (Acc): 0.006, g_loss: -0.4704\n"
     ]
    },
    {
     "name": "stdout",
     "output_type": "stream",
     "text": [
      "[[0.62017127 0.74656792]\n",
      " [0.6126333  0.76795552]\n",
      " [0.5851     0.6509    ]]\n",
      "now at training epoch number 4800 hyp-params: lamda 1.0000 prior 0.0000\n",
      "rec time now 0 dataset now: Syn5\n"
     ]
    },
    {
     "name": "stderr",
     "output_type": "stream",
     "text": [
      "TPR mean: 56.4%  std: 23.3%\n",
      "FDR mean: 37.9%  std: 37.5%\n"
     ]
    },
    {
     "name": "stdout",
     "output_type": "stream",
     "text": [
      "[[0.62081539 0.74709004]\n",
      " [0.61298999 0.76784682]\n",
      " [0.5863     0.6534    ]]\n",
      "rec time now 1 dataset now: Syn5\n"
     ]
    },
    {
     "name": "stderr",
     "output_type": "stream",
     "text": [
      "TPR mean: 56.4%  std: 23.3%\n",
      "FDR mean: 37.9%  std: 37.5%\n"
     ]
    },
    {
     "name": "stdout",
     "output_type": "stream",
     "text": [
      "[[0.62081539 0.74709004]\n",
      " [0.61298999 0.76784682]\n",
      " [0.5863     0.6534    ]]\n",
      "rec time now 2 dataset now: Syn5\n"
     ]
    },
    {
     "name": "stderr",
     "output_type": "stream",
     "text": [
      "TPR mean: 56.4%  std: 23.3%\n",
      "FDR mean: 37.9%  std: 37.5%\n"
     ]
    },
    {
     "name": "stdout",
     "output_type": "stream",
     "text": [
      "[[0.62081539 0.74709004]\n",
      " [0.61298999 0.76784682]\n",
      " [0.5863     0.6534    ]]\n",
      "rec time now 3 dataset now: Syn5\n"
     ]
    },
    {
     "name": "stderr",
     "output_type": "stream",
     "text": [
      "TPR mean: 56.4%  std: 23.3%\n",
      "FDR mean: 37.9%  std: 37.5%\n",
      "Epoch:      0, d_loss (Acc)): 0.560, v_loss (Acc): 0.006, g_loss: -0.4768\n"
     ]
    },
    {
     "name": "stdout",
     "output_type": "stream",
     "text": [
      "[[0.62081539 0.74709004]\n",
      " [0.61298999 0.76784682]\n",
      " [0.5863     0.6534    ]]\n",
      "now at training epoch number 4900 hyp-params: lamda 1.0000 prior 0.0000\n",
      "rec time now 0 dataset now: Syn5\n"
     ]
    },
    {
     "name": "stderr",
     "output_type": "stream",
     "text": [
      "TPR mean: 56.4%  std: 23.3%\n",
      "FDR mean: 37.9%  std: 37.5%\n"
     ]
    },
    {
     "name": "stdout",
     "output_type": "stream",
     "text": [
      "[[0.62160083 0.74599127]\n",
      " [0.61390659 0.76790028]\n",
      " [0.5851     0.6502    ]]\n",
      "rec time now 1 dataset now: Syn5\n"
     ]
    },
    {
     "name": "stderr",
     "output_type": "stream",
     "text": [
      "TPR mean: 56.4%  std: 23.3%\n",
      "FDR mean: 37.9%  std: 37.5%\n"
     ]
    },
    {
     "name": "stdout",
     "output_type": "stream",
     "text": [
      "[[0.62160083 0.74599127]\n",
      " [0.61390659 0.76790028]\n",
      " [0.5851     0.6502    ]]\n",
      "rec time now 2 dataset now: Syn5\n"
     ]
    },
    {
     "name": "stderr",
     "output_type": "stream",
     "text": [
      "TPR mean: 56.4%  std: 23.3%\n",
      "FDR mean: 37.9%  std: 37.5%\n"
     ]
    },
    {
     "name": "stdout",
     "output_type": "stream",
     "text": [
      "[[0.62160083 0.74599127]\n",
      " [0.61390659 0.76790028]\n",
      " [0.5851     0.6502    ]]\n",
      "rec time now 3 dataset now: Syn5\n"
     ]
    },
    {
     "name": "stderr",
     "output_type": "stream",
     "text": [
      "TPR mean: 56.4%  std: 23.3%\n",
      "FDR mean: 37.9%  std: 37.5%\n",
      "Epoch:      0, d_loss (Acc)): 0.548, v_loss (Acc): 0.005, g_loss: -0.4412\n"
     ]
    },
    {
     "name": "stdout",
     "output_type": "stream",
     "text": [
      "[[0.62160083 0.74599127]\n",
      " [0.61390659 0.76790028]\n",
      " [0.5851     0.6502    ]]\n",
      "now at training epoch number 5000 hyp-params: lamda 1.0000 prior 0.0000\n",
      "rec time now 0 dataset now: Syn5\n"
     ]
    },
    {
     "name": "stderr",
     "output_type": "stream",
     "text": [
      "TPR mean: 56.4%  std: 23.3%\n",
      "FDR mean: 37.9%  std: 37.5%\n"
     ]
    },
    {
     "name": "stdout",
     "output_type": "stream",
     "text": [
      "[[0.61980305 0.74733383]\n",
      " [0.61310092 0.76887947]\n",
      " [0.5841     0.6527    ]]\n",
      "rec time now 1 dataset now: Syn5\n"
     ]
    },
    {
     "name": "stderr",
     "output_type": "stream",
     "text": [
      "TPR mean: 56.4%  std: 23.3%\n",
      "FDR mean: 37.9%  std: 37.5%\n"
     ]
    },
    {
     "name": "stdout",
     "output_type": "stream",
     "text": [
      "[[0.61980305 0.74733383]\n",
      " [0.61310092 0.76887947]\n",
      " [0.5841     0.6527    ]]\n",
      "rec time now 2 dataset now: Syn5\n"
     ]
    },
    {
     "name": "stderr",
     "output_type": "stream",
     "text": [
      "TPR mean: 56.4%  std: 23.3%\n",
      "FDR mean: 37.9%  std: 37.5%\n"
     ]
    },
    {
     "name": "stdout",
     "output_type": "stream",
     "text": [
      "[[0.61980305 0.74733383]\n",
      " [0.61310092 0.76887947]\n",
      " [0.5841     0.6527    ]]\n",
      "rec time now 3 dataset now: Syn5\n"
     ]
    },
    {
     "name": "stderr",
     "output_type": "stream",
     "text": [
      "TPR mean: 56.4%  std: 23.3%\n",
      "FDR mean: 37.9%  std: 37.5%\n",
      "Epoch:      0, d_loss (Acc)): 0.538, v_loss (Acc): 0.005, g_loss: -0.3346\n"
     ]
    },
    {
     "name": "stdout",
     "output_type": "stream",
     "text": [
      "[[0.61980305 0.74733383]\n",
      " [0.61310092 0.76887947]\n",
      " [0.5841     0.6527    ]]\n",
      "now at training epoch number 5100 hyp-params: lamda 1.0000 prior 0.0000\n",
      "rec time now 0 dataset now: Syn5\n"
     ]
    },
    {
     "name": "stderr",
     "output_type": "stream",
     "text": [
      "TPR mean: 56.4%  std: 23.3%\n",
      "FDR mean: 37.9%  std: 37.5%\n"
     ]
    },
    {
     "name": "stdout",
     "output_type": "stream",
     "text": [
      "[[0.61795623 0.74743003]\n",
      " [0.61123746 0.76906537]\n",
      " [0.5817     0.6588    ]]\n",
      "rec time now 1 dataset now: Syn5\n"
     ]
    },
    {
     "name": "stderr",
     "output_type": "stream",
     "text": [
      "TPR mean: 56.4%  std: 23.3%\n",
      "FDR mean: 37.9%  std: 37.5%\n"
     ]
    },
    {
     "name": "stdout",
     "output_type": "stream",
     "text": [
      "[[0.61795623 0.74743003]\n",
      " [0.61123746 0.76906537]\n",
      " [0.5817     0.6588    ]]\n",
      "rec time now 2 dataset now: Syn5\n"
     ]
    },
    {
     "name": "stderr",
     "output_type": "stream",
     "text": [
      "TPR mean: 56.4%  std: 23.3%\n",
      "FDR mean: 37.9%  std: 37.5%\n"
     ]
    },
    {
     "name": "stdout",
     "output_type": "stream",
     "text": [
      "[[0.61795623 0.74743003]\n",
      " [0.61123746 0.76906537]\n",
      " [0.5817     0.6588    ]]\n",
      "rec time now 3 dataset now: Syn5\n"
     ]
    },
    {
     "name": "stderr",
     "output_type": "stream",
     "text": [
      "TPR mean: 56.4%  std: 23.3%\n",
      "FDR mean: 37.9%  std: 37.5%\n",
      "Epoch:      0, d_loss (Acc)): 0.567, v_loss (Acc): 0.005, g_loss: -0.4162\n"
     ]
    },
    {
     "name": "stdout",
     "output_type": "stream",
     "text": [
      "[[0.61795623 0.74743003]\n",
      " [0.61123746 0.76906537]\n",
      " [0.5817     0.6588    ]]\n",
      "now at training epoch number 5200 hyp-params: lamda 1.0000 prior 0.0000\n",
      "rec time now 0 dataset now: Syn5\n"
     ]
    },
    {
     "name": "stderr",
     "output_type": "stream",
     "text": [
      "TPR mean: 56.4%  std: 23.3%\n",
      "FDR mean: 37.9%  std: 37.5%\n"
     ]
    },
    {
     "name": "stdout",
     "output_type": "stream",
     "text": [
      "[[0.61901721 0.74731294]\n",
      " [0.61148093 0.76947393]\n",
      " [0.5828     0.6549    ]]\n",
      "rec time now 1 dataset now: Syn5\n"
     ]
    },
    {
     "name": "stderr",
     "output_type": "stream",
     "text": [
      "TPR mean: 56.4%  std: 23.3%\n",
      "FDR mean: 37.9%  std: 37.5%\n"
     ]
    },
    {
     "name": "stdout",
     "output_type": "stream",
     "text": [
      "[[0.61901721 0.74731294]\n",
      " [0.61148093 0.76947393]\n",
      " [0.5828     0.6549    ]]\n",
      "rec time now 2 dataset now: Syn5\n"
     ]
    },
    {
     "name": "stderr",
     "output_type": "stream",
     "text": [
      "TPR mean: 56.4%  std: 23.3%\n",
      "FDR mean: 37.9%  std: 37.5%\n"
     ]
    },
    {
     "name": "stdout",
     "output_type": "stream",
     "text": [
      "[[0.61901721 0.74731294]\n",
      " [0.61148093 0.76947393]\n",
      " [0.5828     0.6549    ]]\n",
      "rec time now 3 dataset now: Syn5\n"
     ]
    },
    {
     "name": "stderr",
     "output_type": "stream",
     "text": [
      "TPR mean: 56.4%  std: 23.3%\n",
      "FDR mean: 37.9%  std: 37.5%\n",
      "Epoch:      0, d_loss (Acc)): 0.552, v_loss (Acc): 0.005, g_loss: -0.3780\n"
     ]
    },
    {
     "name": "stdout",
     "output_type": "stream",
     "text": [
      "[[0.61901721 0.74731294]\n",
      " [0.61148093 0.76947393]\n",
      " [0.5828     0.6549    ]]\n",
      "now at training epoch number 5300 hyp-params: lamda 1.0000 prior 0.0000\n",
      "rec time now 0 dataset now: Syn5\n"
     ]
    },
    {
     "name": "stderr",
     "output_type": "stream",
     "text": [
      "TPR mean: 56.4%  std: 23.3%\n",
      "FDR mean: 37.9%  std: 37.5%\n"
     ]
    },
    {
     "name": "stdout",
     "output_type": "stream",
     "text": [
      "[[0.61829594 0.747215  ]\n",
      " [0.61098242 0.76896071]\n",
      " [0.5834     0.6539    ]]\n",
      "rec time now 1 dataset now: Syn5\n"
     ]
    },
    {
     "name": "stderr",
     "output_type": "stream",
     "text": [
      "TPR mean: 56.4%  std: 23.3%\n",
      "FDR mean: 37.9%  std: 37.5%\n"
     ]
    },
    {
     "name": "stdout",
     "output_type": "stream",
     "text": [
      "[[0.61829594 0.747215  ]\n",
      " [0.61098242 0.76896071]\n",
      " [0.5834     0.6539    ]]\n",
      "rec time now 2 dataset now: Syn5\n"
     ]
    },
    {
     "name": "stderr",
     "output_type": "stream",
     "text": [
      "TPR mean: 56.4%  std: 23.3%\n",
      "FDR mean: 37.9%  std: 37.5%\n"
     ]
    },
    {
     "name": "stdout",
     "output_type": "stream",
     "text": [
      "[[0.61829594 0.747215  ]\n",
      " [0.61098242 0.76896071]\n",
      " [0.5834     0.6539    ]]\n",
      "rec time now 3 dataset now: Syn5\n"
     ]
    },
    {
     "name": "stderr",
     "output_type": "stream",
     "text": [
      "TPR mean: 56.4%  std: 23.3%\n",
      "FDR mean: 37.9%  std: 37.5%\n",
      "Epoch:      0, d_loss (Acc)): 0.538, v_loss (Acc): 0.004, g_loss: -0.3976\n"
     ]
    },
    {
     "name": "stdout",
     "output_type": "stream",
     "text": [
      "[[0.61829594 0.747215  ]\n",
      " [0.61098242 0.76896071]\n",
      " [0.5834     0.6539    ]]\n",
      "now at training epoch number 5400 hyp-params: lamda 1.0000 prior 0.0000\n",
      "rec time now 0 dataset now: Syn5\n"
     ]
    },
    {
     "name": "stderr",
     "output_type": "stream",
     "text": [
      "TPR mean: 56.4%  std: 23.3%\n",
      "FDR mean: 37.9%  std: 37.5%\n"
     ]
    },
    {
     "name": "stdout",
     "output_type": "stream",
     "text": [
      "[[0.61798925 0.7478765 ]\n",
      " [0.61028395 0.76954253]\n",
      " [0.5841     0.656     ]]\n",
      "rec time now 1 dataset now: Syn5\n"
     ]
    },
    {
     "name": "stderr",
     "output_type": "stream",
     "text": [
      "TPR mean: 56.4%  std: 23.3%\n",
      "FDR mean: 37.9%  std: 37.5%\n"
     ]
    },
    {
     "name": "stdout",
     "output_type": "stream",
     "text": [
      "[[0.61798925 0.7478765 ]\n",
      " [0.61028395 0.76954253]\n",
      " [0.5841     0.656     ]]\n",
      "rec time now 2 dataset now: Syn5\n"
     ]
    },
    {
     "name": "stderr",
     "output_type": "stream",
     "text": [
      "TPR mean: 56.4%  std: 23.3%\n",
      "FDR mean: 37.9%  std: 37.5%\n"
     ]
    },
    {
     "name": "stdout",
     "output_type": "stream",
     "text": [
      "[[0.61798925 0.7478765 ]\n",
      " [0.61028395 0.76954253]\n",
      " [0.5841     0.656     ]]\n",
      "rec time now 3 dataset now: Syn5\n"
     ]
    },
    {
     "name": "stderr",
     "output_type": "stream",
     "text": [
      "TPR mean: 56.4%  std: 23.3%\n",
      "FDR mean: 37.9%  std: 37.5%\n",
      "Epoch:      0, d_loss (Acc)): 0.553, v_loss (Acc): 0.004, g_loss: -0.3669\n"
     ]
    },
    {
     "name": "stdout",
     "output_type": "stream",
     "text": [
      "[[0.61798925 0.7478765 ]\n",
      " [0.61028395 0.76954253]\n",
      " [0.5841     0.656     ]]\n",
      "now at training epoch number 5500 hyp-params: lamda 1.0000 prior 0.0000\n",
      "rec time now 0 dataset now: Syn5\n"
     ]
    },
    {
     "name": "stderr",
     "output_type": "stream",
     "text": [
      "TPR mean: 56.4%  std: 23.3%\n",
      "FDR mean: 37.9%  std: 37.5%\n"
     ]
    },
    {
     "name": "stdout",
     "output_type": "stream",
     "text": [
      "[[0.62048413 0.74320276]\n",
      " [0.61274983 0.76562339]\n",
      " [0.5859     0.6501    ]]\n",
      "rec time now 1 dataset now: Syn5\n"
     ]
    },
    {
     "name": "stderr",
     "output_type": "stream",
     "text": [
      "TPR mean: 56.4%  std: 23.3%\n",
      "FDR mean: 37.9%  std: 37.5%\n"
     ]
    },
    {
     "name": "stdout",
     "output_type": "stream",
     "text": [
      "[[0.62048413 0.74320276]\n",
      " [0.61274983 0.76562339]\n",
      " [0.5859     0.6501    ]]\n",
      "rec time now 2 dataset now: Syn5\n"
     ]
    },
    {
     "name": "stderr",
     "output_type": "stream",
     "text": [
      "TPR mean: 56.4%  std: 23.3%\n",
      "FDR mean: 37.9%  std: 37.5%\n"
     ]
    },
    {
     "name": "stdout",
     "output_type": "stream",
     "text": [
      "[[0.62048413 0.74320276]\n",
      " [0.61274983 0.76562339]\n",
      " [0.5859     0.6501    ]]\n",
      "rec time now 3 dataset now: Syn5\n"
     ]
    },
    {
     "name": "stderr",
     "output_type": "stream",
     "text": [
      "TPR mean: 56.4%  std: 23.3%\n",
      "FDR mean: 37.9%  std: 37.5%\n",
      "Epoch:      0, d_loss (Acc)): 0.562, v_loss (Acc): 0.003, g_loss: -0.3489\n"
     ]
    },
    {
     "name": "stdout",
     "output_type": "stream",
     "text": [
      "[[0.62048413 0.74320276]\n",
      " [0.61274983 0.76562339]\n",
      " [0.5859     0.6501    ]]\n",
      "now at training epoch number 5600 hyp-params: lamda 1.0000 prior 0.0000\n",
      "rec time now 0 dataset now: Syn5\n"
     ]
    },
    {
     "name": "stderr",
     "output_type": "stream",
     "text": [
      "TPR mean: 56.4%  std: 23.3%\n",
      "FDR mean: 37.9%  std: 37.5%\n"
     ]
    },
    {
     "name": "stdout",
     "output_type": "stream",
     "text": [
      "[[0.6186199  0.74444636]\n",
      " [0.61145034 0.7662031 ]\n",
      " [0.5832     0.6512    ]]\n",
      "rec time now 1 dataset now: Syn5\n"
     ]
    },
    {
     "name": "stderr",
     "output_type": "stream",
     "text": [
      "TPR mean: 56.4%  std: 23.3%\n",
      "FDR mean: 37.9%  std: 37.5%\n"
     ]
    },
    {
     "name": "stdout",
     "output_type": "stream",
     "text": [
      "[[0.6186199  0.74444636]\n",
      " [0.61145034 0.7662031 ]\n",
      " [0.5832     0.6512    ]]\n",
      "rec time now 2 dataset now: Syn5\n"
     ]
    },
    {
     "name": "stderr",
     "output_type": "stream",
     "text": [
      "TPR mean: 56.4%  std: 23.3%\n",
      "FDR mean: 37.9%  std: 37.5%\n"
     ]
    },
    {
     "name": "stdout",
     "output_type": "stream",
     "text": [
      "[[0.6186199  0.74444636]\n",
      " [0.61145034 0.7662031 ]\n",
      " [0.5832     0.6512    ]]\n",
      "rec time now 3 dataset now: Syn5\n"
     ]
    },
    {
     "name": "stderr",
     "output_type": "stream",
     "text": [
      "TPR mean: 56.4%  std: 23.3%\n",
      "FDR mean: 37.9%  std: 37.5%\n",
      "Epoch:      0, d_loss (Acc)): 0.552, v_loss (Acc): 0.003, g_loss: -0.2701\n"
     ]
    },
    {
     "name": "stdout",
     "output_type": "stream",
     "text": [
      "[[0.6186199  0.74444636]\n",
      " [0.61145034 0.7662031 ]\n",
      " [0.5832     0.6512    ]]\n",
      "now at training epoch number 5700 hyp-params: lamda 1.0000 prior 0.0000\n",
      "rec time now 0 dataset now: Syn5\n"
     ]
    },
    {
     "name": "stderr",
     "output_type": "stream",
     "text": [
      "TPR mean: 56.4%  std: 23.3%\n",
      "FDR mean: 37.9%  std: 37.5%\n"
     ]
    },
    {
     "name": "stdout",
     "output_type": "stream",
     "text": [
      "[[0.61653354 0.74674557]\n",
      " [0.60830893 0.76895429]\n",
      " [0.5826     0.6525    ]]\n",
      "rec time now 1 dataset now: Syn5\n"
     ]
    },
    {
     "name": "stderr",
     "output_type": "stream",
     "text": [
      "TPR mean: 56.4%  std: 23.3%\n",
      "FDR mean: 37.9%  std: 37.5%\n"
     ]
    },
    {
     "name": "stdout",
     "output_type": "stream",
     "text": [
      "[[0.61653354 0.74674557]\n",
      " [0.60830893 0.76895429]\n",
      " [0.5826     0.6525    ]]\n",
      "rec time now 2 dataset now: Syn5\n"
     ]
    },
    {
     "name": "stderr",
     "output_type": "stream",
     "text": [
      "TPR mean: 56.4%  std: 23.3%\n",
      "FDR mean: 37.9%  std: 37.5%\n"
     ]
    },
    {
     "name": "stdout",
     "output_type": "stream",
     "text": [
      "[[0.61653354 0.74674557]\n",
      " [0.60830893 0.76895429]\n",
      " [0.5826     0.6525    ]]\n",
      "rec time now 3 dataset now: Syn5\n"
     ]
    },
    {
     "name": "stderr",
     "output_type": "stream",
     "text": [
      "TPR mean: 56.4%  std: 23.3%\n",
      "FDR mean: 37.9%  std: 37.5%\n",
      "Epoch:      0, d_loss (Acc)): 0.551, v_loss (Acc): 0.004, g_loss: -0.2801\n"
     ]
    },
    {
     "name": "stdout",
     "output_type": "stream",
     "text": [
      "[[0.61653354 0.74674557]\n",
      " [0.60830893 0.76895429]\n",
      " [0.5826     0.6525    ]]\n",
      "now at training epoch number 5800 hyp-params: lamda 1.0000 prior 0.0000\n",
      "rec time now 0 dataset now: Syn5\n"
     ]
    },
    {
     "name": "stderr",
     "output_type": "stream",
     "text": [
      "TPR mean: 56.4%  std: 23.3%\n",
      "FDR mean: 37.9%  std: 37.5%\n"
     ]
    },
    {
     "name": "stdout",
     "output_type": "stream",
     "text": [
      "[[0.61749109 0.74732002]\n",
      " [0.60936248 0.76943361]\n",
      " [0.5845     0.6531    ]]\n",
      "rec time now 1 dataset now: Syn5\n"
     ]
    },
    {
     "name": "stderr",
     "output_type": "stream",
     "text": [
      "TPR mean: 56.4%  std: 23.3%\n",
      "FDR mean: 37.9%  std: 37.5%\n"
     ]
    },
    {
     "name": "stdout",
     "output_type": "stream",
     "text": [
      "[[0.61749109 0.74732002]\n",
      " [0.60936248 0.76943361]\n",
      " [0.5845     0.6531    ]]\n",
      "rec time now 2 dataset now: Syn5\n"
     ]
    },
    {
     "name": "stderr",
     "output_type": "stream",
     "text": [
      "TPR mean: 56.4%  std: 23.3%\n",
      "FDR mean: 37.9%  std: 37.5%\n"
     ]
    },
    {
     "name": "stdout",
     "output_type": "stream",
     "text": [
      "[[0.61749109 0.74732002]\n",
      " [0.60936248 0.76943361]\n",
      " [0.5845     0.6531    ]]\n",
      "rec time now 3 dataset now: Syn5\n"
     ]
    },
    {
     "name": "stderr",
     "output_type": "stream",
     "text": [
      "TPR mean: 56.4%  std: 23.3%\n",
      "FDR mean: 37.9%  std: 37.5%\n",
      "Epoch:      0, d_loss (Acc)): 0.532, v_loss (Acc): 0.002, g_loss: -0.2322\n"
     ]
    },
    {
     "name": "stdout",
     "output_type": "stream",
     "text": [
      "[[0.61749109 0.74732002]\n",
      " [0.60936248 0.76943361]\n",
      " [0.5845     0.6531    ]]\n",
      "now at training epoch number 5900 hyp-params: lamda 1.0000 prior 0.0000\n",
      "rec time now 0 dataset now: Syn5\n"
     ]
    },
    {
     "name": "stderr",
     "output_type": "stream",
     "text": [
      "TPR mean: 56.4%  std: 23.3%\n",
      "FDR mean: 37.9%  std: 37.5%\n"
     ]
    },
    {
     "name": "stdout",
     "output_type": "stream",
     "text": [
      "[[0.61868123 0.74737198]\n",
      " [0.6090655  0.76964829]\n",
      " [0.5842     0.6529    ]]\n",
      "rec time now 1 dataset now: Syn5\n"
     ]
    },
    {
     "name": "stderr",
     "output_type": "stream",
     "text": [
      "TPR mean: 56.4%  std: 23.3%\n",
      "FDR mean: 37.9%  std: 37.5%\n"
     ]
    },
    {
     "name": "stdout",
     "output_type": "stream",
     "text": [
      "[[0.61868123 0.74737198]\n",
      " [0.6090655  0.76964829]\n",
      " [0.5842     0.6529    ]]\n",
      "rec time now 2 dataset now: Syn5\n"
     ]
    },
    {
     "name": "stderr",
     "output_type": "stream",
     "text": [
      "TPR mean: 56.4%  std: 23.3%\n",
      "FDR mean: 37.9%  std: 37.5%\n"
     ]
    },
    {
     "name": "stdout",
     "output_type": "stream",
     "text": [
      "[[0.61868123 0.74737198]\n",
      " [0.6090655  0.76964829]\n",
      " [0.5842     0.6529    ]]\n",
      "rec time now 3 dataset now: Syn5\n"
     ]
    },
    {
     "name": "stderr",
     "output_type": "stream",
     "text": [
      "TPR mean: 56.4%  std: 23.3%\n",
      "FDR mean: 37.9%  std: 37.5%\n",
      "Epoch:      0, d_loss (Acc)): 0.532, v_loss (Acc): 0.002, g_loss: -0.2944\n"
     ]
    },
    {
     "name": "stdout",
     "output_type": "stream",
     "text": [
      "[[0.61868123 0.74737198]\n",
      " [0.6090655  0.76964829]\n",
      " [0.5842     0.6529    ]]\n",
      "now at training epoch number 6000 hyp-params: lamda 1.0000 prior 0.0000\n",
      "rec time now 0 dataset now: Syn5\n"
     ]
    },
    {
     "name": "stderr",
     "output_type": "stream",
     "text": [
      "TPR mean: 56.4%  std: 23.3%\n",
      "FDR mean: 37.9%  std: 37.5%\n"
     ]
    },
    {
     "name": "stdout",
     "output_type": "stream",
     "text": [
      "[[0.61739909 0.74709951]\n",
      " [0.608569   0.7687646 ]\n",
      " [0.5828     0.6549    ]]\n",
      "rec time now 1 dataset now: Syn5\n"
     ]
    },
    {
     "name": "stderr",
     "output_type": "stream",
     "text": [
      "TPR mean: 56.4%  std: 23.3%\n",
      "FDR mean: 37.9%  std: 37.5%\n"
     ]
    },
    {
     "name": "stdout",
     "output_type": "stream",
     "text": [
      "[[0.61739909 0.74709951]\n",
      " [0.608569   0.7687646 ]\n",
      " [0.5828     0.6549    ]]\n",
      "rec time now 2 dataset now: Syn5\n"
     ]
    },
    {
     "name": "stderr",
     "output_type": "stream",
     "text": [
      "TPR mean: 56.4%  std: 23.3%\n",
      "FDR mean: 37.9%  std: 37.5%\n"
     ]
    },
    {
     "name": "stdout",
     "output_type": "stream",
     "text": [
      "[[0.61739909 0.74709951]\n",
      " [0.608569   0.7687646 ]\n",
      " [0.5828     0.6549    ]]\n",
      "rec time now 3 dataset now: Syn5\n"
     ]
    },
    {
     "name": "stderr",
     "output_type": "stream",
     "text": [
      "TPR mean: 56.4%  std: 23.3%\n",
      "FDR mean: 37.9%  std: 37.5%\n",
      "Epoch:      0, d_loss (Acc)): 0.538, v_loss (Acc): 0.003, g_loss: -0.2001\n"
     ]
    },
    {
     "name": "stdout",
     "output_type": "stream",
     "text": [
      "[[0.61739909 0.74709951]\n",
      " [0.608569   0.7687646 ]\n",
      " [0.5828     0.6549    ]]\n",
      "now at training epoch number 6100 hyp-params: lamda 1.0000 prior 0.0000\n",
      "rec time now 0 dataset now: Syn5\n"
     ]
    },
    {
     "name": "stderr",
     "output_type": "stream",
     "text": [
      "TPR mean: 56.4%  std: 23.3%\n",
      "FDR mean: 37.9%  std: 37.5%\n"
     ]
    },
    {
     "name": "stdout",
     "output_type": "stream",
     "text": [
      "[[0.61859525 0.74769942]\n",
      " [0.60863864 0.76970873]\n",
      " [0.5838     0.6542    ]]\n",
      "rec time now 1 dataset now: Syn5\n"
     ]
    },
    {
     "name": "stderr",
     "output_type": "stream",
     "text": [
      "TPR mean: 56.4%  std: 23.3%\n",
      "FDR mean: 37.9%  std: 37.5%\n"
     ]
    },
    {
     "name": "stdout",
     "output_type": "stream",
     "text": [
      "[[0.61859525 0.74769942]\n",
      " [0.60863864 0.76970873]\n",
      " [0.5838     0.6542    ]]\n",
      "rec time now 2 dataset now: Syn5\n"
     ]
    },
    {
     "name": "stderr",
     "output_type": "stream",
     "text": [
      "TPR mean: 56.4%  std: 23.3%\n",
      "FDR mean: 37.9%  std: 37.5%\n"
     ]
    },
    {
     "name": "stdout",
     "output_type": "stream",
     "text": [
      "[[0.61859525 0.74769942]\n",
      " [0.60863864 0.76970873]\n",
      " [0.5838     0.6542    ]]\n",
      "rec time now 3 dataset now: Syn5\n"
     ]
    },
    {
     "name": "stderr",
     "output_type": "stream",
     "text": [
      "TPR mean: 56.4%  std: 23.3%\n",
      "FDR mean: 37.9%  std: 37.5%\n",
      "Epoch:      0, d_loss (Acc)): 0.543, v_loss (Acc): 0.002, g_loss: -0.1975\n"
     ]
    },
    {
     "name": "stdout",
     "output_type": "stream",
     "text": [
      "[[0.61859525 0.74769942]\n",
      " [0.60863864 0.76970873]\n",
      " [0.5838     0.6542    ]]\n",
      "now at training epoch number 6200 hyp-params: lamda 1.0000 prior 0.0000\n",
      "rec time now 0 dataset now: Syn5\n"
     ]
    },
    {
     "name": "stderr",
     "output_type": "stream",
     "text": [
      "TPR mean: 56.4%  std: 23.3%\n",
      "FDR mean: 37.9%  std: 37.5%\n"
     ]
    },
    {
     "name": "stdout",
     "output_type": "stream",
     "text": [
      "[[0.6204143  0.74656149]\n",
      " [0.61140879 0.76848545]\n",
      " [0.585      0.6502    ]]\n",
      "rec time now 1 dataset now: Syn5\n"
     ]
    },
    {
     "name": "stderr",
     "output_type": "stream",
     "text": [
      "TPR mean: 56.4%  std: 23.3%\n",
      "FDR mean: 37.9%  std: 37.5%\n"
     ]
    },
    {
     "name": "stdout",
     "output_type": "stream",
     "text": [
      "[[0.6204143  0.74656149]\n",
      " [0.61140879 0.76848545]\n",
      " [0.585      0.6502    ]]\n",
      "rec time now 2 dataset now: Syn5\n"
     ]
    },
    {
     "name": "stderr",
     "output_type": "stream",
     "text": [
      "TPR mean: 56.4%  std: 23.3%\n",
      "FDR mean: 37.9%  std: 37.5%\n"
     ]
    },
    {
     "name": "stdout",
     "output_type": "stream",
     "text": [
      "[[0.6204143  0.74656149]\n",
      " [0.61140879 0.76848545]\n",
      " [0.585      0.6502    ]]\n",
      "rec time now 3 dataset now: Syn5\n"
     ]
    },
    {
     "name": "stderr",
     "output_type": "stream",
     "text": [
      "TPR mean: 56.4%  std: 23.3%\n",
      "FDR mean: 37.9%  std: 37.5%\n",
      "Epoch:      0, d_loss (Acc)): 0.546, v_loss (Acc): 0.002, g_loss: -0.2030\n"
     ]
    },
    {
     "name": "stdout",
     "output_type": "stream",
     "text": [
      "[[0.6204143  0.74656149]\n",
      " [0.61140879 0.76848545]\n",
      " [0.585      0.6502    ]]\n",
      "now at training epoch number 6300 hyp-params: lamda 1.0000 prior 0.0000\n",
      "rec time now 0 dataset now: Syn5\n"
     ]
    },
    {
     "name": "stderr",
     "output_type": "stream",
     "text": [
      "TPR mean: 56.4%  std: 23.3%\n",
      "FDR mean: 37.9%  std: 37.5%\n"
     ]
    },
    {
     "name": "stdout",
     "output_type": "stream",
     "text": [
      "[[0.62024698 0.74596251]\n",
      " [0.61163952 0.76826407]\n",
      " [0.5866     0.6535    ]]\n",
      "rec time now 1 dataset now: Syn5\n"
     ]
    },
    {
     "name": "stderr",
     "output_type": "stream",
     "text": [
      "TPR mean: 56.4%  std: 23.3%\n",
      "FDR mean: 37.9%  std: 37.5%\n"
     ]
    },
    {
     "name": "stdout",
     "output_type": "stream",
     "text": [
      "[[0.62024698 0.74596251]\n",
      " [0.61163952 0.76826407]\n",
      " [0.5866     0.6535    ]]\n",
      "rec time now 2 dataset now: Syn5\n"
     ]
    },
    {
     "name": "stderr",
     "output_type": "stream",
     "text": [
      "TPR mean: 56.4%  std: 23.3%\n",
      "FDR mean: 37.9%  std: 37.5%\n"
     ]
    },
    {
     "name": "stdout",
     "output_type": "stream",
     "text": [
      "[[0.62024698 0.74596251]\n",
      " [0.61163952 0.76826407]\n",
      " [0.5866     0.6535    ]]\n",
      "rec time now 3 dataset now: Syn5\n"
     ]
    },
    {
     "name": "stderr",
     "output_type": "stream",
     "text": [
      "TPR mean: 56.4%  std: 23.3%\n",
      "FDR mean: 37.9%  std: 37.5%\n",
      "Epoch:      0, d_loss (Acc)): 0.565, v_loss (Acc): 0.002, g_loss: -0.2363\n"
     ]
    },
    {
     "name": "stdout",
     "output_type": "stream",
     "text": [
      "[[0.62024698 0.74596251]\n",
      " [0.61163952 0.76826407]\n",
      " [0.5866     0.6535    ]]\n",
      "now at training epoch number 6400 hyp-params: lamda 1.0000 prior 0.0000\n",
      "rec time now 0 dataset now: Syn5\n"
     ]
    },
    {
     "name": "stderr",
     "output_type": "stream",
     "text": [
      "TPR mean: 56.4%  std: 23.3%\n",
      "FDR mean: 37.9%  std: 37.5%\n"
     ]
    },
    {
     "name": "stdout",
     "output_type": "stream",
     "text": [
      "[[0.61771777 0.74503161]\n",
      " [0.60838162 0.76655644]\n",
      " [0.5852     0.6526    ]]\n",
      "rec time now 1 dataset now: Syn5\n"
     ]
    },
    {
     "name": "stderr",
     "output_type": "stream",
     "text": [
      "TPR mean: 56.4%  std: 23.3%\n",
      "FDR mean: 37.9%  std: 37.5%\n"
     ]
    },
    {
     "name": "stdout",
     "output_type": "stream",
     "text": [
      "[[0.61771777 0.74503161]\n",
      " [0.60838162 0.76655644]\n",
      " [0.5852     0.6526    ]]\n",
      "rec time now 2 dataset now: Syn5\n"
     ]
    },
    {
     "name": "stderr",
     "output_type": "stream",
     "text": [
      "TPR mean: 56.4%  std: 23.3%\n",
      "FDR mean: 37.9%  std: 37.5%\n"
     ]
    },
    {
     "name": "stdout",
     "output_type": "stream",
     "text": [
      "[[0.61771777 0.74503161]\n",
      " [0.60838162 0.76655644]\n",
      " [0.5852     0.6526    ]]\n",
      "rec time now 3 dataset now: Syn5\n"
     ]
    },
    {
     "name": "stderr",
     "output_type": "stream",
     "text": [
      "TPR mean: 56.4%  std: 23.3%\n",
      "FDR mean: 37.9%  std: 37.5%\n",
      "Epoch:      0, d_loss (Acc)): 0.544, v_loss (Acc): 0.002, g_loss: -0.1142\n"
     ]
    },
    {
     "name": "stdout",
     "output_type": "stream",
     "text": [
      "[[0.61771777 0.74503161]\n",
      " [0.60838162 0.76655644]\n",
      " [0.5852     0.6526    ]]\n",
      "now at training epoch number 6500 hyp-params: lamda 1.0000 prior 0.0000\n",
      "rec time now 0 dataset now: Syn5\n"
     ]
    },
    {
     "name": "stderr",
     "output_type": "stream",
     "text": [
      "TPR mean: 56.4%  std: 23.3%\n",
      "FDR mean: 37.9%  std: 37.5%\n"
     ]
    },
    {
     "name": "stdout",
     "output_type": "stream",
     "text": [
      "[[0.61666189 0.74583316]\n",
      " [0.60702398 0.76708684]\n",
      " [0.5812     0.6522    ]]\n",
      "rec time now 1 dataset now: Syn5\n"
     ]
    },
    {
     "name": "stderr",
     "output_type": "stream",
     "text": [
      "TPR mean: 56.4%  std: 23.3%\n",
      "FDR mean: 37.9%  std: 37.5%\n"
     ]
    },
    {
     "name": "stdout",
     "output_type": "stream",
     "text": [
      "[[0.61666189 0.74583316]\n",
      " [0.60702398 0.76708684]\n",
      " [0.5812     0.6522    ]]\n",
      "rec time now 2 dataset now: Syn5\n"
     ]
    },
    {
     "name": "stderr",
     "output_type": "stream",
     "text": [
      "TPR mean: 56.4%  std: 23.3%\n",
      "FDR mean: 37.9%  std: 37.5%\n"
     ]
    },
    {
     "name": "stdout",
     "output_type": "stream",
     "text": [
      "[[0.61666189 0.74583316]\n",
      " [0.60702398 0.76708684]\n",
      " [0.5812     0.6522    ]]\n",
      "rec time now 3 dataset now: Syn5\n"
     ]
    },
    {
     "name": "stderr",
     "output_type": "stream",
     "text": [
      "TPR mean: 56.4%  std: 23.3%\n",
      "FDR mean: 37.9%  std: 37.5%\n",
      "Epoch:      0, d_loss (Acc)): 0.555, v_loss (Acc): 0.001, g_loss: -0.1306\n"
     ]
    },
    {
     "name": "stdout",
     "output_type": "stream",
     "text": [
      "[[0.61666189 0.74583316]\n",
      " [0.60702398 0.76708684]\n",
      " [0.5812     0.6522    ]]\n",
      "now at training epoch number 6600 hyp-params: lamda 1.0000 prior 0.0000\n",
      "rec time now 0 dataset now: Syn5\n"
     ]
    },
    {
     "name": "stderr",
     "output_type": "stream",
     "text": [
      "TPR mean: 56.4%  std: 23.3%\n",
      "FDR mean: 37.9%  std: 37.5%\n"
     ]
    },
    {
     "name": "stdout",
     "output_type": "stream",
     "text": [
      "[[0.61762539 0.74536189]\n",
      " [0.60905867 0.76694319]\n",
      " [0.5866     0.6504    ]]\n",
      "rec time now 1 dataset now: Syn5\n"
     ]
    },
    {
     "name": "stderr",
     "output_type": "stream",
     "text": [
      "TPR mean: 56.4%  std: 23.3%\n",
      "FDR mean: 37.9%  std: 37.5%\n"
     ]
    },
    {
     "name": "stdout",
     "output_type": "stream",
     "text": [
      "[[0.61762539 0.74536189]\n",
      " [0.60905867 0.76694319]\n",
      " [0.5866     0.6504    ]]\n",
      "rec time now 2 dataset now: Syn5\n"
     ]
    },
    {
     "name": "stderr",
     "output_type": "stream",
     "text": [
      "TPR mean: 56.4%  std: 23.3%\n",
      "FDR mean: 37.9%  std: 37.5%\n"
     ]
    },
    {
     "name": "stdout",
     "output_type": "stream",
     "text": [
      "[[0.61762539 0.74536189]\n",
      " [0.60905867 0.76694319]\n",
      " [0.5866     0.6504    ]]\n",
      "rec time now 3 dataset now: Syn5\n"
     ]
    },
    {
     "name": "stderr",
     "output_type": "stream",
     "text": [
      "TPR mean: 56.4%  std: 23.3%\n",
      "FDR mean: 37.9%  std: 37.5%\n",
      "Epoch:      0, d_loss (Acc)): 0.565, v_loss (Acc): 0.002, g_loss: -0.1377\n"
     ]
    },
    {
     "name": "stdout",
     "output_type": "stream",
     "text": [
      "[[0.61762539 0.74536189]\n",
      " [0.60905867 0.76694319]\n",
      " [0.5866     0.6504    ]]\n",
      "now at training epoch number 6700 hyp-params: lamda 1.0000 prior 0.0000\n",
      "rec time now 0 dataset now: Syn5\n"
     ]
    },
    {
     "name": "stderr",
     "output_type": "stream",
     "text": [
      "TPR mean: 56.4%  std: 23.3%\n",
      "FDR mean: 37.9%  std: 37.5%\n"
     ]
    },
    {
     "name": "stdout",
     "output_type": "stream",
     "text": [
      "[[0.61565738 0.74647161]\n",
      " [0.60540584 0.76805763]\n",
      " [0.5839     0.6527    ]]\n",
      "rec time now 1 dataset now: Syn5\n"
     ]
    },
    {
     "name": "stderr",
     "output_type": "stream",
     "text": [
      "TPR mean: 56.4%  std: 23.3%\n",
      "FDR mean: 37.9%  std: 37.5%\n"
     ]
    },
    {
     "name": "stdout",
     "output_type": "stream",
     "text": [
      "[[0.61565738 0.74647161]\n",
      " [0.60540584 0.76805763]\n",
      " [0.5839     0.6527    ]]\n",
      "rec time now 2 dataset now: Syn5\n"
     ]
    },
    {
     "name": "stderr",
     "output_type": "stream",
     "text": [
      "TPR mean: 56.4%  std: 23.3%\n",
      "FDR mean: 37.9%  std: 37.5%\n"
     ]
    },
    {
     "name": "stdout",
     "output_type": "stream",
     "text": [
      "[[0.61565738 0.74647161]\n",
      " [0.60540584 0.76805763]\n",
      " [0.5839     0.6527    ]]\n",
      "rec time now 3 dataset now: Syn5\n"
     ]
    },
    {
     "name": "stderr",
     "output_type": "stream",
     "text": [
      "TPR mean: 56.4%  std: 23.3%\n",
      "FDR mean: 37.9%  std: 37.5%\n",
      "Epoch:      0, d_loss (Acc)): 0.542, v_loss (Acc): 0.002, g_loss: -0.2119\n"
     ]
    },
    {
     "name": "stdout",
     "output_type": "stream",
     "text": [
      "[[0.61565738 0.74647161]\n",
      " [0.60540584 0.76805763]\n",
      " [0.5839     0.6527    ]]\n",
      "now at training epoch number 6800 hyp-params: lamda 1.0000 prior 0.0000\n",
      "rec time now 0 dataset now: Syn5\n"
     ]
    },
    {
     "name": "stderr",
     "output_type": "stream",
     "text": [
      "TPR mean: 56.4%  std: 23.3%\n",
      "FDR mean: 37.9%  std: 37.5%\n"
     ]
    },
    {
     "name": "stdout",
     "output_type": "stream",
     "text": [
      "[[0.61584788 0.74219844]\n",
      " [0.60690363 0.76560218]\n",
      " [0.5832     0.6523    ]]\n",
      "rec time now 1 dataset now: Syn5\n"
     ]
    },
    {
     "name": "stderr",
     "output_type": "stream",
     "text": [
      "TPR mean: 56.4%  std: 23.3%\n",
      "FDR mean: 37.9%  std: 37.5%\n"
     ]
    },
    {
     "name": "stdout",
     "output_type": "stream",
     "text": [
      "[[0.61584788 0.74219844]\n",
      " [0.60690363 0.76560218]\n",
      " [0.5832     0.6523    ]]\n",
      "rec time now 2 dataset now: Syn5\n"
     ]
    },
    {
     "name": "stderr",
     "output_type": "stream",
     "text": [
      "TPR mean: 56.4%  std: 23.3%\n",
      "FDR mean: 37.9%  std: 37.5%\n"
     ]
    },
    {
     "name": "stdout",
     "output_type": "stream",
     "text": [
      "[[0.61584788 0.74219844]\n",
      " [0.60690363 0.76560218]\n",
      " [0.5832     0.6523    ]]\n",
      "rec time now 3 dataset now: Syn5\n"
     ]
    },
    {
     "name": "stderr",
     "output_type": "stream",
     "text": [
      "TPR mean: 56.4%  std: 23.3%\n",
      "FDR mean: 37.9%  std: 37.5%\n",
      "Epoch:      0, d_loss (Acc)): 0.559, v_loss (Acc): 0.002, g_loss: -0.1672\n"
     ]
    },
    {
     "name": "stdout",
     "output_type": "stream",
     "text": [
      "[[0.61584788 0.74219844]\n",
      " [0.60690363 0.76560218]\n",
      " [0.5832     0.6523    ]]\n",
      "now at training epoch number 6900 hyp-params: lamda 1.0000 prior 0.0000\n",
      "rec time now 0 dataset now: Syn5\n"
     ]
    },
    {
     "name": "stderr",
     "output_type": "stream",
     "text": [
      "TPR mean: 56.4%  std: 23.3%\n",
      "FDR mean: 37.9%  std: 37.5%\n"
     ]
    },
    {
     "name": "stdout",
     "output_type": "stream",
     "text": [
      "[[0.61661495 0.74577025]\n",
      " [0.60644191 0.76834779]\n",
      " [0.5834     0.6519    ]]\n",
      "rec time now 1 dataset now: Syn5\n"
     ]
    },
    {
     "name": "stderr",
     "output_type": "stream",
     "text": [
      "TPR mean: 56.4%  std: 23.3%\n",
      "FDR mean: 37.9%  std: 37.5%\n"
     ]
    },
    {
     "name": "stdout",
     "output_type": "stream",
     "text": [
      "[[0.61661495 0.74577025]\n",
      " [0.60644191 0.76834779]\n",
      " [0.5834     0.6519    ]]\n",
      "rec time now 2 dataset now: Syn5\n"
     ]
    },
    {
     "name": "stderr",
     "output_type": "stream",
     "text": [
      "TPR mean: 56.4%  std: 23.3%\n",
      "FDR mean: 37.9%  std: 37.5%\n"
     ]
    },
    {
     "name": "stdout",
     "output_type": "stream",
     "text": [
      "[[0.61661495 0.74577025]\n",
      " [0.60644191 0.76834779]\n",
      " [0.5834     0.6519    ]]\n",
      "rec time now 3 dataset now: Syn5\n"
     ]
    },
    {
     "name": "stderr",
     "output_type": "stream",
     "text": [
      "TPR mean: 56.4%  std: 23.3%\n",
      "FDR mean: 37.9%  std: 37.5%\n",
      "Epoch:      0, d_loss (Acc)): 0.574, v_loss (Acc): 0.002, g_loss: -0.2294\n"
     ]
    },
    {
     "name": "stdout",
     "output_type": "stream",
     "text": [
      "[[0.61661495 0.74577025]\n",
      " [0.60644191 0.76834779]\n",
      " [0.5834     0.6519    ]]\n",
      "now at training epoch number 7000 hyp-params: lamda 1.0000 prior 0.0000\n",
      "rec time now 0 dataset now: Syn5\n"
     ]
    },
    {
     "name": "stderr",
     "output_type": "stream",
     "text": [
      "TPR mean: 56.4%  std: 23.3%\n",
      "FDR mean: 37.9%  std: 37.5%\n"
     ]
    },
    {
     "name": "stdout",
     "output_type": "stream",
     "text": [
      "[[0.61554281 0.74623525]\n",
      " [0.60575424 0.76889755]\n",
      " [0.5817     0.653     ]]\n",
      "rec time now 1 dataset now: Syn5\n"
     ]
    },
    {
     "name": "stderr",
     "output_type": "stream",
     "text": [
      "TPR mean: 56.4%  std: 23.3%\n",
      "FDR mean: 37.9%  std: 37.5%\n"
     ]
    },
    {
     "name": "stdout",
     "output_type": "stream",
     "text": [
      "[[0.61554281 0.74623525]\n",
      " [0.60575424 0.76889755]\n",
      " [0.5817     0.653     ]]\n",
      "rec time now 2 dataset now: Syn5\n"
     ]
    },
    {
     "name": "stderr",
     "output_type": "stream",
     "text": [
      "TPR mean: 56.4%  std: 23.3%\n",
      "FDR mean: 37.9%  std: 37.5%\n"
     ]
    },
    {
     "name": "stdout",
     "output_type": "stream",
     "text": [
      "[[0.61554281 0.74623525]\n",
      " [0.60575424 0.76889755]\n",
      " [0.5817     0.653     ]]\n",
      "rec time now 3 dataset now: Syn5\n"
     ]
    },
    {
     "name": "stderr",
     "output_type": "stream",
     "text": [
      "TPR mean: 56.4%  std: 23.3%\n",
      "FDR mean: 37.9%  std: 37.5%\n",
      "Epoch:      0, d_loss (Acc)): 0.559, v_loss (Acc): 0.002, g_loss: -0.1574\n"
     ]
    },
    {
     "name": "stdout",
     "output_type": "stream",
     "text": [
      "[[0.61554281 0.74623525]\n",
      " [0.60575424 0.76889755]\n",
      " [0.5817     0.653     ]]\n",
      "now at training epoch number 7100 hyp-params: lamda 1.0000 prior 0.0000\n",
      "rec time now 0 dataset now: Syn5\n"
     ]
    },
    {
     "name": "stderr",
     "output_type": "stream",
     "text": [
      "TPR mean: 56.4%  std: 23.3%\n",
      "FDR mean: 37.9%  std: 37.5%\n"
     ]
    },
    {
     "name": "stdout",
     "output_type": "stream",
     "text": [
      "[[0.61969456 0.74607666]\n",
      " [0.60876668 0.7673184 ]\n",
      " [0.5869     0.6532    ]]\n",
      "rec time now 1 dataset now: Syn5\n"
     ]
    },
    {
     "name": "stderr",
     "output_type": "stream",
     "text": [
      "TPR mean: 56.4%  std: 23.3%\n",
      "FDR mean: 37.9%  std: 37.5%\n"
     ]
    },
    {
     "name": "stdout",
     "output_type": "stream",
     "text": [
      "[[0.61969456 0.74607666]\n",
      " [0.60876668 0.7673184 ]\n",
      " [0.5869     0.6532    ]]\n",
      "rec time now 2 dataset now: Syn5\n"
     ]
    },
    {
     "name": "stderr",
     "output_type": "stream",
     "text": [
      "TPR mean: 56.4%  std: 23.3%\n",
      "FDR mean: 37.9%  std: 37.5%\n"
     ]
    },
    {
     "name": "stdout",
     "output_type": "stream",
     "text": [
      "[[0.61969456 0.74607666]\n",
      " [0.60876668 0.7673184 ]\n",
      " [0.5869     0.6532    ]]\n",
      "rec time now 3 dataset now: Syn5\n"
     ]
    },
    {
     "name": "stderr",
     "output_type": "stream",
     "text": [
      "TPR mean: 56.4%  std: 23.3%\n",
      "FDR mean: 37.9%  std: 37.5%\n",
      "Epoch:      0, d_loss (Acc)): 0.553, v_loss (Acc): 0.001, g_loss: -0.1146\n"
     ]
    },
    {
     "name": "stdout",
     "output_type": "stream",
     "text": [
      "[[0.61969456 0.74607666]\n",
      " [0.60876668 0.7673184 ]\n",
      " [0.5869     0.6532    ]]\n",
      "now at training epoch number 7200 hyp-params: lamda 1.0000 prior 0.0000\n",
      "rec time now 0 dataset now: Syn5\n"
     ]
    },
    {
     "name": "stderr",
     "output_type": "stream",
     "text": [
      "TPR mean: 56.4%  std: 23.3%\n",
      "FDR mean: 37.9%  std: 37.5%\n"
     ]
    },
    {
     "name": "stdout",
     "output_type": "stream",
     "text": [
      "[[0.61856804 0.74797967]\n",
      " [0.60781198 0.76961269]\n",
      " [0.5846     0.656     ]]\n",
      "rec time now 1 dataset now: Syn5\n"
     ]
    },
    {
     "name": "stderr",
     "output_type": "stream",
     "text": [
      "TPR mean: 56.4%  std: 23.3%\n",
      "FDR mean: 37.9%  std: 37.5%\n"
     ]
    },
    {
     "name": "stdout",
     "output_type": "stream",
     "text": [
      "[[0.61856804 0.74797967]\n",
      " [0.60781198 0.76961269]\n",
      " [0.5846     0.656     ]]\n",
      "rec time now 2 dataset now: Syn5\n"
     ]
    },
    {
     "name": "stderr",
     "output_type": "stream",
     "text": [
      "TPR mean: 56.4%  std: 23.3%\n",
      "FDR mean: 37.9%  std: 37.5%\n"
     ]
    },
    {
     "name": "stdout",
     "output_type": "stream",
     "text": [
      "[[0.61856804 0.74797967]\n",
      " [0.60781198 0.76961269]\n",
      " [0.5846     0.656     ]]\n",
      "rec time now 3 dataset now: Syn5\n"
     ]
    },
    {
     "name": "stderr",
     "output_type": "stream",
     "text": [
      "TPR mean: 56.4%  std: 23.3%\n",
      "FDR mean: 37.9%  std: 37.5%\n",
      "Epoch:      0, d_loss (Acc)): 0.566, v_loss (Acc): 0.001, g_loss: -0.1627\n"
     ]
    },
    {
     "name": "stdout",
     "output_type": "stream",
     "text": [
      "[[0.61856804 0.74797967]\n",
      " [0.60781198 0.76961269]\n",
      " [0.5846     0.656     ]]\n",
      "now at training epoch number 7300 hyp-params: lamda 1.0000 prior 0.0000\n",
      "rec time now 0 dataset now: Syn5\n"
     ]
    },
    {
     "name": "stderr",
     "output_type": "stream",
     "text": [
      "TPR mean: 56.4%  std: 23.3%\n",
      "FDR mean: 37.9%  std: 37.5%\n"
     ]
    },
    {
     "name": "stdout",
     "output_type": "stream",
     "text": [
      "[[0.62083946 0.74751462]\n",
      " [0.60976843 0.7687583 ]\n",
      " [0.5873     0.6563    ]]\n",
      "rec time now 1 dataset now: Syn5\n"
     ]
    },
    {
     "name": "stderr",
     "output_type": "stream",
     "text": [
      "TPR mean: 56.4%  std: 23.3%\n",
      "FDR mean: 37.9%  std: 37.5%\n"
     ]
    },
    {
     "name": "stdout",
     "output_type": "stream",
     "text": [
      "[[0.62083946 0.74751462]\n",
      " [0.60976843 0.7687583 ]\n",
      " [0.5873     0.6563    ]]\n",
      "rec time now 2 dataset now: Syn5\n"
     ]
    },
    {
     "name": "stderr",
     "output_type": "stream",
     "text": [
      "TPR mean: 56.4%  std: 23.3%\n",
      "FDR mean: 37.9%  std: 37.5%\n"
     ]
    },
    {
     "name": "stdout",
     "output_type": "stream",
     "text": [
      "[[0.62083946 0.74751462]\n",
      " [0.60976843 0.7687583 ]\n",
      " [0.5873     0.6563    ]]\n",
      "rec time now 3 dataset now: Syn5\n"
     ]
    },
    {
     "name": "stderr",
     "output_type": "stream",
     "text": [
      "TPR mean: 56.4%  std: 23.3%\n",
      "FDR mean: 37.9%  std: 37.5%\n",
      "Epoch:      0, d_loss (Acc)): 0.533, v_loss (Acc): 0.002, g_loss: -0.0692\n"
     ]
    },
    {
     "name": "stdout",
     "output_type": "stream",
     "text": [
      "[[0.62083946 0.74751462]\n",
      " [0.60976843 0.7687583 ]\n",
      " [0.5873     0.6563    ]]\n",
      "now at training epoch number 7400 hyp-params: lamda 1.0000 prior 0.0000\n",
      "rec time now 0 dataset now: Syn5\n"
     ]
    },
    {
     "name": "stderr",
     "output_type": "stream",
     "text": [
      "TPR mean: 56.4%  std: 23.3%\n",
      "FDR mean: 37.9%  std: 37.5%\n"
     ]
    },
    {
     "name": "stdout",
     "output_type": "stream",
     "text": [
      "[[0.61972724 0.74782526]\n",
      " [0.61024594 0.76903504]\n",
      " [0.5845     0.6547    ]]\n",
      "rec time now 1 dataset now: Syn5\n"
     ]
    },
    {
     "name": "stderr",
     "output_type": "stream",
     "text": [
      "TPR mean: 56.4%  std: 23.3%\n",
      "FDR mean: 37.9%  std: 37.5%\n"
     ]
    },
    {
     "name": "stdout",
     "output_type": "stream",
     "text": [
      "[[0.61972724 0.74782526]\n",
      " [0.61024594 0.76903504]\n",
      " [0.5845     0.6547    ]]\n",
      "rec time now 2 dataset now: Syn5\n"
     ]
    },
    {
     "name": "stderr",
     "output_type": "stream",
     "text": [
      "TPR mean: 56.4%  std: 23.3%\n",
      "FDR mean: 37.9%  std: 37.5%\n"
     ]
    },
    {
     "name": "stdout",
     "output_type": "stream",
     "text": [
      "[[0.61972724 0.74782526]\n",
      " [0.61024594 0.76903504]\n",
      " [0.5845     0.6547    ]]\n",
      "rec time now 3 dataset now: Syn5\n"
     ]
    },
    {
     "name": "stderr",
     "output_type": "stream",
     "text": [
      "TPR mean: 56.4%  std: 23.3%\n",
      "FDR mean: 37.9%  std: 37.5%\n",
      "Epoch:      0, d_loss (Acc)): 0.522, v_loss (Acc): 0.005, g_loss: -0.0547\n"
     ]
    },
    {
     "name": "stdout",
     "output_type": "stream",
     "text": [
      "[[0.61972724 0.74782526]\n",
      " [0.61024594 0.76903504]\n",
      " [0.5845     0.6547    ]]\n",
      "now at training epoch number 7500 hyp-params: lamda 1.0000 prior 0.0000\n",
      "rec time now 0 dataset now: Syn5\n"
     ]
    },
    {
     "name": "stderr",
     "output_type": "stream",
     "text": [
      "TPR mean: 56.4%  std: 23.3%\n",
      "FDR mean: 37.9%  std: 37.5%\n"
     ]
    },
    {
     "name": "stdout",
     "output_type": "stream",
     "text": [
      "[[0.62009376 0.74754202]\n",
      " [0.60919684 0.7687    ]\n",
      " [0.586      0.6547    ]]\n",
      "rec time now 1 dataset now: Syn5\n"
     ]
    },
    {
     "name": "stderr",
     "output_type": "stream",
     "text": [
      "TPR mean: 56.4%  std: 23.3%\n",
      "FDR mean: 37.9%  std: 37.5%\n"
     ]
    },
    {
     "name": "stdout",
     "output_type": "stream",
     "text": [
      "[[0.62009376 0.74754202]\n",
      " [0.60919684 0.7687    ]\n",
      " [0.586      0.6547    ]]\n",
      "rec time now 2 dataset now: Syn5\n"
     ]
    },
    {
     "name": "stderr",
     "output_type": "stream",
     "text": [
      "TPR mean: 56.4%  std: 23.3%\n",
      "FDR mean: 37.9%  std: 37.5%\n"
     ]
    },
    {
     "name": "stdout",
     "output_type": "stream",
     "text": [
      "[[0.62009376 0.74754202]\n",
      " [0.60919684 0.7687    ]\n",
      " [0.586      0.6547    ]]\n",
      "rec time now 3 dataset now: Syn5\n"
     ]
    },
    {
     "name": "stderr",
     "output_type": "stream",
     "text": [
      "TPR mean: 56.4%  std: 23.3%\n",
      "FDR mean: 37.9%  std: 37.5%\n",
      "Epoch:      0, d_loss (Acc)): 0.559, v_loss (Acc): 0.001, g_loss: -0.1264\n"
     ]
    },
    {
     "name": "stdout",
     "output_type": "stream",
     "text": [
      "[[0.62009376 0.74754202]\n",
      " [0.60919684 0.7687    ]\n",
      " [0.586      0.6547    ]]\n",
      "now at training epoch number 7600 hyp-params: lamda 1.0000 prior 0.0000\n",
      "rec time now 0 dataset now: Syn5\n"
     ]
    },
    {
     "name": "stderr",
     "output_type": "stream",
     "text": [
      "TPR mean: 56.4%  std: 23.3%\n",
      "FDR mean: 37.9%  std: 37.5%\n"
     ]
    },
    {
     "name": "stdout",
     "output_type": "stream",
     "text": [
      "[[0.61874894 0.74619802]\n",
      " [0.60838836 0.76849466]\n",
      " [0.5845     0.6536    ]]\n",
      "rec time now 1 dataset now: Syn5\n"
     ]
    },
    {
     "name": "stderr",
     "output_type": "stream",
     "text": [
      "TPR mean: 56.4%  std: 23.3%\n",
      "FDR mean: 37.9%  std: 37.5%\n"
     ]
    },
    {
     "name": "stdout",
     "output_type": "stream",
     "text": [
      "[[0.61874894 0.74619802]\n",
      " [0.60838836 0.76849466]\n",
      " [0.5845     0.6536    ]]\n",
      "rec time now 2 dataset now: Syn5\n"
     ]
    },
    {
     "name": "stderr",
     "output_type": "stream",
     "text": [
      "TPR mean: 56.4%  std: 23.3%\n",
      "FDR mean: 37.9%  std: 37.5%\n"
     ]
    },
    {
     "name": "stdout",
     "output_type": "stream",
     "text": [
      "[[0.61874894 0.74619802]\n",
      " [0.60838836 0.76849466]\n",
      " [0.5845     0.6536    ]]\n",
      "rec time now 3 dataset now: Syn5\n"
     ]
    },
    {
     "name": "stderr",
     "output_type": "stream",
     "text": [
      "TPR mean: 56.4%  std: 23.3%\n",
      "FDR mean: 37.9%  std: 37.5%\n",
      "Epoch:      0, d_loss (Acc)): 0.552, v_loss (Acc): 0.001, g_loss: -0.1287\n"
     ]
    },
    {
     "name": "stdout",
     "output_type": "stream",
     "text": [
      "[[0.61874894 0.74619802]\n",
      " [0.60838836 0.76849466]\n",
      " [0.5845     0.6536    ]]\n",
      "now at training epoch number 7700 hyp-params: lamda 1.0000 prior 0.0000\n",
      "rec time now 0 dataset now: Syn5\n"
     ]
    },
    {
     "name": "stderr",
     "output_type": "stream",
     "text": [
      "TPR mean: 56.4%  std: 23.3%\n",
      "FDR mean: 37.9%  std: 37.5%\n"
     ]
    },
    {
     "name": "stdout",
     "output_type": "stream",
     "text": [
      "[[0.6188414  0.74337902]\n",
      " [0.60815252 0.76708452]\n",
      " [0.5859     0.6524    ]]\n",
      "rec time now 1 dataset now: Syn5\n"
     ]
    },
    {
     "name": "stderr",
     "output_type": "stream",
     "text": [
      "TPR mean: 56.4%  std: 23.3%\n",
      "FDR mean: 37.9%  std: 37.5%\n"
     ]
    },
    {
     "name": "stdout",
     "output_type": "stream",
     "text": [
      "[[0.6188414  0.74337902]\n",
      " [0.60815252 0.76708452]\n",
      " [0.5859     0.6524    ]]\n",
      "rec time now 2 dataset now: Syn5\n"
     ]
    },
    {
     "name": "stderr",
     "output_type": "stream",
     "text": [
      "TPR mean: 56.4%  std: 23.3%\n",
      "FDR mean: 37.9%  std: 37.5%\n"
     ]
    },
    {
     "name": "stdout",
     "output_type": "stream",
     "text": [
      "[[0.6188414  0.74337902]\n",
      " [0.60815252 0.76708452]\n",
      " [0.5859     0.6524    ]]\n",
      "rec time now 3 dataset now: Syn5\n"
     ]
    },
    {
     "name": "stderr",
     "output_type": "stream",
     "text": [
      "TPR mean: 56.4%  std: 23.3%\n",
      "FDR mean: 37.9%  std: 37.5%\n",
      "Epoch:      0, d_loss (Acc)): 0.554, v_loss (Acc): 0.001, g_loss: -0.1596\n"
     ]
    },
    {
     "name": "stdout",
     "output_type": "stream",
     "text": [
      "[[0.6188414  0.74337902]\n",
      " [0.60815252 0.76708452]\n",
      " [0.5859     0.6524    ]]\n",
      "now at training epoch number 7800 hyp-params: lamda 1.0000 prior 0.0000\n",
      "rec time now 0 dataset now: Syn5\n"
     ]
    },
    {
     "name": "stderr",
     "output_type": "stream",
     "text": [
      "TPR mean: 56.4%  std: 23.3%\n",
      "FDR mean: 37.9%  std: 37.5%\n"
     ]
    },
    {
     "name": "stdout",
     "output_type": "stream",
     "text": [
      "[[0.61896677 0.74772508]\n",
      " [0.60855623 0.76931046]\n",
      " [0.5855     0.6535    ]]\n",
      "rec time now 1 dataset now: Syn5\n"
     ]
    },
    {
     "name": "stderr",
     "output_type": "stream",
     "text": [
      "TPR mean: 56.4%  std: 23.3%\n",
      "FDR mean: 37.9%  std: 37.5%\n"
     ]
    },
    {
     "name": "stdout",
     "output_type": "stream",
     "text": [
      "[[0.61896677 0.74772508]\n",
      " [0.60855623 0.76931046]\n",
      " [0.5855     0.6535    ]]\n",
      "rec time now 2 dataset now: Syn5\n"
     ]
    },
    {
     "name": "stderr",
     "output_type": "stream",
     "text": [
      "TPR mean: 56.4%  std: 23.3%\n",
      "FDR mean: 37.9%  std: 37.5%\n"
     ]
    },
    {
     "name": "stdout",
     "output_type": "stream",
     "text": [
      "[[0.61896677 0.74772508]\n",
      " [0.60855623 0.76931046]\n",
      " [0.5855     0.6535    ]]\n",
      "rec time now 3 dataset now: Syn5\n"
     ]
    },
    {
     "name": "stderr",
     "output_type": "stream",
     "text": [
      "TPR mean: 56.4%  std: 23.3%\n",
      "FDR mean: 37.9%  std: 37.5%\n",
      "Epoch:      0, d_loss (Acc)): 0.539, v_loss (Acc): 0.001, g_loss: -0.0978\n"
     ]
    },
    {
     "name": "stdout",
     "output_type": "stream",
     "text": [
      "[[0.61896677 0.74772508]\n",
      " [0.60855623 0.76931046]\n",
      " [0.5855     0.6535    ]]\n",
      "now at training epoch number 7900 hyp-params: lamda 1.0000 prior 0.0000\n",
      "rec time now 0 dataset now: Syn5\n"
     ]
    },
    {
     "name": "stderr",
     "output_type": "stream",
     "text": [
      "TPR mean: 56.4%  std: 23.3%\n",
      "FDR mean: 37.9%  std: 37.5%\n"
     ]
    },
    {
     "name": "stdout",
     "output_type": "stream",
     "text": [
      "[[0.61866106 0.74808475]\n",
      " [0.6074465  0.76939828]\n",
      " [0.5855     0.656     ]]\n",
      "rec time now 1 dataset now: Syn5\n"
     ]
    },
    {
     "name": "stderr",
     "output_type": "stream",
     "text": [
      "TPR mean: 56.4%  std: 23.3%\n",
      "FDR mean: 37.9%  std: 37.5%\n"
     ]
    },
    {
     "name": "stdout",
     "output_type": "stream",
     "text": [
      "[[0.61866106 0.74808475]\n",
      " [0.6074465  0.76939828]\n",
      " [0.5855     0.656     ]]\n",
      "rec time now 2 dataset now: Syn5\n"
     ]
    },
    {
     "name": "stderr",
     "output_type": "stream",
     "text": [
      "TPR mean: 56.4%  std: 23.3%\n",
      "FDR mean: 37.9%  std: 37.5%\n"
     ]
    },
    {
     "name": "stdout",
     "output_type": "stream",
     "text": [
      "[[0.61866106 0.74808475]\n",
      " [0.6074465  0.76939828]\n",
      " [0.5855     0.656     ]]\n",
      "rec time now 3 dataset now: Syn5\n"
     ]
    },
    {
     "name": "stderr",
     "output_type": "stream",
     "text": [
      "TPR mean: 56.4%  std: 23.3%\n",
      "FDR mean: 37.9%  std: 37.5%\n",
      "Epoch:      0, d_loss (Acc)): 0.556, v_loss (Acc): 0.001, g_loss: -0.0732\n"
     ]
    },
    {
     "name": "stdout",
     "output_type": "stream",
     "text": [
      "[[0.61866106 0.74808475]\n",
      " [0.6074465  0.76939828]\n",
      " [0.5855     0.656     ]]\n",
      "now at training epoch number 8000 hyp-params: lamda 1.0000 prior 0.0000\n",
      "rec time now 0 dataset now: Syn5\n"
     ]
    },
    {
     "name": "stderr",
     "output_type": "stream",
     "text": [
      "TPR mean: 56.4%  std: 23.3%\n",
      "FDR mean: 37.9%  std: 37.5%\n"
     ]
    },
    {
     "name": "stdout",
     "output_type": "stream",
     "text": [
      "[[0.61945476 0.74335168]\n",
      " [0.60813514 0.76446383]\n",
      " [0.5851     0.6511    ]]\n",
      "rec time now 1 dataset now: Syn5\n"
     ]
    },
    {
     "name": "stderr",
     "output_type": "stream",
     "text": [
      "TPR mean: 56.4%  std: 23.3%\n",
      "FDR mean: 37.9%  std: 37.5%\n"
     ]
    },
    {
     "name": "stdout",
     "output_type": "stream",
     "text": [
      "[[0.61945476 0.74335168]\n",
      " [0.60813514 0.76446383]\n",
      " [0.5851     0.6511    ]]\n",
      "rec time now 2 dataset now: Syn5\n"
     ]
    },
    {
     "name": "stderr",
     "output_type": "stream",
     "text": [
      "TPR mean: 56.4%  std: 23.3%\n",
      "FDR mean: 37.9%  std: 37.5%\n"
     ]
    },
    {
     "name": "stdout",
     "output_type": "stream",
     "text": [
      "[[0.61945476 0.74335168]\n",
      " [0.60813514 0.76446383]\n",
      " [0.5851     0.6511    ]]\n",
      "rec time now 3 dataset now: Syn5\n"
     ]
    },
    {
     "name": "stderr",
     "output_type": "stream",
     "text": [
      "TPR mean: 56.4%  std: 23.3%\n",
      "FDR mean: 37.9%  std: 37.5%\n",
      "Epoch:      0, d_loss (Acc)): 0.592, v_loss (Acc): 0.000, g_loss: -0.0553\n"
     ]
    },
    {
     "name": "stdout",
     "output_type": "stream",
     "text": [
      "[[0.61945476 0.74335168]\n",
      " [0.60813514 0.76446383]\n",
      " [0.5851     0.6511    ]]\n",
      "now at training epoch number 8100 hyp-params: lamda 1.0000 prior 0.0000\n",
      "rec time now 0 dataset now: Syn5\n"
     ]
    },
    {
     "name": "stderr",
     "output_type": "stream",
     "text": [
      "TPR mean: 56.4%  std: 23.3%\n",
      "FDR mean: 37.9%  std: 37.5%\n"
     ]
    },
    {
     "name": "stdout",
     "output_type": "stream",
     "text": [
      "[[0.61929227 0.7439456 ]\n",
      " [0.60809322 0.76509305]\n",
      " [0.5883     0.6509    ]]\n",
      "rec time now 1 dataset now: Syn5\n"
     ]
    },
    {
     "name": "stderr",
     "output_type": "stream",
     "text": [
      "TPR mean: 56.4%  std: 23.3%\n",
      "FDR mean: 37.9%  std: 37.5%\n"
     ]
    },
    {
     "name": "stdout",
     "output_type": "stream",
     "text": [
      "[[0.61929227 0.7439456 ]\n",
      " [0.60809322 0.76509305]\n",
      " [0.5883     0.6509    ]]\n",
      "rec time now 2 dataset now: Syn5\n"
     ]
    },
    {
     "name": "stderr",
     "output_type": "stream",
     "text": [
      "TPR mean: 56.4%  std: 23.3%\n",
      "FDR mean: 37.9%  std: 37.5%\n"
     ]
    },
    {
     "name": "stdout",
     "output_type": "stream",
     "text": [
      "[[0.61929227 0.7439456 ]\n",
      " [0.60809322 0.76509305]\n",
      " [0.5883     0.6509    ]]\n",
      "rec time now 3 dataset now: Syn5\n"
     ]
    },
    {
     "name": "stderr",
     "output_type": "stream",
     "text": [
      "TPR mean: 56.4%  std: 23.3%\n",
      "FDR mean: 37.9%  std: 37.5%\n",
      "Epoch:      0, d_loss (Acc)): 0.553, v_loss (Acc): 0.000, g_loss: -0.0769\n"
     ]
    },
    {
     "name": "stdout",
     "output_type": "stream",
     "text": [
      "[[0.61929227 0.7439456 ]\n",
      " [0.60809322 0.76509305]\n",
      " [0.5883     0.6509    ]]\n",
      "now at training epoch number 8200 hyp-params: lamda 1.0000 prior 0.0000\n",
      "rec time now 0 dataset now: Syn5\n"
     ]
    },
    {
     "name": "stderr",
     "output_type": "stream",
     "text": [
      "TPR mean: 56.4%  std: 23.3%\n",
      "FDR mean: 37.9%  std: 37.5%\n"
     ]
    },
    {
     "name": "stdout",
     "output_type": "stream",
     "text": [
      "[[0.61930322 0.74868281]\n",
      " [0.60760802 0.76969939]\n",
      " [0.5868     0.6581    ]]\n",
      "rec time now 1 dataset now: Syn5\n"
     ]
    },
    {
     "name": "stderr",
     "output_type": "stream",
     "text": [
      "TPR mean: 56.4%  std: 23.3%\n",
      "FDR mean: 37.9%  std: 37.5%\n"
     ]
    },
    {
     "name": "stdout",
     "output_type": "stream",
     "text": [
      "[[0.61930322 0.74868281]\n",
      " [0.60760802 0.76969939]\n",
      " [0.5868     0.6581    ]]\n",
      "rec time now 2 dataset now: Syn5\n"
     ]
    },
    {
     "name": "stderr",
     "output_type": "stream",
     "text": [
      "TPR mean: 56.4%  std: 23.3%\n",
      "FDR mean: 37.9%  std: 37.5%\n"
     ]
    },
    {
     "name": "stdout",
     "output_type": "stream",
     "text": [
      "[[0.61930322 0.74868281]\n",
      " [0.60760802 0.76969939]\n",
      " [0.5868     0.6581    ]]\n",
      "rec time now 3 dataset now: Syn5\n"
     ]
    },
    {
     "name": "stderr",
     "output_type": "stream",
     "text": [
      "TPR mean: 56.4%  std: 23.3%\n",
      "FDR mean: 37.9%  std: 37.5%\n",
      "Epoch:      0, d_loss (Acc)): 0.565, v_loss (Acc): 0.001, g_loss: -0.0683\n"
     ]
    },
    {
     "name": "stdout",
     "output_type": "stream",
     "text": [
      "[[0.61930322 0.74868281]\n",
      " [0.60760802 0.76969939]\n",
      " [0.5868     0.6581    ]]\n",
      "now at training epoch number 8300 hyp-params: lamda 1.0000 prior 0.0000\n",
      "rec time now 0 dataset now: Syn5\n"
     ]
    },
    {
     "name": "stderr",
     "output_type": "stream",
     "text": [
      "TPR mean: 56.4%  std: 23.3%\n",
      "FDR mean: 37.9%  std: 37.5%\n"
     ]
    },
    {
     "name": "stdout",
     "output_type": "stream",
     "text": [
      "[[0.61916157 0.74808623]\n",
      " [0.60764047 0.76925517]\n",
      " [0.5853     0.6566    ]]\n",
      "rec time now 1 dataset now: Syn5\n"
     ]
    },
    {
     "name": "stderr",
     "output_type": "stream",
     "text": [
      "TPR mean: 56.4%  std: 23.3%\n",
      "FDR mean: 37.9%  std: 37.5%\n"
     ]
    },
    {
     "name": "stdout",
     "output_type": "stream",
     "text": [
      "[[0.61916157 0.74808623]\n",
      " [0.60764047 0.76925517]\n",
      " [0.5853     0.6566    ]]\n",
      "rec time now 2 dataset now: Syn5\n"
     ]
    },
    {
     "name": "stderr",
     "output_type": "stream",
     "text": [
      "TPR mean: 56.4%  std: 23.3%\n",
      "FDR mean: 37.9%  std: 37.5%\n"
     ]
    },
    {
     "name": "stdout",
     "output_type": "stream",
     "text": [
      "[[0.61916157 0.74808623]\n",
      " [0.60764047 0.76925517]\n",
      " [0.5853     0.6566    ]]\n",
      "rec time now 3 dataset now: Syn5\n"
     ]
    },
    {
     "name": "stderr",
     "output_type": "stream",
     "text": [
      "TPR mean: 56.4%  std: 23.3%\n",
      "FDR mean: 37.9%  std: 37.5%\n",
      "Epoch:      0, d_loss (Acc)): 0.552, v_loss (Acc): 0.000, g_loss: -0.0553\n"
     ]
    },
    {
     "name": "stdout",
     "output_type": "stream",
     "text": [
      "[[0.61916157 0.74808623]\n",
      " [0.60764047 0.76925517]\n",
      " [0.5853     0.6566    ]]\n",
      "now at training epoch number 8400 hyp-params: lamda 1.0000 prior 0.0000\n",
      "rec time now 0 dataset now: Syn5\n"
     ]
    },
    {
     "name": "stderr",
     "output_type": "stream",
     "text": [
      "TPR mean: 56.4%  std: 23.3%\n",
      "FDR mean: 37.9%  std: 37.5%\n"
     ]
    },
    {
     "name": "stdout",
     "output_type": "stream",
     "text": [
      "[[0.61904712 0.74377477]\n",
      " [0.60754306 0.76644585]\n",
      " [0.5873     0.6484    ]]\n",
      "rec time now 1 dataset now: Syn5\n"
     ]
    },
    {
     "name": "stderr",
     "output_type": "stream",
     "text": [
      "TPR mean: 56.4%  std: 23.3%\n",
      "FDR mean: 37.9%  std: 37.5%\n"
     ]
    },
    {
     "name": "stdout",
     "output_type": "stream",
     "text": [
      "[[0.61904712 0.74377477]\n",
      " [0.60754306 0.76644585]\n",
      " [0.5873     0.6484    ]]\n",
      "rec time now 2 dataset now: Syn5\n"
     ]
    },
    {
     "name": "stderr",
     "output_type": "stream",
     "text": [
      "TPR mean: 56.4%  std: 23.3%\n",
      "FDR mean: 37.9%  std: 37.5%\n"
     ]
    },
    {
     "name": "stdout",
     "output_type": "stream",
     "text": [
      "[[0.61904712 0.74377477]\n",
      " [0.60754306 0.76644585]\n",
      " [0.5873     0.6484    ]]\n",
      "rec time now 3 dataset now: Syn5\n"
     ]
    },
    {
     "name": "stderr",
     "output_type": "stream",
     "text": [
      "TPR mean: 56.4%  std: 23.3%\n",
      "FDR mean: 37.9%  std: 37.5%\n",
      "Epoch:      0, d_loss (Acc)): 0.552, v_loss (Acc): 0.001, g_loss: -0.0325\n"
     ]
    },
    {
     "name": "stdout",
     "output_type": "stream",
     "text": [
      "[[0.61904712 0.74377477]\n",
      " [0.60754306 0.76644585]\n",
      " [0.5873     0.6484    ]]\n",
      "now at training epoch number 8500 hyp-params: lamda 1.0000 prior 0.0000\n",
      "rec time now 0 dataset now: Syn5\n"
     ]
    },
    {
     "name": "stderr",
     "output_type": "stream",
     "text": [
      "TPR mean: 56.4%  std: 23.3%\n",
      "FDR mean: 37.9%  std: 37.5%\n"
     ]
    },
    {
     "name": "stdout",
     "output_type": "stream",
     "text": [
      "[[0.61887849 0.74661444]\n",
      " [0.60723396 0.76829385]\n",
      " [0.5876     0.6552    ]]\n",
      "rec time now 1 dataset now: Syn5\n"
     ]
    },
    {
     "name": "stderr",
     "output_type": "stream",
     "text": [
      "TPR mean: 56.4%  std: 23.3%\n",
      "FDR mean: 37.9%  std: 37.5%\n"
     ]
    },
    {
     "name": "stdout",
     "output_type": "stream",
     "text": [
      "[[0.61887849 0.74661444]\n",
      " [0.60723396 0.76829385]\n",
      " [0.5876     0.6552    ]]\n",
      "rec time now 2 dataset now: Syn5\n"
     ]
    },
    {
     "name": "stderr",
     "output_type": "stream",
     "text": [
      "TPR mean: 56.4%  std: 23.3%\n",
      "FDR mean: 37.9%  std: 37.5%\n"
     ]
    },
    {
     "name": "stdout",
     "output_type": "stream",
     "text": [
      "[[0.61887849 0.74661444]\n",
      " [0.60723396 0.76829385]\n",
      " [0.5876     0.6552    ]]\n",
      "rec time now 3 dataset now: Syn5\n"
     ]
    },
    {
     "name": "stderr",
     "output_type": "stream",
     "text": [
      "TPR mean: 56.4%  std: 23.3%\n",
      "FDR mean: 37.9%  std: 37.5%\n",
      "Epoch:      0, d_loss (Acc)): 0.563, v_loss (Acc): 0.000, g_loss: -0.0243\n"
     ]
    },
    {
     "name": "stdout",
     "output_type": "stream",
     "text": [
      "[[0.61887849 0.74661444]\n",
      " [0.60723396 0.76829385]\n",
      " [0.5876     0.6552    ]]\n",
      "now at training epoch number 8600 hyp-params: lamda 1.0000 prior 0.0000\n",
      "rec time now 0 dataset now: Syn5\n"
     ]
    },
    {
     "name": "stderr",
     "output_type": "stream",
     "text": [
      "TPR mean: 56.4%  std: 23.3%\n",
      "FDR mean: 37.9%  std: 37.5%\n"
     ]
    },
    {
     "name": "stdout",
     "output_type": "stream",
     "text": [
      "[[0.61975885 0.74677346]\n",
      " [0.60802406 0.76848265]\n",
      " [0.5881     0.655     ]]\n",
      "rec time now 1 dataset now: Syn5\n"
     ]
    },
    {
     "name": "stderr",
     "output_type": "stream",
     "text": [
      "TPR mean: 56.4%  std: 23.3%\n",
      "FDR mean: 37.9%  std: 37.5%\n"
     ]
    },
    {
     "name": "stdout",
     "output_type": "stream",
     "text": [
      "[[0.61975885 0.74677346]\n",
      " [0.60802406 0.76848265]\n",
      " [0.5881     0.655     ]]\n",
      "rec time now 2 dataset now: Syn5\n"
     ]
    },
    {
     "name": "stderr",
     "output_type": "stream",
     "text": [
      "TPR mean: 56.4%  std: 23.3%\n",
      "FDR mean: 37.9%  std: 37.5%\n"
     ]
    },
    {
     "name": "stdout",
     "output_type": "stream",
     "text": [
      "[[0.61975885 0.74677346]\n",
      " [0.60802406 0.76848265]\n",
      " [0.5881     0.655     ]]\n",
      "rec time now 3 dataset now: Syn5\n"
     ]
    },
    {
     "name": "stderr",
     "output_type": "stream",
     "text": [
      "TPR mean: 56.4%  std: 23.3%\n",
      "FDR mean: 37.9%  std: 37.5%\n",
      "Epoch:      0, d_loss (Acc)): 0.556, v_loss (Acc): 0.001, g_loss: -0.0472\n"
     ]
    },
    {
     "name": "stdout",
     "output_type": "stream",
     "text": [
      "[[0.61975885 0.74677346]\n",
      " [0.60802406 0.76848265]\n",
      " [0.5881     0.655     ]]\n",
      "now at training epoch number 8700 hyp-params: lamda 1.0000 prior 0.0000\n",
      "rec time now 0 dataset now: Syn5\n"
     ]
    },
    {
     "name": "stderr",
     "output_type": "stream",
     "text": [
      "TPR mean: 56.4%  std: 23.3%\n",
      "FDR mean: 37.9%  std: 37.5%\n"
     ]
    },
    {
     "name": "stdout",
     "output_type": "stream",
     "text": [
      "[[0.61661803 0.74524134]\n",
      " [0.60416777 0.76865606]\n",
      " [0.5849     0.6521    ]]\n",
      "rec time now 1 dataset now: Syn5\n"
     ]
    },
    {
     "name": "stderr",
     "output_type": "stream",
     "text": [
      "TPR mean: 56.4%  std: 23.3%\n",
      "FDR mean: 37.9%  std: 37.5%\n"
     ]
    },
    {
     "name": "stdout",
     "output_type": "stream",
     "text": [
      "[[0.61661803 0.74524134]\n",
      " [0.60416777 0.76865606]\n",
      " [0.5849     0.6521    ]]\n",
      "rec time now 2 dataset now: Syn5\n"
     ]
    },
    {
     "name": "stderr",
     "output_type": "stream",
     "text": [
      "TPR mean: 56.4%  std: 23.3%\n",
      "FDR mean: 37.9%  std: 37.5%\n"
     ]
    },
    {
     "name": "stdout",
     "output_type": "stream",
     "text": [
      "[[0.61661803 0.74524134]\n",
      " [0.60416777 0.76865606]\n",
      " [0.5849     0.6521    ]]\n",
      "rec time now 3 dataset now: Syn5\n"
     ]
    },
    {
     "name": "stderr",
     "output_type": "stream",
     "text": [
      "TPR mean: 56.4%  std: 23.3%\n",
      "FDR mean: 37.9%  std: 37.5%\n",
      "Epoch:      0, d_loss (Acc)): 0.558, v_loss (Acc): 0.000, g_loss: +0.0039\n"
     ]
    },
    {
     "name": "stdout",
     "output_type": "stream",
     "text": [
      "[[0.61661803 0.74524134]\n",
      " [0.60416777 0.76865606]\n",
      " [0.5849     0.6521    ]]\n",
      "now at training epoch number 8800 hyp-params: lamda 1.0000 prior 0.0000\n",
      "rec time now 0 dataset now: Syn5\n"
     ]
    },
    {
     "name": "stderr",
     "output_type": "stream",
     "text": [
      "TPR mean: 56.4%  std: 23.3%\n",
      "FDR mean: 37.9%  std: 37.5%\n"
     ]
    },
    {
     "name": "stdout",
     "output_type": "stream",
     "text": [
      "[[0.61864977 0.74428977]\n",
      " [0.60641098 0.76789587]\n",
      " [0.5851     0.6542    ]]\n",
      "rec time now 1 dataset now: Syn5\n"
     ]
    },
    {
     "name": "stderr",
     "output_type": "stream",
     "text": [
      "TPR mean: 56.4%  std: 23.3%\n",
      "FDR mean: 37.9%  std: 37.5%\n"
     ]
    },
    {
     "name": "stdout",
     "output_type": "stream",
     "text": [
      "[[0.61864977 0.74428977]\n",
      " [0.60641098 0.76789587]\n",
      " [0.5851     0.6542    ]]\n",
      "rec time now 2 dataset now: Syn5\n"
     ]
    },
    {
     "name": "stderr",
     "output_type": "stream",
     "text": [
      "TPR mean: 56.4%  std: 23.3%\n",
      "FDR mean: 37.9%  std: 37.5%\n"
     ]
    },
    {
     "name": "stdout",
     "output_type": "stream",
     "text": [
      "[[0.61864977 0.74428977]\n",
      " [0.60641098 0.76789587]\n",
      " [0.5851     0.6542    ]]\n",
      "rec time now 3 dataset now: Syn5\n"
     ]
    },
    {
     "name": "stderr",
     "output_type": "stream",
     "text": [
      "TPR mean: 56.4%  std: 23.3%\n",
      "FDR mean: 37.9%  std: 37.5%\n",
      "Epoch:      0, d_loss (Acc)): 0.531, v_loss (Acc): 0.000, g_loss: -0.0194\n"
     ]
    },
    {
     "name": "stdout",
     "output_type": "stream",
     "text": [
      "[[0.61864977 0.74428977]\n",
      " [0.60641098 0.76789587]\n",
      " [0.5851     0.6542    ]]\n",
      "now at training epoch number 8900 hyp-params: lamda 1.0000 prior 0.0000\n",
      "rec time now 0 dataset now: Syn5\n"
     ]
    },
    {
     "name": "stderr",
     "output_type": "stream",
     "text": [
      "TPR mean: 56.4%  std: 23.3%\n",
      "FDR mean: 37.9%  std: 37.5%\n"
     ]
    },
    {
     "name": "stdout",
     "output_type": "stream",
     "text": [
      "[[0.61959406 0.74281091]\n",
      " [0.60670607 0.76432564]\n",
      " [0.5872     0.65      ]]\n",
      "rec time now 1 dataset now: Syn5\n"
     ]
    },
    {
     "name": "stderr",
     "output_type": "stream",
     "text": [
      "TPR mean: 56.4%  std: 23.3%\n",
      "FDR mean: 37.9%  std: 37.5%\n"
     ]
    },
    {
     "name": "stdout",
     "output_type": "stream",
     "text": [
      "[[0.61959406 0.74281091]\n",
      " [0.60670607 0.76432564]\n",
      " [0.5872     0.65      ]]\n",
      "rec time now 2 dataset now: Syn5\n"
     ]
    },
    {
     "name": "stderr",
     "output_type": "stream",
     "text": [
      "TPR mean: 56.4%  std: 23.3%\n",
      "FDR mean: 37.9%  std: 37.5%\n"
     ]
    },
    {
     "name": "stdout",
     "output_type": "stream",
     "text": [
      "[[0.61959406 0.74281091]\n",
      " [0.60670607 0.76432564]\n",
      " [0.5872     0.65      ]]\n",
      "rec time now 3 dataset now: Syn5\n"
     ]
    },
    {
     "name": "stderr",
     "output_type": "stream",
     "text": [
      "TPR mean: 56.4%  std: 23.3%\n",
      "FDR mean: 37.9%  std: 37.5%\n",
      "Epoch:      0, d_loss (Acc)): 0.564, v_loss (Acc): 0.000, g_loss: -0.0215\n"
     ]
    },
    {
     "name": "stdout",
     "output_type": "stream",
     "text": [
      "[[0.61959406 0.74281091]\n",
      " [0.60670607 0.76432564]\n",
      " [0.5872     0.65      ]]\n",
      "now at training epoch number 9000 hyp-params: lamda 1.0000 prior 0.0000\n",
      "rec time now 0 dataset now: Syn5\n"
     ]
    },
    {
     "name": "stderr",
     "output_type": "stream",
     "text": [
      "TPR mean: 56.4%  std: 23.3%\n",
      "FDR mean: 37.9%  std: 37.5%\n"
     ]
    },
    {
     "name": "stdout",
     "output_type": "stream",
     "text": [
      "[[0.61757287 0.74695508]\n",
      " [0.60509255 0.76916539]\n",
      " [0.5843     0.6508    ]]\n",
      "rec time now 1 dataset now: Syn5\n"
     ]
    },
    {
     "name": "stderr",
     "output_type": "stream",
     "text": [
      "TPR mean: 56.4%  std: 23.3%\n",
      "FDR mean: 37.9%  std: 37.5%\n"
     ]
    },
    {
     "name": "stdout",
     "output_type": "stream",
     "text": [
      "[[0.61757287 0.74695508]\n",
      " [0.60509255 0.76916539]\n",
      " [0.5843     0.6508    ]]\n",
      "rec time now 2 dataset now: Syn5\n"
     ]
    },
    {
     "name": "stderr",
     "output_type": "stream",
     "text": [
      "TPR mean: 56.4%  std: 23.3%\n",
      "FDR mean: 37.9%  std: 37.5%\n"
     ]
    },
    {
     "name": "stdout",
     "output_type": "stream",
     "text": [
      "[[0.61757287 0.74695508]\n",
      " [0.60509255 0.76916539]\n",
      " [0.5843     0.6508    ]]\n",
      "rec time now 3 dataset now: Syn5\n"
     ]
    },
    {
     "name": "stderr",
     "output_type": "stream",
     "text": [
      "TPR mean: 56.4%  std: 23.3%\n",
      "FDR mean: 37.9%  std: 37.5%\n",
      "Epoch:      0, d_loss (Acc)): 0.555, v_loss (Acc): 0.000, g_loss: -0.0198\n"
     ]
    },
    {
     "name": "stdout",
     "output_type": "stream",
     "text": [
      "[[0.61757287 0.74695508]\n",
      " [0.60509255 0.76916539]\n",
      " [0.5843     0.6508    ]]\n",
      "now at training epoch number 9100 hyp-params: lamda 1.0000 prior 0.0000\n",
      "rec time now 0 dataset now: Syn5\n"
     ]
    },
    {
     "name": "stderr",
     "output_type": "stream",
     "text": [
      "TPR mean: 56.4%  std: 23.3%\n",
      "FDR mean: 37.9%  std: 37.5%\n"
     ]
    },
    {
     "name": "stdout",
     "output_type": "stream",
     "text": [
      "[[0.61778176 0.74616138]\n",
      " [0.60596586 0.76741508]\n",
      " [0.5853     0.656     ]]\n",
      "rec time now 1 dataset now: Syn5\n"
     ]
    },
    {
     "name": "stderr",
     "output_type": "stream",
     "text": [
      "TPR mean: 56.4%  std: 23.3%\n",
      "FDR mean: 37.9%  std: 37.5%\n"
     ]
    },
    {
     "name": "stdout",
     "output_type": "stream",
     "text": [
      "[[0.61778176 0.74616138]\n",
      " [0.60596586 0.76741508]\n",
      " [0.5853     0.656     ]]\n",
      "rec time now 2 dataset now: Syn5\n"
     ]
    },
    {
     "name": "stderr",
     "output_type": "stream",
     "text": [
      "TPR mean: 56.4%  std: 23.3%\n",
      "FDR mean: 37.9%  std: 37.5%\n"
     ]
    },
    {
     "name": "stdout",
     "output_type": "stream",
     "text": [
      "[[0.61778176 0.74616138]\n",
      " [0.60596586 0.76741508]\n",
      " [0.5853     0.656     ]]\n",
      "rec time now 3 dataset now: Syn5\n"
     ]
    },
    {
     "name": "stderr",
     "output_type": "stream",
     "text": [
      "TPR mean: 56.4%  std: 23.3%\n",
      "FDR mean: 37.9%  std: 37.5%\n",
      "Epoch:      0, d_loss (Acc)): 0.533, v_loss (Acc): 0.000, g_loss: +0.0237\n"
     ]
    },
    {
     "name": "stdout",
     "output_type": "stream",
     "text": [
      "[[0.61778176 0.74616138]\n",
      " [0.60596586 0.76741508]\n",
      " [0.5853     0.656     ]]\n",
      "now at training epoch number 9200 hyp-params: lamda 1.0000 prior 0.0000\n",
      "rec time now 0 dataset now: Syn5\n"
     ]
    },
    {
     "name": "stderr",
     "output_type": "stream",
     "text": [
      "TPR mean: 56.4%  std: 23.3%\n",
      "FDR mean: 37.9%  std: 37.5%\n"
     ]
    },
    {
     "name": "stdout",
     "output_type": "stream",
     "text": [
      "[[0.61759143 0.74593018]\n",
      " [0.60515016 0.76907213]\n",
      " [0.5846     0.6547    ]]\n",
      "rec time now 1 dataset now: Syn5\n"
     ]
    },
    {
     "name": "stderr",
     "output_type": "stream",
     "text": [
      "TPR mean: 56.4%  std: 23.3%\n",
      "FDR mean: 37.9%  std: 37.5%\n"
     ]
    },
    {
     "name": "stdout",
     "output_type": "stream",
     "text": [
      "[[0.61759143 0.74593018]\n",
      " [0.60515016 0.76907213]\n",
      " [0.5846     0.6547    ]]\n",
      "rec time now 2 dataset now: Syn5\n"
     ]
    },
    {
     "name": "stderr",
     "output_type": "stream",
     "text": [
      "TPR mean: 56.4%  std: 23.3%\n",
      "FDR mean: 37.9%  std: 37.5%\n"
     ]
    },
    {
     "name": "stdout",
     "output_type": "stream",
     "text": [
      "[[0.61759143 0.74593018]\n",
      " [0.60515016 0.76907213]\n",
      " [0.5846     0.6547    ]]\n",
      "rec time now 3 dataset now: Syn5\n"
     ]
    },
    {
     "name": "stderr",
     "output_type": "stream",
     "text": [
      "TPR mean: 56.4%  std: 23.3%\n",
      "FDR mean: 37.9%  std: 37.5%\n",
      "Epoch:      0, d_loss (Acc)): 0.569, v_loss (Acc): 0.000, g_loss: -0.0285\n"
     ]
    },
    {
     "name": "stdout",
     "output_type": "stream",
     "text": [
      "[[0.61759143 0.74593018]\n",
      " [0.60515016 0.76907213]\n",
      " [0.5846     0.6547    ]]\n",
      "now at training epoch number 9300 hyp-params: lamda 1.0000 prior 0.0000\n",
      "rec time now 0 dataset now: Syn5\n"
     ]
    },
    {
     "name": "stderr",
     "output_type": "stream",
     "text": [
      "TPR mean: 56.4%  std: 23.3%\n",
      "FDR mean: 37.9%  std: 37.5%\n"
     ]
    },
    {
     "name": "stdout",
     "output_type": "stream",
     "text": [
      "[[0.61895326 0.74489809]\n",
      " [0.60655363 0.76794188]\n",
      " [0.5878     0.6498    ]]\n",
      "rec time now 1 dataset now: Syn5\n"
     ]
    },
    {
     "name": "stderr",
     "output_type": "stream",
     "text": [
      "TPR mean: 56.4%  std: 23.3%\n",
      "FDR mean: 37.9%  std: 37.5%\n"
     ]
    },
    {
     "name": "stdout",
     "output_type": "stream",
     "text": [
      "[[0.61895326 0.74489809]\n",
      " [0.60655363 0.76794188]\n",
      " [0.5878     0.6498    ]]\n",
      "rec time now 2 dataset now: Syn5\n"
     ]
    },
    {
     "name": "stderr",
     "output_type": "stream",
     "text": [
      "TPR mean: 56.4%  std: 23.3%\n",
      "FDR mean: 37.9%  std: 37.5%\n"
     ]
    },
    {
     "name": "stdout",
     "output_type": "stream",
     "text": [
      "[[0.61895326 0.74489809]\n",
      " [0.60655363 0.76794188]\n",
      " [0.5878     0.6498    ]]\n",
      "rec time now 3 dataset now: Syn5\n"
     ]
    },
    {
     "name": "stderr",
     "output_type": "stream",
     "text": [
      "TPR mean: 56.4%  std: 23.3%\n",
      "FDR mean: 37.9%  std: 37.5%\n",
      "Epoch:      0, d_loss (Acc)): 0.538, v_loss (Acc): 0.000, g_loss: +0.0054\n"
     ]
    },
    {
     "name": "stdout",
     "output_type": "stream",
     "text": [
      "[[0.61895326 0.74489809]\n",
      " [0.60655363 0.76794188]\n",
      " [0.5878     0.6498    ]]\n",
      "now at training epoch number 9400 hyp-params: lamda 1.0000 prior 0.0000\n",
      "rec time now 0 dataset now: Syn5\n"
     ]
    },
    {
     "name": "stderr",
     "output_type": "stream",
     "text": [
      "TPR mean: 56.4%  std: 23.3%\n",
      "FDR mean: 37.9%  std: 37.5%\n"
     ]
    },
    {
     "name": "stdout",
     "output_type": "stream",
     "text": [
      "[[0.61741316 0.74530593]\n",
      " [0.60523449 0.76788202]\n",
      " [0.5838     0.6512    ]]\n",
      "rec time now 1 dataset now: Syn5\n"
     ]
    },
    {
     "name": "stderr",
     "output_type": "stream",
     "text": [
      "TPR mean: 56.4%  std: 23.3%\n",
      "FDR mean: 37.9%  std: 37.5%\n"
     ]
    },
    {
     "name": "stdout",
     "output_type": "stream",
     "text": [
      "[[0.61741316 0.74530593]\n",
      " [0.60523449 0.76788202]\n",
      " [0.5838     0.6512    ]]\n",
      "rec time now 2 dataset now: Syn5\n"
     ]
    },
    {
     "name": "stderr",
     "output_type": "stream",
     "text": [
      "TPR mean: 56.4%  std: 23.3%\n",
      "FDR mean: 37.9%  std: 37.5%\n"
     ]
    },
    {
     "name": "stdout",
     "output_type": "stream",
     "text": [
      "[[0.61741316 0.74530593]\n",
      " [0.60523449 0.76788202]\n",
      " [0.5838     0.6512    ]]\n",
      "rec time now 3 dataset now: Syn5\n"
     ]
    },
    {
     "name": "stderr",
     "output_type": "stream",
     "text": [
      "TPR mean: 56.4%  std: 23.3%\n",
      "FDR mean: 37.9%  std: 37.5%\n",
      "Epoch:      0, d_loss (Acc)): 0.541, v_loss (Acc): 0.000, g_loss: +0.0158\n"
     ]
    },
    {
     "name": "stdout",
     "output_type": "stream",
     "text": [
      "[[0.61741316 0.74530593]\n",
      " [0.60523449 0.76788202]\n",
      " [0.5838     0.6512    ]]\n",
      "now at training epoch number 9500 hyp-params: lamda 1.0000 prior 0.0000\n",
      "rec time now 0 dataset now: Syn5\n"
     ]
    },
    {
     "name": "stderr",
     "output_type": "stream",
     "text": [
      "TPR mean: 56.4%  std: 23.3%\n",
      "FDR mean: 37.9%  std: 37.5%\n"
     ]
    },
    {
     "name": "stdout",
     "output_type": "stream",
     "text": [
      "[[0.61915189 0.74577831]\n",
      " [0.60646595 0.76800958]\n",
      " [0.5856     0.6545    ]]\n",
      "rec time now 1 dataset now: Syn5\n"
     ]
    },
    {
     "name": "stderr",
     "output_type": "stream",
     "text": [
      "TPR mean: 56.4%  std: 23.3%\n",
      "FDR mean: 37.9%  std: 37.5%\n"
     ]
    },
    {
     "name": "stdout",
     "output_type": "stream",
     "text": [
      "[[0.61915189 0.74577831]\n",
      " [0.60646595 0.76800958]\n",
      " [0.5856     0.6545    ]]\n",
      "rec time now 2 dataset now: Syn5\n"
     ]
    },
    {
     "name": "stderr",
     "output_type": "stream",
     "text": [
      "TPR mean: 56.4%  std: 23.3%\n",
      "FDR mean: 37.9%  std: 37.5%\n"
     ]
    },
    {
     "name": "stdout",
     "output_type": "stream",
     "text": [
      "[[0.61915189 0.74577831]\n",
      " [0.60646595 0.76800958]\n",
      " [0.5856     0.6545    ]]\n",
      "rec time now 3 dataset now: Syn5\n"
     ]
    },
    {
     "name": "stderr",
     "output_type": "stream",
     "text": [
      "TPR mean: 56.4%  std: 23.3%\n",
      "FDR mean: 37.9%  std: 37.5%\n",
      "Epoch:      0, d_loss (Acc)): 0.571, v_loss (Acc): 0.000, g_loss: -0.0052\n"
     ]
    },
    {
     "name": "stdout",
     "output_type": "stream",
     "text": [
      "[[0.61915189 0.74577831]\n",
      " [0.60646595 0.76800958]\n",
      " [0.5856     0.6545    ]]\n",
      "now at training epoch number 9600 hyp-params: lamda 1.0000 prior 0.0000\n",
      "rec time now 0 dataset now: Syn5\n"
     ]
    },
    {
     "name": "stderr",
     "output_type": "stream",
     "text": [
      "TPR mean: 56.4%  std: 23.3%\n",
      "FDR mean: 37.9%  std: 37.5%\n"
     ]
    },
    {
     "name": "stdout",
     "output_type": "stream",
     "text": [
      "[[0.6163098  0.74401941]\n",
      " [0.60298486 0.76699358]\n",
      " [0.5827     0.651     ]]\n",
      "rec time now 1 dataset now: Syn5\n"
     ]
    },
    {
     "name": "stderr",
     "output_type": "stream",
     "text": [
      "TPR mean: 56.4%  std: 23.3%\n",
      "FDR mean: 37.9%  std: 37.5%\n"
     ]
    },
    {
     "name": "stdout",
     "output_type": "stream",
     "text": [
      "[[0.6163098  0.74401941]\n",
      " [0.60298486 0.76699358]\n",
      " [0.5827     0.651     ]]\n",
      "rec time now 2 dataset now: Syn5\n"
     ]
    },
    {
     "name": "stderr",
     "output_type": "stream",
     "text": [
      "TPR mean: 56.4%  std: 23.3%\n",
      "FDR mean: 37.9%  std: 37.5%\n"
     ]
    },
    {
     "name": "stdout",
     "output_type": "stream",
     "text": [
      "[[0.6163098  0.74401941]\n",
      " [0.60298486 0.76699358]\n",
      " [0.5827     0.651     ]]\n",
      "rec time now 3 dataset now: Syn5\n"
     ]
    },
    {
     "name": "stderr",
     "output_type": "stream",
     "text": [
      "TPR mean: 56.4%  std: 23.3%\n",
      "FDR mean: 37.9%  std: 37.5%\n",
      "Epoch:      0, d_loss (Acc)): 0.564, v_loss (Acc): 0.001, g_loss: -0.0253\n"
     ]
    },
    {
     "name": "stdout",
     "output_type": "stream",
     "text": [
      "[[0.6163098  0.74401941]\n",
      " [0.60298486 0.76699358]\n",
      " [0.5827     0.651     ]]\n",
      "now at training epoch number 9700 hyp-params: lamda 1.0000 prior 0.0000\n",
      "rec time now 0 dataset now: Syn5\n"
     ]
    },
    {
     "name": "stderr",
     "output_type": "stream",
     "text": [
      "TPR mean: 56.4%  std: 23.3%\n",
      "FDR mean: 37.9%  std: 37.5%\n"
     ]
    },
    {
     "name": "stdout",
     "output_type": "stream",
     "text": [
      "[[0.6177315  0.74422762]\n",
      " [0.60526434 0.76618274]\n",
      " [0.5828     0.6497    ]]\n",
      "rec time now 1 dataset now: Syn5\n"
     ]
    },
    {
     "name": "stderr",
     "output_type": "stream",
     "text": [
      "TPR mean: 56.4%  std: 23.3%\n",
      "FDR mean: 37.9%  std: 37.5%\n"
     ]
    },
    {
     "name": "stdout",
     "output_type": "stream",
     "text": [
      "[[0.6177315  0.74422762]\n",
      " [0.60526434 0.76618274]\n",
      " [0.5828     0.6497    ]]\n",
      "rec time now 2 dataset now: Syn5\n"
     ]
    },
    {
     "name": "stderr",
     "output_type": "stream",
     "text": [
      "TPR mean: 56.4%  std: 23.3%\n",
      "FDR mean: 37.9%  std: 37.5%\n"
     ]
    },
    {
     "name": "stdout",
     "output_type": "stream",
     "text": [
      "[[0.6177315  0.74422762]\n",
      " [0.60526434 0.76618274]\n",
      " [0.5828     0.6497    ]]\n",
      "rec time now 3 dataset now: Syn5\n"
     ]
    },
    {
     "name": "stderr",
     "output_type": "stream",
     "text": [
      "TPR mean: 56.4%  std: 23.3%\n",
      "FDR mean: 37.9%  std: 37.5%\n",
      "Epoch:      0, d_loss (Acc)): 0.521, v_loss (Acc): 0.000, g_loss: -0.0062\n"
     ]
    },
    {
     "name": "stdout",
     "output_type": "stream",
     "text": [
      "[[0.6177315  0.74422762]\n",
      " [0.60526434 0.76618274]\n",
      " [0.5828     0.6497    ]]\n",
      "now at training epoch number 9800 hyp-params: lamda 1.0000 prior 0.0000\n",
      "rec time now 0 dataset now: Syn5\n"
     ]
    },
    {
     "name": "stderr",
     "output_type": "stream",
     "text": [
      "TPR mean: 56.4%  std: 23.3%\n",
      "FDR mean: 37.9%  std: 37.5%\n"
     ]
    },
    {
     "name": "stdout",
     "output_type": "stream",
     "text": [
      "[[0.61212463 0.74580216]\n",
      " [0.60113591 0.76736216]\n",
      " [0.5804     0.6567    ]]\n",
      "rec time now 1 dataset now: Syn5\n"
     ]
    },
    {
     "name": "stderr",
     "output_type": "stream",
     "text": [
      "TPR mean: 56.4%  std: 23.3%\n",
      "FDR mean: 37.9%  std: 37.5%\n"
     ]
    },
    {
     "name": "stdout",
     "output_type": "stream",
     "text": [
      "[[0.61212463 0.74580216]\n",
      " [0.60113591 0.76736216]\n",
      " [0.5804     0.6567    ]]\n",
      "rec time now 2 dataset now: Syn5\n"
     ]
    },
    {
     "name": "stderr",
     "output_type": "stream",
     "text": [
      "TPR mean: 56.4%  std: 23.3%\n",
      "FDR mean: 37.9%  std: 37.5%\n"
     ]
    },
    {
     "name": "stdout",
     "output_type": "stream",
     "text": [
      "[[0.61212463 0.74580216]\n",
      " [0.60113591 0.76736216]\n",
      " [0.5804     0.6567    ]]\n",
      "rec time now 3 dataset now: Syn5\n"
     ]
    },
    {
     "name": "stderr",
     "output_type": "stream",
     "text": [
      "TPR mean: 56.4%  std: 23.3%\n",
      "FDR mean: 37.9%  std: 37.5%\n",
      "Epoch:      0, d_loss (Acc)): 0.544, v_loss (Acc): 0.060, g_loss: +0.0196\n"
     ]
    },
    {
     "name": "stdout",
     "output_type": "stream",
     "text": [
      "[[0.61212463 0.74580216]\n",
      " [0.60113591 0.76736216]\n",
      " [0.5804     0.6567    ]]\n",
      "now at training epoch number 9900 hyp-params: lamda 1.0000 prior 0.0000\n",
      "rec time now 0 dataset now: Syn5\n"
     ]
    },
    {
     "name": "stderr",
     "output_type": "stream",
     "text": [
      "TPR mean: 56.4%  std: 23.3%\n",
      "FDR mean: 37.9%  std: 37.5%\n"
     ]
    },
    {
     "name": "stdout",
     "output_type": "stream",
     "text": [
      "[[0.61811404 0.74560062]\n",
      " [0.6057394  0.76740928]\n",
      " [0.5869     0.6544    ]]\n",
      "rec time now 1 dataset now: Syn5\n"
     ]
    },
    {
     "name": "stderr",
     "output_type": "stream",
     "text": [
      "TPR mean: 56.4%  std: 23.3%\n",
      "FDR mean: 37.9%  std: 37.5%\n"
     ]
    },
    {
     "name": "stdout",
     "output_type": "stream",
     "text": [
      "[[0.61811404 0.74560062]\n",
      " [0.6057394  0.76740928]\n",
      " [0.5869     0.6544    ]]\n",
      "rec time now 2 dataset now: Syn5\n"
     ]
    },
    {
     "name": "stderr",
     "output_type": "stream",
     "text": [
      "TPR mean: 56.4%  std: 23.3%\n",
      "FDR mean: 37.9%  std: 37.5%\n"
     ]
    },
    {
     "name": "stdout",
     "output_type": "stream",
     "text": [
      "[[0.61811404 0.74560062]\n",
      " [0.6057394  0.76740928]\n",
      " [0.5869     0.6544    ]]\n",
      "rec time now 3 dataset now: Syn5\n"
     ]
    },
    {
     "name": "stderr",
     "output_type": "stream",
     "text": [
      "TPR mean: 56.4%  std: 23.3%\n",
      "FDR mean: 37.9%  std: 37.5%\n",
      "invase: Syn6 10000 . Y\n",
      "(10000, 100) (10000, 2) (10000, 100) (10000, 2)\n",
      "input shape: 100\n",
      "Epoch:      0, d_loss (Acc)): 0.754, v_loss (Acc): 0.776, g_loss: +2.0174\n"
     ]
    },
    {
     "name": "stdout",
     "output_type": "stream",
     "text": [
      "[[0.61811404 0.74560062]\n",
      " [0.6057394  0.76740928]\n",
      " [0.5869     0.6544    ]]\n",
      "PyTorch Version: elapsed time for Syn5: 100 feature, 10000 sample: [1046.6599 1077.6392] sec.\n",
      "now at training epoch number 0 hyp-params: lamda 1.0000 prior 0.0000\n",
      "rec time now 0 dataset now: Syn6\n"
     ]
    },
    {
     "name": "stderr",
     "output_type": "stream",
     "text": [
      "TPR mean: 48.3%  std: 20.4%\n",
      "FDR mean: 94.8%  std: 2.2%\n"
     ]
    },
    {
     "name": "stdout",
     "output_type": "stream",
     "text": [
      "[[0.66767663 0.63708006]\n",
      " [0.68120536 0.66238328]\n",
      " [0.6325     0.6056    ]]\n",
      "rec time now 1 dataset now: Syn6\n"
     ]
    },
    {
     "name": "stderr",
     "output_type": "stream",
     "text": [
      "TPR mean: 36.2%  std: 20.3%\n",
      "FDR mean: 94.5%  std: 3.0%\n"
     ]
    },
    {
     "name": "stdout",
     "output_type": "stream",
     "text": [
      "[[0.66767663 0.62686204]\n",
      " [0.68120536 0.65015716]\n",
      " [0.6325     0.6002    ]]\n",
      "rec time now 2 dataset now: Syn6\n"
     ]
    },
    {
     "name": "stderr",
     "output_type": "stream",
     "text": [
      "TPR mean: 31.4%  std: 19.9%\n",
      "FDR mean: 94.4%  std: 3.5%\n"
     ]
    },
    {
     "name": "stdout",
     "output_type": "stream",
     "text": [
      "[[0.66767663 0.61943723]\n",
      " [0.68120536 0.64150713]\n",
      " [0.6325     0.5934    ]]\n",
      "rec time now 3 dataset now: Syn6\n"
     ]
    },
    {
     "name": "stderr",
     "output_type": "stream",
     "text": [
      "TPR mean: 29.2%  std: 19.7%\n",
      "FDR mean: 94.4%  std: 3.8%\n",
      "Epoch:      0, d_loss (Acc)): 0.667, v_loss (Acc): 0.635, g_loss: -1.6807\n"
     ]
    },
    {
     "name": "stdout",
     "output_type": "stream",
     "text": [
      "[[0.66767663 0.61628664]\n",
      " [0.68120536 0.63881487]\n",
      " [0.6325     0.5899    ]]\n",
      "now at training epoch number 100 hyp-params: lamda 1.0000 prior 0.0000\n",
      "rec time now 0 dataset now: Syn6\n"
     ]
    },
    {
     "name": "stderr",
     "output_type": "stream",
     "text": [
      "TPR mean: 45.8%  std: 20.9%\n",
      "FDR mean: 94.5%  std: 2.5%\n"
     ]
    },
    {
     "name": "stdout",
     "output_type": "stream",
     "text": [
      "[[0.67058565 0.65152059]\n",
      " [0.68725199 0.67762117]\n",
      " [0.6349     0.6137    ]]\n",
      "rec time now 1 dataset now: Syn6\n"
     ]
    },
    {
     "name": "stderr",
     "output_type": "stream",
     "text": [
      "TPR mean: 33.0%  std: 20.6%\n",
      "FDR mean: 94.1%  std: 3.8%\n"
     ]
    },
    {
     "name": "stdout",
     "output_type": "stream",
     "text": [
      "[[0.67058565 0.63843718]\n",
      " [0.68725199 0.66317283]\n",
      " [0.6349     0.6064    ]]\n",
      "rec time now 2 dataset now: Syn6\n"
     ]
    },
    {
     "name": "stderr",
     "output_type": "stream",
     "text": [
      "TPR mean: 27.9%  std: 19.8%\n",
      "FDR mean: 93.8%  std: 4.6%\n"
     ]
    },
    {
     "name": "stdout",
     "output_type": "stream",
     "text": [
      "[[0.67058565 0.63367625]\n",
      " [0.68725199 0.65872331]\n",
      " [0.6349     0.6031    ]]\n",
      "rec time now 3 dataset now: Syn6\n"
     ]
    },
    {
     "name": "stderr",
     "output_type": "stream",
     "text": [
      "TPR mean: 25.5%  std: 19.5%\n",
      "FDR mean: 93.6%  std: 5.1%\n",
      "Epoch:      0, d_loss (Acc)): 0.663, v_loss (Acc): 0.635, g_loss: -1.4526\n"
     ]
    },
    {
     "name": "stdout",
     "output_type": "stream",
     "text": [
      "[[0.67058565 0.63350354]\n",
      " [0.68725199 0.65755989]\n",
      " [0.6349     0.6027    ]]\n",
      "now at training epoch number 200 hyp-params: lamda 1.0000 prior 0.0000\n",
      "rec time now 0 dataset now: Syn6\n"
     ]
    },
    {
     "name": "stderr",
     "output_type": "stream",
     "text": [
      "TPR mean: 43.0%  std: 21.5%\n",
      "FDR mean: 94.1%  std: 3.0%\n"
     ]
    },
    {
     "name": "stdout",
     "output_type": "stream",
     "text": [
      "[[0.67319007 0.65697429]\n",
      " [0.68309148 0.68115327]\n",
      " [0.6389     0.6187    ]]\n",
      "rec time now 1 dataset now: Syn6\n"
     ]
    },
    {
     "name": "stderr",
     "output_type": "stream",
     "text": [
      "TPR mean: 29.9%  std: 20.6%\n",
      "FDR mean: 93.0%  std: 5.1%\n"
     ]
    },
    {
     "name": "stdout",
     "output_type": "stream",
     "text": [
      "[[0.67319007 0.64889171]\n",
      " [0.68309148 0.67279323]\n",
      " [0.6389     0.6167    ]]\n",
      "rec time now 2 dataset now: Syn6\n"
     ]
    },
    {
     "name": "stderr",
     "output_type": "stream",
     "text": [
      "TPR mean: 24.9%  std: 19.7%\n",
      "FDR mean: 92.1%  std: 6.9%\n"
     ]
    },
    {
     "name": "stdout",
     "output_type": "stream",
     "text": [
      "[[0.67319007 0.64883675]\n",
      " [0.68309148 0.67287662]\n",
      " [0.6389     0.6181    ]]\n",
      "rec time now 3 dataset now: Syn6\n"
     ]
    },
    {
     "name": "stderr",
     "output_type": "stream",
     "text": [
      "TPR mean: 22.7%  std: 19.4%\n",
      "FDR mean: 91.4%  std: 8.3%\n",
      "Epoch:      0, d_loss (Acc)): 0.648, v_loss (Acc): 0.608, g_loss: -2.2394\n"
     ]
    },
    {
     "name": "stdout",
     "output_type": "stream",
     "text": [
      "[[0.67319007 0.6461651 ]\n",
      " [0.68309148 0.67068201]\n",
      " [0.6389     0.6134    ]]\n",
      "now at training epoch number 300 hyp-params: lamda 1.0000 prior 0.0000\n",
      "rec time now 0 dataset now: Syn6\n"
     ]
    },
    {
     "name": "stderr",
     "output_type": "stream",
     "text": [
      "TPR mean: 39.2%  std: 21.5%\n",
      "FDR mean: 93.5%  std: 3.8%\n"
     ]
    },
    {
     "name": "stdout",
     "output_type": "stream",
     "text": [
      "[[0.67494968 0.66820792]\n",
      " [0.69064594 0.69076884]\n",
      " [0.6366     0.6291    ]]\n",
      "rec time now 1 dataset now: Syn6\n"
     ]
    },
    {
     "name": "stderr",
     "output_type": "stream",
     "text": [
      "TPR mean: 26.3%  std: 20.4%\n",
      "FDR mean: 90.9%  std: 8.1%\n"
     ]
    },
    {
     "name": "stdout",
     "output_type": "stream",
     "text": [
      "[[0.67494968 0.66263211]\n",
      " [0.69064594 0.68214571]\n",
      " [0.6366     0.6245    ]]\n",
      "rec time now 2 dataset now: Syn6\n"
     ]
    },
    {
     "name": "stderr",
     "output_type": "stream",
     "text": [
      "TPR mean: 21.9%  std: 19.9%\n",
      "FDR mean: 88.0%  std: 13.3%\n"
     ]
    },
    {
     "name": "stdout",
     "output_type": "stream",
     "text": [
      "[[0.67494968 0.66288693]\n",
      " [0.69064594 0.68347604]\n",
      " [0.6366     0.6233    ]]\n",
      "rec time now 3 dataset now: Syn6\n"
     ]
    },
    {
     "name": "stderr",
     "output_type": "stream",
     "text": [
      "TPR mean: 20.2%  std: 19.7%\n",
      "FDR mean: 85.5%  std: 17.8%\n",
      "Epoch:      0, d_loss (Acc)): 0.663, v_loss (Acc): 0.602, g_loss: -3.6300\n"
     ]
    },
    {
     "name": "stdout",
     "output_type": "stream",
     "text": [
      "[[0.67494968 0.66166175]\n",
      " [0.69064594 0.68167813]\n",
      " [0.6366     0.6231    ]]\n",
      "now at training epoch number 400 hyp-params: lamda 1.0000 prior 0.0000\n",
      "rec time now 0 dataset now: Syn6\n"
     ]
    },
    {
     "name": "stderr",
     "output_type": "stream",
     "text": [
      "TPR mean: 35.5%  std: 22.1%\n",
      "FDR mean: 91.9%  std: 5.8%\n"
     ]
    },
    {
     "name": "stdout",
     "output_type": "stream",
     "text": [
      "[[0.67690118 0.67598523]\n",
      " [0.69483133 0.69797376]\n",
      " [0.6351     0.6309    ]]\n",
      "rec time now 1 dataset now: Syn6\n"
     ]
    },
    {
     "name": "stderr",
     "output_type": "stream",
     "text": [
      "TPR mean: 23.9%  std: 21.5%\n",
      "FDR mean: 84.6%  std: 17.3%\n"
     ]
    },
    {
     "name": "stdout",
     "output_type": "stream",
     "text": [
      "[[0.67690118 0.67173526]\n",
      " [0.69483133 0.6916487 ]\n",
      " [0.6351     0.6299    ]]\n",
      "rec time now 2 dataset now: Syn6\n"
     ]
    },
    {
     "name": "stderr",
     "output_type": "stream",
     "text": [
      "TPR mean: 20.8%  std: 21.4%\n",
      "FDR mean: 76.7%  std: 28.1%\n"
     ]
    },
    {
     "name": "stdout",
     "output_type": "stream",
     "text": [
      "[[0.67690118 0.67152775]\n",
      " [0.69483133 0.69043008]\n",
      " [0.6351     0.6307    ]]\n",
      "rec time now 3 dataset now: Syn6\n"
     ]
    },
    {
     "name": "stderr",
     "output_type": "stream",
     "text": [
      "TPR mean: 20.0%  std: 21.3%\n",
      "FDR mean: 72.6%  std: 32.3%\n",
      "Epoch:      0, d_loss (Acc)): 0.654, v_loss (Acc): 0.582, g_loss: -4.4198\n"
     ]
    },
    {
     "name": "stdout",
     "output_type": "stream",
     "text": [
      "[[0.67690118 0.67094781]\n",
      " [0.69483133 0.69133329]\n",
      " [0.6351     0.6299    ]]\n",
      "now at training epoch number 500 hyp-params: lamda 1.0000 prior 0.0000\n",
      "rec time now 0 dataset now: Syn6\n"
     ]
    },
    {
     "name": "stderr",
     "output_type": "stream",
     "text": [
      "TPR mean: 32.4%  std: 23.1%\n",
      "FDR mean: 88.0%  std: 11.0%\n"
     ]
    },
    {
     "name": "stdout",
     "output_type": "stream",
     "text": [
      "[[0.67959216 0.68261836]\n",
      " [0.69436005 0.70084927]\n",
      " [0.639      0.6434    ]]\n",
      "rec time now 1 dataset now: Syn6\n"
     ]
    },
    {
     "name": "stderr",
     "output_type": "stream",
     "text": [
      "TPR mean: 23.5%  std: 23.7%\n",
      "FDR mean: 70.7%  std: 33.3%\n"
     ]
    },
    {
     "name": "stdout",
     "output_type": "stream",
     "text": [
      "[[0.67959216 0.67942428]\n",
      " [0.69436005 0.69694437]\n",
      " [0.639      0.639     ]]\n",
      "rec time now 2 dataset now: Syn6\n"
     ]
    },
    {
     "name": "stderr",
     "output_type": "stream",
     "text": [
      "TPR mean: 22.3%  std: 23.8%\n",
      "FDR mean: 62.5%  std: 40.5%\n"
     ]
    },
    {
     "name": "stdout",
     "output_type": "stream",
     "text": [
      "[[0.67959216 0.67942241]\n",
      " [0.69436005 0.6952539 ]\n",
      " [0.639      0.6379    ]]\n",
      "rec time now 3 dataset now: Syn6\n"
     ]
    },
    {
     "name": "stderr",
     "output_type": "stream",
     "text": [
      "TPR mean: 22.1%  std: 23.8%\n",
      "FDR mean: 60.9%  std: 41.6%\n",
      "Epoch:      0, d_loss (Acc)): 0.654, v_loss (Acc): 0.561, g_loss: -5.7584\n"
     ]
    },
    {
     "name": "stdout",
     "output_type": "stream",
     "text": [
      "[[0.67959216 0.67992345]\n",
      " [0.69436005 0.69610589]\n",
      " [0.639      0.639     ]]\n",
      "now at training epoch number 600 hyp-params: lamda 1.0000 prior 0.0000\n",
      "rec time now 0 dataset now: Syn6\n"
     ]
    },
    {
     "name": "stderr",
     "output_type": "stream",
     "text": [
      "TPR mean: 29.4%  std: 24.9%\n",
      "FDR mean: 78.8%  std: 23.4%\n"
     ]
    },
    {
     "name": "stdout",
     "output_type": "stream",
     "text": [
      "[[0.67700235 0.68472632]\n",
      " [0.69733016 0.70013031]\n",
      " [0.6344     0.6399    ]]\n",
      "rec time now 1 dataset now: Syn6\n"
     ]
    },
    {
     "name": "stderr",
     "output_type": "stream",
     "text": [
      "TPR mean: 24.7%  std: 26.0%\n",
      "FDR mean: 57.0%  std: 44.9%\n"
     ]
    },
    {
     "name": "stdout",
     "output_type": "stream",
     "text": [
      "[[0.67700235 0.68433623]\n",
      " [0.69733016 0.69735156]\n",
      " [0.6344     0.6434    ]]\n",
      "rec time now 2 dataset now: Syn6\n"
     ]
    },
    {
     "name": "stderr",
     "output_type": "stream",
     "text": [
      "TPR mean: 24.4%  std: 26.0%\n",
      "FDR mean: 53.9%  std: 46.8%\n"
     ]
    },
    {
     "name": "stdout",
     "output_type": "stream",
     "text": [
      "[[0.67700235 0.6839296 ]\n",
      " [0.69733016 0.69765379]\n",
      " [0.6344     0.6441    ]]\n",
      "rec time now 3 dataset now: Syn6\n"
     ]
    },
    {
     "name": "stderr",
     "output_type": "stream",
     "text": [
      "TPR mean: 24.4%  std: 26.0%\n",
      "FDR mean: 53.8%  std: 47.0%\n",
      "Epoch:      0, d_loss (Acc)): 0.630, v_loss (Acc): 0.541, g_loss: -5.4180\n"
     ]
    },
    {
     "name": "stdout",
     "output_type": "stream",
     "text": [
      "[[0.67700235 0.68395673]\n",
      " [0.69733016 0.69771809]\n",
      " [0.6344     0.6439    ]]\n",
      "now at training epoch number 700 hyp-params: lamda 1.0000 prior 0.0000\n",
      "rec time now 0 dataset now: Syn6\n"
     ]
    },
    {
     "name": "stderr",
     "output_type": "stream",
     "text": [
      "TPR mean: 27.6%  std: 26.4%\n",
      "FDR mean: 64.1%  std: 38.7%\n"
     ]
    },
    {
     "name": "stdout",
     "output_type": "stream",
     "text": [
      "[[0.67893413 0.68548524]\n",
      " [0.70042371 0.70145545]\n",
      " [0.6357     0.6435    ]]\n",
      "rec time now 1 dataset now: Syn6\n"
     ]
    },
    {
     "name": "stderr",
     "output_type": "stream",
     "text": [
      "TPR mean: 25.6%  std: 27.0%\n",
      "FDR mean: 50.8%  std: 49.2%\n"
     ]
    },
    {
     "name": "stdout",
     "output_type": "stream",
     "text": [
      "[[0.67893413 0.6849372 ]\n",
      " [0.70042371 0.69685034]\n",
      " [0.6357     0.6457    ]]\n",
      "rec time now 2 dataset now: Syn6\n"
     ]
    },
    {
     "name": "stderr",
     "output_type": "stream",
     "text": [
      "TPR mean: 25.6%  std: 26.9%\n",
      "FDR mean: 50.3%  std: 49.5%\n"
     ]
    },
    {
     "name": "stdout",
     "output_type": "stream",
     "text": [
      "[[0.67893413 0.68539864]\n",
      " [0.70042371 0.697397  ]\n",
      " [0.6357     0.6457    ]]\n",
      "rec time now 3 dataset now: Syn6\n"
     ]
    },
    {
     "name": "stderr",
     "output_type": "stream",
     "text": [
      "TPR mean: 25.6%  std: 26.9%\n",
      "FDR mean: 50.3%  std: 49.5%\n",
      "Epoch:      0, d_loss (Acc)): 0.630, v_loss (Acc): 0.513, g_loss: -6.7684\n"
     ]
    },
    {
     "name": "stdout",
     "output_type": "stream",
     "text": [
      "[[0.67893413 0.68541395]\n",
      " [0.70042371 0.6974094 ]\n",
      " [0.6357     0.6457    ]]\n",
      "now at training epoch number 800 hyp-params: lamda 1.0000 prior 0.0000\n",
      "rec time now 0 dataset now: Syn6\n"
     ]
    },
    {
     "name": "stderr",
     "output_type": "stream",
     "text": [
      "TPR mean: 28.3%  std: 28.1%\n",
      "FDR mean: 53.3%  std: 47.3%\n"
     ]
    },
    {
     "name": "stdout",
     "output_type": "stream",
     "text": [
      "[[0.67719757 0.68524756]\n",
      " [0.70122661 0.69860309]\n",
      " [0.6347     0.6441    ]]\n",
      "rec time now 1 dataset now: Syn6\n"
     ]
    },
    {
     "name": "stderr",
     "output_type": "stream",
     "text": [
      "TPR mean: 27.6%  std: 28.5%\n",
      "FDR mean: 50.0%  std: 50.0%\n"
     ]
    },
    {
     "name": "stdout",
     "output_type": "stream",
     "text": [
      "[[0.67719757 0.68433726]\n",
      " [0.70122661 0.69557688]\n",
      " [0.6347     0.6454    ]]\n",
      "rec time now 2 dataset now: Syn6\n"
     ]
    },
    {
     "name": "stderr",
     "output_type": "stream",
     "text": [
      "TPR mean: 27.6%  std: 28.5%\n",
      "FDR mean: 50.0%  std: 50.0%\n"
     ]
    },
    {
     "name": "stdout",
     "output_type": "stream",
     "text": [
      "[[0.67719757 0.68433849]\n",
      " [0.70122661 0.69560963]\n",
      " [0.6347     0.6455    ]]\n",
      "rec time now 3 dataset now: Syn6\n"
     ]
    },
    {
     "name": "stderr",
     "output_type": "stream",
     "text": [
      "TPR mean: 27.6%  std: 28.5%\n",
      "FDR mean: 50.0%  std: 50.0%\n",
      "Epoch:      0, d_loss (Acc)): 0.629, v_loss (Acc): 0.475, g_loss: -8.3348\n"
     ]
    },
    {
     "name": "stdout",
     "output_type": "stream",
     "text": [
      "[[0.67719757 0.68433849]\n",
      " [0.70122661 0.69560963]\n",
      " [0.6347     0.6455    ]]\n",
      "now at training epoch number 900 hyp-params: lamda 1.0000 prior 0.0000\n",
      "rec time now 0 dataset now: Syn6\n"
     ]
    },
    {
     "name": "stderr",
     "output_type": "stream",
     "text": [
      "TPR mean: 28.1%  std: 28.6%\n",
      "FDR mean: 50.6%  std: 49.5%\n"
     ]
    },
    {
     "name": "stdout",
     "output_type": "stream",
     "text": [
      "[[0.67854864 0.68505858]\n",
      " [0.70094067 0.69408054]\n",
      " [0.6305     0.646     ]]\n",
      "rec time now 1 dataset now: Syn6\n"
     ]
    },
    {
     "name": "stderr",
     "output_type": "stream",
     "text": [
      "TPR mean: 27.9%  std: 28.7%\n",
      "FDR mean: 50.3%  std: 50.0%\n"
     ]
    },
    {
     "name": "stdout",
     "output_type": "stream",
     "text": [
      "[[0.67854864 0.68379364]\n",
      " [0.70094067 0.69355512]\n",
      " [0.6305     0.6451    ]]\n",
      "rec time now 2 dataset now: Syn6\n"
     ]
    },
    {
     "name": "stderr",
     "output_type": "stream",
     "text": [
      "TPR mean: 27.9%  std: 28.7%\n",
      "FDR mean: 50.3%  std: 50.0%\n"
     ]
    },
    {
     "name": "stdout",
     "output_type": "stream",
     "text": [
      "[[0.67854864 0.68379229]\n",
      " [0.70094067 0.69355308]\n",
      " [0.6305     0.6451    ]]\n",
      "rec time now 3 dataset now: Syn6\n"
     ]
    },
    {
     "name": "stderr",
     "output_type": "stream",
     "text": [
      "TPR mean: 27.9%  std: 28.7%\n",
      "FDR mean: 50.3%  std: 50.0%\n",
      "Epoch:      0, d_loss (Acc)): 0.633, v_loss (Acc): 0.464, g_loss: -8.2432\n"
     ]
    },
    {
     "name": "stdout",
     "output_type": "stream",
     "text": [
      "[[0.67854864 0.68379229]\n",
      " [0.70094067 0.69355308]\n",
      " [0.6305     0.6451    ]]\n",
      "now at training epoch number 1000 hyp-params: lamda 1.0000 prior 0.0000\n",
      "rec time now 0 dataset now: Syn6\n"
     ]
    },
    {
     "name": "stderr",
     "output_type": "stream",
     "text": [
      "TPR mean: 28.0%  std: 28.7%\n",
      "FDR mean: 50.5%  std: 49.9%\n"
     ]
    },
    {
     "name": "stdout",
     "output_type": "stream",
     "text": [
      "[[0.6810854  0.68243869]\n",
      " [0.70741658 0.68987017]\n",
      " [0.6335     0.6423    ]]\n",
      "rec time now 1 dataset now: Syn6\n"
     ]
    },
    {
     "name": "stderr",
     "output_type": "stream",
     "text": [
      "TPR mean: 27.9%  std: 28.7%\n",
      "FDR mean: 50.4%  std: 50.0%\n"
     ]
    },
    {
     "name": "stdout",
     "output_type": "stream",
     "text": [
      "[[0.6810854  0.68105201]\n",
      " [0.70741658 0.6886163 ]\n",
      " [0.6335     0.6433    ]]\n",
      "rec time now 2 dataset now: Syn6\n"
     ]
    },
    {
     "name": "stderr",
     "output_type": "stream",
     "text": [
      "TPR mean: 27.9%  std: 28.7%\n",
      "FDR mean: 50.4%  std: 50.0%\n"
     ]
    },
    {
     "name": "stdout",
     "output_type": "stream",
     "text": [
      "[[0.6810854  0.68105201]\n",
      " [0.70741658 0.6886163 ]\n",
      " [0.6335     0.6433    ]]\n",
      "rec time now 3 dataset now: Syn6\n"
     ]
    },
    {
     "name": "stderr",
     "output_type": "stream",
     "text": [
      "TPR mean: 27.9%  std: 28.7%\n",
      "FDR mean: 50.4%  std: 50.0%\n",
      "Epoch:      0, d_loss (Acc)): 0.653, v_loss (Acc): 0.447, g_loss: -8.5935\n"
     ]
    },
    {
     "name": "stdout",
     "output_type": "stream",
     "text": [
      "[[0.6810854  0.68105201]\n",
      " [0.70741658 0.6886163 ]\n",
      " [0.6335     0.6433    ]]\n",
      "now at training epoch number 1100 hyp-params: lamda 1.0000 prior 0.0000\n",
      "rec time now 0 dataset now: Syn6\n"
     ]
    },
    {
     "name": "stderr",
     "output_type": "stream",
     "text": [
      "TPR mean: 27.7%  std: 28.5%\n",
      "FDR mean: 50.4%  std: 50.0%\n"
     ]
    },
    {
     "name": "stdout",
     "output_type": "stream",
     "text": [
      "[[0.67782545 0.6805394 ]\n",
      " [0.7073757  0.68725944]\n",
      " [0.6304     0.6431    ]]\n",
      "rec time now 1 dataset now: Syn6\n"
     ]
    },
    {
     "name": "stderr",
     "output_type": "stream",
     "text": [
      "TPR mean: 27.3%  std: 28.3%\n",
      "FDR mean: 50.5%  std: 50.0%\n"
     ]
    },
    {
     "name": "stdout",
     "output_type": "stream",
     "text": [
      "[[0.67782545 0.67983798]\n",
      " [0.7073757  0.68689974]\n",
      " [0.6304     0.6408    ]]\n",
      "rec time now 2 dataset now: Syn6\n"
     ]
    },
    {
     "name": "stderr",
     "output_type": "stream",
     "text": [
      "TPR mean: 27.3%  std: 28.3%\n",
      "FDR mean: 50.5%  std: 50.0%\n"
     ]
    },
    {
     "name": "stdout",
     "output_type": "stream",
     "text": [
      "[[0.67782545 0.67983798]\n",
      " [0.7073757  0.68689974]\n",
      " [0.6304     0.6408    ]]\n",
      "rec time now 3 dataset now: Syn6\n"
     ]
    },
    {
     "name": "stderr",
     "output_type": "stream",
     "text": [
      "TPR mean: 27.3%  std: 28.3%\n",
      "FDR mean: 50.5%  std: 50.0%\n",
      "Epoch:      0, d_loss (Acc)): 0.618, v_loss (Acc): 0.396, g_loss: -7.7172\n"
     ]
    },
    {
     "name": "stdout",
     "output_type": "stream",
     "text": [
      "[[0.67782545 0.67983798]\n",
      " [0.7073757  0.68689974]\n",
      " [0.6304     0.6408    ]]\n",
      "now at training epoch number 1200 hyp-params: lamda 1.0000 prior 0.0000\n",
      "rec time now 0 dataset now: Syn6\n"
     ]
    },
    {
     "name": "stderr",
     "output_type": "stream",
     "text": [
      "TPR mean: 27.5%  std: 28.4%\n",
      "FDR mean: 50.5%  std: 50.0%\n"
     ]
    },
    {
     "name": "stdout",
     "output_type": "stream",
     "text": [
      "[[0.67973305 0.68529039]\n",
      " [0.70759574 0.69045668]\n",
      " [0.6326     0.6487    ]]\n",
      "rec time now 1 dataset now: Syn6\n"
     ]
    },
    {
     "name": "stderr",
     "output_type": "stream",
     "text": [
      "TPR mean: 26.7%  std: 27.8%\n",
      "FDR mean: 50.5%  std: 50.0%\n"
     ]
    },
    {
     "name": "stdout",
     "output_type": "stream",
     "text": [
      "[[0.67973305 0.68410955]\n",
      " [0.70759574 0.68985573]\n",
      " [0.6326     0.6476    ]]\n",
      "rec time now 2 dataset now: Syn6\n"
     ]
    },
    {
     "name": "stderr",
     "output_type": "stream",
     "text": [
      "TPR mean: 26.7%  std: 27.8%\n",
      "FDR mean: 50.5%  std: 50.0%\n"
     ]
    },
    {
     "name": "stdout",
     "output_type": "stream",
     "text": [
      "[[0.67973305 0.68410955]\n",
      " [0.70759574 0.68985573]\n",
      " [0.6326     0.6476    ]]\n",
      "rec time now 3 dataset now: Syn6\n"
     ]
    },
    {
     "name": "stderr",
     "output_type": "stream",
     "text": [
      "TPR mean: 26.7%  std: 27.8%\n",
      "FDR mean: 50.5%  std: 50.0%\n",
      "Epoch:      0, d_loss (Acc)): 0.633, v_loss (Acc): 0.371, g_loss: -7.5800\n"
     ]
    },
    {
     "name": "stdout",
     "output_type": "stream",
     "text": [
      "[[0.67973305 0.68410955]\n",
      " [0.70759574 0.68985573]\n",
      " [0.6326     0.6476    ]]\n",
      "now at training epoch number 1300 hyp-params: lamda 1.0000 prior 0.0000\n",
      "rec time now 0 dataset now: Syn6\n"
     ]
    },
    {
     "name": "stderr",
     "output_type": "stream",
     "text": [
      "TPR mean: 27.7%  std: 28.6%\n",
      "FDR mean: 50.5%  std: 50.0%\n"
     ]
    },
    {
     "name": "stdout",
     "output_type": "stream",
     "text": [
      "[[0.67508558 0.68726527]\n",
      " [0.70254218 0.69203049]\n",
      " [0.6287     0.6536    ]]\n",
      "rec time now 1 dataset now: Syn6\n"
     ]
    },
    {
     "name": "stderr",
     "output_type": "stream",
     "text": [
      "TPR mean: 27.2%  std: 28.2%\n",
      "FDR mean: 50.5%  std: 50.0%\n"
     ]
    },
    {
     "name": "stdout",
     "output_type": "stream",
     "text": [
      "[[0.67508558 0.6860135 ]\n",
      " [0.70254218 0.69141005]\n",
      " [0.6287     0.6519    ]]\n",
      "rec time now 2 dataset now: Syn6\n"
     ]
    },
    {
     "name": "stderr",
     "output_type": "stream",
     "text": [
      "TPR mean: 27.2%  std: 28.2%\n",
      "FDR mean: 50.5%  std: 50.0%\n"
     ]
    },
    {
     "name": "stdout",
     "output_type": "stream",
     "text": [
      "[[0.67508558 0.6860135 ]\n",
      " [0.70254218 0.69141005]\n",
      " [0.6287     0.6519    ]]\n",
      "rec time now 3 dataset now: Syn6\n"
     ]
    },
    {
     "name": "stderr",
     "output_type": "stream",
     "text": [
      "TPR mean: 27.2%  std: 28.2%\n",
      "FDR mean: 50.5%  std: 50.0%\n",
      "Epoch:      0, d_loss (Acc)): 0.629, v_loss (Acc): 0.351, g_loss: -7.0265\n"
     ]
    },
    {
     "name": "stdout",
     "output_type": "stream",
     "text": [
      "[[0.67508558 0.6860135 ]\n",
      " [0.70254218 0.69141005]\n",
      " [0.6287     0.6519    ]]\n",
      "now at training epoch number 1400 hyp-params: lamda 1.0000 prior 0.0000\n",
      "rec time now 0 dataset now: Syn6\n"
     ]
    },
    {
     "name": "stderr",
     "output_type": "stream",
     "text": [
      "TPR mean: 29.7%  std: 29.6%\n",
      "FDR mean: 49.9%  std: 49.5%\n"
     ]
    },
    {
     "name": "stdout",
     "output_type": "stream",
     "text": [
      "[[0.6787317  0.68786477]\n",
      " [0.7043222  0.6935827 ]\n",
      " [0.6335     0.6519    ]]\n",
      "rec time now 1 dataset now: Syn6\n"
     ]
    },
    {
     "name": "stderr",
     "output_type": "stream",
     "text": [
      "TPR mean: 28.9%  std: 29.5%\n",
      "FDR mean: 50.5%  std: 50.0%\n"
     ]
    },
    {
     "name": "stdout",
     "output_type": "stream",
     "text": [
      "[[0.6787317  0.68860623]\n",
      " [0.7043222  0.69633633]\n",
      " [0.6335     0.6516    ]]\n",
      "rec time now 2 dataset now: Syn6\n"
     ]
    },
    {
     "name": "stderr",
     "output_type": "stream",
     "text": [
      "TPR mean: 28.9%  std: 29.5%\n",
      "FDR mean: 50.5%  std: 50.0%\n"
     ]
    },
    {
     "name": "stdout",
     "output_type": "stream",
     "text": [
      "[[0.6787317  0.68860623]\n",
      " [0.7043222  0.69633633]\n",
      " [0.6335     0.6516    ]]\n",
      "rec time now 3 dataset now: Syn6\n"
     ]
    },
    {
     "name": "stderr",
     "output_type": "stream",
     "text": [
      "TPR mean: 28.9%  std: 29.5%\n",
      "FDR mean: 50.5%  std: 50.0%\n",
      "Epoch:      0, d_loss (Acc)): 0.621, v_loss (Acc): 0.314, g_loss: -6.6345\n"
     ]
    },
    {
     "name": "stdout",
     "output_type": "stream",
     "text": [
      "[[0.6787317  0.68860623]\n",
      " [0.7043222  0.69633633]\n",
      " [0.6335     0.6516    ]]\n",
      "now at training epoch number 1500 hyp-params: lamda 1.0000 prior 0.0000\n",
      "rec time now 0 dataset now: Syn6\n"
     ]
    },
    {
     "name": "stderr",
     "output_type": "stream",
     "text": [
      "TPR mean: 49.6%  std: 29.9%\n",
      "FDR mean: 37.4%  std: 37.1%\n"
     ]
    },
    {
     "name": "stdout",
     "output_type": "stream",
     "text": [
      "[[0.67618641 0.71350068]\n",
      " [0.70306118 0.73215152]\n",
      " [0.6323     0.6666    ]]\n",
      "rec time now 1 dataset now: Syn6\n"
     ]
    },
    {
     "name": "stderr",
     "output_type": "stream",
     "text": [
      "TPR mean: 49.5%  std: 29.9%\n",
      "FDR mean: 37.4%  std: 37.1%\n"
     ]
    },
    {
     "name": "stdout",
     "output_type": "stream",
     "text": [
      "[[0.67618641 0.71279577]\n",
      " [0.70306118 0.73146495]\n",
      " [0.6323     0.6665    ]]\n",
      "rec time now 2 dataset now: Syn6\n"
     ]
    },
    {
     "name": "stderr",
     "output_type": "stream",
     "text": [
      "TPR mean: 49.5%  std: 29.9%\n",
      "FDR mean: 37.4%  std: 37.1%\n"
     ]
    },
    {
     "name": "stdout",
     "output_type": "stream",
     "text": [
      "[[0.67618641 0.71279577]\n",
      " [0.70306118 0.73146495]\n",
      " [0.6323     0.6665    ]]\n",
      "rec time now 3 dataset now: Syn6\n"
     ]
    },
    {
     "name": "stderr",
     "output_type": "stream",
     "text": [
      "TPR mean: 49.5%  std: 29.9%\n",
      "FDR mean: 37.4%  std: 37.1%\n",
      "Epoch:      0, d_loss (Acc)): 0.596, v_loss (Acc): 0.282, g_loss: -6.0268\n"
     ]
    },
    {
     "name": "stdout",
     "output_type": "stream",
     "text": [
      "[[0.67618641 0.71279577]\n",
      " [0.70306118 0.73146495]\n",
      " [0.6323     0.6665    ]]\n",
      "now at training epoch number 1600 hyp-params: lamda 1.0000 prior 0.0000\n",
      "rec time now 0 dataset now: Syn6\n"
     ]
    },
    {
     "name": "stderr",
     "output_type": "stream",
     "text": [
      "TPR mean: 49.7%  std: 29.9%\n",
      "FDR mean: 37.7%  std: 37.3%\n"
     ]
    },
    {
     "name": "stdout",
     "output_type": "stream",
     "text": [
      "[[0.67282223 0.70395778]\n",
      " [0.69942243 0.71810577]\n",
      " [0.63       0.6638    ]]\n",
      "rec time now 1 dataset now: Syn6\n"
     ]
    },
    {
     "name": "stderr",
     "output_type": "stream",
     "text": [
      "TPR mean: 49.6%  std: 30.0%\n",
      "FDR mean: 37.7%  std: 37.3%\n"
     ]
    },
    {
     "name": "stdout",
     "output_type": "stream",
     "text": [
      "[[0.67282223 0.70266032]\n",
      " [0.69942243 0.71656995]\n",
      " [0.63       0.6638    ]]\n",
      "rec time now 2 dataset now: Syn6\n"
     ]
    },
    {
     "name": "stderr",
     "output_type": "stream",
     "text": [
      "TPR mean: 49.6%  std: 30.0%\n",
      "FDR mean: 37.7%  std: 37.3%\n"
     ]
    },
    {
     "name": "stdout",
     "output_type": "stream",
     "text": [
      "[[0.67282223 0.70266032]\n",
      " [0.69942243 0.71656995]\n",
      " [0.63       0.6638    ]]\n",
      "rec time now 3 dataset now: Syn6\n"
     ]
    },
    {
     "name": "stderr",
     "output_type": "stream",
     "text": [
      "TPR mean: 49.6%  std: 30.0%\n",
      "FDR mean: 37.7%  std: 37.3%\n",
      "Epoch:      0, d_loss (Acc)): 0.591, v_loss (Acc): 0.270, g_loss: -5.3756\n"
     ]
    },
    {
     "name": "stdout",
     "output_type": "stream",
     "text": [
      "[[0.67282223 0.70266032]\n",
      " [0.69942243 0.71656995]\n",
      " [0.63       0.6638    ]]\n",
      "now at training epoch number 1700 hyp-params: lamda 1.0000 prior 0.0000\n",
      "rec time now 0 dataset now: Syn6\n"
     ]
    },
    {
     "name": "stderr",
     "output_type": "stream",
     "text": [
      "TPR mean: 49.9%  std: 29.8%\n",
      "FDR mean: 37.7%  std: 37.3%\n"
     ]
    },
    {
     "name": "stdout",
     "output_type": "stream",
     "text": [
      "[[0.67292713 0.71105546]\n",
      " [0.69905257 0.72750075]\n",
      " [0.629      0.6681    ]]\n",
      "rec time now 1 dataset now: Syn6\n"
     ]
    },
    {
     "name": "stderr",
     "output_type": "stream",
     "text": [
      "TPR mean: 49.7%  std: 30.0%\n",
      "FDR mean: 37.8%  std: 37.4%\n"
     ]
    },
    {
     "name": "stdout",
     "output_type": "stream",
     "text": [
      "[[0.67292713 0.7083029 ]\n",
      " [0.69905257 0.72451838]\n",
      " [0.629      0.6669    ]]\n",
      "rec time now 2 dataset now: Syn6\n"
     ]
    },
    {
     "name": "stderr",
     "output_type": "stream",
     "text": [
      "TPR mean: 49.7%  std: 30.0%\n",
      "FDR mean: 37.8%  std: 37.4%\n"
     ]
    },
    {
     "name": "stdout",
     "output_type": "stream",
     "text": [
      "[[0.67292713 0.7083029 ]\n",
      " [0.69905257 0.72451838]\n",
      " [0.629      0.6669    ]]\n",
      "rec time now 3 dataset now: Syn6\n"
     ]
    },
    {
     "name": "stderr",
     "output_type": "stream",
     "text": [
      "TPR mean: 49.7%  std: 30.0%\n",
      "FDR mean: 37.8%  std: 37.4%\n",
      "Epoch:      0, d_loss (Acc)): 0.592, v_loss (Acc): 0.238, g_loss: -5.3660\n"
     ]
    },
    {
     "name": "stdout",
     "output_type": "stream",
     "text": [
      "[[0.67292713 0.7083029 ]\n",
      " [0.69905257 0.72451838]\n",
      " [0.629      0.6669    ]]\n",
      "now at training epoch number 1800 hyp-params: lamda 1.0000 prior 0.0000\n",
      "rec time now 0 dataset now: Syn6\n"
     ]
    },
    {
     "name": "stderr",
     "output_type": "stream",
     "text": [
      "TPR mean: 53.9%  std: 27.1%\n",
      "FDR mean: 35.7%  std: 34.3%\n"
     ]
    },
    {
     "name": "stdout",
     "output_type": "stream",
     "text": [
      "[[0.66973678 0.72730102]\n",
      " [0.69349475 0.74039411]\n",
      " [0.6294     0.6783    ]]\n",
      "rec time now 1 dataset now: Syn6\n"
     ]
    },
    {
     "name": "stderr",
     "output_type": "stream",
     "text": [
      "TPR mean: 50.9%  std: 29.3%\n",
      "FDR mean: 37.0%  std: 36.8%\n"
     ]
    },
    {
     "name": "stdout",
     "output_type": "stream",
     "text": [
      "[[0.66973678 0.70206016]\n",
      " [0.69349475 0.7127336 ]\n",
      " [0.6294     0.6647    ]]\n",
      "rec time now 2 dataset now: Syn6\n"
     ]
    },
    {
     "name": "stderr",
     "output_type": "stream",
     "text": [
      "TPR mean: 50.9%  std: 29.3%\n",
      "FDR mean: 37.0%  std: 36.8%\n"
     ]
    },
    {
     "name": "stdout",
     "output_type": "stream",
     "text": [
      "[[0.66973678 0.70208325]\n",
      " [0.69349475 0.71267275]\n",
      " [0.6294     0.6648    ]]\n",
      "rec time now 3 dataset now: Syn6\n"
     ]
    },
    {
     "name": "stderr",
     "output_type": "stream",
     "text": [
      "TPR mean: 50.9%  std: 29.3%\n",
      "FDR mean: 37.0%  std: 36.8%\n",
      "Epoch:      0, d_loss (Acc)): 0.569, v_loss (Acc): 0.208, g_loss: -4.8978\n"
     ]
    },
    {
     "name": "stdout",
     "output_type": "stream",
     "text": [
      "[[0.66973678 0.70208325]\n",
      " [0.69349475 0.71267275]\n",
      " [0.6294     0.6648    ]]\n",
      "now at training epoch number 1900 hyp-params: lamda 1.0000 prior 0.0000\n",
      "rec time now 0 dataset now: Syn6\n"
     ]
    },
    {
     "name": "stderr",
     "output_type": "stream",
     "text": [
      "TPR mean: 67.5%  std: 13.9%\n",
      "FDR mean: 38.4%  std: 16.2%\n"
     ]
    },
    {
     "name": "stdout",
     "output_type": "stream",
     "text": [
      "[[0.67059654 0.78531241]\n",
      " [0.69571012 0.80107729]\n",
      " [0.6281     0.7134    ]]\n",
      "rec time now 1 dataset now: Syn6\n"
     ]
    },
    {
     "name": "stderr",
     "output_type": "stream",
     "text": [
      "TPR mean: 67.5%  std: 13.9%\n",
      "FDR mean: 37.7%  std: 17.0%\n"
     ]
    },
    {
     "name": "stdout",
     "output_type": "stream",
     "text": [
      "[[0.67059654 0.78562072]\n",
      " [0.69571012 0.8011206 ]\n",
      " [0.6281     0.7139    ]]\n",
      "rec time now 2 dataset now: Syn6\n"
     ]
    },
    {
     "name": "stderr",
     "output_type": "stream",
     "text": [
      "TPR mean: 67.5%  std: 13.9%\n",
      "FDR mean: 37.7%  std: 17.0%\n"
     ]
    },
    {
     "name": "stdout",
     "output_type": "stream",
     "text": [
      "[[0.67059654 0.78562072]\n",
      " [0.69571012 0.8011206 ]\n",
      " [0.6281     0.7139    ]]\n",
      "rec time now 3 dataset now: Syn6\n"
     ]
    },
    {
     "name": "stderr",
     "output_type": "stream",
     "text": [
      "TPR mean: 67.5%  std: 13.9%\n",
      "FDR mean: 37.7%  std: 17.0%\n",
      "Epoch:      0, d_loss (Acc)): 0.544, v_loss (Acc): 0.185, g_loss: -4.1284\n"
     ]
    },
    {
     "name": "stdout",
     "output_type": "stream",
     "text": [
      "[[0.67059654 0.78562072]\n",
      " [0.69571012 0.8011206 ]\n",
      " [0.6281     0.7139    ]]\n",
      "now at training epoch number 2000 hyp-params: lamda 1.0000 prior 0.0000\n",
      "rec time now 0 dataset now: Syn6\n"
     ]
    },
    {
     "name": "stderr",
     "output_type": "stream",
     "text": [
      "TPR mean: 69.8%  std: 10.1%\n",
      "FDR mean: 41.6%  std: 8.7%\n"
     ]
    },
    {
     "name": "stdout",
     "output_type": "stream",
     "text": [
      "[[0.66831462 0.79046117]\n",
      " [0.69300972 0.80627327]\n",
      " [0.6238     0.7183    ]]\n",
      "rec time now 1 dataset now: Syn6\n"
     ]
    },
    {
     "name": "stderr",
     "output_type": "stream",
     "text": [
      "TPR mean: 69.8%  std: 10.1%\n",
      "FDR mean: 41.6%  std: 8.7%\n"
     ]
    },
    {
     "name": "stdout",
     "output_type": "stream",
     "text": [
      "[[0.66831462 0.79046117]\n",
      " [0.69300972 0.80627327]\n",
      " [0.6238     0.7183    ]]\n",
      "rec time now 2 dataset now: Syn6\n"
     ]
    },
    {
     "name": "stderr",
     "output_type": "stream",
     "text": [
      "TPR mean: 69.8%  std: 10.1%\n",
      "FDR mean: 41.6%  std: 8.7%\n"
     ]
    },
    {
     "name": "stdout",
     "output_type": "stream",
     "text": [
      "[[0.66831462 0.79046117]\n",
      " [0.69300972 0.80627327]\n",
      " [0.6238     0.7183    ]]\n",
      "rec time now 3 dataset now: Syn6\n"
     ]
    },
    {
     "name": "stderr",
     "output_type": "stream",
     "text": [
      "TPR mean: 69.8%  std: 10.1%\n",
      "FDR mean: 41.6%  std: 8.7%\n",
      "Epoch:      0, d_loss (Acc)): 0.554, v_loss (Acc): 0.166, g_loss: -4.3203\n"
     ]
    },
    {
     "name": "stdout",
     "output_type": "stream",
     "text": [
      "[[0.66831462 0.79046117]\n",
      " [0.69300972 0.80627327]\n",
      " [0.6238     0.7183    ]]\n",
      "now at training epoch number 2100 hyp-params: lamda 1.0000 prior 0.0000\n",
      "rec time now 0 dataset now: Syn6\n"
     ]
    },
    {
     "name": "stderr",
     "output_type": "stream",
     "text": [
      "TPR mean: 69.9%  std: 10.0%\n",
      "FDR mean: 41.8%  std: 8.3%\n"
     ]
    },
    {
     "name": "stdout",
     "output_type": "stream",
     "text": [
      "[[0.66826377 0.79488585]\n",
      " [0.69159634 0.80788097]\n",
      " [0.6251     0.7241    ]]\n",
      "rec time now 1 dataset now: Syn6\n"
     ]
    },
    {
     "name": "stderr",
     "output_type": "stream",
     "text": [
      "TPR mean: 69.9%  std: 10.0%\n",
      "FDR mean: 41.8%  std: 8.3%\n"
     ]
    },
    {
     "name": "stdout",
     "output_type": "stream",
     "text": [
      "[[0.66826377 0.79488585]\n",
      " [0.69159634 0.80788097]\n",
      " [0.6251     0.7241    ]]\n",
      "rec time now 2 dataset now: Syn6\n"
     ]
    },
    {
     "name": "stderr",
     "output_type": "stream",
     "text": [
      "TPR mean: 69.9%  std: 10.0%\n",
      "FDR mean: 41.8%  std: 8.3%\n"
     ]
    },
    {
     "name": "stdout",
     "output_type": "stream",
     "text": [
      "[[0.66826377 0.79488585]\n",
      " [0.69159634 0.80788097]\n",
      " [0.6251     0.7241    ]]\n",
      "rec time now 3 dataset now: Syn6\n"
     ]
    },
    {
     "name": "stderr",
     "output_type": "stream",
     "text": [
      "TPR mean: 69.9%  std: 10.0%\n",
      "FDR mean: 41.8%  std: 8.3%\n",
      "Epoch:      0, d_loss (Acc)): 0.547, v_loss (Acc): 0.153, g_loss: -3.5853\n"
     ]
    },
    {
     "name": "stdout",
     "output_type": "stream",
     "text": [
      "[[0.66826377 0.79488585]\n",
      " [0.69159634 0.80788097]\n",
      " [0.6251     0.7241    ]]\n",
      "now at training epoch number 2200 hyp-params: lamda 1.0000 prior 0.0000\n",
      "rec time now 0 dataset now: Syn6\n"
     ]
    },
    {
     "name": "stderr",
     "output_type": "stream",
     "text": [
      "TPR mean: 69.9%  std: 10.0%\n",
      "FDR mean: 41.8%  std: 8.3%\n"
     ]
    },
    {
     "name": "stdout",
     "output_type": "stream",
     "text": [
      "[[0.66801189 0.79674393]\n",
      " [0.69357326 0.80959899]\n",
      " [0.6251     0.7251    ]]\n",
      "rec time now 1 dataset now: Syn6\n"
     ]
    },
    {
     "name": "stderr",
     "output_type": "stream",
     "text": [
      "TPR mean: 69.9%  std: 10.0%\n",
      "FDR mean: 41.8%  std: 8.3%\n"
     ]
    },
    {
     "name": "stdout",
     "output_type": "stream",
     "text": [
      "[[0.66801189 0.79674393]\n",
      " [0.69357326 0.80959899]\n",
      " [0.6251     0.7251    ]]\n",
      "rec time now 2 dataset now: Syn6\n"
     ]
    },
    {
     "name": "stderr",
     "output_type": "stream",
     "text": [
      "TPR mean: 69.9%  std: 10.0%\n",
      "FDR mean: 41.8%  std: 8.3%\n"
     ]
    },
    {
     "name": "stdout",
     "output_type": "stream",
     "text": [
      "[[0.66801189 0.79674393]\n",
      " [0.69357326 0.80959899]\n",
      " [0.6251     0.7251    ]]\n",
      "rec time now 3 dataset now: Syn6\n"
     ]
    },
    {
     "name": "stderr",
     "output_type": "stream",
     "text": [
      "TPR mean: 69.9%  std: 10.0%\n",
      "FDR mean: 41.8%  std: 8.3%\n",
      "Epoch:      0, d_loss (Acc)): 0.558, v_loss (Acc): 0.147, g_loss: -3.3009\n"
     ]
    },
    {
     "name": "stdout",
     "output_type": "stream",
     "text": [
      "[[0.66801189 0.79674393]\n",
      " [0.69357326 0.80959899]\n",
      " [0.6251     0.7251    ]]\n",
      "now at training epoch number 2300 hyp-params: lamda 1.0000 prior 0.0000\n",
      "rec time now 0 dataset now: Syn6\n"
     ]
    },
    {
     "name": "stderr",
     "output_type": "stream",
     "text": [
      "TPR mean: 69.9%  std: 10.0%\n",
      "FDR mean: 41.8%  std: 8.3%\n"
     ]
    },
    {
     "name": "stdout",
     "output_type": "stream",
     "text": [
      "[[0.66681361 0.79913296]\n",
      " [0.68978387 0.8099847 ]\n",
      " [0.6253     0.728     ]]\n",
      "rec time now 1 dataset now: Syn6\n"
     ]
    },
    {
     "name": "stderr",
     "output_type": "stream",
     "text": [
      "TPR mean: 69.9%  std: 10.0%\n",
      "FDR mean: 41.8%  std: 8.3%\n"
     ]
    },
    {
     "name": "stdout",
     "output_type": "stream",
     "text": [
      "[[0.66681361 0.79913296]\n",
      " [0.68978387 0.8099847 ]\n",
      " [0.6253     0.728     ]]\n",
      "rec time now 2 dataset now: Syn6\n"
     ]
    },
    {
     "name": "stderr",
     "output_type": "stream",
     "text": [
      "TPR mean: 69.9%  std: 10.0%\n",
      "FDR mean: 41.8%  std: 8.3%\n"
     ]
    },
    {
     "name": "stdout",
     "output_type": "stream",
     "text": [
      "[[0.66681361 0.79913296]\n",
      " [0.68978387 0.8099847 ]\n",
      " [0.6253     0.728     ]]\n",
      "rec time now 3 dataset now: Syn6\n"
     ]
    },
    {
     "name": "stderr",
     "output_type": "stream",
     "text": [
      "TPR mean: 69.9%  std: 10.0%\n",
      "FDR mean: 41.8%  std: 8.3%\n",
      "Epoch:      0, d_loss (Acc)): 0.534, v_loss (Acc): 0.133, g_loss: -3.0622\n"
     ]
    },
    {
     "name": "stdout",
     "output_type": "stream",
     "text": [
      "[[0.66681361 0.79913296]\n",
      " [0.68978387 0.8099847 ]\n",
      " [0.6253     0.728     ]]\n",
      "now at training epoch number 2400 hyp-params: lamda 1.0000 prior 0.0000\n",
      "rec time now 0 dataset now: Syn6\n"
     ]
    },
    {
     "name": "stderr",
     "output_type": "stream",
     "text": [
      "TPR mean: 69.9%  std: 10.0%\n",
      "FDR mean: 41.8%  std: 8.3%\n"
     ]
    },
    {
     "name": "stdout",
     "output_type": "stream",
     "text": [
      "[[0.66897581 0.79850072]\n",
      " [0.69387525 0.81037171]\n",
      " [0.6235     0.7272    ]]\n",
      "rec time now 1 dataset now: Syn6\n"
     ]
    },
    {
     "name": "stderr",
     "output_type": "stream",
     "text": [
      "TPR mean: 69.9%  std: 10.0%\n",
      "FDR mean: 41.8%  std: 8.3%\n"
     ]
    },
    {
     "name": "stdout",
     "output_type": "stream",
     "text": [
      "[[0.66897581 0.79850776]\n",
      " [0.69387525 0.81037427]\n",
      " [0.6235     0.7272    ]]\n",
      "rec time now 2 dataset now: Syn6\n"
     ]
    },
    {
     "name": "stderr",
     "output_type": "stream",
     "text": [
      "TPR mean: 69.9%  std: 10.0%\n",
      "FDR mean: 41.8%  std: 8.3%\n"
     ]
    },
    {
     "name": "stdout",
     "output_type": "stream",
     "text": [
      "[[0.66897581 0.79850776]\n",
      " [0.69387525 0.81037427]\n",
      " [0.6235     0.7272    ]]\n",
      "rec time now 3 dataset now: Syn6\n"
     ]
    },
    {
     "name": "stderr",
     "output_type": "stream",
     "text": [
      "TPR mean: 69.9%  std: 10.0%\n",
      "FDR mean: 41.8%  std: 8.3%\n",
      "Epoch:      0, d_loss (Acc)): 0.506, v_loss (Acc): 0.120, g_loss: -2.5933\n"
     ]
    },
    {
     "name": "stdout",
     "output_type": "stream",
     "text": [
      "[[0.66897581 0.79850776]\n",
      " [0.69387525 0.81037427]\n",
      " [0.6235     0.7272    ]]\n",
      "now at training epoch number 2500 hyp-params: lamda 1.0000 prior 0.0000\n",
      "rec time now 0 dataset now: Syn6\n"
     ]
    },
    {
     "name": "stderr",
     "output_type": "stream",
     "text": [
      "TPR mean: 69.9%  std: 10.0%\n",
      "FDR mean: 41.8%  std: 8.3%\n"
     ]
    },
    {
     "name": "stdout",
     "output_type": "stream",
     "text": [
      "[[0.66504828 0.80334835]\n",
      " [0.68950892 0.81279065]\n",
      " [0.6226     0.7331    ]]\n",
      "rec time now 1 dataset now: Syn6\n"
     ]
    },
    {
     "name": "stderr",
     "output_type": "stream",
     "text": [
      "TPR mean: 69.9%  std: 10.0%\n",
      "FDR mean: 41.8%  std: 8.3%\n"
     ]
    },
    {
     "name": "stdout",
     "output_type": "stream",
     "text": [
      "[[0.66504828 0.80335023]\n",
      " [0.68950892 0.81278744]\n",
      " [0.6226     0.7331    ]]\n",
      "rec time now 2 dataset now: Syn6\n"
     ]
    },
    {
     "name": "stderr",
     "output_type": "stream",
     "text": [
      "TPR mean: 69.9%  std: 10.0%\n",
      "FDR mean: 41.8%  std: 8.3%\n"
     ]
    },
    {
     "name": "stdout",
     "output_type": "stream",
     "text": [
      "[[0.66504828 0.80335023]\n",
      " [0.68950892 0.81278744]\n",
      " [0.6226     0.7331    ]]\n",
      "rec time now 3 dataset now: Syn6\n"
     ]
    },
    {
     "name": "stderr",
     "output_type": "stream",
     "text": [
      "TPR mean: 69.9%  std: 10.0%\n",
      "FDR mean: 41.8%  std: 8.3%\n",
      "Epoch:      0, d_loss (Acc)): 0.522, v_loss (Acc): 0.097, g_loss: -2.5519\n"
     ]
    },
    {
     "name": "stdout",
     "output_type": "stream",
     "text": [
      "[[0.66504828 0.80335023]\n",
      " [0.68950892 0.81278744]\n",
      " [0.6226     0.7331    ]]\n",
      "now at training epoch number 2600 hyp-params: lamda 1.0000 prior 0.0000\n",
      "rec time now 0 dataset now: Syn6\n"
     ]
    },
    {
     "name": "stderr",
     "output_type": "stream",
     "text": [
      "TPR mean: 70.3%  std: 10.0%\n",
      "FDR mean: 41.6%  std: 8.2%\n"
     ]
    },
    {
     "name": "stdout",
     "output_type": "stream",
     "text": [
      "[[0.66522006 0.80149206]\n",
      " [0.68866998 0.80719084]\n",
      " [0.6235     0.7352    ]]\n",
      "rec time now 1 dataset now: Syn6\n"
     ]
    },
    {
     "name": "stderr",
     "output_type": "stream",
     "text": [
      "TPR mean: 69.9%  std: 10.0%\n",
      "FDR mean: 41.8%  std: 8.3%\n"
     ]
    },
    {
     "name": "stdout",
     "output_type": "stream",
     "text": [
      "[[0.66522006 0.80050886]\n",
      " [0.68866998 0.80598121]\n",
      " [0.6235     0.7345    ]]\n",
      "rec time now 2 dataset now: Syn6\n"
     ]
    },
    {
     "name": "stderr",
     "output_type": "stream",
     "text": [
      "TPR mean: 69.9%  std: 10.0%\n",
      "FDR mean: 41.8%  std: 8.3%\n"
     ]
    },
    {
     "name": "stdout",
     "output_type": "stream",
     "text": [
      "[[0.66522006 0.80050886]\n",
      " [0.68866998 0.80598121]\n",
      " [0.6235     0.7345    ]]\n",
      "rec time now 3 dataset now: Syn6\n"
     ]
    },
    {
     "name": "stderr",
     "output_type": "stream",
     "text": [
      "TPR mean: 69.9%  std: 10.0%\n",
      "FDR mean: 41.8%  std: 8.3%\n",
      "Epoch:      0, d_loss (Acc)): 0.510, v_loss (Acc): 0.085, g_loss: -2.3082\n"
     ]
    },
    {
     "name": "stdout",
     "output_type": "stream",
     "text": [
      "[[0.66522006 0.80050886]\n",
      " [0.68866998 0.80598121]\n",
      " [0.6235     0.7345    ]]\n",
      "now at training epoch number 2700 hyp-params: lamda 1.0000 prior 0.0000\n",
      "rec time now 0 dataset now: Syn6\n"
     ]
    },
    {
     "name": "stderr",
     "output_type": "stream",
     "text": [
      "TPR mean: 74.0%  std: 9.2%\n",
      "FDR mean: 41.2%  std: 7.0%\n"
     ]
    },
    {
     "name": "stdout",
     "output_type": "stream",
     "text": [
      "[[0.66570544 0.81205896]\n",
      " [0.68976309 0.82115257]\n",
      " [0.6207     0.7411    ]]\n",
      "rec time now 1 dataset now: Syn6\n"
     ]
    },
    {
     "name": "stderr",
     "output_type": "stream",
     "text": [
      "TPR mean: 71.2%  std: 9.9%\n",
      "FDR mean: 41.3%  std: 8.0%\n"
     ]
    },
    {
     "name": "stdout",
     "output_type": "stream",
     "text": [
      "[[0.66570544 0.80669401]\n",
      " [0.68976309 0.815622  ]\n",
      " [0.6207     0.7385    ]]\n",
      "rec time now 2 dataset now: Syn6\n"
     ]
    },
    {
     "name": "stderr",
     "output_type": "stream",
     "text": [
      "TPR mean: 71.2%  std: 9.9%\n",
      "FDR mean: 41.3%  std: 8.0%\n"
     ]
    },
    {
     "name": "stdout",
     "output_type": "stream",
     "text": [
      "[[0.66570544 0.80669401]\n",
      " [0.68976309 0.815622  ]\n",
      " [0.6207     0.7385    ]]\n",
      "rec time now 3 dataset now: Syn6\n"
     ]
    },
    {
     "name": "stderr",
     "output_type": "stream",
     "text": [
      "TPR mean: 71.2%  std: 9.9%\n",
      "FDR mean: 41.3%  std: 8.0%\n",
      "Epoch:      0, d_loss (Acc)): 0.513, v_loss (Acc): 0.069, g_loss: -2.2648\n"
     ]
    },
    {
     "name": "stdout",
     "output_type": "stream",
     "text": [
      "[[0.66570544 0.80669401]\n",
      " [0.68976309 0.815622  ]\n",
      " [0.6207     0.7385    ]]\n",
      "now at training epoch number 2800 hyp-params: lamda 1.0000 prior 0.0000\n",
      "rec time now 0 dataset now: Syn6\n"
     ]
    },
    {
     "name": "stderr",
     "output_type": "stream",
     "text": [
      "TPR mean: 78.3%  std: 5.6%\n",
      "FDR mean: 41.7%  std: 4.5%\n"
     ]
    },
    {
     "name": "stdout",
     "output_type": "stream",
     "text": [
      "[[0.6640672  0.82323974]\n",
      " [0.68799507 0.83086134]\n",
      " [0.6198     0.7526    ]]\n",
      "rec time now 1 dataset now: Syn6\n"
     ]
    },
    {
     "name": "stderr",
     "output_type": "stream",
     "text": [
      "TPR mean: 78.3%  std: 5.6%\n",
      "FDR mean: 41.3%  std: 4.7%\n"
     ]
    },
    {
     "name": "stdout",
     "output_type": "stream",
     "text": [
      "[[0.6640672  0.82348794]\n",
      " [0.68799507 0.83096189]\n",
      " [0.6198     0.7535    ]]\n",
      "rec time now 2 dataset now: Syn6\n"
     ]
    },
    {
     "name": "stderr",
     "output_type": "stream",
     "text": [
      "TPR mean: 78.3%  std: 5.6%\n",
      "FDR mean: 41.3%  std: 4.7%\n"
     ]
    },
    {
     "name": "stdout",
     "output_type": "stream",
     "text": [
      "[[0.6640672  0.82348794]\n",
      " [0.68799507 0.83096189]\n",
      " [0.6198     0.7535    ]]\n",
      "rec time now 3 dataset now: Syn6\n"
     ]
    },
    {
     "name": "stderr",
     "output_type": "stream",
     "text": [
      "TPR mean: 78.3%  std: 5.6%\n",
      "FDR mean: 41.3%  std: 4.7%\n",
      "Epoch:      0, d_loss (Acc)): 0.514, v_loss (Acc): 0.058, g_loss: -2.0937\n"
     ]
    },
    {
     "name": "stdout",
     "output_type": "stream",
     "text": [
      "[[0.6640672  0.82348794]\n",
      " [0.68799507 0.83096189]\n",
      " [0.6198     0.7535    ]]\n",
      "now at training epoch number 2900 hyp-params: lamda 1.0000 prior 0.0000\n",
      "rec time now 0 dataset now: Syn6\n"
     ]
    },
    {
     "name": "stderr",
     "output_type": "stream",
     "text": [
      "TPR mean: 80.0%  std: 1.0%\n",
      "FDR mean: 42.8%  std: 1.1%\n"
     ]
    },
    {
     "name": "stdout",
     "output_type": "stream",
     "text": [
      "[[0.66330209 0.82489753]\n",
      " [0.68664599 0.83416877]\n",
      " [0.6197     0.7525    ]]\n",
      "rec time now 1 dataset now: Syn6\n"
     ]
    },
    {
     "name": "stderr",
     "output_type": "stream",
     "text": [
      "TPR mean: 80.0%  std: 1.0%\n",
      "FDR mean: 42.8%  std: 1.1%\n"
     ]
    },
    {
     "name": "stdout",
     "output_type": "stream",
     "text": [
      "[[0.66330209 0.82489753]\n",
      " [0.68664599 0.83416877]\n",
      " [0.6197     0.7525    ]]\n",
      "rec time now 2 dataset now: Syn6\n"
     ]
    },
    {
     "name": "stderr",
     "output_type": "stream",
     "text": [
      "TPR mean: 80.0%  std: 1.0%\n",
      "FDR mean: 42.8%  std: 1.1%\n"
     ]
    },
    {
     "name": "stdout",
     "output_type": "stream",
     "text": [
      "[[0.66330209 0.82489753]\n",
      " [0.68664599 0.83416877]\n",
      " [0.6197     0.7525    ]]\n",
      "rec time now 3 dataset now: Syn6\n"
     ]
    },
    {
     "name": "stderr",
     "output_type": "stream",
     "text": [
      "TPR mean: 80.0%  std: 1.0%\n",
      "FDR mean: 42.8%  std: 1.1%\n",
      "Epoch:      0, d_loss (Acc)): 0.493, v_loss (Acc): 0.057, g_loss: -1.9418\n"
     ]
    },
    {
     "name": "stdout",
     "output_type": "stream",
     "text": [
      "[[0.66330209 0.82489753]\n",
      " [0.68664599 0.83416877]\n",
      " [0.6197     0.7525    ]]\n",
      "now at training epoch number 3000 hyp-params: lamda 1.0000 prior 0.0000\n",
      "rec time now 0 dataset now: Syn6\n"
     ]
    },
    {
     "name": "stderr",
     "output_type": "stream",
     "text": [
      "TPR mean: 80.0%  std: 0.0%\n",
      "FDR mean: 42.9%  std: 0.0%\n"
     ]
    },
    {
     "name": "stdout",
     "output_type": "stream",
     "text": [
      "[[0.66271831 0.8270072 ]\n",
      " [0.68678982 0.83520415]\n",
      " [0.6191     0.7556    ]]\n",
      "rec time now 1 dataset now: Syn6\n"
     ]
    },
    {
     "name": "stderr",
     "output_type": "stream",
     "text": [
      "TPR mean: 80.0%  std: 0.0%\n",
      "FDR mean: 42.9%  std: 0.0%\n"
     ]
    },
    {
     "name": "stdout",
     "output_type": "stream",
     "text": [
      "[[0.66271831 0.8270072 ]\n",
      " [0.68678982 0.83520415]\n",
      " [0.6191     0.7556    ]]\n",
      "rec time now 2 dataset now: Syn6\n"
     ]
    },
    {
     "name": "stderr",
     "output_type": "stream",
     "text": [
      "TPR mean: 80.0%  std: 0.0%\n",
      "FDR mean: 42.9%  std: 0.0%\n"
     ]
    },
    {
     "name": "stdout",
     "output_type": "stream",
     "text": [
      "[[0.66271831 0.8270072 ]\n",
      " [0.68678982 0.83520415]\n",
      " [0.6191     0.7556    ]]\n",
      "rec time now 3 dataset now: Syn6\n"
     ]
    },
    {
     "name": "stderr",
     "output_type": "stream",
     "text": [
      "TPR mean: 80.0%  std: 0.0%\n",
      "FDR mean: 42.9%  std: 0.0%\n",
      "Epoch:      0, d_loss (Acc)): 0.517, v_loss (Acc): 0.050, g_loss: -1.8394\n"
     ]
    },
    {
     "name": "stdout",
     "output_type": "stream",
     "text": [
      "[[0.66271831 0.8270072 ]\n",
      " [0.68678982 0.83520415]\n",
      " [0.6191     0.7556    ]]\n",
      "now at training epoch number 3100 hyp-params: lamda 1.0000 prior 0.0000\n",
      "rec time now 0 dataset now: Syn6\n"
     ]
    },
    {
     "name": "stderr",
     "output_type": "stream",
     "text": [
      "TPR mean: 80.0%  std: 0.0%\n",
      "FDR mean: 42.9%  std: 0.0%\n"
     ]
    },
    {
     "name": "stdout",
     "output_type": "stream",
     "text": [
      "[[0.66251223 0.82970445]\n",
      " [0.68680324 0.83721057]\n",
      " [0.6185     0.7613    ]]\n",
      "rec time now 1 dataset now: Syn6\n"
     ]
    },
    {
     "name": "stderr",
     "output_type": "stream",
     "text": [
      "TPR mean: 80.0%  std: 0.0%\n",
      "FDR mean: 42.9%  std: 0.0%\n"
     ]
    },
    {
     "name": "stdout",
     "output_type": "stream",
     "text": [
      "[[0.66251223 0.82970445]\n",
      " [0.68680324 0.83721057]\n",
      " [0.6185     0.7613    ]]\n",
      "rec time now 2 dataset now: Syn6\n"
     ]
    },
    {
     "name": "stderr",
     "output_type": "stream",
     "text": [
      "TPR mean: 80.0%  std: 0.0%\n",
      "FDR mean: 42.9%  std: 0.0%\n"
     ]
    },
    {
     "name": "stdout",
     "output_type": "stream",
     "text": [
      "[[0.66251223 0.82970445]\n",
      " [0.68680324 0.83721057]\n",
      " [0.6185     0.7613    ]]\n",
      "rec time now 3 dataset now: Syn6\n"
     ]
    },
    {
     "name": "stderr",
     "output_type": "stream",
     "text": [
      "TPR mean: 80.0%  std: 0.0%\n",
      "FDR mean: 42.9%  std: 0.0%\n",
      "Epoch:      0, d_loss (Acc)): 0.491, v_loss (Acc): 0.043, g_loss: -1.6660\n"
     ]
    },
    {
     "name": "stdout",
     "output_type": "stream",
     "text": [
      "[[0.66251223 0.82970445]\n",
      " [0.68680324 0.83721057]\n",
      " [0.6185     0.7613    ]]\n",
      "now at training epoch number 3200 hyp-params: lamda 1.0000 prior 0.0000\n",
      "rec time now 0 dataset now: Syn6\n"
     ]
    },
    {
     "name": "stderr",
     "output_type": "stream",
     "text": [
      "TPR mean: 80.0%  std: 0.0%\n",
      "FDR mean: 42.9%  std: 0.0%\n"
     ]
    },
    {
     "name": "stdout",
     "output_type": "stream",
     "text": [
      "[[0.66189936 0.83292228]\n",
      " [0.6851277  0.84035085]\n",
      " [0.6194     0.7631    ]]\n",
      "rec time now 1 dataset now: Syn6\n"
     ]
    },
    {
     "name": "stderr",
     "output_type": "stream",
     "text": [
      "TPR mean: 80.0%  std: 0.0%\n",
      "FDR mean: 42.9%  std: 0.0%\n"
     ]
    },
    {
     "name": "stdout",
     "output_type": "stream",
     "text": [
      "[[0.66189936 0.83292228]\n",
      " [0.6851277  0.84035085]\n",
      " [0.6194     0.7631    ]]\n",
      "rec time now 2 dataset now: Syn6\n"
     ]
    },
    {
     "name": "stderr",
     "output_type": "stream",
     "text": [
      "TPR mean: 80.0%  std: 0.0%\n",
      "FDR mean: 42.9%  std: 0.0%\n"
     ]
    },
    {
     "name": "stdout",
     "output_type": "stream",
     "text": [
      "[[0.66189936 0.83292228]\n",
      " [0.6851277  0.84035085]\n",
      " [0.6194     0.7631    ]]\n",
      "rec time now 3 dataset now: Syn6\n"
     ]
    },
    {
     "name": "stderr",
     "output_type": "stream",
     "text": [
      "TPR mean: 80.0%  std: 0.0%\n",
      "FDR mean: 42.9%  std: 0.0%\n",
      "Epoch:      0, d_loss (Acc)): 0.493, v_loss (Acc): 0.036, g_loss: -1.4592\n"
     ]
    },
    {
     "name": "stdout",
     "output_type": "stream",
     "text": [
      "[[0.66189936 0.83292228]\n",
      " [0.6851277  0.84035085]\n",
      " [0.6194     0.7631    ]]\n",
      "now at training epoch number 3300 hyp-params: lamda 1.0000 prior 0.0000\n",
      "rec time now 0 dataset now: Syn6\n"
     ]
    },
    {
     "name": "stderr",
     "output_type": "stream",
     "text": [
      "TPR mean: 80.0%  std: 0.0%\n",
      "FDR mean: 42.9%  std: 0.0%\n"
     ]
    },
    {
     "name": "stdout",
     "output_type": "stream",
     "text": [
      "[[0.66175339 0.83322095]\n",
      " [0.6857969  0.8406037 ]\n",
      " [0.6178     0.7652    ]]\n",
      "rec time now 1 dataset now: Syn6\n"
     ]
    },
    {
     "name": "stderr",
     "output_type": "stream",
     "text": [
      "TPR mean: 80.0%  std: 0.0%\n",
      "FDR mean: 42.9%  std: 0.0%\n"
     ]
    },
    {
     "name": "stdout",
     "output_type": "stream",
     "text": [
      "[[0.66175339 0.83322095]\n",
      " [0.6857969  0.8406037 ]\n",
      " [0.6178     0.7652    ]]\n",
      "rec time now 2 dataset now: Syn6\n"
     ]
    },
    {
     "name": "stderr",
     "output_type": "stream",
     "text": [
      "TPR mean: 80.0%  std: 0.0%\n",
      "FDR mean: 42.9%  std: 0.0%\n"
     ]
    },
    {
     "name": "stdout",
     "output_type": "stream",
     "text": [
      "[[0.66175339 0.83322095]\n",
      " [0.6857969  0.8406037 ]\n",
      " [0.6178     0.7652    ]]\n",
      "rec time now 3 dataset now: Syn6\n"
     ]
    },
    {
     "name": "stderr",
     "output_type": "stream",
     "text": [
      "TPR mean: 80.0%  std: 0.0%\n",
      "FDR mean: 42.9%  std: 0.0%\n",
      "Epoch:      0, d_loss (Acc)): 0.503, v_loss (Acc): 0.032, g_loss: -1.2415\n"
     ]
    },
    {
     "name": "stdout",
     "output_type": "stream",
     "text": [
      "[[0.66175339 0.83322095]\n",
      " [0.6857969  0.8406037 ]\n",
      " [0.6178     0.7652    ]]\n",
      "now at training epoch number 3400 hyp-params: lamda 1.0000 prior 0.0000\n",
      "rec time now 0 dataset now: Syn6\n"
     ]
    },
    {
     "name": "stderr",
     "output_type": "stream",
     "text": [
      "TPR mean: 80.0%  std: 0.0%\n",
      "FDR mean: 42.9%  std: 0.0%\n"
     ]
    },
    {
     "name": "stdout",
     "output_type": "stream",
     "text": [
      "[[0.66055377 0.83110527]\n",
      " [0.68417714 0.83857871]\n",
      " [0.6195     0.7599    ]]\n",
      "rec time now 1 dataset now: Syn6\n"
     ]
    },
    {
     "name": "stderr",
     "output_type": "stream",
     "text": [
      "TPR mean: 80.0%  std: 0.0%\n",
      "FDR mean: 42.9%  std: 0.0%\n"
     ]
    },
    {
     "name": "stdout",
     "output_type": "stream",
     "text": [
      "[[0.66055377 0.83110527]\n",
      " [0.68417714 0.83857871]\n",
      " [0.6195     0.7599    ]]\n",
      "rec time now 2 dataset now: Syn6\n"
     ]
    },
    {
     "name": "stderr",
     "output_type": "stream",
     "text": [
      "TPR mean: 80.0%  std: 0.0%\n",
      "FDR mean: 42.9%  std: 0.0%\n"
     ]
    },
    {
     "name": "stdout",
     "output_type": "stream",
     "text": [
      "[[0.66055377 0.83110527]\n",
      " [0.68417714 0.83857871]\n",
      " [0.6195     0.7599    ]]\n",
      "rec time now 3 dataset now: Syn6\n"
     ]
    },
    {
     "name": "stderr",
     "output_type": "stream",
     "text": [
      "TPR mean: 80.0%  std: 0.0%\n",
      "FDR mean: 42.9%  std: 0.0%\n",
      "Epoch:      0, d_loss (Acc)): 0.507, v_loss (Acc): 0.029, g_loss: -1.1520\n"
     ]
    },
    {
     "name": "stdout",
     "output_type": "stream",
     "text": [
      "[[0.66055377 0.83110527]\n",
      " [0.68417714 0.83857871]\n",
      " [0.6195     0.7599    ]]\n",
      "now at training epoch number 3500 hyp-params: lamda 1.0000 prior 0.0000\n",
      "rec time now 0 dataset now: Syn6\n"
     ]
    },
    {
     "name": "stderr",
     "output_type": "stream",
     "text": [
      "TPR mean: 80.0%  std: 0.0%\n",
      "FDR mean: 42.9%  std: 0.0%\n"
     ]
    },
    {
     "name": "stdout",
     "output_type": "stream",
     "text": [
      "[[0.66190202 0.83310908]\n",
      " [0.68545834 0.83976016]\n",
      " [0.6206     0.7648    ]]\n",
      "rec time now 1 dataset now: Syn6\n"
     ]
    },
    {
     "name": "stderr",
     "output_type": "stream",
     "text": [
      "TPR mean: 80.0%  std: 0.0%\n",
      "FDR mean: 42.9%  std: 0.0%\n"
     ]
    },
    {
     "name": "stdout",
     "output_type": "stream",
     "text": [
      "[[0.66190202 0.83310908]\n",
      " [0.68545834 0.83976016]\n",
      " [0.6206     0.7648    ]]\n",
      "rec time now 2 dataset now: Syn6\n"
     ]
    },
    {
     "name": "stderr",
     "output_type": "stream",
     "text": [
      "TPR mean: 80.0%  std: 0.0%\n",
      "FDR mean: 42.9%  std: 0.0%\n"
     ]
    },
    {
     "name": "stdout",
     "output_type": "stream",
     "text": [
      "[[0.66190202 0.83310908]\n",
      " [0.68545834 0.83976016]\n",
      " [0.6206     0.7648    ]]\n",
      "rec time now 3 dataset now: Syn6\n"
     ]
    },
    {
     "name": "stderr",
     "output_type": "stream",
     "text": [
      "TPR mean: 80.0%  std: 0.0%\n",
      "FDR mean: 42.9%  std: 0.0%\n",
      "Epoch:      0, d_loss (Acc)): 0.494, v_loss (Acc): 0.026, g_loss: -1.0161\n"
     ]
    },
    {
     "name": "stdout",
     "output_type": "stream",
     "text": [
      "[[0.66190202 0.83310908]\n",
      " [0.68545834 0.83976016]\n",
      " [0.6206     0.7648    ]]\n",
      "now at training epoch number 3600 hyp-params: lamda 1.0000 prior 0.0000\n",
      "rec time now 0 dataset now: Syn6\n"
     ]
    },
    {
     "name": "stderr",
     "output_type": "stream",
     "text": [
      "TPR mean: 80.0%  std: 0.0%\n",
      "FDR mean: 42.9%  std: 0.0%\n"
     ]
    },
    {
     "name": "stdout",
     "output_type": "stream",
     "text": [
      "[[0.66085411 0.83423234]\n",
      " [0.68426229 0.84151324]\n",
      " [0.6203     0.7639    ]]\n",
      "rec time now 1 dataset now: Syn6\n"
     ]
    },
    {
     "name": "stderr",
     "output_type": "stream",
     "text": [
      "TPR mean: 80.0%  std: 0.0%\n",
      "FDR mean: 42.9%  std: 0.0%\n"
     ]
    },
    {
     "name": "stdout",
     "output_type": "stream",
     "text": [
      "[[0.66085411 0.83423234]\n",
      " [0.68426229 0.84151324]\n",
      " [0.6203     0.7639    ]]\n",
      "rec time now 2 dataset now: Syn6\n"
     ]
    },
    {
     "name": "stderr",
     "output_type": "stream",
     "text": [
      "TPR mean: 80.0%  std: 0.0%\n",
      "FDR mean: 42.9%  std: 0.0%\n"
     ]
    },
    {
     "name": "stdout",
     "output_type": "stream",
     "text": [
      "[[0.66085411 0.83423234]\n",
      " [0.68426229 0.84151324]\n",
      " [0.6203     0.7639    ]]\n",
      "rec time now 3 dataset now: Syn6\n"
     ]
    },
    {
     "name": "stderr",
     "output_type": "stream",
     "text": [
      "TPR mean: 80.0%  std: 0.0%\n",
      "FDR mean: 42.9%  std: 0.0%\n",
      "Epoch:      0, d_loss (Acc)): 0.494, v_loss (Acc): 0.022, g_loss: -0.9601\n"
     ]
    },
    {
     "name": "stdout",
     "output_type": "stream",
     "text": [
      "[[0.66085411 0.83423234]\n",
      " [0.68426229 0.84151324]\n",
      " [0.6203     0.7639    ]]\n",
      "now at training epoch number 3700 hyp-params: lamda 1.0000 prior 0.0000\n",
      "rec time now 0 dataset now: Syn6\n"
     ]
    },
    {
     "name": "stderr",
     "output_type": "stream",
     "text": [
      "TPR mean: 80.0%  std: 0.0%\n",
      "FDR mean: 42.9%  std: 0.0%\n"
     ]
    },
    {
     "name": "stdout",
     "output_type": "stream",
     "text": [
      "[[0.66066723 0.8351346 ]\n",
      " [0.68420618 0.84130904]\n",
      " [0.6176     0.7644    ]]\n",
      "rec time now 1 dataset now: Syn6\n"
     ]
    },
    {
     "name": "stderr",
     "output_type": "stream",
     "text": [
      "TPR mean: 80.0%  std: 0.0%\n",
      "FDR mean: 42.9%  std: 0.0%\n"
     ]
    },
    {
     "name": "stdout",
     "output_type": "stream",
     "text": [
      "[[0.66066723 0.8351346 ]\n",
      " [0.68420618 0.84130904]\n",
      " [0.6176     0.7644    ]]\n",
      "rec time now 2 dataset now: Syn6\n"
     ]
    },
    {
     "name": "stderr",
     "output_type": "stream",
     "text": [
      "TPR mean: 80.0%  std: 0.0%\n",
      "FDR mean: 42.9%  std: 0.0%\n"
     ]
    },
    {
     "name": "stdout",
     "output_type": "stream",
     "text": [
      "[[0.66066723 0.8351346 ]\n",
      " [0.68420618 0.84130904]\n",
      " [0.6176     0.7644    ]]\n",
      "rec time now 3 dataset now: Syn6\n"
     ]
    },
    {
     "name": "stderr",
     "output_type": "stream",
     "text": [
      "TPR mean: 80.0%  std: 0.0%\n",
      "FDR mean: 42.9%  std: 0.0%\n",
      "Epoch:      0, d_loss (Acc)): 0.465, v_loss (Acc): 0.019, g_loss: -0.7771\n"
     ]
    },
    {
     "name": "stdout",
     "output_type": "stream",
     "text": [
      "[[0.66066723 0.8351346 ]\n",
      " [0.68420618 0.84130904]\n",
      " [0.6176     0.7644    ]]\n",
      "now at training epoch number 3800 hyp-params: lamda 1.0000 prior 0.0000\n",
      "rec time now 0 dataset now: Syn6\n"
     ]
    },
    {
     "name": "stderr",
     "output_type": "stream",
     "text": [
      "TPR mean: 80.0%  std: 0.0%\n",
      "FDR mean: 42.9%  std: 0.0%\n"
     ]
    },
    {
     "name": "stdout",
     "output_type": "stream",
     "text": [
      "[[0.65885971 0.8351046 ]\n",
      " [0.68150078 0.84149345]\n",
      " [0.6193     0.765     ]]\n",
      "rec time now 1 dataset now: Syn6\n"
     ]
    },
    {
     "name": "stderr",
     "output_type": "stream",
     "text": [
      "TPR mean: 80.0%  std: 0.0%\n",
      "FDR mean: 42.9%  std: 0.0%\n"
     ]
    },
    {
     "name": "stdout",
     "output_type": "stream",
     "text": [
      "[[0.65885971 0.8351046 ]\n",
      " [0.68150078 0.84149345]\n",
      " [0.6193     0.765     ]]\n",
      "rec time now 2 dataset now: Syn6\n"
     ]
    },
    {
     "name": "stderr",
     "output_type": "stream",
     "text": [
      "TPR mean: 80.0%  std: 0.0%\n",
      "FDR mean: 42.9%  std: 0.0%\n"
     ]
    },
    {
     "name": "stdout",
     "output_type": "stream",
     "text": [
      "[[0.65885971 0.8351046 ]\n",
      " [0.68150078 0.84149345]\n",
      " [0.6193     0.765     ]]\n",
      "rec time now 3 dataset now: Syn6\n"
     ]
    },
    {
     "name": "stderr",
     "output_type": "stream",
     "text": [
      "TPR mean: 80.0%  std: 0.0%\n",
      "FDR mean: 42.9%  std: 0.0%\n",
      "Epoch:      0, d_loss (Acc)): 0.460, v_loss (Acc): 0.018, g_loss: -0.8591\n"
     ]
    },
    {
     "name": "stdout",
     "output_type": "stream",
     "text": [
      "[[0.65885971 0.8351046 ]\n",
      " [0.68150078 0.84149345]\n",
      " [0.6193     0.765     ]]\n",
      "now at training epoch number 3900 hyp-params: lamda 1.0000 prior 0.0000\n",
      "rec time now 0 dataset now: Syn6\n"
     ]
    },
    {
     "name": "stderr",
     "output_type": "stream",
     "text": [
      "TPR mean: 80.0%  std: 0.0%\n",
      "FDR mean: 42.9%  std: 0.0%\n"
     ]
    },
    {
     "name": "stdout",
     "output_type": "stream",
     "text": [
      "[[0.6598947  0.83507812]\n",
      " [0.68217914 0.84037894]\n",
      " [0.6173     0.7649    ]]\n",
      "rec time now 1 dataset now: Syn6\n"
     ]
    },
    {
     "name": "stderr",
     "output_type": "stream",
     "text": [
      "TPR mean: 80.0%  std: 0.0%\n",
      "FDR mean: 42.9%  std: 0.0%\n"
     ]
    },
    {
     "name": "stdout",
     "output_type": "stream",
     "text": [
      "[[0.6598947  0.83507812]\n",
      " [0.68217914 0.84037894]\n",
      " [0.6173     0.7649    ]]\n",
      "rec time now 2 dataset now: Syn6\n"
     ]
    },
    {
     "name": "stderr",
     "output_type": "stream",
     "text": [
      "TPR mean: 80.0%  std: 0.0%\n",
      "FDR mean: 42.9%  std: 0.0%\n"
     ]
    },
    {
     "name": "stdout",
     "output_type": "stream",
     "text": [
      "[[0.6598947  0.83507812]\n",
      " [0.68217914 0.84037894]\n",
      " [0.6173     0.7649    ]]\n",
      "rec time now 3 dataset now: Syn6\n"
     ]
    },
    {
     "name": "stderr",
     "output_type": "stream",
     "text": [
      "TPR mean: 80.0%  std: 0.0%\n",
      "FDR mean: 42.9%  std: 0.0%\n",
      "Epoch:      0, d_loss (Acc)): 0.448, v_loss (Acc): 0.018, g_loss: -0.8587\n"
     ]
    },
    {
     "name": "stdout",
     "output_type": "stream",
     "text": [
      "[[0.6598947  0.83507812]\n",
      " [0.68217914 0.84037894]\n",
      " [0.6173     0.7649    ]]\n",
      "now at training epoch number 4000 hyp-params: lamda 1.0000 prior 0.0000\n",
      "rec time now 0 dataset now: Syn6\n"
     ]
    },
    {
     "name": "stderr",
     "output_type": "stream",
     "text": [
      "TPR mean: 80.3%  std: 2.2%\n",
      "FDR mean: 42.8%  std: 0.6%\n"
     ]
    },
    {
     "name": "stdout",
     "output_type": "stream",
     "text": [
      "[[0.65675226 0.83839947]\n",
      " [0.67898425 0.84359484]\n",
      " [0.6162     0.7667    ]]\n",
      "rec time now 1 dataset now: Syn6\n"
     ]
    },
    {
     "name": "stderr",
     "output_type": "stream",
     "text": [
      "TPR mean: 80.0%  std: 0.5%\n",
      "FDR mean: 42.9%  std: 0.1%\n"
     ]
    },
    {
     "name": "stdout",
     "output_type": "stream",
     "text": [
      "[[0.65675226 0.83775622]\n",
      " [0.67898425 0.84307937]\n",
      " [0.6162     0.7666    ]]\n",
      "rec time now 2 dataset now: Syn6\n"
     ]
    },
    {
     "name": "stderr",
     "output_type": "stream",
     "text": [
      "TPR mean: 80.0%  std: 0.5%\n",
      "FDR mean: 42.9%  std: 0.1%\n"
     ]
    },
    {
     "name": "stdout",
     "output_type": "stream",
     "text": [
      "[[0.65675226 0.83775622]\n",
      " [0.67898425 0.84307937]\n",
      " [0.6162     0.7666    ]]\n",
      "rec time now 3 dataset now: Syn6\n"
     ]
    },
    {
     "name": "stderr",
     "output_type": "stream",
     "text": [
      "TPR mean: 80.0%  std: 0.5%\n",
      "FDR mean: 42.9%  std: 0.1%\n",
      "Epoch:      0, d_loss (Acc)): 0.464, v_loss (Acc): 0.012, g_loss: -0.9226\n"
     ]
    },
    {
     "name": "stdout",
     "output_type": "stream",
     "text": [
      "[[0.65675226 0.83775622]\n",
      " [0.67898425 0.84307937]\n",
      " [0.6162     0.7666    ]]\n",
      "now at training epoch number 4100 hyp-params: lamda 1.0000 prior 0.0000\n",
      "rec time now 0 dataset now: Syn6\n"
     ]
    },
    {
     "name": "stderr",
     "output_type": "stream",
     "text": [
      "TPR mean: 83.5%  std: 7.6%\n",
      "FDR mean: 42.0%  std: 2.3%\n"
     ]
    },
    {
     "name": "stdout",
     "output_type": "stream",
     "text": [
      "[[0.66160003 0.84776687]\n",
      " [0.68382938 0.85389622]\n",
      " [0.621      0.7716    ]]\n",
      "rec time now 1 dataset now: Syn6\n"
     ]
    },
    {
     "name": "stderr",
     "output_type": "stream",
     "text": [
      "TPR mean: 82.0%  std: 6.1%\n",
      "FDR mean: 42.3%  std: 1.6%\n"
     ]
    },
    {
     "name": "stdout",
     "output_type": "stream",
     "text": [
      "[[0.66160003 0.84483543]\n",
      " [0.68382938 0.85102806]\n",
      " [0.621      0.7716    ]]\n",
      "rec time now 2 dataset now: Syn6\n"
     ]
    },
    {
     "name": "stderr",
     "output_type": "stream",
     "text": [
      "TPR mean: 82.0%  std: 6.1%\n",
      "FDR mean: 42.3%  std: 1.6%\n"
     ]
    },
    {
     "name": "stdout",
     "output_type": "stream",
     "text": [
      "[[0.66160003 0.84483543]\n",
      " [0.68382938 0.85102806]\n",
      " [0.621      0.7716    ]]\n",
      "rec time now 3 dataset now: Syn6\n"
     ]
    },
    {
     "name": "stderr",
     "output_type": "stream",
     "text": [
      "TPR mean: 82.0%  std: 6.1%\n",
      "FDR mean: 42.3%  std: 1.6%\n",
      "Epoch:      0, d_loss (Acc)): 0.478, v_loss (Acc): 0.013, g_loss: -0.8951\n"
     ]
    },
    {
     "name": "stdout",
     "output_type": "stream",
     "text": [
      "[[0.66160003 0.84483543]\n",
      " [0.68382938 0.85102806]\n",
      " [0.621      0.7716    ]]\n",
      "now at training epoch number 4200 hyp-params: lamda 1.0000 prior 0.0000\n",
      "rec time now 0 dataset now: Syn6\n"
     ]
    },
    {
     "name": "stderr",
     "output_type": "stream",
     "text": [
      "TPR mean: 90.1%  std: 10.0%\n",
      "FDR mean: 43.6%  std: 6.2%\n"
     ]
    },
    {
     "name": "stdout",
     "output_type": "stream",
     "text": [
      "[[0.66205966 0.86263896]\n",
      " [0.68351096 0.86982825]\n",
      " [0.6189     0.7874    ]]\n",
      "rec time now 1 dataset now: Syn6\n"
     ]
    },
    {
     "name": "stderr",
     "output_type": "stream",
     "text": [
      "TPR mean: 90.1%  std: 10.0%\n",
      "FDR mean: 43.6%  std: 6.2%\n"
     ]
    },
    {
     "name": "stdout",
     "output_type": "stream",
     "text": [
      "[[0.66205966 0.86263186]\n",
      " [0.68351096 0.8698222 ]\n",
      " [0.6189     0.7874    ]]\n",
      "rec time now 2 dataset now: Syn6\n"
     ]
    },
    {
     "name": "stderr",
     "output_type": "stream",
     "text": [
      "TPR mean: 90.1%  std: 10.0%\n",
      "FDR mean: 43.6%  std: 6.2%\n"
     ]
    },
    {
     "name": "stdout",
     "output_type": "stream",
     "text": [
      "[[0.66205966 0.86263186]\n",
      " [0.68351096 0.8698222 ]\n",
      " [0.6189     0.7874    ]]\n",
      "rec time now 3 dataset now: Syn6\n"
     ]
    },
    {
     "name": "stderr",
     "output_type": "stream",
     "text": [
      "TPR mean: 90.1%  std: 10.0%\n",
      "FDR mean: 43.6%  std: 6.2%\n",
      "Epoch:      0, d_loss (Acc)): 0.430, v_loss (Acc): 0.011, g_loss: -0.7387\n"
     ]
    },
    {
     "name": "stdout",
     "output_type": "stream",
     "text": [
      "[[0.66205966 0.86263186]\n",
      " [0.68351096 0.8698222 ]\n",
      " [0.6189     0.7874    ]]\n",
      "now at training epoch number 4300 hyp-params: lamda 1.0000 prior 0.0000\n",
      "rec time now 0 dataset now: Syn6\n"
     ]
    },
    {
     "name": "stderr",
     "output_type": "stream",
     "text": [
      "TPR mean: 90.1%  std: 10.0%\n",
      "FDR mean: 43.7%  std: 6.2%\n"
     ]
    },
    {
     "name": "stdout",
     "output_type": "stream",
     "text": [
      "[[0.6617755  0.86393218]\n",
      " [0.68270227 0.87223599]\n",
      " [0.6211     0.7886    ]]\n",
      "rec time now 1 dataset now: Syn6\n"
     ]
    },
    {
     "name": "stderr",
     "output_type": "stream",
     "text": [
      "TPR mean: 90.1%  std: 10.0%\n",
      "FDR mean: 43.7%  std: 6.2%\n"
     ]
    },
    {
     "name": "stdout",
     "output_type": "stream",
     "text": [
      "[[0.6617755  0.86393218]\n",
      " [0.68270227 0.87223599]\n",
      " [0.6211     0.7886    ]]\n",
      "rec time now 2 dataset now: Syn6\n"
     ]
    },
    {
     "name": "stderr",
     "output_type": "stream",
     "text": [
      "TPR mean: 90.1%  std: 10.0%\n",
      "FDR mean: 43.7%  std: 6.2%\n"
     ]
    },
    {
     "name": "stdout",
     "output_type": "stream",
     "text": [
      "[[0.6617755  0.86393218]\n",
      " [0.68270227 0.87223599]\n",
      " [0.6211     0.7886    ]]\n",
      "rec time now 3 dataset now: Syn6\n"
     ]
    },
    {
     "name": "stderr",
     "output_type": "stream",
     "text": [
      "TPR mean: 90.1%  std: 10.0%\n",
      "FDR mean: 43.7%  std: 6.2%\n",
      "Epoch:      0, d_loss (Acc)): 0.455, v_loss (Acc): 0.009, g_loss: -0.6261\n"
     ]
    },
    {
     "name": "stdout",
     "output_type": "stream",
     "text": [
      "[[0.6617755  0.86393218]\n",
      " [0.68270227 0.87223599]\n",
      " [0.6211     0.7886    ]]\n",
      "now at training epoch number 4400 hyp-params: lamda 1.0000 prior 0.0000\n",
      "rec time now 0 dataset now: Syn6\n"
     ]
    },
    {
     "name": "stderr",
     "output_type": "stream",
     "text": [
      "TPR mean: 90.1%  std: 10.0%\n",
      "FDR mean: 43.7%  std: 6.2%\n"
     ]
    },
    {
     "name": "stdout",
     "output_type": "stream",
     "text": [
      "[[0.65979931 0.86494685]\n",
      " [0.68104779 0.87127258]\n",
      " [0.6195     0.7886    ]]\n",
      "rec time now 1 dataset now: Syn6\n"
     ]
    },
    {
     "name": "stderr",
     "output_type": "stream",
     "text": [
      "TPR mean: 90.1%  std: 10.0%\n",
      "FDR mean: 43.7%  std: 6.2%\n"
     ]
    },
    {
     "name": "stdout",
     "output_type": "stream",
     "text": [
      "[[0.65979931 0.86494685]\n",
      " [0.68104779 0.87127258]\n",
      " [0.6195     0.7886    ]]\n",
      "rec time now 2 dataset now: Syn6\n"
     ]
    },
    {
     "name": "stderr",
     "output_type": "stream",
     "text": [
      "TPR mean: 90.1%  std: 10.0%\n",
      "FDR mean: 43.7%  std: 6.2%\n"
     ]
    },
    {
     "name": "stdout",
     "output_type": "stream",
     "text": [
      "[[0.65979931 0.86494685]\n",
      " [0.68104779 0.87127258]\n",
      " [0.6195     0.7886    ]]\n",
      "rec time now 3 dataset now: Syn6\n"
     ]
    },
    {
     "name": "stderr",
     "output_type": "stream",
     "text": [
      "TPR mean: 90.1%  std: 10.0%\n",
      "FDR mean: 43.7%  std: 6.2%\n",
      "Epoch:      0, d_loss (Acc)): 0.432, v_loss (Acc): 0.009, g_loss: -0.5384\n"
     ]
    },
    {
     "name": "stdout",
     "output_type": "stream",
     "text": [
      "[[0.65979931 0.86494685]\n",
      " [0.68104779 0.87127258]\n",
      " [0.6195     0.7886    ]]\n",
      "now at training epoch number 4500 hyp-params: lamda 1.0000 prior 0.0000\n",
      "rec time now 0 dataset now: Syn6\n"
     ]
    },
    {
     "name": "stderr",
     "output_type": "stream",
     "text": [
      "TPR mean: 90.1%  std: 10.0%\n",
      "FDR mean: 43.7%  std: 6.2%\n"
     ]
    },
    {
     "name": "stdout",
     "output_type": "stream",
     "text": [
      "[[0.66058426 0.86232123]\n",
      " [0.68280858 0.86951506]\n",
      " [0.6192     0.7877    ]]\n",
      "rec time now 1 dataset now: Syn6\n"
     ]
    },
    {
     "name": "stderr",
     "output_type": "stream",
     "text": [
      "TPR mean: 90.1%  std: 10.0%\n",
      "FDR mean: 43.7%  std: 6.2%\n"
     ]
    },
    {
     "name": "stdout",
     "output_type": "stream",
     "text": [
      "[[0.66058426 0.86232123]\n",
      " [0.68280858 0.86951506]\n",
      " [0.6192     0.7877    ]]\n",
      "rec time now 2 dataset now: Syn6\n"
     ]
    },
    {
     "name": "stderr",
     "output_type": "stream",
     "text": [
      "TPR mean: 90.1%  std: 10.0%\n",
      "FDR mean: 43.7%  std: 6.2%\n"
     ]
    },
    {
     "name": "stdout",
     "output_type": "stream",
     "text": [
      "[[0.66058426 0.86232123]\n",
      " [0.68280858 0.86951506]\n",
      " [0.6192     0.7877    ]]\n",
      "rec time now 3 dataset now: Syn6\n"
     ]
    },
    {
     "name": "stderr",
     "output_type": "stream",
     "text": [
      "TPR mean: 90.1%  std: 10.0%\n",
      "FDR mean: 43.7%  std: 6.2%\n",
      "Epoch:      0, d_loss (Acc)): 0.383, v_loss (Acc): 0.009, g_loss: -0.4192\n"
     ]
    },
    {
     "name": "stdout",
     "output_type": "stream",
     "text": [
      "[[0.66058426 0.86232123]\n",
      " [0.68280858 0.86951506]\n",
      " [0.6192     0.7877    ]]\n",
      "now at training epoch number 4600 hyp-params: lamda 1.0000 prior 0.0000\n",
      "rec time now 0 dataset now: Syn6\n"
     ]
    },
    {
     "name": "stderr",
     "output_type": "stream",
     "text": [
      "TPR mean: 90.1%  std: 10.0%\n",
      "FDR mean: 43.7%  std: 6.2%\n"
     ]
    },
    {
     "name": "stdout",
     "output_type": "stream",
     "text": [
      "[[0.65829502 0.86697819]\n",
      " [0.68052131 0.8745469 ]\n",
      " [0.6209     0.7889    ]]\n",
      "rec time now 1 dataset now: Syn6\n"
     ]
    },
    {
     "name": "stderr",
     "output_type": "stream",
     "text": [
      "TPR mean: 90.1%  std: 10.0%\n",
      "FDR mean: 43.7%  std: 6.2%\n"
     ]
    },
    {
     "name": "stdout",
     "output_type": "stream",
     "text": [
      "[[0.65829502 0.86697819]\n",
      " [0.68052131 0.8745469 ]\n",
      " [0.6209     0.7889    ]]\n",
      "rec time now 2 dataset now: Syn6\n"
     ]
    },
    {
     "name": "stderr",
     "output_type": "stream",
     "text": [
      "TPR mean: 90.1%  std: 10.0%\n",
      "FDR mean: 43.7%  std: 6.2%\n"
     ]
    },
    {
     "name": "stdout",
     "output_type": "stream",
     "text": [
      "[[0.65829502 0.86697819]\n",
      " [0.68052131 0.8745469 ]\n",
      " [0.6209     0.7889    ]]\n",
      "rec time now 3 dataset now: Syn6\n"
     ]
    },
    {
     "name": "stderr",
     "output_type": "stream",
     "text": [
      "TPR mean: 90.1%  std: 10.0%\n",
      "FDR mean: 43.7%  std: 6.2%\n",
      "Epoch:      0, d_loss (Acc)): 0.446, v_loss (Acc): 0.007, g_loss: -0.4270\n"
     ]
    },
    {
     "name": "stdout",
     "output_type": "stream",
     "text": [
      "[[0.65829502 0.86697819]\n",
      " [0.68052131 0.8745469 ]\n",
      " [0.6209     0.7889    ]]\n",
      "now at training epoch number 4700 hyp-params: lamda 1.0000 prior 0.0000\n",
      "rec time now 0 dataset now: Syn6\n"
     ]
    },
    {
     "name": "stderr",
     "output_type": "stream",
     "text": [
      "TPR mean: 90.1%  std: 10.0%\n",
      "FDR mean: 43.7%  std: 6.2%\n"
     ]
    },
    {
     "name": "stdout",
     "output_type": "stream",
     "text": [
      "[[0.65861828 0.86631881]\n",
      " [0.6802143  0.87385056]\n",
      " [0.6173     0.7896    ]]\n",
      "rec time now 1 dataset now: Syn6\n"
     ]
    },
    {
     "name": "stderr",
     "output_type": "stream",
     "text": [
      "TPR mean: 90.1%  std: 10.0%\n",
      "FDR mean: 43.7%  std: 6.2%\n"
     ]
    },
    {
     "name": "stdout",
     "output_type": "stream",
     "text": [
      "[[0.65861828 0.86631881]\n",
      " [0.6802143  0.87385056]\n",
      " [0.6173     0.7896    ]]\n",
      "rec time now 2 dataset now: Syn6\n"
     ]
    },
    {
     "name": "stderr",
     "output_type": "stream",
     "text": [
      "TPR mean: 90.1%  std: 10.0%\n",
      "FDR mean: 43.7%  std: 6.2%\n"
     ]
    },
    {
     "name": "stdout",
     "output_type": "stream",
     "text": [
      "[[0.65861828 0.86631881]\n",
      " [0.6802143  0.87385056]\n",
      " [0.6173     0.7896    ]]\n",
      "rec time now 3 dataset now: Syn6\n"
     ]
    },
    {
     "name": "stderr",
     "output_type": "stream",
     "text": [
      "TPR mean: 90.1%  std: 10.0%\n",
      "FDR mean: 43.7%  std: 6.2%\n",
      "Epoch:      0, d_loss (Acc)): 0.397, v_loss (Acc): 0.007, g_loss: -0.2819\n"
     ]
    },
    {
     "name": "stdout",
     "output_type": "stream",
     "text": [
      "[[0.65861828 0.86631881]\n",
      " [0.6802143  0.87385056]\n",
      " [0.6173     0.7896    ]]\n",
      "now at training epoch number 4800 hyp-params: lamda 1.0000 prior 0.0000\n",
      "rec time now 0 dataset now: Syn6\n"
     ]
    },
    {
     "name": "stderr",
     "output_type": "stream",
     "text": [
      "TPR mean: 90.1%  std: 10.0%\n",
      "FDR mean: 43.7%  std: 6.2%\n"
     ]
    },
    {
     "name": "stdout",
     "output_type": "stream",
     "text": [
      "[[0.65885544 0.86724958]\n",
      " [0.67879784 0.87520014]\n",
      " [0.617      0.789     ]]\n",
      "rec time now 1 dataset now: Syn6\n"
     ]
    },
    {
     "name": "stderr",
     "output_type": "stream",
     "text": [
      "TPR mean: 90.1%  std: 10.0%\n",
      "FDR mean: 43.7%  std: 6.2%\n"
     ]
    },
    {
     "name": "stdout",
     "output_type": "stream",
     "text": [
      "[[0.65885544 0.86724958]\n",
      " [0.67879784 0.87520014]\n",
      " [0.617      0.789     ]]\n",
      "rec time now 2 dataset now: Syn6\n"
     ]
    },
    {
     "name": "stderr",
     "output_type": "stream",
     "text": [
      "TPR mean: 90.1%  std: 10.0%\n",
      "FDR mean: 43.7%  std: 6.2%\n"
     ]
    },
    {
     "name": "stdout",
     "output_type": "stream",
     "text": [
      "[[0.65885544 0.86724958]\n",
      " [0.67879784 0.87520014]\n",
      " [0.617      0.789     ]]\n",
      "rec time now 3 dataset now: Syn6\n"
     ]
    },
    {
     "name": "stderr",
     "output_type": "stream",
     "text": [
      "TPR mean: 90.1%  std: 10.0%\n",
      "FDR mean: 43.7%  std: 6.2%\n",
      "Epoch:      0, d_loss (Acc)): 0.427, v_loss (Acc): 0.009, g_loss: -0.2063\n"
     ]
    },
    {
     "name": "stdout",
     "output_type": "stream",
     "text": [
      "[[0.65885544 0.86724958]\n",
      " [0.67879784 0.87520014]\n",
      " [0.617      0.789     ]]\n",
      "now at training epoch number 4900 hyp-params: lamda 1.0000 prior 0.0000\n",
      "rec time now 0 dataset now: Syn6\n"
     ]
    },
    {
     "name": "stderr",
     "output_type": "stream",
     "text": [
      "TPR mean: 90.1%  std: 10.0%\n",
      "FDR mean: 43.7%  std: 6.2%\n"
     ]
    },
    {
     "name": "stdout",
     "output_type": "stream",
     "text": [
      "[[0.6590218  0.86931427]\n",
      " [0.67941756 0.87607614]\n",
      " [0.6193     0.7938    ]]\n",
      "rec time now 1 dataset now: Syn6\n"
     ]
    },
    {
     "name": "stderr",
     "output_type": "stream",
     "text": [
      "TPR mean: 90.1%  std: 10.0%\n",
      "FDR mean: 43.7%  std: 6.2%\n"
     ]
    },
    {
     "name": "stdout",
     "output_type": "stream",
     "text": [
      "[[0.6590218  0.86931427]\n",
      " [0.67941756 0.87607614]\n",
      " [0.6193     0.7938    ]]\n",
      "rec time now 2 dataset now: Syn6\n"
     ]
    },
    {
     "name": "stderr",
     "output_type": "stream",
     "text": [
      "TPR mean: 90.1%  std: 10.0%\n",
      "FDR mean: 43.7%  std: 6.2%\n"
     ]
    },
    {
     "name": "stdout",
     "output_type": "stream",
     "text": [
      "[[0.6590218  0.86931427]\n",
      " [0.67941756 0.87607614]\n",
      " [0.6193     0.7938    ]]\n",
      "rec time now 3 dataset now: Syn6\n"
     ]
    },
    {
     "name": "stderr",
     "output_type": "stream",
     "text": [
      "TPR mean: 90.1%  std: 10.0%\n",
      "FDR mean: 43.7%  std: 6.2%\n",
      "Epoch:      0, d_loss (Acc)): 0.385, v_loss (Acc): 0.005, g_loss: -0.2465\n"
     ]
    },
    {
     "name": "stdout",
     "output_type": "stream",
     "text": [
      "[[0.6590218  0.86931427]\n",
      " [0.67941756 0.87607614]\n",
      " [0.6193     0.7938    ]]\n",
      "now at training epoch number 5000 hyp-params: lamda 1.0000 prior 0.0000\n",
      "rec time now 0 dataset now: Syn6\n"
     ]
    },
    {
     "name": "stderr",
     "output_type": "stream",
     "text": [
      "TPR mean: 90.1%  std: 10.0%\n",
      "FDR mean: 43.7%  std: 6.2%\n"
     ]
    },
    {
     "name": "stdout",
     "output_type": "stream",
     "text": [
      "[[0.6570551  0.86831811]\n",
      " [0.67858916 0.87580362]\n",
      " [0.6153     0.7898    ]]\n",
      "rec time now 1 dataset now: Syn6\n"
     ]
    },
    {
     "name": "stderr",
     "output_type": "stream",
     "text": [
      "TPR mean: 90.1%  std: 10.0%\n",
      "FDR mean: 43.7%  std: 6.2%\n"
     ]
    },
    {
     "name": "stdout",
     "output_type": "stream",
     "text": [
      "[[0.6570551  0.86831811]\n",
      " [0.67858916 0.87580362]\n",
      " [0.6153     0.7898    ]]\n",
      "rec time now 2 dataset now: Syn6\n"
     ]
    },
    {
     "name": "stderr",
     "output_type": "stream",
     "text": [
      "TPR mean: 90.1%  std: 10.0%\n",
      "FDR mean: 43.7%  std: 6.2%\n"
     ]
    },
    {
     "name": "stdout",
     "output_type": "stream",
     "text": [
      "[[0.6570551  0.86831811]\n",
      " [0.67858916 0.87580362]\n",
      " [0.6153     0.7898    ]]\n",
      "rec time now 3 dataset now: Syn6\n"
     ]
    },
    {
     "name": "stderr",
     "output_type": "stream",
     "text": [
      "TPR mean: 90.1%  std: 10.0%\n",
      "FDR mean: 43.7%  std: 6.2%\n",
      "Epoch:      0, d_loss (Acc)): 0.408, v_loss (Acc): 0.006, g_loss: -0.1627\n"
     ]
    },
    {
     "name": "stdout",
     "output_type": "stream",
     "text": [
      "[[0.6570551  0.86831811]\n",
      " [0.67858916 0.87580362]\n",
      " [0.6153     0.7898    ]]\n",
      "now at training epoch number 5100 hyp-params: lamda 1.0000 prior 0.0000\n",
      "rec time now 0 dataset now: Syn6\n"
     ]
    },
    {
     "name": "stderr",
     "output_type": "stream",
     "text": [
      "TPR mean: 90.1%  std: 10.0%\n",
      "FDR mean: 43.7%  std: 6.2%\n"
     ]
    },
    {
     "name": "stdout",
     "output_type": "stream",
     "text": [
      "[[0.65792824 0.86780889]\n",
      " [0.67823059 0.87328072]\n",
      " [0.6179     0.7926    ]]\n",
      "rec time now 1 dataset now: Syn6\n"
     ]
    },
    {
     "name": "stderr",
     "output_type": "stream",
     "text": [
      "TPR mean: 90.1%  std: 10.0%\n",
      "FDR mean: 43.7%  std: 6.2%\n"
     ]
    },
    {
     "name": "stdout",
     "output_type": "stream",
     "text": [
      "[[0.65792824 0.86780889]\n",
      " [0.67823059 0.87328072]\n",
      " [0.6179     0.7926    ]]\n",
      "rec time now 2 dataset now: Syn6\n"
     ]
    },
    {
     "name": "stderr",
     "output_type": "stream",
     "text": [
      "TPR mean: 90.1%  std: 10.0%\n",
      "FDR mean: 43.7%  std: 6.2%\n"
     ]
    },
    {
     "name": "stdout",
     "output_type": "stream",
     "text": [
      "[[0.65792824 0.86780889]\n",
      " [0.67823059 0.87328072]\n",
      " [0.6179     0.7926    ]]\n",
      "rec time now 3 dataset now: Syn6\n"
     ]
    },
    {
     "name": "stderr",
     "output_type": "stream",
     "text": [
      "TPR mean: 90.1%  std: 10.0%\n",
      "FDR mean: 43.7%  std: 6.2%\n",
      "Epoch:      0, d_loss (Acc)): 0.429, v_loss (Acc): 0.004, g_loss: -0.2307\n"
     ]
    },
    {
     "name": "stdout",
     "output_type": "stream",
     "text": [
      "[[0.65792824 0.86780889]\n",
      " [0.67823059 0.87328072]\n",
      " [0.6179     0.7926    ]]\n",
      "now at training epoch number 5200 hyp-params: lamda 1.0000 prior 0.0000\n",
      "rec time now 0 dataset now: Syn6\n"
     ]
    },
    {
     "name": "stderr",
     "output_type": "stream",
     "text": [
      "TPR mean: 90.1%  std: 10.0%\n",
      "FDR mean: 43.7%  std: 6.2%\n"
     ]
    },
    {
     "name": "stdout",
     "output_type": "stream",
     "text": [
      "[[0.65863583 0.86899578]\n",
      " [0.67841427 0.87592192]\n",
      " [0.6178     0.7923    ]]\n",
      "rec time now 1 dataset now: Syn6\n"
     ]
    },
    {
     "name": "stderr",
     "output_type": "stream",
     "text": [
      "TPR mean: 90.1%  std: 10.0%\n",
      "FDR mean: 43.7%  std: 6.2%\n"
     ]
    },
    {
     "name": "stdout",
     "output_type": "stream",
     "text": [
      "[[0.65863583 0.86899578]\n",
      " [0.67841427 0.87592192]\n",
      " [0.6178     0.7923    ]]\n",
      "rec time now 2 dataset now: Syn6\n"
     ]
    },
    {
     "name": "stderr",
     "output_type": "stream",
     "text": [
      "TPR mean: 90.1%  std: 10.0%\n",
      "FDR mean: 43.7%  std: 6.2%\n"
     ]
    },
    {
     "name": "stdout",
     "output_type": "stream",
     "text": [
      "[[0.65863583 0.86899578]\n",
      " [0.67841427 0.87592192]\n",
      " [0.6178     0.7923    ]]\n",
      "rec time now 3 dataset now: Syn6\n"
     ]
    },
    {
     "name": "stderr",
     "output_type": "stream",
     "text": [
      "TPR mean: 90.1%  std: 10.0%\n",
      "FDR mean: 43.7%  std: 6.2%\n",
      "Epoch:      0, d_loss (Acc)): 0.402, v_loss (Acc): 0.004, g_loss: -0.1530\n"
     ]
    },
    {
     "name": "stdout",
     "output_type": "stream",
     "text": [
      "[[0.65863583 0.86899578]\n",
      " [0.67841427 0.87592192]\n",
      " [0.6178     0.7923    ]]\n",
      "now at training epoch number 5300 hyp-params: lamda 1.0000 prior 0.0000\n",
      "rec time now 0 dataset now: Syn6\n"
     ]
    },
    {
     "name": "stderr",
     "output_type": "stream",
     "text": [
      "TPR mean: 90.1%  std: 10.0%\n",
      "FDR mean: 43.7%  std: 6.2%\n"
     ]
    },
    {
     "name": "stdout",
     "output_type": "stream",
     "text": [
      "[[0.65990421 0.86758069]\n",
      " [0.67887403 0.87564875]\n",
      " [0.6184     0.7877    ]]\n",
      "rec time now 1 dataset now: Syn6\n"
     ]
    },
    {
     "name": "stderr",
     "output_type": "stream",
     "text": [
      "TPR mean: 90.1%  std: 10.0%\n",
      "FDR mean: 43.7%  std: 6.2%\n"
     ]
    },
    {
     "name": "stdout",
     "output_type": "stream",
     "text": [
      "[[0.65990421 0.86758069]\n",
      " [0.67887403 0.87564875]\n",
      " [0.6184     0.7877    ]]\n",
      "rec time now 2 dataset now: Syn6\n"
     ]
    },
    {
     "name": "stderr",
     "output_type": "stream",
     "text": [
      "TPR mean: 90.1%  std: 10.0%\n",
      "FDR mean: 43.7%  std: 6.2%\n"
     ]
    },
    {
     "name": "stdout",
     "output_type": "stream",
     "text": [
      "[[0.65990421 0.86758069]\n",
      " [0.67887403 0.87564875]\n",
      " [0.6184     0.7877    ]]\n",
      "rec time now 3 dataset now: Syn6\n"
     ]
    },
    {
     "name": "stderr",
     "output_type": "stream",
     "text": [
      "TPR mean: 90.1%  std: 10.0%\n",
      "FDR mean: 43.7%  std: 6.2%\n",
      "Epoch:      0, d_loss (Acc)): 0.402, v_loss (Acc): 0.004, g_loss: -0.1333\n"
     ]
    },
    {
     "name": "stdout",
     "output_type": "stream",
     "text": [
      "[[0.65990421 0.86758069]\n",
      " [0.67887403 0.87564875]\n",
      " [0.6184     0.7877    ]]\n",
      "now at training epoch number 5400 hyp-params: lamda 1.0000 prior 0.0000\n",
      "rec time now 0 dataset now: Syn6\n"
     ]
    },
    {
     "name": "stderr",
     "output_type": "stream",
     "text": [
      "TPR mean: 90.1%  std: 10.0%\n",
      "FDR mean: 43.7%  std: 6.2%\n"
     ]
    },
    {
     "name": "stdout",
     "output_type": "stream",
     "text": [
      "[[0.65653148 0.86946909]\n",
      " [0.67597125 0.87666055]\n",
      " [0.6188     0.7915    ]]\n",
      "rec time now 1 dataset now: Syn6\n"
     ]
    },
    {
     "name": "stderr",
     "output_type": "stream",
     "text": [
      "TPR mean: 90.1%  std: 10.0%\n",
      "FDR mean: 43.7%  std: 6.2%\n"
     ]
    },
    {
     "name": "stdout",
     "output_type": "stream",
     "text": [
      "[[0.65653148 0.86946909]\n",
      " [0.67597125 0.87666055]\n",
      " [0.6188     0.7915    ]]\n",
      "rec time now 2 dataset now: Syn6\n"
     ]
    },
    {
     "name": "stderr",
     "output_type": "stream",
     "text": [
      "TPR mean: 90.1%  std: 10.0%\n",
      "FDR mean: 43.7%  std: 6.2%\n"
     ]
    },
    {
     "name": "stdout",
     "output_type": "stream",
     "text": [
      "[[0.65653148 0.86946909]\n",
      " [0.67597125 0.87666055]\n",
      " [0.6188     0.7915    ]]\n",
      "rec time now 3 dataset now: Syn6\n"
     ]
    },
    {
     "name": "stderr",
     "output_type": "stream",
     "text": [
      "TPR mean: 90.1%  std: 10.0%\n",
      "FDR mean: 43.7%  std: 6.2%\n",
      "Epoch:      0, d_loss (Acc)): 0.418, v_loss (Acc): 0.004, g_loss: -0.1053\n"
     ]
    },
    {
     "name": "stdout",
     "output_type": "stream",
     "text": [
      "[[0.65653148 0.86946909]\n",
      " [0.67597125 0.87666055]\n",
      " [0.6188     0.7915    ]]\n",
      "now at training epoch number 5500 hyp-params: lamda 1.0000 prior 0.0000\n",
      "rec time now 0 dataset now: Syn6\n"
     ]
    },
    {
     "name": "stderr",
     "output_type": "stream",
     "text": [
      "TPR mean: 90.1%  std: 10.0%\n",
      "FDR mean: 43.7%  std: 6.2%\n"
     ]
    },
    {
     "name": "stdout",
     "output_type": "stream",
     "text": [
      "[[0.65916659 0.86759307]\n",
      " [0.67912786 0.87351471]\n",
      " [0.6191     0.7909    ]]\n",
      "rec time now 1 dataset now: Syn6\n"
     ]
    },
    {
     "name": "stderr",
     "output_type": "stream",
     "text": [
      "TPR mean: 90.1%  std: 10.0%\n",
      "FDR mean: 43.7%  std: 6.2%\n"
     ]
    },
    {
     "name": "stdout",
     "output_type": "stream",
     "text": [
      "[[0.65916659 0.86759307]\n",
      " [0.67912786 0.87351471]\n",
      " [0.6191     0.7909    ]]\n",
      "rec time now 2 dataset now: Syn6\n"
     ]
    },
    {
     "name": "stderr",
     "output_type": "stream",
     "text": [
      "TPR mean: 90.1%  std: 10.0%\n",
      "FDR mean: 43.7%  std: 6.2%\n"
     ]
    },
    {
     "name": "stdout",
     "output_type": "stream",
     "text": [
      "[[0.65916659 0.86759307]\n",
      " [0.67912786 0.87351471]\n",
      " [0.6191     0.7909    ]]\n",
      "rec time now 3 dataset now: Syn6\n"
     ]
    },
    {
     "name": "stderr",
     "output_type": "stream",
     "text": [
      "TPR mean: 90.1%  std: 10.0%\n",
      "FDR mean: 43.7%  std: 6.2%\n",
      "Epoch:      0, d_loss (Acc)): 0.404, v_loss (Acc): 0.003, g_loss: -0.0856\n"
     ]
    },
    {
     "name": "stdout",
     "output_type": "stream",
     "text": [
      "[[0.65916659 0.86759307]\n",
      " [0.67912786 0.87351471]\n",
      " [0.6191     0.7909    ]]\n",
      "now at training epoch number 5600 hyp-params: lamda 1.0000 prior 0.0000\n",
      "rec time now 0 dataset now: Syn6\n"
     ]
    },
    {
     "name": "stderr",
     "output_type": "stream",
     "text": [
      "TPR mean: 90.1%  std: 10.0%\n",
      "FDR mean: 43.7%  std: 6.2%\n"
     ]
    },
    {
     "name": "stdout",
     "output_type": "stream",
     "text": [
      "[[0.65588109 0.86786078]\n",
      " [0.67563445 0.87454073]\n",
      " [0.6188     0.7919    ]]\n",
      "rec time now 1 dataset now: Syn6\n"
     ]
    },
    {
     "name": "stderr",
     "output_type": "stream",
     "text": [
      "TPR mean: 90.1%  std: 10.0%\n",
      "FDR mean: 43.7%  std: 6.2%\n"
     ]
    },
    {
     "name": "stdout",
     "output_type": "stream",
     "text": [
      "[[0.65588109 0.86786078]\n",
      " [0.67563445 0.87454073]\n",
      " [0.6188     0.7919    ]]\n",
      "rec time now 2 dataset now: Syn6\n"
     ]
    },
    {
     "name": "stderr",
     "output_type": "stream",
     "text": [
      "TPR mean: 90.1%  std: 10.0%\n",
      "FDR mean: 43.7%  std: 6.2%\n"
     ]
    },
    {
     "name": "stdout",
     "output_type": "stream",
     "text": [
      "[[0.65588109 0.86786078]\n",
      " [0.67563445 0.87454073]\n",
      " [0.6188     0.7919    ]]\n",
      "rec time now 3 dataset now: Syn6\n"
     ]
    },
    {
     "name": "stderr",
     "output_type": "stream",
     "text": [
      "TPR mean: 90.1%  std: 10.0%\n",
      "FDR mean: 43.7%  std: 6.2%\n",
      "Epoch:      0, d_loss (Acc)): 0.416, v_loss (Acc): 0.002, g_loss: -0.0664\n"
     ]
    },
    {
     "name": "stdout",
     "output_type": "stream",
     "text": [
      "[[0.65588109 0.86786078]\n",
      " [0.67563445 0.87454073]\n",
      " [0.6188     0.7919    ]]\n",
      "now at training epoch number 5700 hyp-params: lamda 1.0000 prior 0.0000\n",
      "rec time now 0 dataset now: Syn6\n"
     ]
    },
    {
     "name": "stderr",
     "output_type": "stream",
     "text": [
      "TPR mean: 90.1%  std: 10.0%\n",
      "FDR mean: 43.7%  std: 6.2%\n"
     ]
    },
    {
     "name": "stdout",
     "output_type": "stream",
     "text": [
      "[[0.6577849  0.86999572]\n",
      " [0.67680288 0.87642157]\n",
      " [0.6183     0.7948    ]]\n",
      "rec time now 1 dataset now: Syn6\n"
     ]
    },
    {
     "name": "stderr",
     "output_type": "stream",
     "text": [
      "TPR mean: 90.1%  std: 10.0%\n",
      "FDR mean: 43.7%  std: 6.2%\n"
     ]
    },
    {
     "name": "stdout",
     "output_type": "stream",
     "text": [
      "[[0.6577849  0.86999572]\n",
      " [0.67680288 0.87642157]\n",
      " [0.6183     0.7948    ]]\n",
      "rec time now 2 dataset now: Syn6\n"
     ]
    },
    {
     "name": "stderr",
     "output_type": "stream",
     "text": [
      "TPR mean: 90.1%  std: 10.0%\n",
      "FDR mean: 43.7%  std: 6.2%\n"
     ]
    },
    {
     "name": "stdout",
     "output_type": "stream",
     "text": [
      "[[0.6577849  0.86999572]\n",
      " [0.67680288 0.87642157]\n",
      " [0.6183     0.7948    ]]\n",
      "rec time now 3 dataset now: Syn6\n"
     ]
    },
    {
     "name": "stderr",
     "output_type": "stream",
     "text": [
      "TPR mean: 90.1%  std: 10.0%\n",
      "FDR mean: 43.7%  std: 6.2%\n",
      "Epoch:      0, d_loss (Acc)): 0.413, v_loss (Acc): 0.002, g_loss: -0.0301\n"
     ]
    },
    {
     "name": "stdout",
     "output_type": "stream",
     "text": [
      "[[0.6577849  0.86999572]\n",
      " [0.67680288 0.87642157]\n",
      " [0.6183     0.7948    ]]\n",
      "now at training epoch number 5800 hyp-params: lamda 1.0000 prior 0.0000\n",
      "rec time now 0 dataset now: Syn6\n"
     ]
    },
    {
     "name": "stderr",
     "output_type": "stream",
     "text": [
      "TPR mean: 90.1%  std: 10.0%\n",
      "FDR mean: 43.7%  std: 6.2%\n"
     ]
    },
    {
     "name": "stdout",
     "output_type": "stream",
     "text": [
      "[[0.65550427 0.86907498]\n",
      " [0.67492023 0.87632931]\n",
      " [0.6156     0.7927    ]]\n",
      "rec time now 1 dataset now: Syn6\n"
     ]
    },
    {
     "name": "stderr",
     "output_type": "stream",
     "text": [
      "TPR mean: 90.1%  std: 10.0%\n",
      "FDR mean: 43.7%  std: 6.2%\n"
     ]
    },
    {
     "name": "stdout",
     "output_type": "stream",
     "text": [
      "[[0.65550427 0.86907498]\n",
      " [0.67492023 0.87632931]\n",
      " [0.6156     0.7927    ]]\n",
      "rec time now 2 dataset now: Syn6\n"
     ]
    },
    {
     "name": "stderr",
     "output_type": "stream",
     "text": [
      "TPR mean: 90.1%  std: 10.0%\n",
      "FDR mean: 43.7%  std: 6.2%\n"
     ]
    },
    {
     "name": "stdout",
     "output_type": "stream",
     "text": [
      "[[0.65550427 0.86907498]\n",
      " [0.67492023 0.87632931]\n",
      " [0.6156     0.7927    ]]\n",
      "rec time now 3 dataset now: Syn6\n"
     ]
    },
    {
     "name": "stderr",
     "output_type": "stream",
     "text": [
      "TPR mean: 90.1%  std: 10.0%\n",
      "FDR mean: 43.7%  std: 6.2%\n",
      "Epoch:      0, d_loss (Acc)): 0.386, v_loss (Acc): 0.003, g_loss: -0.0261\n"
     ]
    },
    {
     "name": "stdout",
     "output_type": "stream",
     "text": [
      "[[0.65550427 0.86907498]\n",
      " [0.67492023 0.87632931]\n",
      " [0.6156     0.7927    ]]\n",
      "now at training epoch number 5900 hyp-params: lamda 1.0000 prior 0.0000\n",
      "rec time now 0 dataset now: Syn6\n"
     ]
    },
    {
     "name": "stderr",
     "output_type": "stream",
     "text": [
      "TPR mean: 90.1%  std: 10.0%\n",
      "FDR mean: 43.7%  std: 6.2%\n"
     ]
    },
    {
     "name": "stdout",
     "output_type": "stream",
     "text": [
      "[[0.65699507 0.86921168]\n",
      " [0.67628384 0.87616992]\n",
      " [0.615      0.7922    ]]\n",
      "rec time now 1 dataset now: Syn6\n"
     ]
    },
    {
     "name": "stderr",
     "output_type": "stream",
     "text": [
      "TPR mean: 90.1%  std: 10.0%\n",
      "FDR mean: 43.7%  std: 6.2%\n"
     ]
    },
    {
     "name": "stdout",
     "output_type": "stream",
     "text": [
      "[[0.65699507 0.86921168]\n",
      " [0.67628384 0.87616992]\n",
      " [0.615      0.7922    ]]\n",
      "rec time now 2 dataset now: Syn6\n"
     ]
    },
    {
     "name": "stderr",
     "output_type": "stream",
     "text": [
      "TPR mean: 90.1%  std: 10.0%\n",
      "FDR mean: 43.7%  std: 6.2%\n"
     ]
    },
    {
     "name": "stdout",
     "output_type": "stream",
     "text": [
      "[[0.65699507 0.86921168]\n",
      " [0.67628384 0.87616992]\n",
      " [0.615      0.7922    ]]\n",
      "rec time now 3 dataset now: Syn6\n"
     ]
    },
    {
     "name": "stderr",
     "output_type": "stream",
     "text": [
      "TPR mean: 90.1%  std: 10.0%\n",
      "FDR mean: 43.7%  std: 6.2%\n",
      "Epoch:      0, d_loss (Acc)): 0.372, v_loss (Acc): 0.003, g_loss: -0.0130\n"
     ]
    },
    {
     "name": "stdout",
     "output_type": "stream",
     "text": [
      "[[0.65699507 0.86921168]\n",
      " [0.67628384 0.87616992]\n",
      " [0.615      0.7922    ]]\n",
      "now at training epoch number 6000 hyp-params: lamda 1.0000 prior 0.0000\n",
      "rec time now 0 dataset now: Syn6\n"
     ]
    },
    {
     "name": "stderr",
     "output_type": "stream",
     "text": [
      "TPR mean: 90.1%  std: 10.0%\n",
      "FDR mean: 43.7%  std: 6.2%\n"
     ]
    },
    {
     "name": "stdout",
     "output_type": "stream",
     "text": [
      "[[0.65798391 0.87005145]\n",
      " [0.67637908 0.87751251]\n",
      " [0.6195     0.7888    ]]\n",
      "rec time now 1 dataset now: Syn6\n"
     ]
    },
    {
     "name": "stderr",
     "output_type": "stream",
     "text": [
      "TPR mean: 90.1%  std: 10.0%\n",
      "FDR mean: 43.7%  std: 6.2%\n"
     ]
    },
    {
     "name": "stdout",
     "output_type": "stream",
     "text": [
      "[[0.65798391 0.87005145]\n",
      " [0.67637908 0.87751251]\n",
      " [0.6195     0.7888    ]]\n",
      "rec time now 2 dataset now: Syn6\n"
     ]
    },
    {
     "name": "stderr",
     "output_type": "stream",
     "text": [
      "TPR mean: 90.1%  std: 10.0%\n",
      "FDR mean: 43.7%  std: 6.2%\n"
     ]
    },
    {
     "name": "stdout",
     "output_type": "stream",
     "text": [
      "[[0.65798391 0.87005145]\n",
      " [0.67637908 0.87751251]\n",
      " [0.6195     0.7888    ]]\n",
      "rec time now 3 dataset now: Syn6\n"
     ]
    },
    {
     "name": "stderr",
     "output_type": "stream",
     "text": [
      "TPR mean: 90.1%  std: 10.0%\n",
      "FDR mean: 43.7%  std: 6.2%\n",
      "Epoch:      0, d_loss (Acc)): 0.374, v_loss (Acc): 0.002, g_loss: +0.0212\n"
     ]
    },
    {
     "name": "stdout",
     "output_type": "stream",
     "text": [
      "[[0.65798391 0.87005145]\n",
      " [0.67637908 0.87751251]\n",
      " [0.6195     0.7888    ]]\n",
      "now at training epoch number 6100 hyp-params: lamda 1.0000 prior 0.0000\n",
      "rec time now 0 dataset now: Syn6\n"
     ]
    },
    {
     "name": "stderr",
     "output_type": "stream",
     "text": [
      "TPR mean: 90.1%  std: 10.0%\n",
      "FDR mean: 43.7%  std: 6.2%\n"
     ]
    },
    {
     "name": "stdout",
     "output_type": "stream",
     "text": [
      "[[0.65903944 0.86976278]\n",
      " [0.67771942 0.87667041]\n",
      " [0.6191     0.7923    ]]\n",
      "rec time now 1 dataset now: Syn6\n"
     ]
    },
    {
     "name": "stderr",
     "output_type": "stream",
     "text": [
      "TPR mean: 90.1%  std: 10.0%\n",
      "FDR mean: 43.7%  std: 6.2%\n"
     ]
    },
    {
     "name": "stdout",
     "output_type": "stream",
     "text": [
      "[[0.65903944 0.86976278]\n",
      " [0.67771942 0.87667041]\n",
      " [0.6191     0.7923    ]]\n",
      "rec time now 2 dataset now: Syn6\n"
     ]
    },
    {
     "name": "stderr",
     "output_type": "stream",
     "text": [
      "TPR mean: 90.1%  std: 10.0%\n",
      "FDR mean: 43.7%  std: 6.2%\n"
     ]
    },
    {
     "name": "stdout",
     "output_type": "stream",
     "text": [
      "[[0.65903944 0.86976278]\n",
      " [0.67771942 0.87667041]\n",
      " [0.6191     0.7923    ]]\n",
      "rec time now 3 dataset now: Syn6\n"
     ]
    },
    {
     "name": "stderr",
     "output_type": "stream",
     "text": [
      "TPR mean: 90.1%  std: 10.0%\n",
      "FDR mean: 43.7%  std: 6.2%\n",
      "Epoch:      0, d_loss (Acc)): 0.403, v_loss (Acc): 0.002, g_loss: -0.0411\n"
     ]
    },
    {
     "name": "stdout",
     "output_type": "stream",
     "text": [
      "[[0.65903944 0.86976278]\n",
      " [0.67771942 0.87667041]\n",
      " [0.6191     0.7923    ]]\n",
      "now at training epoch number 6200 hyp-params: lamda 1.0000 prior 0.0000\n",
      "rec time now 0 dataset now: Syn6\n"
     ]
    },
    {
     "name": "stderr",
     "output_type": "stream",
     "text": [
      "TPR mean: 90.1%  std: 10.0%\n",
      "FDR mean: 43.7%  std: 6.2%\n"
     ]
    },
    {
     "name": "stdout",
     "output_type": "stream",
     "text": [
      "[[0.65726902 0.86727593]\n",
      " [0.67656784 0.87418408]\n",
      " [0.6196     0.7896    ]]\n",
      "rec time now 1 dataset now: Syn6\n"
     ]
    },
    {
     "name": "stderr",
     "output_type": "stream",
     "text": [
      "TPR mean: 90.1%  std: 10.0%\n",
      "FDR mean: 43.7%  std: 6.2%\n"
     ]
    },
    {
     "name": "stdout",
     "output_type": "stream",
     "text": [
      "[[0.65726902 0.86727593]\n",
      " [0.67656784 0.87418408]\n",
      " [0.6196     0.7896    ]]\n",
      "rec time now 2 dataset now: Syn6\n"
     ]
    },
    {
     "name": "stderr",
     "output_type": "stream",
     "text": [
      "TPR mean: 90.1%  std: 10.0%\n",
      "FDR mean: 43.7%  std: 6.2%\n"
     ]
    },
    {
     "name": "stdout",
     "output_type": "stream",
     "text": [
      "[[0.65726902 0.86727593]\n",
      " [0.67656784 0.87418408]\n",
      " [0.6196     0.7896    ]]\n",
      "rec time now 3 dataset now: Syn6\n"
     ]
    },
    {
     "name": "stderr",
     "output_type": "stream",
     "text": [
      "TPR mean: 90.1%  std: 10.0%\n",
      "FDR mean: 43.7%  std: 6.2%\n",
      "Epoch:      0, d_loss (Acc)): 0.435, v_loss (Acc): 0.001, g_loss: -0.0315\n"
     ]
    },
    {
     "name": "stdout",
     "output_type": "stream",
     "text": [
      "[[0.65726902 0.86727593]\n",
      " [0.67656784 0.87418408]\n",
      " [0.6196     0.7896    ]]\n",
      "now at training epoch number 6300 hyp-params: lamda 1.0000 prior 0.0000\n",
      "rec time now 0 dataset now: Syn6\n"
     ]
    },
    {
     "name": "stderr",
     "output_type": "stream",
     "text": [
      "TPR mean: 90.1%  std: 10.0%\n",
      "FDR mean: 43.7%  std: 6.2%\n"
     ]
    },
    {
     "name": "stdout",
     "output_type": "stream",
     "text": [
      "[[0.65673064 0.86878197]\n",
      " [0.67581412 0.87543635]\n",
      " [0.6163     0.7901    ]]\n",
      "rec time now 1 dataset now: Syn6\n"
     ]
    },
    {
     "name": "stderr",
     "output_type": "stream",
     "text": [
      "TPR mean: 90.1%  std: 10.0%\n",
      "FDR mean: 43.7%  std: 6.2%\n"
     ]
    },
    {
     "name": "stdout",
     "output_type": "stream",
     "text": [
      "[[0.65673064 0.86878197]\n",
      " [0.67581412 0.87543635]\n",
      " [0.6163     0.7901    ]]\n",
      "rec time now 2 dataset now: Syn6\n"
     ]
    },
    {
     "name": "stderr",
     "output_type": "stream",
     "text": [
      "TPR mean: 90.1%  std: 10.0%\n",
      "FDR mean: 43.7%  std: 6.2%\n"
     ]
    },
    {
     "name": "stdout",
     "output_type": "stream",
     "text": [
      "[[0.65673064 0.86878197]\n",
      " [0.67581412 0.87543635]\n",
      " [0.6163     0.7901    ]]\n",
      "rec time now 3 dataset now: Syn6\n"
     ]
    },
    {
     "name": "stderr",
     "output_type": "stream",
     "text": [
      "TPR mean: 90.1%  std: 10.0%\n",
      "FDR mean: 43.7%  std: 6.2%\n",
      "Epoch:      0, d_loss (Acc)): 0.417, v_loss (Acc): 0.002, g_loss: -0.0454\n"
     ]
    },
    {
     "name": "stdout",
     "output_type": "stream",
     "text": [
      "[[0.65673064 0.86878197]\n",
      " [0.67581412 0.87543635]\n",
      " [0.6163     0.7901    ]]\n",
      "now at training epoch number 6400 hyp-params: lamda 1.0000 prior 0.0000\n",
      "rec time now 0 dataset now: Syn6\n"
     ]
    },
    {
     "name": "stderr",
     "output_type": "stream",
     "text": [
      "TPR mean: 90.1%  std: 10.0%\n",
      "FDR mean: 43.7%  std: 6.2%\n"
     ]
    },
    {
     "name": "stdout",
     "output_type": "stream",
     "text": [
      "[[0.65730753 0.8672582 ]\n",
      " [0.67651908 0.87501963]\n",
      " [0.6172     0.7912    ]]\n",
      "rec time now 1 dataset now: Syn6\n"
     ]
    },
    {
     "name": "stderr",
     "output_type": "stream",
     "text": [
      "TPR mean: 90.1%  std: 10.0%\n",
      "FDR mean: 43.7%  std: 6.2%\n"
     ]
    },
    {
     "name": "stdout",
     "output_type": "stream",
     "text": [
      "[[0.65730753 0.8672582 ]\n",
      " [0.67651908 0.87501963]\n",
      " [0.6172     0.7912    ]]\n",
      "rec time now 2 dataset now: Syn6\n"
     ]
    },
    {
     "name": "stderr",
     "output_type": "stream",
     "text": [
      "TPR mean: 90.1%  std: 10.0%\n",
      "FDR mean: 43.7%  std: 6.2%\n"
     ]
    },
    {
     "name": "stdout",
     "output_type": "stream",
     "text": [
      "[[0.65730753 0.8672582 ]\n",
      " [0.67651908 0.87501963]\n",
      " [0.6172     0.7912    ]]\n",
      "rec time now 3 dataset now: Syn6\n"
     ]
    },
    {
     "name": "stderr",
     "output_type": "stream",
     "text": [
      "TPR mean: 90.1%  std: 10.0%\n",
      "FDR mean: 43.7%  std: 6.2%\n",
      "Epoch:      0, d_loss (Acc)): 0.363, v_loss (Acc): 0.001, g_loss: +0.0168\n"
     ]
    },
    {
     "name": "stdout",
     "output_type": "stream",
     "text": [
      "[[0.65730753 0.8672582 ]\n",
      " [0.67651908 0.87501963]\n",
      " [0.6172     0.7912    ]]\n",
      "now at training epoch number 6500 hyp-params: lamda 1.0000 prior 0.0000\n",
      "rec time now 0 dataset now: Syn6\n"
     ]
    },
    {
     "name": "stderr",
     "output_type": "stream",
     "text": [
      "TPR mean: 90.1%  std: 10.0%\n",
      "FDR mean: 43.7%  std: 6.2%\n"
     ]
    },
    {
     "name": "stdout",
     "output_type": "stream",
     "text": [
      "[[0.65575445 0.86905572]\n",
      " [0.67511582 0.87777816]\n",
      " [0.6157     0.7903    ]]\n",
      "rec time now 1 dataset now: Syn6\n"
     ]
    },
    {
     "name": "stderr",
     "output_type": "stream",
     "text": [
      "TPR mean: 90.1%  std: 10.0%\n",
      "FDR mean: 43.7%  std: 6.2%\n"
     ]
    },
    {
     "name": "stdout",
     "output_type": "stream",
     "text": [
      "[[0.65575445 0.86905572]\n",
      " [0.67511582 0.87777816]\n",
      " [0.6157     0.7903    ]]\n",
      "rec time now 2 dataset now: Syn6\n"
     ]
    },
    {
     "name": "stderr",
     "output_type": "stream",
     "text": [
      "TPR mean: 90.1%  std: 10.0%\n",
      "FDR mean: 43.7%  std: 6.2%\n"
     ]
    },
    {
     "name": "stdout",
     "output_type": "stream",
     "text": [
      "[[0.65575445 0.86905572]\n",
      " [0.67511582 0.87777816]\n",
      " [0.6157     0.7903    ]]\n",
      "rec time now 3 dataset now: Syn6\n"
     ]
    },
    {
     "name": "stderr",
     "output_type": "stream",
     "text": [
      "TPR mean: 90.1%  std: 10.0%\n",
      "FDR mean: 43.7%  std: 6.2%\n",
      "Epoch:      0, d_loss (Acc)): 0.376, v_loss (Acc): 0.001, g_loss: -0.0290\n"
     ]
    },
    {
     "name": "stdout",
     "output_type": "stream",
     "text": [
      "[[0.65575445 0.86905572]\n",
      " [0.67511582 0.87777816]\n",
      " [0.6157     0.7903    ]]\n",
      "now at training epoch number 6600 hyp-params: lamda 1.0000 prior 0.0000\n",
      "rec time now 0 dataset now: Syn6\n"
     ]
    },
    {
     "name": "stderr",
     "output_type": "stream",
     "text": [
      "TPR mean: 90.1%  std: 10.0%\n",
      "FDR mean: 43.7%  std: 6.2%\n"
     ]
    },
    {
     "name": "stdout",
     "output_type": "stream",
     "text": [
      "[[0.65515667 0.86977123]\n",
      " [0.67391572 0.87741857]\n",
      " [0.6176     0.7898    ]]\n",
      "rec time now 1 dataset now: Syn6\n"
     ]
    },
    {
     "name": "stderr",
     "output_type": "stream",
     "text": [
      "TPR mean: 90.1%  std: 10.0%\n",
      "FDR mean: 43.7%  std: 6.2%\n"
     ]
    },
    {
     "name": "stdout",
     "output_type": "stream",
     "text": [
      "[[0.65515667 0.86977123]\n",
      " [0.67391572 0.87741857]\n",
      " [0.6176     0.7898    ]]\n",
      "rec time now 2 dataset now: Syn6\n"
     ]
    },
    {
     "name": "stderr",
     "output_type": "stream",
     "text": [
      "TPR mean: 90.1%  std: 10.0%\n",
      "FDR mean: 43.7%  std: 6.2%\n"
     ]
    },
    {
     "name": "stdout",
     "output_type": "stream",
     "text": [
      "[[0.65515667 0.86977123]\n",
      " [0.67391572 0.87741857]\n",
      " [0.6176     0.7898    ]]\n",
      "rec time now 3 dataset now: Syn6\n"
     ]
    },
    {
     "name": "stderr",
     "output_type": "stream",
     "text": [
      "TPR mean: 90.1%  std: 10.0%\n",
      "FDR mean: 43.7%  std: 6.2%\n",
      "Epoch:      0, d_loss (Acc)): 0.378, v_loss (Acc): 0.002, g_loss: +0.0167\n"
     ]
    },
    {
     "name": "stdout",
     "output_type": "stream",
     "text": [
      "[[0.65515667 0.86977123]\n",
      " [0.67391572 0.87741857]\n",
      " [0.6176     0.7898    ]]\n",
      "now at training epoch number 6700 hyp-params: lamda 1.0000 prior 0.0000\n",
      "rec time now 0 dataset now: Syn6\n"
     ]
    },
    {
     "name": "stderr",
     "output_type": "stream",
     "text": [
      "TPR mean: 90.1%  std: 10.0%\n",
      "FDR mean: 43.7%  std: 6.2%\n"
     ]
    },
    {
     "name": "stdout",
     "output_type": "stream",
     "text": [
      "[[0.65588107 0.86925751]\n",
      " [0.67400019 0.8773369 ]\n",
      " [0.6153     0.7884    ]]\n",
      "rec time now 1 dataset now: Syn6\n"
     ]
    },
    {
     "name": "stderr",
     "output_type": "stream",
     "text": [
      "TPR mean: 90.1%  std: 10.0%\n",
      "FDR mean: 43.7%  std: 6.2%\n"
     ]
    },
    {
     "name": "stdout",
     "output_type": "stream",
     "text": [
      "[[0.65588107 0.86925751]\n",
      " [0.67400019 0.8773369 ]\n",
      " [0.6153     0.7884    ]]\n",
      "rec time now 2 dataset now: Syn6\n"
     ]
    },
    {
     "name": "stderr",
     "output_type": "stream",
     "text": [
      "TPR mean: 90.1%  std: 10.0%\n",
      "FDR mean: 43.7%  std: 6.2%\n"
     ]
    },
    {
     "name": "stdout",
     "output_type": "stream",
     "text": [
      "[[0.65588107 0.86925751]\n",
      " [0.67400019 0.8773369 ]\n",
      " [0.6153     0.7884    ]]\n",
      "rec time now 3 dataset now: Syn6\n"
     ]
    },
    {
     "name": "stderr",
     "output_type": "stream",
     "text": [
      "TPR mean: 90.1%  std: 10.0%\n",
      "FDR mean: 43.7%  std: 6.2%\n",
      "Epoch:      0, d_loss (Acc)): 0.378, v_loss (Acc): 0.002, g_loss: +0.0050\n"
     ]
    },
    {
     "name": "stdout",
     "output_type": "stream",
     "text": [
      "[[0.65588107 0.86925751]\n",
      " [0.67400019 0.8773369 ]\n",
      " [0.6153     0.7884    ]]\n",
      "now at training epoch number 6800 hyp-params: lamda 1.0000 prior 0.0000\n",
      "rec time now 0 dataset now: Syn6\n"
     ]
    },
    {
     "name": "stderr",
     "output_type": "stream",
     "text": [
      "TPR mean: 90.1%  std: 10.0%\n",
      "FDR mean: 43.7%  std: 6.2%\n"
     ]
    },
    {
     "name": "stdout",
     "output_type": "stream",
     "text": [
      "[[0.65742924 0.86841499]\n",
      " [0.67619301 0.87575316]\n",
      " [0.6164     0.7912    ]]\n",
      "rec time now 1 dataset now: Syn6\n"
     ]
    },
    {
     "name": "stderr",
     "output_type": "stream",
     "text": [
      "TPR mean: 90.1%  std: 10.0%\n",
      "FDR mean: 43.7%  std: 6.2%\n"
     ]
    },
    {
     "name": "stdout",
     "output_type": "stream",
     "text": [
      "[[0.65742924 0.86841499]\n",
      " [0.67619301 0.87575316]\n",
      " [0.6164     0.7912    ]]\n",
      "rec time now 2 dataset now: Syn6\n"
     ]
    },
    {
     "name": "stderr",
     "output_type": "stream",
     "text": [
      "TPR mean: 90.1%  std: 10.0%\n",
      "FDR mean: 43.7%  std: 6.2%\n"
     ]
    },
    {
     "name": "stdout",
     "output_type": "stream",
     "text": [
      "[[0.65742924 0.86841499]\n",
      " [0.67619301 0.87575316]\n",
      " [0.6164     0.7912    ]]\n",
      "rec time now 3 dataset now: Syn6\n"
     ]
    },
    {
     "name": "stderr",
     "output_type": "stream",
     "text": [
      "TPR mean: 90.1%  std: 10.0%\n",
      "FDR mean: 43.7%  std: 6.2%\n",
      "Epoch:      0, d_loss (Acc)): 0.385, v_loss (Acc): 0.002, g_loss: +0.0229\n"
     ]
    },
    {
     "name": "stdout",
     "output_type": "stream",
     "text": [
      "[[0.65742924 0.86841499]\n",
      " [0.67619301 0.87575316]\n",
      " [0.6164     0.7912    ]]\n",
      "now at training epoch number 6900 hyp-params: lamda 1.0000 prior 0.0000\n",
      "rec time now 0 dataset now: Syn6\n"
     ]
    },
    {
     "name": "stderr",
     "output_type": "stream",
     "text": [
      "TPR mean: 90.1%  std: 10.0%\n",
      "FDR mean: 43.7%  std: 6.2%\n"
     ]
    },
    {
     "name": "stdout",
     "output_type": "stream",
     "text": [
      "[[0.65856141 0.86622503]\n",
      " [0.67606265 0.8737883 ]\n",
      " [0.6168     0.7867    ]]\n",
      "rec time now 1 dataset now: Syn6\n"
     ]
    },
    {
     "name": "stderr",
     "output_type": "stream",
     "text": [
      "TPR mean: 90.1%  std: 10.0%\n",
      "FDR mean: 43.7%  std: 6.2%\n"
     ]
    },
    {
     "name": "stdout",
     "output_type": "stream",
     "text": [
      "[[0.65856141 0.86622503]\n",
      " [0.67606265 0.8737883 ]\n",
      " [0.6168     0.7867    ]]\n",
      "rec time now 2 dataset now: Syn6\n"
     ]
    },
    {
     "name": "stderr",
     "output_type": "stream",
     "text": [
      "TPR mean: 90.1%  std: 10.0%\n",
      "FDR mean: 43.7%  std: 6.2%\n"
     ]
    },
    {
     "name": "stdout",
     "output_type": "stream",
     "text": [
      "[[0.65856141 0.86622503]\n",
      " [0.67606265 0.8737883 ]\n",
      " [0.6168     0.7867    ]]\n",
      "rec time now 3 dataset now: Syn6\n"
     ]
    },
    {
     "name": "stderr",
     "output_type": "stream",
     "text": [
      "TPR mean: 90.1%  std: 10.0%\n",
      "FDR mean: 43.7%  std: 6.2%\n",
      "Epoch:      0, d_loss (Acc)): 0.388, v_loss (Acc): 0.001, g_loss: +0.0011\n"
     ]
    },
    {
     "name": "stdout",
     "output_type": "stream",
     "text": [
      "[[0.65856141 0.86622503]\n",
      " [0.67606265 0.8737883 ]\n",
      " [0.6168     0.7867    ]]\n",
      "now at training epoch number 7000 hyp-params: lamda 1.0000 prior 0.0000\n",
      "rec time now 0 dataset now: Syn6\n"
     ]
    },
    {
     "name": "stderr",
     "output_type": "stream",
     "text": [
      "TPR mean: 90.1%  std: 10.0%\n",
      "FDR mean: 43.7%  std: 6.2%\n"
     ]
    },
    {
     "name": "stdout",
     "output_type": "stream",
     "text": [
      "[[0.65672338 0.86853911]\n",
      " [0.67481202 0.876079  ]\n",
      " [0.6173     0.7902    ]]\n",
      "rec time now 1 dataset now: Syn6\n"
     ]
    },
    {
     "name": "stderr",
     "output_type": "stream",
     "text": [
      "TPR mean: 90.1%  std: 10.0%\n",
      "FDR mean: 43.7%  std: 6.2%\n"
     ]
    },
    {
     "name": "stdout",
     "output_type": "stream",
     "text": [
      "[[0.65672338 0.86853911]\n",
      " [0.67481202 0.876079  ]\n",
      " [0.6173     0.7902    ]]\n",
      "rec time now 2 dataset now: Syn6\n"
     ]
    },
    {
     "name": "stderr",
     "output_type": "stream",
     "text": [
      "TPR mean: 90.1%  std: 10.0%\n",
      "FDR mean: 43.7%  std: 6.2%\n"
     ]
    },
    {
     "name": "stdout",
     "output_type": "stream",
     "text": [
      "[[0.65672338 0.86853911]\n",
      " [0.67481202 0.876079  ]\n",
      " [0.6173     0.7902    ]]\n",
      "rec time now 3 dataset now: Syn6\n"
     ]
    },
    {
     "name": "stderr",
     "output_type": "stream",
     "text": [
      "TPR mean: 90.1%  std: 10.0%\n",
      "FDR mean: 43.7%  std: 6.2%\n",
      "Epoch:      0, d_loss (Acc)): 0.389, v_loss (Acc): 0.001, g_loss: -0.0309\n"
     ]
    },
    {
     "name": "stdout",
     "output_type": "stream",
     "text": [
      "[[0.65672338 0.86853911]\n",
      " [0.67481202 0.876079  ]\n",
      " [0.6173     0.7902    ]]\n",
      "now at training epoch number 7100 hyp-params: lamda 1.0000 prior 0.0000\n",
      "rec time now 0 dataset now: Syn6\n"
     ]
    },
    {
     "name": "stderr",
     "output_type": "stream",
     "text": [
      "TPR mean: 90.1%  std: 10.0%\n",
      "FDR mean: 43.7%  std: 6.2%\n"
     ]
    },
    {
     "name": "stdout",
     "output_type": "stream",
     "text": [
      "[[0.65666134 0.86978153]\n",
      " [0.674826   0.87802363]\n",
      " [0.6163     0.791     ]]\n",
      "rec time now 1 dataset now: Syn6\n"
     ]
    },
    {
     "name": "stderr",
     "output_type": "stream",
     "text": [
      "TPR mean: 90.1%  std: 10.0%\n",
      "FDR mean: 43.7%  std: 6.2%\n"
     ]
    },
    {
     "name": "stdout",
     "output_type": "stream",
     "text": [
      "[[0.65666134 0.86978153]\n",
      " [0.674826   0.87802363]\n",
      " [0.6163     0.791     ]]\n",
      "rec time now 2 dataset now: Syn6\n"
     ]
    },
    {
     "name": "stderr",
     "output_type": "stream",
     "text": [
      "TPR mean: 90.1%  std: 10.0%\n",
      "FDR mean: 43.7%  std: 6.2%\n"
     ]
    },
    {
     "name": "stdout",
     "output_type": "stream",
     "text": [
      "[[0.65666134 0.86978153]\n",
      " [0.674826   0.87802363]\n",
      " [0.6163     0.791     ]]\n",
      "rec time now 3 dataset now: Syn6\n"
     ]
    },
    {
     "name": "stderr",
     "output_type": "stream",
     "text": [
      "TPR mean: 90.1%  std: 10.0%\n",
      "FDR mean: 43.7%  std: 6.2%\n",
      "Epoch:      0, d_loss (Acc)): 0.379, v_loss (Acc): 0.001, g_loss: +0.0460\n"
     ]
    },
    {
     "name": "stdout",
     "output_type": "stream",
     "text": [
      "[[0.65666134 0.86978153]\n",
      " [0.674826   0.87802363]\n",
      " [0.6163     0.791     ]]\n",
      "now at training epoch number 7200 hyp-params: lamda 1.0000 prior 0.0000\n",
      "rec time now 0 dataset now: Syn6\n"
     ]
    },
    {
     "name": "stderr",
     "output_type": "stream",
     "text": [
      "TPR mean: 90.1%  std: 10.0%\n",
      "FDR mean: 43.7%  std: 6.2%\n"
     ]
    },
    {
     "name": "stdout",
     "output_type": "stream",
     "text": [
      "[[0.65724281 0.8693261 ]\n",
      " [0.67543674 0.87717493]\n",
      " [0.6164     0.7904    ]]\n",
      "rec time now 1 dataset now: Syn6\n"
     ]
    },
    {
     "name": "stderr",
     "output_type": "stream",
     "text": [
      "TPR mean: 90.1%  std: 10.0%\n",
      "FDR mean: 43.7%  std: 6.2%\n"
     ]
    },
    {
     "name": "stdout",
     "output_type": "stream",
     "text": [
      "[[0.65724281 0.8693261 ]\n",
      " [0.67543674 0.87717493]\n",
      " [0.6164     0.7904    ]]\n",
      "rec time now 2 dataset now: Syn6\n"
     ]
    },
    {
     "name": "stderr",
     "output_type": "stream",
     "text": [
      "TPR mean: 90.1%  std: 10.0%\n",
      "FDR mean: 43.7%  std: 6.2%\n"
     ]
    },
    {
     "name": "stdout",
     "output_type": "stream",
     "text": [
      "[[0.65724281 0.8693261 ]\n",
      " [0.67543674 0.87717493]\n",
      " [0.6164     0.7904    ]]\n",
      "rec time now 3 dataset now: Syn6\n"
     ]
    },
    {
     "name": "stderr",
     "output_type": "stream",
     "text": [
      "TPR mean: 90.1%  std: 10.0%\n",
      "FDR mean: 43.7%  std: 6.2%\n",
      "Epoch:      0, d_loss (Acc)): 0.368, v_loss (Acc): 0.001, g_loss: -0.0092\n"
     ]
    },
    {
     "name": "stdout",
     "output_type": "stream",
     "text": [
      "[[0.65724281 0.8693261 ]\n",
      " [0.67543674 0.87717493]\n",
      " [0.6164     0.7904    ]]\n",
      "now at training epoch number 7300 hyp-params: lamda 1.0000 prior 0.0000\n",
      "rec time now 0 dataset now: Syn6\n"
     ]
    },
    {
     "name": "stderr",
     "output_type": "stream",
     "text": [
      "TPR mean: 90.1%  std: 10.0%\n",
      "FDR mean: 43.7%  std: 6.2%\n"
     ]
    },
    {
     "name": "stdout",
     "output_type": "stream",
     "text": [
      "[[0.65630019 0.86700821]\n",
      " [0.67369072 0.87389919]\n",
      " [0.6146     0.7873    ]]\n",
      "rec time now 1 dataset now: Syn6\n"
     ]
    },
    {
     "name": "stderr",
     "output_type": "stream",
     "text": [
      "TPR mean: 90.1%  std: 10.0%\n",
      "FDR mean: 43.7%  std: 6.2%\n"
     ]
    },
    {
     "name": "stdout",
     "output_type": "stream",
     "text": [
      "[[0.65630019 0.86700821]\n",
      " [0.67369072 0.87389919]\n",
      " [0.6146     0.7873    ]]\n",
      "rec time now 2 dataset now: Syn6\n"
     ]
    },
    {
     "name": "stderr",
     "output_type": "stream",
     "text": [
      "TPR mean: 90.1%  std: 10.0%\n",
      "FDR mean: 43.7%  std: 6.2%\n"
     ]
    },
    {
     "name": "stdout",
     "output_type": "stream",
     "text": [
      "[[0.65630019 0.86700821]\n",
      " [0.67369072 0.87389919]\n",
      " [0.6146     0.7873    ]]\n",
      "rec time now 3 dataset now: Syn6\n"
     ]
    },
    {
     "name": "stderr",
     "output_type": "stream",
     "text": [
      "TPR mean: 90.1%  std: 10.0%\n",
      "FDR mean: 43.7%  std: 6.2%\n",
      "Epoch:      0, d_loss (Acc)): 0.360, v_loss (Acc): 0.001, g_loss: +0.0411\n"
     ]
    },
    {
     "name": "stdout",
     "output_type": "stream",
     "text": [
      "[[0.65630019 0.86700821]\n",
      " [0.67369072 0.87389919]\n",
      " [0.6146     0.7873    ]]\n",
      "now at training epoch number 7400 hyp-params: lamda 1.0000 prior 0.0000\n",
      "rec time now 0 dataset now: Syn6\n"
     ]
    },
    {
     "name": "stderr",
     "output_type": "stream",
     "text": [
      "TPR mean: 90.1%  std: 10.0%\n",
      "FDR mean: 43.7%  std: 6.2%\n"
     ]
    },
    {
     "name": "stdout",
     "output_type": "stream",
     "text": [
      "[[0.65578588 0.8694529 ]\n",
      " [0.67297403 0.8776098 ]\n",
      " [0.6156     0.7908    ]]\n",
      "rec time now 1 dataset now: Syn6\n"
     ]
    },
    {
     "name": "stderr",
     "output_type": "stream",
     "text": [
      "TPR mean: 90.1%  std: 10.0%\n",
      "FDR mean: 43.7%  std: 6.2%\n"
     ]
    },
    {
     "name": "stdout",
     "output_type": "stream",
     "text": [
      "[[0.65578588 0.8694529 ]\n",
      " [0.67297403 0.8776098 ]\n",
      " [0.6156     0.7908    ]]\n",
      "rec time now 2 dataset now: Syn6\n"
     ]
    },
    {
     "name": "stderr",
     "output_type": "stream",
     "text": [
      "TPR mean: 90.1%  std: 10.0%\n",
      "FDR mean: 43.7%  std: 6.2%\n"
     ]
    },
    {
     "name": "stdout",
     "output_type": "stream",
     "text": [
      "[[0.65578588 0.8694529 ]\n",
      " [0.67297403 0.8776098 ]\n",
      " [0.6156     0.7908    ]]\n",
      "rec time now 3 dataset now: Syn6\n"
     ]
    },
    {
     "name": "stderr",
     "output_type": "stream",
     "text": [
      "TPR mean: 90.1%  std: 10.0%\n",
      "FDR mean: 43.7%  std: 6.2%\n",
      "Epoch:      0, d_loss (Acc)): 0.378, v_loss (Acc): 0.001, g_loss: +0.0613\n"
     ]
    },
    {
     "name": "stdout",
     "output_type": "stream",
     "text": [
      "[[0.65578588 0.8694529 ]\n",
      " [0.67297403 0.8776098 ]\n",
      " [0.6156     0.7908    ]]\n",
      "now at training epoch number 7500 hyp-params: lamda 1.0000 prior 0.0000\n",
      "rec time now 0 dataset now: Syn6\n"
     ]
    },
    {
     "name": "stderr",
     "output_type": "stream",
     "text": [
      "TPR mean: 90.1%  std: 10.0%\n",
      "FDR mean: 43.7%  std: 6.2%\n"
     ]
    },
    {
     "name": "stdout",
     "output_type": "stream",
     "text": [
      "[[0.65649272 0.86753207]\n",
      " [0.67429844 0.8750338 ]\n",
      " [0.6162     0.7856    ]]\n",
      "rec time now 1 dataset now: Syn6\n"
     ]
    },
    {
     "name": "stderr",
     "output_type": "stream",
     "text": [
      "TPR mean: 90.1%  std: 10.0%\n",
      "FDR mean: 43.7%  std: 6.2%\n"
     ]
    },
    {
     "name": "stdout",
     "output_type": "stream",
     "text": [
      "[[0.65649272 0.86753207]\n",
      " [0.67429844 0.8750338 ]\n",
      " [0.6162     0.7856    ]]\n",
      "rec time now 2 dataset now: Syn6\n"
     ]
    },
    {
     "name": "stderr",
     "output_type": "stream",
     "text": [
      "TPR mean: 90.1%  std: 10.0%\n",
      "FDR mean: 43.7%  std: 6.2%\n"
     ]
    },
    {
     "name": "stdout",
     "output_type": "stream",
     "text": [
      "[[0.65649272 0.86753207]\n",
      " [0.67429844 0.8750338 ]\n",
      " [0.6162     0.7856    ]]\n",
      "rec time now 3 dataset now: Syn6\n"
     ]
    },
    {
     "name": "stderr",
     "output_type": "stream",
     "text": [
      "TPR mean: 90.1%  std: 10.0%\n",
      "FDR mean: 43.7%  std: 6.2%\n",
      "Epoch:      0, d_loss (Acc)): 0.377, v_loss (Acc): 0.000, g_loss: +0.0079\n"
     ]
    },
    {
     "name": "stdout",
     "output_type": "stream",
     "text": [
      "[[0.65649272 0.86753207]\n",
      " [0.67429844 0.8750338 ]\n",
      " [0.6162     0.7856    ]]\n",
      "now at training epoch number 7600 hyp-params: lamda 1.0000 prior 0.0000\n",
      "rec time now 0 dataset now: Syn6\n"
     ]
    },
    {
     "name": "stderr",
     "output_type": "stream",
     "text": [
      "TPR mean: 90.1%  std: 10.0%\n",
      "FDR mean: 43.7%  std: 6.2%\n"
     ]
    },
    {
     "name": "stdout",
     "output_type": "stream",
     "text": [
      "[[0.65376634 0.86933386]\n",
      " [0.6724044  0.87724239]\n",
      " [0.6127     0.7905    ]]\n",
      "rec time now 1 dataset now: Syn6\n"
     ]
    },
    {
     "name": "stderr",
     "output_type": "stream",
     "text": [
      "TPR mean: 90.1%  std: 10.0%\n",
      "FDR mean: 43.7%  std: 6.2%\n"
     ]
    },
    {
     "name": "stdout",
     "output_type": "stream",
     "text": [
      "[[0.65376634 0.86933386]\n",
      " [0.6724044  0.87724239]\n",
      " [0.6127     0.7905    ]]\n",
      "rec time now 2 dataset now: Syn6\n"
     ]
    },
    {
     "name": "stderr",
     "output_type": "stream",
     "text": [
      "TPR mean: 90.1%  std: 10.0%\n",
      "FDR mean: 43.7%  std: 6.2%\n"
     ]
    },
    {
     "name": "stdout",
     "output_type": "stream",
     "text": [
      "[[0.65376634 0.86933386]\n",
      " [0.6724044  0.87724239]\n",
      " [0.6127     0.7905    ]]\n",
      "rec time now 3 dataset now: Syn6\n"
     ]
    },
    {
     "name": "stderr",
     "output_type": "stream",
     "text": [
      "TPR mean: 90.1%  std: 10.0%\n",
      "FDR mean: 43.7%  std: 6.2%\n",
      "Epoch:      0, d_loss (Acc)): 0.370, v_loss (Acc): 0.001, g_loss: +0.0521\n"
     ]
    },
    {
     "name": "stdout",
     "output_type": "stream",
     "text": [
      "[[0.65376634 0.86933386]\n",
      " [0.6724044  0.87724239]\n",
      " [0.6127     0.7905    ]]\n",
      "now at training epoch number 7700 hyp-params: lamda 1.0000 prior 0.0000\n",
      "rec time now 0 dataset now: Syn6\n"
     ]
    },
    {
     "name": "stderr",
     "output_type": "stream",
     "text": [
      "TPR mean: 90.1%  std: 10.0%\n",
      "FDR mean: 43.7%  std: 6.2%\n"
     ]
    },
    {
     "name": "stdout",
     "output_type": "stream",
     "text": [
      "[[0.65717728 0.8690628 ]\n",
      " [0.67543194 0.87714625]\n",
      " [0.6137     0.7924    ]]\n",
      "rec time now 1 dataset now: Syn6\n"
     ]
    },
    {
     "name": "stderr",
     "output_type": "stream",
     "text": [
      "TPR mean: 90.1%  std: 10.0%\n",
      "FDR mean: 43.7%  std: 6.2%\n"
     ]
    },
    {
     "name": "stdout",
     "output_type": "stream",
     "text": [
      "[[0.65717728 0.8690628 ]\n",
      " [0.67543194 0.87714625]\n",
      " [0.6137     0.7924    ]]\n",
      "rec time now 2 dataset now: Syn6\n"
     ]
    },
    {
     "name": "stderr",
     "output_type": "stream",
     "text": [
      "TPR mean: 90.1%  std: 10.0%\n",
      "FDR mean: 43.7%  std: 6.2%\n"
     ]
    },
    {
     "name": "stdout",
     "output_type": "stream",
     "text": [
      "[[0.65717728 0.8690628 ]\n",
      " [0.67543194 0.87714625]\n",
      " [0.6137     0.7924    ]]\n",
      "rec time now 3 dataset now: Syn6\n"
     ]
    },
    {
     "name": "stderr",
     "output_type": "stream",
     "text": [
      "TPR mean: 90.1%  std: 10.0%\n",
      "FDR mean: 43.7%  std: 6.2%\n",
      "Epoch:      0, d_loss (Acc)): 0.407, v_loss (Acc): 0.001, g_loss: +0.0510\n"
     ]
    },
    {
     "name": "stdout",
     "output_type": "stream",
     "text": [
      "[[0.65717728 0.8690628 ]\n",
      " [0.67543194 0.87714625]\n",
      " [0.6137     0.7924    ]]\n",
      "now at training epoch number 7800 hyp-params: lamda 1.0000 prior 0.0000\n",
      "rec time now 0 dataset now: Syn6\n"
     ]
    },
    {
     "name": "stderr",
     "output_type": "stream",
     "text": [
      "TPR mean: 90.1%  std: 10.0%\n",
      "FDR mean: 43.7%  std: 6.2%\n"
     ]
    },
    {
     "name": "stdout",
     "output_type": "stream",
     "text": [
      "[[0.65625601 0.86912066]\n",
      " [0.67410624 0.87697221]\n",
      " [0.6126     0.7871    ]]\n",
      "rec time now 1 dataset now: Syn6\n"
     ]
    },
    {
     "name": "stderr",
     "output_type": "stream",
     "text": [
      "TPR mean: 90.1%  std: 10.0%\n",
      "FDR mean: 43.7%  std: 6.2%\n"
     ]
    },
    {
     "name": "stdout",
     "output_type": "stream",
     "text": [
      "[[0.65625601 0.86912066]\n",
      " [0.67410624 0.87697221]\n",
      " [0.6126     0.7871    ]]\n",
      "rec time now 2 dataset now: Syn6\n"
     ]
    },
    {
     "name": "stderr",
     "output_type": "stream",
     "text": [
      "TPR mean: 90.1%  std: 10.0%\n",
      "FDR mean: 43.7%  std: 6.2%\n"
     ]
    },
    {
     "name": "stdout",
     "output_type": "stream",
     "text": [
      "[[0.65625601 0.86912066]\n",
      " [0.67410624 0.87697221]\n",
      " [0.6126     0.7871    ]]\n",
      "rec time now 3 dataset now: Syn6\n"
     ]
    },
    {
     "name": "stderr",
     "output_type": "stream",
     "text": [
      "TPR mean: 90.1%  std: 10.0%\n",
      "FDR mean: 43.7%  std: 6.2%\n",
      "Epoch:      0, d_loss (Acc)): 0.372, v_loss (Acc): 0.021, g_loss: +0.0424\n"
     ]
    },
    {
     "name": "stdout",
     "output_type": "stream",
     "text": [
      "[[0.65625601 0.86912066]\n",
      " [0.67410624 0.87697221]\n",
      " [0.6126     0.7871    ]]\n",
      "now at training epoch number 7900 hyp-params: lamda 1.0000 prior 0.0000\n",
      "rec time now 0 dataset now: Syn6\n"
     ]
    },
    {
     "name": "stderr",
     "output_type": "stream",
     "text": [
      "TPR mean: 90.1%  std: 10.0%\n",
      "FDR mean: 43.7%  std: 6.2%\n"
     ]
    },
    {
     "name": "stdout",
     "output_type": "stream",
     "text": [
      "[[0.65806781 0.8664122 ]\n",
      " [0.67491999 0.87399742]\n",
      " [0.6165     0.7856    ]]\n",
      "rec time now 1 dataset now: Syn6\n"
     ]
    },
    {
     "name": "stderr",
     "output_type": "stream",
     "text": [
      "TPR mean: 90.1%  std: 10.0%\n",
      "FDR mean: 43.7%  std: 6.2%\n"
     ]
    },
    {
     "name": "stdout",
     "output_type": "stream",
     "text": [
      "[[0.65806781 0.8664122 ]\n",
      " [0.67491999 0.87399742]\n",
      " [0.6165     0.7856    ]]\n",
      "rec time now 2 dataset now: Syn6\n"
     ]
    },
    {
     "name": "stderr",
     "output_type": "stream",
     "text": [
      "TPR mean: 90.1%  std: 10.0%\n",
      "FDR mean: 43.7%  std: 6.2%\n"
     ]
    },
    {
     "name": "stdout",
     "output_type": "stream",
     "text": [
      "[[0.65806781 0.8664122 ]\n",
      " [0.67491999 0.87399742]\n",
      " [0.6165     0.7856    ]]\n",
      "rec time now 3 dataset now: Syn6\n"
     ]
    },
    {
     "name": "stderr",
     "output_type": "stream",
     "text": [
      "TPR mean: 90.1%  std: 10.0%\n",
      "FDR mean: 43.7%  std: 6.2%\n",
      "Epoch:      0, d_loss (Acc)): 0.377, v_loss (Acc): 0.000, g_loss: +0.0462\n"
     ]
    },
    {
     "name": "stdout",
     "output_type": "stream",
     "text": [
      "[[0.65806781 0.8664122 ]\n",
      " [0.67491999 0.87399742]\n",
      " [0.6165     0.7856    ]]\n",
      "now at training epoch number 8000 hyp-params: lamda 1.0000 prior 0.0000\n",
      "rec time now 0 dataset now: Syn6\n"
     ]
    },
    {
     "name": "stderr",
     "output_type": "stream",
     "text": [
      "TPR mean: 90.1%  std: 10.0%\n",
      "FDR mean: 43.7%  std: 6.2%\n"
     ]
    },
    {
     "name": "stdout",
     "output_type": "stream",
     "text": [
      "[[0.65733828 0.86578944]\n",
      " [0.67375713 0.87310854]\n",
      " [0.616      0.7883    ]]\n",
      "rec time now 1 dataset now: Syn6\n"
     ]
    },
    {
     "name": "stderr",
     "output_type": "stream",
     "text": [
      "TPR mean: 90.1%  std: 10.0%\n",
      "FDR mean: 43.7%  std: 6.2%\n"
     ]
    },
    {
     "name": "stdout",
     "output_type": "stream",
     "text": [
      "[[0.65733828 0.86578944]\n",
      " [0.67375713 0.87310854]\n",
      " [0.616      0.7883    ]]\n",
      "rec time now 2 dataset now: Syn6\n"
     ]
    },
    {
     "name": "stderr",
     "output_type": "stream",
     "text": [
      "TPR mean: 90.1%  std: 10.0%\n",
      "FDR mean: 43.7%  std: 6.2%\n"
     ]
    },
    {
     "name": "stdout",
     "output_type": "stream",
     "text": [
      "[[0.65733828 0.86578944]\n",
      " [0.67375713 0.87310854]\n",
      " [0.616      0.7883    ]]\n",
      "rec time now 3 dataset now: Syn6\n"
     ]
    },
    {
     "name": "stderr",
     "output_type": "stream",
     "text": [
      "TPR mean: 90.1%  std: 10.0%\n",
      "FDR mean: 43.7%  std: 6.2%\n",
      "Epoch:      0, d_loss (Acc)): 0.400, v_loss (Acc): 0.000, g_loss: +0.0270\n"
     ]
    },
    {
     "name": "stdout",
     "output_type": "stream",
     "text": [
      "[[0.65733828 0.86578944]\n",
      " [0.67375713 0.87310854]\n",
      " [0.616      0.7883    ]]\n",
      "now at training epoch number 8100 hyp-params: lamda 1.0000 prior 0.0000\n",
      "rec time now 0 dataset now: Syn6\n"
     ]
    },
    {
     "name": "stderr",
     "output_type": "stream",
     "text": [
      "TPR mean: 90.1%  std: 10.0%\n",
      "FDR mean: 43.7%  std: 6.2%\n"
     ]
    },
    {
     "name": "stdout",
     "output_type": "stream",
     "text": [
      "[[0.65817124 0.86798122]\n",
      " [0.67512931 0.87665877]\n",
      " [0.6174     0.7895    ]]\n",
      "rec time now 1 dataset now: Syn6\n"
     ]
    },
    {
     "name": "stderr",
     "output_type": "stream",
     "text": [
      "TPR mean: 90.1%  std: 10.0%\n",
      "FDR mean: 43.7%  std: 6.2%\n"
     ]
    },
    {
     "name": "stdout",
     "output_type": "stream",
     "text": [
      "[[0.65817124 0.86798122]\n",
      " [0.67512931 0.87665877]\n",
      " [0.6174     0.7895    ]]\n",
      "rec time now 2 dataset now: Syn6\n"
     ]
    },
    {
     "name": "stderr",
     "output_type": "stream",
     "text": [
      "TPR mean: 90.1%  std: 10.0%\n",
      "FDR mean: 43.7%  std: 6.2%\n"
     ]
    },
    {
     "name": "stdout",
     "output_type": "stream",
     "text": [
      "[[0.65817124 0.86798122]\n",
      " [0.67512931 0.87665877]\n",
      " [0.6174     0.7895    ]]\n",
      "rec time now 3 dataset now: Syn6\n"
     ]
    },
    {
     "name": "stderr",
     "output_type": "stream",
     "text": [
      "TPR mean: 90.1%  std: 10.0%\n",
      "FDR mean: 43.7%  std: 6.2%\n",
      "Epoch:      0, d_loss (Acc)): 0.382, v_loss (Acc): 0.000, g_loss: -0.0290\n"
     ]
    },
    {
     "name": "stdout",
     "output_type": "stream",
     "text": [
      "[[0.65817124 0.86798122]\n",
      " [0.67512931 0.87665877]\n",
      " [0.6174     0.7895    ]]\n",
      "now at training epoch number 8200 hyp-params: lamda 1.0000 prior 0.0000\n",
      "rec time now 0 dataset now: Syn6\n"
     ]
    },
    {
     "name": "stderr",
     "output_type": "stream",
     "text": [
      "TPR mean: 90.1%  std: 10.0%\n",
      "FDR mean: 43.7%  std: 6.2%\n"
     ]
    },
    {
     "name": "stdout",
     "output_type": "stream",
     "text": [
      "[[0.65830748 0.86628223]\n",
      " [0.6753899  0.87391203]\n",
      " [0.6158     0.7867    ]]\n",
      "rec time now 1 dataset now: Syn6\n"
     ]
    },
    {
     "name": "stderr",
     "output_type": "stream",
     "text": [
      "TPR mean: 90.1%  std: 10.0%\n",
      "FDR mean: 43.7%  std: 6.2%\n"
     ]
    },
    {
     "name": "stdout",
     "output_type": "stream",
     "text": [
      "[[0.65830748 0.86628223]\n",
      " [0.6753899  0.87391203]\n",
      " [0.6158     0.7867    ]]\n",
      "rec time now 2 dataset now: Syn6\n"
     ]
    },
    {
     "name": "stderr",
     "output_type": "stream",
     "text": [
      "TPR mean: 90.1%  std: 10.0%\n",
      "FDR mean: 43.7%  std: 6.2%\n"
     ]
    },
    {
     "name": "stdout",
     "output_type": "stream",
     "text": [
      "[[0.65830748 0.86628223]\n",
      " [0.6753899  0.87391203]\n",
      " [0.6158     0.7867    ]]\n",
      "rec time now 3 dataset now: Syn6\n"
     ]
    },
    {
     "name": "stderr",
     "output_type": "stream",
     "text": [
      "TPR mean: 90.1%  std: 10.0%\n",
      "FDR mean: 43.7%  std: 6.2%\n",
      "Epoch:      0, d_loss (Acc)): 0.372, v_loss (Acc): 0.000, g_loss: +0.0170\n"
     ]
    },
    {
     "name": "stdout",
     "output_type": "stream",
     "text": [
      "[[0.65830748 0.86628223]\n",
      " [0.6753899  0.87391203]\n",
      " [0.6158     0.7867    ]]\n",
      "now at training epoch number 8300 hyp-params: lamda 1.0000 prior 0.0000\n",
      "rec time now 0 dataset now: Syn6\n"
     ]
    },
    {
     "name": "stderr",
     "output_type": "stream",
     "text": [
      "TPR mean: 90.1%  std: 10.0%\n",
      "FDR mean: 43.7%  std: 6.2%\n"
     ]
    },
    {
     "name": "stdout",
     "output_type": "stream",
     "text": [
      "[[0.65738133 0.86801519]\n",
      " [0.67356688 0.87547592]\n",
      " [0.6163     0.789     ]]\n",
      "rec time now 1 dataset now: Syn6\n"
     ]
    },
    {
     "name": "stderr",
     "output_type": "stream",
     "text": [
      "TPR mean: 90.1%  std: 10.0%\n",
      "FDR mean: 43.7%  std: 6.2%\n"
     ]
    },
    {
     "name": "stdout",
     "output_type": "stream",
     "text": [
      "[[0.65738133 0.86801519]\n",
      " [0.67356688 0.87547592]\n",
      " [0.6163     0.789     ]]\n",
      "rec time now 2 dataset now: Syn6\n"
     ]
    },
    {
     "name": "stderr",
     "output_type": "stream",
     "text": [
      "TPR mean: 90.1%  std: 10.0%\n",
      "FDR mean: 43.7%  std: 6.2%\n"
     ]
    },
    {
     "name": "stdout",
     "output_type": "stream",
     "text": [
      "[[0.65738133 0.86801519]\n",
      " [0.67356688 0.87547592]\n",
      " [0.6163     0.789     ]]\n",
      "rec time now 3 dataset now: Syn6\n"
     ]
    },
    {
     "name": "stderr",
     "output_type": "stream",
     "text": [
      "TPR mean: 90.1%  std: 10.0%\n",
      "FDR mean: 43.7%  std: 6.2%\n",
      "Epoch:      0, d_loss (Acc)): 0.357, v_loss (Acc): 0.000, g_loss: +0.0716\n"
     ]
    },
    {
     "name": "stdout",
     "output_type": "stream",
     "text": [
      "[[0.65738133 0.86801519]\n",
      " [0.67356688 0.87547592]\n",
      " [0.6163     0.789     ]]\n",
      "now at training epoch number 8400 hyp-params: lamda 1.0000 prior 0.0000\n",
      "rec time now 0 dataset now: Syn6\n"
     ]
    },
    {
     "name": "stderr",
     "output_type": "stream",
     "text": [
      "TPR mean: 90.1%  std: 10.0%\n",
      "FDR mean: 43.7%  std: 6.2%\n"
     ]
    },
    {
     "name": "stdout",
     "output_type": "stream",
     "text": [
      "[[0.65759146 0.86699147]\n",
      " [0.67409574 0.87603161]\n",
      " [0.617      0.7918    ]]\n",
      "rec time now 1 dataset now: Syn6\n"
     ]
    },
    {
     "name": "stderr",
     "output_type": "stream",
     "text": [
      "TPR mean: 90.1%  std: 10.0%\n",
      "FDR mean: 43.7%  std: 6.2%\n"
     ]
    },
    {
     "name": "stdout",
     "output_type": "stream",
     "text": [
      "[[0.65759146 0.86699147]\n",
      " [0.67409574 0.87603161]\n",
      " [0.617      0.7918    ]]\n",
      "rec time now 2 dataset now: Syn6\n"
     ]
    },
    {
     "name": "stderr",
     "output_type": "stream",
     "text": [
      "TPR mean: 90.1%  std: 10.0%\n",
      "FDR mean: 43.7%  std: 6.2%\n"
     ]
    },
    {
     "name": "stdout",
     "output_type": "stream",
     "text": [
      "[[0.65759146 0.86699147]\n",
      " [0.67409574 0.87603161]\n",
      " [0.617      0.7918    ]]\n",
      "rec time now 3 dataset now: Syn6\n"
     ]
    },
    {
     "name": "stderr",
     "output_type": "stream",
     "text": [
      "TPR mean: 90.1%  std: 10.0%\n",
      "FDR mean: 43.7%  std: 6.2%\n",
      "Epoch:      0, d_loss (Acc)): 0.357, v_loss (Acc): 0.000, g_loss: +0.0782\n"
     ]
    },
    {
     "name": "stdout",
     "output_type": "stream",
     "text": [
      "[[0.65759146 0.86699147]\n",
      " [0.67409574 0.87603161]\n",
      " [0.617      0.7918    ]]\n",
      "now at training epoch number 8500 hyp-params: lamda 1.0000 prior 0.0000\n",
      "rec time now 0 dataset now: Syn6\n"
     ]
    },
    {
     "name": "stderr",
     "output_type": "stream",
     "text": [
      "TPR mean: 90.1%  std: 10.0%\n",
      "FDR mean: 43.7%  std: 6.2%\n"
     ]
    },
    {
     "name": "stdout",
     "output_type": "stream",
     "text": [
      "[[0.65682575 0.86789337]\n",
      " [0.67337183 0.87658556]\n",
      " [0.6156     0.7892    ]]\n",
      "rec time now 1 dataset now: Syn6\n"
     ]
    },
    {
     "name": "stderr",
     "output_type": "stream",
     "text": [
      "TPR mean: 90.1%  std: 10.0%\n",
      "FDR mean: 43.7%  std: 6.2%\n"
     ]
    },
    {
     "name": "stdout",
     "output_type": "stream",
     "text": [
      "[[0.65682575 0.86789337]\n",
      " [0.67337183 0.87658556]\n",
      " [0.6156     0.7892    ]]\n",
      "rec time now 2 dataset now: Syn6\n"
     ]
    },
    {
     "name": "stderr",
     "output_type": "stream",
     "text": [
      "TPR mean: 90.1%  std: 10.0%\n",
      "FDR mean: 43.7%  std: 6.2%\n"
     ]
    },
    {
     "name": "stdout",
     "output_type": "stream",
     "text": [
      "[[0.65682575 0.86789337]\n",
      " [0.67337183 0.87658556]\n",
      " [0.6156     0.7892    ]]\n",
      "rec time now 3 dataset now: Syn6\n"
     ]
    },
    {
     "name": "stderr",
     "output_type": "stream",
     "text": [
      "TPR mean: 90.1%  std: 10.0%\n",
      "FDR mean: 43.7%  std: 6.2%\n",
      "Epoch:      0, d_loss (Acc)): 0.355, v_loss (Acc): 0.000, g_loss: +0.0122\n"
     ]
    },
    {
     "name": "stdout",
     "output_type": "stream",
     "text": [
      "[[0.65682575 0.86789337]\n",
      " [0.67337183 0.87658556]\n",
      " [0.6156     0.7892    ]]\n",
      "now at training epoch number 8600 hyp-params: lamda 1.0000 prior 0.0000\n",
      "rec time now 0 dataset now: Syn6\n"
     ]
    },
    {
     "name": "stderr",
     "output_type": "stream",
     "text": [
      "TPR mean: 90.1%  std: 10.0%\n",
      "FDR mean: 43.7%  std: 6.2%\n"
     ]
    },
    {
     "name": "stdout",
     "output_type": "stream",
     "text": [
      "[[0.65752081 0.86570815]\n",
      " [0.6742928  0.87335277]\n",
      " [0.6159     0.7862    ]]\n",
      "rec time now 1 dataset now: Syn6\n"
     ]
    },
    {
     "name": "stderr",
     "output_type": "stream",
     "text": [
      "TPR mean: 90.1%  std: 10.0%\n",
      "FDR mean: 43.7%  std: 6.2%\n"
     ]
    },
    {
     "name": "stdout",
     "output_type": "stream",
     "text": [
      "[[0.65752081 0.86570815]\n",
      " [0.6742928  0.87335277]\n",
      " [0.6159     0.7862    ]]\n",
      "rec time now 2 dataset now: Syn6\n"
     ]
    },
    {
     "name": "stderr",
     "output_type": "stream",
     "text": [
      "TPR mean: 90.1%  std: 10.0%\n",
      "FDR mean: 43.7%  std: 6.2%\n"
     ]
    },
    {
     "name": "stdout",
     "output_type": "stream",
     "text": [
      "[[0.65752081 0.86570815]\n",
      " [0.6742928  0.87335277]\n",
      " [0.6159     0.7862    ]]\n",
      "rec time now 3 dataset now: Syn6\n"
     ]
    },
    {
     "name": "stderr",
     "output_type": "stream",
     "text": [
      "TPR mean: 90.1%  std: 10.0%\n",
      "FDR mean: 43.7%  std: 6.2%\n",
      "Epoch:      0, d_loss (Acc)): 0.380, v_loss (Acc): 0.000, g_loss: +0.0469\n"
     ]
    },
    {
     "name": "stdout",
     "output_type": "stream",
     "text": [
      "[[0.65752081 0.86570815]\n",
      " [0.6742928  0.87335277]\n",
      " [0.6159     0.7862    ]]\n",
      "now at training epoch number 8700 hyp-params: lamda 1.0000 prior 0.0000\n",
      "rec time now 0 dataset now: Syn6\n"
     ]
    },
    {
     "name": "stderr",
     "output_type": "stream",
     "text": [
      "TPR mean: 90.1%  std: 10.0%\n",
      "FDR mean: 43.7%  std: 6.2%\n"
     ]
    },
    {
     "name": "stdout",
     "output_type": "stream",
     "text": [
      "[[0.65792592 0.86211303]\n",
      " [0.67441693 0.86994373]\n",
      " [0.6157     0.7839    ]]\n",
      "rec time now 1 dataset now: Syn6\n"
     ]
    },
    {
     "name": "stderr",
     "output_type": "stream",
     "text": [
      "TPR mean: 90.1%  std: 10.0%\n",
      "FDR mean: 43.7%  std: 6.2%\n"
     ]
    },
    {
     "name": "stdout",
     "output_type": "stream",
     "text": [
      "[[0.65792592 0.86211303]\n",
      " [0.67441693 0.86994373]\n",
      " [0.6157     0.7839    ]]\n",
      "rec time now 2 dataset now: Syn6\n"
     ]
    },
    {
     "name": "stderr",
     "output_type": "stream",
     "text": [
      "TPR mean: 90.1%  std: 10.0%\n",
      "FDR mean: 43.7%  std: 6.2%\n"
     ]
    },
    {
     "name": "stdout",
     "output_type": "stream",
     "text": [
      "[[0.65792592 0.86211303]\n",
      " [0.67441693 0.86994373]\n",
      " [0.6157     0.7839    ]]\n",
      "rec time now 3 dataset now: Syn6\n"
     ]
    },
    {
     "name": "stderr",
     "output_type": "stream",
     "text": [
      "TPR mean: 90.1%  std: 10.0%\n",
      "FDR mean: 43.7%  std: 6.2%\n",
      "Epoch:      0, d_loss (Acc)): 0.383, v_loss (Acc): 0.000, g_loss: +0.0757\n"
     ]
    },
    {
     "name": "stdout",
     "output_type": "stream",
     "text": [
      "[[0.65792592 0.86211303]\n",
      " [0.67441693 0.86994373]\n",
      " [0.6157     0.7839    ]]\n",
      "now at training epoch number 8800 hyp-params: lamda 1.0000 prior 0.0000\n",
      "rec time now 0 dataset now: Syn6\n"
     ]
    },
    {
     "name": "stderr",
     "output_type": "stream",
     "text": [
      "TPR mean: 90.1%  std: 10.0%\n",
      "FDR mean: 43.7%  std: 6.2%\n"
     ]
    },
    {
     "name": "stdout",
     "output_type": "stream",
     "text": [
      "[[0.6574275  0.86452256]\n",
      " [0.67388411 0.87176816]\n",
      " [0.6164     0.7875    ]]\n",
      "rec time now 1 dataset now: Syn6\n"
     ]
    },
    {
     "name": "stderr",
     "output_type": "stream",
     "text": [
      "TPR mean: 90.1%  std: 10.0%\n",
      "FDR mean: 43.7%  std: 6.2%\n"
     ]
    },
    {
     "name": "stdout",
     "output_type": "stream",
     "text": [
      "[[0.6574275  0.86452256]\n",
      " [0.67388411 0.87176816]\n",
      " [0.6164     0.7875    ]]\n",
      "rec time now 2 dataset now: Syn6\n"
     ]
    },
    {
     "name": "stderr",
     "output_type": "stream",
     "text": [
      "TPR mean: 90.1%  std: 10.0%\n",
      "FDR mean: 43.7%  std: 6.2%\n"
     ]
    },
    {
     "name": "stdout",
     "output_type": "stream",
     "text": [
      "[[0.6574275  0.86452256]\n",
      " [0.67388411 0.87176816]\n",
      " [0.6164     0.7875    ]]\n",
      "rec time now 3 dataset now: Syn6\n"
     ]
    },
    {
     "name": "stderr",
     "output_type": "stream",
     "text": [
      "TPR mean: 90.1%  std: 10.0%\n",
      "FDR mean: 43.7%  std: 6.2%\n",
      "Epoch:      0, d_loss (Acc)): 0.349, v_loss (Acc): 0.001, g_loss: +0.0619\n"
     ]
    },
    {
     "name": "stdout",
     "output_type": "stream",
     "text": [
      "[[0.6574275  0.86452256]\n",
      " [0.67388411 0.87176816]\n",
      " [0.6164     0.7875    ]]\n",
      "now at training epoch number 8900 hyp-params: lamda 1.0000 prior 0.0000\n",
      "rec time now 0 dataset now: Syn6\n"
     ]
    },
    {
     "name": "stderr",
     "output_type": "stream",
     "text": [
      "TPR mean: 90.1%  std: 10.0%\n",
      "FDR mean: 43.7%  std: 6.2%\n"
     ]
    },
    {
     "name": "stdout",
     "output_type": "stream",
     "text": [
      "[[0.65715166 0.86520186]\n",
      " [0.6727286  0.87198129]\n",
      " [0.6164     0.786     ]]\n",
      "rec time now 1 dataset now: Syn6\n"
     ]
    },
    {
     "name": "stderr",
     "output_type": "stream",
     "text": [
      "TPR mean: 90.1%  std: 10.0%\n",
      "FDR mean: 43.7%  std: 6.2%\n"
     ]
    },
    {
     "name": "stdout",
     "output_type": "stream",
     "text": [
      "[[0.65715166 0.86520186]\n",
      " [0.6727286  0.87198129]\n",
      " [0.6164     0.786     ]]\n",
      "rec time now 2 dataset now: Syn6\n"
     ]
    },
    {
     "name": "stderr",
     "output_type": "stream",
     "text": [
      "TPR mean: 90.1%  std: 10.0%\n",
      "FDR mean: 43.7%  std: 6.2%\n"
     ]
    },
    {
     "name": "stdout",
     "output_type": "stream",
     "text": [
      "[[0.65715166 0.86520186]\n",
      " [0.6727286  0.87198129]\n",
      " [0.6164     0.786     ]]\n",
      "rec time now 3 dataset now: Syn6\n"
     ]
    },
    {
     "name": "stderr",
     "output_type": "stream",
     "text": [
      "TPR mean: 90.1%  std: 10.0%\n",
      "FDR mean: 43.7%  std: 6.2%\n",
      "Epoch:      0, d_loss (Acc)): 0.388, v_loss (Acc): 0.000, g_loss: +0.0523\n"
     ]
    },
    {
     "name": "stdout",
     "output_type": "stream",
     "text": [
      "[[0.65715166 0.86520186]\n",
      " [0.6727286  0.87198129]\n",
      " [0.6164     0.786     ]]\n",
      "now at training epoch number 9000 hyp-params: lamda 1.0000 prior 0.0000\n",
      "rec time now 0 dataset now: Syn6\n"
     ]
    },
    {
     "name": "stderr",
     "output_type": "stream",
     "text": [
      "TPR mean: 90.1%  std: 10.0%\n",
      "FDR mean: 43.7%  std: 6.2%\n"
     ]
    },
    {
     "name": "stdout",
     "output_type": "stream",
     "text": [
      "[[0.6570624  0.86628832]\n",
      " [0.6734615  0.8740324 ]\n",
      " [0.6158     0.7892    ]]\n",
      "rec time now 1 dataset now: Syn6\n"
     ]
    },
    {
     "name": "stderr",
     "output_type": "stream",
     "text": [
      "TPR mean: 90.1%  std: 10.0%\n",
      "FDR mean: 43.7%  std: 6.2%\n"
     ]
    },
    {
     "name": "stdout",
     "output_type": "stream",
     "text": [
      "[[0.6570624  0.86628832]\n",
      " [0.6734615  0.8740324 ]\n",
      " [0.6158     0.7892    ]]\n",
      "rec time now 2 dataset now: Syn6\n"
     ]
    },
    {
     "name": "stderr",
     "output_type": "stream",
     "text": [
      "TPR mean: 90.1%  std: 10.0%\n",
      "FDR mean: 43.7%  std: 6.2%\n"
     ]
    },
    {
     "name": "stdout",
     "output_type": "stream",
     "text": [
      "[[0.6570624  0.86628832]\n",
      " [0.6734615  0.8740324 ]\n",
      " [0.6158     0.7892    ]]\n",
      "rec time now 3 dataset now: Syn6\n"
     ]
    },
    {
     "name": "stderr",
     "output_type": "stream",
     "text": [
      "TPR mean: 90.1%  std: 10.0%\n",
      "FDR mean: 43.7%  std: 6.2%\n",
      "Epoch:      0, d_loss (Acc)): 0.363, v_loss (Acc): 0.000, g_loss: +0.0609\n"
     ]
    },
    {
     "name": "stdout",
     "output_type": "stream",
     "text": [
      "[[0.6570624  0.86628832]\n",
      " [0.6734615  0.8740324 ]\n",
      " [0.6158     0.7892    ]]\n",
      "now at training epoch number 9100 hyp-params: lamda 1.0000 prior 0.0000\n",
      "rec time now 0 dataset now: Syn6\n"
     ]
    },
    {
     "name": "stderr",
     "output_type": "stream",
     "text": [
      "TPR mean: 90.1%  std: 10.0%\n",
      "FDR mean: 43.7%  std: 6.2%\n"
     ]
    },
    {
     "name": "stdout",
     "output_type": "stream",
     "text": [
      "[[0.65650091 0.86542744]\n",
      " [0.67234976 0.87393632]\n",
      " [0.615      0.7868    ]]\n",
      "rec time now 1 dataset now: Syn6\n"
     ]
    },
    {
     "name": "stderr",
     "output_type": "stream",
     "text": [
      "TPR mean: 90.1%  std: 10.0%\n",
      "FDR mean: 43.7%  std: 6.2%\n"
     ]
    },
    {
     "name": "stdout",
     "output_type": "stream",
     "text": [
      "[[0.65650091 0.86542744]\n",
      " [0.67234976 0.87393632]\n",
      " [0.615      0.7868    ]]\n",
      "rec time now 2 dataset now: Syn6\n"
     ]
    },
    {
     "name": "stderr",
     "output_type": "stream",
     "text": [
      "TPR mean: 90.1%  std: 10.0%\n",
      "FDR mean: 43.7%  std: 6.2%\n"
     ]
    },
    {
     "name": "stdout",
     "output_type": "stream",
     "text": [
      "[[0.65650091 0.86542744]\n",
      " [0.67234976 0.87393632]\n",
      " [0.615      0.7868    ]]\n",
      "rec time now 3 dataset now: Syn6\n"
     ]
    },
    {
     "name": "stderr",
     "output_type": "stream",
     "text": [
      "TPR mean: 90.1%  std: 10.0%\n",
      "FDR mean: 43.7%  std: 6.2%\n",
      "Epoch:      0, d_loss (Acc)): 0.332, v_loss (Acc): 0.000, g_loss: +0.0788\n"
     ]
    },
    {
     "name": "stdout",
     "output_type": "stream",
     "text": [
      "[[0.65650091 0.86542744]\n",
      " [0.67234976 0.87393632]\n",
      " [0.615      0.7868    ]]\n",
      "now at training epoch number 9200 hyp-params: lamda 1.0000 prior 0.0000\n",
      "rec time now 0 dataset now: Syn6\n"
     ]
    },
    {
     "name": "stderr",
     "output_type": "stream",
     "text": [
      "TPR mean: 90.1%  std: 10.0%\n",
      "FDR mean: 43.7%  std: 6.2%\n"
     ]
    },
    {
     "name": "stdout",
     "output_type": "stream",
     "text": [
      "[[0.65610453 0.86595643]\n",
      " [0.67198155 0.87342843]\n",
      " [0.6167     0.7864    ]]\n",
      "rec time now 1 dataset now: Syn6\n"
     ]
    },
    {
     "name": "stderr",
     "output_type": "stream",
     "text": [
      "TPR mean: 90.1%  std: 10.0%\n",
      "FDR mean: 43.7%  std: 6.2%\n"
     ]
    },
    {
     "name": "stdout",
     "output_type": "stream",
     "text": [
      "[[0.65610453 0.86595643]\n",
      " [0.67198155 0.87342843]\n",
      " [0.6167     0.7864    ]]\n",
      "rec time now 2 dataset now: Syn6\n"
     ]
    },
    {
     "name": "stderr",
     "output_type": "stream",
     "text": [
      "TPR mean: 90.1%  std: 10.0%\n",
      "FDR mean: 43.7%  std: 6.2%\n"
     ]
    },
    {
     "name": "stdout",
     "output_type": "stream",
     "text": [
      "[[0.65610453 0.86595643]\n",
      " [0.67198155 0.87342843]\n",
      " [0.6167     0.7864    ]]\n",
      "rec time now 3 dataset now: Syn6\n"
     ]
    },
    {
     "name": "stderr",
     "output_type": "stream",
     "text": [
      "TPR mean: 90.1%  std: 10.0%\n",
      "FDR mean: 43.7%  std: 6.2%\n",
      "Epoch:      0, d_loss (Acc)): 0.368, v_loss (Acc): 0.000, g_loss: +0.0749\n"
     ]
    },
    {
     "name": "stdout",
     "output_type": "stream",
     "text": [
      "[[0.65610453 0.86595643]\n",
      " [0.67198155 0.87342843]\n",
      " [0.6167     0.7864    ]]\n",
      "now at training epoch number 9300 hyp-params: lamda 1.0000 prior 0.0000\n",
      "rec time now 0 dataset now: Syn6\n"
     ]
    },
    {
     "name": "stderr",
     "output_type": "stream",
     "text": [
      "TPR mean: 90.1%  std: 10.0%\n",
      "FDR mean: 43.7%  std: 6.2%\n"
     ]
    },
    {
     "name": "stdout",
     "output_type": "stream",
     "text": [
      "[[0.65712827 0.86540169]\n",
      " [0.67282255 0.87433208]\n",
      " [0.616      0.7878    ]]\n",
      "rec time now 1 dataset now: Syn6\n"
     ]
    },
    {
     "name": "stderr",
     "output_type": "stream",
     "text": [
      "TPR mean: 90.1%  std: 10.0%\n",
      "FDR mean: 43.7%  std: 6.2%\n"
     ]
    },
    {
     "name": "stdout",
     "output_type": "stream",
     "text": [
      "[[0.65712827 0.86540169]\n",
      " [0.67282255 0.87433208]\n",
      " [0.616      0.7878    ]]\n",
      "rec time now 2 dataset now: Syn6\n"
     ]
    },
    {
     "name": "stderr",
     "output_type": "stream",
     "text": [
      "TPR mean: 90.1%  std: 10.0%\n",
      "FDR mean: 43.7%  std: 6.2%\n"
     ]
    },
    {
     "name": "stdout",
     "output_type": "stream",
     "text": [
      "[[0.65712827 0.86540169]\n",
      " [0.67282255 0.87433208]\n",
      " [0.616      0.7878    ]]\n",
      "rec time now 3 dataset now: Syn6\n"
     ]
    },
    {
     "name": "stderr",
     "output_type": "stream",
     "text": [
      "TPR mean: 90.1%  std: 10.0%\n",
      "FDR mean: 43.7%  std: 6.2%\n",
      "Epoch:      0, d_loss (Acc)): 0.367, v_loss (Acc): 0.000, g_loss: +0.0641\n"
     ]
    },
    {
     "name": "stdout",
     "output_type": "stream",
     "text": [
      "[[0.65712827 0.86540169]\n",
      " [0.67282255 0.87433208]\n",
      " [0.616      0.7878    ]]\n",
      "now at training epoch number 9400 hyp-params: lamda 1.0000 prior 0.0000\n",
      "rec time now 0 dataset now: Syn6\n"
     ]
    },
    {
     "name": "stderr",
     "output_type": "stream",
     "text": [
      "TPR mean: 90.1%  std: 10.0%\n",
      "FDR mean: 43.7%  std: 6.2%\n"
     ]
    },
    {
     "name": "stdout",
     "output_type": "stream",
     "text": [
      "[[0.65708665 0.86450833]\n",
      " [0.67258333 0.87239914]\n",
      " [0.6173     0.7882    ]]\n",
      "rec time now 1 dataset now: Syn6\n"
     ]
    },
    {
     "name": "stderr",
     "output_type": "stream",
     "text": [
      "TPR mean: 90.1%  std: 10.0%\n",
      "FDR mean: 43.7%  std: 6.2%\n"
     ]
    },
    {
     "name": "stdout",
     "output_type": "stream",
     "text": [
      "[[0.65708665 0.86450833]\n",
      " [0.67258333 0.87239914]\n",
      " [0.6173     0.7882    ]]\n",
      "rec time now 2 dataset now: Syn6\n"
     ]
    },
    {
     "name": "stderr",
     "output_type": "stream",
     "text": [
      "TPR mean: 90.1%  std: 10.0%\n",
      "FDR mean: 43.7%  std: 6.2%\n"
     ]
    },
    {
     "name": "stdout",
     "output_type": "stream",
     "text": [
      "[[0.65708665 0.86450833]\n",
      " [0.67258333 0.87239914]\n",
      " [0.6173     0.7882    ]]\n",
      "rec time now 3 dataset now: Syn6\n"
     ]
    },
    {
     "name": "stderr",
     "output_type": "stream",
     "text": [
      "TPR mean: 90.1%  std: 10.0%\n",
      "FDR mean: 43.7%  std: 6.2%\n",
      "Epoch:      0, d_loss (Acc)): 0.350, v_loss (Acc): 0.000, g_loss: +0.0773\n"
     ]
    },
    {
     "name": "stdout",
     "output_type": "stream",
     "text": [
      "[[0.65708665 0.86450833]\n",
      " [0.67258333 0.87239914]\n",
      " [0.6173     0.7882    ]]\n",
      "now at training epoch number 9500 hyp-params: lamda 1.0000 prior 0.0000\n",
      "rec time now 0 dataset now: Syn6\n"
     ]
    },
    {
     "name": "stderr",
     "output_type": "stream",
     "text": [
      "TPR mean: 90.1%  std: 10.0%\n",
      "FDR mean: 43.7%  std: 6.2%\n"
     ]
    },
    {
     "name": "stdout",
     "output_type": "stream",
     "text": [
      "[[0.65619149 0.86684491]\n",
      " [0.67097787 0.87539181]\n",
      " [0.617      0.7904    ]]\n",
      "rec time now 1 dataset now: Syn6\n"
     ]
    },
    {
     "name": "stderr",
     "output_type": "stream",
     "text": [
      "TPR mean: 90.1%  std: 10.0%\n",
      "FDR mean: 43.7%  std: 6.2%\n"
     ]
    },
    {
     "name": "stdout",
     "output_type": "stream",
     "text": [
      "[[0.65619149 0.86684491]\n",
      " [0.67097787 0.87539181]\n",
      " [0.617      0.7904    ]]\n",
      "rec time now 2 dataset now: Syn6\n"
     ]
    },
    {
     "name": "stderr",
     "output_type": "stream",
     "text": [
      "TPR mean: 90.1%  std: 10.0%\n",
      "FDR mean: 43.7%  std: 6.2%\n"
     ]
    },
    {
     "name": "stdout",
     "output_type": "stream",
     "text": [
      "[[0.65619149 0.86684491]\n",
      " [0.67097787 0.87539181]\n",
      " [0.617      0.7904    ]]\n",
      "rec time now 3 dataset now: Syn6\n"
     ]
    },
    {
     "name": "stderr",
     "output_type": "stream",
     "text": [
      "TPR mean: 90.1%  std: 10.0%\n",
      "FDR mean: 43.7%  std: 6.2%\n",
      "Epoch:      0, d_loss (Acc)): 0.339, v_loss (Acc): 0.000, g_loss: +0.0589\n"
     ]
    },
    {
     "name": "stdout",
     "output_type": "stream",
     "text": [
      "[[0.65619149 0.86684491]\n",
      " [0.67097787 0.87539181]\n",
      " [0.617      0.7904    ]]\n",
      "now at training epoch number 9600 hyp-params: lamda 1.0000 prior 0.0000\n",
      "rec time now 0 dataset now: Syn6\n"
     ]
    },
    {
     "name": "stderr",
     "output_type": "stream",
     "text": [
      "TPR mean: 90.1%  std: 10.0%\n",
      "FDR mean: 43.7%  std: 6.2%\n"
     ]
    },
    {
     "name": "stdout",
     "output_type": "stream",
     "text": [
      "[[0.65693112 0.8646754 ]\n",
      " [0.67229229 0.8732121 ]\n",
      " [0.6163     0.79      ]]\n",
      "rec time now 1 dataset now: Syn6\n"
     ]
    },
    {
     "name": "stderr",
     "output_type": "stream",
     "text": [
      "TPR mean: 90.1%  std: 10.0%\n",
      "FDR mean: 43.7%  std: 6.2%\n"
     ]
    },
    {
     "name": "stdout",
     "output_type": "stream",
     "text": [
      "[[0.65693112 0.8646754 ]\n",
      " [0.67229229 0.8732121 ]\n",
      " [0.6163     0.79      ]]\n",
      "rec time now 2 dataset now: Syn6\n"
     ]
    },
    {
     "name": "stderr",
     "output_type": "stream",
     "text": [
      "TPR mean: 90.1%  std: 10.0%\n",
      "FDR mean: 43.7%  std: 6.2%\n"
     ]
    },
    {
     "name": "stdout",
     "output_type": "stream",
     "text": [
      "[[0.65693112 0.8646754 ]\n",
      " [0.67229229 0.8732121 ]\n",
      " [0.6163     0.79      ]]\n",
      "rec time now 3 dataset now: Syn6\n"
     ]
    },
    {
     "name": "stderr",
     "output_type": "stream",
     "text": [
      "TPR mean: 90.1%  std: 10.0%\n",
      "FDR mean: 43.7%  std: 6.2%\n",
      "Epoch:      0, d_loss (Acc)): 0.384, v_loss (Acc): 0.000, g_loss: +0.0731\n"
     ]
    },
    {
     "name": "stdout",
     "output_type": "stream",
     "text": [
      "[[0.65693112 0.8646754 ]\n",
      " [0.67229229 0.8732121 ]\n",
      " [0.6163     0.79      ]]\n",
      "now at training epoch number 9700 hyp-params: lamda 1.0000 prior 0.0000\n",
      "rec time now 0 dataset now: Syn6\n"
     ]
    },
    {
     "name": "stderr",
     "output_type": "stream",
     "text": [
      "TPR mean: 90.1%  std: 10.0%\n",
      "FDR mean: 43.7%  std: 6.2%\n"
     ]
    },
    {
     "name": "stdout",
     "output_type": "stream",
     "text": [
      "[[0.65740202 0.86540825]\n",
      " [0.67271675 0.87318973]\n",
      " [0.6156     0.786     ]]\n",
      "rec time now 1 dataset now: Syn6\n"
     ]
    },
    {
     "name": "stderr",
     "output_type": "stream",
     "text": [
      "TPR mean: 90.1%  std: 10.0%\n",
      "FDR mean: 43.7%  std: 6.2%\n"
     ]
    },
    {
     "name": "stdout",
     "output_type": "stream",
     "text": [
      "[[0.65740202 0.86540825]\n",
      " [0.67271675 0.87318973]\n",
      " [0.6156     0.786     ]]\n",
      "rec time now 2 dataset now: Syn6\n"
     ]
    },
    {
     "name": "stderr",
     "output_type": "stream",
     "text": [
      "TPR mean: 90.1%  std: 10.0%\n",
      "FDR mean: 43.7%  std: 6.2%\n"
     ]
    },
    {
     "name": "stdout",
     "output_type": "stream",
     "text": [
      "[[0.65740202 0.86540825]\n",
      " [0.67271675 0.87318973]\n",
      " [0.6156     0.786     ]]\n",
      "rec time now 3 dataset now: Syn6\n"
     ]
    },
    {
     "name": "stderr",
     "output_type": "stream",
     "text": [
      "TPR mean: 90.1%  std: 10.0%\n",
      "FDR mean: 43.7%  std: 6.2%\n",
      "Epoch:      0, d_loss (Acc)): 0.330, v_loss (Acc): 0.000, g_loss: +0.0328\n"
     ]
    },
    {
     "name": "stdout",
     "output_type": "stream",
     "text": [
      "[[0.65740202 0.86540825]\n",
      " [0.67271675 0.87318973]\n",
      " [0.6156     0.786     ]]\n",
      "now at training epoch number 9800 hyp-params: lamda 1.0000 prior 0.0000\n",
      "rec time now 0 dataset now: Syn6\n"
     ]
    },
    {
     "name": "stderr",
     "output_type": "stream",
     "text": [
      "TPR mean: 90.1%  std: 10.0%\n",
      "FDR mean: 43.7%  std: 6.2%\n"
     ]
    },
    {
     "name": "stdout",
     "output_type": "stream",
     "text": [
      "[[0.65717884 0.86414637]\n",
      " [0.67224287 0.87177361]\n",
      " [0.6162     0.7861    ]]\n",
      "rec time now 1 dataset now: Syn6\n"
     ]
    },
    {
     "name": "stderr",
     "output_type": "stream",
     "text": [
      "TPR mean: 90.1%  std: 10.0%\n",
      "FDR mean: 43.7%  std: 6.2%\n"
     ]
    },
    {
     "name": "stdout",
     "output_type": "stream",
     "text": [
      "[[0.65717884 0.86414637]\n",
      " [0.67224287 0.87177361]\n",
      " [0.6162     0.7861    ]]\n",
      "rec time now 2 dataset now: Syn6\n"
     ]
    },
    {
     "name": "stderr",
     "output_type": "stream",
     "text": [
      "TPR mean: 90.1%  std: 10.0%\n",
      "FDR mean: 43.7%  std: 6.2%\n"
     ]
    },
    {
     "name": "stdout",
     "output_type": "stream",
     "text": [
      "[[0.65717884 0.86414637]\n",
      " [0.67224287 0.87177361]\n",
      " [0.6162     0.7861    ]]\n",
      "rec time now 3 dataset now: Syn6\n"
     ]
    },
    {
     "name": "stderr",
     "output_type": "stream",
     "text": [
      "TPR mean: 90.1%  std: 10.0%\n",
      "FDR mean: 43.7%  std: 6.2%\n",
      "Epoch:      0, d_loss (Acc)): 0.348, v_loss (Acc): 0.000, g_loss: +0.0744\n"
     ]
    },
    {
     "name": "stdout",
     "output_type": "stream",
     "text": [
      "[[0.65717884 0.86414637]\n",
      " [0.67224287 0.87177361]\n",
      " [0.6162     0.7861    ]]\n",
      "now at training epoch number 9900 hyp-params: lamda 1.0000 prior 0.0000\n",
      "rec time now 0 dataset now: Syn6\n"
     ]
    },
    {
     "name": "stderr",
     "output_type": "stream",
     "text": [
      "TPR mean: 90.1%  std: 10.0%\n",
      "FDR mean: 43.7%  std: 6.2%\n"
     ]
    },
    {
     "name": "stdout",
     "output_type": "stream",
     "text": [
      "[[0.65602031 0.86131181]\n",
      " [0.67108941 0.86969561]\n",
      " [0.6158     0.7846    ]]\n",
      "rec time now 1 dataset now: Syn6\n"
     ]
    },
    {
     "name": "stderr",
     "output_type": "stream",
     "text": [
      "TPR mean: 90.1%  std: 10.0%\n",
      "FDR mean: 43.7%  std: 6.2%\n"
     ]
    },
    {
     "name": "stdout",
     "output_type": "stream",
     "text": [
      "[[0.65602031 0.86131181]\n",
      " [0.67108941 0.86969561]\n",
      " [0.6158     0.7846    ]]\n",
      "rec time now 2 dataset now: Syn6\n"
     ]
    },
    {
     "name": "stderr",
     "output_type": "stream",
     "text": [
      "TPR mean: 90.1%  std: 10.0%\n",
      "FDR mean: 43.7%  std: 6.2%\n"
     ]
    },
    {
     "name": "stdout",
     "output_type": "stream",
     "text": [
      "[[0.65602031 0.86131181]\n",
      " [0.67108941 0.86969561]\n",
      " [0.6158     0.7846    ]]\n",
      "rec time now 3 dataset now: Syn6\n"
     ]
    },
    {
     "name": "stderr",
     "output_type": "stream",
     "text": [
      "TPR mean: 90.1%  std: 10.0%\n",
      "FDR mean: 43.7%  std: 6.2%\n"
     ]
    },
    {
     "name": "stdout",
     "output_type": "stream",
     "text": [
      "[[0.65602031 0.86131181]\n",
      " [0.67108941 0.86969561]\n",
      " [0.6158     0.7846    ]]\n",
      "PyTorch Version: elapsed time for Syn6: 100 feature, 10000 sample: [1046.6599 1077.6392 1053.6789] sec.\n"
     ]
    }
   ],
   "source": [
    "REAL_LMD = 1.0 # 0.0 - 0.5\n",
    "\n",
    "\n",
    "import time\n",
    "elapsed_time = []\n",
    "\n",
    "class init_arg(object):\n",
    "    def __init__(self, it = 10000, o = 'feature_score.csv.gz', dataset = None, i= None, target = None):\n",
    "        self.it = it\n",
    "        self.o = o\n",
    "        self.dataset = dataset\n",
    "        self.i = i\n",
    "        self.target = target\n",
    "        \n",
    "        \n",
    "progress_loger = []\n",
    "\n",
    "for DATASET in ['Syn4','Syn5','Syn6']:\n",
    "    sub_logger = []\n",
    "    args = init_arg(dataset = DATASET, it = 10000, )\n",
    "    ocsv = args.o # 'feature_score.csv.gz'\n",
    "    odir = os.path.dirname(ocsv)\n",
    "    odir = '.' if not len(odir) else odir\n",
    "    fn_csv = args.i #'data.csv'\n",
    "    label_nm = args.target # 'target'\n",
    "    nepoch = args.it\n",
    "    logger = utilmlab.init_logger(odir)\n",
    "\n",
    "    dataset = args.dataset\n",
    "\n",
    "    assert dataset is not None or fn_csv is not None\n",
    "    assert fn_csv is None or label_nm is not None\n",
    "\n",
    "    # Data output can be either binary (Y) or Probability (Prob)\n",
    "    data_out_sets = ['Y', 'Prob']\n",
    "    data_out = data_out_sets[0]\n",
    "\n",
    "    logger.info('invase: {} {} {} {}'.format(dataset, nepoch, odir, data_out))\n",
    "\n",
    "    # Number of Training and Testing samples\n",
    "    train_N = 10000\n",
    "    test_N = 10000\n",
    "\n",
    "    # Seeds (different seeds for training and testing)\n",
    "    train_seed = 0\n",
    "    test_seed = 1\n",
    "\n",
    "    x_train, y_train, _, x_test, y_test, g_test, df_train, df_test, \\\n",
    "        dset, features = load_create_data(\n",
    "            dataset,\n",
    "            data_out,\n",
    "            is_logging_enabled=True,\n",
    "            fn_csv=fn_csv,\n",
    "            label_nm=label_nm)\n",
    "    \n",
    "\n",
    "    start_time = time.time()\n",
    "    for thres_i in [0.0]:\n",
    "        Predict_Out_temp = np.zeros([3, 2])    \n",
    "\n",
    "        PVS_Alg = PVS(x_train, dataset, 100, thres=thres_i)\n",
    "\n",
    "        for train_epoch in range(int(nepoch/100)):\n",
    "            PVS_Alg.generator.train()\n",
    "            Lmd = 1.0 #train_epoch*100/nepoch * REAL_LMD\n",
    "            Thr = 0.0 #0.5*(1 - train_epoch*100/nepoch)\n",
    "            print('now at training epoch number', int(train_epoch * 100),'hyp-params: lamda %.4f prior %.4f'%(Lmd,Thr))\n",
    "            PVS_Alg.train(x_train, y_train, lmd = Lmd , thr = Thr)\n",
    "            # 3. Get the selection probability on the testing set\n",
    "            #Sel_Prob_Test = PVS_Alg.output(x_test)\n",
    "\n",
    "\n",
    "\n",
    "            '''recurssive generation'''\n",
    "            input_batch = x_test * 1.0\n",
    "            sel_prob_tot = 1.0\n",
    "            for recur_time in range(4):\n",
    "                print('rec time now',recur_time,'dataset now:',DATASET)\n",
    "                PVS_Alg.generator.eval()\n",
    "                gen_prob = PVS_Alg.generator(torch.as_tensor(input_batch).float().to(device))\n",
    "                #sel_prob = PVS_Alg.Sample_M(gen_prob)\n",
    "                sel_prob = 1.*(gen_prob > 0.5)\n",
    "                sel_prob_tot_0 = sel_prob_tot * 1.0\n",
    "                sel_prob_tot = torch.as_tensor(sel_prob * sel_prob_tot).to(device)\n",
    "                input_batch = sel_prob_tot * torch.as_tensor(input_batch).to(device)\n",
    "\n",
    "                score = sel_prob_tot\n",
    "                #print('score',score)\n",
    "\n",
    "\n",
    "\n",
    "                # 4. Selected features\n",
    "                # 5. Prediction\n",
    "                val_predict, dis_predict = PVS_Alg.get_prediction(torch.as_tensor(x_test).float().to(device), score)\n",
    "                val_predict = torch.softmax(torch.as_tensor(val_predict),-1).cpu().numpy()\n",
    "                dis_predict = torch.softmax(torch.as_tensor(dis_predict),-1).cpu().numpy()\n",
    "\n",
    "\n",
    "                def performance_metric(score, g_truth):\n",
    "\n",
    "                    n = len(score)\n",
    "                    Temp_TPR = np.zeros([n,])\n",
    "                    Temp_FDR = np.zeros([n,])\n",
    "\n",
    "                    for i in range(n):\n",
    "\n",
    "                        # TPR    \n",
    "                        # embed()\n",
    "                        TPR_Nom = np.sum((score[i,:].cpu().detach().numpy() * g_truth[i,:]))\n",
    "                        TPR_Den = np.sum(g_truth[i,:])\n",
    "                        Temp_TPR[i] = 100 * float(TPR_Nom)/float(TPR_Den+1e-8)\n",
    "\n",
    "                        # FDR\n",
    "                        FDR_Nom = np.sum((score[i,:].cpu().detach().numpy() * (1-g_truth[i,:])))\n",
    "                        FDR_Den = np.sum(score[i,:].cpu().detach().numpy())\n",
    "                        Temp_FDR[i] = 100 * float(FDR_Nom)/float(FDR_Den+1e-8)\n",
    "\n",
    "                    return np.mean(Temp_TPR), np.mean(Temp_FDR),\\\n",
    "                        np.std(Temp_TPR), np.std(Temp_FDR)\n",
    "\n",
    "                #%% Output\n",
    "\n",
    "                TPR_mean, TPR_std = -1, 0\n",
    "                FDR_mean, FDR_std = -1, 0\n",
    "                if g_test is not None:\n",
    "                    TPR_mean, FDR_mean, TPR_std, FDR_std = performance_metric(\n",
    "                        score, g_test)\n",
    "\n",
    "                    logger.info('TPR mean: {:0.1f}%  std: {:0.1f}%'.format(\n",
    "                        TPR_mean, TPR_std))\n",
    "                    logger.info('FDR mean: {:0.1f}%  std: {:0.1f}%'.format(\n",
    "                        FDR_mean, FDR_std))\n",
    "                else:\n",
    "                    logger.info('no ground truth relevance')\n",
    "\n",
    "\n",
    "\n",
    "                #%% Performance Metrics\n",
    "                Predict_Out_temp[0,0] = roc_auc_score(y_test[:,1], val_predict[:,1])\n",
    "                Predict_Out_temp[1,0] = average_precision_score(y_test[:,1], val_predict[:,1])\n",
    "                Predict_Out_temp[2,0] = accuracy_score(y_test[:,1], 1. * (val_predict[:,1]>0.5) )\n",
    "\n",
    "                Predict_Out_temp[0,1] = roc_auc_score(y_test[:,1], dis_predict[:,1])\n",
    "                Predict_Out_temp[1,1] = average_precision_score(y_test[:,1], dis_predict[:,1])\n",
    "                Predict_Out_temp[2,1] = accuracy_score(y_test[:,1], 1. * (dis_predict[:,1]>0.5) )\n",
    "                print(Predict_Out_temp)\n",
    "                sub_logger.append((Predict_Out_temp,TPR_mean,FDR_mean,TPR_std,FDR_std))\n",
    "        progress_loger.append(sub_logger)\n",
    "    elapsed_time.append(time.time() - start_time)\n",
    "    print('PyTorch Version: elapsed time for {}: 100 feature, 10000 sample:'.format(DATASET),np.round(elapsed_time,4),'sec.')\n"
   ]
  },
  {
   "cell_type": "code",
   "execution_count": null,
   "metadata": {},
   "outputs": [],
   "source": []
  }
 ],
 "metadata": {
  "kernelspec": {
   "display_name": "py3.79",
   "language": "python",
   "name": "py2.7"
  },
  "language_info": {
   "codemirror_mode": {
    "name": "ipython",
    "version": 3
   },
   "file_extension": ".py",
   "mimetype": "text/x-python",
   "name": "python",
   "nbconvert_exporter": "python",
   "pygments_lexer": "ipython3",
   "version": "3.7.9"
  }
 },
 "nbformat": 4,
 "nbformat_minor": 4
}
