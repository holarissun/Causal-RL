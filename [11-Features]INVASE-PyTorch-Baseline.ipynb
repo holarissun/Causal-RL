{
 "cells": [
  {
   "cell_type": "code",
   "execution_count": 1,
   "metadata": {},
   "outputs": [],
   "source": [
    "X_DIM = 11 # feature dimension Hyper-Param"
   ]
  },
  {
   "cell_type": "code",
   "execution_count": 2,
   "metadata": {},
   "outputs": [],
   "source": [
    "import numpy as np\n",
    "from sklearn.metrics import roc_auc_score\n",
    "from sklearn.metrics import average_precision_score\n",
    "from sklearn.metrics import accuracy_score\n",
    "# import argparse\n",
    "from data_generation import generate_data\n",
    "import os\n",
    "import json\n",
    "import pandas as pd\n",
    "import time\n",
    "import initpath_alg\n",
    "#initpath_alg.init_sys_path()\n",
    "import utilmlab\n",
    "import data_loader_mlab\n",
    "\n",
    "\n",
    "def array2str(a):\n",
    "    s = ''\n",
    "    for idx, el in enumerate(a):\n",
    "        s += (' ' if idx > 0 else '') + '{:0.3f}'.format(el)\n",
    "    return s\n",
    "\n",
    "\n",
    "def one_hot_encoder(a):\n",
    "    n_values = np.max(a) + 1\n",
    "    return np.eye(n_values)[a]\n",
    "\n",
    "\n",
    "def load_create_data(\n",
    "        data_type,\n",
    "        data_out,\n",
    "        is_logging_enabled=True,\n",
    "        fn_csv=None,\n",
    "        label_nm=None):\n",
    "\n",
    "    df_train, df_test, dset = None, None, None\n",
    "    features = None\n",
    "    if data_type in data_loader_mlab.get_available_datasets() + ['show'] \\\n",
    "       or fn_csv is not None:\n",
    "        if fn_csv is not None:\n",
    "            rval, dset = data_loader_mlab.load_dataset_from_csv(\n",
    "                logger, fn_csv, label_nm)\n",
    "        else:\n",
    "            rval, dset = data_loader_mlab.get_dataset(data_type)\n",
    "        assert rval == 0\n",
    "        data_loader_mlab.dataset_log_properties(logger, dset)\n",
    "        if is_logging_enabled:\n",
    "            logger.info('warning no seed')\n",
    "        df = dset['df']\n",
    "        features = dset['features']\n",
    "        labels = dset['targets']\n",
    "        nsample = len(df)\n",
    "        train_ratio = 0.8\n",
    "        idx = np.random.permutation(nsample)\n",
    "        ntrain = int(nsample * train_ratio)\n",
    "        df_train = df.iloc[idx[:ntrain]]\n",
    "        df_test = df.iloc[idx[ntrain:]]\n",
    "\n",
    "        col_drop = utilmlab.col_with_nan(df)\n",
    "        if is_logging_enabled and len(col_drop):\n",
    "            print('warning: dropping features {}'\n",
    "                  ', contains nan'.format(col_drop))\n",
    "            time.sleep(2)\n",
    "\n",
    "        features = [el for el in features if el not in col_drop]\n",
    "\n",
    "        x_train = df_train[features].values\n",
    "        y_train = df_train[labels].values\n",
    "        x_test = df_test[features].values\n",
    "        y_test = df_test[labels].values\n",
    "\n",
    "        g_train, g_test = None, None\n",
    "\n",
    "        y_train = one_hot_encoder(np.ravel(y_train))\n",
    "        y_test = one_hot_encoder(np.ravel(y_test))\n",
    "        if is_logging_enabled:\n",
    "            logger.info('y: train:{} test:{}'.format(\n",
    "                set(np.ravel(y_train)), set(np.ravel(y_test))))\n",
    "    else:\n",
    "        x_train, y_train, g_train = generate_data(\n",
    "            n=train_N, data_type=data_type, seed=train_seed, out=data_out, x_dim = X_DIM)\n",
    "        x_test,  y_test,  g_test = generate_data(\n",
    "            n=test_N,  data_type=data_type, seed=test_seed,  out=data_out, x_dim = X_DIM)\n",
    "    if is_logging_enabled:\n",
    "        logger.info('{} {} {} {}'.format(\n",
    "            x_train.shape,\n",
    "            y_train.shape,\n",
    "            x_test.shape,\n",
    "            y_test.shape))\n",
    "    return x_train, y_train, g_train, x_test, y_test, \\\n",
    "        g_test, df_train, df_test, dset, features\n",
    "\n",
    "\n"
   ]
  },
  {
   "cell_type": "code",
   "execution_count": 3,
   "metadata": {},
   "outputs": [],
   "source": [
    "from IPython import embed\n",
    "import torch\n",
    "import torch.nn as nn\n",
    "import torch.nn.functional as F\n",
    "device = torch.device(\"cuda\" if torch.cuda.is_available() else \"cpu\")\n",
    "torch.cuda.set_device(1)\n",
    "\n",
    "# Generator (Actor) in PyTorch\n",
    "class Actor(nn.Module):\n",
    "    def __init__(self, state_dim, action_dim):\n",
    "        super(Actor, self).__init__()\n",
    "\n",
    "        self.l1 = nn.Linear(state_dim, 100)\n",
    "        self.l2 = nn.Linear(100, 100)\n",
    "        self.l3 = nn.Linear(100, action_dim)\n",
    "\n",
    "\n",
    "    def forward(self, state):\n",
    "        a = F.selu(self.l1(state))\n",
    "        a = F.selu(self.l2(a))\n",
    "        return torch.sigmoid(self.l3(a))\n",
    "        \n",
    "# Discriminator (Critic) in PyTorch    \n",
    "# Critic in INVASE is a classifier that provide return signal\n",
    "class Critic(nn.Module):\n",
    "    def __init__(self, state_dim, action_dim):\n",
    "        super(Critic, self).__init__()\n",
    "\n",
    "        # Q1 architecture\n",
    "        self.l1 = nn.Linear(state_dim, 200)\n",
    "        self.bn1 = nn.BatchNorm1d(num_features=200)\n",
    "        self.l2 = nn.Linear(200, 200)\n",
    "        self.bn2 = nn.BatchNorm1d(num_features=200)\n",
    "        self.l3 = nn.Linear(200, 2)\n",
    "\n",
    "\n",
    "    def forward(self, state, action):\n",
    "        #sa = torch.cat([state, action], 1)\n",
    "        sa = state * action\n",
    "\n",
    "        q1 = F.selu(self.bn1(self.l1(sa)))\n",
    "        q1 = F.selu(self.bn2(self.l2(q1)))\n",
    "        q1 = self.l3(q1)\n",
    "\n",
    "        return q1 # prob, actually the binary classification result with softmax activation (logits)\n",
    "    \n",
    "# Valuefunction (Baseline) in PyTorch   \n",
    "# Valuefunction in INVASE is a classifier that provide return signal\n",
    "class Baseline(nn.Module):\n",
    "    def __init__(self, state_dim, action_dim):\n",
    "        super(Baseline, self).__init__()\n",
    "\n",
    "        # Q1 architecture\n",
    "        self.l1 = nn.Linear(state_dim, 200)\n",
    "        self.bn1 = nn.BatchNorm1d(num_features=200)\n",
    "        self.l2 = nn.Linear(200, 200)\n",
    "        self.bn2 = nn.BatchNorm1d(num_features=200)\n",
    "        self.l3 = nn.Linear(200, 2)\n",
    "\n",
    "\n",
    "    def forward(self, state):\n",
    "        #sa = torch.cat([state, action], 1)\n",
    "        sa = state\n",
    "\n",
    "        q1 = F.selu(self.bn1(self.l1(sa)))\n",
    "        q1 = F.selu(self.bn2(self.l2(q1)))\n",
    "        q1 = self.l3(q1)\n",
    "\n",
    "        return q1 # prob, actually the binary classification result with softmax activation (logits)    \n",
    "\n",
    "    \n",
    "    \n",
    "class PVS():\n",
    "    # 1. Initialization\n",
    "    '''\n",
    "    x_train: training samples\n",
    "    data_type: Syn1 to Syn 6\n",
    "    '''\n",
    "    def __init__(self, x_train, data_type, nepoch, is_logging_enabled=True, thres = 0.5):\n",
    "        self.is_logging_enabled = is_logging_enabled\n",
    "        self.latent_dim1 = 100      # Dimension of actor (generator) network\n",
    "        self.latent_dim2 = 200      # Dimension of critic (discriminator) network\n",
    "        \n",
    "        self.batch_size = min(1000, x_train.shape[0])      # Batch size\n",
    "        self.epochs = nepoch        # Epoch size (large epoch is needed due to the policy gradient framework)\n",
    "        self.lamda = 99999.           # Hyper-parameter for the number of selected features \n",
    "        self.thres = thres\n",
    "        '''lamda is number of selected features? is it the coefficient?'''\n",
    "        \n",
    "        \n",
    "        self.input_shape = x_train.shape[1]     # Input dimension\n",
    "        logger.info('input shape: {}'.format(self.input_shape))\n",
    "        \n",
    "        # Actionvation. (For Syn1 and 2, relu, others, selu)\n",
    "        self.activation = 'relu' if data_type in ['Syn1','Syn2'] else 'selu'       \n",
    "        \n",
    "        \n",
    "        self.generator = Actor(state_dim=self.input_shape, action_dim = self.input_shape).to(device)\n",
    "        self.discriminator = Critic(state_dim=self.input_shape, action_dim = self.input_shape).to(device)\n",
    "        self.valfunction = Baseline(state_dim=self.input_shape, action_dim = self.input_shape).to(device)\n",
    "        \n",
    "        \n",
    "        self.generator_optimizer = torch.optim.Adam(self.generator.parameters(), lr=1e-4)#,weight_decay=1e-3)\n",
    "        self.discriminator_optimizer = torch.optim.Adam(self.discriminator.parameters(), lr=1e-4)#,weight_decay=1e-3)\n",
    "        self.valfunction_optimizer = torch.optim.Adam(self.valfunction.parameters(), lr=1e-4)#,weight_decay=1e-3)\n",
    "        \n",
    "\n",
    "    #%% Custom loss definition\n",
    "    def my_loss(self, y_true, y_pred,lmd,thr):\n",
    "        \n",
    "        \n",
    "        # dimension of the features\n",
    "        d = y_pred.shape[1]        \n",
    "        \n",
    "        # Put all three in y_true \n",
    "        # 1. selected probability\n",
    "        sel_prob = y_true[:,:d] # bs x d\n",
    "        # 2. discriminator output\n",
    "        dis_prob = y_true[:,d:(d+2)] # bs x 2\n",
    "        # 3. valfunction output\n",
    "        val_prob = y_true[:,(d+2):(d+4)] # bs x 2\n",
    "        # 4. ground truth\n",
    "        y_final = y_true[:,(d+4):] # bs x 2\n",
    "        \n",
    "        # A1. Compute the rewards of the actor network\n",
    "        Reward1 = torch.sum( y_final * torch.log(dis_prob + 1e-8), axis = 1)  \n",
    "        #reduce_sum(\n",
    "        \n",
    "        # A2. Compute the rewards of the actor network\n",
    "        Reward2 = torch.sum( y_final * torch.log(val_prob + 1e-8), axis = 1)  \n",
    "\n",
    "        # Difference is the rewards\n",
    "        Reward = Reward1 - Reward2\n",
    "\n",
    "        # B. Policy gradient loss computation. \n",
    "        #embed()\n",
    "        loss1 = Reward * torch.sum( sel_prob * torch.log(y_pred + 1e-8) + (1-sel_prob) * torch.log(1-y_pred + 1e-8), axis = 1) - lmd *torch.mean( torch.abs(y_pred-thr), axis = 1)\n",
    "        \n",
    "        # C. Maximize the loss1\n",
    "        loss = torch.mean(-loss1)\n",
    "        return loss\n",
    "    \n",
    "\n",
    "    def Sample_M(self, gen_prob):\n",
    "        # Shape of the selection probability\n",
    "        n = gen_prob.shape[0]\n",
    "        d = gen_prob.shape[1]\n",
    "        # Sampling\n",
    "        samples = np.random.binomial(1, gen_prob, (n,d))\n",
    "\n",
    "        return samples\n",
    "\n",
    "    #%% Training procedure\n",
    "    def train(self, x_train, y_train, lmd,thr):\n",
    "\n",
    "        # For each epoch (actually iterations)\n",
    "        for epoch in range(self.epochs):\n",
    "\n",
    "            #%% Train Discriminator\n",
    "            # Select a random batch of samples\n",
    "            idx = np.random.randint(0, x_train.shape[0], self.batch_size)\n",
    "            x_batch = torch.as_tensor(x_train[idx,:]).float().to(device)\n",
    "            y_batch = torch.as_tensor(np.argmax(y_train[idx,:],1)).long().to(device)\n",
    "            \n",
    "            # Generate a batch of probabilities of feature selection\n",
    "            gen_prob = self.generator(x_batch).cpu().detach().numpy()\n",
    "            #print(gen_prob)\n",
    "            # Sampling the features based on the generated probability\n",
    "            sel_prob = self.Sample_M(gen_prob)\n",
    "            '''sel_prob is the mask'''\n",
    "            \n",
    "            # Compute the prediction of the critic based on the sampled features (used for generator training)\n",
    "            dis_prob = self.discriminator(x_batch, torch.as_tensor(sel_prob).float().to(device))\n",
    "            \n",
    "            # Train the discriminator\n",
    "            #d_loss = self.discriminator.train_on_batch([x_batch, sel_prob], y_batch)\n",
    "            loss_func_c = nn.CrossEntropyLoss()\n",
    "            self.discriminator_optimizer.zero_grad()\n",
    "            critic_loss = loss_func_c(dis_prob, y_batch)\n",
    "            critic_loss.backward()\n",
    "            self.discriminator_optimizer.step()\n",
    "\n",
    "            #%% Train Valud function\n",
    "\n",
    "            # Compute the prediction of the baseline based on the sampled features (used for generator training)\n",
    "            val_prob = self.valfunction(x_batch)#.cpu().detach().numpy()\n",
    "            \n",
    "            # Train the baseline model\n",
    "            loss_func_v = nn.CrossEntropyLoss()\n",
    "            self.valfunction_optimizer.zero_grad()\n",
    "            value_loss = loss_func_v(val_prob, y_batch)\n",
    "            value_loss.backward()\n",
    "            self.valfunction_optimizer.step()\n",
    "            \n",
    "            \n",
    "            #%% Train Generator\n",
    "            # Use three things as the y_true: sel_prob, dis_prob, and ground truth (y_batch)\n",
    "            '''\n",
    "            sel_prob: the mask generated by bernulli sampler [bs, d]\n",
    "            dis_prob: prediction of the critic               [bs, 2]\n",
    "            val_prob: prediction of the baseline model       [bs, 2]\n",
    "            y_batch: batch of y_train                        [bs, 2]\n",
    "            all of those variables are 'placeholders'\n",
    "            '''\n",
    "            \n",
    "            y_batch_final = torch.as_tensor(np.concatenate( (sel_prob, np.asarray(torch.softmax(torch.as_tensor(dis_prob),-1).cpu().detach().numpy()), np.asarray(torch.softmax(torch.as_tensor(val_prob),-1).cpu().detach().numpy()), y_train[idx,:]), axis = 1 )).to(device)\n",
    "            # Train the generator\n",
    "            \n",
    "            actor_pred = self.generator(x_batch)\n",
    "            self.generator_optimizer.zero_grad()\n",
    "            actor_loss = self.my_loss(y_batch_final,actor_pred,lmd,thr)\n",
    "            actor_loss.backward()\n",
    "            self.generator_optimizer.step()\n",
    "            \n",
    "            #%% Plot the progress\n",
    "            dialog = 'Epoch: ' + '{:6d}'.format(epoch) + ', d_loss (Acc)): '\n",
    "            dialog += '{:0.3f}'.format(critic_loss) + ', v_loss (Acc): '\n",
    "            dialog += '{:0.3f}'.format(value_loss) + ', g_loss: ' + '{:+6.4f}'.format(actor_loss)\n",
    "\n",
    "            if epoch % 100 == 0:\n",
    "                logger.info('{}'.format(dialog))\n",
    "    \n",
    "    #%% Selected Features        \n",
    "    def output(self, x_train):\n",
    "        \n",
    "        gen_prob = self.generator(x_train).cpu().detach().numpy()\n",
    "        \n",
    "        return np.asarray(gen_prob)\n",
    "     \n",
    "    #%% Prediction Results \n",
    "    def get_prediction(self, x_train, m_train):\n",
    "        \n",
    "        val_prediction = self.valfunction(x_train).cpu().detach().numpy()\n",
    "        \n",
    "        dis_prediction = self.discriminator(x_train, m_train).cpu().detach().numpy()\n",
    "        \n",
    "        return np.asarray(val_prediction), np.asarray(dis_prediction)"
   ]
  },
  {
   "cell_type": "code",
   "execution_count": 4,
   "metadata": {},
   "outputs": [
    {
     "name": "stderr",
     "output_type": "stream",
     "text": [
      "invase: Syn1 5000 . Y\n",
      "(10000, 11) (10000, 2) (10000, 11) (10000, 2)\n",
      "input shape: 11\n",
      "Epoch:      0, d_loss (Acc)): 0.788, v_loss (Acc): 0.858, g_loss: +0.5714\n"
     ]
    },
    {
     "name": "stdout",
     "output_type": "stream",
     "text": [
      "now at training epoch number 0 hyp-params: lamda 0.1000 prior 0.0000\n",
      "rec time now 0 dataset now: Syn1\n"
     ]
    },
    {
     "name": "stderr",
     "output_type": "stream",
     "text": [
      "TPR mean: 17.0%  std: 26.9%\n",
      "FDR mean: 88.0%  std: 22.4%\n"
     ]
    },
    {
     "name": "stdout",
     "output_type": "stream",
     "text": [
      "[[0.6179706  0.50994385]\n",
      " [0.62170649 0.51736687]\n",
      " [0.5764     0.5101    ]]\n",
      "rec time now 1 dataset now: Syn1\n"
     ]
    },
    {
     "name": "stderr",
     "output_type": "stream",
     "text": [
      "TPR mean: 4.1%  std: 15.1%\n",
      "FDR mean: 73.3%  std: 42.7%\n"
     ]
    },
    {
     "name": "stdout",
     "output_type": "stream",
     "text": [
      "[[0.6179706  0.51122036]\n",
      " [0.62170649 0.51422022]\n",
      " [0.5764     0.5108    ]]\n",
      "rec time now 2 dataset now: Syn1\n"
     ]
    },
    {
     "name": "stderr",
     "output_type": "stream",
     "text": [
      "TPR mean: 1.9%  std: 10.7%\n",
      "FDR mean: 66.4%  std: 46.6%\n"
     ]
    },
    {
     "name": "stdout",
     "output_type": "stream",
     "text": [
      "[[0.6179706  0.50119709]\n",
      " [0.62170649 0.5085357 ]\n",
      " [0.5764     0.5067    ]]\n",
      "rec time now 3 dataset now: Syn1\n"
     ]
    },
    {
     "name": "stderr",
     "output_type": "stream",
     "text": [
      "TPR mean: 1.6%  std: 9.9%\n",
      "FDR mean: 64.5%  std: 47.3%\n",
      "Epoch:      0, d_loss (Acc)): 0.696, v_loss (Acc): 0.671, g_loss: -0.1444\n"
     ]
    },
    {
     "name": "stdout",
     "output_type": "stream",
     "text": [
      "[[0.6179706  0.49882217]\n",
      " [0.62170649 0.5070141 ]\n",
      " [0.5764     0.5052    ]]\n",
      "now at training epoch number 100 hyp-params: lamda 0.1000 prior 0.0000\n",
      "rec time now 0 dataset now: Syn1\n"
     ]
    },
    {
     "name": "stderr",
     "output_type": "stream",
     "text": [
      "TPR mean: 21.1%  std: 28.6%\n",
      "FDR mean: 59.3%  std: 42.5%\n"
     ]
    },
    {
     "name": "stdout",
     "output_type": "stream",
     "text": [
      "[[0.65304113 0.51428559]\n",
      " [0.65904454 0.5250652 ]\n",
      " [0.5973     0.5094    ]]\n",
      "rec time now 1 dataset now: Syn1\n"
     ]
    },
    {
     "name": "stderr",
     "output_type": "stream",
     "text": [
      "TPR mean: 3.1%  std: 13.3%\n",
      "FDR mean: 23.3%  std: 41.5%\n"
     ]
    },
    {
     "name": "stdout",
     "output_type": "stream",
     "text": [
      "[[0.65304113 0.5054109 ]\n",
      " [0.65904454 0.50970983]\n",
      " [0.5973     0.4956    ]]\n",
      "rec time now 2 dataset now: Syn1\n"
     ]
    },
    {
     "name": "stderr",
     "output_type": "stream",
     "text": [
      "TPR mean: 0.9%  std: 7.4%\n",
      "FDR mean: 13.7%  std: 34.0%\n"
     ]
    },
    {
     "name": "stdout",
     "output_type": "stream",
     "text": [
      "[[0.65304113 0.49623522]\n",
      " [0.65904454 0.50302252]\n",
      " [0.5973     0.4917    ]]\n",
      "rec time now 3 dataset now: Syn1\n"
     ]
    },
    {
     "name": "stderr",
     "output_type": "stream",
     "text": [
      "TPR mean: 0.8%  std: 6.8%\n",
      "FDR mean: 11.9%  std: 31.9%\n",
      "Epoch:      0, d_loss (Acc)): 0.691, v_loss (Acc): 0.641, g_loss: -0.3324\n"
     ]
    },
    {
     "name": "stdout",
     "output_type": "stream",
     "text": [
      "[[0.65304113 0.49675171]\n",
      " [0.65904454 0.5038534 ]\n",
      " [0.5973     0.4913    ]]\n",
      "now at training epoch number 200 hyp-params: lamda 0.1000 prior 0.0000\n",
      "rec time now 0 dataset now: Syn1\n"
     ]
    },
    {
     "name": "stderr",
     "output_type": "stream",
     "text": [
      "TPR mean: 59.2%  std: 34.3%\n",
      "FDR mean: 22.3%  std: 33.4%\n"
     ]
    },
    {
     "name": "stdout",
     "output_type": "stream",
     "text": [
      "[[0.66579675 0.59092796]\n",
      " [0.67694549 0.5999769 ]\n",
      " [0.6119     0.5614    ]]\n",
      "rec time now 1 dataset now: Syn1\n"
     ]
    },
    {
     "name": "stderr",
     "output_type": "stream",
     "text": [
      "TPR mean: 50.7%  std: 33.3%\n",
      "FDR mean: 4.1%  std: 18.1%\n"
     ]
    },
    {
     "name": "stdout",
     "output_type": "stream",
     "text": [
      "[[0.66579675 0.55622394]\n",
      " [0.67694549 0.55224216]\n",
      " [0.6119     0.5373    ]]\n",
      "rec time now 2 dataset now: Syn1\n"
     ]
    },
    {
     "name": "stderr",
     "output_type": "stream",
     "text": [
      "TPR mean: 50.0%  std: 33.4%\n",
      "FDR mean: 2.2%  std: 13.5%\n"
     ]
    },
    {
     "name": "stdout",
     "output_type": "stream",
     "text": [
      "[[0.66579675 0.55569794]\n",
      " [0.67694549 0.54880056]\n",
      " [0.6119     0.5372    ]]\n",
      "rec time now 3 dataset now: Syn1\n"
     ]
    },
    {
     "name": "stderr",
     "output_type": "stream",
     "text": [
      "TPR mean: 49.9%  std: 33.4%\n",
      "FDR mean: 1.9%  std: 12.5%\n",
      "Epoch:      0, d_loss (Acc)): 0.675, v_loss (Acc): 0.616, g_loss: -0.3889\n"
     ]
    },
    {
     "name": "stdout",
     "output_type": "stream",
     "text": [
      "[[0.66579675 0.55688833]\n",
      " [0.67694549 0.5497111 ]\n",
      " [0.6119     0.5373    ]]\n",
      "now at training epoch number 300 hyp-params: lamda 0.1000 prior 0.0000\n",
      "rec time now 0 dataset now: Syn1\n"
     ]
    },
    {
     "name": "stderr",
     "output_type": "stream",
     "text": [
      "TPR mean: 95.9%  std: 14.5%\n",
      "FDR mean: 5.9%  std: 16.1%\n"
     ]
    },
    {
     "name": "stdout",
     "output_type": "stream",
     "text": [
      "[[0.67693505 0.63169529]\n",
      " [0.68675088 0.65421714]\n",
      " [0.6165     0.5741    ]]\n",
      "rec time now 1 dataset now: Syn1\n"
     ]
    },
    {
     "name": "stderr",
     "output_type": "stream",
     "text": [
      "TPR mean: 95.3%  std: 15.3%\n",
      "FDR mean: 0.4%  std: 5.4%\n"
     ]
    },
    {
     "name": "stdout",
     "output_type": "stream",
     "text": [
      "[[0.67693505 0.62947788]\n",
      " [0.68675088 0.64832282]\n",
      " [0.6165     0.5698    ]]\n",
      "rec time now 2 dataset now: Syn1\n"
     ]
    },
    {
     "name": "stderr",
     "output_type": "stream",
     "text": [
      "TPR mean: 95.3%  std: 15.3%\n",
      "FDR mean: 0.2%  std: 3.8%\n"
     ]
    },
    {
     "name": "stdout",
     "output_type": "stream",
     "text": [
      "[[0.67693505 0.63049026]\n",
      " [0.68675088 0.64942991]\n",
      " [0.6165     0.5706    ]]\n",
      "rec time now 3 dataset now: Syn1\n"
     ]
    },
    {
     "name": "stderr",
     "output_type": "stream",
     "text": [
      "TPR mean: 95.3%  std: 15.3%\n",
      "FDR mean: 0.2%  std: 3.7%\n",
      "Epoch:      0, d_loss (Acc)): 0.673, v_loss (Acc): 0.615, g_loss: -0.3645\n"
     ]
    },
    {
     "name": "stdout",
     "output_type": "stream",
     "text": [
      "[[0.67693505 0.63041972]\n",
      " [0.68675088 0.64930312]\n",
      " [0.6165     0.5708    ]]\n",
      "now at training epoch number 400 hyp-params: lamda 0.1000 prior 0.0000\n",
      "rec time now 0 dataset now: Syn1\n"
     ]
    },
    {
     "name": "stderr",
     "output_type": "stream",
     "text": [
      "TPR mean: 99.7%  std: 3.6%\n",
      "FDR mean: 1.0%  std: 6.6%\n"
     ]
    },
    {
     "name": "stdout",
     "output_type": "stream",
     "text": [
      "[[0.6773228  0.65910958]\n",
      " [0.68737827 0.66917432]\n",
      " [0.6148     0.5974    ]]\n",
      "rec time now 1 dataset now: Syn1\n"
     ]
    },
    {
     "name": "stderr",
     "output_type": "stream",
     "text": [
      "TPR mean: 99.7%  std: 3.6%\n",
      "FDR mean: 0.0%  std: 0.9%\n"
     ]
    },
    {
     "name": "stdout",
     "output_type": "stream",
     "text": [
      "[[0.6773228  0.65873508]\n",
      " [0.68737827 0.67112865]\n",
      " [0.6148     0.5985    ]]\n",
      "rec time now 2 dataset now: Syn1\n"
     ]
    },
    {
     "name": "stderr",
     "output_type": "stream",
     "text": [
      "TPR mean: 99.7%  std: 3.6%\n",
      "FDR mean: 0.0%  std: 0.6%\n"
     ]
    },
    {
     "name": "stdout",
     "output_type": "stream",
     "text": [
      "[[0.6773228  0.65847525]\n",
      " [0.68737827 0.67108708]\n",
      " [0.6148     0.5986    ]]\n",
      "rec time now 3 dataset now: Syn1\n"
     ]
    },
    {
     "name": "stderr",
     "output_type": "stream",
     "text": [
      "TPR mean: 99.7%  std: 3.6%\n",
      "FDR mean: 0.0%  std: 0.6%\n",
      "Epoch:      0, d_loss (Acc)): 0.642, v_loss (Acc): 0.620, g_loss: -0.0915\n"
     ]
    },
    {
     "name": "stdout",
     "output_type": "stream",
     "text": [
      "[[0.6773228  0.65847525]\n",
      " [0.68737827 0.67108708]\n",
      " [0.6148     0.5986    ]]\n",
      "now at training epoch number 500 hyp-params: lamda 0.1000 prior 0.0000\n",
      "rec time now 0 dataset now: Syn1\n"
     ]
    },
    {
     "name": "stderr",
     "output_type": "stream",
     "text": [
      "TPR mean: 100.0%  std: 0.0%\n",
      "FDR mean: 0.1%  std: 1.8%\n"
     ]
    },
    {
     "name": "stdout",
     "output_type": "stream",
     "text": [
      "[[0.67894976 0.6813554 ]\n",
      " [0.68932406 0.69347397]\n",
      " [0.6176     0.6122    ]]\n",
      "rec time now 1 dataset now: Syn1\n"
     ]
    },
    {
     "name": "stderr",
     "output_type": "stream",
     "text": [
      "TPR mean: 100.0%  std: 0.0%\n",
      "FDR mean: 0.0%  std: 0.0%\n"
     ]
    },
    {
     "name": "stdout",
     "output_type": "stream",
     "text": [
      "[[0.67894976 0.68233881]\n",
      " [0.68932406 0.69551481]\n",
      " [0.6176     0.6135    ]]\n",
      "rec time now 2 dataset now: Syn1\n"
     ]
    },
    {
     "name": "stderr",
     "output_type": "stream",
     "text": [
      "TPR mean: 100.0%  std: 0.0%\n",
      "FDR mean: 0.0%  std: 0.0%\n"
     ]
    },
    {
     "name": "stdout",
     "output_type": "stream",
     "text": [
      "[[0.67894976 0.68233881]\n",
      " [0.68932406 0.69551481]\n",
      " [0.6176     0.6135    ]]\n",
      "rec time now 3 dataset now: Syn1\n"
     ]
    },
    {
     "name": "stderr",
     "output_type": "stream",
     "text": [
      "TPR mean: 100.0%  std: 0.0%\n",
      "FDR mean: 0.0%  std: 0.0%\n",
      "Epoch:      0, d_loss (Acc)): 0.629, v_loss (Acc): 0.594, g_loss: -0.1704\n"
     ]
    },
    {
     "name": "stdout",
     "output_type": "stream",
     "text": [
      "[[0.67894976 0.68233881]\n",
      " [0.68932406 0.69551481]\n",
      " [0.6176     0.6135    ]]\n",
      "now at training epoch number 600 hyp-params: lamda 0.1000 prior 0.0000\n",
      "rec time now 0 dataset now: Syn1\n"
     ]
    },
    {
     "name": "stderr",
     "output_type": "stream",
     "text": [
      "TPR mean: 100.0%  std: 0.0%\n",
      "FDR mean: 0.0%  std: 0.3%\n"
     ]
    },
    {
     "name": "stdout",
     "output_type": "stream",
     "text": [
      "[[0.67908422 0.68027601]\n",
      " [0.68849941 0.69331284]\n",
      " [0.6181     0.6141    ]]\n",
      "rec time now 1 dataset now: Syn1\n"
     ]
    },
    {
     "name": "stderr",
     "output_type": "stream",
     "text": [
      "TPR mean: 100.0%  std: 0.0%\n",
      "FDR mean: 0.0%  std: 0.0%\n"
     ]
    },
    {
     "name": "stdout",
     "output_type": "stream",
     "text": [
      "[[0.67908422 0.680309  ]\n",
      " [0.68849941 0.69332792]\n",
      " [0.6181     0.6141    ]]\n",
      "rec time now 2 dataset now: Syn1\n"
     ]
    },
    {
     "name": "stderr",
     "output_type": "stream",
     "text": [
      "TPR mean: 100.0%  std: 0.0%\n",
      "FDR mean: 0.0%  std: 0.0%\n"
     ]
    },
    {
     "name": "stdout",
     "output_type": "stream",
     "text": [
      "[[0.67908422 0.680309  ]\n",
      " [0.68849941 0.69332792]\n",
      " [0.6181     0.6141    ]]\n",
      "rec time now 3 dataset now: Syn1\n"
     ]
    },
    {
     "name": "stderr",
     "output_type": "stream",
     "text": [
      "TPR mean: 100.0%  std: 0.0%\n",
      "FDR mean: 0.0%  std: 0.0%\n",
      "Epoch:      0, d_loss (Acc)): 0.615, v_loss (Acc): 0.596, g_loss: -0.0609\n"
     ]
    },
    {
     "name": "stdout",
     "output_type": "stream",
     "text": [
      "[[0.67908422 0.680309  ]\n",
      " [0.68849941 0.69332792]\n",
      " [0.6181     0.6141    ]]\n",
      "now at training epoch number 700 hyp-params: lamda 0.1000 prior 0.0000\n",
      "rec time now 0 dataset now: Syn1\n"
     ]
    },
    {
     "name": "stderr",
     "output_type": "stream",
     "text": [
      "TPR mean: 100.0%  std: 0.0%\n",
      "FDR mean: 0.0%  std: 0.0%\n"
     ]
    },
    {
     "name": "stdout",
     "output_type": "stream",
     "text": [
      "[[0.67618822 0.68545177]\n",
      " [0.6844647  0.69779329]\n",
      " [0.614      0.6168    ]]\n",
      "rec time now 1 dataset now: Syn1\n"
     ]
    },
    {
     "name": "stderr",
     "output_type": "stream",
     "text": [
      "TPR mean: 100.0%  std: 0.0%\n",
      "FDR mean: 0.0%  std: 0.0%\n"
     ]
    },
    {
     "name": "stdout",
     "output_type": "stream",
     "text": [
      "[[0.67618822 0.68545177]\n",
      " [0.6844647  0.69779329]\n",
      " [0.614      0.6168    ]]\n",
      "rec time now 2 dataset now: Syn1\n"
     ]
    },
    {
     "name": "stderr",
     "output_type": "stream",
     "text": [
      "TPR mean: 100.0%  std: 0.0%\n",
      "FDR mean: 0.0%  std: 0.0%\n"
     ]
    },
    {
     "name": "stdout",
     "output_type": "stream",
     "text": [
      "[[0.67618822 0.68545177]\n",
      " [0.6844647  0.69779329]\n",
      " [0.614      0.6168    ]]\n",
      "rec time now 3 dataset now: Syn1\n"
     ]
    },
    {
     "name": "stderr",
     "output_type": "stream",
     "text": [
      "TPR mean: 100.0%  std: 0.0%\n",
      "FDR mean: 0.0%  std: 0.0%\n",
      "Epoch:      0, d_loss (Acc)): 0.619, v_loss (Acc): 0.589, g_loss: -0.0603\n"
     ]
    },
    {
     "name": "stdout",
     "output_type": "stream",
     "text": [
      "[[0.67618822 0.68545177]\n",
      " [0.6844647  0.69779329]\n",
      " [0.614      0.6168    ]]\n",
      "now at training epoch number 800 hyp-params: lamda 0.1000 prior 0.0000\n",
      "rec time now 0 dataset now: Syn1\n"
     ]
    },
    {
     "name": "stderr",
     "output_type": "stream",
     "text": [
      "TPR mean: 100.0%  std: 0.0%\n",
      "FDR mean: 0.0%  std: 0.0%\n"
     ]
    },
    {
     "name": "stdout",
     "output_type": "stream",
     "text": [
      "[[0.68403141 0.69161261]\n",
      " [0.69393648 0.7040526 ]\n",
      " [0.6219     0.6201    ]]\n",
      "rec time now 1 dataset now: Syn1\n"
     ]
    },
    {
     "name": "stderr",
     "output_type": "stream",
     "text": [
      "TPR mean: 100.0%  std: 0.0%\n",
      "FDR mean: 0.0%  std: 0.0%\n"
     ]
    },
    {
     "name": "stdout",
     "output_type": "stream",
     "text": [
      "[[0.68403141 0.69161261]\n",
      " [0.69393648 0.7040526 ]\n",
      " [0.6219     0.6201    ]]\n",
      "rec time now 2 dataset now: Syn1\n"
     ]
    },
    {
     "name": "stderr",
     "output_type": "stream",
     "text": [
      "TPR mean: 100.0%  std: 0.0%\n",
      "FDR mean: 0.0%  std: 0.0%\n"
     ]
    },
    {
     "name": "stdout",
     "output_type": "stream",
     "text": [
      "[[0.68403141 0.69161261]\n",
      " [0.69393648 0.7040526 ]\n",
      " [0.6219     0.6201    ]]\n",
      "rec time now 3 dataset now: Syn1\n"
     ]
    },
    {
     "name": "stderr",
     "output_type": "stream",
     "text": [
      "TPR mean: 100.0%  std: 0.0%\n",
      "FDR mean: 0.0%  std: 0.0%\n",
      "Epoch:      0, d_loss (Acc)): 0.635, v_loss (Acc): 0.610, g_loss: -0.0491\n"
     ]
    },
    {
     "name": "stdout",
     "output_type": "stream",
     "text": [
      "[[0.68403141 0.69161261]\n",
      " [0.69393648 0.7040526 ]\n",
      " [0.6219     0.6201    ]]\n",
      "now at training epoch number 900 hyp-params: lamda 0.1000 prior 0.0000\n",
      "rec time now 0 dataset now: Syn1\n"
     ]
    },
    {
     "name": "stderr",
     "output_type": "stream",
     "text": [
      "TPR mean: 100.0%  std: 0.0%\n",
      "FDR mean: 0.0%  std: 0.0%\n"
     ]
    },
    {
     "name": "stdout",
     "output_type": "stream",
     "text": [
      "[[0.6771298  0.69098398]\n",
      " [0.68897435 0.70374261]\n",
      " [0.6144     0.6245    ]]\n",
      "rec time now 1 dataset now: Syn1\n"
     ]
    },
    {
     "name": "stderr",
     "output_type": "stream",
     "text": [
      "TPR mean: 100.0%  std: 0.0%\n",
      "FDR mean: 0.0%  std: 0.0%\n"
     ]
    },
    {
     "name": "stdout",
     "output_type": "stream",
     "text": [
      "[[0.6771298  0.69098398]\n",
      " [0.68897435 0.70374261]\n",
      " [0.6144     0.6245    ]]\n",
      "rec time now 2 dataset now: Syn1\n"
     ]
    },
    {
     "name": "stderr",
     "output_type": "stream",
     "text": [
      "TPR mean: 100.0%  std: 0.0%\n",
      "FDR mean: 0.0%  std: 0.0%\n"
     ]
    },
    {
     "name": "stdout",
     "output_type": "stream",
     "text": [
      "[[0.6771298  0.69098398]\n",
      " [0.68897435 0.70374261]\n",
      " [0.6144     0.6245    ]]\n",
      "rec time now 3 dataset now: Syn1\n"
     ]
    },
    {
     "name": "stderr",
     "output_type": "stream",
     "text": [
      "TPR mean: 100.0%  std: 0.0%\n",
      "FDR mean: 0.0%  std: 0.0%\n",
      "Epoch:      0, d_loss (Acc)): 0.613, v_loss (Acc): 0.586, g_loss: -0.0281\n"
     ]
    },
    {
     "name": "stdout",
     "output_type": "stream",
     "text": [
      "[[0.6771298  0.69098398]\n",
      " [0.68897435 0.70374261]\n",
      " [0.6144     0.6245    ]]\n",
      "now at training epoch number 1000 hyp-params: lamda 0.1000 prior 0.0000\n",
      "rec time now 0 dataset now: Syn1\n"
     ]
    },
    {
     "name": "stderr",
     "output_type": "stream",
     "text": [
      "TPR mean: 100.0%  std: 0.0%\n",
      "FDR mean: 0.0%  std: 0.0%\n"
     ]
    },
    {
     "name": "stdout",
     "output_type": "stream",
     "text": [
      "[[0.68100688 0.69588749]\n",
      " [0.69110122 0.70730536]\n",
      " [0.6168     0.6279    ]]\n",
      "rec time now 1 dataset now: Syn1\n"
     ]
    },
    {
     "name": "stderr",
     "output_type": "stream",
     "text": [
      "TPR mean: 100.0%  std: 0.0%\n",
      "FDR mean: 0.0%  std: 0.0%\n"
     ]
    },
    {
     "name": "stdout",
     "output_type": "stream",
     "text": [
      "[[0.68100688 0.69588749]\n",
      " [0.69110122 0.70730536]\n",
      " [0.6168     0.6279    ]]\n",
      "rec time now 2 dataset now: Syn1\n"
     ]
    },
    {
     "name": "stderr",
     "output_type": "stream",
     "text": [
      "TPR mean: 100.0%  std: 0.0%\n",
      "FDR mean: 0.0%  std: 0.0%\n"
     ]
    },
    {
     "name": "stdout",
     "output_type": "stream",
     "text": [
      "[[0.68100688 0.69588749]\n",
      " [0.69110122 0.70730536]\n",
      " [0.6168     0.6279    ]]\n",
      "rec time now 3 dataset now: Syn1\n"
     ]
    },
    {
     "name": "stderr",
     "output_type": "stream",
     "text": [
      "TPR mean: 100.0%  std: 0.0%\n",
      "FDR mean: 0.0%  std: 0.0%\n",
      "Epoch:      0, d_loss (Acc)): 0.623, v_loss (Acc): 0.602, g_loss: -0.0030\n"
     ]
    },
    {
     "name": "stdout",
     "output_type": "stream",
     "text": [
      "[[0.68100688 0.69588749]\n",
      " [0.69110122 0.70730536]\n",
      " [0.6168     0.6279    ]]\n",
      "now at training epoch number 1100 hyp-params: lamda 0.1000 prior 0.0000\n",
      "rec time now 0 dataset now: Syn1\n"
     ]
    },
    {
     "name": "stderr",
     "output_type": "stream",
     "text": [
      "TPR mean: 100.0%  std: 0.0%\n",
      "FDR mean: 0.0%  std: 0.0%\n"
     ]
    },
    {
     "name": "stdout",
     "output_type": "stream",
     "text": [
      "[[0.67497223 0.69368709]\n",
      " [0.684198   0.7054395 ]\n",
      " [0.6193     0.6243    ]]\n",
      "rec time now 1 dataset now: Syn1\n"
     ]
    },
    {
     "name": "stderr",
     "output_type": "stream",
     "text": [
      "TPR mean: 100.0%  std: 0.0%\n",
      "FDR mean: 0.0%  std: 0.0%\n"
     ]
    },
    {
     "name": "stdout",
     "output_type": "stream",
     "text": [
      "[[0.67497223 0.69368709]\n",
      " [0.684198   0.7054395 ]\n",
      " [0.6193     0.6243    ]]\n",
      "rec time now 2 dataset now: Syn1\n"
     ]
    },
    {
     "name": "stderr",
     "output_type": "stream",
     "text": [
      "TPR mean: 100.0%  std: 0.0%\n",
      "FDR mean: 0.0%  std: 0.0%\n"
     ]
    },
    {
     "name": "stdout",
     "output_type": "stream",
     "text": [
      "[[0.67497223 0.69368709]\n",
      " [0.684198   0.7054395 ]\n",
      " [0.6193     0.6243    ]]\n",
      "rec time now 3 dataset now: Syn1\n"
     ]
    },
    {
     "name": "stderr",
     "output_type": "stream",
     "text": [
      "TPR mean: 100.0%  std: 0.0%\n",
      "FDR mean: 0.0%  std: 0.0%\n",
      "Epoch:      0, d_loss (Acc)): 0.606, v_loss (Acc): 0.586, g_loss: -0.0105\n"
     ]
    },
    {
     "name": "stdout",
     "output_type": "stream",
     "text": [
      "[[0.67497223 0.69368709]\n",
      " [0.684198   0.7054395 ]\n",
      " [0.6193     0.6243    ]]\n",
      "now at training epoch number 1200 hyp-params: lamda 0.1000 prior 0.0000\n",
      "rec time now 0 dataset now: Syn1\n"
     ]
    },
    {
     "name": "stderr",
     "output_type": "stream",
     "text": [
      "TPR mean: 100.0%  std: 0.0%\n",
      "FDR mean: 0.0%  std: 0.0%\n"
     ]
    },
    {
     "name": "stdout",
     "output_type": "stream",
     "text": [
      "[[0.6773406  0.69685544]\n",
      " [0.68619772 0.70779629]\n",
      " [0.6143     0.6272    ]]\n",
      "rec time now 1 dataset now: Syn1\n"
     ]
    },
    {
     "name": "stderr",
     "output_type": "stream",
     "text": [
      "TPR mean: 100.0%  std: 0.0%\n",
      "FDR mean: 0.0%  std: 0.0%\n"
     ]
    },
    {
     "name": "stdout",
     "output_type": "stream",
     "text": [
      "[[0.6773406  0.69685544]\n",
      " [0.68619772 0.70779629]\n",
      " [0.6143     0.6272    ]]\n",
      "rec time now 2 dataset now: Syn1\n"
     ]
    },
    {
     "name": "stderr",
     "output_type": "stream",
     "text": [
      "TPR mean: 100.0%  std: 0.0%\n",
      "FDR mean: 0.0%  std: 0.0%\n"
     ]
    },
    {
     "name": "stdout",
     "output_type": "stream",
     "text": [
      "[[0.6773406  0.69685544]\n",
      " [0.68619772 0.70779629]\n",
      " [0.6143     0.6272    ]]\n",
      "rec time now 3 dataset now: Syn1\n"
     ]
    },
    {
     "name": "stderr",
     "output_type": "stream",
     "text": [
      "TPR mean: 100.0%  std: 0.0%\n",
      "FDR mean: 0.0%  std: 0.0%\n",
      "Epoch:      0, d_loss (Acc)): 0.621, v_loss (Acc): 0.587, g_loss: -0.0088\n"
     ]
    },
    {
     "name": "stdout",
     "output_type": "stream",
     "text": [
      "[[0.6773406  0.69685544]\n",
      " [0.68619772 0.70779629]\n",
      " [0.6143     0.6272    ]]\n",
      "now at training epoch number 1300 hyp-params: lamda 0.1000 prior 0.0000\n",
      "rec time now 0 dataset now: Syn1\n"
     ]
    },
    {
     "name": "stderr",
     "output_type": "stream",
     "text": [
      "TPR mean: 100.0%  std: 0.0%\n",
      "FDR mean: 0.0%  std: 0.0%\n"
     ]
    },
    {
     "name": "stdout",
     "output_type": "stream",
     "text": [
      "[[0.67972251 0.69588927]\n",
      " [0.68976106 0.70722548]\n",
      " [0.6169     0.6264    ]]\n",
      "rec time now 1 dataset now: Syn1\n"
     ]
    },
    {
     "name": "stderr",
     "output_type": "stream",
     "text": [
      "TPR mean: 100.0%  std: 0.0%\n",
      "FDR mean: 0.0%  std: 0.0%\n"
     ]
    },
    {
     "name": "stdout",
     "output_type": "stream",
     "text": [
      "[[0.67972251 0.69588927]\n",
      " [0.68976106 0.70722548]\n",
      " [0.6169     0.6264    ]]\n",
      "rec time now 2 dataset now: Syn1\n"
     ]
    },
    {
     "name": "stderr",
     "output_type": "stream",
     "text": [
      "TPR mean: 100.0%  std: 0.0%\n",
      "FDR mean: 0.0%  std: 0.0%\n"
     ]
    },
    {
     "name": "stdout",
     "output_type": "stream",
     "text": [
      "[[0.67972251 0.69588927]\n",
      " [0.68976106 0.70722548]\n",
      " [0.6169     0.6264    ]]\n",
      "rec time now 3 dataset now: Syn1\n"
     ]
    },
    {
     "name": "stderr",
     "output_type": "stream",
     "text": [
      "TPR mean: 100.0%  std: 0.0%\n",
      "FDR mean: 0.0%  std: 0.0%\n",
      "Epoch:      0, d_loss (Acc)): 0.622, v_loss (Acc): 0.591, g_loss: +0.0133\n"
     ]
    },
    {
     "name": "stdout",
     "output_type": "stream",
     "text": [
      "[[0.67972251 0.69588927]\n",
      " [0.68976106 0.70722548]\n",
      " [0.6169     0.6264    ]]\n",
      "now at training epoch number 1400 hyp-params: lamda 0.1000 prior 0.0000\n",
      "rec time now 0 dataset now: Syn1\n"
     ]
    },
    {
     "name": "stderr",
     "output_type": "stream",
     "text": [
      "TPR mean: 100.0%  std: 0.0%\n",
      "FDR mean: 0.0%  std: 0.0%\n"
     ]
    },
    {
     "name": "stdout",
     "output_type": "stream",
     "text": [
      "[[0.67766642 0.69749527]\n",
      " [0.68788941 0.70850417]\n",
      " [0.6186     0.6253    ]]\n",
      "rec time now 1 dataset now: Syn1\n"
     ]
    },
    {
     "name": "stderr",
     "output_type": "stream",
     "text": [
      "TPR mean: 100.0%  std: 0.0%\n",
      "FDR mean: 0.0%  std: 0.0%\n"
     ]
    },
    {
     "name": "stdout",
     "output_type": "stream",
     "text": [
      "[[0.67766642 0.69749527]\n",
      " [0.68788941 0.70850417]\n",
      " [0.6186     0.6253    ]]\n",
      "rec time now 2 dataset now: Syn1\n"
     ]
    },
    {
     "name": "stderr",
     "output_type": "stream",
     "text": [
      "TPR mean: 100.0%  std: 0.0%\n",
      "FDR mean: 0.0%  std: 0.0%\n"
     ]
    },
    {
     "name": "stdout",
     "output_type": "stream",
     "text": [
      "[[0.67766642 0.69749527]\n",
      " [0.68788941 0.70850417]\n",
      " [0.6186     0.6253    ]]\n",
      "rec time now 3 dataset now: Syn1\n"
     ]
    },
    {
     "name": "stderr",
     "output_type": "stream",
     "text": [
      "TPR mean: 100.0%  std: 0.0%\n",
      "FDR mean: 0.0%  std: 0.0%\n",
      "Epoch:      0, d_loss (Acc)): 0.613, v_loss (Acc): 0.588, g_loss: +0.0100\n"
     ]
    },
    {
     "name": "stdout",
     "output_type": "stream",
     "text": [
      "[[0.67766642 0.69749527]\n",
      " [0.68788941 0.70850417]\n",
      " [0.6186     0.6253    ]]\n",
      "now at training epoch number 1500 hyp-params: lamda 0.1000 prior 0.0000\n",
      "rec time now 0 dataset now: Syn1\n"
     ]
    },
    {
     "name": "stderr",
     "output_type": "stream",
     "text": [
      "TPR mean: 100.0%  std: 0.0%\n",
      "FDR mean: 0.0%  std: 0.0%\n"
     ]
    },
    {
     "name": "stdout",
     "output_type": "stream",
     "text": [
      "[[0.67846788 0.69822306]\n",
      " [0.68790398 0.70904003]\n",
      " [0.6158     0.6284    ]]\n",
      "rec time now 1 dataset now: Syn1\n"
     ]
    },
    {
     "name": "stderr",
     "output_type": "stream",
     "text": [
      "TPR mean: 100.0%  std: 0.0%\n",
      "FDR mean: 0.0%  std: 0.0%\n"
     ]
    },
    {
     "name": "stdout",
     "output_type": "stream",
     "text": [
      "[[0.67846788 0.69822306]\n",
      " [0.68790398 0.70904003]\n",
      " [0.6158     0.6284    ]]\n",
      "rec time now 2 dataset now: Syn1\n"
     ]
    },
    {
     "name": "stderr",
     "output_type": "stream",
     "text": [
      "TPR mean: 100.0%  std: 0.0%\n",
      "FDR mean: 0.0%  std: 0.0%\n"
     ]
    },
    {
     "name": "stdout",
     "output_type": "stream",
     "text": [
      "[[0.67846788 0.69822306]\n",
      " [0.68790398 0.70904003]\n",
      " [0.6158     0.6284    ]]\n",
      "rec time now 3 dataset now: Syn1\n"
     ]
    },
    {
     "name": "stderr",
     "output_type": "stream",
     "text": [
      "TPR mean: 100.0%  std: 0.0%\n",
      "FDR mean: 0.0%  std: 0.0%\n",
      "Epoch:      0, d_loss (Acc)): 0.624, v_loss (Acc): 0.592, g_loss: +0.0067\n"
     ]
    },
    {
     "name": "stdout",
     "output_type": "stream",
     "text": [
      "[[0.67846788 0.69822306]\n",
      " [0.68790398 0.70904003]\n",
      " [0.6158     0.6284    ]]\n",
      "now at training epoch number 1600 hyp-params: lamda 0.1000 prior 0.0000\n",
      "rec time now 0 dataset now: Syn1\n"
     ]
    },
    {
     "name": "stderr",
     "output_type": "stream",
     "text": [
      "TPR mean: 100.0%  std: 0.0%\n",
      "FDR mean: 0.0%  std: 0.0%\n"
     ]
    },
    {
     "name": "stdout",
     "output_type": "stream",
     "text": [
      "[[0.67450377 0.69565155]\n",
      " [0.68426865 0.70591327]\n",
      " [0.6124     0.6257    ]]\n",
      "rec time now 1 dataset now: Syn1\n"
     ]
    },
    {
     "name": "stderr",
     "output_type": "stream",
     "text": [
      "TPR mean: 100.0%  std: 0.0%\n",
      "FDR mean: 0.0%  std: 0.0%\n"
     ]
    },
    {
     "name": "stdout",
     "output_type": "stream",
     "text": [
      "[[0.67450377 0.69565155]\n",
      " [0.68426865 0.70591327]\n",
      " [0.6124     0.6257    ]]\n",
      "rec time now 2 dataset now: Syn1\n"
     ]
    },
    {
     "name": "stderr",
     "output_type": "stream",
     "text": [
      "TPR mean: 100.0%  std: 0.0%\n",
      "FDR mean: 0.0%  std: 0.0%\n"
     ]
    },
    {
     "name": "stdout",
     "output_type": "stream",
     "text": [
      "[[0.67450377 0.69565155]\n",
      " [0.68426865 0.70591327]\n",
      " [0.6124     0.6257    ]]\n",
      "rec time now 3 dataset now: Syn1\n"
     ]
    },
    {
     "name": "stderr",
     "output_type": "stream",
     "text": [
      "TPR mean: 100.0%  std: 0.0%\n",
      "FDR mean: 0.0%  std: 0.0%\n",
      "Epoch:      0, d_loss (Acc)): 0.616, v_loss (Acc): 0.578, g_loss: -0.0025\n"
     ]
    },
    {
     "name": "stdout",
     "output_type": "stream",
     "text": [
      "[[0.67450377 0.69565155]\n",
      " [0.68426865 0.70591327]\n",
      " [0.6124     0.6257    ]]\n",
      "now at training epoch number 1700 hyp-params: lamda 0.1000 prior 0.0000\n",
      "rec time now 0 dataset now: Syn1\n"
     ]
    },
    {
     "name": "stderr",
     "output_type": "stream",
     "text": [
      "TPR mean: 100.0%  std: 0.0%\n",
      "FDR mean: 0.0%  std: 0.0%\n"
     ]
    },
    {
     "name": "stdout",
     "output_type": "stream",
     "text": [
      "[[0.67525782 0.69864793]\n",
      " [0.68513765 0.70958723]\n",
      " [0.6151     0.6289    ]]\n",
      "rec time now 1 dataset now: Syn1\n"
     ]
    },
    {
     "name": "stderr",
     "output_type": "stream",
     "text": [
      "TPR mean: 100.0%  std: 0.0%\n",
      "FDR mean: 0.0%  std: 0.0%\n"
     ]
    },
    {
     "name": "stdout",
     "output_type": "stream",
     "text": [
      "[[0.67525782 0.69864793]\n",
      " [0.68513765 0.70958723]\n",
      " [0.6151     0.6289    ]]\n",
      "rec time now 2 dataset now: Syn1\n"
     ]
    },
    {
     "name": "stderr",
     "output_type": "stream",
     "text": [
      "TPR mean: 100.0%  std: 0.0%\n",
      "FDR mean: 0.0%  std: 0.0%\n"
     ]
    },
    {
     "name": "stdout",
     "output_type": "stream",
     "text": [
      "[[0.67525782 0.69864793]\n",
      " [0.68513765 0.70958723]\n",
      " [0.6151     0.6289    ]]\n",
      "rec time now 3 dataset now: Syn1\n"
     ]
    },
    {
     "name": "stderr",
     "output_type": "stream",
     "text": [
      "TPR mean: 100.0%  std: 0.0%\n",
      "FDR mean: 0.0%  std: 0.0%\n",
      "Epoch:      0, d_loss (Acc)): 0.618, v_loss (Acc): 0.581, g_loss: +0.0004\n"
     ]
    },
    {
     "name": "stdout",
     "output_type": "stream",
     "text": [
      "[[0.67525782 0.69864793]\n",
      " [0.68513765 0.70958723]\n",
      " [0.6151     0.6289    ]]\n",
      "now at training epoch number 1800 hyp-params: lamda 0.1000 prior 0.0000\n",
      "rec time now 0 dataset now: Syn1\n"
     ]
    },
    {
     "name": "stderr",
     "output_type": "stream",
     "text": [
      "TPR mean: 100.0%  std: 0.0%\n",
      "FDR mean: 0.0%  std: 0.0%\n"
     ]
    },
    {
     "name": "stdout",
     "output_type": "stream",
     "text": [
      "[[0.67530176 0.6970988 ]\n",
      " [0.68430055 0.70812167]\n",
      " [0.6137     0.6297    ]]\n",
      "rec time now 1 dataset now: Syn1\n"
     ]
    },
    {
     "name": "stderr",
     "output_type": "stream",
     "text": [
      "TPR mean: 100.0%  std: 0.0%\n",
      "FDR mean: 0.0%  std: 0.0%\n"
     ]
    },
    {
     "name": "stdout",
     "output_type": "stream",
     "text": [
      "[[0.67530176 0.6970988 ]\n",
      " [0.68430055 0.70812167]\n",
      " [0.6137     0.6297    ]]\n",
      "rec time now 2 dataset now: Syn1\n"
     ]
    },
    {
     "name": "stderr",
     "output_type": "stream",
     "text": [
      "TPR mean: 100.0%  std: 0.0%\n",
      "FDR mean: 0.0%  std: 0.0%\n"
     ]
    },
    {
     "name": "stdout",
     "output_type": "stream",
     "text": [
      "[[0.67530176 0.6970988 ]\n",
      " [0.68430055 0.70812167]\n",
      " [0.6137     0.6297    ]]\n",
      "rec time now 3 dataset now: Syn1\n"
     ]
    },
    {
     "name": "stderr",
     "output_type": "stream",
     "text": [
      "TPR mean: 100.0%  std: 0.0%\n",
      "FDR mean: 0.0%  std: 0.0%\n",
      "Epoch:      0, d_loss (Acc)): 0.613, v_loss (Acc): 0.579, g_loss: +0.0171\n"
     ]
    },
    {
     "name": "stdout",
     "output_type": "stream",
     "text": [
      "[[0.67530176 0.6970988 ]\n",
      " [0.68430055 0.70812167]\n",
      " [0.6137     0.6297    ]]\n",
      "now at training epoch number 1900 hyp-params: lamda 0.1000 prior 0.0000\n",
      "rec time now 0 dataset now: Syn1\n"
     ]
    },
    {
     "name": "stderr",
     "output_type": "stream",
     "text": [
      "TPR mean: 100.0%  std: 0.0%\n",
      "FDR mean: 0.0%  std: 0.0%\n"
     ]
    },
    {
     "name": "stdout",
     "output_type": "stream",
     "text": [
      "[[0.67710428 0.69952112]\n",
      " [0.68633083 0.71001392]\n",
      " [0.6164     0.6323    ]]\n",
      "rec time now 1 dataset now: Syn1\n"
     ]
    },
    {
     "name": "stderr",
     "output_type": "stream",
     "text": [
      "TPR mean: 100.0%  std: 0.0%\n",
      "FDR mean: 0.0%  std: 0.0%\n"
     ]
    },
    {
     "name": "stdout",
     "output_type": "stream",
     "text": [
      "[[0.67710428 0.69952112]\n",
      " [0.68633083 0.71001392]\n",
      " [0.6164     0.6323    ]]\n",
      "rec time now 2 dataset now: Syn1\n"
     ]
    },
    {
     "name": "stderr",
     "output_type": "stream",
     "text": [
      "TPR mean: 100.0%  std: 0.0%\n",
      "FDR mean: 0.0%  std: 0.0%\n"
     ]
    },
    {
     "name": "stdout",
     "output_type": "stream",
     "text": [
      "[[0.67710428 0.69952112]\n",
      " [0.68633083 0.71001392]\n",
      " [0.6164     0.6323    ]]\n",
      "rec time now 3 dataset now: Syn1\n"
     ]
    },
    {
     "name": "stderr",
     "output_type": "stream",
     "text": [
      "TPR mean: 100.0%  std: 0.0%\n",
      "FDR mean: 0.0%  std: 0.0%\n",
      "Epoch:      0, d_loss (Acc)): 0.641, v_loss (Acc): 0.601, g_loss: +0.0186\n"
     ]
    },
    {
     "name": "stdout",
     "output_type": "stream",
     "text": [
      "[[0.67710428 0.69952112]\n",
      " [0.68633083 0.71001392]\n",
      " [0.6164     0.6323    ]]\n",
      "now at training epoch number 2000 hyp-params: lamda 0.1000 prior 0.0000\n",
      "rec time now 0 dataset now: Syn1\n"
     ]
    },
    {
     "name": "stderr",
     "output_type": "stream",
     "text": [
      "TPR mean: 100.0%  std: 0.0%\n",
      "FDR mean: 0.0%  std: 0.0%\n"
     ]
    },
    {
     "name": "stdout",
     "output_type": "stream",
     "text": [
      "[[0.67303993 0.69947328]\n",
      " [0.68328118 0.70992739]\n",
      " [0.6136     0.6321    ]]\n",
      "rec time now 1 dataset now: Syn1\n"
     ]
    },
    {
     "name": "stderr",
     "output_type": "stream",
     "text": [
      "TPR mean: 100.0%  std: 0.0%\n",
      "FDR mean: 0.0%  std: 0.0%\n"
     ]
    },
    {
     "name": "stdout",
     "output_type": "stream",
     "text": [
      "[[0.67303993 0.69947328]\n",
      " [0.68328118 0.70992739]\n",
      " [0.6136     0.6321    ]]\n",
      "rec time now 2 dataset now: Syn1\n"
     ]
    },
    {
     "name": "stderr",
     "output_type": "stream",
     "text": [
      "TPR mean: 100.0%  std: 0.0%\n",
      "FDR mean: 0.0%  std: 0.0%\n"
     ]
    },
    {
     "name": "stdout",
     "output_type": "stream",
     "text": [
      "[[0.67303993 0.69947328]\n",
      " [0.68328118 0.70992739]\n",
      " [0.6136     0.6321    ]]\n",
      "rec time now 3 dataset now: Syn1\n"
     ]
    },
    {
     "name": "stderr",
     "output_type": "stream",
     "text": [
      "TPR mean: 100.0%  std: 0.0%\n",
      "FDR mean: 0.0%  std: 0.0%\n",
      "Epoch:      0, d_loss (Acc)): 0.605, v_loss (Acc): 0.567, g_loss: +0.0061\n"
     ]
    },
    {
     "name": "stdout",
     "output_type": "stream",
     "text": [
      "[[0.67303993 0.69947328]\n",
      " [0.68328118 0.70992739]\n",
      " [0.6136     0.6321    ]]\n",
      "now at training epoch number 2100 hyp-params: lamda 0.1000 prior 0.0000\n",
      "rec time now 0 dataset now: Syn1\n"
     ]
    },
    {
     "name": "stderr",
     "output_type": "stream",
     "text": [
      "TPR mean: 100.0%  std: 0.0%\n",
      "FDR mean: 0.0%  std: 0.0%\n"
     ]
    },
    {
     "name": "stdout",
     "output_type": "stream",
     "text": [
      "[[0.67408345 0.6989255 ]\n",
      " [0.68370849 0.70853193]\n",
      " [0.6114     0.6317    ]]\n",
      "rec time now 1 dataset now: Syn1\n"
     ]
    },
    {
     "name": "stderr",
     "output_type": "stream",
     "text": [
      "TPR mean: 100.0%  std: 0.0%\n",
      "FDR mean: 0.0%  std: 0.0%\n"
     ]
    },
    {
     "name": "stdout",
     "output_type": "stream",
     "text": [
      "[[0.67408345 0.6989255 ]\n",
      " [0.68370849 0.70853193]\n",
      " [0.6114     0.6317    ]]\n",
      "rec time now 2 dataset now: Syn1\n"
     ]
    },
    {
     "name": "stderr",
     "output_type": "stream",
     "text": [
      "TPR mean: 100.0%  std: 0.0%\n",
      "FDR mean: 0.0%  std: 0.0%\n"
     ]
    },
    {
     "name": "stdout",
     "output_type": "stream",
     "text": [
      "[[0.67408345 0.6989255 ]\n",
      " [0.68370849 0.70853193]\n",
      " [0.6114     0.6317    ]]\n",
      "rec time now 3 dataset now: Syn1\n"
     ]
    },
    {
     "name": "stderr",
     "output_type": "stream",
     "text": [
      "TPR mean: 100.0%  std: 0.0%\n",
      "FDR mean: 0.0%  std: 0.0%\n",
      "Epoch:      0, d_loss (Acc)): 0.608, v_loss (Acc): 0.577, g_loss: +0.0252\n"
     ]
    },
    {
     "name": "stdout",
     "output_type": "stream",
     "text": [
      "[[0.67408345 0.6989255 ]\n",
      " [0.68370849 0.70853193]\n",
      " [0.6114     0.6317    ]]\n",
      "now at training epoch number 2200 hyp-params: lamda 0.1000 prior 0.0000\n",
      "rec time now 0 dataset now: Syn1\n"
     ]
    },
    {
     "name": "stderr",
     "output_type": "stream",
     "text": [
      "TPR mean: 100.0%  std: 0.0%\n",
      "FDR mean: 0.0%  std: 0.0%\n"
     ]
    },
    {
     "name": "stdout",
     "output_type": "stream",
     "text": [
      "[[0.66675722 0.69847522]\n",
      " [0.67748208 0.70948961]\n",
      " [0.6112     0.6285    ]]\n",
      "rec time now 1 dataset now: Syn1\n"
     ]
    },
    {
     "name": "stderr",
     "output_type": "stream",
     "text": [
      "TPR mean: 100.0%  std: 0.0%\n",
      "FDR mean: 0.0%  std: 0.0%\n"
     ]
    },
    {
     "name": "stdout",
     "output_type": "stream",
     "text": [
      "[[0.66675722 0.69847522]\n",
      " [0.67748208 0.70948961]\n",
      " [0.6112     0.6285    ]]\n",
      "rec time now 2 dataset now: Syn1\n"
     ]
    },
    {
     "name": "stderr",
     "output_type": "stream",
     "text": [
      "TPR mean: 100.0%  std: 0.0%\n",
      "FDR mean: 0.0%  std: 0.0%\n"
     ]
    },
    {
     "name": "stdout",
     "output_type": "stream",
     "text": [
      "[[0.66675722 0.69847522]\n",
      " [0.67748208 0.70948961]\n",
      " [0.6112     0.6285    ]]\n",
      "rec time now 3 dataset now: Syn1\n"
     ]
    },
    {
     "name": "stderr",
     "output_type": "stream",
     "text": [
      "TPR mean: 100.0%  std: 0.0%\n",
      "FDR mean: 0.0%  std: 0.0%\n",
      "Epoch:      0, d_loss (Acc)): 0.608, v_loss (Acc): 0.575, g_loss: +0.0033\n"
     ]
    },
    {
     "name": "stdout",
     "output_type": "stream",
     "text": [
      "[[0.66675722 0.69847522]\n",
      " [0.67748208 0.70948961]\n",
      " [0.6112     0.6285    ]]\n",
      "now at training epoch number 2300 hyp-params: lamda 0.1000 prior 0.0000\n",
      "rec time now 0 dataset now: Syn1\n"
     ]
    },
    {
     "name": "stderr",
     "output_type": "stream",
     "text": [
      "TPR mean: 100.0%  std: 0.0%\n",
      "FDR mean: 0.0%  std: 0.0%\n"
     ]
    },
    {
     "name": "stdout",
     "output_type": "stream",
     "text": [
      "[[0.6749491  0.69911035]\n",
      " [0.68469929 0.70953299]\n",
      " [0.6144     0.629     ]]\n",
      "rec time now 1 dataset now: Syn1\n"
     ]
    },
    {
     "name": "stderr",
     "output_type": "stream",
     "text": [
      "TPR mean: 100.0%  std: 0.0%\n",
      "FDR mean: 0.0%  std: 0.0%\n"
     ]
    },
    {
     "name": "stdout",
     "output_type": "stream",
     "text": [
      "[[0.6749491  0.69911035]\n",
      " [0.68469929 0.70953299]\n",
      " [0.6144     0.629     ]]\n",
      "rec time now 2 dataset now: Syn1\n"
     ]
    },
    {
     "name": "stderr",
     "output_type": "stream",
     "text": [
      "TPR mean: 100.0%  std: 0.0%\n",
      "FDR mean: 0.0%  std: 0.0%\n"
     ]
    },
    {
     "name": "stdout",
     "output_type": "stream",
     "text": [
      "[[0.6749491  0.69911035]\n",
      " [0.68469929 0.70953299]\n",
      " [0.6144     0.629     ]]\n",
      "rec time now 3 dataset now: Syn1\n"
     ]
    },
    {
     "name": "stderr",
     "output_type": "stream",
     "text": [
      "TPR mean: 100.0%  std: 0.0%\n",
      "FDR mean: 0.0%  std: 0.0%\n",
      "Epoch:      0, d_loss (Acc)): 0.643, v_loss (Acc): 0.600, g_loss: +0.0134\n"
     ]
    },
    {
     "name": "stdout",
     "output_type": "stream",
     "text": [
      "[[0.6749491  0.69911035]\n",
      " [0.68469929 0.70953299]\n",
      " [0.6144     0.629     ]]\n",
      "now at training epoch number 2400 hyp-params: lamda 0.1000 prior 0.0000\n",
      "rec time now 0 dataset now: Syn1\n"
     ]
    },
    {
     "name": "stderr",
     "output_type": "stream",
     "text": [
      "TPR mean: 100.0%  std: 0.0%\n",
      "FDR mean: 0.0%  std: 0.0%\n"
     ]
    },
    {
     "name": "stdout",
     "output_type": "stream",
     "text": [
      "[[0.67023366 0.69983626]\n",
      " [0.67980423 0.71061527]\n",
      " [0.6099     0.6297    ]]\n",
      "rec time now 1 dataset now: Syn1\n"
     ]
    },
    {
     "name": "stderr",
     "output_type": "stream",
     "text": [
      "TPR mean: 100.0%  std: 0.0%\n",
      "FDR mean: 0.0%  std: 0.0%\n"
     ]
    },
    {
     "name": "stdout",
     "output_type": "stream",
     "text": [
      "[[0.67023366 0.69983626]\n",
      " [0.67980423 0.71061527]\n",
      " [0.6099     0.6297    ]]\n",
      "rec time now 2 dataset now: Syn1\n"
     ]
    },
    {
     "name": "stderr",
     "output_type": "stream",
     "text": [
      "TPR mean: 100.0%  std: 0.0%\n",
      "FDR mean: 0.0%  std: 0.0%\n"
     ]
    },
    {
     "name": "stdout",
     "output_type": "stream",
     "text": [
      "[[0.67023366 0.69983626]\n",
      " [0.67980423 0.71061527]\n",
      " [0.6099     0.6297    ]]\n",
      "rec time now 3 dataset now: Syn1\n"
     ]
    },
    {
     "name": "stderr",
     "output_type": "stream",
     "text": [
      "TPR mean: 100.0%  std: 0.0%\n",
      "FDR mean: 0.0%  std: 0.0%\n",
      "Epoch:      0, d_loss (Acc)): 0.608, v_loss (Acc): 0.570, g_loss: +0.0251\n"
     ]
    },
    {
     "name": "stdout",
     "output_type": "stream",
     "text": [
      "[[0.67023366 0.69983626]\n",
      " [0.67980423 0.71061527]\n",
      " [0.6099     0.6297    ]]\n",
      "now at training epoch number 2500 hyp-params: lamda 0.1000 prior 0.0000\n",
      "rec time now 0 dataset now: Syn1\n"
     ]
    },
    {
     "name": "stderr",
     "output_type": "stream",
     "text": [
      "TPR mean: 100.0%  std: 0.0%\n",
      "FDR mean: 0.0%  std: 0.0%\n"
     ]
    },
    {
     "name": "stdout",
     "output_type": "stream",
     "text": [
      "[[0.67220509 0.70003267]\n",
      " [0.68232239 0.71043064]\n",
      " [0.6136     0.6312    ]]\n",
      "rec time now 1 dataset now: Syn1\n"
     ]
    },
    {
     "name": "stderr",
     "output_type": "stream",
     "text": [
      "TPR mean: 100.0%  std: 0.0%\n",
      "FDR mean: 0.0%  std: 0.0%\n"
     ]
    },
    {
     "name": "stdout",
     "output_type": "stream",
     "text": [
      "[[0.67220509 0.70003267]\n",
      " [0.68232239 0.71043064]\n",
      " [0.6136     0.6312    ]]\n",
      "rec time now 2 dataset now: Syn1\n"
     ]
    },
    {
     "name": "stderr",
     "output_type": "stream",
     "text": [
      "TPR mean: 100.0%  std: 0.0%\n",
      "FDR mean: 0.0%  std: 0.0%\n"
     ]
    },
    {
     "name": "stdout",
     "output_type": "stream",
     "text": [
      "[[0.67220509 0.70003267]\n",
      " [0.68232239 0.71043064]\n",
      " [0.6136     0.6312    ]]\n",
      "rec time now 3 dataset now: Syn1\n"
     ]
    },
    {
     "name": "stderr",
     "output_type": "stream",
     "text": [
      "TPR mean: 100.0%  std: 0.0%\n",
      "FDR mean: 0.0%  std: 0.0%\n",
      "Epoch:      0, d_loss (Acc)): 0.597, v_loss (Acc): 0.562, g_loss: +0.0144\n"
     ]
    },
    {
     "name": "stdout",
     "output_type": "stream",
     "text": [
      "[[0.67220509 0.70003267]\n",
      " [0.68232239 0.71043064]\n",
      " [0.6136     0.6312    ]]\n",
      "now at training epoch number 2600 hyp-params: lamda 0.1000 prior 0.0000\n",
      "rec time now 0 dataset now: Syn1\n"
     ]
    },
    {
     "name": "stderr",
     "output_type": "stream",
     "text": [
      "TPR mean: 100.0%  std: 0.0%\n",
      "FDR mean: 0.0%  std: 0.0%\n"
     ]
    },
    {
     "name": "stdout",
     "output_type": "stream",
     "text": [
      "[[0.67224437 0.70021847]\n",
      " [0.68183078 0.7108647 ]\n",
      " [0.6114     0.6301    ]]\n",
      "rec time now 1 dataset now: Syn1\n"
     ]
    },
    {
     "name": "stderr",
     "output_type": "stream",
     "text": [
      "TPR mean: 100.0%  std: 0.0%\n",
      "FDR mean: 0.0%  std: 0.0%\n"
     ]
    },
    {
     "name": "stdout",
     "output_type": "stream",
     "text": [
      "[[0.67224437 0.70021847]\n",
      " [0.68183078 0.7108647 ]\n",
      " [0.6114     0.6301    ]]\n",
      "rec time now 2 dataset now: Syn1\n"
     ]
    },
    {
     "name": "stderr",
     "output_type": "stream",
     "text": [
      "TPR mean: 100.0%  std: 0.0%\n",
      "FDR mean: 0.0%  std: 0.0%\n"
     ]
    },
    {
     "name": "stdout",
     "output_type": "stream",
     "text": [
      "[[0.67224437 0.70021847]\n",
      " [0.68183078 0.7108647 ]\n",
      " [0.6114     0.6301    ]]\n",
      "rec time now 3 dataset now: Syn1\n"
     ]
    },
    {
     "name": "stderr",
     "output_type": "stream",
     "text": [
      "TPR mean: 100.0%  std: 0.0%\n",
      "FDR mean: 0.0%  std: 0.0%\n",
      "Epoch:      0, d_loss (Acc)): 0.611, v_loss (Acc): 0.559, g_loss: +0.0067\n"
     ]
    },
    {
     "name": "stdout",
     "output_type": "stream",
     "text": [
      "[[0.67224437 0.70021847]\n",
      " [0.68183078 0.7108647 ]\n",
      " [0.6114     0.6301    ]]\n",
      "now at training epoch number 2700 hyp-params: lamda 0.1000 prior 0.0000\n",
      "rec time now 0 dataset now: Syn1\n"
     ]
    },
    {
     "name": "stderr",
     "output_type": "stream",
     "text": [
      "TPR mean: 100.0%  std: 0.0%\n",
      "FDR mean: 0.0%  std: 0.0%\n"
     ]
    },
    {
     "name": "stdout",
     "output_type": "stream",
     "text": [
      "[[0.66789537 0.69919043]\n",
      " [0.67680673 0.7100682 ]\n",
      " [0.6105     0.6286    ]]\n",
      "rec time now 1 dataset now: Syn1\n"
     ]
    },
    {
     "name": "stderr",
     "output_type": "stream",
     "text": [
      "TPR mean: 100.0%  std: 0.0%\n",
      "FDR mean: 0.0%  std: 0.0%\n"
     ]
    },
    {
     "name": "stdout",
     "output_type": "stream",
     "text": [
      "[[0.66789537 0.69919043]\n",
      " [0.67680673 0.7100682 ]\n",
      " [0.6105     0.6286    ]]\n",
      "rec time now 2 dataset now: Syn1\n"
     ]
    },
    {
     "name": "stderr",
     "output_type": "stream",
     "text": [
      "TPR mean: 100.0%  std: 0.0%\n",
      "FDR mean: 0.0%  std: 0.0%\n"
     ]
    },
    {
     "name": "stdout",
     "output_type": "stream",
     "text": [
      "[[0.66789537 0.69919043]\n",
      " [0.67680673 0.7100682 ]\n",
      " [0.6105     0.6286    ]]\n",
      "rec time now 3 dataset now: Syn1\n"
     ]
    },
    {
     "name": "stderr",
     "output_type": "stream",
     "text": [
      "TPR mean: 100.0%  std: 0.0%\n",
      "FDR mean: 0.0%  std: 0.0%\n",
      "Epoch:      0, d_loss (Acc)): 0.614, v_loss (Acc): 0.565, g_loss: +0.0126\n"
     ]
    },
    {
     "name": "stdout",
     "output_type": "stream",
     "text": [
      "[[0.66789537 0.69919043]\n",
      " [0.67680673 0.7100682 ]\n",
      " [0.6105     0.6286    ]]\n",
      "now at training epoch number 2800 hyp-params: lamda 0.1000 prior 0.0000\n",
      "rec time now 0 dataset now: Syn1\n"
     ]
    },
    {
     "name": "stderr",
     "output_type": "stream",
     "text": [
      "TPR mean: 100.0%  std: 0.0%\n",
      "FDR mean: 0.0%  std: 0.0%\n"
     ]
    },
    {
     "name": "stdout",
     "output_type": "stream",
     "text": [
      "[[0.67028171 0.70040652]\n",
      " [0.67921308 0.710788  ]\n",
      " [0.6118     0.6297    ]]\n",
      "rec time now 1 dataset now: Syn1\n"
     ]
    },
    {
     "name": "stderr",
     "output_type": "stream",
     "text": [
      "TPR mean: 100.0%  std: 0.0%\n",
      "FDR mean: 0.0%  std: 0.0%\n"
     ]
    },
    {
     "name": "stdout",
     "output_type": "stream",
     "text": [
      "[[0.67028171 0.70040652]\n",
      " [0.67921308 0.710788  ]\n",
      " [0.6118     0.6297    ]]\n",
      "rec time now 2 dataset now: Syn1\n"
     ]
    },
    {
     "name": "stderr",
     "output_type": "stream",
     "text": [
      "TPR mean: 100.0%  std: 0.0%\n",
      "FDR mean: 0.0%  std: 0.0%\n"
     ]
    },
    {
     "name": "stdout",
     "output_type": "stream",
     "text": [
      "[[0.67028171 0.70040652]\n",
      " [0.67921308 0.710788  ]\n",
      " [0.6118     0.6297    ]]\n",
      "rec time now 3 dataset now: Syn1\n"
     ]
    },
    {
     "name": "stderr",
     "output_type": "stream",
     "text": [
      "TPR mean: 100.0%  std: 0.0%\n",
      "FDR mean: 0.0%  std: 0.0%\n",
      "Epoch:      0, d_loss (Acc)): 0.622, v_loss (Acc): 0.583, g_loss: +0.0155\n"
     ]
    },
    {
     "name": "stdout",
     "output_type": "stream",
     "text": [
      "[[0.67028171 0.70040652]\n",
      " [0.67921308 0.710788  ]\n",
      " [0.6118     0.6297    ]]\n",
      "now at training epoch number 2900 hyp-params: lamda 0.1000 prior 0.0000\n",
      "rec time now 0 dataset now: Syn1\n"
     ]
    },
    {
     "name": "stderr",
     "output_type": "stream",
     "text": [
      "TPR mean: 100.0%  std: 0.0%\n",
      "FDR mean: 0.0%  std: 0.0%\n"
     ]
    },
    {
     "name": "stdout",
     "output_type": "stream",
     "text": [
      "[[0.66547703 0.69992221]\n",
      " [0.67421096 0.71056526]\n",
      " [0.6094     0.6292    ]]\n",
      "rec time now 1 dataset now: Syn1\n"
     ]
    },
    {
     "name": "stderr",
     "output_type": "stream",
     "text": [
      "TPR mean: 100.0%  std: 0.0%\n",
      "FDR mean: 0.0%  std: 0.0%\n"
     ]
    },
    {
     "name": "stdout",
     "output_type": "stream",
     "text": [
      "[[0.66547703 0.69992221]\n",
      " [0.67421096 0.71056526]\n",
      " [0.6094     0.6292    ]]\n",
      "rec time now 2 dataset now: Syn1\n"
     ]
    },
    {
     "name": "stderr",
     "output_type": "stream",
     "text": [
      "TPR mean: 100.0%  std: 0.0%\n",
      "FDR mean: 0.0%  std: 0.0%\n"
     ]
    },
    {
     "name": "stdout",
     "output_type": "stream",
     "text": [
      "[[0.66547703 0.69992221]\n",
      " [0.67421096 0.71056526]\n",
      " [0.6094     0.6292    ]]\n",
      "rec time now 3 dataset now: Syn1\n"
     ]
    },
    {
     "name": "stderr",
     "output_type": "stream",
     "text": [
      "TPR mean: 100.0%  std: 0.0%\n",
      "FDR mean: 0.0%  std: 0.0%\n",
      "Epoch:      0, d_loss (Acc)): 0.620, v_loss (Acc): 0.570, g_loss: +0.0107\n"
     ]
    },
    {
     "name": "stdout",
     "output_type": "stream",
     "text": [
      "[[0.66547703 0.69992221]\n",
      " [0.67421096 0.71056526]\n",
      " [0.6094     0.6292    ]]\n",
      "now at training epoch number 3000 hyp-params: lamda 0.1000 prior 0.0000\n",
      "rec time now 0 dataset now: Syn1\n"
     ]
    },
    {
     "name": "stderr",
     "output_type": "stream",
     "text": [
      "TPR mean: 100.0%  std: 0.0%\n",
      "FDR mean: 0.0%  std: 0.0%\n"
     ]
    },
    {
     "name": "stdout",
     "output_type": "stream",
     "text": [
      "[[0.66970353 0.69995632]\n",
      " [0.67870686 0.71082852]\n",
      " [0.6131     0.6294    ]]\n",
      "rec time now 1 dataset now: Syn1\n"
     ]
    },
    {
     "name": "stderr",
     "output_type": "stream",
     "text": [
      "TPR mean: 100.0%  std: 0.0%\n",
      "FDR mean: 0.0%  std: 0.0%\n"
     ]
    },
    {
     "name": "stdout",
     "output_type": "stream",
     "text": [
      "[[0.66970353 0.69995632]\n",
      " [0.67870686 0.71082852]\n",
      " [0.6131     0.6294    ]]\n",
      "rec time now 2 dataset now: Syn1\n"
     ]
    },
    {
     "name": "stderr",
     "output_type": "stream",
     "text": [
      "TPR mean: 100.0%  std: 0.0%\n",
      "FDR mean: 0.0%  std: 0.0%\n"
     ]
    },
    {
     "name": "stdout",
     "output_type": "stream",
     "text": [
      "[[0.66970353 0.69995632]\n",
      " [0.67870686 0.71082852]\n",
      " [0.6131     0.6294    ]]\n",
      "rec time now 3 dataset now: Syn1\n"
     ]
    },
    {
     "name": "stderr",
     "output_type": "stream",
     "text": [
      "TPR mean: 100.0%  std: 0.0%\n",
      "FDR mean: 0.0%  std: 0.0%\n",
      "Epoch:      0, d_loss (Acc)): 0.605, v_loss (Acc): 0.564, g_loss: +0.0244\n"
     ]
    },
    {
     "name": "stdout",
     "output_type": "stream",
     "text": [
      "[[0.66970353 0.69995632]\n",
      " [0.67870686 0.71082852]\n",
      " [0.6131     0.6294    ]]\n",
      "now at training epoch number 3100 hyp-params: lamda 0.1000 prior 0.0000\n",
      "rec time now 0 dataset now: Syn1\n"
     ]
    },
    {
     "name": "stderr",
     "output_type": "stream",
     "text": [
      "TPR mean: 100.0%  std: 0.0%\n",
      "FDR mean: 0.0%  std: 0.0%\n"
     ]
    },
    {
     "name": "stdout",
     "output_type": "stream",
     "text": [
      "[[0.666884   0.69804033]\n",
      " [0.67493498 0.70857632]\n",
      " [0.6078     0.6317    ]]\n",
      "rec time now 1 dataset now: Syn1\n"
     ]
    },
    {
     "name": "stderr",
     "output_type": "stream",
     "text": [
      "TPR mean: 100.0%  std: 0.0%\n",
      "FDR mean: 0.0%  std: 0.0%\n"
     ]
    },
    {
     "name": "stdout",
     "output_type": "stream",
     "text": [
      "[[0.666884   0.69804033]\n",
      " [0.67493498 0.70857632]\n",
      " [0.6078     0.6317    ]]\n",
      "rec time now 2 dataset now: Syn1\n"
     ]
    },
    {
     "name": "stderr",
     "output_type": "stream",
     "text": [
      "TPR mean: 100.0%  std: 0.0%\n",
      "FDR mean: 0.0%  std: 0.0%\n"
     ]
    },
    {
     "name": "stdout",
     "output_type": "stream",
     "text": [
      "[[0.666884   0.69804033]\n",
      " [0.67493498 0.70857632]\n",
      " [0.6078     0.6317    ]]\n",
      "rec time now 3 dataset now: Syn1\n"
     ]
    },
    {
     "name": "stderr",
     "output_type": "stream",
     "text": [
      "TPR mean: 100.0%  std: 0.0%\n",
      "FDR mean: 0.0%  std: 0.0%\n",
      "Epoch:      0, d_loss (Acc)): 0.616, v_loss (Acc): 0.561, g_loss: +0.0123\n"
     ]
    },
    {
     "name": "stdout",
     "output_type": "stream",
     "text": [
      "[[0.666884   0.69804033]\n",
      " [0.67493498 0.70857632]\n",
      " [0.6078     0.6317    ]]\n",
      "now at training epoch number 3200 hyp-params: lamda 0.1000 prior 0.0000\n",
      "rec time now 0 dataset now: Syn1\n"
     ]
    },
    {
     "name": "stderr",
     "output_type": "stream",
     "text": [
      "TPR mean: 100.0%  std: 0.0%\n",
      "FDR mean: 0.0%  std: 0.0%\n"
     ]
    },
    {
     "name": "stdout",
     "output_type": "stream",
     "text": [
      "[[0.66372803 0.70044128]\n",
      " [0.6731872  0.71105004]\n",
      " [0.6053     0.63      ]]\n",
      "rec time now 1 dataset now: Syn1\n"
     ]
    },
    {
     "name": "stderr",
     "output_type": "stream",
     "text": [
      "TPR mean: 100.0%  std: 0.0%\n",
      "FDR mean: 0.0%  std: 0.0%\n"
     ]
    },
    {
     "name": "stdout",
     "output_type": "stream",
     "text": [
      "[[0.66372803 0.70044128]\n",
      " [0.6731872  0.71105004]\n",
      " [0.6053     0.63      ]]\n",
      "rec time now 2 dataset now: Syn1\n"
     ]
    },
    {
     "name": "stderr",
     "output_type": "stream",
     "text": [
      "TPR mean: 100.0%  std: 0.0%\n",
      "FDR mean: 0.0%  std: 0.0%\n"
     ]
    },
    {
     "name": "stdout",
     "output_type": "stream",
     "text": [
      "[[0.66372803 0.70044128]\n",
      " [0.6731872  0.71105004]\n",
      " [0.6053     0.63      ]]\n",
      "rec time now 3 dataset now: Syn1\n"
     ]
    },
    {
     "name": "stderr",
     "output_type": "stream",
     "text": [
      "TPR mean: 100.0%  std: 0.0%\n",
      "FDR mean: 0.0%  std: 0.0%\n",
      "Epoch:      0, d_loss (Acc)): 0.623, v_loss (Acc): 0.582, g_loss: +0.0147\n"
     ]
    },
    {
     "name": "stdout",
     "output_type": "stream",
     "text": [
      "[[0.66372803 0.70044128]\n",
      " [0.6731872  0.71105004]\n",
      " [0.6053     0.63      ]]\n",
      "now at training epoch number 3300 hyp-params: lamda 0.1000 prior 0.0000\n",
      "rec time now 0 dataset now: Syn1\n"
     ]
    },
    {
     "name": "stderr",
     "output_type": "stream",
     "text": [
      "TPR mean: 100.0%  std: 0.0%\n",
      "FDR mean: 0.0%  std: 0.0%\n"
     ]
    },
    {
     "name": "stdout",
     "output_type": "stream",
     "text": [
      "[[0.66920894 0.70008634]\n",
      " [0.67798487 0.71047724]\n",
      " [0.6126     0.6299    ]]\n",
      "rec time now 1 dataset now: Syn1\n"
     ]
    },
    {
     "name": "stderr",
     "output_type": "stream",
     "text": [
      "TPR mean: 100.0%  std: 0.0%\n",
      "FDR mean: 0.0%  std: 0.0%\n"
     ]
    },
    {
     "name": "stdout",
     "output_type": "stream",
     "text": [
      "[[0.66920894 0.70008634]\n",
      " [0.67798487 0.71047724]\n",
      " [0.6126     0.6299    ]]\n",
      "rec time now 2 dataset now: Syn1\n"
     ]
    },
    {
     "name": "stderr",
     "output_type": "stream",
     "text": [
      "TPR mean: 100.0%  std: 0.0%\n",
      "FDR mean: 0.0%  std: 0.0%\n"
     ]
    },
    {
     "name": "stdout",
     "output_type": "stream",
     "text": [
      "[[0.66920894 0.70008634]\n",
      " [0.67798487 0.71047724]\n",
      " [0.6126     0.6299    ]]\n",
      "rec time now 3 dataset now: Syn1\n"
     ]
    },
    {
     "name": "stderr",
     "output_type": "stream",
     "text": [
      "TPR mean: 100.0%  std: 0.0%\n",
      "FDR mean: 0.0%  std: 0.0%\n",
      "Epoch:      0, d_loss (Acc)): 0.602, v_loss (Acc): 0.532, g_loss: +0.0074\n"
     ]
    },
    {
     "name": "stdout",
     "output_type": "stream",
     "text": [
      "[[0.66920894 0.70008634]\n",
      " [0.67798487 0.71047724]\n",
      " [0.6126     0.6299    ]]\n",
      "now at training epoch number 3400 hyp-params: lamda 0.1000 prior 0.0000\n",
      "rec time now 0 dataset now: Syn1\n"
     ]
    },
    {
     "name": "stderr",
     "output_type": "stream",
     "text": [
      "TPR mean: 100.0%  std: 0.0%\n",
      "FDR mean: 0.0%  std: 0.0%\n"
     ]
    },
    {
     "name": "stdout",
     "output_type": "stream",
     "text": [
      "[[0.66515002 0.69600869]\n",
      " [0.67368301 0.70633628]\n",
      " [0.6091     0.6276    ]]\n",
      "rec time now 1 dataset now: Syn1\n"
     ]
    },
    {
     "name": "stderr",
     "output_type": "stream",
     "text": [
      "TPR mean: 100.0%  std: 0.0%\n",
      "FDR mean: 0.0%  std: 0.0%\n"
     ]
    },
    {
     "name": "stdout",
     "output_type": "stream",
     "text": [
      "[[0.66515002 0.69600869]\n",
      " [0.67368301 0.70633628]\n",
      " [0.6091     0.6276    ]]\n",
      "rec time now 2 dataset now: Syn1\n"
     ]
    },
    {
     "name": "stderr",
     "output_type": "stream",
     "text": [
      "TPR mean: 100.0%  std: 0.0%\n",
      "FDR mean: 0.0%  std: 0.0%\n"
     ]
    },
    {
     "name": "stdout",
     "output_type": "stream",
     "text": [
      "[[0.66515002 0.69600869]\n",
      " [0.67368301 0.70633628]\n",
      " [0.6091     0.6276    ]]\n",
      "rec time now 3 dataset now: Syn1\n"
     ]
    },
    {
     "name": "stderr",
     "output_type": "stream",
     "text": [
      "TPR mean: 100.0%  std: 0.0%\n",
      "FDR mean: 0.0%  std: 0.0%\n",
      "Epoch:      0, d_loss (Acc)): 0.616, v_loss (Acc): 0.551, g_loss: +0.0150\n"
     ]
    },
    {
     "name": "stdout",
     "output_type": "stream",
     "text": [
      "[[0.66515002 0.69600869]\n",
      " [0.67368301 0.70633628]\n",
      " [0.6091     0.6276    ]]\n",
      "now at training epoch number 3500 hyp-params: lamda 0.1000 prior 0.0000\n",
      "rec time now 0 dataset now: Syn1\n"
     ]
    },
    {
     "name": "stderr",
     "output_type": "stream",
     "text": [
      "TPR mean: 100.0%  std: 0.0%\n",
      "FDR mean: 0.0%  std: 0.0%\n"
     ]
    },
    {
     "name": "stdout",
     "output_type": "stream",
     "text": [
      "[[0.66980079 0.6975544 ]\n",
      " [0.67852583 0.70831094]\n",
      " [0.6109     0.631     ]]\n",
      "rec time now 1 dataset now: Syn1\n"
     ]
    },
    {
     "name": "stderr",
     "output_type": "stream",
     "text": [
      "TPR mean: 100.0%  std: 0.0%\n",
      "FDR mean: 0.0%  std: 0.0%\n"
     ]
    },
    {
     "name": "stdout",
     "output_type": "stream",
     "text": [
      "[[0.66980079 0.6975544 ]\n",
      " [0.67852583 0.70831094]\n",
      " [0.6109     0.631     ]]\n",
      "rec time now 2 dataset now: Syn1\n"
     ]
    },
    {
     "name": "stderr",
     "output_type": "stream",
     "text": [
      "TPR mean: 100.0%  std: 0.0%\n",
      "FDR mean: 0.0%  std: 0.0%\n"
     ]
    },
    {
     "name": "stdout",
     "output_type": "stream",
     "text": [
      "[[0.66980079 0.6975544 ]\n",
      " [0.67852583 0.70831094]\n",
      " [0.6109     0.631     ]]\n",
      "rec time now 3 dataset now: Syn1\n"
     ]
    },
    {
     "name": "stderr",
     "output_type": "stream",
     "text": [
      "TPR mean: 100.0%  std: 0.0%\n",
      "FDR mean: 0.0%  std: 0.0%\n",
      "Epoch:      0, d_loss (Acc)): 0.624, v_loss (Acc): 0.564, g_loss: +0.0251\n"
     ]
    },
    {
     "name": "stdout",
     "output_type": "stream",
     "text": [
      "[[0.66980079 0.6975544 ]\n",
      " [0.67852583 0.70831094]\n",
      " [0.6109     0.631     ]]\n",
      "now at training epoch number 3600 hyp-params: lamda 0.1000 prior 0.0000\n",
      "rec time now 0 dataset now: Syn1\n"
     ]
    },
    {
     "name": "stderr",
     "output_type": "stream",
     "text": [
      "TPR mean: 100.0%  std: 0.0%\n",
      "FDR mean: 0.0%  std: 0.0%\n"
     ]
    },
    {
     "name": "stdout",
     "output_type": "stream",
     "text": [
      "[[0.66581107 0.69953269]\n",
      " [0.67469166 0.71033623]\n",
      " [0.6097     0.6305    ]]\n",
      "rec time now 1 dataset now: Syn1\n"
     ]
    },
    {
     "name": "stderr",
     "output_type": "stream",
     "text": [
      "TPR mean: 100.0%  std: 0.0%\n",
      "FDR mean: 0.0%  std: 0.0%\n"
     ]
    },
    {
     "name": "stdout",
     "output_type": "stream",
     "text": [
      "[[0.66581107 0.69953269]\n",
      " [0.67469166 0.71033623]\n",
      " [0.6097     0.6305    ]]\n",
      "rec time now 2 dataset now: Syn1\n"
     ]
    },
    {
     "name": "stderr",
     "output_type": "stream",
     "text": [
      "TPR mean: 100.0%  std: 0.0%\n",
      "FDR mean: 0.0%  std: 0.0%\n"
     ]
    },
    {
     "name": "stdout",
     "output_type": "stream",
     "text": [
      "[[0.66581107 0.69953269]\n",
      " [0.67469166 0.71033623]\n",
      " [0.6097     0.6305    ]]\n",
      "rec time now 3 dataset now: Syn1\n"
     ]
    },
    {
     "name": "stderr",
     "output_type": "stream",
     "text": [
      "TPR mean: 100.0%  std: 0.0%\n",
      "FDR mean: 0.0%  std: 0.0%\n",
      "Epoch:      0, d_loss (Acc)): 0.618, v_loss (Acc): 0.566, g_loss: +0.0062\n"
     ]
    },
    {
     "name": "stdout",
     "output_type": "stream",
     "text": [
      "[[0.66581107 0.69953269]\n",
      " [0.67469166 0.71033623]\n",
      " [0.6097     0.6305    ]]\n",
      "now at training epoch number 3700 hyp-params: lamda 0.1000 prior 0.0000\n",
      "rec time now 0 dataset now: Syn1\n"
     ]
    },
    {
     "name": "stderr",
     "output_type": "stream",
     "text": [
      "TPR mean: 100.0%  std: 0.0%\n",
      "FDR mean: 0.0%  std: 0.0%\n"
     ]
    },
    {
     "name": "stdout",
     "output_type": "stream",
     "text": [
      "[[0.6610391  0.69952256]\n",
      " [0.67104073 0.71029841]\n",
      " [0.6055     0.6306    ]]\n",
      "rec time now 1 dataset now: Syn1\n"
     ]
    },
    {
     "name": "stderr",
     "output_type": "stream",
     "text": [
      "TPR mean: 100.0%  std: 0.0%\n",
      "FDR mean: 0.0%  std: 0.0%\n"
     ]
    },
    {
     "name": "stdout",
     "output_type": "stream",
     "text": [
      "[[0.6610391  0.69952256]\n",
      " [0.67104073 0.71029841]\n",
      " [0.6055     0.6306    ]]\n",
      "rec time now 2 dataset now: Syn1\n"
     ]
    },
    {
     "name": "stderr",
     "output_type": "stream",
     "text": [
      "TPR mean: 100.0%  std: 0.0%\n",
      "FDR mean: 0.0%  std: 0.0%\n"
     ]
    },
    {
     "name": "stdout",
     "output_type": "stream",
     "text": [
      "[[0.6610391  0.69952256]\n",
      " [0.67104073 0.71029841]\n",
      " [0.6055     0.6306    ]]\n",
      "rec time now 3 dataset now: Syn1\n"
     ]
    },
    {
     "name": "stderr",
     "output_type": "stream",
     "text": [
      "TPR mean: 100.0%  std: 0.0%\n",
      "FDR mean: 0.0%  std: 0.0%\n",
      "Epoch:      0, d_loss (Acc)): 0.625, v_loss (Acc): 0.569, g_loss: +0.0142\n"
     ]
    },
    {
     "name": "stdout",
     "output_type": "stream",
     "text": [
      "[[0.6610391  0.69952256]\n",
      " [0.67104073 0.71029841]\n",
      " [0.6055     0.6306    ]]\n",
      "now at training epoch number 3800 hyp-params: lamda 0.1000 prior 0.0000\n",
      "rec time now 0 dataset now: Syn1\n"
     ]
    },
    {
     "name": "stderr",
     "output_type": "stream",
     "text": [
      "TPR mean: 100.0%  std: 0.0%\n",
      "FDR mean: 0.0%  std: 0.0%\n"
     ]
    },
    {
     "name": "stdout",
     "output_type": "stream",
     "text": [
      "[[0.66052425 0.69903328]\n",
      " [0.66987215 0.70966759]\n",
      " [0.6043     0.6296    ]]\n",
      "rec time now 1 dataset now: Syn1\n"
     ]
    },
    {
     "name": "stderr",
     "output_type": "stream",
     "text": [
      "TPR mean: 100.0%  std: 0.0%\n",
      "FDR mean: 0.0%  std: 0.0%\n"
     ]
    },
    {
     "name": "stdout",
     "output_type": "stream",
     "text": [
      "[[0.66052425 0.69903328]\n",
      " [0.66987215 0.70966759]\n",
      " [0.6043     0.6296    ]]\n",
      "rec time now 2 dataset now: Syn1\n"
     ]
    },
    {
     "name": "stderr",
     "output_type": "stream",
     "text": [
      "TPR mean: 100.0%  std: 0.0%\n",
      "FDR mean: 0.0%  std: 0.0%\n"
     ]
    },
    {
     "name": "stdout",
     "output_type": "stream",
     "text": [
      "[[0.66052425 0.69903328]\n",
      " [0.66987215 0.70966759]\n",
      " [0.6043     0.6296    ]]\n",
      "rec time now 3 dataset now: Syn1\n"
     ]
    },
    {
     "name": "stderr",
     "output_type": "stream",
     "text": [
      "TPR mean: 100.0%  std: 0.0%\n",
      "FDR mean: 0.0%  std: 0.0%\n",
      "Epoch:      0, d_loss (Acc)): 0.599, v_loss (Acc): 0.541, g_loss: +0.0144\n"
     ]
    },
    {
     "name": "stdout",
     "output_type": "stream",
     "text": [
      "[[0.66052425 0.69903328]\n",
      " [0.66987215 0.70966759]\n",
      " [0.6043     0.6296    ]]\n",
      "now at training epoch number 3900 hyp-params: lamda 0.1000 prior 0.0000\n",
      "rec time now 0 dataset now: Syn1\n"
     ]
    },
    {
     "name": "stderr",
     "output_type": "stream",
     "text": [
      "TPR mean: 100.0%  std: 0.0%\n",
      "FDR mean: 0.0%  std: 0.0%\n"
     ]
    },
    {
     "name": "stdout",
     "output_type": "stream",
     "text": [
      "[[0.66907618 0.69995022]\n",
      " [0.67793329 0.7106527 ]\n",
      " [0.6092     0.6326    ]]\n",
      "rec time now 1 dataset now: Syn1\n"
     ]
    },
    {
     "name": "stderr",
     "output_type": "stream",
     "text": [
      "TPR mean: 100.0%  std: 0.0%\n",
      "FDR mean: 0.0%  std: 0.0%\n"
     ]
    },
    {
     "name": "stdout",
     "output_type": "stream",
     "text": [
      "[[0.66907618 0.69995022]\n",
      " [0.67793329 0.7106527 ]\n",
      " [0.6092     0.6326    ]]\n",
      "rec time now 2 dataset now: Syn1\n"
     ]
    },
    {
     "name": "stderr",
     "output_type": "stream",
     "text": [
      "TPR mean: 100.0%  std: 0.0%\n",
      "FDR mean: 0.0%  std: 0.0%\n"
     ]
    },
    {
     "name": "stdout",
     "output_type": "stream",
     "text": [
      "[[0.66907618 0.69995022]\n",
      " [0.67793329 0.7106527 ]\n",
      " [0.6092     0.6326    ]]\n",
      "rec time now 3 dataset now: Syn1\n"
     ]
    },
    {
     "name": "stderr",
     "output_type": "stream",
     "text": [
      "TPR mean: 100.0%  std: 0.0%\n",
      "FDR mean: 0.0%  std: 0.0%\n",
      "Epoch:      0, d_loss (Acc)): 0.622, v_loss (Acc): 0.552, g_loss: +0.0104\n"
     ]
    },
    {
     "name": "stdout",
     "output_type": "stream",
     "text": [
      "[[0.66907618 0.69995022]\n",
      " [0.67793329 0.7106527 ]\n",
      " [0.6092     0.6326    ]]\n",
      "now at training epoch number 4000 hyp-params: lamda 0.1000 prior 0.0000\n",
      "rec time now 0 dataset now: Syn1\n"
     ]
    },
    {
     "name": "stderr",
     "output_type": "stream",
     "text": [
      "TPR mean: 100.0%  std: 0.0%\n",
      "FDR mean: 0.0%  std: 0.0%\n"
     ]
    },
    {
     "name": "stdout",
     "output_type": "stream",
     "text": [
      "[[0.66547013 0.6980992 ]\n",
      " [0.6750321  0.70914922]\n",
      " [0.6063     0.6295    ]]\n",
      "rec time now 1 dataset now: Syn1\n"
     ]
    },
    {
     "name": "stderr",
     "output_type": "stream",
     "text": [
      "TPR mean: 100.0%  std: 0.0%\n",
      "FDR mean: 0.0%  std: 0.0%\n"
     ]
    },
    {
     "name": "stdout",
     "output_type": "stream",
     "text": [
      "[[0.66547013 0.6980992 ]\n",
      " [0.6750321  0.70914922]\n",
      " [0.6063     0.6295    ]]\n",
      "rec time now 2 dataset now: Syn1\n"
     ]
    },
    {
     "name": "stderr",
     "output_type": "stream",
     "text": [
      "TPR mean: 100.0%  std: 0.0%\n",
      "FDR mean: 0.0%  std: 0.0%\n"
     ]
    },
    {
     "name": "stdout",
     "output_type": "stream",
     "text": [
      "[[0.66547013 0.6980992 ]\n",
      " [0.6750321  0.70914922]\n",
      " [0.6063     0.6295    ]]\n",
      "rec time now 3 dataset now: Syn1\n"
     ]
    },
    {
     "name": "stderr",
     "output_type": "stream",
     "text": [
      "TPR mean: 100.0%  std: 0.0%\n",
      "FDR mean: 0.0%  std: 0.0%\n",
      "Epoch:      0, d_loss (Acc)): 0.618, v_loss (Acc): 0.544, g_loss: +0.0181\n"
     ]
    },
    {
     "name": "stdout",
     "output_type": "stream",
     "text": [
      "[[0.66547013 0.6980992 ]\n",
      " [0.6750321  0.70914922]\n",
      " [0.6063     0.6295    ]]\n",
      "now at training epoch number 4100 hyp-params: lamda 0.1000 prior 0.0000\n",
      "rec time now 0 dataset now: Syn1\n"
     ]
    },
    {
     "name": "stderr",
     "output_type": "stream",
     "text": [
      "TPR mean: 100.0%  std: 0.0%\n",
      "FDR mean: 0.0%  std: 0.0%\n"
     ]
    },
    {
     "name": "stdout",
     "output_type": "stream",
     "text": [
      "[[0.66366984 0.70074964]\n",
      " [0.67152357 0.71116089]\n",
      " [0.6082     0.6302    ]]\n",
      "rec time now 1 dataset now: Syn1\n"
     ]
    },
    {
     "name": "stderr",
     "output_type": "stream",
     "text": [
      "TPR mean: 100.0%  std: 0.0%\n",
      "FDR mean: 0.0%  std: 0.0%\n"
     ]
    },
    {
     "name": "stdout",
     "output_type": "stream",
     "text": [
      "[[0.66366984 0.70074964]\n",
      " [0.67152357 0.71116089]\n",
      " [0.6082     0.6302    ]]\n",
      "rec time now 2 dataset now: Syn1\n"
     ]
    },
    {
     "name": "stderr",
     "output_type": "stream",
     "text": [
      "TPR mean: 100.0%  std: 0.0%\n",
      "FDR mean: 0.0%  std: 0.0%\n"
     ]
    },
    {
     "name": "stdout",
     "output_type": "stream",
     "text": [
      "[[0.66366984 0.70074964]\n",
      " [0.67152357 0.71116089]\n",
      " [0.6082     0.6302    ]]\n",
      "rec time now 3 dataset now: Syn1\n"
     ]
    },
    {
     "name": "stderr",
     "output_type": "stream",
     "text": [
      "TPR mean: 100.0%  std: 0.0%\n",
      "FDR mean: 0.0%  std: 0.0%\n",
      "Epoch:      0, d_loss (Acc)): 0.609, v_loss (Acc): 0.540, g_loss: +0.0078\n"
     ]
    },
    {
     "name": "stdout",
     "output_type": "stream",
     "text": [
      "[[0.66366984 0.70074964]\n",
      " [0.67152357 0.71116089]\n",
      " [0.6082     0.6302    ]]\n",
      "now at training epoch number 4200 hyp-params: lamda 0.1000 prior 0.0000\n",
      "rec time now 0 dataset now: Syn1\n"
     ]
    },
    {
     "name": "stderr",
     "output_type": "stream",
     "text": [
      "TPR mean: 100.0%  std: 0.0%\n",
      "FDR mean: 0.0%  std: 0.0%\n"
     ]
    },
    {
     "name": "stdout",
     "output_type": "stream",
     "text": [
      "[[0.66283621 0.70009977]\n",
      " [0.67185696 0.71087135]\n",
      " [0.6053     0.6303    ]]\n",
      "rec time now 1 dataset now: Syn1\n"
     ]
    },
    {
     "name": "stderr",
     "output_type": "stream",
     "text": [
      "TPR mean: 100.0%  std: 0.0%\n",
      "FDR mean: 0.0%  std: 0.0%\n"
     ]
    },
    {
     "name": "stdout",
     "output_type": "stream",
     "text": [
      "[[0.66283621 0.70009977]\n",
      " [0.67185696 0.71087135]\n",
      " [0.6053     0.6303    ]]\n",
      "rec time now 2 dataset now: Syn1\n"
     ]
    },
    {
     "name": "stderr",
     "output_type": "stream",
     "text": [
      "TPR mean: 100.0%  std: 0.0%\n",
      "FDR mean: 0.0%  std: 0.0%\n"
     ]
    },
    {
     "name": "stdout",
     "output_type": "stream",
     "text": [
      "[[0.66283621 0.70009977]\n",
      " [0.67185696 0.71087135]\n",
      " [0.6053     0.6303    ]]\n",
      "rec time now 3 dataset now: Syn1\n"
     ]
    },
    {
     "name": "stderr",
     "output_type": "stream",
     "text": [
      "TPR mean: 100.0%  std: 0.0%\n",
      "FDR mean: 0.0%  std: 0.0%\n",
      "Epoch:      0, d_loss (Acc)): 0.624, v_loss (Acc): 0.541, g_loss: +0.0116\n"
     ]
    },
    {
     "name": "stdout",
     "output_type": "stream",
     "text": [
      "[[0.66283621 0.70009977]\n",
      " [0.67185696 0.71087135]\n",
      " [0.6053     0.6303    ]]\n",
      "now at training epoch number 4300 hyp-params: lamda 0.1000 prior 0.0000\n",
      "rec time now 0 dataset now: Syn1\n"
     ]
    },
    {
     "name": "stderr",
     "output_type": "stream",
     "text": [
      "TPR mean: 100.0%  std: 0.0%\n",
      "FDR mean: 0.0%  std: 0.0%\n"
     ]
    },
    {
     "name": "stdout",
     "output_type": "stream",
     "text": [
      "[[0.66334856 0.69761491]\n",
      " [0.67284225 0.70757287]\n",
      " [0.6079     0.6295    ]]\n",
      "rec time now 1 dataset now: Syn1\n"
     ]
    },
    {
     "name": "stderr",
     "output_type": "stream",
     "text": [
      "TPR mean: 100.0%  std: 0.0%\n",
      "FDR mean: 0.0%  std: 0.0%\n"
     ]
    },
    {
     "name": "stdout",
     "output_type": "stream",
     "text": [
      "[[0.66334856 0.69761491]\n",
      " [0.67284225 0.70757287]\n",
      " [0.6079     0.6295    ]]\n",
      "rec time now 2 dataset now: Syn1\n"
     ]
    },
    {
     "name": "stderr",
     "output_type": "stream",
     "text": [
      "TPR mean: 100.0%  std: 0.0%\n",
      "FDR mean: 0.0%  std: 0.0%\n"
     ]
    },
    {
     "name": "stdout",
     "output_type": "stream",
     "text": [
      "[[0.66334856 0.69761491]\n",
      " [0.67284225 0.70757287]\n",
      " [0.6079     0.6295    ]]\n",
      "rec time now 3 dataset now: Syn1\n"
     ]
    },
    {
     "name": "stderr",
     "output_type": "stream",
     "text": [
      "TPR mean: 100.0%  std: 0.0%\n",
      "FDR mean: 0.0%  std: 0.0%\n",
      "Epoch:      0, d_loss (Acc)): 0.625, v_loss (Acc): 0.545, g_loss: +0.0134\n"
     ]
    },
    {
     "name": "stdout",
     "output_type": "stream",
     "text": [
      "[[0.66334856 0.69761491]\n",
      " [0.67284225 0.70757287]\n",
      " [0.6079     0.6295    ]]\n",
      "now at training epoch number 4400 hyp-params: lamda 0.1000 prior 0.0000\n",
      "rec time now 0 dataset now: Syn1\n"
     ]
    },
    {
     "name": "stderr",
     "output_type": "stream",
     "text": [
      "TPR mean: 100.0%  std: 0.0%\n",
      "FDR mean: 0.0%  std: 0.0%\n"
     ]
    },
    {
     "name": "stdout",
     "output_type": "stream",
     "text": [
      "[[0.66116192 0.69639304]\n",
      " [0.67095774 0.70655268]\n",
      " [0.607      0.6258    ]]\n",
      "rec time now 1 dataset now: Syn1\n"
     ]
    },
    {
     "name": "stderr",
     "output_type": "stream",
     "text": [
      "TPR mean: 100.0%  std: 0.0%\n",
      "FDR mean: 0.0%  std: 0.0%\n"
     ]
    },
    {
     "name": "stdout",
     "output_type": "stream",
     "text": [
      "[[0.66116192 0.69639304]\n",
      " [0.67095774 0.70655268]\n",
      " [0.607      0.6258    ]]\n",
      "rec time now 2 dataset now: Syn1\n"
     ]
    },
    {
     "name": "stderr",
     "output_type": "stream",
     "text": [
      "TPR mean: 100.0%  std: 0.0%\n",
      "FDR mean: 0.0%  std: 0.0%\n"
     ]
    },
    {
     "name": "stdout",
     "output_type": "stream",
     "text": [
      "[[0.66116192 0.69639304]\n",
      " [0.67095774 0.70655268]\n",
      " [0.607      0.6258    ]]\n",
      "rec time now 3 dataset now: Syn1\n"
     ]
    },
    {
     "name": "stderr",
     "output_type": "stream",
     "text": [
      "TPR mean: 100.0%  std: 0.0%\n",
      "FDR mean: 0.0%  std: 0.0%\n",
      "Epoch:      0, d_loss (Acc)): 0.613, v_loss (Acc): 0.539, g_loss: +0.0210\n"
     ]
    },
    {
     "name": "stdout",
     "output_type": "stream",
     "text": [
      "[[0.66116192 0.69639304]\n",
      " [0.67095774 0.70655268]\n",
      " [0.607      0.6258    ]]\n",
      "now at training epoch number 4500 hyp-params: lamda 0.1000 prior 0.0000\n",
      "rec time now 0 dataset now: Syn1\n"
     ]
    },
    {
     "name": "stderr",
     "output_type": "stream",
     "text": [
      "TPR mean: 100.0%  std: 0.0%\n",
      "FDR mean: 0.0%  std: 0.0%\n"
     ]
    },
    {
     "name": "stdout",
     "output_type": "stream",
     "text": [
      "[[0.65941888 0.70090375]\n",
      " [0.66734658 0.71144111]\n",
      " [0.6063     0.6296    ]]\n",
      "rec time now 1 dataset now: Syn1\n"
     ]
    },
    {
     "name": "stderr",
     "output_type": "stream",
     "text": [
      "TPR mean: 100.0%  std: 0.0%\n",
      "FDR mean: 0.0%  std: 0.0%\n"
     ]
    },
    {
     "name": "stdout",
     "output_type": "stream",
     "text": [
      "[[0.65941888 0.70090375]\n",
      " [0.66734658 0.71144111]\n",
      " [0.6063     0.6296    ]]\n",
      "rec time now 2 dataset now: Syn1\n"
     ]
    },
    {
     "name": "stderr",
     "output_type": "stream",
     "text": [
      "TPR mean: 100.0%  std: 0.0%\n",
      "FDR mean: 0.0%  std: 0.0%\n"
     ]
    },
    {
     "name": "stdout",
     "output_type": "stream",
     "text": [
      "[[0.65941888 0.70090375]\n",
      " [0.66734658 0.71144111]\n",
      " [0.6063     0.6296    ]]\n",
      "rec time now 3 dataset now: Syn1\n"
     ]
    },
    {
     "name": "stderr",
     "output_type": "stream",
     "text": [
      "TPR mean: 100.0%  std: 0.0%\n",
      "FDR mean: 0.0%  std: 0.0%\n",
      "Epoch:      0, d_loss (Acc)): 0.597, v_loss (Acc): 0.533, g_loss: +0.0172\n"
     ]
    },
    {
     "name": "stdout",
     "output_type": "stream",
     "text": [
      "[[0.65941888 0.70090375]\n",
      " [0.66734658 0.71144111]\n",
      " [0.6063     0.6296    ]]\n",
      "now at training epoch number 4600 hyp-params: lamda 0.1000 prior 0.0000\n",
      "rec time now 0 dataset now: Syn1\n"
     ]
    },
    {
     "name": "stderr",
     "output_type": "stream",
     "text": [
      "TPR mean: 100.0%  std: 0.0%\n",
      "FDR mean: 0.0%  std: 0.0%\n"
     ]
    },
    {
     "name": "stdout",
     "output_type": "stream",
     "text": [
      "[[0.66401916 0.69841535]\n",
      " [0.67215876 0.7094616 ]\n",
      " [0.6083     0.6291    ]]\n",
      "rec time now 1 dataset now: Syn1\n"
     ]
    },
    {
     "name": "stderr",
     "output_type": "stream",
     "text": [
      "TPR mean: 100.0%  std: 0.0%\n",
      "FDR mean: 0.0%  std: 0.0%\n"
     ]
    },
    {
     "name": "stdout",
     "output_type": "stream",
     "text": [
      "[[0.66401916 0.69841535]\n",
      " [0.67215876 0.7094616 ]\n",
      " [0.6083     0.6291    ]]\n",
      "rec time now 2 dataset now: Syn1\n"
     ]
    },
    {
     "name": "stderr",
     "output_type": "stream",
     "text": [
      "TPR mean: 100.0%  std: 0.0%\n",
      "FDR mean: 0.0%  std: 0.0%\n"
     ]
    },
    {
     "name": "stdout",
     "output_type": "stream",
     "text": [
      "[[0.66401916 0.69841535]\n",
      " [0.67215876 0.7094616 ]\n",
      " [0.6083     0.6291    ]]\n",
      "rec time now 3 dataset now: Syn1\n"
     ]
    },
    {
     "name": "stderr",
     "output_type": "stream",
     "text": [
      "TPR mean: 100.0%  std: 0.0%\n",
      "FDR mean: 0.0%  std: 0.0%\n",
      "Epoch:      0, d_loss (Acc)): 0.609, v_loss (Acc): 0.547, g_loss: +0.0133\n"
     ]
    },
    {
     "name": "stdout",
     "output_type": "stream",
     "text": [
      "[[0.66401916 0.69841535]\n",
      " [0.67215876 0.7094616 ]\n",
      " [0.6083     0.6291    ]]\n",
      "now at training epoch number 4700 hyp-params: lamda 0.1000 prior 0.0000\n",
      "rec time now 0 dataset now: Syn1\n"
     ]
    },
    {
     "name": "stderr",
     "output_type": "stream",
     "text": [
      "TPR mean: 100.0%  std: 0.0%\n",
      "FDR mean: 0.0%  std: 0.0%\n"
     ]
    },
    {
     "name": "stdout",
     "output_type": "stream",
     "text": [
      "[[0.66029921 0.6979767 ]\n",
      " [0.66861639 0.70906003]\n",
      " [0.6035     0.6311    ]]\n",
      "rec time now 1 dataset now: Syn1\n"
     ]
    },
    {
     "name": "stderr",
     "output_type": "stream",
     "text": [
      "TPR mean: 100.0%  std: 0.0%\n",
      "FDR mean: 0.0%  std: 0.0%\n"
     ]
    },
    {
     "name": "stdout",
     "output_type": "stream",
     "text": [
      "[[0.66029921 0.6979767 ]\n",
      " [0.66861639 0.70906003]\n",
      " [0.6035     0.6311    ]]\n",
      "rec time now 2 dataset now: Syn1\n"
     ]
    },
    {
     "name": "stderr",
     "output_type": "stream",
     "text": [
      "TPR mean: 100.0%  std: 0.0%\n",
      "FDR mean: 0.0%  std: 0.0%\n"
     ]
    },
    {
     "name": "stdout",
     "output_type": "stream",
     "text": [
      "[[0.66029921 0.6979767 ]\n",
      " [0.66861639 0.70906003]\n",
      " [0.6035     0.6311    ]]\n",
      "rec time now 3 dataset now: Syn1\n"
     ]
    },
    {
     "name": "stderr",
     "output_type": "stream",
     "text": [
      "TPR mean: 100.0%  std: 0.0%\n",
      "FDR mean: 0.0%  std: 0.0%\n",
      "Epoch:      0, d_loss (Acc)): 0.636, v_loss (Acc): 0.535, g_loss: +0.0076\n"
     ]
    },
    {
     "name": "stdout",
     "output_type": "stream",
     "text": [
      "[[0.66029921 0.6979767 ]\n",
      " [0.66861639 0.70906003]\n",
      " [0.6035     0.6311    ]]\n",
      "now at training epoch number 4800 hyp-params: lamda 0.1000 prior 0.0000\n",
      "rec time now 0 dataset now: Syn1\n"
     ]
    },
    {
     "name": "stderr",
     "output_type": "stream",
     "text": [
      "TPR mean: 100.0%  std: 0.0%\n",
      "FDR mean: 0.0%  std: 0.0%\n"
     ]
    },
    {
     "name": "stdout",
     "output_type": "stream",
     "text": [
      "[[0.66015659 0.70095199]\n",
      " [0.66988411 0.711296  ]\n",
      " [0.6035     0.6301    ]]\n",
      "rec time now 1 dataset now: Syn1\n"
     ]
    },
    {
     "name": "stderr",
     "output_type": "stream",
     "text": [
      "TPR mean: 100.0%  std: 0.0%\n",
      "FDR mean: 0.0%  std: 0.0%\n"
     ]
    },
    {
     "name": "stdout",
     "output_type": "stream",
     "text": [
      "[[0.66015659 0.70095199]\n",
      " [0.66988411 0.711296  ]\n",
      " [0.6035     0.6301    ]]\n",
      "rec time now 2 dataset now: Syn1\n"
     ]
    },
    {
     "name": "stderr",
     "output_type": "stream",
     "text": [
      "TPR mean: 100.0%  std: 0.0%\n",
      "FDR mean: 0.0%  std: 0.0%\n"
     ]
    },
    {
     "name": "stdout",
     "output_type": "stream",
     "text": [
      "[[0.66015659 0.70095199]\n",
      " [0.66988411 0.711296  ]\n",
      " [0.6035     0.6301    ]]\n",
      "rec time now 3 dataset now: Syn1\n"
     ]
    },
    {
     "name": "stderr",
     "output_type": "stream",
     "text": [
      "TPR mean: 100.0%  std: 0.0%\n",
      "FDR mean: 0.0%  std: 0.0%\n",
      "Epoch:      0, d_loss (Acc)): 0.616, v_loss (Acc): 0.520, g_loss: +0.0124\n"
     ]
    },
    {
     "name": "stdout",
     "output_type": "stream",
     "text": [
      "[[0.66015659 0.70095199]\n",
      " [0.66988411 0.711296  ]\n",
      " [0.6035     0.6301    ]]\n",
      "now at training epoch number 4900 hyp-params: lamda 0.1000 prior 0.0000\n",
      "rec time now 0 dataset now: Syn1\n"
     ]
    },
    {
     "name": "stderr",
     "output_type": "stream",
     "text": [
      "TPR mean: 100.0%  std: 0.0%\n",
      "FDR mean: 0.0%  std: 0.0%\n"
     ]
    },
    {
     "name": "stdout",
     "output_type": "stream",
     "text": [
      "[[0.66016501 0.698141  ]\n",
      " [0.66841419 0.70849594]\n",
      " [0.6043     0.6285    ]]\n",
      "rec time now 1 dataset now: Syn1\n"
     ]
    },
    {
     "name": "stderr",
     "output_type": "stream",
     "text": [
      "TPR mean: 100.0%  std: 0.0%\n",
      "FDR mean: 0.0%  std: 0.0%\n"
     ]
    },
    {
     "name": "stdout",
     "output_type": "stream",
     "text": [
      "[[0.66016501 0.698141  ]\n",
      " [0.66841419 0.70849594]\n",
      " [0.6043     0.6285    ]]\n",
      "rec time now 2 dataset now: Syn1\n"
     ]
    },
    {
     "name": "stderr",
     "output_type": "stream",
     "text": [
      "TPR mean: 100.0%  std: 0.0%\n",
      "FDR mean: 0.0%  std: 0.0%\n"
     ]
    },
    {
     "name": "stdout",
     "output_type": "stream",
     "text": [
      "[[0.66016501 0.698141  ]\n",
      " [0.66841419 0.70849594]\n",
      " [0.6043     0.6285    ]]\n",
      "rec time now 3 dataset now: Syn1\n"
     ]
    },
    {
     "name": "stderr",
     "output_type": "stream",
     "text": [
      "TPR mean: 100.0%  std: 0.0%\n",
      "FDR mean: 0.0%  std: 0.0%\n",
      "invase: Syn2 5000 . Y\n",
      "(10000, 11) (10000, 2) (10000, 11) (10000, 2)\n",
      "input shape: 11\n",
      "Epoch:      0, d_loss (Acc)): 0.740, v_loss (Acc): 0.857, g_loss: +0.9424\n"
     ]
    },
    {
     "name": "stdout",
     "output_type": "stream",
     "text": [
      "[[0.66016501 0.698141  ]\n",
      " [0.66841419 0.70849594]\n",
      " [0.6043     0.6285    ]]\n",
      "PyTorch Version: elapsed time for Syn1: 11 feature, 10000 sample: [475.9042] sec.\n",
      "now at training epoch number 0 hyp-params: lamda 0.1000 prior 0.0000\n",
      "rec time now 0 dataset now: Syn2\n"
     ]
    },
    {
     "name": "stderr",
     "output_type": "stream",
     "text": [
      "TPR mean: 53.2%  std: 22.6%\n",
      "FDR mean: 36.7%  std: 24.4%\n"
     ]
    },
    {
     "name": "stdout",
     "output_type": "stream",
     "text": [
      "[[0.78199317 0.73557856]\n",
      " [0.80498964 0.73033518]\n",
      " [0.7122     0.6993    ]]\n",
      "rec time now 1 dataset now: Syn2\n"
     ]
    },
    {
     "name": "stderr",
     "output_type": "stream",
     "text": [
      "TPR mean: 44.4%  std: 22.0%\n",
      "FDR mean: 14.8%  std: 23.4%\n"
     ]
    },
    {
     "name": "stdout",
     "output_type": "stream",
     "text": [
      "[[0.78199317 0.71039555]\n",
      " [0.80498964 0.69659619]\n",
      " [0.7122     0.6901    ]]\n",
      "rec time now 2 dataset now: Syn2\n"
     ]
    },
    {
     "name": "stderr",
     "output_type": "stream",
     "text": [
      "TPR mean: 42.2%  std: 21.7%\n",
      "FDR mean: 9.0%  std: 18.7%\n"
     ]
    },
    {
     "name": "stdout",
     "output_type": "stream",
     "text": [
      "[[0.78199317 0.70546545]\n",
      " [0.80498964 0.69079547]\n",
      " [0.7122     0.6883    ]]\n",
      "rec time now 3 dataset now: Syn2\n"
     ]
    },
    {
     "name": "stderr",
     "output_type": "stream",
     "text": [
      "TPR mean: 41.8%  std: 21.8%\n",
      "FDR mean: 7.8%  std: 17.1%\n",
      "Epoch:      0, d_loss (Acc)): 0.622, v_loss (Acc): 0.605, g_loss: -0.0884\n"
     ]
    },
    {
     "name": "stdout",
     "output_type": "stream",
     "text": [
      "[[0.78199317 0.70680372]\n",
      " [0.80498964 0.69725068]\n",
      " [0.7122     0.6881    ]]\n",
      "now at training epoch number 100 hyp-params: lamda 0.1000 prior 0.0000\n",
      "rec time now 0 dataset now: Syn2\n"
     ]
    },
    {
     "name": "stderr",
     "output_type": "stream",
     "text": [
      "TPR mean: 87.7%  std: 17.3%\n",
      "FDR mean: 11.5%  std: 16.3%\n"
     ]
    },
    {
     "name": "stdout",
     "output_type": "stream",
     "text": [
      "[[0.83218834 0.80268572]\n",
      " [0.85215703 0.7807137 ]\n",
      " [0.755      0.7565    ]]\n",
      "rec time now 1 dataset now: Syn2\n"
     ]
    },
    {
     "name": "stderr",
     "output_type": "stream",
     "text": [
      "TPR mean: 85.4%  std: 18.3%\n",
      "FDR mean: 2.1%  std: 7.7%\n"
     ]
    },
    {
     "name": "stdout",
     "output_type": "stream",
     "text": [
      "[[0.83218834 0.79061165]\n",
      " [0.85215703 0.76682671]\n",
      " [0.755      0.7455    ]]\n",
      "rec time now 2 dataset now: Syn2\n"
     ]
    },
    {
     "name": "stderr",
     "output_type": "stream",
     "text": [
      "TPR mean: 85.1%  std: 18.4%\n",
      "FDR mean: 1.4%  std: 6.1%\n"
     ]
    },
    {
     "name": "stdout",
     "output_type": "stream",
     "text": [
      "[[0.83218834 0.79106584]\n",
      " [0.85215703 0.77190754]\n",
      " [0.755      0.7434    ]]\n",
      "rec time now 3 dataset now: Syn2\n"
     ]
    },
    {
     "name": "stderr",
     "output_type": "stream",
     "text": [
      "TPR mean: 85.1%  std: 18.4%\n",
      "FDR mean: 1.3%  std: 6.0%\n",
      "Epoch:      0, d_loss (Acc)): 0.594, v_loss (Acc): 0.521, g_loss: -0.5257\n"
     ]
    },
    {
     "name": "stdout",
     "output_type": "stream",
     "text": [
      "[[0.83218834 0.79119834]\n",
      " [0.85215703 0.77293334]\n",
      " [0.755      0.7435    ]]\n",
      "now at training epoch number 200 hyp-params: lamda 0.1000 prior 0.0000\n",
      "rec time now 0 dataset now: Syn2\n"
     ]
    },
    {
     "name": "stderr",
     "output_type": "stream",
     "text": [
      "TPR mean: 99.3%  std: 4.4%\n",
      "FDR mean: 3.0%  std: 8.3%\n"
     ]
    },
    {
     "name": "stdout",
     "output_type": "stream",
     "text": [
      "[[0.85337853 0.86798158]\n",
      " [0.8674098  0.85435003]\n",
      " [0.7746     0.7974    ]]\n",
      "rec time now 1 dataset now: Syn2\n"
     ]
    },
    {
     "name": "stderr",
     "output_type": "stream",
     "text": [
      "TPR mean: 99.3%  std: 4.4%\n",
      "FDR mean: 0.2%  std: 2.0%\n"
     ]
    },
    {
     "name": "stdout",
     "output_type": "stream",
     "text": [
      "[[0.85337853 0.87759672]\n",
      " [0.8674098  0.88038675]\n",
      " [0.7746     0.8       ]]\n",
      "rec time now 2 dataset now: Syn2\n"
     ]
    },
    {
     "name": "stderr",
     "output_type": "stream",
     "text": [
      "TPR mean: 99.3%  std: 4.4%\n",
      "FDR mean: 0.1%  std: 1.5%\n"
     ]
    },
    {
     "name": "stdout",
     "output_type": "stream",
     "text": [
      "[[0.85337853 0.87772294]\n",
      " [0.8674098  0.88042162]\n",
      " [0.7746     0.8004    ]]\n",
      "rec time now 3 dataset now: Syn2\n"
     ]
    },
    {
     "name": "stderr",
     "output_type": "stream",
     "text": [
      "TPR mean: 99.3%  std: 4.4%\n",
      "FDR mean: 0.1%  std: 1.4%\n",
      "Epoch:      0, d_loss (Acc)): 0.533, v_loss (Acc): 0.469, g_loss: -0.4634\n"
     ]
    },
    {
     "name": "stdout",
     "output_type": "stream",
     "text": [
      "[[0.85337853 0.87770788]\n",
      " [0.8674098  0.88040614]\n",
      " [0.7746     0.8004    ]]\n",
      "now at training epoch number 300 hyp-params: lamda 0.1000 prior 0.0000\n",
      "rec time now 0 dataset now: Syn2\n"
     ]
    },
    {
     "name": "stderr",
     "output_type": "stream",
     "text": [
      "TPR mean: 100.0%  std: 0.2%\n",
      "FDR mean: 0.2%  std: 2.3%\n"
     ]
    },
    {
     "name": "stdout",
     "output_type": "stream",
     "text": [
      "[[0.86764837 0.88168032]\n",
      " [0.87917928 0.88393267]\n",
      " [0.7933     0.8081    ]]\n",
      "rec time now 1 dataset now: Syn2\n"
     ]
    },
    {
     "name": "stderr",
     "output_type": "stream",
     "text": [
      "TPR mean: 100.0%  std: 0.2%\n",
      "FDR mean: 0.0%  std: 0.0%\n"
     ]
    },
    {
     "name": "stdout",
     "output_type": "stream",
     "text": [
      "[[0.86764837 0.8828883 ]\n",
      " [0.87917928 0.89044396]\n",
      " [0.7933     0.8088    ]]\n",
      "rec time now 2 dataset now: Syn2\n"
     ]
    },
    {
     "name": "stderr",
     "output_type": "stream",
     "text": [
      "TPR mean: 100.0%  std: 0.2%\n",
      "FDR mean: 0.0%  std: 0.0%\n"
     ]
    },
    {
     "name": "stdout",
     "output_type": "stream",
     "text": [
      "[[0.86764837 0.8828883 ]\n",
      " [0.87917928 0.89044396]\n",
      " [0.7933     0.8088    ]]\n",
      "rec time now 3 dataset now: Syn2\n"
     ]
    },
    {
     "name": "stderr",
     "output_type": "stream",
     "text": [
      "TPR mean: 100.0%  std: 0.2%\n",
      "FDR mean: 0.0%  std: 0.0%\n",
      "Epoch:      0, d_loss (Acc)): 0.463, v_loss (Acc): 0.437, g_loss: -0.1793\n"
     ]
    },
    {
     "name": "stdout",
     "output_type": "stream",
     "text": [
      "[[0.86764837 0.8828883 ]\n",
      " [0.87917928 0.89044396]\n",
      " [0.7933     0.8088    ]]\n",
      "now at training epoch number 400 hyp-params: lamda 0.1000 prior 0.0000\n",
      "rec time now 0 dataset now: Syn2\n"
     ]
    },
    {
     "name": "stderr",
     "output_type": "stream",
     "text": [
      "TPR mean: 100.0%  std: 0.0%\n",
      "FDR mean: 0.0%  std: 0.3%\n"
     ]
    },
    {
     "name": "stdout",
     "output_type": "stream",
     "text": [
      "[[0.87359906 0.88665707]\n",
      " [0.88208316 0.89205   ]\n",
      " [0.8008     0.8137    ]]\n",
      "rec time now 1 dataset now: Syn2\n"
     ]
    },
    {
     "name": "stderr",
     "output_type": "stream",
     "text": [
      "TPR mean: 100.0%  std: 0.0%\n",
      "FDR mean: 0.0%  std: 0.0%\n"
     ]
    },
    {
     "name": "stdout",
     "output_type": "stream",
     "text": [
      "[[0.87359906 0.88702359]\n",
      " [0.88208316 0.89455002]\n",
      " [0.8008     0.8138    ]]\n",
      "rec time now 2 dataset now: Syn2\n"
     ]
    },
    {
     "name": "stderr",
     "output_type": "stream",
     "text": [
      "TPR mean: 100.0%  std: 0.0%\n",
      "FDR mean: 0.0%  std: 0.0%\n"
     ]
    },
    {
     "name": "stdout",
     "output_type": "stream",
     "text": [
      "[[0.87359906 0.88702359]\n",
      " [0.88208316 0.89455002]\n",
      " [0.8008     0.8138    ]]\n",
      "rec time now 3 dataset now: Syn2\n"
     ]
    },
    {
     "name": "stderr",
     "output_type": "stream",
     "text": [
      "TPR mean: 100.0%  std: 0.0%\n",
      "FDR mean: 0.0%  std: 0.0%\n",
      "Epoch:      0, d_loss (Acc)): 0.490, v_loss (Acc): 0.477, g_loss: -0.1097\n"
     ]
    },
    {
     "name": "stdout",
     "output_type": "stream",
     "text": [
      "[[0.87359906 0.88702359]\n",
      " [0.88208316 0.89455002]\n",
      " [0.8008     0.8138    ]]\n",
      "now at training epoch number 500 hyp-params: lamda 0.1000 prior 0.0000\n",
      "rec time now 0 dataset now: Syn2\n"
     ]
    },
    {
     "name": "stderr",
     "output_type": "stream",
     "text": [
      "TPR mean: 100.0%  std: 0.0%\n",
      "FDR mean: 0.0%  std: 0.2%\n"
     ]
    },
    {
     "name": "stdout",
     "output_type": "stream",
     "text": [
      "[[0.87819864 0.89546505]\n",
      " [0.88696892 0.90045725]\n",
      " [0.8042     0.8237    ]]\n",
      "rec time now 1 dataset now: Syn2\n"
     ]
    },
    {
     "name": "stderr",
     "output_type": "stream",
     "text": [
      "TPR mean: 100.0%  std: 0.0%\n",
      "FDR mean: 0.0%  std: 0.0%\n"
     ]
    },
    {
     "name": "stdout",
     "output_type": "stream",
     "text": [
      "[[0.87819864 0.89567345]\n",
      " [0.88696892 0.90181522]\n",
      " [0.8042     0.8236    ]]\n",
      "rec time now 2 dataset now: Syn2\n"
     ]
    },
    {
     "name": "stderr",
     "output_type": "stream",
     "text": [
      "TPR mean: 100.0%  std: 0.0%\n",
      "FDR mean: 0.0%  std: 0.0%\n"
     ]
    },
    {
     "name": "stdout",
     "output_type": "stream",
     "text": [
      "[[0.87819864 0.89567345]\n",
      " [0.88696892 0.90181522]\n",
      " [0.8042     0.8236    ]]\n",
      "rec time now 3 dataset now: Syn2\n"
     ]
    },
    {
     "name": "stderr",
     "output_type": "stream",
     "text": [
      "TPR mean: 100.0%  std: 0.0%\n",
      "FDR mean: 0.0%  std: 0.0%\n",
      "Epoch:      0, d_loss (Acc)): 0.438, v_loss (Acc): 0.431, g_loss: -0.0375\n"
     ]
    },
    {
     "name": "stdout",
     "output_type": "stream",
     "text": [
      "[[0.87819864 0.89567345]\n",
      " [0.88696892 0.90181522]\n",
      " [0.8042     0.8236    ]]\n",
      "now at training epoch number 600 hyp-params: lamda 0.1000 prior 0.0000\n",
      "rec time now 0 dataset now: Syn2\n"
     ]
    },
    {
     "name": "stderr",
     "output_type": "stream",
     "text": [
      "TPR mean: 100.0%  std: 0.0%\n",
      "FDR mean: 0.0%  std: 0.0%\n"
     ]
    },
    {
     "name": "stdout",
     "output_type": "stream",
     "text": [
      "[[0.88126573 0.89944944]\n",
      " [0.88958312 0.90530907]\n",
      " [0.8054     0.8266    ]]\n",
      "rec time now 1 dataset now: Syn2\n"
     ]
    },
    {
     "name": "stderr",
     "output_type": "stream",
     "text": [
      "TPR mean: 100.0%  std: 0.0%\n",
      "FDR mean: 0.0%  std: 0.0%\n"
     ]
    },
    {
     "name": "stdout",
     "output_type": "stream",
     "text": [
      "[[0.88126573 0.89944944]\n",
      " [0.88958312 0.90530907]\n",
      " [0.8054     0.8266    ]]\n",
      "rec time now 2 dataset now: Syn2\n"
     ]
    },
    {
     "name": "stderr",
     "output_type": "stream",
     "text": [
      "TPR mean: 100.0%  std: 0.0%\n",
      "FDR mean: 0.0%  std: 0.0%\n"
     ]
    },
    {
     "name": "stdout",
     "output_type": "stream",
     "text": [
      "[[0.88126573 0.89944944]\n",
      " [0.88958312 0.90530907]\n",
      " [0.8054     0.8266    ]]\n",
      "rec time now 3 dataset now: Syn2\n"
     ]
    },
    {
     "name": "stderr",
     "output_type": "stream",
     "text": [
      "TPR mean: 100.0%  std: 0.0%\n",
      "FDR mean: 0.0%  std: 0.0%\n",
      "Epoch:      0, d_loss (Acc)): 0.416, v_loss (Acc): 0.424, g_loss: +0.0371\n"
     ]
    },
    {
     "name": "stdout",
     "output_type": "stream",
     "text": [
      "[[0.88126573 0.89944944]\n",
      " [0.88958312 0.90530907]\n",
      " [0.8054     0.8266    ]]\n",
      "now at training epoch number 700 hyp-params: lamda 0.1000 prior 0.0000\n",
      "rec time now 0 dataset now: Syn2\n"
     ]
    },
    {
     "name": "stderr",
     "output_type": "stream",
     "text": [
      "TPR mean: 100.0%  std: 0.0%\n",
      "FDR mean: 0.0%  std: 0.0%\n"
     ]
    },
    {
     "name": "stdout",
     "output_type": "stream",
     "text": [
      "[[0.88317918 0.89977877]\n",
      " [0.89211386 0.9054136 ]\n",
      " [0.808      0.8267    ]]\n",
      "rec time now 1 dataset now: Syn2\n"
     ]
    },
    {
     "name": "stderr",
     "output_type": "stream",
     "text": [
      "TPR mean: 100.0%  std: 0.0%\n",
      "FDR mean: 0.0%  std: 0.0%\n"
     ]
    },
    {
     "name": "stdout",
     "output_type": "stream",
     "text": [
      "[[0.88317918 0.89977877]\n",
      " [0.89211386 0.9054136 ]\n",
      " [0.808      0.8267    ]]\n",
      "rec time now 2 dataset now: Syn2\n"
     ]
    },
    {
     "name": "stderr",
     "output_type": "stream",
     "text": [
      "TPR mean: 100.0%  std: 0.0%\n",
      "FDR mean: 0.0%  std: 0.0%\n"
     ]
    },
    {
     "name": "stdout",
     "output_type": "stream",
     "text": [
      "[[0.88317918 0.89977877]\n",
      " [0.89211386 0.9054136 ]\n",
      " [0.808      0.8267    ]]\n",
      "rec time now 3 dataset now: Syn2\n"
     ]
    },
    {
     "name": "stderr",
     "output_type": "stream",
     "text": [
      "TPR mean: 100.0%  std: 0.0%\n",
      "FDR mean: 0.0%  std: 0.0%\n",
      "Epoch:      0, d_loss (Acc)): 0.395, v_loss (Acc): 0.394, g_loss: -0.0208\n"
     ]
    },
    {
     "name": "stdout",
     "output_type": "stream",
     "text": [
      "[[0.88317918 0.89977877]\n",
      " [0.89211386 0.9054136 ]\n",
      " [0.808      0.8267    ]]\n",
      "now at training epoch number 800 hyp-params: lamda 0.1000 prior 0.0000\n",
      "rec time now 0 dataset now: Syn2\n"
     ]
    },
    {
     "name": "stderr",
     "output_type": "stream",
     "text": [
      "TPR mean: 100.0%  std: 0.0%\n",
      "FDR mean: 0.0%  std: 0.0%\n"
     ]
    },
    {
     "name": "stdout",
     "output_type": "stream",
     "text": [
      "[[0.88049911 0.89740826]\n",
      " [0.88798841 0.90420691]\n",
      " [0.8067     0.8273    ]]\n",
      "rec time now 1 dataset now: Syn2\n"
     ]
    },
    {
     "name": "stderr",
     "output_type": "stream",
     "text": [
      "TPR mean: 100.0%  std: 0.0%\n",
      "FDR mean: 0.0%  std: 0.0%\n"
     ]
    },
    {
     "name": "stdout",
     "output_type": "stream",
     "text": [
      "[[0.88049911 0.89740826]\n",
      " [0.88798841 0.90420691]\n",
      " [0.8067     0.8273    ]]\n",
      "rec time now 2 dataset now: Syn2\n"
     ]
    },
    {
     "name": "stderr",
     "output_type": "stream",
     "text": [
      "TPR mean: 100.0%  std: 0.0%\n",
      "FDR mean: 0.0%  std: 0.0%\n"
     ]
    },
    {
     "name": "stdout",
     "output_type": "stream",
     "text": [
      "[[0.88049911 0.89740826]\n",
      " [0.88798841 0.90420691]\n",
      " [0.8067     0.8273    ]]\n",
      "rec time now 3 dataset now: Syn2\n"
     ]
    },
    {
     "name": "stderr",
     "output_type": "stream",
     "text": [
      "TPR mean: 100.0%  std: 0.0%\n",
      "FDR mean: 0.0%  std: 0.0%\n",
      "Epoch:      0, d_loss (Acc)): 0.418, v_loss (Acc): 0.408, g_loss: +0.0203\n"
     ]
    },
    {
     "name": "stdout",
     "output_type": "stream",
     "text": [
      "[[0.88049911 0.89740826]\n",
      " [0.88798841 0.90420691]\n",
      " [0.8067     0.8273    ]]\n",
      "now at training epoch number 900 hyp-params: lamda 0.1000 prior 0.0000\n",
      "rec time now 0 dataset now: Syn2\n"
     ]
    },
    {
     "name": "stderr",
     "output_type": "stream",
     "text": [
      "TPR mean: 100.0%  std: 0.0%\n",
      "FDR mean: 0.0%  std: 0.0%\n"
     ]
    },
    {
     "name": "stdout",
     "output_type": "stream",
     "text": [
      "[[0.88454837 0.89614726]\n",
      " [0.89390869 0.9031594 ]\n",
      " [0.8103     0.8233    ]]\n",
      "rec time now 1 dataset now: Syn2\n"
     ]
    },
    {
     "name": "stderr",
     "output_type": "stream",
     "text": [
      "TPR mean: 100.0%  std: 0.0%\n",
      "FDR mean: 0.0%  std: 0.0%\n"
     ]
    },
    {
     "name": "stdout",
     "output_type": "stream",
     "text": [
      "[[0.88454837 0.89614726]\n",
      " [0.89390869 0.9031594 ]\n",
      " [0.8103     0.8233    ]]\n",
      "rec time now 2 dataset now: Syn2\n"
     ]
    },
    {
     "name": "stderr",
     "output_type": "stream",
     "text": [
      "TPR mean: 100.0%  std: 0.0%\n",
      "FDR mean: 0.0%  std: 0.0%\n"
     ]
    },
    {
     "name": "stdout",
     "output_type": "stream",
     "text": [
      "[[0.88454837 0.89614726]\n",
      " [0.89390869 0.9031594 ]\n",
      " [0.8103     0.8233    ]]\n",
      "rec time now 3 dataset now: Syn2\n"
     ]
    },
    {
     "name": "stderr",
     "output_type": "stream",
     "text": [
      "TPR mean: 100.0%  std: 0.0%\n",
      "FDR mean: 0.0%  std: 0.0%\n",
      "Epoch:      0, d_loss (Acc)): 0.440, v_loss (Acc): 0.407, g_loss: -0.0511\n"
     ]
    },
    {
     "name": "stdout",
     "output_type": "stream",
     "text": [
      "[[0.88454837 0.89614726]\n",
      " [0.89390869 0.9031594 ]\n",
      " [0.8103     0.8233    ]]\n",
      "now at training epoch number 1000 hyp-params: lamda 0.1000 prior 0.0000\n",
      "rec time now 0 dataset now: Syn2\n"
     ]
    },
    {
     "name": "stderr",
     "output_type": "stream",
     "text": [
      "TPR mean: 100.0%  std: 0.0%\n",
      "FDR mean: 0.0%  std: 0.0%\n"
     ]
    },
    {
     "name": "stdout",
     "output_type": "stream",
     "text": [
      "[[0.88517296 0.89826192]\n",
      " [0.89262916 0.90457956]\n",
      " [0.8106     0.8259    ]]\n",
      "rec time now 1 dataset now: Syn2\n"
     ]
    },
    {
     "name": "stderr",
     "output_type": "stream",
     "text": [
      "TPR mean: 100.0%  std: 0.0%\n",
      "FDR mean: 0.0%  std: 0.0%\n"
     ]
    },
    {
     "name": "stdout",
     "output_type": "stream",
     "text": [
      "[[0.88517296 0.89826192]\n",
      " [0.89262916 0.90457956]\n",
      " [0.8106     0.8259    ]]\n",
      "rec time now 2 dataset now: Syn2\n"
     ]
    },
    {
     "name": "stderr",
     "output_type": "stream",
     "text": [
      "TPR mean: 100.0%  std: 0.0%\n",
      "FDR mean: 0.0%  std: 0.0%\n"
     ]
    },
    {
     "name": "stdout",
     "output_type": "stream",
     "text": [
      "[[0.88517296 0.89826192]\n",
      " [0.89262916 0.90457956]\n",
      " [0.8106     0.8259    ]]\n",
      "rec time now 3 dataset now: Syn2\n"
     ]
    },
    {
     "name": "stderr",
     "output_type": "stream",
     "text": [
      "TPR mean: 100.0%  std: 0.0%\n",
      "FDR mean: 0.0%  std: 0.0%\n",
      "Epoch:      0, d_loss (Acc)): 0.418, v_loss (Acc): 0.409, g_loss: +0.0078\n"
     ]
    },
    {
     "name": "stdout",
     "output_type": "stream",
     "text": [
      "[[0.88517296 0.89826192]\n",
      " [0.89262916 0.90457956]\n",
      " [0.8106     0.8259    ]]\n",
      "now at training epoch number 1100 hyp-params: lamda 0.1000 prior 0.0000\n",
      "rec time now 0 dataset now: Syn2\n"
     ]
    },
    {
     "name": "stderr",
     "output_type": "stream",
     "text": [
      "TPR mean: 100.0%  std: 0.0%\n",
      "FDR mean: 0.0%  std: 0.0%\n"
     ]
    },
    {
     "name": "stdout",
     "output_type": "stream",
     "text": [
      "[[0.88550865 0.89717858]\n",
      " [0.8927541  0.90339432]\n",
      " [0.811      0.8226    ]]\n",
      "rec time now 1 dataset now: Syn2\n"
     ]
    },
    {
     "name": "stderr",
     "output_type": "stream",
     "text": [
      "TPR mean: 100.0%  std: 0.0%\n",
      "FDR mean: 0.0%  std: 0.0%\n"
     ]
    },
    {
     "name": "stdout",
     "output_type": "stream",
     "text": [
      "[[0.88550865 0.89717858]\n",
      " [0.8927541  0.90339432]\n",
      " [0.811      0.8226    ]]\n",
      "rec time now 2 dataset now: Syn2\n"
     ]
    },
    {
     "name": "stderr",
     "output_type": "stream",
     "text": [
      "TPR mean: 100.0%  std: 0.0%\n",
      "FDR mean: 0.0%  std: 0.0%\n"
     ]
    },
    {
     "name": "stdout",
     "output_type": "stream",
     "text": [
      "[[0.88550865 0.89717858]\n",
      " [0.8927541  0.90339432]\n",
      " [0.811      0.8226    ]]\n",
      "rec time now 3 dataset now: Syn2\n"
     ]
    },
    {
     "name": "stderr",
     "output_type": "stream",
     "text": [
      "TPR mean: 100.0%  std: 0.0%\n",
      "FDR mean: 0.0%  std: 0.0%\n",
      "Epoch:      0, d_loss (Acc)): 0.399, v_loss (Acc): 0.381, g_loss: +0.0178\n"
     ]
    },
    {
     "name": "stdout",
     "output_type": "stream",
     "text": [
      "[[0.88550865 0.89717858]\n",
      " [0.8927541  0.90339432]\n",
      " [0.811      0.8226    ]]\n",
      "now at training epoch number 1200 hyp-params: lamda 0.1000 prior 0.0000\n",
      "rec time now 0 dataset now: Syn2\n"
     ]
    },
    {
     "name": "stderr",
     "output_type": "stream",
     "text": [
      "TPR mean: 100.0%  std: 0.0%\n",
      "FDR mean: 0.0%  std: 0.0%\n"
     ]
    },
    {
     "name": "stdout",
     "output_type": "stream",
     "text": [
      "[[0.88743933 0.89962236]\n",
      " [0.89448114 0.90568084]\n",
      " [0.8117     0.8272    ]]\n",
      "rec time now 1 dataset now: Syn2\n"
     ]
    },
    {
     "name": "stderr",
     "output_type": "stream",
     "text": [
      "TPR mean: 100.0%  std: 0.0%\n",
      "FDR mean: 0.0%  std: 0.0%\n"
     ]
    },
    {
     "name": "stdout",
     "output_type": "stream",
     "text": [
      "[[0.88743933 0.89962236]\n",
      " [0.89448114 0.90568084]\n",
      " [0.8117     0.8272    ]]\n",
      "rec time now 2 dataset now: Syn2\n"
     ]
    },
    {
     "name": "stderr",
     "output_type": "stream",
     "text": [
      "TPR mean: 100.0%  std: 0.0%\n",
      "FDR mean: 0.0%  std: 0.0%\n"
     ]
    },
    {
     "name": "stdout",
     "output_type": "stream",
     "text": [
      "[[0.88743933 0.89962236]\n",
      " [0.89448114 0.90568084]\n",
      " [0.8117     0.8272    ]]\n",
      "rec time now 3 dataset now: Syn2\n"
     ]
    },
    {
     "name": "stderr",
     "output_type": "stream",
     "text": [
      "TPR mean: 100.0%  std: 0.0%\n",
      "FDR mean: 0.0%  std: 0.0%\n",
      "Epoch:      0, d_loss (Acc)): 0.419, v_loss (Acc): 0.389, g_loss: +0.0020\n"
     ]
    },
    {
     "name": "stdout",
     "output_type": "stream",
     "text": [
      "[[0.88743933 0.89962236]\n",
      " [0.89448114 0.90568084]\n",
      " [0.8117     0.8272    ]]\n",
      "now at training epoch number 1300 hyp-params: lamda 0.1000 prior 0.0000\n",
      "rec time now 0 dataset now: Syn2\n"
     ]
    },
    {
     "name": "stderr",
     "output_type": "stream",
     "text": [
      "TPR mean: 100.0%  std: 0.0%\n",
      "FDR mean: 0.0%  std: 0.0%\n"
     ]
    },
    {
     "name": "stdout",
     "output_type": "stream",
     "text": [
      "[[0.88705796 0.89947697]\n",
      " [0.89496751 0.90618105]\n",
      " [0.8099     0.827     ]]\n",
      "rec time now 1 dataset now: Syn2\n"
     ]
    },
    {
     "name": "stderr",
     "output_type": "stream",
     "text": [
      "TPR mean: 100.0%  std: 0.0%\n",
      "FDR mean: 0.0%  std: 0.0%\n"
     ]
    },
    {
     "name": "stdout",
     "output_type": "stream",
     "text": [
      "[[0.88705796 0.89947697]\n",
      " [0.89496751 0.90618105]\n",
      " [0.8099     0.827     ]]\n",
      "rec time now 2 dataset now: Syn2\n"
     ]
    },
    {
     "name": "stderr",
     "output_type": "stream",
     "text": [
      "TPR mean: 100.0%  std: 0.0%\n",
      "FDR mean: 0.0%  std: 0.0%\n"
     ]
    },
    {
     "name": "stdout",
     "output_type": "stream",
     "text": [
      "[[0.88705796 0.89947697]\n",
      " [0.89496751 0.90618105]\n",
      " [0.8099     0.827     ]]\n",
      "rec time now 3 dataset now: Syn2\n"
     ]
    },
    {
     "name": "stderr",
     "output_type": "stream",
     "text": [
      "TPR mean: 100.0%  std: 0.0%\n",
      "FDR mean: 0.0%  std: 0.0%\n",
      "Epoch:      0, d_loss (Acc)): 0.395, v_loss (Acc): 0.378, g_loss: +0.0168\n"
     ]
    },
    {
     "name": "stdout",
     "output_type": "stream",
     "text": [
      "[[0.88705796 0.89947697]\n",
      " [0.89496751 0.90618105]\n",
      " [0.8099     0.827     ]]\n",
      "now at training epoch number 1400 hyp-params: lamda 0.1000 prior 0.0000\n",
      "rec time now 0 dataset now: Syn2\n"
     ]
    },
    {
     "name": "stderr",
     "output_type": "stream",
     "text": [
      "TPR mean: 100.0%  std: 0.0%\n",
      "FDR mean: 0.0%  std: 0.0%\n"
     ]
    },
    {
     "name": "stdout",
     "output_type": "stream",
     "text": [
      "[[0.88620088 0.89892387]\n",
      " [0.89325256 0.9062102 ]\n",
      " [0.8118     0.8263    ]]\n",
      "rec time now 1 dataset now: Syn2\n"
     ]
    },
    {
     "name": "stderr",
     "output_type": "stream",
     "text": [
      "TPR mean: 100.0%  std: 0.0%\n",
      "FDR mean: 0.0%  std: 0.0%\n"
     ]
    },
    {
     "name": "stdout",
     "output_type": "stream",
     "text": [
      "[[0.88620088 0.89892387]\n",
      " [0.89325256 0.9062102 ]\n",
      " [0.8118     0.8263    ]]\n",
      "rec time now 2 dataset now: Syn2\n"
     ]
    },
    {
     "name": "stderr",
     "output_type": "stream",
     "text": [
      "TPR mean: 100.0%  std: 0.0%\n",
      "FDR mean: 0.0%  std: 0.0%\n"
     ]
    },
    {
     "name": "stdout",
     "output_type": "stream",
     "text": [
      "[[0.88620088 0.89892387]\n",
      " [0.89325256 0.9062102 ]\n",
      " [0.8118     0.8263    ]]\n",
      "rec time now 3 dataset now: Syn2\n"
     ]
    },
    {
     "name": "stderr",
     "output_type": "stream",
     "text": [
      "TPR mean: 100.0%  std: 0.0%\n",
      "FDR mean: 0.0%  std: 0.0%\n",
      "Epoch:      0, d_loss (Acc)): 0.393, v_loss (Acc): 0.370, g_loss: +0.0107\n"
     ]
    },
    {
     "name": "stdout",
     "output_type": "stream",
     "text": [
      "[[0.88620088 0.89892387]\n",
      " [0.89325256 0.9062102 ]\n",
      " [0.8118     0.8263    ]]\n",
      "now at training epoch number 1500 hyp-params: lamda 0.1000 prior 0.0000\n",
      "rec time now 0 dataset now: Syn2\n"
     ]
    },
    {
     "name": "stderr",
     "output_type": "stream",
     "text": [
      "TPR mean: 100.0%  std: 0.0%\n",
      "FDR mean: 0.0%  std: 0.0%\n"
     ]
    },
    {
     "name": "stdout",
     "output_type": "stream",
     "text": [
      "[[0.88754173 0.8998687 ]\n",
      " [0.89500741 0.90638775]\n",
      " [0.8126     0.8285    ]]\n",
      "rec time now 1 dataset now: Syn2\n"
     ]
    },
    {
     "name": "stderr",
     "output_type": "stream",
     "text": [
      "TPR mean: 100.0%  std: 0.0%\n",
      "FDR mean: 0.0%  std: 0.0%\n"
     ]
    },
    {
     "name": "stdout",
     "output_type": "stream",
     "text": [
      "[[0.88754173 0.8998687 ]\n",
      " [0.89500741 0.90638775]\n",
      " [0.8126     0.8285    ]]\n",
      "rec time now 2 dataset now: Syn2\n"
     ]
    },
    {
     "name": "stderr",
     "output_type": "stream",
     "text": [
      "TPR mean: 100.0%  std: 0.0%\n",
      "FDR mean: 0.0%  std: 0.0%\n"
     ]
    },
    {
     "name": "stdout",
     "output_type": "stream",
     "text": [
      "[[0.88754173 0.8998687 ]\n",
      " [0.89500741 0.90638775]\n",
      " [0.8126     0.8285    ]]\n",
      "rec time now 3 dataset now: Syn2\n"
     ]
    },
    {
     "name": "stderr",
     "output_type": "stream",
     "text": [
      "TPR mean: 100.0%  std: 0.0%\n",
      "FDR mean: 0.0%  std: 0.0%\n",
      "Epoch:      0, d_loss (Acc)): 0.400, v_loss (Acc): 0.380, g_loss: +0.0224\n"
     ]
    },
    {
     "name": "stdout",
     "output_type": "stream",
     "text": [
      "[[0.88754173 0.8998687 ]\n",
      " [0.89500741 0.90638775]\n",
      " [0.8126     0.8285    ]]\n",
      "now at training epoch number 1600 hyp-params: lamda 0.1000 prior 0.0000\n",
      "rec time now 0 dataset now: Syn2\n"
     ]
    },
    {
     "name": "stderr",
     "output_type": "stream",
     "text": [
      "TPR mean: 100.0%  std: 0.0%\n",
      "FDR mean: 0.0%  std: 0.0%\n"
     ]
    },
    {
     "name": "stdout",
     "output_type": "stream",
     "text": [
      "[[0.88720511 0.89950314]\n",
      " [0.8945662  0.90645375]\n",
      " [0.8128     0.8277    ]]\n",
      "rec time now 1 dataset now: Syn2\n"
     ]
    },
    {
     "name": "stderr",
     "output_type": "stream",
     "text": [
      "TPR mean: 100.0%  std: 0.0%\n",
      "FDR mean: 0.0%  std: 0.0%\n"
     ]
    },
    {
     "name": "stdout",
     "output_type": "stream",
     "text": [
      "[[0.88720511 0.89950314]\n",
      " [0.8945662  0.90645375]\n",
      " [0.8128     0.8277    ]]\n",
      "rec time now 2 dataset now: Syn2\n"
     ]
    },
    {
     "name": "stderr",
     "output_type": "stream",
     "text": [
      "TPR mean: 100.0%  std: 0.0%\n",
      "FDR mean: 0.0%  std: 0.0%\n"
     ]
    },
    {
     "name": "stdout",
     "output_type": "stream",
     "text": [
      "[[0.88720511 0.89950314]\n",
      " [0.8945662  0.90645375]\n",
      " [0.8128     0.8277    ]]\n",
      "rec time now 3 dataset now: Syn2\n"
     ]
    },
    {
     "name": "stderr",
     "output_type": "stream",
     "text": [
      "TPR mean: 100.0%  std: 0.0%\n",
      "FDR mean: 0.0%  std: 0.0%\n",
      "Epoch:      0, d_loss (Acc)): 0.385, v_loss (Acc): 0.371, g_loss: +0.0109\n"
     ]
    },
    {
     "name": "stdout",
     "output_type": "stream",
     "text": [
      "[[0.88720511 0.89950314]\n",
      " [0.8945662  0.90645375]\n",
      " [0.8128     0.8277    ]]\n",
      "now at training epoch number 1700 hyp-params: lamda 0.1000 prior 0.0000\n",
      "rec time now 0 dataset now: Syn2\n"
     ]
    },
    {
     "name": "stderr",
     "output_type": "stream",
     "text": [
      "TPR mean: 100.0%  std: 0.0%\n",
      "FDR mean: 0.0%  std: 0.0%\n"
     ]
    },
    {
     "name": "stdout",
     "output_type": "stream",
     "text": [
      "[[0.88726969 0.89869639]\n",
      " [0.89535123 0.90453678]\n",
      " [0.8119     0.8248    ]]\n",
      "rec time now 1 dataset now: Syn2\n"
     ]
    },
    {
     "name": "stderr",
     "output_type": "stream",
     "text": [
      "TPR mean: 100.0%  std: 0.0%\n",
      "FDR mean: 0.0%  std: 0.0%\n"
     ]
    },
    {
     "name": "stdout",
     "output_type": "stream",
     "text": [
      "[[0.88726969 0.89869639]\n",
      " [0.89535123 0.90453678]\n",
      " [0.8119     0.8248    ]]\n",
      "rec time now 2 dataset now: Syn2\n"
     ]
    },
    {
     "name": "stderr",
     "output_type": "stream",
     "text": [
      "TPR mean: 100.0%  std: 0.0%\n",
      "FDR mean: 0.0%  std: 0.0%\n"
     ]
    },
    {
     "name": "stdout",
     "output_type": "stream",
     "text": [
      "[[0.88726969 0.89869639]\n",
      " [0.89535123 0.90453678]\n",
      " [0.8119     0.8248    ]]\n",
      "rec time now 3 dataset now: Syn2\n"
     ]
    },
    {
     "name": "stderr",
     "output_type": "stream",
     "text": [
      "TPR mean: 100.0%  std: 0.0%\n",
      "FDR mean: 0.0%  std: 0.0%\n",
      "Epoch:      0, d_loss (Acc)): 0.408, v_loss (Acc): 0.374, g_loss: +0.0175\n"
     ]
    },
    {
     "name": "stdout",
     "output_type": "stream",
     "text": [
      "[[0.88726969 0.89869639]\n",
      " [0.89535123 0.90453678]\n",
      " [0.8119     0.8248    ]]\n",
      "now at training epoch number 1800 hyp-params: lamda 0.1000 prior 0.0000\n",
      "rec time now 0 dataset now: Syn2\n"
     ]
    },
    {
     "name": "stderr",
     "output_type": "stream",
     "text": [
      "TPR mean: 100.0%  std: 0.0%\n",
      "FDR mean: 0.0%  std: 0.0%\n"
     ]
    },
    {
     "name": "stdout",
     "output_type": "stream",
     "text": [
      "[[0.88541153 0.89893918]\n",
      " [0.89227088 0.90607955]\n",
      " [0.8125     0.8291    ]]\n",
      "rec time now 1 dataset now: Syn2\n"
     ]
    },
    {
     "name": "stderr",
     "output_type": "stream",
     "text": [
      "TPR mean: 100.0%  std: 0.0%\n",
      "FDR mean: 0.0%  std: 0.0%\n"
     ]
    },
    {
     "name": "stdout",
     "output_type": "stream",
     "text": [
      "[[0.88541153 0.89893918]\n",
      " [0.89227088 0.90607955]\n",
      " [0.8125     0.8291    ]]\n",
      "rec time now 2 dataset now: Syn2\n"
     ]
    },
    {
     "name": "stderr",
     "output_type": "stream",
     "text": [
      "TPR mean: 100.0%  std: 0.0%\n",
      "FDR mean: 0.0%  std: 0.0%\n"
     ]
    },
    {
     "name": "stdout",
     "output_type": "stream",
     "text": [
      "[[0.88541153 0.89893918]\n",
      " [0.89227088 0.90607955]\n",
      " [0.8125     0.8291    ]]\n",
      "rec time now 3 dataset now: Syn2\n"
     ]
    },
    {
     "name": "stderr",
     "output_type": "stream",
     "text": [
      "TPR mean: 100.0%  std: 0.0%\n",
      "FDR mean: 0.0%  std: 0.0%\n",
      "Epoch:      0, d_loss (Acc)): 0.410, v_loss (Acc): 0.396, g_loss: +0.0231\n"
     ]
    },
    {
     "name": "stdout",
     "output_type": "stream",
     "text": [
      "[[0.88541153 0.89893918]\n",
      " [0.89227088 0.90607955]\n",
      " [0.8125     0.8291    ]]\n",
      "now at training epoch number 1900 hyp-params: lamda 0.1000 prior 0.0000\n",
      "rec time now 0 dataset now: Syn2\n"
     ]
    },
    {
     "name": "stderr",
     "output_type": "stream",
     "text": [
      "TPR mean: 100.0%  std: 0.0%\n",
      "FDR mean: 0.0%  std: 0.0%\n"
     ]
    },
    {
     "name": "stdout",
     "output_type": "stream",
     "text": [
      "[[0.88648271 0.89788854]\n",
      " [0.89425967 0.90410545]\n",
      " [0.8105     0.8277    ]]\n",
      "rec time now 1 dataset now: Syn2\n"
     ]
    },
    {
     "name": "stderr",
     "output_type": "stream",
     "text": [
      "TPR mean: 100.0%  std: 0.0%\n",
      "FDR mean: 0.0%  std: 0.0%\n"
     ]
    },
    {
     "name": "stdout",
     "output_type": "stream",
     "text": [
      "[[0.88648271 0.89788854]\n",
      " [0.89425967 0.90410545]\n",
      " [0.8105     0.8277    ]]\n",
      "rec time now 2 dataset now: Syn2\n"
     ]
    },
    {
     "name": "stderr",
     "output_type": "stream",
     "text": [
      "TPR mean: 100.0%  std: 0.0%\n",
      "FDR mean: 0.0%  std: 0.0%\n"
     ]
    },
    {
     "name": "stdout",
     "output_type": "stream",
     "text": [
      "[[0.88648271 0.89788854]\n",
      " [0.89425967 0.90410545]\n",
      " [0.8105     0.8277    ]]\n",
      "rec time now 3 dataset now: Syn2\n"
     ]
    },
    {
     "name": "stderr",
     "output_type": "stream",
     "text": [
      "TPR mean: 100.0%  std: 0.0%\n",
      "FDR mean: 0.0%  std: 0.0%\n",
      "Epoch:      0, d_loss (Acc)): 0.412, v_loss (Acc): 0.375, g_loss: +0.0166\n"
     ]
    },
    {
     "name": "stdout",
     "output_type": "stream",
     "text": [
      "[[0.88648271 0.89788854]\n",
      " [0.89425967 0.90410545]\n",
      " [0.8105     0.8277    ]]\n",
      "now at training epoch number 2000 hyp-params: lamda 0.1000 prior 0.0000\n",
      "rec time now 0 dataset now: Syn2\n"
     ]
    },
    {
     "name": "stderr",
     "output_type": "stream",
     "text": [
      "TPR mean: 100.0%  std: 0.0%\n",
      "FDR mean: 0.0%  std: 0.0%\n"
     ]
    },
    {
     "name": "stdout",
     "output_type": "stream",
     "text": [
      "[[0.88580574 0.89801302]\n",
      " [0.89411915 0.90559238]\n",
      " [0.815      0.8274    ]]\n",
      "rec time now 1 dataset now: Syn2\n"
     ]
    },
    {
     "name": "stderr",
     "output_type": "stream",
     "text": [
      "TPR mean: 100.0%  std: 0.0%\n",
      "FDR mean: 0.0%  std: 0.0%\n"
     ]
    },
    {
     "name": "stdout",
     "output_type": "stream",
     "text": [
      "[[0.88580574 0.89801302]\n",
      " [0.89411915 0.90559238]\n",
      " [0.815      0.8274    ]]\n",
      "rec time now 2 dataset now: Syn2\n"
     ]
    },
    {
     "name": "stderr",
     "output_type": "stream",
     "text": [
      "TPR mean: 100.0%  std: 0.0%\n",
      "FDR mean: 0.0%  std: 0.0%\n"
     ]
    },
    {
     "name": "stdout",
     "output_type": "stream",
     "text": [
      "[[0.88580574 0.89801302]\n",
      " [0.89411915 0.90559238]\n",
      " [0.815      0.8274    ]]\n",
      "rec time now 3 dataset now: Syn2\n"
     ]
    },
    {
     "name": "stderr",
     "output_type": "stream",
     "text": [
      "TPR mean: 100.0%  std: 0.0%\n",
      "FDR mean: 0.0%  std: 0.0%\n",
      "Epoch:      0, d_loss (Acc)): 0.412, v_loss (Acc): 0.385, g_loss: +0.0335\n"
     ]
    },
    {
     "name": "stdout",
     "output_type": "stream",
     "text": [
      "[[0.88580574 0.89801302]\n",
      " [0.89411915 0.90559238]\n",
      " [0.815      0.8274    ]]\n",
      "now at training epoch number 2100 hyp-params: lamda 0.1000 prior 0.0000\n",
      "rec time now 0 dataset now: Syn2\n"
     ]
    },
    {
     "name": "stderr",
     "output_type": "stream",
     "text": [
      "TPR mean: 100.0%  std: 0.0%\n",
      "FDR mean: 0.0%  std: 0.0%\n"
     ]
    },
    {
     "name": "stdout",
     "output_type": "stream",
     "text": [
      "[[0.88596583 0.89828888]\n",
      " [0.89396556 0.90599803]\n",
      " [0.8132     0.8274    ]]\n",
      "rec time now 1 dataset now: Syn2\n"
     ]
    },
    {
     "name": "stderr",
     "output_type": "stream",
     "text": [
      "TPR mean: 100.0%  std: 0.0%\n",
      "FDR mean: 0.0%  std: 0.0%\n"
     ]
    },
    {
     "name": "stdout",
     "output_type": "stream",
     "text": [
      "[[0.88596583 0.89828888]\n",
      " [0.89396556 0.90599803]\n",
      " [0.8132     0.8274    ]]\n",
      "rec time now 2 dataset now: Syn2\n"
     ]
    },
    {
     "name": "stderr",
     "output_type": "stream",
     "text": [
      "TPR mean: 100.0%  std: 0.0%\n",
      "FDR mean: 0.0%  std: 0.0%\n"
     ]
    },
    {
     "name": "stdout",
     "output_type": "stream",
     "text": [
      "[[0.88596583 0.89828888]\n",
      " [0.89396556 0.90599803]\n",
      " [0.8132     0.8274    ]]\n",
      "rec time now 3 dataset now: Syn2\n"
     ]
    },
    {
     "name": "stderr",
     "output_type": "stream",
     "text": [
      "TPR mean: 100.0%  std: 0.0%\n",
      "FDR mean: 0.0%  std: 0.0%\n",
      "Epoch:      0, d_loss (Acc)): 0.379, v_loss (Acc): 0.352, g_loss: +0.0162\n"
     ]
    },
    {
     "name": "stdout",
     "output_type": "stream",
     "text": [
      "[[0.88596583 0.89828888]\n",
      " [0.89396556 0.90599803]\n",
      " [0.8132     0.8274    ]]\n",
      "now at training epoch number 2200 hyp-params: lamda 0.1000 prior 0.0000\n",
      "rec time now 0 dataset now: Syn2\n"
     ]
    },
    {
     "name": "stderr",
     "output_type": "stream",
     "text": [
      "TPR mean: 100.0%  std: 0.0%\n",
      "FDR mean: 0.0%  std: 0.0%\n"
     ]
    },
    {
     "name": "stdout",
     "output_type": "stream",
     "text": [
      "[[0.88557539 0.89676389]\n",
      " [0.89413628 0.90355888]\n",
      " [0.8135     0.825     ]]\n",
      "rec time now 1 dataset now: Syn2\n"
     ]
    },
    {
     "name": "stderr",
     "output_type": "stream",
     "text": [
      "TPR mean: 100.0%  std: 0.0%\n",
      "FDR mean: 0.0%  std: 0.0%\n"
     ]
    },
    {
     "name": "stdout",
     "output_type": "stream",
     "text": [
      "[[0.88557539 0.89676389]\n",
      " [0.89413628 0.90355888]\n",
      " [0.8135     0.825     ]]\n",
      "rec time now 2 dataset now: Syn2\n"
     ]
    },
    {
     "name": "stderr",
     "output_type": "stream",
     "text": [
      "TPR mean: 100.0%  std: 0.0%\n",
      "FDR mean: 0.0%  std: 0.0%\n"
     ]
    },
    {
     "name": "stdout",
     "output_type": "stream",
     "text": [
      "[[0.88557539 0.89676389]\n",
      " [0.89413628 0.90355888]\n",
      " [0.8135     0.825     ]]\n",
      "rec time now 3 dataset now: Syn2\n"
     ]
    },
    {
     "name": "stderr",
     "output_type": "stream",
     "text": [
      "TPR mean: 100.0%  std: 0.0%\n",
      "FDR mean: 0.0%  std: 0.0%\n",
      "Epoch:      0, d_loss (Acc)): 0.401, v_loss (Acc): 0.366, g_loss: +0.0330\n"
     ]
    },
    {
     "name": "stdout",
     "output_type": "stream",
     "text": [
      "[[0.88557539 0.89676389]\n",
      " [0.89413628 0.90355888]\n",
      " [0.8135     0.825     ]]\n",
      "now at training epoch number 2300 hyp-params: lamda 0.1000 prior 0.0000\n",
      "rec time now 0 dataset now: Syn2\n"
     ]
    },
    {
     "name": "stderr",
     "output_type": "stream",
     "text": [
      "TPR mean: 100.0%  std: 0.0%\n",
      "FDR mean: 0.0%  std: 0.0%\n"
     ]
    },
    {
     "name": "stdout",
     "output_type": "stream",
     "text": [
      "[[0.88691145 0.89872282]\n",
      " [0.89357352 0.90514538]\n",
      " [0.8131     0.827     ]]\n",
      "rec time now 1 dataset now: Syn2\n"
     ]
    },
    {
     "name": "stderr",
     "output_type": "stream",
     "text": [
      "TPR mean: 100.0%  std: 0.0%\n",
      "FDR mean: 0.0%  std: 0.0%\n"
     ]
    },
    {
     "name": "stdout",
     "output_type": "stream",
     "text": [
      "[[0.88691145 0.89872282]\n",
      " [0.89357352 0.90514538]\n",
      " [0.8131     0.827     ]]\n",
      "rec time now 2 dataset now: Syn2\n"
     ]
    },
    {
     "name": "stderr",
     "output_type": "stream",
     "text": [
      "TPR mean: 100.0%  std: 0.0%\n",
      "FDR mean: 0.0%  std: 0.0%\n"
     ]
    },
    {
     "name": "stdout",
     "output_type": "stream",
     "text": [
      "[[0.88691145 0.89872282]\n",
      " [0.89357352 0.90514538]\n",
      " [0.8131     0.827     ]]\n",
      "rec time now 3 dataset now: Syn2\n"
     ]
    },
    {
     "name": "stderr",
     "output_type": "stream",
     "text": [
      "TPR mean: 100.0%  std: 0.0%\n",
      "FDR mean: 0.0%  std: 0.0%\n",
      "Epoch:      0, d_loss (Acc)): 0.431, v_loss (Acc): 0.404, g_loss: +0.0301\n"
     ]
    },
    {
     "name": "stdout",
     "output_type": "stream",
     "text": [
      "[[0.88691145 0.89872282]\n",
      " [0.89357352 0.90514538]\n",
      " [0.8131     0.827     ]]\n",
      "now at training epoch number 2400 hyp-params: lamda 0.1000 prior 0.0000\n",
      "rec time now 0 dataset now: Syn2\n"
     ]
    },
    {
     "name": "stderr",
     "output_type": "stream",
     "text": [
      "TPR mean: 100.0%  std: 0.0%\n",
      "FDR mean: 0.0%  std: 0.0%\n"
     ]
    },
    {
     "name": "stdout",
     "output_type": "stream",
     "text": [
      "[[0.88591246 0.89732343]\n",
      " [0.89269087 0.90359116]\n",
      " [0.8099     0.824     ]]\n",
      "rec time now 1 dataset now: Syn2\n"
     ]
    },
    {
     "name": "stderr",
     "output_type": "stream",
     "text": [
      "TPR mean: 100.0%  std: 0.0%\n",
      "FDR mean: 0.0%  std: 0.0%\n"
     ]
    },
    {
     "name": "stdout",
     "output_type": "stream",
     "text": [
      "[[0.88591246 0.89732343]\n",
      " [0.89269087 0.90359116]\n",
      " [0.8099     0.824     ]]\n",
      "rec time now 2 dataset now: Syn2\n"
     ]
    },
    {
     "name": "stderr",
     "output_type": "stream",
     "text": [
      "TPR mean: 100.0%  std: 0.0%\n",
      "FDR mean: 0.0%  std: 0.0%\n"
     ]
    },
    {
     "name": "stdout",
     "output_type": "stream",
     "text": [
      "[[0.88591246 0.89732343]\n",
      " [0.89269087 0.90359116]\n",
      " [0.8099     0.824     ]]\n",
      "rec time now 3 dataset now: Syn2\n"
     ]
    },
    {
     "name": "stderr",
     "output_type": "stream",
     "text": [
      "TPR mean: 100.0%  std: 0.0%\n",
      "FDR mean: 0.0%  std: 0.0%\n",
      "Epoch:      0, d_loss (Acc)): 0.378, v_loss (Acc): 0.357, g_loss: +0.0335\n"
     ]
    },
    {
     "name": "stdout",
     "output_type": "stream",
     "text": [
      "[[0.88591246 0.89732343]\n",
      " [0.89269087 0.90359116]\n",
      " [0.8099     0.824     ]]\n",
      "now at training epoch number 2500 hyp-params: lamda 0.1000 prior 0.0000\n",
      "rec time now 0 dataset now: Syn2\n"
     ]
    },
    {
     "name": "stderr",
     "output_type": "stream",
     "text": [
      "TPR mean: 100.0%  std: 0.0%\n",
      "FDR mean: 0.0%  std: 0.0%\n"
     ]
    },
    {
     "name": "stdout",
     "output_type": "stream",
     "text": [
      "[[0.88687787 0.89933087]\n",
      " [0.89448403 0.90610263]\n",
      " [0.8124     0.8265    ]]\n",
      "rec time now 1 dataset now: Syn2\n"
     ]
    },
    {
     "name": "stderr",
     "output_type": "stream",
     "text": [
      "TPR mean: 100.0%  std: 0.0%\n",
      "FDR mean: 0.0%  std: 0.0%\n"
     ]
    },
    {
     "name": "stdout",
     "output_type": "stream",
     "text": [
      "[[0.88687787 0.89933087]\n",
      " [0.89448403 0.90610263]\n",
      " [0.8124     0.8265    ]]\n",
      "rec time now 2 dataset now: Syn2\n"
     ]
    },
    {
     "name": "stderr",
     "output_type": "stream",
     "text": [
      "TPR mean: 100.0%  std: 0.0%\n",
      "FDR mean: 0.0%  std: 0.0%\n"
     ]
    },
    {
     "name": "stdout",
     "output_type": "stream",
     "text": [
      "[[0.88687787 0.89933087]\n",
      " [0.89448403 0.90610263]\n",
      " [0.8124     0.8265    ]]\n",
      "rec time now 3 dataset now: Syn2\n"
     ]
    },
    {
     "name": "stderr",
     "output_type": "stream",
     "text": [
      "TPR mean: 100.0%  std: 0.0%\n",
      "FDR mean: 0.0%  std: 0.0%\n",
      "Epoch:      0, d_loss (Acc)): 0.373, v_loss (Acc): 0.351, g_loss: +0.0370\n"
     ]
    },
    {
     "name": "stdout",
     "output_type": "stream",
     "text": [
      "[[0.88687787 0.89933087]\n",
      " [0.89448403 0.90610263]\n",
      " [0.8124     0.8265    ]]\n",
      "now at training epoch number 2600 hyp-params: lamda 0.1000 prior 0.0000\n",
      "rec time now 0 dataset now: Syn2\n"
     ]
    },
    {
     "name": "stderr",
     "output_type": "stream",
     "text": [
      "TPR mean: 100.0%  std: 0.0%\n",
      "FDR mean: 0.0%  std: 0.0%\n"
     ]
    },
    {
     "name": "stdout",
     "output_type": "stream",
     "text": [
      "[[0.88629867 0.89997394]\n",
      " [0.89520551 0.90666673]\n",
      " [0.8117     0.8292    ]]\n",
      "rec time now 1 dataset now: Syn2\n"
     ]
    },
    {
     "name": "stderr",
     "output_type": "stream",
     "text": [
      "TPR mean: 100.0%  std: 0.0%\n",
      "FDR mean: 0.0%  std: 0.0%\n"
     ]
    },
    {
     "name": "stdout",
     "output_type": "stream",
     "text": [
      "[[0.88629867 0.89997394]\n",
      " [0.89520551 0.90666673]\n",
      " [0.8117     0.8292    ]]\n",
      "rec time now 2 dataset now: Syn2\n"
     ]
    },
    {
     "name": "stderr",
     "output_type": "stream",
     "text": [
      "TPR mean: 100.0%  std: 0.0%\n",
      "FDR mean: 0.0%  std: 0.0%\n"
     ]
    },
    {
     "name": "stdout",
     "output_type": "stream",
     "text": [
      "[[0.88629867 0.89997394]\n",
      " [0.89520551 0.90666673]\n",
      " [0.8117     0.8292    ]]\n",
      "rec time now 3 dataset now: Syn2\n"
     ]
    },
    {
     "name": "stderr",
     "output_type": "stream",
     "text": [
      "TPR mean: 100.0%  std: 0.0%\n",
      "FDR mean: 0.0%  std: 0.0%\n",
      "Epoch:      0, d_loss (Acc)): 0.377, v_loss (Acc): 0.337, g_loss: +0.0119\n"
     ]
    },
    {
     "name": "stdout",
     "output_type": "stream",
     "text": [
      "[[0.88629867 0.89997394]\n",
      " [0.89520551 0.90666673]\n",
      " [0.8117     0.8292    ]]\n",
      "now at training epoch number 2700 hyp-params: lamda 0.1000 prior 0.0000\n",
      "rec time now 0 dataset now: Syn2\n"
     ]
    },
    {
     "name": "stderr",
     "output_type": "stream",
     "text": [
      "TPR mean: 100.0%  std: 0.0%\n",
      "FDR mean: 0.0%  std: 0.0%\n"
     ]
    },
    {
     "name": "stdout",
     "output_type": "stream",
     "text": [
      "[[0.88743942 0.89972687]\n",
      " [0.89567068 0.90685564]\n",
      " [0.8134     0.8291    ]]\n",
      "rec time now 1 dataset now: Syn2\n"
     ]
    },
    {
     "name": "stderr",
     "output_type": "stream",
     "text": [
      "TPR mean: 100.0%  std: 0.0%\n",
      "FDR mean: 0.0%  std: 0.0%\n"
     ]
    },
    {
     "name": "stdout",
     "output_type": "stream",
     "text": [
      "[[0.88743942 0.89972687]\n",
      " [0.89567068 0.90685564]\n",
      " [0.8134     0.8291    ]]\n",
      "rec time now 2 dataset now: Syn2\n"
     ]
    },
    {
     "name": "stderr",
     "output_type": "stream",
     "text": [
      "TPR mean: 100.0%  std: 0.0%\n",
      "FDR mean: 0.0%  std: 0.0%\n"
     ]
    },
    {
     "name": "stdout",
     "output_type": "stream",
     "text": [
      "[[0.88743942 0.89972687]\n",
      " [0.89567068 0.90685564]\n",
      " [0.8134     0.8291    ]]\n",
      "rec time now 3 dataset now: Syn2\n"
     ]
    },
    {
     "name": "stderr",
     "output_type": "stream",
     "text": [
      "TPR mean: 100.0%  std: 0.0%\n",
      "FDR mean: 0.0%  std: 0.0%\n",
      "Epoch:      0, d_loss (Acc)): 0.389, v_loss (Acc): 0.347, g_loss: +0.0347\n"
     ]
    },
    {
     "name": "stdout",
     "output_type": "stream",
     "text": [
      "[[0.88743942 0.89972687]\n",
      " [0.89567068 0.90685564]\n",
      " [0.8134     0.8291    ]]\n",
      "now at training epoch number 2800 hyp-params: lamda 0.1000 prior 0.0000\n",
      "rec time now 0 dataset now: Syn2\n"
     ]
    },
    {
     "name": "stderr",
     "output_type": "stream",
     "text": [
      "TPR mean: 100.0%  std: 0.0%\n",
      "FDR mean: 0.0%  std: 0.0%\n"
     ]
    },
    {
     "name": "stdout",
     "output_type": "stream",
     "text": [
      "[[0.88644554 0.89953363]\n",
      " [0.89471544 0.90554777]\n",
      " [0.8105     0.8288    ]]\n",
      "rec time now 1 dataset now: Syn2\n"
     ]
    },
    {
     "name": "stderr",
     "output_type": "stream",
     "text": [
      "TPR mean: 100.0%  std: 0.0%\n",
      "FDR mean: 0.0%  std: 0.0%\n"
     ]
    },
    {
     "name": "stdout",
     "output_type": "stream",
     "text": [
      "[[0.88644554 0.89953363]\n",
      " [0.89471544 0.90554777]\n",
      " [0.8105     0.8288    ]]\n",
      "rec time now 2 dataset now: Syn2\n"
     ]
    },
    {
     "name": "stderr",
     "output_type": "stream",
     "text": [
      "TPR mean: 100.0%  std: 0.0%\n",
      "FDR mean: 0.0%  std: 0.0%\n"
     ]
    },
    {
     "name": "stdout",
     "output_type": "stream",
     "text": [
      "[[0.88644554 0.89953363]\n",
      " [0.89471544 0.90554777]\n",
      " [0.8105     0.8288    ]]\n",
      "rec time now 3 dataset now: Syn2\n"
     ]
    },
    {
     "name": "stderr",
     "output_type": "stream",
     "text": [
      "TPR mean: 100.0%  std: 0.0%\n",
      "FDR mean: 0.0%  std: 0.0%\n",
      "Epoch:      0, d_loss (Acc)): 0.434, v_loss (Acc): 0.385, g_loss: +0.0307\n"
     ]
    },
    {
     "name": "stdout",
     "output_type": "stream",
     "text": [
      "[[0.88644554 0.89953363]\n",
      " [0.89471544 0.90554777]\n",
      " [0.8105     0.8288    ]]\n",
      "now at training epoch number 2900 hyp-params: lamda 0.1000 prior 0.0000\n",
      "rec time now 0 dataset now: Syn2\n"
     ]
    },
    {
     "name": "stderr",
     "output_type": "stream",
     "text": [
      "TPR mean: 100.0%  std: 0.0%\n",
      "FDR mean: 0.0%  std: 0.0%\n"
     ]
    },
    {
     "name": "stdout",
     "output_type": "stream",
     "text": [
      "[[0.88588641 0.89758408]\n",
      " [0.89494011 0.90504124]\n",
      " [0.8105     0.8281    ]]\n",
      "rec time now 1 dataset now: Syn2\n"
     ]
    },
    {
     "name": "stderr",
     "output_type": "stream",
     "text": [
      "TPR mean: 100.0%  std: 0.0%\n",
      "FDR mean: 0.0%  std: 0.0%\n"
     ]
    },
    {
     "name": "stdout",
     "output_type": "stream",
     "text": [
      "[[0.88588641 0.89758408]\n",
      " [0.89494011 0.90504124]\n",
      " [0.8105     0.8281    ]]\n",
      "rec time now 2 dataset now: Syn2\n"
     ]
    },
    {
     "name": "stderr",
     "output_type": "stream",
     "text": [
      "TPR mean: 100.0%  std: 0.0%\n",
      "FDR mean: 0.0%  std: 0.0%\n"
     ]
    },
    {
     "name": "stdout",
     "output_type": "stream",
     "text": [
      "[[0.88588641 0.89758408]\n",
      " [0.89494011 0.90504124]\n",
      " [0.8105     0.8281    ]]\n",
      "rec time now 3 dataset now: Syn2\n"
     ]
    },
    {
     "name": "stderr",
     "output_type": "stream",
     "text": [
      "TPR mean: 100.0%  std: 0.0%\n",
      "FDR mean: 0.0%  std: 0.0%\n",
      "Epoch:      0, d_loss (Acc)): 0.376, v_loss (Acc): 0.337, g_loss: +0.0244\n"
     ]
    },
    {
     "name": "stdout",
     "output_type": "stream",
     "text": [
      "[[0.88588641 0.89758408]\n",
      " [0.89494011 0.90504124]\n",
      " [0.8105     0.8281    ]]\n",
      "now at training epoch number 3000 hyp-params: lamda 0.1000 prior 0.0000\n",
      "rec time now 0 dataset now: Syn2\n"
     ]
    },
    {
     "name": "stderr",
     "output_type": "stream",
     "text": [
      "TPR mean: 100.0%  std: 0.0%\n",
      "FDR mean: 0.0%  std: 0.0%\n"
     ]
    },
    {
     "name": "stdout",
     "output_type": "stream",
     "text": [
      "[[0.8852619  0.89743449]\n",
      " [0.89371116 0.90408794]\n",
      " [0.8087     0.8237    ]]\n",
      "rec time now 1 dataset now: Syn2\n"
     ]
    },
    {
     "name": "stderr",
     "output_type": "stream",
     "text": [
      "TPR mean: 100.0%  std: 0.0%\n",
      "FDR mean: 0.0%  std: 0.0%\n"
     ]
    },
    {
     "name": "stdout",
     "output_type": "stream",
     "text": [
      "[[0.8852619  0.89743449]\n",
      " [0.89371116 0.90408794]\n",
      " [0.8087     0.8237    ]]\n",
      "rec time now 2 dataset now: Syn2\n"
     ]
    },
    {
     "name": "stderr",
     "output_type": "stream",
     "text": [
      "TPR mean: 100.0%  std: 0.0%\n",
      "FDR mean: 0.0%  std: 0.0%\n"
     ]
    },
    {
     "name": "stdout",
     "output_type": "stream",
     "text": [
      "[[0.8852619  0.89743449]\n",
      " [0.89371116 0.90408794]\n",
      " [0.8087     0.8237    ]]\n",
      "rec time now 3 dataset now: Syn2\n"
     ]
    },
    {
     "name": "stderr",
     "output_type": "stream",
     "text": [
      "TPR mean: 100.0%  std: 0.0%\n",
      "FDR mean: 0.0%  std: 0.0%\n",
      "Epoch:      0, d_loss (Acc)): 0.396, v_loss (Acc): 0.350, g_loss: +0.0315\n"
     ]
    },
    {
     "name": "stdout",
     "output_type": "stream",
     "text": [
      "[[0.8852619  0.89743449]\n",
      " [0.89371116 0.90408794]\n",
      " [0.8087     0.8237    ]]\n",
      "now at training epoch number 3100 hyp-params: lamda 0.1000 prior 0.0000\n",
      "rec time now 0 dataset now: Syn2\n"
     ]
    },
    {
     "name": "stderr",
     "output_type": "stream",
     "text": [
      "TPR mean: 100.0%  std: 0.0%\n",
      "FDR mean: 0.0%  std: 0.0%\n"
     ]
    },
    {
     "name": "stdout",
     "output_type": "stream",
     "text": [
      "[[0.88628474 0.89854647]\n",
      " [0.89524323 0.90579621]\n",
      " [0.8118     0.8264    ]]\n",
      "rec time now 1 dataset now: Syn2\n"
     ]
    },
    {
     "name": "stderr",
     "output_type": "stream",
     "text": [
      "TPR mean: 100.0%  std: 0.0%\n",
      "FDR mean: 0.0%  std: 0.0%\n"
     ]
    },
    {
     "name": "stdout",
     "output_type": "stream",
     "text": [
      "[[0.88628474 0.89854647]\n",
      " [0.89524323 0.90579621]\n",
      " [0.8118     0.8264    ]]\n",
      "rec time now 2 dataset now: Syn2\n"
     ]
    },
    {
     "name": "stderr",
     "output_type": "stream",
     "text": [
      "TPR mean: 100.0%  std: 0.0%\n",
      "FDR mean: 0.0%  std: 0.0%\n"
     ]
    },
    {
     "name": "stdout",
     "output_type": "stream",
     "text": [
      "[[0.88628474 0.89854647]\n",
      " [0.89524323 0.90579621]\n",
      " [0.8118     0.8264    ]]\n",
      "rec time now 3 dataset now: Syn2\n"
     ]
    },
    {
     "name": "stderr",
     "output_type": "stream",
     "text": [
      "TPR mean: 100.0%  std: 0.0%\n",
      "FDR mean: 0.0%  std: 0.0%\n",
      "Epoch:      0, d_loss (Acc)): 0.386, v_loss (Acc): 0.330, g_loss: +0.0226\n"
     ]
    },
    {
     "name": "stdout",
     "output_type": "stream",
     "text": [
      "[[0.88628474 0.89854647]\n",
      " [0.89524323 0.90579621]\n",
      " [0.8118     0.8264    ]]\n",
      "now at training epoch number 3200 hyp-params: lamda 0.1000 prior 0.0000\n",
      "rec time now 0 dataset now: Syn2\n"
     ]
    },
    {
     "name": "stderr",
     "output_type": "stream",
     "text": [
      "TPR mean: 100.0%  std: 0.0%\n",
      "FDR mean: 0.0%  std: 0.0%\n"
     ]
    },
    {
     "name": "stdout",
     "output_type": "stream",
     "text": [
      "[[0.88683279 0.8986755 ]\n",
      " [0.89563552 0.90628526]\n",
      " [0.8128     0.829     ]]\n",
      "rec time now 1 dataset now: Syn2\n"
     ]
    },
    {
     "name": "stderr",
     "output_type": "stream",
     "text": [
      "TPR mean: 100.0%  std: 0.0%\n",
      "FDR mean: 0.0%  std: 0.0%\n"
     ]
    },
    {
     "name": "stdout",
     "output_type": "stream",
     "text": [
      "[[0.88683279 0.8986755 ]\n",
      " [0.89563552 0.90628526]\n",
      " [0.8128     0.829     ]]\n",
      "rec time now 2 dataset now: Syn2\n"
     ]
    },
    {
     "name": "stderr",
     "output_type": "stream",
     "text": [
      "TPR mean: 100.0%  std: 0.0%\n",
      "FDR mean: 0.0%  std: 0.0%\n"
     ]
    },
    {
     "name": "stdout",
     "output_type": "stream",
     "text": [
      "[[0.88683279 0.8986755 ]\n",
      " [0.89563552 0.90628526]\n",
      " [0.8128     0.829     ]]\n",
      "rec time now 3 dataset now: Syn2\n"
     ]
    },
    {
     "name": "stderr",
     "output_type": "stream",
     "text": [
      "TPR mean: 100.0%  std: 0.0%\n",
      "FDR mean: 0.0%  std: 0.0%\n",
      "Epoch:      0, d_loss (Acc)): 0.392, v_loss (Acc): 0.355, g_loss: +0.0395\n"
     ]
    },
    {
     "name": "stdout",
     "output_type": "stream",
     "text": [
      "[[0.88683279 0.8986755 ]\n",
      " [0.89563552 0.90628526]\n",
      " [0.8128     0.829     ]]\n",
      "now at training epoch number 3300 hyp-params: lamda 0.1000 prior 0.0000\n",
      "rec time now 0 dataset now: Syn2\n"
     ]
    },
    {
     "name": "stderr",
     "output_type": "stream",
     "text": [
      "TPR mean: 100.0%  std: 0.0%\n",
      "FDR mean: 0.0%  std: 0.0%\n"
     ]
    },
    {
     "name": "stdout",
     "output_type": "stream",
     "text": [
      "[[0.88662999 0.89944185]\n",
      " [0.89528395 0.90657064]\n",
      " [0.812      0.8268    ]]\n",
      "rec time now 1 dataset now: Syn2\n"
     ]
    },
    {
     "name": "stderr",
     "output_type": "stream",
     "text": [
      "TPR mean: 100.0%  std: 0.0%\n",
      "FDR mean: 0.0%  std: 0.0%\n"
     ]
    },
    {
     "name": "stdout",
     "output_type": "stream",
     "text": [
      "[[0.88662999 0.89944185]\n",
      " [0.89528395 0.90657064]\n",
      " [0.812      0.8268    ]]\n",
      "rec time now 2 dataset now: Syn2\n"
     ]
    },
    {
     "name": "stderr",
     "output_type": "stream",
     "text": [
      "TPR mean: 100.0%  std: 0.0%\n",
      "FDR mean: 0.0%  std: 0.0%\n"
     ]
    },
    {
     "name": "stdout",
     "output_type": "stream",
     "text": [
      "[[0.88662999 0.89944185]\n",
      " [0.89528395 0.90657064]\n",
      " [0.812      0.8268    ]]\n",
      "rec time now 3 dataset now: Syn2\n"
     ]
    },
    {
     "name": "stderr",
     "output_type": "stream",
     "text": [
      "TPR mean: 100.0%  std: 0.0%\n",
      "FDR mean: 0.0%  std: 0.0%\n",
      "Epoch:      0, d_loss (Acc)): 0.394, v_loss (Acc): 0.347, g_loss: +0.0299\n"
     ]
    },
    {
     "name": "stdout",
     "output_type": "stream",
     "text": [
      "[[0.88662999 0.89944185]\n",
      " [0.89528395 0.90657064]\n",
      " [0.812      0.8268    ]]\n",
      "now at training epoch number 3400 hyp-params: lamda 0.1000 prior 0.0000\n",
      "rec time now 0 dataset now: Syn2\n"
     ]
    },
    {
     "name": "stderr",
     "output_type": "stream",
     "text": [
      "TPR mean: 100.0%  std: 0.0%\n",
      "FDR mean: 0.0%  std: 0.0%\n"
     ]
    },
    {
     "name": "stdout",
     "output_type": "stream",
     "text": [
      "[[0.88571427 0.89941128]\n",
      " [0.89391998 0.90667979]\n",
      " [0.81       0.8289    ]]\n",
      "rec time now 1 dataset now: Syn2\n"
     ]
    },
    {
     "name": "stderr",
     "output_type": "stream",
     "text": [
      "TPR mean: 100.0%  std: 0.0%\n",
      "FDR mean: 0.0%  std: 0.0%\n"
     ]
    },
    {
     "name": "stdout",
     "output_type": "stream",
     "text": [
      "[[0.88571427 0.89941128]\n",
      " [0.89391998 0.90667979]\n",
      " [0.81       0.8289    ]]\n",
      "rec time now 2 dataset now: Syn2\n"
     ]
    },
    {
     "name": "stderr",
     "output_type": "stream",
     "text": [
      "TPR mean: 100.0%  std: 0.0%\n",
      "FDR mean: 0.0%  std: 0.0%\n"
     ]
    },
    {
     "name": "stdout",
     "output_type": "stream",
     "text": [
      "[[0.88571427 0.89941128]\n",
      " [0.89391998 0.90667979]\n",
      " [0.81       0.8289    ]]\n",
      "rec time now 3 dataset now: Syn2\n"
     ]
    },
    {
     "name": "stderr",
     "output_type": "stream",
     "text": [
      "TPR mean: 100.0%  std: 0.0%\n",
      "FDR mean: 0.0%  std: 0.0%\n",
      "Epoch:      0, d_loss (Acc)): 0.379, v_loss (Acc): 0.331, g_loss: +0.0390\n"
     ]
    },
    {
     "name": "stdout",
     "output_type": "stream",
     "text": [
      "[[0.88571427 0.89941128]\n",
      " [0.89391998 0.90667979]\n",
      " [0.81       0.8289    ]]\n",
      "now at training epoch number 3500 hyp-params: lamda 0.1000 prior 0.0000\n",
      "rec time now 0 dataset now: Syn2\n"
     ]
    },
    {
     "name": "stderr",
     "output_type": "stream",
     "text": [
      "TPR mean: 100.0%  std: 0.0%\n",
      "FDR mean: 0.0%  std: 0.0%\n"
     ]
    },
    {
     "name": "stdout",
     "output_type": "stream",
     "text": [
      "[[0.88432304 0.89698104]\n",
      " [0.89250492 0.90409104]\n",
      " [0.8089     0.8252    ]]\n",
      "rec time now 1 dataset now: Syn2\n"
     ]
    },
    {
     "name": "stderr",
     "output_type": "stream",
     "text": [
      "TPR mean: 100.0%  std: 0.0%\n",
      "FDR mean: 0.0%  std: 0.0%\n"
     ]
    },
    {
     "name": "stdout",
     "output_type": "stream",
     "text": [
      "[[0.88432304 0.89698104]\n",
      " [0.89250492 0.90409104]\n",
      " [0.8089     0.8252    ]]\n",
      "rec time now 2 dataset now: Syn2\n"
     ]
    },
    {
     "name": "stderr",
     "output_type": "stream",
     "text": [
      "TPR mean: 100.0%  std: 0.0%\n",
      "FDR mean: 0.0%  std: 0.0%\n"
     ]
    },
    {
     "name": "stdout",
     "output_type": "stream",
     "text": [
      "[[0.88432304 0.89698104]\n",
      " [0.89250492 0.90409104]\n",
      " [0.8089     0.8252    ]]\n",
      "rec time now 3 dataset now: Syn2\n"
     ]
    },
    {
     "name": "stderr",
     "output_type": "stream",
     "text": [
      "TPR mean: 100.0%  std: 0.0%\n",
      "FDR mean: 0.0%  std: 0.0%\n",
      "Epoch:      0, d_loss (Acc)): 0.396, v_loss (Acc): 0.351, g_loss: +0.0462\n"
     ]
    },
    {
     "name": "stdout",
     "output_type": "stream",
     "text": [
      "[[0.88432304 0.89698104]\n",
      " [0.89250492 0.90409104]\n",
      " [0.8089     0.8252    ]]\n",
      "now at training epoch number 3600 hyp-params: lamda 0.1000 prior 0.0000\n",
      "rec time now 0 dataset now: Syn2\n"
     ]
    },
    {
     "name": "stderr",
     "output_type": "stream",
     "text": [
      "TPR mean: 100.0%  std: 0.0%\n",
      "FDR mean: 0.0%  std: 0.0%\n"
     ]
    },
    {
     "name": "stdout",
     "output_type": "stream",
     "text": [
      "[[0.88470291 0.8980855 ]\n",
      " [0.89381777 0.9053986 ]\n",
      " [0.8084     0.8277    ]]\n",
      "rec time now 1 dataset now: Syn2\n"
     ]
    },
    {
     "name": "stderr",
     "output_type": "stream",
     "text": [
      "TPR mean: 100.0%  std: 0.0%\n",
      "FDR mean: 0.0%  std: 0.0%\n"
     ]
    },
    {
     "name": "stdout",
     "output_type": "stream",
     "text": [
      "[[0.88470291 0.8980855 ]\n",
      " [0.89381777 0.9053986 ]\n",
      " [0.8084     0.8277    ]]\n",
      "rec time now 2 dataset now: Syn2\n"
     ]
    },
    {
     "name": "stderr",
     "output_type": "stream",
     "text": [
      "TPR mean: 100.0%  std: 0.0%\n",
      "FDR mean: 0.0%  std: 0.0%\n"
     ]
    },
    {
     "name": "stdout",
     "output_type": "stream",
     "text": [
      "[[0.88470291 0.8980855 ]\n",
      " [0.89381777 0.9053986 ]\n",
      " [0.8084     0.8277    ]]\n",
      "rec time now 3 dataset now: Syn2\n"
     ]
    },
    {
     "name": "stderr",
     "output_type": "stream",
     "text": [
      "TPR mean: 100.0%  std: 0.0%\n",
      "FDR mean: 0.0%  std: 0.0%\n",
      "Epoch:      0, d_loss (Acc)): 0.434, v_loss (Acc): 0.392, g_loss: +0.0350\n"
     ]
    },
    {
     "name": "stdout",
     "output_type": "stream",
     "text": [
      "[[0.88470291 0.8980855 ]\n",
      " [0.89381777 0.9053986 ]\n",
      " [0.8084     0.8277    ]]\n",
      "now at training epoch number 3700 hyp-params: lamda 0.1000 prior 0.0000\n",
      "rec time now 0 dataset now: Syn2\n"
     ]
    },
    {
     "name": "stderr",
     "output_type": "stream",
     "text": [
      "TPR mean: 100.0%  std: 0.0%\n",
      "FDR mean: 0.0%  std: 0.0%\n"
     ]
    },
    {
     "name": "stdout",
     "output_type": "stream",
     "text": [
      "[[0.88251443 0.89705136]\n",
      " [0.89107451 0.90474165]\n",
      " [0.8098     0.8255    ]]\n",
      "rec time now 1 dataset now: Syn2\n"
     ]
    },
    {
     "name": "stderr",
     "output_type": "stream",
     "text": [
      "TPR mean: 100.0%  std: 0.0%\n",
      "FDR mean: 0.0%  std: 0.0%\n"
     ]
    },
    {
     "name": "stdout",
     "output_type": "stream",
     "text": [
      "[[0.88251443 0.89705136]\n",
      " [0.89107451 0.90474165]\n",
      " [0.8098     0.8255    ]]\n",
      "rec time now 2 dataset now: Syn2\n"
     ]
    },
    {
     "name": "stderr",
     "output_type": "stream",
     "text": [
      "TPR mean: 100.0%  std: 0.0%\n",
      "FDR mean: 0.0%  std: 0.0%\n"
     ]
    },
    {
     "name": "stdout",
     "output_type": "stream",
     "text": [
      "[[0.88251443 0.89705136]\n",
      " [0.89107451 0.90474165]\n",
      " [0.8098     0.8255    ]]\n",
      "rec time now 3 dataset now: Syn2\n"
     ]
    },
    {
     "name": "stderr",
     "output_type": "stream",
     "text": [
      "TPR mean: 100.0%  std: 0.0%\n",
      "FDR mean: 0.0%  std: 0.0%\n",
      "Epoch:      0, d_loss (Acc)): 0.386, v_loss (Acc): 0.345, g_loss: +0.0356\n"
     ]
    },
    {
     "name": "stdout",
     "output_type": "stream",
     "text": [
      "[[0.88251443 0.89705136]\n",
      " [0.89107451 0.90474165]\n",
      " [0.8098     0.8255    ]]\n",
      "now at training epoch number 3800 hyp-params: lamda 0.1000 prior 0.0000\n",
      "rec time now 0 dataset now: Syn2\n"
     ]
    },
    {
     "name": "stderr",
     "output_type": "stream",
     "text": [
      "TPR mean: 100.0%  std: 0.0%\n",
      "FDR mean: 0.0%  std: 0.0%\n"
     ]
    },
    {
     "name": "stdout",
     "output_type": "stream",
     "text": [
      "[[0.88301219 0.8971757 ]\n",
      " [0.89101396 0.90394416]\n",
      " [0.8104     0.8243    ]]\n",
      "rec time now 1 dataset now: Syn2\n"
     ]
    },
    {
     "name": "stderr",
     "output_type": "stream",
     "text": [
      "TPR mean: 100.0%  std: 0.0%\n",
      "FDR mean: 0.0%  std: 0.0%\n"
     ]
    },
    {
     "name": "stdout",
     "output_type": "stream",
     "text": [
      "[[0.88301219 0.8971757 ]\n",
      " [0.89101396 0.90394416]\n",
      " [0.8104     0.8243    ]]\n",
      "rec time now 2 dataset now: Syn2\n"
     ]
    },
    {
     "name": "stderr",
     "output_type": "stream",
     "text": [
      "TPR mean: 100.0%  std: 0.0%\n",
      "FDR mean: 0.0%  std: 0.0%\n"
     ]
    },
    {
     "name": "stdout",
     "output_type": "stream",
     "text": [
      "[[0.88301219 0.8971757 ]\n",
      " [0.89101396 0.90394416]\n",
      " [0.8104     0.8243    ]]\n",
      "rec time now 3 dataset now: Syn2\n"
     ]
    },
    {
     "name": "stderr",
     "output_type": "stream",
     "text": [
      "TPR mean: 100.0%  std: 0.0%\n",
      "FDR mean: 0.0%  std: 0.0%\n",
      "Epoch:      0, d_loss (Acc)): 0.373, v_loss (Acc): 0.339, g_loss: +0.0335\n"
     ]
    },
    {
     "name": "stdout",
     "output_type": "stream",
     "text": [
      "[[0.88301219 0.8971757 ]\n",
      " [0.89101396 0.90394416]\n",
      " [0.8104     0.8243    ]]\n",
      "now at training epoch number 3900 hyp-params: lamda 0.1000 prior 0.0000\n",
      "rec time now 0 dataset now: Syn2\n"
     ]
    },
    {
     "name": "stderr",
     "output_type": "stream",
     "text": [
      "TPR mean: 100.0%  std: 0.0%\n",
      "FDR mean: 0.0%  std: 0.0%\n"
     ]
    },
    {
     "name": "stdout",
     "output_type": "stream",
     "text": [
      "[[0.8843045  0.89744086]\n",
      " [0.89358937 0.90443425]\n",
      " [0.8121     0.8257    ]]\n",
      "rec time now 1 dataset now: Syn2\n"
     ]
    },
    {
     "name": "stderr",
     "output_type": "stream",
     "text": [
      "TPR mean: 100.0%  std: 0.0%\n",
      "FDR mean: 0.0%  std: 0.0%\n"
     ]
    },
    {
     "name": "stdout",
     "output_type": "stream",
     "text": [
      "[[0.8843045  0.89744086]\n",
      " [0.89358937 0.90443425]\n",
      " [0.8121     0.8257    ]]\n",
      "rec time now 2 dataset now: Syn2\n"
     ]
    },
    {
     "name": "stderr",
     "output_type": "stream",
     "text": [
      "TPR mean: 100.0%  std: 0.0%\n",
      "FDR mean: 0.0%  std: 0.0%\n"
     ]
    },
    {
     "name": "stdout",
     "output_type": "stream",
     "text": [
      "[[0.8843045  0.89744086]\n",
      " [0.89358937 0.90443425]\n",
      " [0.8121     0.8257    ]]\n",
      "rec time now 3 dataset now: Syn2\n"
     ]
    },
    {
     "name": "stderr",
     "output_type": "stream",
     "text": [
      "TPR mean: 100.0%  std: 0.0%\n",
      "FDR mean: 0.0%  std: 0.0%\n",
      "Epoch:      0, d_loss (Acc)): 0.398, v_loss (Acc): 0.351, g_loss: +0.0063\n"
     ]
    },
    {
     "name": "stdout",
     "output_type": "stream",
     "text": [
      "[[0.8843045  0.89744086]\n",
      " [0.89358937 0.90443425]\n",
      " [0.8121     0.8257    ]]\n",
      "now at training epoch number 4000 hyp-params: lamda 0.1000 prior 0.0000\n",
      "rec time now 0 dataset now: Syn2\n"
     ]
    },
    {
     "name": "stderr",
     "output_type": "stream",
     "text": [
      "TPR mean: 100.0%  std: 0.0%\n",
      "FDR mean: 0.0%  std: 0.0%\n"
     ]
    },
    {
     "name": "stdout",
     "output_type": "stream",
     "text": [
      "[[0.88488003 0.89794179]\n",
      " [0.89341004 0.90455339]\n",
      " [0.8091     0.8256    ]]\n",
      "rec time now 1 dataset now: Syn2\n"
     ]
    },
    {
     "name": "stderr",
     "output_type": "stream",
     "text": [
      "TPR mean: 100.0%  std: 0.0%\n",
      "FDR mean: 0.0%  std: 0.0%\n"
     ]
    },
    {
     "name": "stdout",
     "output_type": "stream",
     "text": [
      "[[0.88488003 0.89794179]\n",
      " [0.89341004 0.90455339]\n",
      " [0.8091     0.8256    ]]\n",
      "rec time now 2 dataset now: Syn2\n"
     ]
    },
    {
     "name": "stderr",
     "output_type": "stream",
     "text": [
      "TPR mean: 100.0%  std: 0.0%\n",
      "FDR mean: 0.0%  std: 0.0%\n"
     ]
    },
    {
     "name": "stdout",
     "output_type": "stream",
     "text": [
      "[[0.88488003 0.89794179]\n",
      " [0.89341004 0.90455339]\n",
      " [0.8091     0.8256    ]]\n",
      "rec time now 3 dataset now: Syn2\n"
     ]
    },
    {
     "name": "stderr",
     "output_type": "stream",
     "text": [
      "TPR mean: 100.0%  std: 0.0%\n",
      "FDR mean: 0.0%  std: 0.0%\n",
      "Epoch:      0, d_loss (Acc)): 0.441, v_loss (Acc): 0.378, g_loss: +0.0300\n"
     ]
    },
    {
     "name": "stdout",
     "output_type": "stream",
     "text": [
      "[[0.88488003 0.89794179]\n",
      " [0.89341004 0.90455339]\n",
      " [0.8091     0.8256    ]]\n",
      "now at training epoch number 4100 hyp-params: lamda 0.1000 prior 0.0000\n",
      "rec time now 0 dataset now: Syn2\n"
     ]
    },
    {
     "name": "stderr",
     "output_type": "stream",
     "text": [
      "TPR mean: 100.0%  std: 0.0%\n",
      "FDR mean: 0.0%  std: 0.0%\n"
     ]
    },
    {
     "name": "stdout",
     "output_type": "stream",
     "text": [
      "[[0.8830237  0.89553149]\n",
      " [0.89088465 0.90260661]\n",
      " [0.8105     0.8224    ]]\n",
      "rec time now 1 dataset now: Syn2\n"
     ]
    },
    {
     "name": "stderr",
     "output_type": "stream",
     "text": [
      "TPR mean: 100.0%  std: 0.0%\n",
      "FDR mean: 0.0%  std: 0.0%\n"
     ]
    },
    {
     "name": "stdout",
     "output_type": "stream",
     "text": [
      "[[0.8830237  0.89553149]\n",
      " [0.89088465 0.90260661]\n",
      " [0.8105     0.8224    ]]\n",
      "rec time now 2 dataset now: Syn2\n"
     ]
    },
    {
     "name": "stderr",
     "output_type": "stream",
     "text": [
      "TPR mean: 100.0%  std: 0.0%\n",
      "FDR mean: 0.0%  std: 0.0%\n"
     ]
    },
    {
     "name": "stdout",
     "output_type": "stream",
     "text": [
      "[[0.8830237  0.89553149]\n",
      " [0.89088465 0.90260661]\n",
      " [0.8105     0.8224    ]]\n",
      "rec time now 3 dataset now: Syn2\n"
     ]
    },
    {
     "name": "stderr",
     "output_type": "stream",
     "text": [
      "TPR mean: 100.0%  std: 0.0%\n",
      "FDR mean: 0.0%  std: 0.0%\n",
      "Epoch:      0, d_loss (Acc)): 0.427, v_loss (Acc): 0.366, g_loss: +0.0329\n"
     ]
    },
    {
     "name": "stdout",
     "output_type": "stream",
     "text": [
      "[[0.8830237  0.89553149]\n",
      " [0.89088465 0.90260661]\n",
      " [0.8105     0.8224    ]]\n",
      "now at training epoch number 4200 hyp-params: lamda 0.1000 prior 0.0000\n",
      "rec time now 0 dataset now: Syn2\n"
     ]
    },
    {
     "name": "stderr",
     "output_type": "stream",
     "text": [
      "TPR mean: 100.0%  std: 0.0%\n",
      "FDR mean: 0.0%  std: 0.0%\n"
     ]
    },
    {
     "name": "stdout",
     "output_type": "stream",
     "text": [
      "[[0.88447746 0.89924295]\n",
      " [0.89264163 0.90545738]\n",
      " [0.81       0.8276    ]]\n",
      "rec time now 1 dataset now: Syn2\n"
     ]
    },
    {
     "name": "stderr",
     "output_type": "stream",
     "text": [
      "TPR mean: 100.0%  std: 0.0%\n",
      "FDR mean: 0.0%  std: 0.0%\n"
     ]
    },
    {
     "name": "stdout",
     "output_type": "stream",
     "text": [
      "[[0.88447746 0.89924295]\n",
      " [0.89264163 0.90545738]\n",
      " [0.81       0.8276    ]]\n",
      "rec time now 2 dataset now: Syn2\n"
     ]
    },
    {
     "name": "stderr",
     "output_type": "stream",
     "text": [
      "TPR mean: 100.0%  std: 0.0%\n",
      "FDR mean: 0.0%  std: 0.0%\n"
     ]
    },
    {
     "name": "stdout",
     "output_type": "stream",
     "text": [
      "[[0.88447746 0.89924295]\n",
      " [0.89264163 0.90545738]\n",
      " [0.81       0.8276    ]]\n",
      "rec time now 3 dataset now: Syn2\n"
     ]
    },
    {
     "name": "stderr",
     "output_type": "stream",
     "text": [
      "TPR mean: 100.0%  std: 0.0%\n",
      "FDR mean: 0.0%  std: 0.0%\n",
      "Epoch:      0, d_loss (Acc)): 0.407, v_loss (Acc): 0.353, g_loss: +0.0326\n"
     ]
    },
    {
     "name": "stdout",
     "output_type": "stream",
     "text": [
      "[[0.88447746 0.89924295]\n",
      " [0.89264163 0.90545738]\n",
      " [0.81       0.8276    ]]\n",
      "now at training epoch number 4300 hyp-params: lamda 0.1000 prior 0.0000\n",
      "rec time now 0 dataset now: Syn2\n"
     ]
    },
    {
     "name": "stderr",
     "output_type": "stream",
     "text": [
      "TPR mean: 100.0%  std: 0.0%\n",
      "FDR mean: 0.0%  std: 0.0%\n"
     ]
    },
    {
     "name": "stdout",
     "output_type": "stream",
     "text": [
      "[[0.8830491  0.8987375 ]\n",
      " [0.89079903 0.90615868]\n",
      " [0.8066     0.829     ]]\n",
      "rec time now 1 dataset now: Syn2\n"
     ]
    },
    {
     "name": "stderr",
     "output_type": "stream",
     "text": [
      "TPR mean: 100.0%  std: 0.0%\n",
      "FDR mean: 0.0%  std: 0.0%\n"
     ]
    },
    {
     "name": "stdout",
     "output_type": "stream",
     "text": [
      "[[0.8830491  0.8987375 ]\n",
      " [0.89079903 0.90615868]\n",
      " [0.8066     0.829     ]]\n",
      "rec time now 2 dataset now: Syn2\n"
     ]
    },
    {
     "name": "stderr",
     "output_type": "stream",
     "text": [
      "TPR mean: 100.0%  std: 0.0%\n",
      "FDR mean: 0.0%  std: 0.0%\n"
     ]
    },
    {
     "name": "stdout",
     "output_type": "stream",
     "text": [
      "[[0.8830491  0.8987375 ]\n",
      " [0.89079903 0.90615868]\n",
      " [0.8066     0.829     ]]\n",
      "rec time now 3 dataset now: Syn2\n"
     ]
    },
    {
     "name": "stderr",
     "output_type": "stream",
     "text": [
      "TPR mean: 100.0%  std: 0.0%\n",
      "FDR mean: 0.0%  std: 0.0%\n",
      "Epoch:      0, d_loss (Acc)): 0.377, v_loss (Acc): 0.322, g_loss: +0.0161\n"
     ]
    },
    {
     "name": "stdout",
     "output_type": "stream",
     "text": [
      "[[0.8830491  0.8987375 ]\n",
      " [0.89079903 0.90615868]\n",
      " [0.8066     0.829     ]]\n",
      "now at training epoch number 4400 hyp-params: lamda 0.1000 prior 0.0000\n",
      "rec time now 0 dataset now: Syn2\n"
     ]
    },
    {
     "name": "stderr",
     "output_type": "stream",
     "text": [
      "TPR mean: 100.0%  std: 0.0%\n",
      "FDR mean: 0.0%  std: 0.0%\n"
     ]
    },
    {
     "name": "stdout",
     "output_type": "stream",
     "text": [
      "[[0.88309203 0.89931297]\n",
      " [0.89055608 0.90577906]\n",
      " [0.8072     0.829     ]]\n",
      "rec time now 1 dataset now: Syn2\n"
     ]
    },
    {
     "name": "stderr",
     "output_type": "stream",
     "text": [
      "TPR mean: 100.0%  std: 0.0%\n",
      "FDR mean: 0.0%  std: 0.0%\n"
     ]
    },
    {
     "name": "stdout",
     "output_type": "stream",
     "text": [
      "[[0.88309203 0.89931297]\n",
      " [0.89055608 0.90577906]\n",
      " [0.8072     0.829     ]]\n",
      "rec time now 2 dataset now: Syn2\n"
     ]
    },
    {
     "name": "stderr",
     "output_type": "stream",
     "text": [
      "TPR mean: 100.0%  std: 0.0%\n",
      "FDR mean: 0.0%  std: 0.0%\n"
     ]
    },
    {
     "name": "stdout",
     "output_type": "stream",
     "text": [
      "[[0.88309203 0.89931297]\n",
      " [0.89055608 0.90577906]\n",
      " [0.8072     0.829     ]]\n",
      "rec time now 3 dataset now: Syn2\n"
     ]
    },
    {
     "name": "stderr",
     "output_type": "stream",
     "text": [
      "TPR mean: 100.0%  std: 0.0%\n",
      "FDR mean: 0.0%  std: 0.0%\n",
      "Epoch:      0, d_loss (Acc)): 0.372, v_loss (Acc): 0.333, g_loss: +0.0357\n"
     ]
    },
    {
     "name": "stdout",
     "output_type": "stream",
     "text": [
      "[[0.88309203 0.89931297]\n",
      " [0.89055608 0.90577906]\n",
      " [0.8072     0.829     ]]\n",
      "now at training epoch number 4500 hyp-params: lamda 0.1000 prior 0.0000\n",
      "rec time now 0 dataset now: Syn2\n"
     ]
    },
    {
     "name": "stderr",
     "output_type": "stream",
     "text": [
      "TPR mean: 100.0%  std: 0.0%\n",
      "FDR mean: 0.0%  std: 0.0%\n"
     ]
    },
    {
     "name": "stdout",
     "output_type": "stream",
     "text": [
      "[[0.88246912 0.89819179]\n",
      " [0.88997776 0.90540141]\n",
      " [0.8074     0.8264    ]]\n",
      "rec time now 1 dataset now: Syn2\n"
     ]
    },
    {
     "name": "stderr",
     "output_type": "stream",
     "text": [
      "TPR mean: 100.0%  std: 0.0%\n",
      "FDR mean: 0.0%  std: 0.0%\n"
     ]
    },
    {
     "name": "stdout",
     "output_type": "stream",
     "text": [
      "[[0.88246912 0.89819179]\n",
      " [0.88997776 0.90540141]\n",
      " [0.8074     0.8264    ]]\n",
      "rec time now 2 dataset now: Syn2\n"
     ]
    },
    {
     "name": "stderr",
     "output_type": "stream",
     "text": [
      "TPR mean: 100.0%  std: 0.0%\n",
      "FDR mean: 0.0%  std: 0.0%\n"
     ]
    },
    {
     "name": "stdout",
     "output_type": "stream",
     "text": [
      "[[0.88246912 0.89819179]\n",
      " [0.88997776 0.90540141]\n",
      " [0.8074     0.8264    ]]\n",
      "rec time now 3 dataset now: Syn2\n"
     ]
    },
    {
     "name": "stderr",
     "output_type": "stream",
     "text": [
      "TPR mean: 100.0%  std: 0.0%\n",
      "FDR mean: 0.0%  std: 0.0%\n",
      "Epoch:      0, d_loss (Acc)): 0.354, v_loss (Acc): 0.300, g_loss: +0.0257\n"
     ]
    },
    {
     "name": "stdout",
     "output_type": "stream",
     "text": [
      "[[0.88246912 0.89819179]\n",
      " [0.88997776 0.90540141]\n",
      " [0.8074     0.8264    ]]\n",
      "now at training epoch number 4600 hyp-params: lamda 0.1000 prior 0.0000\n",
      "rec time now 0 dataset now: Syn2\n"
     ]
    },
    {
     "name": "stderr",
     "output_type": "stream",
     "text": [
      "TPR mean: 100.0%  std: 0.0%\n",
      "FDR mean: 0.0%  std: 0.0%\n"
     ]
    },
    {
     "name": "stdout",
     "output_type": "stream",
     "text": [
      "[[0.88347396 0.8988935 ]\n",
      " [0.89210122 0.90526681]\n",
      " [0.809      0.8255    ]]\n",
      "rec time now 1 dataset now: Syn2\n"
     ]
    },
    {
     "name": "stderr",
     "output_type": "stream",
     "text": [
      "TPR mean: 100.0%  std: 0.0%\n",
      "FDR mean: 0.0%  std: 0.0%\n"
     ]
    },
    {
     "name": "stdout",
     "output_type": "stream",
     "text": [
      "[[0.88347396 0.8988935 ]\n",
      " [0.89210122 0.90526681]\n",
      " [0.809      0.8255    ]]\n",
      "rec time now 2 dataset now: Syn2\n"
     ]
    },
    {
     "name": "stderr",
     "output_type": "stream",
     "text": [
      "TPR mean: 100.0%  std: 0.0%\n",
      "FDR mean: 0.0%  std: 0.0%\n"
     ]
    },
    {
     "name": "stdout",
     "output_type": "stream",
     "text": [
      "[[0.88347396 0.8988935 ]\n",
      " [0.89210122 0.90526681]\n",
      " [0.809      0.8255    ]]\n",
      "rec time now 3 dataset now: Syn2\n"
     ]
    },
    {
     "name": "stderr",
     "output_type": "stream",
     "text": [
      "TPR mean: 100.0%  std: 0.0%\n",
      "FDR mean: 0.0%  std: 0.0%\n",
      "Epoch:      0, d_loss (Acc)): 0.391, v_loss (Acc): 0.333, g_loss: +0.0279\n"
     ]
    },
    {
     "name": "stdout",
     "output_type": "stream",
     "text": [
      "[[0.88347396 0.8988935 ]\n",
      " [0.89210122 0.90526681]\n",
      " [0.809      0.8255    ]]\n",
      "now at training epoch number 4700 hyp-params: lamda 0.1000 prior 0.0000\n",
      "rec time now 0 dataset now: Syn2\n"
     ]
    },
    {
     "name": "stderr",
     "output_type": "stream",
     "text": [
      "TPR mean: 100.0%  std: 0.0%\n",
      "FDR mean: 0.0%  std: 0.0%\n"
     ]
    },
    {
     "name": "stdout",
     "output_type": "stream",
     "text": [
      "[[0.88277941 0.8990542 ]\n",
      " [0.8905532  0.90557227]\n",
      " [0.807      0.8264    ]]\n",
      "rec time now 1 dataset now: Syn2\n"
     ]
    },
    {
     "name": "stderr",
     "output_type": "stream",
     "text": [
      "TPR mean: 100.0%  std: 0.0%\n",
      "FDR mean: 0.0%  std: 0.0%\n"
     ]
    },
    {
     "name": "stdout",
     "output_type": "stream",
     "text": [
      "[[0.88277941 0.8990542 ]\n",
      " [0.8905532  0.90557227]\n",
      " [0.807      0.8264    ]]\n",
      "rec time now 2 dataset now: Syn2\n"
     ]
    },
    {
     "name": "stderr",
     "output_type": "stream",
     "text": [
      "TPR mean: 100.0%  std: 0.0%\n",
      "FDR mean: 0.0%  std: 0.0%\n"
     ]
    },
    {
     "name": "stdout",
     "output_type": "stream",
     "text": [
      "[[0.88277941 0.8990542 ]\n",
      " [0.8905532  0.90557227]\n",
      " [0.807      0.8264    ]]\n",
      "rec time now 3 dataset now: Syn2\n"
     ]
    },
    {
     "name": "stderr",
     "output_type": "stream",
     "text": [
      "TPR mean: 100.0%  std: 0.0%\n",
      "FDR mean: 0.0%  std: 0.0%\n",
      "Epoch:      0, d_loss (Acc)): 0.397, v_loss (Acc): 0.351, g_loss: +0.0348\n"
     ]
    },
    {
     "name": "stdout",
     "output_type": "stream",
     "text": [
      "[[0.88277941 0.8990542 ]\n",
      " [0.8905532  0.90557227]\n",
      " [0.807      0.8264    ]]\n",
      "now at training epoch number 4800 hyp-params: lamda 0.1000 prior 0.0000\n",
      "rec time now 0 dataset now: Syn2\n"
     ]
    },
    {
     "name": "stderr",
     "output_type": "stream",
     "text": [
      "TPR mean: 100.0%  std: 0.0%\n",
      "FDR mean: 0.0%  std: 0.0%\n"
     ]
    },
    {
     "name": "stdout",
     "output_type": "stream",
     "text": [
      "[[0.88180866 0.89904697]\n",
      " [0.89058313 0.90532899]\n",
      " [0.8056     0.8282    ]]\n",
      "rec time now 1 dataset now: Syn2\n"
     ]
    },
    {
     "name": "stderr",
     "output_type": "stream",
     "text": [
      "TPR mean: 100.0%  std: 0.0%\n",
      "FDR mean: 0.0%  std: 0.0%\n"
     ]
    },
    {
     "name": "stdout",
     "output_type": "stream",
     "text": [
      "[[0.88180866 0.89904697]\n",
      " [0.89058313 0.90532899]\n",
      " [0.8056     0.8282    ]]\n",
      "rec time now 2 dataset now: Syn2\n"
     ]
    },
    {
     "name": "stderr",
     "output_type": "stream",
     "text": [
      "TPR mean: 100.0%  std: 0.0%\n",
      "FDR mean: 0.0%  std: 0.0%\n"
     ]
    },
    {
     "name": "stdout",
     "output_type": "stream",
     "text": [
      "[[0.88180866 0.89904697]\n",
      " [0.89058313 0.90532899]\n",
      " [0.8056     0.8282    ]]\n",
      "rec time now 3 dataset now: Syn2\n"
     ]
    },
    {
     "name": "stderr",
     "output_type": "stream",
     "text": [
      "TPR mean: 100.0%  std: 0.0%\n",
      "FDR mean: 0.0%  std: 0.0%\n",
      "Epoch:      0, d_loss (Acc)): 0.359, v_loss (Acc): 0.305, g_loss: +0.0316\n"
     ]
    },
    {
     "name": "stdout",
     "output_type": "stream",
     "text": [
      "[[0.88180866 0.89904697]\n",
      " [0.89058313 0.90532899]\n",
      " [0.8056     0.8282    ]]\n",
      "now at training epoch number 4900 hyp-params: lamda 0.1000 prior 0.0000\n",
      "rec time now 0 dataset now: Syn2\n"
     ]
    },
    {
     "name": "stderr",
     "output_type": "stream",
     "text": [
      "TPR mean: 100.0%  std: 0.0%\n",
      "FDR mean: 0.0%  std: 0.0%\n"
     ]
    },
    {
     "name": "stdout",
     "output_type": "stream",
     "text": [
      "[[0.88071454 0.89767984]\n",
      " [0.8896195  0.90475921]\n",
      " [0.8055     0.8262    ]]\n",
      "rec time now 1 dataset now: Syn2\n"
     ]
    },
    {
     "name": "stderr",
     "output_type": "stream",
     "text": [
      "TPR mean: 100.0%  std: 0.0%\n",
      "FDR mean: 0.0%  std: 0.0%\n"
     ]
    },
    {
     "name": "stdout",
     "output_type": "stream",
     "text": [
      "[[0.88071454 0.89767984]\n",
      " [0.8896195  0.90475921]\n",
      " [0.8055     0.8262    ]]\n",
      "rec time now 2 dataset now: Syn2\n"
     ]
    },
    {
     "name": "stderr",
     "output_type": "stream",
     "text": [
      "TPR mean: 100.0%  std: 0.0%\n",
      "FDR mean: 0.0%  std: 0.0%\n"
     ]
    },
    {
     "name": "stdout",
     "output_type": "stream",
     "text": [
      "[[0.88071454 0.89767984]\n",
      " [0.8896195  0.90475921]\n",
      " [0.8055     0.8262    ]]\n",
      "rec time now 3 dataset now: Syn2\n"
     ]
    },
    {
     "name": "stderr",
     "output_type": "stream",
     "text": [
      "TPR mean: 100.0%  std: 0.0%\n",
      "FDR mean: 0.0%  std: 0.0%\n",
      "invase: Syn3 5000 . Y\n",
      "(10000, 11) (10000, 2) (10000, 11) (10000, 2)\n",
      "input shape: 11\n",
      "Epoch:      0, d_loss (Acc)): 0.781, v_loss (Acc): 0.663, g_loss: -0.8430\n"
     ]
    },
    {
     "name": "stdout",
     "output_type": "stream",
     "text": [
      "[[0.88071454 0.89767984]\n",
      " [0.8896195  0.90475921]\n",
      " [0.8055     0.8262    ]]\n",
      "PyTorch Version: elapsed time for Syn2: 11 feature, 10000 sample: [475.9042 477.9214] sec.\n",
      "now at training epoch number 0 hyp-params: lamda 0.1000 prior 0.0000\n",
      "rec time now 0 dataset now: Syn3\n"
     ]
    },
    {
     "name": "stderr",
     "output_type": "stream",
     "text": [
      "TPR mean: 79.3%  std: 18.7%\n",
      "FDR mean: 49.8%  std: 12.0%\n"
     ]
    },
    {
     "name": "stdout",
     "output_type": "stream",
     "text": [
      "[[0.89038733 0.87038883]\n",
      " [0.89791741 0.88115857]\n",
      " [0.8092     0.7846    ]]\n",
      "rec time now 1 dataset now: Syn3\n"
     ]
    },
    {
     "name": "stderr",
     "output_type": "stream",
     "text": [
      "TPR mean: 75.8%  std: 19.0%\n",
      "FDR mean: 45.6%  std: 13.0%\n"
     ]
    },
    {
     "name": "stdout",
     "output_type": "stream",
     "text": [
      "[[0.89038733 0.86906548]\n",
      " [0.89791741 0.8794621 ]\n",
      " [0.8092     0.782     ]]\n",
      "rec time now 2 dataset now: Syn3\n"
     ]
    },
    {
     "name": "stderr",
     "output_type": "stream",
     "text": [
      "TPR mean: 75.2%  std: 19.1%\n",
      "FDR mean: 44.5%  std: 13.6%\n"
     ]
    },
    {
     "name": "stdout",
     "output_type": "stream",
     "text": [
      "[[0.89038733 0.86823108]\n",
      " [0.89791741 0.87849269]\n",
      " [0.8092     0.7816    ]]\n",
      "rec time now 3 dataset now: Syn3\n"
     ]
    },
    {
     "name": "stderr",
     "output_type": "stream",
     "text": [
      "TPR mean: 75.1%  std: 19.1%\n",
      "FDR mean: 44.3%  std: 13.7%\n",
      "Epoch:      0, d_loss (Acc)): 0.523, v_loss (Acc): 0.419, g_loss: -0.7546\n"
     ]
    },
    {
     "name": "stdout",
     "output_type": "stream",
     "text": [
      "[[0.89038733 0.86821822]\n",
      " [0.89791741 0.87842229]\n",
      " [0.8092     0.7823    ]]\n",
      "now at training epoch number 100 hyp-params: lamda 0.1000 prior 0.0000\n",
      "rec time now 0 dataset now: Syn3\n"
     ]
    },
    {
     "name": "stderr",
     "output_type": "stream",
     "text": [
      "TPR mean: 84.3%  std: 14.4%\n",
      "FDR mean: 45.3%  std: 10.5%\n"
     ]
    },
    {
     "name": "stdout",
     "output_type": "stream",
     "text": [
      "[[0.89480087 0.88306593]\n",
      " [0.90185216 0.89067851]\n",
      " [0.8154     0.7991    ]]\n",
      "rec time now 1 dataset now: Syn3\n"
     ]
    },
    {
     "name": "stderr",
     "output_type": "stream",
     "text": [
      "TPR mean: 81.2%  std: 14.6%\n",
      "FDR mean: 40.4%  std: 11.7%\n"
     ]
    },
    {
     "name": "stdout",
     "output_type": "stream",
     "text": [
      "[[0.89480087 0.88101626]\n",
      " [0.90185216 0.88840239]\n",
      " [0.8154     0.7963    ]]\n",
      "rec time now 2 dataset now: Syn3\n"
     ]
    },
    {
     "name": "stderr",
     "output_type": "stream",
     "text": [
      "TPR mean: 80.7%  std: 14.7%\n",
      "FDR mean: 39.3%  std: 12.2%\n"
     ]
    },
    {
     "name": "stdout",
     "output_type": "stream",
     "text": [
      "[[0.89480087 0.88075798]\n",
      " [0.90185216 0.88825995]\n",
      " [0.8154     0.7972    ]]\n",
      "rec time now 3 dataset now: Syn3\n"
     ]
    },
    {
     "name": "stderr",
     "output_type": "stream",
     "text": [
      "TPR mean: 80.6%  std: 14.8%\n",
      "FDR mean: 39.2%  std: 12.3%\n",
      "Epoch:      0, d_loss (Acc)): 0.484, v_loss (Acc): 0.396, g_loss: -0.6228\n"
     ]
    },
    {
     "name": "stdout",
     "output_type": "stream",
     "text": [
      "[[0.89480087 0.8805976 ]\n",
      " [0.90185216 0.8881869 ]\n",
      " [0.8154     0.7968    ]]\n",
      "now at training epoch number 200 hyp-params: lamda 0.1000 prior 0.0000\n",
      "rec time now 0 dataset now: Syn3\n"
     ]
    },
    {
     "name": "stderr",
     "output_type": "stream",
     "text": [
      "TPR mean: 87.5%  std: 13.2%\n",
      "FDR mean: 39.2%  std: 10.0%\n"
     ]
    },
    {
     "name": "stdout",
     "output_type": "stream",
     "text": [
      "[[0.89823095 0.89199909]\n",
      " [0.90435335 0.89771996]\n",
      " [0.8182     0.8086    ]]\n",
      "rec time now 1 dataset now: Syn3\n"
     ]
    },
    {
     "name": "stderr",
     "output_type": "stream",
     "text": [
      "TPR mean: 84.9%  std: 13.4%\n",
      "FDR mean: 34.0%  std: 10.9%\n"
     ]
    },
    {
     "name": "stdout",
     "output_type": "stream",
     "text": [
      "[[0.89823095 0.89054915]\n",
      " [0.90435335 0.8956851 ]\n",
      " [0.8182     0.8081    ]]\n",
      "rec time now 2 dataset now: Syn3\n"
     ]
    },
    {
     "name": "stderr",
     "output_type": "stream",
     "text": [
      "TPR mean: 84.5%  std: 13.5%\n",
      "FDR mean: 33.1%  std: 11.2%\n"
     ]
    },
    {
     "name": "stdout",
     "output_type": "stream",
     "text": [
      "[[0.89823095 0.8904298 ]\n",
      " [0.90435335 0.89558699]\n",
      " [0.8182     0.8085    ]]\n",
      "rec time now 3 dataset now: Syn3\n"
     ]
    },
    {
     "name": "stderr",
     "output_type": "stream",
     "text": [
      "TPR mean: 84.5%  std: 13.5%\n",
      "FDR mean: 33.0%  std: 11.3%\n",
      "Epoch:      0, d_loss (Acc)): 0.424, v_loss (Acc): 0.360, g_loss: -0.4189\n"
     ]
    },
    {
     "name": "stdout",
     "output_type": "stream",
     "text": [
      "[[0.89823095 0.89042055]\n",
      " [0.90435335 0.89556789]\n",
      " [0.8182     0.8084    ]]\n",
      "now at training epoch number 300 hyp-params: lamda 0.1000 prior 0.0000\n",
      "rec time now 0 dataset now: Syn3\n"
     ]
    },
    {
     "name": "stderr",
     "output_type": "stream",
     "text": [
      "TPR mean: 91.9%  std: 11.8%\n",
      "FDR mean: 29.4%  std: 9.6%\n"
     ]
    },
    {
     "name": "stdout",
     "output_type": "stream",
     "text": [
      "[[0.89824578 0.8965409 ]\n",
      " [0.90415617 0.9021819 ]\n",
      " [0.8161     0.8142    ]]\n",
      "rec time now 1 dataset now: Syn3\n"
     ]
    },
    {
     "name": "stderr",
     "output_type": "stream",
     "text": [
      "TPR mean: 90.1%  std: 12.4%\n",
      "FDR mean: 24.4%  std: 10.0%\n"
     ]
    },
    {
     "name": "stdout",
     "output_type": "stream",
     "text": [
      "[[0.89824578 0.8958559 ]\n",
      " [0.90415617 0.90123844]\n",
      " [0.8161     0.815     ]]\n",
      "rec time now 2 dataset now: Syn3\n"
     ]
    },
    {
     "name": "stderr",
     "output_type": "stream",
     "text": [
      "TPR mean: 89.9%  std: 12.5%\n",
      "FDR mean: 23.9%  std: 10.3%\n"
     ]
    },
    {
     "name": "stdout",
     "output_type": "stream",
     "text": [
      "[[0.89824578 0.89587611]\n",
      " [0.90415617 0.90127053]\n",
      " [0.8161     0.8152    ]]\n",
      "rec time now 3 dataset now: Syn3\n"
     ]
    },
    {
     "name": "stderr",
     "output_type": "stream",
     "text": [
      "TPR mean: 89.9%  std: 12.5%\n",
      "FDR mean: 23.9%  std: 10.4%\n",
      "Epoch:      0, d_loss (Acc)): 0.438, v_loss (Acc): 0.402, g_loss: -0.2322\n"
     ]
    },
    {
     "name": "stdout",
     "output_type": "stream",
     "text": [
      "[[0.89824578 0.8958883 ]\n",
      " [0.90415617 0.90127755]\n",
      " [0.8161     0.8152    ]]\n",
      "now at training epoch number 400 hyp-params: lamda 0.1000 prior 0.0000\n",
      "rec time now 0 dataset now: Syn3\n"
     ]
    },
    {
     "name": "stderr",
     "output_type": "stream",
     "text": [
      "TPR mean: 96.2%  std: 9.0%\n",
      "FDR mean: 18.5%  std: 9.4%\n"
     ]
    },
    {
     "name": "stdout",
     "output_type": "stream",
     "text": [
      "[[0.90054859 0.8983103 ]\n",
      " [0.90641107 0.90492864]\n",
      " [0.8196     0.817     ]]\n",
      "rec time now 1 dataset now: Syn3\n"
     ]
    },
    {
     "name": "stderr",
     "output_type": "stream",
     "text": [
      "TPR mean: 95.5%  std: 9.6%\n",
      "FDR mean: 14.8%  std: 10.2%\n"
     ]
    },
    {
     "name": "stdout",
     "output_type": "stream",
     "text": [
      "[[0.90054859 0.89824524]\n",
      " [0.90641107 0.90486485]\n",
      " [0.8196     0.817     ]]\n",
      "rec time now 2 dataset now: Syn3\n"
     ]
    },
    {
     "name": "stderr",
     "output_type": "stream",
     "text": [
      "TPR mean: 95.5%  std: 9.6%\n",
      "FDR mean: 14.7%  std: 10.2%\n"
     ]
    },
    {
     "name": "stdout",
     "output_type": "stream",
     "text": [
      "[[0.90054859 0.89831793]\n",
      " [0.90641107 0.90492484]\n",
      " [0.8196     0.817     ]]\n",
      "rec time now 3 dataset now: Syn3\n"
     ]
    },
    {
     "name": "stderr",
     "output_type": "stream",
     "text": [
      "TPR mean: 95.5%  std: 9.6%\n",
      "FDR mean: 14.7%  std: 10.2%\n",
      "Epoch:      0, d_loss (Acc)): 0.441, v_loss (Acc): 0.409, g_loss: -0.1777\n"
     ]
    },
    {
     "name": "stdout",
     "output_type": "stream",
     "text": [
      "[[0.90054859 0.8983233 ]\n",
      " [0.90641107 0.9049312 ]\n",
      " [0.8196     0.817     ]]\n",
      "now at training epoch number 500 hyp-params: lamda 0.1000 prior 0.0000\n",
      "rec time now 0 dataset now: Syn3\n"
     ]
    },
    {
     "name": "stderr",
     "output_type": "stream",
     "text": [
      "TPR mean: 99.3%  std: 4.2%\n",
      "FDR mean: 11.3%  std: 10.1%\n"
     ]
    },
    {
     "name": "stdout",
     "output_type": "stream",
     "text": [
      "[[0.90154648 0.90052215]\n",
      " [0.90672636 0.90687795]\n",
      " [0.8216     0.8214    ]]\n",
      "rec time now 1 dataset now: Syn3\n"
     ]
    },
    {
     "name": "stderr",
     "output_type": "stream",
     "text": [
      "TPR mean: 99.2%  std: 4.5%\n",
      "FDR mean: 9.3%  std: 10.1%\n"
     ]
    },
    {
     "name": "stdout",
     "output_type": "stream",
     "text": [
      "[[0.90154648 0.90045428]\n",
      " [0.90672636 0.90680654]\n",
      " [0.8216     0.821     ]]\n",
      "rec time now 2 dataset now: Syn3\n"
     ]
    },
    {
     "name": "stderr",
     "output_type": "stream",
     "text": [
      "TPR mean: 99.2%  std: 4.5%\n",
      "FDR mean: 9.3%  std: 10.1%\n"
     ]
    },
    {
     "name": "stdout",
     "output_type": "stream",
     "text": [
      "[[0.90154648 0.900456  ]\n",
      " [0.90672636 0.9068076 ]\n",
      " [0.8216     0.8211    ]]\n",
      "rec time now 3 dataset now: Syn3\n"
     ]
    },
    {
     "name": "stderr",
     "output_type": "stream",
     "text": [
      "TPR mean: 99.2%  std: 4.5%\n",
      "FDR mean: 9.3%  std: 10.1%\n",
      "Epoch:      0, d_loss (Acc)): 0.402, v_loss (Acc): 0.366, g_loss: -0.2134\n"
     ]
    },
    {
     "name": "stdout",
     "output_type": "stream",
     "text": [
      "[[0.90154648 0.900456  ]\n",
      " [0.90672636 0.9068076 ]\n",
      " [0.8216     0.8211    ]]\n",
      "now at training epoch number 600 hyp-params: lamda 0.1000 prior 0.0000\n",
      "rec time now 0 dataset now: Syn3\n"
     ]
    },
    {
     "name": "stderr",
     "output_type": "stream",
     "text": [
      "TPR mean: 99.9%  std: 1.6%\n",
      "FDR mean: 5.7%  std: 9.0%\n"
     ]
    },
    {
     "name": "stdout",
     "output_type": "stream",
     "text": [
      "[[0.90058955 0.90108717]\n",
      " [0.90652501 0.90747938]\n",
      " [0.817      0.8195    ]]\n",
      "rec time now 1 dataset now: Syn3\n"
     ]
    },
    {
     "name": "stderr",
     "output_type": "stream",
     "text": [
      "TPR mean: 99.9%  std: 1.6%\n",
      "FDR mean: 4.3%  std: 8.2%\n"
     ]
    },
    {
     "name": "stdout",
     "output_type": "stream",
     "text": [
      "[[0.90058955 0.90083098]\n",
      " [0.90652501 0.90732982]\n",
      " [0.817      0.8189    ]]\n",
      "rec time now 2 dataset now: Syn3\n"
     ]
    },
    {
     "name": "stderr",
     "output_type": "stream",
     "text": [
      "TPR mean: 99.9%  std: 1.6%\n",
      "FDR mean: 4.3%  std: 8.2%\n"
     ]
    },
    {
     "name": "stdout",
     "output_type": "stream",
     "text": [
      "[[0.90058955 0.90083098]\n",
      " [0.90652501 0.90732982]\n",
      " [0.817      0.8189    ]]\n",
      "rec time now 3 dataset now: Syn3\n"
     ]
    },
    {
     "name": "stderr",
     "output_type": "stream",
     "text": [
      "TPR mean: 99.9%  std: 1.6%\n",
      "FDR mean: 4.3%  std: 8.2%\n",
      "Epoch:      0, d_loss (Acc)): 0.412, v_loss (Acc): 0.388, g_loss: -0.0837\n"
     ]
    },
    {
     "name": "stdout",
     "output_type": "stream",
     "text": [
      "[[0.90058955 0.90083098]\n",
      " [0.90652501 0.90732982]\n",
      " [0.817      0.8189    ]]\n",
      "now at training epoch number 700 hyp-params: lamda 0.1000 prior 0.0000\n",
      "rec time now 0 dataset now: Syn3\n"
     ]
    },
    {
     "name": "stderr",
     "output_type": "stream",
     "text": [
      "TPR mean: 100.0%  std: 0.5%\n",
      "FDR mean: 1.3%  std: 5.0%\n"
     ]
    },
    {
     "name": "stdout",
     "output_type": "stream",
     "text": [
      "[[0.9020341  0.90163424]\n",
      " [0.90763685 0.90769743]\n",
      " [0.8206     0.8212    ]]\n",
      "rec time now 1 dataset now: Syn3\n"
     ]
    },
    {
     "name": "stderr",
     "output_type": "stream",
     "text": [
      "TPR mean: 100.0%  std: 0.5%\n",
      "FDR mean: 0.8%  std: 3.8%\n"
     ]
    },
    {
     "name": "stdout",
     "output_type": "stream",
     "text": [
      "[[0.9020341  0.90158375]\n",
      " [0.90763685 0.90753246]\n",
      " [0.8206     0.8212    ]]\n",
      "rec time now 2 dataset now: Syn3\n"
     ]
    },
    {
     "name": "stderr",
     "output_type": "stream",
     "text": [
      "TPR mean: 100.0%  std: 0.5%\n",
      "FDR mean: 0.8%  std: 3.8%\n"
     ]
    },
    {
     "name": "stdout",
     "output_type": "stream",
     "text": [
      "[[0.9020341  0.90158375]\n",
      " [0.90763685 0.90753246]\n",
      " [0.8206     0.8212    ]]\n",
      "rec time now 3 dataset now: Syn3\n"
     ]
    },
    {
     "name": "stderr",
     "output_type": "stream",
     "text": [
      "TPR mean: 100.0%  std: 0.5%\n",
      "FDR mean: 0.8%  std: 3.8%\n",
      "Epoch:      0, d_loss (Acc)): 0.377, v_loss (Acc): 0.355, g_loss: -0.0699\n"
     ]
    },
    {
     "name": "stdout",
     "output_type": "stream",
     "text": [
      "[[0.9020341  0.90158375]\n",
      " [0.90763685 0.90753246]\n",
      " [0.8206     0.8212    ]]\n",
      "now at training epoch number 800 hyp-params: lamda 0.1000 prior 0.0000\n",
      "rec time now 0 dataset now: Syn3\n"
     ]
    },
    {
     "name": "stderr",
     "output_type": "stream",
     "text": [
      "TPR mean: 100.0%  std: 0.2%\n",
      "FDR mean: 0.1%  std: 1.4%\n"
     ]
    },
    {
     "name": "stdout",
     "output_type": "stream",
     "text": [
      "[[0.9010051  0.90225016]\n",
      " [0.90627346 0.90812343]\n",
      " [0.82       0.8205    ]]\n",
      "rec time now 1 dataset now: Syn3\n"
     ]
    },
    {
     "name": "stderr",
     "output_type": "stream",
     "text": [
      "TPR mean: 100.0%  std: 0.2%\n",
      "FDR mean: 0.0%  std: 0.7%\n"
     ]
    },
    {
     "name": "stdout",
     "output_type": "stream",
     "text": [
      "[[0.9010051  0.902263  ]\n",
      " [0.90627346 0.9081758 ]\n",
      " [0.82       0.8205    ]]\n",
      "rec time now 2 dataset now: Syn3\n"
     ]
    },
    {
     "name": "stderr",
     "output_type": "stream",
     "text": [
      "TPR mean: 100.0%  std: 0.2%\n",
      "FDR mean: 0.0%  std: 0.7%\n"
     ]
    },
    {
     "name": "stdout",
     "output_type": "stream",
     "text": [
      "[[0.9010051  0.902263  ]\n",
      " [0.90627346 0.9081758 ]\n",
      " [0.82       0.8205    ]]\n",
      "rec time now 3 dataset now: Syn3\n"
     ]
    },
    {
     "name": "stderr",
     "output_type": "stream",
     "text": [
      "TPR mean: 100.0%  std: 0.2%\n",
      "FDR mean: 0.0%  std: 0.7%\n",
      "Epoch:      0, d_loss (Acc)): 0.421, v_loss (Acc): 0.402, g_loss: -0.0327\n"
     ]
    },
    {
     "name": "stdout",
     "output_type": "stream",
     "text": [
      "[[0.9010051  0.902263  ]\n",
      " [0.90627346 0.9081758 ]\n",
      " [0.82       0.8205    ]]\n",
      "now at training epoch number 900 hyp-params: lamda 0.1000 prior 0.0000\n",
      "rec time now 0 dataset now: Syn3\n"
     ]
    },
    {
     "name": "stderr",
     "output_type": "stream",
     "text": [
      "TPR mean: 100.0%  std: 0.0%\n",
      "FDR mean: 0.0%  std: 0.0%\n"
     ]
    },
    {
     "name": "stdout",
     "output_type": "stream",
     "text": [
      "[[0.90097785 0.90222485]\n",
      " [0.90674963 0.9078697 ]\n",
      " [0.8186     0.8206    ]]\n",
      "rec time now 1 dataset now: Syn3\n"
     ]
    },
    {
     "name": "stderr",
     "output_type": "stream",
     "text": [
      "TPR mean: 100.0%  std: 0.0%\n",
      "FDR mean: 0.0%  std: 0.0%\n"
     ]
    },
    {
     "name": "stdout",
     "output_type": "stream",
     "text": [
      "[[0.90097785 0.90222485]\n",
      " [0.90674963 0.9078697 ]\n",
      " [0.8186     0.8206    ]]\n",
      "rec time now 2 dataset now: Syn3\n"
     ]
    },
    {
     "name": "stderr",
     "output_type": "stream",
     "text": [
      "TPR mean: 100.0%  std: 0.0%\n",
      "FDR mean: 0.0%  std: 0.0%\n"
     ]
    },
    {
     "name": "stdout",
     "output_type": "stream",
     "text": [
      "[[0.90097785 0.90222485]\n",
      " [0.90674963 0.9078697 ]\n",
      " [0.8186     0.8206    ]]\n",
      "rec time now 3 dataset now: Syn3\n"
     ]
    },
    {
     "name": "stderr",
     "output_type": "stream",
     "text": [
      "TPR mean: 100.0%  std: 0.0%\n",
      "FDR mean: 0.0%  std: 0.0%\n",
      "Epoch:      0, d_loss (Acc)): 0.413, v_loss (Acc): 0.384, g_loss: -0.0722\n"
     ]
    },
    {
     "name": "stdout",
     "output_type": "stream",
     "text": [
      "[[0.90097785 0.90222485]\n",
      " [0.90674963 0.9078697 ]\n",
      " [0.8186     0.8206    ]]\n",
      "now at training epoch number 1000 hyp-params: lamda 0.1000 prior 0.0000\n",
      "rec time now 0 dataset now: Syn3\n"
     ]
    },
    {
     "name": "stderr",
     "output_type": "stream",
     "text": [
      "TPR mean: 100.0%  std: 0.0%\n",
      "FDR mean: 0.0%  std: 0.0%\n"
     ]
    },
    {
     "name": "stdout",
     "output_type": "stream",
     "text": [
      "[[0.90135897 0.90258035]\n",
      " [0.90677632 0.90832576]\n",
      " [0.8205     0.8208    ]]\n",
      "rec time now 1 dataset now: Syn3\n"
     ]
    },
    {
     "name": "stderr",
     "output_type": "stream",
     "text": [
      "TPR mean: 100.0%  std: 0.0%\n",
      "FDR mean: 0.0%  std: 0.0%\n"
     ]
    },
    {
     "name": "stdout",
     "output_type": "stream",
     "text": [
      "[[0.90135897 0.90258035]\n",
      " [0.90677632 0.90832576]\n",
      " [0.8205     0.8208    ]]\n",
      "rec time now 2 dataset now: Syn3\n"
     ]
    },
    {
     "name": "stderr",
     "output_type": "stream",
     "text": [
      "TPR mean: 100.0%  std: 0.0%\n",
      "FDR mean: 0.0%  std: 0.0%\n"
     ]
    },
    {
     "name": "stdout",
     "output_type": "stream",
     "text": [
      "[[0.90135897 0.90258035]\n",
      " [0.90677632 0.90832576]\n",
      " [0.8205     0.8208    ]]\n",
      "rec time now 3 dataset now: Syn3\n"
     ]
    },
    {
     "name": "stderr",
     "output_type": "stream",
     "text": [
      "TPR mean: 100.0%  std: 0.0%\n",
      "FDR mean: 0.0%  std: 0.0%\n",
      "Epoch:      0, d_loss (Acc)): 0.413, v_loss (Acc): 0.393, g_loss: -0.0275\n"
     ]
    },
    {
     "name": "stdout",
     "output_type": "stream",
     "text": [
      "[[0.90135897 0.90258035]\n",
      " [0.90677632 0.90832576]\n",
      " [0.8205     0.8208    ]]\n",
      "now at training epoch number 1100 hyp-params: lamda 0.1000 prior 0.0000\n",
      "rec time now 0 dataset now: Syn3\n"
     ]
    },
    {
     "name": "stderr",
     "output_type": "stream",
     "text": [
      "TPR mean: 100.0%  std: 0.0%\n",
      "FDR mean: 0.0%  std: 0.0%\n"
     ]
    },
    {
     "name": "stdout",
     "output_type": "stream",
     "text": [
      "[[0.90122154 0.90238914]\n",
      " [0.90680571 0.90831109]\n",
      " [0.8184     0.8194    ]]\n",
      "rec time now 1 dataset now: Syn3\n"
     ]
    },
    {
     "name": "stderr",
     "output_type": "stream",
     "text": [
      "TPR mean: 100.0%  std: 0.0%\n",
      "FDR mean: 0.0%  std: 0.0%\n"
     ]
    },
    {
     "name": "stdout",
     "output_type": "stream",
     "text": [
      "[[0.90122154 0.90238914]\n",
      " [0.90680571 0.90831109]\n",
      " [0.8184     0.8194    ]]\n",
      "rec time now 2 dataset now: Syn3\n"
     ]
    },
    {
     "name": "stderr",
     "output_type": "stream",
     "text": [
      "TPR mean: 100.0%  std: 0.0%\n",
      "FDR mean: 0.0%  std: 0.0%\n"
     ]
    },
    {
     "name": "stdout",
     "output_type": "stream",
     "text": [
      "[[0.90122154 0.90238914]\n",
      " [0.90680571 0.90831109]\n",
      " [0.8184     0.8194    ]]\n",
      "rec time now 3 dataset now: Syn3\n"
     ]
    },
    {
     "name": "stderr",
     "output_type": "stream",
     "text": [
      "TPR mean: 100.0%  std: 0.0%\n",
      "FDR mean: 0.0%  std: 0.0%\n",
      "Epoch:      0, d_loss (Acc)): 0.388, v_loss (Acc): 0.370, g_loss: -0.0072\n"
     ]
    },
    {
     "name": "stdout",
     "output_type": "stream",
     "text": [
      "[[0.90122154 0.90238914]\n",
      " [0.90680571 0.90831109]\n",
      " [0.8184     0.8194    ]]\n",
      "now at training epoch number 1200 hyp-params: lamda 0.1000 prior 0.0000\n",
      "rec time now 0 dataset now: Syn3\n"
     ]
    },
    {
     "name": "stderr",
     "output_type": "stream",
     "text": [
      "TPR mean: 100.0%  std: 0.0%\n",
      "FDR mean: 0.0%  std: 0.0%\n"
     ]
    },
    {
     "name": "stdout",
     "output_type": "stream",
     "text": [
      "[[0.90053711 0.90348398]\n",
      " [0.90639025 0.90912699]\n",
      " [0.8182     0.8199    ]]\n",
      "rec time now 1 dataset now: Syn3\n"
     ]
    },
    {
     "name": "stderr",
     "output_type": "stream",
     "text": [
      "TPR mean: 100.0%  std: 0.0%\n",
      "FDR mean: 0.0%  std: 0.0%\n"
     ]
    },
    {
     "name": "stdout",
     "output_type": "stream",
     "text": [
      "[[0.90053711 0.90348398]\n",
      " [0.90639025 0.90912699]\n",
      " [0.8182     0.8199    ]]\n",
      "rec time now 2 dataset now: Syn3\n"
     ]
    },
    {
     "name": "stderr",
     "output_type": "stream",
     "text": [
      "TPR mean: 100.0%  std: 0.0%\n",
      "FDR mean: 0.0%  std: 0.0%\n"
     ]
    },
    {
     "name": "stdout",
     "output_type": "stream",
     "text": [
      "[[0.90053711 0.90348398]\n",
      " [0.90639025 0.90912699]\n",
      " [0.8182     0.8199    ]]\n",
      "rec time now 3 dataset now: Syn3\n"
     ]
    },
    {
     "name": "stderr",
     "output_type": "stream",
     "text": [
      "TPR mean: 100.0%  std: 0.0%\n",
      "FDR mean: 0.0%  std: 0.0%\n",
      "Epoch:      0, d_loss (Acc)): 0.403, v_loss (Acc): 0.390, g_loss: -0.0029\n"
     ]
    },
    {
     "name": "stdout",
     "output_type": "stream",
     "text": [
      "[[0.90053711 0.90348398]\n",
      " [0.90639025 0.90912699]\n",
      " [0.8182     0.8199    ]]\n",
      "now at training epoch number 1300 hyp-params: lamda 0.1000 prior 0.0000\n",
      "rec time now 0 dataset now: Syn3\n"
     ]
    },
    {
     "name": "stderr",
     "output_type": "stream",
     "text": [
      "TPR mean: 100.0%  std: 0.0%\n",
      "FDR mean: 0.0%  std: 0.0%\n"
     ]
    },
    {
     "name": "stdout",
     "output_type": "stream",
     "text": [
      "[[0.90024447 0.90337159]\n",
      " [0.90545761 0.90880181]\n",
      " [0.8169     0.8199    ]]\n",
      "rec time now 1 dataset now: Syn3\n"
     ]
    },
    {
     "name": "stderr",
     "output_type": "stream",
     "text": [
      "TPR mean: 100.0%  std: 0.0%\n",
      "FDR mean: 0.0%  std: 0.0%\n"
     ]
    },
    {
     "name": "stdout",
     "output_type": "stream",
     "text": [
      "[[0.90024447 0.90337159]\n",
      " [0.90545761 0.90880181]\n",
      " [0.8169     0.8199    ]]\n",
      "rec time now 2 dataset now: Syn3\n"
     ]
    },
    {
     "name": "stderr",
     "output_type": "stream",
     "text": [
      "TPR mean: 100.0%  std: 0.0%\n",
      "FDR mean: 0.0%  std: 0.0%\n"
     ]
    },
    {
     "name": "stdout",
     "output_type": "stream",
     "text": [
      "[[0.90024447 0.90337159]\n",
      " [0.90545761 0.90880181]\n",
      " [0.8169     0.8199    ]]\n",
      "rec time now 3 dataset now: Syn3\n"
     ]
    },
    {
     "name": "stderr",
     "output_type": "stream",
     "text": [
      "TPR mean: 100.0%  std: 0.0%\n",
      "FDR mean: 0.0%  std: 0.0%\n",
      "Epoch:      0, d_loss (Acc)): 0.392, v_loss (Acc): 0.372, g_loss: +0.0101\n"
     ]
    },
    {
     "name": "stdout",
     "output_type": "stream",
     "text": [
      "[[0.90024447 0.90337159]\n",
      " [0.90545761 0.90880181]\n",
      " [0.8169     0.8199    ]]\n",
      "now at training epoch number 1400 hyp-params: lamda 0.1000 prior 0.0000\n",
      "rec time now 0 dataset now: Syn3\n"
     ]
    },
    {
     "name": "stderr",
     "output_type": "stream",
     "text": [
      "TPR mean: 100.0%  std: 0.0%\n",
      "FDR mean: 0.0%  std: 0.0%\n"
     ]
    },
    {
     "name": "stdout",
     "output_type": "stream",
     "text": [
      "[[0.90119509 0.90382259]\n",
      " [0.90659114 0.90944785]\n",
      " [0.8187     0.8201    ]]\n",
      "rec time now 1 dataset now: Syn3\n"
     ]
    },
    {
     "name": "stderr",
     "output_type": "stream",
     "text": [
      "TPR mean: 100.0%  std: 0.0%\n",
      "FDR mean: 0.0%  std: 0.0%\n"
     ]
    },
    {
     "name": "stdout",
     "output_type": "stream",
     "text": [
      "[[0.90119509 0.90382259]\n",
      " [0.90659114 0.90944785]\n",
      " [0.8187     0.8201    ]]\n",
      "rec time now 2 dataset now: Syn3\n"
     ]
    },
    {
     "name": "stderr",
     "output_type": "stream",
     "text": [
      "TPR mean: 100.0%  std: 0.0%\n",
      "FDR mean: 0.0%  std: 0.0%\n"
     ]
    },
    {
     "name": "stdout",
     "output_type": "stream",
     "text": [
      "[[0.90119509 0.90382259]\n",
      " [0.90659114 0.90944785]\n",
      " [0.8187     0.8201    ]]\n",
      "rec time now 3 dataset now: Syn3\n"
     ]
    },
    {
     "name": "stderr",
     "output_type": "stream",
     "text": [
      "TPR mean: 100.0%  std: 0.0%\n",
      "FDR mean: 0.0%  std: 0.0%\n",
      "Epoch:      0, d_loss (Acc)): 0.407, v_loss (Acc): 0.376, g_loss: +0.0202\n"
     ]
    },
    {
     "name": "stdout",
     "output_type": "stream",
     "text": [
      "[[0.90119509 0.90382259]\n",
      " [0.90659114 0.90944785]\n",
      " [0.8187     0.8201    ]]\n",
      "now at training epoch number 1500 hyp-params: lamda 0.1000 prior 0.0000\n",
      "rec time now 0 dataset now: Syn3\n"
     ]
    },
    {
     "name": "stderr",
     "output_type": "stream",
     "text": [
      "TPR mean: 100.0%  std: 0.0%\n",
      "FDR mean: 0.0%  std: 0.0%\n"
     ]
    },
    {
     "name": "stdout",
     "output_type": "stream",
     "text": [
      "[[0.90043318 0.90411723]\n",
      " [0.90598943 0.90960431]\n",
      " [0.8171     0.8213    ]]\n",
      "rec time now 1 dataset now: Syn3\n"
     ]
    },
    {
     "name": "stderr",
     "output_type": "stream",
     "text": [
      "TPR mean: 100.0%  std: 0.0%\n",
      "FDR mean: 0.0%  std: 0.0%\n"
     ]
    },
    {
     "name": "stdout",
     "output_type": "stream",
     "text": [
      "[[0.90043318 0.90411723]\n",
      " [0.90598943 0.90960431]\n",
      " [0.8171     0.8213    ]]\n",
      "rec time now 2 dataset now: Syn3\n"
     ]
    },
    {
     "name": "stderr",
     "output_type": "stream",
     "text": [
      "TPR mean: 100.0%  std: 0.0%\n",
      "FDR mean: 0.0%  std: 0.0%\n"
     ]
    },
    {
     "name": "stdout",
     "output_type": "stream",
     "text": [
      "[[0.90043318 0.90411723]\n",
      " [0.90598943 0.90960431]\n",
      " [0.8171     0.8213    ]]\n",
      "rec time now 3 dataset now: Syn3\n"
     ]
    },
    {
     "name": "stderr",
     "output_type": "stream",
     "text": [
      "TPR mean: 100.0%  std: 0.0%\n",
      "FDR mean: 0.0%  std: 0.0%\n",
      "Epoch:      0, d_loss (Acc)): 0.391, v_loss (Acc): 0.366, g_loss: +0.0030\n"
     ]
    },
    {
     "name": "stdout",
     "output_type": "stream",
     "text": [
      "[[0.90043318 0.90411723]\n",
      " [0.90598943 0.90960431]\n",
      " [0.8171     0.8213    ]]\n",
      "now at training epoch number 1600 hyp-params: lamda 0.1000 prior 0.0000\n",
      "rec time now 0 dataset now: Syn3\n"
     ]
    },
    {
     "name": "stderr",
     "output_type": "stream",
     "text": [
      "TPR mean: 100.0%  std: 0.0%\n",
      "FDR mean: 0.0%  std: 0.0%\n"
     ]
    },
    {
     "name": "stdout",
     "output_type": "stream",
     "text": [
      "[[0.89897446 0.90311123]\n",
      " [0.90470431 0.90876988]\n",
      " [0.8169     0.8202    ]]\n",
      "rec time now 1 dataset now: Syn3\n"
     ]
    },
    {
     "name": "stderr",
     "output_type": "stream",
     "text": [
      "TPR mean: 100.0%  std: 0.0%\n",
      "FDR mean: 0.0%  std: 0.0%\n"
     ]
    },
    {
     "name": "stdout",
     "output_type": "stream",
     "text": [
      "[[0.89897446 0.90311123]\n",
      " [0.90470431 0.90876988]\n",
      " [0.8169     0.8202    ]]\n",
      "rec time now 2 dataset now: Syn3\n"
     ]
    },
    {
     "name": "stderr",
     "output_type": "stream",
     "text": [
      "TPR mean: 100.0%  std: 0.0%\n",
      "FDR mean: 0.0%  std: 0.0%\n"
     ]
    },
    {
     "name": "stdout",
     "output_type": "stream",
     "text": [
      "[[0.89897446 0.90311123]\n",
      " [0.90470431 0.90876988]\n",
      " [0.8169     0.8202    ]]\n",
      "rec time now 3 dataset now: Syn3\n"
     ]
    },
    {
     "name": "stderr",
     "output_type": "stream",
     "text": [
      "TPR mean: 100.0%  std: 0.0%\n",
      "FDR mean: 0.0%  std: 0.0%\n",
      "Epoch:      0, d_loss (Acc)): 0.371, v_loss (Acc): 0.358, g_loss: +0.0102\n"
     ]
    },
    {
     "name": "stdout",
     "output_type": "stream",
     "text": [
      "[[0.89897446 0.90311123]\n",
      " [0.90470431 0.90876988]\n",
      " [0.8169     0.8202    ]]\n",
      "now at training epoch number 1700 hyp-params: lamda 0.1000 prior 0.0000\n",
      "rec time now 0 dataset now: Syn3\n"
     ]
    },
    {
     "name": "stderr",
     "output_type": "stream",
     "text": [
      "TPR mean: 100.0%  std: 0.0%\n",
      "FDR mean: 0.0%  std: 0.0%\n"
     ]
    },
    {
     "name": "stdout",
     "output_type": "stream",
     "text": [
      "[[0.89970303 0.90425397]\n",
      " [0.90547569 0.91005588]\n",
      " [0.8187     0.8202    ]]\n",
      "rec time now 1 dataset now: Syn3\n"
     ]
    },
    {
     "name": "stderr",
     "output_type": "stream",
     "text": [
      "TPR mean: 100.0%  std: 0.0%\n",
      "FDR mean: 0.0%  std: 0.0%\n"
     ]
    },
    {
     "name": "stdout",
     "output_type": "stream",
     "text": [
      "[[0.89970303 0.90425397]\n",
      " [0.90547569 0.91005588]\n",
      " [0.8187     0.8202    ]]\n",
      "rec time now 2 dataset now: Syn3\n"
     ]
    },
    {
     "name": "stderr",
     "output_type": "stream",
     "text": [
      "TPR mean: 100.0%  std: 0.0%\n",
      "FDR mean: 0.0%  std: 0.0%\n"
     ]
    },
    {
     "name": "stdout",
     "output_type": "stream",
     "text": [
      "[[0.89970303 0.90425397]\n",
      " [0.90547569 0.91005588]\n",
      " [0.8187     0.8202    ]]\n",
      "rec time now 3 dataset now: Syn3\n"
     ]
    },
    {
     "name": "stderr",
     "output_type": "stream",
     "text": [
      "TPR mean: 100.0%  std: 0.0%\n",
      "FDR mean: 0.0%  std: 0.0%\n",
      "Epoch:      0, d_loss (Acc)): 0.384, v_loss (Acc): 0.365, g_loss: -0.0121\n"
     ]
    },
    {
     "name": "stdout",
     "output_type": "stream",
     "text": [
      "[[0.89970303 0.90425397]\n",
      " [0.90547569 0.91005588]\n",
      " [0.8187     0.8202    ]]\n",
      "now at training epoch number 1800 hyp-params: lamda 0.1000 prior 0.0000\n",
      "rec time now 0 dataset now: Syn3\n"
     ]
    },
    {
     "name": "stderr",
     "output_type": "stream",
     "text": [
      "TPR mean: 100.0%  std: 0.0%\n",
      "FDR mean: 0.0%  std: 0.0%\n"
     ]
    },
    {
     "name": "stdout",
     "output_type": "stream",
     "text": [
      "[[0.89995025 0.90422539]\n",
      " [0.90554897 0.91007079]\n",
      " [0.8167     0.821     ]]\n",
      "rec time now 1 dataset now: Syn3\n"
     ]
    },
    {
     "name": "stderr",
     "output_type": "stream",
     "text": [
      "TPR mean: 100.0%  std: 0.0%\n",
      "FDR mean: 0.0%  std: 0.0%\n"
     ]
    },
    {
     "name": "stdout",
     "output_type": "stream",
     "text": [
      "[[0.89995025 0.90422539]\n",
      " [0.90554897 0.91007079]\n",
      " [0.8167     0.821     ]]\n",
      "rec time now 2 dataset now: Syn3\n"
     ]
    },
    {
     "name": "stderr",
     "output_type": "stream",
     "text": [
      "TPR mean: 100.0%  std: 0.0%\n",
      "FDR mean: 0.0%  std: 0.0%\n"
     ]
    },
    {
     "name": "stdout",
     "output_type": "stream",
     "text": [
      "[[0.89995025 0.90422539]\n",
      " [0.90554897 0.91007079]\n",
      " [0.8167     0.821     ]]\n",
      "rec time now 3 dataset now: Syn3\n"
     ]
    },
    {
     "name": "stderr",
     "output_type": "stream",
     "text": [
      "TPR mean: 100.0%  std: 0.0%\n",
      "FDR mean: 0.0%  std: 0.0%\n",
      "Epoch:      0, d_loss (Acc)): 0.379, v_loss (Acc): 0.359, g_loss: +0.0229\n"
     ]
    },
    {
     "name": "stdout",
     "output_type": "stream",
     "text": [
      "[[0.89995025 0.90422539]\n",
      " [0.90554897 0.91007079]\n",
      " [0.8167     0.821     ]]\n",
      "now at training epoch number 1900 hyp-params: lamda 0.1000 prior 0.0000\n",
      "rec time now 0 dataset now: Syn3\n"
     ]
    },
    {
     "name": "stderr",
     "output_type": "stream",
     "text": [
      "TPR mean: 100.0%  std: 0.0%\n",
      "FDR mean: 0.0%  std: 0.0%\n"
     ]
    },
    {
     "name": "stdout",
     "output_type": "stream",
     "text": [
      "[[0.89908204 0.90402971]\n",
      " [0.90489216 0.90988188]\n",
      " [0.8168     0.8213    ]]\n",
      "rec time now 1 dataset now: Syn3\n"
     ]
    },
    {
     "name": "stderr",
     "output_type": "stream",
     "text": [
      "TPR mean: 100.0%  std: 0.0%\n",
      "FDR mean: 0.0%  std: 0.0%\n"
     ]
    },
    {
     "name": "stdout",
     "output_type": "stream",
     "text": [
      "[[0.89908204 0.90402971]\n",
      " [0.90489216 0.90988188]\n",
      " [0.8168     0.8213    ]]\n",
      "rec time now 2 dataset now: Syn3\n"
     ]
    },
    {
     "name": "stderr",
     "output_type": "stream",
     "text": [
      "TPR mean: 100.0%  std: 0.0%\n",
      "FDR mean: 0.0%  std: 0.0%\n"
     ]
    },
    {
     "name": "stdout",
     "output_type": "stream",
     "text": [
      "[[0.89908204 0.90402971]\n",
      " [0.90489216 0.90988188]\n",
      " [0.8168     0.8213    ]]\n",
      "rec time now 3 dataset now: Syn3\n"
     ]
    },
    {
     "name": "stderr",
     "output_type": "stream",
     "text": [
      "TPR mean: 100.0%  std: 0.0%\n",
      "FDR mean: 0.0%  std: 0.0%\n",
      "Epoch:      0, d_loss (Acc)): 0.408, v_loss (Acc): 0.395, g_loss: -0.0042\n"
     ]
    },
    {
     "name": "stdout",
     "output_type": "stream",
     "text": [
      "[[0.89908204 0.90402971]\n",
      " [0.90489216 0.90988188]\n",
      " [0.8168     0.8213    ]]\n",
      "now at training epoch number 2000 hyp-params: lamda 0.1000 prior 0.0000\n",
      "rec time now 0 dataset now: Syn3\n"
     ]
    },
    {
     "name": "stderr",
     "output_type": "stream",
     "text": [
      "TPR mean: 100.0%  std: 0.0%\n",
      "FDR mean: 0.0%  std: 0.0%\n"
     ]
    },
    {
     "name": "stdout",
     "output_type": "stream",
     "text": [
      "[[0.89665776 0.90274137]\n",
      " [0.9024477  0.90819971]\n",
      " [0.8136     0.8193    ]]\n",
      "rec time now 1 dataset now: Syn3\n"
     ]
    },
    {
     "name": "stderr",
     "output_type": "stream",
     "text": [
      "TPR mean: 100.0%  std: 0.0%\n",
      "FDR mean: 0.0%  std: 0.0%\n"
     ]
    },
    {
     "name": "stdout",
     "output_type": "stream",
     "text": [
      "[[0.89665776 0.90274137]\n",
      " [0.9024477  0.90819971]\n",
      " [0.8136     0.8193    ]]\n",
      "rec time now 2 dataset now: Syn3\n"
     ]
    },
    {
     "name": "stderr",
     "output_type": "stream",
     "text": [
      "TPR mean: 100.0%  std: 0.0%\n",
      "FDR mean: 0.0%  std: 0.0%\n"
     ]
    },
    {
     "name": "stdout",
     "output_type": "stream",
     "text": [
      "[[0.89665776 0.90274137]\n",
      " [0.9024477  0.90819971]\n",
      " [0.8136     0.8193    ]]\n",
      "rec time now 3 dataset now: Syn3\n"
     ]
    },
    {
     "name": "stderr",
     "output_type": "stream",
     "text": [
      "TPR mean: 100.0%  std: 0.0%\n",
      "FDR mean: 0.0%  std: 0.0%\n",
      "Epoch:      0, d_loss (Acc)): 0.395, v_loss (Acc): 0.365, g_loss: +0.0259\n"
     ]
    },
    {
     "name": "stdout",
     "output_type": "stream",
     "text": [
      "[[0.89665776 0.90274137]\n",
      " [0.9024477  0.90819971]\n",
      " [0.8136     0.8193    ]]\n",
      "now at training epoch number 2100 hyp-params: lamda 0.1000 prior 0.0000\n",
      "rec time now 0 dataset now: Syn3\n"
     ]
    },
    {
     "name": "stderr",
     "output_type": "stream",
     "text": [
      "TPR mean: 100.0%  std: 0.0%\n",
      "FDR mean: 0.0%  std: 0.0%\n"
     ]
    },
    {
     "name": "stdout",
     "output_type": "stream",
     "text": [
      "[[0.89851752 0.90383223]\n",
      " [0.90400263 0.90928215]\n",
      " [0.8146     0.8211    ]]\n",
      "rec time now 1 dataset now: Syn3\n"
     ]
    },
    {
     "name": "stderr",
     "output_type": "stream",
     "text": [
      "TPR mean: 100.0%  std: 0.0%\n",
      "FDR mean: 0.0%  std: 0.0%\n"
     ]
    },
    {
     "name": "stdout",
     "output_type": "stream",
     "text": [
      "[[0.89851752 0.90383223]\n",
      " [0.90400263 0.90928215]\n",
      " [0.8146     0.8211    ]]\n",
      "rec time now 2 dataset now: Syn3\n"
     ]
    },
    {
     "name": "stderr",
     "output_type": "stream",
     "text": [
      "TPR mean: 100.0%  std: 0.0%\n",
      "FDR mean: 0.0%  std: 0.0%\n"
     ]
    },
    {
     "name": "stdout",
     "output_type": "stream",
     "text": [
      "[[0.89851752 0.90383223]\n",
      " [0.90400263 0.90928215]\n",
      " [0.8146     0.8211    ]]\n",
      "rec time now 3 dataset now: Syn3\n"
     ]
    },
    {
     "name": "stderr",
     "output_type": "stream",
     "text": [
      "TPR mean: 100.0%  std: 0.0%\n",
      "FDR mean: 0.0%  std: 0.0%\n",
      "Epoch:      0, d_loss (Acc)): 0.399, v_loss (Acc): 0.370, g_loss: +0.0121\n"
     ]
    },
    {
     "name": "stdout",
     "output_type": "stream",
     "text": [
      "[[0.89851752 0.90383223]\n",
      " [0.90400263 0.90928215]\n",
      " [0.8146     0.8211    ]]\n",
      "now at training epoch number 2200 hyp-params: lamda 0.1000 prior 0.0000\n",
      "rec time now 0 dataset now: Syn3\n"
     ]
    },
    {
     "name": "stderr",
     "output_type": "stream",
     "text": [
      "TPR mean: 100.0%  std: 0.0%\n",
      "FDR mean: 0.0%  std: 0.0%\n"
     ]
    },
    {
     "name": "stdout",
     "output_type": "stream",
     "text": [
      "[[0.89892082 0.90471564]\n",
      " [0.90451308 0.91039116]\n",
      " [0.8157     0.8227    ]]\n",
      "rec time now 1 dataset now: Syn3\n"
     ]
    },
    {
     "name": "stderr",
     "output_type": "stream",
     "text": [
      "TPR mean: 100.0%  std: 0.0%\n",
      "FDR mean: 0.0%  std: 0.0%\n"
     ]
    },
    {
     "name": "stdout",
     "output_type": "stream",
     "text": [
      "[[0.89892082 0.90471564]\n",
      " [0.90451308 0.91039116]\n",
      " [0.8157     0.8227    ]]\n",
      "rec time now 2 dataset now: Syn3\n"
     ]
    },
    {
     "name": "stderr",
     "output_type": "stream",
     "text": [
      "TPR mean: 100.0%  std: 0.0%\n",
      "FDR mean: 0.0%  std: 0.0%\n"
     ]
    },
    {
     "name": "stdout",
     "output_type": "stream",
     "text": [
      "[[0.89892082 0.90471564]\n",
      " [0.90451308 0.91039116]\n",
      " [0.8157     0.8227    ]]\n",
      "rec time now 3 dataset now: Syn3\n"
     ]
    },
    {
     "name": "stderr",
     "output_type": "stream",
     "text": [
      "TPR mean: 100.0%  std: 0.0%\n",
      "FDR mean: 0.0%  std: 0.0%\n",
      "Epoch:      0, d_loss (Acc)): 0.375, v_loss (Acc): 0.348, g_loss: +0.0141\n"
     ]
    },
    {
     "name": "stdout",
     "output_type": "stream",
     "text": [
      "[[0.89892082 0.90471564]\n",
      " [0.90451308 0.91039116]\n",
      " [0.8157     0.8227    ]]\n",
      "now at training epoch number 2300 hyp-params: lamda 0.1000 prior 0.0000\n",
      "rec time now 0 dataset now: Syn3\n"
     ]
    },
    {
     "name": "stderr",
     "output_type": "stream",
     "text": [
      "TPR mean: 100.0%  std: 0.0%\n",
      "FDR mean: 0.0%  std: 0.0%\n"
     ]
    },
    {
     "name": "stdout",
     "output_type": "stream",
     "text": [
      "[[0.89807101 0.90436373]\n",
      " [0.90389239 0.91032344]\n",
      " [0.8144     0.8219    ]]\n",
      "rec time now 1 dataset now: Syn3\n"
     ]
    },
    {
     "name": "stderr",
     "output_type": "stream",
     "text": [
      "TPR mean: 100.0%  std: 0.0%\n",
      "FDR mean: 0.0%  std: 0.0%\n"
     ]
    },
    {
     "name": "stdout",
     "output_type": "stream",
     "text": [
      "[[0.89807101 0.90436373]\n",
      " [0.90389239 0.91032344]\n",
      " [0.8144     0.8219    ]]\n",
      "rec time now 2 dataset now: Syn3\n"
     ]
    },
    {
     "name": "stderr",
     "output_type": "stream",
     "text": [
      "TPR mean: 100.0%  std: 0.0%\n",
      "FDR mean: 0.0%  std: 0.0%\n"
     ]
    },
    {
     "name": "stdout",
     "output_type": "stream",
     "text": [
      "[[0.89807101 0.90436373]\n",
      " [0.90389239 0.91032344]\n",
      " [0.8144     0.8219    ]]\n",
      "rec time now 3 dataset now: Syn3\n"
     ]
    },
    {
     "name": "stderr",
     "output_type": "stream",
     "text": [
      "TPR mean: 100.0%  std: 0.0%\n",
      "FDR mean: 0.0%  std: 0.0%\n",
      "Epoch:      0, d_loss (Acc)): 0.414, v_loss (Acc): 0.386, g_loss: +0.0267\n"
     ]
    },
    {
     "name": "stdout",
     "output_type": "stream",
     "text": [
      "[[0.89807101 0.90436373]\n",
      " [0.90389239 0.91032344]\n",
      " [0.8144     0.8219    ]]\n",
      "now at training epoch number 2400 hyp-params: lamda 0.1000 prior 0.0000\n",
      "rec time now 0 dataset now: Syn3\n"
     ]
    },
    {
     "name": "stderr",
     "output_type": "stream",
     "text": [
      "TPR mean: 100.0%  std: 0.0%\n",
      "FDR mean: 0.0%  std: 0.0%\n"
     ]
    },
    {
     "name": "stdout",
     "output_type": "stream",
     "text": [
      "[[0.89723026 0.9039387 ]\n",
      " [0.90311513 0.90975201]\n",
      " [0.8128     0.8199    ]]\n",
      "rec time now 1 dataset now: Syn3\n"
     ]
    },
    {
     "name": "stderr",
     "output_type": "stream",
     "text": [
      "TPR mean: 100.0%  std: 0.0%\n",
      "FDR mean: 0.0%  std: 0.0%\n"
     ]
    },
    {
     "name": "stdout",
     "output_type": "stream",
     "text": [
      "[[0.89723026 0.9039387 ]\n",
      " [0.90311513 0.90975201]\n",
      " [0.8128     0.8199    ]]\n",
      "rec time now 2 dataset now: Syn3\n"
     ]
    },
    {
     "name": "stderr",
     "output_type": "stream",
     "text": [
      "TPR mean: 100.0%  std: 0.0%\n",
      "FDR mean: 0.0%  std: 0.0%\n"
     ]
    },
    {
     "name": "stdout",
     "output_type": "stream",
     "text": [
      "[[0.89723026 0.9039387 ]\n",
      " [0.90311513 0.90975201]\n",
      " [0.8128     0.8199    ]]\n",
      "rec time now 3 dataset now: Syn3\n"
     ]
    },
    {
     "name": "stderr",
     "output_type": "stream",
     "text": [
      "TPR mean: 100.0%  std: 0.0%\n",
      "FDR mean: 0.0%  std: 0.0%\n",
      "Epoch:      0, d_loss (Acc)): 0.371, v_loss (Acc): 0.343, g_loss: +0.0401\n"
     ]
    },
    {
     "name": "stdout",
     "output_type": "stream",
     "text": [
      "[[0.89723026 0.9039387 ]\n",
      " [0.90311513 0.90975201]\n",
      " [0.8128     0.8199    ]]\n",
      "now at training epoch number 2500 hyp-params: lamda 0.1000 prior 0.0000\n",
      "rec time now 0 dataset now: Syn3\n"
     ]
    },
    {
     "name": "stderr",
     "output_type": "stream",
     "text": [
      "TPR mean: 100.0%  std: 0.0%\n",
      "FDR mean: 0.0%  std: 0.0%\n"
     ]
    },
    {
     "name": "stdout",
     "output_type": "stream",
     "text": [
      "[[0.89893158 0.90431742]\n",
      " [0.90439712 0.91048812]\n",
      " [0.8165     0.8231    ]]\n",
      "rec time now 1 dataset now: Syn3\n"
     ]
    },
    {
     "name": "stderr",
     "output_type": "stream",
     "text": [
      "TPR mean: 100.0%  std: 0.0%\n",
      "FDR mean: 0.0%  std: 0.0%\n"
     ]
    },
    {
     "name": "stdout",
     "output_type": "stream",
     "text": [
      "[[0.89893158 0.90431742]\n",
      " [0.90439712 0.91048812]\n",
      " [0.8165     0.8231    ]]\n",
      "rec time now 2 dataset now: Syn3\n"
     ]
    },
    {
     "name": "stderr",
     "output_type": "stream",
     "text": [
      "TPR mean: 100.0%  std: 0.0%\n",
      "FDR mean: 0.0%  std: 0.0%\n"
     ]
    },
    {
     "name": "stdout",
     "output_type": "stream",
     "text": [
      "[[0.89893158 0.90431742]\n",
      " [0.90439712 0.91048812]\n",
      " [0.8165     0.8231    ]]\n",
      "rec time now 3 dataset now: Syn3\n"
     ]
    },
    {
     "name": "stderr",
     "output_type": "stream",
     "text": [
      "TPR mean: 100.0%  std: 0.0%\n",
      "FDR mean: 0.0%  std: 0.0%\n",
      "Epoch:      0, d_loss (Acc)): 0.378, v_loss (Acc): 0.346, g_loss: +0.0163\n"
     ]
    },
    {
     "name": "stdout",
     "output_type": "stream",
     "text": [
      "[[0.89893158 0.90431742]\n",
      " [0.90439712 0.91048812]\n",
      " [0.8165     0.8231    ]]\n",
      "now at training epoch number 2600 hyp-params: lamda 0.1000 prior 0.0000\n",
      "rec time now 0 dataset now: Syn3\n"
     ]
    },
    {
     "name": "stderr",
     "output_type": "stream",
     "text": [
      "TPR mean: 100.0%  std: 0.0%\n",
      "FDR mean: 0.0%  std: 0.0%\n"
     ]
    },
    {
     "name": "stdout",
     "output_type": "stream",
     "text": [
      "[[0.89684274 0.90464098]\n",
      " [0.90263749 0.91056734]\n",
      " [0.8156     0.8206    ]]\n",
      "rec time now 1 dataset now: Syn3\n"
     ]
    },
    {
     "name": "stderr",
     "output_type": "stream",
     "text": [
      "TPR mean: 100.0%  std: 0.0%\n",
      "FDR mean: 0.0%  std: 0.0%\n"
     ]
    },
    {
     "name": "stdout",
     "output_type": "stream",
     "text": [
      "[[0.89684274 0.90464098]\n",
      " [0.90263749 0.91056734]\n",
      " [0.8156     0.8206    ]]\n",
      "rec time now 2 dataset now: Syn3\n"
     ]
    },
    {
     "name": "stderr",
     "output_type": "stream",
     "text": [
      "TPR mean: 100.0%  std: 0.0%\n",
      "FDR mean: 0.0%  std: 0.0%\n"
     ]
    },
    {
     "name": "stdout",
     "output_type": "stream",
     "text": [
      "[[0.89684274 0.90464098]\n",
      " [0.90263749 0.91056734]\n",
      " [0.8156     0.8206    ]]\n",
      "rec time now 3 dataset now: Syn3\n"
     ]
    },
    {
     "name": "stderr",
     "output_type": "stream",
     "text": [
      "TPR mean: 100.0%  std: 0.0%\n",
      "FDR mean: 0.0%  std: 0.0%\n",
      "Epoch:      0, d_loss (Acc)): 0.378, v_loss (Acc): 0.351, g_loss: +0.0213\n"
     ]
    },
    {
     "name": "stdout",
     "output_type": "stream",
     "text": [
      "[[0.89684274 0.90464098]\n",
      " [0.90263749 0.91056734]\n",
      " [0.8156     0.8206    ]]\n",
      "now at training epoch number 2700 hyp-params: lamda 0.1000 prior 0.0000\n",
      "rec time now 0 dataset now: Syn3\n"
     ]
    },
    {
     "name": "stderr",
     "output_type": "stream",
     "text": [
      "TPR mean: 100.0%  std: 0.0%\n",
      "FDR mean: 0.0%  std: 0.0%\n"
     ]
    },
    {
     "name": "stdout",
     "output_type": "stream",
     "text": [
      "[[0.89770602 0.90452601]\n",
      " [0.90333186 0.91048851]\n",
      " [0.8153     0.8221    ]]\n",
      "rec time now 1 dataset now: Syn3\n"
     ]
    },
    {
     "name": "stderr",
     "output_type": "stream",
     "text": [
      "TPR mean: 100.0%  std: 0.0%\n",
      "FDR mean: 0.0%  std: 0.0%\n"
     ]
    },
    {
     "name": "stdout",
     "output_type": "stream",
     "text": [
      "[[0.89770602 0.90452601]\n",
      " [0.90333186 0.91048851]\n",
      " [0.8153     0.8221    ]]\n",
      "rec time now 2 dataset now: Syn3\n"
     ]
    },
    {
     "name": "stderr",
     "output_type": "stream",
     "text": [
      "TPR mean: 100.0%  std: 0.0%\n",
      "FDR mean: 0.0%  std: 0.0%\n"
     ]
    },
    {
     "name": "stdout",
     "output_type": "stream",
     "text": [
      "[[0.89770602 0.90452601]\n",
      " [0.90333186 0.91048851]\n",
      " [0.8153     0.8221    ]]\n",
      "rec time now 3 dataset now: Syn3\n"
     ]
    },
    {
     "name": "stderr",
     "output_type": "stream",
     "text": [
      "TPR mean: 100.0%  std: 0.0%\n",
      "FDR mean: 0.0%  std: 0.0%\n",
      "Epoch:      0, d_loss (Acc)): 0.400, v_loss (Acc): 0.376, g_loss: +0.0289\n"
     ]
    },
    {
     "name": "stdout",
     "output_type": "stream",
     "text": [
      "[[0.89770602 0.90452601]\n",
      " [0.90333186 0.91048851]\n",
      " [0.8153     0.8221    ]]\n",
      "now at training epoch number 2800 hyp-params: lamda 0.1000 prior 0.0000\n",
      "rec time now 0 dataset now: Syn3\n"
     ]
    },
    {
     "name": "stderr",
     "output_type": "stream",
     "text": [
      "TPR mean: 100.0%  std: 0.0%\n",
      "FDR mean: 0.0%  std: 0.0%\n"
     ]
    },
    {
     "name": "stdout",
     "output_type": "stream",
     "text": [
      "[[0.89744059 0.90494001]\n",
      " [0.90327851 0.91086151]\n",
      " [0.815      0.8218    ]]\n",
      "rec time now 1 dataset now: Syn3\n"
     ]
    },
    {
     "name": "stderr",
     "output_type": "stream",
     "text": [
      "TPR mean: 100.0%  std: 0.0%\n",
      "FDR mean: 0.0%  std: 0.0%\n"
     ]
    },
    {
     "name": "stdout",
     "output_type": "stream",
     "text": [
      "[[0.89744059 0.90494001]\n",
      " [0.90327851 0.91086151]\n",
      " [0.815      0.8218    ]]\n",
      "rec time now 2 dataset now: Syn3\n"
     ]
    },
    {
     "name": "stderr",
     "output_type": "stream",
     "text": [
      "TPR mean: 100.0%  std: 0.0%\n",
      "FDR mean: 0.0%  std: 0.0%\n"
     ]
    },
    {
     "name": "stdout",
     "output_type": "stream",
     "text": [
      "[[0.89744059 0.90494001]\n",
      " [0.90327851 0.91086151]\n",
      " [0.815      0.8218    ]]\n",
      "rec time now 3 dataset now: Syn3\n"
     ]
    },
    {
     "name": "stderr",
     "output_type": "stream",
     "text": [
      "TPR mean: 100.0%  std: 0.0%\n",
      "FDR mean: 0.0%  std: 0.0%\n",
      "Epoch:      0, d_loss (Acc)): 0.384, v_loss (Acc): 0.360, g_loss: +0.0273\n"
     ]
    },
    {
     "name": "stdout",
     "output_type": "stream",
     "text": [
      "[[0.89744059 0.90494001]\n",
      " [0.90327851 0.91086151]\n",
      " [0.815      0.8218    ]]\n",
      "now at training epoch number 2900 hyp-params: lamda 0.1000 prior 0.0000\n",
      "rec time now 0 dataset now: Syn3\n"
     ]
    },
    {
     "name": "stderr",
     "output_type": "stream",
     "text": [
      "TPR mean: 100.0%  std: 0.0%\n",
      "FDR mean: 0.0%  std: 0.0%\n"
     ]
    },
    {
     "name": "stdout",
     "output_type": "stream",
     "text": [
      "[[0.89624546 0.90449782]\n",
      " [0.90199383 0.91016435]\n",
      " [0.813      0.8218    ]]\n",
      "rec time now 1 dataset now: Syn3\n"
     ]
    },
    {
     "name": "stderr",
     "output_type": "stream",
     "text": [
      "TPR mean: 100.0%  std: 0.0%\n",
      "FDR mean: 0.0%  std: 0.0%\n"
     ]
    },
    {
     "name": "stdout",
     "output_type": "stream",
     "text": [
      "[[0.89624546 0.90449782]\n",
      " [0.90199383 0.91016435]\n",
      " [0.813      0.8218    ]]\n",
      "rec time now 2 dataset now: Syn3\n"
     ]
    },
    {
     "name": "stderr",
     "output_type": "stream",
     "text": [
      "TPR mean: 100.0%  std: 0.0%\n",
      "FDR mean: 0.0%  std: 0.0%\n"
     ]
    },
    {
     "name": "stdout",
     "output_type": "stream",
     "text": [
      "[[0.89624546 0.90449782]\n",
      " [0.90199383 0.91016435]\n",
      " [0.813      0.8218    ]]\n",
      "rec time now 3 dataset now: Syn3\n"
     ]
    },
    {
     "name": "stderr",
     "output_type": "stream",
     "text": [
      "TPR mean: 100.0%  std: 0.0%\n",
      "FDR mean: 0.0%  std: 0.0%\n",
      "Epoch:      0, d_loss (Acc)): 0.356, v_loss (Acc): 0.317, g_loss: +0.0269\n"
     ]
    },
    {
     "name": "stdout",
     "output_type": "stream",
     "text": [
      "[[0.89624546 0.90449782]\n",
      " [0.90199383 0.91016435]\n",
      " [0.813      0.8218    ]]\n",
      "now at training epoch number 3000 hyp-params: lamda 0.1000 prior 0.0000\n",
      "rec time now 0 dataset now: Syn3\n"
     ]
    },
    {
     "name": "stderr",
     "output_type": "stream",
     "text": [
      "TPR mean: 100.0%  std: 0.0%\n",
      "FDR mean: 0.0%  std: 0.0%\n"
     ]
    },
    {
     "name": "stdout",
     "output_type": "stream",
     "text": [
      "[[0.89691878 0.90511384]\n",
      " [0.90268532 0.91095726]\n",
      " [0.815      0.8224    ]]\n",
      "rec time now 1 dataset now: Syn3\n"
     ]
    },
    {
     "name": "stderr",
     "output_type": "stream",
     "text": [
      "TPR mean: 100.0%  std: 0.0%\n",
      "FDR mean: 0.0%  std: 0.0%\n"
     ]
    },
    {
     "name": "stdout",
     "output_type": "stream",
     "text": [
      "[[0.89691878 0.90511384]\n",
      " [0.90268532 0.91095726]\n",
      " [0.815      0.8224    ]]\n",
      "rec time now 2 dataset now: Syn3\n"
     ]
    },
    {
     "name": "stderr",
     "output_type": "stream",
     "text": [
      "TPR mean: 100.0%  std: 0.0%\n",
      "FDR mean: 0.0%  std: 0.0%\n"
     ]
    },
    {
     "name": "stdout",
     "output_type": "stream",
     "text": [
      "[[0.89691878 0.90511384]\n",
      " [0.90268532 0.91095726]\n",
      " [0.815      0.8224    ]]\n",
      "rec time now 3 dataset now: Syn3\n"
     ]
    },
    {
     "name": "stderr",
     "output_type": "stream",
     "text": [
      "TPR mean: 100.0%  std: 0.0%\n",
      "FDR mean: 0.0%  std: 0.0%\n",
      "Epoch:      0, d_loss (Acc)): 0.384, v_loss (Acc): 0.368, g_loss: +0.0349\n"
     ]
    },
    {
     "name": "stdout",
     "output_type": "stream",
     "text": [
      "[[0.89691878 0.90511384]\n",
      " [0.90268532 0.91095726]\n",
      " [0.815      0.8224    ]]\n",
      "now at training epoch number 3100 hyp-params: lamda 0.1000 prior 0.0000\n",
      "rec time now 0 dataset now: Syn3\n"
     ]
    },
    {
     "name": "stderr",
     "output_type": "stream",
     "text": [
      "TPR mean: 100.0%  std: 0.0%\n",
      "FDR mean: 0.0%  std: 0.0%\n"
     ]
    },
    {
     "name": "stdout",
     "output_type": "stream",
     "text": [
      "[[0.8969604  0.90483957]\n",
      " [0.90294422 0.91060897]\n",
      " [0.8147     0.8217    ]]\n",
      "rec time now 1 dataset now: Syn3\n"
     ]
    },
    {
     "name": "stderr",
     "output_type": "stream",
     "text": [
      "TPR mean: 100.0%  std: 0.0%\n",
      "FDR mean: 0.0%  std: 0.0%\n"
     ]
    },
    {
     "name": "stdout",
     "output_type": "stream",
     "text": [
      "[[0.8969604  0.90483957]\n",
      " [0.90294422 0.91060897]\n",
      " [0.8147     0.8217    ]]\n",
      "rec time now 2 dataset now: Syn3\n"
     ]
    },
    {
     "name": "stderr",
     "output_type": "stream",
     "text": [
      "TPR mean: 100.0%  std: 0.0%\n",
      "FDR mean: 0.0%  std: 0.0%\n"
     ]
    },
    {
     "name": "stdout",
     "output_type": "stream",
     "text": [
      "[[0.8969604  0.90483957]\n",
      " [0.90294422 0.91060897]\n",
      " [0.8147     0.8217    ]]\n",
      "rec time now 3 dataset now: Syn3\n"
     ]
    },
    {
     "name": "stderr",
     "output_type": "stream",
     "text": [
      "TPR mean: 100.0%  std: 0.0%\n",
      "FDR mean: 0.0%  std: 0.0%\n",
      "Epoch:      0, d_loss (Acc)): 0.384, v_loss (Acc): 0.372, g_loss: +0.0365\n"
     ]
    },
    {
     "name": "stdout",
     "output_type": "stream",
     "text": [
      "[[0.8969604  0.90483957]\n",
      " [0.90294422 0.91060897]\n",
      " [0.8147     0.8217    ]]\n",
      "now at training epoch number 3200 hyp-params: lamda 0.1000 prior 0.0000\n",
      "rec time now 0 dataset now: Syn3\n"
     ]
    },
    {
     "name": "stderr",
     "output_type": "stream",
     "text": [
      "TPR mean: 100.0%  std: 0.0%\n",
      "FDR mean: 0.0%  std: 0.0%\n"
     ]
    },
    {
     "name": "stdout",
     "output_type": "stream",
     "text": [
      "[[0.89629024 0.9038264 ]\n",
      " [0.90209303 0.90961469]\n",
      " [0.8116     0.8192    ]]\n",
      "rec time now 1 dataset now: Syn3\n"
     ]
    },
    {
     "name": "stderr",
     "output_type": "stream",
     "text": [
      "TPR mean: 100.0%  std: 0.0%\n",
      "FDR mean: 0.0%  std: 0.0%\n"
     ]
    },
    {
     "name": "stdout",
     "output_type": "stream",
     "text": [
      "[[0.89629024 0.9038264 ]\n",
      " [0.90209303 0.90961469]\n",
      " [0.8116     0.8192    ]]\n",
      "rec time now 2 dataset now: Syn3\n"
     ]
    },
    {
     "name": "stderr",
     "output_type": "stream",
     "text": [
      "TPR mean: 100.0%  std: 0.0%\n",
      "FDR mean: 0.0%  std: 0.0%\n"
     ]
    },
    {
     "name": "stdout",
     "output_type": "stream",
     "text": [
      "[[0.89629024 0.9038264 ]\n",
      " [0.90209303 0.90961469]\n",
      " [0.8116     0.8192    ]]\n",
      "rec time now 3 dataset now: Syn3\n"
     ]
    },
    {
     "name": "stderr",
     "output_type": "stream",
     "text": [
      "TPR mean: 100.0%  std: 0.0%\n",
      "FDR mean: 0.0%  std: 0.0%\n",
      "Epoch:      0, d_loss (Acc)): 0.378, v_loss (Acc): 0.344, g_loss: +0.0364\n"
     ]
    },
    {
     "name": "stdout",
     "output_type": "stream",
     "text": [
      "[[0.89629024 0.9038264 ]\n",
      " [0.90209303 0.90961469]\n",
      " [0.8116     0.8192    ]]\n",
      "now at training epoch number 3300 hyp-params: lamda 0.1000 prior 0.0000\n",
      "rec time now 0 dataset now: Syn3\n"
     ]
    },
    {
     "name": "stderr",
     "output_type": "stream",
     "text": [
      "TPR mean: 100.0%  std: 0.0%\n",
      "FDR mean: 0.0%  std: 0.0%\n"
     ]
    },
    {
     "name": "stdout",
     "output_type": "stream",
     "text": [
      "[[0.89525853 0.90363779]\n",
      " [0.90141596 0.9095174 ]\n",
      " [0.812      0.8189    ]]\n",
      "rec time now 1 dataset now: Syn3\n"
     ]
    },
    {
     "name": "stderr",
     "output_type": "stream",
     "text": [
      "TPR mean: 100.0%  std: 0.0%\n",
      "FDR mean: 0.0%  std: 0.0%\n"
     ]
    },
    {
     "name": "stdout",
     "output_type": "stream",
     "text": [
      "[[0.89525853 0.90363779]\n",
      " [0.90141596 0.9095174 ]\n",
      " [0.812      0.8189    ]]\n",
      "rec time now 2 dataset now: Syn3\n"
     ]
    },
    {
     "name": "stderr",
     "output_type": "stream",
     "text": [
      "TPR mean: 100.0%  std: 0.0%\n",
      "FDR mean: 0.0%  std: 0.0%\n"
     ]
    },
    {
     "name": "stdout",
     "output_type": "stream",
     "text": [
      "[[0.89525853 0.90363779]\n",
      " [0.90141596 0.9095174 ]\n",
      " [0.812      0.8189    ]]\n",
      "rec time now 3 dataset now: Syn3\n"
     ]
    },
    {
     "name": "stderr",
     "output_type": "stream",
     "text": [
      "TPR mean: 100.0%  std: 0.0%\n",
      "FDR mean: 0.0%  std: 0.0%\n",
      "Epoch:      0, d_loss (Acc)): 0.363, v_loss (Acc): 0.321, g_loss: +0.0155\n"
     ]
    },
    {
     "name": "stdout",
     "output_type": "stream",
     "text": [
      "[[0.89525853 0.90363779]\n",
      " [0.90141596 0.9095174 ]\n",
      " [0.812      0.8189    ]]\n",
      "now at training epoch number 3400 hyp-params: lamda 0.1000 prior 0.0000\n",
      "rec time now 0 dataset now: Syn3\n"
     ]
    },
    {
     "name": "stderr",
     "output_type": "stream",
     "text": [
      "TPR mean: 100.0%  std: 0.0%\n",
      "FDR mean: 0.0%  std: 0.0%\n"
     ]
    },
    {
     "name": "stdout",
     "output_type": "stream",
     "text": [
      "[[0.89560373 0.90365766]\n",
      " [0.90187956 0.90977382]\n",
      " [0.813      0.8196    ]]\n",
      "rec time now 1 dataset now: Syn3\n"
     ]
    },
    {
     "name": "stderr",
     "output_type": "stream",
     "text": [
      "TPR mean: 100.0%  std: 0.0%\n",
      "FDR mean: 0.0%  std: 0.0%\n"
     ]
    },
    {
     "name": "stdout",
     "output_type": "stream",
     "text": [
      "[[0.89560373 0.90365766]\n",
      " [0.90187956 0.90977382]\n",
      " [0.813      0.8196    ]]\n",
      "rec time now 2 dataset now: Syn3\n"
     ]
    },
    {
     "name": "stderr",
     "output_type": "stream",
     "text": [
      "TPR mean: 100.0%  std: 0.0%\n",
      "FDR mean: 0.0%  std: 0.0%\n"
     ]
    },
    {
     "name": "stdout",
     "output_type": "stream",
     "text": [
      "[[0.89560373 0.90365766]\n",
      " [0.90187956 0.90977382]\n",
      " [0.813      0.8196    ]]\n",
      "rec time now 3 dataset now: Syn3\n"
     ]
    },
    {
     "name": "stderr",
     "output_type": "stream",
     "text": [
      "TPR mean: 100.0%  std: 0.0%\n",
      "FDR mean: 0.0%  std: 0.0%\n",
      "Epoch:      0, d_loss (Acc)): 0.368, v_loss (Acc): 0.316, g_loss: +0.0365\n"
     ]
    },
    {
     "name": "stdout",
     "output_type": "stream",
     "text": [
      "[[0.89560373 0.90365766]\n",
      " [0.90187956 0.90977382]\n",
      " [0.813      0.8196    ]]\n",
      "now at training epoch number 3500 hyp-params: lamda 0.1000 prior 0.0000\n",
      "rec time now 0 dataset now: Syn3\n"
     ]
    },
    {
     "name": "stderr",
     "output_type": "stream",
     "text": [
      "TPR mean: 100.0%  std: 0.0%\n",
      "FDR mean: 0.0%  std: 0.0%\n"
     ]
    },
    {
     "name": "stdout",
     "output_type": "stream",
     "text": [
      "[[0.8956109  0.90515495]\n",
      " [0.90159211 0.91104467]\n",
      " [0.8136     0.8214    ]]\n",
      "rec time now 1 dataset now: Syn3\n"
     ]
    },
    {
     "name": "stderr",
     "output_type": "stream",
     "text": [
      "TPR mean: 100.0%  std: 0.0%\n",
      "FDR mean: 0.0%  std: 0.0%\n"
     ]
    },
    {
     "name": "stdout",
     "output_type": "stream",
     "text": [
      "[[0.8956109  0.90515495]\n",
      " [0.90159211 0.91104467]\n",
      " [0.8136     0.8214    ]]\n",
      "rec time now 2 dataset now: Syn3\n"
     ]
    },
    {
     "name": "stderr",
     "output_type": "stream",
     "text": [
      "TPR mean: 100.0%  std: 0.0%\n",
      "FDR mean: 0.0%  std: 0.0%\n"
     ]
    },
    {
     "name": "stdout",
     "output_type": "stream",
     "text": [
      "[[0.8956109  0.90515495]\n",
      " [0.90159211 0.91104467]\n",
      " [0.8136     0.8214    ]]\n",
      "rec time now 3 dataset now: Syn3\n"
     ]
    },
    {
     "name": "stderr",
     "output_type": "stream",
     "text": [
      "TPR mean: 100.0%  std: 0.0%\n",
      "FDR mean: 0.0%  std: 0.0%\n",
      "Epoch:      0, d_loss (Acc)): 0.378, v_loss (Acc): 0.347, g_loss: +0.0236\n"
     ]
    },
    {
     "name": "stdout",
     "output_type": "stream",
     "text": [
      "[[0.8956109  0.90515495]\n",
      " [0.90159211 0.91104467]\n",
      " [0.8136     0.8214    ]]\n",
      "now at training epoch number 3600 hyp-params: lamda 0.1000 prior 0.0000\n",
      "rec time now 0 dataset now: Syn3\n"
     ]
    },
    {
     "name": "stderr",
     "output_type": "stream",
     "text": [
      "TPR mean: 100.0%  std: 0.0%\n",
      "FDR mean: 0.0%  std: 0.0%\n"
     ]
    },
    {
     "name": "stdout",
     "output_type": "stream",
     "text": [
      "[[0.89663031 0.90558755]\n",
      " [0.90266561 0.91159649]\n",
      " [0.8135     0.8214    ]]\n",
      "rec time now 1 dataset now: Syn3\n"
     ]
    },
    {
     "name": "stderr",
     "output_type": "stream",
     "text": [
      "TPR mean: 100.0%  std: 0.0%\n",
      "FDR mean: 0.0%  std: 0.0%\n"
     ]
    },
    {
     "name": "stdout",
     "output_type": "stream",
     "text": [
      "[[0.89663031 0.90558755]\n",
      " [0.90266561 0.91159649]\n",
      " [0.8135     0.8214    ]]\n",
      "rec time now 2 dataset now: Syn3\n"
     ]
    },
    {
     "name": "stderr",
     "output_type": "stream",
     "text": [
      "TPR mean: 100.0%  std: 0.0%\n",
      "FDR mean: 0.0%  std: 0.0%\n"
     ]
    },
    {
     "name": "stdout",
     "output_type": "stream",
     "text": [
      "[[0.89663031 0.90558755]\n",
      " [0.90266561 0.91159649]\n",
      " [0.8135     0.8214    ]]\n",
      "rec time now 3 dataset now: Syn3\n"
     ]
    },
    {
     "name": "stderr",
     "output_type": "stream",
     "text": [
      "TPR mean: 100.0%  std: 0.0%\n",
      "FDR mean: 0.0%  std: 0.0%\n",
      "Epoch:      0, d_loss (Acc)): 0.389, v_loss (Acc): 0.350, g_loss: +0.0339\n"
     ]
    },
    {
     "name": "stdout",
     "output_type": "stream",
     "text": [
      "[[0.89663031 0.90558755]\n",
      " [0.90266561 0.91159649]\n",
      " [0.8135     0.8214    ]]\n",
      "now at training epoch number 3700 hyp-params: lamda 0.1000 prior 0.0000\n",
      "rec time now 0 dataset now: Syn3\n"
     ]
    },
    {
     "name": "stderr",
     "output_type": "stream",
     "text": [
      "TPR mean: 100.0%  std: 0.0%\n",
      "FDR mean: 0.0%  std: 0.0%\n"
     ]
    },
    {
     "name": "stdout",
     "output_type": "stream",
     "text": [
      "[[0.89597109 0.90525686]\n",
      " [0.90191404 0.91125275]\n",
      " [0.8131     0.823     ]]\n",
      "rec time now 1 dataset now: Syn3\n"
     ]
    },
    {
     "name": "stderr",
     "output_type": "stream",
     "text": [
      "TPR mean: 100.0%  std: 0.0%\n",
      "FDR mean: 0.0%  std: 0.0%\n"
     ]
    },
    {
     "name": "stdout",
     "output_type": "stream",
     "text": [
      "[[0.89597109 0.90525686]\n",
      " [0.90191404 0.91125275]\n",
      " [0.8131     0.823     ]]\n",
      "rec time now 2 dataset now: Syn3\n"
     ]
    },
    {
     "name": "stderr",
     "output_type": "stream",
     "text": [
      "TPR mean: 100.0%  std: 0.0%\n",
      "FDR mean: 0.0%  std: 0.0%\n"
     ]
    },
    {
     "name": "stdout",
     "output_type": "stream",
     "text": [
      "[[0.89597109 0.90525686]\n",
      " [0.90191404 0.91125275]\n",
      " [0.8131     0.823     ]]\n",
      "rec time now 3 dataset now: Syn3\n"
     ]
    },
    {
     "name": "stderr",
     "output_type": "stream",
     "text": [
      "TPR mean: 100.0%  std: 0.0%\n",
      "FDR mean: 0.0%  std: 0.0%\n",
      "Epoch:      0, d_loss (Acc)): 0.372, v_loss (Acc): 0.326, g_loss: +0.0391\n"
     ]
    },
    {
     "name": "stdout",
     "output_type": "stream",
     "text": [
      "[[0.89597109 0.90525686]\n",
      " [0.90191404 0.91125275]\n",
      " [0.8131     0.823     ]]\n",
      "now at training epoch number 3800 hyp-params: lamda 0.1000 prior 0.0000\n",
      "rec time now 0 dataset now: Syn3\n"
     ]
    },
    {
     "name": "stderr",
     "output_type": "stream",
     "text": [
      "TPR mean: 100.0%  std: 0.0%\n",
      "FDR mean: 0.0%  std: 0.0%\n"
     ]
    },
    {
     "name": "stdout",
     "output_type": "stream",
     "text": [
      "[[0.89543362 0.90518256]\n",
      " [0.9014967  0.91111472]\n",
      " [0.814      0.8206    ]]\n",
      "rec time now 1 dataset now: Syn3\n"
     ]
    },
    {
     "name": "stderr",
     "output_type": "stream",
     "text": [
      "TPR mean: 100.0%  std: 0.0%\n",
      "FDR mean: 0.0%  std: 0.0%\n"
     ]
    },
    {
     "name": "stdout",
     "output_type": "stream",
     "text": [
      "[[0.89543362 0.90518256]\n",
      " [0.9014967  0.91111472]\n",
      " [0.814      0.8206    ]]\n",
      "rec time now 2 dataset now: Syn3\n"
     ]
    },
    {
     "name": "stderr",
     "output_type": "stream",
     "text": [
      "TPR mean: 100.0%  std: 0.0%\n",
      "FDR mean: 0.0%  std: 0.0%\n"
     ]
    },
    {
     "name": "stdout",
     "output_type": "stream",
     "text": [
      "[[0.89543362 0.90518256]\n",
      " [0.9014967  0.91111472]\n",
      " [0.814      0.8206    ]]\n",
      "rec time now 3 dataset now: Syn3\n"
     ]
    },
    {
     "name": "stderr",
     "output_type": "stream",
     "text": [
      "TPR mean: 100.0%  std: 0.0%\n",
      "FDR mean: 0.0%  std: 0.0%\n",
      "Epoch:      0, d_loss (Acc)): 0.374, v_loss (Acc): 0.341, g_loss: +0.0353\n"
     ]
    },
    {
     "name": "stdout",
     "output_type": "stream",
     "text": [
      "[[0.89543362 0.90518256]\n",
      " [0.9014967  0.91111472]\n",
      " [0.814      0.8206    ]]\n",
      "now at training epoch number 3900 hyp-params: lamda 0.1000 prior 0.0000\n",
      "rec time now 0 dataset now: Syn3\n"
     ]
    },
    {
     "name": "stderr",
     "output_type": "stream",
     "text": [
      "TPR mean: 100.0%  std: 0.0%\n",
      "FDR mean: 0.0%  std: 0.0%\n"
     ]
    },
    {
     "name": "stdout",
     "output_type": "stream",
     "text": [
      "[[0.89303945 0.90508166]\n",
      " [0.89887345 0.91117077]\n",
      " [0.8101     0.8212    ]]\n",
      "rec time now 1 dataset now: Syn3\n"
     ]
    },
    {
     "name": "stderr",
     "output_type": "stream",
     "text": [
      "TPR mean: 100.0%  std: 0.0%\n",
      "FDR mean: 0.0%  std: 0.0%\n"
     ]
    },
    {
     "name": "stdout",
     "output_type": "stream",
     "text": [
      "[[0.89303945 0.90508166]\n",
      " [0.89887345 0.91117077]\n",
      " [0.8101     0.8212    ]]\n",
      "rec time now 2 dataset now: Syn3\n"
     ]
    },
    {
     "name": "stderr",
     "output_type": "stream",
     "text": [
      "TPR mean: 100.0%  std: 0.0%\n",
      "FDR mean: 0.0%  std: 0.0%\n"
     ]
    },
    {
     "name": "stdout",
     "output_type": "stream",
     "text": [
      "[[0.89303945 0.90508166]\n",
      " [0.89887345 0.91117077]\n",
      " [0.8101     0.8212    ]]\n",
      "rec time now 3 dataset now: Syn3\n"
     ]
    },
    {
     "name": "stderr",
     "output_type": "stream",
     "text": [
      "TPR mean: 100.0%  std: 0.0%\n",
      "FDR mean: 0.0%  std: 0.0%\n",
      "Epoch:      0, d_loss (Acc)): 0.416, v_loss (Acc): 0.372, g_loss: +0.0188\n"
     ]
    },
    {
     "name": "stdout",
     "output_type": "stream",
     "text": [
      "[[0.89303945 0.90508166]\n",
      " [0.89887345 0.91117077]\n",
      " [0.8101     0.8212    ]]\n",
      "now at training epoch number 4000 hyp-params: lamda 0.1000 prior 0.0000\n",
      "rec time now 0 dataset now: Syn3\n"
     ]
    },
    {
     "name": "stderr",
     "output_type": "stream",
     "text": [
      "TPR mean: 100.0%  std: 0.0%\n",
      "FDR mean: 0.0%  std: 0.0%\n"
     ]
    },
    {
     "name": "stdout",
     "output_type": "stream",
     "text": [
      "[[0.89499116 0.9050742 ]\n",
      " [0.90086953 0.91092993]\n",
      " [0.8117     0.8225    ]]\n",
      "rec time now 1 dataset now: Syn3\n"
     ]
    },
    {
     "name": "stderr",
     "output_type": "stream",
     "text": [
      "TPR mean: 100.0%  std: 0.0%\n",
      "FDR mean: 0.0%  std: 0.0%\n"
     ]
    },
    {
     "name": "stdout",
     "output_type": "stream",
     "text": [
      "[[0.89499116 0.9050742 ]\n",
      " [0.90086953 0.91092993]\n",
      " [0.8117     0.8225    ]]\n",
      "rec time now 2 dataset now: Syn3\n"
     ]
    },
    {
     "name": "stderr",
     "output_type": "stream",
     "text": [
      "TPR mean: 100.0%  std: 0.0%\n",
      "FDR mean: 0.0%  std: 0.0%\n"
     ]
    },
    {
     "name": "stdout",
     "output_type": "stream",
     "text": [
      "[[0.89499116 0.9050742 ]\n",
      " [0.90086953 0.91092993]\n",
      " [0.8117     0.8225    ]]\n",
      "rec time now 3 dataset now: Syn3\n"
     ]
    },
    {
     "name": "stderr",
     "output_type": "stream",
     "text": [
      "TPR mean: 100.0%  std: 0.0%\n",
      "FDR mean: 0.0%  std: 0.0%\n",
      "Epoch:      0, d_loss (Acc)): 0.397, v_loss (Acc): 0.352, g_loss: +0.0339\n"
     ]
    },
    {
     "name": "stdout",
     "output_type": "stream",
     "text": [
      "[[0.89499116 0.9050742 ]\n",
      " [0.90086953 0.91092993]\n",
      " [0.8117     0.8225    ]]\n",
      "now at training epoch number 4100 hyp-params: lamda 0.1000 prior 0.0000\n",
      "rec time now 0 dataset now: Syn3\n"
     ]
    },
    {
     "name": "stderr",
     "output_type": "stream",
     "text": [
      "TPR mean: 100.0%  std: 0.0%\n",
      "FDR mean: 0.0%  std: 0.0%\n"
     ]
    },
    {
     "name": "stdout",
     "output_type": "stream",
     "text": [
      "[[0.89323323 0.90381712]\n",
      " [0.89975665 0.90996485]\n",
      " [0.8109     0.8198    ]]\n",
      "rec time now 1 dataset now: Syn3\n"
     ]
    },
    {
     "name": "stderr",
     "output_type": "stream",
     "text": [
      "TPR mean: 100.0%  std: 0.0%\n",
      "FDR mean: 0.0%  std: 0.0%\n"
     ]
    },
    {
     "name": "stdout",
     "output_type": "stream",
     "text": [
      "[[0.89323323 0.90381712]\n",
      " [0.89975665 0.90996485]\n",
      " [0.8109     0.8198    ]]\n",
      "rec time now 2 dataset now: Syn3\n"
     ]
    },
    {
     "name": "stderr",
     "output_type": "stream",
     "text": [
      "TPR mean: 100.0%  std: 0.0%\n",
      "FDR mean: 0.0%  std: 0.0%\n"
     ]
    },
    {
     "name": "stdout",
     "output_type": "stream",
     "text": [
      "[[0.89323323 0.90381712]\n",
      " [0.89975665 0.90996485]\n",
      " [0.8109     0.8198    ]]\n",
      "rec time now 3 dataset now: Syn3\n"
     ]
    },
    {
     "name": "stderr",
     "output_type": "stream",
     "text": [
      "TPR mean: 100.0%  std: 0.0%\n",
      "FDR mean: 0.0%  std: 0.0%\n",
      "Epoch:      0, d_loss (Acc)): 0.416, v_loss (Acc): 0.374, g_loss: +0.0194\n"
     ]
    },
    {
     "name": "stdout",
     "output_type": "stream",
     "text": [
      "[[0.89323323 0.90381712]\n",
      " [0.89975665 0.90996485]\n",
      " [0.8109     0.8198    ]]\n",
      "now at training epoch number 4200 hyp-params: lamda 0.1000 prior 0.0000\n",
      "rec time now 0 dataset now: Syn3\n"
     ]
    },
    {
     "name": "stderr",
     "output_type": "stream",
     "text": [
      "TPR mean: 100.0%  std: 0.0%\n",
      "FDR mean: 0.0%  std: 0.0%\n"
     ]
    },
    {
     "name": "stdout",
     "output_type": "stream",
     "text": [
      "[[0.8926205  0.90475179]\n",
      " [0.89918414 0.91094534]\n",
      " [0.8096     0.8205    ]]\n",
      "rec time now 1 dataset now: Syn3\n"
     ]
    },
    {
     "name": "stderr",
     "output_type": "stream",
     "text": [
      "TPR mean: 100.0%  std: 0.0%\n",
      "FDR mean: 0.0%  std: 0.0%\n"
     ]
    },
    {
     "name": "stdout",
     "output_type": "stream",
     "text": [
      "[[0.8926205  0.90475179]\n",
      " [0.89918414 0.91094534]\n",
      " [0.8096     0.8205    ]]\n",
      "rec time now 2 dataset now: Syn3\n"
     ]
    },
    {
     "name": "stderr",
     "output_type": "stream",
     "text": [
      "TPR mean: 100.0%  std: 0.0%\n",
      "FDR mean: 0.0%  std: 0.0%\n"
     ]
    },
    {
     "name": "stdout",
     "output_type": "stream",
     "text": [
      "[[0.8926205  0.90475179]\n",
      " [0.89918414 0.91094534]\n",
      " [0.8096     0.8205    ]]\n",
      "rec time now 3 dataset now: Syn3\n"
     ]
    },
    {
     "name": "stderr",
     "output_type": "stream",
     "text": [
      "TPR mean: 100.0%  std: 0.0%\n",
      "FDR mean: 0.0%  std: 0.0%\n",
      "Epoch:      0, d_loss (Acc)): 0.384, v_loss (Acc): 0.354, g_loss: +0.0303\n"
     ]
    },
    {
     "name": "stdout",
     "output_type": "stream",
     "text": [
      "[[0.8926205  0.90475179]\n",
      " [0.89918414 0.91094534]\n",
      " [0.8096     0.8205    ]]\n",
      "now at training epoch number 4300 hyp-params: lamda 0.1000 prior 0.0000\n",
      "rec time now 0 dataset now: Syn3\n"
     ]
    },
    {
     "name": "stderr",
     "output_type": "stream",
     "text": [
      "TPR mean: 100.0%  std: 0.0%\n",
      "FDR mean: 0.0%  std: 0.0%\n"
     ]
    },
    {
     "name": "stdout",
     "output_type": "stream",
     "text": [
      "[[0.89330099 0.90319   ]\n",
      " [0.89925507 0.90888896]\n",
      " [0.81       0.8195    ]]\n",
      "rec time now 1 dataset now: Syn3\n"
     ]
    },
    {
     "name": "stderr",
     "output_type": "stream",
     "text": [
      "TPR mean: 100.0%  std: 0.0%\n",
      "FDR mean: 0.0%  std: 0.0%\n"
     ]
    },
    {
     "name": "stdout",
     "output_type": "stream",
     "text": [
      "[[0.89330099 0.90319   ]\n",
      " [0.89925507 0.90888896]\n",
      " [0.81       0.8195    ]]\n",
      "rec time now 2 dataset now: Syn3\n"
     ]
    },
    {
     "name": "stderr",
     "output_type": "stream",
     "text": [
      "TPR mean: 100.0%  std: 0.0%\n",
      "FDR mean: 0.0%  std: 0.0%\n"
     ]
    },
    {
     "name": "stdout",
     "output_type": "stream",
     "text": [
      "[[0.89330099 0.90319   ]\n",
      " [0.89925507 0.90888896]\n",
      " [0.81       0.8195    ]]\n",
      "rec time now 3 dataset now: Syn3\n"
     ]
    },
    {
     "name": "stderr",
     "output_type": "stream",
     "text": [
      "TPR mean: 100.0%  std: 0.0%\n",
      "FDR mean: 0.0%  std: 0.0%\n",
      "Epoch:      0, d_loss (Acc)): 0.373, v_loss (Acc): 0.329, g_loss: +0.0304\n"
     ]
    },
    {
     "name": "stdout",
     "output_type": "stream",
     "text": [
      "[[0.89330099 0.90319   ]\n",
      " [0.89925507 0.90888896]\n",
      " [0.81       0.8195    ]]\n",
      "now at training epoch number 4400 hyp-params: lamda 0.1000 prior 0.0000\n",
      "rec time now 0 dataset now: Syn3\n"
     ]
    },
    {
     "name": "stderr",
     "output_type": "stream",
     "text": [
      "TPR mean: 100.0%  std: 0.0%\n",
      "FDR mean: 0.0%  std: 0.0%\n"
     ]
    },
    {
     "name": "stdout",
     "output_type": "stream",
     "text": [
      "[[0.89372969 0.90514261]\n",
      " [0.89994664 0.91113981]\n",
      " [0.8126     0.8217    ]]\n",
      "rec time now 1 dataset now: Syn3\n"
     ]
    },
    {
     "name": "stderr",
     "output_type": "stream",
     "text": [
      "TPR mean: 100.0%  std: 0.0%\n",
      "FDR mean: 0.0%  std: 0.0%\n"
     ]
    },
    {
     "name": "stdout",
     "output_type": "stream",
     "text": [
      "[[0.89372969 0.90514261]\n",
      " [0.89994664 0.91113981]\n",
      " [0.8126     0.8217    ]]\n",
      "rec time now 2 dataset now: Syn3\n"
     ]
    },
    {
     "name": "stderr",
     "output_type": "stream",
     "text": [
      "TPR mean: 100.0%  std: 0.0%\n",
      "FDR mean: 0.0%  std: 0.0%\n"
     ]
    },
    {
     "name": "stdout",
     "output_type": "stream",
     "text": [
      "[[0.89372969 0.90514261]\n",
      " [0.89994664 0.91113981]\n",
      " [0.8126     0.8217    ]]\n",
      "rec time now 3 dataset now: Syn3\n"
     ]
    },
    {
     "name": "stderr",
     "output_type": "stream",
     "text": [
      "TPR mean: 100.0%  std: 0.0%\n",
      "FDR mean: 0.0%  std: 0.0%\n",
      "Epoch:      0, d_loss (Acc)): 0.372, v_loss (Acc): 0.341, g_loss: +0.0349\n"
     ]
    },
    {
     "name": "stdout",
     "output_type": "stream",
     "text": [
      "[[0.89372969 0.90514261]\n",
      " [0.89994664 0.91113981]\n",
      " [0.8126     0.8217    ]]\n",
      "now at training epoch number 4500 hyp-params: lamda 0.1000 prior 0.0000\n",
      "rec time now 0 dataset now: Syn3\n"
     ]
    },
    {
     "name": "stderr",
     "output_type": "stream",
     "text": [
      "TPR mean: 100.0%  std: 0.0%\n",
      "FDR mean: 0.0%  std: 0.0%\n"
     ]
    },
    {
     "name": "stdout",
     "output_type": "stream",
     "text": [
      "[[0.89251087 0.90477817]\n",
      " [0.8987684  0.91093773]\n",
      " [0.811      0.822     ]]\n",
      "rec time now 1 dataset now: Syn3\n"
     ]
    },
    {
     "name": "stderr",
     "output_type": "stream",
     "text": [
      "TPR mean: 100.0%  std: 0.0%\n",
      "FDR mean: 0.0%  std: 0.0%\n"
     ]
    },
    {
     "name": "stdout",
     "output_type": "stream",
     "text": [
      "[[0.89251087 0.90477817]\n",
      " [0.8987684  0.91093773]\n",
      " [0.811      0.822     ]]\n",
      "rec time now 2 dataset now: Syn3\n"
     ]
    },
    {
     "name": "stderr",
     "output_type": "stream",
     "text": [
      "TPR mean: 100.0%  std: 0.0%\n",
      "FDR mean: 0.0%  std: 0.0%\n"
     ]
    },
    {
     "name": "stdout",
     "output_type": "stream",
     "text": [
      "[[0.89251087 0.90477817]\n",
      " [0.8987684  0.91093773]\n",
      " [0.811      0.822     ]]\n",
      "rec time now 3 dataset now: Syn3\n"
     ]
    },
    {
     "name": "stderr",
     "output_type": "stream",
     "text": [
      "TPR mean: 100.0%  std: 0.0%\n",
      "FDR mean: 0.0%  std: 0.0%\n",
      "Epoch:      0, d_loss (Acc)): 0.333, v_loss (Acc): 0.295, g_loss: +0.0323\n"
     ]
    },
    {
     "name": "stdout",
     "output_type": "stream",
     "text": [
      "[[0.89251087 0.90477817]\n",
      " [0.8987684  0.91093773]\n",
      " [0.811      0.822     ]]\n",
      "now at training epoch number 4600 hyp-params: lamda 0.1000 prior 0.0000\n",
      "rec time now 0 dataset now: Syn3\n"
     ]
    },
    {
     "name": "stderr",
     "output_type": "stream",
     "text": [
      "TPR mean: 100.0%  std: 0.0%\n",
      "FDR mean: 0.0%  std: 0.0%\n"
     ]
    },
    {
     "name": "stdout",
     "output_type": "stream",
     "text": [
      "[[0.8919946  0.90371709]\n",
      " [0.8987057  0.90982009]\n",
      " [0.8086     0.8208    ]]\n",
      "rec time now 1 dataset now: Syn3\n"
     ]
    },
    {
     "name": "stderr",
     "output_type": "stream",
     "text": [
      "TPR mean: 100.0%  std: 0.0%\n",
      "FDR mean: 0.0%  std: 0.0%\n"
     ]
    },
    {
     "name": "stdout",
     "output_type": "stream",
     "text": [
      "[[0.8919946  0.90371709]\n",
      " [0.8987057  0.90982009]\n",
      " [0.8086     0.8208    ]]\n",
      "rec time now 2 dataset now: Syn3\n"
     ]
    },
    {
     "name": "stderr",
     "output_type": "stream",
     "text": [
      "TPR mean: 100.0%  std: 0.0%\n",
      "FDR mean: 0.0%  std: 0.0%\n"
     ]
    },
    {
     "name": "stdout",
     "output_type": "stream",
     "text": [
      "[[0.8919946  0.90371709]\n",
      " [0.8987057  0.90982009]\n",
      " [0.8086     0.8208    ]]\n",
      "rec time now 3 dataset now: Syn3\n"
     ]
    },
    {
     "name": "stderr",
     "output_type": "stream",
     "text": [
      "TPR mean: 100.0%  std: 0.0%\n",
      "FDR mean: 0.0%  std: 0.0%\n",
      "Epoch:      0, d_loss (Acc)): 0.365, v_loss (Acc): 0.315, g_loss: +0.0325\n"
     ]
    },
    {
     "name": "stdout",
     "output_type": "stream",
     "text": [
      "[[0.8919946  0.90371709]\n",
      " [0.8987057  0.90982009]\n",
      " [0.8086     0.8208    ]]\n",
      "now at training epoch number 4700 hyp-params: lamda 0.1000 prior 0.0000\n",
      "rec time now 0 dataset now: Syn3\n"
     ]
    },
    {
     "name": "stderr",
     "output_type": "stream",
     "text": [
      "TPR mean: 100.0%  std: 0.0%\n",
      "FDR mean: 0.0%  std: 0.0%\n"
     ]
    },
    {
     "name": "stdout",
     "output_type": "stream",
     "text": [
      "[[0.89161423 0.90436162]\n",
      " [0.89762757 0.91043818]\n",
      " [0.809      0.819     ]]\n",
      "rec time now 1 dataset now: Syn3\n"
     ]
    },
    {
     "name": "stderr",
     "output_type": "stream",
     "text": [
      "TPR mean: 100.0%  std: 0.0%\n",
      "FDR mean: 0.0%  std: 0.0%\n"
     ]
    },
    {
     "name": "stdout",
     "output_type": "stream",
     "text": [
      "[[0.89161423 0.90436162]\n",
      " [0.89762757 0.91043818]\n",
      " [0.809      0.819     ]]\n",
      "rec time now 2 dataset now: Syn3\n"
     ]
    },
    {
     "name": "stderr",
     "output_type": "stream",
     "text": [
      "TPR mean: 100.0%  std: 0.0%\n",
      "FDR mean: 0.0%  std: 0.0%\n"
     ]
    },
    {
     "name": "stdout",
     "output_type": "stream",
     "text": [
      "[[0.89161423 0.90436162]\n",
      " [0.89762757 0.91043818]\n",
      " [0.809      0.819     ]]\n",
      "rec time now 3 dataset now: Syn3\n"
     ]
    },
    {
     "name": "stderr",
     "output_type": "stream",
     "text": [
      "TPR mean: 100.0%  std: 0.0%\n",
      "FDR mean: 0.0%  std: 0.0%\n",
      "Epoch:      0, d_loss (Acc)): 0.368, v_loss (Acc): 0.334, g_loss: +0.0288\n"
     ]
    },
    {
     "name": "stdout",
     "output_type": "stream",
     "text": [
      "[[0.89161423 0.90436162]\n",
      " [0.89762757 0.91043818]\n",
      " [0.809      0.819     ]]\n",
      "now at training epoch number 4800 hyp-params: lamda 0.1000 prior 0.0000\n",
      "rec time now 0 dataset now: Syn3\n"
     ]
    },
    {
     "name": "stderr",
     "output_type": "stream",
     "text": [
      "TPR mean: 100.0%  std: 0.0%\n",
      "FDR mean: 0.0%  std: 0.0%\n"
     ]
    },
    {
     "name": "stdout",
     "output_type": "stream",
     "text": [
      "[[0.8921156  0.90487091]\n",
      " [0.89876092 0.91093457]\n",
      " [0.8095     0.8195    ]]\n",
      "rec time now 1 dataset now: Syn3\n"
     ]
    },
    {
     "name": "stderr",
     "output_type": "stream",
     "text": [
      "TPR mean: 100.0%  std: 0.0%\n",
      "FDR mean: 0.0%  std: 0.0%\n"
     ]
    },
    {
     "name": "stdout",
     "output_type": "stream",
     "text": [
      "[[0.8921156  0.90487091]\n",
      " [0.89876092 0.91093457]\n",
      " [0.8095     0.8195    ]]\n",
      "rec time now 2 dataset now: Syn3\n"
     ]
    },
    {
     "name": "stderr",
     "output_type": "stream",
     "text": [
      "TPR mean: 100.0%  std: 0.0%\n",
      "FDR mean: 0.0%  std: 0.0%\n"
     ]
    },
    {
     "name": "stdout",
     "output_type": "stream",
     "text": [
      "[[0.8921156  0.90487091]\n",
      " [0.89876092 0.91093457]\n",
      " [0.8095     0.8195    ]]\n",
      "rec time now 3 dataset now: Syn3\n"
     ]
    },
    {
     "name": "stderr",
     "output_type": "stream",
     "text": [
      "TPR mean: 100.0%  std: 0.0%\n",
      "FDR mean: 0.0%  std: 0.0%\n",
      "Epoch:      0, d_loss (Acc)): 0.359, v_loss (Acc): 0.310, g_loss: +0.0231\n"
     ]
    },
    {
     "name": "stdout",
     "output_type": "stream",
     "text": [
      "[[0.8921156  0.90487091]\n",
      " [0.89876092 0.91093457]\n",
      " [0.8095     0.8195    ]]\n",
      "now at training epoch number 4900 hyp-params: lamda 0.1000 prior 0.0000\n",
      "rec time now 0 dataset now: Syn3\n"
     ]
    },
    {
     "name": "stderr",
     "output_type": "stream",
     "text": [
      "TPR mean: 100.0%  std: 0.0%\n",
      "FDR mean: 0.0%  std: 0.0%\n"
     ]
    },
    {
     "name": "stdout",
     "output_type": "stream",
     "text": [
      "[[0.89316454 0.90486904]\n",
      " [0.89969635 0.91076902]\n",
      " [0.8107     0.8204    ]]\n",
      "rec time now 1 dataset now: Syn3\n"
     ]
    },
    {
     "name": "stderr",
     "output_type": "stream",
     "text": [
      "TPR mean: 100.0%  std: 0.0%\n",
      "FDR mean: 0.0%  std: 0.0%\n"
     ]
    },
    {
     "name": "stdout",
     "output_type": "stream",
     "text": [
      "[[0.89316454 0.90486904]\n",
      " [0.89969635 0.91076902]\n",
      " [0.8107     0.8204    ]]\n",
      "rec time now 2 dataset now: Syn3\n"
     ]
    },
    {
     "name": "stderr",
     "output_type": "stream",
     "text": [
      "TPR mean: 100.0%  std: 0.0%\n",
      "FDR mean: 0.0%  std: 0.0%\n"
     ]
    },
    {
     "name": "stdout",
     "output_type": "stream",
     "text": [
      "[[0.89316454 0.90486904]\n",
      " [0.89969635 0.91076902]\n",
      " [0.8107     0.8204    ]]\n",
      "rec time now 3 dataset now: Syn3\n"
     ]
    },
    {
     "name": "stderr",
     "output_type": "stream",
     "text": [
      "TPR mean: 100.0%  std: 0.0%\n",
      "FDR mean: 0.0%  std: 0.0%\n",
      "invase: Syn4 5000 . Y\n",
      "(10000, 11) (10000, 2) (10000, 11) (10000, 2)\n",
      "input shape: 11\n",
      "Epoch:      0, d_loss (Acc)): 0.817, v_loss (Acc): 0.795, g_loss: -0.1140\n"
     ]
    },
    {
     "name": "stdout",
     "output_type": "stream",
     "text": [
      "[[0.89316454 0.90486904]\n",
      " [0.89969635 0.91076902]\n",
      " [0.8107     0.8204    ]]\n",
      "PyTorch Version: elapsed time for Syn3: 11 feature, 10000 sample: [475.9042 477.9214 478.9424] sec.\n",
      "now at training epoch number 0 hyp-params: lamda 0.1000 prior 0.0000\n",
      "rec time now 0 dataset now: Syn4\n"
     ]
    },
    {
     "name": "stderr",
     "output_type": "stream",
     "text": [
      "TPR mean: 37.9%  std: 27.1%\n",
      "FDR mean: 65.9%  std: 26.8%\n"
     ]
    },
    {
     "name": "stdout",
     "output_type": "stream",
     "text": [
      "[[0.66765805 0.59830986]\n",
      " [0.69477256 0.5996389 ]\n",
      " [0.6128     0.5828    ]]\n",
      "rec time now 1 dataset now: Syn4\n"
     ]
    },
    {
     "name": "stderr",
     "output_type": "stream",
     "text": [
      "TPR mean: 26.1%  std: 26.5%\n",
      "FDR mean: 65.7%  std: 35.5%\n"
     ]
    },
    {
     "name": "stdout",
     "output_type": "stream",
     "text": [
      "[[0.66765805 0.58746528]\n",
      " [0.69477256 0.59103016]\n",
      " [0.6128     0.5794    ]]\n",
      "rec time now 2 dataset now: Syn4\n"
     ]
    },
    {
     "name": "stderr",
     "output_type": "stream",
     "text": [
      "TPR mean: 23.5%  std: 25.9%\n",
      "FDR mean: 64.9%  std: 37.9%\n"
     ]
    },
    {
     "name": "stdout",
     "output_type": "stream",
     "text": [
      "[[0.66765805 0.58170323]\n",
      " [0.69477256 0.58436103]\n",
      " [0.6128     0.5776    ]]\n",
      "rec time now 3 dataset now: Syn4\n"
     ]
    },
    {
     "name": "stderr",
     "output_type": "stream",
     "text": [
      "TPR mean: 23.1%  std: 25.8%\n",
      "FDR mean: 64.5%  std: 38.4%\n",
      "Epoch:      0, d_loss (Acc)): 0.678, v_loss (Acc): 0.654, g_loss: -0.1354\n"
     ]
    },
    {
     "name": "stdout",
     "output_type": "stream",
     "text": [
      "[[0.66765805 0.58211607]\n",
      " [0.69477256 0.58541536]\n",
      " [0.6128     0.5769    ]]\n",
      "now at training epoch number 100 hyp-params: lamda 0.1000 prior 0.0000\n",
      "rec time now 0 dataset now: Syn4\n"
     ]
    },
    {
     "name": "stderr",
     "output_type": "stream",
     "text": [
      "TPR mean: 36.2%  std: 28.1%\n",
      "FDR mean: 53.5%  std: 38.4%\n"
     ]
    },
    {
     "name": "stdout",
     "output_type": "stream",
     "text": [
      "[[0.70049386 0.61843284]\n",
      " [0.72774066 0.61080745]\n",
      " [0.6406     0.6106    ]]\n",
      "rec time now 1 dataset now: Syn4\n"
     ]
    },
    {
     "name": "stderr",
     "output_type": "stream",
     "text": [
      "TPR mean: 23.3%  std: 24.5%\n",
      "FDR mean: 47.5%  std: 46.6%\n"
     ]
    },
    {
     "name": "stdout",
     "output_type": "stream",
     "text": [
      "[[0.70049386 0.59121046]\n",
      " [0.72774066 0.58149593]\n",
      " [0.6406     0.5912    ]]\n",
      "rec time now 2 dataset now: Syn4\n"
     ]
    },
    {
     "name": "stderr",
     "output_type": "stream",
     "text": [
      "TPR mean: 21.1%  std: 23.2%\n",
      "FDR mean: 43.9%  std: 47.8%\n"
     ]
    },
    {
     "name": "stdout",
     "output_type": "stream",
     "text": [
      "[[0.70049386 0.58843793]\n",
      " [0.72774066 0.58368078]\n",
      " [0.6406     0.5858    ]]\n",
      "rec time now 3 dataset now: Syn4\n"
     ]
    },
    {
     "name": "stderr",
     "output_type": "stream",
     "text": [
      "TPR mean: 20.8%  std: 23.0%\n",
      "FDR mean: 43.4%  std: 47.9%\n",
      "Epoch:      0, d_loss (Acc)): 0.656, v_loss (Acc): 0.614, g_loss: -0.2795\n"
     ]
    },
    {
     "name": "stdout",
     "output_type": "stream",
     "text": [
      "[[0.70049386 0.58813289]\n",
      " [0.72774066 0.58422474]\n",
      " [0.6406     0.5846    ]]\n",
      "now at training epoch number 200 hyp-params: lamda 0.1000 prior 0.0000\n",
      "rec time now 0 dataset now: Syn4\n"
     ]
    },
    {
     "name": "stderr",
     "output_type": "stream",
     "text": [
      "TPR mean: 39.2%  std: 30.8%\n",
      "FDR mean: 44.6%  std: 42.5%\n"
     ]
    },
    {
     "name": "stdout",
     "output_type": "stream",
     "text": [
      "[[0.71710605 0.6167552 ]\n",
      " [0.73441171 0.60302416]\n",
      " [0.6604     0.6062    ]]\n",
      "rec time now 1 dataset now: Syn4\n"
     ]
    },
    {
     "name": "stderr",
     "output_type": "stream",
     "text": [
      "TPR mean: 23.5%  std: 25.4%\n",
      "FDR mean: 41.2%  std: 48.3%\n"
     ]
    },
    {
     "name": "stdout",
     "output_type": "stream",
     "text": [
      "[[0.71710605 0.59637962]\n",
      " [0.73441171 0.58329653]\n",
      " [0.6604     0.5917    ]]\n",
      "rec time now 2 dataset now: Syn4\n"
     ]
    },
    {
     "name": "stderr",
     "output_type": "stream",
     "text": [
      "TPR mean: 21.3%  std: 24.0%\n",
      "FDR mean: 41.0%  std: 48.8%\n"
     ]
    },
    {
     "name": "stdout",
     "output_type": "stream",
     "text": [
      "[[0.71710605 0.59986412]\n",
      " [0.73441171 0.59130911]\n",
      " [0.6604     0.5928    ]]\n",
      "rec time now 3 dataset now: Syn4\n"
     ]
    },
    {
     "name": "stderr",
     "output_type": "stream",
     "text": [
      "TPR mean: 21.2%  std: 23.9%\n",
      "FDR mean: 40.9%  std: 48.8%\n",
      "Epoch:      0, d_loss (Acc)): 0.650, v_loss (Acc): 0.600, g_loss: -0.3249\n"
     ]
    },
    {
     "name": "stdout",
     "output_type": "stream",
     "text": [
      "[[0.71710605 0.60095635]\n",
      " [0.73441171 0.59347831]\n",
      " [0.6604     0.5924    ]]\n",
      "now at training epoch number 300 hyp-params: lamda 0.1000 prior 0.0000\n",
      "rec time now 0 dataset now: Syn4\n"
     ]
    },
    {
     "name": "stderr",
     "output_type": "stream",
     "text": [
      "TPR mean: 43.7%  std: 33.0%\n",
      "FDR mean: 39.1%  std: 43.4%\n"
     ]
    },
    {
     "name": "stdout",
     "output_type": "stream",
     "text": [
      "[[0.7238439  0.6316949 ]\n",
      " [0.75236028 0.61196755]\n",
      " [0.6609     0.628     ]]\n",
      "rec time now 1 dataset now: Syn4\n"
     ]
    },
    {
     "name": "stderr",
     "output_type": "stream",
     "text": [
      "TPR mean: 27.7%  std: 29.1%\n",
      "FDR mean: 39.9%  std: 48.3%\n"
     ]
    },
    {
     "name": "stdout",
     "output_type": "stream",
     "text": [
      "[[0.7238439  0.60068852]\n",
      " [0.75236028 0.57916027]\n",
      " [0.6609     0.6014    ]]\n",
      "rec time now 2 dataset now: Syn4\n"
     ]
    },
    {
     "name": "stderr",
     "output_type": "stream",
     "text": [
      "TPR mean: 25.9%  std: 28.2%\n",
      "FDR mean: 39.9%  std: 48.7%\n"
     ]
    },
    {
     "name": "stdout",
     "output_type": "stream",
     "text": [
      "[[0.7238439  0.60593011]\n",
      " [0.75236028 0.59326525]\n",
      " [0.6609     0.6031    ]]\n",
      "rec time now 3 dataset now: Syn4\n"
     ]
    },
    {
     "name": "stderr",
     "output_type": "stream",
     "text": [
      "TPR mean: 25.8%  std: 28.2%\n",
      "FDR mean: 39.9%  std: 48.8%\n",
      "Epoch:      0, d_loss (Acc)): 0.647, v_loss (Acc): 0.583, g_loss: -0.4192\n"
     ]
    },
    {
     "name": "stdout",
     "output_type": "stream",
     "text": [
      "[[0.7238439  0.60631794]\n",
      " [0.75236028 0.59490857]\n",
      " [0.6609     0.6029    ]]\n",
      "now at training epoch number 400 hyp-params: lamda 0.1000 prior 0.0000\n",
      "rec time now 0 dataset now: Syn4\n"
     ]
    },
    {
     "name": "stderr",
     "output_type": "stream",
     "text": [
      "TPR mean: 50.6%  std: 34.6%\n",
      "FDR mean: 35.0%  std: 42.3%\n"
     ]
    },
    {
     "name": "stdout",
     "output_type": "stream",
     "text": [
      "[[0.73255198 0.64529001]\n",
      " [0.75414616 0.62541824]\n",
      " [0.6687     0.6407    ]]\n",
      "rec time now 1 dataset now: Syn4\n"
     ]
    },
    {
     "name": "stderr",
     "output_type": "stream",
     "text": [
      "TPR mean: 34.5%  std: 33.6%\n",
      "FDR mean: 37.7%  std: 47.7%\n"
     ]
    },
    {
     "name": "stdout",
     "output_type": "stream",
     "text": [
      "[[0.73255198 0.61207801]\n",
      " [0.75414616 0.58675406]\n",
      " [0.6687     0.6157    ]]\n",
      "rec time now 2 dataset now: Syn4\n"
     ]
    },
    {
     "name": "stderr",
     "output_type": "stream",
     "text": [
      "TPR mean: 32.4%  std: 33.1%\n",
      "FDR mean: 37.9%  std: 48.2%\n"
     ]
    },
    {
     "name": "stdout",
     "output_type": "stream",
     "text": [
      "[[0.73255198 0.61190748]\n",
      " [0.75414616 0.59159102]\n",
      " [0.6687     0.6162    ]]\n",
      "rec time now 3 dataset now: Syn4\n"
     ]
    },
    {
     "name": "stderr",
     "output_type": "stream",
     "text": [
      "TPR mean: 32.3%  std: 33.1%\n",
      "FDR mean: 37.9%  std: 48.2%\n",
      "Epoch:      0, d_loss (Acc)): 0.656, v_loss (Acc): 0.596, g_loss: -0.3675\n"
     ]
    },
    {
     "name": "stdout",
     "output_type": "stream",
     "text": [
      "[[0.73255198 0.61223754]\n",
      " [0.75414616 0.59348118]\n",
      " [0.6687     0.6157    ]]\n",
      "now at training epoch number 500 hyp-params: lamda 0.1000 prior 0.0000\n",
      "rec time now 0 dataset now: Syn4\n"
     ]
    },
    {
     "name": "stderr",
     "output_type": "stream",
     "text": [
      "TPR mean: 54.0%  std: 36.2%\n",
      "FDR mean: 34.5%  std: 42.5%\n"
     ]
    },
    {
     "name": "stdout",
     "output_type": "stream",
     "text": [
      "[[0.73474029 0.67299635]\n",
      " [0.75259406 0.66099868]\n",
      " [0.6716     0.6501    ]]\n",
      "rec time now 1 dataset now: Syn4\n"
     ]
    },
    {
     "name": "stderr",
     "output_type": "stream",
     "text": [
      "TPR mean: 40.4%  std: 38.3%\n",
      "FDR mean: 37.6%  std: 47.6%\n"
     ]
    },
    {
     "name": "stdout",
     "output_type": "stream",
     "text": [
      "[[0.73474029 0.64042807]\n",
      " [0.75259406 0.61403989]\n",
      " [0.6716     0.6312    ]]\n",
      "rec time now 2 dataset now: Syn4\n"
     ]
    },
    {
     "name": "stderr",
     "output_type": "stream",
     "text": [
      "TPR mean: 39.0%  std: 38.4%\n",
      "FDR mean: 37.9%  std: 48.1%\n"
     ]
    },
    {
     "name": "stdout",
     "output_type": "stream",
     "text": [
      "[[0.73474029 0.63884854]\n",
      " [0.75259406 0.6188881 ]\n",
      " [0.6716     0.6277    ]]\n",
      "rec time now 3 dataset now: Syn4\n"
     ]
    },
    {
     "name": "stderr",
     "output_type": "stream",
     "text": [
      "TPR mean: 38.9%  std: 38.4%\n",
      "FDR mean: 37.9%  std: 48.1%\n",
      "Epoch:      0, d_loss (Acc)): 0.666, v_loss (Acc): 0.599, g_loss: -0.4182\n"
     ]
    },
    {
     "name": "stdout",
     "output_type": "stream",
     "text": [
      "[[0.73474029 0.63975502]\n",
      " [0.75259406 0.62081123]\n",
      " [0.6716     0.6279    ]]\n",
      "now at training epoch number 600 hyp-params: lamda 0.1000 prior 0.0000\n",
      "rec time now 0 dataset now: Syn4\n"
     ]
    },
    {
     "name": "stderr",
     "output_type": "stream",
     "text": [
      "TPR mean: 59.0%  std: 36.9%\n",
      "FDR mean: 31.9%  std: 41.4%\n"
     ]
    },
    {
     "name": "stdout",
     "output_type": "stream",
     "text": [
      "[[0.73848708 0.68252986]\n",
      " [0.75556462 0.67706995]\n",
      " [0.6786     0.6537    ]]\n",
      "rec time now 1 dataset now: Syn4\n"
     ]
    },
    {
     "name": "stderr",
     "output_type": "stream",
     "text": [
      "TPR mean: 45.4%  std: 41.7%\n",
      "FDR mean: 35.2%  std: 46.7%\n"
     ]
    },
    {
     "name": "stdout",
     "output_type": "stream",
     "text": [
      "[[0.73848708 0.65267413]\n",
      " [0.75556462 0.63662666]\n",
      " [0.6786     0.6351    ]]\n",
      "rec time now 2 dataset now: Syn4\n"
     ]
    },
    {
     "name": "stderr",
     "output_type": "stream",
     "text": [
      "TPR mean: 44.2%  std: 42.1%\n",
      "FDR mean: 35.6%  std: 47.1%\n"
     ]
    },
    {
     "name": "stdout",
     "output_type": "stream",
     "text": [
      "[[0.73848708 0.65076751]\n",
      " [0.75556462 0.6363511 ]\n",
      " [0.6786     0.6336    ]]\n",
      "rec time now 3 dataset now: Syn4\n"
     ]
    },
    {
     "name": "stderr",
     "output_type": "stream",
     "text": [
      "TPR mean: 44.1%  std: 42.1%\n",
      "FDR mean: 35.6%  std: 47.1%\n",
      "Epoch:      0, d_loss (Acc)): 0.624, v_loss (Acc): 0.552, g_loss: -0.4094\n"
     ]
    },
    {
     "name": "stdout",
     "output_type": "stream",
     "text": [
      "[[0.73848708 0.65119047]\n",
      " [0.75556462 0.63805814]\n",
      " [0.6786     0.6335    ]]\n",
      "now at training epoch number 700 hyp-params: lamda 0.1000 prior 0.0000\n",
      "rec time now 0 dataset now: Syn4\n"
     ]
    },
    {
     "name": "stderr",
     "output_type": "stream",
     "text": [
      "TPR mean: 64.3%  std: 36.5%\n",
      "FDR mean: 28.9%  std: 39.6%\n"
     ]
    },
    {
     "name": "stdout",
     "output_type": "stream",
     "text": [
      "[[0.74213489 0.69910775]\n",
      " [0.75956549 0.6967077 ]\n",
      " [0.678      0.6597    ]]\n",
      "rec time now 1 dataset now: Syn4\n"
     ]
    },
    {
     "name": "stderr",
     "output_type": "stream",
     "text": [
      "TPR mean: 50.9%  std: 43.6%\n",
      "FDR mean: 31.6%  std: 44.5%\n"
     ]
    },
    {
     "name": "stdout",
     "output_type": "stream",
     "text": [
      "[[0.74213489 0.66886528]\n",
      " [0.75956549 0.65269059]\n",
      " [0.678      0.652     ]]\n",
      "rec time now 2 dataset now: Syn4\n"
     ]
    },
    {
     "name": "stderr",
     "output_type": "stream",
     "text": [
      "TPR mean: 49.5%  std: 44.3%\n",
      "FDR mean: 32.0%  std: 45.0%\n"
     ]
    },
    {
     "name": "stdout",
     "output_type": "stream",
     "text": [
      "[[0.74213489 0.66633304]\n",
      " [0.75956549 0.65031435]\n",
      " [0.678      0.6508    ]]\n",
      "rec time now 3 dataset now: Syn4\n"
     ]
    },
    {
     "name": "stderr",
     "output_type": "stream",
     "text": [
      "TPR mean: 49.4%  std: 44.4%\n",
      "FDR mean: 32.0%  std: 45.0%\n",
      "Epoch:      0, d_loss (Acc)): 0.625, v_loss (Acc): 0.548, g_loss: -0.4141\n"
     ]
    },
    {
     "name": "stdout",
     "output_type": "stream",
     "text": [
      "[[0.74213489 0.66658185]\n",
      " [0.75956549 0.65138688]\n",
      " [0.678      0.6509    ]]\n",
      "now at training epoch number 800 hyp-params: lamda 0.1000 prior 0.0000\n",
      "rec time now 0 dataset now: Syn4\n"
     ]
    },
    {
     "name": "stderr",
     "output_type": "stream",
     "text": [
      "TPR mean: 70.4%  std: 33.5%\n",
      "FDR mean: 25.4%  std: 36.3%\n"
     ]
    },
    {
     "name": "stdout",
     "output_type": "stream",
     "text": [
      "[[0.74343941 0.72621743]\n",
      " [0.75647654 0.72950625]\n",
      " [0.6809     0.6704    ]]\n",
      "rec time now 1 dataset now: Syn4\n"
     ]
    },
    {
     "name": "stderr",
     "output_type": "stream",
     "text": [
      "TPR mean: 57.4%  std: 42.8%\n",
      "FDR mean: 25.8%  std: 39.9%\n"
     ]
    },
    {
     "name": "stdout",
     "output_type": "stream",
     "text": [
      "[[0.74343941 0.69561277]\n",
      " [0.75647654 0.68648636]\n",
      " [0.6809     0.6615    ]]\n",
      "rec time now 2 dataset now: Syn4\n"
     ]
    },
    {
     "name": "stderr",
     "output_type": "stream",
     "text": [
      "TPR mean: 55.2%  std: 44.2%\n",
      "FDR mean: 26.0%  std: 40.3%\n"
     ]
    },
    {
     "name": "stdout",
     "output_type": "stream",
     "text": [
      "[[0.74343941 0.68906895]\n",
      " [0.75647654 0.67947878]\n",
      " [0.6809     0.6612    ]]\n",
      "rec time now 3 dataset now: Syn4\n"
     ]
    },
    {
     "name": "stderr",
     "output_type": "stream",
     "text": [
      "TPR mean: 55.1%  std: 44.3%\n",
      "FDR mean: 26.0%  std: 40.4%\n",
      "Epoch:      0, d_loss (Acc)): 0.629, v_loss (Acc): 0.560, g_loss: -0.3633\n"
     ]
    },
    {
     "name": "stdout",
     "output_type": "stream",
     "text": [
      "[[0.74343941 0.68878697]\n",
      " [0.75647654 0.68012347]\n",
      " [0.6809     0.6607    ]]\n",
      "now at training epoch number 900 hyp-params: lamda 0.1000 prior 0.0000\n",
      "rec time now 0 dataset now: Syn4\n"
     ]
    },
    {
     "name": "stderr",
     "output_type": "stream",
     "text": [
      "TPR mean: 73.0%  std: 31.9%\n",
      "FDR mean: 23.3%  std: 35.0%\n"
     ]
    },
    {
     "name": "stdout",
     "output_type": "stream",
     "text": [
      "[[0.7420692  0.73709418]\n",
      " [0.75658511 0.74428866]\n",
      " [0.682      0.6773    ]]\n",
      "rec time now 1 dataset now: Syn4\n"
     ]
    },
    {
     "name": "stderr",
     "output_type": "stream",
     "text": [
      "TPR mean: 60.5%  std: 41.7%\n",
      "FDR mean: 23.2%  std: 37.6%\n"
     ]
    },
    {
     "name": "stdout",
     "output_type": "stream",
     "text": [
      "[[0.7420692  0.70262455]\n",
      " [0.75658511 0.69951258]\n",
      " [0.682      0.66      ]]\n",
      "rec time now 2 dataset now: Syn4\n"
     ]
    },
    {
     "name": "stderr",
     "output_type": "stream",
     "text": [
      "TPR mean: 57.9%  std: 43.4%\n",
      "FDR mean: 23.3%  std: 37.9%\n"
     ]
    },
    {
     "name": "stdout",
     "output_type": "stream",
     "text": [
      "[[0.7420692  0.69557083]\n",
      " [0.75658511 0.69310325]\n",
      " [0.682      0.66      ]]\n",
      "rec time now 3 dataset now: Syn4\n"
     ]
    },
    {
     "name": "stderr",
     "output_type": "stream",
     "text": [
      "TPR mean: 57.8%  std: 43.5%\n",
      "FDR mean: 23.3%  std: 37.9%\n",
      "Epoch:      0, d_loss (Acc)): 0.624, v_loss (Acc): 0.563, g_loss: -0.3264\n"
     ]
    },
    {
     "name": "stdout",
     "output_type": "stream",
     "text": [
      "[[0.7420692  0.69489812]\n",
      " [0.75658511 0.69290543]\n",
      " [0.682      0.6597    ]]\n",
      "now at training epoch number 1000 hyp-params: lamda 0.1000 prior 0.0000\n",
      "rec time now 0 dataset now: Syn4\n"
     ]
    },
    {
     "name": "stderr",
     "output_type": "stream",
     "text": [
      "TPR mean: 76.3%  std: 29.5%\n",
      "FDR mean: 20.4%  std: 32.7%\n"
     ]
    },
    {
     "name": "stdout",
     "output_type": "stream",
     "text": [
      "[[0.74901242 0.74557192]\n",
      " [0.76366897 0.75519998]\n",
      " [0.6838     0.6793    ]]\n",
      "rec time now 1 dataset now: Syn4\n"
     ]
    },
    {
     "name": "stderr",
     "output_type": "stream",
     "text": [
      "TPR mean: 64.5%  std: 39.9%\n",
      "FDR mean: 19.1%  std: 34.0%\n"
     ]
    },
    {
     "name": "stdout",
     "output_type": "stream",
     "text": [
      "[[0.74901242 0.71060946]\n",
      " [0.76366897 0.7109655 ]\n",
      " [0.6838     0.6608    ]]\n",
      "rec time now 2 dataset now: Syn4\n"
     ]
    },
    {
     "name": "stderr",
     "output_type": "stream",
     "text": [
      "TPR mean: 62.0%  std: 41.7%\n",
      "FDR mean: 19.1%  std: 34.3%\n"
     ]
    },
    {
     "name": "stdout",
     "output_type": "stream",
     "text": [
      "[[0.74901242 0.70846685]\n",
      " [0.76366897 0.70969579]\n",
      " [0.6838     0.6609    ]]\n",
      "rec time now 3 dataset now: Syn4\n"
     ]
    },
    {
     "name": "stderr",
     "output_type": "stream",
     "text": [
      "TPR mean: 61.9%  std: 41.8%\n",
      "FDR mean: 19.0%  std: 34.3%\n",
      "Epoch:      0, d_loss (Acc)): 0.617, v_loss (Acc): 0.565, g_loss: -0.2468\n"
     ]
    },
    {
     "name": "stdout",
     "output_type": "stream",
     "text": [
      "[[0.74901242 0.70835314]\n",
      " [0.76366897 0.71009591]\n",
      " [0.6838     0.661     ]]\n",
      "now at training epoch number 1100 hyp-params: lamda 0.1000 prior 0.0000\n",
      "rec time now 0 dataset now: Syn4\n"
     ]
    },
    {
     "name": "stderr",
     "output_type": "stream",
     "text": [
      "TPR mean: 79.0%  std: 27.9%\n",
      "FDR mean: 18.2%  std: 31.2%\n"
     ]
    },
    {
     "name": "stdout",
     "output_type": "stream",
     "text": [
      "[[0.74890445 0.75511582]\n",
      " [0.76281002 0.76532201]\n",
      " [0.6859     0.6893    ]]\n",
      "rec time now 1 dataset now: Syn4\n"
     ]
    },
    {
     "name": "stderr",
     "output_type": "stream",
     "text": [
      "TPR mean: 67.8%  std: 38.9%\n",
      "FDR mean: 16.6%  std: 31.9%\n"
     ]
    },
    {
     "name": "stdout",
     "output_type": "stream",
     "text": [
      "[[0.74890445 0.7269135 ]\n",
      " [0.76281002 0.72888289]\n",
      " [0.6859     0.6673    ]]\n",
      "rec time now 2 dataset now: Syn4\n"
     ]
    },
    {
     "name": "stderr",
     "output_type": "stream",
     "text": [
      "TPR mean: 65.7%  std: 40.7%\n",
      "FDR mean: 16.4%  std: 32.0%\n"
     ]
    },
    {
     "name": "stdout",
     "output_type": "stream",
     "text": [
      "[[0.74890445 0.72280042]\n",
      " [0.76281002 0.72360174]\n",
      " [0.6859     0.6658    ]]\n",
      "rec time now 3 dataset now: Syn4\n"
     ]
    },
    {
     "name": "stderr",
     "output_type": "stream",
     "text": [
      "TPR mean: 65.6%  std: 40.8%\n",
      "FDR mean: 16.4%  std: 32.0%\n",
      "Epoch:      0, d_loss (Acc)): 0.591, v_loss (Acc): 0.549, g_loss: -0.1712\n"
     ]
    },
    {
     "name": "stdout",
     "output_type": "stream",
     "text": [
      "[[0.74890445 0.72304009]\n",
      " [0.76281002 0.7245539 ]\n",
      " [0.6859     0.6656    ]]\n",
      "now at training epoch number 1200 hyp-params: lamda 0.1000 prior 0.0000\n",
      "rec time now 0 dataset now: Syn4\n"
     ]
    },
    {
     "name": "stderr",
     "output_type": "stream",
     "text": [
      "TPR mean: 80.8%  std: 26.6%\n",
      "FDR mean: 15.9%  std: 29.7%\n"
     ]
    },
    {
     "name": "stdout",
     "output_type": "stream",
     "text": [
      "[[0.74630845 0.76430507]\n",
      " [0.76057999 0.78204964]\n",
      " [0.6814     0.6932    ]]\n",
      "rec time now 1 dataset now: Syn4\n"
     ]
    },
    {
     "name": "stderr",
     "output_type": "stream",
     "text": [
      "TPR mean: 69.1%  std: 38.9%\n",
      "FDR mean: 14.2%  std: 29.8%\n"
     ]
    },
    {
     "name": "stdout",
     "output_type": "stream",
     "text": [
      "[[0.74630845 0.74739471]\n",
      " [0.76057999 0.7590385 ]\n",
      " [0.6814     0.6756    ]]\n",
      "rec time now 2 dataset now: Syn4\n"
     ]
    },
    {
     "name": "stderr",
     "output_type": "stream",
     "text": [
      "TPR mean: 67.0%  std: 40.6%\n",
      "FDR mean: 13.9%  std: 29.8%\n"
     ]
    },
    {
     "name": "stdout",
     "output_type": "stream",
     "text": [
      "[[0.74630845 0.74566926]\n",
      " [0.76057999 0.7567969 ]\n",
      " [0.6814     0.6732    ]]\n",
      "rec time now 3 dataset now: Syn4\n"
     ]
    },
    {
     "name": "stderr",
     "output_type": "stream",
     "text": [
      "TPR mean: 66.9%  std: 40.7%\n",
      "FDR mean: 13.9%  std: 29.8%\n",
      "Epoch:      0, d_loss (Acc)): 0.609, v_loss (Acc): 0.548, g_loss: -0.2764\n"
     ]
    },
    {
     "name": "stdout",
     "output_type": "stream",
     "text": [
      "[[0.74630845 0.74591598]\n",
      " [0.76057999 0.75747307]\n",
      " [0.6814     0.6735    ]]\n",
      "now at training epoch number 1300 hyp-params: lamda 0.1000 prior 0.0000\n",
      "rec time now 0 dataset now: Syn4\n"
     ]
    },
    {
     "name": "stderr",
     "output_type": "stream",
     "text": [
      "TPR mean: 83.5%  std: 24.9%\n",
      "FDR mean: 13.0%  std: 27.1%\n"
     ]
    },
    {
     "name": "stdout",
     "output_type": "stream",
     "text": [
      "[[0.7482501  0.77026299]\n",
      " [0.75960126 0.78237172]\n",
      " [0.6866     0.6932    ]]\n",
      "rec time now 1 dataset now: Syn4\n"
     ]
    },
    {
     "name": "stderr",
     "output_type": "stream",
     "text": [
      "TPR mean: 72.1%  std: 38.1%\n",
      "FDR mean: 10.9%  std: 26.3%\n"
     ]
    },
    {
     "name": "stdout",
     "output_type": "stream",
     "text": [
      "[[0.7482501  0.75048099]\n",
      " [0.75960126 0.75743937]\n",
      " [0.6866     0.6788    ]]\n",
      "rec time now 2 dataset now: Syn4\n"
     ]
    },
    {
     "name": "stderr",
     "output_type": "stream",
     "text": [
      "TPR mean: 70.1%  std: 39.9%\n",
      "FDR mean: 10.6%  std: 26.2%\n"
     ]
    },
    {
     "name": "stdout",
     "output_type": "stream",
     "text": [
      "[[0.7482501  0.74633866]\n",
      " [0.75960126 0.75259548]\n",
      " [0.6866     0.6781    ]]\n",
      "rec time now 3 dataset now: Syn4\n"
     ]
    },
    {
     "name": "stderr",
     "output_type": "stream",
     "text": [
      "TPR mean: 70.0%  std: 40.0%\n",
      "FDR mean: 10.5%  std: 26.1%\n",
      "Epoch:      0, d_loss (Acc)): 0.593, v_loss (Acc): 0.550, g_loss: -0.1770\n"
     ]
    },
    {
     "name": "stdout",
     "output_type": "stream",
     "text": [
      "[[0.7482501  0.74574582]\n",
      " [0.75960126 0.75188833]\n",
      " [0.6866     0.6777    ]]\n",
      "now at training epoch number 1400 hyp-params: lamda 0.1000 prior 0.0000\n",
      "rec time now 0 dataset now: Syn4\n"
     ]
    },
    {
     "name": "stderr",
     "output_type": "stream",
     "text": [
      "TPR mean: 86.1%  std: 23.5%\n",
      "FDR mean: 11.3%  std: 25.6%\n"
     ]
    },
    {
     "name": "stdout",
     "output_type": "stream",
     "text": [
      "[[0.75228908 0.7773843 ]\n",
      " [0.76600615 0.79115823]\n",
      " [0.6853     0.7019    ]]\n",
      "rec time now 1 dataset now: Syn4\n"
     ]
    },
    {
     "name": "stderr",
     "output_type": "stream",
     "text": [
      "TPR mean: 76.3%  std: 36.4%\n",
      "FDR mean: 9.4%  std: 24.4%\n"
     ]
    },
    {
     "name": "stdout",
     "output_type": "stream",
     "text": [
      "[[0.75228908 0.76195764]\n",
      " [0.76600615 0.7729575 ]\n",
      " [0.6853     0.6856    ]]\n",
      "rec time now 2 dataset now: Syn4\n"
     ]
    },
    {
     "name": "stderr",
     "output_type": "stream",
     "text": [
      "TPR mean: 74.4%  std: 38.4%\n",
      "FDR mean: 9.0%  std: 24.3%\n"
     ]
    },
    {
     "name": "stdout",
     "output_type": "stream",
     "text": [
      "[[0.75228908 0.75904152]\n",
      " [0.76600615 0.7676329 ]\n",
      " [0.6853     0.6856    ]]\n",
      "rec time now 3 dataset now: Syn4\n"
     ]
    },
    {
     "name": "stderr",
     "output_type": "stream",
     "text": [
      "TPR mean: 74.4%  std: 38.5%\n",
      "FDR mean: 9.0%  std: 24.2%\n",
      "Epoch:      0, d_loss (Acc)): 0.574, v_loss (Acc): 0.533, g_loss: -0.1454\n"
     ]
    },
    {
     "name": "stdout",
     "output_type": "stream",
     "text": [
      "[[0.75228908 0.75886666]\n",
      " [0.76600615 0.76731074]\n",
      " [0.6853     0.6854    ]]\n",
      "now at training epoch number 1500 hyp-params: lamda 0.1000 prior 0.0000\n",
      "rec time now 0 dataset now: Syn4\n"
     ]
    },
    {
     "name": "stderr",
     "output_type": "stream",
     "text": [
      "TPR mean: 87.5%  std: 22.7%\n",
      "FDR mean: 10.1%  std: 24.5%\n"
     ]
    },
    {
     "name": "stdout",
     "output_type": "stream",
     "text": [
      "[[0.75231224 0.78232936]\n",
      " [0.76363403 0.7964689 ]\n",
      " [0.6851     0.7045    ]]\n",
      "rec time now 1 dataset now: Syn4\n"
     ]
    },
    {
     "name": "stderr",
     "output_type": "stream",
     "text": [
      "TPR mean: 78.6%  std: 35.2%\n",
      "FDR mean: 8.4%  std: 23.3%\n"
     ]
    },
    {
     "name": "stdout",
     "output_type": "stream",
     "text": [
      "[[0.75231224 0.7660685 ]\n",
      " [0.76363403 0.77794963]\n",
      " [0.6851     0.6868    ]]\n",
      "rec time now 2 dataset now: Syn4\n"
     ]
    },
    {
     "name": "stderr",
     "output_type": "stream",
     "text": [
      "TPR mean: 76.8%  std: 37.3%\n",
      "FDR mean: 8.2%  std: 23.2%\n"
     ]
    },
    {
     "name": "stdout",
     "output_type": "stream",
     "text": [
      "[[0.75231224 0.76296912]\n",
      " [0.76363403 0.77184806]\n",
      " [0.6851     0.684     ]]\n",
      "rec time now 3 dataset now: Syn4\n"
     ]
    },
    {
     "name": "stderr",
     "output_type": "stream",
     "text": [
      "TPR mean: 76.8%  std: 37.4%\n",
      "FDR mean: 8.1%  std: 23.1%\n",
      "Epoch:      0, d_loss (Acc)): 0.555, v_loss (Acc): 0.519, g_loss: -0.0656\n"
     ]
    },
    {
     "name": "stdout",
     "output_type": "stream",
     "text": [
      "[[0.75231224 0.76286722]\n",
      " [0.76363403 0.77182561]\n",
      " [0.6851     0.6838    ]]\n",
      "now at training epoch number 1600 hyp-params: lamda 0.1000 prior 0.0000\n",
      "rec time now 0 dataset now: Syn4\n"
     ]
    },
    {
     "name": "stderr",
     "output_type": "stream",
     "text": [
      "TPR mean: 90.4%  std: 20.5%\n",
      "FDR mean: 8.1%  std: 21.9%\n"
     ]
    },
    {
     "name": "stdout",
     "output_type": "stream",
     "text": [
      "[[0.75138859 0.78677458]\n",
      " [0.76438022 0.80047602]\n",
      " [0.6858     0.7053    ]]\n",
      "rec time now 1 dataset now: Syn4\n"
     ]
    },
    {
     "name": "stderr",
     "output_type": "stream",
     "text": [
      "TPR mean: 83.3%  std: 32.1%\n",
      "FDR mean: 6.7%  std: 20.6%\n"
     ]
    },
    {
     "name": "stdout",
     "output_type": "stream",
     "text": [
      "[[0.75138859 0.77384664]\n",
      " [0.76438022 0.78548697]\n",
      " [0.6858     0.6945    ]]\n",
      "rec time now 2 dataset now: Syn4\n"
     ]
    },
    {
     "name": "stderr",
     "output_type": "stream",
     "text": [
      "TPR mean: 81.9%  std: 34.2%\n",
      "FDR mean: 6.4%  std: 20.5%\n"
     ]
    },
    {
     "name": "stdout",
     "output_type": "stream",
     "text": [
      "[[0.75138859 0.77157652]\n",
      " [0.76438022 0.78132664]\n",
      " [0.6858     0.6944    ]]\n",
      "rec time now 3 dataset now: Syn4\n"
     ]
    },
    {
     "name": "stderr",
     "output_type": "stream",
     "text": [
      "TPR mean: 81.8%  std: 34.3%\n",
      "FDR mean: 6.4%  std: 20.5%\n",
      "Epoch:      0, d_loss (Acc)): 0.563, v_loss (Acc): 0.519, g_loss: -0.1546\n"
     ]
    },
    {
     "name": "stdout",
     "output_type": "stream",
     "text": [
      "[[0.75138859 0.7714603 ]\n",
      " [0.76438022 0.78109082]\n",
      " [0.6858     0.6947    ]]\n",
      "now at training epoch number 1700 hyp-params: lamda 0.1000 prior 0.0000\n",
      "rec time now 0 dataset now: Syn4\n"
     ]
    },
    {
     "name": "stderr",
     "output_type": "stream",
     "text": [
      "TPR mean: 92.4%  std: 18.1%\n",
      "FDR mean: 6.8%  std: 19.8%\n"
     ]
    },
    {
     "name": "stdout",
     "output_type": "stream",
     "text": [
      "[[0.75096929 0.79373941]\n",
      " [0.76413319 0.80709768]\n",
      " [0.6831     0.7149    ]]\n",
      "rec time now 1 dataset now: Syn4\n"
     ]
    },
    {
     "name": "stderr",
     "output_type": "stream",
     "text": [
      "TPR mean: 85.6%  std: 30.9%\n",
      "FDR mean: 5.7%  std: 19.0%\n"
     ]
    },
    {
     "name": "stdout",
     "output_type": "stream",
     "text": [
      "[[0.75096929 0.77705175]\n",
      " [0.76413319 0.7893702 ]\n",
      " [0.6831     0.6976    ]]\n",
      "rec time now 2 dataset now: Syn4\n"
     ]
    },
    {
     "name": "stderr",
     "output_type": "stream",
     "text": [
      "TPR mean: 84.2%  std: 33.1%\n",
      "FDR mean: 5.5%  std: 18.9%\n"
     ]
    },
    {
     "name": "stdout",
     "output_type": "stream",
     "text": [
      "[[0.75096929 0.77694364]\n",
      " [0.76413319 0.78717012]\n",
      " [0.6831     0.6965    ]]\n",
      "rec time now 3 dataset now: Syn4\n"
     ]
    },
    {
     "name": "stderr",
     "output_type": "stream",
     "text": [
      "TPR mean: 84.2%  std: 33.2%\n",
      "FDR mean: 5.5%  std: 18.9%\n",
      "Epoch:      0, d_loss (Acc)): 0.571, v_loss (Acc): 0.544, g_loss: -0.0909\n"
     ]
    },
    {
     "name": "stdout",
     "output_type": "stream",
     "text": [
      "[[0.75096929 0.77698485]\n",
      " [0.76413319 0.78726509]\n",
      " [0.6831     0.6965    ]]\n",
      "now at training epoch number 1800 hyp-params: lamda 0.1000 prior 0.0000\n",
      "rec time now 0 dataset now: Syn4\n"
     ]
    },
    {
     "name": "stderr",
     "output_type": "stream",
     "text": [
      "TPR mean: 94.4%  std: 15.9%\n",
      "FDR mean: 5.3%  std: 17.4%\n"
     ]
    },
    {
     "name": "stdout",
     "output_type": "stream",
     "text": [
      "[[0.752468   0.79394789]\n",
      " [0.76586324 0.80577725]\n",
      " [0.6816     0.7143    ]]\n",
      "rec time now 1 dataset now: Syn4\n"
     ]
    },
    {
     "name": "stderr",
     "output_type": "stream",
     "text": [
      "TPR mean: 88.8%  std: 28.2%\n",
      "FDR mean: 4.4%  std: 16.6%\n"
     ]
    },
    {
     "name": "stdout",
     "output_type": "stream",
     "text": [
      "[[0.752468   0.78075433]\n",
      " [0.76586324 0.79213013]\n",
      " [0.6816     0.6993    ]]\n",
      "rec time now 2 dataset now: Syn4\n"
     ]
    },
    {
     "name": "stderr",
     "output_type": "stream",
     "text": [
      "TPR mean: 87.9%  std: 29.9%\n",
      "FDR mean: 4.3%  std: 16.5%\n"
     ]
    },
    {
     "name": "stdout",
     "output_type": "stream",
     "text": [
      "[[0.752468   0.77880218]\n",
      " [0.76586324 0.789655  ]\n",
      " [0.6816     0.6971    ]]\n",
      "rec time now 3 dataset now: Syn4\n"
     ]
    },
    {
     "name": "stderr",
     "output_type": "stream",
     "text": [
      "TPR mean: 87.8%  std: 30.0%\n",
      "FDR mean: 4.3%  std: 16.5%\n",
      "Epoch:      0, d_loss (Acc)): 0.560, v_loss (Acc): 0.529, g_loss: -0.0905\n"
     ]
    },
    {
     "name": "stdout",
     "output_type": "stream",
     "text": [
      "[[0.752468   0.7789037 ]\n",
      " [0.76586324 0.78981535]\n",
      " [0.6816     0.697     ]]\n",
      "now at training epoch number 1900 hyp-params: lamda 0.1000 prior 0.0000\n",
      "rec time now 0 dataset now: Syn4\n"
     ]
    },
    {
     "name": "stderr",
     "output_type": "stream",
     "text": [
      "TPR mean: 95.9%  std: 13.5%\n",
      "FDR mean: 4.5%  std: 15.5%\n"
     ]
    },
    {
     "name": "stdout",
     "output_type": "stream",
     "text": [
      "[[0.75364425 0.79860259]\n",
      " [0.76858894 0.81283506]\n",
      " [0.6848     0.7162    ]]\n",
      "rec time now 1 dataset now: Syn4\n"
     ]
    },
    {
     "name": "stderr",
     "output_type": "stream",
     "text": [
      "TPR mean: 91.8%  std: 24.3%\n",
      "FDR mean: 3.7%  std: 14.7%\n"
     ]
    },
    {
     "name": "stdout",
     "output_type": "stream",
     "text": [
      "[[0.75364425 0.79053928]\n",
      " [0.76858894 0.80561771]\n",
      " [0.6848     0.7026    ]]\n",
      "rec time now 2 dataset now: Syn4\n"
     ]
    },
    {
     "name": "stderr",
     "output_type": "stream",
     "text": [
      "TPR mean: 90.7%  std: 26.7%\n",
      "FDR mean: 3.6%  std: 14.6%\n"
     ]
    },
    {
     "name": "stdout",
     "output_type": "stream",
     "text": [
      "[[0.75364425 0.79015696]\n",
      " [0.76858894 0.80484726]\n",
      " [0.6848     0.7005    ]]\n",
      "rec time now 3 dataset now: Syn4\n"
     ]
    },
    {
     "name": "stderr",
     "output_type": "stream",
     "text": [
      "TPR mean: 90.7%  std: 26.9%\n",
      "FDR mean: 3.6%  std: 14.6%\n",
      "Epoch:      0, d_loss (Acc)): 0.555, v_loss (Acc): 0.531, g_loss: -0.0809\n"
     ]
    },
    {
     "name": "stdout",
     "output_type": "stream",
     "text": [
      "[[0.75364425 0.7901267 ]\n",
      " [0.76858894 0.80470421]\n",
      " [0.6848     0.7       ]]\n",
      "now at training epoch number 2000 hyp-params: lamda 0.1000 prior 0.0000\n",
      "rec time now 0 dataset now: Syn4\n"
     ]
    },
    {
     "name": "stderr",
     "output_type": "stream",
     "text": [
      "TPR mean: 96.9%  std: 11.9%\n",
      "FDR mean: 4.2%  std: 14.7%\n"
     ]
    },
    {
     "name": "stdout",
     "output_type": "stream",
     "text": [
      "[[0.75296676 0.8007835 ]\n",
      " [0.76531228 0.81465799]\n",
      " [0.6853     0.7164    ]]\n",
      "rec time now 1 dataset now: Syn4\n"
     ]
    },
    {
     "name": "stderr",
     "output_type": "stream",
     "text": [
      "TPR mean: 94.4%  std: 19.7%\n",
      "FDR mean: 3.4%  std: 14.0%\n"
     ]
    },
    {
     "name": "stdout",
     "output_type": "stream",
     "text": [
      "[[0.75296676 0.79409435]\n",
      " [0.76531228 0.80901062]\n",
      " [0.6853     0.7073    ]]\n",
      "rec time now 2 dataset now: Syn4\n"
     ]
    },
    {
     "name": "stderr",
     "output_type": "stream",
     "text": [
      "TPR mean: 93.8%  std: 21.7%\n",
      "FDR mean: 3.3%  std: 13.9%\n"
     ]
    },
    {
     "name": "stdout",
     "output_type": "stream",
     "text": [
      "[[0.75296676 0.79363425]\n",
      " [0.76531228 0.80872898]\n",
      " [0.6853     0.7053    ]]\n",
      "rec time now 3 dataset now: Syn4\n"
     ]
    },
    {
     "name": "stderr",
     "output_type": "stream",
     "text": [
      "TPR mean: 93.7%  std: 22.0%\n",
      "FDR mean: 3.3%  std: 13.9%\n",
      "Epoch:      0, d_loss (Acc)): 0.544, v_loss (Acc): 0.511, g_loss: -0.0723\n"
     ]
    },
    {
     "name": "stdout",
     "output_type": "stream",
     "text": [
      "[[0.75296676 0.79364566]\n",
      " [0.76531228 0.80864635]\n",
      " [0.6853     0.7053    ]]\n",
      "now at training epoch number 2100 hyp-params: lamda 0.1000 prior 0.0000\n",
      "rec time now 0 dataset now: Syn4\n"
     ]
    },
    {
     "name": "stderr",
     "output_type": "stream",
     "text": [
      "TPR mean: 97.7%  std: 9.9%\n",
      "FDR mean: 3.6%  std: 13.2%\n"
     ]
    },
    {
     "name": "stdout",
     "output_type": "stream",
     "text": [
      "[[0.75486237 0.80541786]\n",
      " [0.76698862 0.81952018]\n",
      " [0.6853     0.7202    ]]\n",
      "rec time now 1 dataset now: Syn4\n"
     ]
    },
    {
     "name": "stderr",
     "output_type": "stream",
     "text": [
      "TPR mean: 96.0%  std: 16.7%\n",
      "FDR mean: 2.8%  std: 12.2%\n"
     ]
    },
    {
     "name": "stdout",
     "output_type": "stream",
     "text": [
      "[[0.75486237 0.80074324]\n",
      " [0.76698862 0.81626963]\n",
      " [0.6853     0.7135    ]]\n",
      "rec time now 2 dataset now: Syn4\n"
     ]
    },
    {
     "name": "stderr",
     "output_type": "stream",
     "text": [
      "TPR mean: 95.4%  std: 18.7%\n",
      "FDR mean: 2.7%  std: 12.1%\n"
     ]
    },
    {
     "name": "stdout",
     "output_type": "stream",
     "text": [
      "[[0.75486237 0.79958376]\n",
      " [0.76698862 0.81522367]\n",
      " [0.6853     0.7129    ]]\n",
      "rec time now 3 dataset now: Syn4\n"
     ]
    },
    {
     "name": "stderr",
     "output_type": "stream",
     "text": [
      "TPR mean: 95.3%  std: 19.0%\n",
      "FDR mean: 2.7%  std: 12.1%\n",
      "Epoch:      0, d_loss (Acc)): 0.524, v_loss (Acc): 0.507, g_loss: -0.0468\n"
     ]
    },
    {
     "name": "stdout",
     "output_type": "stream",
     "text": [
      "[[0.75486237 0.79975155]\n",
      " [0.76698862 0.81544342]\n",
      " [0.6853     0.7131    ]]\n",
      "now at training epoch number 2200 hyp-params: lamda 0.1000 prior 0.0000\n",
      "rec time now 0 dataset now: Syn4\n"
     ]
    },
    {
     "name": "stderr",
     "output_type": "stream",
     "text": [
      "TPR mean: 98.4%  std: 8.3%\n",
      "FDR mean: 3.1%  std: 12.0%\n"
     ]
    },
    {
     "name": "stdout",
     "output_type": "stream",
     "text": [
      "[[0.75275    0.80393907]\n",
      " [0.7659583  0.81806894]\n",
      " [0.6863     0.7197    ]]\n",
      "rec time now 1 dataset now: Syn4\n"
     ]
    },
    {
     "name": "stderr",
     "output_type": "stream",
     "text": [
      "TPR mean: 97.4%  std: 12.6%\n",
      "FDR mean: 2.2%  std: 10.7%\n"
     ]
    },
    {
     "name": "stdout",
     "output_type": "stream",
     "text": [
      "[[0.75275    0.80021901]\n",
      " [0.7659583  0.81585125]\n",
      " [0.6863     0.7128    ]]\n",
      "rec time now 2 dataset now: Syn4\n"
     ]
    },
    {
     "name": "stderr",
     "output_type": "stream",
     "text": [
      "TPR mean: 97.0%  std: 14.9%\n",
      "FDR mean: 2.2%  std: 10.6%\n"
     ]
    },
    {
     "name": "stdout",
     "output_type": "stream",
     "text": [
      "[[0.75275    0.80021958]\n",
      " [0.7659583  0.81588364]\n",
      " [0.6863     0.7115    ]]\n",
      "rec time now 3 dataset now: Syn4\n"
     ]
    },
    {
     "name": "stderr",
     "output_type": "stream",
     "text": [
      "TPR mean: 96.9%  std: 15.1%\n",
      "FDR mean: 2.2%  std: 10.6%\n",
      "Epoch:      0, d_loss (Acc)): 0.548, v_loss (Acc): 0.528, g_loss: -0.0595\n"
     ]
    },
    {
     "name": "stdout",
     "output_type": "stream",
     "text": [
      "[[0.75275    0.80023619]\n",
      " [0.7659583  0.81589203]\n",
      " [0.6863     0.7115    ]]\n",
      "now at training epoch number 2300 hyp-params: lamda 0.1000 prior 0.0000\n",
      "rec time now 0 dataset now: Syn4\n"
     ]
    },
    {
     "name": "stderr",
     "output_type": "stream",
     "text": [
      "TPR mean: 98.5%  std: 8.0%\n",
      "FDR mean: 2.7%  std: 11.2%\n"
     ]
    },
    {
     "name": "stdout",
     "output_type": "stream",
     "text": [
      "[[0.75140072 0.80261529]\n",
      " [0.76399756 0.81870199]\n",
      " [0.6814     0.7191    ]]\n",
      "rec time now 1 dataset now: Syn4\n"
     ]
    },
    {
     "name": "stderr",
     "output_type": "stream",
     "text": [
      "TPR mean: 97.4%  std: 13.6%\n",
      "FDR mean: 1.8%  std: 9.5%\n"
     ]
    },
    {
     "name": "stdout",
     "output_type": "stream",
     "text": [
      "[[0.75140072 0.80096828]\n",
      " [0.76399756 0.8173894 ]\n",
      " [0.6814     0.7136    ]]\n",
      "rec time now 2 dataset now: Syn4\n"
     ]
    },
    {
     "name": "stderr",
     "output_type": "stream",
     "text": [
      "TPR mean: 97.3%  std: 14.2%\n",
      "FDR mean: 1.7%  std: 9.3%\n"
     ]
    },
    {
     "name": "stdout",
     "output_type": "stream",
     "text": [
      "[[0.75140072 0.80067809]\n",
      " [0.76399756 0.81718925]\n",
      " [0.6814     0.7125    ]]\n",
      "rec time now 3 dataset now: Syn4\n"
     ]
    },
    {
     "name": "stderr",
     "output_type": "stream",
     "text": [
      "TPR mean: 97.3%  std: 14.2%\n",
      "FDR mean: 1.7%  std: 9.3%\n",
      "Epoch:      0, d_loss (Acc)): 0.552, v_loss (Acc): 0.532, g_loss: -0.0145\n"
     ]
    },
    {
     "name": "stdout",
     "output_type": "stream",
     "text": [
      "[[0.75140072 0.80068504]\n",
      " [0.76399756 0.81720124]\n",
      " [0.6814     0.7125    ]]\n",
      "now at training epoch number 2400 hyp-params: lamda 0.1000 prior 0.0000\n",
      "rec time now 0 dataset now: Syn4\n"
     ]
    },
    {
     "name": "stderr",
     "output_type": "stream",
     "text": [
      "TPR mean: 98.8%  std: 7.0%\n",
      "FDR mean: 2.6%  std: 10.8%\n"
     ]
    },
    {
     "name": "stdout",
     "output_type": "stream",
     "text": [
      "[[0.75690991 0.80889011]\n",
      " [0.77112375 0.82361123]\n",
      " [0.6867     0.7253    ]]\n",
      "rec time now 1 dataset now: Syn4\n"
     ]
    },
    {
     "name": "stderr",
     "output_type": "stream",
     "text": [
      "TPR mean: 97.9%  std: 12.2%\n",
      "FDR mean: 1.8%  std: 9.2%\n"
     ]
    },
    {
     "name": "stdout",
     "output_type": "stream",
     "text": [
      "[[0.75690991 0.80647295]\n",
      " [0.77112375 0.82242672]\n",
      " [0.6867     0.7165    ]]\n",
      "rec time now 2 dataset now: Syn4\n"
     ]
    },
    {
     "name": "stderr",
     "output_type": "stream",
     "text": [
      "TPR mean: 97.8%  std: 12.6%\n",
      "FDR mean: 1.7%  std: 9.2%\n"
     ]
    },
    {
     "name": "stdout",
     "output_type": "stream",
     "text": [
      "[[0.75690991 0.80581942]\n",
      " [0.77112375 0.82206858]\n",
      " [0.6867     0.7151    ]]\n",
      "rec time now 3 dataset now: Syn4\n"
     ]
    },
    {
     "name": "stderr",
     "output_type": "stream",
     "text": [
      "TPR mean: 97.8%  std: 12.6%\n",
      "FDR mean: 1.7%  std: 9.1%\n",
      "Epoch:      0, d_loss (Acc)): 0.544, v_loss (Acc): 0.509, g_loss: -0.0579\n"
     ]
    },
    {
     "name": "stdout",
     "output_type": "stream",
     "text": [
      "[[0.75690991 0.80587131]\n",
      " [0.77112375 0.82211352]\n",
      " [0.6867     0.7151    ]]\n",
      "now at training epoch number 2500 hyp-params: lamda 0.1000 prior 0.0000\n",
      "rec time now 0 dataset now: Syn4\n"
     ]
    },
    {
     "name": "stderr",
     "output_type": "stream",
     "text": [
      "TPR mean: 99.1%  std: 6.2%\n",
      "FDR mean: 2.5%  std: 10.2%\n"
     ]
    },
    {
     "name": "stdout",
     "output_type": "stream",
     "text": [
      "[[0.75173303 0.80714173]\n",
      " [0.76451175 0.82195139]\n",
      " [0.6799     0.7205    ]]\n",
      "rec time now 1 dataset now: Syn4\n"
     ]
    },
    {
     "name": "stderr",
     "output_type": "stream",
     "text": [
      "TPR mean: 98.9%  std: 7.2%\n",
      "FDR mean: 1.8%  std: 8.7%\n"
     ]
    },
    {
     "name": "stdout",
     "output_type": "stream",
     "text": [
      "[[0.75173303 0.80721662]\n",
      " [0.76451175 0.82232119]\n",
      " [0.6799     0.7201    ]]\n",
      "rec time now 2 dataset now: Syn4\n"
     ]
    },
    {
     "name": "stderr",
     "output_type": "stream",
     "text": [
      "TPR mean: 98.8%  std: 7.4%\n",
      "FDR mean: 1.7%  std: 8.7%\n"
     ]
    },
    {
     "name": "stdout",
     "output_type": "stream",
     "text": [
      "[[0.75173303 0.80725847]\n",
      " [0.76451175 0.82238563]\n",
      " [0.6799     0.7201    ]]\n",
      "rec time now 3 dataset now: Syn4\n"
     ]
    },
    {
     "name": "stderr",
     "output_type": "stream",
     "text": [
      "TPR mean: 98.8%  std: 7.4%\n",
      "FDR mean: 1.7%  std: 8.7%\n",
      "Epoch:      0, d_loss (Acc)): 0.526, v_loss (Acc): 0.520, g_loss: -0.0309\n"
     ]
    },
    {
     "name": "stdout",
     "output_type": "stream",
     "text": [
      "[[0.75173303 0.80725879]\n",
      " [0.76451175 0.82238576]\n",
      " [0.6799     0.7201    ]]\n",
      "now at training epoch number 2600 hyp-params: lamda 0.1000 prior 0.0000\n",
      "rec time now 0 dataset now: Syn4\n"
     ]
    },
    {
     "name": "stderr",
     "output_type": "stream",
     "text": [
      "TPR mean: 99.0%  std: 6.6%\n",
      "FDR mean: 2.4%  std: 10.1%\n"
     ]
    },
    {
     "name": "stdout",
     "output_type": "stream",
     "text": [
      "[[0.75396602 0.80987752]\n",
      " [0.76980961 0.8245768 ]\n",
      " [0.6833     0.7216    ]]\n",
      "rec time now 1 dataset now: Syn4\n"
     ]
    },
    {
     "name": "stderr",
     "output_type": "stream",
     "text": [
      "TPR mean: 98.8%  std: 7.2%\n",
      "FDR mean: 1.6%  std: 8.5%\n"
     ]
    },
    {
     "name": "stdout",
     "output_type": "stream",
     "text": [
      "[[0.75396602 0.81004425]\n",
      " [0.76980961 0.82495337]\n",
      " [0.6833     0.7216    ]]\n",
      "rec time now 2 dataset now: Syn4\n"
     ]
    },
    {
     "name": "stderr",
     "output_type": "stream",
     "text": [
      "TPR mean: 98.8%  std: 7.2%\n",
      "FDR mean: 1.6%  std: 8.3%\n"
     ]
    },
    {
     "name": "stdout",
     "output_type": "stream",
     "text": [
      "[[0.75396602 0.80977996]\n",
      " [0.76980961 0.82473852]\n",
      " [0.6833     0.7213    ]]\n",
      "rec time now 3 dataset now: Syn4\n"
     ]
    },
    {
     "name": "stderr",
     "output_type": "stream",
     "text": [
      "TPR mean: 98.8%  std: 7.2%\n",
      "FDR mean: 1.6%  std: 8.3%\n",
      "Epoch:      0, d_loss (Acc)): 0.518, v_loss (Acc): 0.503, g_loss: -0.0304\n"
     ]
    },
    {
     "name": "stdout",
     "output_type": "stream",
     "text": [
      "[[0.75396602 0.80977996]\n",
      " [0.76980961 0.82473852]\n",
      " [0.6833     0.7213    ]]\n",
      "now at training epoch number 2700 hyp-params: lamda 0.1000 prior 0.0000\n",
      "rec time now 0 dataset now: Syn4\n"
     ]
    },
    {
     "name": "stderr",
     "output_type": "stream",
     "text": [
      "TPR mean: 98.9%  std: 6.8%\n",
      "FDR mean: 2.5%  std: 10.6%\n"
     ]
    },
    {
     "name": "stdout",
     "output_type": "stream",
     "text": [
      "[[0.75625075 0.81095725]\n",
      " [0.77004142 0.82451141]\n",
      " [0.689      0.7239    ]]\n",
      "rec time now 1 dataset now: Syn4\n"
     ]
    },
    {
     "name": "stderr",
     "output_type": "stream",
     "text": [
      "TPR mean: 98.7%  std: 7.7%\n",
      "FDR mean: 1.8%  std: 9.1%\n"
     ]
    },
    {
     "name": "stdout",
     "output_type": "stream",
     "text": [
      "[[0.75625075 0.81129109]\n",
      " [0.77004142 0.82511872]\n",
      " [0.689      0.7249    ]]\n",
      "rec time now 2 dataset now: Syn4\n"
     ]
    },
    {
     "name": "stderr",
     "output_type": "stream",
     "text": [
      "TPR mean: 98.7%  std: 7.7%\n",
      "FDR mean: 1.7%  std: 8.9%\n"
     ]
    },
    {
     "name": "stdout",
     "output_type": "stream",
     "text": [
      "[[0.75625075 0.81131931]\n",
      " [0.77004142 0.82522723]\n",
      " [0.689      0.7249    ]]\n",
      "rec time now 3 dataset now: Syn4\n"
     ]
    },
    {
     "name": "stderr",
     "output_type": "stream",
     "text": [
      "TPR mean: 98.7%  std: 7.7%\n",
      "FDR mean: 1.7%  std: 8.9%\n",
      "Epoch:      0, d_loss (Acc)): 0.529, v_loss (Acc): 0.490, g_loss: -0.0996\n"
     ]
    },
    {
     "name": "stdout",
     "output_type": "stream",
     "text": [
      "[[0.75625075 0.81129101]\n",
      " [0.77004142 0.82518431]\n",
      " [0.689      0.7249    ]]\n",
      "now at training epoch number 2800 hyp-params: lamda 0.1000 prior 0.0000\n",
      "rec time now 0 dataset now: Syn4\n"
     ]
    },
    {
     "name": "stderr",
     "output_type": "stream",
     "text": [
      "TPR mean: 99.0%  std: 6.4%\n",
      "FDR mean: 2.2%  std: 10.0%\n"
     ]
    },
    {
     "name": "stdout",
     "output_type": "stream",
     "text": [
      "[[0.75543812 0.81052915]\n",
      " [0.77073706 0.82527854]\n",
      " [0.6853     0.7244    ]]\n",
      "rec time now 1 dataset now: Syn4\n"
     ]
    },
    {
     "name": "stderr",
     "output_type": "stream",
     "text": [
      "TPR mean: 98.9%  std: 7.1%\n",
      "FDR mean: 1.5%  std: 8.5%\n"
     ]
    },
    {
     "name": "stdout",
     "output_type": "stream",
     "text": [
      "[[0.75543812 0.81123735]\n",
      " [0.77073706 0.82615232]\n",
      " [0.6853     0.7248    ]]\n",
      "rec time now 2 dataset now: Syn4\n"
     ]
    },
    {
     "name": "stderr",
     "output_type": "stream",
     "text": [
      "TPR mean: 98.9%  std: 7.2%\n",
      "FDR mean: 1.5%  std: 8.4%\n"
     ]
    },
    {
     "name": "stdout",
     "output_type": "stream",
     "text": [
      "[[0.75543812 0.81123873]\n",
      " [0.77073706 0.82605729]\n",
      " [0.6853     0.725     ]]\n",
      "rec time now 3 dataset now: Syn4\n"
     ]
    },
    {
     "name": "stderr",
     "output_type": "stream",
     "text": [
      "TPR mean: 98.9%  std: 7.2%\n",
      "FDR mean: 1.5%  std: 8.4%\n",
      "Epoch:      0, d_loss (Acc)): 0.540, v_loss (Acc): 0.533, g_loss: -0.0283\n"
     ]
    },
    {
     "name": "stdout",
     "output_type": "stream",
     "text": [
      "[[0.75543812 0.81137516]\n",
      " [0.77073706 0.82626425]\n",
      " [0.6853     0.725     ]]\n",
      "now at training epoch number 2900 hyp-params: lamda 0.1000 prior 0.0000\n",
      "rec time now 0 dataset now: Syn4\n"
     ]
    },
    {
     "name": "stderr",
     "output_type": "stream",
     "text": [
      "TPR mean: 99.2%  std: 5.9%\n",
      "FDR mean: 2.2%  std: 9.7%\n"
     ]
    },
    {
     "name": "stdout",
     "output_type": "stream",
     "text": [
      "[[0.75560483 0.81205293]\n",
      " [0.76975234 0.82585516]\n",
      " [0.6848     0.7236    ]]\n",
      "rec time now 1 dataset now: Syn4\n"
     ]
    },
    {
     "name": "stderr",
     "output_type": "stream",
     "text": [
      "TPR mean: 99.0%  std: 6.6%\n",
      "FDR mean: 1.5%  std: 8.4%\n"
     ]
    },
    {
     "name": "stdout",
     "output_type": "stream",
     "text": [
      "[[0.75560483 0.81083533]\n",
      " [0.76975234 0.82574657]\n",
      " [0.6848     0.7228    ]]\n",
      "rec time now 2 dataset now: Syn4\n"
     ]
    },
    {
     "name": "stderr",
     "output_type": "stream",
     "text": [
      "TPR mean: 99.0%  std: 6.6%\n",
      "FDR mean: 1.5%  std: 8.2%\n"
     ]
    },
    {
     "name": "stdout",
     "output_type": "stream",
     "text": [
      "[[0.75560483 0.8110165 ]\n",
      " [0.76975234 0.82602676]\n",
      " [0.6848     0.7227    ]]\n",
      "rec time now 3 dataset now: Syn4\n"
     ]
    },
    {
     "name": "stderr",
     "output_type": "stream",
     "text": [
      "TPR mean: 99.0%  std: 6.6%\n",
      "FDR mean: 1.5%  std: 8.2%\n",
      "Epoch:      0, d_loss (Acc)): 0.505, v_loss (Acc): 0.465, g_loss: -0.1015\n"
     ]
    },
    {
     "name": "stdout",
     "output_type": "stream",
     "text": [
      "[[0.75560483 0.81096878]\n",
      " [0.76975234 0.82599472]\n",
      " [0.6848     0.7225    ]]\n",
      "now at training epoch number 3000 hyp-params: lamda 0.1000 prior 0.0000\n",
      "rec time now 0 dataset now: Syn4\n"
     ]
    },
    {
     "name": "stderr",
     "output_type": "stream",
     "text": [
      "TPR mean: 99.1%  std: 6.4%\n",
      "FDR mean: 2.1%  std: 9.7%\n"
     ]
    },
    {
     "name": "stdout",
     "output_type": "stream",
     "text": [
      "[[0.75519785 0.81067057]\n",
      " [0.77407678 0.82419774]\n",
      " [0.6846     0.7232    ]]\n",
      "rec time now 1 dataset now: Syn4\n"
     ]
    },
    {
     "name": "stderr",
     "output_type": "stream",
     "text": [
      "TPR mean: 98.9%  std: 7.1%\n",
      "FDR mean: 1.4%  std: 8.0%\n"
     ]
    },
    {
     "name": "stdout",
     "output_type": "stream",
     "text": [
      "[[0.75519785 0.81106305]\n",
      " [0.77407678 0.82507835]\n",
      " [0.6846     0.7228    ]]\n",
      "rec time now 2 dataset now: Syn4\n"
     ]
    },
    {
     "name": "stderr",
     "output_type": "stream",
     "text": [
      "TPR mean: 98.9%  std: 7.2%\n",
      "FDR mean: 1.3%  std: 7.9%\n"
     ]
    },
    {
     "name": "stdout",
     "output_type": "stream",
     "text": [
      "[[0.75519785 0.81087506]\n",
      " [0.77407678 0.82504198]\n",
      " [0.6846     0.7224    ]]\n",
      "rec time now 3 dataset now: Syn4\n"
     ]
    },
    {
     "name": "stderr",
     "output_type": "stream",
     "text": [
      "TPR mean: 98.9%  std: 7.2%\n",
      "FDR mean: 1.3%  std: 7.9%\n",
      "Epoch:      0, d_loss (Acc)): 0.515, v_loss (Acc): 0.503, g_loss: +0.0349\n"
     ]
    },
    {
     "name": "stdout",
     "output_type": "stream",
     "text": [
      "[[0.75519785 0.81087506]\n",
      " [0.77407678 0.82504198]\n",
      " [0.6846     0.7224    ]]\n",
      "now at training epoch number 3100 hyp-params: lamda 0.1000 prior 0.0000\n",
      "rec time now 0 dataset now: Syn4\n"
     ]
    },
    {
     "name": "stderr",
     "output_type": "stream",
     "text": [
      "TPR mean: 99.1%  std: 6.4%\n",
      "FDR mean: 2.1%  std: 9.7%\n"
     ]
    },
    {
     "name": "stdout",
     "output_type": "stream",
     "text": [
      "[[0.75798452 0.81250094]\n",
      " [0.77341665 0.82683404]\n",
      " [0.6855     0.7234    ]]\n",
      "rec time now 1 dataset now: Syn4\n"
     ]
    },
    {
     "name": "stderr",
     "output_type": "stream",
     "text": [
      "TPR mean: 99.0%  std: 7.0%\n",
      "FDR mean: 1.4%  std: 8.0%\n"
     ]
    },
    {
     "name": "stdout",
     "output_type": "stream",
     "text": [
      "[[0.75798452 0.81320851]\n",
      " [0.77341665 0.82730064]\n",
      " [0.6855     0.7214    ]]\n",
      "rec time now 2 dataset now: Syn4\n"
     ]
    },
    {
     "name": "stderr",
     "output_type": "stream",
     "text": [
      "TPR mean: 98.9%  std: 7.1%\n",
      "FDR mean: 1.3%  std: 7.9%\n"
     ]
    },
    {
     "name": "stdout",
     "output_type": "stream",
     "text": [
      "[[0.75798452 0.81300654]\n",
      " [0.77341665 0.82717192]\n",
      " [0.6855     0.7209    ]]\n",
      "rec time now 3 dataset now: Syn4\n"
     ]
    },
    {
     "name": "stderr",
     "output_type": "stream",
     "text": [
      "TPR mean: 98.9%  std: 7.1%\n",
      "FDR mean: 1.3%  std: 7.9%\n",
      "Epoch:      0, d_loss (Acc)): 0.508, v_loss (Acc): 0.482, g_loss: -0.0082\n"
     ]
    },
    {
     "name": "stdout",
     "output_type": "stream",
     "text": [
      "[[0.75798452 0.81295682]\n",
      " [0.77341665 0.82713964]\n",
      " [0.6855     0.7208    ]]\n",
      "now at training epoch number 3200 hyp-params: lamda 0.1000 prior 0.0000\n",
      "rec time now 0 dataset now: Syn4\n"
     ]
    },
    {
     "name": "stderr",
     "output_type": "stream",
     "text": [
      "TPR mean: 99.1%  std: 6.5%\n",
      "FDR mean: 1.8%  std: 8.9%\n"
     ]
    },
    {
     "name": "stdout",
     "output_type": "stream",
     "text": [
      "[[0.7508715  0.81043601]\n",
      " [0.76307062 0.82590346]\n",
      " [0.6805     0.7184    ]]\n",
      "rec time now 1 dataset now: Syn4\n"
     ]
    },
    {
     "name": "stderr",
     "output_type": "stream",
     "text": [
      "TPR mean: 98.9%  std: 7.1%\n",
      "FDR mean: 1.2%  std: 7.2%\n"
     ]
    },
    {
     "name": "stdout",
     "output_type": "stream",
     "text": [
      "[[0.7508715  0.8100744 ]\n",
      " [0.76307062 0.82578775]\n",
      " [0.6805     0.7167    ]]\n",
      "rec time now 2 dataset now: Syn4\n"
     ]
    },
    {
     "name": "stderr",
     "output_type": "stream",
     "text": [
      "TPR mean: 98.9%  std: 7.1%\n",
      "FDR mean: 1.1%  std: 7.1%\n"
     ]
    },
    {
     "name": "stdout",
     "output_type": "stream",
     "text": [
      "[[0.7508715  0.81003467]\n",
      " [0.76307062 0.82579368]\n",
      " [0.6805     0.7169    ]]\n",
      "rec time now 3 dataset now: Syn4\n"
     ]
    },
    {
     "name": "stderr",
     "output_type": "stream",
     "text": [
      "TPR mean: 98.9%  std: 7.1%\n",
      "FDR mean: 1.1%  std: 7.1%\n",
      "Epoch:      0, d_loss (Acc)): 0.500, v_loss (Acc): 0.492, g_loss: +0.0108\n"
     ]
    },
    {
     "name": "stdout",
     "output_type": "stream",
     "text": [
      "[[0.7508715  0.80993906]\n",
      " [0.76307062 0.82571677]\n",
      " [0.6805     0.7167    ]]\n",
      "now at training epoch number 3300 hyp-params: lamda 0.1000 prior 0.0000\n",
      "rec time now 0 dataset now: Syn4\n"
     ]
    },
    {
     "name": "stderr",
     "output_type": "stream",
     "text": [
      "TPR mean: 99.2%  std: 5.7%\n",
      "FDR mean: 1.9%  std: 9.0%\n"
     ]
    },
    {
     "name": "stdout",
     "output_type": "stream",
     "text": [
      "[[0.75554749 0.80907584]\n",
      " [0.76793189 0.82395784]\n",
      " [0.6841     0.7213    ]]\n",
      "rec time now 1 dataset now: Syn4\n"
     ]
    },
    {
     "name": "stderr",
     "output_type": "stream",
     "text": [
      "TPR mean: 99.0%  std: 7.2%\n",
      "FDR mean: 1.3%  std: 7.5%\n"
     ]
    },
    {
     "name": "stdout",
     "output_type": "stream",
     "text": [
      "[[0.75554749 0.80769041]\n",
      " [0.76793189 0.82338487]\n",
      " [0.6841     0.7195    ]]\n",
      "rec time now 2 dataset now: Syn4\n"
     ]
    },
    {
     "name": "stderr",
     "output_type": "stream",
     "text": [
      "TPR mean: 98.9%  std: 7.6%\n",
      "FDR mean: 1.2%  std: 7.3%\n"
     ]
    },
    {
     "name": "stdout",
     "output_type": "stream",
     "text": [
      "[[0.75554749 0.80706911]\n",
      " [0.76793189 0.82298511]\n",
      " [0.6841     0.7186    ]]\n",
      "rec time now 3 dataset now: Syn4\n"
     ]
    },
    {
     "name": "stderr",
     "output_type": "stream",
     "text": [
      "TPR mean: 98.9%  std: 7.6%\n",
      "FDR mean: 1.2%  std: 7.3%\n",
      "Epoch:      0, d_loss (Acc)): 0.511, v_loss (Acc): 0.464, g_loss: -0.0566\n"
     ]
    },
    {
     "name": "stdout",
     "output_type": "stream",
     "text": [
      "[[0.75554749 0.80714293]\n",
      " [0.76793189 0.8230411 ]\n",
      " [0.6841     0.7187    ]]\n",
      "now at training epoch number 3400 hyp-params: lamda 0.1000 prior 0.0000\n",
      "rec time now 0 dataset now: Syn4\n"
     ]
    },
    {
     "name": "stderr",
     "output_type": "stream",
     "text": [
      "TPR mean: 99.2%  std: 5.9%\n",
      "FDR mean: 1.9%  std: 9.0%\n"
     ]
    },
    {
     "name": "stdout",
     "output_type": "stream",
     "text": [
      "[[0.75726182 0.81278414]\n",
      " [0.77413029 0.82721591]\n",
      " [0.6855     0.722     ]]\n",
      "rec time now 1 dataset now: Syn4\n"
     ]
    },
    {
     "name": "stderr",
     "output_type": "stream",
     "text": [
      "TPR mean: 99.0%  std: 6.6%\n",
      "FDR mean: 1.2%  std: 7.5%\n"
     ]
    },
    {
     "name": "stdout",
     "output_type": "stream",
     "text": [
      "[[0.75726182 0.81263129]\n",
      " [0.77413029 0.82731543]\n",
      " [0.6855     0.7202    ]]\n",
      "rec time now 2 dataset now: Syn4\n"
     ]
    },
    {
     "name": "stderr",
     "output_type": "stream",
     "text": [
      "TPR mean: 99.0%  std: 6.7%\n",
      "FDR mean: 1.2%  std: 7.3%\n"
     ]
    },
    {
     "name": "stdout",
     "output_type": "stream",
     "text": [
      "[[0.75726182 0.81231712]\n",
      " [0.77413029 0.82710533]\n",
      " [0.6855     0.7194    ]]\n",
      "rec time now 3 dataset now: Syn4\n"
     ]
    },
    {
     "name": "stderr",
     "output_type": "stream",
     "text": [
      "TPR mean: 99.0%  std: 6.7%\n",
      "FDR mean: 1.2%  std: 7.3%\n",
      "Epoch:      0, d_loss (Acc)): 0.506, v_loss (Acc): 0.477, g_loss: -0.0055\n"
     ]
    },
    {
     "name": "stdout",
     "output_type": "stream",
     "text": [
      "[[0.75726182 0.81243354]\n",
      " [0.77413029 0.82725504]\n",
      " [0.6855     0.7195    ]]\n",
      "now at training epoch number 3500 hyp-params: lamda 0.1000 prior 0.0000\n",
      "rec time now 0 dataset now: Syn4\n"
     ]
    },
    {
     "name": "stderr",
     "output_type": "stream",
     "text": [
      "TPR mean: 99.1%  std: 6.2%\n",
      "FDR mean: 2.2%  std: 10.0%\n"
     ]
    },
    {
     "name": "stdout",
     "output_type": "stream",
     "text": [
      "[[0.75555607 0.81174088]\n",
      " [0.76848573 0.82672634]\n",
      " [0.6832     0.7242    ]]\n",
      "rec time now 1 dataset now: Syn4\n"
     ]
    },
    {
     "name": "stderr",
     "output_type": "stream",
     "text": [
      "TPR mean: 98.3%  std: 10.8%\n",
      "FDR mean: 1.6%  std: 9.0%\n"
     ]
    },
    {
     "name": "stdout",
     "output_type": "stream",
     "text": [
      "[[0.75555607 0.80957614]\n",
      " [0.76848573 0.82641431]\n",
      " [0.6832     0.7175    ]]\n",
      "rec time now 2 dataset now: Syn4\n"
     ]
    },
    {
     "name": "stderr",
     "output_type": "stream",
     "text": [
      "TPR mean: 98.2%  std: 11.8%\n",
      "FDR mean: 1.6%  std: 8.9%\n"
     ]
    },
    {
     "name": "stdout",
     "output_type": "stream",
     "text": [
      "[[0.75555607 0.8093532 ]\n",
      " [0.76848573 0.82642986]\n",
      " [0.6832     0.7162    ]]\n",
      "rec time now 3 dataset now: Syn4\n"
     ]
    },
    {
     "name": "stderr",
     "output_type": "stream",
     "text": [
      "TPR mean: 98.1%  std: 12.0%\n",
      "FDR mean: 1.6%  std: 8.9%\n",
      "Epoch:      0, d_loss (Acc)): 0.520, v_loss (Acc): 0.480, g_loss: -0.0261\n"
     ]
    },
    {
     "name": "stdout",
     "output_type": "stream",
     "text": [
      "[[0.75555607 0.80942661]\n",
      " [0.76848573 0.82646297]\n",
      " [0.6832     0.7161    ]]\n",
      "now at training epoch number 3600 hyp-params: lamda 0.1000 prior 0.0000\n",
      "rec time now 0 dataset now: Syn4\n"
     ]
    },
    {
     "name": "stderr",
     "output_type": "stream",
     "text": [
      "TPR mean: 99.0%  std: 6.4%\n",
      "FDR mean: 2.0%  std: 9.7%\n"
     ]
    },
    {
     "name": "stdout",
     "output_type": "stream",
     "text": [
      "[[0.75680195 0.81213539]\n",
      " [0.77155282 0.82643351]\n",
      " [0.6848     0.724     ]]\n",
      "rec time now 1 dataset now: Syn4\n"
     ]
    },
    {
     "name": "stderr",
     "output_type": "stream",
     "text": [
      "TPR mean: 98.7%  std: 8.1%\n",
      "FDR mean: 1.4%  std: 8.3%\n"
     ]
    },
    {
     "name": "stdout",
     "output_type": "stream",
     "text": [
      "[[0.75680195 0.81267722]\n",
      " [0.77155282 0.82770213]\n",
      " [0.6848     0.7223    ]]\n",
      "rec time now 2 dataset now: Syn4\n"
     ]
    },
    {
     "name": "stderr",
     "output_type": "stream",
     "text": [
      "TPR mean: 98.6%  std: 8.4%\n",
      "FDR mean: 1.4%  std: 8.2%\n"
     ]
    },
    {
     "name": "stdout",
     "output_type": "stream",
     "text": [
      "[[0.75680195 0.81227892]\n",
      " [0.77155282 0.82752493]\n",
      " [0.6848     0.7215    ]]\n",
      "rec time now 3 dataset now: Syn4\n"
     ]
    },
    {
     "name": "stderr",
     "output_type": "stream",
     "text": [
      "TPR mean: 98.6%  std: 8.4%\n",
      "FDR mean: 1.4%  std: 8.2%\n",
      "Epoch:      0, d_loss (Acc)): 0.534, v_loss (Acc): 0.516, g_loss: -0.0170\n"
     ]
    },
    {
     "name": "stdout",
     "output_type": "stream",
     "text": [
      "[[0.75680195 0.81222705]\n",
      " [0.77155282 0.82750544]\n",
      " [0.6848     0.7215    ]]\n",
      "now at training epoch number 3700 hyp-params: lamda 0.1000 prior 0.0000\n",
      "rec time now 0 dataset now: Syn4\n"
     ]
    },
    {
     "name": "stderr",
     "output_type": "stream",
     "text": [
      "TPR mean: 99.0%  std: 6.4%\n",
      "FDR mean: 1.9%  std: 9.3%\n"
     ]
    },
    {
     "name": "stdout",
     "output_type": "stream",
     "text": [
      "[[0.75449229 0.80809803]\n",
      " [0.7693728  0.82302311]\n",
      " [0.6815     0.7191    ]]\n",
      "rec time now 1 dataset now: Syn4\n"
     ]
    },
    {
     "name": "stderr",
     "output_type": "stream",
     "text": [
      "TPR mean: 98.5%  std: 9.3%\n",
      "FDR mean: 1.2%  std: 7.7%\n"
     ]
    },
    {
     "name": "stdout",
     "output_type": "stream",
     "text": [
      "[[0.75449229 0.80753103]\n",
      " [0.7693728  0.82368124]\n",
      " [0.6815     0.7159    ]]\n",
      "rec time now 2 dataset now: Syn4\n"
     ]
    },
    {
     "name": "stderr",
     "output_type": "stream",
     "text": [
      "TPR mean: 98.4%  std: 9.9%\n",
      "FDR mean: 1.2%  std: 7.6%\n"
     ]
    },
    {
     "name": "stdout",
     "output_type": "stream",
     "text": [
      "[[0.75449229 0.80700103]\n",
      " [0.7693728  0.82340485]\n",
      " [0.6815     0.7144    ]]\n",
      "rec time now 3 dataset now: Syn4\n"
     ]
    },
    {
     "name": "stderr",
     "output_type": "stream",
     "text": [
      "TPR mean: 98.4%  std: 9.9%\n",
      "FDR mean: 1.2%  std: 7.6%\n",
      "Epoch:      0, d_loss (Acc)): 0.532, v_loss (Acc): 0.486, g_loss: -0.0438\n"
     ]
    },
    {
     "name": "stdout",
     "output_type": "stream",
     "text": [
      "[[0.75449229 0.8069794 ]\n",
      " [0.7693728  0.82339468]\n",
      " [0.6815     0.7142    ]]\n",
      "now at training epoch number 3800 hyp-params: lamda 0.1000 prior 0.0000\n",
      "rec time now 0 dataset now: Syn4\n"
     ]
    },
    {
     "name": "stderr",
     "output_type": "stream",
     "text": [
      "TPR mean: 98.9%  std: 6.6%\n",
      "FDR mean: 2.0%  std: 9.4%\n"
     ]
    },
    {
     "name": "stdout",
     "output_type": "stream",
     "text": [
      "[[0.75656248 0.80654625]\n",
      " [0.76963805 0.82113189]\n",
      " [0.6832     0.715     ]]\n",
      "rec time now 1 dataset now: Syn4\n"
     ]
    },
    {
     "name": "stderr",
     "output_type": "stream",
     "text": [
      "TPR mean: 98.4%  std: 9.9%\n",
      "FDR mean: 1.3%  std: 7.8%\n"
     ]
    },
    {
     "name": "stdout",
     "output_type": "stream",
     "text": [
      "[[0.75656248 0.80530634]\n",
      " [0.76963805 0.82060999]\n",
      " [0.6832     0.7123    ]]\n",
      "rec time now 2 dataset now: Syn4\n"
     ]
    },
    {
     "name": "stderr",
     "output_type": "stream",
     "text": [
      "TPR mean: 98.3%  std: 10.8%\n",
      "FDR mean: 1.3%  std: 7.6%\n"
     ]
    },
    {
     "name": "stdout",
     "output_type": "stream",
     "text": [
      "[[0.75656248 0.80515815]\n",
      " [0.76963805 0.82060004]\n",
      " [0.6832     0.7116    ]]\n",
      "rec time now 3 dataset now: Syn4\n"
     ]
    },
    {
     "name": "stderr",
     "output_type": "stream",
     "text": [
      "TPR mean: 98.3%  std: 10.9%\n",
      "FDR mean: 1.3%  std: 7.6%\n",
      "Epoch:      0, d_loss (Acc)): 0.495, v_loss (Acc): 0.452, g_loss: -0.0699\n"
     ]
    },
    {
     "name": "stdout",
     "output_type": "stream",
     "text": [
      "[[0.75656248 0.8052862 ]\n",
      " [0.76963805 0.82074094]\n",
      " [0.6832     0.7116    ]]\n",
      "now at training epoch number 3900 hyp-params: lamda 0.1000 prior 0.0000\n",
      "rec time now 0 dataset now: Syn4\n"
     ]
    },
    {
     "name": "stderr",
     "output_type": "stream",
     "text": [
      "TPR mean: 98.8%  std: 6.7%\n",
      "FDR mean: 1.8%  std: 8.8%\n"
     ]
    },
    {
     "name": "stdout",
     "output_type": "stream",
     "text": [
      "[[0.75577385 0.81106763]\n",
      " [0.77087712 0.82639105]\n",
      " [0.684      0.7203    ]]\n",
      "rec time now 1 dataset now: Syn4\n"
     ]
    },
    {
     "name": "stderr",
     "output_type": "stream",
     "text": [
      "TPR mean: 97.8%  std: 12.0%\n",
      "FDR mean: 1.3%  std: 7.3%\n"
     ]
    },
    {
     "name": "stdout",
     "output_type": "stream",
     "text": [
      "[[0.75577385 0.80793275]\n",
      " [0.77087712 0.82464294]\n",
      " [0.684      0.713     ]]\n",
      "rec time now 2 dataset now: Syn4\n"
     ]
    },
    {
     "name": "stderr",
     "output_type": "stream",
     "text": [
      "TPR mean: 97.6%  std: 13.0%\n",
      "FDR mean: 1.2%  std: 7.2%\n"
     ]
    },
    {
     "name": "stdout",
     "output_type": "stream",
     "text": [
      "[[0.75577385 0.8073527 ]\n",
      " [0.77087712 0.82446884]\n",
      " [0.684      0.7116    ]]\n",
      "rec time now 3 dataset now: Syn4\n"
     ]
    },
    {
     "name": "stderr",
     "output_type": "stream",
     "text": [
      "TPR mean: 97.6%  std: 13.0%\n",
      "FDR mean: 1.2%  std: 7.2%\n",
      "Epoch:      0, d_loss (Acc)): 0.511, v_loss (Acc): 0.468, g_loss: -0.0022\n"
     ]
    },
    {
     "name": "stdout",
     "output_type": "stream",
     "text": [
      "[[0.75577385 0.80732551]\n",
      " [0.77087712 0.8244534 ]\n",
      " [0.684      0.7115    ]]\n",
      "now at training epoch number 4000 hyp-params: lamda 0.1000 prior 0.0000\n",
      "rec time now 0 dataset now: Syn4\n"
     ]
    },
    {
     "name": "stderr",
     "output_type": "stream",
     "text": [
      "TPR mean: 98.6%  std: 7.2%\n",
      "FDR mean: 1.8%  std: 8.9%\n"
     ]
    },
    {
     "name": "stdout",
     "output_type": "stream",
     "text": [
      "[[0.7540689  0.81203014]\n",
      " [0.76628904 0.82699616]\n",
      " [0.684      0.7202    ]]\n",
      "rec time now 1 dataset now: Syn4\n"
     ]
    },
    {
     "name": "stderr",
     "output_type": "stream",
     "text": [
      "TPR mean: 97.8%  std: 11.6%\n",
      "FDR mean: 1.2%  std: 7.3%\n"
     ]
    },
    {
     "name": "stdout",
     "output_type": "stream",
     "text": [
      "[[0.7540689  0.80881472]\n",
      " [0.76628904 0.82552148]\n",
      " [0.684      0.7162    ]]\n",
      "rec time now 2 dataset now: Syn4\n"
     ]
    },
    {
     "name": "stderr",
     "output_type": "stream",
     "text": [
      "TPR mean: 97.6%  std: 12.5%\n",
      "FDR mean: 1.1%  std: 7.2%\n"
     ]
    },
    {
     "name": "stdout",
     "output_type": "stream",
     "text": [
      "[[0.7540689  0.80829516]\n",
      " [0.76628904 0.82538448]\n",
      " [0.684      0.7173    ]]\n",
      "rec time now 3 dataset now: Syn4\n"
     ]
    },
    {
     "name": "stderr",
     "output_type": "stream",
     "text": [
      "TPR mean: 97.6%  std: 12.6%\n",
      "FDR mean: 1.1%  std: 7.1%\n",
      "Epoch:      0, d_loss (Acc)): 0.524, v_loss (Acc): 0.494, g_loss: -0.0394\n"
     ]
    },
    {
     "name": "stdout",
     "output_type": "stream",
     "text": [
      "[[0.7540689  0.80833679]\n",
      " [0.76628904 0.82540587]\n",
      " [0.684      0.7175    ]]\n",
      "now at training epoch number 4100 hyp-params: lamda 0.1000 prior 0.0000\n",
      "rec time now 0 dataset now: Syn4\n"
     ]
    },
    {
     "name": "stderr",
     "output_type": "stream",
     "text": [
      "TPR mean: 98.3%  std: 8.1%\n",
      "FDR mean: 1.8%  std: 8.8%\n"
     ]
    },
    {
     "name": "stdout",
     "output_type": "stream",
     "text": [
      "[[0.75158952 0.81031218]\n",
      " [0.76483821 0.82511321]\n",
      " [0.6813     0.7182    ]]\n",
      "rec time now 1 dataset now: Syn4\n"
     ]
    },
    {
     "name": "stderr",
     "output_type": "stream",
     "text": [
      "TPR mean: 97.9%  std: 9.1%\n",
      "FDR mean: 1.2%  std: 7.1%\n"
     ]
    },
    {
     "name": "stdout",
     "output_type": "stream",
     "text": [
      "[[0.75158952 0.81003312]\n",
      " [0.76483821 0.82469234]\n",
      " [0.6813     0.7178    ]]\n",
      "rec time now 2 dataset now: Syn4\n"
     ]
    },
    {
     "name": "stderr",
     "output_type": "stream",
     "text": [
      "TPR mean: 97.9%  std: 9.2%\n",
      "FDR mean: 1.1%  std: 6.9%\n"
     ]
    },
    {
     "name": "stdout",
     "output_type": "stream",
     "text": [
      "[[0.75158952 0.80993229]\n",
      " [0.76483821 0.82461399]\n",
      " [0.6813     0.7174    ]]\n",
      "rec time now 3 dataset now: Syn4\n"
     ]
    },
    {
     "name": "stderr",
     "output_type": "stream",
     "text": [
      "TPR mean: 97.9%  std: 9.2%\n",
      "FDR mean: 1.1%  std: 6.9%\n",
      "Epoch:      0, d_loss (Acc)): 0.528, v_loss (Acc): 0.488, g_loss: -0.0036\n"
     ]
    },
    {
     "name": "stdout",
     "output_type": "stream",
     "text": [
      "[[0.75158952 0.80999019]\n",
      " [0.76483821 0.82465329]\n",
      " [0.6813     0.7175    ]]\n",
      "now at training epoch number 4200 hyp-params: lamda 0.1000 prior 0.0000\n",
      "rec time now 0 dataset now: Syn4\n"
     ]
    },
    {
     "name": "stderr",
     "output_type": "stream",
     "text": [
      "TPR mean: 98.8%  std: 7.0%\n",
      "FDR mean: 1.9%  std: 9.3%\n"
     ]
    },
    {
     "name": "stdout",
     "output_type": "stream",
     "text": [
      "[[0.75454388 0.81185566]\n",
      " [0.76777456 0.82747739]\n",
      " [0.6839     0.7221    ]]\n",
      "rec time now 1 dataset now: Syn4\n"
     ]
    },
    {
     "name": "stderr",
     "output_type": "stream",
     "text": [
      "TPR mean: 98.3%  std: 9.2%\n",
      "FDR mean: 1.3%  std: 7.8%\n"
     ]
    },
    {
     "name": "stdout",
     "output_type": "stream",
     "text": [
      "[[0.75454388 0.81104158]\n",
      " [0.76777456 0.82763092]\n",
      " [0.6839     0.7175    ]]\n",
      "rec time now 2 dataset now: Syn4\n"
     ]
    },
    {
     "name": "stderr",
     "output_type": "stream",
     "text": [
      "TPR mean: 98.3%  std: 9.6%\n",
      "FDR mean: 1.2%  std: 7.7%\n"
     ]
    },
    {
     "name": "stdout",
     "output_type": "stream",
     "text": [
      "[[0.75454388 0.81048995]\n",
      " [0.76777456 0.82712378]\n",
      " [0.6839     0.7168    ]]\n",
      "rec time now 3 dataset now: Syn4\n"
     ]
    },
    {
     "name": "stderr",
     "output_type": "stream",
     "text": [
      "TPR mean: 98.3%  std: 9.6%\n",
      "FDR mean: 1.2%  std: 7.6%\n",
      "Epoch:      0, d_loss (Acc)): 0.532, v_loss (Acc): 0.494, g_loss: -0.0094\n"
     ]
    },
    {
     "name": "stdout",
     "output_type": "stream",
     "text": [
      "[[0.75454388 0.81058189]\n",
      " [0.76777456 0.8272602 ]\n",
      " [0.6839     0.717     ]]\n",
      "now at training epoch number 4300 hyp-params: lamda 0.1000 prior 0.0000\n",
      "rec time now 0 dataset now: Syn4\n"
     ]
    },
    {
     "name": "stderr",
     "output_type": "stream",
     "text": [
      "TPR mean: 98.2%  std: 8.0%\n",
      "FDR mean: 1.7%  std: 8.7%\n"
     ]
    },
    {
     "name": "stdout",
     "output_type": "stream",
     "text": [
      "[[0.75697104 0.81181639]\n",
      " [0.77350761 0.82675455]\n",
      " [0.6853     0.7263    ]]\n",
      "rec time now 1 dataset now: Syn4\n"
     ]
    },
    {
     "name": "stderr",
     "output_type": "stream",
     "text": [
      "TPR mean: 97.9%  std: 8.8%\n",
      "FDR mean: 1.1%  std: 7.0%\n"
     ]
    },
    {
     "name": "stdout",
     "output_type": "stream",
     "text": [
      "[[0.75697104 0.81178111]\n",
      " [0.77350761 0.82699086]\n",
      " [0.6853     0.7258    ]]\n",
      "rec time now 2 dataset now: Syn4\n"
     ]
    },
    {
     "name": "stderr",
     "output_type": "stream",
     "text": [
      "TPR mean: 97.8%  std: 8.8%\n",
      "FDR mean: 1.1%  std: 6.9%\n"
     ]
    },
    {
     "name": "stdout",
     "output_type": "stream",
     "text": [
      "[[0.75697104 0.81179748]\n",
      " [0.77350761 0.82707066]\n",
      " [0.6853     0.7259    ]]\n",
      "rec time now 3 dataset now: Syn4\n"
     ]
    },
    {
     "name": "stderr",
     "output_type": "stream",
     "text": [
      "TPR mean: 97.8%  std: 8.8%\n",
      "FDR mean: 1.1%  std: 6.8%\n",
      "Epoch:      0, d_loss (Acc)): 0.524, v_loss (Acc): 0.486, g_loss: -0.0520\n"
     ]
    },
    {
     "name": "stdout",
     "output_type": "stream",
     "text": [
      "[[0.75697104 0.8118556 ]\n",
      " [0.77350761 0.82711038]\n",
      " [0.6853     0.726     ]]\n",
      "now at training epoch number 4400 hyp-params: lamda 0.1000 prior 0.0000\n",
      "rec time now 0 dataset now: Syn4\n"
     ]
    },
    {
     "name": "stderr",
     "output_type": "stream",
     "text": [
      "TPR mean: 98.8%  std: 6.6%\n",
      "FDR mean: 1.7%  std: 8.7%\n"
     ]
    },
    {
     "name": "stdout",
     "output_type": "stream",
     "text": [
      "[[0.75594668 0.81222291]\n",
      " [0.77132817 0.82669595]\n",
      " [0.6839     0.723     ]]\n",
      "rec time now 1 dataset now: Syn4\n"
     ]
    },
    {
     "name": "stderr",
     "output_type": "stream",
     "text": [
      "TPR mean: 98.3%  std: 9.2%\n",
      "FDR mean: 1.2%  std: 7.4%\n"
     ]
    },
    {
     "name": "stdout",
     "output_type": "stream",
     "text": [
      "[[0.75594668 0.81083405]\n",
      " [0.77132817 0.82596878]\n",
      " [0.6839     0.7202    ]]\n",
      "rec time now 2 dataset now: Syn4\n"
     ]
    },
    {
     "name": "stderr",
     "output_type": "stream",
     "text": [
      "TPR mean: 98.2%  std: 9.7%\n",
      "FDR mean: 1.2%  std: 7.3%\n"
     ]
    },
    {
     "name": "stdout",
     "output_type": "stream",
     "text": [
      "[[0.75594668 0.81073419]\n",
      " [0.77132817 0.82586313]\n",
      " [0.6839     0.7207    ]]\n",
      "rec time now 3 dataset now: Syn4\n"
     ]
    },
    {
     "name": "stderr",
     "output_type": "stream",
     "text": [
      "TPR mean: 98.2%  std: 9.7%\n",
      "FDR mean: 1.2%  std: 7.3%\n",
      "Epoch:      0, d_loss (Acc)): 0.492, v_loss (Acc): 0.469, g_loss: +0.0193\n"
     ]
    },
    {
     "name": "stdout",
     "output_type": "stream",
     "text": [
      "[[0.75594668 0.81073419]\n",
      " [0.77132817 0.82586313]\n",
      " [0.6839     0.7207    ]]\n",
      "now at training epoch number 4500 hyp-params: lamda 0.1000 prior 0.0000\n",
      "rec time now 0 dataset now: Syn4\n"
     ]
    },
    {
     "name": "stderr",
     "output_type": "stream",
     "text": [
      "TPR mean: 99.1%  std: 5.7%\n",
      "FDR mean: 1.6%  std: 8.2%\n"
     ]
    },
    {
     "name": "stdout",
     "output_type": "stream",
     "text": [
      "[[0.75517277 0.8089545 ]\n",
      " [0.7718209  0.8246831 ]\n",
      " [0.6809     0.7229    ]]\n",
      "rec time now 1 dataset now: Syn4\n"
     ]
    },
    {
     "name": "stderr",
     "output_type": "stream",
     "text": [
      "TPR mean: 98.9%  std: 6.7%\n",
      "FDR mean: 1.1%  std: 6.8%\n"
     ]
    },
    {
     "name": "stdout",
     "output_type": "stream",
     "text": [
      "[[0.75517277 0.8089148 ]\n",
      " [0.7718209  0.82484185]\n",
      " [0.6809     0.7219    ]]\n",
      "rec time now 2 dataset now: Syn4\n"
     ]
    },
    {
     "name": "stderr",
     "output_type": "stream",
     "text": [
      "TPR mean: 98.9%  std: 6.8%\n",
      "FDR mean: 1.1%  std: 6.7%\n"
     ]
    },
    {
     "name": "stdout",
     "output_type": "stream",
     "text": [
      "[[0.75517277 0.80890311]\n",
      " [0.7718209  0.82488497]\n",
      " [0.6809     0.7221    ]]\n",
      "rec time now 3 dataset now: Syn4\n"
     ]
    },
    {
     "name": "stderr",
     "output_type": "stream",
     "text": [
      "TPR mean: 98.9%  std: 6.8%\n",
      "FDR mean: 1.1%  std: 6.7%\n",
      "Epoch:      0, d_loss (Acc)): 0.502, v_loss (Acc): 0.456, g_loss: -0.0310\n"
     ]
    },
    {
     "name": "stdout",
     "output_type": "stream",
     "text": [
      "[[0.75517277 0.80890311]\n",
      " [0.7718209  0.82488497]\n",
      " [0.6809     0.7221    ]]\n",
      "now at training epoch number 4600 hyp-params: lamda 0.1000 prior 0.0000\n",
      "rec time now 0 dataset now: Syn4\n"
     ]
    },
    {
     "name": "stderr",
     "output_type": "stream",
     "text": [
      "TPR mean: 98.9%  std: 6.5%\n",
      "FDR mean: 1.6%  std: 8.5%\n"
     ]
    },
    {
     "name": "stdout",
     "output_type": "stream",
     "text": [
      "[[0.75471279 0.81095575]\n",
      " [0.77105862 0.82536426]\n",
      " [0.6851     0.7214    ]]\n",
      "rec time now 1 dataset now: Syn4\n"
     ]
    },
    {
     "name": "stderr",
     "output_type": "stream",
     "text": [
      "TPR mean: 98.5%  std: 8.1%\n",
      "FDR mean: 1.1%  std: 7.2%\n"
     ]
    },
    {
     "name": "stdout",
     "output_type": "stream",
     "text": [
      "[[0.75471279 0.81099447]\n",
      " [0.77105862 0.82537212]\n",
      " [0.6851     0.7212    ]]\n",
      "rec time now 2 dataset now: Syn4\n"
     ]
    },
    {
     "name": "stderr",
     "output_type": "stream",
     "text": [
      "TPR mean: 98.5%  std: 8.2%\n",
      "FDR mean: 1.1%  std: 7.1%\n"
     ]
    },
    {
     "name": "stdout",
     "output_type": "stream",
     "text": [
      "[[0.75471279 0.81085995]\n",
      " [0.77105862 0.82529072]\n",
      " [0.6851     0.7207    ]]\n",
      "rec time now 3 dataset now: Syn4\n"
     ]
    },
    {
     "name": "stderr",
     "output_type": "stream",
     "text": [
      "TPR mean: 98.5%  std: 8.2%\n",
      "FDR mean: 1.1%  std: 7.1%\n",
      "Epoch:      0, d_loss (Acc)): 0.505, v_loss (Acc): 0.477, g_loss: +0.0109\n"
     ]
    },
    {
     "name": "stdout",
     "output_type": "stream",
     "text": [
      "[[0.75471279 0.810876  ]\n",
      " [0.77105862 0.82529952]\n",
      " [0.6851     0.7207    ]]\n",
      "now at training epoch number 4700 hyp-params: lamda 0.1000 prior 0.0000\n",
      "rec time now 0 dataset now: Syn4\n"
     ]
    },
    {
     "name": "stderr",
     "output_type": "stream",
     "text": [
      "TPR mean: 99.0%  std: 6.1%\n",
      "FDR mean: 1.7%  std: 8.6%\n"
     ]
    },
    {
     "name": "stdout",
     "output_type": "stream",
     "text": [
      "[[0.75597815 0.81149987]\n",
      " [0.77219258 0.82625731]\n",
      " [0.683      0.7234    ]]\n",
      "rec time now 1 dataset now: Syn4\n"
     ]
    },
    {
     "name": "stderr",
     "output_type": "stream",
     "text": [
      "TPR mean: 98.1%  std: 11.3%\n",
      "FDR mean: 1.3%  std: 7.6%\n"
     ]
    },
    {
     "name": "stdout",
     "output_type": "stream",
     "text": [
      "[[0.75597815 0.80842968]\n",
      " [0.77219258 0.82489508]\n",
      " [0.683      0.7189    ]]\n",
      "rec time now 2 dataset now: Syn4\n"
     ]
    },
    {
     "name": "stderr",
     "output_type": "stream",
     "text": [
      "TPR mean: 98.0%  std: 12.1%\n",
      "FDR mean: 1.2%  std: 7.6%\n"
     ]
    },
    {
     "name": "stdout",
     "output_type": "stream",
     "text": [
      "[[0.75597815 0.80797506]\n",
      " [0.77219258 0.82474165]\n",
      " [0.683      0.718     ]]\n",
      "rec time now 3 dataset now: Syn4\n"
     ]
    },
    {
     "name": "stderr",
     "output_type": "stream",
     "text": [
      "TPR mean: 97.9%  std: 12.1%\n",
      "FDR mean: 1.2%  std: 7.6%\n",
      "Epoch:      0, d_loss (Acc)): 0.527, v_loss (Acc): 0.486, g_loss: -0.0111\n"
     ]
    },
    {
     "name": "stdout",
     "output_type": "stream",
     "text": [
      "[[0.75597815 0.80802523]\n",
      " [0.77219258 0.82477168]\n",
      " [0.683      0.7184    ]]\n",
      "now at training epoch number 4800 hyp-params: lamda 0.1000 prior 0.0000\n",
      "rec time now 0 dataset now: Syn4\n"
     ]
    },
    {
     "name": "stderr",
     "output_type": "stream",
     "text": [
      "TPR mean: 99.0%  std: 6.1%\n",
      "FDR mean: 1.6%  std: 8.4%\n"
     ]
    },
    {
     "name": "stdout",
     "output_type": "stream",
     "text": [
      "[[0.75419791 0.81277404]\n",
      " [0.76977946 0.82792854]\n",
      " [0.6815     0.7245    ]]\n",
      "rec time now 1 dataset now: Syn4\n"
     ]
    },
    {
     "name": "stderr",
     "output_type": "stream",
     "text": [
      "TPR mean: 98.4%  std: 9.6%\n",
      "FDR mean: 1.1%  std: 7.1%\n"
     ]
    },
    {
     "name": "stdout",
     "output_type": "stream",
     "text": [
      "[[0.75419791 0.81052929]\n",
      " [0.76977946 0.82703483]\n",
      " [0.6815     0.7205    ]]\n",
      "rec time now 2 dataset now: Syn4\n"
     ]
    },
    {
     "name": "stderr",
     "output_type": "stream",
     "text": [
      "TPR mean: 98.4%  std: 10.0%\n",
      "FDR mean: 1.1%  std: 7.1%\n"
     ]
    },
    {
     "name": "stdout",
     "output_type": "stream",
     "text": [
      "[[0.75419791 0.81010508]\n",
      " [0.76977946 0.82694454]\n",
      " [0.6815     0.7199    ]]\n",
      "rec time now 3 dataset now: Syn4\n"
     ]
    },
    {
     "name": "stderr",
     "output_type": "stream",
     "text": [
      "TPR mean: 98.4%  std: 10.0%\n",
      "FDR mean: 1.1%  std: 7.0%\n",
      "Epoch:      0, d_loss (Acc)): 0.496, v_loss (Acc): 0.449, g_loss: -0.0416\n"
     ]
    },
    {
     "name": "stdout",
     "output_type": "stream",
     "text": [
      "[[0.75419791 0.8100951 ]\n",
      " [0.76977946 0.82692733]\n",
      " [0.6815     0.7199    ]]\n",
      "now at training epoch number 4900 hyp-params: lamda 0.1000 prior 0.0000\n",
      "rec time now 0 dataset now: Syn4\n"
     ]
    },
    {
     "name": "stderr",
     "output_type": "stream",
     "text": [
      "TPR mean: 98.6%  std: 7.2%\n",
      "FDR mean: 1.6%  std: 8.6%\n"
     ]
    },
    {
     "name": "stdout",
     "output_type": "stream",
     "text": [
      "[[0.75750856 0.81271064]\n",
      " [0.77355895 0.82678748]\n",
      " [0.6832     0.7269    ]]\n",
      "rec time now 1 dataset now: Syn4\n"
     ]
    },
    {
     "name": "stderr",
     "output_type": "stream",
     "text": [
      "TPR mean: 98.1%  std: 9.6%\n",
      "FDR mean: 1.1%  std: 7.2%\n"
     ]
    },
    {
     "name": "stdout",
     "output_type": "stream",
     "text": [
      "[[0.75750856 0.81213694]\n",
      " [0.77355895 0.82685894]\n",
      " [0.6832     0.7249    ]]\n",
      "rec time now 2 dataset now: Syn4\n"
     ]
    },
    {
     "name": "stderr",
     "output_type": "stream",
     "text": [
      "TPR mean: 98.0%  std: 9.9%\n",
      "FDR mean: 1.1%  std: 7.1%\n"
     ]
    },
    {
     "name": "stdout",
     "output_type": "stream",
     "text": [
      "[[0.75750856 0.81193314]\n",
      " [0.77355895 0.82684416]\n",
      " [0.6832     0.7237    ]]\n",
      "rec time now 3 dataset now: Syn4\n"
     ]
    },
    {
     "name": "stderr",
     "output_type": "stream",
     "text": [
      "TPR mean: 98.0%  std: 9.9%\n",
      "FDR mean: 1.0%  std: 7.1%\n",
      "invase: Syn5 5000 . Y\n",
      "(10000, 11) (10000, 2) (10000, 11) (10000, 2)\n",
      "input shape: 11\n",
      "Epoch:      0, d_loss (Acc)): 0.753, v_loss (Acc): 0.847, g_loss: +0.7578\n"
     ]
    },
    {
     "name": "stdout",
     "output_type": "stream",
     "text": [
      "[[0.75750856 0.81198766]\n",
      " [0.77355895 0.82688106]\n",
      " [0.6832     0.7237    ]]\n",
      "PyTorch Version: elapsed time for Syn4: 11 feature, 10000 sample: [475.9042 477.9214 478.9424 479.2886] sec.\n",
      "now at training epoch number 0 hyp-params: lamda 0.1000 prior 0.0000\n",
      "rec time now 0 dataset now: Syn5\n"
     ]
    },
    {
     "name": "stderr",
     "output_type": "stream",
     "text": [
      "TPR mean: 41.3%  std: 21.5%\n",
      "FDR mean: 53.2%  std: 26.5%\n"
     ]
    },
    {
     "name": "stdout",
     "output_type": "stream",
     "text": [
      "[[0.71390079 0.6738649 ]\n",
      " [0.7214189  0.69047245]\n",
      " [0.658      0.6151    ]]\n",
      "rec time now 1 dataset now: Syn5\n"
     ]
    },
    {
     "name": "stderr",
     "output_type": "stream",
     "text": [
      "TPR mean: 22.0%  std: 19.4%\n",
      "FDR mean: 51.1%  std: 39.6%\n"
     ]
    },
    {
     "name": "stdout",
     "output_type": "stream",
     "text": [
      "[[0.71390079 0.64431526]\n",
      " [0.7214189  0.66761567]\n",
      " [0.658      0.5975    ]]\n",
      "rec time now 2 dataset now: Syn5\n"
     ]
    },
    {
     "name": "stderr",
     "output_type": "stream",
     "text": [
      "TPR mean: 17.9%  std: 18.8%\n",
      "FDR mean: 44.3%  std: 43.0%\n"
     ]
    },
    {
     "name": "stdout",
     "output_type": "stream",
     "text": [
      "[[0.71390079 0.64392395]\n",
      " [0.7214189  0.66482055]\n",
      " [0.658      0.6013    ]]\n",
      "rec time now 3 dataset now: Syn5\n"
     ]
    },
    {
     "name": "stderr",
     "output_type": "stream",
     "text": [
      "TPR mean: 17.1%  std: 18.7%\n",
      "FDR mean: 41.8%  std: 43.1%\n",
      "Epoch:      0, d_loss (Acc)): 0.671, v_loss (Acc): 0.622, g_loss: -0.3286\n"
     ]
    },
    {
     "name": "stdout",
     "output_type": "stream",
     "text": [
      "[[0.71390079 0.64511122]\n",
      " [0.7214189  0.6644018 ]\n",
      " [0.658      0.6015    ]]\n",
      "now at training epoch number 100 hyp-params: lamda 0.1000 prior 0.0000\n",
      "rec time now 0 dataset now: Syn5\n"
     ]
    },
    {
     "name": "stderr",
     "output_type": "stream",
     "text": [
      "TPR mean: 42.6%  std: 23.3%\n",
      "FDR mean: 44.6%  std: 32.1%\n"
     ]
    },
    {
     "name": "stdout",
     "output_type": "stream",
     "text": [
      "[[0.73747569 0.71992538]\n",
      " [0.75212727 0.73443704]\n",
      " [0.6692     0.6434    ]]\n",
      "rec time now 1 dataset now: Syn5\n"
     ]
    },
    {
     "name": "stderr",
     "output_type": "stream",
     "text": [
      "TPR mean: 23.3%  std: 23.4%\n",
      "FDR mean: 37.6%  std: 43.3%\n"
     ]
    },
    {
     "name": "stdout",
     "output_type": "stream",
     "text": [
      "[[0.73747569 0.68120119]\n",
      " [0.75212727 0.70150102]\n",
      " [0.6692     0.6235    ]]\n",
      "rec time now 2 dataset now: Syn5\n"
     ]
    },
    {
     "name": "stderr",
     "output_type": "stream",
     "text": [
      "TPR mean: 20.5%  std: 23.0%\n",
      "FDR mean: 27.9%  std: 41.9%\n"
     ]
    },
    {
     "name": "stdout",
     "output_type": "stream",
     "text": [
      "[[0.73747569 0.67891961]\n",
      " [0.75212727 0.69428021]\n",
      " [0.6692     0.6258    ]]\n",
      "rec time now 3 dataset now: Syn5\n"
     ]
    },
    {
     "name": "stderr",
     "output_type": "stream",
     "text": [
      "TPR mean: 20.2%  std: 23.0%\n",
      "FDR mean: 25.9%  std: 41.1%\n",
      "Epoch:      0, d_loss (Acc)): 0.644, v_loss (Acc): 0.596, g_loss: -0.3188\n"
     ]
    },
    {
     "name": "stdout",
     "output_type": "stream",
     "text": [
      "[[0.73747569 0.67971463]\n",
      " [0.75212727 0.6930805 ]\n",
      " [0.6692     0.6275    ]]\n",
      "now at training epoch number 200 hyp-params: lamda 0.1000 prior 0.0000\n",
      "rec time now 0 dataset now: Syn5\n"
     ]
    },
    {
     "name": "stderr",
     "output_type": "stream",
     "text": [
      "TPR mean: 47.7%  std: 23.3%\n",
      "FDR mean: 36.2%  std: 32.4%\n"
     ]
    },
    {
     "name": "stdout",
     "output_type": "stream",
     "text": [
      "[[0.75351789 0.73611896]\n",
      " [0.76617725 0.75734707]\n",
      " [0.6797     0.6605    ]]\n",
      "rec time now 1 dataset now: Syn5\n"
     ]
    },
    {
     "name": "stderr",
     "output_type": "stream",
     "text": [
      "TPR mean: 28.8%  std: 27.0%\n",
      "FDR mean: 28.9%  std: 40.3%\n"
     ]
    },
    {
     "name": "stdout",
     "output_type": "stream",
     "text": [
      "[[0.75351789 0.7081925 ]\n",
      " [0.76617725 0.73204228]\n",
      " [0.6797     0.6319    ]]\n",
      "rec time now 2 dataset now: Syn5\n"
     ]
    },
    {
     "name": "stderr",
     "output_type": "stream",
     "text": [
      "TPR mean: 26.7%  std: 27.2%\n",
      "FDR mean: 22.0%  std: 37.4%\n"
     ]
    },
    {
     "name": "stdout",
     "output_type": "stream",
     "text": [
      "[[0.75351789 0.70776144]\n",
      " [0.76617725 0.72572871]\n",
      " [0.6797     0.6312    ]]\n",
      "rec time now 3 dataset now: Syn5\n"
     ]
    },
    {
     "name": "stderr",
     "output_type": "stream",
     "text": [
      "TPR mean: 26.5%  std: 27.2%\n",
      "FDR mean: 21.2%  std: 37.1%\n",
      "Epoch:      0, d_loss (Acc)): 0.621, v_loss (Acc): 0.570, g_loss: -0.3472\n"
     ]
    },
    {
     "name": "stdout",
     "output_type": "stream",
     "text": [
      "[[0.75351789 0.70784816]\n",
      " [0.76617725 0.72483236]\n",
      " [0.6797     0.6316    ]]\n",
      "now at training epoch number 300 hyp-params: lamda 0.1000 prior 0.0000\n",
      "rec time now 0 dataset now: Syn5\n"
     ]
    },
    {
     "name": "stderr",
     "output_type": "stream",
     "text": [
      "TPR mean: 52.9%  std: 23.3%\n",
      "FDR mean: 28.0%  std: 31.2%\n"
     ]
    },
    {
     "name": "stdout",
     "output_type": "stream",
     "text": [
      "[[0.76372602 0.7462449 ]\n",
      " [0.77934972 0.7706451 ]\n",
      " [0.6827     0.6644    ]]\n",
      "rec time now 1 dataset now: Syn5\n"
     ]
    },
    {
     "name": "stderr",
     "output_type": "stream",
     "text": [
      "TPR mean: 33.2%  std: 29.4%\n",
      "FDR mean: 21.3%  std: 36.1%\n"
     ]
    },
    {
     "name": "stdout",
     "output_type": "stream",
     "text": [
      "[[0.76372602 0.72087252]\n",
      " [0.77934972 0.74132453]\n",
      " [0.6827     0.6421    ]]\n",
      "rec time now 2 dataset now: Syn5\n"
     ]
    },
    {
     "name": "stderr",
     "output_type": "stream",
     "text": [
      "TPR mean: 30.3%  std: 30.1%\n",
      "FDR mean: 18.3%  std: 34.9%\n"
     ]
    },
    {
     "name": "stdout",
     "output_type": "stream",
     "text": [
      "[[0.76372602 0.71603076]\n",
      " [0.77934972 0.73206241]\n",
      " [0.6827     0.6377    ]]\n",
      "rec time now 3 dataset now: Syn5\n"
     ]
    },
    {
     "name": "stderr",
     "output_type": "stream",
     "text": [
      "TPR mean: 30.2%  std: 30.1%\n",
      "FDR mean: 17.9%  std: 34.7%\n",
      "Epoch:      0, d_loss (Acc)): 0.621, v_loss (Acc): 0.558, g_loss: -0.4151\n"
     ]
    },
    {
     "name": "stdout",
     "output_type": "stream",
     "text": [
      "[[0.76372602 0.71622524]\n",
      " [0.77934972 0.73197743]\n",
      " [0.6827     0.6385    ]]\n",
      "now at training epoch number 400 hyp-params: lamda 0.1000 prior 0.0000\n",
      "rec time now 0 dataset now: Syn5\n"
     ]
    },
    {
     "name": "stderr",
     "output_type": "stream",
     "text": [
      "TPR mean: 60.5%  std: 22.7%\n",
      "FDR mean: 20.5%  std: 28.0%\n"
     ]
    },
    {
     "name": "stdout",
     "output_type": "stream",
     "text": [
      "[[0.76849239 0.75910946]\n",
      " [0.78470835 0.78174486]\n",
      " [0.6874     0.6716    ]]\n",
      "rec time now 1 dataset now: Syn5\n"
     ]
    },
    {
     "name": "stderr",
     "output_type": "stream",
     "text": [
      "TPR mean: 38.6%  std: 31.2%\n",
      "FDR mean: 15.2%  std: 31.3%\n"
     ]
    },
    {
     "name": "stdout",
     "output_type": "stream",
     "text": [
      "[[0.76849239 0.72796076]\n",
      " [0.78470835 0.74680526]\n",
      " [0.6874     0.6446    ]]\n",
      "rec time now 2 dataset now: Syn5\n"
     ]
    },
    {
     "name": "stderr",
     "output_type": "stream",
     "text": [
      "TPR mean: 32.7%  std: 32.7%\n",
      "FDR mean: 13.5%  std: 31.0%\n"
     ]
    },
    {
     "name": "stdout",
     "output_type": "stream",
     "text": [
      "[[0.76849239 0.72306057]\n",
      " [0.78470835 0.73357511]\n",
      " [0.6874     0.6425    ]]\n",
      "rec time now 3 dataset now: Syn5\n"
     ]
    },
    {
     "name": "stderr",
     "output_type": "stream",
     "text": [
      "TPR mean: 32.4%  std: 32.7%\n",
      "FDR mean: 13.4%  std: 30.9%\n",
      "Epoch:      0, d_loss (Acc)): 0.620, v_loss (Acc): 0.568, g_loss: -0.3431\n"
     ]
    },
    {
     "name": "stdout",
     "output_type": "stream",
     "text": [
      "[[0.76849239 0.72227677]\n",
      " [0.78470835 0.73236874]\n",
      " [0.6874     0.6412    ]]\n",
      "now at training epoch number 500 hyp-params: lamda 0.1000 prior 0.0000\n",
      "rec time now 0 dataset now: Syn5\n"
     ]
    },
    {
     "name": "stderr",
     "output_type": "stream",
     "text": [
      "TPR mean: 66.3%  std: 20.8%\n",
      "FDR mean: 16.7%  std: 25.3%\n"
     ]
    },
    {
     "name": "stdout",
     "output_type": "stream",
     "text": [
      "[[0.77090946 0.77144858]\n",
      " [0.7861585  0.79004517]\n",
      " [0.6898     0.6896    ]]\n",
      "rec time now 1 dataset now: Syn5\n"
     ]
    },
    {
     "name": "stderr",
     "output_type": "stream",
     "text": [
      "TPR mean: 42.8%  std: 33.0%\n",
      "FDR mean: 11.6%  std: 27.1%\n"
     ]
    },
    {
     "name": "stdout",
     "output_type": "stream",
     "text": [
      "[[0.77090946 0.73092257]\n",
      " [0.7861585  0.74988011]\n",
      " [0.6898     0.6401    ]]\n",
      "rec time now 2 dataset now: Syn5\n"
     ]
    },
    {
     "name": "stderr",
     "output_type": "stream",
     "text": [
      "TPR mean: 36.3%  std: 34.6%\n",
      "FDR mean: 10.0%  std: 26.6%\n"
     ]
    },
    {
     "name": "stdout",
     "output_type": "stream",
     "text": [
      "[[0.77090946 0.71665168]\n",
      " [0.7861585  0.72974858]\n",
      " [0.6898     0.6299    ]]\n",
      "rec time now 3 dataset now: Syn5\n"
     ]
    },
    {
     "name": "stderr",
     "output_type": "stream",
     "text": [
      "TPR mean: 36.2%  std: 34.6%\n",
      "FDR mean: 10.0%  std: 26.5%\n",
      "Epoch:      0, d_loss (Acc)): 0.594, v_loss (Acc): 0.552, g_loss: -0.2569\n"
     ]
    },
    {
     "name": "stdout",
     "output_type": "stream",
     "text": [
      "[[0.77090946 0.71589474]\n",
      " [0.7861585  0.72913917]\n",
      " [0.6898     0.6293    ]]\n",
      "now at training epoch number 600 hyp-params: lamda 0.1000 prior 0.0000\n",
      "rec time now 0 dataset now: Syn5\n"
     ]
    },
    {
     "name": "stderr",
     "output_type": "stream",
     "text": [
      "TPR mean: 70.2%  std: 18.6%\n",
      "FDR mean: 14.9%  std: 23.7%\n"
     ]
    },
    {
     "name": "stdout",
     "output_type": "stream",
     "text": [
      "[[0.77328529 0.7810496 ]\n",
      " [0.78907828 0.79714143]\n",
      " [0.689      0.6953    ]]\n",
      "rec time now 1 dataset now: Syn5\n"
     ]
    },
    {
     "name": "stderr",
     "output_type": "stream",
     "text": [
      "TPR mean: 46.5%  std: 34.5%\n",
      "FDR mean: 8.9%  std: 23.7%\n"
     ]
    },
    {
     "name": "stdout",
     "output_type": "stream",
     "text": [
      "[[0.77328529 0.73620878]\n",
      " [0.78907828 0.75534465]\n",
      " [0.689      0.6544    ]]\n",
      "rec time now 2 dataset now: Syn5\n"
     ]
    },
    {
     "name": "stderr",
     "output_type": "stream",
     "text": [
      "TPR mean: 40.3%  std: 36.5%\n",
      "FDR mean: 7.7%  std: 23.0%\n"
     ]
    },
    {
     "name": "stdout",
     "output_type": "stream",
     "text": [
      "[[0.77328529 0.72359374]\n",
      " [0.78907828 0.73696533]\n",
      " [0.689      0.6462    ]]\n",
      "rec time now 3 dataset now: Syn5\n"
     ]
    },
    {
     "name": "stderr",
     "output_type": "stream",
     "text": [
      "TPR mean: 40.2%  std: 36.5%\n",
      "FDR mean: 7.6%  std: 23.0%\n",
      "Epoch:      0, d_loss (Acc)): 0.572, v_loss (Acc): 0.526, g_loss: -0.2822\n"
     ]
    },
    {
     "name": "stdout",
     "output_type": "stream",
     "text": [
      "[[0.77328529 0.72355262]\n",
      " [0.78907828 0.73690333]\n",
      " [0.689      0.6465    ]]\n",
      "now at training epoch number 700 hyp-params: lamda 0.1000 prior 0.0000\n",
      "rec time now 0 dataset now: Syn5\n"
     ]
    },
    {
     "name": "stderr",
     "output_type": "stream",
     "text": [
      "TPR mean: 73.4%  std: 17.4%\n",
      "FDR mean: 13.2%  std: 22.5%\n"
     ]
    },
    {
     "name": "stdout",
     "output_type": "stream",
     "text": [
      "[[0.77416019 0.79007348]\n",
      " [0.78996283 0.80326277]\n",
      " [0.6883     0.7013    ]]\n",
      "rec time now 1 dataset now: Syn5\n"
     ]
    },
    {
     "name": "stderr",
     "output_type": "stream",
     "text": [
      "TPR mean: 49.3%  std: 35.8%\n",
      "FDR mean: 6.8%  std: 20.7%\n"
     ]
    },
    {
     "name": "stdout",
     "output_type": "stream",
     "text": [
      "[[0.77416019 0.74209083]\n",
      " [0.78996283 0.75814145]\n",
      " [0.6883     0.6573    ]]\n",
      "rec time now 2 dataset now: Syn5\n"
     ]
    },
    {
     "name": "stderr",
     "output_type": "stream",
     "text": [
      "TPR mean: 43.1%  std: 38.1%\n",
      "FDR mean: 6.0%  std: 19.8%\n"
     ]
    },
    {
     "name": "stdout",
     "output_type": "stream",
     "text": [
      "[[0.77416019 0.7303516 ]\n",
      " [0.78996283 0.74081592]\n",
      " [0.6883     0.6484    ]]\n",
      "rec time now 3 dataset now: Syn5\n"
     ]
    },
    {
     "name": "stderr",
     "output_type": "stream",
     "text": [
      "TPR mean: 43.1%  std: 38.2%\n",
      "FDR mean: 5.9%  std: 19.7%\n",
      "Epoch:      0, d_loss (Acc)): 0.554, v_loss (Acc): 0.538, g_loss: -0.0666\n"
     ]
    },
    {
     "name": "stdout",
     "output_type": "stream",
     "text": [
      "[[0.77416019 0.73033971]\n",
      " [0.78996283 0.74075652]\n",
      " [0.6883     0.6487    ]]\n",
      "now at training epoch number 800 hyp-params: lamda 0.1000 prior 0.0000\n",
      "rec time now 0 dataset now: Syn5\n"
     ]
    },
    {
     "name": "stderr",
     "output_type": "stream",
     "text": [
      "TPR mean: 76.5%  std: 16.6%\n",
      "FDR mean: 11.7%  std: 21.0%\n"
     ]
    },
    {
     "name": "stdout",
     "output_type": "stream",
     "text": [
      "[[0.77622704 0.79396101]\n",
      " [0.79171088 0.8052949 ]\n",
      " [0.6942     0.7036    ]]\n",
      "rec time now 1 dataset now: Syn5\n"
     ]
    },
    {
     "name": "stderr",
     "output_type": "stream",
     "text": [
      "TPR mean: 54.4%  std: 35.1%\n",
      "FDR mean: 5.0%  std: 17.7%\n"
     ]
    },
    {
     "name": "stdout",
     "output_type": "stream",
     "text": [
      "[[0.77622704 0.74521416]\n",
      " [0.79171088 0.76409703]\n",
      " [0.6942     0.6511    ]]\n",
      "rec time now 2 dataset now: Syn5\n"
     ]
    },
    {
     "name": "stderr",
     "output_type": "stream",
     "text": [
      "TPR mean: 48.0%  std: 38.7%\n",
      "FDR mean: 4.7%  std: 17.2%\n"
     ]
    },
    {
     "name": "stdout",
     "output_type": "stream",
     "text": [
      "[[0.77622704 0.72887227]\n",
      " [0.79171088 0.74674534]\n",
      " [0.6942     0.6408    ]]\n",
      "rec time now 3 dataset now: Syn5\n"
     ]
    },
    {
     "name": "stderr",
     "output_type": "stream",
     "text": [
      "TPR mean: 47.8%  std: 38.8%\n",
      "FDR mean: 4.6%  std: 17.1%\n",
      "Epoch:      0, d_loss (Acc)): 0.559, v_loss (Acc): 0.538, g_loss: -0.1188\n"
     ]
    },
    {
     "name": "stdout",
     "output_type": "stream",
     "text": [
      "[[0.77622704 0.72897734]\n",
      " [0.79171088 0.7465579 ]\n",
      " [0.6942     0.6409    ]]\n",
      "now at training epoch number 900 hyp-params: lamda 0.1000 prior 0.0000\n",
      "rec time now 0 dataset now: Syn5\n"
     ]
    },
    {
     "name": "stderr",
     "output_type": "stream",
     "text": [
      "TPR mean: 78.0%  std: 16.4%\n",
      "FDR mean: 11.8%  std: 20.1%\n"
     ]
    },
    {
     "name": "stdout",
     "output_type": "stream",
     "text": [
      "[[0.77563656 0.79861412]\n",
      " [0.79147753 0.809392  ]\n",
      " [0.6925     0.7075    ]]\n",
      "rec time now 1 dataset now: Syn5\n"
     ]
    },
    {
     "name": "stderr",
     "output_type": "stream",
     "text": [
      "TPR mean: 61.3%  std: 29.0%\n",
      "FDR mean: 4.0%  std: 15.9%\n"
     ]
    },
    {
     "name": "stdout",
     "output_type": "stream",
     "text": [
      "[[0.77563656 0.75676274]\n",
      " [0.79147753 0.77849701]\n",
      " [0.6925     0.6661    ]]\n",
      "rec time now 2 dataset now: Syn5\n"
     ]
    },
    {
     "name": "stderr",
     "output_type": "stream",
     "text": [
      "TPR mean: 58.0%  std: 30.2%\n",
      "FDR mean: 3.9%  std: 15.8%\n"
     ]
    },
    {
     "name": "stdout",
     "output_type": "stream",
     "text": [
      "[[0.77563656 0.74070267]\n",
      " [0.79147753 0.76683193]\n",
      " [0.6925     0.6514    ]]\n",
      "rec time now 3 dataset now: Syn5\n"
     ]
    },
    {
     "name": "stderr",
     "output_type": "stream",
     "text": [
      "TPR mean: 57.9%  std: 30.3%\n",
      "FDR mean: 3.9%  std: 15.8%\n",
      "Epoch:      0, d_loss (Acc)): 0.551, v_loss (Acc): 0.517, g_loss: -0.1857\n"
     ]
    },
    {
     "name": "stdout",
     "output_type": "stream",
     "text": [
      "[[0.77563656 0.74023067]\n",
      " [0.79147753 0.76659195]\n",
      " [0.6925     0.6514    ]]\n",
      "now at training epoch number 1000 hyp-params: lamda 0.1000 prior 0.0000\n",
      "rec time now 0 dataset now: Syn5\n"
     ]
    },
    {
     "name": "stderr",
     "output_type": "stream",
     "text": [
      "TPR mean: 79.8%  std: 16.1%\n",
      "FDR mean: 8.9%  std: 18.0%\n"
     ]
    },
    {
     "name": "stdout",
     "output_type": "stream",
     "text": [
      "[[0.77748734 0.80301185]\n",
      " [0.79369487 0.81386343]\n",
      " [0.6945     0.7128    ]]\n",
      "rec time now 1 dataset now: Syn5\n"
     ]
    },
    {
     "name": "stderr",
     "output_type": "stream",
     "text": [
      "TPR mean: 65.4%  std: 27.8%\n",
      "FDR mean: 3.2%  std: 13.6%\n"
     ]
    },
    {
     "name": "stdout",
     "output_type": "stream",
     "text": [
      "[[0.77748734 0.76767717]\n",
      " [0.79369487 0.78778854]\n",
      " [0.6945     0.6672    ]]\n",
      "rec time now 2 dataset now: Syn5\n"
     ]
    },
    {
     "name": "stderr",
     "output_type": "stream",
     "text": [
      "TPR mean: 62.7%  std: 29.3%\n",
      "FDR mean: 3.2%  std: 13.6%\n"
     ]
    },
    {
     "name": "stdout",
     "output_type": "stream",
     "text": [
      "[[0.77748734 0.75936613]\n",
      " [0.79369487 0.78046035]\n",
      " [0.6945     0.6597    ]]\n",
      "rec time now 3 dataset now: Syn5\n"
     ]
    },
    {
     "name": "stderr",
     "output_type": "stream",
     "text": [
      "TPR mean: 62.7%  std: 29.3%\n",
      "FDR mean: 3.2%  std: 13.6%\n",
      "Epoch:      0, d_loss (Acc)): 0.551, v_loss (Acc): 0.535, g_loss: -0.0403\n"
     ]
    },
    {
     "name": "stdout",
     "output_type": "stream",
     "text": [
      "[[0.77748734 0.75931885]\n",
      " [0.79369487 0.78039965]\n",
      " [0.6945     0.6602    ]]\n",
      "now at training epoch number 1100 hyp-params: lamda 0.1000 prior 0.0000\n",
      "rec time now 0 dataset now: Syn5\n"
     ]
    },
    {
     "name": "stderr",
     "output_type": "stream",
     "text": [
      "TPR mean: 81.0%  std: 16.4%\n",
      "FDR mean: 7.5%  std: 16.5%\n"
     ]
    },
    {
     "name": "stdout",
     "output_type": "stream",
     "text": [
      "[[0.77785391 0.80532836]\n",
      " [0.79320882 0.81680376]\n",
      " [0.6947     0.7128    ]]\n",
      "rec time now 1 dataset now: Syn5\n"
     ]
    },
    {
     "name": "stderr",
     "output_type": "stream",
     "text": [
      "TPR mean: 68.3%  std: 27.4%\n",
      "FDR mean: 2.6%  std: 11.7%\n"
     ]
    },
    {
     "name": "stdout",
     "output_type": "stream",
     "text": [
      "[[0.77785391 0.77624255]\n",
      " [0.79320882 0.79448995]\n",
      " [0.6947     0.6814    ]]\n",
      "rec time now 2 dataset now: Syn5\n"
     ]
    },
    {
     "name": "stderr",
     "output_type": "stream",
     "text": [
      "TPR mean: 65.8%  std: 29.1%\n",
      "FDR mean: 2.7%  std: 12.1%\n"
     ]
    },
    {
     "name": "stdout",
     "output_type": "stream",
     "text": [
      "[[0.77785391 0.76743561]\n",
      " [0.79320882 0.78789888]\n",
      " [0.6947     0.6747    ]]\n",
      "rec time now 3 dataset now: Syn5\n"
     ]
    },
    {
     "name": "stderr",
     "output_type": "stream",
     "text": [
      "TPR mean: 65.8%  std: 29.1%\n",
      "FDR mean: 2.7%  std: 12.1%\n",
      "Epoch:      0, d_loss (Acc)): 0.535, v_loss (Acc): 0.528, g_loss: -0.0225\n"
     ]
    },
    {
     "name": "stdout",
     "output_type": "stream",
     "text": [
      "[[0.77785391 0.76732482]\n",
      " [0.79320882 0.78799224]\n",
      " [0.6947     0.6742    ]]\n",
      "now at training epoch number 1200 hyp-params: lamda 0.1000 prior 0.0000\n",
      "rec time now 0 dataset now: Syn5\n"
     ]
    },
    {
     "name": "stderr",
     "output_type": "stream",
     "text": [
      "TPR mean: 81.6%  std: 16.7%\n",
      "FDR mean: 7.0%  std: 15.6%\n"
     ]
    },
    {
     "name": "stdout",
     "output_type": "stream",
     "text": [
      "[[0.77948758 0.80989762]\n",
      " [0.79615109 0.82104074]\n",
      " [0.6943     0.7188    ]]\n",
      "rec time now 1 dataset now: Syn5\n"
     ]
    },
    {
     "name": "stderr",
     "output_type": "stream",
     "text": [
      "TPR mean: 68.9%  std: 28.2%\n",
      "FDR mean: 2.6%  std: 12.0%\n"
     ]
    },
    {
     "name": "stdout",
     "output_type": "stream",
     "text": [
      "[[0.77948758 0.77762957]\n",
      " [0.79615109 0.7959291 ]\n",
      " [0.6943     0.676     ]]\n",
      "rec time now 2 dataset now: Syn5\n"
     ]
    },
    {
     "name": "stderr",
     "output_type": "stream",
     "text": [
      "TPR mean: 66.8%  std: 29.6%\n",
      "FDR mean: 2.6%  std: 12.1%\n"
     ]
    },
    {
     "name": "stdout",
     "output_type": "stream",
     "text": [
      "[[0.77948758 0.77144077]\n",
      " [0.79615109 0.79100599]\n",
      " [0.6943     0.6696    ]]\n",
      "rec time now 3 dataset now: Syn5\n"
     ]
    },
    {
     "name": "stderr",
     "output_type": "stream",
     "text": [
      "TPR mean: 66.8%  std: 29.7%\n",
      "FDR mean: 2.6%  std: 12.1%\n",
      "Epoch:      0, d_loss (Acc)): 0.557, v_loss (Acc): 0.535, g_loss: -0.0936\n"
     ]
    },
    {
     "name": "stdout",
     "output_type": "stream",
     "text": [
      "[[0.77948758 0.77162213]\n",
      " [0.79615109 0.79126758]\n",
      " [0.6943     0.67      ]]\n",
      "now at training epoch number 1300 hyp-params: lamda 0.1000 prior 0.0000\n",
      "rec time now 0 dataset now: Syn5\n"
     ]
    },
    {
     "name": "stderr",
     "output_type": "stream",
     "text": [
      "TPR mean: 82.0%  std: 16.7%\n",
      "FDR mean: 6.7%  std: 15.2%\n"
     ]
    },
    {
     "name": "stdout",
     "output_type": "stream",
     "text": [
      "[[0.77703506 0.81000089]\n",
      " [0.79329183 0.82105162]\n",
      " [0.6923     0.7176    ]]\n",
      "rec time now 1 dataset now: Syn5\n"
     ]
    },
    {
     "name": "stderr",
     "output_type": "stream",
     "text": [
      "TPR mean: 69.7%  std: 28.2%\n",
      "FDR mean: 2.6%  std: 12.0%\n"
     ]
    },
    {
     "name": "stdout",
     "output_type": "stream",
     "text": [
      "[[0.77703506 0.77814787]\n",
      " [0.79329183 0.79799534]\n",
      " [0.6923     0.6773    ]]\n",
      "rec time now 2 dataset now: Syn5\n"
     ]
    },
    {
     "name": "stderr",
     "output_type": "stream",
     "text": [
      "TPR mean: 68.0%  std: 29.4%\n",
      "FDR mean: 2.6%  std: 12.0%\n"
     ]
    },
    {
     "name": "stdout",
     "output_type": "stream",
     "text": [
      "[[0.77703506 0.77437798]\n",
      " [0.79329183 0.79525248]\n",
      " [0.6923     0.6732    ]]\n",
      "rec time now 3 dataset now: Syn5\n"
     ]
    },
    {
     "name": "stderr",
     "output_type": "stream",
     "text": [
      "TPR mean: 68.0%  std: 29.4%\n",
      "FDR mean: 2.6%  std: 12.0%\n",
      "Epoch:      0, d_loss (Acc)): 0.544, v_loss (Acc): 0.525, g_loss: -0.0199\n"
     ]
    },
    {
     "name": "stdout",
     "output_type": "stream",
     "text": [
      "[[0.77703506 0.77423875]\n",
      " [0.79329183 0.79512706]\n",
      " [0.6923     0.6732    ]]\n",
      "now at training epoch number 1400 hyp-params: lamda 0.1000 prior 0.0000\n",
      "rec time now 0 dataset now: Syn5\n"
     ]
    },
    {
     "name": "stderr",
     "output_type": "stream",
     "text": [
      "TPR mean: 82.1%  std: 16.7%\n",
      "FDR mean: 5.1%  std: 13.5%\n"
     ]
    },
    {
     "name": "stdout",
     "output_type": "stream",
     "text": [
      "[[0.77991538 0.81146714]\n",
      " [0.79571537 0.82330867]\n",
      " [0.6948     0.717     ]]\n",
      "rec time now 1 dataset now: Syn5\n"
     ]
    },
    {
     "name": "stderr",
     "output_type": "stream",
     "text": [
      "TPR mean: 75.9%  std: 23.2%\n",
      "FDR mean: 2.1%  std: 11.1%\n"
     ]
    },
    {
     "name": "stdout",
     "output_type": "stream",
     "text": [
      "[[0.77991538 0.79195319]\n",
      " [0.79571537 0.80762138]\n",
      " [0.6948     0.7049    ]]\n",
      "rec time now 2 dataset now: Syn5\n"
     ]
    },
    {
     "name": "stderr",
     "output_type": "stream",
     "text": [
      "TPR mean: 75.1%  std: 24.1%\n",
      "FDR mean: 2.1%  std: 11.2%\n"
     ]
    },
    {
     "name": "stdout",
     "output_type": "stream",
     "text": [
      "[[0.77991538 0.78912353]\n",
      " [0.79571537 0.8056616 ]\n",
      " [0.6948     0.7022    ]]\n",
      "rec time now 3 dataset now: Syn5\n"
     ]
    },
    {
     "name": "stderr",
     "output_type": "stream",
     "text": [
      "TPR mean: 75.1%  std: 24.1%\n",
      "FDR mean: 2.1%  std: 11.2%\n",
      "Epoch:      0, d_loss (Acc)): 0.546, v_loss (Acc): 0.517, g_loss: -0.1212\n"
     ]
    },
    {
     "name": "stdout",
     "output_type": "stream",
     "text": [
      "[[0.77991538 0.78924508]\n",
      " [0.79571537 0.80604365]\n",
      " [0.6948     0.702     ]]\n",
      "now at training epoch number 1500 hyp-params: lamda 0.1000 prior 0.0000\n",
      "rec time now 0 dataset now: Syn5\n"
     ]
    },
    {
     "name": "stderr",
     "output_type": "stream",
     "text": [
      "TPR mean: 82.4%  std: 16.7%\n",
      "FDR mean: 3.9%  std: 12.2%\n"
     ]
    },
    {
     "name": "stdout",
     "output_type": "stream",
     "text": [
      "[[0.7792208  0.80970991]\n",
      " [0.79350807 0.82160851]\n",
      " [0.6947     0.7186    ]]\n",
      "rec time now 1 dataset now: Syn5\n"
     ]
    },
    {
     "name": "stderr",
     "output_type": "stream",
     "text": [
      "TPR mean: 78.4%  std: 20.8%\n",
      "FDR mean: 1.8%  std: 10.1%\n"
     ]
    },
    {
     "name": "stdout",
     "output_type": "stream",
     "text": [
      "[[0.7792208  0.79769332]\n",
      " [0.79350807 0.81171711]\n",
      " [0.6947     0.7129    ]]\n",
      "rec time now 2 dataset now: Syn5\n"
     ]
    },
    {
     "name": "stderr",
     "output_type": "stream",
     "text": [
      "TPR mean: 78.0%  std: 21.3%\n",
      "FDR mean: 1.9%  std: 10.3%\n"
     ]
    },
    {
     "name": "stdout",
     "output_type": "stream",
     "text": [
      "[[0.7792208  0.79641561]\n",
      " [0.79350807 0.8109904 ]\n",
      " [0.6947     0.7124    ]]\n",
      "rec time now 3 dataset now: Syn5\n"
     ]
    },
    {
     "name": "stderr",
     "output_type": "stream",
     "text": [
      "TPR mean: 78.0%  std: 21.4%\n",
      "FDR mean: 1.9%  std: 10.3%\n",
      "Epoch:      0, d_loss (Acc)): 0.510, v_loss (Acc): 0.489, g_loss: -0.0559\n"
     ]
    },
    {
     "name": "stdout",
     "output_type": "stream",
     "text": [
      "[[0.7792208  0.79639125]\n",
      " [0.79350807 0.81124504]\n",
      " [0.6947     0.7125    ]]\n",
      "now at training epoch number 1600 hyp-params: lamda 0.1000 prior 0.0000\n",
      "rec time now 0 dataset now: Syn5\n"
     ]
    },
    {
     "name": "stderr",
     "output_type": "stream",
     "text": [
      "TPR mean: 82.6%  std: 16.8%\n",
      "FDR mean: 4.0%  std: 12.4%\n"
     ]
    },
    {
     "name": "stdout",
     "output_type": "stream",
     "text": [
      "[[0.77836172 0.81056555]\n",
      " [0.79389115 0.82239011]\n",
      " [0.6934     0.716     ]]\n",
      "rec time now 1 dataset now: Syn5\n"
     ]
    },
    {
     "name": "stderr",
     "output_type": "stream",
     "text": [
      "TPR mean: 78.1%  std: 21.5%\n",
      "FDR mean: 1.7%  std: 9.7%\n"
     ]
    },
    {
     "name": "stdout",
     "output_type": "stream",
     "text": [
      "[[0.77836172 0.79932842]\n",
      " [0.79389115 0.81259841]\n",
      " [0.6934     0.7096    ]]\n",
      "rec time now 2 dataset now: Syn5\n"
     ]
    },
    {
     "name": "stderr",
     "output_type": "stream",
     "text": [
      "TPR mean: 77.7%  std: 22.2%\n",
      "FDR mean: 1.7%  std: 10.0%\n"
     ]
    },
    {
     "name": "stdout",
     "output_type": "stream",
     "text": [
      "[[0.77836172 0.79845012]\n",
      " [0.79389115 0.81202394]\n",
      " [0.6934     0.7082    ]]\n",
      "rec time now 3 dataset now: Syn5\n"
     ]
    },
    {
     "name": "stderr",
     "output_type": "stream",
     "text": [
      "TPR mean: 77.6%  std: 22.2%\n",
      "FDR mean: 1.7%  std: 10.0%\n",
      "Epoch:      0, d_loss (Acc)): 0.509, v_loss (Acc): 0.491, g_loss: -0.0795\n"
     ]
    },
    {
     "name": "stdout",
     "output_type": "stream",
     "text": [
      "[[0.77836172 0.79851425]\n",
      " [0.79389115 0.81224749]\n",
      " [0.6934     0.7075    ]]\n",
      "now at training epoch number 1700 hyp-params: lamda 0.1000 prior 0.0000\n",
      "rec time now 0 dataset now: Syn5\n"
     ]
    },
    {
     "name": "stderr",
     "output_type": "stream",
     "text": [
      "TPR mean: 82.4%  std: 16.8%\n",
      "FDR mean: 3.0%  std: 11.0%\n"
     ]
    },
    {
     "name": "stdout",
     "output_type": "stream",
     "text": [
      "[[0.77926298 0.81000099]\n",
      " [0.79453877 0.8218554 ]\n",
      " [0.6917     0.7157    ]]\n",
      "rec time now 1 dataset now: Syn5\n"
     ]
    },
    {
     "name": "stderr",
     "output_type": "stream",
     "text": [
      "TPR mean: 79.6%  std: 19.4%\n",
      "FDR mean: 1.6%  std: 9.9%\n"
     ]
    },
    {
     "name": "stdout",
     "output_type": "stream",
     "text": [
      "[[0.77926298 0.80374964]\n",
      " [0.79453877 0.81615977]\n",
      " [0.6917     0.7143    ]]\n",
      "rec time now 2 dataset now: Syn5\n"
     ]
    },
    {
     "name": "stderr",
     "output_type": "stream",
     "text": [
      "TPR mean: 79.4%  std: 19.8%\n",
      "FDR mean: 1.6%  std: 10.2%\n"
     ]
    },
    {
     "name": "stdout",
     "output_type": "stream",
     "text": [
      "[[0.77926298 0.8027737 ]\n",
      " [0.79453877 0.8155917 ]\n",
      " [0.6917     0.7148    ]]\n",
      "rec time now 3 dataset now: Syn5\n"
     ]
    },
    {
     "name": "stderr",
     "output_type": "stream",
     "text": [
      "TPR mean: 79.4%  std: 19.8%\n",
      "FDR mean: 1.6%  std: 10.2%\n",
      "Epoch:      0, d_loss (Acc)): 0.534, v_loss (Acc): 0.511, g_loss: -0.0609\n"
     ]
    },
    {
     "name": "stdout",
     "output_type": "stream",
     "text": [
      "[[0.77926298 0.8027737 ]\n",
      " [0.79453877 0.8155917 ]\n",
      " [0.6917     0.7148    ]]\n",
      "now at training epoch number 1800 hyp-params: lamda 0.1000 prior 0.0000\n",
      "rec time now 0 dataset now: Syn5\n"
     ]
    },
    {
     "name": "stderr",
     "output_type": "stream",
     "text": [
      "TPR mean: 82.4%  std: 16.9%\n",
      "FDR mean: 2.0%  std: 9.0%\n"
     ]
    },
    {
     "name": "stdout",
     "output_type": "stream",
     "text": [
      "[[0.78100344 0.81012008]\n",
      " [0.79738656 0.82299885]\n",
      " [0.6928     0.7155    ]]\n",
      "rec time now 1 dataset now: Syn5\n"
     ]
    },
    {
     "name": "stderr",
     "output_type": "stream",
     "text": [
      "TPR mean: 79.7%  std: 19.4%\n",
      "FDR mean: 1.4%  std: 8.9%\n"
     ]
    },
    {
     "name": "stdout",
     "output_type": "stream",
     "text": [
      "[[0.78100344 0.80206563]\n",
      " [0.79738656 0.81619247]\n",
      " [0.6928     0.7055    ]]\n",
      "rec time now 2 dataset now: Syn5\n"
     ]
    },
    {
     "name": "stderr",
     "output_type": "stream",
     "text": [
      "TPR mean: 79.4%  std: 19.8%\n",
      "FDR mean: 1.4%  std: 9.3%\n"
     ]
    },
    {
     "name": "stdout",
     "output_type": "stream",
     "text": [
      "[[0.78100344 0.80120358]\n",
      " [0.79738656 0.81544832]\n",
      " [0.6928     0.7051    ]]\n",
      "rec time now 3 dataset now: Syn5\n"
     ]
    },
    {
     "name": "stderr",
     "output_type": "stream",
     "text": [
      "TPR mean: 79.4%  std: 19.9%\n",
      "FDR mean: 1.4%  std: 9.3%\n",
      "Epoch:      0, d_loss (Acc)): 0.539, v_loss (Acc): 0.521, g_loss: -0.0791\n"
     ]
    },
    {
     "name": "stdout",
     "output_type": "stream",
     "text": [
      "[[0.78100344 0.80102676]\n",
      " [0.79738656 0.81535553]\n",
      " [0.6928     0.7051    ]]\n",
      "now at training epoch number 1900 hyp-params: lamda 0.1000 prior 0.0000\n",
      "rec time now 0 dataset now: Syn5\n"
     ]
    },
    {
     "name": "stderr",
     "output_type": "stream",
     "text": [
      "TPR mean: 82.4%  std: 16.9%\n",
      "FDR mean: 1.6%  std: 8.0%\n"
     ]
    },
    {
     "name": "stdout",
     "output_type": "stream",
     "text": [
      "[[0.77989143 0.8110628 ]\n",
      " [0.79491284 0.8244317 ]\n",
      " [0.6934     0.7154    ]]\n",
      "rec time now 1 dataset now: Syn5\n"
     ]
    },
    {
     "name": "stderr",
     "output_type": "stream",
     "text": [
      "TPR mean: 80.4%  std: 18.3%\n",
      "FDR mean: 1.2%  std: 8.4%\n"
     ]
    },
    {
     "name": "stdout",
     "output_type": "stream",
     "text": [
      "[[0.77989143 0.80728913]\n",
      " [0.79491284 0.82131384]\n",
      " [0.6934     0.7101    ]]\n",
      "rec time now 2 dataset now: Syn5\n"
     ]
    },
    {
     "name": "stderr",
     "output_type": "stream",
     "text": [
      "TPR mean: 80.2%  std: 18.7%\n",
      "FDR mean: 1.3%  std: 8.9%\n"
     ]
    },
    {
     "name": "stdout",
     "output_type": "stream",
     "text": [
      "[[0.77989143 0.80551027]\n",
      " [0.79491284 0.81987292]\n",
      " [0.6934     0.7071    ]]\n",
      "rec time now 3 dataset now: Syn5\n"
     ]
    },
    {
     "name": "stderr",
     "output_type": "stream",
     "text": [
      "TPR mean: 80.2%  std: 18.8%\n",
      "FDR mean: 1.3%  std: 8.9%\n",
      "Epoch:      0, d_loss (Acc)): 0.523, v_loss (Acc): 0.516, g_loss: -0.0138\n"
     ]
    },
    {
     "name": "stdout",
     "output_type": "stream",
     "text": [
      "[[0.77989143 0.80522319]\n",
      " [0.79491284 0.81970123]\n",
      " [0.6934     0.7065    ]]\n",
      "now at training epoch number 2000 hyp-params: lamda 0.1000 prior 0.0000\n",
      "rec time now 0 dataset now: Syn5\n"
     ]
    },
    {
     "name": "stderr",
     "output_type": "stream",
     "text": [
      "TPR mean: 82.8%  std: 16.8%\n",
      "FDR mean: 1.5%  std: 7.7%\n"
     ]
    },
    {
     "name": "stdout",
     "output_type": "stream",
     "text": [
      "[[0.77935948 0.81199849]\n",
      " [0.7938733  0.82526454]\n",
      " [0.6943     0.7165    ]]\n",
      "rec time now 1 dataset now: Syn5\n"
     ]
    },
    {
     "name": "stderr",
     "output_type": "stream",
     "text": [
      "TPR mean: 79.7%  std: 20.0%\n",
      "FDR mean: 1.2%  std: 7.6%\n"
     ]
    },
    {
     "name": "stdout",
     "output_type": "stream",
     "text": [
      "[[0.77935948 0.79997243]\n",
      " [0.7938733  0.81421728]\n",
      " [0.6943     0.6976    ]]\n",
      "rec time now 2 dataset now: Syn5\n"
     ]
    },
    {
     "name": "stderr",
     "output_type": "stream",
     "text": [
      "TPR mean: 79.5%  std: 20.4%\n",
      "FDR mean: 1.2%  std: 8.1%\n"
     ]
    },
    {
     "name": "stdout",
     "output_type": "stream",
     "text": [
      "[[0.77935948 0.79854488]\n",
      " [0.7938733  0.81337963]\n",
      " [0.6943     0.6954    ]]\n",
      "rec time now 3 dataset now: Syn5\n"
     ]
    },
    {
     "name": "stderr",
     "output_type": "stream",
     "text": [
      "TPR mean: 79.5%  std: 20.4%\n",
      "FDR mean: 1.2%  std: 8.1%\n",
      "Epoch:      0, d_loss (Acc)): 0.530, v_loss (Acc): 0.507, g_loss: -0.0608\n"
     ]
    },
    {
     "name": "stdout",
     "output_type": "stream",
     "text": [
      "[[0.77935948 0.79833401]\n",
      " [0.7938733  0.81325893]\n",
      " [0.6943     0.6948    ]]\n",
      "now at training epoch number 2100 hyp-params: lamda 0.1000 prior 0.0000\n",
      "rec time now 0 dataset now: Syn5\n"
     ]
    },
    {
     "name": "stderr",
     "output_type": "stream",
     "text": [
      "TPR mean: 83.2%  std: 16.8%\n",
      "FDR mean: 1.5%  std: 7.7%\n"
     ]
    },
    {
     "name": "stdout",
     "output_type": "stream",
     "text": [
      "[[0.77942018 0.81058183]\n",
      " [0.79457091 0.82357518]\n",
      " [0.6951     0.7148    ]]\n",
      "rec time now 1 dataset now: Syn5\n"
     ]
    },
    {
     "name": "stderr",
     "output_type": "stream",
     "text": [
      "TPR mean: 80.3%  std: 19.9%\n",
      "FDR mean: 1.1%  std: 7.5%\n"
     ]
    },
    {
     "name": "stdout",
     "output_type": "stream",
     "text": [
      "[[0.77942018 0.80207804]\n",
      " [0.79457091 0.8147676 ]\n",
      " [0.6951     0.7123    ]]\n",
      "rec time now 2 dataset now: Syn5\n"
     ]
    },
    {
     "name": "stderr",
     "output_type": "stream",
     "text": [
      "TPR mean: 80.1%  std: 20.1%\n",
      "FDR mean: 1.1%  std: 7.7%\n"
     ]
    },
    {
     "name": "stdout",
     "output_type": "stream",
     "text": [
      "[[0.77942018 0.80182311]\n",
      " [0.79457091 0.8150025 ]\n",
      " [0.6951     0.7119    ]]\n",
      "rec time now 3 dataset now: Syn5\n"
     ]
    },
    {
     "name": "stderr",
     "output_type": "stream",
     "text": [
      "TPR mean: 80.1%  std: 20.2%\n",
      "FDR mean: 1.1%  std: 7.7%\n",
      "Epoch:      0, d_loss (Acc)): 0.506, v_loss (Acc): 0.499, g_loss: -0.0208\n"
     ]
    },
    {
     "name": "stdout",
     "output_type": "stream",
     "text": [
      "[[0.77942018 0.80162588]\n",
      " [0.79457091 0.81488607]\n",
      " [0.6951     0.7118    ]]\n",
      "now at training epoch number 2200 hyp-params: lamda 0.1000 prior 0.0000\n",
      "rec time now 0 dataset now: Syn5\n"
     ]
    },
    {
     "name": "stderr",
     "output_type": "stream",
     "text": [
      "TPR mean: 82.9%  std: 17.1%\n",
      "FDR mean: 1.5%  std: 7.9%\n"
     ]
    },
    {
     "name": "stdout",
     "output_type": "stream",
     "text": [
      "[[0.77875336 0.81292229]\n",
      " [0.79308177 0.82595423]\n",
      " [0.694      0.7188    ]]\n",
      "rec time now 1 dataset now: Syn5\n"
     ]
    },
    {
     "name": "stderr",
     "output_type": "stream",
     "text": [
      "TPR mean: 81.1%  std: 18.7%\n",
      "FDR mean: 1.3%  std: 9.2%\n"
     ]
    },
    {
     "name": "stdout",
     "output_type": "stream",
     "text": [
      "[[0.77875336 0.80860836]\n",
      " [0.79308177 0.82294665]\n",
      " [0.694      0.7121    ]]\n",
      "rec time now 2 dataset now: Syn5\n"
     ]
    },
    {
     "name": "stderr",
     "output_type": "stream",
     "text": [
      "TPR mean: 81.0%  std: 18.9%\n",
      "FDR mean: 1.3%  std: 9.2%\n"
     ]
    },
    {
     "name": "stdout",
     "output_type": "stream",
     "text": [
      "[[0.77875336 0.80789464]\n",
      " [0.79308177 0.82242452]\n",
      " [0.694      0.7114    ]]\n",
      "rec time now 3 dataset now: Syn5\n"
     ]
    },
    {
     "name": "stderr",
     "output_type": "stream",
     "text": [
      "TPR mean: 81.0%  std: 18.9%\n",
      "FDR mean: 1.3%  std: 9.2%\n",
      "Epoch:      0, d_loss (Acc)): 0.519, v_loss (Acc): 0.500, g_loss: -0.0146\n"
     ]
    },
    {
     "name": "stdout",
     "output_type": "stream",
     "text": [
      "[[0.77875336 0.80766348]\n",
      " [0.79308177 0.82228887]\n",
      " [0.694      0.7113    ]]\n",
      "now at training epoch number 2300 hyp-params: lamda 0.1000 prior 0.0000\n",
      "rec time now 0 dataset now: Syn5\n"
     ]
    },
    {
     "name": "stderr",
     "output_type": "stream",
     "text": [
      "TPR mean: 83.0%  std: 17.0%\n",
      "FDR mean: 1.3%  std: 7.6%\n"
     ]
    },
    {
     "name": "stdout",
     "output_type": "stream",
     "text": [
      "[[0.77930027 0.81103061]\n",
      " [0.79592988 0.82402762]\n",
      " [0.6925     0.7163    ]]\n",
      "rec time now 1 dataset now: Syn5\n"
     ]
    },
    {
     "name": "stderr",
     "output_type": "stream",
     "text": [
      "TPR mean: 78.7%  std: 22.4%\n",
      "FDR mean: 1.0%  std: 7.6%\n"
     ]
    },
    {
     "name": "stdout",
     "output_type": "stream",
     "text": [
      "[[0.77930027 0.79717707]\n",
      " [0.79592988 0.81193354]\n",
      " [0.6925     0.7053    ]]\n",
      "rec time now 2 dataset now: Syn5\n"
     ]
    },
    {
     "name": "stderr",
     "output_type": "stream",
     "text": [
      "TPR mean: 78.4%  std: 22.8%\n",
      "FDR mean: 1.0%  std: 7.9%\n"
     ]
    },
    {
     "name": "stdout",
     "output_type": "stream",
     "text": [
      "[[0.77930027 0.79578459]\n",
      " [0.79592988 0.81139596]\n",
      " [0.6925     0.7036    ]]\n",
      "rec time now 3 dataset now: Syn5\n"
     ]
    },
    {
     "name": "stderr",
     "output_type": "stream",
     "text": [
      "TPR mean: 78.4%  std: 22.9%\n",
      "FDR mean: 1.0%  std: 7.9%\n",
      "Epoch:      0, d_loss (Acc)): 0.554, v_loss (Acc): 0.529, g_loss: -0.0460\n"
     ]
    },
    {
     "name": "stdout",
     "output_type": "stream",
     "text": [
      "[[0.77930027 0.79580365]\n",
      " [0.79592988 0.81139943]\n",
      " [0.6925     0.7036    ]]\n",
      "now at training epoch number 2400 hyp-params: lamda 0.1000 prior 0.0000\n",
      "rec time now 0 dataset now: Syn5\n"
     ]
    },
    {
     "name": "stderr",
     "output_type": "stream",
     "text": [
      "TPR mean: 82.8%  std: 17.1%\n",
      "FDR mean: 1.3%  std: 7.5%\n"
     ]
    },
    {
     "name": "stdout",
     "output_type": "stream",
     "text": [
      "[[0.77774048 0.81222763]\n",
      " [0.7933753  0.82540161]\n",
      " [0.6932     0.7177    ]]\n",
      "rec time now 1 dataset now: Syn5\n"
     ]
    },
    {
     "name": "stderr",
     "output_type": "stream",
     "text": [
      "TPR mean: 80.6%  std: 19.5%\n",
      "FDR mean: 1.1%  std: 8.4%\n"
     ]
    },
    {
     "name": "stdout",
     "output_type": "stream",
     "text": [
      "[[0.77774048 0.80303871]\n",
      " [0.7933753  0.81739489]\n",
      " [0.6932     0.7056    ]]\n",
      "rec time now 2 dataset now: Syn5\n"
     ]
    },
    {
     "name": "stderr",
     "output_type": "stream",
     "text": [
      "TPR mean: 80.4%  std: 19.8%\n",
      "FDR mean: 1.1%  std: 8.6%\n"
     ]
    },
    {
     "name": "stdout",
     "output_type": "stream",
     "text": [
      "[[0.77774048 0.80216375]\n",
      " [0.7933753  0.81702635]\n",
      " [0.6932     0.7035    ]]\n",
      "rec time now 3 dataset now: Syn5\n"
     ]
    },
    {
     "name": "stderr",
     "output_type": "stream",
     "text": [
      "TPR mean: 80.4%  std: 19.9%\n",
      "FDR mean: 1.1%  std: 8.6%\n",
      "Epoch:      0, d_loss (Acc)): 0.505, v_loss (Acc): 0.497, g_loss: +0.0042\n"
     ]
    },
    {
     "name": "stdout",
     "output_type": "stream",
     "text": [
      "[[0.77774048 0.80201438]\n",
      " [0.7933753  0.81694302]\n",
      " [0.6932     0.7032    ]]\n",
      "now at training epoch number 2500 hyp-params: lamda 0.1000 prior 0.0000\n",
      "rec time now 0 dataset now: Syn5\n"
     ]
    },
    {
     "name": "stderr",
     "output_type": "stream",
     "text": [
      "TPR mean: 82.9%  std: 16.9%\n",
      "FDR mean: 1.2%  std: 6.8%\n"
     ]
    },
    {
     "name": "stdout",
     "output_type": "stream",
     "text": [
      "[[0.78187157 0.81206741]\n",
      " [0.79768128 0.82468829]\n",
      " [0.6947     0.7171    ]]\n",
      "rec time now 1 dataset now: Syn5\n"
     ]
    },
    {
     "name": "stderr",
     "output_type": "stream",
     "text": [
      "TPR mean: 80.9%  std: 19.1%\n",
      "FDR mean: 1.0%  std: 7.7%\n"
     ]
    },
    {
     "name": "stdout",
     "output_type": "stream",
     "text": [
      "[[0.78187157 0.80627915]\n",
      " [0.79768128 0.81880222]\n",
      " [0.6947     0.7124    ]]\n",
      "rec time now 2 dataset now: Syn5\n"
     ]
    },
    {
     "name": "stderr",
     "output_type": "stream",
     "text": [
      "TPR mean: 80.7%  std: 19.5%\n",
      "FDR mean: 1.0%  std: 8.0%\n"
     ]
    },
    {
     "name": "stdout",
     "output_type": "stream",
     "text": [
      "[[0.78187157 0.80562745]\n",
      " [0.79768128 0.81863853]\n",
      " [0.6947     0.7124    ]]\n",
      "rec time now 3 dataset now: Syn5\n"
     ]
    },
    {
     "name": "stderr",
     "output_type": "stream",
     "text": [
      "TPR mean: 80.7%  std: 19.5%\n",
      "FDR mean: 1.0%  std: 7.9%\n",
      "Epoch:      0, d_loss (Acc)): 0.488, v_loss (Acc): 0.498, g_loss: +0.0420\n"
     ]
    },
    {
     "name": "stdout",
     "output_type": "stream",
     "text": [
      "[[0.78187157 0.80539612]\n",
      " [0.79768128 0.81846672]\n",
      " [0.6947     0.7121    ]]\n",
      "now at training epoch number 2600 hyp-params: lamda 0.1000 prior 0.0000\n",
      "rec time now 0 dataset now: Syn5\n"
     ]
    },
    {
     "name": "stderr",
     "output_type": "stream",
     "text": [
      "TPR mean: 82.7%  std: 17.0%\n",
      "FDR mean: 1.1%  std: 6.9%\n"
     ]
    },
    {
     "name": "stdout",
     "output_type": "stream",
     "text": [
      "[[0.78112197 0.8141097 ]\n",
      " [0.79586748 0.82750225]\n",
      " [0.6953     0.7207    ]]\n",
      "rec time now 1 dataset now: Syn5\n"
     ]
    },
    {
     "name": "stderr",
     "output_type": "stream",
     "text": [
      "TPR mean: 80.8%  std: 19.1%\n",
      "FDR mean: 1.0%  std: 8.0%\n"
     ]
    },
    {
     "name": "stdout",
     "output_type": "stream",
     "text": [
      "[[0.78112197 0.80590195]\n",
      " [0.79586748 0.8198748 ]\n",
      " [0.6953     0.7066    ]]\n",
      "rec time now 2 dataset now: Syn5\n"
     ]
    },
    {
     "name": "stderr",
     "output_type": "stream",
     "text": [
      "TPR mean: 80.6%  std: 19.5%\n",
      "FDR mean: 1.0%  std: 8.6%\n"
     ]
    },
    {
     "name": "stdout",
     "output_type": "stream",
     "text": [
      "[[0.78112197 0.8051446 ]\n",
      " [0.79586748 0.81963246]\n",
      " [0.6953     0.705     ]]\n",
      "rec time now 3 dataset now: Syn5\n"
     ]
    },
    {
     "name": "stderr",
     "output_type": "stream",
     "text": [
      "TPR mean: 80.6%  std: 19.5%\n",
      "FDR mean: 1.0%  std: 8.6%\n",
      "Epoch:      0, d_loss (Acc)): 0.494, v_loss (Acc): 0.488, g_loss: +0.0041\n"
     ]
    },
    {
     "name": "stdout",
     "output_type": "stream",
     "text": [
      "[[0.78112197 0.80504405]\n",
      " [0.79586748 0.81957613]\n",
      " [0.6953     0.7049    ]]\n",
      "now at training epoch number 2700 hyp-params: lamda 0.1000 prior 0.0000\n",
      "rec time now 0 dataset now: Syn5\n"
     ]
    },
    {
     "name": "stderr",
     "output_type": "stream",
     "text": [
      "TPR mean: 82.7%  std: 17.1%\n",
      "FDR mean: 1.1%  std: 6.8%\n"
     ]
    },
    {
     "name": "stdout",
     "output_type": "stream",
     "text": [
      "[[0.77819523 0.81369407]\n",
      " [0.79150911 0.82727526]\n",
      " [0.6931     0.7197    ]]\n",
      "rec time now 1 dataset now: Syn5\n"
     ]
    },
    {
     "name": "stderr",
     "output_type": "stream",
     "text": [
      "TPR mean: 80.5%  std: 19.5%\n",
      "FDR mean: 0.8%  std: 6.9%\n"
     ]
    },
    {
     "name": "stdout",
     "output_type": "stream",
     "text": [
      "[[0.77819523 0.80344415]\n",
      " [0.79150911 0.81757504]\n",
      " [0.6931     0.6999    ]]\n",
      "rec time now 2 dataset now: Syn5\n"
     ]
    },
    {
     "name": "stderr",
     "output_type": "stream",
     "text": [
      "TPR mean: 80.2%  std: 20.0%\n",
      "FDR mean: 0.9%  std: 7.3%\n"
     ]
    },
    {
     "name": "stdout",
     "output_type": "stream",
     "text": [
      "[[0.77819523 0.80135708]\n",
      " [0.79150911 0.81623739]\n",
      " [0.6931     0.6974    ]]\n",
      "rec time now 3 dataset now: Syn5\n"
     ]
    },
    {
     "name": "stderr",
     "output_type": "stream",
     "text": [
      "TPR mean: 80.2%  std: 20.1%\n",
      "FDR mean: 0.9%  std: 7.3%\n",
      "Epoch:      0, d_loss (Acc)): 0.506, v_loss (Acc): 0.498, g_loss: -0.0105\n"
     ]
    },
    {
     "name": "stdout",
     "output_type": "stream",
     "text": [
      "[[0.77819523 0.80124404]\n",
      " [0.79150911 0.81618822]\n",
      " [0.6931     0.6973    ]]\n",
      "now at training epoch number 2800 hyp-params: lamda 0.1000 prior 0.0000\n",
      "rec time now 0 dataset now: Syn5\n"
     ]
    },
    {
     "name": "stderr",
     "output_type": "stream",
     "text": [
      "TPR mean: 82.6%  std: 17.2%\n",
      "FDR mean: 1.1%  std: 7.1%\n"
     ]
    },
    {
     "name": "stdout",
     "output_type": "stream",
     "text": [
      "[[0.78091971 0.81486784]\n",
      " [0.79713999 0.82791083]\n",
      " [0.6939     0.7193    ]]\n",
      "rec time now 1 dataset now: Syn5\n"
     ]
    },
    {
     "name": "stderr",
     "output_type": "stream",
     "text": [
      "TPR mean: 80.8%  std: 19.1%\n",
      "FDR mean: 0.8%  std: 7.0%\n"
     ]
    },
    {
     "name": "stdout",
     "output_type": "stream",
     "text": [
      "[[0.78091971 0.80843392]\n",
      " [0.79713999 0.82123773]\n",
      " [0.6939     0.7166    ]]\n",
      "rec time now 2 dataset now: Syn5\n"
     ]
    },
    {
     "name": "stderr",
     "output_type": "stream",
     "text": [
      "TPR mean: 80.6%  std: 19.5%\n",
      "FDR mean: 0.8%  std: 7.3%\n"
     ]
    },
    {
     "name": "stdout",
     "output_type": "stream",
     "text": [
      "[[0.78091971 0.80688028]\n",
      " [0.79713999 0.82037632]\n",
      " [0.6939     0.7145    ]]\n",
      "rec time now 3 dataset now: Syn5\n"
     ]
    },
    {
     "name": "stderr",
     "output_type": "stream",
     "text": [
      "TPR mean: 80.6%  std: 19.6%\n",
      "FDR mean: 0.8%  std: 7.3%\n",
      "Epoch:      0, d_loss (Acc)): 0.520, v_loss (Acc): 0.513, g_loss: +0.0557\n"
     ]
    },
    {
     "name": "stdout",
     "output_type": "stream",
     "text": [
      "[[0.78091971 0.80683558]\n",
      " [0.79713999 0.82035879]\n",
      " [0.6939     0.7144    ]]\n",
      "now at training epoch number 2900 hyp-params: lamda 0.1000 prior 0.0000\n",
      "rec time now 0 dataset now: Syn5\n"
     ]
    },
    {
     "name": "stderr",
     "output_type": "stream",
     "text": [
      "TPR mean: 82.7%  std: 17.1%\n",
      "FDR mean: 1.0%  std: 6.6%\n"
     ]
    },
    {
     "name": "stdout",
     "output_type": "stream",
     "text": [
      "[[0.78040047 0.81361156]\n",
      " [0.79386821 0.82725601]\n",
      " [0.694      0.7194    ]]\n",
      "rec time now 1 dataset now: Syn5\n"
     ]
    },
    {
     "name": "stderr",
     "output_type": "stream",
     "text": [
      "TPR mean: 80.1%  std: 20.5%\n",
      "FDR mean: 0.8%  std: 7.0%\n"
     ]
    },
    {
     "name": "stdout",
     "output_type": "stream",
     "text": [
      "[[0.78040047 0.80501054]\n",
      " [0.79386821 0.81817725]\n",
      " [0.694      0.7133    ]]\n",
      "rec time now 2 dataset now: Syn5\n"
     ]
    },
    {
     "name": "stderr",
     "output_type": "stream",
     "text": [
      "TPR mean: 79.8%  std: 20.9%\n",
      "FDR mean: 0.8%  std: 7.2%\n"
     ]
    },
    {
     "name": "stdout",
     "output_type": "stream",
     "text": [
      "[[0.78040047 0.80378011]\n",
      " [0.79386821 0.81772868]\n",
      " [0.694      0.7124    ]]\n",
      "rec time now 3 dataset now: Syn5\n"
     ]
    },
    {
     "name": "stderr",
     "output_type": "stream",
     "text": [
      "TPR mean: 79.8%  std: 21.0%\n",
      "FDR mean: 0.8%  std: 7.3%\n",
      "Epoch:      0, d_loss (Acc)): 0.509, v_loss (Acc): 0.476, g_loss: -0.0698\n"
     ]
    },
    {
     "name": "stdout",
     "output_type": "stream",
     "text": [
      "[[0.78040047 0.80380839]\n",
      " [0.79386821 0.81773275]\n",
      " [0.694      0.7124    ]]\n",
      "now at training epoch number 3000 hyp-params: lamda 0.1000 prior 0.0000\n",
      "rec time now 0 dataset now: Syn5\n"
     ]
    },
    {
     "name": "stderr",
     "output_type": "stream",
     "text": [
      "TPR mean: 82.6%  std: 17.3%\n",
      "FDR mean: 1.1%  std: 7.0%\n"
     ]
    },
    {
     "name": "stdout",
     "output_type": "stream",
     "text": [
      "[[0.7812955  0.81500522]\n",
      " [0.79649408 0.82841926]\n",
      " [0.6958     0.7183    ]]\n",
      "rec time now 1 dataset now: Syn5\n"
     ]
    },
    {
     "name": "stderr",
     "output_type": "stream",
     "text": [
      "TPR mean: 79.9%  std: 20.7%\n",
      "FDR mean: 0.9%  std: 7.5%\n"
     ]
    },
    {
     "name": "stdout",
     "output_type": "stream",
     "text": [
      "[[0.7812955  0.80416087]\n",
      " [0.79649408 0.81844761]\n",
      " [0.6958     0.7076    ]]\n",
      "rec time now 2 dataset now: Syn5\n"
     ]
    },
    {
     "name": "stderr",
     "output_type": "stream",
     "text": [
      "TPR mean: 79.7%  std: 21.2%\n",
      "FDR mean: 0.9%  std: 7.9%\n"
     ]
    },
    {
     "name": "stdout",
     "output_type": "stream",
     "text": [
      "[[0.7812955  0.80244622]\n",
      " [0.79649408 0.81712542]\n",
      " [0.6958     0.7059    ]]\n",
      "rec time now 3 dataset now: Syn5\n"
     ]
    },
    {
     "name": "stderr",
     "output_type": "stream",
     "text": [
      "TPR mean: 79.6%  std: 21.2%\n",
      "FDR mean: 0.9%  std: 7.9%\n",
      "Epoch:      0, d_loss (Acc)): 0.498, v_loss (Acc): 0.487, g_loss: +0.0473\n"
     ]
    },
    {
     "name": "stdout",
     "output_type": "stream",
     "text": [
      "[[0.7812955  0.8025504 ]\n",
      " [0.79649408 0.81719264]\n",
      " [0.6958     0.7058    ]]\n",
      "now at training epoch number 3100 hyp-params: lamda 0.1000 prior 0.0000\n",
      "rec time now 0 dataset now: Syn5\n"
     ]
    },
    {
     "name": "stderr",
     "output_type": "stream",
     "text": [
      "TPR mean: 82.7%  std: 17.1%\n",
      "FDR mean: 1.0%  std: 6.7%\n"
     ]
    },
    {
     "name": "stdout",
     "output_type": "stream",
     "text": [
      "[[0.78007035 0.81513709]\n",
      " [0.79540278 0.82816698]\n",
      " [0.6933     0.7198    ]]\n",
      "rec time now 1 dataset now: Syn5\n"
     ]
    },
    {
     "name": "stderr",
     "output_type": "stream",
     "text": [
      "TPR mean: 78.3%  std: 22.8%\n",
      "FDR mean: 0.7%  std: 6.5%\n"
     ]
    },
    {
     "name": "stdout",
     "output_type": "stream",
     "text": [
      "[[0.78007035 0.80690276]\n",
      " [0.79540278 0.81964526]\n",
      " [0.6933     0.7162    ]]\n",
      "rec time now 2 dataset now: Syn5\n"
     ]
    },
    {
     "name": "stderr",
     "output_type": "stream",
     "text": [
      "TPR mean: 78.0%  std: 23.2%\n",
      "FDR mean: 0.7%  std: 6.7%\n"
     ]
    },
    {
     "name": "stdout",
     "output_type": "stream",
     "text": [
      "[[0.78007035 0.80525282]\n",
      " [0.79540278 0.81846725]\n",
      " [0.6933     0.714     ]]\n",
      "rec time now 3 dataset now: Syn5\n"
     ]
    },
    {
     "name": "stderr",
     "output_type": "stream",
     "text": [
      "TPR mean: 78.0%  std: 23.2%\n",
      "FDR mean: 0.7%  std: 6.7%\n",
      "Epoch:      0, d_loss (Acc)): 0.516, v_loss (Acc): 0.489, g_loss: +0.0058\n"
     ]
    },
    {
     "name": "stdout",
     "output_type": "stream",
     "text": [
      "[[0.78007035 0.80527207]\n",
      " [0.79540278 0.81847396]\n",
      " [0.6933     0.714     ]]\n",
      "now at training epoch number 3200 hyp-params: lamda 0.1000 prior 0.0000\n",
      "rec time now 0 dataset now: Syn5\n"
     ]
    },
    {
     "name": "stderr",
     "output_type": "stream",
     "text": [
      "TPR mean: 82.6%  std: 17.3%\n",
      "FDR mean: 1.1%  std: 7.3%\n"
     ]
    },
    {
     "name": "stdout",
     "output_type": "stream",
     "text": [
      "[[0.77980125 0.81154887]\n",
      " [0.79412688 0.8244912 ]\n",
      " [0.6941     0.7155    ]]\n",
      "rec time now 1 dataset now: Syn5\n"
     ]
    },
    {
     "name": "stderr",
     "output_type": "stream",
     "text": [
      "TPR mean: 80.6%  std: 19.8%\n",
      "FDR mean: 0.8%  std: 7.5%\n"
     ]
    },
    {
     "name": "stdout",
     "output_type": "stream",
     "text": [
      "[[0.77980125 0.80433484]\n",
      " [0.79412688 0.8176665 ]\n",
      " [0.6941     0.7108    ]]\n",
      "rec time now 2 dataset now: Syn5\n"
     ]
    },
    {
     "name": "stderr",
     "output_type": "stream",
     "text": [
      "TPR mean: 80.3%  std: 20.3%\n",
      "FDR mean: 0.8%  std: 7.5%\n"
     ]
    },
    {
     "name": "stdout",
     "output_type": "stream",
     "text": [
      "[[0.77980125 0.8037977 ]\n",
      " [0.79412688 0.81723788]\n",
      " [0.6941     0.7106    ]]\n",
      "rec time now 3 dataset now: Syn5\n"
     ]
    },
    {
     "name": "stderr",
     "output_type": "stream",
     "text": [
      "TPR mean: 80.3%  std: 20.3%\n",
      "FDR mean: 0.8%  std: 7.5%\n",
      "Epoch:      0, d_loss (Acc)): 0.499, v_loss (Acc): 0.480, g_loss: -0.0057\n"
     ]
    },
    {
     "name": "stdout",
     "output_type": "stream",
     "text": [
      "[[0.77980125 0.80357104]\n",
      " [0.79412688 0.8171293 ]\n",
      " [0.6941     0.7097    ]]\n",
      "now at training epoch number 3300 hyp-params: lamda 0.1000 prior 0.0000\n",
      "rec time now 0 dataset now: Syn5\n"
     ]
    },
    {
     "name": "stderr",
     "output_type": "stream",
     "text": [
      "TPR mean: 82.7%  std: 17.1%\n",
      "FDR mean: 1.0%  std: 6.9%\n"
     ]
    },
    {
     "name": "stdout",
     "output_type": "stream",
     "text": [
      "[[0.77882445 0.81465599]\n",
      " [0.79175635 0.82765111]\n",
      " [0.696      0.7204    ]]\n",
      "rec time now 1 dataset now: Syn5\n"
     ]
    },
    {
     "name": "stderr",
     "output_type": "stream",
     "text": [
      "TPR mean: 81.1%  std: 19.1%\n",
      "FDR mean: 0.8%  std: 7.1%\n"
     ]
    },
    {
     "name": "stdout",
     "output_type": "stream",
     "text": [
      "[[0.77882445 0.80901694]\n",
      " [0.79175635 0.82230597]\n",
      " [0.696      0.7164    ]]\n",
      "rec time now 2 dataset now: Syn5\n"
     ]
    },
    {
     "name": "stderr",
     "output_type": "stream",
     "text": [
      "TPR mean: 80.9%  std: 19.5%\n",
      "FDR mean: 0.8%  std: 7.2%\n"
     ]
    },
    {
     "name": "stdout",
     "output_type": "stream",
     "text": [
      "[[0.77882445 0.80794208]\n",
      " [0.79175635 0.82166533]\n",
      " [0.696      0.7145    ]]\n",
      "rec time now 3 dataset now: Syn5\n"
     ]
    },
    {
     "name": "stderr",
     "output_type": "stream",
     "text": [
      "TPR mean: 80.9%  std: 19.5%\n",
      "FDR mean: 0.8%  std: 7.3%\n",
      "Epoch:      0, d_loss (Acc)): 0.492, v_loss (Acc): 0.480, g_loss: -0.0203\n"
     ]
    },
    {
     "name": "stdout",
     "output_type": "stream",
     "text": [
      "[[0.77882445 0.80786974]\n",
      " [0.79175635 0.82163367]\n",
      " [0.696      0.7145    ]]\n",
      "now at training epoch number 3400 hyp-params: lamda 0.1000 prior 0.0000\n",
      "rec time now 0 dataset now: Syn5\n"
     ]
    },
    {
     "name": "stderr",
     "output_type": "stream",
     "text": [
      "TPR mean: 82.6%  std: 17.3%\n",
      "FDR mean: 1.1%  std: 7.5%\n"
     ]
    },
    {
     "name": "stdout",
     "output_type": "stream",
     "text": [
      "[[0.78027133 0.81488977]\n",
      " [0.79467004 0.82836883]\n",
      " [0.6924     0.7194    ]]\n",
      "rec time now 1 dataset now: Syn5\n"
     ]
    },
    {
     "name": "stderr",
     "output_type": "stream",
     "text": [
      "TPR mean: 81.1%  std: 19.0%\n",
      "FDR mean: 0.9%  std: 7.8%\n"
     ]
    },
    {
     "name": "stdout",
     "output_type": "stream",
     "text": [
      "[[0.78027133 0.81077506]\n",
      " [0.79467004 0.82535394]\n",
      " [0.6924     0.7139    ]]\n",
      "rec time now 2 dataset now: Syn5\n"
     ]
    },
    {
     "name": "stderr",
     "output_type": "stream",
     "text": [
      "TPR mean: 80.9%  std: 19.5%\n",
      "FDR mean: 0.9%  std: 7.9%\n"
     ]
    },
    {
     "name": "stdout",
     "output_type": "stream",
     "text": [
      "[[0.78027133 0.80923289]\n",
      " [0.79467004 0.82438596]\n",
      " [0.6924     0.7114    ]]\n",
      "rec time now 3 dataset now: Syn5\n"
     ]
    },
    {
     "name": "stderr",
     "output_type": "stream",
     "text": [
      "TPR mean: 80.9%  std: 19.6%\n",
      "FDR mean: 0.9%  std: 7.9%\n",
      "Epoch:      0, d_loss (Acc)): 0.497, v_loss (Acc): 0.471, g_loss: -0.0107\n"
     ]
    },
    {
     "name": "stdout",
     "output_type": "stream",
     "text": [
      "[[0.78027133 0.80902715]\n",
      " [0.79467004 0.82429376]\n",
      " [0.6924     0.7105    ]]\n",
      "now at training epoch number 3500 hyp-params: lamda 0.1000 prior 0.0000\n",
      "rec time now 0 dataset now: Syn5\n"
     ]
    },
    {
     "name": "stderr",
     "output_type": "stream",
     "text": [
      "TPR mean: 82.5%  std: 17.4%\n",
      "FDR mean: 1.1%  std: 7.3%\n"
     ]
    },
    {
     "name": "stdout",
     "output_type": "stream",
     "text": [
      "[[0.78003342 0.81431689]\n",
      " [0.7961918  0.82720861]\n",
      " [0.6928     0.7195    ]]\n",
      "rec time now 1 dataset now: Syn5\n"
     ]
    },
    {
     "name": "stderr",
     "output_type": "stream",
     "text": [
      "TPR mean: 80.6%  std: 19.8%\n",
      "FDR mean: 0.9%  std: 8.2%\n"
     ]
    },
    {
     "name": "stdout",
     "output_type": "stream",
     "text": [
      "[[0.78003342 0.80560477]\n",
      " [0.7961918  0.81933415]\n",
      " [0.6928     0.7093    ]]\n",
      "rec time now 2 dataset now: Syn5\n"
     ]
    },
    {
     "name": "stderr",
     "output_type": "stream",
     "text": [
      "TPR mean: 80.3%  std: 20.4%\n",
      "FDR mean: 1.0%  std: 8.5%\n"
     ]
    },
    {
     "name": "stdout",
     "output_type": "stream",
     "text": [
      "[[0.78003342 0.80434207]\n",
      " [0.7961918  0.81845026]\n",
      " [0.6928     0.7085    ]]\n",
      "rec time now 3 dataset now: Syn5\n"
     ]
    },
    {
     "name": "stderr",
     "output_type": "stream",
     "text": [
      "TPR mean: 80.3%  std: 20.5%\n",
      "FDR mean: 1.0%  std: 8.5%\n",
      "Epoch:      0, d_loss (Acc)): 0.507, v_loss (Acc): 0.483, g_loss: +0.0191\n"
     ]
    },
    {
     "name": "stdout",
     "output_type": "stream",
     "text": [
      "[[0.78003342 0.80432151]\n",
      " [0.7961918  0.81843107]\n",
      " [0.6928     0.7086    ]]\n",
      "now at training epoch number 3600 hyp-params: lamda 0.1000 prior 0.0000\n",
      "rec time now 0 dataset now: Syn5\n"
     ]
    },
    {
     "name": "stderr",
     "output_type": "stream",
     "text": [
      "TPR mean: 82.3%  std: 17.4%\n",
      "FDR mean: 1.1%  std: 7.4%\n"
     ]
    },
    {
     "name": "stdout",
     "output_type": "stream",
     "text": [
      "[[0.78026455 0.81346623]\n",
      " [0.79510437 0.82679468]\n",
      " [0.6947     0.7198    ]]\n",
      "rec time now 1 dataset now: Syn5\n"
     ]
    },
    {
     "name": "stderr",
     "output_type": "stream",
     "text": [
      "TPR mean: 80.2%  std: 20.3%\n",
      "FDR mean: 0.8%  std: 7.7%\n"
     ]
    },
    {
     "name": "stdout",
     "output_type": "stream",
     "text": [
      "[[0.78026455 0.80248842]\n",
      " [0.79510437 0.81747671]\n",
      " [0.6947     0.7007    ]]\n",
      "rec time now 2 dataset now: Syn5\n"
     ]
    },
    {
     "name": "stderr",
     "output_type": "stream",
     "text": [
      "TPR mean: 80.0%  std: 20.9%\n",
      "FDR mean: 0.9%  std: 8.0%\n"
     ]
    },
    {
     "name": "stdout",
     "output_type": "stream",
     "text": [
      "[[0.78026455 0.80137365]\n",
      " [0.79510437 0.81685003]\n",
      " [0.6947     0.6988    ]]\n",
      "rec time now 3 dataset now: Syn5\n"
     ]
    },
    {
     "name": "stderr",
     "output_type": "stream",
     "text": [
      "TPR mean: 79.9%  std: 21.0%\n",
      "FDR mean: 0.9%  std: 8.0%\n",
      "Epoch:      0, d_loss (Acc)): 0.496, v_loss (Acc): 0.494, g_loss: +0.0242\n"
     ]
    },
    {
     "name": "stdout",
     "output_type": "stream",
     "text": [
      "[[0.78026455 0.80140394]\n",
      " [0.79510437 0.81690779]\n",
      " [0.6947     0.699     ]]\n",
      "now at training epoch number 3700 hyp-params: lamda 0.1000 prior 0.0000\n",
      "rec time now 0 dataset now: Syn5\n"
     ]
    },
    {
     "name": "stderr",
     "output_type": "stream",
     "text": [
      "TPR mean: 82.2%  std: 17.4%\n",
      "FDR mean: 1.1%  std: 7.3%\n"
     ]
    },
    {
     "name": "stdout",
     "output_type": "stream",
     "text": [
      "[[0.77761868 0.81394257]\n",
      " [0.79249292 0.82731234]\n",
      " [0.694      0.7192    ]]\n",
      "rec time now 1 dataset now: Syn5\n"
     ]
    },
    {
     "name": "stderr",
     "output_type": "stream",
     "text": [
      "TPR mean: 79.9%  std: 20.9%\n",
      "FDR mean: 0.9%  std: 7.4%\n"
     ]
    },
    {
     "name": "stdout",
     "output_type": "stream",
     "text": [
      "[[0.77761868 0.8046968 ]\n",
      " [0.79249292 0.81796656]\n",
      " [0.694      0.7       ]]\n",
      "rec time now 2 dataset now: Syn5\n"
     ]
    },
    {
     "name": "stderr",
     "output_type": "stream",
     "text": [
      "TPR mean: 79.6%  std: 21.5%\n",
      "FDR mean: 0.9%  std: 7.9%\n"
     ]
    },
    {
     "name": "stdout",
     "output_type": "stream",
     "text": [
      "[[0.77761868 0.80345628]\n",
      " [0.79249292 0.81720187]\n",
      " [0.694      0.7       ]]\n",
      "rec time now 3 dataset now: Syn5\n"
     ]
    },
    {
     "name": "stderr",
     "output_type": "stream",
     "text": [
      "TPR mean: 79.6%  std: 21.6%\n",
      "FDR mean: 0.9%  std: 7.9%\n",
      "Epoch:      0, d_loss (Acc)): 0.512, v_loss (Acc): 0.479, g_loss: -0.0175\n"
     ]
    },
    {
     "name": "stdout",
     "output_type": "stream",
     "text": [
      "[[0.77761868 0.80329646]\n",
      " [0.79249292 0.81710931]\n",
      " [0.694      0.6998    ]]\n",
      "now at training epoch number 3800 hyp-params: lamda 0.1000 prior 0.0000\n",
      "rec time now 0 dataset now: Syn5\n"
     ]
    },
    {
     "name": "stderr",
     "output_type": "stream",
     "text": [
      "TPR mean: 82.3%  std: 17.4%\n",
      "FDR mean: 1.1%  std: 7.2%\n"
     ]
    },
    {
     "name": "stdout",
     "output_type": "stream",
     "text": [
      "[[0.77930363 0.81368378]\n",
      " [0.79442456 0.82715353]\n",
      " [0.6932     0.72      ]]\n",
      "rec time now 1 dataset now: Syn5\n"
     ]
    },
    {
     "name": "stderr",
     "output_type": "stream",
     "text": [
      "TPR mean: 76.9%  std: 24.8%\n",
      "FDR mean: 0.8%  std: 7.4%\n"
     ]
    },
    {
     "name": "stdout",
     "output_type": "stream",
     "text": [
      "[[0.77930363 0.80407311]\n",
      " [0.79442456 0.81743518]\n",
      " [0.6932     0.7155    ]]\n",
      "rec time now 2 dataset now: Syn5\n"
     ]
    },
    {
     "name": "stderr",
     "output_type": "stream",
     "text": [
      "TPR mean: 76.5%  std: 25.4%\n",
      "FDR mean: 0.9%  std: 7.8%\n"
     ]
    },
    {
     "name": "stdout",
     "output_type": "stream",
     "text": [
      "[[0.77930363 0.80305909]\n",
      " [0.79442456 0.81693394]\n",
      " [0.6932     0.7134    ]]\n",
      "rec time now 3 dataset now: Syn5\n"
     ]
    },
    {
     "name": "stderr",
     "output_type": "stream",
     "text": [
      "TPR mean: 76.5%  std: 25.5%\n",
      "FDR mean: 0.9%  std: 7.9%\n",
      "Epoch:      0, d_loss (Acc)): 0.502, v_loss (Acc): 0.485, g_loss: +0.0380\n"
     ]
    },
    {
     "name": "stdout",
     "output_type": "stream",
     "text": [
      "[[0.77930363 0.80295512]\n",
      " [0.79442456 0.81687356]\n",
      " [0.6932     0.7131    ]]\n",
      "now at training epoch number 3900 hyp-params: lamda 0.1000 prior 0.0000\n",
      "rec time now 0 dataset now: Syn5\n"
     ]
    },
    {
     "name": "stderr",
     "output_type": "stream",
     "text": [
      "TPR mean: 82.2%  std: 17.4%\n",
      "FDR mean: 1.0%  std: 7.1%\n"
     ]
    },
    {
     "name": "stdout",
     "output_type": "stream",
     "text": [
      "[[0.77874458 0.81424464]\n",
      " [0.79510793 0.82739261]\n",
      " [0.6942     0.7193    ]]\n",
      "rec time now 1 dataset now: Syn5\n"
     ]
    },
    {
     "name": "stderr",
     "output_type": "stream",
     "text": [
      "TPR mean: 79.3%  std: 21.7%\n",
      "FDR mean: 0.9%  std: 7.8%\n"
     ]
    },
    {
     "name": "stdout",
     "output_type": "stream",
     "text": [
      "[[0.77874458 0.80374218]\n",
      " [0.79510793 0.81714404]\n",
      " [0.6942     0.7126    ]]\n",
      "rec time now 2 dataset now: Syn5\n"
     ]
    },
    {
     "name": "stderr",
     "output_type": "stream",
     "text": [
      "TPR mean: 78.9%  std: 22.4%\n",
      "FDR mean: 0.9%  std: 8.5%\n"
     ]
    },
    {
     "name": "stdout",
     "output_type": "stream",
     "text": [
      "[[0.77874458 0.80315385]\n",
      " [0.79510793 0.8169185 ]\n",
      " [0.6942     0.7116    ]]\n",
      "rec time now 3 dataset now: Syn5\n"
     ]
    },
    {
     "name": "stderr",
     "output_type": "stream",
     "text": [
      "TPR mean: 78.9%  std: 22.5%\n",
      "FDR mean: 0.9%  std: 8.5%\n",
      "Epoch:      0, d_loss (Acc)): 0.514, v_loss (Acc): 0.492, g_loss: +0.0315\n"
     ]
    },
    {
     "name": "stdout",
     "output_type": "stream",
     "text": [
      "[[0.77874458 0.8030702 ]\n",
      " [0.79510793 0.816861  ]\n",
      " [0.6942     0.7116    ]]\n",
      "now at training epoch number 4000 hyp-params: lamda 0.1000 prior 0.0000\n",
      "rec time now 0 dataset now: Syn5\n"
     ]
    },
    {
     "name": "stderr",
     "output_type": "stream",
     "text": [
      "TPR mean: 82.2%  std: 17.3%\n",
      "FDR mean: 1.0%  std: 6.7%\n"
     ]
    },
    {
     "name": "stdout",
     "output_type": "stream",
     "text": [
      "[[0.78036457 0.81389349]\n",
      " [0.79601682 0.82756254]\n",
      " [0.693      0.7213    ]]\n",
      "rec time now 1 dataset now: Syn5\n"
     ]
    },
    {
     "name": "stderr",
     "output_type": "stream",
     "text": [
      "TPR mean: 80.6%  std: 19.8%\n",
      "FDR mean: 0.9%  std: 8.4%\n"
     ]
    },
    {
     "name": "stdout",
     "output_type": "stream",
     "text": [
      "[[0.78036457 0.80720645]\n",
      " [0.79601682 0.82144938]\n",
      " [0.693      0.7103    ]]\n",
      "rec time now 2 dataset now: Syn5\n"
     ]
    },
    {
     "name": "stderr",
     "output_type": "stream",
     "text": [
      "TPR mean: 80.2%  std: 20.7%\n",
      "FDR mean: 1.0%  std: 9.1%\n"
     ]
    },
    {
     "name": "stdout",
     "output_type": "stream",
     "text": [
      "[[0.78036457 0.8062908 ]\n",
      " [0.79601682 0.8210166 ]\n",
      " [0.693      0.7069    ]]\n",
      "rec time now 3 dataset now: Syn5\n"
     ]
    },
    {
     "name": "stderr",
     "output_type": "stream",
     "text": [
      "TPR mean: 80.2%  std: 20.8%\n",
      "FDR mean: 1.0%  std: 9.3%\n",
      "Epoch:      0, d_loss (Acc)): 0.510, v_loss (Acc): 0.495, g_loss: +0.0153\n"
     ]
    },
    {
     "name": "stdout",
     "output_type": "stream",
     "text": [
      "[[0.78036457 0.80602853]\n",
      " [0.79601682 0.82088079]\n",
      " [0.693      0.7064    ]]\n",
      "now at training epoch number 4100 hyp-params: lamda 0.1000 prior 0.0000\n",
      "rec time now 0 dataset now: Syn5\n"
     ]
    },
    {
     "name": "stderr",
     "output_type": "stream",
     "text": [
      "TPR mean: 82.1%  std: 17.4%\n",
      "FDR mean: 1.0%  std: 7.3%\n"
     ]
    },
    {
     "name": "stdout",
     "output_type": "stream",
     "text": [
      "[[0.77959067 0.81472919]\n",
      " [0.79573377 0.82752985]\n",
      " [0.6915     0.7207    ]]\n",
      "rec time now 1 dataset now: Syn5\n"
     ]
    },
    {
     "name": "stderr",
     "output_type": "stream",
     "text": [
      "TPR mean: 79.9%  std: 20.9%\n",
      "FDR mean: 1.1%  std: 9.0%\n"
     ]
    },
    {
     "name": "stdout",
     "output_type": "stream",
     "text": [
      "[[0.77959067 0.80652066]\n",
      " [0.79573377 0.81964413]\n",
      " [0.6915     0.7166    ]]\n",
      "rec time now 2 dataset now: Syn5\n"
     ]
    },
    {
     "name": "stderr",
     "output_type": "stream",
     "text": [
      "TPR mean: 79.6%  std: 21.8%\n",
      "FDR mean: 1.1%  std: 9.3%\n"
     ]
    },
    {
     "name": "stdout",
     "output_type": "stream",
     "text": [
      "[[0.77959067 0.80542773]\n",
      " [0.79573377 0.81907088]\n",
      " [0.6915     0.7115    ]]\n",
      "rec time now 3 dataset now: Syn5\n"
     ]
    },
    {
     "name": "stderr",
     "output_type": "stream",
     "text": [
      "TPR mean: 79.5%  std: 21.9%\n",
      "FDR mean: 1.1%  std: 9.4%\n",
      "Epoch:      0, d_loss (Acc)): 0.514, v_loss (Acc): 0.478, g_loss: +0.0065\n"
     ]
    },
    {
     "name": "stdout",
     "output_type": "stream",
     "text": [
      "[[0.77959067 0.80516972]\n",
      " [0.79573377 0.81891893]\n",
      " [0.6915     0.7111    ]]\n",
      "now at training epoch number 4200 hyp-params: lamda 0.1000 prior 0.0000\n",
      "rec time now 0 dataset now: Syn5\n"
     ]
    },
    {
     "name": "stderr",
     "output_type": "stream",
     "text": [
      "TPR mean: 82.3%  std: 17.2%\n",
      "FDR mean: 1.0%  std: 7.0%\n"
     ]
    },
    {
     "name": "stdout",
     "output_type": "stream",
     "text": [
      "[[0.78008543 0.81545039]\n",
      " [0.79555282 0.82874572]\n",
      " [0.6945     0.7195    ]]\n",
      "rec time now 1 dataset now: Syn5\n"
     ]
    },
    {
     "name": "stderr",
     "output_type": "stream",
     "text": [
      "TPR mean: 79.3%  std: 21.9%\n",
      "FDR mean: 0.9%  std: 7.8%\n"
     ]
    },
    {
     "name": "stdout",
     "output_type": "stream",
     "text": [
      "[[0.78008543 0.80596485]\n",
      " [0.79555282 0.81889519]\n",
      " [0.6945     0.7177    ]]\n",
      "rec time now 2 dataset now: Syn5\n"
     ]
    },
    {
     "name": "stderr",
     "output_type": "stream",
     "text": [
      "TPR mean: 79.0%  std: 22.6%\n",
      "FDR mean: 0.9%  std: 8.2%\n"
     ]
    },
    {
     "name": "stdout",
     "output_type": "stream",
     "text": [
      "[[0.78008543 0.80459559]\n",
      " [0.79555282 0.81810207]\n",
      " [0.6945     0.7157    ]]\n",
      "rec time now 3 dataset now: Syn5\n"
     ]
    },
    {
     "name": "stderr",
     "output_type": "stream",
     "text": [
      "TPR mean: 78.9%  std: 22.7%\n",
      "FDR mean: 0.9%  std: 8.2%\n",
      "Epoch:      0, d_loss (Acc)): 0.514, v_loss (Acc): 0.483, g_loss: +0.0332\n"
     ]
    },
    {
     "name": "stdout",
     "output_type": "stream",
     "text": [
      "[[0.78008543 0.80423549]\n",
      " [0.79555282 0.81794025]\n",
      " [0.6945     0.7143    ]]\n",
      "now at training epoch number 4300 hyp-params: lamda 0.1000 prior 0.0000\n",
      "rec time now 0 dataset now: Syn5\n"
     ]
    },
    {
     "name": "stderr",
     "output_type": "stream",
     "text": [
      "TPR mean: 82.4%  std: 17.2%\n",
      "FDR mean: 1.0%  std: 7.0%\n"
     ]
    },
    {
     "name": "stdout",
     "output_type": "stream",
     "text": [
      "[[0.77857765 0.81565297]\n",
      " [0.79414664 0.8287937 ]\n",
      " [0.6921     0.7204    ]]\n",
      "rec time now 1 dataset now: Syn5\n"
     ]
    },
    {
     "name": "stderr",
     "output_type": "stream",
     "text": [
      "TPR mean: 79.6%  std: 21.5%\n",
      "FDR mean: 0.9%  std: 7.7%\n"
     ]
    },
    {
     "name": "stdout",
     "output_type": "stream",
     "text": [
      "[[0.77857765 0.80608407]\n",
      " [0.79414664 0.81889005]\n",
      " [0.6921     0.7166    ]]\n",
      "rec time now 2 dataset now: Syn5\n"
     ]
    },
    {
     "name": "stderr",
     "output_type": "stream",
     "text": [
      "TPR mean: 79.3%  std: 22.2%\n",
      "FDR mean: 0.9%  std: 8.2%\n"
     ]
    },
    {
     "name": "stdout",
     "output_type": "stream",
     "text": [
      "[[0.77857765 0.80506783]\n",
      " [0.79414664 0.81840374]\n",
      " [0.6921     0.7171    ]]\n",
      "rec time now 3 dataset now: Syn5\n"
     ]
    },
    {
     "name": "stderr",
     "output_type": "stream",
     "text": [
      "TPR mean: 79.2%  std: 22.3%\n",
      "FDR mean: 0.9%  std: 8.2%\n",
      "Epoch:      0, d_loss (Acc)): 0.515, v_loss (Acc): 0.480, g_loss: -0.0255\n"
     ]
    },
    {
     "name": "stdout",
     "output_type": "stream",
     "text": [
      "[[0.77857765 0.80463171]\n",
      " [0.79414664 0.81816809]\n",
      " [0.6921     0.7176    ]]\n",
      "now at training epoch number 4400 hyp-params: lamda 0.1000 prior 0.0000\n",
      "rec time now 0 dataset now: Syn5\n"
     ]
    },
    {
     "name": "stderr",
     "output_type": "stream",
     "text": [
      "TPR mean: 82.2%  std: 17.3%\n",
      "FDR mean: 1.1%  std: 7.2%\n"
     ]
    },
    {
     "name": "stdout",
     "output_type": "stream",
     "text": [
      "[[0.77710534 0.81307562]\n",
      " [0.79225934 0.82633977]\n",
      " [0.694      0.7202    ]]\n",
      "rec time now 1 dataset now: Syn5\n"
     ]
    },
    {
     "name": "stderr",
     "output_type": "stream",
     "text": [
      "TPR mean: 80.5%  std: 20.1%\n",
      "FDR mean: 1.0%  std: 8.2%\n"
     ]
    },
    {
     "name": "stdout",
     "output_type": "stream",
     "text": [
      "[[0.77710534 0.80458987]\n",
      " [0.79225934 0.81859777]\n",
      " [0.694      0.7038    ]]\n",
      "rec time now 2 dataset now: Syn5\n"
     ]
    },
    {
     "name": "stderr",
     "output_type": "stream",
     "text": [
      "TPR mean: 80.2%  std: 20.9%\n",
      "FDR mean: 1.0%  std: 9.0%\n"
     ]
    },
    {
     "name": "stdout",
     "output_type": "stream",
     "text": [
      "[[0.77710534 0.80323959]\n",
      " [0.79225934 0.81775186]\n",
      " [0.694      0.7062    ]]\n",
      "rec time now 3 dataset now: Syn5\n"
     ]
    },
    {
     "name": "stderr",
     "output_type": "stream",
     "text": [
      "TPR mean: 80.1%  std: 21.0%\n",
      "FDR mean: 1.0%  std: 9.0%\n",
      "Epoch:      0, d_loss (Acc)): 0.487, v_loss (Acc): 0.467, g_loss: +0.0232\n"
     ]
    },
    {
     "name": "stdout",
     "output_type": "stream",
     "text": [
      "[[0.77710534 0.80294311]\n",
      " [0.79225934 0.81762598]\n",
      " [0.694      0.7066    ]]\n",
      "now at training epoch number 4500 hyp-params: lamda 0.1000 prior 0.0000\n",
      "rec time now 0 dataset now: Syn5\n"
     ]
    },
    {
     "name": "stderr",
     "output_type": "stream",
     "text": [
      "TPR mean: 82.2%  std: 17.4%\n",
      "FDR mean: 1.1%  std: 7.5%\n"
     ]
    },
    {
     "name": "stdout",
     "output_type": "stream",
     "text": [
      "[[0.77907349 0.81374174]\n",
      " [0.79449982 0.82720249]\n",
      " [0.6923     0.7201    ]]\n",
      "rec time now 1 dataset now: Syn5\n"
     ]
    },
    {
     "name": "stderr",
     "output_type": "stream",
     "text": [
      "TPR mean: 80.5%  std: 20.1%\n",
      "FDR mean: 1.0%  std: 8.8%\n"
     ]
    },
    {
     "name": "stdout",
     "output_type": "stream",
     "text": [
      "[[0.77907349 0.80557893]\n",
      " [0.79449982 0.81936319]\n",
      " [0.6923     0.7082    ]]\n",
      "rec time now 2 dataset now: Syn5\n"
     ]
    },
    {
     "name": "stderr",
     "output_type": "stream",
     "text": [
      "TPR mean: 80.2%  std: 21.0%\n",
      "FDR mean: 1.1%  std: 9.5%\n"
     ]
    },
    {
     "name": "stdout",
     "output_type": "stream",
     "text": [
      "[[0.77907349 0.80437013]\n",
      " [0.79449982 0.81858575]\n",
      " [0.6923     0.7069    ]]\n",
      "rec time now 3 dataset now: Syn5\n"
     ]
    },
    {
     "name": "stderr",
     "output_type": "stream",
     "text": [
      "TPR mean: 80.1%  std: 21.2%\n",
      "FDR mean: 1.1%  std: 9.7%\n",
      "Epoch:      0, d_loss (Acc)): 0.473, v_loss (Acc): 0.435, g_loss: +0.0029\n"
     ]
    },
    {
     "name": "stdout",
     "output_type": "stream",
     "text": [
      "[[0.77907349 0.80406921]\n",
      " [0.79449982 0.81846154]\n",
      " [0.6923     0.708     ]]\n",
      "now at training epoch number 4600 hyp-params: lamda 0.1000 prior 0.0000\n",
      "rec time now 0 dataset now: Syn5\n"
     ]
    },
    {
     "name": "stderr",
     "output_type": "stream",
     "text": [
      "TPR mean: 82.0%  std: 17.7%\n",
      "FDR mean: 1.1%  std: 7.9%\n"
     ]
    },
    {
     "name": "stdout",
     "output_type": "stream",
     "text": [
      "[[0.77403599 0.8114707 ]\n",
      " [0.78955616 0.82562439]\n",
      " [0.6927     0.7165    ]]\n",
      "rec time now 1 dataset now: Syn5\n"
     ]
    },
    {
     "name": "stderr",
     "output_type": "stream",
     "text": [
      "TPR mean: 80.6%  std: 20.1%\n",
      "FDR mean: 1.1%  std: 9.4%\n"
     ]
    },
    {
     "name": "stdout",
     "output_type": "stream",
     "text": [
      "[[0.77403599 0.80456721]\n",
      " [0.78955616 0.81978633]\n",
      " [0.6927     0.7105    ]]\n",
      "rec time now 2 dataset now: Syn5\n"
     ]
    },
    {
     "name": "stderr",
     "output_type": "stream",
     "text": [
      "TPR mean: 80.2%  std: 21.2%\n",
      "FDR mean: 1.2%  std: 10.1%\n"
     ]
    },
    {
     "name": "stdout",
     "output_type": "stream",
     "text": [
      "[[0.77403599 0.80377699]\n",
      " [0.78955616 0.81940046]\n",
      " [0.6927     0.7105    ]]\n",
      "rec time now 3 dataset now: Syn5\n"
     ]
    },
    {
     "name": "stderr",
     "output_type": "stream",
     "text": [
      "TPR mean: 80.1%  std: 21.3%\n",
      "FDR mean: 1.2%  std: 10.2%\n",
      "Epoch:      0, d_loss (Acc)): 0.487, v_loss (Acc): 0.451, g_loss: -0.0318\n"
     ]
    },
    {
     "name": "stdout",
     "output_type": "stream",
     "text": [
      "[[0.77403599 0.8034049 ]\n",
      " [0.78955616 0.81915456]\n",
      " [0.6927     0.7106    ]]\n",
      "now at training epoch number 4700 hyp-params: lamda 0.1000 prior 0.0000\n",
      "rec time now 0 dataset now: Syn5\n"
     ]
    },
    {
     "name": "stderr",
     "output_type": "stream",
     "text": [
      "TPR mean: 82.1%  std: 17.6%\n",
      "FDR mean: 1.0%  std: 7.8%\n"
     ]
    },
    {
     "name": "stdout",
     "output_type": "stream",
     "text": [
      "[[0.77772345 0.81411248]\n",
      " [0.79352092 0.82707518]\n",
      " [0.6942     0.7216    ]]\n",
      "rec time now 1 dataset now: Syn5\n"
     ]
    },
    {
     "name": "stderr",
     "output_type": "stream",
     "text": [
      "TPR mean: 79.8%  std: 21.5%\n",
      "FDR mean: 1.0%  std: 9.0%\n"
     ]
    },
    {
     "name": "stdout",
     "output_type": "stream",
     "text": [
      "[[0.77772345 0.80395148]\n",
      " [0.79352092 0.81691422]\n",
      " [0.6942     0.7025    ]]\n",
      "rec time now 2 dataset now: Syn5\n"
     ]
    },
    {
     "name": "stderr",
     "output_type": "stream",
     "text": [
      "TPR mean: 79.4%  std: 22.3%\n",
      "FDR mean: 1.0%  std: 9.4%\n"
     ]
    },
    {
     "name": "stdout",
     "output_type": "stream",
     "text": [
      "[[0.77772345 0.80292381]\n",
      " [0.79352092 0.81610284]\n",
      " [0.6942     0.7021    ]]\n",
      "rec time now 3 dataset now: Syn5\n"
     ]
    },
    {
     "name": "stderr",
     "output_type": "stream",
     "text": [
      "TPR mean: 79.3%  std: 22.5%\n",
      "FDR mean: 1.0%  std: 9.4%\n",
      "Epoch:      0, d_loss (Acc)): 0.501, v_loss (Acc): 0.453, g_loss: -0.0306\n"
     ]
    },
    {
     "name": "stdout",
     "output_type": "stream",
     "text": [
      "[[0.77772345 0.80275364]\n",
      " [0.79352092 0.81614084]\n",
      " [0.6942     0.702     ]]\n",
      "now at training epoch number 4800 hyp-params: lamda 0.1000 prior 0.0000\n",
      "rec time now 0 dataset now: Syn5\n"
     ]
    },
    {
     "name": "stderr",
     "output_type": "stream",
     "text": [
      "TPR mean: 82.0%  std: 18.0%\n",
      "FDR mean: 1.2%  std: 8.7%\n"
     ]
    },
    {
     "name": "stdout",
     "output_type": "stream",
     "text": [
      "[[0.77538888 0.81344577]\n",
      " [0.78999823 0.82662255]\n",
      " [0.6928     0.7193    ]]\n",
      "rec time now 1 dataset now: Syn5\n"
     ]
    },
    {
     "name": "stderr",
     "output_type": "stream",
     "text": [
      "TPR mean: 79.9%  std: 21.3%\n",
      "FDR mean: 1.0%  std: 9.2%\n"
     ]
    },
    {
     "name": "stdout",
     "output_type": "stream",
     "text": [
      "[[0.77538888 0.80197583]\n",
      " [0.78999823 0.81661661]\n",
      " [0.6928     0.7044    ]]\n",
      "rec time now 2 dataset now: Syn5\n"
     ]
    },
    {
     "name": "stderr",
     "output_type": "stream",
     "text": [
      "TPR mean: 79.6%  std: 22.1%\n",
      "FDR mean: 1.1%  std: 9.5%\n"
     ]
    },
    {
     "name": "stdout",
     "output_type": "stream",
     "text": [
      "[[0.77538888 0.80074784]\n",
      " [0.78999823 0.81586082]\n",
      " [0.6928     0.7044    ]]\n",
      "rec time now 3 dataset now: Syn5\n"
     ]
    },
    {
     "name": "stderr",
     "output_type": "stream",
     "text": [
      "TPR mean: 79.5%  std: 22.3%\n",
      "FDR mean: 1.1%  std: 9.5%\n",
      "Epoch:      0, d_loss (Acc)): 0.483, v_loss (Acc): 0.449, g_loss: -0.0068\n"
     ]
    },
    {
     "name": "stdout",
     "output_type": "stream",
     "text": [
      "[[0.77538888 0.80076749]\n",
      " [0.78999823 0.81591032]\n",
      " [0.6928     0.7051    ]]\n",
      "now at training epoch number 4900 hyp-params: lamda 0.1000 prior 0.0000\n",
      "rec time now 0 dataset now: Syn5\n"
     ]
    },
    {
     "name": "stderr",
     "output_type": "stream",
     "text": [
      "TPR mean: 82.1%  std: 17.6%\n",
      "FDR mean: 1.0%  std: 7.5%\n"
     ]
    },
    {
     "name": "stdout",
     "output_type": "stream",
     "text": [
      "[[0.77893008 0.81391843]\n",
      " [0.79334077 0.82743595]\n",
      " [0.6961     0.7192    ]]\n",
      "rec time now 1 dataset now: Syn5\n"
     ]
    },
    {
     "name": "stderr",
     "output_type": "stream",
     "text": [
      "TPR mean: 79.7%  std: 21.5%\n",
      "FDR mean: 1.0%  std: 9.1%\n"
     ]
    },
    {
     "name": "stdout",
     "output_type": "stream",
     "text": [
      "[[0.77893008 0.79976228]\n",
      " [0.79334077 0.81501812]\n",
      " [0.6961     0.6985    ]]\n",
      "rec time now 2 dataset now: Syn5\n"
     ]
    },
    {
     "name": "stderr",
     "output_type": "stream",
     "text": [
      "TPR mean: 79.3%  std: 22.3%\n",
      "FDR mean: 1.0%  std: 9.3%\n"
     ]
    },
    {
     "name": "stdout",
     "output_type": "stream",
     "text": [
      "[[0.77893008 0.7981217 ]\n",
      " [0.79334077 0.81386838]\n",
      " [0.6961     0.6944    ]]\n",
      "rec time now 3 dataset now: Syn5\n"
     ]
    },
    {
     "name": "stderr",
     "output_type": "stream",
     "text": [
      "TPR mean: 79.2%  std: 22.5%\n",
      "FDR mean: 1.0%  std: 9.3%\n",
      "invase: Syn6 5000 . Y\n",
      "(10000, 11) (10000, 2) (10000, 11) (10000, 2)\n",
      "input shape: 11\n",
      "Epoch:      0, d_loss (Acc)): 0.791, v_loss (Acc): 0.805, g_loss: +0.1382\n"
     ]
    },
    {
     "name": "stdout",
     "output_type": "stream",
     "text": [
      "[[0.77893008 0.79750263]\n",
      " [0.79334077 0.81354816]\n",
      " [0.6961     0.6929    ]]\n",
      "PyTorch Version: elapsed time for Syn5: 11 feature, 10000 sample: [475.9042 477.9214 478.9424 479.2886 478.6475] sec.\n",
      "now at training epoch number 0 hyp-params: lamda 0.1000 prior 0.0000\n",
      "rec time now 0 dataset now: Syn6\n"
     ]
    },
    {
     "name": "stderr",
     "output_type": "stream",
     "text": [
      "TPR mean: 36.8%  std: 22.6%\n",
      "FDR mean: 50.8%  std: 32.9%\n"
     ]
    },
    {
     "name": "stdout",
     "output_type": "stream",
     "text": [
      "[[0.75144692 0.71525601]\n",
      " [0.76568638 0.73775418]\n",
      " [0.6891     0.658     ]]\n",
      "rec time now 1 dataset now: Syn6\n"
     ]
    },
    {
     "name": "stderr",
     "output_type": "stream",
     "text": [
      "TPR mean: 27.8%  std: 22.7%\n",
      "FDR mean: 48.7%  std: 41.2%\n"
     ]
    },
    {
     "name": "stdout",
     "output_type": "stream",
     "text": [
      "[[0.75144692 0.69083975]\n",
      " [0.76568638 0.7135811 ]\n",
      " [0.6891     0.6413    ]]\n",
      "rec time now 2 dataset now: Syn6\n"
     ]
    },
    {
     "name": "stderr",
     "output_type": "stream",
     "text": [
      "TPR mean: 26.1%  std: 22.9%\n",
      "FDR mean: 47.6%  std: 43.2%\n"
     ]
    },
    {
     "name": "stdout",
     "output_type": "stream",
     "text": [
      "[[0.75144692 0.68898088]\n",
      " [0.76568638 0.70896398]\n",
      " [0.6891     0.6425    ]]\n",
      "rec time now 3 dataset now: Syn6\n"
     ]
    },
    {
     "name": "stderr",
     "output_type": "stream",
     "text": [
      "TPR mean: 25.8%  std: 23.0%\n",
      "FDR mean: 47.3%  std: 43.7%\n",
      "Epoch:      0, d_loss (Acc)): 0.633, v_loss (Acc): 0.583, g_loss: -0.3332\n"
     ]
    },
    {
     "name": "stdout",
     "output_type": "stream",
     "text": [
      "[[0.75144692 0.68834285]\n",
      " [0.76568638 0.70782505]\n",
      " [0.6891     0.642     ]]\n",
      "now at training epoch number 100 hyp-params: lamda 0.1000 prior 0.0000\n",
      "rec time now 0 dataset now: Syn6\n"
     ]
    },
    {
     "name": "stderr",
     "output_type": "stream",
     "text": [
      "TPR mean: 46.2%  std: 22.9%\n",
      "FDR mean: 40.9%  std: 31.4%\n"
     ]
    },
    {
     "name": "stdout",
     "output_type": "stream",
     "text": [
      "[[0.78779092 0.74963517]\n",
      " [0.8030946  0.76171756]\n",
      " [0.714      0.6895    ]]\n",
      "rec time now 1 dataset now: Syn6\n"
     ]
    },
    {
     "name": "stderr",
     "output_type": "stream",
     "text": [
      "TPR mean: 35.4%  std: 24.3%\n",
      "FDR mean: 41.2%  std: 39.1%\n"
     ]
    },
    {
     "name": "stdout",
     "output_type": "stream",
     "text": [
      "[[0.78779092 0.72277011]\n",
      " [0.8030946  0.73209013]\n",
      " [0.714      0.6721    ]]\n",
      "rec time now 2 dataset now: Syn6\n"
     ]
    },
    {
     "name": "stderr",
     "output_type": "stream",
     "text": [
      "TPR mean: 33.3%  std: 24.9%\n",
      "FDR mean: 41.6%  std: 41.0%\n"
     ]
    },
    {
     "name": "stdout",
     "output_type": "stream",
     "text": [
      "[[0.78779092 0.71999269]\n",
      " [0.8030946  0.72998642]\n",
      " [0.714      0.6696    ]]\n",
      "rec time now 3 dataset now: Syn6\n"
     ]
    },
    {
     "name": "stderr",
     "output_type": "stream",
     "text": [
      "TPR mean: 32.9%  std: 25.1%\n",
      "FDR mean: 41.6%  std: 41.3%\n",
      "Epoch:      0, d_loss (Acc)): 0.620, v_loss (Acc): 0.549, g_loss: -0.4905\n"
     ]
    },
    {
     "name": "stdout",
     "output_type": "stream",
     "text": [
      "[[0.78779092 0.71909934]\n",
      " [0.8030946  0.72995754]\n",
      " [0.714      0.668     ]]\n",
      "now at training epoch number 200 hyp-params: lamda 0.1000 prior 0.0000\n",
      "rec time now 0 dataset now: Syn6\n"
     ]
    },
    {
     "name": "stderr",
     "output_type": "stream",
     "text": [
      "TPR mean: 54.5%  std: 25.1%\n",
      "FDR mean: 31.8%  std: 30.4%\n"
     ]
    },
    {
     "name": "stdout",
     "output_type": "stream",
     "text": [
      "[[0.80773781 0.76823717]\n",
      " [0.82288168 0.77925803]\n",
      " [0.7344     0.7037    ]]\n",
      "rec time now 1 dataset now: Syn6\n"
     ]
    },
    {
     "name": "stderr",
     "output_type": "stream",
     "text": [
      "TPR mean: 43.9%  std: 28.5%\n",
      "FDR mean: 32.5%  std: 37.5%\n"
     ]
    },
    {
     "name": "stdout",
     "output_type": "stream",
     "text": [
      "[[0.80773781 0.74047544]\n",
      " [0.82288168 0.74589632]\n",
      " [0.7344     0.6857    ]]\n",
      "rec time now 2 dataset now: Syn6\n"
     ]
    },
    {
     "name": "stderr",
     "output_type": "stream",
     "text": [
      "TPR mean: 41.5%  std: 29.5%\n",
      "FDR mean: 33.6%  std: 39.3%\n"
     ]
    },
    {
     "name": "stdout",
     "output_type": "stream",
     "text": [
      "[[0.80773781 0.73539972]\n",
      " [0.82288168 0.74370885]\n",
      " [0.7344     0.6803    ]]\n",
      "rec time now 3 dataset now: Syn6\n"
     ]
    },
    {
     "name": "stderr",
     "output_type": "stream",
     "text": [
      "TPR mean: 41.1%  std: 29.7%\n",
      "FDR mean: 33.8%  std: 39.6%\n",
      "Epoch:      0, d_loss (Acc)): 0.585, v_loss (Acc): 0.507, g_loss: -0.5351\n"
     ]
    },
    {
     "name": "stdout",
     "output_type": "stream",
     "text": [
      "[[0.80773781 0.7344792 ]\n",
      " [0.82288168 0.74327792]\n",
      " [0.7344     0.6801    ]]\n",
      "now at training epoch number 300 hyp-params: lamda 0.1000 prior 0.0000\n",
      "rec time now 0 dataset now: Syn6\n"
     ]
    },
    {
     "name": "stderr",
     "output_type": "stream",
     "text": [
      "TPR mean: 63.4%  std: 25.2%\n",
      "FDR mean: 25.4%  std: 26.6%\n"
     ]
    },
    {
     "name": "stdout",
     "output_type": "stream",
     "text": [
      "[[0.81792324 0.78625248]\n",
      " [0.83196435 0.79440579]\n",
      " [0.7426     0.7172    ]]\n",
      "rec time now 1 dataset now: Syn6\n"
     ]
    },
    {
     "name": "stderr",
     "output_type": "stream",
     "text": [
      "TPR mean: 53.8%  std: 30.3%\n",
      "FDR mean: 25.4%  std: 32.9%\n"
     ]
    },
    {
     "name": "stdout",
     "output_type": "stream",
     "text": [
      "[[0.81792324 0.76178977]\n",
      " [0.83196435 0.76506399]\n",
      " [0.7426     0.7016    ]]\n",
      "rec time now 2 dataset now: Syn6\n"
     ]
    },
    {
     "name": "stderr",
     "output_type": "stream",
     "text": [
      "TPR mean: 51.9%  std: 31.6%\n",
      "FDR mean: 26.1%  std: 34.3%\n"
     ]
    },
    {
     "name": "stdout",
     "output_type": "stream",
     "text": [
      "[[0.81792324 0.75690851]\n",
      " [0.83196435 0.7627822 ]\n",
      " [0.7426     0.6966    ]]\n",
      "rec time now 3 dataset now: Syn6\n"
     ]
    },
    {
     "name": "stderr",
     "output_type": "stream",
     "text": [
      "TPR mean: 51.6%  std: 31.8%\n",
      "FDR mean: 26.3%  std: 34.5%\n",
      "Epoch:      0, d_loss (Acc)): 0.595, v_loss (Acc): 0.521, g_loss: -0.5070\n"
     ]
    },
    {
     "name": "stdout",
     "output_type": "stream",
     "text": [
      "[[0.81792324 0.75523134]\n",
      " [0.83196435 0.76158254]\n",
      " [0.7426     0.6948    ]]\n",
      "now at training epoch number 400 hyp-params: lamda 0.1000 prior 0.0000\n",
      "rec time now 0 dataset now: Syn6\n"
     ]
    },
    {
     "name": "stderr",
     "output_type": "stream",
     "text": [
      "TPR mean: 69.4%  std: 25.3%\n",
      "FDR mean: 22.2%  std: 25.3%\n"
     ]
    },
    {
     "name": "stdout",
     "output_type": "stream",
     "text": [
      "[[0.82559203 0.80067428]\n",
      " [0.84016253 0.80490617]\n",
      " [0.7506     0.7302    ]]\n",
      "rec time now 1 dataset now: Syn6\n"
     ]
    },
    {
     "name": "stderr",
     "output_type": "stream",
     "text": [
      "TPR mean: 60.7%  std: 31.1%\n",
      "FDR mean: 21.4%  std: 30.2%\n"
     ]
    },
    {
     "name": "stdout",
     "output_type": "stream",
     "text": [
      "[[0.82559203 0.77857095]\n",
      " [0.84016253 0.77807818]\n",
      " [0.7506     0.7117    ]]\n",
      "rec time now 2 dataset now: Syn6\n"
     ]
    },
    {
     "name": "stderr",
     "output_type": "stream",
     "text": [
      "TPR mean: 58.7%  std: 32.7%\n",
      "FDR mean: 22.0%  std: 31.6%\n"
     ]
    },
    {
     "name": "stdout",
     "output_type": "stream",
     "text": [
      "[[0.82559203 0.77099718]\n",
      " [0.84016253 0.77241064]\n",
      " [0.7506     0.7049    ]]\n",
      "rec time now 3 dataset now: Syn6\n"
     ]
    },
    {
     "name": "stderr",
     "output_type": "stream",
     "text": [
      "TPR mean: 58.4%  std: 33.0%\n",
      "FDR mean: 22.1%  std: 31.8%\n",
      "Epoch:      0, d_loss (Acc)): 0.595, v_loss (Acc): 0.509, g_loss: -0.5782\n"
     ]
    },
    {
     "name": "stdout",
     "output_type": "stream",
     "text": [
      "[[0.82559203 0.77013246]\n",
      " [0.84016253 0.77197679]\n",
      " [0.7506     0.7031    ]]\n",
      "now at training epoch number 500 hyp-params: lamda 0.1000 prior 0.0000\n",
      "rec time now 0 dataset now: Syn6\n"
     ]
    },
    {
     "name": "stderr",
     "output_type": "stream",
     "text": [
      "TPR mean: 74.3%  std: 23.5%\n",
      "FDR mean: 18.8%  std: 23.0%\n"
     ]
    },
    {
     "name": "stdout",
     "output_type": "stream",
     "text": [
      "[[0.82828751 0.82096092]\n",
      " [0.84175869 0.82567467]\n",
      " [0.7525     0.7492    ]]\n",
      "rec time now 1 dataset now: Syn6\n"
     ]
    },
    {
     "name": "stderr",
     "output_type": "stream",
     "text": [
      "TPR mean: 67.2%  std: 29.2%\n",
      "FDR mean: 16.9%  std: 26.0%\n"
     ]
    },
    {
     "name": "stdout",
     "output_type": "stream",
     "text": [
      "[[0.82828751 0.80403239]\n",
      " [0.84175869 0.80426736]\n",
      " [0.7525     0.7344    ]]\n",
      "rec time now 2 dataset now: Syn6\n"
     ]
    },
    {
     "name": "stderr",
     "output_type": "stream",
     "text": [
      "TPR mean: 65.5%  std: 31.1%\n",
      "FDR mean: 17.2%  std: 26.9%\n"
     ]
    },
    {
     "name": "stdout",
     "output_type": "stream",
     "text": [
      "[[0.82828751 0.79877738]\n",
      " [0.84175869 0.80040148]\n",
      " [0.7525     0.7291    ]]\n",
      "rec time now 3 dataset now: Syn6\n"
     ]
    },
    {
     "name": "stderr",
     "output_type": "stream",
     "text": [
      "TPR mean: 65.2%  std: 31.4%\n",
      "FDR mean: 17.4%  std: 27.2%\n",
      "Epoch:      0, d_loss (Acc)): 0.573, v_loss (Acc): 0.498, g_loss: -0.4839\n"
     ]
    },
    {
     "name": "stdout",
     "output_type": "stream",
     "text": [
      "[[0.82828751 0.7975076 ]\n",
      " [0.84175869 0.79948007]\n",
      " [0.7525     0.7284    ]]\n",
      "now at training epoch number 600 hyp-params: lamda 0.1000 prior 0.0000\n",
      "rec time now 0 dataset now: Syn6\n"
     ]
    },
    {
     "name": "stderr",
     "output_type": "stream",
     "text": [
      "TPR mean: 78.5%  std: 20.6%\n",
      "FDR mean: 15.5%  std: 19.6%\n"
     ]
    },
    {
     "name": "stdout",
     "output_type": "stream",
     "text": [
      "[[0.83701485 0.84037379]\n",
      " [0.85041752 0.84831048]\n",
      " [0.7608     0.7655    ]]\n",
      "rec time now 1 dataset now: Syn6\n"
     ]
    },
    {
     "name": "stderr",
     "output_type": "stream",
     "text": [
      "TPR mean: 72.3%  std: 26.2%\n",
      "FDR mean: 12.8%  std: 20.8%\n"
     ]
    },
    {
     "name": "stdout",
     "output_type": "stream",
     "text": [
      "[[0.83701485 0.82422487]\n",
      " [0.85041752 0.82829915]\n",
      " [0.7608     0.7533    ]]\n",
      "rec time now 2 dataset now: Syn6\n"
     ]
    },
    {
     "name": "stderr",
     "output_type": "stream",
     "text": [
      "TPR mean: 70.9%  std: 28.0%\n",
      "FDR mean: 12.9%  std: 21.6%\n"
     ]
    },
    {
     "name": "stdout",
     "output_type": "stream",
     "text": [
      "[[0.83701485 0.82103716]\n",
      " [0.85041752 0.82642634]\n",
      " [0.7608     0.7499    ]]\n",
      "rec time now 3 dataset now: Syn6\n"
     ]
    },
    {
     "name": "stderr",
     "output_type": "stream",
     "text": [
      "TPR mean: 70.7%  std: 28.3%\n",
      "FDR mean: 13.0%  std: 21.7%\n",
      "Epoch:      0, d_loss (Acc)): 0.537, v_loss (Acc): 0.480, g_loss: -0.3684\n"
     ]
    },
    {
     "name": "stdout",
     "output_type": "stream",
     "text": [
      "[[0.83701485 0.82057085]\n",
      " [0.85041752 0.82590637]\n",
      " [0.7608     0.7493    ]]\n",
      "now at training epoch number 700 hyp-params: lamda 0.1000 prior 0.0000\n",
      "rec time now 0 dataset now: Syn6\n"
     ]
    },
    {
     "name": "stderr",
     "output_type": "stream",
     "text": [
      "TPR mean: 81.3%  std: 18.3%\n",
      "FDR mean: 12.9%  std: 17.6%\n"
     ]
    },
    {
     "name": "stdout",
     "output_type": "stream",
     "text": [
      "[[0.83847553 0.85250402]\n",
      " [0.85166888 0.86044254]\n",
      " [0.7636     0.781     ]]\n",
      "rec time now 1 dataset now: Syn6\n"
     ]
    },
    {
     "name": "stderr",
     "output_type": "stream",
     "text": [
      "TPR mean: 77.1%  std: 22.9%\n",
      "FDR mean: 10.3%  std: 17.8%\n"
     ]
    },
    {
     "name": "stdout",
     "output_type": "stream",
     "text": [
      "[[0.83847553 0.84274353]\n",
      " [0.85166888 0.84689258]\n",
      " [0.7636     0.7699    ]]\n",
      "rec time now 2 dataset now: Syn6\n"
     ]
    },
    {
     "name": "stderr",
     "output_type": "stream",
     "text": [
      "TPR mean: 76.3%  std: 24.1%\n",
      "FDR mean: 10.2%  std: 17.9%\n"
     ]
    },
    {
     "name": "stdout",
     "output_type": "stream",
     "text": [
      "[[0.83847553 0.84063171]\n",
      " [0.85166888 0.84526056]\n",
      " [0.7636     0.7688    ]]\n",
      "rec time now 3 dataset now: Syn6\n"
     ]
    },
    {
     "name": "stderr",
     "output_type": "stream",
     "text": [
      "TPR mean: 76.3%  std: 24.2%\n",
      "FDR mean: 10.2%  std: 18.0%\n",
      "Epoch:      0, d_loss (Acc)): 0.485, v_loss (Acc): 0.454, g_loss: -0.1517\n"
     ]
    },
    {
     "name": "stdout",
     "output_type": "stream",
     "text": [
      "[[0.83847553 0.84049434]\n",
      " [0.85166888 0.84503304]\n",
      " [0.7636     0.7684    ]]\n",
      "now at training epoch number 800 hyp-params: lamda 0.1000 prior 0.0000\n",
      "rec time now 0 dataset now: Syn6\n"
     ]
    },
    {
     "name": "stderr",
     "output_type": "stream",
     "text": [
      "TPR mean: 83.4%  std: 16.4%\n",
      "FDR mean: 10.8%  std: 16.0%\n"
     ]
    },
    {
     "name": "stdout",
     "output_type": "stream",
     "text": [
      "[[0.83966484 0.85924081]\n",
      " [0.8526089  0.86525059]\n",
      " [0.7639     0.7865    ]]\n",
      "rec time now 1 dataset now: Syn6\n"
     ]
    },
    {
     "name": "stderr",
     "output_type": "stream",
     "text": [
      "TPR mean: 80.0%  std: 21.3%\n",
      "FDR mean: 8.5%  std: 15.4%\n"
     ]
    },
    {
     "name": "stdout",
     "output_type": "stream",
     "text": [
      "[[0.83966484 0.85018158]\n",
      " [0.8526089  0.85409936]\n",
      " [0.7639     0.7775    ]]\n",
      "rec time now 2 dataset now: Syn6\n"
     ]
    },
    {
     "name": "stderr",
     "output_type": "stream",
     "text": [
      "TPR mean: 79.3%  std: 22.6%\n",
      "FDR mean: 8.4%  std: 15.3%\n"
     ]
    },
    {
     "name": "stdout",
     "output_type": "stream",
     "text": [
      "[[0.83966484 0.84817096]\n",
      " [0.8526089  0.85220359]\n",
      " [0.7639     0.7754    ]]\n",
      "rec time now 3 dataset now: Syn6\n"
     ]
    },
    {
     "name": "stderr",
     "output_type": "stream",
     "text": [
      "TPR mean: 79.3%  std: 22.7%\n",
      "FDR mean: 8.4%  std: 15.3%\n",
      "Epoch:      0, d_loss (Acc)): 0.493, v_loss (Acc): 0.458, g_loss: -0.2085\n"
     ]
    },
    {
     "name": "stdout",
     "output_type": "stream",
     "text": [
      "[[0.83966484 0.84818412]\n",
      " [0.8526089  0.85225311]\n",
      " [0.7639     0.7754    ]]\n",
      "now at training epoch number 900 hyp-params: lamda 0.1000 prior 0.0000\n",
      "rec time now 0 dataset now: Syn6\n"
     ]
    },
    {
     "name": "stderr",
     "output_type": "stream",
     "text": [
      "TPR mean: 84.5%  std: 15.8%\n",
      "FDR mean: 9.4%  std: 15.8%\n"
     ]
    },
    {
     "name": "stdout",
     "output_type": "stream",
     "text": [
      "[[0.84269278 0.86164957]\n",
      " [0.8564631  0.86815594]\n",
      " [0.7665     0.7873    ]]\n",
      "rec time now 1 dataset now: Syn6\n"
     ]
    },
    {
     "name": "stderr",
     "output_type": "stream",
     "text": [
      "TPR mean: 80.8%  std: 21.7%\n",
      "FDR mean: 7.5%  std: 15.4%\n"
     ]
    },
    {
     "name": "stdout",
     "output_type": "stream",
     "text": [
      "[[0.84269278 0.85271987]\n",
      " [0.8564631  0.85511706]\n",
      " [0.7665     0.782     ]]\n",
      "rec time now 2 dataset now: Syn6\n"
     ]
    },
    {
     "name": "stderr",
     "output_type": "stream",
     "text": [
      "TPR mean: 79.7%  std: 23.9%\n",
      "FDR mean: 7.5%  std: 15.5%\n"
     ]
    },
    {
     "name": "stdout",
     "output_type": "stream",
     "text": [
      "[[0.84269278 0.84894359]\n",
      " [0.8564631  0.84911422]\n",
      " [0.7665     0.7804    ]]\n",
      "rec time now 3 dataset now: Syn6\n"
     ]
    },
    {
     "name": "stderr",
     "output_type": "stream",
     "text": [
      "TPR mean: 79.6%  std: 24.1%\n",
      "FDR mean: 7.5%  std: 15.5%\n",
      "Epoch:      0, d_loss (Acc)): 0.479, v_loss (Acc): 0.457, g_loss: -0.1101\n"
     ]
    },
    {
     "name": "stdout",
     "output_type": "stream",
     "text": [
      "[[0.84269278 0.84834357]\n",
      " [0.8564631  0.84771847]\n",
      " [0.7665     0.7799    ]]\n",
      "now at training epoch number 1000 hyp-params: lamda 0.1000 prior 0.0000\n",
      "rec time now 0 dataset now: Syn6\n"
     ]
    },
    {
     "name": "stderr",
     "output_type": "stream",
     "text": [
      "TPR mean: 86.6%  std: 14.6%\n",
      "FDR mean: 8.7%  std: 15.1%\n"
     ]
    },
    {
     "name": "stdout",
     "output_type": "stream",
     "text": [
      "[[0.84192885 0.86585313]\n",
      " [0.85447012 0.8726396 ]\n",
      " [0.7646     0.7896    ]]\n",
      "rec time now 1 dataset now: Syn6\n"
     ]
    },
    {
     "name": "stderr",
     "output_type": "stream",
     "text": [
      "TPR mean: 83.1%  std: 20.7%\n",
      "FDR mean: 7.0%  std: 14.8%\n"
     ]
    },
    {
     "name": "stdout",
     "output_type": "stream",
     "text": [
      "[[0.84192885 0.85685866]\n",
      " [0.85447012 0.86087007]\n",
      " [0.7646     0.783     ]]\n",
      "rec time now 2 dataset now: Syn6\n"
     ]
    },
    {
     "name": "stderr",
     "output_type": "stream",
     "text": [
      "TPR mean: 82.2%  std: 22.9%\n",
      "FDR mean: 7.0%  std: 14.9%\n"
     ]
    },
    {
     "name": "stdout",
     "output_type": "stream",
     "text": [
      "[[0.84192885 0.85306495]\n",
      " [0.85447012 0.85346909]\n",
      " [0.7646     0.7821    ]]\n",
      "rec time now 3 dataset now: Syn6\n"
     ]
    },
    {
     "name": "stderr",
     "output_type": "stream",
     "text": [
      "TPR mean: 82.1%  std: 23.1%\n",
      "FDR mean: 6.9%  std: 14.9%\n",
      "Epoch:      0, d_loss (Acc)): 0.492, v_loss (Acc): 0.476, g_loss: -0.1163\n"
     ]
    },
    {
     "name": "stdout",
     "output_type": "stream",
     "text": [
      "[[0.84192885 0.85238224]\n",
      " [0.85447012 0.85199346]\n",
      " [0.7646     0.7815    ]]\n",
      "now at training epoch number 1100 hyp-params: lamda 0.1000 prior 0.0000\n",
      "rec time now 0 dataset now: Syn6\n"
     ]
    },
    {
     "name": "stderr",
     "output_type": "stream",
     "text": [
      "TPR mean: 88.5%  std: 14.1%\n",
      "FDR mean: 7.7%  std: 15.0%\n"
     ]
    },
    {
     "name": "stdout",
     "output_type": "stream",
     "text": [
      "[[0.8450182  0.87003015]\n",
      " [0.85914174 0.87658471]\n",
      " [0.7687     0.7955    ]]\n",
      "rec time now 1 dataset now: Syn6\n"
     ]
    },
    {
     "name": "stderr",
     "output_type": "stream",
     "text": [
      "TPR mean: 85.5%  std: 19.6%\n",
      "FDR mean: 6.2%  std: 14.7%\n"
     ]
    },
    {
     "name": "stdout",
     "output_type": "stream",
     "text": [
      "[[0.8450182  0.86454246]\n",
      " [0.85914174 0.86882379]\n",
      " [0.7687     0.7925    ]]\n",
      "rec time now 2 dataset now: Syn6\n"
     ]
    },
    {
     "name": "stderr",
     "output_type": "stream",
     "text": [
      "TPR mean: 84.9%  std: 21.2%\n",
      "FDR mean: 6.2%  std: 14.7%\n"
     ]
    },
    {
     "name": "stdout",
     "output_type": "stream",
     "text": [
      "[[0.8450182  0.86299927]\n",
      " [0.85914174 0.86562349]\n",
      " [0.7687     0.7909    ]]\n",
      "rec time now 3 dataset now: Syn6\n"
     ]
    },
    {
     "name": "stderr",
     "output_type": "stream",
     "text": [
      "TPR mean: 84.8%  std: 21.4%\n",
      "FDR mean: 6.2%  std: 14.7%\n",
      "Epoch:      0, d_loss (Acc)): 0.489, v_loss (Acc): 0.469, g_loss: -0.0793\n"
     ]
    },
    {
     "name": "stdout",
     "output_type": "stream",
     "text": [
      "[[0.8450182  0.86266734]\n",
      " [0.85914174 0.86487398]\n",
      " [0.7687     0.7913    ]]\n",
      "now at training epoch number 1200 hyp-params: lamda 0.1000 prior 0.0000\n",
      "rec time now 0 dataset now: Syn6\n"
     ]
    },
    {
     "name": "stderr",
     "output_type": "stream",
     "text": [
      "TPR mean: 90.6%  std: 13.5%\n",
      "FDR mean: 6.5%  std: 14.7%\n"
     ]
    },
    {
     "name": "stdout",
     "output_type": "stream",
     "text": [
      "[[0.84498614 0.87418986]\n",
      " [0.85702288 0.88084907]\n",
      " [0.7681     0.7994    ]]\n",
      "rec time now 1 dataset now: Syn6\n"
     ]
    },
    {
     "name": "stderr",
     "output_type": "stream",
     "text": [
      "TPR mean: 87.7%  std: 19.3%\n",
      "FDR mean: 5.5%  std: 14.4%\n"
     ]
    },
    {
     "name": "stdout",
     "output_type": "stream",
     "text": [
      "[[0.84498614 0.86865511]\n",
      " [0.85702288 0.87281209]\n",
      " [0.7681     0.7964    ]]\n",
      "rec time now 2 dataset now: Syn6\n"
     ]
    },
    {
     "name": "stderr",
     "output_type": "stream",
     "text": [
      "TPR mean: 87.1%  std: 20.9%\n",
      "FDR mean: 5.4%  std: 14.5%\n"
     ]
    },
    {
     "name": "stdout",
     "output_type": "stream",
     "text": [
      "[[0.84498614 0.86643963]\n",
      " [0.85702288 0.86845422]\n",
      " [0.7681     0.7951    ]]\n",
      "rec time now 3 dataset now: Syn6\n"
     ]
    },
    {
     "name": "stderr",
     "output_type": "stream",
     "text": [
      "TPR mean: 87.1%  std: 21.1%\n",
      "FDR mean: 5.4%  std: 14.5%\n",
      "Epoch:      0, d_loss (Acc)): 0.464, v_loss (Acc): 0.451, g_loss: -0.0692\n"
     ]
    },
    {
     "name": "stdout",
     "output_type": "stream",
     "text": [
      "[[0.84498614 0.86598541]\n",
      " [0.85702288 0.86747269]\n",
      " [0.7681     0.7953    ]]\n",
      "now at training epoch number 1300 hyp-params: lamda 0.1000 prior 0.0000\n",
      "rec time now 0 dataset now: Syn6\n"
     ]
    },
    {
     "name": "stderr",
     "output_type": "stream",
     "text": [
      "TPR mean: 91.7%  std: 12.9%\n",
      "FDR mean: 5.6%  std: 14.2%\n"
     ]
    },
    {
     "name": "stdout",
     "output_type": "stream",
     "text": [
      "[[0.84611061 0.87710442]\n",
      " [0.85838723 0.88352336]\n",
      " [0.7702     0.8033    ]]\n",
      "rec time now 1 dataset now: Syn6\n"
     ]
    },
    {
     "name": "stderr",
     "output_type": "stream",
     "text": [
      "TPR mean: 89.2%  std: 18.5%\n",
      "FDR mean: 4.9%  std: 14.0%\n"
     ]
    },
    {
     "name": "stdout",
     "output_type": "stream",
     "text": [
      "[[0.84611061 0.87091645]\n",
      " [0.85838723 0.87478928]\n",
      " [0.7702     0.7981    ]]\n",
      "rec time now 2 dataset now: Syn6\n"
     ]
    },
    {
     "name": "stderr",
     "output_type": "stream",
     "text": [
      "TPR mean: 88.8%  std: 19.7%\n",
      "FDR mean: 4.9%  std: 14.1%\n"
     ]
    },
    {
     "name": "stdout",
     "output_type": "stream",
     "text": [
      "[[0.84611061 0.86916358]\n",
      " [0.85838723 0.87133226]\n",
      " [0.7702     0.7973    ]]\n",
      "rec time now 3 dataset now: Syn6\n"
     ]
    },
    {
     "name": "stderr",
     "output_type": "stream",
     "text": [
      "TPR mean: 88.8%  std: 19.8%\n",
      "FDR mean: 4.9%  std: 14.1%\n",
      "Epoch:      0, d_loss (Acc)): 0.483, v_loss (Acc): 0.442, g_loss: -0.1469\n"
     ]
    },
    {
     "name": "stdout",
     "output_type": "stream",
     "text": [
      "[[0.84611061 0.86887926]\n",
      " [0.85838723 0.87078363]\n",
      " [0.7702     0.7971    ]]\n",
      "now at training epoch number 1400 hyp-params: lamda 0.1000 prior 0.0000\n",
      "rec time now 0 dataset now: Syn6\n"
     ]
    },
    {
     "name": "stderr",
     "output_type": "stream",
     "text": [
      "TPR mean: 92.5%  std: 12.5%\n",
      "FDR mean: 5.1%  std: 13.9%\n"
     ]
    },
    {
     "name": "stdout",
     "output_type": "stream",
     "text": [
      "[[0.84737891 0.87686063]\n",
      " [0.85964851 0.88390871]\n",
      " [0.7701     0.7994    ]]\n",
      "rec time now 1 dataset now: Syn6\n"
     ]
    },
    {
     "name": "stderr",
     "output_type": "stream",
     "text": [
      "TPR mean: 90.4%  std: 17.4%\n",
      "FDR mean: 4.5%  std: 13.6%\n"
     ]
    },
    {
     "name": "stdout",
     "output_type": "stream",
     "text": [
      "[[0.84737891 0.87359419]\n",
      " [0.85964851 0.87826118]\n",
      " [0.7701     0.7965    ]]\n",
      "rec time now 2 dataset now: Syn6\n"
     ]
    },
    {
     "name": "stderr",
     "output_type": "stream",
     "text": [
      "TPR mean: 90.1%  std: 18.4%\n",
      "FDR mean: 4.5%  std: 13.6%\n"
     ]
    },
    {
     "name": "stdout",
     "output_type": "stream",
     "text": [
      "[[0.84737891 0.87273312]\n",
      " [0.85964851 0.87656529]\n",
      " [0.7701     0.7974    ]]\n",
      "rec time now 3 dataset now: Syn6\n"
     ]
    },
    {
     "name": "stderr",
     "output_type": "stream",
     "text": [
      "TPR mean: 90.0%  std: 18.5%\n",
      "FDR mean: 4.5%  std: 13.7%\n",
      "Epoch:      0, d_loss (Acc)): 0.454, v_loss (Acc): 0.430, g_loss: -0.0585\n"
     ]
    },
    {
     "name": "stdout",
     "output_type": "stream",
     "text": [
      "[[0.84737891 0.87272808]\n",
      " [0.85964851 0.87649005]\n",
      " [0.7701     0.7975    ]]\n",
      "now at training epoch number 1500 hyp-params: lamda 0.1000 prior 0.0000\n",
      "rec time now 0 dataset now: Syn6\n"
     ]
    },
    {
     "name": "stderr",
     "output_type": "stream",
     "text": [
      "TPR mean: 93.1%  std: 12.1%\n",
      "FDR mean: 4.6%  std: 13.5%\n"
     ]
    },
    {
     "name": "stdout",
     "output_type": "stream",
     "text": [
      "[[0.84923829 0.88188054]\n",
      " [0.86136981 0.88931791]\n",
      " [0.7699     0.8054    ]]\n",
      "rec time now 1 dataset now: Syn6\n"
     ]
    },
    {
     "name": "stderr",
     "output_type": "stream",
     "text": [
      "TPR mean: 91.4%  std: 16.5%\n",
      "FDR mean: 4.2%  std: 13.3%\n"
     ]
    },
    {
     "name": "stdout",
     "output_type": "stream",
     "text": [
      "[[0.84923829 0.88011002]\n",
      " [0.86136981 0.88523466]\n",
      " [0.7699     0.8063    ]]\n",
      "rec time now 2 dataset now: Syn6\n"
     ]
    },
    {
     "name": "stderr",
     "output_type": "stream",
     "text": [
      "TPR mean: 91.1%  std: 17.5%\n",
      "FDR mean: 4.2%  std: 13.3%\n"
     ]
    },
    {
     "name": "stdout",
     "output_type": "stream",
     "text": [
      "[[0.84923829 0.87984601]\n",
      " [0.86136981 0.88415281]\n",
      " [0.7699     0.8057    ]]\n",
      "rec time now 3 dataset now: Syn6\n"
     ]
    },
    {
     "name": "stderr",
     "output_type": "stream",
     "text": [
      "TPR mean: 91.1%  std: 17.5%\n",
      "FDR mean: 4.2%  std: 13.3%\n",
      "Epoch:      0, d_loss (Acc)): 0.428, v_loss (Acc): 0.419, g_loss: -0.0152\n"
     ]
    },
    {
     "name": "stdout",
     "output_type": "stream",
     "text": [
      "[[0.84923829 0.87979806]\n",
      " [0.86136981 0.88397362]\n",
      " [0.7699     0.8057    ]]\n",
      "now at training epoch number 1600 hyp-params: lamda 0.1000 prior 0.0000\n",
      "rec time now 0 dataset now: Syn6\n"
     ]
    },
    {
     "name": "stderr",
     "output_type": "stream",
     "text": [
      "TPR mean: 93.8%  std: 11.5%\n",
      "FDR mean: 4.3%  std: 12.9%\n"
     ]
    },
    {
     "name": "stdout",
     "output_type": "stream",
     "text": [
      "[[0.84845737 0.87967656]\n",
      " [0.86043477 0.88688688]\n",
      " [0.7708     0.804     ]]\n",
      "rec time now 1 dataset now: Syn6\n"
     ]
    },
    {
     "name": "stderr",
     "output_type": "stream",
     "text": [
      "TPR mean: 92.2%  std: 15.5%\n",
      "FDR mean: 3.9%  std: 12.7%\n"
     ]
    },
    {
     "name": "stdout",
     "output_type": "stream",
     "text": [
      "[[0.84845737 0.87777272]\n",
      " [0.86043477 0.88335857]\n",
      " [0.7708     0.8033    ]]\n",
      "rec time now 2 dataset now: Syn6\n"
     ]
    },
    {
     "name": "stderr",
     "output_type": "stream",
     "text": [
      "TPR mean: 92.1%  std: 16.0%\n",
      "FDR mean: 3.9%  std: 12.7%\n"
     ]
    },
    {
     "name": "stdout",
     "output_type": "stream",
     "text": [
      "[[0.84845737 0.87741265]\n",
      " [0.86043477 0.8825973 ]\n",
      " [0.7708     0.8026    ]]\n",
      "rec time now 3 dataset now: Syn6\n"
     ]
    },
    {
     "name": "stderr",
     "output_type": "stream",
     "text": [
      "TPR mean: 92.1%  std: 16.1%\n",
      "FDR mean: 3.9%  std: 12.7%\n",
      "Epoch:      0, d_loss (Acc)): 0.424, v_loss (Acc): 0.409, g_loss: -0.0587\n"
     ]
    },
    {
     "name": "stdout",
     "output_type": "stream",
     "text": [
      "[[0.84845737 0.87731214]\n",
      " [0.86043477 0.88245956]\n",
      " [0.7708     0.8026    ]]\n",
      "now at training epoch number 1700 hyp-params: lamda 0.1000 prior 0.0000\n",
      "rec time now 0 dataset now: Syn6\n"
     ]
    },
    {
     "name": "stderr",
     "output_type": "stream",
     "text": [
      "TPR mean: 93.7%  std: 11.9%\n",
      "FDR mean: 4.2%  std: 13.2%\n"
     ]
    },
    {
     "name": "stdout",
     "output_type": "stream",
     "text": [
      "[[0.84968731 0.88144229]\n",
      " [0.86233798 0.88909077]\n",
      " [0.7713     0.8076    ]]\n",
      "rec time now 1 dataset now: Syn6\n"
     ]
    },
    {
     "name": "stderr",
     "output_type": "stream",
     "text": [
      "TPR mean: 92.1%  std: 15.2%\n",
      "FDR mean: 3.7%  std: 12.9%\n"
     ]
    },
    {
     "name": "stdout",
     "output_type": "stream",
     "text": [
      "[[0.84968731 0.87872105]\n",
      " [0.86233798 0.88458547]\n",
      " [0.7713     0.8074    ]]\n",
      "rec time now 2 dataset now: Syn6\n"
     ]
    },
    {
     "name": "stderr",
     "output_type": "stream",
     "text": [
      "TPR mean: 92.0%  std: 15.7%\n",
      "FDR mean: 3.7%  std: 12.9%\n"
     ]
    },
    {
     "name": "stdout",
     "output_type": "stream",
     "text": [
      "[[0.84968731 0.87854369]\n",
      " [0.86233798 0.88405054]\n",
      " [0.7713     0.8069    ]]\n",
      "rec time now 3 dataset now: Syn6\n"
     ]
    },
    {
     "name": "stderr",
     "output_type": "stream",
     "text": [
      "TPR mean: 92.0%  std: 15.8%\n",
      "FDR mean: 3.7%  std: 12.9%\n",
      "Epoch:      0, d_loss (Acc)): 0.425, v_loss (Acc): 0.425, g_loss: +0.0608\n"
     ]
    },
    {
     "name": "stdout",
     "output_type": "stream",
     "text": [
      "[[0.84968731 0.87857835]\n",
      " [0.86233798 0.88403944]\n",
      " [0.7713     0.807     ]]\n",
      "now at training epoch number 1800 hyp-params: lamda 0.1000 prior 0.0000\n",
      "rec time now 0 dataset now: Syn6\n"
     ]
    },
    {
     "name": "stderr",
     "output_type": "stream",
     "text": [
      "TPR mean: 93.9%  std: 11.7%\n",
      "FDR mean: 4.0%  std: 12.9%\n"
     ]
    },
    {
     "name": "stdout",
     "output_type": "stream",
     "text": [
      "[[0.85247811 0.88386545]\n",
      " [0.86500685 0.89192114]\n",
      " [0.7755     0.8093    ]]\n",
      "rec time now 1 dataset now: Syn6\n"
     ]
    },
    {
     "name": "stderr",
     "output_type": "stream",
     "text": [
      "TPR mean: 92.3%  std: 14.8%\n",
      "FDR mean: 3.6%  std: 12.7%\n"
     ]
    },
    {
     "name": "stdout",
     "output_type": "stream",
     "text": [
      "[[0.85247811 0.88141865]\n",
      " [0.86500685 0.88793343]\n",
      " [0.7755     0.8075    ]]\n",
      "rec time now 2 dataset now: Syn6\n"
     ]
    },
    {
     "name": "stderr",
     "output_type": "stream",
     "text": [
      "TPR mean: 92.2%  std: 15.3%\n",
      "FDR mean: 3.6%  std: 12.7%\n"
     ]
    },
    {
     "name": "stdout",
     "output_type": "stream",
     "text": [
      "[[0.85247811 0.88120571]\n",
      " [0.86500685 0.88745391]\n",
      " [0.7755     0.8077    ]]\n",
      "rec time now 3 dataset now: Syn6\n"
     ]
    },
    {
     "name": "stderr",
     "output_type": "stream",
     "text": [
      "TPR mean: 92.2%  std: 15.3%\n",
      "FDR mean: 3.6%  std: 12.7%\n",
      "Epoch:      0, d_loss (Acc)): 0.459, v_loss (Acc): 0.461, g_loss: +0.0384\n"
     ]
    },
    {
     "name": "stdout",
     "output_type": "stream",
     "text": [
      "[[0.85247811 0.88122189]\n",
      " [0.86500685 0.8874365 ]\n",
      " [0.7755     0.8077    ]]\n",
      "now at training epoch number 1900 hyp-params: lamda 0.1000 prior 0.0000\n",
      "rec time now 0 dataset now: Syn6\n"
     ]
    },
    {
     "name": "stderr",
     "output_type": "stream",
     "text": [
      "TPR mean: 94.4%  std: 11.4%\n",
      "FDR mean: 3.8%  std: 12.7%\n"
     ]
    },
    {
     "name": "stdout",
     "output_type": "stream",
     "text": [
      "[[0.84577333 0.8843768 ]\n",
      " [0.85939231 0.89122418]\n",
      " [0.7664     0.8078    ]]\n",
      "rec time now 1 dataset now: Syn6\n"
     ]
    },
    {
     "name": "stderr",
     "output_type": "stream",
     "text": [
      "TPR mean: 93.0%  std: 14.1%\n",
      "FDR mean: 3.5%  std: 12.6%\n"
     ]
    },
    {
     "name": "stdout",
     "output_type": "stream",
     "text": [
      "[[0.84577333 0.88251369]\n",
      " [0.85939231 0.88806671]\n",
      " [0.7664     0.8069    ]]\n",
      "rec time now 2 dataset now: Syn6\n"
     ]
    },
    {
     "name": "stderr",
     "output_type": "stream",
     "text": [
      "TPR mean: 92.8%  std: 14.7%\n",
      "FDR mean: 3.4%  std: 12.6%\n"
     ]
    },
    {
     "name": "stdout",
     "output_type": "stream",
     "text": [
      "[[0.84577333 0.88184854]\n",
      " [0.85939231 0.88680274]\n",
      " [0.7664     0.8069    ]]\n",
      "rec time now 3 dataset now: Syn6\n"
     ]
    },
    {
     "name": "stderr",
     "output_type": "stream",
     "text": [
      "TPR mean: 92.8%  std: 14.8%\n",
      "FDR mean: 3.4%  std: 12.6%\n",
      "Epoch:      0, d_loss (Acc)): 0.433, v_loss (Acc): 0.438, g_loss: +0.0137\n"
     ]
    },
    {
     "name": "stdout",
     "output_type": "stream",
     "text": [
      "[[0.84577333 0.88189104]\n",
      " [0.85939231 0.88681497]\n",
      " [0.7664     0.8073    ]]\n",
      "now at training epoch number 2000 hyp-params: lamda 0.1000 prior 0.0000\n",
      "rec time now 0 dataset now: Syn6\n"
     ]
    },
    {
     "name": "stderr",
     "output_type": "stream",
     "text": [
      "TPR mean: 94.3%  std: 11.3%\n",
      "FDR mean: 3.6%  std: 12.4%\n"
     ]
    },
    {
     "name": "stdout",
     "output_type": "stream",
     "text": [
      "[[0.84892308 0.88539121]\n",
      " [0.86080171 0.89336741]\n",
      " [0.7717     0.8105    ]]\n",
      "rec time now 1 dataset now: Syn6\n"
     ]
    },
    {
     "name": "stderr",
     "output_type": "stream",
     "text": [
      "TPR mean: 92.8%  std: 14.3%\n",
      "FDR mean: 3.2%  std: 12.2%\n"
     ]
    },
    {
     "name": "stdout",
     "output_type": "stream",
     "text": [
      "[[0.84892308 0.88407754]\n",
      " [0.86080171 0.89031538]\n",
      " [0.7717     0.8108    ]]\n",
      "rec time now 2 dataset now: Syn6\n"
     ]
    },
    {
     "name": "stderr",
     "output_type": "stream",
     "text": [
      "TPR mean: 92.6%  std: 15.1%\n",
      "FDR mean: 3.2%  std: 12.2%\n"
     ]
    },
    {
     "name": "stdout",
     "output_type": "stream",
     "text": [
      "[[0.84892308 0.88362972]\n",
      " [0.86080171 0.88897853]\n",
      " [0.7717     0.8109    ]]\n",
      "rec time now 3 dataset now: Syn6\n"
     ]
    },
    {
     "name": "stderr",
     "output_type": "stream",
     "text": [
      "TPR mean: 92.5%  std: 15.3%\n",
      "FDR mean: 3.2%  std: 12.3%\n",
      "Epoch:      0, d_loss (Acc)): 0.442, v_loss (Acc): 0.438, g_loss: -0.0076\n"
     ]
    },
    {
     "name": "stdout",
     "output_type": "stream",
     "text": [
      "[[0.84892308 0.88355616]\n",
      " [0.86080171 0.88867452]\n",
      " [0.7717     0.8109    ]]\n",
      "now at training epoch number 2100 hyp-params: lamda 0.1000 prior 0.0000\n",
      "rec time now 0 dataset now: Syn6\n"
     ]
    },
    {
     "name": "stderr",
     "output_type": "stream",
     "text": [
      "TPR mean: 94.6%  std: 10.9%\n",
      "FDR mean: 3.3%  std: 11.8%\n"
     ]
    },
    {
     "name": "stdout",
     "output_type": "stream",
     "text": [
      "[[0.85055202 0.88465441]\n",
      " [0.86274215 0.89291965]\n",
      " [0.7736     0.8114    ]]\n",
      "rec time now 1 dataset now: Syn6\n"
     ]
    },
    {
     "name": "stderr",
     "output_type": "stream",
     "text": [
      "TPR mean: 93.0%  std: 13.8%\n",
      "FDR mean: 3.0%  std: 11.6%\n"
     ]
    },
    {
     "name": "stdout",
     "output_type": "stream",
     "text": [
      "[[0.85055202 0.88273336]\n",
      " [0.86274215 0.88950629]\n",
      " [0.7736     0.8097    ]]\n",
      "rec time now 2 dataset now: Syn6\n"
     ]
    },
    {
     "name": "stderr",
     "output_type": "stream",
     "text": [
      "TPR mean: 92.9%  std: 14.4%\n",
      "FDR mean: 3.0%  std: 11.6%\n"
     ]
    },
    {
     "name": "stdout",
     "output_type": "stream",
     "text": [
      "[[0.85055202 0.88242691]\n",
      " [0.86274215 0.88869793]\n",
      " [0.7736     0.8094    ]]\n",
      "rec time now 3 dataset now: Syn6\n"
     ]
    },
    {
     "name": "stderr",
     "output_type": "stream",
     "text": [
      "TPR mean: 92.9%  std: 14.4%\n",
      "FDR mean: 3.0%  std: 11.6%\n",
      "Epoch:      0, d_loss (Acc)): 0.432, v_loss (Acc): 0.413, g_loss: -0.1415\n"
     ]
    },
    {
     "name": "stdout",
     "output_type": "stream",
     "text": [
      "[[0.85055202 0.88235678]\n",
      " [0.86274215 0.88859178]\n",
      " [0.7736     0.8093    ]]\n",
      "now at training epoch number 2200 hyp-params: lamda 0.1000 prior 0.0000\n",
      "rec time now 0 dataset now: Syn6\n"
     ]
    },
    {
     "name": "stderr",
     "output_type": "stream",
     "text": [
      "TPR mean: 94.6%  std: 11.0%\n",
      "FDR mean: 3.1%  std: 11.7%\n"
     ]
    },
    {
     "name": "stdout",
     "output_type": "stream",
     "text": [
      "[[0.85222881 0.8862074 ]\n",
      " [0.86394698 0.8938065 ]\n",
      " [0.7734     0.8116    ]]\n",
      "rec time now 1 dataset now: Syn6\n"
     ]
    },
    {
     "name": "stderr",
     "output_type": "stream",
     "text": [
      "TPR mean: 93.0%  std: 13.7%\n",
      "FDR mean: 2.9%  std: 11.6%\n"
     ]
    },
    {
     "name": "stdout",
     "output_type": "stream",
     "text": [
      "[[0.85222881 0.88441559]\n",
      " [0.86394698 0.89070297]\n",
      " [0.7734     0.8112    ]]\n",
      "rec time now 2 dataset now: Syn6\n"
     ]
    },
    {
     "name": "stderr",
     "output_type": "stream",
     "text": [
      "TPR mean: 92.9%  std: 14.4%\n",
      "FDR mean: 2.8%  std: 11.6%\n"
     ]
    },
    {
     "name": "stdout",
     "output_type": "stream",
     "text": [
      "[[0.85222881 0.88383955]\n",
      " [0.86394698 0.889369  ]\n",
      " [0.7734     0.8109    ]]\n",
      "rec time now 3 dataset now: Syn6\n"
     ]
    },
    {
     "name": "stderr",
     "output_type": "stream",
     "text": [
      "TPR mean: 92.9%  std: 14.5%\n",
      "FDR mean: 2.8%  std: 11.5%\n",
      "Epoch:      0, d_loss (Acc)): 0.433, v_loss (Acc): 0.421, g_loss: -0.0321\n"
     ]
    },
    {
     "name": "stdout",
     "output_type": "stream",
     "text": [
      "[[0.85222881 0.88378907]\n",
      " [0.86394698 0.88911602]\n",
      " [0.7734     0.8108    ]]\n",
      "now at training epoch number 2300 hyp-params: lamda 0.1000 prior 0.0000\n",
      "rec time now 0 dataset now: Syn6\n"
     ]
    },
    {
     "name": "stderr",
     "output_type": "stream",
     "text": [
      "TPR mean: 94.6%  std: 11.1%\n",
      "FDR mean: 3.1%  std: 11.7%\n"
     ]
    },
    {
     "name": "stdout",
     "output_type": "stream",
     "text": [
      "[[0.85239991 0.88706567]\n",
      " [0.86556964 0.89508608]\n",
      " [0.7737     0.8115    ]]\n",
      "rec time now 1 dataset now: Syn6\n"
     ]
    },
    {
     "name": "stderr",
     "output_type": "stream",
     "text": [
      "TPR mean: 93.1%  std: 13.6%\n",
      "FDR mean: 2.8%  std: 11.6%\n"
     ]
    },
    {
     "name": "stdout",
     "output_type": "stream",
     "text": [
      "[[0.85239991 0.88590879]\n",
      " [0.86556964 0.89264351]\n",
      " [0.7737     0.8116    ]]\n",
      "rec time now 2 dataset now: Syn6\n"
     ]
    },
    {
     "name": "stderr",
     "output_type": "stream",
     "text": [
      "TPR mean: 93.0%  std: 14.1%\n",
      "FDR mean: 2.7%  std: 11.5%\n"
     ]
    },
    {
     "name": "stdout",
     "output_type": "stream",
     "text": [
      "[[0.85239991 0.88551548]\n",
      " [0.86556964 0.89200083]\n",
      " [0.7737     0.8119    ]]\n",
      "rec time now 3 dataset now: Syn6\n"
     ]
    },
    {
     "name": "stderr",
     "output_type": "stream",
     "text": [
      "TPR mean: 93.0%  std: 14.1%\n",
      "FDR mean: 2.7%  std: 11.5%\n",
      "Epoch:      0, d_loss (Acc)): 0.444, v_loss (Acc): 0.426, g_loss: -0.0209\n"
     ]
    },
    {
     "name": "stdout",
     "output_type": "stream",
     "text": [
      "[[0.85239991 0.88548057]\n",
      " [0.86556964 0.89197165]\n",
      " [0.7737     0.8121    ]]\n",
      "now at training epoch number 2400 hyp-params: lamda 0.1000 prior 0.0000\n",
      "rec time now 0 dataset now: Syn6\n"
     ]
    },
    {
     "name": "stderr",
     "output_type": "stream",
     "text": [
      "TPR mean: 94.6%  std: 10.8%\n",
      "FDR mean: 3.0%  std: 11.4%\n"
     ]
    },
    {
     "name": "stdout",
     "output_type": "stream",
     "text": [
      "[[0.85132667 0.88476775]\n",
      " [0.86361931 0.89413426]\n",
      " [0.7712     0.8054    ]]\n",
      "rec time now 1 dataset now: Syn6\n"
     ]
    },
    {
     "name": "stderr",
     "output_type": "stream",
     "text": [
      "TPR mean: 93.1%  std: 13.1%\n",
      "FDR mean: 2.7%  std: 11.3%\n"
     ]
    },
    {
     "name": "stdout",
     "output_type": "stream",
     "text": [
      "[[0.85132667 0.88330334]\n",
      " [0.86361931 0.89163386]\n",
      " [0.7712     0.8042    ]]\n",
      "rec time now 2 dataset now: Syn6\n"
     ]
    },
    {
     "name": "stderr",
     "output_type": "stream",
     "text": [
      "TPR mean: 93.0%  std: 13.4%\n",
      "FDR mean: 2.7%  std: 11.2%\n"
     ]
    },
    {
     "name": "stdout",
     "output_type": "stream",
     "text": [
      "[[0.85132667 0.88326726]\n",
      " [0.86361931 0.89153217]\n",
      " [0.7712     0.8043    ]]\n",
      "rec time now 3 dataset now: Syn6\n"
     ]
    },
    {
     "name": "stderr",
     "output_type": "stream",
     "text": [
      "TPR mean: 93.0%  std: 13.4%\n",
      "FDR mean: 2.7%  std: 11.3%\n",
      "Epoch:      0, d_loss (Acc)): 0.404, v_loss (Acc): 0.408, g_loss: +0.0432\n"
     ]
    },
    {
     "name": "stdout",
     "output_type": "stream",
     "text": [
      "[[0.85132667 0.88327706]\n",
      " [0.86361931 0.89154357]\n",
      " [0.7712     0.8044    ]]\n",
      "now at training epoch number 2500 hyp-params: lamda 0.1000 prior 0.0000\n",
      "rec time now 0 dataset now: Syn6\n"
     ]
    },
    {
     "name": "stderr",
     "output_type": "stream",
     "text": [
      "TPR mean: 94.4%  std: 11.1%\n",
      "FDR mean: 2.9%  std: 11.4%\n"
     ]
    },
    {
     "name": "stdout",
     "output_type": "stream",
     "text": [
      "[[0.85254681 0.88677776]\n",
      " [0.86375475 0.89336458]\n",
      " [0.7755     0.8114    ]]\n",
      "rec time now 1 dataset now: Syn6\n"
     ]
    },
    {
     "name": "stderr",
     "output_type": "stream",
     "text": [
      "TPR mean: 92.8%  std: 13.7%\n",
      "FDR mean: 2.6%  std: 11.4%\n"
     ]
    },
    {
     "name": "stdout",
     "output_type": "stream",
     "text": [
      "[[0.85254681 0.88464907]\n",
      " [0.86375475 0.88997395]\n",
      " [0.7755     0.8101    ]]\n",
      "rec time now 2 dataset now: Syn6\n"
     ]
    },
    {
     "name": "stderr",
     "output_type": "stream",
     "text": [
      "TPR mean: 92.6%  std: 14.4%\n",
      "FDR mean: 2.6%  std: 11.4%\n"
     ]
    },
    {
     "name": "stdout",
     "output_type": "stream",
     "text": [
      "[[0.85254681 0.88415128]\n",
      " [0.86375475 0.88904128]\n",
      " [0.7755     0.81      ]]\n",
      "rec time now 3 dataset now: Syn6\n"
     ]
    },
    {
     "name": "stderr",
     "output_type": "stream",
     "text": [
      "TPR mean: 92.6%  std: 14.6%\n",
      "FDR mean: 2.6%  std: 11.4%\n",
      "Epoch:      0, d_loss (Acc)): 0.396, v_loss (Acc): 0.396, g_loss: +0.0359\n"
     ]
    },
    {
     "name": "stdout",
     "output_type": "stream",
     "text": [
      "[[0.85254681 0.88393008]\n",
      " [0.86375475 0.88854619]\n",
      " [0.7755     0.8099    ]]\n",
      "now at training epoch number 2600 hyp-params: lamda 0.1000 prior 0.0000\n",
      "rec time now 0 dataset now: Syn6\n"
     ]
    },
    {
     "name": "stderr",
     "output_type": "stream",
     "text": [
      "TPR mean: 94.5%  std: 11.1%\n",
      "FDR mean: 2.9%  std: 11.5%\n"
     ]
    },
    {
     "name": "stdout",
     "output_type": "stream",
     "text": [
      "[[0.85286535 0.88828127]\n",
      " [0.86588328 0.89601979]\n",
      " [0.776      0.8129    ]]\n",
      "rec time now 1 dataset now: Syn6\n"
     ]
    },
    {
     "name": "stderr",
     "output_type": "stream",
     "text": [
      "TPR mean: 92.8%  std: 13.6%\n",
      "FDR mean: 2.6%  std: 11.4%\n"
     ]
    },
    {
     "name": "stdout",
     "output_type": "stream",
     "text": [
      "[[0.85286535 0.8869095 ]\n",
      " [0.86588328 0.89336178]\n",
      " [0.776      0.812     ]]\n",
      "rec time now 2 dataset now: Syn6\n"
     ]
    },
    {
     "name": "stderr",
     "output_type": "stream",
     "text": [
      "TPR mean: 92.6%  std: 14.4%\n",
      "FDR mean: 2.6%  std: 11.4%\n"
     ]
    },
    {
     "name": "stdout",
     "output_type": "stream",
     "text": [
      "[[0.85286535 0.88671177]\n",
      " [0.86588328 0.89247027]\n",
      " [0.776      0.8126    ]]\n",
      "rec time now 3 dataset now: Syn6\n"
     ]
    },
    {
     "name": "stderr",
     "output_type": "stream",
     "text": [
      "TPR mean: 92.6%  std: 14.6%\n",
      "FDR mean: 2.6%  std: 11.5%\n",
      "Epoch:      0, d_loss (Acc)): 0.398, v_loss (Acc): 0.380, g_loss: -0.0458\n"
     ]
    },
    {
     "name": "stdout",
     "output_type": "stream",
     "text": [
      "[[0.85286535 0.88666212]\n",
      " [0.86588328 0.89236244]\n",
      " [0.776      0.8128    ]]\n",
      "now at training epoch number 2700 hyp-params: lamda 0.1000 prior 0.0000\n",
      "rec time now 0 dataset now: Syn6\n"
     ]
    },
    {
     "name": "stderr",
     "output_type": "stream",
     "text": [
      "TPR mean: 94.3%  std: 10.8%\n",
      "FDR mean: 2.7%  std: 11.0%\n"
     ]
    },
    {
     "name": "stdout",
     "output_type": "stream",
     "text": [
      "[[0.85378918 0.88770712]\n",
      " [0.86597915 0.89609418]\n",
      " [0.7756     0.8124    ]]\n",
      "rec time now 1 dataset now: Syn6\n"
     ]
    },
    {
     "name": "stderr",
     "output_type": "stream",
     "text": [
      "TPR mean: 92.5%  std: 13.5%\n",
      "FDR mean: 2.4%  std: 10.9%\n"
     ]
    },
    {
     "name": "stdout",
     "output_type": "stream",
     "text": [
      "[[0.85378918 0.88598622]\n",
      " [0.86597915 0.89334869]\n",
      " [0.7756     0.8113    ]]\n",
      "rec time now 2 dataset now: Syn6\n"
     ]
    },
    {
     "name": "stderr",
     "output_type": "stream",
     "text": [
      "TPR mean: 92.3%  std: 14.4%\n",
      "FDR mean: 2.4%  std: 10.9%\n"
     ]
    },
    {
     "name": "stdout",
     "output_type": "stream",
     "text": [
      "[[0.85378918 0.88562785]\n",
      " [0.86597915 0.89222671]\n",
      " [0.7756     0.8115    ]]\n",
      "rec time now 3 dataset now: Syn6\n"
     ]
    },
    {
     "name": "stderr",
     "output_type": "stream",
     "text": [
      "TPR mean: 92.3%  std: 14.6%\n",
      "FDR mean: 2.4%  std: 11.0%\n",
      "Epoch:      0, d_loss (Acc)): 0.423, v_loss (Acc): 0.415, g_loss: -0.0281\n"
     ]
    },
    {
     "name": "stdout",
     "output_type": "stream",
     "text": [
      "[[0.85378918 0.88548251]\n",
      " [0.86597915 0.89195541]\n",
      " [0.7756     0.8117    ]]\n",
      "now at training epoch number 2800 hyp-params: lamda 0.1000 prior 0.0000\n",
      "rec time now 0 dataset now: Syn6\n"
     ]
    },
    {
     "name": "stderr",
     "output_type": "stream",
     "text": [
      "TPR mean: 94.7%  std: 10.7%\n",
      "FDR mean: 2.6%  std: 10.8%\n"
     ]
    },
    {
     "name": "stdout",
     "output_type": "stream",
     "text": [
      "[[0.85300594 0.88771823]\n",
      " [0.86389856 0.89552778]\n",
      " [0.7758     0.8122    ]]\n",
      "rec time now 1 dataset now: Syn6\n"
     ]
    },
    {
     "name": "stderr",
     "output_type": "stream",
     "text": [
      "TPR mean: 93.1%  std: 13.6%\n",
      "FDR mean: 2.3%  std: 10.7%\n"
     ]
    },
    {
     "name": "stdout",
     "output_type": "stream",
     "text": [
      "[[0.85300594 0.88555048]\n",
      " [0.86389856 0.89220965]\n",
      " [0.7758     0.8096    ]]\n",
      "rec time now 2 dataset now: Syn6\n"
     ]
    },
    {
     "name": "stderr",
     "output_type": "stream",
     "text": [
      "TPR mean: 92.9%  std: 14.6%\n",
      "FDR mean: 2.2%  std: 10.7%\n"
     ]
    },
    {
     "name": "stdout",
     "output_type": "stream",
     "text": [
      "[[0.85300594 0.88467243]\n",
      " [0.86389856 0.89041995]\n",
      " [0.7758     0.8087    ]]\n",
      "rec time now 3 dataset now: Syn6\n"
     ]
    },
    {
     "name": "stderr",
     "output_type": "stream",
     "text": [
      "TPR mean: 92.8%  std: 14.7%\n",
      "FDR mean: 2.2%  std: 10.7%\n",
      "Epoch:      0, d_loss (Acc)): 0.420, v_loss (Acc): 0.410, g_loss: +0.0513\n"
     ]
    },
    {
     "name": "stdout",
     "output_type": "stream",
     "text": [
      "[[0.85300594 0.88467039]\n",
      " [0.86389856 0.8904444 ]\n",
      " [0.7758     0.8084    ]]\n",
      "now at training epoch number 2900 hyp-params: lamda 0.1000 prior 0.0000\n",
      "rec time now 0 dataset now: Syn6\n"
     ]
    },
    {
     "name": "stderr",
     "output_type": "stream",
     "text": [
      "TPR mean: 94.6%  std: 10.6%\n",
      "FDR mean: 2.4%  std: 10.3%\n"
     ]
    },
    {
     "name": "stdout",
     "output_type": "stream",
     "text": [
      "[[0.85140704 0.88787881]\n",
      " [0.86373415 0.89708547]\n",
      " [0.7722     0.8091    ]]\n",
      "rec time now 1 dataset now: Syn6\n"
     ]
    },
    {
     "name": "stderr",
     "output_type": "stream",
     "text": [
      "TPR mean: 92.9%  std: 13.2%\n",
      "FDR mean: 2.1%  std: 10.2%\n"
     ]
    },
    {
     "name": "stdout",
     "output_type": "stream",
     "text": [
      "[[0.85140704 0.88747171]\n",
      " [0.86373415 0.89518695]\n",
      " [0.7722     0.8113    ]]\n",
      "rec time now 2 dataset now: Syn6\n"
     ]
    },
    {
     "name": "stderr",
     "output_type": "stream",
     "text": [
      "TPR mean: 92.7%  std: 13.8%\n",
      "FDR mean: 2.1%  std: 10.2%\n"
     ]
    },
    {
     "name": "stdout",
     "output_type": "stream",
     "text": [
      "[[0.85140704 0.88709519]\n",
      " [0.86373415 0.8945179 ]\n",
      " [0.7722     0.8113    ]]\n",
      "rec time now 3 dataset now: Syn6\n"
     ]
    },
    {
     "name": "stderr",
     "output_type": "stream",
     "text": [
      "TPR mean: 92.7%  std: 13.8%\n",
      "FDR mean: 2.1%  std: 10.2%\n",
      "Epoch:      0, d_loss (Acc)): 0.409, v_loss (Acc): 0.401, g_loss: -0.0458\n"
     ]
    },
    {
     "name": "stdout",
     "output_type": "stream",
     "text": [
      "[[0.85140704 0.88711278]\n",
      " [0.86373415 0.89454539]\n",
      " [0.7722     0.8113    ]]\n",
      "now at training epoch number 3000 hyp-params: lamda 0.1000 prior 0.0000\n",
      "rec time now 0 dataset now: Syn6\n"
     ]
    },
    {
     "name": "stderr",
     "output_type": "stream",
     "text": [
      "TPR mean: 94.6%  std: 10.5%\n",
      "FDR mean: 2.3%  std: 10.1%\n"
     ]
    },
    {
     "name": "stdout",
     "output_type": "stream",
     "text": [
      "[[0.853093   0.88946239]\n",
      " [0.86447805 0.89655216]\n",
      " [0.7742     0.8118    ]]\n",
      "rec time now 1 dataset now: Syn6\n"
     ]
    },
    {
     "name": "stderr",
     "output_type": "stream",
     "text": [
      "TPR mean: 92.9%  std: 13.5%\n",
      "FDR mean: 2.1%  std: 10.1%\n"
     ]
    },
    {
     "name": "stdout",
     "output_type": "stream",
     "text": [
      "[[0.853093   0.8873592 ]\n",
      " [0.86447805 0.89313225]\n",
      " [0.7742     0.8097    ]]\n",
      "rec time now 2 dataset now: Syn6\n"
     ]
    },
    {
     "name": "stderr",
     "output_type": "stream",
     "text": [
      "TPR mean: 92.6%  std: 14.5%\n",
      "FDR mean: 2.0%  std: 10.2%\n"
     ]
    },
    {
     "name": "stdout",
     "output_type": "stream",
     "text": [
      "[[0.853093   0.8868355 ]\n",
      " [0.86447805 0.89173448]\n",
      " [0.7742     0.8095    ]]\n",
      "rec time now 3 dataset now: Syn6\n"
     ]
    },
    {
     "name": "stderr",
     "output_type": "stream",
     "text": [
      "TPR mean: 92.6%  std: 14.7%\n",
      "FDR mean: 2.1%  std: 10.2%\n",
      "Epoch:      0, d_loss (Acc)): 0.403, v_loss (Acc): 0.404, g_loss: +0.0509\n"
     ]
    },
    {
     "name": "stdout",
     "output_type": "stream",
     "text": [
      "[[0.853093   0.8867363 ]\n",
      " [0.86447805 0.89152377]\n",
      " [0.7742     0.8094    ]]\n",
      "now at training epoch number 3100 hyp-params: lamda 0.1000 prior 0.0000\n",
      "rec time now 0 dataset now: Syn6\n"
     ]
    },
    {
     "name": "stderr",
     "output_type": "stream",
     "text": [
      "TPR mean: 94.7%  std: 10.3%\n",
      "FDR mean: 2.1%  std: 9.8%\n"
     ]
    },
    {
     "name": "stdout",
     "output_type": "stream",
     "text": [
      "[[0.85421697 0.88727195]\n",
      " [0.86489827 0.89557444]\n",
      " [0.7755     0.8106    ]]\n",
      "rec time now 1 dataset now: Syn6\n"
     ]
    },
    {
     "name": "stderr",
     "output_type": "stream",
     "text": [
      "TPR mean: 92.9%  std: 13.3%\n",
      "FDR mean: 1.9%  std: 9.7%\n"
     ]
    },
    {
     "name": "stdout",
     "output_type": "stream",
     "text": [
      "[[0.85421697 0.88407271]\n",
      " [0.86489827 0.89154108]\n",
      " [0.7755     0.8065    ]]\n",
      "rec time now 2 dataset now: Syn6\n"
     ]
    },
    {
     "name": "stderr",
     "output_type": "stream",
     "text": [
      "TPR mean: 92.7%  std: 14.0%\n",
      "FDR mean: 1.9%  std: 9.7%\n"
     ]
    },
    {
     "name": "stdout",
     "output_type": "stream",
     "text": [
      "[[0.85421697 0.88340179]\n",
      " [0.86489827 0.89080795]\n",
      " [0.7755     0.8051    ]]\n",
      "rec time now 3 dataset now: Syn6\n"
     ]
    },
    {
     "name": "stderr",
     "output_type": "stream",
     "text": [
      "TPR mean: 92.7%  std: 14.1%\n",
      "FDR mean: 1.9%  std: 9.7%\n",
      "Epoch:      0, d_loss (Acc)): 0.408, v_loss (Acc): 0.413, g_loss: +0.0860\n"
     ]
    },
    {
     "name": "stdout",
     "output_type": "stream",
     "text": [
      "[[0.85421697 0.88343472]\n",
      " [0.86489827 0.89104717]\n",
      " [0.7755     0.8048    ]]\n",
      "now at training epoch number 3200 hyp-params: lamda 0.1000 prior 0.0000\n",
      "rec time now 0 dataset now: Syn6\n"
     ]
    },
    {
     "name": "stderr",
     "output_type": "stream",
     "text": [
      "TPR mean: 94.9%  std: 10.3%\n",
      "FDR mean: 2.1%  std: 9.9%\n"
     ]
    },
    {
     "name": "stdout",
     "output_type": "stream",
     "text": [
      "[[0.85479883 0.88551443]\n",
      " [0.86620873 0.89311755]\n",
      " [0.7745     0.8075    ]]\n",
      "rec time now 1 dataset now: Syn6\n"
     ]
    },
    {
     "name": "stderr",
     "output_type": "stream",
     "text": [
      "TPR mean: 93.2%  std: 13.6%\n",
      "FDR mean: 1.9%  std: 9.9%\n"
     ]
    },
    {
     "name": "stdout",
     "output_type": "stream",
     "text": [
      "[[0.85479883 0.88153229]\n",
      " [0.86620873 0.88840527]\n",
      " [0.7745     0.8037    ]]\n",
      "rec time now 2 dataset now: Syn6\n"
     ]
    },
    {
     "name": "stderr",
     "output_type": "stream",
     "text": [
      "TPR mean: 93.0%  std: 14.5%\n",
      "FDR mean: 1.9%  std: 9.9%\n"
     ]
    },
    {
     "name": "stdout",
     "output_type": "stream",
     "text": [
      "[[0.85479883 0.88052729]\n",
      " [0.86620873 0.88691368]\n",
      " [0.7745     0.802     ]]\n",
      "rec time now 3 dataset now: Syn6\n"
     ]
    },
    {
     "name": "stderr",
     "output_type": "stream",
     "text": [
      "TPR mean: 92.9%  std: 14.7%\n",
      "FDR mean: 1.9%  std: 9.9%\n",
      "Epoch:      0, d_loss (Acc)): 0.424, v_loss (Acc): 0.390, g_loss: -0.1167\n"
     ]
    },
    {
     "name": "stdout",
     "output_type": "stream",
     "text": [
      "[[0.85479883 0.88036324]\n",
      " [0.86620873 0.88658588]\n",
      " [0.7745     0.8023    ]]\n",
      "now at training epoch number 3300 hyp-params: lamda 0.1000 prior 0.0000\n",
      "rec time now 0 dataset now: Syn6\n"
     ]
    },
    {
     "name": "stderr",
     "output_type": "stream",
     "text": [
      "TPR mean: 94.3%  std: 10.7%\n",
      "FDR mean: 2.0%  std: 9.7%\n"
     ]
    },
    {
     "name": "stdout",
     "output_type": "stream",
     "text": [
      "[[0.85424917 0.89072265]\n",
      " [0.86699064 0.89878231]\n",
      " [0.7744     0.8132    ]]\n",
      "rec time now 1 dataset now: Syn6\n"
     ]
    },
    {
     "name": "stderr",
     "output_type": "stream",
     "text": [
      "TPR mean: 92.3%  std: 14.1%\n",
      "FDR mean: 1.9%  std: 9.9%\n"
     ]
    },
    {
     "name": "stdout",
     "output_type": "stream",
     "text": [
      "[[0.85424917 0.88867907]\n",
      " [0.86699064 0.89534081]\n",
      " [0.7744     0.8118    ]]\n",
      "rec time now 2 dataset now: Syn6\n"
     ]
    },
    {
     "name": "stderr",
     "output_type": "stream",
     "text": [
      "TPR mean: 92.2%  std: 14.6%\n",
      "FDR mean: 1.8%  std: 9.9%\n"
     ]
    },
    {
     "name": "stdout",
     "output_type": "stream",
     "text": [
      "[[0.85424917 0.88837776]\n",
      " [0.86699064 0.89447086]\n",
      " [0.7744     0.8116    ]]\n",
      "rec time now 3 dataset now: Syn6\n"
     ]
    },
    {
     "name": "stderr",
     "output_type": "stream",
     "text": [
      "TPR mean: 92.2%  std: 14.7%\n",
      "FDR mean: 1.8%  std: 9.9%\n",
      "Epoch:      0, d_loss (Acc)): 0.411, v_loss (Acc): 0.389, g_loss: -0.0375\n"
     ]
    },
    {
     "name": "stdout",
     "output_type": "stream",
     "text": [
      "[[0.85424917 0.88837984]\n",
      " [0.86699064 0.89455069]\n",
      " [0.7744     0.8116    ]]\n",
      "now at training epoch number 3400 hyp-params: lamda 0.1000 prior 0.0000\n",
      "rec time now 0 dataset now: Syn6\n"
     ]
    },
    {
     "name": "stderr",
     "output_type": "stream",
     "text": [
      "TPR mean: 94.2%  std: 10.7%\n",
      "FDR mean: 1.9%  std: 9.4%\n"
     ]
    },
    {
     "name": "stdout",
     "output_type": "stream",
     "text": [
      "[[0.85375582 0.88945991]\n",
      " [0.86625073 0.89765433]\n",
      " [0.7743     0.8135    ]]\n",
      "rec time now 1 dataset now: Syn6\n"
     ]
    },
    {
     "name": "stderr",
     "output_type": "stream",
     "text": [
      "TPR mean: 92.0%  std: 14.4%\n",
      "FDR mean: 1.8%  std: 9.5%\n"
     ]
    },
    {
     "name": "stdout",
     "output_type": "stream",
     "text": [
      "[[0.85375582 0.88586427]\n",
      " [0.86625073 0.89300953]\n",
      " [0.7743     0.8112    ]]\n",
      "rec time now 2 dataset now: Syn6\n"
     ]
    },
    {
     "name": "stderr",
     "output_type": "stream",
     "text": [
      "TPR mean: 91.8%  std: 15.2%\n",
      "FDR mean: 1.7%  std: 9.6%\n"
     ]
    },
    {
     "name": "stdout",
     "output_type": "stream",
     "text": [
      "[[0.85375582 0.88511505]\n",
      " [0.86625073 0.89154661]\n",
      " [0.7743     0.811     ]]\n",
      "rec time now 3 dataset now: Syn6\n"
     ]
    },
    {
     "name": "stderr",
     "output_type": "stream",
     "text": [
      "TPR mean: 91.8%  std: 15.3%\n",
      "FDR mean: 1.7%  std: 9.6%\n",
      "Epoch:      0, d_loss (Acc)): 0.398, v_loss (Acc): 0.384, g_loss: +0.0100\n"
     ]
    },
    {
     "name": "stdout",
     "output_type": "stream",
     "text": [
      "[[0.85375582 0.88515423]\n",
      " [0.86625073 0.8916972 ]\n",
      " [0.7743     0.8111    ]]\n",
      "now at training epoch number 3500 hyp-params: lamda 0.1000 prior 0.0000\n",
      "rec time now 0 dataset now: Syn6\n"
     ]
    },
    {
     "name": "stderr",
     "output_type": "stream",
     "text": [
      "TPR mean: 94.1%  std: 10.8%\n",
      "FDR mean: 1.9%  std: 9.6%\n"
     ]
    },
    {
     "name": "stdout",
     "output_type": "stream",
     "text": [
      "[[0.85434119 0.89034395]\n",
      " [0.86546409 0.89797033]\n",
      " [0.7763     0.8115    ]]\n",
      "rec time now 1 dataset now: Syn6\n"
     ]
    },
    {
     "name": "stderr",
     "output_type": "stream",
     "text": [
      "TPR mean: 91.9%  std: 14.4%\n",
      "FDR mean: 1.8%  std: 9.7%\n"
     ]
    },
    {
     "name": "stdout",
     "output_type": "stream",
     "text": [
      "[[0.85434119 0.88753487]\n",
      " [0.86546409 0.89419322]\n",
      " [0.7763     0.8121    ]]\n",
      "rec time now 2 dataset now: Syn6\n"
     ]
    },
    {
     "name": "stderr",
     "output_type": "stream",
     "text": [
      "TPR mean: 91.7%  std: 15.2%\n",
      "FDR mean: 1.8%  std: 9.7%\n"
     ]
    },
    {
     "name": "stdout",
     "output_type": "stream",
     "text": [
      "[[0.85434119 0.88696583]\n",
      " [0.86546409 0.8928579 ]\n",
      " [0.7763     0.8118    ]]\n",
      "rec time now 3 dataset now: Syn6\n"
     ]
    },
    {
     "name": "stderr",
     "output_type": "stream",
     "text": [
      "TPR mean: 91.7%  std: 15.2%\n",
      "FDR mean: 1.8%  std: 9.7%\n",
      "Epoch:      0, d_loss (Acc)): 0.404, v_loss (Acc): 0.395, g_loss: +0.0410\n"
     ]
    },
    {
     "name": "stdout",
     "output_type": "stream",
     "text": [
      "[[0.85434119 0.88700468]\n",
      " [0.86546409 0.89299799]\n",
      " [0.7763     0.8118    ]]\n",
      "now at training epoch number 3600 hyp-params: lamda 0.1000 prior 0.0000\n",
      "rec time now 0 dataset now: Syn6\n"
     ]
    },
    {
     "name": "stderr",
     "output_type": "stream",
     "text": [
      "TPR mean: 94.5%  std: 10.8%\n",
      "FDR mean: 1.9%  std: 9.6%\n"
     ]
    },
    {
     "name": "stdout",
     "output_type": "stream",
     "text": [
      "[[0.85513628 0.88935622]\n",
      " [0.8665302  0.89688227]\n",
      " [0.7776     0.8117    ]]\n",
      "rec time now 1 dataset now: Syn6\n"
     ]
    },
    {
     "name": "stderr",
     "output_type": "stream",
     "text": [
      "TPR mean: 92.4%  std: 14.2%\n",
      "FDR mean: 1.8%  std: 9.6%\n"
     ]
    },
    {
     "name": "stdout",
     "output_type": "stream",
     "text": [
      "[[0.85513628 0.88544724]\n",
      " [0.8665302  0.89226086]\n",
      " [0.7776     0.808     ]]\n",
      "rec time now 2 dataset now: Syn6\n"
     ]
    },
    {
     "name": "stderr",
     "output_type": "stream",
     "text": [
      "TPR mean: 92.1%  std: 15.5%\n",
      "FDR mean: 1.7%  std: 9.7%\n"
     ]
    },
    {
     "name": "stdout",
     "output_type": "stream",
     "text": [
      "[[0.85513628 0.88413109]\n",
      " [0.8665302  0.89039423]\n",
      " [0.7776     0.8065    ]]\n",
      "rec time now 3 dataset now: Syn6\n"
     ]
    },
    {
     "name": "stderr",
     "output_type": "stream",
     "text": [
      "TPR mean: 92.0%  std: 15.7%\n",
      "FDR mean: 1.7%  std: 9.6%\n",
      "Epoch:      0, d_loss (Acc)): 0.423, v_loss (Acc): 0.396, g_loss: -0.0859\n"
     ]
    },
    {
     "name": "stdout",
     "output_type": "stream",
     "text": [
      "[[0.85513628 0.8839713 ]\n",
      " [0.8665302  0.89008968]\n",
      " [0.7776     0.8069    ]]\n",
      "now at training epoch number 3700 hyp-params: lamda 0.1000 prior 0.0000\n",
      "rec time now 0 dataset now: Syn6\n"
     ]
    },
    {
     "name": "stderr",
     "output_type": "stream",
     "text": [
      "TPR mean: 93.9%  std: 11.0%\n",
      "FDR mean: 2.0%  std: 9.7%\n"
     ]
    },
    {
     "name": "stdout",
     "output_type": "stream",
     "text": [
      "[[0.85384901 0.88964663]\n",
      " [0.86463604 0.89638549]\n",
      " [0.7751     0.812     ]]\n",
      "rec time now 1 dataset now: Syn6\n"
     ]
    },
    {
     "name": "stderr",
     "output_type": "stream",
     "text": [
      "TPR mean: 91.6%  std: 14.4%\n",
      "FDR mean: 1.8%  std: 9.8%\n"
     ]
    },
    {
     "name": "stdout",
     "output_type": "stream",
     "text": [
      "[[0.85384901 0.885168  ]\n",
      " [0.86463604 0.89123884]\n",
      " [0.7751     0.8051    ]]\n",
      "rec time now 2 dataset now: Syn6\n"
     ]
    },
    {
     "name": "stderr",
     "output_type": "stream",
     "text": [
      "TPR mean: 91.2%  std: 15.6%\n",
      "FDR mean: 1.8%  std: 9.8%\n"
     ]
    },
    {
     "name": "stdout",
     "output_type": "stream",
     "text": [
      "[[0.85384901 0.88374026]\n",
      " [0.86463604 0.88942077]\n",
      " [0.7751     0.804     ]]\n",
      "rec time now 3 dataset now: Syn6\n"
     ]
    },
    {
     "name": "stderr",
     "output_type": "stream",
     "text": [
      "TPR mean: 91.2%  std: 15.9%\n",
      "FDR mean: 1.8%  std: 9.8%\n",
      "Epoch:      0, d_loss (Acc)): 0.385, v_loss (Acc): 0.380, g_loss: -0.0439\n"
     ]
    },
    {
     "name": "stdout",
     "output_type": "stream",
     "text": [
      "[[0.85384901 0.88332325]\n",
      " [0.86463604 0.88886332]\n",
      " [0.7751     0.804     ]]\n",
      "now at training epoch number 3800 hyp-params: lamda 0.1000 prior 0.0000\n",
      "rec time now 0 dataset now: Syn6\n"
     ]
    },
    {
     "name": "stderr",
     "output_type": "stream",
     "text": [
      "TPR mean: 93.5%  std: 10.9%\n",
      "FDR mean: 1.8%  std: 9.2%\n"
     ]
    },
    {
     "name": "stdout",
     "output_type": "stream",
     "text": [
      "[[0.85457949 0.89130377]\n",
      " [0.86541275 0.89855593]\n",
      " [0.7751     0.8123    ]]\n",
      "rec time now 1 dataset now: Syn6\n"
     ]
    },
    {
     "name": "stderr",
     "output_type": "stream",
     "text": [
      "TPR mean: 91.1%  std: 14.2%\n",
      "FDR mean: 1.6%  std: 9.3%\n"
     ]
    },
    {
     "name": "stdout",
     "output_type": "stream",
     "text": [
      "[[0.85457949 0.88629388]\n",
      " [0.86541275 0.8926466 ]\n",
      " [0.7751     0.8095    ]]\n",
      "rec time now 2 dataset now: Syn6\n"
     ]
    },
    {
     "name": "stderr",
     "output_type": "stream",
     "text": [
      "TPR mean: 90.8%  std: 15.2%\n",
      "FDR mean: 1.6%  std: 9.2%\n"
     ]
    },
    {
     "name": "stdout",
     "output_type": "stream",
     "text": [
      "[[0.85457949 0.88564861]\n",
      " [0.86541275 0.89148878]\n",
      " [0.7751     0.809     ]]\n",
      "rec time now 3 dataset now: Syn6\n"
     ]
    },
    {
     "name": "stderr",
     "output_type": "stream",
     "text": [
      "TPR mean: 90.8%  std: 15.5%\n",
      "FDR mean: 1.6%  std: 9.3%\n",
      "Epoch:      0, d_loss (Acc)): 0.415, v_loss (Acc): 0.400, g_loss: -0.0454\n"
     ]
    },
    {
     "name": "stdout",
     "output_type": "stream",
     "text": [
      "[[0.85457949 0.8855574 ]\n",
      " [0.86541275 0.89125479]\n",
      " [0.7751     0.8084    ]]\n",
      "now at training epoch number 3900 hyp-params: lamda 0.1000 prior 0.0000\n",
      "rec time now 0 dataset now: Syn6\n"
     ]
    },
    {
     "name": "stderr",
     "output_type": "stream",
     "text": [
      "TPR mean: 93.4%  std: 10.9%\n",
      "FDR mean: 1.8%  std: 9.1%\n"
     ]
    },
    {
     "name": "stdout",
     "output_type": "stream",
     "text": [
      "[[0.85417952 0.89020796]\n",
      " [0.86552314 0.89731333]\n",
      " [0.7758     0.8087    ]]\n",
      "rec time now 1 dataset now: Syn6\n"
     ]
    },
    {
     "name": "stderr",
     "output_type": "stream",
     "text": [
      "TPR mean: 91.2%  std: 13.9%\n",
      "FDR mean: 1.6%  std: 9.3%\n"
     ]
    },
    {
     "name": "stdout",
     "output_type": "stream",
     "text": [
      "[[0.85417952 0.88679178]\n",
      " [0.86552314 0.89307789]\n",
      " [0.7758     0.8066    ]]\n",
      "rec time now 2 dataset now: Syn6\n"
     ]
    },
    {
     "name": "stderr",
     "output_type": "stream",
     "text": [
      "TPR mean: 91.0%  std: 14.8%\n",
      "FDR mean: 1.6%  std: 9.3%\n"
     ]
    },
    {
     "name": "stdout",
     "output_type": "stream",
     "text": [
      "[[0.85417952 0.88645889]\n",
      " [0.86552314 0.89246658]\n",
      " [0.7758     0.8064    ]]\n",
      "rec time now 3 dataset now: Syn6\n"
     ]
    },
    {
     "name": "stderr",
     "output_type": "stream",
     "text": [
      "TPR mean: 90.9%  std: 15.0%\n",
      "FDR mean: 1.6%  std: 9.2%\n",
      "Epoch:      0, d_loss (Acc)): 0.412, v_loss (Acc): 0.399, g_loss: -0.0066\n"
     ]
    },
    {
     "name": "stdout",
     "output_type": "stream",
     "text": [
      "[[0.85417952 0.88630591]\n",
      " [0.86552314 0.8920042 ]\n",
      " [0.7758     0.8065    ]]\n",
      "now at training epoch number 4000 hyp-params: lamda 0.1000 prior 0.0000\n",
      "rec time now 0 dataset now: Syn6\n"
     ]
    },
    {
     "name": "stderr",
     "output_type": "stream",
     "text": [
      "TPR mean: 93.3%  std: 10.8%\n",
      "FDR mean: 1.7%  std: 8.7%\n"
     ]
    },
    {
     "name": "stdout",
     "output_type": "stream",
     "text": [
      "[[0.85476232 0.89150065]\n",
      " [0.86480752 0.89891381]\n",
      " [0.7739     0.8138    ]]\n",
      "rec time now 1 dataset now: Syn6\n"
     ]
    },
    {
     "name": "stderr",
     "output_type": "stream",
     "text": [
      "TPR mean: 91.2%  std: 13.5%\n",
      "FDR mean: 1.5%  std: 8.6%\n"
     ]
    },
    {
     "name": "stdout",
     "output_type": "stream",
     "text": [
      "[[0.85476232 0.88993363]\n",
      " [0.86480752 0.89663939]\n",
      " [0.7739     0.811     ]]\n",
      "rec time now 2 dataset now: Syn6\n"
     ]
    },
    {
     "name": "stderr",
     "output_type": "stream",
     "text": [
      "TPR mean: 91.0%  std: 14.3%\n",
      "FDR mean: 1.5%  std: 8.6%\n"
     ]
    },
    {
     "name": "stdout",
     "output_type": "stream",
     "text": [
      "[[0.85476232 0.88959064]\n",
      " [0.86480752 0.89592013]\n",
      " [0.7739     0.8109    ]]\n",
      "rec time now 3 dataset now: Syn6\n"
     ]
    },
    {
     "name": "stderr",
     "output_type": "stream",
     "text": [
      "TPR mean: 90.9%  std: 14.5%\n",
      "FDR mean: 1.5%  std: 8.6%\n",
      "Epoch:      0, d_loss (Acc)): 0.430, v_loss (Acc): 0.419, g_loss: -0.0347\n"
     ]
    },
    {
     "name": "stdout",
     "output_type": "stream",
     "text": [
      "[[0.85476232 0.8894744 ]\n",
      " [0.86480752 0.89559181]\n",
      " [0.7739     0.8113    ]]\n",
      "now at training epoch number 4100 hyp-params: lamda 0.1000 prior 0.0000\n",
      "rec time now 0 dataset now: Syn6\n"
     ]
    },
    {
     "name": "stderr",
     "output_type": "stream",
     "text": [
      "TPR mean: 93.0%  std: 11.0%\n",
      "FDR mean: 1.7%  std: 8.8%\n"
     ]
    },
    {
     "name": "stdout",
     "output_type": "stream",
     "text": [
      "[[0.85196172 0.89025175]\n",
      " [0.8630053  0.89725179]\n",
      " [0.7749     0.8121    ]]\n",
      "rec time now 1 dataset now: Syn6\n"
     ]
    },
    {
     "name": "stderr",
     "output_type": "stream",
     "text": [
      "TPR mean: 90.7%  std: 14.0%\n",
      "FDR mean: 1.5%  std: 8.8%\n"
     ]
    },
    {
     "name": "stdout",
     "output_type": "stream",
     "text": [
      "[[0.85196172 0.88636415]\n",
      " [0.8630053  0.89286925]\n",
      " [0.7749     0.8083    ]]\n",
      "rec time now 2 dataset now: Syn6\n"
     ]
    },
    {
     "name": "stderr",
     "output_type": "stream",
     "text": [
      "TPR mean: 90.5%  std: 14.8%\n",
      "FDR mean: 1.5%  std: 8.8%\n"
     ]
    },
    {
     "name": "stdout",
     "output_type": "stream",
     "text": [
      "[[0.85196172 0.8858317 ]\n",
      " [0.8630053  0.89212244]\n",
      " [0.7749     0.8079    ]]\n",
      "rec time now 3 dataset now: Syn6\n"
     ]
    },
    {
     "name": "stderr",
     "output_type": "stream",
     "text": [
      "TPR mean: 90.4%  std: 15.0%\n",
      "FDR mean: 1.5%  std: 8.8%\n",
      "Epoch:      0, d_loss (Acc)): 0.406, v_loss (Acc): 0.414, g_loss: +0.0276\n"
     ]
    },
    {
     "name": "stdout",
     "output_type": "stream",
     "text": [
      "[[0.85196172 0.88569267]\n",
      " [0.8630053  0.89170224]\n",
      " [0.7749     0.8082    ]]\n",
      "now at training epoch number 4200 hyp-params: lamda 0.1000 prior 0.0000\n",
      "rec time now 0 dataset now: Syn6\n"
     ]
    },
    {
     "name": "stderr",
     "output_type": "stream",
     "text": [
      "TPR mean: 93.4%  std: 11.0%\n",
      "FDR mean: 1.8%  std: 9.2%\n"
     ]
    },
    {
     "name": "stdout",
     "output_type": "stream",
     "text": [
      "[[0.85512987 0.89202018]\n",
      " [0.86621071 0.89918596]\n",
      " [0.7762     0.8137    ]]\n",
      "rec time now 1 dataset now: Syn6\n"
     ]
    },
    {
     "name": "stderr",
     "output_type": "stream",
     "text": [
      "TPR mean: 90.9%  std: 14.6%\n",
      "FDR mean: 1.6%  std: 9.3%\n"
     ]
    },
    {
     "name": "stdout",
     "output_type": "stream",
     "text": [
      "[[0.85512987 0.88697379]\n",
      " [0.86621071 0.89361905]\n",
      " [0.7762     0.8084    ]]\n",
      "rec time now 2 dataset now: Syn6\n"
     ]
    },
    {
     "name": "stderr",
     "output_type": "stream",
     "text": [
      "TPR mean: 90.6%  std: 15.6%\n",
      "FDR mean: 1.6%  std: 9.2%\n"
     ]
    },
    {
     "name": "stdout",
     "output_type": "stream",
     "text": [
      "[[0.85512987 0.8860074 ]\n",
      " [0.86621071 0.89247169]\n",
      " [0.7762     0.808     ]]\n",
      "rec time now 3 dataset now: Syn6\n"
     ]
    },
    {
     "name": "stderr",
     "output_type": "stream",
     "text": [
      "TPR mean: 90.6%  std: 15.7%\n",
      "FDR mean: 1.6%  std: 9.2%\n",
      "Epoch:      0, d_loss (Acc)): 0.409, v_loss (Acc): 0.399, g_loss: +0.0065\n"
     ]
    },
    {
     "name": "stdout",
     "output_type": "stream",
     "text": [
      "[[0.85512987 0.88581933]\n",
      " [0.86621071 0.89215776]\n",
      " [0.7762     0.8078    ]]\n",
      "now at training epoch number 4300 hyp-params: lamda 0.1000 prior 0.0000\n",
      "rec time now 0 dataset now: Syn6\n"
     ]
    },
    {
     "name": "stderr",
     "output_type": "stream",
     "text": [
      "TPR mean: 93.0%  std: 11.2%\n",
      "FDR mean: 1.8%  std: 9.2%\n"
     ]
    },
    {
     "name": "stdout",
     "output_type": "stream",
     "text": [
      "[[0.85668578 0.8919313 ]\n",
      " [0.8681072  0.89951614]\n",
      " [0.7774     0.8136    ]]\n",
      "rec time now 1 dataset now: Syn6\n"
     ]
    },
    {
     "name": "stderr",
     "output_type": "stream",
     "text": [
      "TPR mean: 90.5%  std: 14.7%\n",
      "FDR mean: 1.7%  std: 9.5%\n"
     ]
    },
    {
     "name": "stdout",
     "output_type": "stream",
     "text": [
      "[[0.85668578 0.88919963]\n",
      " [0.8681072  0.89580798]\n",
      " [0.7774     0.812     ]]\n",
      "rec time now 2 dataset now: Syn6\n"
     ]
    },
    {
     "name": "stderr",
     "output_type": "stream",
     "text": [
      "TPR mean: 90.3%  std: 15.4%\n",
      "FDR mean: 1.6%  std: 9.5%\n"
     ]
    },
    {
     "name": "stdout",
     "output_type": "stream",
     "text": [
      "[[0.85668578 0.88906729]\n",
      " [0.8681072  0.89553778]\n",
      " [0.7774     0.8124    ]]\n",
      "rec time now 3 dataset now: Syn6\n"
     ]
    },
    {
     "name": "stderr",
     "output_type": "stream",
     "text": [
      "TPR mean: 90.3%  std: 15.4%\n",
      "FDR mean: 1.6%  std: 9.5%\n",
      "Epoch:      0, d_loss (Acc)): 0.388, v_loss (Acc): 0.381, g_loss: +0.0139\n"
     ]
    },
    {
     "name": "stdout",
     "output_type": "stream",
     "text": [
      "[[0.85668578 0.88905052]\n",
      " [0.8681072  0.89548277]\n",
      " [0.7774     0.8124    ]]\n",
      "now at training epoch number 4400 hyp-params: lamda 0.1000 prior 0.0000\n",
      "rec time now 0 dataset now: Syn6\n"
     ]
    },
    {
     "name": "stderr",
     "output_type": "stream",
     "text": [
      "TPR mean: 92.9%  std: 11.1%\n",
      "FDR mean: 1.7%  std: 9.0%\n"
     ]
    },
    {
     "name": "stdout",
     "output_type": "stream",
     "text": [
      "[[0.85616468 0.89259003]\n",
      " [0.86685611 0.89969832]\n",
      " [0.7766     0.8139    ]]\n",
      "rec time now 1 dataset now: Syn6\n"
     ]
    },
    {
     "name": "stderr",
     "output_type": "stream",
     "text": [
      "TPR mean: 90.3%  std: 14.9%\n",
      "FDR mean: 1.6%  std: 9.3%\n"
     ]
    },
    {
     "name": "stdout",
     "output_type": "stream",
     "text": [
      "[[0.85616468 0.8857605 ]\n",
      " [0.86685611 0.8923523 ]\n",
      " [0.7766     0.8067    ]]\n",
      "rec time now 2 dataset now: Syn6\n"
     ]
    },
    {
     "name": "stderr",
     "output_type": "stream",
     "text": [
      "TPR mean: 90.0%  std: 15.8%\n",
      "FDR mean: 1.6%  std: 9.2%\n"
     ]
    },
    {
     "name": "stdout",
     "output_type": "stream",
     "text": [
      "[[0.85616468 0.88401974]\n",
      " [0.86685611 0.89029164]\n",
      " [0.7766     0.8052    ]]\n",
      "rec time now 3 dataset now: Syn6\n"
     ]
    },
    {
     "name": "stderr",
     "output_type": "stream",
     "text": [
      "TPR mean: 90.0%  std: 15.9%\n",
      "FDR mean: 1.6%  std: 9.2%\n",
      "Epoch:      0, d_loss (Acc)): 0.380, v_loss (Acc): 0.368, g_loss: -0.0414\n"
     ]
    },
    {
     "name": "stdout",
     "output_type": "stream",
     "text": [
      "[[0.85616468 0.88391257]\n",
      " [0.86685611 0.89029034]\n",
      " [0.7766     0.8049    ]]\n",
      "now at training epoch number 4500 hyp-params: lamda 0.1000 prior 0.0000\n",
      "rec time now 0 dataset now: Syn6\n"
     ]
    },
    {
     "name": "stderr",
     "output_type": "stream",
     "text": [
      "TPR mean: 92.7%  std: 10.7%\n",
      "FDR mean: 1.6%  std: 8.2%\n"
     ]
    },
    {
     "name": "stdout",
     "output_type": "stream",
     "text": [
      "[[0.8560625  0.89343647]\n",
      " [0.8665701  0.90037776]\n",
      " [0.7751     0.8152    ]]\n",
      "rec time now 1 dataset now: Syn6\n"
     ]
    },
    {
     "name": "stderr",
     "output_type": "stream",
     "text": [
      "TPR mean: 90.4%  std: 13.7%\n",
      "FDR mean: 1.4%  std: 8.2%\n"
     ]
    },
    {
     "name": "stdout",
     "output_type": "stream",
     "text": [
      "[[0.8560625  0.88829116]\n",
      " [0.8665701  0.8951935 ]\n",
      " [0.7751     0.8109    ]]\n",
      "rec time now 2 dataset now: Syn6\n"
     ]
    },
    {
     "name": "stderr",
     "output_type": "stream",
     "text": [
      "TPR mean: 90.2%  std: 14.2%\n",
      "FDR mean: 1.4%  std: 8.3%\n"
     ]
    },
    {
     "name": "stdout",
     "output_type": "stream",
     "text": [
      "[[0.8560625  0.88765452]\n",
      " [0.8665701  0.89445683]\n",
      " [0.7751     0.8106    ]]\n",
      "rec time now 3 dataset now: Syn6\n"
     ]
    },
    {
     "name": "stderr",
     "output_type": "stream",
     "text": [
      "TPR mean: 90.2%  std: 14.3%\n",
      "FDR mean: 1.4%  std: 8.3%\n",
      "Epoch:      0, d_loss (Acc)): 0.349, v_loss (Acc): 0.351, g_loss: +0.0380\n"
     ]
    },
    {
     "name": "stdout",
     "output_type": "stream",
     "text": [
      "[[0.8560625  0.88758433]\n",
      " [0.8665701  0.89434361]\n",
      " [0.7751     0.8107    ]]\n",
      "now at training epoch number 4600 hyp-params: lamda 0.1000 prior 0.0000\n",
      "rec time now 0 dataset now: Syn6\n"
     ]
    },
    {
     "name": "stderr",
     "output_type": "stream",
     "text": [
      "TPR mean: 92.6%  std: 11.1%\n",
      "FDR mean: 1.6%  std: 8.8%\n"
     ]
    },
    {
     "name": "stdout",
     "output_type": "stream",
     "text": [
      "[[0.85164249 0.89260676]\n",
      " [0.86325842 0.90001302]\n",
      " [0.7744     0.8154    ]]\n",
      "rec time now 1 dataset now: Syn6\n"
     ]
    },
    {
     "name": "stderr",
     "output_type": "stream",
     "text": [
      "TPR mean: 89.7%  std: 15.6%\n",
      "FDR mean: 1.5%  std: 8.8%\n"
     ]
    },
    {
     "name": "stdout",
     "output_type": "stream",
     "text": [
      "[[0.85164249 0.88221337]\n",
      " [0.86325842 0.88817659]\n",
      " [0.7744     0.806     ]]\n",
      "rec time now 2 dataset now: Syn6\n"
     ]
    },
    {
     "name": "stderr",
     "output_type": "stream",
     "text": [
      "TPR mean: 89.3%  std: 16.7%\n",
      "FDR mean: 1.4%  std: 8.7%\n"
     ]
    },
    {
     "name": "stdout",
     "output_type": "stream",
     "text": [
      "[[0.85164249 0.87940014]\n",
      " [0.86325842 0.88490055]\n",
      " [0.7744     0.8041    ]]\n",
      "rec time now 3 dataset now: Syn6\n"
     ]
    },
    {
     "name": "stderr",
     "output_type": "stream",
     "text": [
      "TPR mean: 89.3%  std: 16.8%\n",
      "FDR mean: 1.5%  std: 8.7%\n",
      "Epoch:      0, d_loss (Acc)): 0.391, v_loss (Acc): 0.391, g_loss: +0.0260\n"
     ]
    },
    {
     "name": "stdout",
     "output_type": "stream",
     "text": [
      "[[0.85164249 0.87923323]\n",
      " [0.86325842 0.88474465]\n",
      " [0.7744     0.8039    ]]\n",
      "now at training epoch number 4700 hyp-params: lamda 0.1000 prior 0.0000\n",
      "rec time now 0 dataset now: Syn6\n"
     ]
    },
    {
     "name": "stderr",
     "output_type": "stream",
     "text": [
      "TPR mean: 92.7%  std: 11.3%\n",
      "FDR mean: 1.6%  std: 8.9%\n"
     ]
    },
    {
     "name": "stdout",
     "output_type": "stream",
     "text": [
      "[[0.85568108 0.89067033]\n",
      " [0.86629271 0.89726884]\n",
      " [0.7742     0.8117    ]]\n",
      "rec time now 1 dataset now: Syn6\n"
     ]
    },
    {
     "name": "stderr",
     "output_type": "stream",
     "text": [
      "TPR mean: 89.9%  std: 15.4%\n",
      "FDR mean: 1.5%  std: 9.1%\n"
     ]
    },
    {
     "name": "stdout",
     "output_type": "stream",
     "text": [
      "[[0.85568108 0.8818283 ]\n",
      " [0.86629271 0.88684602]\n",
      " [0.7742     0.8045    ]]\n",
      "rec time now 2 dataset now: Syn6\n"
     ]
    },
    {
     "name": "stderr",
     "output_type": "stream",
     "text": [
      "TPR mean: 89.6%  std: 16.4%\n",
      "FDR mean: 1.5%  std: 9.1%\n"
     ]
    },
    {
     "name": "stdout",
     "output_type": "stream",
     "text": [
      "[[0.85568108 0.88072773]\n",
      " [0.86629271 0.88574758]\n",
      " [0.7742     0.8033    ]]\n",
      "rec time now 3 dataset now: Syn6\n"
     ]
    },
    {
     "name": "stderr",
     "output_type": "stream",
     "text": [
      "TPR mean: 89.5%  std: 16.5%\n",
      "FDR mean: 1.5%  std: 9.1%\n",
      "Epoch:      0, d_loss (Acc)): 0.369, v_loss (Acc): 0.369, g_loss: +0.0615\n"
     ]
    },
    {
     "name": "stdout",
     "output_type": "stream",
     "text": [
      "[[0.85568108 0.88063299]\n",
      " [0.86629271 0.88573867]\n",
      " [0.7742     0.8034    ]]\n",
      "now at training epoch number 4800 hyp-params: lamda 0.1000 prior 0.0000\n",
      "rec time now 0 dataset now: Syn6\n"
     ]
    },
    {
     "name": "stderr",
     "output_type": "stream",
     "text": [
      "TPR mean: 92.7%  std: 11.2%\n",
      "FDR mean: 1.6%  std: 8.8%\n"
     ]
    },
    {
     "name": "stdout",
     "output_type": "stream",
     "text": [
      "[[0.85429976 0.89186069]\n",
      " [0.86676409 0.89930055]\n",
      " [0.7765     0.8126    ]]\n",
      "rec time now 1 dataset now: Syn6\n"
     ]
    },
    {
     "name": "stderr",
     "output_type": "stream",
     "text": [
      "TPR mean: 89.9%  std: 15.0%\n",
      "FDR mean: 1.5%  std: 8.9%\n"
     ]
    },
    {
     "name": "stdout",
     "output_type": "stream",
     "text": [
      "[[0.85429976 0.88550077]\n",
      " [0.86676409 0.89195399]\n",
      " [0.7765     0.8065    ]]\n",
      "rec time now 2 dataset now: Syn6\n"
     ]
    },
    {
     "name": "stderr",
     "output_type": "stream",
     "text": [
      "TPR mean: 89.6%  std: 16.1%\n",
      "FDR mean: 1.5%  std: 8.9%\n"
     ]
    },
    {
     "name": "stdout",
     "output_type": "stream",
     "text": [
      "[[0.85429976 0.88476729]\n",
      " [0.86676409 0.89101659]\n",
      " [0.7765     0.8054    ]]\n",
      "rec time now 3 dataset now: Syn6\n"
     ]
    },
    {
     "name": "stderr",
     "output_type": "stream",
     "text": [
      "TPR mean: 89.6%  std: 16.1%\n",
      "FDR mean: 1.5%  std: 9.0%\n",
      "Epoch:      0, d_loss (Acc)): 0.356, v_loss (Acc): 0.338, g_loss: -0.0097\n"
     ]
    },
    {
     "name": "stdout",
     "output_type": "stream",
     "text": [
      "[[0.85429976 0.88462396]\n",
      " [0.86676409 0.89086338]\n",
      " [0.7765     0.8055    ]]\n",
      "now at training epoch number 4900 hyp-params: lamda 0.1000 prior 0.0000\n",
      "rec time now 0 dataset now: Syn6\n"
     ]
    },
    {
     "name": "stderr",
     "output_type": "stream",
     "text": [
      "TPR mean: 92.3%  std: 11.5%\n",
      "FDR mean: 1.7%  std: 9.1%\n"
     ]
    },
    {
     "name": "stdout",
     "output_type": "stream",
     "text": [
      "[[0.85526909 0.8916781 ]\n",
      " [0.86645898 0.89880629]\n",
      " [0.7735     0.8132    ]]\n",
      "rec time now 1 dataset now: Syn6\n"
     ]
    },
    {
     "name": "stderr",
     "output_type": "stream",
     "text": [
      "TPR mean: 89.8%  std: 15.0%\n",
      "FDR mean: 1.6%  std: 9.4%\n"
     ]
    },
    {
     "name": "stdout",
     "output_type": "stream",
     "text": [
      "[[0.85526909 0.88867226]\n",
      " [0.86645898 0.89493054]\n",
      " [0.7735     0.8115    ]]\n",
      "rec time now 2 dataset now: Syn6\n"
     ]
    },
    {
     "name": "stderr",
     "output_type": "stream",
     "text": [
      "TPR mean: 89.6%  std: 15.8%\n",
      "FDR mean: 1.6%  std: 9.4%\n"
     ]
    },
    {
     "name": "stdout",
     "output_type": "stream",
     "text": [
      "[[0.85526909 0.8880167 ]\n",
      " [0.86645898 0.89433115]\n",
      " [0.7735     0.8109    ]]\n",
      "rec time now 3 dataset now: Syn6\n"
     ]
    },
    {
     "name": "stderr",
     "output_type": "stream",
     "text": [
      "TPR mean: 89.6%  std: 15.8%\n",
      "FDR mean: 1.6%  std: 9.4%\n"
     ]
    },
    {
     "name": "stdout",
     "output_type": "stream",
     "text": [
      "[[0.85526909 0.88788469]\n",
      " [0.86645898 0.89420279]\n",
      " [0.7735     0.8107    ]]\n",
      "PyTorch Version: elapsed time for Syn6: 11 feature, 10000 sample: [475.9042 477.9214 478.9424 479.2886 478.6475 469.5538] sec.\n"
     ]
    }
   ],
   "source": [
    "REAL_LMD = 0.1 # 0.0 - 0.5\n",
    "\n",
    "\n",
    "import time\n",
    "elapsed_time = []\n",
    "\n",
    "class init_arg(object):\n",
    "    def __init__(self, it = 10000, o = 'feature_score.csv.gz', dataset = None, i= None, target = None):\n",
    "        self.it = it\n",
    "        self.o = o\n",
    "        self.dataset = dataset\n",
    "        self.i = i\n",
    "        self.target = target\n",
    "        \n",
    "        \n",
    "        \n",
    "progress_loger = []\n",
    "\n",
    "\n",
    "\n",
    "\n",
    "for DATASET in ['Syn1','Syn2','Syn3','Syn4','Syn5','Syn6']:\n",
    "    sub_logger = []\n",
    "    args = init_arg(dataset = DATASET, it = 5000, )\n",
    "    ocsv = args.o # 'feature_score.csv.gz'\n",
    "    odir = os.path.dirname(ocsv)\n",
    "    odir = '.' if not len(odir) else odir\n",
    "    fn_csv = args.i #'data.csv'\n",
    "    label_nm = args.target # 'target'\n",
    "    nepoch = args.it\n",
    "    logger = utilmlab.init_logger(odir)\n",
    "\n",
    "    dataset = args.dataset\n",
    "\n",
    "    assert dataset is not None or fn_csv is not None\n",
    "    assert fn_csv is None or label_nm is not None\n",
    "\n",
    "    # Data output can be either binary (Y) or Probability (Prob)\n",
    "    data_out_sets = ['Y', 'Prob']\n",
    "    data_out = data_out_sets[0]\n",
    "\n",
    "    logger.info('invase: {} {} {} {}'.format(dataset, nepoch, odir, data_out))\n",
    "\n",
    "    # Number of Training and Testing samples\n",
    "    train_N = 10000\n",
    "    test_N = 10000\n",
    "\n",
    "    # Seeds (different seeds for training and testing)\n",
    "    train_seed = 0\n",
    "    test_seed = 1\n",
    "\n",
    "    x_train, y_train, _, x_test, y_test, g_test, df_train, df_test, \\\n",
    "        dset, features = load_create_data(\n",
    "            dataset,\n",
    "            data_out,\n",
    "            is_logging_enabled=True,\n",
    "            fn_csv=fn_csv,\n",
    "            label_nm=label_nm)\n",
    "    \n",
    "\n",
    "    start_time = time.time()\n",
    "    for thres_i in [0.0]:\n",
    "        Predict_Out_temp = np.zeros([3, 2])    \n",
    "\n",
    "        PVS_Alg = PVS(x_train, dataset, 100, thres=thres_i)\n",
    "\n",
    "        for train_epoch in range(int(nepoch/100)):\n",
    "            \n",
    "            Lmd = 0.1 #train_epoch*100/nepoch * REAL_LMD\n",
    "            Thr = 0.0 #0.5*(1 - train_epoch*100/nepoch)\n",
    "            print('now at training epoch number', int(train_epoch * 100),'hyp-params: lamda %.4f prior %.4f'%(Lmd,Thr))\n",
    "            PVS_Alg.train(x_train, y_train, lmd = Lmd , thr = Thr)\n",
    "            # 3. Get the selection probability on the testing set\n",
    "            #Sel_Prob_Test = PVS_Alg.output(x_test)\n",
    "\n",
    "\n",
    "\n",
    "            '''recurssive generation'''\n",
    "            input_batch = x_test * 1.0\n",
    "            sel_prob_tot = 1.0\n",
    "            for recur_time in range(4):\n",
    "                print('rec time now',recur_time,'dataset now:',DATASET)\n",
    "                gen_prob = PVS_Alg.generator(torch.as_tensor(input_batch).float().to(device))\n",
    "                #sel_prob = PVS_Alg.Sample_M(gen_prob)\n",
    "                sel_prob = 1.*(gen_prob > 0.5)\n",
    "                sel_prob_tot_0 = sel_prob_tot * 1.0\n",
    "                sel_prob_tot = torch.as_tensor(sel_prob * sel_prob_tot).to(device)\n",
    "                input_batch = sel_prob_tot * torch.as_tensor(input_batch).to(device)\n",
    "\n",
    "                score = sel_prob_tot\n",
    "                #print('score',score)\n",
    "\n",
    "\n",
    "\n",
    "                # 4. Selected features\n",
    "\n",
    "\n",
    "                # 5. Prediction\n",
    "                val_predict, dis_predict = PVS_Alg.get_prediction(torch.as_tensor(x_test).float().to(device), score)\n",
    "                val_predict = torch.softmax(torch.as_tensor(val_predict),-1).cpu().numpy()\n",
    "                dis_predict = torch.softmax(torch.as_tensor(dis_predict),-1).cpu().numpy()\n",
    "\n",
    "\n",
    "                def performance_metric(score, g_truth):\n",
    "\n",
    "                    n = len(score)\n",
    "                    Temp_TPR = np.zeros([n,])\n",
    "                    Temp_FDR = np.zeros([n,])\n",
    "\n",
    "                    for i in range(n):\n",
    "\n",
    "                        # TPR    \n",
    "                        # embed()\n",
    "                        TPR_Nom = np.sum((score[i,:].cpu().detach().numpy() * g_truth[i,:]))\n",
    "                        TPR_Den = np.sum(g_truth[i,:])\n",
    "                        Temp_TPR[i] = 100 * float(TPR_Nom)/float(TPR_Den+1e-8)\n",
    "\n",
    "                        # FDR\n",
    "                        FDR_Nom = np.sum((score[i,:].cpu().detach().numpy() * (1-g_truth[i,:])))\n",
    "                        FDR_Den = np.sum(score[i,:].cpu().detach().numpy())\n",
    "                        Temp_FDR[i] = 100 * float(FDR_Nom)/float(FDR_Den+1e-8)\n",
    "\n",
    "                    return np.mean(Temp_TPR), np.mean(Temp_FDR),\\\n",
    "                        np.std(Temp_TPR), np.std(Temp_FDR)\n",
    "\n",
    "                #%% Output\n",
    "\n",
    "                TPR_mean, TPR_std = -1, 0\n",
    "                FDR_mean, FDR_std = -1, 0\n",
    "                if g_test is not None:\n",
    "                    TPR_mean, FDR_mean, TPR_std, FDR_std = performance_metric(\n",
    "                        score, g_test)\n",
    "\n",
    "                    logger.info('TPR mean: {:0.1f}%  std: {:0.1f}%'.format(\n",
    "                        TPR_mean, TPR_std))\n",
    "                    logger.info('FDR mean: {:0.1f}%  std: {:0.1f}%'.format(\n",
    "                        FDR_mean, FDR_std))\n",
    "                else:\n",
    "                    logger.info('no ground truth relevance')\n",
    "\n",
    "\n",
    "\n",
    "                #%% Performance Metrics\n",
    "                Predict_Out_temp[0,0] = roc_auc_score(y_test[:,1], val_predict[:,1])\n",
    "                Predict_Out_temp[1,0] = average_precision_score(y_test[:,1], val_predict[:,1])\n",
    "                Predict_Out_temp[2,0] = accuracy_score(y_test[:,1], 1. * (val_predict[:,1]>0.5) )\n",
    "\n",
    "                Predict_Out_temp[0,1] = roc_auc_score(y_test[:,1], dis_predict[:,1])\n",
    "                Predict_Out_temp[1,1] = average_precision_score(y_test[:,1], dis_predict[:,1])\n",
    "                Predict_Out_temp[2,1] = accuracy_score(y_test[:,1], 1. * (dis_predict[:,1]>0.5) )\n",
    "                print(Predict_Out_temp)\n",
    "                sub_logger.append((Predict_Out_temp,TPR_mean,FDR_mean,TPR_std,FDR_std))\n",
    "        progress_loger.append(sub_logger)\n",
    "    elapsed_time.append(time.time() - start_time)\n",
    "    print('PyTorch Version: elapsed time for {}: 11 feature, 10000 sample:'.format(DATASET),np.round(elapsed_time,4),'sec.')\n"
   ]
  },
  {
   "cell_type": "code",
   "execution_count": null,
   "metadata": {},
   "outputs": [],
   "source": []
  }
 ],
 "metadata": {
  "kernelspec": {
   "display_name": "py3.79",
   "language": "python",
   "name": "py2.7"
  },
  "language_info": {
   "codemirror_mode": {
    "name": "ipython",
    "version": 3
   },
   "file_extension": ".py",
   "mimetype": "text/x-python",
   "name": "python",
   "nbconvert_exporter": "python",
   "pygments_lexer": "ipython3",
   "version": "3.7.9"
  }
 },
 "nbformat": 4,
 "nbformat_minor": 4
}
