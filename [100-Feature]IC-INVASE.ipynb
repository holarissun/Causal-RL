{
 "cells": [
  {
   "cell_type": "markdown",
   "metadata": {},
   "source": [
    "# IC-INVASE with increasing $\\lambda$ and decreasing $p_r$"
   ]
  },
  {
   "cell_type": "code",
   "execution_count": 1,
   "metadata": {},
   "outputs": [],
   "source": [
    "X_DIM = 100 # feature dimension Hyper-Param"
   ]
  },
  {
   "cell_type": "code",
   "execution_count": 2,
   "metadata": {},
   "outputs": [],
   "source": [
    "import numpy as np\n",
    "from sklearn.metrics import roc_auc_score\n",
    "from sklearn.metrics import average_precision_score\n",
    "from sklearn.metrics import accuracy_score\n",
    "# import argparse\n",
    "from data_generation import generate_data\n",
    "import os\n",
    "import json\n",
    "import pandas as pd\n",
    "import time\n",
    "import initpath_alg\n",
    "#initpath_alg.init_sys_path()\n",
    "import utilmlab\n",
    "import data_loader_mlab\n",
    "\n",
    "\n",
    "def array2str(a):\n",
    "    s = ''\n",
    "    for idx, el in enumerate(a):\n",
    "        s += (' ' if idx > 0 else '') + '{:0.3f}'.format(el)\n",
    "    return s\n",
    "\n",
    "\n",
    "def one_hot_encoder(a):\n",
    "    n_values = np.max(a) + 1\n",
    "    return np.eye(n_values)[a]\n",
    "\n",
    "\n",
    "def load_create_data(\n",
    "        data_type,\n",
    "        data_out,\n",
    "        is_logging_enabled=True,\n",
    "        fn_csv=None,\n",
    "        label_nm=None):\n",
    "\n",
    "    df_train, df_test, dset = None, None, None\n",
    "    features = None\n",
    "    if data_type in data_loader_mlab.get_available_datasets() + ['show'] \\\n",
    "       or fn_csv is not None:\n",
    "        if fn_csv is not None:\n",
    "            rval, dset = data_loader_mlab.load_dataset_from_csv(\n",
    "                logger, fn_csv, label_nm)\n",
    "        else:\n",
    "            rval, dset = data_loader_mlab.get_dataset(data_type)\n",
    "        assert rval == 0\n",
    "        data_loader_mlab.dataset_log_properties(logger, dset)\n",
    "        if is_logging_enabled:\n",
    "            logger.info('warning no seed')\n",
    "        df = dset['df']\n",
    "        features = dset['features']\n",
    "        labels = dset['targets']\n",
    "        nsample = len(df)\n",
    "        train_ratio = 0.8\n",
    "        idx = np.random.permutation(nsample)\n",
    "        ntrain = int(nsample * train_ratio)\n",
    "        df_train = df.iloc[idx[:ntrain]]\n",
    "        df_test = df.iloc[idx[ntrain:]]\n",
    "\n",
    "        col_drop = utilmlab.col_with_nan(df)\n",
    "        if is_logging_enabled and len(col_drop):\n",
    "            print('warning: dropping features {}'\n",
    "                  ', contains nan'.format(col_drop))\n",
    "            time.sleep(2)\n",
    "\n",
    "        features = [el for el in features if el not in col_drop]\n",
    "\n",
    "        x_train = df_train[features].values\n",
    "        y_train = df_train[labels].values\n",
    "        x_test = df_test[features].values\n",
    "        y_test = df_test[labels].values\n",
    "\n",
    "        g_train, g_test = None, None\n",
    "\n",
    "        y_train = one_hot_encoder(np.ravel(y_train))\n",
    "        y_test = one_hot_encoder(np.ravel(y_test))\n",
    "        if is_logging_enabled:\n",
    "            logger.info('y: train:{} test:{}'.format(\n",
    "                set(np.ravel(y_train)), set(np.ravel(y_test))))\n",
    "    else:\n",
    "        x_train, y_train, g_train = generate_data(\n",
    "            n=train_N, data_type=data_type, seed=train_seed, out=data_out, x_dim = X_DIM)\n",
    "        x_test,  y_test,  g_test = generate_data(\n",
    "            n=test_N,  data_type=data_type, seed=test_seed,  out=data_out, x_dim = X_DIM)\n",
    "    if is_logging_enabled:\n",
    "        logger.info('{} {} {} {}'.format(\n",
    "            x_train.shape,\n",
    "            y_train.shape,\n",
    "            x_test.shape,\n",
    "            y_test.shape))\n",
    "    return x_train, y_train, g_train, x_test, y_test, \\\n",
    "        g_test, df_train, df_test, dset, features\n",
    "\n",
    "\n"
   ]
  },
  {
   "cell_type": "code",
   "execution_count": 3,
   "metadata": {},
   "outputs": [],
   "source": [
    "from IPython import embed\n",
    "import torch\n",
    "import torch.nn as nn\n",
    "import torch.nn.functional as F\n",
    "device = torch.device(\"cuda\" if torch.cuda.is_available() else \"cpu\")\n",
    "torch.cuda.set_device(4)\n",
    "\n",
    "# Generator (Actor) in PyTorch\n",
    "class Actor(nn.Module):\n",
    "    def __init__(self, state_dim, action_dim):\n",
    "        super(Actor, self).__init__()\n",
    "\n",
    "        self.l1 = nn.Linear(state_dim, 100)\n",
    "        self.l2 = nn.Linear(100, 100)\n",
    "        self.l3 = nn.Linear(100, action_dim)\n",
    "\n",
    "\n",
    "    def forward(self, state):\n",
    "        a = F.selu(self.l1(state))\n",
    "        a = F.selu(self.l2(a))\n",
    "        return torch.sigmoid(self.l3(a))\n",
    "        \n",
    "# Discriminator (Critic) in PyTorch    \n",
    "# Critic in INVASE is a classifier that provide return signal\n",
    "class Critic(nn.Module):\n",
    "    def __init__(self, state_dim, action_dim):\n",
    "        super(Critic, self).__init__()\n",
    "\n",
    "        # Q1 architecture\n",
    "        self.l1 = nn.Linear(state_dim, 200)\n",
    "        self.bn1 = nn.BatchNorm1d(num_features=200)\n",
    "        self.l2 = nn.Linear(200, 200)\n",
    "        self.bn2 = nn.BatchNorm1d(num_features=200)\n",
    "        self.l3 = nn.Linear(200, 2)\n",
    "\n",
    "\n",
    "    def forward(self, state, action):\n",
    "        #sa = torch.cat([state, action], 1)\n",
    "        sa = state * action\n",
    "\n",
    "        q1 = F.selu(self.bn1(self.l1(sa)))\n",
    "        q1 = F.selu(self.bn2(self.l2(q1)))\n",
    "        q1 = self.l3(q1)\n",
    "\n",
    "        return q1 # prob, actually the binary classification result with softmax activation (logits)\n",
    "    \n",
    "# Valuefunction (Baseline) in PyTorch   \n",
    "# Valuefunction in INVASE is a classifier that provide return signal\n",
    "class Baseline(nn.Module):\n",
    "    def __init__(self, state_dim, action_dim):\n",
    "        super(Baseline, self).__init__()\n",
    "\n",
    "        # Q1 architecture\n",
    "        self.l1 = nn.Linear(state_dim, 200)\n",
    "        self.bn1 = nn.BatchNorm1d(num_features=200)\n",
    "        self.l2 = nn.Linear(200, 200)\n",
    "        self.bn2 = nn.BatchNorm1d(num_features=200)\n",
    "        self.l3 = nn.Linear(200, 2)\n",
    "\n",
    "\n",
    "    def forward(self, state):\n",
    "        #sa = torch.cat([state, action], 1)\n",
    "        sa = state\n",
    "\n",
    "        q1 = F.selu(self.bn1(self.l1(sa)))\n",
    "        q1 = F.selu(self.bn2(self.l2(q1)))\n",
    "        q1 = self.l3(q1)\n",
    "\n",
    "        return q1 # prob, actually the binary classification result with softmax activation (logits)    \n",
    "\n",
    "    \n",
    "    \n",
    "class PVS():\n",
    "    # 1. Initialization\n",
    "    '''\n",
    "    x_train: training samples\n",
    "    data_type: Syn1 to Syn 6\n",
    "    '''\n",
    "    def __init__(self, x_train, data_type, nepoch, is_logging_enabled=True, thres = 0.5):\n",
    "        self.is_logging_enabled = is_logging_enabled\n",
    "        self.latent_dim1 = 100      # Dimension of actor (generator) network\n",
    "        self.latent_dim2 = 200      # Dimension of critic (discriminator) network\n",
    "        \n",
    "        self.batch_size = min(1000, x_train.shape[0])      # Batch size\n",
    "        self.epochs = nepoch        # Epoch size (large epoch is needed due to the policy gradient framework)\n",
    "        self.lamda = 99999.           # Hyper-parameter for the number of selected features \n",
    "        self.thres = thres\n",
    "        '''lamda is number of selected features? is it the coefficient?'''\n",
    "        \n",
    "        \n",
    "        self.input_shape = x_train.shape[1]     # Input dimension\n",
    "        logger.info('input shape: {}'.format(self.input_shape))\n",
    "        \n",
    "        # Actionvation. (For Syn1 and 2, relu, others, selu)\n",
    "        self.activation = 'relu' if data_type in ['Syn1','Syn2'] else 'selu'       \n",
    "        \n",
    "        \n",
    "        self.generator = Actor(state_dim=self.input_shape, action_dim = self.input_shape).to(device)\n",
    "        self.discriminator = Critic(state_dim=self.input_shape, action_dim = self.input_shape).to(device)\n",
    "        self.valfunction = Baseline(state_dim=self.input_shape, action_dim = self.input_shape).to(device)\n",
    "        \n",
    "        \n",
    "        self.generator_optimizer = torch.optim.Adam(self.generator.parameters(), lr=1e-4)#,weight_decay=1e-3)\n",
    "        self.discriminator_optimizer = torch.optim.Adam(self.discriminator.parameters(), lr=1e-4)#,weight_decay=1e-3)\n",
    "        self.valfunction_optimizer = torch.optim.Adam(self.valfunction.parameters(), lr=1e-4)#,weight_decay=1e-3)\n",
    "        \n",
    "    #%% Custom loss definition\n",
    "    def my_loss(self, y_true, y_pred,lmd,thr):\n",
    "        \n",
    "        \n",
    "        # dimension of the features\n",
    "        d = y_pred.shape[1]        \n",
    "        \n",
    "        # Put all three in y_true \n",
    "        # 1. selected probability\n",
    "        sel_prob = y_true[:,:d] # bs x d\n",
    "        # 2. discriminator output\n",
    "        dis_prob = y_true[:,d:(d+2)] # bs x 2\n",
    "        # 3. valfunction output\n",
    "        val_prob = y_true[:,(d+2):(d+4)] # bs x 2\n",
    "        # 4. ground truth\n",
    "        y_final = y_true[:,(d+4):] # bs x 2\n",
    "        \n",
    "        # A1. Compute the rewards of the actor network\n",
    "        Reward1 = torch.sum( y_final * torch.log(dis_prob + 1e-8), axis = 1)  \n",
    "        #reduce_sum(\n",
    "        \n",
    "        # A2. Compute the rewards of the actor network\n",
    "        Reward2 = torch.sum( y_final * torch.log(val_prob + 1e-8), axis = 1)  \n",
    "\n",
    "        # Difference is the rewards\n",
    "        Reward = Reward1 - Reward2\n",
    "\n",
    "        # B. Policy gradient loss computation. \n",
    "        #embed()\n",
    "        loss1 = Reward * torch.sum( sel_prob * torch.log(y_pred + 1e-8) + (1-sel_prob) * torch.log(1-y_pred + 1e-8), axis = 1) - lmd *torch.mean( torch.abs(y_pred-thr), axis = 1)\n",
    "        \n",
    "        # C. Maximize the loss1\n",
    "        loss = torch.mean(-loss1)\n",
    "        #embed()\n",
    "        return loss\n",
    "    \n",
    "\n",
    "    def Sample_M(self, gen_prob):\n",
    "        # Shape of the selection probability\n",
    "        n = gen_prob.shape[0]\n",
    "        d = gen_prob.shape[1]\n",
    "        # Sampling\n",
    "        samples = np.random.binomial(1, gen_prob, (n,d))\n",
    "\n",
    "        return samples\n",
    "\n",
    "    #%% Training procedure\n",
    "    def train(self, x_train, y_train, lmd,thr):\n",
    "\n",
    "        # For each epoch (actually iterations)\n",
    "        for epoch in range(self.epochs):\n",
    "\n",
    "            #%% Train Discriminator\n",
    "            # Select a random batch of samples\n",
    "            idx = np.random.randint(0, x_train.shape[0], self.batch_size)\n",
    "            x_batch = torch.as_tensor(x_train[idx,:]).float().to(device)\n",
    "            y_batch = torch.as_tensor(np.argmax(y_train[idx,:],1)).long().to(device)\n",
    "            \n",
    "            # Generate a batch of probabilities of feature selection\n",
    "            gen_prob = self.generator(x_batch).cpu().detach().numpy()\n",
    "            #print(gen_prob)\n",
    "            # Sampling the features based on the generated probability\n",
    "            sel_prob = self.Sample_M(gen_prob)\n",
    "            '''sel_prob is the mask'''\n",
    "            \n",
    "            # Compute the prediction of the critic based on the sampled features (used for generator training)\n",
    "            dis_prob = self.discriminator(x_batch, torch.as_tensor(sel_prob).float().to(device))\n",
    "            \n",
    "            # Train the discriminator\n",
    "            #d_loss = self.discriminator.train_on_batch([x_batch, sel_prob], y_batch)\n",
    "            loss_func_c = nn.CrossEntropyLoss()\n",
    "            self.discriminator_optimizer.zero_grad()\n",
    "            critic_loss = loss_func_c(dis_prob, y_batch)\n",
    "            critic_loss.backward()\n",
    "            self.discriminator_optimizer.step()\n",
    "\n",
    "            #%% Train Valud function\n",
    "\n",
    "            # Compute the prediction of the baseline based on the sampled features (used for generator training)\n",
    "            val_prob = self.valfunction(x_batch)#.cpu().detach().numpy()\n",
    "            \n",
    "            # Train the baseline model\n",
    "            loss_func_v = nn.CrossEntropyLoss()\n",
    "            self.valfunction_optimizer.zero_grad()\n",
    "            value_loss = loss_func_v(val_prob, y_batch)\n",
    "            value_loss.backward()\n",
    "            self.valfunction_optimizer.step()\n",
    "            \n",
    "            \n",
    "            #%% Train Generator\n",
    "            # Use three things as the y_true: sel_prob, dis_prob, and ground truth (y_batch)\n",
    "            '''\n",
    "            sel_prob: the mask generated by bernulli sampler [bs, d]\n",
    "            dis_prob: prediction of the critic               [bs, 2]\n",
    "            val_prob: prediction of the baseline model       [bs, 2]\n",
    "            y_batch: batch of y_train                        [bs, 2]\n",
    "            all of those variables are 'placeholders'\n",
    "            '''\n",
    "            \n",
    "            #y_batch_final = torch.as_tensor(np.concatenate( (sel_prob, np.asarray(dis_prob.cpu().detach().numpy()), np.asarray(val_prob.cpu().detach().numpy()), y_batch.numpy().reshape(-1,1)), axis = 1 ))\n",
    "            y_batch_final = torch.as_tensor(np.concatenate( (sel_prob, np.asarray(torch.softmax(torch.as_tensor(dis_prob),-1).cpu().detach().numpy()), np.asarray(torch.softmax(torch.as_tensor(val_prob),-1).cpu().detach().numpy()), y_train[idx,:]), axis = 1 )).to(device)\n",
    "            # Train the generator\n",
    "            \n",
    "            actor_pred = self.generator(x_batch)\n",
    "            self.generator_optimizer.zero_grad()\n",
    "            actor_loss = self.my_loss(y_batch_final,actor_pred,lmd,thr)\n",
    "            actor_loss.backward()\n",
    "            self.generator_optimizer.step()\n",
    "            \n",
    "            #%% Plot the progress\n",
    "            dialog = 'Epoch: ' + '{:6d}'.format(epoch) + ', d_loss (Acc)): '\n",
    "            dialog += '{:0.3f}'.format(critic_loss) + ', v_loss (Acc): '\n",
    "            dialog += '{:0.3f}'.format(value_loss) + ', g_loss: ' + '{:+6.4f}'.format(actor_loss)\n",
    "\n",
    "            if epoch % 100 == 0:\n",
    "                logger.info('{}'.format(dialog))\n",
    "    \n",
    "    #%% Selected Features        \n",
    "    def output(self, x_train):\n",
    "        \n",
    "        gen_prob = self.generator(x_train).cpu().detach().numpy()\n",
    "        \n",
    "        return np.asarray(gen_prob)\n",
    "     \n",
    "    #%% Prediction Results \n",
    "    def get_prediction(self, x_train, m_train):\n",
    "        \n",
    "        val_prediction = self.valfunction(x_train).cpu().detach().numpy()\n",
    "        \n",
    "        dis_prediction = self.discriminator(x_train, m_train).cpu().detach().numpy()\n",
    "        \n",
    "        return np.asarray(val_prediction), np.asarray(dis_prediction)"
   ]
  },
  {
   "cell_type": "code",
   "execution_count": 4,
   "metadata": {},
   "outputs": [
    {
     "name": "stderr",
     "output_type": "stream",
     "text": [
      "invase: Syn4 10000 . Y\n",
      "(10000, 100) (10000, 2) (10000, 100) (10000, 2)\n",
      "input shape: 100\n",
      "Epoch:      0, d_loss (Acc)): 0.762, v_loss (Acc): 0.769, g_loss: +0.5138\n"
     ]
    },
    {
     "name": "stdout",
     "output_type": "stream",
     "text": [
      "now at training epoch number 0 hyp-params: lamda 0.0000 prior 0.5000\n",
      "rec time now 0 dataset now: Syn4\n"
     ]
    },
    {
     "name": "stderr",
     "output_type": "stream",
     "text": [
      "TPR mean: 52.9%  std: 24.9%\n",
      "FDR mean: 95.9%  std: 2.1%\n"
     ]
    },
    {
     "name": "stdout",
     "output_type": "stream",
     "text": [
      "[[0.51327696 0.50135249]\n",
      " [0.53378314 0.52670815]\n",
      " [0.5168     0.5061    ]]\n",
      "rec time now 1 dataset now: Syn4\n"
     ]
    },
    {
     "name": "stderr",
     "output_type": "stream",
     "text": [
      "TPR mean: 42.9%  std: 24.0%\n",
      "FDR mean: 95.7%  std: 2.5%\n"
     ]
    },
    {
     "name": "stdout",
     "output_type": "stream",
     "text": [
      "[[0.51327696 0.50282276]\n",
      " [0.53378314 0.52765242]\n",
      " [0.5168     0.5056    ]]\n",
      "rec time now 2 dataset now: Syn4\n"
     ]
    },
    {
     "name": "stderr",
     "output_type": "stream",
     "text": [
      "TPR mean: 39.1%  std: 23.5%\n",
      "FDR mean: 95.7%  std: 2.7%\n"
     ]
    },
    {
     "name": "stdout",
     "output_type": "stream",
     "text": [
      "[[0.51327696 0.50015998]\n",
      " [0.53378314 0.52824422]\n",
      " [0.5168     0.5048    ]]\n",
      "rec time now 3 dataset now: Syn4\n"
     ]
    },
    {
     "name": "stderr",
     "output_type": "stream",
     "text": [
      "TPR mean: 37.6%  std: 23.3%\n",
      "FDR mean: 95.6%  std: 2.9%\n",
      "Epoch:      0, d_loss (Acc)): 0.693, v_loss (Acc): 0.682, g_loss: -0.7658\n"
     ]
    },
    {
     "name": "stdout",
     "output_type": "stream",
     "text": [
      "[[0.51327696 0.4977362 ]\n",
      " [0.53378314 0.52640937]\n",
      " [0.5168     0.4997    ]]\n",
      "now at training epoch number 100 hyp-params: lamda 0.0200 prior 0.4950\n",
      "rec time now 0 dataset now: Syn4\n"
     ]
    },
    {
     "name": "stderr",
     "output_type": "stream",
     "text": [
      "TPR mean: 53.1%  std: 24.9%\n",
      "FDR mean: 95.9%  std: 2.1%\n"
     ]
    },
    {
     "name": "stdout",
     "output_type": "stream",
     "text": [
      "[[0.52264583 0.50486466]\n",
      " [0.54013742 0.5304591 ]\n",
      " [0.5235     0.5068    ]]\n",
      "rec time now 1 dataset now: Syn4\n"
     ]
    },
    {
     "name": "stderr",
     "output_type": "stream",
     "text": [
      "TPR mean: 43.1%  std: 24.0%\n",
      "FDR mean: 95.7%  std: 2.5%\n"
     ]
    },
    {
     "name": "stdout",
     "output_type": "stream",
     "text": [
      "[[0.52264583 0.50724393]\n",
      " [0.54013742 0.53237105]\n",
      " [0.5235     0.5129    ]]\n",
      "rec time now 2 dataset now: Syn4\n"
     ]
    },
    {
     "name": "stderr",
     "output_type": "stream",
     "text": [
      "TPR mean: 39.3%  std: 23.5%\n",
      "FDR mean: 95.6%  std: 2.7%\n"
     ]
    },
    {
     "name": "stdout",
     "output_type": "stream",
     "text": [
      "[[0.52264583 0.5021314 ]\n",
      " [0.54013742 0.531867  ]\n",
      " [0.5235     0.5096    ]]\n",
      "rec time now 3 dataset now: Syn4\n"
     ]
    },
    {
     "name": "stderr",
     "output_type": "stream",
     "text": [
      "TPR mean: 37.8%  std: 23.3%\n",
      "FDR mean: 95.6%  std: 2.9%\n",
      "Epoch:      0, d_loss (Acc)): 0.687, v_loss (Acc): 0.663, g_loss: -1.6045\n"
     ]
    },
    {
     "name": "stdout",
     "output_type": "stream",
     "text": [
      "[[0.52264583 0.49929864]\n",
      " [0.54013742 0.52957879]\n",
      " [0.5235     0.5051    ]]\n",
      "now at training epoch number 200 hyp-params: lamda 0.0400 prior 0.4900\n",
      "rec time now 0 dataset now: Syn4\n"
     ]
    },
    {
     "name": "stderr",
     "output_type": "stream",
     "text": [
      "TPR mean: 53.4%  std: 25.2%\n",
      "FDR mean: 95.9%  std: 2.1%\n"
     ]
    },
    {
     "name": "stdout",
     "output_type": "stream",
     "text": [
      "[[0.53153953 0.51019931]\n",
      " [0.54899603 0.53341534]\n",
      " [0.5274     0.5168    ]]\n",
      "rec time now 1 dataset now: Syn4\n"
     ]
    },
    {
     "name": "stderr",
     "output_type": "stream",
     "text": [
      "TPR mean: 43.5%  std: 24.5%\n",
      "FDR mean: 95.7%  std: 2.6%\n"
     ]
    },
    {
     "name": "stdout",
     "output_type": "stream",
     "text": [
      "[[0.53153953 0.51591642]\n",
      " [0.54899603 0.53782089]\n",
      " [0.5274     0.5215    ]]\n",
      "rec time now 2 dataset now: Syn4\n"
     ]
    },
    {
     "name": "stderr",
     "output_type": "stream",
     "text": [
      "TPR mean: 39.7%  std: 23.8%\n",
      "FDR mean: 95.6%  std: 2.8%\n"
     ]
    },
    {
     "name": "stdout",
     "output_type": "stream",
     "text": [
      "[[0.53153953 0.51264458]\n",
      " [0.54899603 0.53551245]\n",
      " [0.5274     0.5169    ]]\n",
      "rec time now 3 dataset now: Syn4\n"
     ]
    },
    {
     "name": "stderr",
     "output_type": "stream",
     "text": [
      "TPR mean: 38.1%  std: 23.6%\n",
      "FDR mean: 95.5%  std: 2.9%\n",
      "Epoch:      0, d_loss (Acc)): 0.682, v_loss (Acc): 0.654, g_loss: -1.8813\n"
     ]
    },
    {
     "name": "stdout",
     "output_type": "stream",
     "text": [
      "[[0.53153953 0.50864191]\n",
      " [0.54899603 0.53563706]\n",
      " [0.5274     0.5149    ]]\n",
      "now at training epoch number 300 hyp-params: lamda 0.0600 prior 0.4850\n",
      "rec time now 0 dataset now: Syn4\n"
     ]
    },
    {
     "name": "stderr",
     "output_type": "stream",
     "text": [
      "TPR mean: 54.2%  std: 25.3%\n",
      "FDR mean: 95.8%  std: 2.2%\n"
     ]
    },
    {
     "name": "stdout",
     "output_type": "stream",
     "text": [
      "[[0.52754502 0.51556591]\n",
      " [0.54073599 0.53890319]\n",
      " [0.5294     0.5185    ]]\n",
      "rec time now 1 dataset now: Syn4\n"
     ]
    },
    {
     "name": "stderr",
     "output_type": "stream",
     "text": [
      "TPR mean: 44.3%  std: 24.7%\n",
      "FDR mean: 95.6%  std: 2.6%\n"
     ]
    },
    {
     "name": "stdout",
     "output_type": "stream",
     "text": [
      "[[0.52754502 0.52305816]\n",
      " [0.54073599 0.54652985]\n",
      " [0.5294     0.5239    ]]\n",
      "rec time now 2 dataset now: Syn4\n"
     ]
    },
    {
     "name": "stderr",
     "output_type": "stream",
     "text": [
      "TPR mean: 40.4%  std: 24.1%\n",
      "FDR mean: 95.5%  std: 2.8%\n"
     ]
    },
    {
     "name": "stdout",
     "output_type": "stream",
     "text": [
      "[[0.52754502 0.52176287]\n",
      " [0.54073599 0.54665232]\n",
      " [0.5294     0.5241    ]]\n",
      "rec time now 3 dataset now: Syn4\n"
     ]
    },
    {
     "name": "stderr",
     "output_type": "stream",
     "text": [
      "TPR mean: 38.8%  std: 23.8%\n",
      "FDR mean: 95.4%  std: 2.9%\n",
      "Epoch:      0, d_loss (Acc)): 0.689, v_loss (Acc): 0.643, g_loss: -3.1515\n"
     ]
    },
    {
     "name": "stdout",
     "output_type": "stream",
     "text": [
      "[[0.52754502 0.51760764]\n",
      " [0.54073599 0.5430869 ]\n",
      " [0.5294     0.5188    ]]\n",
      "now at training epoch number 400 hyp-params: lamda 0.0800 prior 0.4800\n",
      "rec time now 0 dataset now: Syn4\n"
     ]
    },
    {
     "name": "stderr",
     "output_type": "stream",
     "text": [
      "TPR mean: 54.2%  std: 25.6%\n",
      "FDR mean: 95.8%  std: 2.2%\n"
     ]
    },
    {
     "name": "stdout",
     "output_type": "stream",
     "text": [
      "[[0.53844603 0.52697587]\n",
      " [0.55035637 0.54998133]\n",
      " [0.5385     0.5296    ]]\n",
      "rec time now 1 dataset now: Syn4\n"
     ]
    },
    {
     "name": "stderr",
     "output_type": "stream",
     "text": [
      "TPR mean: 44.1%  std: 25.0%\n",
      "FDR mean: 95.6%  std: 2.7%\n"
     ]
    },
    {
     "name": "stdout",
     "output_type": "stream",
     "text": [
      "[[0.53844603 0.5279876 ]\n",
      " [0.55035637 0.55157175]\n",
      " [0.5385     0.5258    ]]\n",
      "rec time now 2 dataset now: Syn4\n"
     ]
    },
    {
     "name": "stderr",
     "output_type": "stream",
     "text": [
      "TPR mean: 40.4%  std: 24.4%\n",
      "FDR mean: 95.5%  std: 2.9%\n"
     ]
    },
    {
     "name": "stdout",
     "output_type": "stream",
     "text": [
      "[[0.53844603 0.53155725]\n",
      " [0.55035637 0.55391115]\n",
      " [0.5385     0.5274    ]]\n",
      "rec time now 3 dataset now: Syn4\n"
     ]
    },
    {
     "name": "stderr",
     "output_type": "stream",
     "text": [
      "TPR mean: 38.7%  std: 24.2%\n",
      "FDR mean: 95.4%  std: 3.1%\n",
      "Epoch:      0, d_loss (Acc)): 0.685, v_loss (Acc): 0.642, g_loss: -2.9126\n"
     ]
    },
    {
     "name": "stdout",
     "output_type": "stream",
     "text": [
      "[[0.53844603 0.52719437]\n",
      " [0.55035637 0.54931635]\n",
      " [0.5385     0.5265    ]]\n",
      "now at training epoch number 500 hyp-params: lamda 0.1000 prior 0.4750\n",
      "rec time now 0 dataset now: Syn4\n"
     ]
    },
    {
     "name": "stderr",
     "output_type": "stream",
     "text": [
      "TPR mean: 54.5%  std: 25.8%\n",
      "FDR mean: 95.7%  std: 2.2%\n"
     ]
    },
    {
     "name": "stdout",
     "output_type": "stream",
     "text": [
      "[[0.53372447 0.53370009]\n",
      " [0.54930547 0.55547094]\n",
      " [0.5291     0.528     ]]\n",
      "rec time now 1 dataset now: Syn4\n"
     ]
    },
    {
     "name": "stderr",
     "output_type": "stream",
     "text": [
      "TPR mean: 44.5%  std: 25.1%\n",
      "FDR mean: 95.5%  std: 2.7%\n"
     ]
    },
    {
     "name": "stdout",
     "output_type": "stream",
     "text": [
      "[[0.53372447 0.53382634]\n",
      " [0.54930547 0.55840625]\n",
      " [0.5291     0.5261    ]]\n",
      "rec time now 2 dataset now: Syn4\n"
     ]
    },
    {
     "name": "stderr",
     "output_type": "stream",
     "text": [
      "TPR mean: 40.7%  std: 24.6%\n",
      "FDR mean: 95.4%  std: 3.0%\n"
     ]
    },
    {
     "name": "stdout",
     "output_type": "stream",
     "text": [
      "[[0.53372447 0.53498492]\n",
      " [0.54930547 0.55994945]\n",
      " [0.5291     0.5238    ]]\n",
      "rec time now 3 dataset now: Syn4\n"
     ]
    },
    {
     "name": "stderr",
     "output_type": "stream",
     "text": [
      "TPR mean: 39.0%  std: 24.4%\n",
      "FDR mean: 95.3%  std: 3.1%\n",
      "Epoch:      0, d_loss (Acc)): 0.683, v_loss (Acc): 0.626, g_loss: -3.8649\n"
     ]
    },
    {
     "name": "stdout",
     "output_type": "stream",
     "text": [
      "[[0.53372447 0.53221994]\n",
      " [0.54930547 0.55620496]\n",
      " [0.5291     0.5296    ]]\n",
      "now at training epoch number 600 hyp-params: lamda 0.1200 prior 0.4700\n",
      "rec time now 0 dataset now: Syn4\n"
     ]
    },
    {
     "name": "stderr",
     "output_type": "stream",
     "text": [
      "TPR mean: 55.5%  std: 25.9%\n",
      "FDR mean: 95.6%  std: 2.3%\n"
     ]
    },
    {
     "name": "stdout",
     "output_type": "stream",
     "text": [
      "[[0.54392418 0.53723378]\n",
      " [0.55555416 0.55481081]\n",
      " [0.5345     0.5319    ]]\n",
      "rec time now 1 dataset now: Syn4\n"
     ]
    },
    {
     "name": "stderr",
     "output_type": "stream",
     "text": [
      "TPR mean: 45.6%  std: 25.3%\n",
      "FDR mean: 95.4%  std: 2.8%\n"
     ]
    },
    {
     "name": "stdout",
     "output_type": "stream",
     "text": [
      "[[0.54392418 0.5387774 ]\n",
      " [0.55555416 0.55751589]\n",
      " [0.5345     0.5305    ]]\n",
      "rec time now 2 dataset now: Syn4\n"
     ]
    },
    {
     "name": "stderr",
     "output_type": "stream",
     "text": [
      "TPR mean: 41.8%  std: 24.8%\n",
      "FDR mean: 95.2%  std: 3.1%\n"
     ]
    },
    {
     "name": "stdout",
     "output_type": "stream",
     "text": [
      "[[0.54392418 0.54371518]\n",
      " [0.55555416 0.56095856]\n",
      " [0.5345     0.5369    ]]\n",
      "rec time now 3 dataset now: Syn4\n"
     ]
    },
    {
     "name": "stderr",
     "output_type": "stream",
     "text": [
      "TPR mean: 40.1%  std: 24.6%\n",
      "FDR mean: 95.2%  std: 3.2%\n",
      "Epoch:      0, d_loss (Acc)): 0.683, v_loss (Acc): 0.602, g_loss: -5.5601\n"
     ]
    },
    {
     "name": "stdout",
     "output_type": "stream",
     "text": [
      "[[0.54392418 0.54424192]\n",
      " [0.55555416 0.56239022]\n",
      " [0.5345     0.5356    ]]\n",
      "now at training epoch number 700 hyp-params: lamda 0.1400 prior 0.4650\n",
      "rec time now 0 dataset now: Syn4\n"
     ]
    },
    {
     "name": "stderr",
     "output_type": "stream",
     "text": [
      "TPR mean: 56.5%  std: 25.9%\n",
      "FDR mean: 95.5%  std: 2.3%\n"
     ]
    },
    {
     "name": "stdout",
     "output_type": "stream",
     "text": [
      "[[0.54665845 0.550321  ]\n",
      " [0.55946942 0.56647256]\n",
      " [0.5333     0.5432    ]]\n",
      "rec time now 1 dataset now: Syn4\n"
     ]
    },
    {
     "name": "stderr",
     "output_type": "stream",
     "text": [
      "TPR mean: 46.6%  std: 25.4%\n",
      "FDR mean: 95.2%  std: 2.9%\n"
     ]
    },
    {
     "name": "stdout",
     "output_type": "stream",
     "text": [
      "[[0.54665845 0.55204147]\n",
      " [0.55946942 0.56480045]\n",
      " [0.5333     0.5396    ]]\n",
      "rec time now 2 dataset now: Syn4\n"
     ]
    },
    {
     "name": "stderr",
     "output_type": "stream",
     "text": [
      "TPR mean: 42.9%  std: 25.0%\n",
      "FDR mean: 95.0%  std: 3.2%\n"
     ]
    },
    {
     "name": "stdout",
     "output_type": "stream",
     "text": [
      "[[0.54665845 0.55039817]\n",
      " [0.55946942 0.56332269]\n",
      " [0.5333     0.5417    ]]\n",
      "rec time now 3 dataset now: Syn4\n"
     ]
    },
    {
     "name": "stderr",
     "output_type": "stream",
     "text": [
      "TPR mean: 41.2%  std: 24.7%\n",
      "FDR mean: 94.9%  std: 3.4%\n",
      "Epoch:      0, d_loss (Acc)): 0.670, v_loss (Acc): 0.571, g_loss: -6.7902\n"
     ]
    },
    {
     "name": "stdout",
     "output_type": "stream",
     "text": [
      "[[0.54665845 0.54857605]\n",
      " [0.55946942 0.5624969 ]\n",
      " [0.5333     0.5386    ]]\n",
      "now at training epoch number 800 hyp-params: lamda 0.1600 prior 0.4600\n",
      "rec time now 0 dataset now: Syn4\n"
     ]
    },
    {
     "name": "stderr",
     "output_type": "stream",
     "text": [
      "TPR mean: 56.1%  std: 25.9%\n",
      "FDR mean: 95.5%  std: 2.4%\n"
     ]
    },
    {
     "name": "stdout",
     "output_type": "stream",
     "text": [
      "[[0.54804694 0.55863747]\n",
      " [0.56138757 0.56949239]\n",
      " [0.539      0.5491    ]]\n",
      "rec time now 1 dataset now: Syn4\n"
     ]
    },
    {
     "name": "stderr",
     "output_type": "stream",
     "text": [
      "TPR mean: 46.1%  std: 25.4%\n",
      "FDR mean: 95.1%  std: 3.0%\n"
     ]
    },
    {
     "name": "stdout",
     "output_type": "stream",
     "text": [
      "[[0.54804694 0.55945255]\n",
      " [0.56138757 0.56783712]\n",
      " [0.539      0.5535    ]]\n",
      "rec time now 2 dataset now: Syn4\n"
     ]
    },
    {
     "name": "stderr",
     "output_type": "stream",
     "text": [
      "TPR mean: 42.3%  std: 24.9%\n",
      "FDR mean: 94.9%  std: 3.4%\n"
     ]
    },
    {
     "name": "stdout",
     "output_type": "stream",
     "text": [
      "[[0.54804694 0.55824703]\n",
      " [0.56138757 0.56658071]\n",
      " [0.539      0.5488    ]]\n",
      "rec time now 3 dataset now: Syn4\n"
     ]
    },
    {
     "name": "stderr",
     "output_type": "stream",
     "text": [
      "TPR mean: 40.8%  std: 24.7%\n",
      "FDR mean: 94.8%  std: 3.5%\n",
      "Epoch:      0, d_loss (Acc)): 0.672, v_loss (Acc): 0.536, g_loss: -9.2734\n"
     ]
    },
    {
     "name": "stdout",
     "output_type": "stream",
     "text": [
      "[[0.54804694 0.55714438]\n",
      " [0.56138757 0.5663698 ]\n",
      " [0.539      0.5498    ]]\n",
      "now at training epoch number 900 hyp-params: lamda 0.1800 prior 0.4550\n",
      "rec time now 0 dataset now: Syn4\n"
     ]
    },
    {
     "name": "stderr",
     "output_type": "stream",
     "text": [
      "TPR mean: 57.6%  std: 25.9%\n",
      "FDR mean: 95.3%  std: 2.5%\n"
     ]
    },
    {
     "name": "stdout",
     "output_type": "stream",
     "text": [
      "[[0.54970649 0.56201193]\n",
      " [0.56261508 0.57795605]\n",
      " [0.5438     0.5493    ]]\n",
      "rec time now 1 dataset now: Syn4\n"
     ]
    },
    {
     "name": "stderr",
     "output_type": "stream",
     "text": [
      "TPR mean: 47.8%  std: 25.7%\n",
      "FDR mean: 94.9%  std: 3.2%\n"
     ]
    },
    {
     "name": "stdout",
     "output_type": "stream",
     "text": [
      "[[0.54970649 0.56572412]\n",
      " [0.56261508 0.57854771]\n",
      " [0.5438     0.5526    ]]\n",
      "rec time now 2 dataset now: Syn4\n"
     ]
    },
    {
     "name": "stderr",
     "output_type": "stream",
     "text": [
      "TPR mean: 44.0%  std: 25.2%\n",
      "FDR mean: 94.6%  std: 3.6%\n"
     ]
    },
    {
     "name": "stdout",
     "output_type": "stream",
     "text": [
      "[[0.54970649 0.56312119]\n",
      " [0.56261508 0.57571557]\n",
      " [0.5438     0.5538    ]]\n",
      "rec time now 3 dataset now: Syn4\n"
     ]
    },
    {
     "name": "stderr",
     "output_type": "stream",
     "text": [
      "TPR mean: 42.4%  std: 25.0%\n",
      "FDR mean: 94.5%  std: 3.8%\n",
      "Epoch:      0, d_loss (Acc)): 0.660, v_loss (Acc): 0.519, g_loss: -9.6533\n"
     ]
    },
    {
     "name": "stdout",
     "output_type": "stream",
     "text": [
      "[[0.54970649 0.56205622]\n",
      " [0.56261508 0.57569959]\n",
      " [0.5438     0.5549    ]]\n",
      "now at training epoch number 1000 hyp-params: lamda 0.2000 prior 0.4500\n",
      "rec time now 0 dataset now: Syn4\n"
     ]
    },
    {
     "name": "stderr",
     "output_type": "stream",
     "text": [
      "TPR mean: 58.4%  std: 26.1%\n",
      "FDR mean: 95.2%  std: 2.6%\n"
     ]
    },
    {
     "name": "stdout",
     "output_type": "stream",
     "text": [
      "[[0.54953682 0.57199887]\n",
      " [0.56450394 0.58133194]\n",
      " [0.5385     0.5585    ]]\n",
      "rec time now 1 dataset now: Syn4\n"
     ]
    },
    {
     "name": "stderr",
     "output_type": "stream",
     "text": [
      "TPR mean: 48.9%  std: 26.0%\n",
      "FDR mean: 94.6%  std: 3.4%\n"
     ]
    },
    {
     "name": "stdout",
     "output_type": "stream",
     "text": [
      "[[0.54953682 0.57529829]\n",
      " [0.56450394 0.58411798]\n",
      " [0.5385     0.5603    ]]\n",
      "rec time now 2 dataset now: Syn4\n"
     ]
    },
    {
     "name": "stderr",
     "output_type": "stream",
     "text": [
      "TPR mean: 45.1%  std: 25.6%\n",
      "FDR mean: 94.3%  std: 3.8%\n"
     ]
    },
    {
     "name": "stdout",
     "output_type": "stream",
     "text": [
      "[[0.54953682 0.57105881]\n",
      " [0.56450394 0.57978853]\n",
      " [0.5385     0.5599    ]]\n",
      "rec time now 3 dataset now: Syn4\n"
     ]
    },
    {
     "name": "stderr",
     "output_type": "stream",
     "text": [
      "TPR mean: 43.6%  std: 25.5%\n",
      "FDR mean: 94.1%  std: 4.0%\n",
      "Epoch:      0, d_loss (Acc)): 0.670, v_loss (Acc): 0.487, g_loss: -12.5685\n"
     ]
    },
    {
     "name": "stdout",
     "output_type": "stream",
     "text": [
      "[[0.54953682 0.56913463]\n",
      " [0.56450394 0.57953291]\n",
      " [0.5385     0.5586    ]]\n",
      "now at training epoch number 1100 hyp-params: lamda 0.2200 prior 0.4450\n",
      "rec time now 0 dataset now: Syn4\n"
     ]
    },
    {
     "name": "stderr",
     "output_type": "stream",
     "text": [
      "TPR mean: 60.0%  std: 26.0%\n",
      "FDR mean: 95.0%  std: 2.7%\n"
     ]
    },
    {
     "name": "stdout",
     "output_type": "stream",
     "text": [
      "[[0.55715182 0.57373045]\n",
      " [0.56818111 0.579349  ]\n",
      " [0.543      0.5613    ]]\n",
      "rec time now 1 dataset now: Syn4\n"
     ]
    },
    {
     "name": "stderr",
     "output_type": "stream",
     "text": [
      "TPR mean: 50.8%  std: 26.1%\n",
      "FDR mean: 94.3%  std: 3.5%\n"
     ]
    },
    {
     "name": "stdout",
     "output_type": "stream",
     "text": [
      "[[0.55715182 0.57411878]\n",
      " [0.56818111 0.5763911 ]\n",
      " [0.543      0.5627    ]]\n",
      "rec time now 2 dataset now: Syn4\n"
     ]
    },
    {
     "name": "stderr",
     "output_type": "stream",
     "text": [
      "TPR mean: 47.4%  std: 25.8%\n",
      "FDR mean: 93.9%  std: 4.0%\n"
     ]
    },
    {
     "name": "stdout",
     "output_type": "stream",
     "text": [
      "[[0.55715182 0.57389659]\n",
      " [0.56818111 0.57535757]\n",
      " [0.543      0.5632    ]]\n",
      "rec time now 3 dataset now: Syn4\n"
     ]
    },
    {
     "name": "stderr",
     "output_type": "stream",
     "text": [
      "TPR mean: 45.8%  std: 25.7%\n",
      "FDR mean: 93.7%  std: 4.3%\n",
      "Epoch:      0, d_loss (Acc)): 0.662, v_loss (Acc): 0.448, g_loss: -14.6906\n"
     ]
    },
    {
     "name": "stdout",
     "output_type": "stream",
     "text": [
      "[[0.55715182 0.57310731]\n",
      " [0.56818111 0.57580314]\n",
      " [0.543      0.5638    ]]\n",
      "now at training epoch number 1200 hyp-params: lamda 0.2400 prior 0.4400\n",
      "rec time now 0 dataset now: Syn4\n"
     ]
    },
    {
     "name": "stderr",
     "output_type": "stream",
     "text": [
      "TPR mean: 60.9%  std: 26.5%\n",
      "FDR mean: 94.9%  std: 2.8%\n"
     ]
    },
    {
     "name": "stdout",
     "output_type": "stream",
     "text": [
      "[[0.55782027 0.58332025]\n",
      " [0.57132908 0.59053512]\n",
      " [0.5451     0.5626    ]]\n",
      "rec time now 1 dataset now: Syn4\n"
     ]
    },
    {
     "name": "stderr",
     "output_type": "stream",
     "text": [
      "TPR mean: 51.9%  std: 26.7%\n",
      "FDR mean: 94.1%  std: 3.7%\n"
     ]
    },
    {
     "name": "stdout",
     "output_type": "stream",
     "text": [
      "[[0.55782027 0.58404325]\n",
      " [0.57132908 0.58805626]\n",
      " [0.5451     0.5666    ]]\n",
      "rec time now 2 dataset now: Syn4\n"
     ]
    },
    {
     "name": "stderr",
     "output_type": "stream",
     "text": [
      "TPR mean: 48.3%  std: 26.5%\n",
      "FDR mean: 93.7%  std: 4.2%\n"
     ]
    },
    {
     "name": "stdout",
     "output_type": "stream",
     "text": [
      "[[0.55782027 0.58124922]\n",
      " [0.57132908 0.587263  ]\n",
      " [0.5451     0.5646    ]]\n",
      "rec time now 3 dataset now: Syn4\n"
     ]
    },
    {
     "name": "stderr",
     "output_type": "stream",
     "text": [
      "TPR mean: 46.8%  std: 26.5%\n",
      "FDR mean: 93.4%  std: 4.6%\n",
      "Epoch:      0, d_loss (Acc)): 0.666, v_loss (Acc): 0.446, g_loss: -15.1092\n"
     ]
    },
    {
     "name": "stdout",
     "output_type": "stream",
     "text": [
      "[[0.55782027 0.58226518]\n",
      " [0.57132908 0.5882647 ]\n",
      " [0.5451     0.5653    ]]\n",
      "now at training epoch number 1300 hyp-params: lamda 0.2600 prior 0.4350\n",
      "rec time now 0 dataset now: Syn4\n"
     ]
    },
    {
     "name": "stderr",
     "output_type": "stream",
     "text": [
      "TPR mean: 61.6%  std: 26.7%\n",
      "FDR mean: 94.7%  std: 2.9%\n"
     ]
    },
    {
     "name": "stdout",
     "output_type": "stream",
     "text": [
      "[[0.55495533 0.5914633 ]\n",
      " [0.56781957 0.59453968]\n",
      " [0.5443     0.5694    ]]\n",
      "rec time now 1 dataset now: Syn4\n"
     ]
    },
    {
     "name": "stderr",
     "output_type": "stream",
     "text": [
      "TPR mean: 52.7%  std: 27.3%\n",
      "FDR mean: 93.9%  std: 3.9%\n"
     ]
    },
    {
     "name": "stdout",
     "output_type": "stream",
     "text": [
      "[[0.55495533 0.58875885]\n",
      " [0.56781957 0.58949655]\n",
      " [0.5443     0.5746    ]]\n",
      "rec time now 2 dataset now: Syn4\n"
     ]
    },
    {
     "name": "stderr",
     "output_type": "stream",
     "text": [
      "TPR mean: 49.3%  std: 27.3%\n",
      "FDR mean: 93.4%  std: 4.5%\n"
     ]
    },
    {
     "name": "stdout",
     "output_type": "stream",
     "text": [
      "[[0.55495533 0.58474882]\n",
      " [0.56781957 0.58609444]\n",
      " [0.5443     0.5692    ]]\n",
      "rec time now 3 dataset now: Syn4\n"
     ]
    },
    {
     "name": "stderr",
     "output_type": "stream",
     "text": [
      "TPR mean: 47.8%  std: 27.3%\n",
      "FDR mean: 93.1%  std: 4.8%\n",
      "Epoch:      0, d_loss (Acc)): 0.647, v_loss (Acc): 0.382, g_loss: -18.1089\n"
     ]
    },
    {
     "name": "stdout",
     "output_type": "stream",
     "text": [
      "[[0.55495533 0.58339487]\n",
      " [0.56781957 0.58529561]\n",
      " [0.5443     0.5719    ]]\n",
      "now at training epoch number 1400 hyp-params: lamda 0.2800 prior 0.4300\n",
      "rec time now 0 dataset now: Syn4\n"
     ]
    },
    {
     "name": "stderr",
     "output_type": "stream",
     "text": [
      "TPR mean: 62.5%  std: 27.0%\n",
      "FDR mean: 94.6%  std: 3.0%\n"
     ]
    },
    {
     "name": "stdout",
     "output_type": "stream",
     "text": [
      "[[0.55662393 0.60195046]\n",
      " [0.56923267 0.60592091]\n",
      " [0.5438     0.5776    ]]\n",
      "rec time now 1 dataset now: Syn4\n"
     ]
    },
    {
     "name": "stderr",
     "output_type": "stream",
     "text": [
      "TPR mean: 53.8%  std: 27.6%\n",
      "FDR mean: 93.6%  std: 4.1%\n"
     ]
    },
    {
     "name": "stdout",
     "output_type": "stream",
     "text": [
      "[[0.55662393 0.59654128]\n",
      " [0.56923267 0.5965333 ]\n",
      " [0.5438     0.5751    ]]\n",
      "rec time now 2 dataset now: Syn4\n"
     ]
    },
    {
     "name": "stderr",
     "output_type": "stream",
     "text": [
      "TPR mean: 50.5%  std: 27.7%\n",
      "FDR mean: 93.0%  std: 4.7%\n"
     ]
    },
    {
     "name": "stdout",
     "output_type": "stream",
     "text": [
      "[[0.55662393 0.59366367]\n",
      " [0.56923267 0.59221196]\n",
      " [0.5438     0.5771    ]]\n",
      "rec time now 3 dataset now: Syn4\n"
     ]
    },
    {
     "name": "stderr",
     "output_type": "stream",
     "text": [
      "TPR mean: 49.0%  std: 27.6%\n",
      "FDR mean: 92.7%  std: 5.1%\n",
      "Epoch:      0, d_loss (Acc)): 0.653, v_loss (Acc): 0.375, g_loss: -18.9728\n"
     ]
    },
    {
     "name": "stdout",
     "output_type": "stream",
     "text": [
      "[[0.55662393 0.59219153]\n",
      " [0.56923267 0.58897925]\n",
      " [0.5438     0.5771    ]]\n",
      "now at training epoch number 1500 hyp-params: lamda 0.3000 prior 0.4250\n",
      "rec time now 0 dataset now: Syn4\n"
     ]
    },
    {
     "name": "stderr",
     "output_type": "stream",
     "text": [
      "TPR mean: 63.8%  std: 26.9%\n",
      "FDR mean: 94.4%  std: 3.1%\n"
     ]
    },
    {
     "name": "stdout",
     "output_type": "stream",
     "text": [
      "[[0.55774392 0.60741749]\n",
      " [0.57025197 0.60352456]\n",
      " [0.5466     0.5849    ]]\n",
      "rec time now 1 dataset now: Syn4\n"
     ]
    },
    {
     "name": "stderr",
     "output_type": "stream",
     "text": [
      "TPR mean: 55.6%  std: 27.7%\n",
      "FDR mean: 93.2%  std: 4.3%\n"
     ]
    },
    {
     "name": "stdout",
     "output_type": "stream",
     "text": [
      "[[0.55774392 0.60752415]\n",
      " [0.57025197 0.59968087]\n",
      " [0.5466     0.5871    ]]\n",
      "rec time now 2 dataset now: Syn4\n"
     ]
    },
    {
     "name": "stderr",
     "output_type": "stream",
     "text": [
      "TPR mean: 52.4%  std: 27.8%\n",
      "FDR mean: 92.5%  std: 5.0%\n"
     ]
    },
    {
     "name": "stdout",
     "output_type": "stream",
     "text": [
      "[[0.55774392 0.59813711]\n",
      " [0.57025197 0.59147621]\n",
      " [0.5466     0.5825    ]]\n",
      "rec time now 3 dataset now: Syn4\n"
     ]
    },
    {
     "name": "stderr",
     "output_type": "stream",
     "text": [
      "TPR mean: 51.0%  std: 27.7%\n",
      "FDR mean: 92.1%  std: 5.5%\n",
      "Epoch:      0, d_loss (Acc)): 0.651, v_loss (Acc): 0.354, g_loss: -20.3540\n"
     ]
    },
    {
     "name": "stdout",
     "output_type": "stream",
     "text": [
      "[[0.55774392 0.59787243]\n",
      " [0.57025197 0.59025546]\n",
      " [0.5466     0.5789    ]]\n",
      "now at training epoch number 1600 hyp-params: lamda 0.3200 prior 0.4200\n",
      "rec time now 0 dataset now: Syn4\n"
     ]
    },
    {
     "name": "stderr",
     "output_type": "stream",
     "text": [
      "TPR mean: 64.4%  std: 27.4%\n",
      "FDR mean: 94.2%  std: 3.2%\n"
     ]
    },
    {
     "name": "stdout",
     "output_type": "stream",
     "text": [
      "[[0.55875196 0.61369374]\n",
      " [0.57195962 0.61244893]\n",
      " [0.5464     0.5888    ]]\n",
      "rec time now 1 dataset now: Syn4\n"
     ]
    },
    {
     "name": "stderr",
     "output_type": "stream",
     "text": [
      "TPR mean: 56.3%  std: 28.3%\n",
      "FDR mean: 92.9%  std: 4.6%\n"
     ]
    },
    {
     "name": "stdout",
     "output_type": "stream",
     "text": [
      "[[0.55875196 0.6135761 ]\n",
      " [0.57195962 0.60503752]\n",
      " [0.5464     0.5925    ]]\n",
      "rec time now 2 dataset now: Syn4\n"
     ]
    },
    {
     "name": "stderr",
     "output_type": "stream",
     "text": [
      "TPR mean: 53.3%  std: 28.3%\n",
      "FDR mean: 92.1%  std: 5.4%\n"
     ]
    },
    {
     "name": "stdout",
     "output_type": "stream",
     "text": [
      "[[0.55875196 0.60604006]\n",
      " [0.57195962 0.59887287]\n",
      " [0.5464     0.5881    ]]\n",
      "rec time now 3 dataset now: Syn4\n"
     ]
    },
    {
     "name": "stderr",
     "output_type": "stream",
     "text": [
      "TPR mean: 51.9%  std: 28.4%\n",
      "FDR mean: 91.6%  std: 5.9%\n",
      "Epoch:      0, d_loss (Acc)): 0.660, v_loss (Acc): 0.326, g_loss: -22.7779\n"
     ]
    },
    {
     "name": "stdout",
     "output_type": "stream",
     "text": [
      "[[0.55875196 0.60087516]\n",
      " [0.57195962 0.59497739]\n",
      " [0.5464     0.5855    ]]\n",
      "now at training epoch number 1700 hyp-params: lamda 0.3400 prior 0.4150\n",
      "rec time now 0 dataset now: Syn4\n"
     ]
    },
    {
     "name": "stderr",
     "output_type": "stream",
     "text": [
      "TPR mean: 65.9%  std: 27.2%\n",
      "FDR mean: 93.9%  std: 3.3%\n"
     ]
    },
    {
     "name": "stdout",
     "output_type": "stream",
     "text": [
      "[[0.55637365 0.60745516]\n",
      " [0.57051367 0.60269115]\n",
      " [0.5434     0.587     ]]\n",
      "rec time now 1 dataset now: Syn4\n"
     ]
    },
    {
     "name": "stderr",
     "output_type": "stream",
     "text": [
      "TPR mean: 58.1%  std: 28.5%\n",
      "FDR mean: 92.4%  std: 4.8%\n"
     ]
    },
    {
     "name": "stdout",
     "output_type": "stream",
     "text": [
      "[[0.55637365 0.60791077]\n",
      " [0.57051367 0.59557434]\n",
      " [0.5434     0.5887    ]]\n",
      "rec time now 2 dataset now: Syn4\n"
     ]
    },
    {
     "name": "stderr",
     "output_type": "stream",
     "text": [
      "TPR mean: 55.2%  std: 28.7%\n",
      "FDR mean: 91.4%  std: 5.8%\n"
     ]
    },
    {
     "name": "stdout",
     "output_type": "stream",
     "text": [
      "[[0.55637365 0.6022398 ]\n",
      " [0.57051367 0.5888634 ]\n",
      " [0.5434     0.5931    ]]\n",
      "rec time now 3 dataset now: Syn4\n"
     ]
    },
    {
     "name": "stderr",
     "output_type": "stream",
     "text": [
      "TPR mean: 53.8%  std: 28.7%\n",
      "FDR mean: 90.9%  std: 6.4%\n",
      "Epoch:      0, d_loss (Acc)): 0.643, v_loss (Acc): 0.290, g_loss: -24.1343\n"
     ]
    },
    {
     "name": "stdout",
     "output_type": "stream",
     "text": [
      "[[0.55637365 0.60209186]\n",
      " [0.57051367 0.58799297]\n",
      " [0.5434     0.5874    ]]\n",
      "now at training epoch number 1800 hyp-params: lamda 0.3600 prior 0.4100\n",
      "rec time now 0 dataset now: Syn4\n"
     ]
    },
    {
     "name": "stderr",
     "output_type": "stream",
     "text": [
      "TPR mean: 66.5%  std: 27.6%\n",
      "FDR mean: 93.8%  std: 3.5%\n"
     ]
    },
    {
     "name": "stdout",
     "output_type": "stream",
     "text": [
      "[[0.55985184 0.61866461]\n",
      " [0.57271977 0.61875475]\n",
      " [0.5495     0.5892    ]]\n",
      "rec time now 1 dataset now: Syn4\n"
     ]
    },
    {
     "name": "stderr",
     "output_type": "stream",
     "text": [
      "TPR mean: 58.8%  std: 29.1%\n",
      "FDR mean: 92.1%  std: 5.2%\n"
     ]
    },
    {
     "name": "stdout",
     "output_type": "stream",
     "text": [
      "[[0.55985184 0.62059172]\n",
      " [0.57271977 0.61405377]\n",
      " [0.5495     0.5939    ]]\n",
      "rec time now 2 dataset now: Syn4\n"
     ]
    },
    {
     "name": "stderr",
     "output_type": "stream",
     "text": [
      "TPR mean: 56.0%  std: 29.4%\n",
      "FDR mean: 91.0%  std: 6.2%\n"
     ]
    },
    {
     "name": "stdout",
     "output_type": "stream",
     "text": [
      "[[0.55985184 0.61698789]\n",
      " [0.57271977 0.61040908]\n",
      " [0.5495     0.5941    ]]\n",
      "rec time now 3 dataset now: Syn4\n"
     ]
    },
    {
     "name": "stderr",
     "output_type": "stream",
     "text": [
      "TPR mean: 54.7%  std: 29.7%\n",
      "FDR mean: 90.3%  std: 6.9%\n",
      "Epoch:      0, d_loss (Acc)): 0.639, v_loss (Acc): 0.278, g_loss: -24.6845\n"
     ]
    },
    {
     "name": "stdout",
     "output_type": "stream",
     "text": [
      "[[0.55985184 0.6133111 ]\n",
      " [0.57271977 0.60821083]\n",
      " [0.5495     0.5913    ]]\n",
      "now at training epoch number 1900 hyp-params: lamda 0.3800 prior 0.4050\n",
      "rec time now 0 dataset now: Syn4\n"
     ]
    },
    {
     "name": "stderr",
     "output_type": "stream",
     "text": [
      "TPR mean: 67.7%  std: 27.8%\n",
      "FDR mean: 93.5%  std: 3.6%\n"
     ]
    },
    {
     "name": "stdout",
     "output_type": "stream",
     "text": [
      "[[0.56043206 0.62493232]\n",
      " [0.57368212 0.62406565]\n",
      " [0.547      0.5967    ]]\n",
      "rec time now 1 dataset now: Syn4\n"
     ]
    },
    {
     "name": "stderr",
     "output_type": "stream",
     "text": [
      "TPR mean: 60.1%  std: 29.6%\n",
      "FDR mean: 91.6%  std: 5.4%\n"
     ]
    },
    {
     "name": "stdout",
     "output_type": "stream",
     "text": [
      "[[0.56043206 0.6233559 ]\n",
      " [0.57368212 0.61731641]\n",
      " [0.547      0.5987    ]]\n",
      "rec time now 2 dataset now: Syn4\n"
     ]
    },
    {
     "name": "stderr",
     "output_type": "stream",
     "text": [
      "TPR mean: 57.3%  std: 30.1%\n",
      "FDR mean: 90.4%  std: 6.6%\n"
     ]
    },
    {
     "name": "stdout",
     "output_type": "stream",
     "text": [
      "[[0.56043206 0.6140677 ]\n",
      " [0.57368212 0.60754389]\n",
      " [0.547      0.5935    ]]\n",
      "rec time now 3 dataset now: Syn4\n"
     ]
    },
    {
     "name": "stderr",
     "output_type": "stream",
     "text": [
      "TPR mean: 56.0%  std: 30.3%\n",
      "FDR mean: 89.7%  std: 7.3%\n",
      "Epoch:      0, d_loss (Acc)): 0.635, v_loss (Acc): 0.243, g_loss: -26.7951\n"
     ]
    },
    {
     "name": "stdout",
     "output_type": "stream",
     "text": [
      "[[0.56043206 0.61338099]\n",
      " [0.57368212 0.60372233]\n",
      " [0.547      0.5912    ]]\n",
      "now at training epoch number 2000 hyp-params: lamda 0.4000 prior 0.4000\n",
      "rec time now 0 dataset now: Syn4\n"
     ]
    },
    {
     "name": "stderr",
     "output_type": "stream",
     "text": [
      "TPR mean: 68.7%  std: 27.8%\n",
      "FDR mean: 93.3%  std: 3.7%\n"
     ]
    },
    {
     "name": "stdout",
     "output_type": "stream",
     "text": [
      "[[0.56056836 0.63364817]\n",
      " [0.57380561 0.62771195]\n",
      " [0.5502     0.6016    ]]\n",
      "rec time now 1 dataset now: Syn4\n"
     ]
    },
    {
     "name": "stderr",
     "output_type": "stream",
     "text": [
      "TPR mean: 61.1%  std: 29.9%\n",
      "FDR mean: 91.1%  std: 5.8%\n"
     ]
    },
    {
     "name": "stdout",
     "output_type": "stream",
     "text": [
      "[[0.56056836 0.62791013]\n",
      " [0.57380561 0.61567337]\n",
      " [0.5502     0.6015    ]]\n",
      "rec time now 2 dataset now: Syn4\n"
     ]
    },
    {
     "name": "stderr",
     "output_type": "stream",
     "text": [
      "TPR mean: 58.2%  std: 30.6%\n",
      "FDR mean: 89.8%  std: 7.1%\n"
     ]
    },
    {
     "name": "stdout",
     "output_type": "stream",
     "text": [
      "[[0.56056836 0.62487799]\n",
      " [0.57380561 0.61127122]\n",
      " [0.5502     0.6047    ]]\n",
      "rec time now 3 dataset now: Syn4\n"
     ]
    },
    {
     "name": "stderr",
     "output_type": "stream",
     "text": [
      "TPR mean: 56.8%  std: 31.0%\n",
      "FDR mean: 89.0%  std: 7.9%\n",
      "Epoch:      0, d_loss (Acc)): 0.626, v_loss (Acc): 0.234, g_loss: -26.7693\n"
     ]
    },
    {
     "name": "stdout",
     "output_type": "stream",
     "text": [
      "[[0.56056836 0.61868272]\n",
      " [0.57380561 0.60473322]\n",
      " [0.5502     0.6011    ]]\n",
      "now at training epoch number 2100 hyp-params: lamda 0.4200 prior 0.3950\n",
      "rec time now 0 dataset now: Syn4\n"
     ]
    },
    {
     "name": "stderr",
     "output_type": "stream",
     "text": [
      "TPR mean: 69.3%  std: 27.8%\n",
      "FDR mean: 93.0%  std: 3.9%\n"
     ]
    },
    {
     "name": "stdout",
     "output_type": "stream",
     "text": [
      "[[0.55743634 0.631955  ]\n",
      " [0.57188136 0.624077  ]\n",
      " [0.5463     0.6013    ]]\n",
      "rec time now 1 dataset now: Syn4\n"
     ]
    },
    {
     "name": "stderr",
     "output_type": "stream",
     "text": [
      "TPR mean: 61.9%  std: 30.2%\n",
      "FDR mean: 90.5%  std: 6.3%\n"
     ]
    },
    {
     "name": "stdout",
     "output_type": "stream",
     "text": [
      "[[0.55743634 0.62456249]\n",
      " [0.57188136 0.60714923]\n",
      " [0.5463     0.6062    ]]\n",
      "rec time now 2 dataset now: Syn4\n"
     ]
    },
    {
     "name": "stderr",
     "output_type": "stream",
     "text": [
      "TPR mean: 59.1%  std: 30.9%\n",
      "FDR mean: 88.9%  std: 7.8%\n"
     ]
    },
    {
     "name": "stdout",
     "output_type": "stream",
     "text": [
      "[[0.55743634 0.61818737]\n",
      " [0.57188136 0.59839131]\n",
      " [0.5463     0.6006    ]]\n",
      "rec time now 3 dataset now: Syn4\n"
     ]
    },
    {
     "name": "stderr",
     "output_type": "stream",
     "text": [
      "TPR mean: 57.8%  std: 31.4%\n",
      "FDR mean: 88.0%  std: 8.7%\n",
      "Epoch:      0, d_loss (Acc)): 0.626, v_loss (Acc): 0.210, g_loss: -28.3601\n"
     ]
    },
    {
     "name": "stdout",
     "output_type": "stream",
     "text": [
      "[[0.55743634 0.61280466]\n",
      " [0.57188136 0.59475996]\n",
      " [0.5463     0.5964    ]]\n",
      "now at training epoch number 2200 hyp-params: lamda 0.4400 prior 0.3900\n",
      "rec time now 0 dataset now: Syn4\n"
     ]
    },
    {
     "name": "stderr",
     "output_type": "stream",
     "text": [
      "TPR mean: 69.1%  std: 28.6%\n",
      "FDR mean: 92.7%  std: 4.2%\n"
     ]
    },
    {
     "name": "stdout",
     "output_type": "stream",
     "text": [
      "[[0.55777893 0.63028143]\n",
      " [0.5714721  0.62060965]\n",
      " [0.5418     0.6041    ]]\n",
      "rec time now 1 dataset now: Syn4\n"
     ]
    },
    {
     "name": "stderr",
     "output_type": "stream",
     "text": [
      "TPR mean: 61.9%  std: 31.4%\n",
      "FDR mean: 89.9%  std: 6.9%\n"
     ]
    },
    {
     "name": "stdout",
     "output_type": "stream",
     "text": [
      "[[0.55777893 0.62272607]\n",
      " [0.5714721  0.60141385]\n",
      " [0.5418     0.6051    ]]\n",
      "rec time now 2 dataset now: Syn4\n"
     ]
    },
    {
     "name": "stderr",
     "output_type": "stream",
     "text": [
      "TPR mean: 59.2%  std: 32.4%\n",
      "FDR mean: 88.1%  std: 8.6%\n"
     ]
    },
    {
     "name": "stdout",
     "output_type": "stream",
     "text": [
      "[[0.55777893 0.61815567]\n",
      " [0.5714721  0.59594012]\n",
      " [0.5418     0.6059    ]]\n",
      "rec time now 3 dataset now: Syn4\n"
     ]
    },
    {
     "name": "stderr",
     "output_type": "stream",
     "text": [
      "TPR mean: 57.9%  std: 32.9%\n",
      "FDR mean: 87.1%  std: 9.6%\n",
      "Epoch:      0, d_loss (Acc)): 0.634, v_loss (Acc): 0.181, g_loss: -30.8769\n"
     ]
    },
    {
     "name": "stdout",
     "output_type": "stream",
     "text": [
      "[[0.55777893 0.61179003]\n",
      " [0.5714721  0.59099105]\n",
      " [0.5418     0.6015    ]]\n",
      "now at training epoch number 2300 hyp-params: lamda 0.4600 prior 0.3850\n",
      "rec time now 0 dataset now: Syn4\n"
     ]
    },
    {
     "name": "stderr",
     "output_type": "stream",
     "text": [
      "TPR mean: 69.1%  std: 29.2%\n",
      "FDR mean: 92.4%  std: 4.5%\n"
     ]
    },
    {
     "name": "stdout",
     "output_type": "stream",
     "text": [
      "[[0.558869   0.63141276]\n",
      " [0.57086371 0.62013342]\n",
      " [0.5481     0.6005    ]]\n",
      "rec time now 1 dataset now: Syn4\n"
     ]
    },
    {
     "name": "stderr",
     "output_type": "stream",
     "text": [
      "TPR mean: 62.0%  std: 32.2%\n",
      "FDR mean: 89.2%  std: 7.6%\n"
     ]
    },
    {
     "name": "stdout",
     "output_type": "stream",
     "text": [
      "[[0.558869   0.62277741]\n",
      " [0.57086371 0.60050698]\n",
      " [0.5481     0.6055    ]]\n",
      "rec time now 2 dataset now: Syn4\n"
     ]
    },
    {
     "name": "stderr",
     "output_type": "stream",
     "text": [
      "TPR mean: 59.4%  std: 33.3%\n",
      "FDR mean: 87.1%  std: 9.6%\n"
     ]
    },
    {
     "name": "stdout",
     "output_type": "stream",
     "text": [
      "[[0.558869   0.61747255]\n",
      " [0.57086371 0.59416883]\n",
      " [0.5481     0.6036    ]]\n",
      "rec time now 3 dataset now: Syn4\n"
     ]
    },
    {
     "name": "stderr",
     "output_type": "stream",
     "text": [
      "TPR mean: 58.1%  std: 33.9%\n",
      "FDR mean: 85.9%  std: 10.8%\n",
      "Epoch:      0, d_loss (Acc)): 0.625, v_loss (Acc): 0.156, g_loss: -32.0534\n"
     ]
    },
    {
     "name": "stdout",
     "output_type": "stream",
     "text": [
      "[[0.558869   0.6121636 ]\n",
      " [0.57086371 0.58674711]\n",
      " [0.5481     0.6015    ]]\n",
      "now at training epoch number 2400 hyp-params: lamda 0.4800 prior 0.3800\n",
      "rec time now 0 dataset now: Syn4\n"
     ]
    },
    {
     "name": "stderr",
     "output_type": "stream",
     "text": [
      "TPR mean: 69.8%  std: 29.6%\n",
      "FDR mean: 92.0%  std: 4.9%\n"
     ]
    },
    {
     "name": "stdout",
     "output_type": "stream",
     "text": [
      "[[0.55711632 0.63610174]\n",
      " [0.57166092 0.62515592]\n",
      " [0.5437     0.6041    ]]\n",
      "rec time now 1 dataset now: Syn4\n"
     ]
    },
    {
     "name": "stderr",
     "output_type": "stream",
     "text": [
      "TPR mean: 62.8%  std: 32.8%\n",
      "FDR mean: 88.1%  std: 8.5%\n"
     ]
    },
    {
     "name": "stdout",
     "output_type": "stream",
     "text": [
      "[[0.55711632 0.62374798]\n",
      " [0.57166092 0.60304788]\n",
      " [0.5437     0.6063    ]]\n",
      "rec time now 2 dataset now: Syn4\n"
     ]
    },
    {
     "name": "stderr",
     "output_type": "stream",
     "text": [
      "TPR mean: 60.1%  std: 34.1%\n",
      "FDR mean: 85.6%  std: 10.9%\n"
     ]
    },
    {
     "name": "stdout",
     "output_type": "stream",
     "text": [
      "[[0.55711632 0.61604288]\n",
      " [0.57166092 0.59306484]\n",
      " [0.5437     0.6018    ]]\n",
      "rec time now 3 dataset now: Syn4\n"
     ]
    },
    {
     "name": "stderr",
     "output_type": "stream",
     "text": [
      "TPR mean: 58.9%  std: 34.6%\n",
      "FDR mean: 84.3%  std: 12.2%\n",
      "Epoch:      0, d_loss (Acc)): 0.625, v_loss (Acc): 0.150, g_loss: -32.3188\n"
     ]
    },
    {
     "name": "stdout",
     "output_type": "stream",
     "text": [
      "[[0.55711632 0.61298385]\n",
      " [0.57166092 0.59093965]\n",
      " [0.5437     0.6       ]]\n",
      "now at training epoch number 2500 hyp-params: lamda 0.5000 prior 0.3750\n",
      "rec time now 0 dataset now: Syn4\n"
     ]
    },
    {
     "name": "stderr",
     "output_type": "stream",
     "text": [
      "TPR mean: 70.5%  std: 29.7%\n",
      "FDR mean: 91.4%  std: 5.3%\n"
     ]
    },
    {
     "name": "stdout",
     "output_type": "stream",
     "text": [
      "[[0.55729537 0.63761852]\n",
      " [0.57187883 0.62546618]\n",
      " [0.5398     0.6079    ]]\n",
      "rec time now 1 dataset now: Syn4\n"
     ]
    },
    {
     "name": "stderr",
     "output_type": "stream",
     "text": [
      "TPR mean: 63.7%  std: 33.1%\n",
      "FDR mean: 86.9%  std: 9.5%\n"
     ]
    },
    {
     "name": "stdout",
     "output_type": "stream",
     "text": [
      "[[0.55729537 0.61755304]\n",
      " [0.57187883 0.59304716]\n",
      " [0.5398     0.6053    ]]\n",
      "rec time now 2 dataset now: Syn4\n"
     ]
    },
    {
     "name": "stderr",
     "output_type": "stream",
     "text": [
      "TPR mean: 61.0%  std: 34.5%\n",
      "FDR mean: 83.9%  std: 12.3%\n"
     ]
    },
    {
     "name": "stdout",
     "output_type": "stream",
     "text": [
      "[[0.55729537 0.61109696]\n",
      " [0.57187883 0.5861692 ]\n",
      " [0.5398     0.6005    ]]\n",
      "rec time now 3 dataset now: Syn4\n"
     ]
    },
    {
     "name": "stderr",
     "output_type": "stream",
     "text": [
      "TPR mean: 59.6%  std: 35.3%\n",
      "FDR mean: 82.4%  std: 13.8%\n",
      "Epoch:      0, d_loss (Acc)): 0.613, v_loss (Acc): 0.142, g_loss: -32.0074\n"
     ]
    },
    {
     "name": "stdout",
     "output_type": "stream",
     "text": [
      "[[0.55729537 0.6069223 ]\n",
      " [0.57187883 0.58329539]\n",
      " [0.5398     0.5959    ]]\n",
      "now at training epoch number 2600 hyp-params: lamda 0.5200 prior 0.3700\n",
      "rec time now 0 dataset now: Syn4\n"
     ]
    },
    {
     "name": "stderr",
     "output_type": "stream",
     "text": [
      "TPR mean: 71.0%  std: 29.8%\n",
      "FDR mean: 90.9%  std: 5.7%\n"
     ]
    },
    {
     "name": "stdout",
     "output_type": "stream",
     "text": [
      "[[0.5586485  0.64097312]\n",
      " [0.57188447 0.62360251]\n",
      " [0.5441     0.6118    ]]\n",
      "rec time now 1 dataset now: Syn4\n"
     ]
    },
    {
     "name": "stderr",
     "output_type": "stream",
     "text": [
      "TPR mean: 64.4%  std: 33.3%\n",
      "FDR mean: 85.6%  std: 10.5%\n"
     ]
    },
    {
     "name": "stdout",
     "output_type": "stream",
     "text": [
      "[[0.5586485  0.62252047]\n",
      " [0.57188447 0.5973488 ]\n",
      " [0.5441     0.6087    ]]\n",
      "rec time now 2 dataset now: Syn4\n"
     ]
    },
    {
     "name": "stderr",
     "output_type": "stream",
     "text": [
      "TPR mean: 61.7%  std: 34.8%\n",
      "FDR mean: 82.2%  std: 13.6%\n"
     ]
    },
    {
     "name": "stdout",
     "output_type": "stream",
     "text": [
      "[[0.5586485  0.61071256]\n",
      " [0.57188447 0.58288486]\n",
      " [0.5441     0.6001    ]]\n",
      "rec time now 3 dataset now: Syn4\n"
     ]
    },
    {
     "name": "stderr",
     "output_type": "stream",
     "text": [
      "TPR mean: 60.5%  std: 35.5%\n",
      "FDR mean: 80.4%  std: 15.3%\n",
      "Epoch:      0, d_loss (Acc)): 0.627, v_loss (Acc): 0.115, g_loss: -34.7640\n"
     ]
    },
    {
     "name": "stdout",
     "output_type": "stream",
     "text": [
      "[[0.5586485  0.60720943]\n",
      " [0.57188447 0.58035634]\n",
      " [0.5441     0.5999    ]]\n",
      "now at training epoch number 2700 hyp-params: lamda 0.5400 prior 0.3650\n",
      "rec time now 0 dataset now: Syn4\n"
     ]
    },
    {
     "name": "stderr",
     "output_type": "stream",
     "text": [
      "TPR mean: 71.3%  std: 30.0%\n",
      "FDR mean: 90.3%  std: 6.2%\n"
     ]
    },
    {
     "name": "stdout",
     "output_type": "stream",
     "text": [
      "[[0.55768151 0.63149187]\n",
      " [0.57142569 0.60795563]\n",
      " [0.5445     0.6095    ]]\n",
      "rec time now 1 dataset now: Syn4\n"
     ]
    },
    {
     "name": "stderr",
     "output_type": "stream",
     "text": [
      "TPR mean: 64.8%  std: 33.7%\n",
      "FDR mean: 84.0%  std: 11.8%\n"
     ]
    },
    {
     "name": "stdout",
     "output_type": "stream",
     "text": [
      "[[0.55768151 0.60439054]\n",
      " [0.57142569 0.57634916]\n",
      " [0.5445     0.5912    ]]\n",
      "rec time now 2 dataset now: Syn4\n"
     ]
    },
    {
     "name": "stderr",
     "output_type": "stream",
     "text": [
      "TPR mean: 62.1%  std: 35.3%\n",
      "FDR mean: 80.1%  std: 15.3%\n"
     ]
    },
    {
     "name": "stdout",
     "output_type": "stream",
     "text": [
      "[[0.55768151 0.59418696]\n",
      " [0.57142569 0.56843976]\n",
      " [0.5445     0.5842    ]]\n",
      "rec time now 3 dataset now: Syn4\n"
     ]
    },
    {
     "name": "stderr",
     "output_type": "stream",
     "text": [
      "TPR mean: 61.0%  std: 36.0%\n",
      "FDR mean: 78.1%  std: 17.3%\n",
      "Epoch:      0, d_loss (Acc)): 0.622, v_loss (Acc): 0.106, g_loss: -34.9766\n"
     ]
    },
    {
     "name": "stdout",
     "output_type": "stream",
     "text": [
      "[[0.55768151 0.59148167]\n",
      " [0.57142569 0.56694658]\n",
      " [0.5445     0.5809    ]]\n",
      "now at training epoch number 2800 hyp-params: lamda 0.5600 prior 0.3600\n",
      "rec time now 0 dataset now: Syn4\n"
     ]
    },
    {
     "name": "stderr",
     "output_type": "stream",
     "text": [
      "TPR mean: 71.4%  std: 30.3%\n",
      "FDR mean: 89.5%  std: 6.9%\n"
     ]
    },
    {
     "name": "stdout",
     "output_type": "stream",
     "text": [
      "[[0.55901826 0.64016131]\n",
      " [0.57298159 0.61568675]\n",
      " [0.5452     0.615     ]]\n",
      "rec time now 1 dataset now: Syn4\n"
     ]
    },
    {
     "name": "stderr",
     "output_type": "stream",
     "text": [
      "TPR mean: 64.6%  std: 34.3%\n",
      "FDR mean: 82.0%  std: 13.7%\n"
     ]
    },
    {
     "name": "stdout",
     "output_type": "stream",
     "text": [
      "[[0.55901826 0.60540686]\n",
      " [0.57298159 0.57570813]\n",
      " [0.5452     0.597     ]]\n",
      "rec time now 2 dataset now: Syn4\n"
     ]
    },
    {
     "name": "stderr",
     "output_type": "stream",
     "text": [
      "TPR mean: 61.9%  std: 36.1%\n",
      "FDR mean: 77.3%  std: 18.0%\n"
     ]
    },
    {
     "name": "stdout",
     "output_type": "stream",
     "text": [
      "[[0.55901826 0.59524087]\n",
      " [0.57298159 0.56887307]\n",
      " [0.5452     0.5862    ]]\n",
      "rec time now 3 dataset now: Syn4\n"
     ]
    },
    {
     "name": "stderr",
     "output_type": "stream",
     "text": [
      "TPR mean: 60.7%  std: 36.8%\n",
      "FDR mean: 75.0%  std: 20.1%\n",
      "Epoch:      0, d_loss (Acc)): 0.615, v_loss (Acc): 0.098, g_loss: -35.0740\n"
     ]
    },
    {
     "name": "stdout",
     "output_type": "stream",
     "text": [
      "[[0.55901826 0.5910112 ]\n",
      " [0.57298159 0.56563131]\n",
      " [0.5452     0.5779    ]]\n",
      "now at training epoch number 2900 hyp-params: lamda 0.5800 prior 0.3550\n",
      "rec time now 0 dataset now: Syn4\n"
     ]
    },
    {
     "name": "stderr",
     "output_type": "stream",
     "text": [
      "TPR mean: 71.0%  std: 31.1%\n",
      "FDR mean: 88.8%  std: 7.6%\n"
     ]
    },
    {
     "name": "stdout",
     "output_type": "stream",
     "text": [
      "[[0.5576347  0.63443542]\n",
      " [0.57106937 0.60995842]\n",
      " [0.545      0.6107    ]]\n",
      "rec time now 1 dataset now: Syn4\n"
     ]
    },
    {
     "name": "stderr",
     "output_type": "stream",
     "text": [
      "TPR mean: 64.3%  std: 35.1%\n",
      "FDR mean: 80.3%  std: 15.3%\n"
     ]
    },
    {
     "name": "stdout",
     "output_type": "stream",
     "text": [
      "[[0.5576347  0.59964763]\n",
      " [0.57106937 0.57169362]\n",
      " [0.545      0.5916    ]]\n",
      "rec time now 2 dataset now: Syn4\n"
     ]
    },
    {
     "name": "stderr",
     "output_type": "stream",
     "text": [
      "TPR mean: 61.7%  std: 36.8%\n",
      "FDR mean: 75.2%  std: 19.7%\n"
     ]
    },
    {
     "name": "stdout",
     "output_type": "stream",
     "text": [
      "[[0.5576347  0.58930576]\n",
      " [0.57106937 0.5640698 ]\n",
      " [0.545      0.5742    ]]\n",
      "rec time now 3 dataset now: Syn4\n"
     ]
    },
    {
     "name": "stderr",
     "output_type": "stream",
     "text": [
      "TPR mean: 60.9%  std: 37.3%\n",
      "FDR mean: 72.9%  std: 21.6%\n",
      "Epoch:      0, d_loss (Acc)): 0.613, v_loss (Acc): 0.074, g_loss: -36.3883\n"
     ]
    },
    {
     "name": "stdout",
     "output_type": "stream",
     "text": [
      "[[0.5576347  0.58475323]\n",
      " [0.57106937 0.56091697]\n",
      " [0.545      0.5691    ]]\n",
      "now at training epoch number 3000 hyp-params: lamda 0.6000 prior 0.3500\n",
      "rec time now 0 dataset now: Syn4\n"
     ]
    },
    {
     "name": "stderr",
     "output_type": "stream",
     "text": [
      "TPR mean: 72.3%  std: 30.8%\n",
      "FDR mean: 87.6%  std: 8.5%\n"
     ]
    },
    {
     "name": "stdout",
     "output_type": "stream",
     "text": [
      "[[0.55827732 0.63415164]\n",
      " [0.57267432 0.60862368]\n",
      " [0.5424     0.6108    ]]\n",
      "rec time now 1 dataset now: Syn4\n"
     ]
    },
    {
     "name": "stderr",
     "output_type": "stream",
     "text": [
      "TPR mean: 65.6%  std: 34.7%\n",
      "FDR mean: 77.4%  std: 17.3%\n"
     ]
    },
    {
     "name": "stdout",
     "output_type": "stream",
     "text": [
      "[[0.55827732 0.5969413 ]\n",
      " [0.57267432 0.56625042]\n",
      " [0.5424     0.5895    ]]\n",
      "rec time now 2 dataset now: Syn4\n"
     ]
    },
    {
     "name": "stderr",
     "output_type": "stream",
     "text": [
      "TPR mean: 63.2%  std: 36.3%\n",
      "FDR mean: 71.6%  std: 22.0%\n"
     ]
    },
    {
     "name": "stdout",
     "output_type": "stream",
     "text": [
      "[[0.55827732 0.58622048]\n",
      " [0.57267432 0.55977466]\n",
      " [0.5424     0.5726    ]]\n",
      "rec time now 3 dataset now: Syn4\n"
     ]
    },
    {
     "name": "stderr",
     "output_type": "stream",
     "text": [
      "TPR mean: 62.4%  std: 36.7%\n",
      "FDR mean: 69.1%  std: 23.8%\n",
      "Epoch:      0, d_loss (Acc)): 0.598, v_loss (Acc): 0.075, g_loss: -35.2710\n"
     ]
    },
    {
     "name": "stdout",
     "output_type": "stream",
     "text": [
      "[[0.55827732 0.58293236]\n",
      " [0.57267432 0.55673932]\n",
      " [0.5424     0.5702    ]]\n",
      "now at training epoch number 3100 hyp-params: lamda 0.6200 prior 0.3450\n",
      "rec time now 0 dataset now: Syn4\n"
     ]
    },
    {
     "name": "stderr",
     "output_type": "stream",
     "text": [
      "TPR mean: 73.0%  std: 30.6%\n",
      "FDR mean: 86.4%  std: 9.4%\n"
     ]
    },
    {
     "name": "stdout",
     "output_type": "stream",
     "text": [
      "[[0.557136   0.63454135]\n",
      " [0.57001698 0.60658385]\n",
      " [0.5449     0.6143    ]]\n",
      "rec time now 1 dataset now: Syn4\n"
     ]
    },
    {
     "name": "stderr",
     "output_type": "stream",
     "text": [
      "TPR mean: 66.3%  std: 34.6%\n",
      "FDR mean: 74.4%  std: 19.4%\n"
     ]
    },
    {
     "name": "stdout",
     "output_type": "stream",
     "text": [
      "[[0.557136   0.59303317]\n",
      " [0.57001698 0.56396141]\n",
      " [0.5449     0.5792    ]]\n",
      "rec time now 2 dataset now: Syn4\n"
     ]
    },
    {
     "name": "stderr",
     "output_type": "stream",
     "text": [
      "TPR mean: 63.6%  std: 36.1%\n",
      "FDR mean: 68.0%  std: 24.4%\n"
     ]
    },
    {
     "name": "stdout",
     "output_type": "stream",
     "text": [
      "[[0.557136   0.57979102]\n",
      " [0.57001698 0.55564015]\n",
      " [0.5449     0.5631    ]]\n",
      "rec time now 3 dataset now: Syn4\n"
     ]
    },
    {
     "name": "stderr",
     "output_type": "stream",
     "text": [
      "TPR mean: 63.0%  std: 36.5%\n",
      "FDR mean: 65.4%  std: 26.1%\n",
      "Epoch:      0, d_loss (Acc)): 0.629, v_loss (Acc): 0.062, g_loss: -38.1783\n"
     ]
    },
    {
     "name": "stdout",
     "output_type": "stream",
     "text": [
      "[[0.557136   0.57589382]\n",
      " [0.57001698 0.5541669 ]\n",
      " [0.5449     0.5619    ]]\n",
      "now at training epoch number 3200 hyp-params: lamda 0.6400 prior 0.3400\n",
      "rec time now 0 dataset now: Syn4\n"
     ]
    },
    {
     "name": "stderr",
     "output_type": "stream",
     "text": [
      "TPR mean: 73.1%  std: 30.7%\n",
      "FDR mean: 84.7%  std: 10.8%\n"
     ]
    },
    {
     "name": "stdout",
     "output_type": "stream",
     "text": [
      "[[0.55803079 0.63191066]\n",
      " [0.5723304  0.60345265]\n",
      " [0.5437     0.6114    ]]\n",
      "rec time now 1 dataset now: Syn4\n"
     ]
    },
    {
     "name": "stderr",
     "output_type": "stream",
     "text": [
      "TPR mean: 66.1%  std: 34.8%\n",
      "FDR mean: 70.6%  std: 22.4%\n"
     ]
    },
    {
     "name": "stdout",
     "output_type": "stream",
     "text": [
      "[[0.55803079 0.5861069 ]\n",
      " [0.5723304  0.55979324]\n",
      " [0.5437     0.5707    ]]\n",
      "rec time now 2 dataset now: Syn4\n"
     ]
    },
    {
     "name": "stderr",
     "output_type": "stream",
     "text": [
      "TPR mean: 63.8%  std: 36.1%\n",
      "FDR mean: 63.7%  std: 27.3%\n"
     ]
    },
    {
     "name": "stdout",
     "output_type": "stream",
     "text": [
      "[[0.55803079 0.57362018]\n",
      " [0.5723304  0.55310972]\n",
      " [0.5437     0.5532    ]]\n",
      "rec time now 3 dataset now: Syn4\n"
     ]
    },
    {
     "name": "stderr",
     "output_type": "stream",
     "text": [
      "TPR mean: 63.1%  std: 36.5%\n",
      "FDR mean: 61.4%  std: 28.7%\n",
      "Epoch:      0, d_loss (Acc)): 0.601, v_loss (Acc): 0.056, g_loss: -36.5552\n"
     ]
    },
    {
     "name": "stdout",
     "output_type": "stream",
     "text": [
      "[[0.55803079 0.57049135]\n",
      " [0.5723304  0.55132471]\n",
      " [0.5437     0.5508    ]]\n",
      "now at training epoch number 3300 hyp-params: lamda 0.6600 prior 0.3350\n",
      "rec time now 0 dataset now: Syn4\n"
     ]
    },
    {
     "name": "stderr",
     "output_type": "stream",
     "text": [
      "TPR mean: 74.5%  std: 29.8%\n",
      "FDR mean: 82.6%  std: 12.4%\n"
     ]
    },
    {
     "name": "stdout",
     "output_type": "stream",
     "text": [
      "[[0.55772013 0.61467794]\n",
      " [0.5710264  0.58281763]\n",
      " [0.5398     0.6006    ]]\n",
      "rec time now 1 dataset now: Syn4\n"
     ]
    },
    {
     "name": "stderr",
     "output_type": "stream",
     "text": [
      "TPR mean: 67.4%  std: 34.1%\n",
      "FDR mean: 65.8%  std: 25.7%\n"
     ]
    },
    {
     "name": "stdout",
     "output_type": "stream",
     "text": [
      "[[0.55772013 0.57166801]\n",
      " [0.5710264  0.54916129]\n",
      " [0.5398     0.5519    ]]\n",
      "rec time now 2 dataset now: Syn4\n"
     ]
    },
    {
     "name": "stderr",
     "output_type": "stream",
     "text": [
      "TPR mean: 65.1%  std: 35.5%\n",
      "FDR mean: 58.8%  std: 30.1%\n"
     ]
    },
    {
     "name": "stdout",
     "output_type": "stream",
     "text": [
      "[[0.55772013 0.56147634]\n",
      " [0.5710264  0.54580008]\n",
      " [0.5398     0.5387    ]]\n",
      "rec time now 3 dataset now: Syn4\n"
     ]
    },
    {
     "name": "stderr",
     "output_type": "stream",
     "text": [
      "TPR mean: 64.5%  std: 35.9%\n",
      "FDR mean: 56.7%  std: 31.0%\n",
      "Epoch:      0, d_loss (Acc)): 0.600, v_loss (Acc): 0.049, g_loss: -36.8546\n"
     ]
    },
    {
     "name": "stdout",
     "output_type": "stream",
     "text": [
      "[[0.55772013 0.559384  ]\n",
      " [0.5710264  0.54413821]\n",
      " [0.5398     0.5356    ]]\n",
      "now at training epoch number 3400 hyp-params: lamda 0.6800 prior 0.3300\n",
      "rec time now 0 dataset now: Syn4\n"
     ]
    },
    {
     "name": "stderr",
     "output_type": "stream",
     "text": [
      "TPR mean: 74.8%  std: 29.6%\n",
      "FDR mean: 80.3%  std: 14.2%\n"
     ]
    },
    {
     "name": "stdout",
     "output_type": "stream",
     "text": [
      "[[0.55633025 0.60256925]\n",
      " [0.56962698 0.5704325 ]\n",
      " [0.543      0.5923    ]]\n",
      "rec time now 1 dataset now: Syn4\n"
     ]
    },
    {
     "name": "stderr",
     "output_type": "stream",
     "text": [
      "TPR mean: 67.9%  std: 33.6%\n",
      "FDR mean: 61.3%  std: 28.4%\n"
     ]
    },
    {
     "name": "stdout",
     "output_type": "stream",
     "text": [
      "[[0.55633025 0.56426526]\n",
      " [0.56962698 0.54450069]\n",
      " [0.543      0.5431    ]]\n",
      "rec time now 2 dataset now: Syn4\n"
     ]
    },
    {
     "name": "stderr",
     "output_type": "stream",
     "text": [
      "TPR mean: 65.8%  std: 35.0%\n",
      "FDR mean: 54.9%  std: 31.9%\n"
     ]
    },
    {
     "name": "stdout",
     "output_type": "stream",
     "text": [
      "[[0.55633025 0.55561784]\n",
      " [0.56962698 0.54225967]\n",
      " [0.543      0.5315    ]]\n",
      "rec time now 3 dataset now: Syn4\n"
     ]
    },
    {
     "name": "stderr",
     "output_type": "stream",
     "text": [
      "TPR mean: 65.4%  std: 35.2%\n",
      "FDR mean: 53.2%  std: 32.4%\n",
      "Epoch:      0, d_loss (Acc)): 0.589, v_loss (Acc): 0.046, g_loss: -36.0970\n"
     ]
    },
    {
     "name": "stdout",
     "output_type": "stream",
     "text": [
      "[[0.55633025 0.55498883]\n",
      " [0.56962698 0.54205555]\n",
      " [0.543      0.5322    ]]\n",
      "now at training epoch number 3500 hyp-params: lamda 0.7000 prior 0.3250\n",
      "rec time now 0 dataset now: Syn4\n"
     ]
    },
    {
     "name": "stderr",
     "output_type": "stream",
     "text": [
      "TPR mean: 75.1%  std: 29.4%\n",
      "FDR mean: 77.3%  std: 16.7%\n"
     ]
    },
    {
     "name": "stdout",
     "output_type": "stream",
     "text": [
      "[[0.55848979 0.60550309]\n",
      " [0.57258408 0.57328852]\n",
      " [0.5453     0.5912    ]]\n",
      "rec time now 1 dataset now: Syn4\n"
     ]
    },
    {
     "name": "stderr",
     "output_type": "stream",
     "text": [
      "TPR mean: 67.8%  std: 33.5%\n",
      "FDR mean: 56.0%  std: 31.8%\n"
     ]
    },
    {
     "name": "stdout",
     "output_type": "stream",
     "text": [
      "[[0.55848979 0.5621925 ]\n",
      " [0.57258408 0.54321937]\n",
      " [0.5453     0.5358    ]]\n",
      "rec time now 2 dataset now: Syn4\n"
     ]
    },
    {
     "name": "stderr",
     "output_type": "stream",
     "text": [
      "TPR mean: 66.0%  std: 34.6%\n",
      "FDR mean: 50.5%  std: 34.3%\n"
     ]
    },
    {
     "name": "stdout",
     "output_type": "stream",
     "text": [
      "[[0.55848979 0.55597079]\n",
      " [0.57258408 0.54001147]\n",
      " [0.5453     0.5296    ]]\n",
      "rec time now 3 dataset now: Syn4\n"
     ]
    },
    {
     "name": "stderr",
     "output_type": "stream",
     "text": [
      "TPR mean: 65.6%  std: 34.9%\n",
      "FDR mean: 49.2%  std: 34.5%\n",
      "Epoch:      0, d_loss (Acc)): 0.606, v_loss (Acc): 0.043, g_loss: -37.2346\n"
     ]
    },
    {
     "name": "stdout",
     "output_type": "stream",
     "text": [
      "[[0.55848979 0.5554441 ]\n",
      " [0.57258408 0.54041712]\n",
      " [0.5453     0.5288    ]]\n",
      "now at training epoch number 3600 hyp-params: lamda 0.7200 prior 0.3200\n",
      "rec time now 0 dataset now: Syn4\n"
     ]
    },
    {
     "name": "stderr",
     "output_type": "stream",
     "text": [
      "TPR mean: 75.4%  std: 29.1%\n",
      "FDR mean: 74.2%  std: 19.0%\n"
     ]
    },
    {
     "name": "stdout",
     "output_type": "stream",
     "text": [
      "[[0.55709928 0.60137891]\n",
      " [0.57041727 0.5708145 ]\n",
      " [0.5446     0.5852    ]]\n",
      "rec time now 1 dataset now: Syn4\n"
     ]
    },
    {
     "name": "stderr",
     "output_type": "stream",
     "text": [
      "TPR mean: 68.0%  std: 33.3%\n",
      "FDR mean: 52.4%  std: 33.5%\n"
     ]
    },
    {
     "name": "stdout",
     "output_type": "stream",
     "text": [
      "[[0.55709928 0.56026818]\n",
      " [0.57041727 0.54457481]\n",
      " [0.5446     0.5313    ]]\n",
      "rec time now 2 dataset now: Syn4\n"
     ]
    },
    {
     "name": "stderr",
     "output_type": "stream",
     "text": [
      "TPR mean: 66.4%  std: 34.3%\n",
      "FDR mean: 48.0%  std: 35.1%\n"
     ]
    },
    {
     "name": "stdout",
     "output_type": "stream",
     "text": [
      "[[0.55709928 0.55574775]\n",
      " [0.57041727 0.54173306]\n",
      " [0.5446     0.5263    ]]\n",
      "rec time now 3 dataset now: Syn4\n"
     ]
    },
    {
     "name": "stderr",
     "output_type": "stream",
     "text": [
      "TPR mean: 66.1%  std: 34.5%\n",
      "FDR mean: 47.1%  std: 35.1%\n",
      "Epoch:      0, d_loss (Acc)): 0.614, v_loss (Acc): 0.039, g_loss: -37.7904\n"
     ]
    },
    {
     "name": "stdout",
     "output_type": "stream",
     "text": [
      "[[0.55709928 0.55545908]\n",
      " [0.57041727 0.54151257]\n",
      " [0.5446     0.5273    ]]\n",
      "now at training epoch number 3700 hyp-params: lamda 0.7400 prior 0.3150\n",
      "rec time now 0 dataset now: Syn4\n"
     ]
    },
    {
     "name": "stderr",
     "output_type": "stream",
     "text": [
      "TPR mean: 75.5%  std: 28.9%\n",
      "FDR mean: 70.5%  std: 22.1%\n"
     ]
    },
    {
     "name": "stdout",
     "output_type": "stream",
     "text": [
      "[[0.55748598 0.5921951 ]\n",
      " [0.57107893 0.56400543]\n",
      " [0.5425     0.5689    ]]\n",
      "rec time now 1 dataset now: Syn4\n"
     ]
    },
    {
     "name": "stderr",
     "output_type": "stream",
     "text": [
      "TPR mean: 68.2%  std: 33.1%\n",
      "FDR mean: 48.1%  std: 35.8%\n"
     ]
    },
    {
     "name": "stdout",
     "output_type": "stream",
     "text": [
      "[[0.55748598 0.55441655]\n",
      " [0.57107893 0.54165853]\n",
      " [0.5425     0.5224    ]]\n",
      "rec time now 2 dataset now: Syn4\n"
     ]
    },
    {
     "name": "stderr",
     "output_type": "stream",
     "text": [
      "TPR mean: 66.7%  std: 34.0%\n",
      "FDR mean: 44.8%  std: 36.7%\n"
     ]
    },
    {
     "name": "stdout",
     "output_type": "stream",
     "text": [
      "[[0.55748598 0.55080268]\n",
      " [0.57107893 0.54002579]\n",
      " [0.5425     0.5177    ]]\n",
      "rec time now 3 dataset now: Syn4\n"
     ]
    },
    {
     "name": "stderr",
     "output_type": "stream",
     "text": [
      "TPR mean: 66.5%  std: 34.2%\n",
      "FDR mean: 44.2%  std: 36.6%\n",
      "Epoch:      0, d_loss (Acc)): 0.617, v_loss (Acc): 0.031, g_loss: -38.2687\n"
     ]
    },
    {
     "name": "stdout",
     "output_type": "stream",
     "text": [
      "[[0.55748598 0.55008155]\n",
      " [0.57107893 0.54011144]\n",
      " [0.5425     0.5173    ]]\n",
      "now at training epoch number 3800 hyp-params: lamda 0.7600 prior 0.3100\n",
      "rec time now 0 dataset now: Syn4\n"
     ]
    },
    {
     "name": "stderr",
     "output_type": "stream",
     "text": [
      "TPR mean: 74.5%  std: 29.4%\n",
      "FDR mean: 67.0%  std: 24.7%\n"
     ]
    },
    {
     "name": "stdout",
     "output_type": "stream",
     "text": [
      "[[0.55740954 0.58413122]\n",
      " [0.57112305 0.55733641]\n",
      " [0.5463     0.5606    ]]\n",
      "rec time now 1 dataset now: Syn4\n"
     ]
    },
    {
     "name": "stderr",
     "output_type": "stream",
     "text": [
      "TPR mean: 67.5%  std: 33.3%\n",
      "FDR mean: 46.4%  std: 36.6%\n"
     ]
    },
    {
     "name": "stdout",
     "output_type": "stream",
     "text": [
      "[[0.55740954 0.55351814]\n",
      " [0.57112305 0.54041528]\n",
      " [0.5463     0.5174    ]]\n",
      "rec time now 2 dataset now: Syn4\n"
     ]
    },
    {
     "name": "stderr",
     "output_type": "stream",
     "text": [
      "TPR mean: 66.5%  std: 33.9%\n",
      "FDR mean: 44.2%  std: 37.1%\n"
     ]
    },
    {
     "name": "stdout",
     "output_type": "stream",
     "text": [
      "[[0.55740954 0.5513708 ]\n",
      " [0.57112305 0.53909466]\n",
      " [0.5463     0.5142    ]]\n",
      "rec time now 3 dataset now: Syn4\n"
     ]
    },
    {
     "name": "stderr",
     "output_type": "stream",
     "text": [
      "TPR mean: 66.3%  std: 34.0%\n",
      "FDR mean: 43.7%  std: 37.0%\n",
      "Epoch:      0, d_loss (Acc)): 0.575, v_loss (Acc): 0.027, g_loss: -35.6226\n"
     ]
    },
    {
     "name": "stdout",
     "output_type": "stream",
     "text": [
      "[[0.55740954 0.55134843]\n",
      " [0.57112305 0.53922688]\n",
      " [0.5463     0.5145    ]]\n",
      "now at training epoch number 3900 hyp-params: lamda 0.7800 prior 0.3050\n",
      "rec time now 0 dataset now: Syn4\n"
     ]
    },
    {
     "name": "stderr",
     "output_type": "stream",
     "text": [
      "TPR mean: 74.2%  std: 29.6%\n",
      "FDR mean: 61.6%  std: 28.5%\n"
     ]
    },
    {
     "name": "stdout",
     "output_type": "stream",
     "text": [
      "[[0.55712564 0.57724436]\n",
      " [0.57035302 0.55363486]\n",
      " [0.5418     0.5502    ]]\n",
      "rec time now 1 dataset now: Syn4\n"
     ]
    },
    {
     "name": "stderr",
     "output_type": "stream",
     "text": [
      "TPR mean: 67.4%  std: 33.2%\n",
      "FDR mean: 42.8%  std: 38.6%\n"
     ]
    },
    {
     "name": "stdout",
     "output_type": "stream",
     "text": [
      "[[0.55712564 0.55095246]\n",
      " [0.57035302 0.53908292]\n",
      " [0.5418     0.5129    ]]\n",
      "rec time now 2 dataset now: Syn4\n"
     ]
    },
    {
     "name": "stderr",
     "output_type": "stream",
     "text": [
      "TPR mean: 66.6%  std: 33.7%\n",
      "FDR mean: 41.2%  std: 38.8%\n"
     ]
    },
    {
     "name": "stdout",
     "output_type": "stream",
     "text": [
      "[[0.55712564 0.54730071]\n",
      " [0.57035302 0.53665141]\n",
      " [0.5418     0.5107    ]]\n",
      "rec time now 3 dataset now: Syn4\n"
     ]
    },
    {
     "name": "stderr",
     "output_type": "stream",
     "text": [
      "TPR mean: 66.5%  std: 33.8%\n",
      "FDR mean: 40.9%  std: 38.8%\n",
      "Epoch:      0, d_loss (Acc)): 0.582, v_loss (Acc): 0.027, g_loss: -35.6659\n"
     ]
    },
    {
     "name": "stdout",
     "output_type": "stream",
     "text": [
      "[[0.55712564 0.54724806]\n",
      " [0.57035302 0.53604713]\n",
      " [0.5418     0.5108    ]]\n",
      "now at training epoch number 4000 hyp-params: lamda 0.8000 prior 0.3000\n",
      "rec time now 0 dataset now: Syn4\n"
     ]
    },
    {
     "name": "stderr",
     "output_type": "stream",
     "text": [
      "TPR mean: 72.8%  std: 30.3%\n",
      "FDR mean: 57.6%  std: 31.6%\n"
     ]
    },
    {
     "name": "stdout",
     "output_type": "stream",
     "text": [
      "[[0.55607297 0.56731825]\n",
      " [0.56948389 0.54868248]\n",
      " [0.5453     0.5405    ]]\n",
      "rec time now 1 dataset now: Syn4\n"
     ]
    },
    {
     "name": "stderr",
     "output_type": "stream",
     "text": [
      "TPR mean: 67.0%  std: 33.4%\n",
      "FDR mean: 41.6%  std: 39.4%\n"
     ]
    },
    {
     "name": "stdout",
     "output_type": "stream",
     "text": [
      "[[0.55607297 0.54469553]\n",
      " [0.56948389 0.53477618]\n",
      " [0.5453     0.5065    ]]\n",
      "rec time now 2 dataset now: Syn4\n"
     ]
    },
    {
     "name": "stderr",
     "output_type": "stream",
     "text": [
      "TPR mean: 66.5%  std: 33.7%\n",
      "FDR mean: 40.3%  std: 39.4%\n"
     ]
    },
    {
     "name": "stdout",
     "output_type": "stream",
     "text": [
      "[[0.55607297 0.54252276]\n",
      " [0.56948389 0.53399917]\n",
      " [0.5453     0.5054    ]]\n",
      "rec time now 3 dataset now: Syn4\n"
     ]
    },
    {
     "name": "stderr",
     "output_type": "stream",
     "text": [
      "TPR mean: 66.4%  std: 33.7%\n",
      "FDR mean: 40.1%  std: 39.4%\n",
      "Epoch:      0, d_loss (Acc)): 0.595, v_loss (Acc): 0.028, g_loss: -36.2619\n"
     ]
    },
    {
     "name": "stdout",
     "output_type": "stream",
     "text": [
      "[[0.55607297 0.54225395]\n",
      " [0.56948389 0.5337502 ]\n",
      " [0.5453     0.5055    ]]\n",
      "now at training epoch number 4100 hyp-params: lamda 0.8200 prior 0.2950\n",
      "rec time now 0 dataset now: Syn4\n"
     ]
    },
    {
     "name": "stderr",
     "output_type": "stream",
     "text": [
      "TPR mean: 71.6%  std: 30.8%\n",
      "FDR mean: 53.3%  std: 34.4%\n"
     ]
    },
    {
     "name": "stdout",
     "output_type": "stream",
     "text": [
      "[[0.55752271 0.56731841]\n",
      " [0.57083584 0.54819612]\n",
      " [0.5444     0.5326    ]]\n",
      "rec time now 1 dataset now: Syn4\n"
     ]
    },
    {
     "name": "stderr",
     "output_type": "stream",
     "text": [
      "TPR mean: 66.9%  std: 33.3%\n",
      "FDR mean: 40.5%  std: 39.8%\n"
     ]
    },
    {
     "name": "stdout",
     "output_type": "stream",
     "text": [
      "[[0.55752271 0.54675434]\n",
      " [0.57083584 0.53574582]\n",
      " [0.5444     0.5056    ]]\n",
      "rec time now 2 dataset now: Syn4\n"
     ]
    },
    {
     "name": "stderr",
     "output_type": "stream",
     "text": [
      "TPR mean: 66.5%  std: 33.5%\n",
      "FDR mean: 39.8%  std: 39.7%\n"
     ]
    },
    {
     "name": "stdout",
     "output_type": "stream",
     "text": [
      "[[0.55752271 0.54539826]\n",
      " [0.57083584 0.53488793]\n",
      " [0.5444     0.5052    ]]\n",
      "rec time now 3 dataset now: Syn4\n"
     ]
    },
    {
     "name": "stderr",
     "output_type": "stream",
     "text": [
      "TPR mean: 66.4%  std: 33.6%\n",
      "FDR mean: 39.7%  std: 39.6%\n",
      "Epoch:      0, d_loss (Acc)): 0.602, v_loss (Acc): 0.020, g_loss: -36.8251\n"
     ]
    },
    {
     "name": "stdout",
     "output_type": "stream",
     "text": [
      "[[0.55752271 0.54506245]\n",
      " [0.57083584 0.53444372]\n",
      " [0.5444     0.5047    ]]\n",
      "now at training epoch number 4200 hyp-params: lamda 0.8400 prior 0.2900\n",
      "rec time now 0 dataset now: Syn4\n"
     ]
    },
    {
     "name": "stderr",
     "output_type": "stream",
     "text": [
      "TPR mean: 70.6%  std: 31.4%\n",
      "FDR mean: 48.2%  std: 37.3%\n"
     ]
    },
    {
     "name": "stdout",
     "output_type": "stream",
     "text": [
      "[[0.55554917 0.55576724]\n",
      " [0.56892042 0.54084051]\n",
      " [0.5432     0.525     ]]\n",
      "rec time now 1 dataset now: Syn4\n"
     ]
    },
    {
     "name": "stderr",
     "output_type": "stream",
     "text": [
      "TPR mean: 66.6%  std: 33.4%\n",
      "FDR mean: 40.1%  std: 39.9%\n"
     ]
    },
    {
     "name": "stdout",
     "output_type": "stream",
     "text": [
      "[[0.55554917 0.54069302]\n",
      " [0.56892042 0.53280339]\n",
      " [0.5432     0.5027    ]]\n",
      "rec time now 2 dataset now: Syn4\n"
     ]
    },
    {
     "name": "stderr",
     "output_type": "stream",
     "text": [
      "TPR mean: 66.4%  std: 33.6%\n",
      "FDR mean: 39.8%  std: 39.8%\n"
     ]
    },
    {
     "name": "stdout",
     "output_type": "stream",
     "text": [
      "[[0.55554917 0.54004262]\n",
      " [0.56892042 0.53293274]\n",
      " [0.5432     0.5027    ]]\n",
      "rec time now 3 dataset now: Syn4\n"
     ]
    },
    {
     "name": "stderr",
     "output_type": "stream",
     "text": [
      "TPR mean: 66.3%  std: 33.6%\n",
      "FDR mean: 39.7%  std: 39.8%\n",
      "Epoch:      0, d_loss (Acc)): 0.589, v_loss (Acc): 0.019, g_loss: -35.6116\n"
     ]
    },
    {
     "name": "stdout",
     "output_type": "stream",
     "text": [
      "[[0.55554917 0.53987029]\n",
      " [0.56892042 0.5326397 ]\n",
      " [0.5432     0.5026    ]]\n",
      "now at training epoch number 4300 hyp-params: lamda 0.8600 prior 0.2850\n",
      "rec time now 0 dataset now: Syn4\n"
     ]
    },
    {
     "name": "stderr",
     "output_type": "stream",
     "text": [
      "TPR mean: 70.1%  std: 31.6%\n",
      "FDR mean: 45.4%  std: 38.5%\n"
     ]
    },
    {
     "name": "stdout",
     "output_type": "stream",
     "text": [
      "[[0.55516238 0.5488531 ]\n",
      " [0.56881654 0.53763123]\n",
      " [0.5428     0.5144    ]]\n",
      "rec time now 1 dataset now: Syn4\n"
     ]
    },
    {
     "name": "stderr",
     "output_type": "stream",
     "text": [
      "TPR mean: 66.6%  std: 33.4%\n",
      "FDR mean: 40.0%  std: 39.8%\n"
     ]
    },
    {
     "name": "stdout",
     "output_type": "stream",
     "text": [
      "[[0.55516238 0.53865222]\n",
      " [0.56881654 0.53231367]\n",
      " [0.5428     0.5009    ]]\n",
      "rec time now 2 dataset now: Syn4\n"
     ]
    },
    {
     "name": "stderr",
     "output_type": "stream",
     "text": [
      "TPR mean: 66.4%  std: 33.5%\n",
      "FDR mean: 39.8%  std: 39.8%\n"
     ]
    },
    {
     "name": "stdout",
     "output_type": "stream",
     "text": [
      "[[0.55516238 0.53836612]\n",
      " [0.56881654 0.53266507]\n",
      " [0.5428     0.5009    ]]\n",
      "rec time now 3 dataset now: Syn4\n"
     ]
    },
    {
     "name": "stderr",
     "output_type": "stream",
     "text": [
      "TPR mean: 66.3%  std: 33.5%\n",
      "FDR mean: 39.8%  std: 39.8%\n",
      "Epoch:      0, d_loss (Acc)): 0.567, v_loss (Acc): 0.017, g_loss: -34.0337\n"
     ]
    },
    {
     "name": "stdout",
     "output_type": "stream",
     "text": [
      "[[0.55516238 0.538333  ]\n",
      " [0.56881654 0.53306935]\n",
      " [0.5428     0.5008    ]]\n",
      "now at training epoch number 4400 hyp-params: lamda 0.8800 prior 0.2800\n",
      "rec time now 0 dataset now: Syn4\n"
     ]
    },
    {
     "name": "stderr",
     "output_type": "stream",
     "text": [
      "TPR mean: 70.0%  std: 31.7%\n",
      "FDR mean: 43.5%  std: 38.9%\n"
     ]
    },
    {
     "name": "stdout",
     "output_type": "stream",
     "text": [
      "[[0.55574967 0.5517136 ]\n",
      " [0.56912873 0.53811819]\n",
      " [0.5432     0.5122    ]]\n",
      "rec time now 1 dataset now: Syn4\n"
     ]
    },
    {
     "name": "stderr",
     "output_type": "stream",
     "text": [
      "TPR mean: 66.6%  std: 33.3%\n",
      "FDR mean: 40.0%  std: 39.8%\n"
     ]
    },
    {
     "name": "stdout",
     "output_type": "stream",
     "text": [
      "[[0.55574967 0.54398116]\n",
      " [0.56912873 0.53416527]\n",
      " [0.5432     0.5023    ]]\n",
      "rec time now 2 dataset now: Syn4\n"
     ]
    },
    {
     "name": "stderr",
     "output_type": "stream",
     "text": [
      "TPR mean: 66.5%  std: 33.4%\n",
      "FDR mean: 39.9%  std: 39.8%\n"
     ]
    },
    {
     "name": "stdout",
     "output_type": "stream",
     "text": [
      "[[0.55574967 0.54376761]\n",
      " [0.56912873 0.53418399]\n",
      " [0.5432     0.502     ]]\n",
      "rec time now 3 dataset now: Syn4\n"
     ]
    },
    {
     "name": "stderr",
     "output_type": "stream",
     "text": [
      "TPR mean: 66.4%  std: 33.4%\n",
      "FDR mean: 39.9%  std: 39.8%\n",
      "Epoch:      0, d_loss (Acc)): 0.580, v_loss (Acc): 0.014, g_loss: -34.6901\n"
     ]
    },
    {
     "name": "stdout",
     "output_type": "stream",
     "text": [
      "[[0.55574967 0.54372587]\n",
      " [0.56912873 0.534195  ]\n",
      " [0.5432     0.5018    ]]\n",
      "now at training epoch number 4500 hyp-params: lamda 0.9000 prior 0.2750\n",
      "rec time now 0 dataset now: Syn4\n"
     ]
    },
    {
     "name": "stderr",
     "output_type": "stream",
     "text": [
      "TPR mean: 69.3%  std: 32.0%\n",
      "FDR mean: 42.1%  std: 39.4%\n"
     ]
    },
    {
     "name": "stdout",
     "output_type": "stream",
     "text": [
      "[[0.55639416 0.5462145 ]\n",
      " [0.56954798 0.53577946]\n",
      " [0.5417     0.5072    ]]\n",
      "rec time now 1 dataset now: Syn4\n"
     ]
    },
    {
     "name": "stderr",
     "output_type": "stream",
     "text": [
      "TPR mean: 66.5%  std: 33.3%\n",
      "FDR mean: 40.1%  std: 39.8%\n"
     ]
    },
    {
     "name": "stdout",
     "output_type": "stream",
     "text": [
      "[[0.55639416 0.54044142]\n",
      " [0.56954798 0.53320351]\n",
      " [0.5417     0.5006    ]]\n",
      "rec time now 2 dataset now: Syn4\n"
     ]
    },
    {
     "name": "stderr",
     "output_type": "stream",
     "text": [
      "TPR mean: 66.5%  std: 33.3%\n",
      "FDR mean: 40.0%  std: 39.8%\n"
     ]
    },
    {
     "name": "stdout",
     "output_type": "stream",
     "text": [
      "[[0.55639416 0.54037787]\n",
      " [0.56954798 0.53329916]\n",
      " [0.5417     0.5003    ]]\n",
      "rec time now 3 dataset now: Syn4\n"
     ]
    },
    {
     "name": "stderr",
     "output_type": "stream",
     "text": [
      "TPR mean: 66.4%  std: 33.3%\n",
      "FDR mean: 40.0%  std: 39.8%\n",
      "Epoch:      0, d_loss (Acc)): 0.586, v_loss (Acc): 0.012, g_loss: -34.7405\n"
     ]
    },
    {
     "name": "stdout",
     "output_type": "stream",
     "text": [
      "[[0.55639416 0.54036466]\n",
      " [0.56954798 0.5334498 ]\n",
      " [0.5417     0.5003    ]]\n",
      "now at training epoch number 4600 hyp-params: lamda 0.9200 prior 0.2700\n",
      "rec time now 0 dataset now: Syn4\n"
     ]
    },
    {
     "name": "stderr",
     "output_type": "stream",
     "text": [
      "TPR mean: 69.3%  std: 32.0%\n",
      "FDR mean: 41.3%  std: 39.3%\n"
     ]
    },
    {
     "name": "stdout",
     "output_type": "stream",
     "text": [
      "[[0.55584438 0.54610985]\n",
      " [0.56976488 0.53455242]\n",
      " [0.5414     0.5059    ]]\n",
      "rec time now 1 dataset now: Syn4\n"
     ]
    },
    {
     "name": "stderr",
     "output_type": "stream",
     "text": [
      "TPR mean: 66.5%  std: 33.3%\n",
      "FDR mean: 40.1%  std: 39.8%\n"
     ]
    },
    {
     "name": "stdout",
     "output_type": "stream",
     "text": [
      "[[0.55584438 0.54185872]\n",
      " [0.56976488 0.53284818]\n",
      " [0.5414     0.5       ]]\n",
      "rec time now 2 dataset now: Syn4\n"
     ]
    },
    {
     "name": "stderr",
     "output_type": "stream",
     "text": [
      "TPR mean: 66.5%  std: 33.3%\n",
      "FDR mean: 40.1%  std: 39.8%\n"
     ]
    },
    {
     "name": "stdout",
     "output_type": "stream",
     "text": [
      "[[0.55584438 0.54180509]\n",
      " [0.56976488 0.53341937]\n",
      " [0.5414     0.4999    ]]\n",
      "rec time now 3 dataset now: Syn4\n"
     ]
    },
    {
     "name": "stderr",
     "output_type": "stream",
     "text": [
      "TPR mean: 66.4%  std: 33.3%\n",
      "FDR mean: 40.1%  std: 39.8%\n",
      "Epoch:      0, d_loss (Acc)): 0.583, v_loss (Acc): 0.013, g_loss: -33.9137\n"
     ]
    },
    {
     "name": "stdout",
     "output_type": "stream",
     "text": [
      "[[0.55584438 0.54179262]\n",
      " [0.56976488 0.53338053]\n",
      " [0.5414     0.4998    ]]\n",
      "now at training epoch number 4700 hyp-params: lamda 0.9400 prior 0.2650\n",
      "rec time now 0 dataset now: Syn4\n"
     ]
    },
    {
     "name": "stderr",
     "output_type": "stream",
     "text": [
      "TPR mean: 68.7%  std: 32.3%\n",
      "FDR mean: 40.7%  std: 39.4%\n"
     ]
    },
    {
     "name": "stdout",
     "output_type": "stream",
     "text": [
      "[[0.55560629 0.54336045]\n",
      " [0.56919568 0.5324832 ]\n",
      " [0.5429     0.5053    ]]\n",
      "rec time now 1 dataset now: Syn4\n"
     ]
    },
    {
     "name": "stderr",
     "output_type": "stream",
     "text": [
      "TPR mean: 66.5%  std: 33.3%\n",
      "FDR mean: 40.2%  std: 39.8%\n"
     ]
    },
    {
     "name": "stdout",
     "output_type": "stream",
     "text": [
      "[[0.55560629 0.54020489]\n",
      " [0.56919568 0.53143529]\n",
      " [0.5429     0.5015    ]]\n",
      "rec time now 2 dataset now: Syn4\n"
     ]
    },
    {
     "name": "stderr",
     "output_type": "stream",
     "text": [
      "TPR mean: 66.4%  std: 33.3%\n",
      "FDR mean: 40.2%  std: 39.9%\n"
     ]
    },
    {
     "name": "stdout",
     "output_type": "stream",
     "text": [
      "[[0.55560629 0.54015136]\n",
      " [0.56919568 0.53154626]\n",
      " [0.5429     0.5013    ]]\n",
      "rec time now 3 dataset now: Syn4\n"
     ]
    },
    {
     "name": "stderr",
     "output_type": "stream",
     "text": [
      "TPR mean: 66.4%  std: 33.3%\n",
      "FDR mean: 40.2%  std: 39.9%\n",
      "Epoch:      0, d_loss (Acc)): 0.571, v_loss (Acc): 0.011, g_loss: -32.6002\n"
     ]
    },
    {
     "name": "stdout",
     "output_type": "stream",
     "text": [
      "[[0.55560629 0.54015136]\n",
      " [0.56919568 0.53154626]\n",
      " [0.5429     0.5013    ]]\n",
      "now at training epoch number 4800 hyp-params: lamda 0.9600 prior 0.2600\n",
      "rec time now 0 dataset now: Syn4\n"
     ]
    },
    {
     "name": "stderr",
     "output_type": "stream",
     "text": [
      "TPR mean: 68.6%  std: 32.3%\n",
      "FDR mean: 40.3%  std: 39.4%\n"
     ]
    },
    {
     "name": "stdout",
     "output_type": "stream",
     "text": [
      "[[0.5560429  0.54260127]\n",
      " [0.56889757 0.53235258]\n",
      " [0.5413     0.5013    ]]\n",
      "rec time now 1 dataset now: Syn4\n"
     ]
    },
    {
     "name": "stderr",
     "output_type": "stream",
     "text": [
      "TPR mean: 66.4%  std: 33.3%\n",
      "FDR mean: 40.2%  std: 39.9%\n"
     ]
    },
    {
     "name": "stdout",
     "output_type": "stream",
     "text": [
      "[[0.5560429  0.5400416 ]\n",
      " [0.56889757 0.53130283]\n",
      " [0.5413     0.4994    ]]\n",
      "rec time now 2 dataset now: Syn4\n"
     ]
    },
    {
     "name": "stderr",
     "output_type": "stream",
     "text": [
      "TPR mean: 66.4%  std: 33.3%\n",
      "FDR mean: 40.3%  std: 39.9%\n"
     ]
    },
    {
     "name": "stdout",
     "output_type": "stream",
     "text": [
      "[[0.5560429  0.54002406]\n",
      " [0.56889757 0.53132323]\n",
      " [0.5413     0.4995    ]]\n",
      "rec time now 3 dataset now: Syn4\n"
     ]
    },
    {
     "name": "stderr",
     "output_type": "stream",
     "text": [
      "TPR mean: 66.4%  std: 33.3%\n",
      "FDR mean: 40.3%  std: 39.9%\n",
      "Epoch:      0, d_loss (Acc)): 0.572, v_loss (Acc): 0.010, g_loss: -32.5473\n"
     ]
    },
    {
     "name": "stdout",
     "output_type": "stream",
     "text": [
      "[[0.5560429  0.54002406]\n",
      " [0.56889757 0.53132323]\n",
      " [0.5413     0.4995    ]]\n",
      "now at training epoch number 4900 hyp-params: lamda 0.9800 prior 0.2550\n",
      "rec time now 0 dataset now: Syn4\n"
     ]
    },
    {
     "name": "stderr",
     "output_type": "stream",
     "text": [
      "TPR mean: 68.2%  std: 32.5%\n",
      "FDR mean: 40.1%  std: 39.5%\n"
     ]
    },
    {
     "name": "stdout",
     "output_type": "stream",
     "text": [
      "[[0.55682468 0.54214543]\n",
      " [0.56895906 0.5323414 ]\n",
      " [0.5454     0.4988    ]]\n",
      "rec time now 1 dataset now: Syn4\n"
     ]
    },
    {
     "name": "stderr",
     "output_type": "stream",
     "text": [
      "TPR mean: 66.4%  std: 33.3%\n",
      "FDR mean: 40.3%  std: 39.9%\n"
     ]
    },
    {
     "name": "stdout",
     "output_type": "stream",
     "text": [
      "[[0.55682468 0.54054503]\n",
      " [0.56895906 0.53173619]\n",
      " [0.5454     0.498     ]]\n",
      "rec time now 2 dataset now: Syn4\n"
     ]
    },
    {
     "name": "stderr",
     "output_type": "stream",
     "text": [
      "TPR mean: 66.4%  std: 33.3%\n",
      "FDR mean: 40.3%  std: 39.9%\n"
     ]
    },
    {
     "name": "stdout",
     "output_type": "stream",
     "text": [
      "[[0.55682468 0.54050704]\n",
      " [0.56895906 0.53173437]\n",
      " [0.5454     0.4979    ]]\n",
      "rec time now 3 dataset now: Syn4\n"
     ]
    },
    {
     "name": "stderr",
     "output_type": "stream",
     "text": [
      "TPR mean: 66.4%  std: 33.3%\n",
      "FDR mean: 40.3%  std: 39.9%\n",
      "Epoch:      0, d_loss (Acc)): 0.584, v_loss (Acc): 0.011, g_loss: -32.7670\n"
     ]
    },
    {
     "name": "stdout",
     "output_type": "stream",
     "text": [
      "[[0.55682468 0.54050704]\n",
      " [0.56895906 0.53173437]\n",
      " [0.5454     0.4979    ]]\n",
      "now at training epoch number 5000 hyp-params: lamda 1.0000 prior 0.2500\n",
      "rec time now 0 dataset now: Syn4\n"
     ]
    },
    {
     "name": "stderr",
     "output_type": "stream",
     "text": [
      "TPR mean: 68.1%  std: 32.5%\n",
      "FDR mean: 40.0%  std: 39.5%\n"
     ]
    },
    {
     "name": "stdout",
     "output_type": "stream",
     "text": [
      "[[0.55621477 0.53962712]\n",
      " [0.56845721 0.53112581]\n",
      " [0.546      0.4982    ]]\n",
      "rec time now 1 dataset now: Syn4\n"
     ]
    },
    {
     "name": "stderr",
     "output_type": "stream",
     "text": [
      "TPR mean: 66.5%  std: 33.2%\n",
      "FDR mean: 40.3%  std: 39.9%\n"
     ]
    },
    {
     "name": "stdout",
     "output_type": "stream",
     "text": [
      "[[0.55621477 0.538111  ]\n",
      " [0.56845721 0.53038596]\n",
      " [0.546      0.4974    ]]\n",
      "rec time now 2 dataset now: Syn4\n"
     ]
    },
    {
     "name": "stderr",
     "output_type": "stream",
     "text": [
      "TPR mean: 66.4%  std: 33.3%\n",
      "FDR mean: 40.3%  std: 39.9%\n"
     ]
    },
    {
     "name": "stdout",
     "output_type": "stream",
     "text": [
      "[[0.55621477 0.53810126]\n",
      " [0.56845721 0.53052159]\n",
      " [0.546      0.4972    ]]\n",
      "rec time now 3 dataset now: Syn4\n"
     ]
    },
    {
     "name": "stderr",
     "output_type": "stream",
     "text": [
      "TPR mean: 66.4%  std: 33.3%\n",
      "FDR mean: 40.3%  std: 39.9%\n",
      "Epoch:      0, d_loss (Acc)): 0.583, v_loss (Acc): 0.007, g_loss: -32.0964\n"
     ]
    },
    {
     "name": "stdout",
     "output_type": "stream",
     "text": [
      "[[0.55621477 0.53810126]\n",
      " [0.56845721 0.53052159]\n",
      " [0.546      0.4972    ]]\n",
      "now at training epoch number 5100 hyp-params: lamda 1.0200 prior 0.2450\n",
      "rec time now 0 dataset now: Syn4\n"
     ]
    },
    {
     "name": "stderr",
     "output_type": "stream",
     "text": [
      "TPR mean: 67.7%  std: 32.7%\n",
      "FDR mean: 40.0%  std: 39.6%\n"
     ]
    },
    {
     "name": "stdout",
     "output_type": "stream",
     "text": [
      "[[0.55572488 0.53983077]\n",
      " [0.56817568 0.53153139]\n",
      " [0.5412     0.4995    ]]\n",
      "rec time now 1 dataset now: Syn4\n"
     ]
    },
    {
     "name": "stderr",
     "output_type": "stream",
     "text": [
      "TPR mean: 66.4%  std: 33.3%\n",
      "FDR mean: 40.4%  std: 39.9%\n"
     ]
    },
    {
     "name": "stdout",
     "output_type": "stream",
     "text": [
      "[[0.55572488 0.53869184]\n",
      " [0.56817568 0.53086208]\n",
      " [0.5412     0.4986    ]]\n",
      "rec time now 2 dataset now: Syn4\n"
     ]
    },
    {
     "name": "stderr",
     "output_type": "stream",
     "text": [
      "TPR mean: 66.4%  std: 33.3%\n",
      "FDR mean: 40.4%  std: 39.9%\n"
     ]
    },
    {
     "name": "stdout",
     "output_type": "stream",
     "text": [
      "[[0.55572488 0.53868342]\n",
      " [0.56817568 0.53088722]\n",
      " [0.5412     0.4986    ]]\n",
      "rec time now 3 dataset now: Syn4\n"
     ]
    },
    {
     "name": "stderr",
     "output_type": "stream",
     "text": [
      "TPR mean: 66.4%  std: 33.3%\n",
      "FDR mean: 40.4%  std: 39.9%\n",
      "Epoch:      0, d_loss (Acc)): 0.582, v_loss (Acc): 0.009, g_loss: -31.7916\n"
     ]
    },
    {
     "name": "stdout",
     "output_type": "stream",
     "text": [
      "[[0.55572488 0.53868342]\n",
      " [0.56817568 0.53088722]\n",
      " [0.5412     0.4986    ]]\n",
      "now at training epoch number 5200 hyp-params: lamda 1.0400 prior 0.2400\n",
      "rec time now 0 dataset now: Syn4\n"
     ]
    },
    {
     "name": "stderr",
     "output_type": "stream",
     "text": [
      "TPR mean: 67.2%  std: 32.9%\n",
      "FDR mean: 40.2%  std: 39.7%\n"
     ]
    },
    {
     "name": "stdout",
     "output_type": "stream",
     "text": [
      "[[0.55626168 0.53932025]\n",
      " [0.56900666 0.53131163]\n",
      " [0.5445     0.4981    ]]\n",
      "rec time now 1 dataset now: Syn4\n"
     ]
    },
    {
     "name": "stderr",
     "output_type": "stream",
     "text": [
      "TPR mean: 66.3%  std: 33.3%\n",
      "FDR mean: 40.4%  std: 40.0%\n"
     ]
    },
    {
     "name": "stdout",
     "output_type": "stream",
     "text": [
      "[[0.55626168 0.53858179]\n",
      " [0.56900666 0.53075213]\n",
      " [0.5445     0.4978    ]]\n",
      "rec time now 2 dataset now: Syn4\n"
     ]
    },
    {
     "name": "stderr",
     "output_type": "stream",
     "text": [
      "TPR mean: 66.3%  std: 33.3%\n",
      "FDR mean: 40.4%  std: 40.0%\n"
     ]
    },
    {
     "name": "stdout",
     "output_type": "stream",
     "text": [
      "[[0.55626168 0.53855365]\n",
      " [0.56900666 0.53073716]\n",
      " [0.5445     0.4978    ]]\n",
      "rec time now 3 dataset now: Syn4\n"
     ]
    },
    {
     "name": "stderr",
     "output_type": "stream",
     "text": [
      "TPR mean: 66.3%  std: 33.3%\n",
      "FDR mean: 40.4%  std: 40.0%\n",
      "Epoch:      0, d_loss (Acc)): 0.572, v_loss (Acc): 0.006, g_loss: -30.8856\n"
     ]
    },
    {
     "name": "stdout",
     "output_type": "stream",
     "text": [
      "[[0.55626168 0.53855365]\n",
      " [0.56900666 0.53073716]\n",
      " [0.5445     0.4978    ]]\n",
      "now at training epoch number 5300 hyp-params: lamda 1.0600 prior 0.2350\n",
      "rec time now 0 dataset now: Syn4\n"
     ]
    },
    {
     "name": "stderr",
     "output_type": "stream",
     "text": [
      "TPR mean: 67.4%  std: 32.8%\n",
      "FDR mean: 40.0%  std: 39.6%\n"
     ]
    },
    {
     "name": "stdout",
     "output_type": "stream",
     "text": [
      "[[0.55689304 0.53814843]\n",
      " [0.56848451 0.53086837]\n",
      " [0.5434     0.4987    ]]\n",
      "rec time now 1 dataset now: Syn4\n"
     ]
    },
    {
     "name": "stderr",
     "output_type": "stream",
     "text": [
      "TPR mean: 66.4%  std: 33.3%\n",
      "FDR mean: 40.4%  std: 40.0%\n"
     ]
    },
    {
     "name": "stdout",
     "output_type": "stream",
     "text": [
      "[[0.55689304 0.53720886]\n",
      " [0.56848451 0.53022812]\n",
      " [0.5434     0.4987    ]]\n",
      "rec time now 2 dataset now: Syn4\n"
     ]
    },
    {
     "name": "stderr",
     "output_type": "stream",
     "text": [
      "TPR mean: 66.4%  std: 33.3%\n",
      "FDR mean: 40.4%  std: 40.0%\n"
     ]
    },
    {
     "name": "stdout",
     "output_type": "stream",
     "text": [
      "[[0.55689304 0.53720886]\n",
      " [0.56848451 0.53022812]\n",
      " [0.5434     0.4987    ]]\n",
      "rec time now 3 dataset now: Syn4\n"
     ]
    },
    {
     "name": "stderr",
     "output_type": "stream",
     "text": [
      "TPR mean: 66.4%  std: 33.3%\n",
      "FDR mean: 40.4%  std: 40.0%\n",
      "Epoch:      0, d_loss (Acc)): 0.571, v_loss (Acc): 0.006, g_loss: -30.4754\n"
     ]
    },
    {
     "name": "stdout",
     "output_type": "stream",
     "text": [
      "[[0.55689304 0.53720886]\n",
      " [0.56848451 0.53022812]\n",
      " [0.5434     0.4987    ]]\n",
      "now at training epoch number 5400 hyp-params: lamda 1.0800 prior 0.2300\n",
      "rec time now 0 dataset now: Syn4\n"
     ]
    },
    {
     "name": "stderr",
     "output_type": "stream",
     "text": [
      "TPR mean: 67.1%  std: 32.9%\n",
      "FDR mean: 40.1%  std: 39.7%\n"
     ]
    },
    {
     "name": "stdout",
     "output_type": "stream",
     "text": [
      "[[0.55650539 0.53591984]\n",
      " [0.5684689  0.5298628 ]\n",
      " [0.5467     0.4966    ]]\n",
      "rec time now 1 dataset now: Syn4\n"
     ]
    },
    {
     "name": "stderr",
     "output_type": "stream",
     "text": [
      "TPR mean: 66.3%  std: 33.3%\n",
      "FDR mean: 40.4%  std: 40.0%\n"
     ]
    },
    {
     "name": "stdout",
     "output_type": "stream",
     "text": [
      "[[0.55650539 0.53546046]\n",
      " [0.5684689  0.52956926]\n",
      " [0.5467     0.4963    ]]\n",
      "rec time now 2 dataset now: Syn4\n"
     ]
    },
    {
     "name": "stderr",
     "output_type": "stream",
     "text": [
      "TPR mean: 66.3%  std: 33.3%\n",
      "FDR mean: 40.4%  std: 40.0%\n"
     ]
    },
    {
     "name": "stdout",
     "output_type": "stream",
     "text": [
      "[[0.55650539 0.53546046]\n",
      " [0.5684689  0.52956926]\n",
      " [0.5467     0.4963    ]]\n",
      "rec time now 3 dataset now: Syn4\n"
     ]
    },
    {
     "name": "stderr",
     "output_type": "stream",
     "text": [
      "TPR mean: 66.3%  std: 33.3%\n",
      "FDR mean: 40.4%  std: 40.0%\n",
      "Epoch:      0, d_loss (Acc)): 0.598, v_loss (Acc): 0.006, g_loss: -31.5938\n"
     ]
    },
    {
     "name": "stdout",
     "output_type": "stream",
     "text": [
      "[[0.55650539 0.53546046]\n",
      " [0.5684689  0.52956926]\n",
      " [0.5467     0.4963    ]]\n",
      "now at training epoch number 5500 hyp-params: lamda 1.1000 prior 0.2250\n",
      "rec time now 0 dataset now: Syn4\n"
     ]
    },
    {
     "name": "stderr",
     "output_type": "stream",
     "text": [
      "TPR mean: 66.7%  std: 33.1%\n",
      "FDR mean: 40.3%  std: 39.9%\n"
     ]
    },
    {
     "name": "stdout",
     "output_type": "stream",
     "text": [
      "[[0.55669635 0.53811832]\n",
      " [0.5687496  0.53048699]\n",
      " [0.5444     0.5007    ]]\n",
      "rec time now 1 dataset now: Syn4\n"
     ]
    },
    {
     "name": "stderr",
     "output_type": "stream",
     "text": [
      "TPR mean: 66.3%  std: 33.3%\n",
      "FDR mean: 40.4%  std: 40.0%\n"
     ]
    },
    {
     "name": "stdout",
     "output_type": "stream",
     "text": [
      "[[0.55669635 0.53781147]\n",
      " [0.5687496  0.53032272]\n",
      " [0.5444     0.5006    ]]\n",
      "rec time now 2 dataset now: Syn4\n"
     ]
    },
    {
     "name": "stderr",
     "output_type": "stream",
     "text": [
      "TPR mean: 66.3%  std: 33.3%\n",
      "FDR mean: 40.4%  std: 40.0%\n"
     ]
    },
    {
     "name": "stdout",
     "output_type": "stream",
     "text": [
      "[[0.55669635 0.53781147]\n",
      " [0.5687496  0.53032272]\n",
      " [0.5444     0.5006    ]]\n",
      "rec time now 3 dataset now: Syn4\n"
     ]
    },
    {
     "name": "stderr",
     "output_type": "stream",
     "text": [
      "TPR mean: 66.3%  std: 33.3%\n",
      "FDR mean: 40.4%  std: 40.0%\n",
      "Epoch:      0, d_loss (Acc)): 0.588, v_loss (Acc): 0.005, g_loss: -30.8131\n"
     ]
    },
    {
     "name": "stdout",
     "output_type": "stream",
     "text": [
      "[[0.55669635 0.53781147]\n",
      " [0.5687496  0.53032272]\n",
      " [0.5444     0.5006    ]]\n",
      "now at training epoch number 5600 hyp-params: lamda 1.1200 prior 0.2200\n",
      "rec time now 0 dataset now: Syn4\n"
     ]
    },
    {
     "name": "stderr",
     "output_type": "stream",
     "text": [
      "TPR mean: 66.7%  std: 33.1%\n",
      "FDR mean: 40.3%  std: 39.9%\n"
     ]
    },
    {
     "name": "stdout",
     "output_type": "stream",
     "text": [
      "[[0.55607508 0.5390425 ]\n",
      " [0.56788723 0.53083102]\n",
      " [0.5421     0.4974    ]]\n",
      "rec time now 1 dataset now: Syn4\n"
     ]
    },
    {
     "name": "stderr",
     "output_type": "stream",
     "text": [
      "TPR mean: 66.3%  std: 33.3%\n",
      "FDR mean: 40.4%  std: 40.0%\n"
     ]
    },
    {
     "name": "stdout",
     "output_type": "stream",
     "text": [
      "[[0.55607508 0.53874481]\n",
      " [0.56788723 0.53062946]\n",
      " [0.5421     0.4972    ]]\n",
      "rec time now 2 dataset now: Syn4\n"
     ]
    },
    {
     "name": "stderr",
     "output_type": "stream",
     "text": [
      "TPR mean: 66.3%  std: 33.3%\n",
      "FDR mean: 40.4%  std: 40.0%\n"
     ]
    },
    {
     "name": "stdout",
     "output_type": "stream",
     "text": [
      "[[0.55607508 0.53874481]\n",
      " [0.56788723 0.53062946]\n",
      " [0.5421     0.4972    ]]\n",
      "rec time now 3 dataset now: Syn4\n"
     ]
    },
    {
     "name": "stderr",
     "output_type": "stream",
     "text": [
      "TPR mean: 66.3%  std: 33.3%\n",
      "FDR mean: 40.4%  std: 40.0%\n",
      "Epoch:      0, d_loss (Acc)): 0.578, v_loss (Acc): 0.005, g_loss: -29.5736\n"
     ]
    },
    {
     "name": "stdout",
     "output_type": "stream",
     "text": [
      "[[0.55607508 0.53874481]\n",
      " [0.56788723 0.53062946]\n",
      " [0.5421     0.4972    ]]\n",
      "now at training epoch number 5700 hyp-params: lamda 1.1400 prior 0.2150\n",
      "rec time now 0 dataset now: Syn4\n"
     ]
    },
    {
     "name": "stderr",
     "output_type": "stream",
     "text": [
      "TPR mean: 66.8%  std: 33.1%\n",
      "FDR mean: 40.3%  std: 39.8%\n"
     ]
    },
    {
     "name": "stdout",
     "output_type": "stream",
     "text": [
      "[[0.55625784 0.53864441]\n",
      " [0.56836991 0.53076773]\n",
      " [0.5434     0.4968    ]]\n",
      "rec time now 1 dataset now: Syn4\n"
     ]
    },
    {
     "name": "stderr",
     "output_type": "stream",
     "text": [
      "TPR mean: 66.3%  std: 33.3%\n",
      "FDR mean: 40.4%  std: 40.0%\n"
     ]
    },
    {
     "name": "stdout",
     "output_type": "stream",
     "text": [
      "[[0.55625784 0.53822947]\n",
      " [0.56836991 0.53032835]\n",
      " [0.5434     0.4969    ]]\n",
      "rec time now 2 dataset now: Syn4\n"
     ]
    },
    {
     "name": "stderr",
     "output_type": "stream",
     "text": [
      "TPR mean: 66.3%  std: 33.3%\n",
      "FDR mean: 40.4%  std: 40.0%\n"
     ]
    },
    {
     "name": "stdout",
     "output_type": "stream",
     "text": [
      "[[0.55625784 0.53822947]\n",
      " [0.56836991 0.53032835]\n",
      " [0.5434     0.4969    ]]\n",
      "rec time now 3 dataset now: Syn4\n"
     ]
    },
    {
     "name": "stderr",
     "output_type": "stream",
     "text": [
      "TPR mean: 66.3%  std: 33.3%\n",
      "FDR mean: 40.4%  std: 40.0%\n",
      "Epoch:      0, d_loss (Acc)): 0.573, v_loss (Acc): 0.005, g_loss: -28.9544\n"
     ]
    },
    {
     "name": "stdout",
     "output_type": "stream",
     "text": [
      "[[0.55625784 0.53822947]\n",
      " [0.56836991 0.53032835]\n",
      " [0.5434     0.4969    ]]\n",
      "now at training epoch number 5800 hyp-params: lamda 1.1600 prior 0.2100\n",
      "rec time now 0 dataset now: Syn4\n"
     ]
    },
    {
     "name": "stderr",
     "output_type": "stream",
     "text": [
      "TPR mean: 66.5%  std: 33.2%\n",
      "FDR mean: 40.4%  std: 39.9%\n"
     ]
    },
    {
     "name": "stdout",
     "output_type": "stream",
     "text": [
      "[[0.55587921 0.53865487]\n",
      " [0.56697734 0.53059949]\n",
      " [0.5452     0.4967    ]]\n",
      "rec time now 1 dataset now: Syn4\n"
     ]
    },
    {
     "name": "stderr",
     "output_type": "stream",
     "text": [
      "TPR mean: 66.3%  std: 33.3%\n",
      "FDR mean: 40.5%  std: 40.0%\n"
     ]
    },
    {
     "name": "stdout",
     "output_type": "stream",
     "text": [
      "[[0.55587921 0.53847259]\n",
      " [0.56697734 0.53042878]\n",
      " [0.5452     0.4965    ]]\n",
      "rec time now 2 dataset now: Syn4\n"
     ]
    },
    {
     "name": "stderr",
     "output_type": "stream",
     "text": [
      "TPR mean: 66.3%  std: 33.3%\n",
      "FDR mean: 40.5%  std: 40.0%\n"
     ]
    },
    {
     "name": "stdout",
     "output_type": "stream",
     "text": [
      "[[0.55587921 0.53847259]\n",
      " [0.56697734 0.53042878]\n",
      " [0.5452     0.4965    ]]\n",
      "rec time now 3 dataset now: Syn4\n"
     ]
    },
    {
     "name": "stderr",
     "output_type": "stream",
     "text": [
      "TPR mean: 66.3%  std: 33.3%\n",
      "FDR mean: 40.5%  std: 40.0%\n",
      "Epoch:      0, d_loss (Acc)): 0.552, v_loss (Acc): 0.005, g_loss: -27.6534\n"
     ]
    },
    {
     "name": "stdout",
     "output_type": "stream",
     "text": [
      "[[0.55587921 0.53847259]\n",
      " [0.56697734 0.53042878]\n",
      " [0.5452     0.4965    ]]\n",
      "now at training epoch number 5900 hyp-params: lamda 1.1800 prior 0.2050\n",
      "rec time now 0 dataset now: Syn4\n"
     ]
    },
    {
     "name": "stderr",
     "output_type": "stream",
     "text": [
      "TPR mean: 66.5%  std: 33.2%\n",
      "FDR mean: 40.4%  std: 39.9%\n"
     ]
    },
    {
     "name": "stdout",
     "output_type": "stream",
     "text": [
      "[[0.55513999 0.53923402]\n",
      " [0.56734863 0.53074566]\n",
      " [0.5437     0.4962    ]]\n",
      "rec time now 1 dataset now: Syn4\n"
     ]
    },
    {
     "name": "stderr",
     "output_type": "stream",
     "text": [
      "TPR mean: 66.3%  std: 33.3%\n",
      "FDR mean: 40.5%  std: 40.0%\n"
     ]
    },
    {
     "name": "stdout",
     "output_type": "stream",
     "text": [
      "[[0.55513999 0.53907338]\n",
      " [0.56734863 0.53059028]\n",
      " [0.5437     0.4962    ]]\n",
      "rec time now 2 dataset now: Syn4\n"
     ]
    },
    {
     "name": "stderr",
     "output_type": "stream",
     "text": [
      "TPR mean: 66.3%  std: 33.3%\n",
      "FDR mean: 40.5%  std: 40.0%\n"
     ]
    },
    {
     "name": "stdout",
     "output_type": "stream",
     "text": [
      "[[0.55513999 0.53907338]\n",
      " [0.56734863 0.53059028]\n",
      " [0.5437     0.4962    ]]\n",
      "rec time now 3 dataset now: Syn4\n"
     ]
    },
    {
     "name": "stderr",
     "output_type": "stream",
     "text": [
      "TPR mean: 66.3%  std: 33.3%\n",
      "FDR mean: 40.5%  std: 40.0%\n",
      "Epoch:      0, d_loss (Acc)): 0.563, v_loss (Acc): 0.004, g_loss: -27.6703\n"
     ]
    },
    {
     "name": "stdout",
     "output_type": "stream",
     "text": [
      "[[0.55513999 0.53907338]\n",
      " [0.56734863 0.53059028]\n",
      " [0.5437     0.4962    ]]\n",
      "now at training epoch number 6000 hyp-params: lamda 1.2000 prior 0.2000\n",
      "rec time now 0 dataset now: Syn4\n"
     ]
    },
    {
     "name": "stderr",
     "output_type": "stream",
     "text": [
      "TPR mean: 66.4%  std: 33.3%\n",
      "FDR mean: 40.4%  std: 40.0%\n"
     ]
    },
    {
     "name": "stdout",
     "output_type": "stream",
     "text": [
      "[[0.55533063 0.54042302]\n",
      " [0.56664874 0.53112751]\n",
      " [0.5426     0.4983    ]]\n",
      "rec time now 1 dataset now: Syn4\n"
     ]
    },
    {
     "name": "stderr",
     "output_type": "stream",
     "text": [
      "TPR mean: 66.3%  std: 33.3%\n",
      "FDR mean: 40.5%  std: 40.0%\n"
     ]
    },
    {
     "name": "stdout",
     "output_type": "stream",
     "text": [
      "[[0.55533063 0.54035415]\n",
      " [0.56664874 0.5309722 ]\n",
      " [0.5426     0.4983    ]]\n",
      "rec time now 2 dataset now: Syn4\n"
     ]
    },
    {
     "name": "stderr",
     "output_type": "stream",
     "text": [
      "TPR mean: 66.3%  std: 33.3%\n",
      "FDR mean: 40.5%  std: 40.0%\n"
     ]
    },
    {
     "name": "stdout",
     "output_type": "stream",
     "text": [
      "[[0.55533063 0.54035415]\n",
      " [0.56664874 0.5309722 ]\n",
      " [0.5426     0.4983    ]]\n",
      "rec time now 3 dataset now: Syn4\n"
     ]
    },
    {
     "name": "stderr",
     "output_type": "stream",
     "text": [
      "TPR mean: 66.3%  std: 33.3%\n",
      "FDR mean: 40.5%  std: 40.0%\n",
      "Epoch:      0, d_loss (Acc)): 0.576, v_loss (Acc): 0.003, g_loss: -27.7297\n"
     ]
    },
    {
     "name": "stdout",
     "output_type": "stream",
     "text": [
      "[[0.55533063 0.54035415]\n",
      " [0.56664874 0.5309722 ]\n",
      " [0.5426     0.4983    ]]\n",
      "now at training epoch number 6100 hyp-params: lamda 1.2200 prior 0.1950\n",
      "rec time now 0 dataset now: Syn4\n"
     ]
    },
    {
     "name": "stderr",
     "output_type": "stream",
     "text": [
      "TPR mean: 66.3%  std: 33.3%\n",
      "FDR mean: 40.4%  std: 40.0%\n"
     ]
    },
    {
     "name": "stdout",
     "output_type": "stream",
     "text": [
      "[[0.55470396 0.53862307]\n",
      " [0.56718689 0.53019857]\n",
      " [0.545      0.4945    ]]\n",
      "rec time now 1 dataset now: Syn4\n"
     ]
    },
    {
     "name": "stderr",
     "output_type": "stream",
     "text": [
      "TPR mean: 66.3%  std: 33.3%\n",
      "FDR mean: 40.5%  std: 40.0%\n"
     ]
    },
    {
     "name": "stdout",
     "output_type": "stream",
     "text": [
      "[[0.55470396 0.53863484]\n",
      " [0.56718689 0.53034088]\n",
      " [0.545      0.4946    ]]\n",
      "rec time now 2 dataset now: Syn4\n"
     ]
    },
    {
     "name": "stderr",
     "output_type": "stream",
     "text": [
      "TPR mean: 66.3%  std: 33.3%\n",
      "FDR mean: 40.5%  std: 40.0%\n"
     ]
    },
    {
     "name": "stdout",
     "output_type": "stream",
     "text": [
      "[[0.55470396 0.53863484]\n",
      " [0.56718689 0.53034088]\n",
      " [0.545      0.4946    ]]\n",
      "rec time now 3 dataset now: Syn4\n"
     ]
    },
    {
     "name": "stderr",
     "output_type": "stream",
     "text": [
      "TPR mean: 66.3%  std: 33.3%\n",
      "FDR mean: 40.5%  std: 40.0%\n",
      "Epoch:      0, d_loss (Acc)): 0.560, v_loss (Acc): 0.003, g_loss: -26.6562\n"
     ]
    },
    {
     "name": "stdout",
     "output_type": "stream",
     "text": [
      "[[0.55470396 0.53863484]\n",
      " [0.56718689 0.53034088]\n",
      " [0.545      0.4946    ]]\n",
      "now at training epoch number 6200 hyp-params: lamda 1.2400 prior 0.1900\n",
      "rec time now 0 dataset now: Syn4\n"
     ]
    },
    {
     "name": "stderr",
     "output_type": "stream",
     "text": [
      "TPR mean: 66.3%  std: 33.3%\n",
      "FDR mean: 40.4%  std: 40.0%\n"
     ]
    },
    {
     "name": "stdout",
     "output_type": "stream",
     "text": [
      "[[0.55592036 0.53915603]\n",
      " [0.56718675 0.53052046]\n",
      " [0.5433     0.495     ]]\n",
      "rec time now 1 dataset now: Syn4\n"
     ]
    },
    {
     "name": "stderr",
     "output_type": "stream",
     "text": [
      "TPR mean: 66.3%  std: 33.3%\n",
      "FDR mean: 40.5%  std: 40.0%\n"
     ]
    },
    {
     "name": "stdout",
     "output_type": "stream",
     "text": [
      "[[0.55592036 0.53914743]\n",
      " [0.56718675 0.53049098]\n",
      " [0.5433     0.495     ]]\n",
      "rec time now 2 dataset now: Syn4\n"
     ]
    },
    {
     "name": "stderr",
     "output_type": "stream",
     "text": [
      "TPR mean: 66.3%  std: 33.3%\n",
      "FDR mean: 40.5%  std: 40.0%\n"
     ]
    },
    {
     "name": "stdout",
     "output_type": "stream",
     "text": [
      "[[0.55592036 0.53914743]\n",
      " [0.56718675 0.53049098]\n",
      " [0.5433     0.495     ]]\n",
      "rec time now 3 dataset now: Syn4\n"
     ]
    },
    {
     "name": "stderr",
     "output_type": "stream",
     "text": [
      "TPR mean: 66.3%  std: 33.3%\n",
      "FDR mean: 40.5%  std: 40.0%\n",
      "Epoch:      0, d_loss (Acc)): 0.572, v_loss (Acc): 0.003, g_loss: -26.8546\n"
     ]
    },
    {
     "name": "stdout",
     "output_type": "stream",
     "text": [
      "[[0.55592036 0.53914743]\n",
      " [0.56718675 0.53049098]\n",
      " [0.5433     0.495     ]]\n",
      "now at training epoch number 6300 hyp-params: lamda 1.2600 prior 0.1850\n",
      "rec time now 0 dataset now: Syn4\n"
     ]
    },
    {
     "name": "stderr",
     "output_type": "stream",
     "text": [
      "TPR mean: 66.3%  std: 33.3%\n",
      "FDR mean: 40.5%  std: 40.0%\n"
     ]
    },
    {
     "name": "stdout",
     "output_type": "stream",
     "text": [
      "[[0.5551096  0.53940704]\n",
      " [0.56650827 0.53060772]\n",
      " [0.5423     0.4954    ]]\n",
      "rec time now 1 dataset now: Syn4\n"
     ]
    },
    {
     "name": "stderr",
     "output_type": "stream",
     "text": [
      "TPR mean: 66.3%  std: 33.3%\n",
      "FDR mean: 40.5%  std: 40.0%\n"
     ]
    },
    {
     "name": "stdout",
     "output_type": "stream",
     "text": [
      "[[0.5551096  0.53940214]\n",
      " [0.56650827 0.53059598]\n",
      " [0.5423     0.4954    ]]\n",
      "rec time now 2 dataset now: Syn4\n"
     ]
    },
    {
     "name": "stderr",
     "output_type": "stream",
     "text": [
      "TPR mean: 66.3%  std: 33.3%\n",
      "FDR mean: 40.5%  std: 40.0%\n"
     ]
    },
    {
     "name": "stdout",
     "output_type": "stream",
     "text": [
      "[[0.5551096  0.53940214]\n",
      " [0.56650827 0.53059598]\n",
      " [0.5423     0.4954    ]]\n",
      "rec time now 3 dataset now: Syn4\n"
     ]
    },
    {
     "name": "stderr",
     "output_type": "stream",
     "text": [
      "TPR mean: 66.3%  std: 33.3%\n",
      "FDR mean: 40.5%  std: 40.0%\n",
      "Epoch:      0, d_loss (Acc)): 0.573, v_loss (Acc): 0.006, g_loss: -26.4297\n"
     ]
    },
    {
     "name": "stdout",
     "output_type": "stream",
     "text": [
      "[[0.5551096  0.53940214]\n",
      " [0.56650827 0.53059598]\n",
      " [0.5423     0.4954    ]]\n",
      "now at training epoch number 6400 hyp-params: lamda 1.2800 prior 0.1800\n",
      "rec time now 0 dataset now: Syn4\n"
     ]
    },
    {
     "name": "stderr",
     "output_type": "stream",
     "text": [
      "TPR mean: 66.3%  std: 33.3%\n",
      "FDR mean: 40.4%  std: 40.0%\n"
     ]
    },
    {
     "name": "stdout",
     "output_type": "stream",
     "text": [
      "[[0.55531986 0.54071045]\n",
      " [0.56761423 0.53105088]\n",
      " [0.5435     0.4963    ]]\n",
      "rec time now 1 dataset now: Syn4\n"
     ]
    },
    {
     "name": "stderr",
     "output_type": "stream",
     "text": [
      "TPR mean: 66.3%  std: 33.3%\n",
      "FDR mean: 40.5%  std: 40.0%\n"
     ]
    },
    {
     "name": "stdout",
     "output_type": "stream",
     "text": [
      "[[0.55531986 0.54069988]\n",
      " [0.56761423 0.53101169]\n",
      " [0.5435     0.4963    ]]\n",
      "rec time now 2 dataset now: Syn4\n"
     ]
    },
    {
     "name": "stderr",
     "output_type": "stream",
     "text": [
      "TPR mean: 66.3%  std: 33.3%\n",
      "FDR mean: 40.5%  std: 40.0%\n"
     ]
    },
    {
     "name": "stdout",
     "output_type": "stream",
     "text": [
      "[[0.55531986 0.54069988]\n",
      " [0.56761423 0.53101169]\n",
      " [0.5435     0.4963    ]]\n",
      "rec time now 3 dataset now: Syn4\n"
     ]
    },
    {
     "name": "stderr",
     "output_type": "stream",
     "text": [
      "TPR mean: 66.3%  std: 33.3%\n",
      "FDR mean: 40.5%  std: 40.0%\n",
      "Epoch:      0, d_loss (Acc)): 0.565, v_loss (Acc): 0.003, g_loss: -25.2131\n"
     ]
    },
    {
     "name": "stdout",
     "output_type": "stream",
     "text": [
      "[[0.55531986 0.54069988]\n",
      " [0.56761423 0.53101169]\n",
      " [0.5435     0.4963    ]]\n",
      "now at training epoch number 6500 hyp-params: lamda 1.3000 prior 0.1750\n",
      "rec time now 0 dataset now: Syn4\n"
     ]
    },
    {
     "name": "stderr",
     "output_type": "stream",
     "text": [
      "TPR mean: 66.3%  std: 33.3%\n",
      "FDR mean: 40.5%  std: 40.0%\n"
     ]
    },
    {
     "name": "stdout",
     "output_type": "stream",
     "text": [
      "[[0.55395958 0.54159924]\n",
      " [0.56567432 0.53132585]\n",
      " [0.5418     0.4974    ]]\n",
      "rec time now 1 dataset now: Syn4\n"
     ]
    },
    {
     "name": "stderr",
     "output_type": "stream",
     "text": [
      "TPR mean: 66.3%  std: 33.3%\n",
      "FDR mean: 40.5%  std: 40.0%\n"
     ]
    },
    {
     "name": "stdout",
     "output_type": "stream",
     "text": [
      "[[0.55395958 0.54159762]\n",
      " [0.56567432 0.5313284 ]\n",
      " [0.5418     0.4974    ]]\n",
      "rec time now 2 dataset now: Syn4\n"
     ]
    },
    {
     "name": "stderr",
     "output_type": "stream",
     "text": [
      "TPR mean: 66.3%  std: 33.3%\n",
      "FDR mean: 40.5%  std: 40.0%\n"
     ]
    },
    {
     "name": "stdout",
     "output_type": "stream",
     "text": [
      "[[0.55395958 0.54159762]\n",
      " [0.56567432 0.5313284 ]\n",
      " [0.5418     0.4974    ]]\n",
      "rec time now 3 dataset now: Syn4\n"
     ]
    },
    {
     "name": "stderr",
     "output_type": "stream",
     "text": [
      "TPR mean: 66.3%  std: 33.3%\n",
      "FDR mean: 40.5%  std: 40.0%\n",
      "Epoch:      0, d_loss (Acc)): 0.574, v_loss (Acc): 0.002, g_loss: -25.4517\n"
     ]
    },
    {
     "name": "stdout",
     "output_type": "stream",
     "text": [
      "[[0.55395958 0.54159762]\n",
      " [0.56567432 0.5313284 ]\n",
      " [0.5418     0.4974    ]]\n",
      "now at training epoch number 6600 hyp-params: lamda 1.3200 prior 0.1700\n",
      "rec time now 0 dataset now: Syn4\n"
     ]
    },
    {
     "name": "stderr",
     "output_type": "stream",
     "text": [
      "TPR mean: 66.3%  std: 33.3%\n",
      "FDR mean: 40.5%  std: 40.0%\n"
     ]
    },
    {
     "name": "stdout",
     "output_type": "stream",
     "text": [
      "[[0.55515467 0.54320223]\n",
      " [0.56766869 0.53187568]\n",
      " [0.5421     0.4985    ]]\n",
      "rec time now 1 dataset now: Syn4\n"
     ]
    },
    {
     "name": "stderr",
     "output_type": "stream",
     "text": [
      "TPR mean: 66.3%  std: 33.3%\n",
      "FDR mean: 40.5%  std: 40.0%\n"
     ]
    },
    {
     "name": "stdout",
     "output_type": "stream",
     "text": [
      "[[0.55515467 0.54319898]\n",
      " [0.56766869 0.53187584]\n",
      " [0.5421     0.4985    ]]\n",
      "rec time now 2 dataset now: Syn4\n"
     ]
    },
    {
     "name": "stderr",
     "output_type": "stream",
     "text": [
      "TPR mean: 66.3%  std: 33.3%\n",
      "FDR mean: 40.5%  std: 40.0%\n"
     ]
    },
    {
     "name": "stdout",
     "output_type": "stream",
     "text": [
      "[[0.55515467 0.54319898]\n",
      " [0.56766869 0.53187584]\n",
      " [0.5421     0.4985    ]]\n",
      "rec time now 3 dataset now: Syn4\n"
     ]
    },
    {
     "name": "stderr",
     "output_type": "stream",
     "text": [
      "TPR mean: 66.3%  std: 33.3%\n",
      "FDR mean: 40.5%  std: 40.0%\n",
      "Epoch:      0, d_loss (Acc)): 0.572, v_loss (Acc): 0.002, g_loss: -25.1982\n"
     ]
    },
    {
     "name": "stdout",
     "output_type": "stream",
     "text": [
      "[[0.55515467 0.54319898]\n",
      " [0.56766869 0.53187584]\n",
      " [0.5421     0.4985    ]]\n",
      "now at training epoch number 6700 hyp-params: lamda 1.3400 prior 0.1650\n",
      "rec time now 0 dataset now: Syn4\n"
     ]
    },
    {
     "name": "stderr",
     "output_type": "stream",
     "text": [
      "TPR mean: 66.3%  std: 33.3%\n",
      "FDR mean: 40.5%  std: 40.0%\n"
     ]
    },
    {
     "name": "stdout",
     "output_type": "stream",
     "text": [
      "[[0.55598101 0.5429813 ]\n",
      " [0.56677122 0.53176356]\n",
      " [0.5429     0.4973    ]]\n",
      "rec time now 1 dataset now: Syn4\n"
     ]
    },
    {
     "name": "stderr",
     "output_type": "stream",
     "text": [
      "TPR mean: 66.3%  std: 33.3%\n",
      "FDR mean: 40.5%  std: 40.0%\n"
     ]
    },
    {
     "name": "stdout",
     "output_type": "stream",
     "text": [
      "[[0.55598101 0.54297859]\n",
      " [0.56677122 0.53174895]\n",
      " [0.5429     0.4973    ]]\n",
      "rec time now 2 dataset now: Syn4\n"
     ]
    },
    {
     "name": "stderr",
     "output_type": "stream",
     "text": [
      "TPR mean: 66.3%  std: 33.3%\n",
      "FDR mean: 40.5%  std: 40.0%\n"
     ]
    },
    {
     "name": "stdout",
     "output_type": "stream",
     "text": [
      "[[0.55598101 0.54297859]\n",
      " [0.56677122 0.53174895]\n",
      " [0.5429     0.4973    ]]\n",
      "rec time now 3 dataset now: Syn4\n"
     ]
    },
    {
     "name": "stderr",
     "output_type": "stream",
     "text": [
      "TPR mean: 66.3%  std: 33.3%\n",
      "FDR mean: 40.5%  std: 40.0%\n",
      "Epoch:      0, d_loss (Acc)): 0.576, v_loss (Acc): 0.003, g_loss: -24.8100\n"
     ]
    },
    {
     "name": "stdout",
     "output_type": "stream",
     "text": [
      "[[0.55598101 0.54297859]\n",
      " [0.56677122 0.53174895]\n",
      " [0.5429     0.4973    ]]\n",
      "now at training epoch number 6800 hyp-params: lamda 1.3600 prior 0.1600\n",
      "rec time now 0 dataset now: Syn4\n"
     ]
    },
    {
     "name": "stderr",
     "output_type": "stream",
     "text": [
      "TPR mean: 66.3%  std: 33.3%\n",
      "FDR mean: 40.5%  std: 40.0%\n"
     ]
    },
    {
     "name": "stdout",
     "output_type": "stream",
     "text": [
      "[[0.55432652 0.54401241]\n",
      " [0.56567639 0.53193109]\n",
      " [0.541      0.4984    ]]\n",
      "rec time now 1 dataset now: Syn4\n"
     ]
    },
    {
     "name": "stderr",
     "output_type": "stream",
     "text": [
      "TPR mean: 66.3%  std: 33.3%\n",
      "FDR mean: 40.5%  std: 40.0%\n"
     ]
    },
    {
     "name": "stdout",
     "output_type": "stream",
     "text": [
      "[[0.55432652 0.54401241]\n",
      " [0.56567639 0.53193109]\n",
      " [0.541      0.4984    ]]\n",
      "rec time now 2 dataset now: Syn4\n"
     ]
    },
    {
     "name": "stderr",
     "output_type": "stream",
     "text": [
      "TPR mean: 66.3%  std: 33.3%\n",
      "FDR mean: 40.5%  std: 40.0%\n"
     ]
    },
    {
     "name": "stdout",
     "output_type": "stream",
     "text": [
      "[[0.55432652 0.54401241]\n",
      " [0.56567639 0.53193109]\n",
      " [0.541      0.4984    ]]\n",
      "rec time now 3 dataset now: Syn4\n"
     ]
    },
    {
     "name": "stderr",
     "output_type": "stream",
     "text": [
      "TPR mean: 66.3%  std: 33.3%\n",
      "FDR mean: 40.5%  std: 40.0%\n",
      "Epoch:      0, d_loss (Acc)): 0.571, v_loss (Acc): 0.002, g_loss: -24.1037\n"
     ]
    },
    {
     "name": "stdout",
     "output_type": "stream",
     "text": [
      "[[0.55432652 0.54401241]\n",
      " [0.56567639 0.53193109]\n",
      " [0.541      0.4984    ]]\n",
      "now at training epoch number 6900 hyp-params: lamda 1.3800 prior 0.1550\n",
      "rec time now 0 dataset now: Syn4\n"
     ]
    },
    {
     "name": "stderr",
     "output_type": "stream",
     "text": [
      "TPR mean: 66.3%  std: 33.3%\n",
      "FDR mean: 40.5%  std: 40.0%\n"
     ]
    },
    {
     "name": "stdout",
     "output_type": "stream",
     "text": [
      "[[0.55501465 0.54484956]\n",
      " [0.56612252 0.53224834]\n",
      " [0.5402     0.4978    ]]\n",
      "rec time now 1 dataset now: Syn4\n"
     ]
    },
    {
     "name": "stderr",
     "output_type": "stream",
     "text": [
      "TPR mean: 66.3%  std: 33.3%\n",
      "FDR mean: 40.5%  std: 40.0%\n"
     ]
    },
    {
     "name": "stdout",
     "output_type": "stream",
     "text": [
      "[[0.55501465 0.54484956]\n",
      " [0.56612252 0.53224834]\n",
      " [0.5402     0.4978    ]]\n",
      "rec time now 2 dataset now: Syn4\n"
     ]
    },
    {
     "name": "stderr",
     "output_type": "stream",
     "text": [
      "TPR mean: 66.3%  std: 33.3%\n",
      "FDR mean: 40.5%  std: 40.0%\n"
     ]
    },
    {
     "name": "stdout",
     "output_type": "stream",
     "text": [
      "[[0.55501465 0.54484956]\n",
      " [0.56612252 0.53224834]\n",
      " [0.5402     0.4978    ]]\n",
      "rec time now 3 dataset now: Syn4\n"
     ]
    },
    {
     "name": "stderr",
     "output_type": "stream",
     "text": [
      "TPR mean: 66.3%  std: 33.3%\n",
      "FDR mean: 40.5%  std: 40.0%\n",
      "Epoch:      0, d_loss (Acc)): 0.576, v_loss (Acc): 0.002, g_loss: -23.7085\n"
     ]
    },
    {
     "name": "stdout",
     "output_type": "stream",
     "text": [
      "[[0.55501465 0.54484956]\n",
      " [0.56612252 0.53224834]\n",
      " [0.5402     0.4978    ]]\n",
      "now at training epoch number 7000 hyp-params: lamda 1.4000 prior 0.1500\n",
      "rec time now 0 dataset now: Syn4\n"
     ]
    },
    {
     "name": "stderr",
     "output_type": "stream",
     "text": [
      "TPR mean: 66.3%  std: 33.3%\n",
      "FDR mean: 40.5%  std: 40.0%\n"
     ]
    },
    {
     "name": "stdout",
     "output_type": "stream",
     "text": [
      "[[0.55411417 0.54641336]\n",
      " [0.5640189  0.53281724]\n",
      " [0.5438     0.4995    ]]\n",
      "rec time now 1 dataset now: Syn4\n"
     ]
    },
    {
     "name": "stderr",
     "output_type": "stream",
     "text": [
      "TPR mean: 66.3%  std: 33.3%\n",
      "FDR mean: 40.5%  std: 40.0%\n"
     ]
    },
    {
     "name": "stdout",
     "output_type": "stream",
     "text": [
      "[[0.55411417 0.54641336]\n",
      " [0.5640189  0.53281724]\n",
      " [0.5438     0.4995    ]]\n",
      "rec time now 2 dataset now: Syn4\n"
     ]
    },
    {
     "name": "stderr",
     "output_type": "stream",
     "text": [
      "TPR mean: 66.3%  std: 33.3%\n",
      "FDR mean: 40.5%  std: 40.0%\n"
     ]
    },
    {
     "name": "stdout",
     "output_type": "stream",
     "text": [
      "[[0.55411417 0.54641336]\n",
      " [0.5640189  0.53281724]\n",
      " [0.5438     0.4995    ]]\n",
      "rec time now 3 dataset now: Syn4\n"
     ]
    },
    {
     "name": "stderr",
     "output_type": "stream",
     "text": [
      "TPR mean: 66.3%  std: 33.3%\n",
      "FDR mean: 40.5%  std: 40.0%\n",
      "Epoch:      0, d_loss (Acc)): 0.547, v_loss (Acc): 0.003, g_loss: -22.2270\n"
     ]
    },
    {
     "name": "stdout",
     "output_type": "stream",
     "text": [
      "[[0.55411417 0.54641336]\n",
      " [0.5640189  0.53281724]\n",
      " [0.5438     0.4995    ]]\n",
      "now at training epoch number 7100 hyp-params: lamda 1.4200 prior 0.1450\n",
      "rec time now 0 dataset now: Syn4\n"
     ]
    },
    {
     "name": "stderr",
     "output_type": "stream",
     "text": [
      "TPR mean: 66.3%  std: 33.3%\n",
      "FDR mean: 40.5%  std: 40.0%\n"
     ]
    },
    {
     "name": "stdout",
     "output_type": "stream",
     "text": [
      "[[0.55446236 0.54833104]\n",
      " [0.56605048 0.53366416]\n",
      " [0.5428     0.5025    ]]\n",
      "rec time now 1 dataset now: Syn4\n"
     ]
    },
    {
     "name": "stderr",
     "output_type": "stream",
     "text": [
      "TPR mean: 66.3%  std: 33.3%\n",
      "FDR mean: 40.5%  std: 40.0%\n"
     ]
    },
    {
     "name": "stdout",
     "output_type": "stream",
     "text": [
      "[[0.55446236 0.54833104]\n",
      " [0.56605048 0.53366416]\n",
      " [0.5428     0.5025    ]]\n",
      "rec time now 2 dataset now: Syn4\n"
     ]
    },
    {
     "name": "stderr",
     "output_type": "stream",
     "text": [
      "TPR mean: 66.3%  std: 33.3%\n",
      "FDR mean: 40.5%  std: 40.0%\n"
     ]
    },
    {
     "name": "stdout",
     "output_type": "stream",
     "text": [
      "[[0.55446236 0.54833104]\n",
      " [0.56605048 0.53366416]\n",
      " [0.5428     0.5025    ]]\n",
      "rec time now 3 dataset now: Syn4\n"
     ]
    },
    {
     "name": "stderr",
     "output_type": "stream",
     "text": [
      "TPR mean: 66.3%  std: 33.3%\n",
      "FDR mean: 40.5%  std: 40.0%\n",
      "Epoch:      0, d_loss (Acc)): 0.566, v_loss (Acc): 0.001, g_loss: -22.2173\n"
     ]
    },
    {
     "name": "stdout",
     "output_type": "stream",
     "text": [
      "[[0.55446236 0.54833104]\n",
      " [0.56605048 0.53366416]\n",
      " [0.5428     0.5025    ]]\n",
      "now at training epoch number 7200 hyp-params: lamda 1.4400 prior 0.1400\n",
      "rec time now 0 dataset now: Syn4\n"
     ]
    },
    {
     "name": "stderr",
     "output_type": "stream",
     "text": [
      "TPR mean: 66.3%  std: 33.3%\n",
      "FDR mean: 40.5%  std: 40.0%\n"
     ]
    },
    {
     "name": "stdout",
     "output_type": "stream",
     "text": [
      "[[0.55580362 0.54687308]\n",
      " [0.56711013 0.53288953]\n",
      " [0.5441     0.4992    ]]\n",
      "rec time now 1 dataset now: Syn4\n"
     ]
    },
    {
     "name": "stderr",
     "output_type": "stream",
     "text": [
      "TPR mean: 66.3%  std: 33.3%\n",
      "FDR mean: 40.5%  std: 40.0%\n"
     ]
    },
    {
     "name": "stdout",
     "output_type": "stream",
     "text": [
      "[[0.55580362 0.54687308]\n",
      " [0.56711013 0.53288953]\n",
      " [0.5441     0.4992    ]]\n",
      "rec time now 2 dataset now: Syn4\n"
     ]
    },
    {
     "name": "stderr",
     "output_type": "stream",
     "text": [
      "TPR mean: 66.3%  std: 33.3%\n",
      "FDR mean: 40.5%  std: 40.0%\n"
     ]
    },
    {
     "name": "stdout",
     "output_type": "stream",
     "text": [
      "[[0.55580362 0.54687308]\n",
      " [0.56711013 0.53288953]\n",
      " [0.5441     0.4992    ]]\n",
      "rec time now 3 dataset now: Syn4\n"
     ]
    },
    {
     "name": "stderr",
     "output_type": "stream",
     "text": [
      "TPR mean: 66.3%  std: 33.3%\n",
      "FDR mean: 40.5%  std: 40.0%\n",
      "Epoch:      0, d_loss (Acc)): 0.583, v_loss (Acc): 0.002, g_loss: -22.6980\n"
     ]
    },
    {
     "name": "stdout",
     "output_type": "stream",
     "text": [
      "[[0.55580362 0.54687308]\n",
      " [0.56711013 0.53288953]\n",
      " [0.5441     0.4992    ]]\n",
      "now at training epoch number 7300 hyp-params: lamda 1.4600 prior 0.1350\n",
      "rec time now 0 dataset now: Syn4\n"
     ]
    },
    {
     "name": "stderr",
     "output_type": "stream",
     "text": [
      "TPR mean: 66.3%  std: 33.3%\n",
      "FDR mean: 40.5%  std: 40.0%\n"
     ]
    },
    {
     "name": "stdout",
     "output_type": "stream",
     "text": [
      "[[0.55408923 0.54811226]\n",
      " [0.56524515 0.53312026]\n",
      " [0.5452     0.5036    ]]\n",
      "rec time now 1 dataset now: Syn4\n"
     ]
    },
    {
     "name": "stderr",
     "output_type": "stream",
     "text": [
      "TPR mean: 66.3%  std: 33.3%\n",
      "FDR mean: 40.5%  std: 40.0%\n"
     ]
    },
    {
     "name": "stdout",
     "output_type": "stream",
     "text": [
      "[[0.55408923 0.54811226]\n",
      " [0.56524515 0.53312026]\n",
      " [0.5452     0.5036    ]]\n",
      "rec time now 2 dataset now: Syn4\n"
     ]
    },
    {
     "name": "stderr",
     "output_type": "stream",
     "text": [
      "TPR mean: 66.3%  std: 33.3%\n",
      "FDR mean: 40.5%  std: 40.0%\n"
     ]
    },
    {
     "name": "stdout",
     "output_type": "stream",
     "text": [
      "[[0.55408923 0.54811226]\n",
      " [0.56524515 0.53312026]\n",
      " [0.5452     0.5036    ]]\n",
      "rec time now 3 dataset now: Syn4\n"
     ]
    },
    {
     "name": "stderr",
     "output_type": "stream",
     "text": [
      "TPR mean: 66.3%  std: 33.3%\n",
      "FDR mean: 40.5%  std: 40.0%\n",
      "Epoch:      0, d_loss (Acc)): 0.569, v_loss (Acc): 0.002, g_loss: -21.9583\n"
     ]
    },
    {
     "name": "stdout",
     "output_type": "stream",
     "text": [
      "[[0.55408923 0.54811226]\n",
      " [0.56524515 0.53312026]\n",
      " [0.5452     0.5036    ]]\n",
      "now at training epoch number 7400 hyp-params: lamda 1.4800 prior 0.1300\n",
      "rec time now 0 dataset now: Syn4\n"
     ]
    },
    {
     "name": "stderr",
     "output_type": "stream",
     "text": [
      "TPR mean: 66.3%  std: 33.3%\n",
      "FDR mean: 40.5%  std: 40.0%\n"
     ]
    },
    {
     "name": "stdout",
     "output_type": "stream",
     "text": [
      "[[0.55360928 0.54969622]\n",
      " [0.56420497 0.53368332]\n",
      " [0.5404     0.5037    ]]\n",
      "rec time now 1 dataset now: Syn4\n"
     ]
    },
    {
     "name": "stderr",
     "output_type": "stream",
     "text": [
      "TPR mean: 66.3%  std: 33.3%\n",
      "FDR mean: 40.5%  std: 40.0%\n"
     ]
    },
    {
     "name": "stdout",
     "output_type": "stream",
     "text": [
      "[[0.55360928 0.54969622]\n",
      " [0.56420497 0.53368332]\n",
      " [0.5404     0.5037    ]]\n",
      "rec time now 2 dataset now: Syn4\n"
     ]
    },
    {
     "name": "stderr",
     "output_type": "stream",
     "text": [
      "TPR mean: 66.3%  std: 33.3%\n",
      "FDR mean: 40.5%  std: 40.0%\n"
     ]
    },
    {
     "name": "stdout",
     "output_type": "stream",
     "text": [
      "[[0.55360928 0.54969622]\n",
      " [0.56420497 0.53368332]\n",
      " [0.5404     0.5037    ]]\n",
      "rec time now 3 dataset now: Syn4\n"
     ]
    },
    {
     "name": "stderr",
     "output_type": "stream",
     "text": [
      "TPR mean: 66.3%  std: 33.3%\n",
      "FDR mean: 40.5%  std: 40.0%\n",
      "Epoch:      0, d_loss (Acc)): 0.556, v_loss (Acc): 0.014, g_loss: -20.1161\n"
     ]
    },
    {
     "name": "stdout",
     "output_type": "stream",
     "text": [
      "[[0.55360928 0.54969622]\n",
      " [0.56420497 0.53368332]\n",
      " [0.5404     0.5037    ]]\n",
      "now at training epoch number 7500 hyp-params: lamda 1.5000 prior 0.1250\n",
      "rec time now 0 dataset now: Syn4\n"
     ]
    },
    {
     "name": "stderr",
     "output_type": "stream",
     "text": [
      "TPR mean: 66.3%  std: 33.3%\n",
      "FDR mean: 40.5%  std: 40.0%\n"
     ]
    },
    {
     "name": "stdout",
     "output_type": "stream",
     "text": [
      "[[0.5558938  0.55165701]\n",
      " [0.56631392 0.53450821]\n",
      " [0.5442     0.5081    ]]\n",
      "rec time now 1 dataset now: Syn4\n"
     ]
    },
    {
     "name": "stderr",
     "output_type": "stream",
     "text": [
      "TPR mean: 66.3%  std: 33.3%\n",
      "FDR mean: 40.5%  std: 40.0%\n"
     ]
    },
    {
     "name": "stdout",
     "output_type": "stream",
     "text": [
      "[[0.5558938  0.55165701]\n",
      " [0.56631392 0.53450821]\n",
      " [0.5442     0.5081    ]]\n",
      "rec time now 2 dataset now: Syn4\n"
     ]
    },
    {
     "name": "stderr",
     "output_type": "stream",
     "text": [
      "TPR mean: 66.3%  std: 33.3%\n",
      "FDR mean: 40.5%  std: 40.0%\n"
     ]
    },
    {
     "name": "stdout",
     "output_type": "stream",
     "text": [
      "[[0.5558938  0.55165701]\n",
      " [0.56631392 0.53450821]\n",
      " [0.5442     0.5081    ]]\n",
      "rec time now 3 dataset now: Syn4\n"
     ]
    },
    {
     "name": "stderr",
     "output_type": "stream",
     "text": [
      "TPR mean: 66.3%  std: 33.3%\n",
      "FDR mean: 40.5%  std: 40.0%\n",
      "Epoch:      0, d_loss (Acc)): 0.578, v_loss (Acc): 0.005, g_loss: -20.6239\n"
     ]
    },
    {
     "name": "stdout",
     "output_type": "stream",
     "text": [
      "[[0.5558938  0.55165701]\n",
      " [0.56631392 0.53450821]\n",
      " [0.5442     0.5081    ]]\n",
      "now at training epoch number 7600 hyp-params: lamda 1.5200 prior 0.1200\n",
      "rec time now 0 dataset now: Syn4\n"
     ]
    },
    {
     "name": "stderr",
     "output_type": "stream",
     "text": [
      "TPR mean: 66.3%  std: 33.3%\n",
      "FDR mean: 40.5%  std: 40.0%\n"
     ]
    },
    {
     "name": "stdout",
     "output_type": "stream",
     "text": [
      "[[0.55625767 0.55333365]\n",
      " [0.56795341 0.53507908]\n",
      " [0.5453     0.5118    ]]\n",
      "rec time now 1 dataset now: Syn4\n"
     ]
    },
    {
     "name": "stderr",
     "output_type": "stream",
     "text": [
      "TPR mean: 66.3%  std: 33.3%\n",
      "FDR mean: 40.5%  std: 40.0%\n"
     ]
    },
    {
     "name": "stdout",
     "output_type": "stream",
     "text": [
      "[[0.55625767 0.55333365]\n",
      " [0.56795341 0.53507908]\n",
      " [0.5453     0.5118    ]]\n",
      "rec time now 2 dataset now: Syn4\n"
     ]
    },
    {
     "name": "stderr",
     "output_type": "stream",
     "text": [
      "TPR mean: 66.3%  std: 33.3%\n",
      "FDR mean: 40.5%  std: 40.0%\n"
     ]
    },
    {
     "name": "stdout",
     "output_type": "stream",
     "text": [
      "[[0.55625767 0.55333365]\n",
      " [0.56795341 0.53507908]\n",
      " [0.5453     0.5118    ]]\n",
      "rec time now 3 dataset now: Syn4\n"
     ]
    },
    {
     "name": "stderr",
     "output_type": "stream",
     "text": [
      "TPR mean: 66.3%  std: 33.3%\n",
      "FDR mean: 40.5%  std: 40.0%\n",
      "Epoch:      0, d_loss (Acc)): 0.557, v_loss (Acc): 0.001, g_loss: -19.1147\n"
     ]
    },
    {
     "name": "stdout",
     "output_type": "stream",
     "text": [
      "[[0.55625767 0.55333365]\n",
      " [0.56795341 0.53507908]\n",
      " [0.5453     0.5118    ]]\n",
      "now at training epoch number 7700 hyp-params: lamda 1.5400 prior 0.1150\n",
      "rec time now 0 dataset now: Syn4\n"
     ]
    },
    {
     "name": "stderr",
     "output_type": "stream",
     "text": [
      "TPR mean: 66.3%  std: 33.3%\n",
      "FDR mean: 40.5%  std: 40.0%\n"
     ]
    },
    {
     "name": "stdout",
     "output_type": "stream",
     "text": [
      "[[0.55643791 0.55492872]\n",
      " [0.56749638 0.53569551]\n",
      " [0.5469     0.5164    ]]\n",
      "rec time now 1 dataset now: Syn4\n"
     ]
    },
    {
     "name": "stderr",
     "output_type": "stream",
     "text": [
      "TPR mean: 66.3%  std: 33.3%\n",
      "FDR mean: 40.5%  std: 40.0%\n"
     ]
    },
    {
     "name": "stdout",
     "output_type": "stream",
     "text": [
      "[[0.55643791 0.55492872]\n",
      " [0.56749638 0.53569551]\n",
      " [0.5469     0.5164    ]]\n",
      "rec time now 2 dataset now: Syn4\n"
     ]
    },
    {
     "name": "stderr",
     "output_type": "stream",
     "text": [
      "TPR mean: 66.3%  std: 33.3%\n",
      "FDR mean: 40.5%  std: 40.0%\n"
     ]
    },
    {
     "name": "stdout",
     "output_type": "stream",
     "text": [
      "[[0.55643791 0.55492872]\n",
      " [0.56749638 0.53569551]\n",
      " [0.5469     0.5164    ]]\n",
      "rec time now 3 dataset now: Syn4\n"
     ]
    },
    {
     "name": "stderr",
     "output_type": "stream",
     "text": [
      "TPR mean: 66.3%  std: 33.3%\n",
      "FDR mean: 40.5%  std: 40.0%\n",
      "Epoch:      0, d_loss (Acc)): 0.546, v_loss (Acc): 0.001, g_loss: -18.5751\n"
     ]
    },
    {
     "name": "stdout",
     "output_type": "stream",
     "text": [
      "[[0.55643791 0.55492872]\n",
      " [0.56749638 0.53569551]\n",
      " [0.5469     0.5164    ]]\n",
      "now at training epoch number 7800 hyp-params: lamda 1.5600 prior 0.1100\n",
      "rec time now 0 dataset now: Syn4\n"
     ]
    },
    {
     "name": "stderr",
     "output_type": "stream",
     "text": [
      "TPR mean: 66.3%  std: 33.3%\n",
      "FDR mean: 40.5%  std: 40.0%\n"
     ]
    },
    {
     "name": "stdout",
     "output_type": "stream",
     "text": [
      "[[0.55580344 0.55780653]\n",
      " [0.56658591 0.53682579]\n",
      " [0.5454     0.5231    ]]\n",
      "rec time now 1 dataset now: Syn4\n"
     ]
    },
    {
     "name": "stderr",
     "output_type": "stream",
     "text": [
      "TPR mean: 66.3%  std: 33.3%\n",
      "FDR mean: 40.5%  std: 40.0%\n"
     ]
    },
    {
     "name": "stdout",
     "output_type": "stream",
     "text": [
      "[[0.55580344 0.55780653]\n",
      " [0.56658591 0.53682579]\n",
      " [0.5454     0.5231    ]]\n",
      "rec time now 2 dataset now: Syn4\n"
     ]
    },
    {
     "name": "stderr",
     "output_type": "stream",
     "text": [
      "TPR mean: 66.3%  std: 33.3%\n",
      "FDR mean: 40.5%  std: 40.0%\n"
     ]
    },
    {
     "name": "stdout",
     "output_type": "stream",
     "text": [
      "[[0.55580344 0.55780653]\n",
      " [0.56658591 0.53682579]\n",
      " [0.5454     0.5231    ]]\n",
      "rec time now 3 dataset now: Syn4\n"
     ]
    },
    {
     "name": "stderr",
     "output_type": "stream",
     "text": [
      "TPR mean: 66.3%  std: 33.3%\n",
      "FDR mean: 40.5%  std: 40.0%\n",
      "Epoch:      0, d_loss (Acc)): 0.572, v_loss (Acc): 0.001, g_loss: -18.7750\n"
     ]
    },
    {
     "name": "stdout",
     "output_type": "stream",
     "text": [
      "[[0.55580344 0.55780653]\n",
      " [0.56658591 0.53682579]\n",
      " [0.5454     0.5231    ]]\n",
      "now at training epoch number 7900 hyp-params: lamda 1.5800 prior 0.1050\n",
      "rec time now 0 dataset now: Syn4\n"
     ]
    },
    {
     "name": "stderr",
     "output_type": "stream",
     "text": [
      "TPR mean: 66.3%  std: 33.3%\n",
      "FDR mean: 40.5%  std: 40.0%\n"
     ]
    },
    {
     "name": "stdout",
     "output_type": "stream",
     "text": [
      "[[0.55586948 0.55636624]\n",
      " [0.56703491 0.53614504]\n",
      " [0.5459     0.52      ]]\n",
      "rec time now 1 dataset now: Syn4\n"
     ]
    },
    {
     "name": "stderr",
     "output_type": "stream",
     "text": [
      "TPR mean: 66.3%  std: 33.3%\n",
      "FDR mean: 40.5%  std: 40.0%\n"
     ]
    },
    {
     "name": "stdout",
     "output_type": "stream",
     "text": [
      "[[0.55586948 0.55636624]\n",
      " [0.56703491 0.53614504]\n",
      " [0.5459     0.52      ]]\n",
      "rec time now 2 dataset now: Syn4\n"
     ]
    },
    {
     "name": "stderr",
     "output_type": "stream",
     "text": [
      "TPR mean: 66.3%  std: 33.3%\n",
      "FDR mean: 40.5%  std: 40.0%\n"
     ]
    },
    {
     "name": "stdout",
     "output_type": "stream",
     "text": [
      "[[0.55586948 0.55636624]\n",
      " [0.56703491 0.53614504]\n",
      " [0.5459     0.52      ]]\n",
      "rec time now 3 dataset now: Syn4\n"
     ]
    },
    {
     "name": "stderr",
     "output_type": "stream",
     "text": [
      "TPR mean: 66.3%  std: 33.3%\n",
      "FDR mean: 40.5%  std: 40.0%\n",
      "Epoch:      0, d_loss (Acc)): 0.574, v_loss (Acc): 0.001, g_loss: -18.5245\n"
     ]
    },
    {
     "name": "stdout",
     "output_type": "stream",
     "text": [
      "[[0.55586948 0.55636624]\n",
      " [0.56703491 0.53614504]\n",
      " [0.5459     0.52      ]]\n",
      "now at training epoch number 8000 hyp-params: lamda 1.6000 prior 0.1000\n",
      "rec time now 0 dataset now: Syn4\n"
     ]
    },
    {
     "name": "stderr",
     "output_type": "stream",
     "text": [
      "TPR mean: 66.3%  std: 33.3%\n",
      "FDR mean: 40.5%  std: 40.0%\n"
     ]
    },
    {
     "name": "stdout",
     "output_type": "stream",
     "text": [
      "[[0.55575152 0.56081903]\n",
      " [0.56748187 0.53794632]\n",
      " [0.545      0.5325    ]]\n",
      "rec time now 1 dataset now: Syn4\n"
     ]
    },
    {
     "name": "stderr",
     "output_type": "stream",
     "text": [
      "TPR mean: 66.3%  std: 33.3%\n",
      "FDR mean: 40.5%  std: 40.0%\n"
     ]
    },
    {
     "name": "stdout",
     "output_type": "stream",
     "text": [
      "[[0.55575152 0.56081903]\n",
      " [0.56748187 0.53794632]\n",
      " [0.545      0.5325    ]]\n",
      "rec time now 2 dataset now: Syn4\n"
     ]
    },
    {
     "name": "stderr",
     "output_type": "stream",
     "text": [
      "TPR mean: 66.3%  std: 33.3%\n",
      "FDR mean: 40.5%  std: 40.0%\n"
     ]
    },
    {
     "name": "stdout",
     "output_type": "stream",
     "text": [
      "[[0.55575152 0.56081903]\n",
      " [0.56748187 0.53794632]\n",
      " [0.545      0.5325    ]]\n",
      "rec time now 3 dataset now: Syn4\n"
     ]
    },
    {
     "name": "stderr",
     "output_type": "stream",
     "text": [
      "TPR mean: 66.3%  std: 33.3%\n",
      "FDR mean: 40.5%  std: 40.0%\n",
      "Epoch:      0, d_loss (Acc)): 0.556, v_loss (Acc): 0.001, g_loss: -17.2006\n"
     ]
    },
    {
     "name": "stdout",
     "output_type": "stream",
     "text": [
      "[[0.55575152 0.56081903]\n",
      " [0.56748187 0.53794632]\n",
      " [0.545      0.5325    ]]\n",
      "now at training epoch number 8100 hyp-params: lamda 1.6200 prior 0.0950\n",
      "rec time now 0 dataset now: Syn4\n"
     ]
    },
    {
     "name": "stderr",
     "output_type": "stream",
     "text": [
      "TPR mean: 66.3%  std: 33.3%\n",
      "FDR mean: 40.5%  std: 40.0%\n"
     ]
    },
    {
     "name": "stdout",
     "output_type": "stream",
     "text": [
      "[[0.5554107  0.55951927]\n",
      " [0.56675311 0.53740614]\n",
      " [0.5438     0.5316    ]]\n",
      "rec time now 1 dataset now: Syn4\n"
     ]
    },
    {
     "name": "stderr",
     "output_type": "stream",
     "text": [
      "TPR mean: 66.3%  std: 33.3%\n",
      "FDR mean: 40.5%  std: 40.0%\n"
     ]
    },
    {
     "name": "stdout",
     "output_type": "stream",
     "text": [
      "[[0.5554107  0.55951927]\n",
      " [0.56675311 0.53740614]\n",
      " [0.5438     0.5316    ]]\n",
      "rec time now 2 dataset now: Syn4\n"
     ]
    },
    {
     "name": "stderr",
     "output_type": "stream",
     "text": [
      "TPR mean: 66.3%  std: 33.3%\n",
      "FDR mean: 40.5%  std: 40.0%\n"
     ]
    },
    {
     "name": "stdout",
     "output_type": "stream",
     "text": [
      "[[0.5554107  0.55951927]\n",
      " [0.56675311 0.53740614]\n",
      " [0.5438     0.5316    ]]\n",
      "rec time now 3 dataset now: Syn4\n"
     ]
    },
    {
     "name": "stderr",
     "output_type": "stream",
     "text": [
      "TPR mean: 66.3%  std: 33.3%\n",
      "FDR mean: 40.5%  std: 40.0%\n",
      "Epoch:      0, d_loss (Acc)): 0.584, v_loss (Acc): 0.001, g_loss: -17.5695\n"
     ]
    },
    {
     "name": "stdout",
     "output_type": "stream",
     "text": [
      "[[0.5554107  0.55951927]\n",
      " [0.56675311 0.53740614]\n",
      " [0.5438     0.5316    ]]\n",
      "now at training epoch number 8200 hyp-params: lamda 1.6400 prior 0.0900\n",
      "rec time now 0 dataset now: Syn4\n"
     ]
    },
    {
     "name": "stderr",
     "output_type": "stream",
     "text": [
      "TPR mean: 66.3%  std: 33.3%\n",
      "FDR mean: 40.5%  std: 40.0%\n"
     ]
    },
    {
     "name": "stdout",
     "output_type": "stream",
     "text": [
      "[[0.55511517 0.56394898]\n",
      " [0.56574761 0.53951752]\n",
      " [0.5445     0.5377    ]]\n",
      "rec time now 1 dataset now: Syn4\n"
     ]
    },
    {
     "name": "stderr",
     "output_type": "stream",
     "text": [
      "TPR mean: 66.3%  std: 33.3%\n",
      "FDR mean: 40.5%  std: 40.0%\n"
     ]
    },
    {
     "name": "stdout",
     "output_type": "stream",
     "text": [
      "[[0.55511517 0.56394898]\n",
      " [0.56574761 0.53951752]\n",
      " [0.5445     0.5377    ]]\n",
      "rec time now 2 dataset now: Syn4\n"
     ]
    },
    {
     "name": "stderr",
     "output_type": "stream",
     "text": [
      "TPR mean: 66.3%  std: 33.3%\n",
      "FDR mean: 40.5%  std: 40.0%\n"
     ]
    },
    {
     "name": "stdout",
     "output_type": "stream",
     "text": [
      "[[0.55511517 0.56394898]\n",
      " [0.56574761 0.53951752]\n",
      " [0.5445     0.5377    ]]\n",
      "rec time now 3 dataset now: Syn4\n"
     ]
    },
    {
     "name": "stderr",
     "output_type": "stream",
     "text": [
      "TPR mean: 66.3%  std: 33.3%\n",
      "FDR mean: 40.5%  std: 40.0%\n",
      "Epoch:      0, d_loss (Acc)): 0.572, v_loss (Acc): 0.001, g_loss: -16.3386\n"
     ]
    },
    {
     "name": "stdout",
     "output_type": "stream",
     "text": [
      "[[0.55511517 0.56394898]\n",
      " [0.56574761 0.53951752]\n",
      " [0.5445     0.5377    ]]\n",
      "now at training epoch number 8300 hyp-params: lamda 1.6600 prior 0.0850\n",
      "rec time now 0 dataset now: Syn4\n"
     ]
    },
    {
     "name": "stderr",
     "output_type": "stream",
     "text": [
      "TPR mean: 66.3%  std: 33.3%\n",
      "FDR mean: 40.5%  std: 40.0%\n"
     ]
    },
    {
     "name": "stdout",
     "output_type": "stream",
     "text": [
      "[[0.55536577 0.56805985]\n",
      " [0.56643026 0.54124133]\n",
      " [0.5428     0.5481    ]]\n",
      "rec time now 1 dataset now: Syn4\n"
     ]
    },
    {
     "name": "stderr",
     "output_type": "stream",
     "text": [
      "TPR mean: 66.3%  std: 33.3%\n",
      "FDR mean: 40.5%  std: 40.0%\n"
     ]
    },
    {
     "name": "stdout",
     "output_type": "stream",
     "text": [
      "[[0.55536577 0.56805985]\n",
      " [0.56643026 0.54124133]\n",
      " [0.5428     0.5481    ]]\n",
      "rec time now 2 dataset now: Syn4\n"
     ]
    },
    {
     "name": "stderr",
     "output_type": "stream",
     "text": [
      "TPR mean: 66.3%  std: 33.3%\n",
      "FDR mean: 40.5%  std: 40.0%\n"
     ]
    },
    {
     "name": "stdout",
     "output_type": "stream",
     "text": [
      "[[0.55536577 0.56805985]\n",
      " [0.56643026 0.54124133]\n",
      " [0.5428     0.5481    ]]\n",
      "rec time now 3 dataset now: Syn4\n"
     ]
    },
    {
     "name": "stderr",
     "output_type": "stream",
     "text": [
      "TPR mean: 66.3%  std: 33.3%\n",
      "FDR mean: 40.5%  std: 40.0%\n",
      "Epoch:      0, d_loss (Acc)): 0.554, v_loss (Acc): 0.001, g_loss: -15.0882\n"
     ]
    },
    {
     "name": "stdout",
     "output_type": "stream",
     "text": [
      "[[0.55536577 0.56805985]\n",
      " [0.56643026 0.54124133]\n",
      " [0.5428     0.5481    ]]\n",
      "now at training epoch number 8400 hyp-params: lamda 1.6800 prior 0.0800\n",
      "rec time now 0 dataset now: Syn4\n"
     ]
    },
    {
     "name": "stderr",
     "output_type": "stream",
     "text": [
      "TPR mean: 66.3%  std: 33.3%\n",
      "FDR mean: 40.5%  std: 40.0%\n"
     ]
    },
    {
     "name": "stdout",
     "output_type": "stream",
     "text": [
      "[[0.55573787 0.56790187]\n",
      " [0.56617007 0.54098121]\n",
      " [0.5434     0.5475    ]]\n",
      "rec time now 1 dataset now: Syn4\n"
     ]
    },
    {
     "name": "stderr",
     "output_type": "stream",
     "text": [
      "TPR mean: 66.3%  std: 33.3%\n",
      "FDR mean: 40.5%  std: 40.0%\n"
     ]
    },
    {
     "name": "stdout",
     "output_type": "stream",
     "text": [
      "[[0.55573787 0.56790187]\n",
      " [0.56617007 0.54098121]\n",
      " [0.5434     0.5475    ]]\n",
      "rec time now 2 dataset now: Syn4\n"
     ]
    },
    {
     "name": "stderr",
     "output_type": "stream",
     "text": [
      "TPR mean: 66.3%  std: 33.3%\n",
      "FDR mean: 40.5%  std: 40.0%\n"
     ]
    },
    {
     "name": "stdout",
     "output_type": "stream",
     "text": [
      "[[0.55573787 0.56790187]\n",
      " [0.56617007 0.54098121]\n",
      " [0.5434     0.5475    ]]\n",
      "rec time now 3 dataset now: Syn4\n"
     ]
    },
    {
     "name": "stderr",
     "output_type": "stream",
     "text": [
      "TPR mean: 66.3%  std: 33.3%\n",
      "FDR mean: 40.5%  std: 40.0%\n",
      "Epoch:      0, d_loss (Acc)): 0.561, v_loss (Acc): 0.001, g_loss: -14.9920\n"
     ]
    },
    {
     "name": "stdout",
     "output_type": "stream",
     "text": [
      "[[0.55573787 0.56790187]\n",
      " [0.56617007 0.54098121]\n",
      " [0.5434     0.5475    ]]\n",
      "now at training epoch number 8500 hyp-params: lamda 1.7000 prior 0.0750\n",
      "rec time now 0 dataset now: Syn4\n"
     ]
    },
    {
     "name": "stderr",
     "output_type": "stream",
     "text": [
      "TPR mean: 66.3%  std: 33.3%\n",
      "FDR mean: 40.5%  std: 40.0%\n"
     ]
    },
    {
     "name": "stdout",
     "output_type": "stream",
     "text": [
      "[[0.55521882 0.57036817]\n",
      " [0.56615965 0.54207255]\n",
      " [0.5448     0.5552    ]]\n",
      "rec time now 1 dataset now: Syn4\n"
     ]
    },
    {
     "name": "stderr",
     "output_type": "stream",
     "text": [
      "TPR mean: 66.3%  std: 33.3%\n",
      "FDR mean: 40.5%  std: 40.0%\n"
     ]
    },
    {
     "name": "stdout",
     "output_type": "stream",
     "text": [
      "[[0.55521882 0.57036817]\n",
      " [0.56615965 0.54207255]\n",
      " [0.5448     0.5552    ]]\n",
      "rec time now 2 dataset now: Syn4\n"
     ]
    },
    {
     "name": "stderr",
     "output_type": "stream",
     "text": [
      "TPR mean: 66.3%  std: 33.3%\n",
      "FDR mean: 40.5%  std: 40.0%\n"
     ]
    },
    {
     "name": "stdout",
     "output_type": "stream",
     "text": [
      "[[0.55521882 0.57036817]\n",
      " [0.56615965 0.54207255]\n",
      " [0.5448     0.5552    ]]\n",
      "rec time now 3 dataset now: Syn4\n"
     ]
    },
    {
     "name": "stderr",
     "output_type": "stream",
     "text": [
      "TPR mean: 66.3%  std: 33.3%\n",
      "FDR mean: 40.5%  std: 40.0%\n",
      "Epoch:      0, d_loss (Acc)): 0.591, v_loss (Acc): 0.001, g_loss: -14.8843\n"
     ]
    },
    {
     "name": "stdout",
     "output_type": "stream",
     "text": [
      "[[0.55521882 0.57036817]\n",
      " [0.56615965 0.54207255]\n",
      " [0.5448     0.5552    ]]\n",
      "now at training epoch number 8600 hyp-params: lamda 1.7200 prior 0.0700\n",
      "rec time now 0 dataset now: Syn4\n"
     ]
    },
    {
     "name": "stderr",
     "output_type": "stream",
     "text": [
      "TPR mean: 66.3%  std: 33.3%\n",
      "FDR mean: 40.5%  std: 40.0%\n"
     ]
    },
    {
     "name": "stdout",
     "output_type": "stream",
     "text": [
      "[[0.55588706 0.57667269]\n",
      " [0.56648194 0.54545233]\n",
      " [0.5432     0.5677    ]]\n",
      "rec time now 1 dataset now: Syn4\n"
     ]
    },
    {
     "name": "stderr",
     "output_type": "stream",
     "text": [
      "TPR mean: 66.3%  std: 33.3%\n",
      "FDR mean: 40.5%  std: 40.0%\n"
     ]
    },
    {
     "name": "stdout",
     "output_type": "stream",
     "text": [
      "[[0.55588706 0.57667269]\n",
      " [0.56648194 0.54545233]\n",
      " [0.5432     0.5677    ]]\n",
      "rec time now 2 dataset now: Syn4\n"
     ]
    },
    {
     "name": "stderr",
     "output_type": "stream",
     "text": [
      "TPR mean: 66.3%  std: 33.3%\n",
      "FDR mean: 40.5%  std: 40.0%\n"
     ]
    },
    {
     "name": "stdout",
     "output_type": "stream",
     "text": [
      "[[0.55588706 0.57667269]\n",
      " [0.56648194 0.54545233]\n",
      " [0.5432     0.5677    ]]\n",
      "rec time now 3 dataset now: Syn4\n"
     ]
    },
    {
     "name": "stderr",
     "output_type": "stream",
     "text": [
      "TPR mean: 66.3%  std: 33.3%\n",
      "FDR mean: 40.5%  std: 40.0%\n",
      "Epoch:      0, d_loss (Acc)): 0.580, v_loss (Acc): 0.001, g_loss: -14.1433\n"
     ]
    },
    {
     "name": "stdout",
     "output_type": "stream",
     "text": [
      "[[0.55588706 0.57667269]\n",
      " [0.56648194 0.54545233]\n",
      " [0.5432     0.5677    ]]\n",
      "now at training epoch number 8700 hyp-params: lamda 1.7400 prior 0.0650\n",
      "rec time now 0 dataset now: Syn4\n"
     ]
    },
    {
     "name": "stderr",
     "output_type": "stream",
     "text": [
      "TPR mean: 66.3%  std: 33.3%\n",
      "FDR mean: 40.5%  std: 40.0%\n"
     ]
    },
    {
     "name": "stdout",
     "output_type": "stream",
     "text": [
      "[[0.55511333 0.5776852 ]\n",
      " [0.56531555 0.54624029]\n",
      " [0.5439     0.5703    ]]\n",
      "rec time now 1 dataset now: Syn4\n"
     ]
    },
    {
     "name": "stderr",
     "output_type": "stream",
     "text": [
      "TPR mean: 66.3%  std: 33.3%\n",
      "FDR mean: 40.5%  std: 40.0%\n"
     ]
    },
    {
     "name": "stdout",
     "output_type": "stream",
     "text": [
      "[[0.55511333 0.5776852 ]\n",
      " [0.56531555 0.54624029]\n",
      " [0.5439     0.5703    ]]\n",
      "rec time now 2 dataset now: Syn4\n"
     ]
    },
    {
     "name": "stderr",
     "output_type": "stream",
     "text": [
      "TPR mean: 66.3%  std: 33.3%\n",
      "FDR mean: 40.5%  std: 40.0%\n"
     ]
    },
    {
     "name": "stdout",
     "output_type": "stream",
     "text": [
      "[[0.55511333 0.5776852 ]\n",
      " [0.56531555 0.54624029]\n",
      " [0.5439     0.5703    ]]\n",
      "rec time now 3 dataset now: Syn4\n"
     ]
    },
    {
     "name": "stderr",
     "output_type": "stream",
     "text": [
      "TPR mean: 66.3%  std: 33.3%\n",
      "FDR mean: 40.5%  std: 40.0%\n",
      "Epoch:      0, d_loss (Acc)): 0.574, v_loss (Acc): 0.001, g_loss: -13.0151\n"
     ]
    },
    {
     "name": "stdout",
     "output_type": "stream",
     "text": [
      "[[0.55511333 0.5776852 ]\n",
      " [0.56531555 0.54624029]\n",
      " [0.5439     0.5703    ]]\n",
      "now at training epoch number 8800 hyp-params: lamda 1.7600 prior 0.0600\n",
      "rec time now 0 dataset now: Syn4\n"
     ]
    },
    {
     "name": "stderr",
     "output_type": "stream",
     "text": [
      "TPR mean: 66.3%  std: 33.3%\n",
      "FDR mean: 40.5%  std: 40.0%\n"
     ]
    },
    {
     "name": "stdout",
     "output_type": "stream",
     "text": [
      "[[0.55530409 0.58060632]\n",
      " [0.56612591 0.54824348]\n",
      " [0.5438     0.5765    ]]\n",
      "rec time now 1 dataset now: Syn4\n"
     ]
    },
    {
     "name": "stderr",
     "output_type": "stream",
     "text": [
      "TPR mean: 66.3%  std: 33.3%\n",
      "FDR mean: 40.5%  std: 40.0%\n"
     ]
    },
    {
     "name": "stdout",
     "output_type": "stream",
     "text": [
      "[[0.55530409 0.58060632]\n",
      " [0.56612591 0.54824348]\n",
      " [0.5438     0.5765    ]]\n",
      "rec time now 2 dataset now: Syn4\n"
     ]
    },
    {
     "name": "stderr",
     "output_type": "stream",
     "text": [
      "TPR mean: 66.3%  std: 33.3%\n",
      "FDR mean: 40.5%  std: 40.0%\n"
     ]
    },
    {
     "name": "stdout",
     "output_type": "stream",
     "text": [
      "[[0.55530409 0.58060632]\n",
      " [0.56612591 0.54824348]\n",
      " [0.5438     0.5765    ]]\n",
      "rec time now 3 dataset now: Syn4\n"
     ]
    },
    {
     "name": "stderr",
     "output_type": "stream",
     "text": [
      "TPR mean: 66.3%  std: 33.3%\n",
      "FDR mean: 40.5%  std: 40.0%\n",
      "Epoch:      0, d_loss (Acc)): 0.569, v_loss (Acc): 0.001, g_loss: -12.3665\n"
     ]
    },
    {
     "name": "stdout",
     "output_type": "stream",
     "text": [
      "[[0.55530409 0.58060632]\n",
      " [0.56612591 0.54824348]\n",
      " [0.5438     0.5765    ]]\n",
      "now at training epoch number 8900 hyp-params: lamda 1.7800 prior 0.0550\n",
      "rec time now 0 dataset now: Syn4\n"
     ]
    },
    {
     "name": "stderr",
     "output_type": "stream",
     "text": [
      "TPR mean: 66.3%  std: 33.3%\n",
      "FDR mean: 40.5%  std: 40.0%\n"
     ]
    },
    {
     "name": "stdout",
     "output_type": "stream",
     "text": [
      "[[0.55478079 0.59099281]\n",
      " [0.56559891 0.55594094]\n",
      " [0.5422     0.5857    ]]\n",
      "rec time now 1 dataset now: Syn4\n"
     ]
    },
    {
     "name": "stderr",
     "output_type": "stream",
     "text": [
      "TPR mean: 66.3%  std: 33.3%\n",
      "FDR mean: 40.5%  std: 40.0%\n"
     ]
    },
    {
     "name": "stdout",
     "output_type": "stream",
     "text": [
      "[[0.55478079 0.59099281]\n",
      " [0.56559891 0.55594094]\n",
      " [0.5422     0.5857    ]]\n",
      "rec time now 2 dataset now: Syn4\n"
     ]
    },
    {
     "name": "stderr",
     "output_type": "stream",
     "text": [
      "TPR mean: 66.3%  std: 33.3%\n",
      "FDR mean: 40.5%  std: 40.0%\n"
     ]
    },
    {
     "name": "stdout",
     "output_type": "stream",
     "text": [
      "[[0.55478079 0.59099281]\n",
      " [0.56559891 0.55594094]\n",
      " [0.5422     0.5857    ]]\n",
      "rec time now 3 dataset now: Syn4\n"
     ]
    },
    {
     "name": "stderr",
     "output_type": "stream",
     "text": [
      "TPR mean: 66.3%  std: 33.3%\n",
      "FDR mean: 40.5%  std: 40.0%\n",
      "Epoch:      0, d_loss (Acc)): 0.581, v_loss (Acc): 0.000, g_loss: -11.9527\n"
     ]
    },
    {
     "name": "stdout",
     "output_type": "stream",
     "text": [
      "[[0.55478079 0.59099281]\n",
      " [0.56559891 0.55594094]\n",
      " [0.5422     0.5857    ]]\n",
      "now at training epoch number 9000 hyp-params: lamda 1.8000 prior 0.0500\n",
      "rec time now 0 dataset now: Syn4\n"
     ]
    },
    {
     "name": "stderr",
     "output_type": "stream",
     "text": [
      "TPR mean: 66.3%  std: 33.3%\n",
      "FDR mean: 40.5%  std: 40.0%\n"
     ]
    },
    {
     "name": "stdout",
     "output_type": "stream",
     "text": [
      "[[0.55656146 0.59839823]\n",
      " [0.56651145 0.56332567]\n",
      " [0.5438     0.5907    ]]\n",
      "rec time now 1 dataset now: Syn4\n"
     ]
    },
    {
     "name": "stderr",
     "output_type": "stream",
     "text": [
      "TPR mean: 66.3%  std: 33.3%\n",
      "FDR mean: 40.5%  std: 40.0%\n"
     ]
    },
    {
     "name": "stdout",
     "output_type": "stream",
     "text": [
      "[[0.55656146 0.59839823]\n",
      " [0.56651145 0.56332567]\n",
      " [0.5438     0.5907    ]]\n",
      "rec time now 2 dataset now: Syn4\n"
     ]
    },
    {
     "name": "stderr",
     "output_type": "stream",
     "text": [
      "TPR mean: 66.3%  std: 33.3%\n",
      "FDR mean: 40.5%  std: 40.0%\n"
     ]
    },
    {
     "name": "stdout",
     "output_type": "stream",
     "text": [
      "[[0.55656146 0.59839823]\n",
      " [0.56651145 0.56332567]\n",
      " [0.5438     0.5907    ]]\n",
      "rec time now 3 dataset now: Syn4\n"
     ]
    },
    {
     "name": "stderr",
     "output_type": "stream",
     "text": [
      "TPR mean: 66.3%  std: 33.3%\n",
      "FDR mean: 40.5%  std: 40.0%\n",
      "Epoch:      0, d_loss (Acc)): 0.592, v_loss (Acc): 0.000, g_loss: -11.3386\n"
     ]
    },
    {
     "name": "stdout",
     "output_type": "stream",
     "text": [
      "[[0.55656146 0.59839823]\n",
      " [0.56651145 0.56332567]\n",
      " [0.5438     0.5907    ]]\n",
      "now at training epoch number 9100 hyp-params: lamda 1.8200 prior 0.0450\n",
      "rec time now 0 dataset now: Syn4\n"
     ]
    },
    {
     "name": "stderr",
     "output_type": "stream",
     "text": [
      "TPR mean: 66.3%  std: 33.3%\n",
      "FDR mean: 40.5%  std: 40.0%\n"
     ]
    },
    {
     "name": "stdout",
     "output_type": "stream",
     "text": [
      "[[0.55503253 0.60855133]\n",
      " [0.56523937 0.57473186]\n",
      " [0.5457     0.6002    ]]\n",
      "rec time now 1 dataset now: Syn4\n"
     ]
    },
    {
     "name": "stderr",
     "output_type": "stream",
     "text": [
      "TPR mean: 66.3%  std: 33.3%\n",
      "FDR mean: 40.5%  std: 40.0%\n"
     ]
    },
    {
     "name": "stdout",
     "output_type": "stream",
     "text": [
      "[[0.55503253 0.60855133]\n",
      " [0.56523937 0.57473186]\n",
      " [0.5457     0.6002    ]]\n",
      "rec time now 2 dataset now: Syn4\n"
     ]
    },
    {
     "name": "stderr",
     "output_type": "stream",
     "text": [
      "TPR mean: 66.3%  std: 33.3%\n",
      "FDR mean: 40.5%  std: 40.0%\n"
     ]
    },
    {
     "name": "stdout",
     "output_type": "stream",
     "text": [
      "[[0.55503253 0.60855133]\n",
      " [0.56523937 0.57473186]\n",
      " [0.5457     0.6002    ]]\n",
      "rec time now 3 dataset now: Syn4\n"
     ]
    },
    {
     "name": "stderr",
     "output_type": "stream",
     "text": [
      "TPR mean: 66.3%  std: 33.3%\n",
      "FDR mean: 40.5%  std: 40.0%\n",
      "Epoch:      0, d_loss (Acc)): 0.579, v_loss (Acc): 0.001, g_loss: -9.9701\n"
     ]
    },
    {
     "name": "stdout",
     "output_type": "stream",
     "text": [
      "[[0.55503253 0.60855133]\n",
      " [0.56523937 0.57473186]\n",
      " [0.5457     0.6002    ]]\n",
      "now at training epoch number 9200 hyp-params: lamda 1.8400 prior 0.0400\n",
      "rec time now 0 dataset now: Syn4\n"
     ]
    },
    {
     "name": "stderr",
     "output_type": "stream",
     "text": [
      "TPR mean: 66.3%  std: 33.3%\n",
      "FDR mean: 40.5%  std: 40.0%\n"
     ]
    },
    {
     "name": "stdout",
     "output_type": "stream",
     "text": [
      "[[0.55474793 0.63339001]\n",
      " [0.56471127 0.61422338]\n",
      " [0.5438     0.6183    ]]\n",
      "rec time now 1 dataset now: Syn4\n"
     ]
    },
    {
     "name": "stderr",
     "output_type": "stream",
     "text": [
      "TPR mean: 66.3%  std: 33.3%\n",
      "FDR mean: 40.5%  std: 40.0%\n"
     ]
    },
    {
     "name": "stdout",
     "output_type": "stream",
     "text": [
      "[[0.55474793 0.63339001]\n",
      " [0.56471127 0.61422338]\n",
      " [0.5438     0.6183    ]]\n",
      "rec time now 2 dataset now: Syn4\n"
     ]
    },
    {
     "name": "stderr",
     "output_type": "stream",
     "text": [
      "TPR mean: 66.3%  std: 33.3%\n",
      "FDR mean: 40.5%  std: 40.0%\n"
     ]
    },
    {
     "name": "stdout",
     "output_type": "stream",
     "text": [
      "[[0.55474793 0.63339001]\n",
      " [0.56471127 0.61422338]\n",
      " [0.5438     0.6183    ]]\n",
      "rec time now 3 dataset now: Syn4\n"
     ]
    },
    {
     "name": "stderr",
     "output_type": "stream",
     "text": [
      "TPR mean: 66.3%  std: 33.3%\n",
      "FDR mean: 40.5%  std: 40.0%\n",
      "Epoch:      0, d_loss (Acc)): 0.589, v_loss (Acc): 0.001, g_loss: -9.4774\n"
     ]
    },
    {
     "name": "stdout",
     "output_type": "stream",
     "text": [
      "[[0.55474793 0.63339001]\n",
      " [0.56471127 0.61422338]\n",
      " [0.5438     0.6183    ]]\n",
      "now at training epoch number 9300 hyp-params: lamda 1.8600 prior 0.0350\n",
      "rec time now 0 dataset now: Syn4\n"
     ]
    },
    {
     "name": "stderr",
     "output_type": "stream",
     "text": [
      "TPR mean: 66.3%  std: 33.3%\n",
      "FDR mean: 40.5%  std: 40.0%\n"
     ]
    },
    {
     "name": "stdout",
     "output_type": "stream",
     "text": [
      "[[0.55526565 0.62309491]\n",
      " [0.56639623 0.5982504 ]\n",
      " [0.543      0.613     ]]\n",
      "rec time now 1 dataset now: Syn4\n"
     ]
    },
    {
     "name": "stderr",
     "output_type": "stream",
     "text": [
      "TPR mean: 66.3%  std: 33.3%\n",
      "FDR mean: 40.5%  std: 40.0%\n"
     ]
    },
    {
     "name": "stdout",
     "output_type": "stream",
     "text": [
      "[[0.55526565 0.62309491]\n",
      " [0.56639623 0.5982504 ]\n",
      " [0.543      0.613     ]]\n",
      "rec time now 2 dataset now: Syn4\n"
     ]
    },
    {
     "name": "stderr",
     "output_type": "stream",
     "text": [
      "TPR mean: 66.3%  std: 33.3%\n",
      "FDR mean: 40.5%  std: 40.0%\n"
     ]
    },
    {
     "name": "stdout",
     "output_type": "stream",
     "text": [
      "[[0.55526565 0.62309491]\n",
      " [0.56639623 0.5982504 ]\n",
      " [0.543      0.613     ]]\n",
      "rec time now 3 dataset now: Syn4\n"
     ]
    },
    {
     "name": "stderr",
     "output_type": "stream",
     "text": [
      "TPR mean: 66.3%  std: 33.3%\n",
      "FDR mean: 40.5%  std: 40.0%\n",
      "Epoch:      0, d_loss (Acc)): 0.562, v_loss (Acc): 0.001, g_loss: -8.1200\n"
     ]
    },
    {
     "name": "stdout",
     "output_type": "stream",
     "text": [
      "[[0.55526565 0.62309491]\n",
      " [0.56639623 0.5982504 ]\n",
      " [0.543      0.613     ]]\n",
      "now at training epoch number 9400 hyp-params: lamda 1.8800 prior 0.0300\n",
      "rec time now 0 dataset now: Syn4\n"
     ]
    },
    {
     "name": "stderr",
     "output_type": "stream",
     "text": [
      "TPR mean: 66.3%  std: 33.3%\n",
      "FDR mean: 40.5%  std: 40.0%\n"
     ]
    },
    {
     "name": "stdout",
     "output_type": "stream",
     "text": [
      "[[0.55347052 0.63773175]\n",
      " [0.56484984 0.6181788 ]\n",
      " [0.5432     0.6184    ]]\n",
      "rec time now 1 dataset now: Syn4\n"
     ]
    },
    {
     "name": "stderr",
     "output_type": "stream",
     "text": [
      "TPR mean: 66.3%  std: 33.3%\n",
      "FDR mean: 40.5%  std: 40.0%\n"
     ]
    },
    {
     "name": "stdout",
     "output_type": "stream",
     "text": [
      "[[0.55347052 0.63773175]\n",
      " [0.56484984 0.6181788 ]\n",
      " [0.5432     0.6184    ]]\n",
      "rec time now 2 dataset now: Syn4\n"
     ]
    },
    {
     "name": "stderr",
     "output_type": "stream",
     "text": [
      "TPR mean: 66.3%  std: 33.3%\n",
      "FDR mean: 40.5%  std: 40.0%\n"
     ]
    },
    {
     "name": "stdout",
     "output_type": "stream",
     "text": [
      "[[0.55347052 0.63773175]\n",
      " [0.56484984 0.6181788 ]\n",
      " [0.5432     0.6184    ]]\n",
      "rec time now 3 dataset now: Syn4\n"
     ]
    },
    {
     "name": "stderr",
     "output_type": "stream",
     "text": [
      "TPR mean: 66.3%  std: 33.3%\n",
      "FDR mean: 40.5%  std: 40.0%\n",
      "Epoch:      0, d_loss (Acc)): 0.584, v_loss (Acc): 0.001, g_loss: -7.6838\n"
     ]
    },
    {
     "name": "stdout",
     "output_type": "stream",
     "text": [
      "[[0.55347052 0.63773175]\n",
      " [0.56484984 0.6181788 ]\n",
      " [0.5432     0.6184    ]]\n",
      "now at training epoch number 9500 hyp-params: lamda 1.9000 prior 0.0250\n",
      "rec time now 0 dataset now: Syn4\n"
     ]
    },
    {
     "name": "stderr",
     "output_type": "stream",
     "text": [
      "TPR mean: 66.3%  std: 33.3%\n",
      "FDR mean: 40.5%  std: 40.0%\n"
     ]
    },
    {
     "name": "stdout",
     "output_type": "stream",
     "text": [
      "[[0.55504661 0.65960144]\n",
      " [0.56456006 0.65407426]\n",
      " [0.5452     0.6285    ]]\n",
      "rec time now 1 dataset now: Syn4\n"
     ]
    },
    {
     "name": "stderr",
     "output_type": "stream",
     "text": [
      "TPR mean: 66.3%  std: 33.3%\n",
      "FDR mean: 40.5%  std: 40.0%\n"
     ]
    },
    {
     "name": "stdout",
     "output_type": "stream",
     "text": [
      "[[0.55504661 0.65960144]\n",
      " [0.56456006 0.65407426]\n",
      " [0.5452     0.6285    ]]\n",
      "rec time now 2 dataset now: Syn4\n"
     ]
    },
    {
     "name": "stderr",
     "output_type": "stream",
     "text": [
      "TPR mean: 66.3%  std: 33.3%\n",
      "FDR mean: 40.5%  std: 40.0%\n"
     ]
    },
    {
     "name": "stdout",
     "output_type": "stream",
     "text": [
      "[[0.55504661 0.65960144]\n",
      " [0.56456006 0.65407426]\n",
      " [0.5452     0.6285    ]]\n",
      "rec time now 3 dataset now: Syn4\n"
     ]
    },
    {
     "name": "stderr",
     "output_type": "stream",
     "text": [
      "TPR mean: 66.3%  std: 33.3%\n",
      "FDR mean: 40.5%  std: 40.0%\n",
      "Epoch:      0, d_loss (Acc)): 0.555, v_loss (Acc): 0.001, g_loss: -6.4616\n"
     ]
    },
    {
     "name": "stdout",
     "output_type": "stream",
     "text": [
      "[[0.55504661 0.65960144]\n",
      " [0.56456006 0.65407426]\n",
      " [0.5452     0.6285    ]]\n",
      "now at training epoch number 9600 hyp-params: lamda 1.9200 prior 0.0200\n",
      "rec time now 0 dataset now: Syn4\n"
     ]
    },
    {
     "name": "stderr",
     "output_type": "stream",
     "text": [
      "TPR mean: 66.3%  std: 33.3%\n",
      "FDR mean: 40.5%  std: 40.0%\n"
     ]
    },
    {
     "name": "stdout",
     "output_type": "stream",
     "text": [
      "[[0.55534057 0.68490666]\n",
      " [0.56569552 0.69155584]\n",
      " [0.5427     0.6369    ]]\n",
      "rec time now 1 dataset now: Syn4\n"
     ]
    },
    {
     "name": "stderr",
     "output_type": "stream",
     "text": [
      "TPR mean: 66.3%  std: 33.3%\n",
      "FDR mean: 40.5%  std: 40.0%\n"
     ]
    },
    {
     "name": "stdout",
     "output_type": "stream",
     "text": [
      "[[0.55534057 0.68490666]\n",
      " [0.56569552 0.69155584]\n",
      " [0.5427     0.6369    ]]\n",
      "rec time now 2 dataset now: Syn4\n"
     ]
    },
    {
     "name": "stderr",
     "output_type": "stream",
     "text": [
      "TPR mean: 66.3%  std: 33.3%\n",
      "FDR mean: 40.5%  std: 40.0%\n"
     ]
    },
    {
     "name": "stdout",
     "output_type": "stream",
     "text": [
      "[[0.55534057 0.68490666]\n",
      " [0.56569552 0.69155584]\n",
      " [0.5427     0.6369    ]]\n",
      "rec time now 3 dataset now: Syn4\n"
     ]
    },
    {
     "name": "stderr",
     "output_type": "stream",
     "text": [
      "TPR mean: 66.3%  std: 33.3%\n",
      "FDR mean: 40.5%  std: 40.0%\n",
      "Epoch:      0, d_loss (Acc)): 0.554, v_loss (Acc): 0.001, g_loss: -5.3977\n"
     ]
    },
    {
     "name": "stdout",
     "output_type": "stream",
     "text": [
      "[[0.55534057 0.68490666]\n",
      " [0.56569552 0.69155584]\n",
      " [0.5427     0.6369    ]]\n",
      "now at training epoch number 9700 hyp-params: lamda 1.9400 prior 0.0150\n",
      "rec time now 0 dataset now: Syn4\n"
     ]
    },
    {
     "name": "stderr",
     "output_type": "stream",
     "text": [
      "TPR mean: 66.3%  std: 33.3%\n",
      "FDR mean: 40.5%  std: 40.0%\n"
     ]
    },
    {
     "name": "stdout",
     "output_type": "stream",
     "text": [
      "[[0.5552109  0.68979333]\n",
      " [0.5657121  0.69796946]\n",
      " [0.5444     0.6379    ]]\n",
      "rec time now 1 dataset now: Syn4\n"
     ]
    },
    {
     "name": "stderr",
     "output_type": "stream",
     "text": [
      "TPR mean: 66.3%  std: 33.3%\n",
      "FDR mean: 40.5%  std: 40.0%\n"
     ]
    },
    {
     "name": "stdout",
     "output_type": "stream",
     "text": [
      "[[0.5552109  0.68979333]\n",
      " [0.5657121  0.69796946]\n",
      " [0.5444     0.6379    ]]\n",
      "rec time now 2 dataset now: Syn4\n"
     ]
    },
    {
     "name": "stderr",
     "output_type": "stream",
     "text": [
      "TPR mean: 66.3%  std: 33.3%\n",
      "FDR mean: 40.5%  std: 40.0%\n"
     ]
    },
    {
     "name": "stdout",
     "output_type": "stream",
     "text": [
      "[[0.5552109  0.68979333]\n",
      " [0.5657121  0.69796946]\n",
      " [0.5444     0.6379    ]]\n",
      "rec time now 3 dataset now: Syn4\n"
     ]
    },
    {
     "name": "stderr",
     "output_type": "stream",
     "text": [
      "TPR mean: 66.3%  std: 33.3%\n",
      "FDR mean: 40.5%  std: 40.0%\n",
      "Epoch:      0, d_loss (Acc)): 0.552, v_loss (Acc): 0.000, g_loss: -4.8726\n"
     ]
    },
    {
     "name": "stdout",
     "output_type": "stream",
     "text": [
      "[[0.5552109  0.68979333]\n",
      " [0.5657121  0.69796946]\n",
      " [0.5444     0.6379    ]]\n",
      "now at training epoch number 9800 hyp-params: lamda 1.9600 prior 0.0100\n",
      "rec time now 0 dataset now: Syn4\n"
     ]
    },
    {
     "name": "stderr",
     "output_type": "stream",
     "text": [
      "TPR mean: 66.3%  std: 33.3%\n",
      "FDR mean: 40.5%  std: 40.0%\n"
     ]
    },
    {
     "name": "stdout",
     "output_type": "stream",
     "text": [
      "[[0.55269813 0.71476244]\n",
      " [0.56325419 0.73147697]\n",
      " [0.5415     0.6444    ]]\n",
      "rec time now 1 dataset now: Syn4\n"
     ]
    },
    {
     "name": "stderr",
     "output_type": "stream",
     "text": [
      "TPR mean: 66.3%  std: 33.3%\n",
      "FDR mean: 40.5%  std: 40.0%\n"
     ]
    },
    {
     "name": "stdout",
     "output_type": "stream",
     "text": [
      "[[0.55269813 0.71476244]\n",
      " [0.56325419 0.73147697]\n",
      " [0.5415     0.6444    ]]\n",
      "rec time now 2 dataset now: Syn4\n"
     ]
    },
    {
     "name": "stderr",
     "output_type": "stream",
     "text": [
      "TPR mean: 66.3%  std: 33.3%\n",
      "FDR mean: 40.5%  std: 40.0%\n"
     ]
    },
    {
     "name": "stdout",
     "output_type": "stream",
     "text": [
      "[[0.55269813 0.71476244]\n",
      " [0.56325419 0.73147697]\n",
      " [0.5415     0.6444    ]]\n",
      "rec time now 3 dataset now: Syn4\n"
     ]
    },
    {
     "name": "stderr",
     "output_type": "stream",
     "text": [
      "TPR mean: 66.3%  std: 33.3%\n",
      "FDR mean: 40.5%  std: 40.0%\n",
      "Epoch:      0, d_loss (Acc)): 0.562, v_loss (Acc): 0.030, g_loss: -3.9372\n"
     ]
    },
    {
     "name": "stdout",
     "output_type": "stream",
     "text": [
      "[[0.55269813 0.71476244]\n",
      " [0.56325419 0.73147697]\n",
      " [0.5415     0.6444    ]]\n",
      "now at training epoch number 9900 hyp-params: lamda 1.9800 prior 0.0050\n",
      "rec time now 0 dataset now: Syn4\n"
     ]
    },
    {
     "name": "stderr",
     "output_type": "stream",
     "text": [
      "TPR mean: 66.3%  std: 33.3%\n",
      "FDR mean: 40.5%  std: 40.0%\n"
     ]
    },
    {
     "name": "stdout",
     "output_type": "stream",
     "text": [
      "[[0.55575611 0.71121695]\n",
      " [0.56761918 0.73112776]\n",
      " [0.5442     0.6427    ]]\n",
      "rec time now 1 dataset now: Syn4\n"
     ]
    },
    {
     "name": "stderr",
     "output_type": "stream",
     "text": [
      "TPR mean: 66.3%  std: 33.3%\n",
      "FDR mean: 40.5%  std: 40.0%\n"
     ]
    },
    {
     "name": "stdout",
     "output_type": "stream",
     "text": [
      "[[0.55575611 0.71121695]\n",
      " [0.56761918 0.73112776]\n",
      " [0.5442     0.6427    ]]\n",
      "rec time now 2 dataset now: Syn4\n"
     ]
    },
    {
     "name": "stderr",
     "output_type": "stream",
     "text": [
      "TPR mean: 66.3%  std: 33.3%\n",
      "FDR mean: 40.5%  std: 40.0%\n"
     ]
    },
    {
     "name": "stdout",
     "output_type": "stream",
     "text": [
      "[[0.55575611 0.71121695]\n",
      " [0.56761918 0.73112776]\n",
      " [0.5442     0.6427    ]]\n",
      "rec time now 3 dataset now: Syn4\n"
     ]
    },
    {
     "name": "stderr",
     "output_type": "stream",
     "text": [
      "TPR mean: 66.3%  std: 33.3%\n",
      "FDR mean: 40.5%  std: 40.0%\n",
      "invase: Syn5 10000 . Y\n",
      "(10000, 100) (10000, 2) (10000, 100) (10000, 2)\n",
      "input shape: 100\n",
      "Epoch:      0, d_loss (Acc)): 0.793, v_loss (Acc): 0.804, g_loss: +0.7351\n"
     ]
    },
    {
     "name": "stdout",
     "output_type": "stream",
     "text": [
      "[[0.55575611 0.71121695]\n",
      " [0.56761918 0.73112776]\n",
      " [0.5442     0.6427    ]]\n",
      "PyTorch Version: elapsed time for Syn4: 100 feature, 10000 sample: [1081.6419] sec.\n",
      "now at training epoch number 0 hyp-params: lamda 0.0000 prior 0.5000\n",
      "rec time now 0 dataset now: Syn5\n"
     ]
    },
    {
     "name": "stderr",
     "output_type": "stream",
     "text": [
      "TPR mean: 62.3%  std: 24.3%\n",
      "FDR mean: 95.1%  std: 2.2%\n"
     ]
    },
    {
     "name": "stdout",
     "output_type": "stream",
     "text": [
      "[[0.6735935  0.64036019]\n",
      " [0.66234983 0.64349782]\n",
      " [0.6321     0.5961    ]]\n",
      "rec time now 1 dataset now: Syn5\n"
     ]
    },
    {
     "name": "stderr",
     "output_type": "stream",
     "text": [
      "TPR mean: 51.9%  std: 25.5%\n",
      "FDR mean: 94.7%  std: 2.9%\n"
     ]
    },
    {
     "name": "stdout",
     "output_type": "stream",
     "text": [
      "[[0.6735935  0.62591095]\n",
      " [0.66234983 0.62803208]\n",
      " [0.6321     0.5848    ]]\n",
      "rec time now 2 dataset now: Syn5\n"
     ]
    },
    {
     "name": "stderr",
     "output_type": "stream",
     "text": [
      "TPR mean: 47.8%  std: 25.5%\n",
      "FDR mean: 94.5%  std: 3.2%\n"
     ]
    },
    {
     "name": "stdout",
     "output_type": "stream",
     "text": [
      "[[0.6735935  0.62057593]\n",
      " [0.66234983 0.62319299]\n",
      " [0.6321     0.5822    ]]\n",
      "rec time now 3 dataset now: Syn5\n"
     ]
    },
    {
     "name": "stderr",
     "output_type": "stream",
     "text": [
      "TPR mean: 46.0%  std: 25.6%\n",
      "FDR mean: 94.3%  std: 3.4%\n",
      "Epoch:      0, d_loss (Acc)): 0.670, v_loss (Acc): 0.637, g_loss: -2.2593\n"
     ]
    },
    {
     "name": "stdout",
     "output_type": "stream",
     "text": [
      "[[0.6735935  0.61888523]\n",
      " [0.66234983 0.62127072]\n",
      " [0.6321     0.5822    ]]\n",
      "now at training epoch number 100 hyp-params: lamda 0.0200 prior 0.4950\n",
      "rec time now 0 dataset now: Syn5\n"
     ]
    },
    {
     "name": "stderr",
     "output_type": "stream",
     "text": [
      "TPR mean: 64.7%  std: 24.2%\n",
      "FDR mean: 94.9%  std: 2.4%\n"
     ]
    },
    {
     "name": "stdout",
     "output_type": "stream",
     "text": [
      "[[0.67559565 0.65346409]\n",
      " [0.66333513 0.65335522]\n",
      " [0.6333     0.6096    ]]\n",
      "rec time now 1 dataset now: Syn5\n"
     ]
    },
    {
     "name": "stderr",
     "output_type": "stream",
     "text": [
      "TPR mean: 54.9%  std: 25.6%\n",
      "FDR mean: 94.3%  std: 3.1%\n"
     ]
    },
    {
     "name": "stdout",
     "output_type": "stream",
     "text": [
      "[[0.67559565 0.64364697]\n",
      " [0.66333513 0.64570615]\n",
      " [0.6333     0.6015    ]]\n",
      "rec time now 2 dataset now: Syn5\n"
     ]
    },
    {
     "name": "stderr",
     "output_type": "stream",
     "text": [
      "TPR mean: 51.0%  std: 25.9%\n",
      "FDR mean: 94.0%  std: 3.5%\n"
     ]
    },
    {
     "name": "stdout",
     "output_type": "stream",
     "text": [
      "[[0.67559565 0.64251146]\n",
      " [0.66333513 0.6425581 ]\n",
      " [0.6333     0.602     ]]\n",
      "rec time now 3 dataset now: Syn5\n"
     ]
    },
    {
     "name": "stderr",
     "output_type": "stream",
     "text": [
      "TPR mean: 49.3%  std: 26.1%\n",
      "FDR mean: 93.9%  std: 3.7%\n",
      "Epoch:      0, d_loss (Acc)): 0.667, v_loss (Acc): 0.634, g_loss: -2.3166\n"
     ]
    },
    {
     "name": "stdout",
     "output_type": "stream",
     "text": [
      "[[0.67559565 0.64055301]\n",
      " [0.66333513 0.64178793]\n",
      " [0.6333     0.5973    ]]\n",
      "now at training epoch number 200 hyp-params: lamda 0.0400 prior 0.4900\n",
      "rec time now 0 dataset now: Syn5\n"
     ]
    },
    {
     "name": "stderr",
     "output_type": "stream",
     "text": [
      "TPR mean: 66.7%  std: 23.9%\n",
      "FDR mean: 94.6%  std: 2.5%\n"
     ]
    },
    {
     "name": "stdout",
     "output_type": "stream",
     "text": [
      "[[0.67740721 0.66698731]\n",
      " [0.66831077 0.66610901]\n",
      " [0.631      0.6216    ]]\n",
      "rec time now 1 dataset now: Syn5\n"
     ]
    },
    {
     "name": "stderr",
     "output_type": "stream",
     "text": [
      "TPR mean: 57.3%  std: 25.5%\n",
      "FDR mean: 94.0%  std: 3.2%\n"
     ]
    },
    {
     "name": "stdout",
     "output_type": "stream",
     "text": [
      "[[0.67740721 0.66100534]\n",
      " [0.66831077 0.66130289]\n",
      " [0.631      0.61      ]]\n",
      "rec time now 2 dataset now: Syn5\n"
     ]
    },
    {
     "name": "stderr",
     "output_type": "stream",
     "text": [
      "TPR mean: 53.6%  std: 26.0%\n",
      "FDR mean: 93.6%  std: 3.7%\n"
     ]
    },
    {
     "name": "stdout",
     "output_type": "stream",
     "text": [
      "[[0.67740721 0.66045656]\n",
      " [0.66831077 0.65957839]\n",
      " [0.631      0.6118    ]]\n",
      "rec time now 3 dataset now: Syn5\n"
     ]
    },
    {
     "name": "stderr",
     "output_type": "stream",
     "text": [
      "TPR mean: 51.9%  std: 26.2%\n",
      "FDR mean: 93.4%  std: 3.9%\n",
      "Epoch:      0, d_loss (Acc)): 0.648, v_loss (Acc): 0.602, g_loss: -3.1383\n"
     ]
    },
    {
     "name": "stdout",
     "output_type": "stream",
     "text": [
      "[[0.67740721 0.65940376]\n",
      " [0.66831077 0.65867694]\n",
      " [0.631      0.6109    ]]\n",
      "now at training epoch number 300 hyp-params: lamda 0.0600 prior 0.4850\n",
      "rec time now 0 dataset now: Syn5\n"
     ]
    },
    {
     "name": "stderr",
     "output_type": "stream",
     "text": [
      "TPR mean: 68.1%  std: 23.6%\n",
      "FDR mean: 94.5%  std: 2.5%\n"
     ]
    },
    {
     "name": "stdout",
     "output_type": "stream",
     "text": [
      "[[0.67769038 0.67467719]\n",
      " [0.66788953 0.67162932]\n",
      " [0.63       0.621     ]]\n",
      "rec time now 1 dataset now: Syn5\n"
     ]
    },
    {
     "name": "stderr",
     "output_type": "stream",
     "text": [
      "TPR mean: 59.0%  std: 25.4%\n",
      "FDR mean: 93.7%  std: 3.3%\n"
     ]
    },
    {
     "name": "stdout",
     "output_type": "stream",
     "text": [
      "[[0.67769038 0.67262717]\n",
      " [0.66788953 0.67170937]\n",
      " [0.63       0.6232    ]]\n",
      "rec time now 2 dataset now: Syn5\n"
     ]
    },
    {
     "name": "stderr",
     "output_type": "stream",
     "text": [
      "TPR mean: 55.5%  std: 25.8%\n",
      "FDR mean: 93.3%  std: 3.8%\n"
     ]
    },
    {
     "name": "stdout",
     "output_type": "stream",
     "text": [
      "[[0.67769038 0.6712849 ]\n",
      " [0.66788953 0.67069929]\n",
      " [0.63       0.6238    ]]\n",
      "rec time now 3 dataset now: Syn5\n"
     ]
    },
    {
     "name": "stderr",
     "output_type": "stream",
     "text": [
      "TPR mean: 53.9%  std: 26.0%\n",
      "FDR mean: 93.1%  std: 4.0%\n",
      "Epoch:      0, d_loss (Acc)): 0.654, v_loss (Acc): 0.600, g_loss: -3.6672\n"
     ]
    },
    {
     "name": "stdout",
     "output_type": "stream",
     "text": [
      "[[0.67769038 0.66888453]\n",
      " [0.66788953 0.66850415]\n",
      " [0.63       0.6202    ]]\n",
      "now at training epoch number 400 hyp-params: lamda 0.0800 prior 0.4800\n",
      "rec time now 0 dataset now: Syn5\n"
     ]
    },
    {
     "name": "stderr",
     "output_type": "stream",
     "text": [
      "TPR mean: 70.1%  std: 23.4%\n",
      "FDR mean: 94.3%  std: 2.6%\n"
     ]
    },
    {
     "name": "stdout",
     "output_type": "stream",
     "text": [
      "[[0.67509815 0.68025927]\n",
      " [0.66973246 0.67908188]\n",
      " [0.6322     0.629     ]]\n",
      "rec time now 1 dataset now: Syn5\n"
     ]
    },
    {
     "name": "stderr",
     "output_type": "stream",
     "text": [
      "TPR mean: 61.4%  std: 25.5%\n",
      "FDR mean: 93.4%  std: 3.5%\n"
     ]
    },
    {
     "name": "stdout",
     "output_type": "stream",
     "text": [
      "[[0.67509815 0.68004527]\n",
      " [0.66973246 0.68123804]\n",
      " [0.6322     0.6281    ]]\n",
      "rec time now 2 dataset now: Syn5\n"
     ]
    },
    {
     "name": "stderr",
     "output_type": "stream",
     "text": [
      "TPR mean: 58.0%  std: 26.1%\n",
      "FDR mean: 92.9%  std: 4.0%\n"
     ]
    },
    {
     "name": "stdout",
     "output_type": "stream",
     "text": [
      "[[0.67509815 0.67941726]\n",
      " [0.66973246 0.68055277]\n",
      " [0.6322     0.627     ]]\n",
      "rec time now 3 dataset now: Syn5\n"
     ]
    },
    {
     "name": "stderr",
     "output_type": "stream",
     "text": [
      "TPR mean: 56.4%  std: 26.3%\n",
      "FDR mean: 92.7%  std: 4.2%\n",
      "Epoch:      0, d_loss (Acc)): 0.653, v_loss (Acc): 0.590, g_loss: -4.2605\n"
     ]
    },
    {
     "name": "stdout",
     "output_type": "stream",
     "text": [
      "[[0.67509815 0.6784457 ]\n",
      " [0.66973246 0.68014101]\n",
      " [0.6322     0.6268    ]]\n",
      "now at training epoch number 500 hyp-params: lamda 0.1000 prior 0.4750\n",
      "rec time now 0 dataset now: Syn5\n"
     ]
    },
    {
     "name": "stderr",
     "output_type": "stream",
     "text": [
      "TPR mean: 71.2%  std: 23.3%\n",
      "FDR mean: 94.1%  std: 2.7%\n"
     ]
    },
    {
     "name": "stdout",
     "output_type": "stream",
     "text": [
      "[[0.67653658 0.68518022]\n",
      " [0.67030834 0.68430176]\n",
      " [0.6345     0.634     ]]\n",
      "rec time now 1 dataset now: Syn5\n"
     ]
    },
    {
     "name": "stderr",
     "output_type": "stream",
     "text": [
      "TPR mean: 63.1%  std: 25.5%\n",
      "FDR mean: 93.1%  std: 3.6%\n"
     ]
    },
    {
     "name": "stdout",
     "output_type": "stream",
     "text": [
      "[[0.67653658 0.6860704 ]\n",
      " [0.67030834 0.6866302 ]\n",
      " [0.6345     0.6351    ]]\n",
      "rec time now 2 dataset now: Syn5\n"
     ]
    },
    {
     "name": "stderr",
     "output_type": "stream",
     "text": [
      "TPR mean: 59.8%  std: 26.1%\n",
      "FDR mean: 92.6%  std: 4.2%\n"
     ]
    },
    {
     "name": "stdout",
     "output_type": "stream",
     "text": [
      "[[0.67653658 0.68342722]\n",
      " [0.67030834 0.68494775]\n",
      " [0.6345     0.6338    ]]\n",
      "rec time now 3 dataset now: Syn5\n"
     ]
    },
    {
     "name": "stderr",
     "output_type": "stream",
     "text": [
      "TPR mean: 58.4%  std: 26.4%\n",
      "FDR mean: 92.3%  std: 4.4%\n",
      "Epoch:      0, d_loss (Acc)): 0.637, v_loss (Acc): 0.569, g_loss: -4.6229\n"
     ]
    },
    {
     "name": "stdout",
     "output_type": "stream",
     "text": [
      "[[0.67653658 0.68222424]\n",
      " [0.67030834 0.68544261]\n",
      " [0.6345     0.631     ]]\n",
      "now at training epoch number 600 hyp-params: lamda 0.1200 prior 0.4700\n",
      "rec time now 0 dataset now: Syn5\n"
     ]
    },
    {
     "name": "stderr",
     "output_type": "stream",
     "text": [
      "TPR mean: 72.1%  std: 23.4%\n",
      "FDR mean: 94.0%  std: 2.8%\n"
     ]
    },
    {
     "name": "stdout",
     "output_type": "stream",
     "text": [
      "[[0.67162935 0.68748285]\n",
      " [0.66975421 0.68489105]\n",
      " [0.6299     0.6376    ]]\n",
      "rec time now 1 dataset now: Syn5\n"
     ]
    },
    {
     "name": "stderr",
     "output_type": "stream",
     "text": [
      "TPR mean: 64.1%  std: 25.8%\n",
      "FDR mean: 93.0%  std: 3.8%\n"
     ]
    },
    {
     "name": "stdout",
     "output_type": "stream",
     "text": [
      "[[0.67162935 0.6904143 ]\n",
      " [0.66975421 0.68919023]\n",
      " [0.6299     0.6368    ]]\n",
      "rec time now 2 dataset now: Syn5\n"
     ]
    },
    {
     "name": "stderr",
     "output_type": "stream",
     "text": [
      "TPR mean: 61.0%  std: 26.8%\n",
      "FDR mean: 92.4%  std: 4.3%\n"
     ]
    },
    {
     "name": "stdout",
     "output_type": "stream",
     "text": [
      "[[0.67162935 0.69067986]\n",
      " [0.66975421 0.69083342]\n",
      " [0.6299     0.6379    ]]\n",
      "rec time now 3 dataset now: Syn5\n"
     ]
    },
    {
     "name": "stderr",
     "output_type": "stream",
     "text": [
      "TPR mean: 59.5%  std: 27.2%\n",
      "FDR mean: 92.1%  std: 4.6%\n",
      "Epoch:      0, d_loss (Acc)): 0.631, v_loss (Acc): 0.526, g_loss: -7.1747\n"
     ]
    },
    {
     "name": "stdout",
     "output_type": "stream",
     "text": [
      "[[0.67162935 0.68996881]\n",
      " [0.66975421 0.69136274]\n",
      " [0.6299     0.6342    ]]\n",
      "now at training epoch number 700 hyp-params: lamda 0.1400 prior 0.4650\n",
      "rec time now 0 dataset now: Syn5\n"
     ]
    },
    {
     "name": "stderr",
     "output_type": "stream",
     "text": [
      "TPR mean: 73.2%  std: 23.4%\n",
      "FDR mean: 93.9%  std: 2.9%\n"
     ]
    },
    {
     "name": "stdout",
     "output_type": "stream",
     "text": [
      "[[0.66877676 0.69079933]\n",
      " [0.66448753 0.68901687]\n",
      " [0.626      0.6344    ]]\n",
      "rec time now 1 dataset now: Syn5\n"
     ]
    },
    {
     "name": "stderr",
     "output_type": "stream",
     "text": [
      "TPR mean: 65.6%  std: 26.1%\n",
      "FDR mean: 92.7%  std: 3.9%\n"
     ]
    },
    {
     "name": "stdout",
     "output_type": "stream",
     "text": [
      "[[0.66877676 0.69222446]\n",
      " [0.66448753 0.69242825]\n",
      " [0.626      0.6366    ]]\n",
      "rec time now 2 dataset now: Syn5\n"
     ]
    },
    {
     "name": "stderr",
     "output_type": "stream",
     "text": [
      "TPR mean: 62.6%  std: 27.0%\n",
      "FDR mean: 92.1%  std: 4.5%\n"
     ]
    },
    {
     "name": "stdout",
     "output_type": "stream",
     "text": [
      "[[0.66877676 0.69263966]\n",
      " [0.66448753 0.69402698]\n",
      " [0.626      0.6351    ]]\n",
      "rec time now 3 dataset now: Syn5\n"
     ]
    },
    {
     "name": "stderr",
     "output_type": "stream",
     "text": [
      "TPR mean: 61.3%  std: 27.4%\n",
      "FDR mean: 91.7%  std: 4.8%\n",
      "Epoch:      0, d_loss (Acc)): 0.628, v_loss (Acc): 0.518, g_loss: -7.5353\n"
     ]
    },
    {
     "name": "stdout",
     "output_type": "stream",
     "text": [
      "[[0.66877676 0.69384575]\n",
      " [0.66448753 0.69576629]\n",
      " [0.626      0.6365    ]]\n",
      "now at training epoch number 800 hyp-params: lamda 0.1600 prior 0.4600\n",
      "rec time now 0 dataset now: Syn5\n"
     ]
    },
    {
     "name": "stderr",
     "output_type": "stream",
     "text": [
      "TPR mean: 73.3%  std: 23.5%\n",
      "FDR mean: 93.8%  std: 2.9%\n"
     ]
    },
    {
     "name": "stdout",
     "output_type": "stream",
     "text": [
      "[[0.66614632 0.68978931]\n",
      " [0.6676667  0.68837066]\n",
      " [0.6223     0.6368    ]]\n",
      "rec time now 1 dataset now: Syn5\n"
     ]
    },
    {
     "name": "stderr",
     "output_type": "stream",
     "text": [
      "TPR mean: 65.7%  std: 26.4%\n",
      "FDR mean: 92.6%  std: 4.0%\n"
     ]
    },
    {
     "name": "stdout",
     "output_type": "stream",
     "text": [
      "[[0.66614632 0.69259206]\n",
      " [0.6676667  0.69491146]\n",
      " [0.6223     0.6375    ]]\n",
      "rec time now 2 dataset now: Syn5\n"
     ]
    },
    {
     "name": "stderr",
     "output_type": "stream",
     "text": [
      "TPR mean: 62.7%  std: 27.5%\n",
      "FDR mean: 91.9%  std: 4.6%\n"
     ]
    },
    {
     "name": "stdout",
     "output_type": "stream",
     "text": [
      "[[0.66614632 0.69302799]\n",
      " [0.6676667  0.69644465]\n",
      " [0.6223     0.6361    ]]\n",
      "rec time now 3 dataset now: Syn5\n"
     ]
    },
    {
     "name": "stderr",
     "output_type": "stream",
     "text": [
      "TPR mean: 61.4%  std: 27.9%\n",
      "FDR mean: 91.6%  std: 5.0%\n",
      "Epoch:      0, d_loss (Acc)): 0.635, v_loss (Acc): 0.498, g_loss: -9.3250\n"
     ]
    },
    {
     "name": "stdout",
     "output_type": "stream",
     "text": [
      "[[0.66614632 0.69404359]\n",
      " [0.6676667  0.69914988]\n",
      " [0.6223     0.6359    ]]\n",
      "now at training epoch number 900 hyp-params: lamda 0.1800 prior 0.4550\n",
      "rec time now 0 dataset now: Syn5\n"
     ]
    },
    {
     "name": "stderr",
     "output_type": "stream",
     "text": [
      "TPR mean: 74.0%  std: 23.5%\n",
      "FDR mean: 93.7%  std: 3.0%\n"
     ]
    },
    {
     "name": "stdout",
     "output_type": "stream",
     "text": [
      "[[0.66597953 0.69337152]\n",
      " [0.6661948  0.6921452 ]\n",
      " [0.6204     0.639     ]]\n",
      "rec time now 1 dataset now: Syn5\n"
     ]
    },
    {
     "name": "stderr",
     "output_type": "stream",
     "text": [
      "TPR mean: 66.5%  std: 26.4%\n",
      "FDR mean: 92.4%  std: 4.1%\n"
     ]
    },
    {
     "name": "stdout",
     "output_type": "stream",
     "text": [
      "[[0.66597953 0.69629128]\n",
      " [0.6661948  0.69711553]\n",
      " [0.6204     0.6374    ]]\n",
      "rec time now 2 dataset now: Syn5\n"
     ]
    },
    {
     "name": "stderr",
     "output_type": "stream",
     "text": [
      "TPR mean: 63.5%  std: 27.3%\n",
      "FDR mean: 91.7%  std: 4.7%\n"
     ]
    },
    {
     "name": "stdout",
     "output_type": "stream",
     "text": [
      "[[0.66597953 0.69727139]\n",
      " [0.6661948  0.69983875]\n",
      " [0.6204     0.6381    ]]\n",
      "rec time now 3 dataset now: Syn5\n"
     ]
    },
    {
     "name": "stderr",
     "output_type": "stream",
     "text": [
      "TPR mean: 62.2%  std: 27.8%\n",
      "FDR mean: 91.4%  std: 5.0%\n",
      "Epoch:      0, d_loss (Acc)): 0.623, v_loss (Acc): 0.470, g_loss: -10.3858\n"
     ]
    },
    {
     "name": "stdout",
     "output_type": "stream",
     "text": [
      "[[0.66597953 0.69824367]\n",
      " [0.6661948  0.70064135]\n",
      " [0.6204     0.6398    ]]\n",
      "now at training epoch number 1000 hyp-params: lamda 0.2000 prior 0.4500\n",
      "rec time now 0 dataset now: Syn5\n"
     ]
    },
    {
     "name": "stderr",
     "output_type": "stream",
     "text": [
      "TPR mean: 75.2%  std: 23.3%\n",
      "FDR mean: 93.5%  std: 3.1%\n"
     ]
    },
    {
     "name": "stdout",
     "output_type": "stream",
     "text": [
      "[[0.65953058 0.69487057]\n",
      " [0.66287132 0.69911023]\n",
      " [0.616      0.6398    ]]\n",
      "rec time now 1 dataset now: Syn5\n"
     ]
    },
    {
     "name": "stderr",
     "output_type": "stream",
     "text": [
      "TPR mean: 68.3%  std: 26.4%\n",
      "FDR mean: 92.0%  std: 4.3%\n"
     ]
    },
    {
     "name": "stdout",
     "output_type": "stream",
     "text": [
      "[[0.65953058 0.69798426]\n",
      " [0.66287132 0.7043115 ]\n",
      " [0.616      0.6364    ]]\n",
      "rec time now 2 dataset now: Syn5\n"
     ]
    },
    {
     "name": "stderr",
     "output_type": "stream",
     "text": [
      "TPR mean: 65.4%  std: 27.4%\n",
      "FDR mean: 91.2%  std: 5.0%\n"
     ]
    },
    {
     "name": "stdout",
     "output_type": "stream",
     "text": [
      "[[0.65953058 0.70015473]\n",
      " [0.66287132 0.70742515]\n",
      " [0.616      0.64      ]]\n",
      "rec time now 3 dataset now: Syn5\n"
     ]
    },
    {
     "name": "stderr",
     "output_type": "stream",
     "text": [
      "TPR mean: 64.2%  std: 27.8%\n",
      "FDR mean: 90.8%  std: 5.3%\n",
      "Epoch:      0, d_loss (Acc)): 0.625, v_loss (Acc): 0.455, g_loss: -11.5580\n"
     ]
    },
    {
     "name": "stdout",
     "output_type": "stream",
     "text": [
      "[[0.65953058 0.70067304]\n",
      " [0.66287132 0.70798421]\n",
      " [0.616      0.644     ]]\n",
      "now at training epoch number 1100 hyp-params: lamda 0.2200 prior 0.4450\n",
      "rec time now 0 dataset now: Syn5\n"
     ]
    },
    {
     "name": "stderr",
     "output_type": "stream",
     "text": [
      "TPR mean: 76.3%  std: 23.3%\n",
      "FDR mean: 93.2%  std: 3.2%\n"
     ]
    },
    {
     "name": "stdout",
     "output_type": "stream",
     "text": [
      "[[0.6556999  0.70008008]\n",
      " [0.66123731 0.70237376]\n",
      " [0.6091     0.6434    ]]\n",
      "rec time now 1 dataset now: Syn5\n"
     ]
    },
    {
     "name": "stderr",
     "output_type": "stream",
     "text": [
      "TPR mean: 69.5%  std: 26.4%\n",
      "FDR mean: 91.6%  std: 4.6%\n"
     ]
    },
    {
     "name": "stdout",
     "output_type": "stream",
     "text": [
      "[[0.6556999  0.70184088]\n",
      " [0.66123731 0.70665048]\n",
      " [0.6091     0.6435    ]]\n",
      "rec time now 2 dataset now: Syn5\n"
     ]
    },
    {
     "name": "stderr",
     "output_type": "stream",
     "text": [
      "TPR mean: 66.9%  std: 27.5%\n",
      "FDR mean: 90.8%  std: 5.3%\n"
     ]
    },
    {
     "name": "stdout",
     "output_type": "stream",
     "text": [
      "[[0.6556999  0.70558318]\n",
      " [0.66123731 0.71190763]\n",
      " [0.6091     0.6452    ]]\n",
      "rec time now 3 dataset now: Syn5\n"
     ]
    },
    {
     "name": "stderr",
     "output_type": "stream",
     "text": [
      "TPR mean: 65.7%  std: 28.0%\n",
      "FDR mean: 90.3%  std: 5.7%\n",
      "Epoch:      0, d_loss (Acc)): 0.595, v_loss (Acc): 0.406, g_loss: -12.8505\n"
     ]
    },
    {
     "name": "stdout",
     "output_type": "stream",
     "text": [
      "[[0.6556999  0.70558342]\n",
      " [0.66123731 0.71270673]\n",
      " [0.6091     0.6432    ]]\n",
      "now at training epoch number 1200 hyp-params: lamda 0.2400 prior 0.4400\n",
      "rec time now 0 dataset now: Syn5\n"
     ]
    },
    {
     "name": "stderr",
     "output_type": "stream",
     "text": [
      "TPR mean: 77.2%  std: 23.2%\n",
      "FDR mean: 93.0%  std: 3.4%\n"
     ]
    },
    {
     "name": "stdout",
     "output_type": "stream",
     "text": [
      "[[0.6558387  0.70209221]\n",
      " [0.66426351 0.71102693]\n",
      " [0.6113     0.6405    ]]\n",
      "rec time now 1 dataset now: Syn5\n"
     ]
    },
    {
     "name": "stderr",
     "output_type": "stream",
     "text": [
      "TPR mean: 70.7%  std: 26.3%\n",
      "FDR mean: 91.2%  std: 4.8%\n"
     ]
    },
    {
     "name": "stdout",
     "output_type": "stream",
     "text": [
      "[[0.6558387  0.7052437 ]\n",
      " [0.66426351 0.71516498]\n",
      " [0.6113     0.6428    ]]\n",
      "rec time now 2 dataset now: Syn5\n"
     ]
    },
    {
     "name": "stderr",
     "output_type": "stream",
     "text": [
      "TPR mean: 68.0%  std: 27.6%\n",
      "FDR mean: 90.3%  std: 5.6%\n"
     ]
    },
    {
     "name": "stdout",
     "output_type": "stream",
     "text": [
      "[[0.6558387  0.70546227]\n",
      " [0.66426351 0.71709476]\n",
      " [0.6113     0.6412    ]]\n",
      "rec time now 3 dataset now: Syn5\n"
     ]
    },
    {
     "name": "stderr",
     "output_type": "stream",
     "text": [
      "TPR mean: 66.8%  std: 28.2%\n",
      "FDR mean: 89.8%  std: 6.0%\n",
      "Epoch:      0, d_loss (Acc)): 0.618, v_loss (Acc): 0.377, g_loss: -16.3553\n"
     ]
    },
    {
     "name": "stdout",
     "output_type": "stream",
     "text": [
      "[[0.6558387  0.7049748 ]\n",
      " [0.66426351 0.71706725]\n",
      " [0.6113     0.6414    ]]\n",
      "now at training epoch number 1300 hyp-params: lamda 0.2600 prior 0.4350\n",
      "rec time now 0 dataset now: Syn5\n"
     ]
    },
    {
     "name": "stderr",
     "output_type": "stream",
     "text": [
      "TPR mean: 78.1%  std: 23.1%\n",
      "FDR mean: 92.8%  std: 3.5%\n"
     ]
    },
    {
     "name": "stdout",
     "output_type": "stream",
     "text": [
      "[[0.6467702  0.70273849]\n",
      " [0.65239241 0.70970052]\n",
      " [0.6047     0.6426    ]]\n",
      "rec time now 1 dataset now: Syn5\n"
     ]
    },
    {
     "name": "stderr",
     "output_type": "stream",
     "text": [
      "TPR mean: 71.9%  std: 26.6%\n",
      "FDR mean: 90.8%  std: 5.1%\n"
     ]
    },
    {
     "name": "stdout",
     "output_type": "stream",
     "text": [
      "[[0.6467702  0.70707009]\n",
      " [0.65239241 0.71653792]\n",
      " [0.6047     0.6458    ]]\n",
      "rec time now 2 dataset now: Syn5\n"
     ]
    },
    {
     "name": "stderr",
     "output_type": "stream",
     "text": [
      "TPR mean: 69.2%  std: 28.2%\n",
      "FDR mean: 89.8%  std: 6.0%\n"
     ]
    },
    {
     "name": "stdout",
     "output_type": "stream",
     "text": [
      "[[0.6467702  0.70628095]\n",
      " [0.65239241 0.7176091 ]\n",
      " [0.6047     0.6466    ]]\n",
      "rec time now 3 dataset now: Syn5\n"
     ]
    },
    {
     "name": "stderr",
     "output_type": "stream",
     "text": [
      "TPR mean: 67.9%  std: 28.8%\n",
      "FDR mean: 89.2%  std: 6.4%\n",
      "Epoch:      0, d_loss (Acc)): 0.612, v_loss (Acc): 0.370, g_loss: -16.4746\n"
     ]
    },
    {
     "name": "stdout",
     "output_type": "stream",
     "text": [
      "[[0.6467702  0.70619209]\n",
      " [0.65239241 0.71841175]\n",
      " [0.6047     0.6427    ]]\n",
      "now at training epoch number 1400 hyp-params: lamda 0.2800 prior 0.4300\n",
      "rec time now 0 dataset now: Syn5\n"
     ]
    },
    {
     "name": "stderr",
     "output_type": "stream",
     "text": [
      "TPR mean: 78.7%  std: 23.0%\n",
      "FDR mean: 92.6%  std: 3.7%\n"
     ]
    },
    {
     "name": "stdout",
     "output_type": "stream",
     "text": [
      "[[0.64648111 0.70431421]\n",
      " [0.65282184 0.71065663]\n",
      " [0.6006     0.6417    ]]\n",
      "rec time now 1 dataset now: Syn5\n"
     ]
    },
    {
     "name": "stderr",
     "output_type": "stream",
     "text": [
      "TPR mean: 72.6%  std: 26.6%\n",
      "FDR mean: 90.3%  std: 5.5%\n"
     ]
    },
    {
     "name": "stdout",
     "output_type": "stream",
     "text": [
      "[[0.64648111 0.70767251]\n",
      " [0.65282184 0.71822706]\n",
      " [0.6006     0.6468    ]]\n",
      "rec time now 2 dataset now: Syn5\n"
     ]
    },
    {
     "name": "stderr",
     "output_type": "stream",
     "text": [
      "TPR mean: 70.1%  std: 28.1%\n",
      "FDR mean: 89.2%  std: 6.4%\n"
     ]
    },
    {
     "name": "stdout",
     "output_type": "stream",
     "text": [
      "[[0.64648111 0.71089598]\n",
      " [0.65282184 0.72213766]\n",
      " [0.6006     0.6472    ]]\n",
      "rec time now 3 dataset now: Syn5\n"
     ]
    },
    {
     "name": "stderr",
     "output_type": "stream",
     "text": [
      "TPR mean: 68.9%  std: 28.8%\n",
      "FDR mean: 88.6%  std: 7.0%\n",
      "Epoch:      0, d_loss (Acc)): 0.616, v_loss (Acc): 0.336, g_loss: -18.9463\n"
     ]
    },
    {
     "name": "stdout",
     "output_type": "stream",
     "text": [
      "[[0.64648111 0.71114813]\n",
      " [0.65282184 0.72270559]\n",
      " [0.6006     0.6458    ]]\n",
      "now at training epoch number 1500 hyp-params: lamda 0.3000 prior 0.4250\n",
      "rec time now 0 dataset now: Syn5\n"
     ]
    },
    {
     "name": "stderr",
     "output_type": "stream",
     "text": [
      "TPR mean: 79.7%  std: 22.8%\n",
      "FDR mean: 92.3%  std: 3.9%\n"
     ]
    },
    {
     "name": "stdout",
     "output_type": "stream",
     "text": [
      "[[0.64363178 0.70775957]\n",
      " [0.64961916 0.71909979]\n",
      " [0.6032     0.6426    ]]\n",
      "rec time now 1 dataset now: Syn5\n"
     ]
    },
    {
     "name": "stderr",
     "output_type": "stream",
     "text": [
      "TPR mean: 74.0%  std: 26.5%\n",
      "FDR mean: 89.7%  std: 6.0%\n"
     ]
    },
    {
     "name": "stdout",
     "output_type": "stream",
     "text": [
      "[[0.64363178 0.70844854]\n",
      " [0.64961916 0.72331823]\n",
      " [0.6032     0.6432    ]]\n",
      "rec time now 2 dataset now: Syn5\n"
     ]
    },
    {
     "name": "stderr",
     "output_type": "stream",
     "text": [
      "TPR mean: 71.4%  std: 28.2%\n",
      "FDR mean: 88.4%  std: 7.1%\n"
     ]
    },
    {
     "name": "stdout",
     "output_type": "stream",
     "text": [
      "[[0.64363178 0.71189792]\n",
      " [0.64961916 0.72714822]\n",
      " [0.6032     0.6437    ]]\n",
      "rec time now 3 dataset now: Syn5\n"
     ]
    },
    {
     "name": "stderr",
     "output_type": "stream",
     "text": [
      "TPR mean: 70.2%  std: 29.1%\n",
      "FDR mean: 87.7%  std: 7.7%\n",
      "Epoch:      0, d_loss (Acc)): 0.599, v_loss (Acc): 0.302, g_loss: -20.1646\n"
     ]
    },
    {
     "name": "stdout",
     "output_type": "stream",
     "text": [
      "[[0.64363178 0.71193977]\n",
      " [0.64961916 0.72725247]\n",
      " [0.6032     0.6436    ]]\n",
      "now at training epoch number 1600 hyp-params: lamda 0.3200 prior 0.4200\n",
      "rec time now 0 dataset now: Syn5\n"
     ]
    },
    {
     "name": "stderr",
     "output_type": "stream",
     "text": [
      "TPR mean: 80.3%  std: 22.9%\n",
      "FDR mean: 92.0%  std: 4.2%\n"
     ]
    },
    {
     "name": "stdout",
     "output_type": "stream",
     "text": [
      "[[0.63856415 0.70963562]\n",
      " [0.64329685 0.72194979]\n",
      " [0.5956     0.6448    ]]\n",
      "rec time now 1 dataset now: Syn5\n"
     ]
    },
    {
     "name": "stderr",
     "output_type": "stream",
     "text": [
      "TPR mean: 74.2%  std: 27.2%\n",
      "FDR mean: 89.2%  std: 6.5%\n"
     ]
    },
    {
     "name": "stdout",
     "output_type": "stream",
     "text": [
      "[[0.63856415 0.71193201]\n",
      " [0.64329685 0.72753112]\n",
      " [0.5956     0.6429    ]]\n",
      "rec time now 2 dataset now: Syn5\n"
     ]
    },
    {
     "name": "stderr",
     "output_type": "stream",
     "text": [
      "TPR mean: 71.6%  std: 29.0%\n",
      "FDR mean: 87.7%  std: 7.7%\n"
     ]
    },
    {
     "name": "stdout",
     "output_type": "stream",
     "text": [
      "[[0.63856415 0.7169914 ]\n",
      " [0.64329685 0.73297599]\n",
      " [0.5956     0.6462    ]]\n",
      "rec time now 3 dataset now: Syn5\n"
     ]
    },
    {
     "name": "stderr",
     "output_type": "stream",
     "text": [
      "TPR mean: 70.5%  std: 30.0%\n",
      "FDR mean: 86.9%  std: 8.4%\n",
      "Epoch:      0, d_loss (Acc)): 0.595, v_loss (Acc): 0.281, g_loss: -21.2267\n"
     ]
    },
    {
     "name": "stdout",
     "output_type": "stream",
     "text": [
      "[[0.63856415 0.71829989]\n",
      " [0.64329685 0.73368116]\n",
      " [0.5956     0.6488    ]]\n",
      "now at training epoch number 1700 hyp-params: lamda 0.3400 prior 0.4150\n",
      "rec time now 0 dataset now: Syn5\n"
     ]
    },
    {
     "name": "stderr",
     "output_type": "stream",
     "text": [
      "TPR mean: 80.5%  std: 22.7%\n",
      "FDR mean: 91.7%  std: 4.4%\n"
     ]
    },
    {
     "name": "stdout",
     "output_type": "stream",
     "text": [
      "[[0.64079741 0.7124671 ]\n",
      " [0.64810587 0.72732898]\n",
      " [0.5993     0.6475    ]]\n",
      "rec time now 1 dataset now: Syn5\n"
     ]
    },
    {
     "name": "stderr",
     "output_type": "stream",
     "text": [
      "TPR mean: 74.6%  std: 27.1%\n",
      "FDR mean: 88.6%  std: 7.0%\n"
     ]
    },
    {
     "name": "stdout",
     "output_type": "stream",
     "text": [
      "[[0.64079741 0.71434844]\n",
      " [0.64810587 0.73262373]\n",
      " [0.5993     0.6442    ]]\n",
      "rec time now 2 dataset now: Syn5\n"
     ]
    },
    {
     "name": "stderr",
     "output_type": "stream",
     "text": [
      "TPR mean: 71.9%  std: 29.1%\n",
      "FDR mean: 86.9%  std: 8.4%\n"
     ]
    },
    {
     "name": "stdout",
     "output_type": "stream",
     "text": [
      "[[0.64079741 0.71914353]\n",
      " [0.64810587 0.73724499]\n",
      " [0.5993     0.6454    ]]\n",
      "rec time now 3 dataset now: Syn5\n"
     ]
    },
    {
     "name": "stderr",
     "output_type": "stream",
     "text": [
      "TPR mean: 70.6%  std: 30.0%\n",
      "FDR mean: 86.1%  std: 9.1%\n",
      "Epoch:      0, d_loss (Acc)): 0.599, v_loss (Acc): 0.284, g_loss: -21.3398\n"
     ]
    },
    {
     "name": "stdout",
     "output_type": "stream",
     "text": [
      "[[0.64079741 0.71863811]\n",
      " [0.64810587 0.73695945]\n",
      " [0.5993     0.646     ]]\n",
      "now at training epoch number 1800 hyp-params: lamda 0.3600 prior 0.4100\n",
      "rec time now 0 dataset now: Syn5\n"
     ]
    },
    {
     "name": "stderr",
     "output_type": "stream",
     "text": [
      "TPR mean: 81.2%  std: 22.6%\n",
      "FDR mean: 91.4%  std: 4.7%\n"
     ]
    },
    {
     "name": "stdout",
     "output_type": "stream",
     "text": [
      "[[0.63951256 0.7177284 ]\n",
      " [0.6420902  0.73373778]\n",
      " [0.5944     0.6517    ]]\n",
      "rec time now 1 dataset now: Syn5\n"
     ]
    },
    {
     "name": "stderr",
     "output_type": "stream",
     "text": [
      "TPR mean: 75.1%  std: 27.4%\n",
      "FDR mean: 87.9%  std: 7.6%\n"
     ]
    },
    {
     "name": "stdout",
     "output_type": "stream",
     "text": [
      "[[0.63951256 0.72096712]\n",
      " [0.6420902  0.73933766]\n",
      " [0.5944     0.6488    ]]\n",
      "rec time now 2 dataset now: Syn5\n"
     ]
    },
    {
     "name": "stderr",
     "output_type": "stream",
     "text": [
      "TPR mean: 72.4%  std: 29.6%\n",
      "FDR mean: 86.1%  std: 9.1%\n"
     ]
    },
    {
     "name": "stdout",
     "output_type": "stream",
     "text": [
      "[[0.63951256 0.72238573]\n",
      " [0.6420902  0.74089145]\n",
      " [0.5944     0.6495    ]]\n",
      "rec time now 3 dataset now: Syn5\n"
     ]
    },
    {
     "name": "stderr",
     "output_type": "stream",
     "text": [
      "TPR mean: 71.3%  std: 30.5%\n",
      "FDR mean: 85.1%  std: 9.9%\n",
      "Epoch:      0, d_loss (Acc)): 0.581, v_loss (Acc): 0.226, g_loss: -24.0406\n"
     ]
    },
    {
     "name": "stdout",
     "output_type": "stream",
     "text": [
      "[[0.63951256 0.72412651]\n",
      " [0.6420902  0.74165089]\n",
      " [0.5944     0.653     ]]\n",
      "now at training epoch number 1900 hyp-params: lamda 0.3800 prior 0.4050\n",
      "rec time now 0 dataset now: Syn5\n"
     ]
    },
    {
     "name": "stderr",
     "output_type": "stream",
     "text": [
      "TPR mean: 81.6%  std: 22.6%\n",
      "FDR mean: 91.0%  std: 5.0%\n"
     ]
    },
    {
     "name": "stdout",
     "output_type": "stream",
     "text": [
      "[[0.64112013 0.71741588]\n",
      " [0.64515623 0.73174004]\n",
      " [0.5994     0.6486    ]]\n",
      "rec time now 1 dataset now: Syn5\n"
     ]
    },
    {
     "name": "stderr",
     "output_type": "stream",
     "text": [
      "TPR mean: 75.5%  std: 27.5%\n",
      "FDR mean: 87.1%  std: 8.2%\n"
     ]
    },
    {
     "name": "stdout",
     "output_type": "stream",
     "text": [
      "[[0.64112013 0.7198125 ]\n",
      " [0.64515623 0.73688139]\n",
      " [0.5994     0.6445    ]]\n",
      "rec time now 2 dataset now: Syn5\n"
     ]
    },
    {
     "name": "stderr",
     "output_type": "stream",
     "text": [
      "TPR mean: 72.6%  std: 29.8%\n",
      "FDR mean: 85.1%  std: 9.9%\n"
     ]
    },
    {
     "name": "stdout",
     "output_type": "stream",
     "text": [
      "[[0.64112013 0.72350272]\n",
      " [0.64515623 0.74180011]\n",
      " [0.5994     0.6482    ]]\n",
      "rec time now 3 dataset now: Syn5\n"
     ]
    },
    {
     "name": "stderr",
     "output_type": "stream",
     "text": [
      "TPR mean: 71.2%  std: 31.0%\n",
      "FDR mean: 84.0%  std: 10.9%\n",
      "Epoch:      0, d_loss (Acc)): 0.577, v_loss (Acc): 0.199, g_loss: -25.5372\n"
     ]
    },
    {
     "name": "stdout",
     "output_type": "stream",
     "text": [
      "[[0.64112013 0.72354688]\n",
      " [0.64515623 0.74158484]\n",
      " [0.5994     0.6459    ]]\n",
      "now at training epoch number 2000 hyp-params: lamda 0.4000 prior 0.4000\n",
      "rec time now 0 dataset now: Syn5\n"
     ]
    },
    {
     "name": "stderr",
     "output_type": "stream",
     "text": [
      "TPR mean: 81.6%  std: 22.3%\n",
      "FDR mean: 90.7%  std: 5.3%\n"
     ]
    },
    {
     "name": "stdout",
     "output_type": "stream",
     "text": [
      "[[0.6391864  0.72215131]\n",
      " [0.6453148  0.73955254]\n",
      " [0.5951     0.653     ]]\n",
      "rec time now 1 dataset now: Syn5\n"
     ]
    },
    {
     "name": "stderr",
     "output_type": "stream",
     "text": [
      "TPR mean: 75.0%  std: 27.9%\n",
      "FDR mean: 86.5%  std: 8.9%\n"
     ]
    },
    {
     "name": "stdout",
     "output_type": "stream",
     "text": [
      "[[0.6391864  0.72271261]\n",
      " [0.6453148  0.74320591]\n",
      " [0.5951     0.6512    ]]\n",
      "rec time now 2 dataset now: Syn5\n"
     ]
    },
    {
     "name": "stderr",
     "output_type": "stream",
     "text": [
      "TPR mean: 72.0%  std: 30.4%\n",
      "FDR mean: 84.2%  std: 10.9%\n"
     ]
    },
    {
     "name": "stdout",
     "output_type": "stream",
     "text": [
      "[[0.6391864  0.72707518]\n",
      " [0.6453148  0.74749722]\n",
      " [0.5951     0.6527    ]]\n",
      "rec time now 3 dataset now: Syn5\n"
     ]
    },
    {
     "name": "stderr",
     "output_type": "stream",
     "text": [
      "TPR mean: 70.5%  std: 31.8%\n",
      "FDR mean: 83.1%  std: 11.9%\n",
      "Epoch:      0, d_loss (Acc)): 0.592, v_loss (Acc): 0.205, g_loss: -26.0310\n"
     ]
    },
    {
     "name": "stdout",
     "output_type": "stream",
     "text": [
      "[[0.6391864  0.72799198]\n",
      " [0.6453148  0.74812227]\n",
      " [0.5951     0.6522    ]]\n",
      "now at training epoch number 2100 hyp-params: lamda 0.4200 prior 0.3950\n",
      "rec time now 0 dataset now: Syn5\n"
     ]
    },
    {
     "name": "stderr",
     "output_type": "stream",
     "text": [
      "TPR mean: 81.9%  std: 22.3%\n",
      "FDR mean: 90.4%  std: 5.7%\n"
     ]
    },
    {
     "name": "stdout",
     "output_type": "stream",
     "text": [
      "[[0.63888447 0.72250136]\n",
      " [0.6430402  0.73916299]\n",
      " [0.5959     0.6507    ]]\n",
      "rec time now 1 dataset now: Syn5\n"
     ]
    },
    {
     "name": "stderr",
     "output_type": "stream",
     "text": [
      "TPR mean: 75.4%  std: 28.0%\n",
      "FDR mean: 85.7%  std: 9.7%\n"
     ]
    },
    {
     "name": "stdout",
     "output_type": "stream",
     "text": [
      "[[0.63888447 0.72469327]\n",
      " [0.6430402  0.74395616]\n",
      " [0.5959     0.6494    ]]\n",
      "rec time now 2 dataset now: Syn5\n"
     ]
    },
    {
     "name": "stderr",
     "output_type": "stream",
     "text": [
      "TPR mean: 72.4%  std: 30.6%\n",
      "FDR mean: 83.1%  std: 11.9%\n"
     ]
    },
    {
     "name": "stdout",
     "output_type": "stream",
     "text": [
      "[[0.63888447 0.72960604]\n",
      " [0.6430402  0.74783767]\n",
      " [0.5959     0.6511    ]]\n",
      "rec time now 3 dataset now: Syn5\n"
     ]
    },
    {
     "name": "stderr",
     "output_type": "stream",
     "text": [
      "TPR mean: 70.8%  std: 32.0%\n",
      "FDR mean: 81.9%  std: 13.1%\n",
      "Epoch:      0, d_loss (Acc)): 0.573, v_loss (Acc): 0.176, g_loss: -26.7143\n"
     ]
    },
    {
     "name": "stdout",
     "output_type": "stream",
     "text": [
      "[[0.63888447 0.72902575]\n",
      " [0.6430402  0.74763361]\n",
      " [0.5959     0.6497    ]]\n",
      "now at training epoch number 2200 hyp-params: lamda 0.4400 prior 0.3900\n",
      "rec time now 0 dataset now: Syn5\n"
     ]
    },
    {
     "name": "stderr",
     "output_type": "stream",
     "text": [
      "TPR mean: 82.4%  std: 22.3%\n",
      "FDR mean: 89.9%  std: 6.1%\n"
     ]
    },
    {
     "name": "stdout",
     "output_type": "stream",
     "text": [
      "[[0.63704039 0.7226797 ]\n",
      " [0.64237692 0.73857651]\n",
      " [0.5933     0.6504    ]]\n",
      "rec time now 1 dataset now: Syn5\n"
     ]
    },
    {
     "name": "stderr",
     "output_type": "stream",
     "text": [
      "TPR mean: 75.5%  std: 28.9%\n",
      "FDR mean: 84.7%  std: 10.7%\n"
     ]
    },
    {
     "name": "stdout",
     "output_type": "stream",
     "text": [
      "[[0.63704039 0.72668173]\n",
      " [0.64237692 0.74563138]\n",
      " [0.5933     0.648     ]]\n",
      "rec time now 2 dataset now: Syn5\n"
     ]
    },
    {
     "name": "stderr",
     "output_type": "stream",
     "text": [
      "TPR mean: 72.3%  std: 31.9%\n",
      "FDR mean: 81.9%  std: 13.2%\n"
     ]
    },
    {
     "name": "stdout",
     "output_type": "stream",
     "text": [
      "[[0.63704039 0.72971464]\n",
      " [0.64237692 0.74782337]\n",
      " [0.5933     0.6526    ]]\n",
      "rec time now 3 dataset now: Syn5\n"
     ]
    },
    {
     "name": "stderr",
     "output_type": "stream",
     "text": [
      "TPR mean: 70.7%  std: 33.5%\n",
      "FDR mean: 80.5%  std: 14.5%\n",
      "Epoch:      0, d_loss (Acc)): 0.583, v_loss (Acc): 0.165, g_loss: -28.1153\n"
     ]
    },
    {
     "name": "stdout",
     "output_type": "stream",
     "text": [
      "[[0.63704039 0.73069703]\n",
      " [0.64237692 0.74941564]\n",
      " [0.5933     0.6509    ]]\n",
      "now at training epoch number 2300 hyp-params: lamda 0.4600 prior 0.3850\n",
      "rec time now 0 dataset now: Syn5\n"
     ]
    },
    {
     "name": "stderr",
     "output_type": "stream",
     "text": [
      "TPR mean: 82.6%  std: 21.9%\n",
      "FDR mean: 89.6%  std: 6.4%\n"
     ]
    },
    {
     "name": "stdout",
     "output_type": "stream",
     "text": [
      "[[0.63875267 0.73038211]\n",
      " [0.64409214 0.74704389]\n",
      " [0.5909     0.6581    ]]\n",
      "rec time now 1 dataset now: Syn5\n"
     ]
    },
    {
     "name": "stderr",
     "output_type": "stream",
     "text": [
      "TPR mean: 75.5%  std: 29.0%\n",
      "FDR mean: 83.9%  std: 11.4%\n"
     ]
    },
    {
     "name": "stdout",
     "output_type": "stream",
     "text": [
      "[[0.63875267 0.73313955]\n",
      " [0.64409214 0.75259962]\n",
      " [0.5909     0.6558    ]]\n",
      "rec time now 2 dataset now: Syn5\n"
     ]
    },
    {
     "name": "stderr",
     "output_type": "stream",
     "text": [
      "TPR mean: 72.1%  std: 32.1%\n",
      "FDR mean: 80.8%  std: 14.0%\n"
     ]
    },
    {
     "name": "stdout",
     "output_type": "stream",
     "text": [
      "[[0.63875267 0.73540979]\n",
      " [0.64409214 0.7548848 ]\n",
      " [0.5909     0.6579    ]]\n",
      "rec time now 3 dataset now: Syn5\n"
     ]
    },
    {
     "name": "stderr",
     "output_type": "stream",
     "text": [
      "TPR mean: 70.3%  std: 33.8%\n",
      "FDR mean: 79.4%  std: 15.4%\n",
      "Epoch:      0, d_loss (Acc)): 0.558, v_loss (Acc): 0.132, g_loss: -28.7150\n"
     ]
    },
    {
     "name": "stdout",
     "output_type": "stream",
     "text": [
      "[[0.63875267 0.73521394]\n",
      " [0.64409214 0.75520989]\n",
      " [0.5909     0.6564    ]]\n",
      "now at training epoch number 2400 hyp-params: lamda 0.4800 prior 0.3800\n",
      "rec time now 0 dataset now: Syn5\n"
     ]
    },
    {
     "name": "stderr",
     "output_type": "stream",
     "text": [
      "TPR mean: 83.3%  std: 21.4%\n",
      "FDR mean: 88.9%  std: 7.0%\n"
     ]
    },
    {
     "name": "stdout",
     "output_type": "stream",
     "text": [
      "[[0.63737806 0.73092947]\n",
      " [0.64285456 0.74788218]\n",
      " [0.5948     0.6535    ]]\n",
      "rec time now 1 dataset now: Syn5\n"
     ]
    },
    {
     "name": "stderr",
     "output_type": "stream",
     "text": [
      "TPR mean: 76.1%  std: 28.9%\n",
      "FDR mean: 82.3%  std: 12.7%\n"
     ]
    },
    {
     "name": "stdout",
     "output_type": "stream",
     "text": [
      "[[0.63737806 0.73477339]\n",
      " [0.64285456 0.75379515]\n",
      " [0.5948     0.656     ]]\n",
      "rec time now 2 dataset now: Syn5\n"
     ]
    },
    {
     "name": "stderr",
     "output_type": "stream",
     "text": [
      "TPR mean: 72.7%  std: 32.2%\n",
      "FDR mean: 78.7%  std: 15.7%\n"
     ]
    },
    {
     "name": "stdout",
     "output_type": "stream",
     "text": [
      "[[0.63737806 0.73929607]\n",
      " [0.64285456 0.75837354]\n",
      " [0.5948     0.6583    ]]\n",
      "rec time now 3 dataset now: Syn5\n"
     ]
    },
    {
     "name": "stderr",
     "output_type": "stream",
     "text": [
      "TPR mean: 70.8%  std: 34.0%\n",
      "FDR mean: 77.1%  std: 17.1%\n",
      "Epoch:      0, d_loss (Acc)): 0.542, v_loss (Acc): 0.123, g_loss: -28.2000\n"
     ]
    },
    {
     "name": "stdout",
     "output_type": "stream",
     "text": [
      "[[0.63737806 0.73886948]\n",
      " [0.64285456 0.75769086]\n",
      " [0.5948     0.6573    ]]\n",
      "now at training epoch number 2500 hyp-params: lamda 0.5000 prior 0.3750\n",
      "rec time now 0 dataset now: Syn5\n"
     ]
    },
    {
     "name": "stderr",
     "output_type": "stream",
     "text": [
      "TPR mean: 83.5%  std: 21.5%\n",
      "FDR mean: 88.1%  std: 8.0%\n"
     ]
    },
    {
     "name": "stdout",
     "output_type": "stream",
     "text": [
      "[[0.63677103 0.73010503]\n",
      " [0.64065953 0.74589505]\n",
      " [0.5958     0.6565    ]]\n",
      "rec time now 1 dataset now: Syn5\n"
     ]
    },
    {
     "name": "stderr",
     "output_type": "stream",
     "text": [
      "TPR mean: 76.0%  std: 29.4%\n",
      "FDR mean: 80.5%  std: 14.4%\n"
     ]
    },
    {
     "name": "stdout",
     "output_type": "stream",
     "text": [
      "[[0.63677103 0.73563907]\n",
      " [0.64065953 0.75331455]\n",
      " [0.5958     0.6529    ]]\n",
      "rec time now 2 dataset now: Syn5\n"
     ]
    },
    {
     "name": "stderr",
     "output_type": "stream",
     "text": [
      "TPR mean: 72.4%  std: 33.0%\n",
      "FDR mean: 76.8%  std: 17.4%\n"
     ]
    },
    {
     "name": "stdout",
     "output_type": "stream",
     "text": [
      "[[0.63677103 0.73709898]\n",
      " [0.64065953 0.7549081 ]\n",
      " [0.5958     0.6569    ]]\n",
      "rec time now 3 dataset now: Syn5\n"
     ]
    },
    {
     "name": "stderr",
     "output_type": "stream",
     "text": [
      "TPR mean: 70.4%  std: 34.9%\n",
      "FDR mean: 75.1%  std: 18.9%\n",
      "Epoch:      0, d_loss (Acc)): 0.561, v_loss (Acc): 0.108, g_loss: -30.3513\n"
     ]
    },
    {
     "name": "stdout",
     "output_type": "stream",
     "text": [
      "[[0.63677103 0.73817817]\n",
      " [0.64065953 0.75588759]\n",
      " [0.5958     0.6595    ]]\n",
      "now at training epoch number 2600 hyp-params: lamda 0.5200 prior 0.3700\n",
      "rec time now 0 dataset now: Syn5\n"
     ]
    },
    {
     "name": "stderr",
     "output_type": "stream",
     "text": [
      "TPR mean: 84.0%  std: 21.3%\n",
      "FDR mean: 87.6%  std: 8.4%\n"
     ]
    },
    {
     "name": "stdout",
     "output_type": "stream",
     "text": [
      "[[0.63771706 0.7356231 ]\n",
      " [0.64322397 0.7532464 ]\n",
      " [0.5924     0.6615    ]]\n",
      "rec time now 1 dataset now: Syn5\n"
     ]
    },
    {
     "name": "stderr",
     "output_type": "stream",
     "text": [
      "TPR mean: 76.3%  std: 29.7%\n",
      "FDR mean: 79.5%  std: 15.3%\n"
     ]
    },
    {
     "name": "stdout",
     "output_type": "stream",
     "text": [
      "[[0.63771706 0.74156559]\n",
      " [0.64322397 0.7604769 ]\n",
      " [0.5924     0.662     ]]\n",
      "rec time now 2 dataset now: Syn5\n"
     ]
    },
    {
     "name": "stderr",
     "output_type": "stream",
     "text": [
      "TPR mean: 72.4%  std: 33.5%\n",
      "FDR mean: 75.6%  std: 18.4%\n"
     ]
    },
    {
     "name": "stdout",
     "output_type": "stream",
     "text": [
      "[[0.63771706 0.74451877]\n",
      " [0.64322397 0.76300425]\n",
      " [0.5924     0.6613    ]]\n",
      "rec time now 3 dataset now: Syn5\n"
     ]
    },
    {
     "name": "stderr",
     "output_type": "stream",
     "text": [
      "TPR mean: 70.5%  std: 35.3%\n",
      "FDR mean: 73.7%  std: 20.1%\n",
      "Epoch:      0, d_loss (Acc)): 0.541, v_loss (Acc): 0.090, g_loss: -30.1729\n"
     ]
    },
    {
     "name": "stdout",
     "output_type": "stream",
     "text": [
      "[[0.63771706 0.74300854]\n",
      " [0.64322397 0.76205572]\n",
      " [0.5924     0.6596    ]]\n",
      "now at training epoch number 2700 hyp-params: lamda 0.5400 prior 0.3650\n",
      "rec time now 0 dataset now: Syn5\n"
     ]
    },
    {
     "name": "stderr",
     "output_type": "stream",
     "text": [
      "TPR mean: 83.9%  std: 21.2%\n",
      "FDR mean: 86.7%  std: 9.4%\n"
     ]
    },
    {
     "name": "stdout",
     "output_type": "stream",
     "text": [
      "[[0.63682518 0.73664342]\n",
      " [0.64104952 0.75272982]\n",
      " [0.5964     0.6638    ]]\n",
      "rec time now 1 dataset now: Syn5\n"
     ]
    },
    {
     "name": "stderr",
     "output_type": "stream",
     "text": [
      "TPR mean: 75.9%  std: 29.9%\n",
      "FDR mean: 77.4%  std: 17.3%\n"
     ]
    },
    {
     "name": "stdout",
     "output_type": "stream",
     "text": [
      "[[0.63682518 0.74245368]\n",
      " [0.64104952 0.76092211]\n",
      " [0.5964     0.6599    ]]\n",
      "rec time now 2 dataset now: Syn5\n"
     ]
    },
    {
     "name": "stderr",
     "output_type": "stream",
     "text": [
      "TPR mean: 71.8%  std: 33.8%\n",
      "FDR mean: 73.0%  std: 20.6%\n"
     ]
    },
    {
     "name": "stdout",
     "output_type": "stream",
     "text": [
      "[[0.63682518 0.74576619]\n",
      " [0.64104952 0.76380186]\n",
      " [0.5964     0.6629    ]]\n",
      "rec time now 3 dataset now: Syn5\n"
     ]
    },
    {
     "name": "stderr",
     "output_type": "stream",
     "text": [
      "TPR mean: 69.7%  std: 36.0%\n",
      "FDR mean: 70.8%  std: 22.5%\n",
      "Epoch:      0, d_loss (Acc)): 0.554, v_loss (Acc): 0.080, g_loss: -31.6089\n"
     ]
    },
    {
     "name": "stdout",
     "output_type": "stream",
     "text": [
      "[[0.63682518 0.74609981]\n",
      " [0.64104952 0.76382594]\n",
      " [0.5964     0.6614    ]]\n",
      "now at training epoch number 2800 hyp-params: lamda 0.5600 prior 0.3600\n",
      "rec time now 0 dataset now: Syn5\n"
     ]
    },
    {
     "name": "stderr",
     "output_type": "stream",
     "text": [
      "TPR mean: 84.1%  std: 21.1%\n",
      "FDR mean: 85.5%  std: 10.8%\n"
     ]
    },
    {
     "name": "stdout",
     "output_type": "stream",
     "text": [
      "[[0.63398895 0.73728966]\n",
      " [0.63817964 0.75564424]\n",
      " [0.5923     0.6617    ]]\n",
      "rec time now 1 dataset now: Syn5\n"
     ]
    },
    {
     "name": "stderr",
     "output_type": "stream",
     "text": [
      "TPR mean: 76.0%  std: 29.9%\n",
      "FDR mean: 74.9%  std: 19.4%\n"
     ]
    },
    {
     "name": "stdout",
     "output_type": "stream",
     "text": [
      "[[0.63398895 0.74381474]\n",
      " [0.63817964 0.76230044]\n",
      " [0.5923     0.6627    ]]\n",
      "rec time now 2 dataset now: Syn5\n"
     ]
    },
    {
     "name": "stderr",
     "output_type": "stream",
     "text": [
      "TPR mean: 71.7%  std: 34.2%\n",
      "FDR mean: 70.1%  std: 22.9%\n"
     ]
    },
    {
     "name": "stdout",
     "output_type": "stream",
     "text": [
      "[[0.63398895 0.74758954]\n",
      " [0.63817964 0.76492889]\n",
      " [0.5923     0.6663    ]]\n",
      "rec time now 3 dataset now: Syn5\n"
     ]
    },
    {
     "name": "stderr",
     "output_type": "stream",
     "text": [
      "TPR mean: 69.7%  std: 36.2%\n",
      "FDR mean: 67.5%  std: 24.7%\n",
      "Epoch:      0, d_loss (Acc)): 0.556, v_loss (Acc): 0.066, g_loss: -32.6689\n"
     ]
    },
    {
     "name": "stdout",
     "output_type": "stream",
     "text": [
      "[[0.63398895 0.74509096]\n",
      " [0.63817964 0.76252943]\n",
      " [0.5923     0.6621    ]]\n",
      "now at training epoch number 2900 hyp-params: lamda 0.5800 prior 0.3550\n",
      "rec time now 0 dataset now: Syn5\n"
     ]
    },
    {
     "name": "stderr",
     "output_type": "stream",
     "text": [
      "TPR mean: 84.2%  std: 20.8%\n",
      "FDR mean: 84.5%  std: 11.8%\n"
     ]
    },
    {
     "name": "stdout",
     "output_type": "stream",
     "text": [
      "[[0.63684178 0.73950858]\n",
      " [0.64078049 0.7569953 ]\n",
      " [0.5939     0.6645    ]]\n",
      "rec time now 1 dataset now: Syn5\n"
     ]
    },
    {
     "name": "stderr",
     "output_type": "stream",
     "text": [
      "TPR mean: 75.9%  std: 30.0%\n",
      "FDR mean: 72.4%  std: 21.7%\n"
     ]
    },
    {
     "name": "stdout",
     "output_type": "stream",
     "text": [
      "[[0.63684178 0.74383691]\n",
      " [0.64078049 0.7618823 ]\n",
      " [0.5939     0.6613    ]]\n",
      "rec time now 2 dataset now: Syn5\n"
     ]
    },
    {
     "name": "stderr",
     "output_type": "stream",
     "text": [
      "TPR mean: 71.5%  std: 34.4%\n",
      "FDR mean: 67.0%  std: 25.5%\n"
     ]
    },
    {
     "name": "stdout",
     "output_type": "stream",
     "text": [
      "[[0.63684178 0.74578762]\n",
      " [0.64078049 0.76343271]\n",
      " [0.5939     0.6604    ]]\n",
      "rec time now 3 dataset now: Syn5\n"
     ]
    },
    {
     "name": "stderr",
     "output_type": "stream",
     "text": [
      "TPR mean: 69.5%  std: 36.5%\n",
      "FDR mean: 63.8%  std: 27.4%\n",
      "Epoch:      0, d_loss (Acc)): 0.550, v_loss (Acc): 0.059, g_loss: -32.6974\n"
     ]
    },
    {
     "name": "stdout",
     "output_type": "stream",
     "text": [
      "[[0.63684178 0.74441594]\n",
      " [0.64078049 0.76195899]\n",
      " [0.5939     0.6583    ]]\n",
      "now at training epoch number 3000 hyp-params: lamda 0.6000 prior 0.3500\n",
      "rec time now 0 dataset now: Syn5\n"
     ]
    },
    {
     "name": "stderr",
     "output_type": "stream",
     "text": [
      "TPR mean: 84.5%  std: 20.7%\n",
      "FDR mean: 83.0%  std: 13.5%\n"
     ]
    },
    {
     "name": "stdout",
     "output_type": "stream",
     "text": [
      "[[0.63506748 0.74421656]\n",
      " [0.63871151 0.76361059]\n",
      " [0.5919     0.6696    ]]\n",
      "rec time now 1 dataset now: Syn5\n"
     ]
    },
    {
     "name": "stderr",
     "output_type": "stream",
     "text": [
      "TPR mean: 75.9%  std: 30.3%\n",
      "FDR mean: 69.0%  std: 24.9%\n"
     ]
    },
    {
     "name": "stdout",
     "output_type": "stream",
     "text": [
      "[[0.63506748 0.74689292]\n",
      " [0.63871151 0.76570232]\n",
      " [0.5919     0.664     ]]\n",
      "rec time now 2 dataset now: Syn5\n"
     ]
    },
    {
     "name": "stderr",
     "output_type": "stream",
     "text": [
      "TPR mean: 71.4%  std: 34.8%\n",
      "FDR mean: 63.3%  std: 28.3%\n"
     ]
    },
    {
     "name": "stdout",
     "output_type": "stream",
     "text": [
      "[[0.63506748 0.74867157]\n",
      " [0.63871151 0.76648395]\n",
      " [0.5919     0.6617    ]]\n",
      "rec time now 3 dataset now: Syn5\n"
     ]
    },
    {
     "name": "stderr",
     "output_type": "stream",
     "text": [
      "TPR mean: 69.5%  std: 36.8%\n",
      "FDR mean: 59.4%  std: 29.9%\n",
      "Epoch:      0, d_loss (Acc)): 0.566, v_loss (Acc): 0.060, g_loss: -33.5843\n"
     ]
    },
    {
     "name": "stdout",
     "output_type": "stream",
     "text": [
      "[[0.63506748 0.74836747]\n",
      " [0.63871151 0.76597769]\n",
      " [0.5919     0.6625    ]]\n",
      "now at training epoch number 3100 hyp-params: lamda 0.6200 prior 0.3450\n",
      "rec time now 0 dataset now: Syn5\n"
     ]
    },
    {
     "name": "stderr",
     "output_type": "stream",
     "text": [
      "TPR mean: 85.0%  std: 20.5%\n",
      "FDR mean: 81.7%  std: 14.9%\n"
     ]
    },
    {
     "name": "stdout",
     "output_type": "stream",
     "text": [
      "[[0.6373984  0.7465302 ]\n",
      " [0.64153384 0.76484224]\n",
      " [0.5946     0.665     ]]\n",
      "rec time now 1 dataset now: Syn5\n"
     ]
    },
    {
     "name": "stderr",
     "output_type": "stream",
     "text": [
      "TPR mean: 76.4%  std: 30.5%\n",
      "FDR mean: 66.9%  std: 26.2%\n"
     ]
    },
    {
     "name": "stdout",
     "output_type": "stream",
     "text": [
      "[[0.6373984  0.75040027]\n",
      " [0.64153384 0.76852276]\n",
      " [0.5946     0.6616    ]]\n",
      "rec time now 2 dataset now: Syn5\n"
     ]
    },
    {
     "name": "stderr",
     "output_type": "stream",
     "text": [
      "TPR mean: 71.9%  std: 35.1%\n",
      "FDR mean: 60.9%  std: 29.2%\n"
     ]
    },
    {
     "name": "stdout",
     "output_type": "stream",
     "text": [
      "[[0.6373984  0.7505558 ]\n",
      " [0.64153384 0.76759764]\n",
      " [0.5946     0.6624    ]]\n",
      "rec time now 3 dataset now: Syn5\n"
     ]
    },
    {
     "name": "stderr",
     "output_type": "stream",
     "text": [
      "TPR mean: 69.9%  std: 37.1%\n",
      "FDR mean: 56.6%  std: 30.7%\n",
      "Epoch:      0, d_loss (Acc)): 0.555, v_loss (Acc): 0.045, g_loss: -33.7865\n"
     ]
    },
    {
     "name": "stdout",
     "output_type": "stream",
     "text": [
      "[[0.6373984  0.75009006]\n",
      " [0.64153384 0.76618819]\n",
      " [0.5946     0.6649    ]]\n",
      "now at training epoch number 3200 hyp-params: lamda 0.6400 prior 0.3400\n",
      "rec time now 0 dataset now: Syn5\n"
     ]
    },
    {
     "name": "stderr",
     "output_type": "stream",
     "text": [
      "TPR mean: 85.7%  std: 20.6%\n",
      "FDR mean: 79.7%  std: 16.8%\n"
     ]
    },
    {
     "name": "stdout",
     "output_type": "stream",
     "text": [
      "[[0.63381679 0.75215871]\n",
      " [0.63776146 0.76989383]\n",
      " [0.5914     0.672     ]]\n",
      "rec time now 1 dataset now: Syn5\n"
     ]
    },
    {
     "name": "stderr",
     "output_type": "stream",
     "text": [
      "TPR mean: 77.2%  std: 30.8%\n",
      "FDR mean: 64.0%  std: 28.1%\n"
     ]
    },
    {
     "name": "stdout",
     "output_type": "stream",
     "text": [
      "[[0.63381679 0.75443908]\n",
      " [0.63776146 0.77199855]\n",
      " [0.5914     0.6687    ]]\n",
      "rec time now 2 dataset now: Syn5\n"
     ]
    },
    {
     "name": "stderr",
     "output_type": "stream",
     "text": [
      "TPR mean: 72.5%  std: 35.7%\n",
      "FDR mean: 57.7%  std: 30.8%\n"
     ]
    },
    {
     "name": "stdout",
     "output_type": "stream",
     "text": [
      "[[0.63381679 0.75395825]\n",
      " [0.63776146 0.7702403 ]\n",
      " [0.5914     0.6709    ]]\n",
      "rec time now 3 dataset now: Syn5\n"
     ]
    },
    {
     "name": "stderr",
     "output_type": "stream",
     "text": [
      "TPR mean: 70.4%  std: 37.8%\n",
      "FDR mean: 52.5%  std: 32.1%\n",
      "Epoch:      0, d_loss (Acc)): 0.554, v_loss (Acc): 0.041, g_loss: -33.9193\n"
     ]
    },
    {
     "name": "stdout",
     "output_type": "stream",
     "text": [
      "[[0.63381679 0.7538874 ]\n",
      " [0.63776146 0.76947357]\n",
      " [0.5914     0.6697    ]]\n",
      "now at training epoch number 3300 hyp-params: lamda 0.6600 prior 0.3350\n",
      "rec time now 0 dataset now: Syn5\n"
     ]
    },
    {
     "name": "stderr",
     "output_type": "stream",
     "text": [
      "TPR mean: 86.2%  std: 20.5%\n",
      "FDR mean: 77.2%  std: 19.3%\n"
     ]
    },
    {
     "name": "stdout",
     "output_type": "stream",
     "text": [
      "[[0.63366913 0.75102092]\n",
      " [0.63708553 0.7661013 ]\n",
      " [0.5907     0.6729    ]]\n",
      "rec time now 1 dataset now: Syn5\n"
     ]
    },
    {
     "name": "stderr",
     "output_type": "stream",
     "text": [
      "TPR mean: 77.7%  std: 30.9%\n",
      "FDR mean: 60.4%  std: 30.4%\n"
     ]
    },
    {
     "name": "stdout",
     "output_type": "stream",
     "text": [
      "[[0.63366913 0.75517328]\n",
      " [0.63708553 0.77063057]\n",
      " [0.5907     0.6725    ]]\n",
      "rec time now 2 dataset now: Syn5\n"
     ]
    },
    {
     "name": "stderr",
     "output_type": "stream",
     "text": [
      "TPR mean: 73.1%  std: 35.9%\n",
      "FDR mean: 53.5%  std: 32.2%\n"
     ]
    },
    {
     "name": "stdout",
     "output_type": "stream",
     "text": [
      "[[0.63366913 0.75375957]\n",
      " [0.63708553 0.76964479]\n",
      " [0.5907     0.6698    ]]\n",
      "rec time now 3 dataset now: Syn5\n"
     ]
    },
    {
     "name": "stderr",
     "output_type": "stream",
     "text": [
      "TPR mean: 71.0%  std: 38.0%\n",
      "FDR mean: 48.7%  std: 32.8%\n",
      "Epoch:      0, d_loss (Acc)): 0.546, v_loss (Acc): 0.039, g_loss: -33.5589\n"
     ]
    },
    {
     "name": "stdout",
     "output_type": "stream",
     "text": [
      "[[0.63366913 0.75188886]\n",
      " [0.63708553 0.76729983]\n",
      " [0.5907     0.6668    ]]\n",
      "now at training epoch number 3400 hyp-params: lamda 0.6800 prior 0.3300\n",
      "rec time now 0 dataset now: Syn5\n"
     ]
    },
    {
     "name": "stderr",
     "output_type": "stream",
     "text": [
      "TPR mean: 86.4%  std: 20.3%\n",
      "FDR mean: 75.0%  std: 21.4%\n"
     ]
    },
    {
     "name": "stdout",
     "output_type": "stream",
     "text": [
      "[[0.63603443 0.75436559]\n",
      " [0.63964592 0.76963902]\n",
      " [0.5911     0.6759    ]]\n",
      "rec time now 1 dataset now: Syn5\n"
     ]
    },
    {
     "name": "stderr",
     "output_type": "stream",
     "text": [
      "TPR mean: 78.3%  std: 30.3%\n",
      "FDR mean: 57.9%  std: 31.8%\n"
     ]
    },
    {
     "name": "stdout",
     "output_type": "stream",
     "text": [
      "[[0.63603443 0.75677479]\n",
      " [0.63964592 0.77280594]\n",
      " [0.5911     0.6695    ]]\n",
      "rec time now 2 dataset now: Syn5\n"
     ]
    },
    {
     "name": "stderr",
     "output_type": "stream",
     "text": [
      "TPR mean: 73.7%  std: 35.3%\n",
      "FDR mean: 50.0%  std: 33.0%\n"
     ]
    },
    {
     "name": "stdout",
     "output_type": "stream",
     "text": [
      "[[0.63603443 0.75621973]\n",
      " [0.63964592 0.77223849]\n",
      " [0.5911     0.6683    ]]\n",
      "rec time now 3 dataset now: Syn5\n"
     ]
    },
    {
     "name": "stderr",
     "output_type": "stream",
     "text": [
      "TPR mean: 71.7%  std: 37.4%\n",
      "FDR mean: 45.3%  std: 33.2%\n",
      "Epoch:      0, d_loss (Acc)): 0.550, v_loss (Acc): 0.034, g_loss: -34.0748\n"
     ]
    },
    {
     "name": "stdout",
     "output_type": "stream",
     "text": [
      "[[0.63603443 0.75499942]\n",
      " [0.63964592 0.77077745]\n",
      " [0.5911     0.6691    ]]\n",
      "now at training epoch number 3500 hyp-params: lamda 0.7000 prior 0.3250\n",
      "rec time now 0 dataset now: Syn5\n"
     ]
    },
    {
     "name": "stderr",
     "output_type": "stream",
     "text": [
      "TPR mean: 86.5%  std: 20.5%\n",
      "FDR mean: 72.6%  std: 23.7%\n"
     ]
    },
    {
     "name": "stdout",
     "output_type": "stream",
     "text": [
      "[[0.63353449 0.7515304 ]\n",
      " [0.636402   0.76726399]\n",
      " [0.5897     0.6706    ]]\n",
      "rec time now 1 dataset now: Syn5\n"
     ]
    },
    {
     "name": "stderr",
     "output_type": "stream",
     "text": [
      "TPR mean: 78.2%  std: 30.9%\n",
      "FDR mean: 55.4%  std: 33.2%\n"
     ]
    },
    {
     "name": "stdout",
     "output_type": "stream",
     "text": [
      "[[0.63353449 0.75554766]\n",
      " [0.636402   0.77050751]\n",
      " [0.5897     0.6693    ]]\n",
      "rec time now 2 dataset now: Syn5\n"
     ]
    },
    {
     "name": "stderr",
     "output_type": "stream",
     "text": [
      "TPR mean: 73.4%  std: 36.3%\n",
      "FDR mean: 47.3%  std: 34.0%\n"
     ]
    },
    {
     "name": "stdout",
     "output_type": "stream",
     "text": [
      "[[0.63353449 0.75417515]\n",
      " [0.636402   0.76952696]\n",
      " [0.5897     0.6682    ]]\n",
      "rec time now 3 dataset now: Syn5\n"
     ]
    },
    {
     "name": "stderr",
     "output_type": "stream",
     "text": [
      "TPR mean: 71.4%  std: 38.4%\n",
      "FDR mean: 42.8%  std: 34.0%\n",
      "Epoch:      0, d_loss (Acc)): 0.544, v_loss (Acc): 0.028, g_loss: -33.9002\n"
     ]
    },
    {
     "name": "stdout",
     "output_type": "stream",
     "text": [
      "[[0.63353449 0.75272888]\n",
      " [0.636402   0.76733784]\n",
      " [0.5897     0.6685    ]]\n",
      "now at training epoch number 3600 hyp-params: lamda 0.7200 prior 0.3200\n",
      "rec time now 0 dataset now: Syn5\n"
     ]
    },
    {
     "name": "stderr",
     "output_type": "stream",
     "text": [
      "TPR mean: 86.7%  std: 20.6%\n",
      "FDR mean: 68.3%  std: 28.1%\n"
     ]
    },
    {
     "name": "stdout",
     "output_type": "stream",
     "text": [
      "[[0.63259142 0.75654283]\n",
      " [0.6359146  0.77246171]\n",
      " [0.59       0.6787    ]]\n",
      "rec time now 1 dataset now: Syn5\n"
     ]
    },
    {
     "name": "stderr",
     "output_type": "stream",
     "text": [
      "TPR mean: 78.4%  std: 31.1%\n",
      "FDR mean: 50.1%  std: 36.8%\n"
     ]
    },
    {
     "name": "stdout",
     "output_type": "stream",
     "text": [
      "[[0.63259142 0.75774613]\n",
      " [0.6359146  0.77294465]\n",
      " [0.59       0.6704    ]]\n",
      "rec time now 2 dataset now: Syn5\n"
     ]
    },
    {
     "name": "stderr",
     "output_type": "stream",
     "text": [
      "TPR mean: 73.4%  std: 36.7%\n",
      "FDR mean: 40.7%  std: 36.2%\n"
     ]
    },
    {
     "name": "stdout",
     "output_type": "stream",
     "text": [
      "[[0.63259142 0.7566202 ]\n",
      " [0.6359146  0.77039699]\n",
      " [0.59       0.6694    ]]\n",
      "rec time now 3 dataset now: Syn5\n"
     ]
    },
    {
     "name": "stderr",
     "output_type": "stream",
     "text": [
      "TPR mean: 71.7%  std: 38.5%\n",
      "FDR mean: 36.1%  std: 35.3%\n",
      "Epoch:      0, d_loss (Acc)): 0.533, v_loss (Acc): 0.023, g_loss: -33.3193\n"
     ]
    },
    {
     "name": "stdout",
     "output_type": "stream",
     "text": [
      "[[0.63259142 0.75432583]\n",
      " [0.6359146  0.76655748]\n",
      " [0.59       0.6697    ]]\n",
      "now at training epoch number 3700 hyp-params: lamda 0.7400 prior 0.3150\n",
      "rec time now 0 dataset now: Syn5\n"
     ]
    },
    {
     "name": "stderr",
     "output_type": "stream",
     "text": [
      "TPR mean: 87.0%  std: 20.4%\n",
      "FDR mean: 65.0%  std: 30.8%\n"
     ]
    },
    {
     "name": "stdout",
     "output_type": "stream",
     "text": [
      "[[0.63237415 0.75779749]\n",
      " [0.63581701 0.7730984 ]\n",
      " [0.5904     0.6775    ]]\n",
      "rec time now 1 dataset now: Syn5\n"
     ]
    },
    {
     "name": "stderr",
     "output_type": "stream",
     "text": [
      "TPR mean: 78.7%  std: 31.1%\n",
      "FDR mean: 48.0%  std: 37.0%\n"
     ]
    },
    {
     "name": "stdout",
     "output_type": "stream",
     "text": [
      "[[0.63237415 0.7621584 ]\n",
      " [0.63581701 0.77563168]\n",
      " [0.5904     0.678     ]]\n",
      "rec time now 2 dataset now: Syn5\n"
     ]
    },
    {
     "name": "stderr",
     "output_type": "stream",
     "text": [
      "TPR mean: 73.7%  std: 36.7%\n",
      "FDR mean: 37.3%  std: 35.4%\n"
     ]
    },
    {
     "name": "stdout",
     "output_type": "stream",
     "text": [
      "[[0.63237415 0.75808752]\n",
      " [0.63581701 0.77032871]\n",
      " [0.5904     0.6711    ]]\n",
      "rec time now 3 dataset now: Syn5\n"
     ]
    },
    {
     "name": "stderr",
     "output_type": "stream",
     "text": [
      "TPR mean: 72.0%  std: 38.6%\n",
      "FDR mean: 33.3%  std: 34.3%\n",
      "Epoch:      0, d_loss (Acc)): 0.536, v_loss (Acc): 0.020, g_loss: -33.5187\n"
     ]
    },
    {
     "name": "stdout",
     "output_type": "stream",
     "text": [
      "[[0.63237415 0.7565672 ]\n",
      " [0.63581701 0.76782924]\n",
      " [0.5904     0.6699    ]]\n",
      "now at training epoch number 3800 hyp-params: lamda 0.7600 prior 0.3100\n",
      "rec time now 0 dataset now: Syn5\n"
     ]
    },
    {
     "name": "stderr",
     "output_type": "stream",
     "text": [
      "TPR mean: 87.1%  std: 20.7%\n",
      "FDR mean: 62.1%  std: 33.1%\n"
     ]
    },
    {
     "name": "stdout",
     "output_type": "stream",
     "text": [
      "[[0.63231306 0.75804732]\n",
      " [0.63535784 0.77342365]\n",
      " [0.5911     0.6753    ]]\n",
      "rec time now 1 dataset now: Syn5\n"
     ]
    },
    {
     "name": "stderr",
     "output_type": "stream",
     "text": [
      "TPR mean: 78.8%  std: 31.4%\n",
      "FDR mean: 45.0%  std: 38.4%\n"
     ]
    },
    {
     "name": "stdout",
     "output_type": "stream",
     "text": [
      "[[0.63231306 0.75971644]\n",
      " [0.63535784 0.77310615]\n",
      " [0.5911     0.6763    ]]\n",
      "rec time now 2 dataset now: Syn5\n"
     ]
    },
    {
     "name": "stderr",
     "output_type": "stream",
     "text": [
      "TPR mean: 73.7%  std: 37.0%\n",
      "FDR mean: 33.5%  std: 35.9%\n"
     ]
    },
    {
     "name": "stdout",
     "output_type": "stream",
     "text": [
      "[[0.63231306 0.75553996]\n",
      " [0.63535784 0.76692767]\n",
      " [0.5911     0.671     ]]\n",
      "rec time now 3 dataset now: Syn5\n"
     ]
    },
    {
     "name": "stderr",
     "output_type": "stream",
     "text": [
      "TPR mean: 72.0%  std: 39.0%\n",
      "FDR mean: 28.7%  std: 33.9%\n",
      "Epoch:      0, d_loss (Acc)): 0.523, v_loss (Acc): 0.021, g_loss: -32.4034\n"
     ]
    },
    {
     "name": "stdout",
     "output_type": "stream",
     "text": [
      "[[0.63231306 0.75304208]\n",
      " [0.63535784 0.76278377]\n",
      " [0.5911     0.6682    ]]\n",
      "now at training epoch number 3900 hyp-params: lamda 0.7800 prior 0.3050\n",
      "rec time now 0 dataset now: Syn5\n"
     ]
    },
    {
     "name": "stderr",
     "output_type": "stream",
     "text": [
      "TPR mean: 87.4%  std: 20.5%\n",
      "FDR mean: 59.2%  std: 34.9%\n"
     ]
    },
    {
     "name": "stdout",
     "output_type": "stream",
     "text": [
      "[[0.63173683 0.75863019]\n",
      " [0.63489967 0.77349048]\n",
      " [0.5901     0.6723    ]]\n",
      "rec time now 1 dataset now: Syn5\n"
     ]
    },
    {
     "name": "stderr",
     "output_type": "stream",
     "text": [
      "TPR mean: 79.5%  std: 31.0%\n",
      "FDR mean: 41.7%  std: 38.2%\n"
     ]
    },
    {
     "name": "stdout",
     "output_type": "stream",
     "text": [
      "[[0.63173683 0.76139709]\n",
      " [0.63489967 0.77348631]\n",
      " [0.5901     0.6734    ]]\n",
      "rec time now 2 dataset now: Syn5\n"
     ]
    },
    {
     "name": "stderr",
     "output_type": "stream",
     "text": [
      "TPR mean: 74.4%  std: 36.9%\n",
      "FDR mean: 29.4%  std: 34.6%\n"
     ]
    },
    {
     "name": "stdout",
     "output_type": "stream",
     "text": [
      "[[0.63173683 0.75652176]\n",
      " [0.63489967 0.7653461 ]\n",
      " [0.5901     0.6734    ]]\n",
      "rec time now 3 dataset now: Syn5\n"
     ]
    },
    {
     "name": "stderr",
     "output_type": "stream",
     "text": [
      "TPR mean: 72.7%  std: 38.8%\n",
      "FDR mean: 25.5%  std: 32.7%\n",
      "Epoch:      0, d_loss (Acc)): 0.504, v_loss (Acc): 0.017, g_loss: -31.3633\n"
     ]
    },
    {
     "name": "stdout",
     "output_type": "stream",
     "text": [
      "[[0.63173683 0.75521111]\n",
      " [0.63489967 0.76247278]\n",
      " [0.5901     0.6706    ]]\n",
      "now at training epoch number 4000 hyp-params: lamda 0.8000 prior 0.3000\n",
      "rec time now 0 dataset now: Syn5\n"
     ]
    },
    {
     "name": "stderr",
     "output_type": "stream",
     "text": [
      "TPR mean: 87.8%  std: 20.3%\n",
      "FDR mean: 57.1%  std: 35.8%\n"
     ]
    },
    {
     "name": "stdout",
     "output_type": "stream",
     "text": [
      "[[0.63186101 0.75949685]\n",
      " [0.63464222 0.77321335]\n",
      " [0.5937     0.6752    ]]\n",
      "rec time now 1 dataset now: Syn5\n"
     ]
    },
    {
     "name": "stderr",
     "output_type": "stream",
     "text": [
      "TPR mean: 80.3%  std: 30.4%\n",
      "FDR mean: 39.2%  std: 37.9%\n"
     ]
    },
    {
     "name": "stdout",
     "output_type": "stream",
     "text": [
      "[[0.63186101 0.7603443 ]\n",
      " [0.63464222 0.77240511]\n",
      " [0.5937     0.675     ]]\n",
      "rec time now 2 dataset now: Syn5\n"
     ]
    },
    {
     "name": "stderr",
     "output_type": "stream",
     "text": [
      "TPR mean: 75.4%  std: 36.3%\n",
      "FDR mean: 27.3%  std: 34.0%\n"
     ]
    },
    {
     "name": "stdout",
     "output_type": "stream",
     "text": [
      "[[0.63186101 0.75521103]\n",
      " [0.63464222 0.76471491]\n",
      " [0.5937     0.6729    ]]\n",
      "rec time now 3 dataset now: Syn5\n"
     ]
    },
    {
     "name": "stderr",
     "output_type": "stream",
     "text": [
      "TPR mean: 73.9%  std: 38.1%\n",
      "FDR mean: 24.2%  std: 32.3%\n",
      "Epoch:      0, d_loss (Acc)): 0.527, v_loss (Acc): 0.014, g_loss: -32.9298\n"
     ]
    },
    {
     "name": "stdout",
     "output_type": "stream",
     "text": [
      "[[0.63186101 0.75275929]\n",
      " [0.63464222 0.76092176]\n",
      " [0.5937     0.6691    ]]\n",
      "now at training epoch number 4100 hyp-params: lamda 0.8200 prior 0.2950\n",
      "rec time now 0 dataset now: Syn5\n"
     ]
    },
    {
     "name": "stderr",
     "output_type": "stream",
     "text": [
      "TPR mean: 88.0%  std: 20.4%\n",
      "FDR mean: 54.8%  std: 36.9%\n"
     ]
    },
    {
     "name": "stdout",
     "output_type": "stream",
     "text": [
      "[[0.63058686 0.76174836]\n",
      " [0.63304723 0.77496929]\n",
      " [0.5906     0.6807    ]]\n",
      "rec time now 1 dataset now: Syn5\n"
     ]
    },
    {
     "name": "stderr",
     "output_type": "stream",
     "text": [
      "TPR mean: 80.8%  std: 30.2%\n",
      "FDR mean: 37.2%  std: 37.3%\n"
     ]
    },
    {
     "name": "stdout",
     "output_type": "stream",
     "text": [
      "[[0.63058686 0.76312556]\n",
      " [0.63304723 0.77458785]\n",
      " [0.5906     0.676     ]]\n",
      "rec time now 2 dataset now: Syn5\n"
     ]
    },
    {
     "name": "stderr",
     "output_type": "stream",
     "text": [
      "TPR mean: 76.1%  std: 36.0%\n",
      "FDR mean: 26.1%  std: 33.3%\n"
     ]
    },
    {
     "name": "stdout",
     "output_type": "stream",
     "text": [
      "[[0.63058686 0.75666472]\n",
      " [0.63304723 0.76654983]\n",
      " [0.5906     0.6709    ]]\n",
      "rec time now 3 dataset now: Syn5\n"
     ]
    },
    {
     "name": "stderr",
     "output_type": "stream",
     "text": [
      "TPR mean: 74.7%  std: 37.7%\n",
      "FDR mean: 23.6%  std: 31.9%\n",
      "Epoch:      0, d_loss (Acc)): 0.529, v_loss (Acc): 0.013, g_loss: -32.9469\n"
     ]
    },
    {
     "name": "stdout",
     "output_type": "stream",
     "text": [
      "[[0.63058686 0.75682941]\n",
      " [0.63304723 0.76509385]\n",
      " [0.5906     0.6704    ]]\n",
      "now at training epoch number 4200 hyp-params: lamda 0.8400 prior 0.2900\n",
      "rec time now 0 dataset now: Syn5\n"
     ]
    },
    {
     "name": "stderr",
     "output_type": "stream",
     "text": [
      "TPR mean: 88.3%  std: 20.4%\n",
      "FDR mean: 52.4%  std: 37.8%\n"
     ]
    },
    {
     "name": "stdout",
     "output_type": "stream",
     "text": [
      "[[0.6300394  0.75783213]\n",
      " [0.63116218 0.76912226]\n",
      " [0.5894     0.6793    ]]\n",
      "rec time now 1 dataset now: Syn5\n"
     ]
    },
    {
     "name": "stderr",
     "output_type": "stream",
     "text": [
      "TPR mean: 81.2%  std: 29.9%\n",
      "FDR mean: 34.3%  std: 37.3%\n"
     ]
    },
    {
     "name": "stdout",
     "output_type": "stream",
     "text": [
      "[[0.6300394  0.75509957]\n",
      " [0.63116218 0.76343001]\n",
      " [0.5894     0.6747    ]]\n",
      "rec time now 2 dataset now: Syn5\n"
     ]
    },
    {
     "name": "stderr",
     "output_type": "stream",
     "text": [
      "TPR mean: 76.9%  std: 35.4%\n",
      "FDR mean: 24.3%  std: 33.3%\n"
     ]
    },
    {
     "name": "stdout",
     "output_type": "stream",
     "text": [
      "[[0.6300394  0.75011413]\n",
      " [0.63116218 0.75565222]\n",
      " [0.5894     0.6701    ]]\n",
      "rec time now 3 dataset now: Syn5\n"
     ]
    },
    {
     "name": "stderr",
     "output_type": "stream",
     "text": [
      "TPR mean: 75.8%  std: 36.8%\n",
      "FDR mean: 22.4%  std: 32.3%\n",
      "Epoch:      0, d_loss (Acc)): 0.524, v_loss (Acc): 0.011, g_loss: -32.4533\n"
     ]
    },
    {
     "name": "stdout",
     "output_type": "stream",
     "text": [
      "[[0.6300394  0.74849815]\n",
      " [0.63116218 0.75283219]\n",
      " [0.5894     0.6677    ]]\n",
      "now at training epoch number 4300 hyp-params: lamda 0.8600 prior 0.2850\n",
      "rec time now 0 dataset now: Syn5\n"
     ]
    },
    {
     "name": "stderr",
     "output_type": "stream",
     "text": [
      "TPR mean: 89.1%  std: 20.0%\n",
      "FDR mean: 49.8%  std: 38.4%\n"
     ]
    },
    {
     "name": "stdout",
     "output_type": "stream",
     "text": [
      "[[0.63317478 0.7613244 ]\n",
      " [0.63479781 0.77093724]\n",
      " [0.5919     0.6804    ]]\n",
      "rec time now 1 dataset now: Syn5\n"
     ]
    },
    {
     "name": "stderr",
     "output_type": "stream",
     "text": [
      "TPR mean: 82.7%  std: 29.2%\n",
      "FDR mean: 31.8%  std: 36.2%\n"
     ]
    },
    {
     "name": "stdout",
     "output_type": "stream",
     "text": [
      "[[0.63317478 0.75630675]\n",
      " [0.63479781 0.76342008]\n",
      " [0.5919     0.6779    ]]\n",
      "rec time now 2 dataset now: Syn5\n"
     ]
    },
    {
     "name": "stderr",
     "output_type": "stream",
     "text": [
      "TPR mean: 78.6%  std: 34.7%\n",
      "FDR mean: 23.4%  std: 32.6%\n"
     ]
    },
    {
     "name": "stdout",
     "output_type": "stream",
     "text": [
      "[[0.63317478 0.75162062]\n",
      " [0.63479781 0.75676014]\n",
      " [0.5919     0.6698    ]]\n",
      "rec time now 3 dataset now: Syn5\n"
     ]
    },
    {
     "name": "stderr",
     "output_type": "stream",
     "text": [
      "TPR mean: 77.7%  std: 35.9%\n",
      "FDR mean: 22.0%  std: 31.9%\n",
      "Epoch:      0, d_loss (Acc)): 0.519, v_loss (Acc): 0.010, g_loss: -32.1295\n"
     ]
    },
    {
     "name": "stdout",
     "output_type": "stream",
     "text": [
      "[[0.63317478 0.75029109]\n",
      " [0.63479781 0.75538101]\n",
      " [0.5919     0.6692    ]]\n",
      "now at training epoch number 4400 hyp-params: lamda 0.8800 prior 0.2800\n",
      "rec time now 0 dataset now: Syn5\n"
     ]
    },
    {
     "name": "stderr",
     "output_type": "stream",
     "text": [
      "TPR mean: 89.5%  std: 19.8%\n",
      "FDR mean: 47.3%  std: 39.2%\n"
     ]
    },
    {
     "name": "stdout",
     "output_type": "stream",
     "text": [
      "[[0.6310537  0.76582669]\n",
      " [0.63364046 0.77616277]\n",
      " [0.5902     0.6836    ]]\n",
      "rec time now 1 dataset now: Syn5\n"
     ]
    },
    {
     "name": "stderr",
     "output_type": "stream",
     "text": [
      "TPR mean: 83.7%  std: 28.3%\n",
      "FDR mean: 30.0%  std: 35.2%\n"
     ]
    },
    {
     "name": "stdout",
     "output_type": "stream",
     "text": [
      "[[0.6310537  0.76253688]\n",
      " [0.63364046 0.76960791]\n",
      " [0.5902     0.6818    ]]\n",
      "rec time now 2 dataset now: Syn5\n"
     ]
    },
    {
     "name": "stderr",
     "output_type": "stream",
     "text": [
      "TPR mean: 79.9%  std: 33.5%\n",
      "FDR mean: 23.1%  std: 32.2%\n"
     ]
    },
    {
     "name": "stdout",
     "output_type": "stream",
     "text": [
      "[[0.6310537  0.75699397]\n",
      " [0.63364046 0.76266764]\n",
      " [0.5902     0.6751    ]]\n",
      "rec time now 3 dataset now: Syn5\n"
     ]
    },
    {
     "name": "stderr",
     "output_type": "stream",
     "text": [
      "TPR mean: 79.2%  std: 34.6%\n",
      "FDR mean: 22.0%  std: 31.7%\n",
      "Epoch:      0, d_loss (Acc)): 0.542, v_loss (Acc): 0.009, g_loss: -33.6490\n"
     ]
    },
    {
     "name": "stdout",
     "output_type": "stream",
     "text": [
      "[[0.6310537  0.75562045]\n",
      " [0.63364046 0.76139833]\n",
      " [0.5902     0.6746    ]]\n",
      "now at training epoch number 4500 hyp-params: lamda 0.9000 prior 0.2750\n",
      "rec time now 0 dataset now: Syn5\n"
     ]
    },
    {
     "name": "stderr",
     "output_type": "stream",
     "text": [
      "TPR mean: 90.1%  std: 19.4%\n",
      "FDR mean: 45.6%  std: 38.6%\n"
     ]
    },
    {
     "name": "stdout",
     "output_type": "stream",
     "text": [
      "[[0.63293333 0.76516154]\n",
      " [0.63438376 0.77433728]\n",
      " [0.5925     0.6856    ]]\n",
      "rec time now 1 dataset now: Syn5\n"
     ]
    },
    {
     "name": "stderr",
     "output_type": "stream",
     "text": [
      "TPR mean: 84.7%  std: 27.5%\n",
      "FDR mean: 28.1%  std: 33.9%\n"
     ]
    },
    {
     "name": "stdout",
     "output_type": "stream",
     "text": [
      "[[0.63293333 0.76303232]\n",
      " [0.63438376 0.77049835]\n",
      " [0.5925     0.6836    ]]\n",
      "rec time now 2 dataset now: Syn5\n"
     ]
    },
    {
     "name": "stderr",
     "output_type": "stream",
     "text": [
      "TPR mean: 81.3%  std: 32.6%\n",
      "FDR mean: 22.2%  std: 31.3%\n"
     ]
    },
    {
     "name": "stdout",
     "output_type": "stream",
     "text": [
      "[[0.63293333 0.75608151]\n",
      " [0.63438376 0.76214633]\n",
      " [0.5925     0.6751    ]]\n",
      "rec time now 3 dataset now: Syn5\n"
     ]
    },
    {
     "name": "stderr",
     "output_type": "stream",
     "text": [
      "TPR mean: 80.6%  std: 33.6%\n",
      "FDR mean: 21.5%  std: 30.8%\n",
      "Epoch:      0, d_loss (Acc)): 0.493, v_loss (Acc): 0.008, g_loss: -30.2790\n"
     ]
    },
    {
     "name": "stdout",
     "output_type": "stream",
     "text": [
      "[[0.63293333 0.75549564]\n",
      " [0.63438376 0.76136993]\n",
      " [0.5925     0.6757    ]]\n",
      "now at training epoch number 4600 hyp-params: lamda 0.9200 prior 0.2700\n",
      "rec time now 0 dataset now: Syn5\n"
     ]
    },
    {
     "name": "stderr",
     "output_type": "stream",
     "text": [
      "TPR mean: 90.6%  std: 19.1%\n",
      "FDR mean: 43.5%  std: 38.5%\n"
     ]
    },
    {
     "name": "stdout",
     "output_type": "stream",
     "text": [
      "[[0.6328984  0.76927608]\n",
      " [0.63450457 0.77807743]\n",
      " [0.5908     0.6865    ]]\n",
      "rec time now 1 dataset now: Syn5\n"
     ]
    },
    {
     "name": "stderr",
     "output_type": "stream",
     "text": [
      "TPR mean: 85.7%  std: 26.5%\n",
      "FDR mean: 27.0%  std: 33.1%\n"
     ]
    },
    {
     "name": "stdout",
     "output_type": "stream",
     "text": [
      "[[0.6328984  0.76812516]\n",
      " [0.63450457 0.77482726]\n",
      " [0.5908     0.6859    ]]\n",
      "rec time now 2 dataset now: Syn5\n"
     ]
    },
    {
     "name": "stderr",
     "output_type": "stream",
     "text": [
      "TPR mean: 82.7%  std: 31.3%\n",
      "FDR mean: 22.3%  std: 31.0%\n"
     ]
    },
    {
     "name": "stdout",
     "output_type": "stream",
     "text": [
      "[[0.6328984  0.76328907]\n",
      " [0.63450457 0.76874439]\n",
      " [0.5908     0.6811    ]]\n",
      "rec time now 3 dataset now: Syn5\n"
     ]
    },
    {
     "name": "stderr",
     "output_type": "stream",
     "text": [
      "TPR mean: 82.2%  std: 32.1%\n",
      "FDR mean: 21.7%  std: 30.6%\n",
      "Epoch:      0, d_loss (Acc)): 0.541, v_loss (Acc): 0.008, g_loss: -32.8307\n"
     ]
    },
    {
     "name": "stdout",
     "output_type": "stream",
     "text": [
      "[[0.6328984  0.76233196]\n",
      " [0.63450457 0.7677987 ]\n",
      " [0.5908     0.6804    ]]\n",
      "now at training epoch number 4700 hyp-params: lamda 0.9400 prior 0.2650\n",
      "rec time now 0 dataset now: Syn5\n"
     ]
    },
    {
     "name": "stderr",
     "output_type": "stream",
     "text": [
      "TPR mean: 91.7%  std: 18.4%\n",
      "FDR mean: 42.3%  std: 37.7%\n"
     ]
    },
    {
     "name": "stdout",
     "output_type": "stream",
     "text": [
      "[[0.63292913 0.76827433]\n",
      " [0.6342239  0.77693839]\n",
      " [0.5907     0.6862    ]]\n",
      "rec time now 1 dataset now: Syn5\n"
     ]
    },
    {
     "name": "stderr",
     "output_type": "stream",
     "text": [
      "TPR mean: 87.8%  std: 24.6%\n",
      "FDR mean: 26.4%  std: 32.3%\n"
     ]
    },
    {
     "name": "stdout",
     "output_type": "stream",
     "text": [
      "[[0.63292913 0.76644972]\n",
      " [0.6342239  0.77192274]\n",
      " [0.5907     0.6839    ]]\n",
      "rec time now 2 dataset now: Syn5\n"
     ]
    },
    {
     "name": "stderr",
     "output_type": "stream",
     "text": [
      "TPR mean: 85.5%  std: 28.4%\n",
      "FDR mean: 22.7%  std: 30.7%\n"
     ]
    },
    {
     "name": "stdout",
     "output_type": "stream",
     "text": [
      "[[0.63292913 0.76313018]\n",
      " [0.6342239  0.7685544 ]\n",
      " [0.5907     0.6799    ]]\n",
      "rec time now 3 dataset now: Syn5\n"
     ]
    },
    {
     "name": "stderr",
     "output_type": "stream",
     "text": [
      "TPR mean: 85.2%  std: 29.0%\n",
      "FDR mean: 22.2%  std: 30.4%\n",
      "Epoch:      0, d_loss (Acc)): 0.484, v_loss (Acc): 0.007, g_loss: -29.2283\n"
     ]
    },
    {
     "name": "stdout",
     "output_type": "stream",
     "text": [
      "[[0.63292913 0.76204457]\n",
      " [0.6342239  0.76769235]\n",
      " [0.5907     0.6792    ]]\n",
      "now at training epoch number 4800 hyp-params: lamda 0.9600 prior 0.2600\n",
      "rec time now 0 dataset now: Syn5\n"
     ]
    },
    {
     "name": "stderr",
     "output_type": "stream",
     "text": [
      "TPR mean: 92.0%  std: 18.4%\n",
      "FDR mean: 40.5%  std: 37.2%\n"
     ]
    },
    {
     "name": "stdout",
     "output_type": "stream",
     "text": [
      "[[0.63164463 0.76730251]\n",
      " [0.63270401 0.77593817]\n",
      " [0.5908     0.6841    ]]\n",
      "rec time now 1 dataset now: Syn5\n"
     ]
    },
    {
     "name": "stderr",
     "output_type": "stream",
     "text": [
      "TPR mean: 88.2%  std: 24.6%\n",
      "FDR mean: 25.2%  std: 31.8%\n"
     ]
    },
    {
     "name": "stdout",
     "output_type": "stream",
     "text": [
      "[[0.63164463 0.76529062]\n",
      " [0.63270401 0.77093996]\n",
      " [0.5908     0.6852    ]]\n",
      "rec time now 2 dataset now: Syn5\n"
     ]
    },
    {
     "name": "stderr",
     "output_type": "stream",
     "text": [
      "TPR mean: 86.0%  std: 28.6%\n",
      "FDR mean: 22.3%  std: 30.6%\n"
     ]
    },
    {
     "name": "stdout",
     "output_type": "stream",
     "text": [
      "[[0.63164463 0.76186063]\n",
      " [0.63270401 0.76775277]\n",
      " [0.5908     0.682     ]]\n",
      "rec time now 3 dataset now: Syn5\n"
     ]
    },
    {
     "name": "stderr",
     "output_type": "stream",
     "text": [
      "TPR mean: 85.6%  std: 29.3%\n",
      "FDR mean: 21.8%  std: 30.3%\n",
      "Epoch:      0, d_loss (Acc)): 0.528, v_loss (Acc): 0.007, g_loss: -31.4950\n"
     ]
    },
    {
     "name": "stdout",
     "output_type": "stream",
     "text": [
      "[[0.63164463 0.7617053 ]\n",
      " [0.63270401 0.76758716]\n",
      " [0.5908     0.6814    ]]\n",
      "now at training epoch number 4900 hyp-params: lamda 0.9800 prior 0.2550\n",
      "rec time now 0 dataset now: Syn5\n"
     ]
    },
    {
     "name": "stderr",
     "output_type": "stream",
     "text": [
      "TPR mean: 92.0%  std: 18.6%\n",
      "FDR mean: 38.8%  std: 36.4%\n"
     ]
    },
    {
     "name": "stdout",
     "output_type": "stream",
     "text": [
      "[[0.6292488  0.77045205]\n",
      " [0.63069449 0.77931237]\n",
      " [0.5903     0.6871    ]]\n",
      "rec time now 1 dataset now: Syn5\n"
     ]
    },
    {
     "name": "stderr",
     "output_type": "stream",
     "text": [
      "TPR mean: 88.1%  std: 24.9%\n",
      "FDR mean: 23.9%  std: 31.2%\n"
     ]
    },
    {
     "name": "stdout",
     "output_type": "stream",
     "text": [
      "[[0.6292488  0.76667483]\n",
      " [0.63069449 0.77267964]\n",
      " [0.5903     0.6839    ]]\n",
      "rec time now 2 dataset now: Syn5\n"
     ]
    },
    {
     "name": "stderr",
     "output_type": "stream",
     "text": [
      "TPR mean: 85.9%  std: 29.0%\n",
      "FDR mean: 21.4%  std: 30.0%\n"
     ]
    },
    {
     "name": "stdout",
     "output_type": "stream",
     "text": [
      "[[0.6292488  0.7642462 ]\n",
      " [0.63069449 0.77000525]\n",
      " [0.5903     0.682     ]]\n",
      "rec time now 3 dataset now: Syn5\n"
     ]
    },
    {
     "name": "stderr",
     "output_type": "stream",
     "text": [
      "TPR mean: 85.5%  std: 29.7%\n",
      "FDR mean: 21.1%  std: 29.8%\n",
      "Epoch:      0, d_loss (Acc)): 0.502, v_loss (Acc): 0.007, g_loss: -29.8424\n"
     ]
    },
    {
     "name": "stdout",
     "output_type": "stream",
     "text": [
      "[[0.6292488  0.76319799]\n",
      " [0.63069449 0.76882282]\n",
      " [0.5903     0.6809    ]]\n",
      "now at training epoch number 5000 hyp-params: lamda 1.0000 prior 0.2500\n",
      "rec time now 0 dataset now: Syn5\n"
     ]
    },
    {
     "name": "stderr",
     "output_type": "stream",
     "text": [
      "TPR mean: 93.0%  std: 17.4%\n",
      "FDR mean: 37.1%  std: 35.0%\n"
     ]
    },
    {
     "name": "stdout",
     "output_type": "stream",
     "text": [
      "[[0.63049556 0.76962937]\n",
      " [0.63074215 0.77872817]\n",
      " [0.5916     0.6861    ]]\n",
      "rec time now 1 dataset now: Syn5\n"
     ]
    },
    {
     "name": "stderr",
     "output_type": "stream",
     "text": [
      "TPR mean: 90.1%  std: 22.5%\n",
      "FDR mean: 23.2%  std: 30.3%\n"
     ]
    },
    {
     "name": "stdout",
     "output_type": "stream",
     "text": [
      "[[0.63049556 0.76868116]\n",
      " [0.63074215 0.77500601]\n",
      " [0.5916     0.6855    ]]\n",
      "rec time now 2 dataset now: Syn5\n"
     ]
    },
    {
     "name": "stderr",
     "output_type": "stream",
     "text": [
      "TPR mean: 88.6%  std: 25.5%\n",
      "FDR mean: 21.1%  std: 29.3%\n"
     ]
    },
    {
     "name": "stdout",
     "output_type": "stream",
     "text": [
      "[[0.63049556 0.76574867]\n",
      " [0.63074215 0.77237637]\n",
      " [0.5916     0.6823    ]]\n",
      "rec time now 3 dataset now: Syn5\n"
     ]
    },
    {
     "name": "stderr",
     "output_type": "stream",
     "text": [
      "TPR mean: 88.4%  std: 25.9%\n",
      "FDR mean: 20.8%  std: 29.1%\n",
      "Epoch:      0, d_loss (Acc)): 0.512, v_loss (Acc): 0.006, g_loss: -29.8057\n"
     ]
    },
    {
     "name": "stdout",
     "output_type": "stream",
     "text": [
      "[[0.63049556 0.76548092]\n",
      " [0.63074215 0.77212368]\n",
      " [0.5916     0.6819    ]]\n",
      "now at training epoch number 5100 hyp-params: lamda 1.0200 prior 0.2450\n",
      "rec time now 0 dataset now: Syn5\n"
     ]
    },
    {
     "name": "stderr",
     "output_type": "stream",
     "text": [
      "TPR mean: 94.1%  std: 16.2%\n",
      "FDR mean: 35.9%  std: 33.5%\n"
     ]
    },
    {
     "name": "stdout",
     "output_type": "stream",
     "text": [
      "[[0.62989694 0.76988092]\n",
      " [0.63062072 0.77604022]\n",
      " [0.5908     0.6901    ]]\n",
      "rec time now 1 dataset now: Syn5\n"
     ]
    },
    {
     "name": "stderr",
     "output_type": "stream",
     "text": [
      "TPR mean: 91.9%  std: 20.1%\n",
      "FDR mean: 23.0%  std: 29.5%\n"
     ]
    },
    {
     "name": "stdout",
     "output_type": "stream",
     "text": [
      "[[0.62989694 0.76988716]\n",
      " [0.63062072 0.77363537]\n",
      " [0.5908     0.6907    ]]\n",
      "rec time now 2 dataset now: Syn5\n"
     ]
    },
    {
     "name": "stderr",
     "output_type": "stream",
     "text": [
      "TPR mean: 91.0%  std: 21.9%\n",
      "FDR mean: 21.3%  std: 28.5%\n"
     ]
    },
    {
     "name": "stdout",
     "output_type": "stream",
     "text": [
      "[[0.62989694 0.76816376]\n",
      " [0.63062072 0.77192927]\n",
      " [0.5908     0.6898    ]]\n",
      "rec time now 3 dataset now: Syn5\n"
     ]
    },
    {
     "name": "stderr",
     "output_type": "stream",
     "text": [
      "TPR mean: 90.9%  std: 22.2%\n",
      "FDR mean: 21.1%  std: 28.4%\n",
      "Epoch:      0, d_loss (Acc)): 0.542, v_loss (Acc): 0.005, g_loss: -31.3676\n"
     ]
    },
    {
     "name": "stdout",
     "output_type": "stream",
     "text": [
      "[[0.62989694 0.76761358]\n",
      " [0.63062072 0.77127176]\n",
      " [0.5908     0.6893    ]]\n",
      "now at training epoch number 5200 hyp-params: lamda 1.0400 prior 0.2400\n",
      "rec time now 0 dataset now: Syn5\n"
     ]
    },
    {
     "name": "stderr",
     "output_type": "stream",
     "text": [
      "TPR mean: 94.2%  std: 16.2%\n",
      "FDR mean: 34.1%  std: 32.3%\n"
     ]
    },
    {
     "name": "stdout",
     "output_type": "stream",
     "text": [
      "[[0.63172807 0.76517416]\n",
      " [0.63073516 0.77131034]\n",
      " [0.5932     0.6854    ]]\n",
      "rec time now 1 dataset now: Syn5\n"
     ]
    },
    {
     "name": "stderr",
     "output_type": "stream",
     "text": [
      "TPR mean: 92.2%  std: 19.8%\n",
      "FDR mean: 22.2%  std: 28.8%\n"
     ]
    },
    {
     "name": "stdout",
     "output_type": "stream",
     "text": [
      "[[0.63172807 0.76415891]\n",
      " [0.63073516 0.7673987 ]\n",
      " [0.5932     0.687     ]]\n",
      "rec time now 2 dataset now: Syn5\n"
     ]
    },
    {
     "name": "stderr",
     "output_type": "stream",
     "text": [
      "TPR mean: 91.5%  std: 21.2%\n",
      "FDR mean: 21.0%  std: 28.2%\n"
     ]
    },
    {
     "name": "stdout",
     "output_type": "stream",
     "text": [
      "[[0.63172807 0.7622856 ]\n",
      " [0.63073516 0.76507912]\n",
      " [0.5932     0.6857    ]]\n",
      "rec time now 3 dataset now: Syn5\n"
     ]
    },
    {
     "name": "stderr",
     "output_type": "stream",
     "text": [
      "TPR mean: 91.4%  std: 21.4%\n",
      "FDR mean: 20.9%  std: 28.0%\n",
      "Epoch:      0, d_loss (Acc)): 0.524, v_loss (Acc): 0.005, g_loss: -29.9300\n"
     ]
    },
    {
     "name": "stdout",
     "output_type": "stream",
     "text": [
      "[[0.63172807 0.76203087]\n",
      " [0.63073516 0.76487549]\n",
      " [0.5932     0.6857    ]]\n",
      "now at training epoch number 5300 hyp-params: lamda 1.0600 prior 0.2350\n",
      "rec time now 0 dataset now: Syn5\n"
     ]
    },
    {
     "name": "stderr",
     "output_type": "stream",
     "text": [
      "TPR mean: 94.8%  std: 15.3%\n",
      "FDR mean: 32.8%  std: 31.0%\n"
     ]
    },
    {
     "name": "stdout",
     "output_type": "stream",
     "text": [
      "[[0.62964441 0.77110073]\n",
      " [0.62966075 0.77857918]\n",
      " [0.59       0.6903    ]]\n",
      "rec time now 1 dataset now: Syn5\n"
     ]
    },
    {
     "name": "stderr",
     "output_type": "stream",
     "text": [
      "TPR mean: 93.3%  std: 18.0%\n",
      "FDR mean: 21.9%  std: 28.1%\n"
     ]
    },
    {
     "name": "stdout",
     "output_type": "stream",
     "text": [
      "[[0.62964441 0.77174027]\n",
      " [0.62966075 0.77695914]\n",
      " [0.59       0.6907    ]]\n",
      "rec time now 2 dataset now: Syn5\n"
     ]
    },
    {
     "name": "stderr",
     "output_type": "stream",
     "text": [
      "TPR mean: 92.7%  std: 19.3%\n",
      "FDR mean: 20.8%  std: 27.5%\n"
     ]
    },
    {
     "name": "stdout",
     "output_type": "stream",
     "text": [
      "[[0.62964441 0.76999781]\n",
      " [0.62966075 0.7748171 ]\n",
      " [0.59       0.6889    ]]\n",
      "rec time now 3 dataset now: Syn5\n"
     ]
    },
    {
     "name": "stderr",
     "output_type": "stream",
     "text": [
      "TPR mean: 92.6%  std: 19.5%\n",
      "FDR mean: 20.6%  std: 27.4%\n",
      "Epoch:      0, d_loss (Acc)): 0.494, v_loss (Acc): 0.005, g_loss: -27.6500\n"
     ]
    },
    {
     "name": "stdout",
     "output_type": "stream",
     "text": [
      "[[0.62964441 0.7696827 ]\n",
      " [0.62966075 0.77447702]\n",
      " [0.59       0.6887    ]]\n",
      "now at training epoch number 5400 hyp-params: lamda 1.0800 prior 0.2300\n",
      "rec time now 0 dataset now: Syn5\n"
     ]
    },
    {
     "name": "stderr",
     "output_type": "stream",
     "text": [
      "TPR mean: 95.5%  std: 14.2%\n",
      "FDR mean: 31.1%  std: 29.4%\n"
     ]
    },
    {
     "name": "stdout",
     "output_type": "stream",
     "text": [
      "[[0.63123834 0.76082222]\n",
      " [0.62866856 0.76549807]\n",
      " [0.5933     0.6835    ]]\n",
      "rec time now 1 dataset now: Syn5\n"
     ]
    },
    {
     "name": "stderr",
     "output_type": "stream",
     "text": [
      "TPR mean: 94.4%  std: 16.1%\n",
      "FDR mean: 21.1%  std: 27.1%\n"
     ]
    },
    {
     "name": "stdout",
     "output_type": "stream",
     "text": [
      "[[0.63123834 0.76116869]\n",
      " [0.62866856 0.7622325 ]\n",
      " [0.5933     0.686     ]]\n",
      "rec time now 2 dataset now: Syn5\n"
     ]
    },
    {
     "name": "stderr",
     "output_type": "stream",
     "text": [
      "TPR mean: 94.1%  std: 16.9%\n",
      "FDR mean: 20.3%  std: 26.6%\n"
     ]
    },
    {
     "name": "stdout",
     "output_type": "stream",
     "text": [
      "[[0.63123834 0.76095246]\n",
      " [0.62866856 0.76178317]\n",
      " [0.5933     0.6862    ]]\n",
      "rec time now 3 dataset now: Syn5\n"
     ]
    },
    {
     "name": "stderr",
     "output_type": "stream",
     "text": [
      "TPR mean: 94.1%  std: 17.0%\n",
      "FDR mean: 20.2%  std: 26.6%\n",
      "Epoch:      0, d_loss (Acc)): 0.529, v_loss (Acc): 0.003, g_loss: -29.5698\n"
     ]
    },
    {
     "name": "stdout",
     "output_type": "stream",
     "text": [
      "[[0.63123834 0.76076652]\n",
      " [0.62866856 0.76160161]\n",
      " [0.5933     0.6861    ]]\n",
      "now at training epoch number 5500 hyp-params: lamda 1.1000 prior 0.2250\n",
      "rec time now 0 dataset now: Syn5\n"
     ]
    },
    {
     "name": "stderr",
     "output_type": "stream",
     "text": [
      "TPR mean: 96.4%  std: 12.5%\n",
      "FDR mean: 29.8%  std: 27.9%\n"
     ]
    },
    {
     "name": "stdout",
     "output_type": "stream",
     "text": [
      "[[0.63166722 0.76712103]\n",
      " [0.62910472 0.77337509]\n",
      " [0.5931     0.6859    ]]\n",
      "rec time now 1 dataset now: Syn5\n"
     ]
    },
    {
     "name": "stderr",
     "output_type": "stream",
     "text": [
      "TPR mean: 95.8%  std: 13.8%\n",
      "FDR mean: 20.3%  std: 25.8%\n"
     ]
    },
    {
     "name": "stdout",
     "output_type": "stream",
     "text": [
      "[[0.63166722 0.76915337]\n",
      " [0.62910472 0.77294376]\n",
      " [0.5931     0.6904    ]]\n",
      "rec time now 2 dataset now: Syn5\n"
     ]
    },
    {
     "name": "stderr",
     "output_type": "stream",
     "text": [
      "TPR mean: 95.6%  std: 14.3%\n",
      "FDR mean: 19.6%  std: 25.5%\n"
     ]
    },
    {
     "name": "stdout",
     "output_type": "stream",
     "text": [
      "[[0.63166722 0.76864851]\n",
      " [0.62910472 0.77242013]\n",
      " [0.5931     0.6901    ]]\n",
      "rec time now 3 dataset now: Syn5\n"
     ]
    },
    {
     "name": "stderr",
     "output_type": "stream",
     "text": [
      "TPR mean: 95.6%  std: 14.3%\n",
      "FDR mean: 19.6%  std: 25.5%\n",
      "Epoch:      0, d_loss (Acc)): 0.515, v_loss (Acc): 0.003, g_loss: -28.4945\n"
     ]
    },
    {
     "name": "stdout",
     "output_type": "stream",
     "text": [
      "[[0.63166722 0.7685923 ]\n",
      " [0.62910472 0.77234598]\n",
      " [0.5931     0.6901    ]]\n",
      "now at training epoch number 5600 hyp-params: lamda 1.1200 prior 0.2200\n",
      "rec time now 0 dataset now: Syn5\n"
     ]
    },
    {
     "name": "stderr",
     "output_type": "stream",
     "text": [
      "TPR mean: 96.6%  std: 12.2%\n",
      "FDR mean: 27.6%  std: 26.7%\n"
     ]
    },
    {
     "name": "stdout",
     "output_type": "stream",
     "text": [
      "[[0.63000386 0.76325251]\n",
      " [0.62741179 0.76792382]\n",
      " [0.5903     0.6834    ]]\n",
      "rec time now 1 dataset now: Syn5\n"
     ]
    },
    {
     "name": "stderr",
     "output_type": "stream",
     "text": [
      "TPR mean: 96.0%  std: 13.2%\n",
      "FDR mean: 19.3%  std: 25.0%\n"
     ]
    },
    {
     "name": "stdout",
     "output_type": "stream",
     "text": [
      "[[0.63000386 0.76499255]\n",
      " [0.62741179 0.76654241]\n",
      " [0.5903     0.6871    ]]\n",
      "rec time now 2 dataset now: Syn5\n"
     ]
    },
    {
     "name": "stderr",
     "output_type": "stream",
     "text": [
      "TPR mean: 95.9%  std: 13.6%\n",
      "FDR mean: 18.8%  std: 24.8%\n"
     ]
    },
    {
     "name": "stdout",
     "output_type": "stream",
     "text": [
      "[[0.63000386 0.76487097]\n",
      " [0.62741179 0.7663586 ]\n",
      " [0.5903     0.6876    ]]\n",
      "rec time now 3 dataset now: Syn5\n"
     ]
    },
    {
     "name": "stderr",
     "output_type": "stream",
     "text": [
      "TPR mean: 95.9%  std: 13.6%\n",
      "FDR mean: 18.8%  std: 24.8%\n",
      "Epoch:      0, d_loss (Acc)): 0.513, v_loss (Acc): 0.003, g_loss: -27.5149\n"
     ]
    },
    {
     "name": "stdout",
     "output_type": "stream",
     "text": [
      "[[0.63000386 0.76485197]\n",
      " [0.62741179 0.76632548]\n",
      " [0.5903     0.6877    ]]\n",
      "now at training epoch number 5700 hyp-params: lamda 1.1400 prior 0.2150\n",
      "rec time now 0 dataset now: Syn5\n"
     ]
    },
    {
     "name": "stderr",
     "output_type": "stream",
     "text": [
      "TPR mean: 97.2%  std: 10.9%\n",
      "FDR mean: 26.8%  std: 25.5%\n"
     ]
    },
    {
     "name": "stdout",
     "output_type": "stream",
     "text": [
      "[[0.62983875 0.76744379]\n",
      " [0.62636025 0.77229323]\n",
      " [0.5907     0.6902    ]]\n",
      "rec time now 1 dataset now: Syn5\n"
     ]
    },
    {
     "name": "stderr",
     "output_type": "stream",
     "text": [
      "TPR mean: 96.9%  std: 11.5%\n",
      "FDR mean: 19.3%  std: 24.3%\n"
     ]
    },
    {
     "name": "stdout",
     "output_type": "stream",
     "text": [
      "[[0.62983875 0.76970076]\n",
      " [0.62636025 0.77234533]\n",
      " [0.5907     0.691     ]]\n",
      "rec time now 2 dataset now: Syn5\n"
     ]
    },
    {
     "name": "stderr",
     "output_type": "stream",
     "text": [
      "TPR mean: 96.9%  std: 11.6%\n",
      "FDR mean: 19.1%  std: 24.2%\n"
     ]
    },
    {
     "name": "stdout",
     "output_type": "stream",
     "text": [
      "[[0.62983875 0.76967915]\n",
      " [0.62636025 0.77227617]\n",
      " [0.5907     0.6904    ]]\n",
      "rec time now 3 dataset now: Syn5\n"
     ]
    },
    {
     "name": "stderr",
     "output_type": "stream",
     "text": [
      "TPR mean: 96.9%  std: 11.6%\n",
      "FDR mean: 19.1%  std: 24.2%\n",
      "Epoch:      0, d_loss (Acc)): 0.517, v_loss (Acc): 0.004, g_loss: -27.1542\n"
     ]
    },
    {
     "name": "stdout",
     "output_type": "stream",
     "text": [
      "[[0.62983875 0.76963263]\n",
      " [0.62636025 0.77223847]\n",
      " [0.5907     0.6904    ]]\n",
      "now at training epoch number 5800 hyp-params: lamda 1.1600 prior 0.2100\n",
      "rec time now 0 dataset now: Syn5\n"
     ]
    },
    {
     "name": "stderr",
     "output_type": "stream",
     "text": [
      "TPR mean: 97.8%  std: 9.7%\n",
      "FDR mean: 25.0%  std: 24.4%\n"
     ]
    },
    {
     "name": "stdout",
     "output_type": "stream",
     "text": [
      "[[0.63036912 0.77045835]\n",
      " [0.6267571  0.77694839]\n",
      " [0.5919     0.688     ]]\n",
      "rec time now 1 dataset now: Syn5\n"
     ]
    },
    {
     "name": "stderr",
     "output_type": "stream",
     "text": [
      "TPR mean: 97.7%  std: 9.8%\n",
      "FDR mean: 18.5%  std: 23.5%\n"
     ]
    },
    {
     "name": "stdout",
     "output_type": "stream",
     "text": [
      "[[0.63036912 0.7724223 ]\n",
      " [0.6267571  0.77656617]\n",
      " [0.5919     0.6939    ]]\n",
      "rec time now 2 dataset now: Syn5\n"
     ]
    },
    {
     "name": "stderr",
     "output_type": "stream",
     "text": [
      "TPR mean: 97.7%  std: 9.9%\n",
      "FDR mean: 18.3%  std: 23.4%\n"
     ]
    },
    {
     "name": "stdout",
     "output_type": "stream",
     "text": [
      "[[0.63036912 0.77281075]\n",
      " [0.6267571  0.77700778]\n",
      " [0.5919     0.6949    ]]\n",
      "rec time now 3 dataset now: Syn5\n"
     ]
    },
    {
     "name": "stderr",
     "output_type": "stream",
     "text": [
      "TPR mean: 97.7%  std: 9.9%\n",
      "FDR mean: 18.3%  std: 23.4%\n",
      "Epoch:      0, d_loss (Acc)): 0.512, v_loss (Acc): 0.003, g_loss: -26.6924\n"
     ]
    },
    {
     "name": "stdout",
     "output_type": "stream",
     "text": [
      "[[0.63036912 0.77279298]\n",
      " [0.6267571  0.7769926 ]\n",
      " [0.5919     0.6948    ]]\n",
      "now at training epoch number 5900 hyp-params: lamda 1.1800 prior 0.2050\n",
      "rec time now 0 dataset now: Syn5\n"
     ]
    },
    {
     "name": "stderr",
     "output_type": "stream",
     "text": [
      "TPR mean: 98.1%  std: 8.9%\n",
      "FDR mean: 23.7%  std: 23.8%\n"
     ]
    },
    {
     "name": "stdout",
     "output_type": "stream",
     "text": [
      "[[0.63024763 0.77236219]\n",
      " [0.62669482 0.7777169 ]\n",
      " [0.5913     0.6915    ]]\n",
      "rec time now 1 dataset now: Syn5\n"
     ]
    },
    {
     "name": "stderr",
     "output_type": "stream",
     "text": [
      "TPR mean: 98.1%  std: 9.0%\n",
      "FDR mean: 17.9%  std: 22.8%\n"
     ]
    },
    {
     "name": "stdout",
     "output_type": "stream",
     "text": [
      "[[0.63024763 0.77454014]\n",
      " [0.62669482 0.77789187]\n",
      " [0.5913     0.6938    ]]\n",
      "rec time now 2 dataset now: Syn5\n"
     ]
    },
    {
     "name": "stderr",
     "output_type": "stream",
     "text": [
      "TPR mean: 98.1%  std: 9.0%\n",
      "FDR mean: 17.7%  std: 22.7%\n"
     ]
    },
    {
     "name": "stdout",
     "output_type": "stream",
     "text": [
      "[[0.63024763 0.77461589]\n",
      " [0.62669482 0.77799187]\n",
      " [0.5913     0.6941    ]]\n",
      "rec time now 3 dataset now: Syn5\n"
     ]
    },
    {
     "name": "stderr",
     "output_type": "stream",
     "text": [
      "TPR mean: 98.1%  std: 9.0%\n",
      "FDR mean: 17.7%  std: 22.7%\n",
      "Epoch:      0, d_loss (Acc)): 0.494, v_loss (Acc): 0.002, g_loss: -25.3153\n"
     ]
    },
    {
     "name": "stdout",
     "output_type": "stream",
     "text": [
      "[[0.63024763 0.77463438]\n",
      " [0.62669482 0.77800966]\n",
      " [0.5913     0.6941    ]]\n",
      "now at training epoch number 6000 hyp-params: lamda 1.2000 prior 0.2000\n",
      "rec time now 0 dataset now: Syn5\n"
     ]
    },
    {
     "name": "stderr",
     "output_type": "stream",
     "text": [
      "TPR mean: 98.5%  std: 7.9%\n",
      "FDR mean: 22.3%  std: 22.7%\n"
     ]
    },
    {
     "name": "stdout",
     "output_type": "stream",
     "text": [
      "[[0.6311016  0.7671972 ]\n",
      " [0.62612763 0.77350323]\n",
      " [0.5914     0.6864    ]]\n",
      "rec time now 1 dataset now: Syn5\n"
     ]
    },
    {
     "name": "stderr",
     "output_type": "stream",
     "text": [
      "TPR mean: 98.5%  std: 7.9%\n",
      "FDR mean: 17.0%  std: 21.6%\n"
     ]
    },
    {
     "name": "stdout",
     "output_type": "stream",
     "text": [
      "[[0.6311016  0.76981793]\n",
      " [0.62612763 0.77543947]\n",
      " [0.5914     0.6892    ]]\n",
      "rec time now 2 dataset now: Syn5\n"
     ]
    },
    {
     "name": "stderr",
     "output_type": "stream",
     "text": [
      "TPR mean: 98.5%  std: 7.9%\n",
      "FDR mean: 17.0%  std: 21.6%\n"
     ]
    },
    {
     "name": "stdout",
     "output_type": "stream",
     "text": [
      "[[0.6311016  0.76988938]\n",
      " [0.62612763 0.77544294]\n",
      " [0.5914     0.6893    ]]\n",
      "rec time now 3 dataset now: Syn5\n"
     ]
    },
    {
     "name": "stderr",
     "output_type": "stream",
     "text": [
      "TPR mean: 98.5%  std: 7.9%\n",
      "FDR mean: 17.0%  std: 21.5%\n",
      "Epoch:      0, d_loss (Acc)): 0.497, v_loss (Acc): 0.002, g_loss: -24.9135\n"
     ]
    },
    {
     "name": "stdout",
     "output_type": "stream",
     "text": [
      "[[0.6311016  0.76987838]\n",
      " [0.62612763 0.77541469]\n",
      " [0.5914     0.6894    ]]\n",
      "now at training epoch number 6100 hyp-params: lamda 1.2200 prior 0.1950\n",
      "rec time now 0 dataset now: Syn5\n"
     ]
    },
    {
     "name": "stderr",
     "output_type": "stream",
     "text": [
      "TPR mean: 98.5%  std: 7.6%\n",
      "FDR mean: 22.1%  std: 22.5%\n"
     ]
    },
    {
     "name": "stdout",
     "output_type": "stream",
     "text": [
      "[[0.63016569 0.76761154]\n",
      " [0.62499527 0.77258297]\n",
      " [0.5924     0.6886    ]]\n",
      "rec time now 1 dataset now: Syn5\n"
     ]
    },
    {
     "name": "stderr",
     "output_type": "stream",
     "text": [
      "TPR mean: 98.5%  std: 7.7%\n",
      "FDR mean: 17.3%  std: 21.5%\n"
     ]
    },
    {
     "name": "stdout",
     "output_type": "stream",
     "text": [
      "[[0.63016569 0.77017895]\n",
      " [0.62499527 0.77445684]\n",
      " [0.5924     0.6893    ]]\n",
      "rec time now 2 dataset now: Syn5\n"
     ]
    },
    {
     "name": "stderr",
     "output_type": "stream",
     "text": [
      "TPR mean: 98.5%  std: 7.7%\n",
      "FDR mean: 17.2%  std: 21.4%\n"
     ]
    },
    {
     "name": "stdout",
     "output_type": "stream",
     "text": [
      "[[0.63016569 0.77040635]\n",
      " [0.62499527 0.77463967]\n",
      " [0.5924     0.6896    ]]\n",
      "rec time now 3 dataset now: Syn5\n"
     ]
    },
    {
     "name": "stderr",
     "output_type": "stream",
     "text": [
      "TPR mean: 98.5%  std: 7.7%\n",
      "FDR mean: 17.2%  std: 21.4%\n",
      "Epoch:      0, d_loss (Acc)): 0.529, v_loss (Acc): 0.002, g_loss: -26.1373\n"
     ]
    },
    {
     "name": "stdout",
     "output_type": "stream",
     "text": [
      "[[0.63016569 0.77040493]\n",
      " [0.62499527 0.77463764]\n",
      " [0.5924     0.6896    ]]\n",
      "now at training epoch number 6200 hyp-params: lamda 1.2400 prior 0.1900\n",
      "rec time now 0 dataset now: Syn5\n"
     ]
    },
    {
     "name": "stderr",
     "output_type": "stream",
     "text": [
      "TPR mean: 98.5%  std: 7.6%\n",
      "FDR mean: 21.2%  std: 22.0%\n"
     ]
    },
    {
     "name": "stdout",
     "output_type": "stream",
     "text": [
      "[[0.62867325 0.77002538]\n",
      " [0.62349346 0.77658815]\n",
      " [0.5907     0.6877    ]]\n",
      "rec time now 1 dataset now: Syn5\n"
     ]
    },
    {
     "name": "stderr",
     "output_type": "stream",
     "text": [
      "TPR mean: 98.5%  std: 7.6%\n",
      "FDR mean: 16.7%  std: 20.7%\n"
     ]
    },
    {
     "name": "stdout",
     "output_type": "stream",
     "text": [
      "[[0.62867325 0.77238743]\n",
      " [0.62349346 0.77820826]\n",
      " [0.5907     0.6901    ]]\n",
      "rec time now 2 dataset now: Syn5\n"
     ]
    },
    {
     "name": "stderr",
     "output_type": "stream",
     "text": [
      "TPR mean: 98.5%  std: 7.6%\n",
      "FDR mean: 16.6%  std: 20.7%\n"
     ]
    },
    {
     "name": "stdout",
     "output_type": "stream",
     "text": [
      "[[0.62867325 0.77250612]\n",
      " [0.62349346 0.77829232]\n",
      " [0.5907     0.6906    ]]\n",
      "rec time now 3 dataset now: Syn5\n"
     ]
    },
    {
     "name": "stderr",
     "output_type": "stream",
     "text": [
      "TPR mean: 98.5%  std: 7.6%\n",
      "FDR mean: 16.6%  std: 20.7%\n",
      "Epoch:      0, d_loss (Acc)): 0.525, v_loss (Acc): 0.002, g_loss: -25.4353\n"
     ]
    },
    {
     "name": "stdout",
     "output_type": "stream",
     "text": [
      "[[0.62867325 0.77250612]\n",
      " [0.62349346 0.77829232]\n",
      " [0.5907     0.6906    ]]\n",
      "now at training epoch number 6300 hyp-params: lamda 1.2600 prior 0.1850\n",
      "rec time now 0 dataset now: Syn5\n"
     ]
    },
    {
     "name": "stderr",
     "output_type": "stream",
     "text": [
      "TPR mean: 98.4%  std: 7.4%\n",
      "FDR mean: 20.9%  std: 21.6%\n"
     ]
    },
    {
     "name": "stdout",
     "output_type": "stream",
     "text": [
      "[[0.6308784  0.76461162]\n",
      " [0.62465046 0.76881636]\n",
      " [0.5937     0.6862    ]]\n",
      "rec time now 1 dataset now: Syn5\n"
     ]
    },
    {
     "name": "stderr",
     "output_type": "stream",
     "text": [
      "TPR mean: 98.4%  std: 7.4%\n",
      "FDR mean: 16.6%  std: 20.3%\n"
     ]
    },
    {
     "name": "stdout",
     "output_type": "stream",
     "text": [
      "[[0.6308784  0.76749615]\n",
      " [0.62465046 0.77124781]\n",
      " [0.5937     0.6865    ]]\n",
      "rec time now 2 dataset now: Syn5\n"
     ]
    },
    {
     "name": "stderr",
     "output_type": "stream",
     "text": [
      "TPR mean: 98.4%  std: 7.4%\n",
      "FDR mean: 16.5%  std: 20.3%\n"
     ]
    },
    {
     "name": "stdout",
     "output_type": "stream",
     "text": [
      "[[0.6308784  0.76755231]\n",
      " [0.62465046 0.77127901]\n",
      " [0.5937     0.6866    ]]\n",
      "rec time now 3 dataset now: Syn5\n"
     ]
    },
    {
     "name": "stderr",
     "output_type": "stream",
     "text": [
      "TPR mean: 98.4%  std: 7.4%\n",
      "FDR mean: 16.5%  std: 20.3%\n",
      "Epoch:      0, d_loss (Acc)): 0.548, v_loss (Acc): 0.003, g_loss: -26.0239\n"
     ]
    },
    {
     "name": "stdout",
     "output_type": "stream",
     "text": [
      "[[0.6308784  0.76755231]\n",
      " [0.62465046 0.77127901]\n",
      " [0.5937     0.6866    ]]\n",
      "now at training epoch number 6400 hyp-params: lamda 1.2800 prior 0.1800\n",
      "rec time now 0 dataset now: Syn5\n"
     ]
    },
    {
     "name": "stderr",
     "output_type": "stream",
     "text": [
      "TPR mean: 98.5%  std: 7.2%\n",
      "FDR mean: 20.8%  std: 21.8%\n"
     ]
    },
    {
     "name": "stdout",
     "output_type": "stream",
     "text": [
      "[[0.62995472 0.7674661 ]\n",
      " [0.62299625 0.77280809]\n",
      " [0.5919     0.6876    ]]\n",
      "rec time now 1 dataset now: Syn5\n"
     ]
    },
    {
     "name": "stderr",
     "output_type": "stream",
     "text": [
      "TPR mean: 98.5%  std: 7.2%\n",
      "FDR mean: 16.9%  std: 20.6%\n"
     ]
    },
    {
     "name": "stdout",
     "output_type": "stream",
     "text": [
      "[[0.62995472 0.76990877]\n",
      " [0.62299625 0.77444692]\n",
      " [0.5919     0.6882    ]]\n",
      "rec time now 2 dataset now: Syn5\n"
     ]
    },
    {
     "name": "stderr",
     "output_type": "stream",
     "text": [
      "TPR mean: 98.5%  std: 7.2%\n",
      "FDR mean: 16.8%  std: 20.6%\n"
     ]
    },
    {
     "name": "stdout",
     "output_type": "stream",
     "text": [
      "[[0.62995472 0.77018121]\n",
      " [0.62299625 0.77468542]\n",
      " [0.5919     0.6881    ]]\n",
      "rec time now 3 dataset now: Syn5\n"
     ]
    },
    {
     "name": "stderr",
     "output_type": "stream",
     "text": [
      "TPR mean: 98.5%  std: 7.2%\n",
      "FDR mean: 16.8%  std: 20.6%\n",
      "Epoch:      0, d_loss (Acc)): 0.526, v_loss (Acc): 0.002, g_loss: -24.3207\n"
     ]
    },
    {
     "name": "stdout",
     "output_type": "stream",
     "text": [
      "[[0.62995472 0.77018121]\n",
      " [0.62299625 0.77468542]\n",
      " [0.5919     0.6881    ]]\n",
      "now at training epoch number 6500 hyp-params: lamda 1.3000 prior 0.1750\n",
      "rec time now 0 dataset now: Syn5\n"
     ]
    },
    {
     "name": "stderr",
     "output_type": "stream",
     "text": [
      "TPR mean: 98.3%  std: 7.6%\n",
      "FDR mean: 20.3%  std: 21.9%\n"
     ]
    },
    {
     "name": "stdout",
     "output_type": "stream",
     "text": [
      "[[0.62997783 0.76857408]\n",
      " [0.62317256 0.7756201 ]\n",
      " [0.5935     0.6875    ]]\n",
      "rec time now 1 dataset now: Syn5\n"
     ]
    },
    {
     "name": "stderr",
     "output_type": "stream",
     "text": [
      "TPR mean: 98.3%  std: 7.6%\n",
      "FDR mean: 16.5%  std: 20.6%\n"
     ]
    },
    {
     "name": "stdout",
     "output_type": "stream",
     "text": [
      "[[0.62997783 0.77144834]\n",
      " [0.62317256 0.7773793 ]\n",
      " [0.5935     0.6897    ]]\n",
      "rec time now 2 dataset now: Syn5\n"
     ]
    },
    {
     "name": "stderr",
     "output_type": "stream",
     "text": [
      "TPR mean: 98.3%  std: 7.6%\n",
      "FDR mean: 16.5%  std: 20.6%\n"
     ]
    },
    {
     "name": "stdout",
     "output_type": "stream",
     "text": [
      "[[0.62997783 0.77144728]\n",
      " [0.62317256 0.77738133]\n",
      " [0.5935     0.6898    ]]\n",
      "rec time now 3 dataset now: Syn5\n"
     ]
    },
    {
     "name": "stderr",
     "output_type": "stream",
     "text": [
      "TPR mean: 98.3%  std: 7.6%\n",
      "FDR mean: 16.5%  std: 20.6%\n",
      "Epoch:      0, d_loss (Acc)): 0.535, v_loss (Acc): 0.001, g_loss: -24.6162\n"
     ]
    },
    {
     "name": "stdout",
     "output_type": "stream",
     "text": [
      "[[0.62997783 0.77144728]\n",
      " [0.62317256 0.77738133]\n",
      " [0.5935     0.6898    ]]\n",
      "now at training epoch number 6600 hyp-params: lamda 1.3200 prior 0.1700\n",
      "rec time now 0 dataset now: Syn5\n"
     ]
    },
    {
     "name": "stderr",
     "output_type": "stream",
     "text": [
      "TPR mean: 98.1%  std: 7.7%\n",
      "FDR mean: 19.7%  std: 21.5%\n"
     ]
    },
    {
     "name": "stdout",
     "output_type": "stream",
     "text": [
      "[[0.62959135 0.77380808]\n",
      " [0.6229288  0.77993467]\n",
      " [0.5913     0.6929    ]]\n",
      "rec time now 1 dataset now: Syn5\n"
     ]
    },
    {
     "name": "stderr",
     "output_type": "stream",
     "text": [
      "TPR mean: 98.1%  std: 7.8%\n",
      "FDR mean: 15.9%  std: 20.1%\n"
     ]
    },
    {
     "name": "stdout",
     "output_type": "stream",
     "text": [
      "[[0.62959135 0.77656513]\n",
      " [0.6229288  0.78187606]\n",
      " [0.5913     0.6944    ]]\n",
      "rec time now 2 dataset now: Syn5\n"
     ]
    },
    {
     "name": "stderr",
     "output_type": "stream",
     "text": [
      "TPR mean: 98.1%  std: 7.8%\n",
      "FDR mean: 15.8%  std: 20.1%\n"
     ]
    },
    {
     "name": "stdout",
     "output_type": "stream",
     "text": [
      "[[0.62959135 0.77672382]\n",
      " [0.6229288  0.78211873]\n",
      " [0.5913     0.6942    ]]\n",
      "rec time now 3 dataset now: Syn5\n"
     ]
    },
    {
     "name": "stderr",
     "output_type": "stream",
     "text": [
      "TPR mean: 98.1%  std: 7.8%\n",
      "FDR mean: 15.8%  std: 20.1%\n",
      "Epoch:      0, d_loss (Acc)): 0.527, v_loss (Acc): 0.001, g_loss: -23.7504\n"
     ]
    },
    {
     "name": "stdout",
     "output_type": "stream",
     "text": [
      "[[0.62959135 0.77672382]\n",
      " [0.6229288  0.78211873]\n",
      " [0.5913     0.6942    ]]\n",
      "now at training epoch number 6700 hyp-params: lamda 1.3400 prior 0.1650\n",
      "rec time now 0 dataset now: Syn5\n"
     ]
    },
    {
     "name": "stderr",
     "output_type": "stream",
     "text": [
      "TPR mean: 97.9%  std: 7.9%\n",
      "FDR mean: 18.9%  std: 21.2%\n"
     ]
    },
    {
     "name": "stdout",
     "output_type": "stream",
     "text": [
      "[[0.63123824 0.76206158]\n",
      " [0.62452992 0.76663613]\n",
      " [0.5944     0.6835    ]]\n",
      "rec time now 1 dataset now: Syn5\n"
     ]
    },
    {
     "name": "stderr",
     "output_type": "stream",
     "text": [
      "TPR mean: 97.8%  std: 8.0%\n",
      "FDR mean: 15.1%  std: 19.6%\n"
     ]
    },
    {
     "name": "stdout",
     "output_type": "stream",
     "text": [
      "[[0.63123824 0.76405904]\n",
      " [0.62452992 0.76766877]\n",
      " [0.5944     0.6838    ]]\n",
      "rec time now 2 dataset now: Syn5\n"
     ]
    },
    {
     "name": "stderr",
     "output_type": "stream",
     "text": [
      "TPR mean: 97.8%  std: 8.0%\n",
      "FDR mean: 15.0%  std: 19.6%\n"
     ]
    },
    {
     "name": "stdout",
     "output_type": "stream",
     "text": [
      "[[0.63123824 0.76423872]\n",
      " [0.62452992 0.76784723]\n",
      " [0.5944     0.6839    ]]\n",
      "rec time now 3 dataset now: Syn5\n"
     ]
    },
    {
     "name": "stderr",
     "output_type": "stream",
     "text": [
      "TPR mean: 97.8%  std: 8.0%\n",
      "FDR mean: 15.0%  std: 19.6%\n",
      "Epoch:      0, d_loss (Acc)): 0.509, v_loss (Acc): 0.002, g_loss: -22.2650\n"
     ]
    },
    {
     "name": "stdout",
     "output_type": "stream",
     "text": [
      "[[0.63123824 0.76423872]\n",
      " [0.62452992 0.76784723]\n",
      " [0.5944     0.6839    ]]\n",
      "now at training epoch number 6800 hyp-params: lamda 1.3600 prior 0.1600\n",
      "rec time now 0 dataset now: Syn5\n"
     ]
    },
    {
     "name": "stderr",
     "output_type": "stream",
     "text": [
      "TPR mean: 97.7%  std: 8.1%\n",
      "FDR mean: 18.3%  std: 21.1%\n"
     ]
    },
    {
     "name": "stdout",
     "output_type": "stream",
     "text": [
      "[[0.62930688 0.76817168]\n",
      " [0.62275278 0.77421198]\n",
      " [0.5912     0.6879    ]]\n",
      "rec time now 1 dataset now: Syn5\n"
     ]
    },
    {
     "name": "stderr",
     "output_type": "stream",
     "text": [
      "TPR mean: 97.5%  std: 8.3%\n",
      "FDR mean: 14.6%  std: 19.5%\n"
     ]
    },
    {
     "name": "stdout",
     "output_type": "stream",
     "text": [
      "[[0.62930688 0.77002482]\n",
      " [0.62275278 0.77490461]\n",
      " [0.5912     0.6904    ]]\n",
      "rec time now 2 dataset now: Syn5\n"
     ]
    },
    {
     "name": "stderr",
     "output_type": "stream",
     "text": [
      "TPR mean: 97.5%  std: 8.3%\n",
      "FDR mean: 14.5%  std: 19.4%\n"
     ]
    },
    {
     "name": "stdout",
     "output_type": "stream",
     "text": [
      "[[0.62930688 0.77012575]\n",
      " [0.62275278 0.77507701]\n",
      " [0.5912     0.6904    ]]\n",
      "rec time now 3 dataset now: Syn5\n"
     ]
    },
    {
     "name": "stderr",
     "output_type": "stream",
     "text": [
      "TPR mean: 97.5%  std: 8.3%\n",
      "FDR mean: 14.5%  std: 19.4%\n",
      "Epoch:      0, d_loss (Acc)): 0.522, v_loss (Acc): 0.002, g_loss: -22.8636\n"
     ]
    },
    {
     "name": "stdout",
     "output_type": "stream",
     "text": [
      "[[0.62930688 0.77012575]\n",
      " [0.62275278 0.77507701]\n",
      " [0.5912     0.6904    ]]\n",
      "now at training epoch number 6900 hyp-params: lamda 1.3800 prior 0.1550\n",
      "rec time now 0 dataset now: Syn5\n"
     ]
    },
    {
     "name": "stderr",
     "output_type": "stream",
     "text": [
      "TPR mean: 97.9%  std: 8.1%\n",
      "FDR mean: 17.9%  std: 21.2%\n"
     ]
    },
    {
     "name": "stdout",
     "output_type": "stream",
     "text": [
      "[[0.62865582 0.7672542 ]\n",
      " [0.62257891 0.77224166]\n",
      " [0.5903     0.69      ]]\n",
      "rec time now 1 dataset now: Syn5\n"
     ]
    },
    {
     "name": "stderr",
     "output_type": "stream",
     "text": [
      "TPR mean: 97.9%  std: 8.1%\n",
      "FDR mean: 14.1%  std: 19.5%\n"
     ]
    },
    {
     "name": "stdout",
     "output_type": "stream",
     "text": [
      "[[0.62865582 0.76908232]\n",
      " [0.62257891 0.77328356]\n",
      " [0.5903     0.6897    ]]\n",
      "rec time now 2 dataset now: Syn5\n"
     ]
    },
    {
     "name": "stderr",
     "output_type": "stream",
     "text": [
      "TPR mean: 97.9%  std: 8.1%\n",
      "FDR mean: 14.0%  std: 19.5%\n"
     ]
    },
    {
     "name": "stdout",
     "output_type": "stream",
     "text": [
      "[[0.62865582 0.76929493]\n",
      " [0.62257891 0.77355309]\n",
      " [0.5903     0.6901    ]]\n",
      "rec time now 3 dataset now: Syn5\n"
     ]
    },
    {
     "name": "stderr",
     "output_type": "stream",
     "text": [
      "TPR mean: 97.9%  std: 8.1%\n",
      "FDR mean: 14.0%  std: 19.5%\n",
      "Epoch:      0, d_loss (Acc)): 0.537, v_loss (Acc): 0.001, g_loss: -23.0014\n"
     ]
    },
    {
     "name": "stdout",
     "output_type": "stream",
     "text": [
      "[[0.62865582 0.76929493]\n",
      " [0.62257891 0.77355309]\n",
      " [0.5903     0.6901    ]]\n",
      "now at training epoch number 7000 hyp-params: lamda 1.4000 prior 0.1500\n",
      "rec time now 0 dataset now: Syn5\n"
     ]
    },
    {
     "name": "stderr",
     "output_type": "stream",
     "text": [
      "TPR mean: 97.7%  std: 8.5%\n",
      "FDR mean: 17.3%  std: 21.0%\n"
     ]
    },
    {
     "name": "stdout",
     "output_type": "stream",
     "text": [
      "[[0.62898636 0.77280565]\n",
      " [0.62103646 0.77926935]\n",
      " [0.5921     0.6911    ]]\n",
      "rec time now 1 dataset now: Syn5\n"
     ]
    },
    {
     "name": "stderr",
     "output_type": "stream",
     "text": [
      "TPR mean: 97.4%  std: 8.7%\n",
      "FDR mean: 13.6%  std: 19.3%\n"
     ]
    },
    {
     "name": "stdout",
     "output_type": "stream",
     "text": [
      "[[0.62898636 0.77500852]\n",
      " [0.62103646 0.7802476 ]\n",
      " [0.5921     0.6917    ]]\n",
      "rec time now 2 dataset now: Syn5\n"
     ]
    },
    {
     "name": "stderr",
     "output_type": "stream",
     "text": [
      "TPR mean: 97.4%  std: 8.7%\n",
      "FDR mean: 13.5%  std: 19.3%\n"
     ]
    },
    {
     "name": "stdout",
     "output_type": "stream",
     "text": [
      "[[0.62898636 0.77503921]\n",
      " [0.62103646 0.78037487]\n",
      " [0.5921     0.6915    ]]\n",
      "rec time now 3 dataset now: Syn5\n"
     ]
    },
    {
     "name": "stderr",
     "output_type": "stream",
     "text": [
      "TPR mean: 97.4%  std: 8.7%\n",
      "FDR mean: 13.5%  std: 19.3%\n",
      "Epoch:      0, d_loss (Acc)): 0.508, v_loss (Acc): 0.003, g_loss: -21.0044\n"
     ]
    },
    {
     "name": "stdout",
     "output_type": "stream",
     "text": [
      "[[0.62898636 0.77503921]\n",
      " [0.62103646 0.78037487]\n",
      " [0.5921     0.6915    ]]\n",
      "now at training epoch number 7100 hyp-params: lamda 1.4200 prior 0.1450\n",
      "rec time now 0 dataset now: Syn5\n"
     ]
    },
    {
     "name": "stderr",
     "output_type": "stream",
     "text": [
      "TPR mean: 97.5%  std: 8.5%\n",
      "FDR mean: 16.9%  std: 20.7%\n"
     ]
    },
    {
     "name": "stdout",
     "output_type": "stream",
     "text": [
      "[[0.63009969 0.76685243]\n",
      " [0.62171246 0.7731339 ]\n",
      " [0.593      0.6871    ]]\n",
      "rec time now 1 dataset now: Syn5\n"
     ]
    },
    {
     "name": "stderr",
     "output_type": "stream",
     "text": [
      "TPR mean: 97.2%  std: 8.8%\n",
      "FDR mean: 13.2%  std: 19.0%\n"
     ]
    },
    {
     "name": "stdout",
     "output_type": "stream",
     "text": [
      "[[0.63009969 0.76943739]\n",
      " [0.62171246 0.77463076]\n",
      " [0.593      0.6892    ]]\n",
      "rec time now 2 dataset now: Syn5\n"
     ]
    },
    {
     "name": "stderr",
     "output_type": "stream",
     "text": [
      "TPR mean: 97.2%  std: 8.8%\n",
      "FDR mean: 13.2%  std: 19.0%\n"
     ]
    },
    {
     "name": "stdout",
     "output_type": "stream",
     "text": [
      "[[0.63009969 0.76963279]\n",
      " [0.62171246 0.77490657]\n",
      " [0.593      0.6892    ]]\n",
      "rec time now 3 dataset now: Syn5\n"
     ]
    },
    {
     "name": "stderr",
     "output_type": "stream",
     "text": [
      "TPR mean: 97.2%  std: 8.8%\n",
      "FDR mean: 13.2%  std: 19.0%\n",
      "Epoch:      0, d_loss (Acc)): 0.508, v_loss (Acc): 0.006, g_loss: -20.3824\n"
     ]
    },
    {
     "name": "stdout",
     "output_type": "stream",
     "text": [
      "[[0.63009969 0.76963279]\n",
      " [0.62171246 0.77490657]\n",
      " [0.593      0.6892    ]]\n",
      "now at training epoch number 7200 hyp-params: lamda 1.4400 prior 0.1400\n",
      "rec time now 0 dataset now: Syn5\n"
     ]
    },
    {
     "name": "stderr",
     "output_type": "stream",
     "text": [
      "TPR mean: 97.5%  std: 8.8%\n",
      "FDR mean: 15.8%  std: 20.3%\n"
     ]
    },
    {
     "name": "stdout",
     "output_type": "stream",
     "text": [
      "[[0.631154   0.76900122]\n",
      " [0.62123526 0.7758203 ]\n",
      " [0.5971     0.6897    ]]\n",
      "rec time now 1 dataset now: Syn5\n"
     ]
    },
    {
     "name": "stderr",
     "output_type": "stream",
     "text": [
      "TPR mean: 97.1%  std: 9.1%\n",
      "FDR mean: 12.1%  std: 18.3%\n"
     ]
    },
    {
     "name": "stdout",
     "output_type": "stream",
     "text": [
      "[[0.631154   0.77110759]\n",
      " [0.62123526 0.77700518]\n",
      " [0.5971     0.6905    ]]\n",
      "rec time now 2 dataset now: Syn5\n"
     ]
    },
    {
     "name": "stderr",
     "output_type": "stream",
     "text": [
      "TPR mean: 97.1%  std: 9.1%\n",
      "FDR mean: 12.0%  std: 18.3%\n"
     ]
    },
    {
     "name": "stdout",
     "output_type": "stream",
     "text": [
      "[[0.631154   0.77116194]\n",
      " [0.62123526 0.7770666 ]\n",
      " [0.5971     0.6903    ]]\n",
      "rec time now 3 dataset now: Syn5\n"
     ]
    },
    {
     "name": "stderr",
     "output_type": "stream",
     "text": [
      "TPR mean: 97.1%  std: 9.1%\n",
      "FDR mean: 12.0%  std: 18.3%\n",
      "Epoch:      0, d_loss (Acc)): 0.520, v_loss (Acc): 0.005, g_loss: -20.5520\n"
     ]
    },
    {
     "name": "stdout",
     "output_type": "stream",
     "text": [
      "[[0.631154   0.77116162]\n",
      " [0.62123526 0.77706682]\n",
      " [0.5971     0.6903    ]]\n",
      "now at training epoch number 7300 hyp-params: lamda 1.4600 prior 0.1350\n",
      "rec time now 0 dataset now: Syn5\n"
     ]
    },
    {
     "name": "stderr",
     "output_type": "stream",
     "text": [
      "TPR mean: 97.4%  std: 9.1%\n",
      "FDR mean: 15.3%  std: 20.2%\n"
     ]
    },
    {
     "name": "stdout",
     "output_type": "stream",
     "text": [
      "[[0.62979295 0.76969222]\n",
      " [0.62271104 0.7754632 ]\n",
      " [0.5929     0.6911    ]]\n",
      "rec time now 1 dataset now: Syn5\n"
     ]
    },
    {
     "name": "stderr",
     "output_type": "stream",
     "text": [
      "TPR mean: 97.0%  std: 9.4%\n",
      "FDR mean: 11.6%  std: 18.1%\n"
     ]
    },
    {
     "name": "stdout",
     "output_type": "stream",
     "text": [
      "[[0.62979295 0.77202163]\n",
      " [0.62271104 0.77739794]\n",
      " [0.5929     0.6904    ]]\n",
      "rec time now 2 dataset now: Syn5\n"
     ]
    },
    {
     "name": "stderr",
     "output_type": "stream",
     "text": [
      "TPR mean: 97.0%  std: 9.4%\n",
      "FDR mean: 11.5%  std: 18.1%\n"
     ]
    },
    {
     "name": "stdout",
     "output_type": "stream",
     "text": [
      "[[0.62979295 0.77205912]\n",
      " [0.62271104 0.77751482]\n",
      " [0.5929     0.6902    ]]\n",
      "rec time now 3 dataset now: Syn5\n"
     ]
    },
    {
     "name": "stderr",
     "output_type": "stream",
     "text": [
      "TPR mean: 97.0%  std: 9.4%\n",
      "FDR mean: 11.5%  std: 18.1%\n",
      "Epoch:      0, d_loss (Acc)): 0.504, v_loss (Acc): 0.001, g_loss: -19.6241\n"
     ]
    },
    {
     "name": "stdout",
     "output_type": "stream",
     "text": [
      "[[0.62979295 0.77208509]\n",
      " [0.62271104 0.77753534]\n",
      " [0.5929     0.6902    ]]\n",
      "now at training epoch number 7400 hyp-params: lamda 1.4800 prior 0.1300\n",
      "rec time now 0 dataset now: Syn5\n"
     ]
    },
    {
     "name": "stderr",
     "output_type": "stream",
     "text": [
      "TPR mean: 97.6%  std: 9.0%\n",
      "FDR mean: 14.8%  std: 20.1%\n"
     ]
    },
    {
     "name": "stdout",
     "output_type": "stream",
     "text": [
      "[[0.629668   0.7767153 ]\n",
      " [0.62189707 0.78325266]\n",
      " [0.5898     0.6942    ]]\n",
      "rec time now 1 dataset now: Syn5\n"
     ]
    },
    {
     "name": "stderr",
     "output_type": "stream",
     "text": [
      "TPR mean: 97.4%  std: 9.2%\n",
      "FDR mean: 11.1%  std: 17.8%\n"
     ]
    },
    {
     "name": "stdout",
     "output_type": "stream",
     "text": [
      "[[0.629668   0.77863533]\n",
      " [0.62189707 0.78454451]\n",
      " [0.5898     0.6958    ]]\n",
      "rec time now 2 dataset now: Syn5\n"
     ]
    },
    {
     "name": "stderr",
     "output_type": "stream",
     "text": [
      "TPR mean: 97.4%  std: 9.2%\n",
      "FDR mean: 11.0%  std: 17.8%\n"
     ]
    },
    {
     "name": "stdout",
     "output_type": "stream",
     "text": [
      "[[0.629668   0.77869862]\n",
      " [0.62189707 0.78456259]\n",
      " [0.5898     0.6958    ]]\n",
      "rec time now 3 dataset now: Syn5\n"
     ]
    },
    {
     "name": "stderr",
     "output_type": "stream",
     "text": [
      "TPR mean: 97.4%  std: 9.2%\n",
      "FDR mean: 11.0%  std: 17.8%\n",
      "Epoch:      0, d_loss (Acc)): 0.506, v_loss (Acc): 0.001, g_loss: -19.1782\n"
     ]
    },
    {
     "name": "stdout",
     "output_type": "stream",
     "text": [
      "[[0.629668   0.77870282]\n",
      " [0.62189707 0.78457475]\n",
      " [0.5898     0.6958    ]]\n",
      "now at training epoch number 7500 hyp-params: lamda 1.5000 prior 0.1250\n",
      "rec time now 0 dataset now: Syn5\n"
     ]
    },
    {
     "name": "stderr",
     "output_type": "stream",
     "text": [
      "TPR mean: 97.6%  std: 9.0%\n",
      "FDR mean: 14.5%  std: 20.0%\n"
     ]
    },
    {
     "name": "stdout",
     "output_type": "stream",
     "text": [
      "[[0.62958198 0.77868405]\n",
      " [0.62103803 0.78571376]\n",
      " [0.5938     0.6963    ]]\n",
      "rec time now 1 dataset now: Syn5\n"
     ]
    },
    {
     "name": "stderr",
     "output_type": "stream",
     "text": [
      "TPR mean: 97.4%  std: 9.2%\n",
      "FDR mean: 10.8%  std: 17.6%\n"
     ]
    },
    {
     "name": "stdout",
     "output_type": "stream",
     "text": [
      "[[0.62958198 0.78052789]\n",
      " [0.62103803 0.78703629]\n",
      " [0.5938     0.6961    ]]\n",
      "rec time now 2 dataset now: Syn5\n"
     ]
    },
    {
     "name": "stderr",
     "output_type": "stream",
     "text": [
      "TPR mean: 97.4%  std: 9.2%\n",
      "FDR mean: 10.7%  std: 17.5%\n"
     ]
    },
    {
     "name": "stdout",
     "output_type": "stream",
     "text": [
      "[[0.62958198 0.78065002]\n",
      " [0.62103803 0.78714999]\n",
      " [0.5938     0.6959    ]]\n",
      "rec time now 3 dataset now: Syn5\n"
     ]
    },
    {
     "name": "stderr",
     "output_type": "stream",
     "text": [
      "TPR mean: 97.4%  std: 9.2%\n",
      "FDR mean: 10.7%  std: 17.5%\n",
      "Epoch:      0, d_loss (Acc)): 0.540, v_loss (Acc): 0.002, g_loss: -19.8838\n"
     ]
    },
    {
     "name": "stdout",
     "output_type": "stream",
     "text": [
      "[[0.62958198 0.78065002]\n",
      " [0.62103803 0.78714999]\n",
      " [0.5938     0.6959    ]]\n",
      "now at training epoch number 7600 hyp-params: lamda 1.5200 prior 0.1200\n",
      "rec time now 0 dataset now: Syn5\n"
     ]
    },
    {
     "name": "stderr",
     "output_type": "stream",
     "text": [
      "TPR mean: 97.6%  std: 9.2%\n",
      "FDR mean: 14.2%  std: 20.0%\n"
     ]
    },
    {
     "name": "stdout",
     "output_type": "stream",
     "text": [
      "[[0.62987501 0.77802052]\n",
      " [0.62168627 0.78333421]\n",
      " [0.5931     0.6947    ]]\n",
      "rec time now 1 dataset now: Syn5\n"
     ]
    },
    {
     "name": "stderr",
     "output_type": "stream",
     "text": [
      "TPR mean: 97.3%  std: 9.4%\n",
      "FDR mean: 10.5%  std: 17.6%\n"
     ]
    },
    {
     "name": "stdout",
     "output_type": "stream",
     "text": [
      "[[0.62987501 0.77997141]\n",
      " [0.62168627 0.78479489]\n",
      " [0.5931     0.6959    ]]\n",
      "rec time now 2 dataset now: Syn5\n"
     ]
    },
    {
     "name": "stderr",
     "output_type": "stream",
     "text": [
      "TPR mean: 97.3%  std: 9.4%\n",
      "FDR mean: 10.4%  std: 17.5%\n"
     ]
    },
    {
     "name": "stdout",
     "output_type": "stream",
     "text": [
      "[[0.62987501 0.78002043]\n",
      " [0.62168627 0.78479428]\n",
      " [0.5931     0.6958    ]]\n",
      "rec time now 3 dataset now: Syn5\n"
     ]
    },
    {
     "name": "stderr",
     "output_type": "stream",
     "text": [
      "TPR mean: 97.3%  std: 9.4%\n",
      "FDR mean: 10.4%  std: 17.5%\n",
      "Epoch:      0, d_loss (Acc)): 0.518, v_loss (Acc): 0.001, g_loss: -18.3676\n"
     ]
    },
    {
     "name": "stdout",
     "output_type": "stream",
     "text": [
      "[[0.62987501 0.78002043]\n",
      " [0.62168627 0.78479428]\n",
      " [0.5931     0.6958    ]]\n",
      "now at training epoch number 7700 hyp-params: lamda 1.5400 prior 0.1150\n",
      "rec time now 0 dataset now: Syn5\n"
     ]
    },
    {
     "name": "stderr",
     "output_type": "stream",
     "text": [
      "TPR mean: 97.5%  std: 9.4%\n",
      "FDR mean: 13.9%  std: 19.8%\n"
     ]
    },
    {
     "name": "stdout",
     "output_type": "stream",
     "text": [
      "[[0.62891541 0.77820922]\n",
      " [0.62062841 0.78536176]\n",
      " [0.5928     0.6935    ]]\n",
      "rec time now 1 dataset now: Syn5\n"
     ]
    },
    {
     "name": "stderr",
     "output_type": "stream",
     "text": [
      "TPR mean: 97.2%  std: 9.6%\n",
      "FDR mean: 10.3%  std: 17.3%\n"
     ]
    },
    {
     "name": "stdout",
     "output_type": "stream",
     "text": [
      "[[0.62891541 0.78046494]\n",
      " [0.62062841 0.78734161]\n",
      " [0.5928     0.6952    ]]\n",
      "rec time now 2 dataset now: Syn5\n"
     ]
    },
    {
     "name": "stderr",
     "output_type": "stream",
     "text": [
      "TPR mean: 97.2%  std: 9.6%\n",
      "FDR mean: 10.1%  std: 17.2%\n"
     ]
    },
    {
     "name": "stdout",
     "output_type": "stream",
     "text": [
      "[[0.62891541 0.78051054]\n",
      " [0.62062841 0.78736808]\n",
      " [0.5928     0.6949    ]]\n",
      "rec time now 3 dataset now: Syn5\n"
     ]
    },
    {
     "name": "stderr",
     "output_type": "stream",
     "text": [
      "TPR mean: 97.2%  std: 9.6%\n",
      "FDR mean: 10.1%  std: 17.2%\n",
      "Epoch:      0, d_loss (Acc)): 0.545, v_loss (Acc): 0.001, g_loss: -19.2285\n"
     ]
    },
    {
     "name": "stdout",
     "output_type": "stream",
     "text": [
      "[[0.62891541 0.78051054]\n",
      " [0.62062841 0.78736808]\n",
      " [0.5928     0.6949    ]]\n",
      "now at training epoch number 7800 hyp-params: lamda 1.5600 prior 0.1100\n",
      "rec time now 0 dataset now: Syn5\n"
     ]
    },
    {
     "name": "stderr",
     "output_type": "stream",
     "text": [
      "TPR mean: 97.5%  std: 9.5%\n",
      "FDR mean: 13.7%  std: 19.9%\n"
     ]
    },
    {
     "name": "stdout",
     "output_type": "stream",
     "text": [
      "[[0.629675   0.78283941]\n",
      " [0.62025064 0.7904575 ]\n",
      " [0.5931     0.6953    ]]\n",
      "rec time now 1 dataset now: Syn5\n"
     ]
    },
    {
     "name": "stderr",
     "output_type": "stream",
     "text": [
      "TPR mean: 97.1%  std: 9.7%\n",
      "FDR mean: 10.0%  std: 17.4%\n"
     ]
    },
    {
     "name": "stdout",
     "output_type": "stream",
     "text": [
      "[[0.629675   0.78463596]\n",
      " [0.62025064 0.79211363]\n",
      " [0.5931     0.6971    ]]\n",
      "rec time now 2 dataset now: Syn5\n"
     ]
    },
    {
     "name": "stderr",
     "output_type": "stream",
     "text": [
      "TPR mean: 97.1%  std: 9.7%\n",
      "FDR mean: 9.9%  std: 17.3%\n"
     ]
    },
    {
     "name": "stdout",
     "output_type": "stream",
     "text": [
      "[[0.629675   0.78468881]\n",
      " [0.62025064 0.79214164]\n",
      " [0.5931     0.6973    ]]\n",
      "rec time now 3 dataset now: Syn5\n"
     ]
    },
    {
     "name": "stderr",
     "output_type": "stream",
     "text": [
      "TPR mean: 97.1%  std: 9.7%\n",
      "FDR mean: 9.9%  std: 17.3%\n",
      "Epoch:      0, d_loss (Acc)): 0.513, v_loss (Acc): 0.001, g_loss: -17.5825\n"
     ]
    },
    {
     "name": "stdout",
     "output_type": "stream",
     "text": [
      "[[0.629675   0.78469119]\n",
      " [0.62025064 0.79214364]\n",
      " [0.5931     0.6973    ]]\n",
      "now at training epoch number 7900 hyp-params: lamda 1.5800 prior 0.1050\n",
      "rec time now 0 dataset now: Syn5\n"
     ]
    },
    {
     "name": "stderr",
     "output_type": "stream",
     "text": [
      "TPR mean: 97.6%  std: 9.3%\n",
      "FDR mean: 13.4%  std: 19.6%\n"
     ]
    },
    {
     "name": "stdout",
     "output_type": "stream",
     "text": [
      "[[0.62932217 0.78151515]\n",
      " [0.62043377 0.78952073]\n",
      " [0.5936     0.6949    ]]\n",
      "rec time now 1 dataset now: Syn5\n"
     ]
    },
    {
     "name": "stderr",
     "output_type": "stream",
     "text": [
      "TPR mean: 97.3%  std: 9.5%\n",
      "FDR mean: 9.8%  std: 17.1%\n"
     ]
    },
    {
     "name": "stdout",
     "output_type": "stream",
     "text": [
      "[[0.62932217 0.78308914]\n",
      " [0.62043377 0.79078428]\n",
      " [0.5936     0.6963    ]]\n",
      "rec time now 2 dataset now: Syn5\n"
     ]
    },
    {
     "name": "stderr",
     "output_type": "stream",
     "text": [
      "TPR mean: 97.3%  std: 9.5%\n",
      "FDR mean: 9.6%  std: 17.0%\n"
     ]
    },
    {
     "name": "stdout",
     "output_type": "stream",
     "text": [
      "[[0.62932217 0.78307861]\n",
      " [0.62043377 0.79071004]\n",
      " [0.5936     0.6962    ]]\n",
      "rec time now 3 dataset now: Syn5\n"
     ]
    },
    {
     "name": "stderr",
     "output_type": "stream",
     "text": [
      "TPR mean: 97.3%  std: 9.5%\n",
      "FDR mean: 9.6%  std: 17.0%\n",
      "Epoch:      0, d_loss (Acc)): 0.537, v_loss (Acc): 0.000, g_loss: -18.0134\n"
     ]
    },
    {
     "name": "stdout",
     "output_type": "stream",
     "text": [
      "[[0.62932217 0.78307861]\n",
      " [0.62043377 0.79071004]\n",
      " [0.5936     0.6962    ]]\n",
      "now at training epoch number 8000 hyp-params: lamda 1.6000 prior 0.1000\n",
      "rec time now 0 dataset now: Syn5\n"
     ]
    },
    {
     "name": "stderr",
     "output_type": "stream",
     "text": [
      "TPR mean: 97.3%  std: 9.6%\n",
      "FDR mean: 13.0%  std: 19.5%\n"
     ]
    },
    {
     "name": "stdout",
     "output_type": "stream",
     "text": [
      "[[0.62881837 0.78269366]\n",
      " [0.61991821 0.79119764]\n",
      " [0.5923     0.6951    ]]\n",
      "rec time now 1 dataset now: Syn5\n"
     ]
    },
    {
     "name": "stderr",
     "output_type": "stream",
     "text": [
      "TPR mean: 96.8%  std: 10.0%\n",
      "FDR mean: 9.5%  std: 17.2%\n"
     ]
    },
    {
     "name": "stdout",
     "output_type": "stream",
     "text": [
      "[[0.62881837 0.78457642]\n",
      " [0.61991821 0.79212568]\n",
      " [0.5923     0.6968    ]]\n",
      "rec time now 2 dataset now: Syn5\n"
     ]
    },
    {
     "name": "stderr",
     "output_type": "stream",
     "text": [
      "TPR mean: 96.8%  std: 10.0%\n",
      "FDR mean: 9.4%  std: 17.1%\n"
     ]
    },
    {
     "name": "stdout",
     "output_type": "stream",
     "text": [
      "[[0.62881837 0.78436679]\n",
      " [0.61991821 0.79183095]\n",
      " [0.5923     0.6966    ]]\n",
      "rec time now 3 dataset now: Syn5\n"
     ]
    },
    {
     "name": "stderr",
     "output_type": "stream",
     "text": [
      "TPR mean: 96.8%  std: 10.0%\n",
      "FDR mean: 9.4%  std: 17.1%\n",
      "Epoch:      0, d_loss (Acc)): 0.553, v_loss (Acc): 0.001, g_loss: -17.6116\n"
     ]
    },
    {
     "name": "stdout",
     "output_type": "stream",
     "text": [
      "[[0.62881837 0.78436679]\n",
      " [0.61991821 0.79183095]\n",
      " [0.5923     0.6966    ]]\n",
      "now at training epoch number 8100 hyp-params: lamda 1.6200 prior 0.0950\n",
      "rec time now 0 dataset now: Syn5\n"
     ]
    },
    {
     "name": "stderr",
     "output_type": "stream",
     "text": [
      "TPR mean: 97.0%  std: 10.0%\n",
      "FDR mean: 12.6%  std: 19.4%\n"
     ]
    },
    {
     "name": "stdout",
     "output_type": "stream",
     "text": [
      "[[0.62874398 0.77413528]\n",
      " [0.62024686 0.77986472]\n",
      " [0.5911     0.6922    ]]\n",
      "rec time now 1 dataset now: Syn5\n"
     ]
    },
    {
     "name": "stderr",
     "output_type": "stream",
     "text": [
      "TPR mean: 96.5%  std: 10.3%\n",
      "FDR mean: 9.1%  std: 17.0%\n"
     ]
    },
    {
     "name": "stdout",
     "output_type": "stream",
     "text": [
      "[[0.62874398 0.77568571]\n",
      " [0.62024686 0.78106016]\n",
      " [0.5911     0.6916    ]]\n",
      "rec time now 2 dataset now: Syn5\n"
     ]
    },
    {
     "name": "stderr",
     "output_type": "stream",
     "text": [
      "TPR mean: 96.5%  std: 10.3%\n",
      "FDR mean: 8.9%  std: 16.9%\n"
     ]
    },
    {
     "name": "stdout",
     "output_type": "stream",
     "text": [
      "[[0.62874398 0.77562631]\n",
      " [0.62024686 0.78096129]\n",
      " [0.5911     0.6918    ]]\n",
      "rec time now 3 dataset now: Syn5\n"
     ]
    },
    {
     "name": "stderr",
     "output_type": "stream",
     "text": [
      "TPR mean: 96.5%  std: 10.3%\n",
      "FDR mean: 8.9%  std: 16.9%\n",
      "Epoch:      0, d_loss (Acc)): 0.544, v_loss (Acc): 0.000, g_loss: -16.9293\n"
     ]
    },
    {
     "name": "stdout",
     "output_type": "stream",
     "text": [
      "[[0.62874398 0.77562631]\n",
      " [0.62024686 0.78096129]\n",
      " [0.5911     0.6918    ]]\n",
      "now at training epoch number 8200 hyp-params: lamda 1.6400 prior 0.0900\n",
      "rec time now 0 dataset now: Syn5\n"
     ]
    },
    {
     "name": "stderr",
     "output_type": "stream",
     "text": [
      "TPR mean: 96.7%  std: 10.7%\n",
      "FDR mean: 12.3%  std: 19.2%\n"
     ]
    },
    {
     "name": "stdout",
     "output_type": "stream",
     "text": [
      "[[0.62936417 0.77892401]\n",
      " [0.61958412 0.78747337]\n",
      " [0.5936     0.6934    ]]\n",
      "rec time now 1 dataset now: Syn5\n"
     ]
    },
    {
     "name": "stderr",
     "output_type": "stream",
     "text": [
      "TPR mean: 96.1%  std: 11.0%\n",
      "FDR mean: 8.8%  std: 16.8%\n"
     ]
    },
    {
     "name": "stdout",
     "output_type": "stream",
     "text": [
      "[[0.62936417 0.78015122]\n",
      " [0.61958412 0.78865617]\n",
      " [0.5936     0.6949    ]]\n",
      "rec time now 2 dataset now: Syn5\n"
     ]
    },
    {
     "name": "stderr",
     "output_type": "stream",
     "text": [
      "TPR mean: 96.1%  std: 11.0%\n",
      "FDR mean: 8.6%  std: 16.7%\n"
     ]
    },
    {
     "name": "stdout",
     "output_type": "stream",
     "text": [
      "[[0.62936417 0.78018572]\n",
      " [0.61958412 0.78861391]\n",
      " [0.5936     0.6951    ]]\n",
      "rec time now 3 dataset now: Syn5\n"
     ]
    },
    {
     "name": "stderr",
     "output_type": "stream",
     "text": [
      "TPR mean: 96.1%  std: 11.0%\n",
      "FDR mean: 8.6%  std: 16.7%\n",
      "Epoch:      0, d_loss (Acc)): 0.548, v_loss (Acc): 0.000, g_loss: -16.4067\n"
     ]
    },
    {
     "name": "stdout",
     "output_type": "stream",
     "text": [
      "[[0.62936417 0.78018572]\n",
      " [0.61958412 0.78861391]\n",
      " [0.5936     0.6951    ]]\n",
      "now at training epoch number 8300 hyp-params: lamda 1.6600 prior 0.0850\n",
      "rec time now 0 dataset now: Syn5\n"
     ]
    },
    {
     "name": "stderr",
     "output_type": "stream",
     "text": [
      "TPR mean: 96.8%  std: 10.5%\n",
      "FDR mean: 12.2%  std: 19.2%\n"
     ]
    },
    {
     "name": "stdout",
     "output_type": "stream",
     "text": [
      "[[0.62984574 0.78248537]\n",
      " [0.61992535 0.79109299]\n",
      " [0.5924     0.695     ]]\n",
      "rec time now 1 dataset now: Syn5\n"
     ]
    },
    {
     "name": "stderr",
     "output_type": "stream",
     "text": [
      "TPR mean: 96.3%  std: 10.8%\n",
      "FDR mean: 8.7%  std: 16.8%\n"
     ]
    },
    {
     "name": "stdout",
     "output_type": "stream",
     "text": [
      "[[0.62984574 0.78326259]\n",
      " [0.61992535 0.79149554]\n",
      " [0.5924     0.6975    ]]\n",
      "rec time now 2 dataset now: Syn5\n"
     ]
    },
    {
     "name": "stderr",
     "output_type": "stream",
     "text": [
      "TPR mean: 96.3%  std: 10.8%\n",
      "FDR mean: 8.6%  std: 16.7%\n"
     ]
    },
    {
     "name": "stdout",
     "output_type": "stream",
     "text": [
      "[[0.62984574 0.78330025]\n",
      " [0.61992535 0.79145418]\n",
      " [0.5924     0.698     ]]\n",
      "rec time now 3 dataset now: Syn5\n"
     ]
    },
    {
     "name": "stderr",
     "output_type": "stream",
     "text": [
      "TPR mean: 96.3%  std: 10.8%\n",
      "FDR mean: 8.6%  std: 16.7%\n",
      "Epoch:      0, d_loss (Acc)): 0.533, v_loss (Acc): 0.001, g_loss: -15.1550\n"
     ]
    },
    {
     "name": "stdout",
     "output_type": "stream",
     "text": [
      "[[0.62984574 0.78330025]\n",
      " [0.61992535 0.79145418]\n",
      " [0.5924     0.698     ]]\n",
      "now at training epoch number 8400 hyp-params: lamda 1.6800 prior 0.0800\n",
      "rec time now 0 dataset now: Syn5\n"
     ]
    },
    {
     "name": "stderr",
     "output_type": "stream",
     "text": [
      "TPR mean: 96.2%  std: 11.2%\n",
      "FDR mean: 11.7%  std: 19.2%\n"
     ]
    },
    {
     "name": "stdout",
     "output_type": "stream",
     "text": [
      "[[0.62903563 0.78494182]\n",
      " [0.61922559 0.79426432]\n",
      " [0.5943     0.6961    ]]\n",
      "rec time now 1 dataset now: Syn5\n"
     ]
    },
    {
     "name": "stderr",
     "output_type": "stream",
     "text": [
      "TPR mean: 95.6%  std: 11.6%\n",
      "FDR mean: 8.1%  std: 16.7%\n"
     ]
    },
    {
     "name": "stdout",
     "output_type": "stream",
     "text": [
      "[[0.62903563 0.7865615 ]\n",
      " [0.61922559 0.7956471 ]\n",
      " [0.5943     0.6983    ]]\n",
      "rec time now 2 dataset now: Syn5\n"
     ]
    },
    {
     "name": "stderr",
     "output_type": "stream",
     "text": [
      "TPR mean: 95.6%  std: 11.6%\n",
      "FDR mean: 8.0%  std: 16.6%\n"
     ]
    },
    {
     "name": "stdout",
     "output_type": "stream",
     "text": [
      "[[0.62903563 0.78647148]\n",
      " [0.61922559 0.79559976]\n",
      " [0.5943     0.6983    ]]\n",
      "rec time now 3 dataset now: Syn5\n"
     ]
    },
    {
     "name": "stderr",
     "output_type": "stream",
     "text": [
      "TPR mean: 95.6%  std: 11.6%\n",
      "FDR mean: 8.0%  std: 16.6%\n",
      "Epoch:      0, d_loss (Acc)): 0.543, v_loss (Acc): 0.000, g_loss: -15.1066\n"
     ]
    },
    {
     "name": "stdout",
     "output_type": "stream",
     "text": [
      "[[0.62903563 0.78647148]\n",
      " [0.61922559 0.79559976]\n",
      " [0.5943     0.6983    ]]\n",
      "now at training epoch number 8500 hyp-params: lamda 1.7000 prior 0.0750\n",
      "rec time now 0 dataset now: Syn5\n"
     ]
    },
    {
     "name": "stderr",
     "output_type": "stream",
     "text": [
      "TPR mean: 95.9%  std: 11.8%\n",
      "FDR mean: 11.5%  std: 19.2%\n"
     ]
    },
    {
     "name": "stdout",
     "output_type": "stream",
     "text": [
      "[[0.62844929 0.78288767]\n",
      " [0.61919007 0.79172762]\n",
      " [0.5929     0.6947    ]]\n",
      "rec time now 1 dataset now: Syn5\n"
     ]
    },
    {
     "name": "stderr",
     "output_type": "stream",
     "text": [
      "TPR mean: 95.3%  std: 12.1%\n",
      "FDR mean: 7.9%  std: 16.5%\n"
     ]
    },
    {
     "name": "stdout",
     "output_type": "stream",
     "text": [
      "[[0.62844929 0.78456986]\n",
      " [0.61919007 0.79306766]\n",
      " [0.5929     0.6983    ]]\n",
      "rec time now 2 dataset now: Syn5\n"
     ]
    },
    {
     "name": "stderr",
     "output_type": "stream",
     "text": [
      "TPR mean: 95.3%  std: 12.1%\n",
      "FDR mean: 7.8%  std: 16.5%\n"
     ]
    },
    {
     "name": "stdout",
     "output_type": "stream",
     "text": [
      "[[0.62844929 0.78458652]\n",
      " [0.61919007 0.7930506 ]\n",
      " [0.5929     0.6983    ]]\n",
      "rec time now 3 dataset now: Syn5\n"
     ]
    },
    {
     "name": "stderr",
     "output_type": "stream",
     "text": [
      "TPR mean: 95.3%  std: 12.1%\n",
      "FDR mean: 7.8%  std: 16.5%\n",
      "Epoch:      0, d_loss (Acc)): 0.534, v_loss (Acc): 0.000, g_loss: -13.9433\n"
     ]
    },
    {
     "name": "stdout",
     "output_type": "stream",
     "text": [
      "[[0.62844929 0.78458652]\n",
      " [0.61919007 0.7930506 ]\n",
      " [0.5929     0.6983    ]]\n",
      "now at training epoch number 8600 hyp-params: lamda 1.7200 prior 0.0700\n",
      "rec time now 0 dataset now: Syn5\n"
     ]
    },
    {
     "name": "stderr",
     "output_type": "stream",
     "text": [
      "TPR mean: 95.9%  std: 11.9%\n",
      "FDR mean: 11.2%  std: 18.9%\n"
     ]
    },
    {
     "name": "stdout",
     "output_type": "stream",
     "text": [
      "[[0.62808301 0.78617609]\n",
      " [0.61906164 0.7954548 ]\n",
      " [0.5919     0.6964    ]]\n",
      "rec time now 1 dataset now: Syn5\n"
     ]
    },
    {
     "name": "stderr",
     "output_type": "stream",
     "text": [
      "TPR mean: 95.3%  std: 12.2%\n",
      "FDR mean: 7.6%  std: 16.0%\n"
     ]
    },
    {
     "name": "stdout",
     "output_type": "stream",
     "text": [
      "[[0.62808301 0.78798375]\n",
      " [0.61906164 0.796754  ]\n",
      " [0.5919     0.6979    ]]\n",
      "rec time now 2 dataset now: Syn5\n"
     ]
    },
    {
     "name": "stderr",
     "output_type": "stream",
     "text": [
      "TPR mean: 95.3%  std: 12.2%\n",
      "FDR mean: 7.5%  std: 15.9%\n"
     ]
    },
    {
     "name": "stdout",
     "output_type": "stream",
     "text": [
      "[[0.62808301 0.78793869]\n",
      " [0.61906164 0.79666396]\n",
      " [0.5919     0.6979    ]]\n",
      "rec time now 3 dataset now: Syn5\n"
     ]
    },
    {
     "name": "stderr",
     "output_type": "stream",
     "text": [
      "TPR mean: 95.3%  std: 12.2%\n",
      "FDR mean: 7.5%  std: 15.9%\n",
      "Epoch:      0, d_loss (Acc)): 0.528, v_loss (Acc): 0.001, g_loss: -13.4414\n"
     ]
    },
    {
     "name": "stdout",
     "output_type": "stream",
     "text": [
      "[[0.62808301 0.78794065]\n",
      " [0.61906164 0.79666365]\n",
      " [0.5919     0.6979    ]]\n",
      "now at training epoch number 8700 hyp-params: lamda 1.7400 prior 0.0650\n",
      "rec time now 0 dataset now: Syn5\n"
     ]
    },
    {
     "name": "stderr",
     "output_type": "stream",
     "text": [
      "TPR mean: 95.5%  std: 12.6%\n",
      "FDR mean: 10.3%  std: 18.7%\n"
     ]
    },
    {
     "name": "stdout",
     "output_type": "stream",
     "text": [
      "[[0.62714267 0.7826006 ]\n",
      " [0.6183952  0.79278665]\n",
      " [0.5921     0.6942    ]]\n",
      "rec time now 1 dataset now: Syn5\n"
     ]
    },
    {
     "name": "stderr",
     "output_type": "stream",
     "text": [
      "TPR mean: 94.8%  std: 12.9%\n",
      "FDR mean: 6.8%  std: 15.6%\n"
     ]
    },
    {
     "name": "stdout",
     "output_type": "stream",
     "text": [
      "[[0.62714267 0.7838391 ]\n",
      " [0.6183952  0.79349182]\n",
      " [0.5921     0.6943    ]]\n",
      "rec time now 2 dataset now: Syn5\n"
     ]
    },
    {
     "name": "stderr",
     "output_type": "stream",
     "text": [
      "TPR mean: 94.8%  std: 12.9%\n",
      "FDR mean: 6.7%  std: 15.5%\n"
     ]
    },
    {
     "name": "stdout",
     "output_type": "stream",
     "text": [
      "[[0.62714267 0.78394713]\n",
      " [0.6183952  0.79365302]\n",
      " [0.5921     0.6939    ]]\n",
      "rec time now 3 dataset now: Syn5\n"
     ]
    },
    {
     "name": "stderr",
     "output_type": "stream",
     "text": [
      "TPR mean: 94.8%  std: 12.9%\n",
      "FDR mean: 6.7%  std: 15.5%\n",
      "Epoch:      0, d_loss (Acc)): 0.534, v_loss (Acc): 0.000, g_loss: -12.9064\n"
     ]
    },
    {
     "name": "stdout",
     "output_type": "stream",
     "text": [
      "[[0.62714267 0.78396225]\n",
      " [0.6183952  0.79367143]\n",
      " [0.5921     0.6939    ]]\n",
      "now at training epoch number 8800 hyp-params: lamda 1.7600 prior 0.0600\n",
      "rec time now 0 dataset now: Syn5\n"
     ]
    },
    {
     "name": "stderr",
     "output_type": "stream",
     "text": [
      "TPR mean: 95.4%  std: 13.0%\n",
      "FDR mean: 10.1%  std: 18.8%\n"
     ]
    },
    {
     "name": "stdout",
     "output_type": "stream",
     "text": [
      "[[0.62890097 0.78745106]\n",
      " [0.62005729 0.79636   ]\n",
      " [0.5906     0.6984    ]]\n",
      "rec time now 1 dataset now: Syn5\n"
     ]
    },
    {
     "name": "stderr",
     "output_type": "stream",
     "text": [
      "TPR mean: 94.8%  std: 13.3%\n",
      "FDR mean: 6.5%  std: 15.6%\n"
     ]
    },
    {
     "name": "stdout",
     "output_type": "stream",
     "text": [
      "[[0.62890097 0.78816179]\n",
      " [0.62005729 0.79678402]\n",
      " [0.5906     0.6973    ]]\n",
      "rec time now 2 dataset now: Syn5\n"
     ]
    },
    {
     "name": "stderr",
     "output_type": "stream",
     "text": [
      "TPR mean: 94.8%  std: 13.3%\n",
      "FDR mean: 6.4%  std: 15.5%\n"
     ]
    },
    {
     "name": "stdout",
     "output_type": "stream",
     "text": [
      "[[0.62890097 0.78825051]\n",
      " [0.62005729 0.79688628]\n",
      " [0.5906     0.6972    ]]\n",
      "rec time now 3 dataset now: Syn5\n"
     ]
    },
    {
     "name": "stderr",
     "output_type": "stream",
     "text": [
      "TPR mean: 94.8%  std: 13.3%\n",
      "FDR mean: 6.4%  std: 15.5%\n",
      "Epoch:      0, d_loss (Acc)): 0.531, v_loss (Acc): 0.000, g_loss: -12.1164\n"
     ]
    },
    {
     "name": "stdout",
     "output_type": "stream",
     "text": [
      "[[0.62890097 0.78825051]\n",
      " [0.62005729 0.79688628]\n",
      " [0.5906     0.6972    ]]\n",
      "now at training epoch number 8900 hyp-params: lamda 1.7800 prior 0.0550\n",
      "rec time now 0 dataset now: Syn5\n"
     ]
    },
    {
     "name": "stderr",
     "output_type": "stream",
     "text": [
      "TPR mean: 95.2%  std: 13.4%\n",
      "FDR mean: 9.7%  std: 18.5%\n"
     ]
    },
    {
     "name": "stdout",
     "output_type": "stream",
     "text": [
      "[[0.62935602 0.78882772]\n",
      " [0.61989334 0.79939837]\n",
      " [0.5926     0.7019    ]]\n",
      "rec time now 1 dataset now: Syn5\n"
     ]
    },
    {
     "name": "stderr",
     "output_type": "stream",
     "text": [
      "TPR mean: 94.6%  std: 13.7%\n",
      "FDR mean: 6.1%  std: 15.1%\n"
     ]
    },
    {
     "name": "stdout",
     "output_type": "stream",
     "text": [
      "[[0.62935602 0.78969695]\n",
      " [0.61989334 0.80005196]\n",
      " [0.5926     0.7007    ]]\n",
      "rec time now 2 dataset now: Syn5\n"
     ]
    },
    {
     "name": "stderr",
     "output_type": "stream",
     "text": [
      "TPR mean: 94.6%  std: 13.7%\n",
      "FDR mean: 6.0%  std: 15.0%\n"
     ]
    },
    {
     "name": "stdout",
     "output_type": "stream",
     "text": [
      "[[0.62935602 0.78986129]\n",
      " [0.61989334 0.80026428]\n",
      " [0.5926     0.7007    ]]\n",
      "rec time now 3 dataset now: Syn5\n"
     ]
    },
    {
     "name": "stderr",
     "output_type": "stream",
     "text": [
      "TPR mean: 94.6%  std: 13.7%\n",
      "FDR mean: 6.0%  std: 15.0%\n",
      "Epoch:      0, d_loss (Acc)): 0.552, v_loss (Acc): 0.000, g_loss: -11.9197\n"
     ]
    },
    {
     "name": "stdout",
     "output_type": "stream",
     "text": [
      "[[0.62935602 0.78986129]\n",
      " [0.61989334 0.80026428]\n",
      " [0.5926     0.7007    ]]\n",
      "now at training epoch number 9000 hyp-params: lamda 1.8000 prior 0.0500\n",
      "rec time now 0 dataset now: Syn5\n"
     ]
    },
    {
     "name": "stderr",
     "output_type": "stream",
     "text": [
      "TPR mean: 95.3%  std: 13.3%\n",
      "FDR mean: 9.6%  std: 18.6%\n"
     ]
    },
    {
     "name": "stdout",
     "output_type": "stream",
     "text": [
      "[[0.62917257 0.79056755]\n",
      " [0.62053367 0.80033147]\n",
      " [0.5927     0.7006    ]]\n",
      "rec time now 1 dataset now: Syn5\n"
     ]
    },
    {
     "name": "stderr",
     "output_type": "stream",
     "text": [
      "TPR mean: 94.7%  std: 13.6%\n",
      "FDR mean: 6.1%  std: 15.2%\n"
     ]
    },
    {
     "name": "stdout",
     "output_type": "stream",
     "text": [
      "[[0.62917257 0.79078647]\n",
      " [0.62053367 0.80051432]\n",
      " [0.5927     0.6998    ]]\n",
      "rec time now 2 dataset now: Syn5\n"
     ]
    },
    {
     "name": "stderr",
     "output_type": "stream",
     "text": [
      "TPR mean: 94.7%  std: 13.6%\n",
      "FDR mean: 5.9%  std: 15.1%\n"
     ]
    },
    {
     "name": "stdout",
     "output_type": "stream",
     "text": [
      "[[0.62917257 0.79097069]\n",
      " [0.62053367 0.80070134]\n",
      " [0.5927     0.6999    ]]\n",
      "rec time now 3 dataset now: Syn5\n"
     ]
    },
    {
     "name": "stderr",
     "output_type": "stream",
     "text": [
      "TPR mean: 94.7%  std: 13.6%\n",
      "FDR mean: 5.9%  std: 15.1%\n",
      "Epoch:      0, d_loss (Acc)): 0.545, v_loss (Acc): 0.000, g_loss: -11.1500\n"
     ]
    },
    {
     "name": "stdout",
     "output_type": "stream",
     "text": [
      "[[0.62917257 0.79097069]\n",
      " [0.62053367 0.80070134]\n",
      " [0.5927     0.6999    ]]\n",
      "now at training epoch number 9100 hyp-params: lamda 1.8200 prior 0.0450\n",
      "rec time now 0 dataset now: Syn5\n"
     ]
    },
    {
     "name": "stderr",
     "output_type": "stream",
     "text": [
      "TPR mean: 95.2%  std: 13.3%\n",
      "FDR mean: 9.5%  std: 18.4%\n"
     ]
    },
    {
     "name": "stdout",
     "output_type": "stream",
     "text": [
      "[[0.62765077 0.79202626]\n",
      " [0.61826491 0.80228264]\n",
      " [0.592      0.7024    ]]\n",
      "rec time now 1 dataset now: Syn5\n"
     ]
    },
    {
     "name": "stderr",
     "output_type": "stream",
     "text": [
      "TPR mean: 94.5%  std: 13.6%\n",
      "FDR mean: 5.9%  std: 15.0%\n"
     ]
    },
    {
     "name": "stdout",
     "output_type": "stream",
     "text": [
      "[[0.62765077 0.79244368]\n",
      " [0.61826491 0.80257031]\n",
      " [0.592      0.7016    ]]\n",
      "rec time now 2 dataset now: Syn5\n"
     ]
    },
    {
     "name": "stderr",
     "output_type": "stream",
     "text": [
      "TPR mean: 94.5%  std: 13.6%\n",
      "FDR mean: 5.8%  std: 14.9%\n"
     ]
    },
    {
     "name": "stdout",
     "output_type": "stream",
     "text": [
      "[[0.62765077 0.7925766 ]\n",
      " [0.61826491 0.80274221]\n",
      " [0.592      0.7014    ]]\n",
      "rec time now 3 dataset now: Syn5\n"
     ]
    },
    {
     "name": "stderr",
     "output_type": "stream",
     "text": [
      "TPR mean: 94.5%  std: 13.6%\n",
      "FDR mean: 5.8%  std: 14.9%\n",
      "Epoch:      0, d_loss (Acc)): 0.519, v_loss (Acc): 0.000, g_loss: -9.7236\n"
     ]
    },
    {
     "name": "stdout",
     "output_type": "stream",
     "text": [
      "[[0.62765077 0.7925766 ]\n",
      " [0.61826491 0.80274221]\n",
      " [0.592      0.7014    ]]\n",
      "now at training epoch number 9200 hyp-params: lamda 1.8400 prior 0.0400\n",
      "rec time now 0 dataset now: Syn5\n"
     ]
    },
    {
     "name": "stderr",
     "output_type": "stream",
     "text": [
      "TPR mean: 94.6%  std: 13.7%\n",
      "FDR mean: 9.6%  std: 18.3%\n"
     ]
    },
    {
     "name": "stdout",
     "output_type": "stream",
     "text": [
      "[[0.62852551 0.79498738]\n",
      " [0.61894334 0.80578937]\n",
      " [0.5925     0.7059    ]]\n",
      "rec time now 1 dataset now: Syn5\n"
     ]
    },
    {
     "name": "stderr",
     "output_type": "stream",
     "text": [
      "TPR mean: 93.8%  std: 14.1%\n",
      "FDR mean: 6.0%  std: 15.0%\n"
     ]
    },
    {
     "name": "stdout",
     "output_type": "stream",
     "text": [
      "[[0.62852551 0.7963643 ]\n",
      " [0.61894334 0.8067976 ]\n",
      " [0.5925     0.7064    ]]\n",
      "rec time now 2 dataset now: Syn5\n"
     ]
    },
    {
     "name": "stderr",
     "output_type": "stream",
     "text": [
      "TPR mean: 93.8%  std: 14.1%\n",
      "FDR mean: 5.9%  std: 14.9%\n"
     ]
    },
    {
     "name": "stdout",
     "output_type": "stream",
     "text": [
      "[[0.62852551 0.79648499]\n",
      " [0.61894334 0.80688514]\n",
      " [0.5925     0.7062    ]]\n",
      "rec time now 3 dataset now: Syn5\n"
     ]
    },
    {
     "name": "stderr",
     "output_type": "stream",
     "text": [
      "TPR mean: 93.8%  std: 14.1%\n",
      "FDR mean: 5.9%  std: 14.9%\n",
      "Epoch:      0, d_loss (Acc)): 0.562, v_loss (Acc): 0.001, g_loss: -9.8550\n"
     ]
    },
    {
     "name": "stdout",
     "output_type": "stream",
     "text": [
      "[[0.62852551 0.79648499]\n",
      " [0.61894334 0.80688514]\n",
      " [0.5925     0.7062    ]]\n",
      "now at training epoch number 9300 hyp-params: lamda 1.8600 prior 0.0350\n",
      "rec time now 0 dataset now: Syn5\n"
     ]
    },
    {
     "name": "stderr",
     "output_type": "stream",
     "text": [
      "TPR mean: 93.9%  std: 14.5%\n",
      "FDR mean: 9.5%  std: 18.3%\n"
     ]
    },
    {
     "name": "stdout",
     "output_type": "stream",
     "text": [
      "[[0.62881131 0.79119428]\n",
      " [0.61919631 0.80215567]\n",
      " [0.59       0.7003    ]]\n",
      "rec time now 1 dataset now: Syn5\n"
     ]
    },
    {
     "name": "stderr",
     "output_type": "stream",
     "text": [
      "TPR mean: 93.0%  std: 15.0%\n",
      "FDR mean: 6.0%  std: 15.0%\n"
     ]
    },
    {
     "name": "stdout",
     "output_type": "stream",
     "text": [
      "[[0.62881131 0.7923852 ]\n",
      " [0.61919631 0.80318838]\n",
      " [0.59       0.7002    ]]\n",
      "rec time now 2 dataset now: Syn5\n"
     ]
    },
    {
     "name": "stderr",
     "output_type": "stream",
     "text": [
      "TPR mean: 93.0%  std: 15.0%\n",
      "FDR mean: 5.9%  std: 14.9%\n"
     ]
    },
    {
     "name": "stdout",
     "output_type": "stream",
     "text": [
      "[[0.62881131 0.79254567]\n",
      " [0.61919631 0.80331181]\n",
      " [0.59       0.7006    ]]\n",
      "rec time now 3 dataset now: Syn5\n"
     ]
    },
    {
     "name": "stderr",
     "output_type": "stream",
     "text": [
      "TPR mean: 93.0%  std: 15.0%\n",
      "FDR mean: 5.9%  std: 14.9%\n",
      "Epoch:      0, d_loss (Acc)): 0.536, v_loss (Acc): 0.000, g_loss: -8.4568\n"
     ]
    },
    {
     "name": "stdout",
     "output_type": "stream",
     "text": [
      "[[0.62881131 0.79254567]\n",
      " [0.61919631 0.80331181]\n",
      " [0.59       0.7006    ]]\n",
      "now at training epoch number 9400 hyp-params: lamda 1.8800 prior 0.0300\n",
      "rec time now 0 dataset now: Syn5\n"
     ]
    },
    {
     "name": "stderr",
     "output_type": "stream",
     "text": [
      "TPR mean: 94.0%  std: 14.3%\n",
      "FDR mean: 9.4%  std: 18.4%\n"
     ]
    },
    {
     "name": "stdout",
     "output_type": "stream",
     "text": [
      "[[0.62851776 0.78844435]\n",
      " [0.61882403 0.79941064]\n",
      " [0.5929     0.6995    ]]\n",
      "rec time now 1 dataset now: Syn5\n"
     ]
    },
    {
     "name": "stderr",
     "output_type": "stream",
     "text": [
      "TPR mean: 93.2%  std: 14.7%\n",
      "FDR mean: 5.8%  std: 15.1%\n"
     ]
    },
    {
     "name": "stdout",
     "output_type": "stream",
     "text": [
      "[[0.62851776 0.79037161]\n",
      " [0.61882403 0.80111026]\n",
      " [0.5929     0.6995    ]]\n",
      "rec time now 2 dataset now: Syn5\n"
     ]
    },
    {
     "name": "stderr",
     "output_type": "stream",
     "text": [
      "TPR mean: 93.2%  std: 14.7%\n",
      "FDR mean: 5.7%  std: 15.0%\n"
     ]
    },
    {
     "name": "stdout",
     "output_type": "stream",
     "text": [
      "[[0.62851776 0.79055901]\n",
      " [0.61882403 0.80125488]\n",
      " [0.5929     0.6997    ]]\n",
      "rec time now 3 dataset now: Syn5\n"
     ]
    },
    {
     "name": "stderr",
     "output_type": "stream",
     "text": [
      "TPR mean: 93.2%  std: 14.7%\n",
      "FDR mean: 5.7%  std: 15.0%\n",
      "Epoch:      0, d_loss (Acc)): 0.510, v_loss (Acc): 0.000, g_loss: -7.2896\n"
     ]
    },
    {
     "name": "stdout",
     "output_type": "stream",
     "text": [
      "[[0.62851776 0.79055901]\n",
      " [0.61882403 0.80125488]\n",
      " [0.5929     0.6997    ]]\n",
      "now at training epoch number 9500 hyp-params: lamda 1.9000 prior 0.0250\n",
      "rec time now 0 dataset now: Syn5\n"
     ]
    },
    {
     "name": "stderr",
     "output_type": "stream",
     "text": [
      "TPR mean: 93.4%  std: 15.2%\n",
      "FDR mean: 8.9%  std: 18.4%\n"
     ]
    },
    {
     "name": "stdout",
     "output_type": "stream",
     "text": [
      "[[0.62501749 0.79391254]\n",
      " [0.61245939 0.80453513]\n",
      " [0.5895     0.7021    ]]\n",
      "rec time now 1 dataset now: Syn5\n"
     ]
    },
    {
     "name": "stderr",
     "output_type": "stream",
     "text": [
      "TPR mean: 92.5%  std: 15.6%\n",
      "FDR mean: 5.3%  std: 14.6%\n"
     ]
    },
    {
     "name": "stdout",
     "output_type": "stream",
     "text": [
      "[[0.62501749 0.79614288]\n",
      " [0.61245939 0.80671892]\n",
      " [0.5895     0.7054    ]]\n",
      "rec time now 2 dataset now: Syn5\n"
     ]
    },
    {
     "name": "stderr",
     "output_type": "stream",
     "text": [
      "TPR mean: 92.5%  std: 15.6%\n",
      "FDR mean: 5.2%  std: 14.5%\n"
     ]
    },
    {
     "name": "stdout",
     "output_type": "stream",
     "text": [
      "[[0.62501749 0.79626109]\n",
      " [0.61245939 0.8068159 ]\n",
      " [0.5895     0.7054    ]]\n",
      "rec time now 3 dataset now: Syn5\n"
     ]
    },
    {
     "name": "stderr",
     "output_type": "stream",
     "text": [
      "TPR mean: 92.5%  std: 15.6%\n",
      "FDR mean: 5.2%  std: 14.5%\n",
      "Epoch:      0, d_loss (Acc)): 0.550, v_loss (Acc): 0.007, g_loss: -7.0165\n"
     ]
    },
    {
     "name": "stdout",
     "output_type": "stream",
     "text": [
      "[[0.62501749 0.79626109]\n",
      " [0.61245939 0.8068159 ]\n",
      " [0.5895     0.7054    ]]\n",
      "now at training epoch number 9600 hyp-params: lamda 1.9200 prior 0.0200\n",
      "rec time now 0 dataset now: Syn5\n"
     ]
    },
    {
     "name": "stderr",
     "output_type": "stream",
     "text": [
      "TPR mean: 93.2%  std: 15.3%\n",
      "FDR mean: 8.8%  std: 18.4%\n"
     ]
    },
    {
     "name": "stdout",
     "output_type": "stream",
     "text": [
      "[[0.62821521 0.79245545]\n",
      " [0.61935279 0.80379918]\n",
      " [0.5918     0.7021    ]]\n",
      "rec time now 1 dataset now: Syn5\n"
     ]
    },
    {
     "name": "stderr",
     "output_type": "stream",
     "text": [
      "TPR mean: 92.3%  std: 15.7%\n",
      "FDR mean: 5.2%  std: 14.6%\n"
     ]
    },
    {
     "name": "stdout",
     "output_type": "stream",
     "text": [
      "[[0.62821521 0.7947004 ]\n",
      " [0.61935279 0.805856  ]\n",
      " [0.5918     0.7032    ]]\n",
      "rec time now 2 dataset now: Syn5\n"
     ]
    },
    {
     "name": "stderr",
     "output_type": "stream",
     "text": [
      "TPR mean: 92.3%  std: 15.7%\n",
      "FDR mean: 5.1%  std: 14.5%\n"
     ]
    },
    {
     "name": "stdout",
     "output_type": "stream",
     "text": [
      "[[0.62821521 0.79457961]\n",
      " [0.61935279 0.80577538]\n",
      " [0.5918     0.703     ]]\n",
      "rec time now 3 dataset now: Syn5\n"
     ]
    },
    {
     "name": "stderr",
     "output_type": "stream",
     "text": [
      "TPR mean: 92.3%  std: 15.7%\n",
      "FDR mean: 5.1%  std: 14.5%\n",
      "Epoch:      0, d_loss (Acc)): 0.549, v_loss (Acc): 0.000, g_loss: -6.0904\n"
     ]
    },
    {
     "name": "stdout",
     "output_type": "stream",
     "text": [
      "[[0.62821521 0.79456672]\n",
      " [0.61935279 0.805764  ]\n",
      " [0.5918     0.703     ]]\n",
      "now at training epoch number 9700 hyp-params: lamda 1.9400 prior 0.0150\n",
      "rec time now 0 dataset now: Syn5\n"
     ]
    },
    {
     "name": "stderr",
     "output_type": "stream",
     "text": [
      "TPR mean: 92.1%  std: 16.5%\n",
      "FDR mean: 8.8%  std: 19.2%\n"
     ]
    },
    {
     "name": "stdout",
     "output_type": "stream",
     "text": [
      "[[0.63039621 0.79324147]\n",
      " [0.61934548 0.80393443]\n",
      " [0.5924     0.7034    ]]\n",
      "rec time now 1 dataset now: Syn5\n"
     ]
    },
    {
     "name": "stderr",
     "output_type": "stream",
     "text": [
      "TPR mean: 91.3%  std: 16.8%\n",
      "FDR mean: 4.9%  std: 15.0%\n"
     ]
    },
    {
     "name": "stdout",
     "output_type": "stream",
     "text": [
      "[[0.63039621 0.79537039]\n",
      " [0.61934548 0.80615607]\n",
      " [0.5924     0.7026    ]]\n",
      "rec time now 2 dataset now: Syn5\n"
     ]
    },
    {
     "name": "stderr",
     "output_type": "stream",
     "text": [
      "TPR mean: 91.2%  std: 16.8%\n",
      "FDR mean: 4.8%  std: 14.9%\n"
     ]
    },
    {
     "name": "stdout",
     "output_type": "stream",
     "text": [
      "[[0.63039621 0.79552614]\n",
      " [0.61934548 0.80630427]\n",
      " [0.5924     0.7025    ]]\n",
      "rec time now 3 dataset now: Syn5\n"
     ]
    },
    {
     "name": "stderr",
     "output_type": "stream",
     "text": [
      "TPR mean: 91.2%  std: 16.8%\n",
      "FDR mean: 4.8%  std: 14.9%\n",
      "Epoch:      0, d_loss (Acc)): 0.504, v_loss (Acc): 0.000, g_loss: -5.1603\n"
     ]
    },
    {
     "name": "stdout",
     "output_type": "stream",
     "text": [
      "[[0.63039621 0.79552614]\n",
      " [0.61934548 0.80630427]\n",
      " [0.5924     0.7025    ]]\n",
      "now at training epoch number 9800 hyp-params: lamda 1.9600 prior 0.0100\n",
      "rec time now 0 dataset now: Syn5\n"
     ]
    },
    {
     "name": "stderr",
     "output_type": "stream",
     "text": [
      "TPR mean: 92.0%  std: 16.6%\n",
      "FDR mean: 8.5%  std: 19.0%\n"
     ]
    },
    {
     "name": "stdout",
     "output_type": "stream",
     "text": [
      "[[0.63004816 0.79194455]\n",
      " [0.62028811 0.80289576]\n",
      " [0.5931     0.7006    ]]\n",
      "rec time now 1 dataset now: Syn5\n"
     ]
    },
    {
     "name": "stderr",
     "output_type": "stream",
     "text": [
      "TPR mean: 91.1%  std: 17.0%\n",
      "FDR mean: 4.7%  std: 14.7%\n"
     ]
    },
    {
     "name": "stdout",
     "output_type": "stream",
     "text": [
      "[[0.63004816 0.79362371]\n",
      " [0.62028811 0.80418043]\n",
      " [0.5931     0.7028    ]]\n",
      "rec time now 2 dataset now: Syn5\n"
     ]
    },
    {
     "name": "stderr",
     "output_type": "stream",
     "text": [
      "TPR mean: 91.0%  std: 17.0%\n",
      "FDR mean: 4.6%  std: 14.6%\n"
     ]
    },
    {
     "name": "stdout",
     "output_type": "stream",
     "text": [
      "[[0.63004816 0.79359556]\n",
      " [0.62028811 0.8041442 ]\n",
      " [0.5931     0.7021    ]]\n",
      "rec time now 3 dataset now: Syn5\n"
     ]
    },
    {
     "name": "stderr",
     "output_type": "stream",
     "text": [
      "TPR mean: 91.0%  std: 17.0%\n",
      "FDR mean: 4.6%  std: 14.6%\n",
      "Epoch:      0, d_loss (Acc)): 0.525, v_loss (Acc): 0.000, g_loss: -4.5448\n"
     ]
    },
    {
     "name": "stdout",
     "output_type": "stream",
     "text": [
      "[[0.63004816 0.79358244]\n",
      " [0.62028811 0.80413373]\n",
      " [0.5931     0.7021    ]]\n",
      "now at training epoch number 9900 hyp-params: lamda 1.9800 prior 0.0050\n",
      "rec time now 0 dataset now: Syn5\n"
     ]
    },
    {
     "name": "stderr",
     "output_type": "stream",
     "text": [
      "TPR mean: 91.9%  std: 16.9%\n",
      "FDR mean: 8.1%  std: 18.6%\n"
     ]
    },
    {
     "name": "stdout",
     "output_type": "stream",
     "text": [
      "[[0.62990374 0.7936834 ]\n",
      " [0.6195359  0.80485361]\n",
      " [0.5936     0.7032    ]]\n",
      "rec time now 1 dataset now: Syn5\n"
     ]
    },
    {
     "name": "stderr",
     "output_type": "stream",
     "text": [
      "TPR mean: 90.8%  std: 17.4%\n",
      "FDR mean: 4.3%  std: 14.1%\n"
     ]
    },
    {
     "name": "stdout",
     "output_type": "stream",
     "text": [
      "[[0.62990374 0.79505989]\n",
      " [0.6195359  0.80589695]\n",
      " [0.5936     0.7022    ]]\n",
      "rec time now 2 dataset now: Syn5\n"
     ]
    },
    {
     "name": "stderr",
     "output_type": "stream",
     "text": [
      "TPR mean: 90.8%  std: 17.4%\n",
      "FDR mean: 4.2%  std: 14.0%\n"
     ]
    },
    {
     "name": "stdout",
     "output_type": "stream",
     "text": [
      "[[0.62990374 0.79509993]\n",
      " [0.6195359  0.80586934]\n",
      " [0.5936     0.7025    ]]\n",
      "rec time now 3 dataset now: Syn5\n"
     ]
    },
    {
     "name": "stderr",
     "output_type": "stream",
     "text": [
      "TPR mean: 90.8%  std: 17.4%\n",
      "FDR mean: 4.2%  std: 14.0%\n",
      "invase: Syn6 10000 . Y\n",
      "(10000, 100) (10000, 2) (10000, 100) (10000, 2)\n",
      "input shape: 100\n",
      "Epoch:      0, d_loss (Acc)): 0.810, v_loss (Acc): 0.802, g_loss: -0.5886\n"
     ]
    },
    {
     "name": "stdout",
     "output_type": "stream",
     "text": [
      "[[0.62990374 0.79509993]\n",
      " [0.6195359  0.80586934]\n",
      " [0.5936     0.7025    ]]\n",
      "PyTorch Version: elapsed time for Syn5: 100 feature, 10000 sample: [1081.6419 1078.2215] sec.\n",
      "now at training epoch number 0 hyp-params: lamda 0.0000 prior 0.5000\n",
      "rec time now 0 dataset now: Syn6\n"
     ]
    },
    {
     "name": "stderr",
     "output_type": "stream",
     "text": [
      "TPR mean: 55.1%  std: 22.7%\n",
      "FDR mean: 94.6%  std: 2.2%\n"
     ]
    },
    {
     "name": "stdout",
     "output_type": "stream",
     "text": [
      "[[0.66745966 0.63945924]\n",
      " [0.67916416 0.65680264]\n",
      " [0.6291     0.6106    ]]\n",
      "rec time now 1 dataset now: Syn6\n"
     ]
    },
    {
     "name": "stderr",
     "output_type": "stream",
     "text": [
      "TPR mean: 44.0%  std: 22.6%\n",
      "FDR mean: 94.4%  std: 2.8%\n"
     ]
    },
    {
     "name": "stdout",
     "output_type": "stream",
     "text": [
      "[[0.66745966 0.62917509]\n",
      " [0.67916416 0.64910797]\n",
      " [0.6291     0.6017    ]]\n",
      "rec time now 2 dataset now: Syn6\n"
     ]
    },
    {
     "name": "stderr",
     "output_type": "stream",
     "text": [
      "TPR mean: 39.7%  std: 22.4%\n",
      "FDR mean: 94.4%  std: 3.1%\n"
     ]
    },
    {
     "name": "stdout",
     "output_type": "stream",
     "text": [
      "[[0.66745966 0.62577751]\n",
      " [0.67916416 0.64668655]\n",
      " [0.6291     0.5989    ]]\n",
      "rec time now 3 dataset now: Syn6\n"
     ]
    },
    {
     "name": "stderr",
     "output_type": "stream",
     "text": [
      "TPR mean: 37.8%  std: 22.1%\n",
      "FDR mean: 94.3%  std: 3.3%\n",
      "Epoch:      0, d_loss (Acc)): 0.671, v_loss (Acc): 0.638, g_loss: -2.2808\n"
     ]
    },
    {
     "name": "stdout",
     "output_type": "stream",
     "text": [
      "[[0.66745966 0.62375722]\n",
      " [0.67916416 0.64346991]\n",
      " [0.6291     0.5981    ]]\n",
      "now at training epoch number 100 hyp-params: lamda 0.0200 prior 0.4950\n",
      "rec time now 0 dataset now: Syn6\n"
     ]
    },
    {
     "name": "stderr",
     "output_type": "stream",
     "text": [
      "TPR mean: 57.1%  std: 22.9%\n",
      "FDR mean: 94.4%  std: 2.2%\n"
     ]
    },
    {
     "name": "stdout",
     "output_type": "stream",
     "text": [
      "[[0.6716133  0.64944767]\n",
      " [0.68504444 0.66740559]\n",
      " [0.6338     0.613     ]]\n",
      "rec time now 1 dataset now: Syn6\n"
     ]
    },
    {
     "name": "stderr",
     "output_type": "stream",
     "text": [
      "TPR mean: 46.4%  std: 23.0%\n",
      "FDR mean: 94.2%  std: 2.8%\n"
     ]
    },
    {
     "name": "stdout",
     "output_type": "stream",
     "text": [
      "[[0.6716133  0.64820231]\n",
      " [0.68504444 0.66466914]\n",
      " [0.6338     0.616     ]]\n",
      "rec time now 2 dataset now: Syn6\n"
     ]
    },
    {
     "name": "stderr",
     "output_type": "stream",
     "text": [
      "TPR mean: 42.3%  std: 22.9%\n",
      "FDR mean: 94.0%  std: 3.2%\n"
     ]
    },
    {
     "name": "stdout",
     "output_type": "stream",
     "text": [
      "[[0.6716133  0.64450386]\n",
      " [0.68504444 0.66224161]\n",
      " [0.6338     0.6121    ]]\n",
      "rec time now 3 dataset now: Syn6\n"
     ]
    },
    {
     "name": "stderr",
     "output_type": "stream",
     "text": [
      "TPR mean: 40.5%  std: 22.9%\n",
      "FDR mean: 94.0%  std: 3.3%\n",
      "Epoch:      0, d_loss (Acc)): 0.675, v_loss (Acc): 0.643, g_loss: -2.2213\n"
     ]
    },
    {
     "name": "stdout",
     "output_type": "stream",
     "text": [
      "[[0.6716133  0.64350963]\n",
      " [0.68504444 0.66142306]\n",
      " [0.6338     0.6124    ]]\n",
      "now at training epoch number 200 hyp-params: lamda 0.0400 prior 0.4900\n",
      "rec time now 0 dataset now: Syn6\n"
     ]
    },
    {
     "name": "stderr",
     "output_type": "stream",
     "text": [
      "TPR mean: 59.4%  std: 23.0%\n",
      "FDR mean: 94.2%  std: 2.2%\n"
     ]
    },
    {
     "name": "stdout",
     "output_type": "stream",
     "text": [
      "[[0.67344037 0.65873142]\n",
      " [0.68268282 0.67499992]\n",
      " [0.6367     0.6246    ]]\n",
      "rec time now 1 dataset now: Syn6\n"
     ]
    },
    {
     "name": "stderr",
     "output_type": "stream",
     "text": [
      "TPR mean: 49.1%  std: 23.5%\n",
      "FDR mean: 93.9%  std: 2.9%\n"
     ]
    },
    {
     "name": "stdout",
     "output_type": "stream",
     "text": [
      "[[0.67344037 0.65776641]\n",
      " [0.68268282 0.67312028]\n",
      " [0.6367     0.6246    ]]\n",
      "rec time now 2 dataset now: Syn6\n"
     ]
    },
    {
     "name": "stderr",
     "output_type": "stream",
     "text": [
      "TPR mean: 45.4%  std: 23.7%\n",
      "FDR mean: 93.7%  std: 3.2%\n"
     ]
    },
    {
     "name": "stdout",
     "output_type": "stream",
     "text": [
      "[[0.67344037 0.65707954]\n",
      " [0.68268282 0.67238108]\n",
      " [0.6367     0.6213    ]]\n",
      "rec time now 3 dataset now: Syn6\n"
     ]
    },
    {
     "name": "stderr",
     "output_type": "stream",
     "text": [
      "TPR mean: 43.6%  std: 23.7%\n",
      "FDR mean: 93.6%  std: 3.4%\n",
      "Epoch:      0, d_loss (Acc)): 0.658, v_loss (Acc): 0.600, g_loss: -3.9778\n"
     ]
    },
    {
     "name": "stdout",
     "output_type": "stream",
     "text": [
      "[[0.67344037 0.65643498]\n",
      " [0.68268282 0.67241595]\n",
      " [0.6367     0.6212    ]]\n",
      "now at training epoch number 300 hyp-params: lamda 0.0600 prior 0.4850\n",
      "rec time now 0 dataset now: Syn6\n"
     ]
    },
    {
     "name": "stderr",
     "output_type": "stream",
     "text": [
      "TPR mean: 61.4%  std: 23.1%\n",
      "FDR mean: 94.0%  std: 2.2%\n"
     ]
    },
    {
     "name": "stdout",
     "output_type": "stream",
     "text": [
      "[[0.67463867 0.66727267]\n",
      " [0.6876655  0.68616415]\n",
      " [0.6334     0.6272    ]]\n",
      "rec time now 1 dataset now: Syn6\n"
     ]
    },
    {
     "name": "stderr",
     "output_type": "stream",
     "text": [
      "TPR mean: 51.5%  std: 23.9%\n",
      "FDR mean: 93.6%  std: 2.9%\n"
     ]
    },
    {
     "name": "stdout",
     "output_type": "stream",
     "text": [
      "[[0.67463867 0.66865018]\n",
      " [0.6876655  0.6846911 ]\n",
      " [0.6334     0.632     ]]\n",
      "rec time now 2 dataset now: Syn6\n"
     ]
    },
    {
     "name": "stderr",
     "output_type": "stream",
     "text": [
      "TPR mean: 47.7%  std: 24.0%\n",
      "FDR mean: 93.4%  std: 3.3%\n"
     ]
    },
    {
     "name": "stdout",
     "output_type": "stream",
     "text": [
      "[[0.67463867 0.66748521]\n",
      " [0.6876655  0.6842762 ]\n",
      " [0.6334     0.6294    ]]\n",
      "rec time now 3 dataset now: Syn6\n"
     ]
    },
    {
     "name": "stderr",
     "output_type": "stream",
     "text": [
      "TPR mean: 46.1%  std: 24.2%\n",
      "FDR mean: 93.3%  std: 3.5%\n",
      "Epoch:      0, d_loss (Acc)): 0.659, v_loss (Acc): 0.601, g_loss: -3.9148\n"
     ]
    },
    {
     "name": "stdout",
     "output_type": "stream",
     "text": [
      "[[0.67463867 0.66771962]\n",
      " [0.6876655  0.68442369]\n",
      " [0.6334     0.6301    ]]\n",
      "now at training epoch number 400 hyp-params: lamda 0.0800 prior 0.4800\n",
      "rec time now 0 dataset now: Syn6\n"
     ]
    },
    {
     "name": "stderr",
     "output_type": "stream",
     "text": [
      "TPR mean: 62.7%  std: 23.1%\n",
      "FDR mean: 93.9%  std: 2.2%\n"
     ]
    },
    {
     "name": "stdout",
     "output_type": "stream",
     "text": [
      "[[0.67669893 0.67421115]\n",
      " [0.69296675 0.691135  ]\n",
      " [0.6365     0.6352    ]]\n",
      "rec time now 1 dataset now: Syn6\n"
     ]
    },
    {
     "name": "stderr",
     "output_type": "stream",
     "text": [
      "TPR mean: 53.1%  std: 24.4%\n",
      "FDR mean: 93.4%  std: 3.0%\n"
     ]
    },
    {
     "name": "stdout",
     "output_type": "stream",
     "text": [
      "[[0.67669893 0.67447822]\n",
      " [0.69296675 0.6907315 ]\n",
      " [0.6365     0.6355    ]]\n",
      "rec time now 2 dataset now: Syn6\n"
     ]
    },
    {
     "name": "stderr",
     "output_type": "stream",
     "text": [
      "TPR mean: 49.4%  std: 24.7%\n",
      "FDR mean: 93.1%  std: 3.4%\n"
     ]
    },
    {
     "name": "stdout",
     "output_type": "stream",
     "text": [
      "[[0.67669893 0.6747586 ]\n",
      " [0.69296675 0.69165231]\n",
      " [0.6365     0.6353    ]]\n",
      "rec time now 3 dataset now: Syn6\n"
     ]
    },
    {
     "name": "stderr",
     "output_type": "stream",
     "text": [
      "TPR mean: 47.7%  std: 24.8%\n",
      "FDR mean: 93.0%  std: 3.6%\n",
      "Epoch:      0, d_loss (Acc)): 0.664, v_loss (Acc): 0.581, g_loss: -5.6930\n"
     ]
    },
    {
     "name": "stdout",
     "output_type": "stream",
     "text": [
      "[[0.67669893 0.67474828]\n",
      " [0.69296675 0.69075579]\n",
      " [0.6365     0.6346    ]]\n",
      "now at training epoch number 500 hyp-params: lamda 0.1000 prior 0.4750\n",
      "rec time now 0 dataset now: Syn6\n"
     ]
    },
    {
     "name": "stderr",
     "output_type": "stream",
     "text": [
      "TPR mean: 64.4%  std: 23.1%\n",
      "FDR mean: 93.7%  std: 2.2%\n"
     ]
    },
    {
     "name": "stdout",
     "output_type": "stream",
     "text": [
      "[[0.67787366 0.68288723]\n",
      " [0.6904275  0.69943788]\n",
      " [0.6406     0.6423    ]]\n",
      "rec time now 1 dataset now: Syn6\n"
     ]
    },
    {
     "name": "stderr",
     "output_type": "stream",
     "text": [
      "TPR mean: 55.0%  std: 24.6%\n",
      "FDR mean: 93.2%  std: 3.0%\n"
     ]
    },
    {
     "name": "stdout",
     "output_type": "stream",
     "text": [
      "[[0.67787366 0.68391139]\n",
      " [0.6904275  0.69743484]\n",
      " [0.6406     0.642     ]]\n",
      "rec time now 2 dataset now: Syn6\n"
     ]
    },
    {
     "name": "stderr",
     "output_type": "stream",
     "text": [
      "TPR mean: 51.5%  std: 25.1%\n",
      "FDR mean: 92.9%  std: 3.4%\n"
     ]
    },
    {
     "name": "stdout",
     "output_type": "stream",
     "text": [
      "[[0.67787366 0.6858675 ]\n",
      " [0.6904275  0.69898028]\n",
      " [0.6406     0.6451    ]]\n",
      "rec time now 3 dataset now: Syn6\n"
     ]
    },
    {
     "name": "stderr",
     "output_type": "stream",
     "text": [
      "TPR mean: 49.9%  std: 25.3%\n",
      "FDR mean: 92.7%  std: 3.6%\n",
      "Epoch:      0, d_loss (Acc)): 0.645, v_loss (Acc): 0.571, g_loss: -5.0386\n"
     ]
    },
    {
     "name": "stdout",
     "output_type": "stream",
     "text": [
      "[[0.67787366 0.68487825]\n",
      " [0.6904275  0.69851181]\n",
      " [0.6406     0.6415    ]]\n",
      "now at training epoch number 600 hyp-params: lamda 0.1200 prior 0.4700\n",
      "rec time now 0 dataset now: Syn6\n"
     ]
    },
    {
     "name": "stderr",
     "output_type": "stream",
     "text": [
      "TPR mean: 66.2%  std: 23.3%\n",
      "FDR mean: 93.6%  std: 2.3%\n"
     ]
    },
    {
     "name": "stdout",
     "output_type": "stream",
     "text": [
      "[[0.67472021 0.68772291]\n",
      " [0.69281282 0.70323305]\n",
      " [0.6353     0.6452    ]]\n",
      "rec time now 1 dataset now: Syn6\n"
     ]
    },
    {
     "name": "stderr",
     "output_type": "stream",
     "text": [
      "TPR mean: 57.1%  std: 25.1%\n",
      "FDR mean: 92.9%  std: 3.1%\n"
     ]
    },
    {
     "name": "stdout",
     "output_type": "stream",
     "text": [
      "[[0.67472021 0.68872132]\n",
      " [0.69281282 0.70299882]\n",
      " [0.6353     0.646     ]]\n",
      "rec time now 2 dataset now: Syn6\n"
     ]
    },
    {
     "name": "stderr",
     "output_type": "stream",
     "text": [
      "TPR mean: 53.8%  std: 25.7%\n",
      "FDR mean: 92.6%  std: 3.5%\n"
     ]
    },
    {
     "name": "stdout",
     "output_type": "stream",
     "text": [
      "[[0.67472021 0.68988018]\n",
      " [0.69281282 0.70477864]\n",
      " [0.6353     0.6507    ]]\n",
      "rec time now 3 dataset now: Syn6\n"
     ]
    },
    {
     "name": "stderr",
     "output_type": "stream",
     "text": [
      "TPR mean: 52.3%  std: 25.9%\n",
      "FDR mean: 92.4%  std: 3.7%\n",
      "Epoch:      0, d_loss (Acc)): 0.635, v_loss (Acc): 0.534, g_loss: -6.9139\n"
     ]
    },
    {
     "name": "stdout",
     "output_type": "stream",
     "text": [
      "[[0.67472021 0.68965736]\n",
      " [0.69281282 0.703955  ]\n",
      " [0.6353     0.6475    ]]\n",
      "now at training epoch number 700 hyp-params: lamda 0.1400 prior 0.4650\n",
      "rec time now 0 dataset now: Syn6\n"
     ]
    },
    {
     "name": "stderr",
     "output_type": "stream",
     "text": [
      "TPR mean: 68.2%  std: 23.1%\n",
      "FDR mean: 93.4%  std: 2.2%\n"
     ]
    },
    {
     "name": "stdout",
     "output_type": "stream",
     "text": [
      "[[0.67262717 0.69274091]\n",
      " [0.69097657 0.70883743]\n",
      " [0.6338     0.6488    ]]\n",
      "rec time now 1 dataset now: Syn6\n"
     ]
    },
    {
     "name": "stderr",
     "output_type": "stream",
     "text": [
      "TPR mean: 59.5%  std: 25.1%\n",
      "FDR mean: 92.6%  std: 3.1%\n"
     ]
    },
    {
     "name": "stdout",
     "output_type": "stream",
     "text": [
      "[[0.67262717 0.69466186]\n",
      " [0.69097657 0.70865333]\n",
      " [0.6338     0.6486    ]]\n",
      "rec time now 2 dataset now: Syn6\n"
     ]
    },
    {
     "name": "stderr",
     "output_type": "stream",
     "text": [
      "TPR mean: 56.3%  std: 25.8%\n",
      "FDR mean: 92.3%  std: 3.5%\n"
     ]
    },
    {
     "name": "stdout",
     "output_type": "stream",
     "text": [
      "[[0.67262717 0.69455476]\n",
      " [0.69097657 0.70765221]\n",
      " [0.6338     0.6475    ]]\n",
      "rec time now 3 dataset now: Syn6\n"
     ]
    },
    {
     "name": "stderr",
     "output_type": "stream",
     "text": [
      "TPR mean: 54.8%  std: 26.1%\n",
      "FDR mean: 92.1%  std: 3.7%\n",
      "Epoch:      0, d_loss (Acc)): 0.636, v_loss (Acc): 0.520, g_loss: -7.9601\n"
     ]
    },
    {
     "name": "stdout",
     "output_type": "stream",
     "text": [
      "[[0.67262717 0.69426032]\n",
      " [0.69097657 0.70741159]\n",
      " [0.6338     0.6501    ]]\n",
      "now at training epoch number 800 hyp-params: lamda 0.1600 prior 0.4600\n",
      "rec time now 0 dataset now: Syn6\n"
     ]
    },
    {
     "name": "stderr",
     "output_type": "stream",
     "text": [
      "TPR mean: 69.7%  std: 22.9%\n",
      "FDR mean: 93.2%  std: 2.2%\n"
     ]
    },
    {
     "name": "stdout",
     "output_type": "stream",
     "text": [
      "[[0.67414689 0.70096269]\n",
      " [0.69538805 0.71983978]\n",
      " [0.6354     0.651     ]]\n",
      "rec time now 1 dataset now: Syn6\n"
     ]
    },
    {
     "name": "stderr",
     "output_type": "stream",
     "text": [
      "TPR mean: 61.3%  std: 25.2%\n",
      "FDR mean: 92.4%  std: 3.1%\n"
     ]
    },
    {
     "name": "stdout",
     "output_type": "stream",
     "text": [
      "[[0.67414689 0.70134326]\n",
      " [0.69538805 0.7166532 ]\n",
      " [0.6354     0.6524    ]]\n",
      "rec time now 2 dataset now: Syn6\n"
     ]
    },
    {
     "name": "stderr",
     "output_type": "stream",
     "text": [
      "TPR mean: 58.1%  std: 26.0%\n",
      "FDR mean: 92.0%  std: 3.5%\n"
     ]
    },
    {
     "name": "stdout",
     "output_type": "stream",
     "text": [
      "[[0.67414689 0.70260885]\n",
      " [0.69538805 0.71854574]\n",
      " [0.6354     0.6544    ]]\n",
      "rec time now 3 dataset now: Syn6\n"
     ]
    },
    {
     "name": "stderr",
     "output_type": "stream",
     "text": [
      "TPR mean: 56.7%  std: 26.3%\n",
      "FDR mean: 91.8%  std: 3.8%\n",
      "Epoch:      0, d_loss (Acc)): 0.630, v_loss (Acc): 0.481, g_loss: -10.1918\n"
     ]
    },
    {
     "name": "stdout",
     "output_type": "stream",
     "text": [
      "[[0.67414689 0.70213998]\n",
      " [0.69538805 0.71782846]\n",
      " [0.6354     0.6529    ]]\n",
      "now at training epoch number 900 hyp-params: lamda 0.1800 prior 0.4550\n",
      "rec time now 0 dataset now: Syn6\n"
     ]
    },
    {
     "name": "stderr",
     "output_type": "stream",
     "text": [
      "TPR mean: 71.1%  std: 22.6%\n",
      "FDR mean: 93.0%  std: 2.2%\n"
     ]
    },
    {
     "name": "stdout",
     "output_type": "stream",
     "text": [
      "[[0.67305557 0.70458137]\n",
      " [0.69705238 0.7221544 ]\n",
      " [0.6278     0.6538    ]]\n",
      "rec time now 1 dataset now: Syn6\n"
     ]
    },
    {
     "name": "stderr",
     "output_type": "stream",
     "text": [
      "TPR mean: 63.1%  std: 25.0%\n",
      "FDR mean: 92.1%  std: 3.1%\n"
     ]
    },
    {
     "name": "stdout",
     "output_type": "stream",
     "text": [
      "[[0.67305557 0.70778107]\n",
      " [0.69705238 0.72328135]\n",
      " [0.6278     0.6603    ]]\n",
      "rec time now 2 dataset now: Syn6\n"
     ]
    },
    {
     "name": "stderr",
     "output_type": "stream",
     "text": [
      "TPR mean: 59.9%  std: 25.9%\n",
      "FDR mean: 91.7%  std: 3.6%\n"
     ]
    },
    {
     "name": "stdout",
     "output_type": "stream",
     "text": [
      "[[0.67305557 0.70842817]\n",
      " [0.69705238 0.72244236]\n",
      " [0.6278     0.6589    ]]\n",
      "rec time now 3 dataset now: Syn6\n"
     ]
    },
    {
     "name": "stderr",
     "output_type": "stream",
     "text": [
      "TPR mean: 58.6%  std: 26.2%\n",
      "FDR mean: 91.4%  std: 3.8%\n",
      "Epoch:      0, d_loss (Acc)): 0.614, v_loss (Acc): 0.449, g_loss: -11.2545\n"
     ]
    },
    {
     "name": "stdout",
     "output_type": "stream",
     "text": [
      "[[0.67305557 0.70862385]\n",
      " [0.69705238 0.722381  ]\n",
      " [0.6278     0.6589    ]]\n",
      "now at training epoch number 1000 hyp-params: lamda 0.2000 prior 0.4500\n",
      "rec time now 0 dataset now: Syn6\n"
     ]
    },
    {
     "name": "stderr",
     "output_type": "stream",
     "text": [
      "TPR mean: 73.3%  std: 21.9%\n",
      "FDR mean: 92.8%  std: 2.2%\n"
     ]
    },
    {
     "name": "stdout",
     "output_type": "stream",
     "text": [
      "[[0.67583266 0.71261377]\n",
      " [0.69995286 0.73033708]\n",
      " [0.6294     0.6593    ]]\n",
      "rec time now 1 dataset now: Syn6\n"
     ]
    },
    {
     "name": "stderr",
     "output_type": "stream",
     "text": [
      "TPR mean: 65.6%  std: 24.3%\n",
      "FDR mean: 91.8%  std: 3.0%\n"
     ]
    },
    {
     "name": "stdout",
     "output_type": "stream",
     "text": [
      "[[0.67583266 0.71513205]\n",
      " [0.69995286 0.73114996]\n",
      " [0.6294     0.6625    ]]\n",
      "rec time now 2 dataset now: Syn6\n"
     ]
    },
    {
     "name": "stderr",
     "output_type": "stream",
     "text": [
      "TPR mean: 62.7%  std: 25.1%\n",
      "FDR mean: 91.3%  std: 3.5%\n"
     ]
    },
    {
     "name": "stdout",
     "output_type": "stream",
     "text": [
      "[[0.67583266 0.71620555]\n",
      " [0.69995286 0.73107417]\n",
      " [0.6294     0.6634    ]]\n",
      "rec time now 3 dataset now: Syn6\n"
     ]
    },
    {
     "name": "stderr",
     "output_type": "stream",
     "text": [
      "TPR mean: 61.4%  std: 25.5%\n",
      "FDR mean: 91.0%  std: 3.7%\n",
      "Epoch:      0, d_loss (Acc)): 0.627, v_loss (Acc): 0.434, g_loss: -13.1574\n"
     ]
    },
    {
     "name": "stdout",
     "output_type": "stream",
     "text": [
      "[[0.67583266 0.7162114 ]\n",
      " [0.69995286 0.7297536 ]\n",
      " [0.6294     0.6622    ]]\n",
      "now at training epoch number 1100 hyp-params: lamda 0.2200 prior 0.4450\n",
      "rec time now 0 dataset now: Syn6\n"
     ]
    },
    {
     "name": "stderr",
     "output_type": "stream",
     "text": [
      "TPR mean: 75.2%  std: 21.1%\n",
      "FDR mean: 92.5%  std: 2.1%\n"
     ]
    },
    {
     "name": "stdout",
     "output_type": "stream",
     "text": [
      "[[0.66889217 0.7199364 ]\n",
      " [0.69547191 0.74030529]\n",
      " [0.623      0.6665    ]]\n",
      "rec time now 1 dataset now: Syn6\n"
     ]
    },
    {
     "name": "stderr",
     "output_type": "stream",
     "text": [
      "TPR mean: 68.0%  std: 23.5%\n",
      "FDR mean: 91.3%  std: 3.0%\n"
     ]
    },
    {
     "name": "stdout",
     "output_type": "stream",
     "text": [
      "[[0.66889217 0.72312192]\n",
      " [0.69547191 0.74052006]\n",
      " [0.623      0.6687    ]]\n",
      "rec time now 2 dataset now: Syn6\n"
     ]
    },
    {
     "name": "stderr",
     "output_type": "stream",
     "text": [
      "TPR mean: 65.2%  std: 24.4%\n",
      "FDR mean: 90.7%  std: 3.5%\n"
     ]
    },
    {
     "name": "stdout",
     "output_type": "stream",
     "text": [
      "[[0.66889217 0.72457377]\n",
      " [0.69547191 0.74065007]\n",
      " [0.623      0.6698    ]]\n",
      "rec time now 3 dataset now: Syn6\n"
     ]
    },
    {
     "name": "stderr",
     "output_type": "stream",
     "text": [
      "TPR mean: 63.9%  std: 24.8%\n",
      "FDR mean: 90.4%  std: 3.7%\n",
      "Epoch:      0, d_loss (Acc)): 0.593, v_loss (Acc): 0.387, g_loss: -14.0260\n"
     ]
    },
    {
     "name": "stdout",
     "output_type": "stream",
     "text": [
      "[[0.66889217 0.7245495 ]\n",
      " [0.69547191 0.73973695]\n",
      " [0.623      0.6699    ]]\n",
      "now at training epoch number 1200 hyp-params: lamda 0.2400 prior 0.4400\n",
      "rec time now 0 dataset now: Syn6\n"
     ]
    },
    {
     "name": "stderr",
     "output_type": "stream",
     "text": [
      "TPR mean: 77.5%  std: 20.3%\n",
      "FDR mean: 92.2%  std: 2.1%\n"
     ]
    },
    {
     "name": "stdout",
     "output_type": "stream",
     "text": [
      "[[0.671063   0.72657769]\n",
      " [0.69954807 0.74630743]\n",
      " [0.6245     0.6668    ]]\n",
      "rec time now 1 dataset now: Syn6\n"
     ]
    },
    {
     "name": "stderr",
     "output_type": "stream",
     "text": [
      "TPR mean: 70.9%  std: 22.8%\n",
      "FDR mean: 90.9%  std: 3.0%\n"
     ]
    },
    {
     "name": "stdout",
     "output_type": "stream",
     "text": [
      "[[0.671063   0.72942128]\n",
      " [0.69954807 0.74482096]\n",
      " [0.6245     0.6742    ]]\n",
      "rec time now 2 dataset now: Syn6\n"
     ]
    },
    {
     "name": "stderr",
     "output_type": "stream",
     "text": [
      "TPR mean: 68.4%  std: 23.7%\n",
      "FDR mean: 90.2%  std: 3.4%\n"
     ]
    },
    {
     "name": "stdout",
     "output_type": "stream",
     "text": [
      "[[0.671063   0.73115898]\n",
      " [0.69954807 0.74553827]\n",
      " [0.6245     0.6757    ]]\n",
      "rec time now 3 dataset now: Syn6\n"
     ]
    },
    {
     "name": "stderr",
     "output_type": "stream",
     "text": [
      "TPR mean: 67.3%  std: 24.2%\n",
      "FDR mean: 89.8%  std: 3.7%\n",
      "Epoch:      0, d_loss (Acc)): 0.631, v_loss (Acc): 0.374, g_loss: -17.5078\n"
     ]
    },
    {
     "name": "stdout",
     "output_type": "stream",
     "text": [
      "[[0.671063   0.73091684]\n",
      " [0.69954807 0.7451387 ]\n",
      " [0.6245     0.676     ]]\n",
      "now at training epoch number 1300 hyp-params: lamda 0.2600 prior 0.4350\n",
      "rec time now 0 dataset now: Syn6\n"
     ]
    },
    {
     "name": "stderr",
     "output_type": "stream",
     "text": [
      "TPR mean: 79.5%  std: 19.8%\n",
      "FDR mean: 91.9%  std: 2.1%\n"
     ]
    },
    {
     "name": "stdout",
     "output_type": "stream",
     "text": [
      "[[0.66719128 0.73574851]\n",
      " [0.69192733 0.75229564]\n",
      " [0.6264     0.6749    ]]\n",
      "rec time now 1 dataset now: Syn6\n"
     ]
    },
    {
     "name": "stderr",
     "output_type": "stream",
     "text": [
      "TPR mean: 73.5%  std: 22.5%\n",
      "FDR mean: 90.3%  std: 3.0%\n"
     ]
    },
    {
     "name": "stdout",
     "output_type": "stream",
     "text": [
      "[[0.66719128 0.7396894 ]\n",
      " [0.69192733 0.7523058 ]\n",
      " [0.6264     0.6823    ]]\n",
      "rec time now 2 dataset now: Syn6\n"
     ]
    },
    {
     "name": "stderr",
     "output_type": "stream",
     "text": [
      "TPR mean: 71.1%  std: 23.4%\n",
      "FDR mean: 89.5%  std: 3.5%\n"
     ]
    },
    {
     "name": "stdout",
     "output_type": "stream",
     "text": [
      "[[0.66719128 0.73994194]\n",
      " [0.69192733 0.75182884]\n",
      " [0.6264     0.6851    ]]\n",
      "rec time now 3 dataset now: Syn6\n"
     ]
    },
    {
     "name": "stderr",
     "output_type": "stream",
     "text": [
      "TPR mean: 70.2%  std: 23.8%\n",
      "FDR mean: 89.1%  std: 3.8%\n",
      "Epoch:      0, d_loss (Acc)): 0.593, v_loss (Acc): 0.351, g_loss: -16.4608\n"
     ]
    },
    {
     "name": "stdout",
     "output_type": "stream",
     "text": [
      "[[0.66719128 0.74074816]\n",
      " [0.69192733 0.75223178]\n",
      " [0.6264     0.6834    ]]\n",
      "now at training epoch number 1400 hyp-params: lamda 0.2800 prior 0.4300\n",
      "rec time now 0 dataset now: Syn6\n"
     ]
    },
    {
     "name": "stderr",
     "output_type": "stream",
     "text": [
      "TPR mean: 81.3%  std: 19.3%\n",
      "FDR mean: 91.6%  std: 2.1%\n"
     ]
    },
    {
     "name": "stdout",
     "output_type": "stream",
     "text": [
      "[[0.671391   0.7437162 ]\n",
      " [0.69765939 0.76202833]\n",
      " [0.6241     0.6807    ]]\n",
      "rec time now 1 dataset now: Syn6\n"
     ]
    },
    {
     "name": "stderr",
     "output_type": "stream",
     "text": [
      "TPR mean: 75.6%  std: 22.1%\n",
      "FDR mean: 89.9%  std: 3.1%\n"
     ]
    },
    {
     "name": "stdout",
     "output_type": "stream",
     "text": [
      "[[0.671391   0.74577343]\n",
      " [0.69765939 0.76125359]\n",
      " [0.6241     0.6835    ]]\n",
      "rec time now 2 dataset now: Syn6\n"
     ]
    },
    {
     "name": "stderr",
     "output_type": "stream",
     "text": [
      "TPR mean: 73.5%  std: 23.2%\n",
      "FDR mean: 88.9%  std: 3.6%\n"
     ]
    },
    {
     "name": "stdout",
     "output_type": "stream",
     "text": [
      "[[0.671391   0.74620313]\n",
      " [0.69765939 0.76117334]\n",
      " [0.6241     0.6845    ]]\n",
      "rec time now 3 dataset now: Syn6\n"
     ]
    },
    {
     "name": "stderr",
     "output_type": "stream",
     "text": [
      "TPR mean: 72.5%  std: 23.6%\n",
      "FDR mean: 88.5%  std: 3.9%\n",
      "Epoch:      0, d_loss (Acc)): 0.594, v_loss (Acc): 0.315, g_loss: -18.9707\n"
     ]
    },
    {
     "name": "stdout",
     "output_type": "stream",
     "text": [
      "[[0.671391   0.74723025]\n",
      " [0.69765939 0.76148415]\n",
      " [0.6241     0.6902    ]]\n",
      "now at training epoch number 1500 hyp-params: lamda 0.3000 prior 0.4250\n",
      "rec time now 0 dataset now: Syn6\n"
     ]
    },
    {
     "name": "stderr",
     "output_type": "stream",
     "text": [
      "TPR mean: 83.8%  std: 18.8%\n",
      "FDR mean: 91.2%  std: 2.2%\n"
     ]
    },
    {
     "name": "stdout",
     "output_type": "stream",
     "text": [
      "[[0.66694517 0.75318947]\n",
      " [0.69522303 0.76969457]\n",
      " [0.6236     0.6905    ]]\n",
      "rec time now 1 dataset now: Syn6\n"
     ]
    },
    {
     "name": "stderr",
     "output_type": "stream",
     "text": [
      "TPR mean: 79.1%  std: 21.6%\n",
      "FDR mean: 89.1%  std: 3.2%\n"
     ]
    },
    {
     "name": "stdout",
     "output_type": "stream",
     "text": [
      "[[0.66694517 0.75706539]\n",
      " [0.69522303 0.77081865]\n",
      " [0.6236     0.6918    ]]\n",
      "rec time now 2 dataset now: Syn6\n"
     ]
    },
    {
     "name": "stderr",
     "output_type": "stream",
     "text": [
      "TPR mean: 77.2%  std: 22.8%\n",
      "FDR mean: 88.1%  std: 3.7%\n"
     ]
    },
    {
     "name": "stdout",
     "output_type": "stream",
     "text": [
      "[[0.66694517 0.7569259 ]\n",
      " [0.69522303 0.77194124]\n",
      " [0.6236     0.6941    ]]\n",
      "rec time now 3 dataset now: Syn6\n"
     ]
    },
    {
     "name": "stderr",
     "output_type": "stream",
     "text": [
      "TPR mean: 76.5%  std: 23.1%\n",
      "FDR mean: 87.5%  std: 4.0%\n",
      "Epoch:      0, d_loss (Acc)): 0.585, v_loss (Acc): 0.272, g_loss: -21.2428\n"
     ]
    },
    {
     "name": "stdout",
     "output_type": "stream",
     "text": [
      "[[0.66694517 0.75683178]\n",
      " [0.69522303 0.77102903]\n",
      " [0.6236     0.695     ]]\n",
      "now at training epoch number 1600 hyp-params: lamda 0.3200 prior 0.4200\n",
      "rec time now 0 dataset now: Syn6\n"
     ]
    },
    {
     "name": "stderr",
     "output_type": "stream",
     "text": [
      "TPR mean: 85.9%  std: 17.8%\n",
      "FDR mean: 90.9%  std: 2.1%\n"
     ]
    },
    {
     "name": "stdout",
     "output_type": "stream",
     "text": [
      "[[0.66766165 0.75939419]\n",
      " [0.69300381 0.77566146]\n",
      " [0.6229     0.6942    ]]\n",
      "rec time now 1 dataset now: Syn6\n"
     ]
    },
    {
     "name": "stderr",
     "output_type": "stream",
     "text": [
      "TPR mean: 81.9%  std: 20.6%\n",
      "FDR mean: 88.5%  std: 3.2%\n"
     ]
    },
    {
     "name": "stdout",
     "output_type": "stream",
     "text": [
      "[[0.66766165 0.76547768]\n",
      " [0.69300381 0.77698132]\n",
      " [0.6229     0.6994    ]]\n",
      "rec time now 2 dataset now: Syn6\n"
     ]
    },
    {
     "name": "stderr",
     "output_type": "stream",
     "text": [
      "TPR mean: 80.3%  std: 21.5%\n",
      "FDR mean: 87.3%  std: 3.7%\n"
     ]
    },
    {
     "name": "stdout",
     "output_type": "stream",
     "text": [
      "[[0.66766165 0.76473618]\n",
      " [0.69300381 0.77684981]\n",
      " [0.6229     0.7015    ]]\n",
      "rec time now 3 dataset now: Syn6\n"
     ]
    },
    {
     "name": "stderr",
     "output_type": "stream",
     "text": [
      "TPR mean: 79.6%  std: 22.0%\n",
      "FDR mean: 86.7%  std: 4.0%\n",
      "Epoch:      0, d_loss (Acc)): 0.566, v_loss (Acc): 0.255, g_loss: -21.1102\n"
     ]
    },
    {
     "name": "stdout",
     "output_type": "stream",
     "text": [
      "[[0.66766165 0.76384909]\n",
      " [0.69300381 0.77532668]\n",
      " [0.6229     0.7025    ]]\n",
      "now at training epoch number 1700 hyp-params: lamda 0.3400 prior 0.4150\n",
      "rec time now 0 dataset now: Syn6\n"
     ]
    },
    {
     "name": "stderr",
     "output_type": "stream",
     "text": [
      "TPR mean: 87.4%  std: 16.9%\n",
      "FDR mean: 90.6%  std: 2.1%\n"
     ]
    },
    {
     "name": "stdout",
     "output_type": "stream",
     "text": [
      "[[0.67075907 0.76418536]\n",
      " [0.69675813 0.78204151]\n",
      " [0.624      0.6948    ]]\n",
      "rec time now 1 dataset now: Syn6\n"
     ]
    },
    {
     "name": "stderr",
     "output_type": "stream",
     "text": [
      "TPR mean: 83.8%  std: 19.6%\n",
      "FDR mean: 88.0%  std: 3.1%\n"
     ]
    },
    {
     "name": "stdout",
     "output_type": "stream",
     "text": [
      "[[0.67075907 0.76951002]\n",
      " [0.69675813 0.78595526]\n",
      " [0.624      0.7047    ]]\n",
      "rec time now 2 dataset now: Syn6\n"
     ]
    },
    {
     "name": "stderr",
     "output_type": "stream",
     "text": [
      "TPR mean: 82.5%  std: 20.4%\n",
      "FDR mean: 86.7%  std: 3.7%\n"
     ]
    },
    {
     "name": "stdout",
     "output_type": "stream",
     "text": [
      "[[0.67075907 0.76876519]\n",
      " [0.69675813 0.78404341]\n",
      " [0.624      0.7063    ]]\n",
      "rec time now 3 dataset now: Syn6\n"
     ]
    },
    {
     "name": "stderr",
     "output_type": "stream",
     "text": [
      "TPR mean: 82.0%  std: 20.7%\n",
      "FDR mean: 86.0%  std: 4.0%\n",
      "Epoch:      0, d_loss (Acc)): 0.582, v_loss (Acc): 0.237, g_loss: -23.4143\n"
     ]
    },
    {
     "name": "stdout",
     "output_type": "stream",
     "text": [
      "[[0.67075907 0.76862307]\n",
      " [0.69675813 0.78326042]\n",
      " [0.624      0.706     ]]\n",
      "now at training epoch number 1800 hyp-params: lamda 0.3600 prior 0.4100\n",
      "rec time now 0 dataset now: Syn6\n"
     ]
    },
    {
     "name": "stderr",
     "output_type": "stream",
     "text": [
      "TPR mean: 88.6%  std: 16.2%\n",
      "FDR mean: 90.2%  std: 2.1%\n"
     ]
    },
    {
     "name": "stdout",
     "output_type": "stream",
     "text": [
      "[[0.66574796 0.76852637]\n",
      " [0.68967239 0.78294286]\n",
      " [0.627      0.7019    ]]\n",
      "rec time now 1 dataset now: Syn6\n"
     ]
    },
    {
     "name": "stderr",
     "output_type": "stream",
     "text": [
      "TPR mean: 85.5%  std: 18.8%\n",
      "FDR mean: 87.4%  std: 3.2%\n"
     ]
    },
    {
     "name": "stdout",
     "output_type": "stream",
     "text": [
      "[[0.66574796 0.77471275]\n",
      " [0.68967239 0.78750789]\n",
      " [0.627      0.7056    ]]\n",
      "rec time now 2 dataset now: Syn6\n"
     ]
    },
    {
     "name": "stderr",
     "output_type": "stream",
     "text": [
      "TPR mean: 84.3%  std: 19.6%\n",
      "FDR mean: 85.9%  std: 3.8%\n"
     ]
    },
    {
     "name": "stdout",
     "output_type": "stream",
     "text": [
      "[[0.66574796 0.77593531]\n",
      " [0.68967239 0.78900394]\n",
      " [0.627      0.7074    ]]\n",
      "rec time now 3 dataset now: Syn6\n"
     ]
    },
    {
     "name": "stderr",
     "output_type": "stream",
     "text": [
      "TPR mean: 83.9%  std: 19.9%\n",
      "FDR mean: 85.1%  std: 4.2%\n",
      "Epoch:      0, d_loss (Acc)): 0.553, v_loss (Acc): 0.195, g_loss: -24.3031\n"
     ]
    },
    {
     "name": "stdout",
     "output_type": "stream",
     "text": [
      "[[0.66574796 0.77495096]\n",
      " [0.68967239 0.78800362]\n",
      " [0.627      0.7057    ]]\n",
      "now at training epoch number 1900 hyp-params: lamda 0.3800 prior 0.4050\n",
      "rec time now 0 dataset now: Syn6\n"
     ]
    },
    {
     "name": "stderr",
     "output_type": "stream",
     "text": [
      "TPR mean: 89.7%  std: 15.5%\n",
      "FDR mean: 89.8%  std: 2.2%\n"
     ]
    },
    {
     "name": "stdout",
     "output_type": "stream",
     "text": [
      "[[0.66519534 0.7747903 ]\n",
      " [0.69110205 0.78981057]\n",
      " [0.6221     0.7091    ]]\n",
      "rec time now 1 dataset now: Syn6\n"
     ]
    },
    {
     "name": "stderr",
     "output_type": "stream",
     "text": [
      "TPR mean: 86.9%  std: 18.0%\n",
      "FDR mean: 86.6%  std: 3.4%\n"
     ]
    },
    {
     "name": "stdout",
     "output_type": "stream",
     "text": [
      "[[0.66519534 0.77963971]\n",
      " [0.69110205 0.79405636]\n",
      " [0.6221     0.7113    ]]\n",
      "rec time now 2 dataset now: Syn6\n"
     ]
    },
    {
     "name": "stderr",
     "output_type": "stream",
     "text": [
      "TPR mean: 86.0%  std: 18.8%\n",
      "FDR mean: 85.0%  std: 4.1%\n"
     ]
    },
    {
     "name": "stdout",
     "output_type": "stream",
     "text": [
      "[[0.66519534 0.77983468]\n",
      " [0.69110205 0.79420964]\n",
      " [0.6221     0.7119    ]]\n",
      "rec time now 3 dataset now: Syn6\n"
     ]
    },
    {
     "name": "stderr",
     "output_type": "stream",
     "text": [
      "TPR mean: 85.6%  std: 19.1%\n",
      "FDR mean: 84.1%  std: 4.4%\n",
      "Epoch:      0, d_loss (Acc)): 0.546, v_loss (Acc): 0.184, g_loss: -24.4936\n"
     ]
    },
    {
     "name": "stdout",
     "output_type": "stream",
     "text": [
      "[[0.66519534 0.77880562]\n",
      " [0.69110205 0.79264328]\n",
      " [0.6221     0.7145    ]]\n",
      "now at training epoch number 2000 hyp-params: lamda 0.4000 prior 0.4000\n",
      "rec time now 0 dataset now: Syn6\n"
     ]
    },
    {
     "name": "stderr",
     "output_type": "stream",
     "text": [
      "TPR mean: 90.8%  std: 14.8%\n",
      "FDR mean: 89.4%  std: 2.3%\n"
     ]
    },
    {
     "name": "stdout",
     "output_type": "stream",
     "text": [
      "[[0.66694332 0.77947401]\n",
      " [0.6923124  0.79696947]\n",
      " [0.6251     0.7078    ]]\n",
      "rec time now 1 dataset now: Syn6\n"
     ]
    },
    {
     "name": "stderr",
     "output_type": "stream",
     "text": [
      "TPR mean: 88.4%  std: 17.1%\n",
      "FDR mean: 85.9%  std: 3.6%\n"
     ]
    },
    {
     "name": "stdout",
     "output_type": "stream",
     "text": [
      "[[0.66694332 0.78381975]\n",
      " [0.6923124  0.79954952]\n",
      " [0.6251     0.7094    ]]\n",
      "rec time now 2 dataset now: Syn6\n"
     ]
    },
    {
     "name": "stderr",
     "output_type": "stream",
     "text": [
      "TPR mean: 87.5%  std: 17.8%\n",
      "FDR mean: 84.0%  std: 4.3%\n"
     ]
    },
    {
     "name": "stdout",
     "output_type": "stream",
     "text": [
      "[[0.66694332 0.783144  ]\n",
      " [0.6923124  0.79923593]\n",
      " [0.6251     0.708     ]]\n",
      "rec time now 3 dataset now: Syn6\n"
     ]
    },
    {
     "name": "stderr",
     "output_type": "stream",
     "text": [
      "TPR mean: 87.2%  std: 18.1%\n",
      "FDR mean: 83.1%  std: 4.7%\n",
      "Epoch:      0, d_loss (Acc)): 0.541, v_loss (Acc): 0.167, g_loss: -25.1850\n"
     ]
    },
    {
     "name": "stdout",
     "output_type": "stream",
     "text": [
      "[[0.66694332 0.78287141]\n",
      " [0.6923124  0.79811651]\n",
      " [0.6251     0.7072    ]]\n",
      "now at training epoch number 2100 hyp-params: lamda 0.4200 prior 0.3950\n",
      "rec time now 0 dataset now: Syn6\n"
     ]
    },
    {
     "name": "stderr",
     "output_type": "stream",
     "text": [
      "TPR mean: 91.7%  std: 14.3%\n",
      "FDR mean: 89.0%  std: 2.5%\n"
     ]
    },
    {
     "name": "stdout",
     "output_type": "stream",
     "text": [
      "[[0.66582032 0.78495005]\n",
      " [0.69192321 0.80234332]\n",
      " [0.6198     0.715     ]]\n",
      "rec time now 1 dataset now: Syn6\n"
     ]
    },
    {
     "name": "stderr",
     "output_type": "stream",
     "text": [
      "TPR mean: 89.6%  std: 16.4%\n",
      "FDR mean: 85.0%  std: 3.9%\n"
     ]
    },
    {
     "name": "stdout",
     "output_type": "stream",
     "text": [
      "[[0.66582032 0.79252229]\n",
      " [0.69192321 0.80672272]\n",
      " [0.6198     0.7184    ]]\n",
      "rec time now 2 dataset now: Syn6\n"
     ]
    },
    {
     "name": "stderr",
     "output_type": "stream",
     "text": [
      "TPR mean: 88.9%  std: 17.2%\n",
      "FDR mean: 83.0%  std: 4.6%\n"
     ]
    },
    {
     "name": "stdout",
     "output_type": "stream",
     "text": [
      "[[0.66582032 0.79246973]\n",
      " [0.69192321 0.80625546]\n",
      " [0.6198     0.7181    ]]\n",
      "rec time now 3 dataset now: Syn6\n"
     ]
    },
    {
     "name": "stderr",
     "output_type": "stream",
     "text": [
      "TPR mean: 88.6%  std: 17.5%\n",
      "FDR mean: 82.1%  std: 5.0%\n",
      "Epoch:      0, d_loss (Acc)): 0.550, v_loss (Acc): 0.150, g_loss: -26.9333\n"
     ]
    },
    {
     "name": "stdout",
     "output_type": "stream",
     "text": [
      "[[0.66582032 0.79221759]\n",
      " [0.69192321 0.80569024]\n",
      " [0.6198     0.7163    ]]\n",
      "now at training epoch number 2200 hyp-params: lamda 0.4400 prior 0.3900\n",
      "rec time now 0 dataset now: Syn6\n"
     ]
    },
    {
     "name": "stderr",
     "output_type": "stream",
     "text": [
      "TPR mean: 92.8%  std: 13.4%\n",
      "FDR mean: 88.5%  std: 2.7%\n"
     ]
    },
    {
     "name": "stdout",
     "output_type": "stream",
     "text": [
      "[[0.66549651 0.79087809]\n",
      " [0.69029419 0.80661528]\n",
      " [0.6233     0.7208    ]]\n",
      "rec time now 1 dataset now: Syn6\n"
     ]
    },
    {
     "name": "stderr",
     "output_type": "stream",
     "text": [
      "TPR mean: 91.0%  std: 15.4%\n",
      "FDR mean: 84.1%  std: 4.2%\n"
     ]
    },
    {
     "name": "stdout",
     "output_type": "stream",
     "text": [
      "[[0.66549651 0.79647827]\n",
      " [0.69029419 0.81017628]\n",
      " [0.6233     0.7238    ]]\n",
      "rec time now 2 dataset now: Syn6\n"
     ]
    },
    {
     "name": "stderr",
     "output_type": "stream",
     "text": [
      "TPR mean: 90.4%  std: 16.0%\n",
      "FDR mean: 81.9%  std: 5.0%\n"
     ]
    },
    {
     "name": "stdout",
     "output_type": "stream",
     "text": [
      "[[0.66549651 0.79667675]\n",
      " [0.69029419 0.80946859]\n",
      " [0.6233     0.7238    ]]\n",
      "rec time now 3 dataset now: Syn6\n"
     ]
    },
    {
     "name": "stderr",
     "output_type": "stream",
     "text": [
      "TPR mean: 90.1%  std: 16.3%\n",
      "FDR mean: 80.8%  std: 5.4%\n",
      "Epoch:      0, d_loss (Acc)): 0.566, v_loss (Acc): 0.150, g_loss: -27.9917\n"
     ]
    },
    {
     "name": "stdout",
     "output_type": "stream",
     "text": [
      "[[0.66549651 0.79677734]\n",
      " [0.69029419 0.80907818]\n",
      " [0.6233     0.7231    ]]\n",
      "now at training epoch number 2300 hyp-params: lamda 0.4600 prior 0.3850\n",
      "rec time now 0 dataset now: Syn6\n"
     ]
    },
    {
     "name": "stderr",
     "output_type": "stream",
     "text": [
      "TPR mean: 93.5%  std: 12.8%\n",
      "FDR mean: 88.0%  std: 2.8%\n"
     ]
    },
    {
     "name": "stdout",
     "output_type": "stream",
     "text": [
      "[[0.66826852 0.79669327]\n",
      " [0.69388359 0.81125842]\n",
      " [0.6214     0.7232    ]]\n",
      "rec time now 1 dataset now: Syn6\n"
     ]
    },
    {
     "name": "stderr",
     "output_type": "stream",
     "text": [
      "TPR mean: 91.9%  std: 14.5%\n",
      "FDR mean: 83.2%  std: 4.5%\n"
     ]
    },
    {
     "name": "stdout",
     "output_type": "stream",
     "text": [
      "[[0.66826852 0.80228863]\n",
      " [0.69388359 0.81511905]\n",
      " [0.6214     0.7272    ]]\n",
      "rec time now 2 dataset now: Syn6\n"
     ]
    },
    {
     "name": "stderr",
     "output_type": "stream",
     "text": [
      "TPR mean: 91.4%  std: 15.1%\n",
      "FDR mean: 80.7%  std: 5.3%\n"
     ]
    },
    {
     "name": "stdout",
     "output_type": "stream",
     "text": [
      "[[0.66826852 0.80314882]\n",
      " [0.69388359 0.81530273]\n",
      " [0.6214     0.7282    ]]\n",
      "rec time now 3 dataset now: Syn6\n"
     ]
    },
    {
     "name": "stderr",
     "output_type": "stream",
     "text": [
      "TPR mean: 91.2%  std: 15.3%\n",
      "FDR mean: 79.6%  std: 5.8%\n",
      "Epoch:      0, d_loss (Acc)): 0.539, v_loss (Acc): 0.110, g_loss: -28.9094\n"
     ]
    },
    {
     "name": "stdout",
     "output_type": "stream",
     "text": [
      "[[0.66826852 0.80358028]\n",
      " [0.69388359 0.8152936 ]\n",
      " [0.6214     0.7285    ]]\n",
      "now at training epoch number 2400 hyp-params: lamda 0.4800 prior 0.3800\n",
      "rec time now 0 dataset now: Syn6\n"
     ]
    },
    {
     "name": "stderr",
     "output_type": "stream",
     "text": [
      "TPR mean: 94.1%  std: 12.2%\n",
      "FDR mean: 87.5%  std: 3.0%\n"
     ]
    },
    {
     "name": "stdout",
     "output_type": "stream",
     "text": [
      "[[0.66501642 0.79722389]\n",
      " [0.6916684  0.81466628]\n",
      " [0.62       0.7239    ]]\n",
      "rec time now 1 dataset now: Syn6\n"
     ]
    },
    {
     "name": "stderr",
     "output_type": "stream",
     "text": [
      "TPR mean: 92.7%  std: 13.8%\n",
      "FDR mean: 82.1%  std: 4.9%\n"
     ]
    },
    {
     "name": "stdout",
     "output_type": "stream",
     "text": [
      "[[0.66501642 0.80298494]\n",
      " [0.6916684  0.81823614]\n",
      " [0.62       0.7267    ]]\n",
      "rec time now 2 dataset now: Syn6\n"
     ]
    },
    {
     "name": "stderr",
     "output_type": "stream",
     "text": [
      "TPR mean: 92.3%  std: 14.3%\n",
      "FDR mean: 79.5%  std: 5.7%\n"
     ]
    },
    {
     "name": "stdout",
     "output_type": "stream",
     "text": [
      "[[0.66501642 0.80283021]\n",
      " [0.6916684  0.81745607]\n",
      " [0.62       0.7265    ]]\n",
      "rec time now 3 dataset now: Syn6\n"
     ]
    },
    {
     "name": "stderr",
     "output_type": "stream",
     "text": [
      "TPR mean: 92.1%  std: 14.5%\n",
      "FDR mean: 78.2%  std: 6.3%\n",
      "Epoch:      0, d_loss (Acc)): 0.509, v_loss (Acc): 0.095, g_loss: -27.7949\n"
     ]
    },
    {
     "name": "stdout",
     "output_type": "stream",
     "text": [
      "[[0.66501642 0.80351764]\n",
      " [0.6916684  0.81808116]\n",
      " [0.62       0.7245    ]]\n",
      "now at training epoch number 2500 hyp-params: lamda 0.5000 prior 0.3750\n",
      "rec time now 0 dataset now: Syn6\n"
     ]
    },
    {
     "name": "stderr",
     "output_type": "stream",
     "text": [
      "TPR mean: 94.8%  std: 11.6%\n",
      "FDR mean: 86.8%  std: 3.4%\n"
     ]
    },
    {
     "name": "stdout",
     "output_type": "stream",
     "text": [
      "[[0.66578074 0.80504334]\n",
      " [0.69184172 0.82060383]\n",
      " [0.6207     0.7339    ]]\n",
      "rec time now 1 dataset now: Syn6\n"
     ]
    },
    {
     "name": "stderr",
     "output_type": "stream",
     "text": [
      "TPR mean: 93.6%  std: 13.1%\n",
      "FDR mean: 80.8%  std: 5.6%\n"
     ]
    },
    {
     "name": "stdout",
     "output_type": "stream",
     "text": [
      "[[0.66578074 0.80863884]\n",
      " [0.69184172 0.82292853]\n",
      " [0.6207     0.7306    ]]\n",
      "rec time now 2 dataset now: Syn6\n"
     ]
    },
    {
     "name": "stderr",
     "output_type": "stream",
     "text": [
      "TPR mean: 93.2%  std: 13.7%\n",
      "FDR mean: 77.9%  std: 6.5%\n"
     ]
    },
    {
     "name": "stdout",
     "output_type": "stream",
     "text": [
      "[[0.66578074 0.80787129]\n",
      " [0.69184172 0.82240604]\n",
      " [0.6207     0.7277    ]]\n",
      "rec time now 3 dataset now: Syn6\n"
     ]
    },
    {
     "name": "stderr",
     "output_type": "stream",
     "text": [
      "TPR mean: 93.1%  std: 13.9%\n",
      "FDR mean: 76.6%  std: 7.0%\n",
      "Epoch:      0, d_loss (Acc)): 0.514, v_loss (Acc): 0.091, g_loss: -28.3093\n"
     ]
    },
    {
     "name": "stdout",
     "output_type": "stream",
     "text": [
      "[[0.66578074 0.80852121]\n",
      " [0.69184172 0.82300309]\n",
      " [0.6207     0.7267    ]]\n",
      "now at training epoch number 2600 hyp-params: lamda 0.5200 prior 0.3700\n",
      "rec time now 0 dataset now: Syn6\n"
     ]
    },
    {
     "name": "stderr",
     "output_type": "stream",
     "text": [
      "TPR mean: 95.0%  std: 11.2%\n",
      "FDR mean: 86.4%  std: 3.5%\n"
     ]
    },
    {
     "name": "stdout",
     "output_type": "stream",
     "text": [
      "[[0.66648676 0.81214301]\n",
      " [0.69107388 0.82618853]\n",
      " [0.6226     0.7395    ]]\n",
      "rec time now 1 dataset now: Syn6\n"
     ]
    },
    {
     "name": "stderr",
     "output_type": "stream",
     "text": [
      "TPR mean: 93.8%  std: 12.7%\n",
      "FDR mean: 79.9%  std: 5.9%\n"
     ]
    },
    {
     "name": "stdout",
     "output_type": "stream",
     "text": [
      "[[0.66648676 0.81664845]\n",
      " [0.69107388 0.82924717]\n",
      " [0.6226     0.7384    ]]\n",
      "rec time now 2 dataset now: Syn6\n"
     ]
    },
    {
     "name": "stderr",
     "output_type": "stream",
     "text": [
      "TPR mean: 93.4%  std: 13.1%\n",
      "FDR mean: 76.7%  std: 6.8%\n"
     ]
    },
    {
     "name": "stdout",
     "output_type": "stream",
     "text": [
      "[[0.66648676 0.81661066]\n",
      " [0.69107388 0.82940252]\n",
      " [0.6226     0.7384    ]]\n",
      "rec time now 3 dataset now: Syn6\n"
     ]
    },
    {
     "name": "stderr",
     "output_type": "stream",
     "text": [
      "TPR mean: 93.3%  std: 13.3%\n",
      "FDR mean: 75.3%  std: 7.3%\n",
      "Epoch:      0, d_loss (Acc)): 0.503, v_loss (Acc): 0.080, g_loss: -28.2603\n"
     ]
    },
    {
     "name": "stdout",
     "output_type": "stream",
     "text": [
      "[[0.66648676 0.81651243]\n",
      " [0.69107388 0.82954574]\n",
      " [0.6226     0.7369    ]]\n",
      "now at training epoch number 2700 hyp-params: lamda 0.5400 prior 0.3650\n",
      "rec time now 0 dataset now: Syn6\n"
     ]
    },
    {
     "name": "stderr",
     "output_type": "stream",
     "text": [
      "TPR mean: 95.4%  std: 10.8%\n",
      "FDR mean: 85.8%  std: 3.8%\n"
     ]
    },
    {
     "name": "stdout",
     "output_type": "stream",
     "text": [
      "[[0.66647262 0.80987275]\n",
      " [0.69267571 0.82302213]\n",
      " [0.6195     0.7358    ]]\n",
      "rec time now 1 dataset now: Syn6\n"
     ]
    },
    {
     "name": "stderr",
     "output_type": "stream",
     "text": [
      "TPR mean: 94.4%  std: 12.2%\n",
      "FDR mean: 78.8%  std: 6.2%\n"
     ]
    },
    {
     "name": "stdout",
     "output_type": "stream",
     "text": [
      "[[0.66647262 0.81040022]\n",
      " [0.69267571 0.82409381]\n",
      " [0.6195     0.7334    ]]\n",
      "rec time now 2 dataset now: Syn6\n"
     ]
    },
    {
     "name": "stderr",
     "output_type": "stream",
     "text": [
      "TPR mean: 94.1%  std: 12.6%\n",
      "FDR mean: 75.5%  std: 7.3%\n"
     ]
    },
    {
     "name": "stdout",
     "output_type": "stream",
     "text": [
      "[[0.66647262 0.81036223]\n",
      " [0.69267571 0.82395993]\n",
      " [0.6195     0.729     ]]\n",
      "rec time now 3 dataset now: Syn6\n"
     ]
    },
    {
     "name": "stderr",
     "output_type": "stream",
     "text": [
      "TPR mean: 94.0%  std: 12.7%\n",
      "FDR mean: 74.2%  std: 7.7%\n",
      "Epoch:      0, d_loss (Acc)): 0.497, v_loss (Acc): 0.082, g_loss: -27.5865\n"
     ]
    },
    {
     "name": "stdout",
     "output_type": "stream",
     "text": [
      "[[0.66647262 0.80945167]\n",
      " [0.69267571 0.82327297]\n",
      " [0.6195     0.7259    ]]\n",
      "now at training epoch number 2800 hyp-params: lamda 0.5600 prior 0.3600\n",
      "rec time now 0 dataset now: Syn6\n"
     ]
    },
    {
     "name": "stderr",
     "output_type": "stream",
     "text": [
      "TPR mean: 95.7%  std: 10.3%\n",
      "FDR mean: 84.9%  std: 4.3%\n"
     ]
    },
    {
     "name": "stdout",
     "output_type": "stream",
     "text": [
      "[[0.66338972 0.81170543]\n",
      " [0.68935281 0.82485873]\n",
      " [0.6177     0.7337    ]]\n",
      "rec time now 1 dataset now: Syn6\n"
     ]
    },
    {
     "name": "stderr",
     "output_type": "stream",
     "text": [
      "TPR mean: 94.8%  std: 11.6%\n",
      "FDR mean: 77.1%  std: 6.9%\n"
     ]
    },
    {
     "name": "stdout",
     "output_type": "stream",
     "text": [
      "[[0.66338972 0.8129176 ]\n",
      " [0.68935281 0.82660379]\n",
      " [0.6177     0.7318    ]]\n",
      "rec time now 2 dataset now: Syn6\n"
     ]
    },
    {
     "name": "stderr",
     "output_type": "stream",
     "text": [
      "TPR mean: 94.5%  std: 12.0%\n",
      "FDR mean: 73.6%  std: 8.0%\n"
     ]
    },
    {
     "name": "stdout",
     "output_type": "stream",
     "text": [
      "[[0.66338972 0.811921  ]\n",
      " [0.68935281 0.82579458]\n",
      " [0.6177     0.7261    ]]\n",
      "rec time now 3 dataset now: Syn6\n"
     ]
    },
    {
     "name": "stderr",
     "output_type": "stream",
     "text": [
      "TPR mean: 94.4%  std: 12.1%\n",
      "FDR mean: 72.2%  std: 8.5%\n",
      "Epoch:      0, d_loss (Acc)): 0.534, v_loss (Acc): 0.059, g_loss: -31.5715\n"
     ]
    },
    {
     "name": "stdout",
     "output_type": "stream",
     "text": [
      "[[0.66338972 0.8118583 ]\n",
      " [0.68935281 0.82555815]\n",
      " [0.6177     0.7259    ]]\n",
      "now at training epoch number 2900 hyp-params: lamda 0.5800 prior 0.3550\n",
      "rec time now 0 dataset now: Syn6\n"
     ]
    },
    {
     "name": "stderr",
     "output_type": "stream",
     "text": [
      "TPR mean: 95.8%  std: 10.3%\n",
      "FDR mean: 83.7%  std: 4.9%\n"
     ]
    },
    {
     "name": "stdout",
     "output_type": "stream",
     "text": [
      "[[0.66455292 0.82197913]\n",
      " [0.69076035 0.83383092]\n",
      " [0.6187     0.7469    ]]\n",
      "rec time now 1 dataset now: Syn6\n"
     ]
    },
    {
     "name": "stderr",
     "output_type": "stream",
     "text": [
      "TPR mean: 94.9%  std: 11.5%\n",
      "FDR mean: 74.7%  std: 8.1%\n"
     ]
    },
    {
     "name": "stdout",
     "output_type": "stream",
     "text": [
      "[[0.66455292 0.8239712 ]\n",
      " [0.69076035 0.83544936]\n",
      " [0.6187     0.742     ]]\n",
      "rec time now 2 dataset now: Syn6\n"
     ]
    },
    {
     "name": "stderr",
     "output_type": "stream",
     "text": [
      "TPR mean: 94.7%  std: 11.8%\n",
      "FDR mean: 70.7%  std: 9.3%\n"
     ]
    },
    {
     "name": "stdout",
     "output_type": "stream",
     "text": [
      "[[0.66455292 0.82176337]\n",
      " [0.69076035 0.83364977]\n",
      " [0.6187     0.7388    ]]\n",
      "rec time now 3 dataset now: Syn6\n"
     ]
    },
    {
     "name": "stderr",
     "output_type": "stream",
     "text": [
      "TPR mean: 94.6%  std: 11.9%\n",
      "FDR mean: 69.3%  std: 9.9%\n",
      "Epoch:      0, d_loss (Acc)): 0.479, v_loss (Acc): 0.051, g_loss: -28.4092\n"
     ]
    },
    {
     "name": "stdout",
     "output_type": "stream",
     "text": [
      "[[0.66455292 0.82038393]\n",
      " [0.69076035 0.83239239]\n",
      " [0.6187     0.7354    ]]\n",
      "now at training epoch number 3000 hyp-params: lamda 0.6000 prior 0.3500\n",
      "rec time now 0 dataset now: Syn6\n"
     ]
    },
    {
     "name": "stderr",
     "output_type": "stream",
     "text": [
      "TPR mean: 96.2%  std: 10.0%\n",
      "FDR mean: 82.3%  std: 5.7%\n"
     ]
    },
    {
     "name": "stdout",
     "output_type": "stream",
     "text": [
      "[[0.66172566 0.82182949]\n",
      " [0.68712308 0.83438968]\n",
      " [0.617      0.7452    ]]\n",
      "rec time now 1 dataset now: Syn6\n"
     ]
    },
    {
     "name": "stderr",
     "output_type": "stream",
     "text": [
      "TPR mean: 95.6%  std: 11.0%\n",
      "FDR mean: 71.9%  std: 9.5%\n"
     ]
    },
    {
     "name": "stdout",
     "output_type": "stream",
     "text": [
      "[[0.66172566 0.82213382]\n",
      " [0.68712308 0.83369695]\n",
      " [0.617      0.7404    ]]\n",
      "rec time now 2 dataset now: Syn6\n"
     ]
    },
    {
     "name": "stderr",
     "output_type": "stream",
     "text": [
      "TPR mean: 95.3%  std: 11.3%\n",
      "FDR mean: 67.6%  std: 10.7%\n"
     ]
    },
    {
     "name": "stdout",
     "output_type": "stream",
     "text": [
      "[[0.66172566 0.81970632]\n",
      " [0.68712308 0.83192728]\n",
      " [0.617      0.7353    ]]\n",
      "rec time now 3 dataset now: Syn6\n"
     ]
    },
    {
     "name": "stderr",
     "output_type": "stream",
     "text": [
      "TPR mean: 95.2%  std: 11.5%\n",
      "FDR mean: 66.1%  std: 11.2%\n",
      "Epoch:      0, d_loss (Acc)): 0.496, v_loss (Acc): 0.047, g_loss: -29.5558\n"
     ]
    },
    {
     "name": "stdout",
     "output_type": "stream",
     "text": [
      "[[0.66172566 0.81832668]\n",
      " [0.68712308 0.83097362]\n",
      " [0.617      0.7341    ]]\n",
      "now at training epoch number 3100 hyp-params: lamda 0.6200 prior 0.3450\n",
      "rec time now 0 dataset now: Syn6\n"
     ]
    },
    {
     "name": "stderr",
     "output_type": "stream",
     "text": [
      "TPR mean: 96.8%  std: 9.5%\n",
      "FDR mean: 81.2%  std: 6.1%\n"
     ]
    },
    {
     "name": "stdout",
     "output_type": "stream",
     "text": [
      "[[0.66237165 0.82736442]\n",
      " [0.68829975 0.83941793]\n",
      " [0.6171     0.7515    ]]\n",
      "rec time now 1 dataset now: Syn6\n"
     ]
    },
    {
     "name": "stderr",
     "output_type": "stream",
     "text": [
      "TPR mean: 96.2%  std: 10.2%\n",
      "FDR mean: 70.1%  std: 9.9%\n"
     ]
    },
    {
     "name": "stdout",
     "output_type": "stream",
     "text": [
      "[[0.66237165 0.82752358]\n",
      " [0.68829975 0.83939022]\n",
      " [0.6171     0.7468    ]]\n",
      "rec time now 2 dataset now: Syn6\n"
     ]
    },
    {
     "name": "stderr",
     "output_type": "stream",
     "text": [
      "TPR mean: 96.1%  std: 10.4%\n",
      "FDR mean: 65.9%  std: 11.2%\n"
     ]
    },
    {
     "name": "stdout",
     "output_type": "stream",
     "text": [
      "[[0.66237165 0.82352774]\n",
      " [0.68829975 0.83584887]\n",
      " [0.6171     0.7415    ]]\n",
      "rec time now 3 dataset now: Syn6\n"
     ]
    },
    {
     "name": "stderr",
     "output_type": "stream",
     "text": [
      "TPR mean: 96.0%  std: 10.5%\n",
      "FDR mean: 64.5%  std: 11.7%\n",
      "Epoch:      0, d_loss (Acc)): 0.493, v_loss (Acc): 0.040, g_loss: -29.8347\n"
     ]
    },
    {
     "name": "stdout",
     "output_type": "stream",
     "text": [
      "[[0.66237165 0.82139367]\n",
      " [0.68829975 0.83380943]\n",
      " [0.6171     0.7389    ]]\n",
      "now at training epoch number 3200 hyp-params: lamda 0.6400 prior 0.3400\n",
      "rec time now 0 dataset now: Syn6\n"
     ]
    },
    {
     "name": "stderr",
     "output_type": "stream",
     "text": [
      "TPR mean: 97.1%  std: 8.9%\n",
      "FDR mean: 79.6%  std: 7.0%\n"
     ]
    },
    {
     "name": "stdout",
     "output_type": "stream",
     "text": [
      "[[0.66212543 0.82711922]\n",
      " [0.68732946 0.83884029]\n",
      " [0.618      0.7504    ]]\n",
      "rec time now 1 dataset now: Syn6\n"
     ]
    },
    {
     "name": "stderr",
     "output_type": "stream",
     "text": [
      "TPR mean: 96.7%  std: 9.5%\n",
      "FDR mean: 67.3%  std: 11.3%\n"
     ]
    },
    {
     "name": "stdout",
     "output_type": "stream",
     "text": [
      "[[0.66212543 0.82336213]\n",
      " [0.68732946 0.83553115]\n",
      " [0.618      0.7408    ]]\n",
      "rec time now 2 dataset now: Syn6\n"
     ]
    },
    {
     "name": "stderr",
     "output_type": "stream",
     "text": [
      "TPR mean: 96.6%  std: 9.7%\n",
      "FDR mean: 63.0%  std: 12.6%\n"
     ]
    },
    {
     "name": "stdout",
     "output_type": "stream",
     "text": [
      "[[0.66212543 0.81965848]\n",
      " [0.68732946 0.83192029]\n",
      " [0.618      0.7331    ]]\n",
      "rec time now 3 dataset now: Syn6\n"
     ]
    },
    {
     "name": "stderr",
     "output_type": "stream",
     "text": [
      "TPR mean: 96.6%  std: 9.7%\n",
      "FDR mean: 61.7%  std: 13.0%\n",
      "Epoch:      0, d_loss (Acc)): 0.498, v_loss (Acc): 0.034, g_loss: -30.4449\n"
     ]
    },
    {
     "name": "stdout",
     "output_type": "stream",
     "text": [
      "[[0.66212543 0.81867549]\n",
      " [0.68732946 0.83108624]\n",
      " [0.618      0.732     ]]\n",
      "now at training epoch number 3300 hyp-params: lamda 0.6600 prior 0.3350\n",
      "rec time now 0 dataset now: Syn6\n"
     ]
    },
    {
     "name": "stderr",
     "output_type": "stream",
     "text": [
      "TPR mean: 97.7%  std: 8.1%\n",
      "FDR mean: 77.9%  std: 7.6%\n"
     ]
    },
    {
     "name": "stdout",
     "output_type": "stream",
     "text": [
      "[[0.66143324 0.82781925]\n",
      " [0.68665493 0.83898238]\n",
      " [0.6158     0.7491    ]]\n",
      "rec time now 1 dataset now: Syn6\n"
     ]
    },
    {
     "name": "stderr",
     "output_type": "stream",
     "text": [
      "TPR mean: 97.4%  std: 8.6%\n",
      "FDR mean: 64.4%  std: 12.0%\n"
     ]
    },
    {
     "name": "stdout",
     "output_type": "stream",
     "text": [
      "[[0.66143324 0.82082115]\n",
      " [0.68665493 0.83300683]\n",
      " [0.6158     0.7372    ]]\n",
      "rec time now 2 dataset now: Syn6\n"
     ]
    },
    {
     "name": "stderr",
     "output_type": "stream",
     "text": [
      "TPR mean: 97.4%  std: 8.7%\n",
      "FDR mean: 60.2%  std: 13.2%\n"
     ]
    },
    {
     "name": "stdout",
     "output_type": "stream",
     "text": [
      "[[0.66143324 0.81760048]\n",
      " [0.68665493 0.82990027]\n",
      " [0.6158     0.73      ]]\n",
      "rec time now 3 dataset now: Syn6\n"
     ]
    },
    {
     "name": "stderr",
     "output_type": "stream",
     "text": [
      "TPR mean: 97.3%  std: 8.7%\n",
      "FDR mean: 59.0%  std: 13.6%\n",
      "Epoch:      0, d_loss (Acc)): 0.480, v_loss (Acc): 0.029, g_loss: -29.4179\n"
     ]
    },
    {
     "name": "stdout",
     "output_type": "stream",
     "text": [
      "[[0.66143324 0.81657173]\n",
      " [0.68665493 0.82906724]\n",
      " [0.6158     0.7295    ]]\n",
      "now at training epoch number 3400 hyp-params: lamda 0.6800 prior 0.3300\n",
      "rec time now 0 dataset now: Syn6\n"
     ]
    },
    {
     "name": "stderr",
     "output_type": "stream",
     "text": [
      "TPR mean: 98.1%  std: 7.2%\n",
      "FDR mean: 76.3%  std: 8.0%\n"
     ]
    },
    {
     "name": "stdout",
     "output_type": "stream",
     "text": [
      "[[0.66149557 0.82495949]\n",
      " [0.68843096 0.8359131 ]\n",
      " [0.6148     0.7471    ]]\n",
      "rec time now 1 dataset now: Syn6\n"
     ]
    },
    {
     "name": "stderr",
     "output_type": "stream",
     "text": [
      "TPR mean: 97.9%  std: 7.6%\n",
      "FDR mean: 62.1%  std: 12.4%\n"
     ]
    },
    {
     "name": "stdout",
     "output_type": "stream",
     "text": [
      "[[0.66149557 0.81355093]\n",
      " [0.68843096 0.82659901]\n",
      " [0.6148     0.7301    ]]\n",
      "rec time now 2 dataset now: Syn6\n"
     ]
    },
    {
     "name": "stderr",
     "output_type": "stream",
     "text": [
      "TPR mean: 97.9%  std: 7.7%\n",
      "FDR mean: 58.1%  std: 13.4%\n"
     ]
    },
    {
     "name": "stdout",
     "output_type": "stream",
     "text": [
      "[[0.66149557 0.80843288]\n",
      " [0.68843096 0.82227243]\n",
      " [0.6148     0.7226    ]]\n",
      "rec time now 3 dataset now: Syn6\n"
     ]
    },
    {
     "name": "stderr",
     "output_type": "stream",
     "text": [
      "TPR mean: 97.8%  std: 7.7%\n",
      "FDR mean: 57.1%  std: 13.7%\n",
      "Epoch:      0, d_loss (Acc)): 0.486, v_loss (Acc): 0.028, g_loss: -29.6987\n"
     ]
    },
    {
     "name": "stdout",
     "output_type": "stream",
     "text": [
      "[[0.66149557 0.8072311 ]\n",
      " [0.68843096 0.82132373]\n",
      " [0.6148     0.7218    ]]\n",
      "now at training epoch number 3500 hyp-params: lamda 0.7000 prior 0.3250\n",
      "rec time now 0 dataset now: Syn6\n"
     ]
    },
    {
     "name": "stderr",
     "output_type": "stream",
     "text": [
      "TPR mean: 98.4%  std: 6.6%\n",
      "FDR mean: 74.2%  std: 8.5%\n"
     ]
    },
    {
     "name": "stdout",
     "output_type": "stream",
     "text": [
      "[[0.66085065 0.83086896]\n",
      " [0.68680361 0.8407167 ]\n",
      " [0.6127     0.7515    ]]\n",
      "rec time now 1 dataset now: Syn6\n"
     ]
    },
    {
     "name": "stderr",
     "output_type": "stream",
     "text": [
      "TPR mean: 98.2%  std: 6.9%\n",
      "FDR mean: 59.6%  std: 12.6%\n"
     ]
    },
    {
     "name": "stdout",
     "output_type": "stream",
     "text": [
      "[[0.66085065 0.82004804]\n",
      " [0.68680361 0.83158356]\n",
      " [0.6127     0.7354    ]]\n",
      "rec time now 2 dataset now: Syn6\n"
     ]
    },
    {
     "name": "stderr",
     "output_type": "stream",
     "text": [
      "TPR mean: 98.2%  std: 7.0%\n",
      "FDR mean: 56.1%  std: 13.5%\n"
     ]
    },
    {
     "name": "stdout",
     "output_type": "stream",
     "text": [
      "[[0.66085065 0.81620749]\n",
      " [0.68680361 0.82789295]\n",
      " [0.6127     0.7302    ]]\n",
      "rec time now 3 dataset now: Syn6\n"
     ]
    },
    {
     "name": "stderr",
     "output_type": "stream",
     "text": [
      "TPR mean: 98.2%  std: 7.0%\n",
      "FDR mean: 55.4%  std: 13.7%\n",
      "Epoch:      0, d_loss (Acc)): 0.490, v_loss (Acc): 0.021, g_loss: -30.3263\n"
     ]
    },
    {
     "name": "stdout",
     "output_type": "stream",
     "text": [
      "[[0.66085065 0.81523735]\n",
      " [0.68680361 0.8269202 ]\n",
      " [0.6127     0.7282    ]]\n",
      "now at training epoch number 3600 hyp-params: lamda 0.7200 prior 0.3200\n",
      "rec time now 0 dataset now: Syn6\n"
     ]
    },
    {
     "name": "stderr",
     "output_type": "stream",
     "text": [
      "TPR mean: 98.6%  std: 6.1%\n",
      "FDR mean: 71.3%  std: 9.9%\n"
     ]
    },
    {
     "name": "stdout",
     "output_type": "stream",
     "text": [
      "[[0.66033126 0.82952686]\n",
      " [0.68580665 0.84028619]\n",
      " [0.615      0.7496    ]]\n",
      "rec time now 1 dataset now: Syn6\n"
     ]
    },
    {
     "name": "stderr",
     "output_type": "stream",
     "text": [
      "TPR mean: 98.4%  std: 6.4%\n",
      "FDR mean: 55.1%  std: 14.5%\n"
     ]
    },
    {
     "name": "stdout",
     "output_type": "stream",
     "text": [
      "[[0.66033126 0.81734643]\n",
      " [0.68580665 0.83008512]\n",
      " [0.615      0.7311    ]]\n",
      "rec time now 2 dataset now: Syn6\n"
     ]
    },
    {
     "name": "stderr",
     "output_type": "stream",
     "text": [
      "TPR mean: 98.4%  std: 6.4%\n",
      "FDR mean: 51.6%  std: 15.3%\n"
     ]
    },
    {
     "name": "stdout",
     "output_type": "stream",
     "text": [
      "[[0.66033126 0.81299204]\n",
      " [0.68580665 0.82611095]\n",
      " [0.615      0.7246    ]]\n",
      "rec time now 3 dataset now: Syn6\n"
     ]
    },
    {
     "name": "stderr",
     "output_type": "stream",
     "text": [
      "TPR mean: 98.4%  std: 6.4%\n",
      "FDR mean: 51.0%  std: 15.4%\n",
      "Epoch:      0, d_loss (Acc)): 0.463, v_loss (Acc): 0.021, g_loss: -28.3546\n"
     ]
    },
    {
     "name": "stdout",
     "output_type": "stream",
     "text": [
      "[[0.66033126 0.81245965]\n",
      " [0.68580665 0.8255852 ]\n",
      " [0.615      0.7231    ]]\n",
      "now at training epoch number 3700 hyp-params: lamda 0.7400 prior 0.3150\n",
      "rec time now 0 dataset now: Syn6\n"
     ]
    },
    {
     "name": "stderr",
     "output_type": "stream",
     "text": [
      "TPR mean: 98.7%  std: 5.8%\n",
      "FDR mean: 68.6%  std: 10.4%\n"
     ]
    },
    {
     "name": "stdout",
     "output_type": "stream",
     "text": [
      "[[0.66131334 0.82758851]\n",
      " [0.68763247 0.8382833 ]\n",
      " [0.6153     0.7484    ]]\n",
      "rec time now 1 dataset now: Syn6\n"
     ]
    },
    {
     "name": "stderr",
     "output_type": "stream",
     "text": [
      "TPR mean: 98.5%  std: 6.1%\n",
      "FDR mean: 51.0%  std: 15.1%\n"
     ]
    },
    {
     "name": "stdout",
     "output_type": "stream",
     "text": [
      "[[0.66131334 0.81150775]\n",
      " [0.68763247 0.8246838 ]\n",
      " [0.6153     0.7228    ]]\n",
      "rec time now 2 dataset now: Syn6\n"
     ]
    },
    {
     "name": "stderr",
     "output_type": "stream",
     "text": [
      "TPR mean: 98.5%  std: 6.1%\n",
      "FDR mean: 47.6%  std: 16.0%\n"
     ]
    },
    {
     "name": "stdout",
     "output_type": "stream",
     "text": [
      "[[0.66131334 0.8071466 ]\n",
      " [0.68763247 0.82107219]\n",
      " [0.6153     0.7189    ]]\n",
      "rec time now 3 dataset now: Syn6\n"
     ]
    },
    {
     "name": "stderr",
     "output_type": "stream",
     "text": [
      "TPR mean: 98.5%  std: 6.1%\n",
      "FDR mean: 47.1%  std: 16.2%\n",
      "Epoch:      0, d_loss (Acc)): 0.451, v_loss (Acc): 0.018, g_loss: -27.5497\n"
     ]
    },
    {
     "name": "stdout",
     "output_type": "stream",
     "text": [
      "[[0.66131334 0.80640571]\n",
      " [0.68763247 0.82039979]\n",
      " [0.6153     0.7174    ]]\n",
      "now at training epoch number 3800 hyp-params: lamda 0.7600 prior 0.3100\n",
      "rec time now 0 dataset now: Syn6\n"
     ]
    },
    {
     "name": "stderr",
     "output_type": "stream",
     "text": [
      "TPR mean: 98.9%  std: 5.3%\n",
      "FDR mean: 64.8%  std: 11.3%\n"
     ]
    },
    {
     "name": "stdout",
     "output_type": "stream",
     "text": [
      "[[0.65980806 0.82208916]\n",
      " [0.68511177 0.8319755 ]\n",
      " [0.6147     0.7384    ]]\n",
      "rec time now 1 dataset now: Syn6\n"
     ]
    },
    {
     "name": "stderr",
     "output_type": "stream",
     "text": [
      "TPR mean: 98.8%  std: 5.4%\n",
      "FDR mean: 45.6%  std: 16.2%\n"
     ]
    },
    {
     "name": "stdout",
     "output_type": "stream",
     "text": [
      "[[0.65980806 0.80298397]\n",
      " [0.68511177 0.81585325]\n",
      " [0.6147     0.7106    ]]\n",
      "rec time now 2 dataset now: Syn6\n"
     ]
    },
    {
     "name": "stderr",
     "output_type": "stream",
     "text": [
      "TPR mean: 98.8%  std: 5.5%\n",
      "FDR mean: 42.4%  std: 16.9%\n"
     ]
    },
    {
     "name": "stdout",
     "output_type": "stream",
     "text": [
      "[[0.65980806 0.79879459]\n",
      " [0.68511177 0.81215094]\n",
      " [0.6147     0.7042    ]]\n",
      "rec time now 3 dataset now: Syn6\n"
     ]
    },
    {
     "name": "stderr",
     "output_type": "stream",
     "text": [
      "TPR mean: 98.8%  std: 5.5%\n",
      "FDR mean: 41.9%  std: 17.0%\n",
      "Epoch:      0, d_loss (Acc)): 0.435, v_loss (Acc): 0.016, g_loss: -26.4272\n"
     ]
    },
    {
     "name": "stdout",
     "output_type": "stream",
     "text": [
      "[[0.65980806 0.79800668]\n",
      " [0.68511177 0.81139959]\n",
      " [0.6147     0.7035    ]]\n",
      "now at training epoch number 3900 hyp-params: lamda 0.7800 prior 0.3050\n",
      "rec time now 0 dataset now: Syn6\n"
     ]
    },
    {
     "name": "stderr",
     "output_type": "stream",
     "text": [
      "TPR mean: 99.0%  std: 5.0%\n",
      "FDR mean: 60.4%  std: 12.5%\n"
     ]
    },
    {
     "name": "stdout",
     "output_type": "stream",
     "text": [
      "[[0.66242526 0.81584097]\n",
      " [0.68747719 0.82716998]\n",
      " [0.615      0.7305    ]]\n",
      "rec time now 1 dataset now: Syn6\n"
     ]
    },
    {
     "name": "stderr",
     "output_type": "stream",
     "text": [
      "TPR mean: 99.0%  std: 5.1%\n",
      "FDR mean: 40.7%  std: 17.5%\n"
     ]
    },
    {
     "name": "stdout",
     "output_type": "stream",
     "text": [
      "[[0.66242526 0.79605587]\n",
      " [0.68747719 0.80998094]\n",
      " [0.615      0.6994    ]]\n",
      "rec time now 2 dataset now: Syn6\n"
     ]
    },
    {
     "name": "stderr",
     "output_type": "stream",
     "text": [
      "TPR mean: 99.0%  std: 5.1%\n",
      "FDR mean: 37.9%  std: 18.3%\n"
     ]
    },
    {
     "name": "stdout",
     "output_type": "stream",
     "text": [
      "[[0.66242526 0.79164155]\n",
      " [0.68747719 0.80637076]\n",
      " [0.615      0.6924    ]]\n",
      "rec time now 3 dataset now: Syn6\n"
     ]
    },
    {
     "name": "stderr",
     "output_type": "stream",
     "text": [
      "TPR mean: 99.0%  std: 5.1%\n",
      "FDR mean: 37.5%  std: 18.3%\n",
      "Epoch:      0, d_loss (Acc)): 0.415, v_loss (Acc): 0.016, g_loss: -25.0716\n"
     ]
    },
    {
     "name": "stdout",
     "output_type": "stream",
     "text": [
      "[[0.66242526 0.79103772]\n",
      " [0.68747719 0.80592041]\n",
      " [0.615      0.692     ]]\n",
      "now at training epoch number 4000 hyp-params: lamda 0.8000 prior 0.3000\n",
      "rec time now 0 dataset now: Syn6\n"
     ]
    },
    {
     "name": "stderr",
     "output_type": "stream",
     "text": [
      "TPR mean: 99.1%  std: 4.8%\n",
      "FDR mean: 55.9%  std: 13.7%\n"
     ]
    },
    {
     "name": "stdout",
     "output_type": "stream",
     "text": [
      "[[0.66115851 0.81747626]\n",
      " [0.68573228 0.82788356]\n",
      " [0.6141     0.7337    ]]\n",
      "rec time now 1 dataset now: Syn6\n"
     ]
    },
    {
     "name": "stderr",
     "output_type": "stream",
     "text": [
      "TPR mean: 99.1%  std: 4.9%\n",
      "FDR mean: 36.2%  std: 18.1%\n"
     ]
    },
    {
     "name": "stdout",
     "output_type": "stream",
     "text": [
      "[[0.66115851 0.79434559]\n",
      " [0.68573228 0.80895209]\n",
      " [0.6141     0.702     ]]\n",
      "rec time now 2 dataset now: Syn6\n"
     ]
    },
    {
     "name": "stderr",
     "output_type": "stream",
     "text": [
      "TPR mean: 99.0%  std: 4.9%\n",
      "FDR mean: 33.8%  std: 18.6%\n"
     ]
    },
    {
     "name": "stdout",
     "output_type": "stream",
     "text": [
      "[[0.66115851 0.79043558]\n",
      " [0.68573228 0.80556897]\n",
      " [0.6141     0.6974    ]]\n",
      "rec time now 3 dataset now: Syn6\n"
     ]
    },
    {
     "name": "stderr",
     "output_type": "stream",
     "text": [
      "TPR mean: 99.0%  std: 4.9%\n",
      "FDR mean: 33.6%  std: 18.7%\n",
      "Epoch:      0, d_loss (Acc)): 0.446, v_loss (Acc): 0.012, g_loss: -27.0211\n"
     ]
    },
    {
     "name": "stdout",
     "output_type": "stream",
     "text": [
      "[[0.66115851 0.7898766 ]\n",
      " [0.68573228 0.80507198]\n",
      " [0.6141     0.6965    ]]\n",
      "now at training epoch number 4100 hyp-params: lamda 0.8200 prior 0.2950\n",
      "rec time now 0 dataset now: Syn6\n"
     ]
    },
    {
     "name": "stderr",
     "output_type": "stream",
     "text": [
      "TPR mean: 99.1%  std: 4.7%\n",
      "FDR mean: 50.6%  std: 15.0%\n"
     ]
    },
    {
     "name": "stdout",
     "output_type": "stream",
     "text": [
      "[[0.66284634 0.80893625]\n",
      " [0.68627083 0.82075481]\n",
      " [0.6204     0.7248    ]]\n",
      "rec time now 1 dataset now: Syn6\n"
     ]
    },
    {
     "name": "stderr",
     "output_type": "stream",
     "text": [
      "TPR mean: 99.0%  std: 4.8%\n",
      "FDR mean: 30.8%  std: 18.9%\n"
     ]
    },
    {
     "name": "stdout",
     "output_type": "stream",
     "text": [
      "[[0.66284634 0.78631483]\n",
      " [0.68627083 0.80198671]\n",
      " [0.6204     0.6892    ]]\n",
      "rec time now 2 dataset now: Syn6\n"
     ]
    },
    {
     "name": "stderr",
     "output_type": "stream",
     "text": [
      "TPR mean: 99.0%  std: 4.9%\n",
      "FDR mean: 29.1%  std: 19.2%\n"
     ]
    },
    {
     "name": "stdout",
     "output_type": "stream",
     "text": [
      "[[0.66284634 0.78318221]\n",
      " [0.68627083 0.799534  ]\n",
      " [0.6204     0.6846    ]]\n",
      "rec time now 3 dataset now: Syn6\n"
     ]
    },
    {
     "name": "stderr",
     "output_type": "stream",
     "text": [
      "TPR mean: 99.0%  std: 4.9%\n",
      "FDR mean: 29.0%  std: 19.2%\n",
      "Epoch:      0, d_loss (Acc)): 0.461, v_loss (Acc): 0.011, g_loss: -27.7414\n"
     ]
    },
    {
     "name": "stdout",
     "output_type": "stream",
     "text": [
      "[[0.66284634 0.78277622]\n",
      " [0.68627083 0.79920724]\n",
      " [0.6204     0.6841    ]]\n",
      "now at training epoch number 4200 hyp-params: lamda 0.8400 prior 0.2900\n",
      "rec time now 0 dataset now: Syn6\n"
     ]
    },
    {
     "name": "stderr",
     "output_type": "stream",
     "text": [
      "TPR mean: 99.1%  std: 4.6%\n",
      "FDR mean: 45.3%  std: 15.7%\n"
     ]
    },
    {
     "name": "stdout",
     "output_type": "stream",
     "text": [
      "[[0.6600066  0.80275013]\n",
      " [0.68389576 0.81452221]\n",
      " [0.6169     0.7146    ]]\n",
      "rec time now 1 dataset now: Syn6\n"
     ]
    },
    {
     "name": "stderr",
     "output_type": "stream",
     "text": [
      "TPR mean: 99.0%  std: 4.8%\n",
      "FDR mean: 28.3%  std: 18.1%\n"
     ]
    },
    {
     "name": "stdout",
     "output_type": "stream",
     "text": [
      "[[0.6600066  0.78126737]\n",
      " [0.68389576 0.79656909]\n",
      " [0.6169     0.6869    ]]\n",
      "rec time now 2 dataset now: Syn6\n"
     ]
    },
    {
     "name": "stderr",
     "output_type": "stream",
     "text": [
      "TPR mean: 99.0%  std: 4.8%\n",
      "FDR mean: 27.1%  std: 18.2%\n"
     ]
    },
    {
     "name": "stdout",
     "output_type": "stream",
     "text": [
      "[[0.6600066  0.77901269]\n",
      " [0.68389576 0.79473305]\n",
      " [0.6169     0.6832    ]]\n",
      "rec time now 3 dataset now: Syn6\n"
     ]
    },
    {
     "name": "stderr",
     "output_type": "stream",
     "text": [
      "TPR mean: 99.0%  std: 4.8%\n",
      "FDR mean: 27.1%  std: 18.1%\n",
      "Epoch:      0, d_loss (Acc)): 0.440, v_loss (Acc): 0.011, g_loss: -26.0793\n"
     ]
    },
    {
     "name": "stdout",
     "output_type": "stream",
     "text": [
      "[[0.6600066  0.77882729]\n",
      " [0.68389576 0.79454629]\n",
      " [0.6169     0.6829    ]]\n",
      "now at training epoch number 4300 hyp-params: lamda 0.8600 prior 0.2850\n",
      "rec time now 0 dataset now: Syn6\n"
     ]
    },
    {
     "name": "stderr",
     "output_type": "stream",
     "text": [
      "TPR mean: 99.2%  std: 4.4%\n",
      "FDR mean: 40.0%  std: 16.1%\n"
     ]
    },
    {
     "name": "stdout",
     "output_type": "stream",
     "text": [
      "[[0.66175201 0.78384306]\n",
      " [0.68525262 0.79746337]\n",
      " [0.6149     0.6949    ]]\n",
      "rec time now 1 dataset now: Syn6\n"
     ]
    },
    {
     "name": "stderr",
     "output_type": "stream",
     "text": [
      "TPR mean: 99.1%  std: 4.6%\n",
      "FDR mean: 24.8%  std: 18.0%\n"
     ]
    },
    {
     "name": "stdout",
     "output_type": "stream",
     "text": [
      "[[0.66175201 0.76525995]\n",
      " [0.68525262 0.78299115]\n",
      " [0.6149     0.6671    ]]\n",
      "rec time now 2 dataset now: Syn6\n"
     ]
    },
    {
     "name": "stderr",
     "output_type": "stream",
     "text": [
      "TPR mean: 99.1%  std: 4.6%\n",
      "FDR mean: 24.1%  std: 18.0%\n"
     ]
    },
    {
     "name": "stdout",
     "output_type": "stream",
     "text": [
      "[[0.66175201 0.76403323]\n",
      " [0.68525262 0.78208172]\n",
      " [0.6149     0.666     ]]\n",
      "rec time now 3 dataset now: Syn6\n"
     ]
    },
    {
     "name": "stderr",
     "output_type": "stream",
     "text": [
      "TPR mean: 99.1%  std: 4.6%\n",
      "FDR mean: 24.1%  std: 18.0%\n",
      "Epoch:      0, d_loss (Acc)): 0.465, v_loss (Acc): 0.009, g_loss: -27.4755\n"
     ]
    },
    {
     "name": "stdout",
     "output_type": "stream",
     "text": [
      "[[0.66175201 0.76402971]\n",
      " [0.68525262 0.78207387]\n",
      " [0.6149     0.6659    ]]\n",
      "now at training epoch number 4400 hyp-params: lamda 0.8800 prior 0.2800\n",
      "rec time now 0 dataset now: Syn6\n"
     ]
    },
    {
     "name": "stderr",
     "output_type": "stream",
     "text": [
      "TPR mean: 99.4%  std: 3.9%\n",
      "FDR mean: 35.9%  std: 16.4%\n"
     ]
    },
    {
     "name": "stdout",
     "output_type": "stream",
     "text": [
      "[[0.66056627 0.78595425]\n",
      " [0.68398785 0.80049297]\n",
      " [0.6155     0.6955    ]]\n",
      "rec time now 1 dataset now: Syn6\n"
     ]
    },
    {
     "name": "stderr",
     "output_type": "stream",
     "text": [
      "TPR mean: 99.3%  std: 4.0%\n",
      "FDR mean: 22.6%  std: 18.0%\n"
     ]
    },
    {
     "name": "stdout",
     "output_type": "stream",
     "text": [
      "[[0.66056627 0.7695592 ]\n",
      " [0.68398785 0.78760949]\n",
      " [0.6155     0.6704    ]]\n",
      "rec time now 2 dataset now: Syn6\n"
     ]
    },
    {
     "name": "stderr",
     "output_type": "stream",
     "text": [
      "TPR mean: 99.3%  std: 4.0%\n",
      "FDR mean: 22.1%  std: 18.0%\n"
     ]
    },
    {
     "name": "stdout",
     "output_type": "stream",
     "text": [
      "[[0.66056627 0.76871344]\n",
      " [0.68398785 0.78709122]\n",
      " [0.6155     0.6694    ]]\n",
      "rec time now 3 dataset now: Syn6\n"
     ]
    },
    {
     "name": "stderr",
     "output_type": "stream",
     "text": [
      "TPR mean: 99.3%  std: 4.0%\n",
      "FDR mean: 22.1%  std: 18.0%\n",
      "Epoch:      0, d_loss (Acc)): 0.421, v_loss (Acc): 0.007, g_loss: -24.6488\n"
     ]
    },
    {
     "name": "stdout",
     "output_type": "stream",
     "text": [
      "[[0.66056627 0.76864718]\n",
      " [0.68398785 0.78703843]\n",
      " [0.6155     0.6693    ]]\n",
      "now at training epoch number 4500 hyp-params: lamda 0.9000 prior 0.2750\n",
      "rec time now 0 dataset now: Syn6\n"
     ]
    },
    {
     "name": "stderr",
     "output_type": "stream",
     "text": [
      "TPR mean: 99.4%  std: 3.6%\n",
      "FDR mean: 31.6%  std: 16.2%\n"
     ]
    },
    {
     "name": "stdout",
     "output_type": "stream",
     "text": [
      "[[0.66029803 0.778766  ]\n",
      " [0.68371731 0.79512723]\n",
      " [0.6169     0.6889    ]]\n",
      "rec time now 1 dataset now: Syn6\n"
     ]
    },
    {
     "name": "stderr",
     "output_type": "stream",
     "text": [
      "TPR mean: 99.4%  std: 3.6%\n",
      "FDR mean: 21.3%  std: 17.6%\n"
     ]
    },
    {
     "name": "stdout",
     "output_type": "stream",
     "text": [
      "[[0.66029803 0.76789752]\n",
      " [0.68371731 0.78738992]\n",
      " [0.6169     0.6725    ]]\n",
      "rec time now 2 dataset now: Syn6\n"
     ]
    },
    {
     "name": "stderr",
     "output_type": "stream",
     "text": [
      "TPR mean: 99.4%  std: 3.6%\n",
      "FDR mean: 21.0%  std: 17.6%\n"
     ]
    },
    {
     "name": "stdout",
     "output_type": "stream",
     "text": [
      "[[0.66029803 0.76772002]\n",
      " [0.68371731 0.7873612 ]\n",
      " [0.6169     0.6722    ]]\n",
      "rec time now 3 dataset now: Syn6\n"
     ]
    },
    {
     "name": "stderr",
     "output_type": "stream",
     "text": [
      "TPR mean: 99.4%  std: 3.6%\n",
      "FDR mean: 21.0%  std: 17.6%\n",
      "Epoch:      0, d_loss (Acc)): 0.406, v_loss (Acc): 0.008, g_loss: -23.3622\n"
     ]
    },
    {
     "name": "stdout",
     "output_type": "stream",
     "text": [
      "[[0.66029803 0.7676693 ]\n",
      " [0.68371731 0.7873218 ]\n",
      " [0.6169     0.6722    ]]\n",
      "now at training epoch number 4600 hyp-params: lamda 0.9200 prior 0.2700\n",
      "rec time now 0 dataset now: Syn6\n"
     ]
    },
    {
     "name": "stderr",
     "output_type": "stream",
     "text": [
      "TPR mean: 99.5%  std: 3.3%\n",
      "FDR mean: 29.1%  std: 16.3%\n"
     ]
    },
    {
     "name": "stdout",
     "output_type": "stream",
     "text": [
      "[[0.66123597 0.77493739]\n",
      " [0.68306036 0.79154753]\n",
      " [0.617      0.6849    ]]\n",
      "rec time now 1 dataset now: Syn6\n"
     ]
    },
    {
     "name": "stderr",
     "output_type": "stream",
     "text": [
      "TPR mean: 99.5%  std: 3.4%\n",
      "FDR mean: 21.1%  std: 17.4%\n"
     ]
    },
    {
     "name": "stdout",
     "output_type": "stream",
     "text": [
      "[[0.66123597 0.76785074]\n",
      " [0.68306036 0.78638992]\n",
      " [0.617      0.671     ]]\n",
      "rec time now 2 dataset now: Syn6\n"
     ]
    },
    {
     "name": "stderr",
     "output_type": "stream",
     "text": [
      "TPR mean: 99.5%  std: 3.4%\n",
      "FDR mean: 21.0%  std: 17.4%\n"
     ]
    },
    {
     "name": "stdout",
     "output_type": "stream",
     "text": [
      "[[0.66123597 0.76769575]\n",
      " [0.68306036 0.78635822]\n",
      " [0.617      0.67      ]]\n",
      "rec time now 3 dataset now: Syn6\n"
     ]
    },
    {
     "name": "stderr",
     "output_type": "stream",
     "text": [
      "TPR mean: 99.5%  std: 3.4%\n",
      "FDR mean: 21.0%  std: 17.4%\n",
      "Epoch:      0, d_loss (Acc)): 0.458, v_loss (Acc): 0.006, g_loss: -26.1287\n"
     ]
    },
    {
     "name": "stdout",
     "output_type": "stream",
     "text": [
      "[[0.66123597 0.76765478]\n",
      " [0.68306036 0.78632716]\n",
      " [0.617      0.6699    ]]\n",
      "now at training epoch number 4700 hyp-params: lamda 0.9400 prior 0.2650\n",
      "rec time now 0 dataset now: Syn6\n"
     ]
    },
    {
     "name": "stderr",
     "output_type": "stream",
     "text": [
      "TPR mean: 99.6%  std: 2.9%\n",
      "FDR mean: 26.9%  std: 16.7%\n"
     ]
    },
    {
     "name": "stdout",
     "output_type": "stream",
     "text": [
      "[[0.65823479 0.76491972]\n",
      " [0.68088559 0.78275542]\n",
      " [0.6109     0.6725    ]]\n",
      "rec time now 1 dataset now: Syn6\n"
     ]
    },
    {
     "name": "stderr",
     "output_type": "stream",
     "text": [
      "TPR mean: 99.6%  std: 2.9%\n",
      "FDR mean: 20.7%  std: 17.5%\n"
     ]
    },
    {
     "name": "stdout",
     "output_type": "stream",
     "text": [
      "[[0.65823479 0.76002902]\n",
      " [0.68088559 0.77994688]\n",
      " [0.6109     0.6632    ]]\n",
      "rec time now 2 dataset now: Syn6\n"
     ]
    },
    {
     "name": "stderr",
     "output_type": "stream",
     "text": [
      "TPR mean: 99.6%  std: 2.9%\n",
      "FDR mean: 20.6%  std: 17.5%\n"
     ]
    },
    {
     "name": "stdout",
     "output_type": "stream",
     "text": [
      "[[0.65823479 0.7597783 ]\n",
      " [0.68088559 0.77975764]\n",
      " [0.6109     0.6624    ]]\n",
      "rec time now 3 dataset now: Syn6\n"
     ]
    },
    {
     "name": "stderr",
     "output_type": "stream",
     "text": [
      "TPR mean: 99.6%  std: 2.9%\n",
      "FDR mean: 20.6%  std: 17.5%\n",
      "Epoch:      0, d_loss (Acc)): 0.403, v_loss (Acc): 0.006, g_loss: -22.5238\n"
     ]
    },
    {
     "name": "stdout",
     "output_type": "stream",
     "text": [
      "[[0.65823479 0.75973943]\n",
      " [0.68088559 0.77973374]\n",
      " [0.6109     0.6623    ]]\n",
      "now at training epoch number 4800 hyp-params: lamda 0.9600 prior 0.2600\n",
      "rec time now 0 dataset now: Syn6\n"
     ]
    },
    {
     "name": "stderr",
     "output_type": "stream",
     "text": [
      "TPR mean: 99.7%  std: 2.8%\n",
      "FDR mean: 25.3%  std: 17.3%\n"
     ]
    },
    {
     "name": "stdout",
     "output_type": "stream",
     "text": [
      "[[0.66106483 0.77437808]\n",
      " [0.68361301 0.79078144]\n",
      " [0.6153     0.6791    ]]\n",
      "rec time now 1 dataset now: Syn6\n"
     ]
    },
    {
     "name": "stderr",
     "output_type": "stream",
     "text": [
      "TPR mean: 99.7%  std: 2.8%\n",
      "FDR mean: 20.2%  std: 17.8%\n"
     ]
    },
    {
     "name": "stdout",
     "output_type": "stream",
     "text": [
      "[[0.66106483 0.77128804]\n",
      " [0.68361301 0.78929628]\n",
      " [0.6153     0.67      ]]\n",
      "rec time now 2 dataset now: Syn6\n"
     ]
    },
    {
     "name": "stderr",
     "output_type": "stream",
     "text": [
      "TPR mean: 99.7%  std: 2.8%\n",
      "FDR mean: 20.1%  std: 17.8%\n"
     ]
    },
    {
     "name": "stdout",
     "output_type": "stream",
     "text": [
      "[[0.66106483 0.77119468]\n",
      " [0.68361301 0.78926452]\n",
      " [0.6153     0.6697    ]]\n",
      "rec time now 3 dataset now: Syn6\n"
     ]
    },
    {
     "name": "stderr",
     "output_type": "stream",
     "text": [
      "TPR mean: 99.7%  std: 2.8%\n",
      "FDR mean: 20.1%  std: 17.8%\n",
      "Epoch:      0, d_loss (Acc)): 0.441, v_loss (Acc): 0.007, g_loss: -24.3869\n"
     ]
    },
    {
     "name": "stdout",
     "output_type": "stream",
     "text": [
      "[[0.66106483 0.77118057]\n",
      " [0.68361301 0.78925019]\n",
      " [0.6153     0.6696    ]]\n",
      "now at training epoch number 4900 hyp-params: lamda 0.9800 prior 0.2550\n",
      "rec time now 0 dataset now: Syn6\n"
     ]
    },
    {
     "name": "stderr",
     "output_type": "stream",
     "text": [
      "TPR mean: 99.7%  std: 2.8%\n",
      "FDR mean: 23.8%  std: 17.7%\n"
     ]
    },
    {
     "name": "stdout",
     "output_type": "stream",
     "text": [
      "[[0.66006622 0.77609934]\n",
      " [0.68311216 0.79126676]\n",
      " [0.6144     0.6821    ]]\n",
      "rec time now 1 dataset now: Syn6\n"
     ]
    },
    {
     "name": "stderr",
     "output_type": "stream",
     "text": [
      "TPR mean: 99.7%  std: 2.8%\n",
      "FDR mean: 19.3%  std: 18.0%\n"
     ]
    },
    {
     "name": "stdout",
     "output_type": "stream",
     "text": [
      "[[0.66006622 0.77288891]\n",
      " [0.68311216 0.79004935]\n",
      " [0.6144     0.6759    ]]\n",
      "rec time now 2 dataset now: Syn6\n"
     ]
    },
    {
     "name": "stderr",
     "output_type": "stream",
     "text": [
      "TPR mean: 99.7%  std: 2.8%\n",
      "FDR mean: 19.2%  std: 18.1%\n"
     ]
    },
    {
     "name": "stdout",
     "output_type": "stream",
     "text": [
      "[[0.66006622 0.77265774]\n",
      " [0.68311216 0.78984687]\n",
      " [0.6144     0.6751    ]]\n",
      "rec time now 3 dataset now: Syn6\n"
     ]
    },
    {
     "name": "stderr",
     "output_type": "stream",
     "text": [
      "TPR mean: 99.7%  std: 2.8%\n",
      "FDR mean: 19.2%  std: 18.1%\n",
      "Epoch:      0, d_loss (Acc)): 0.394, v_loss (Acc): 0.005, g_loss: -21.5896\n"
     ]
    },
    {
     "name": "stdout",
     "output_type": "stream",
     "text": [
      "[[0.66006622 0.77266111]\n",
      " [0.68311216 0.78983898]\n",
      " [0.6144     0.6751    ]]\n",
      "now at training epoch number 5000 hyp-params: lamda 1.0000 prior 0.2500\n",
      "rec time now 0 dataset now: Syn6\n"
     ]
    },
    {
     "name": "stderr",
     "output_type": "stream",
     "text": [
      "TPR mean: 99.7%  std: 2.8%\n",
      "FDR mean: 22.4%  std: 18.3%\n"
     ]
    },
    {
     "name": "stdout",
     "output_type": "stream",
     "text": [
      "[[0.66045477 0.7674536 ]\n",
      " [0.68251697 0.78468493]\n",
      " [0.6171     0.6742    ]]\n",
      "rec time now 1 dataset now: Syn6\n"
     ]
    },
    {
     "name": "stderr",
     "output_type": "stream",
     "text": [
      "TPR mean: 99.7%  std: 2.8%\n",
      "FDR mean: 18.6%  std: 18.4%\n"
     ]
    },
    {
     "name": "stdout",
     "output_type": "stream",
     "text": [
      "[[0.66045477 0.76612093]\n",
      " [0.68251697 0.78477884]\n",
      " [0.6171     0.6678    ]]\n",
      "rec time now 2 dataset now: Syn6\n"
     ]
    },
    {
     "name": "stderr",
     "output_type": "stream",
     "text": [
      "TPR mean: 99.7%  std: 2.8%\n",
      "FDR mean: 18.5%  std: 18.4%\n"
     ]
    },
    {
     "name": "stdout",
     "output_type": "stream",
     "text": [
      "[[0.66045477 0.76587303]\n",
      " [0.68251697 0.78457844]\n",
      " [0.6171     0.6672    ]]\n",
      "rec time now 3 dataset now: Syn6\n"
     ]
    },
    {
     "name": "stderr",
     "output_type": "stream",
     "text": [
      "TPR mean: 99.7%  std: 2.8%\n",
      "FDR mean: 18.5%  std: 18.4%\n",
      "Epoch:      0, d_loss (Acc)): 0.440, v_loss (Acc): 0.004, g_loss: -23.8004\n"
     ]
    },
    {
     "name": "stdout",
     "output_type": "stream",
     "text": [
      "[[0.66045477 0.76587241]\n",
      " [0.68251697 0.78456801]\n",
      " [0.6171     0.6672    ]]\n",
      "now at training epoch number 5100 hyp-params: lamda 1.0200 prior 0.2450\n",
      "rec time now 0 dataset now: Syn6\n"
     ]
    },
    {
     "name": "stderr",
     "output_type": "stream",
     "text": [
      "TPR mean: 99.7%  std: 2.7%\n",
      "FDR mean: 21.8%  std: 18.4%\n"
     ]
    },
    {
     "name": "stdout",
     "output_type": "stream",
     "text": [
      "[[0.65890915 0.76289889]\n",
      " [0.68026308 0.77937815]\n",
      " [0.6141     0.6732    ]]\n",
      "rec time now 1 dataset now: Syn6\n"
     ]
    },
    {
     "name": "stderr",
     "output_type": "stream",
     "text": [
      "TPR mean: 99.7%  std: 2.7%\n",
      "FDR mean: 18.2%  std: 18.5%\n"
     ]
    },
    {
     "name": "stdout",
     "output_type": "stream",
     "text": [
      "[[0.65890915 0.76174026]\n",
      " [0.68026308 0.77958052]\n",
      " [0.6141     0.6685    ]]\n",
      "rec time now 2 dataset now: Syn6\n"
     ]
    },
    {
     "name": "stderr",
     "output_type": "stream",
     "text": [
      "TPR mean: 99.7%  std: 2.7%\n",
      "FDR mean: 18.1%  std: 18.5%\n"
     ]
    },
    {
     "name": "stdout",
     "output_type": "stream",
     "text": [
      "[[0.65890915 0.76134467]\n",
      " [0.68026308 0.77930464]\n",
      " [0.6141     0.6677    ]]\n",
      "rec time now 3 dataset now: Syn6\n"
     ]
    },
    {
     "name": "stderr",
     "output_type": "stream",
     "text": [
      "TPR mean: 99.7%  std: 2.7%\n",
      "FDR mean: 18.1%  std: 18.5%\n",
      "Epoch:      0, d_loss (Acc)): 0.454, v_loss (Acc): 0.003, g_loss: -24.2842\n"
     ]
    },
    {
     "name": "stdout",
     "output_type": "stream",
     "text": [
      "[[0.65890915 0.76131905]\n",
      " [0.68026308 0.77928474]\n",
      " [0.6141     0.6677    ]]\n",
      "now at training epoch number 5200 hyp-params: lamda 1.0400 prior 0.2400\n",
      "rec time now 0 dataset now: Syn6\n"
     ]
    },
    {
     "name": "stderr",
     "output_type": "stream",
     "text": [
      "TPR mean: 99.7%  std: 2.8%\n",
      "FDR mean: 20.6%  std: 18.7%\n"
     ]
    },
    {
     "name": "stdout",
     "output_type": "stream",
     "text": [
      "[[0.66153734 0.77780985]\n",
      " [0.68322579 0.79276784]\n",
      " [0.6153     0.6821    ]]\n",
      "rec time now 1 dataset now: Syn6\n"
     ]
    },
    {
     "name": "stderr",
     "output_type": "stream",
     "text": [
      "TPR mean: 99.7%  std: 2.8%\n",
      "FDR mean: 17.2%  std: 18.5%\n"
     ]
    },
    {
     "name": "stdout",
     "output_type": "stream",
     "text": [
      "[[0.66153734 0.77652027]\n",
      " [0.68322579 0.79293564]\n",
      " [0.6153     0.6764    ]]\n",
      "rec time now 2 dataset now: Syn6\n"
     ]
    },
    {
     "name": "stderr",
     "output_type": "stream",
     "text": [
      "TPR mean: 99.7%  std: 2.8%\n",
      "FDR mean: 17.1%  std: 18.5%\n"
     ]
    },
    {
     "name": "stdout",
     "output_type": "stream",
     "text": [
      "[[0.66153734 0.77611617]\n",
      " [0.68322579 0.79259542]\n",
      " [0.6153     0.6756    ]]\n",
      "rec time now 3 dataset now: Syn6\n"
     ]
    },
    {
     "name": "stderr",
     "output_type": "stream",
     "text": [
      "TPR mean: 99.7%  std: 2.8%\n",
      "FDR mean: 17.1%  std: 18.5%\n",
      "Epoch:      0, d_loss (Acc)): 0.432, v_loss (Acc): 0.005, g_loss: -22.8494\n"
     ]
    },
    {
     "name": "stdout",
     "output_type": "stream",
     "text": [
      "[[0.66153734 0.77611617]\n",
      " [0.68322579 0.79259542]\n",
      " [0.6153     0.6756    ]]\n",
      "now at training epoch number 5300 hyp-params: lamda 1.0600 prior 0.2350\n",
      "rec time now 0 dataset now: Syn6\n"
     ]
    },
    {
     "name": "stderr",
     "output_type": "stream",
     "text": [
      "TPR mean: 99.7%  std: 2.7%\n",
      "FDR mean: 20.6%  std: 18.7%\n"
     ]
    },
    {
     "name": "stdout",
     "output_type": "stream",
     "text": [
      "[[0.65836807 0.77100493]\n",
      " [0.67916488 0.78696911]\n",
      " [0.6152     0.6785    ]]\n",
      "rec time now 1 dataset now: Syn6\n"
     ]
    },
    {
     "name": "stderr",
     "output_type": "stream",
     "text": [
      "TPR mean: 99.7%  std: 2.7%\n",
      "FDR mean: 17.3%  std: 18.5%\n"
     ]
    },
    {
     "name": "stdout",
     "output_type": "stream",
     "text": [
      "[[0.65836807 0.77025468]\n",
      " [0.67916488 0.78742235]\n",
      " [0.6152     0.673     ]]\n",
      "rec time now 2 dataset now: Syn6\n"
     ]
    },
    {
     "name": "stderr",
     "output_type": "stream",
     "text": [
      "TPR mean: 99.7%  std: 2.7%\n",
      "FDR mean: 17.1%  std: 18.5%\n"
     ]
    },
    {
     "name": "stdout",
     "output_type": "stream",
     "text": [
      "[[0.65836807 0.76982613]\n",
      " [0.67916488 0.78711394]\n",
      " [0.6152     0.672     ]]\n",
      "rec time now 3 dataset now: Syn6\n"
     ]
    },
    {
     "name": "stderr",
     "output_type": "stream",
     "text": [
      "TPR mean: 99.7%  std: 2.7%\n",
      "FDR mean: 17.1%  std: 18.5%\n",
      "Epoch:      0, d_loss (Acc)): 0.419, v_loss (Acc): 0.003, g_loss: -21.8583\n"
     ]
    },
    {
     "name": "stdout",
     "output_type": "stream",
     "text": [
      "[[0.65836807 0.76979195]\n",
      " [0.67916488 0.78709251]\n",
      " [0.6152     0.6719    ]]\n",
      "now at training epoch number 5400 hyp-params: lamda 1.0800 prior 0.2300\n",
      "rec time now 0 dataset now: Syn6\n"
     ]
    },
    {
     "name": "stderr",
     "output_type": "stream",
     "text": [
      "TPR mean: 99.7%  std: 2.9%\n",
      "FDR mean: 19.8%  std: 19.2%\n"
     ]
    },
    {
     "name": "stdout",
     "output_type": "stream",
     "text": [
      "[[0.65889494 0.77988291]\n",
      " [0.67992546 0.79345055]\n",
      " [0.6142     0.6889    ]]\n",
      "rec time now 1 dataset now: Syn6\n"
     ]
    },
    {
     "name": "stderr",
     "output_type": "stream",
     "text": [
      "TPR mean: 99.7%  std: 2.9%\n",
      "FDR mean: 16.7%  std: 18.7%\n"
     ]
    },
    {
     "name": "stdout",
     "output_type": "stream",
     "text": [
      "[[0.65889494 0.779304  ]\n",
      " [0.67992546 0.79380548]\n",
      " [0.6142     0.6841    ]]\n",
      "rec time now 2 dataset now: Syn6\n"
     ]
    },
    {
     "name": "stderr",
     "output_type": "stream",
     "text": [
      "TPR mean: 99.7%  std: 2.9%\n",
      "FDR mean: 16.5%  std: 18.7%\n"
     ]
    },
    {
     "name": "stdout",
     "output_type": "stream",
     "text": [
      "[[0.65889494 0.77891549]\n",
      " [0.67992546 0.79351619]\n",
      " [0.6142     0.6833    ]]\n",
      "rec time now 3 dataset now: Syn6\n"
     ]
    },
    {
     "name": "stderr",
     "output_type": "stream",
     "text": [
      "TPR mean: 99.7%  std: 2.9%\n",
      "FDR mean: 16.5%  std: 18.7%\n",
      "Epoch:      0, d_loss (Acc)): 0.434, v_loss (Acc): 0.004, g_loss: -22.6106\n"
     ]
    },
    {
     "name": "stdout",
     "output_type": "stream",
     "text": [
      "[[0.65889494 0.77890766]\n",
      " [0.67992546 0.79351028]\n",
      " [0.6142     0.6833    ]]\n",
      "now at training epoch number 5500 hyp-params: lamda 1.1000 prior 0.2250\n",
      "rec time now 0 dataset now: Syn6\n"
     ]
    },
    {
     "name": "stderr",
     "output_type": "stream",
     "text": [
      "TPR mean: 99.7%  std: 2.7%\n",
      "FDR mean: 19.4%  std: 19.4%\n"
     ]
    },
    {
     "name": "stdout",
     "output_type": "stream",
     "text": [
      "[[0.65663531 0.77687802]\n",
      " [0.67755797 0.7904569 ]\n",
      " [0.6137     0.6845    ]]\n",
      "rec time now 1 dataset now: Syn6\n"
     ]
    },
    {
     "name": "stderr",
     "output_type": "stream",
     "text": [
      "TPR mean: 99.7%  std: 2.7%\n",
      "FDR mean: 16.6%  std: 18.8%\n"
     ]
    },
    {
     "name": "stdout",
     "output_type": "stream",
     "text": [
      "[[0.65663531 0.77648878]\n",
      " [0.67755797 0.79122041]\n",
      " [0.6137     0.6802    ]]\n",
      "rec time now 2 dataset now: Syn6\n"
     ]
    },
    {
     "name": "stderr",
     "output_type": "stream",
     "text": [
      "TPR mean: 99.7%  std: 2.7%\n",
      "FDR mean: 16.5%  std: 18.8%\n"
     ]
    },
    {
     "name": "stdout",
     "output_type": "stream",
     "text": [
      "[[0.65663531 0.77622378]\n",
      " [0.67755797 0.79097951]\n",
      " [0.6137     0.6797    ]]\n",
      "rec time now 3 dataset now: Syn6\n"
     ]
    },
    {
     "name": "stderr",
     "output_type": "stream",
     "text": [
      "TPR mean: 99.7%  std: 2.7%\n",
      "FDR mean: 16.5%  std: 18.8%\n",
      "Epoch:      0, d_loss (Acc)): 0.412, v_loss (Acc): 0.003, g_loss: -21.1960\n"
     ]
    },
    {
     "name": "stdout",
     "output_type": "stream",
     "text": [
      "[[0.65663531 0.77621019]\n",
      " [0.67755797 0.79096826]\n",
      " [0.6137     0.6797    ]]\n",
      "now at training epoch number 5600 hyp-params: lamda 1.1200 prior 0.2200\n",
      "rec time now 0 dataset now: Syn6\n"
     ]
    },
    {
     "name": "stderr",
     "output_type": "stream",
     "text": [
      "TPR mean: 99.7%  std: 2.8%\n",
      "FDR mean: 19.0%  std: 19.5%\n"
     ]
    },
    {
     "name": "stdout",
     "output_type": "stream",
     "text": [
      "[[0.65780791 0.77479298]\n",
      " [0.67851117 0.78867068]\n",
      " [0.6127     0.6845    ]]\n",
      "rec time now 1 dataset now: Syn6\n"
     ]
    },
    {
     "name": "stderr",
     "output_type": "stream",
     "text": [
      "TPR mean: 99.7%  std: 2.8%\n",
      "FDR mean: 16.3%  std: 18.9%\n"
     ]
    },
    {
     "name": "stdout",
     "output_type": "stream",
     "text": [
      "[[0.65780791 0.77390254]\n",
      " [0.67851117 0.78873655]\n",
      " [0.6127     0.6794    ]]\n",
      "rec time now 2 dataset now: Syn6\n"
     ]
    },
    {
     "name": "stderr",
     "output_type": "stream",
     "text": [
      "TPR mean: 99.7%  std: 2.8%\n",
      "FDR mean: 16.2%  std: 18.9%\n"
     ]
    },
    {
     "name": "stdout",
     "output_type": "stream",
     "text": [
      "[[0.65780791 0.77353536]\n",
      " [0.67851117 0.7884527 ]\n",
      " [0.6127     0.6786    ]]\n",
      "rec time now 3 dataset now: Syn6\n"
     ]
    },
    {
     "name": "stderr",
     "output_type": "stream",
     "text": [
      "TPR mean: 99.7%  std: 2.8%\n",
      "FDR mean: 16.2%  std: 18.9%\n",
      "Epoch:      0, d_loss (Acc)): 0.428, v_loss (Acc): 0.002, g_loss: -21.5333\n"
     ]
    },
    {
     "name": "stdout",
     "output_type": "stream",
     "text": [
      "[[0.65780791 0.77351161]\n",
      " [0.67851117 0.78843304]\n",
      " [0.6127     0.6786    ]]\n",
      "now at training epoch number 5700 hyp-params: lamda 1.1400 prior 0.2150\n",
      "rec time now 0 dataset now: Syn6\n"
     ]
    },
    {
     "name": "stderr",
     "output_type": "stream",
     "text": [
      "TPR mean: 99.8%  std: 2.7%\n",
      "FDR mean: 18.7%  std: 19.6%\n"
     ]
    },
    {
     "name": "stdout",
     "output_type": "stream",
     "text": [
      "[[0.66023327 0.77575135]\n",
      " [0.68076808 0.78937537]\n",
      " [0.6155     0.6827    ]]\n",
      "rec time now 1 dataset now: Syn6\n"
     ]
    },
    {
     "name": "stderr",
     "output_type": "stream",
     "text": [
      "TPR mean: 99.8%  std: 2.7%\n",
      "FDR mean: 16.0%  std: 18.9%\n"
     ]
    },
    {
     "name": "stdout",
     "output_type": "stream",
     "text": [
      "[[0.66023327 0.7752016 ]\n",
      " [0.68076808 0.78988611]\n",
      " [0.6155     0.6792    ]]\n",
      "rec time now 2 dataset now: Syn6\n"
     ]
    },
    {
     "name": "stderr",
     "output_type": "stream",
     "text": [
      "TPR mean: 99.8%  std: 2.7%\n",
      "FDR mean: 15.9%  std: 18.9%\n"
     ]
    },
    {
     "name": "stdout",
     "output_type": "stream",
     "text": [
      "[[0.66023327 0.77486994]\n",
      " [0.68076808 0.78961896]\n",
      " [0.6155     0.6786    ]]\n",
      "rec time now 3 dataset now: Syn6\n"
     ]
    },
    {
     "name": "stderr",
     "output_type": "stream",
     "text": [
      "TPR mean: 99.8%  std: 2.7%\n",
      "FDR mean: 15.9%  std: 18.9%\n",
      "Epoch:      0, d_loss (Acc)): 0.438, v_loss (Acc): 0.002, g_loss: -21.5872\n"
     ]
    },
    {
     "name": "stdout",
     "output_type": "stream",
     "text": [
      "[[0.66023327 0.77486704]\n",
      " [0.68076808 0.78961653]\n",
      " [0.6155     0.6786    ]]\n",
      "now at training epoch number 5800 hyp-params: lamda 1.1600 prior 0.2100\n",
      "rec time now 0 dataset now: Syn6\n"
     ]
    },
    {
     "name": "stderr",
     "output_type": "stream",
     "text": [
      "TPR mean: 99.7%  std: 2.8%\n",
      "FDR mean: 18.7%  std: 19.5%\n"
     ]
    },
    {
     "name": "stdout",
     "output_type": "stream",
     "text": [
      "[[0.65791225 0.77129596]\n",
      " [0.6783891  0.786094  ]\n",
      " [0.6148     0.6799    ]]\n",
      "rec time now 1 dataset now: Syn6\n"
     ]
    },
    {
     "name": "stderr",
     "output_type": "stream",
     "text": [
      "TPR mean: 99.7%  std: 2.8%\n",
      "FDR mean: 16.0%  std: 18.8%\n"
     ]
    },
    {
     "name": "stdout",
     "output_type": "stream",
     "text": [
      "[[0.65791225 0.77073363]\n",
      " [0.6783891  0.78650774]\n",
      " [0.6148     0.6752    ]]\n",
      "rec time now 2 dataset now: Syn6\n"
     ]
    },
    {
     "name": "stderr",
     "output_type": "stream",
     "text": [
      "TPR mean: 99.7%  std: 2.8%\n",
      "FDR mean: 15.9%  std: 18.8%\n"
     ]
    },
    {
     "name": "stdout",
     "output_type": "stream",
     "text": [
      "[[0.65791225 0.7702093 ]\n",
      " [0.6783891  0.78610624]\n",
      " [0.6148     0.6741    ]]\n",
      "rec time now 3 dataset now: Syn6\n"
     ]
    },
    {
     "name": "stderr",
     "output_type": "stream",
     "text": [
      "TPR mean: 99.7%  std: 2.8%\n",
      "FDR mean: 15.9%  std: 18.8%\n",
      "Epoch:      0, d_loss (Acc)): 0.413, v_loss (Acc): 0.002, g_loss: -20.2466\n"
     ]
    },
    {
     "name": "stdout",
     "output_type": "stream",
     "text": [
      "[[0.65791225 0.77020339]\n",
      " [0.6783891  0.78610041]\n",
      " [0.6148     0.6741    ]]\n",
      "now at training epoch number 5900 hyp-params: lamda 1.1800 prior 0.2050\n",
      "rec time now 0 dataset now: Syn6\n"
     ]
    },
    {
     "name": "stderr",
     "output_type": "stream",
     "text": [
      "TPR mean: 99.7%  std: 2.8%\n",
      "FDR mean: 18.2%  std: 19.5%\n"
     ]
    },
    {
     "name": "stdout",
     "output_type": "stream",
     "text": [
      "[[0.65952197 0.77110028]\n",
      " [0.67957011 0.78553491]\n",
      " [0.6148     0.6806    ]]\n",
      "rec time now 1 dataset now: Syn6\n"
     ]
    },
    {
     "name": "stderr",
     "output_type": "stream",
     "text": [
      "TPR mean: 99.7%  std: 2.8%\n",
      "FDR mean: 15.5%  std: 18.7%\n"
     ]
    },
    {
     "name": "stdout",
     "output_type": "stream",
     "text": [
      "[[0.65952197 0.77051039]\n",
      " [0.67957011 0.78602458]\n",
      " [0.6148     0.6757    ]]\n",
      "rec time now 2 dataset now: Syn6\n"
     ]
    },
    {
     "name": "stderr",
     "output_type": "stream",
     "text": [
      "TPR mean: 99.7%  std: 2.8%\n",
      "FDR mean: 15.4%  std: 18.7%\n"
     ]
    },
    {
     "name": "stdout",
     "output_type": "stream",
     "text": [
      "[[0.65952197 0.77023386]\n",
      " [0.67957011 0.78580254]\n",
      " [0.6148     0.6751    ]]\n",
      "rec time now 3 dataset now: Syn6\n"
     ]
    },
    {
     "name": "stderr",
     "output_type": "stream",
     "text": [
      "TPR mean: 99.7%  std: 2.8%\n",
      "FDR mean: 15.4%  std: 18.7%\n",
      "Epoch:      0, d_loss (Acc)): 0.419, v_loss (Acc): 0.003, g_loss: -20.3094\n"
     ]
    },
    {
     "name": "stdout",
     "output_type": "stream",
     "text": [
      "[[0.65952197 0.77020908]\n",
      " [0.67957011 0.78577638]\n",
      " [0.6148     0.6749    ]]\n",
      "now at training epoch number 6000 hyp-params: lamda 1.2000 prior 0.2000\n",
      "rec time now 0 dataset now: Syn6\n"
     ]
    },
    {
     "name": "stderr",
     "output_type": "stream",
     "text": [
      "TPR mean: 99.6%  std: 3.2%\n",
      "FDR mean: 18.1%  std: 19.4%\n"
     ]
    },
    {
     "name": "stdout",
     "output_type": "stream",
     "text": [
      "[[0.65952562 0.78801567]\n",
      " [0.67926762 0.79910941]\n",
      " [0.6166     0.6962    ]]\n",
      "rec time now 1 dataset now: Syn6\n"
     ]
    },
    {
     "name": "stderr",
     "output_type": "stream",
     "text": [
      "TPR mean: 99.6%  std: 3.2%\n",
      "FDR mean: 15.5%  std: 18.6%\n"
     ]
    },
    {
     "name": "stdout",
     "output_type": "stream",
     "text": [
      "[[0.65952562 0.78747229]\n",
      " [0.67926762 0.79951992]\n",
      " [0.6166     0.6921    ]]\n",
      "rec time now 2 dataset now: Syn6\n"
     ]
    },
    {
     "name": "stderr",
     "output_type": "stream",
     "text": [
      "TPR mean: 99.6%  std: 3.2%\n",
      "FDR mean: 15.4%  std: 18.6%\n"
     ]
    },
    {
     "name": "stdout",
     "output_type": "stream",
     "text": [
      "[[0.65952562 0.78721342]\n",
      " [0.67926762 0.79928974]\n",
      " [0.6166     0.6914    ]]\n",
      "rec time now 3 dataset now: Syn6\n"
     ]
    },
    {
     "name": "stderr",
     "output_type": "stream",
     "text": [
      "TPR mean: 99.6%  std: 3.2%\n",
      "FDR mean: 15.4%  std: 18.6%\n",
      "Epoch:      0, d_loss (Acc)): 0.398, v_loss (Acc): 0.002, g_loss: -18.7958\n"
     ]
    },
    {
     "name": "stdout",
     "output_type": "stream",
     "text": [
      "[[0.65952562 0.78721342]\n",
      " [0.67926762 0.79928974]\n",
      " [0.6166     0.6914    ]]\n",
      "now at training epoch number 6100 hyp-params: lamda 1.2200 prior 0.1950\n",
      "rec time now 0 dataset now: Syn6\n"
     ]
    },
    {
     "name": "stderr",
     "output_type": "stream",
     "text": [
      "TPR mean: 99.7%  std: 2.9%\n",
      "FDR mean: 17.8%  std: 19.4%\n"
     ]
    },
    {
     "name": "stdout",
     "output_type": "stream",
     "text": [
      "[[0.6584543  0.78905654]\n",
      " [0.67902524 0.80036242]\n",
      " [0.6142     0.695     ]]\n",
      "rec time now 1 dataset now: Syn6\n"
     ]
    },
    {
     "name": "stderr",
     "output_type": "stream",
     "text": [
      "TPR mean: 99.7%  std: 2.9%\n",
      "FDR mean: 15.2%  std: 18.6%\n"
     ]
    },
    {
     "name": "stdout",
     "output_type": "stream",
     "text": [
      "[[0.6584543  0.7887981 ]\n",
      " [0.67902524 0.80100691]\n",
      " [0.6142     0.6922    ]]\n",
      "rec time now 2 dataset now: Syn6\n"
     ]
    },
    {
     "name": "stderr",
     "output_type": "stream",
     "text": [
      "TPR mean: 99.7%  std: 2.9%\n",
      "FDR mean: 15.1%  std: 18.6%\n"
     ]
    },
    {
     "name": "stdout",
     "output_type": "stream",
     "text": [
      "[[0.6584543  0.78867718]\n",
      " [0.67902524 0.80087638]\n",
      " [0.6142     0.6917    ]]\n",
      "rec time now 3 dataset now: Syn6\n"
     ]
    },
    {
     "name": "stderr",
     "output_type": "stream",
     "text": [
      "TPR mean: 99.7%  std: 2.9%\n",
      "FDR mean: 15.1%  std: 18.6%\n",
      "Epoch:      0, d_loss (Acc)): 0.436, v_loss (Acc): 0.002, g_loss: -20.6459\n"
     ]
    },
    {
     "name": "stdout",
     "output_type": "stream",
     "text": [
      "[[0.6584543  0.78867255]\n",
      " [0.67902524 0.80086666]\n",
      " [0.6142     0.6916    ]]\n",
      "now at training epoch number 6200 hyp-params: lamda 1.2400 prior 0.1900\n",
      "rec time now 0 dataset now: Syn6\n"
     ]
    },
    {
     "name": "stderr",
     "output_type": "stream",
     "text": [
      "TPR mean: 99.8%  std: 2.7%\n",
      "FDR mean: 17.7%  std: 19.5%\n"
     ]
    },
    {
     "name": "stdout",
     "output_type": "stream",
     "text": [
      "[[0.65823735 0.78472255]\n",
      " [0.67728949 0.79683016]\n",
      " [0.6152     0.6915    ]]\n",
      "rec time now 1 dataset now: Syn6\n"
     ]
    },
    {
     "name": "stderr",
     "output_type": "stream",
     "text": [
      "TPR mean: 99.8%  std: 2.7%\n",
      "FDR mean: 15.0%  std: 18.6%\n"
     ]
    },
    {
     "name": "stdout",
     "output_type": "stream",
     "text": [
      "[[0.65823735 0.78462549]\n",
      " [0.67728949 0.79773489]\n",
      " [0.6152     0.6883    ]]\n",
      "rec time now 2 dataset now: Syn6\n"
     ]
    },
    {
     "name": "stderr",
     "output_type": "stream",
     "text": [
      "TPR mean: 99.8%  std: 2.7%\n",
      "FDR mean: 14.9%  std: 18.6%\n"
     ]
    },
    {
     "name": "stdout",
     "output_type": "stream",
     "text": [
      "[[0.65823735 0.78445522]\n",
      " [0.67728949 0.79754637]\n",
      " [0.6152     0.6883    ]]\n",
      "rec time now 3 dataset now: Syn6\n"
     ]
    },
    {
     "name": "stderr",
     "output_type": "stream",
     "text": [
      "TPR mean: 99.8%  std: 2.7%\n",
      "FDR mean: 14.9%  std: 18.6%\n",
      "Epoch:      0, d_loss (Acc)): 0.440, v_loss (Acc): 0.002, g_loss: -20.3815\n"
     ]
    },
    {
     "name": "stdout",
     "output_type": "stream",
     "text": [
      "[[0.65823735 0.78444272]\n",
      " [0.67728949 0.79753999]\n",
      " [0.6152     0.6883    ]]\n",
      "now at training epoch number 6300 hyp-params: lamda 1.2600 prior 0.1850\n",
      "rec time now 0 dataset now: Syn6\n"
     ]
    },
    {
     "name": "stderr",
     "output_type": "stream",
     "text": [
      "TPR mean: 99.7%  std: 2.9%\n",
      "FDR mean: 17.5%  std: 19.3%\n"
     ]
    },
    {
     "name": "stdout",
     "output_type": "stream",
     "text": [
      "[[0.65762251 0.7949189 ]\n",
      " [0.67786871 0.80570453]\n",
      " [0.6138     0.7045    ]]\n",
      "rec time now 1 dataset now: Syn6\n"
     ]
    },
    {
     "name": "stderr",
     "output_type": "stream",
     "text": [
      "TPR mean: 99.7%  std: 2.9%\n",
      "FDR mean: 14.9%  std: 18.5%\n"
     ]
    },
    {
     "name": "stdout",
     "output_type": "stream",
     "text": [
      "[[0.65762251 0.79477288]\n",
      " [0.67786871 0.80642222]\n",
      " [0.6138     0.7007    ]]\n",
      "rec time now 2 dataset now: Syn6\n"
     ]
    },
    {
     "name": "stderr",
     "output_type": "stream",
     "text": [
      "TPR mean: 99.7%  std: 2.9%\n",
      "FDR mean: 14.8%  std: 18.5%\n"
     ]
    },
    {
     "name": "stdout",
     "output_type": "stream",
     "text": [
      "[[0.65762251 0.79455658]\n",
      " [0.67786871 0.80619838]\n",
      " [0.6138     0.7008    ]]\n",
      "rec time now 3 dataset now: Syn6\n"
     ]
    },
    {
     "name": "stderr",
     "output_type": "stream",
     "text": [
      "TPR mean: 99.7%  std: 2.9%\n",
      "FDR mean: 14.8%  std: 18.5%\n",
      "Epoch:      0, d_loss (Acc)): 0.443, v_loss (Acc): 0.001, g_loss: -20.1546\n"
     ]
    },
    {
     "name": "stdout",
     "output_type": "stream",
     "text": [
      "[[0.65762251 0.79454226]\n",
      " [0.67786871 0.80619225]\n",
      " [0.6138     0.7007    ]]\n",
      "now at training epoch number 6400 hyp-params: lamda 1.2800 prior 0.1800\n",
      "rec time now 0 dataset now: Syn6\n"
     ]
    },
    {
     "name": "stderr",
     "output_type": "stream",
     "text": [
      "TPR mean: 99.7%  std: 3.2%\n",
      "FDR mean: 16.9%  std: 19.4%\n"
     ]
    },
    {
     "name": "stdout",
     "output_type": "stream",
     "text": [
      "[[0.65974388 0.78666901]\n",
      " [0.67883681 0.79791378]\n",
      " [0.6169     0.6979    ]]\n",
      "rec time now 1 dataset now: Syn6\n"
     ]
    },
    {
     "name": "stderr",
     "output_type": "stream",
     "text": [
      "TPR mean: 99.7%  std: 3.2%\n",
      "FDR mean: 14.3%  std: 18.4%\n"
     ]
    },
    {
     "name": "stdout",
     "output_type": "stream",
     "text": [
      "[[0.65974388 0.78626314]\n",
      " [0.67883681 0.79856138]\n",
      " [0.6169     0.6942    ]]\n",
      "rec time now 2 dataset now: Syn6\n"
     ]
    },
    {
     "name": "stderr",
     "output_type": "stream",
     "text": [
      "TPR mean: 99.7%  std: 3.2%\n",
      "FDR mean: 14.2%  std: 18.4%\n"
     ]
    },
    {
     "name": "stdout",
     "output_type": "stream",
     "text": [
      "[[0.65974388 0.78606306]\n",
      " [0.67883681 0.79834183]\n",
      " [0.6169     0.6935    ]]\n",
      "rec time now 3 dataset now: Syn6\n"
     ]
    },
    {
     "name": "stderr",
     "output_type": "stream",
     "text": [
      "TPR mean: 99.7%  std: 3.2%\n",
      "FDR mean: 14.2%  std: 18.4%\n",
      "Epoch:      0, d_loss (Acc)): 0.397, v_loss (Acc): 0.001, g_loss: -17.7963\n"
     ]
    },
    {
     "name": "stdout",
     "output_type": "stream",
     "text": [
      "[[0.65974388 0.7860448 ]\n",
      " [0.67883681 0.79831826]\n",
      " [0.6169     0.6935    ]]\n",
      "now at training epoch number 6500 hyp-params: lamda 1.3000 prior 0.1750\n",
      "rec time now 0 dataset now: Syn6\n"
     ]
    },
    {
     "name": "stderr",
     "output_type": "stream",
     "text": [
      "TPR mean: 99.6%  std: 3.3%\n",
      "FDR mean: 16.8%  std: 19.3%\n"
     ]
    },
    {
     "name": "stdout",
     "output_type": "stream",
     "text": [
      "[[0.65655013 0.80735601]\n",
      " [0.6762444  0.81611735]\n",
      " [0.6119     0.7176    ]]\n",
      "rec time now 1 dataset now: Syn6\n"
     ]
    },
    {
     "name": "stderr",
     "output_type": "stream",
     "text": [
      "TPR mean: 99.6%  std: 3.3%\n",
      "FDR mean: 14.2%  std: 18.3%\n"
     ]
    },
    {
     "name": "stdout",
     "output_type": "stream",
     "text": [
      "[[0.65655013 0.80688386]\n",
      " [0.6762444  0.81665793]\n",
      " [0.6119     0.7143    ]]\n",
      "rec time now 2 dataset now: Syn6\n"
     ]
    },
    {
     "name": "stderr",
     "output_type": "stream",
     "text": [
      "TPR mean: 99.6%  std: 3.3%\n",
      "FDR mean: 14.1%  std: 18.3%\n"
     ]
    },
    {
     "name": "stdout",
     "output_type": "stream",
     "text": [
      "[[0.65655013 0.80688534]\n",
      " [0.6762444  0.81659345]\n",
      " [0.6119     0.7144    ]]\n",
      "rec time now 3 dataset now: Syn6\n"
     ]
    },
    {
     "name": "stderr",
     "output_type": "stream",
     "text": [
      "TPR mean: 99.6%  std: 3.3%\n",
      "FDR mean: 14.1%  std: 18.3%\n",
      "Epoch:      0, d_loss (Acc)): 0.420, v_loss (Acc): 0.001, g_loss: -18.7599\n"
     ]
    },
    {
     "name": "stdout",
     "output_type": "stream",
     "text": [
      "[[0.65655013 0.80678358]\n",
      " [0.6762444  0.81650457]\n",
      " [0.6119     0.7142    ]]\n",
      "now at training epoch number 6600 hyp-params: lamda 1.3200 prior 0.1700\n",
      "rec time now 0 dataset now: Syn6\n"
     ]
    },
    {
     "name": "stderr",
     "output_type": "stream",
     "text": [
      "TPR mean: 99.6%  std: 3.8%\n",
      "FDR mean: 16.4%  std: 19.2%\n"
     ]
    },
    {
     "name": "stdout",
     "output_type": "stream",
     "text": [
      "[[0.65719928 0.79966336]\n",
      " [0.6764017  0.80858794]\n",
      " [0.6136     0.7119    ]]\n",
      "rec time now 1 dataset now: Syn6\n"
     ]
    },
    {
     "name": "stderr",
     "output_type": "stream",
     "text": [
      "TPR mean: 99.6%  std: 3.8%\n",
      "FDR mean: 13.8%  std: 18.1%\n"
     ]
    },
    {
     "name": "stdout",
     "output_type": "stream",
     "text": [
      "[[0.65719928 0.79903668]\n",
      " [0.6764017  0.80917567]\n",
      " [0.6136     0.708     ]]\n",
      "rec time now 2 dataset now: Syn6\n"
     ]
    },
    {
     "name": "stderr",
     "output_type": "stream",
     "text": [
      "TPR mean: 99.6%  std: 3.8%\n",
      "FDR mean: 13.6%  std: 18.1%\n"
     ]
    },
    {
     "name": "stdout",
     "output_type": "stream",
     "text": [
      "[[0.65719928 0.79885163]\n",
      " [0.6764017  0.80901532]\n",
      " [0.6136     0.7076    ]]\n",
      "rec time now 3 dataset now: Syn6\n"
     ]
    },
    {
     "name": "stderr",
     "output_type": "stream",
     "text": [
      "TPR mean: 99.6%  std: 3.8%\n",
      "FDR mean: 13.6%  std: 18.1%\n",
      "Epoch:      0, d_loss (Acc)): 0.403, v_loss (Acc): 0.001, g_loss: -17.5987\n"
     ]
    },
    {
     "name": "stdout",
     "output_type": "stream",
     "text": [
      "[[0.65719928 0.79885685]\n",
      " [0.6764017  0.80901973]\n",
      " [0.6136     0.7076    ]]\n",
      "now at training epoch number 6700 hyp-params: lamda 1.3400 prior 0.1650\n",
      "rec time now 0 dataset now: Syn6\n"
     ]
    },
    {
     "name": "stderr",
     "output_type": "stream",
     "text": [
      "TPR mean: 99.6%  std: 3.6%\n",
      "FDR mean: 16.2%  std: 19.1%\n"
     ]
    },
    {
     "name": "stdout",
     "output_type": "stream",
     "text": [
      "[[0.65688198 0.80530279]\n",
      " [0.67534725 0.81399691]\n",
      " [0.614      0.7158    ]]\n",
      "rec time now 1 dataset now: Syn6\n"
     ]
    },
    {
     "name": "stderr",
     "output_type": "stream",
     "text": [
      "TPR mean: 99.6%  std: 3.6%\n",
      "FDR mean: 13.5%  std: 18.0%\n"
     ]
    },
    {
     "name": "stdout",
     "output_type": "stream",
     "text": [
      "[[0.65688198 0.80504151]\n",
      " [0.67534725 0.8148414 ]\n",
      " [0.614      0.7119    ]]\n",
      "rec time now 2 dataset now: Syn6\n"
     ]
    },
    {
     "name": "stderr",
     "output_type": "stream",
     "text": [
      "TPR mean: 99.6%  std: 3.6%\n",
      "FDR mean: 13.4%  std: 18.0%\n"
     ]
    },
    {
     "name": "stdout",
     "output_type": "stream",
     "text": [
      "[[0.65688198 0.80473856]\n",
      " [0.67534725 0.8145175 ]\n",
      " [0.614      0.7119    ]]\n",
      "rec time now 3 dataset now: Syn6\n"
     ]
    },
    {
     "name": "stderr",
     "output_type": "stream",
     "text": [
      "TPR mean: 99.6%  std: 3.6%\n",
      "FDR mean: 13.4%  std: 18.0%\n",
      "Epoch:      0, d_loss (Acc)): 0.408, v_loss (Acc): 0.002, g_loss: -17.2869\n"
     ]
    },
    {
     "name": "stdout",
     "output_type": "stream",
     "text": [
      "[[0.65688198 0.80473743]\n",
      " [0.67534725 0.81451132]\n",
      " [0.614      0.7119    ]]\n",
      "now at training epoch number 6800 hyp-params: lamda 1.3600 prior 0.1600\n",
      "rec time now 0 dataset now: Syn6\n"
     ]
    },
    {
     "name": "stderr",
     "output_type": "stream",
     "text": [
      "TPR mean: 99.6%  std: 3.7%\n",
      "FDR mean: 15.8%  std: 19.0%\n"
     ]
    },
    {
     "name": "stdout",
     "output_type": "stream",
     "text": [
      "[[0.65991819 0.8163077 ]\n",
      " [0.67880249 0.82365932]\n",
      " [0.6139     0.727     ]]\n",
      "rec time now 1 dataset now: Syn6\n"
     ]
    },
    {
     "name": "stderr",
     "output_type": "stream",
     "text": [
      "TPR mean: 99.6%  std: 3.7%\n",
      "FDR mean: 13.2%  std: 17.9%\n"
     ]
    },
    {
     "name": "stdout",
     "output_type": "stream",
     "text": [
      "[[0.65991819 0.81617077]\n",
      " [0.67880249 0.82444538]\n",
      " [0.6139     0.7247    ]]\n",
      "rec time now 2 dataset now: Syn6\n"
     ]
    },
    {
     "name": "stderr",
     "output_type": "stream",
     "text": [
      "TPR mean: 99.6%  std: 3.7%\n",
      "FDR mean: 13.1%  std: 17.9%\n"
     ]
    },
    {
     "name": "stdout",
     "output_type": "stream",
     "text": [
      "[[0.65991819 0.81604123]\n",
      " [0.67880249 0.82429831]\n",
      " [0.6139     0.7241    ]]\n",
      "rec time now 3 dataset now: Syn6\n"
     ]
    },
    {
     "name": "stderr",
     "output_type": "stream",
     "text": [
      "TPR mean: 99.6%  std: 3.7%\n",
      "FDR mean: 13.1%  std: 17.9%\n",
      "Epoch:      0, d_loss (Acc)): 0.422, v_loss (Acc): 0.001, g_loss: -17.7117\n"
     ]
    },
    {
     "name": "stdout",
     "output_type": "stream",
     "text": [
      "[[0.65991819 0.81604123]\n",
      " [0.67880249 0.82429831]\n",
      " [0.6139     0.7241    ]]\n",
      "now at training epoch number 6900 hyp-params: lamda 1.3800 prior 0.1550\n",
      "rec time now 0 dataset now: Syn6\n"
     ]
    },
    {
     "name": "stderr",
     "output_type": "stream",
     "text": [
      "TPR mean: 99.5%  std: 4.2%\n",
      "FDR mean: 15.4%  std: 19.0%\n"
     ]
    },
    {
     "name": "stdout",
     "output_type": "stream",
     "text": [
      "[[0.65881437 0.81535582]\n",
      " [0.67721768 0.82259298]\n",
      " [0.6139     0.727     ]]\n",
      "rec time now 1 dataset now: Syn6\n"
     ]
    },
    {
     "name": "stderr",
     "output_type": "stream",
     "text": [
      "TPR mean: 99.5%  std: 4.2%\n",
      "FDR mean: 12.7%  std: 17.8%\n"
     ]
    },
    {
     "name": "stdout",
     "output_type": "stream",
     "text": [
      "[[0.65881437 0.8147229 ]\n",
      " [0.67721768 0.82303624]\n",
      " [0.6139     0.7233    ]]\n",
      "rec time now 2 dataset now: Syn6\n"
     ]
    },
    {
     "name": "stderr",
     "output_type": "stream",
     "text": [
      "TPR mean: 99.5%  std: 4.2%\n",
      "FDR mean: 12.6%  std: 17.8%\n"
     ]
    },
    {
     "name": "stdout",
     "output_type": "stream",
     "text": [
      "[[0.65881437 0.81460771]\n",
      " [0.67721768 0.82294924]\n",
      " [0.6139     0.7235    ]]\n",
      "rec time now 3 dataset now: Syn6\n"
     ]
    },
    {
     "name": "stderr",
     "output_type": "stream",
     "text": [
      "TPR mean: 99.5%  std: 4.2%\n",
      "FDR mean: 12.6%  std: 17.8%\n",
      "Epoch:      0, d_loss (Acc)): 0.408, v_loss (Acc): 0.001, g_loss: -16.9518\n"
     ]
    },
    {
     "name": "stdout",
     "output_type": "stream",
     "text": [
      "[[0.65881437 0.81457944]\n",
      " [0.67721768 0.82292546]\n",
      " [0.6139     0.7235    ]]\n",
      "now at training epoch number 7000 hyp-params: lamda 1.4000 prior 0.1500\n",
      "rec time now 0 dataset now: Syn6\n"
     ]
    },
    {
     "name": "stderr",
     "output_type": "stream",
     "text": [
      "TPR mean: 99.5%  std: 4.4%\n",
      "FDR mean: 15.0%  std: 19.0%\n"
     ]
    },
    {
     "name": "stdout",
     "output_type": "stream",
     "text": [
      "[[0.65805635 0.80261619]\n",
      " [0.67667164 0.81148077]\n",
      " [0.6156     0.7155    ]]\n",
      "rec time now 1 dataset now: Syn6\n"
     ]
    },
    {
     "name": "stderr",
     "output_type": "stream",
     "text": [
      "TPR mean: 99.5%  std: 4.4%\n",
      "FDR mean: 12.3%  std: 17.7%\n"
     ]
    },
    {
     "name": "stdout",
     "output_type": "stream",
     "text": [
      "[[0.65805635 0.80192733]\n",
      " [0.67667164 0.81202774]\n",
      " [0.6156     0.7102    ]]\n",
      "rec time now 2 dataset now: Syn6\n"
     ]
    },
    {
     "name": "stderr",
     "output_type": "stream",
     "text": [
      "TPR mean: 99.5%  std: 4.4%\n",
      "FDR mean: 12.2%  std: 17.7%\n"
     ]
    },
    {
     "name": "stdout",
     "output_type": "stream",
     "text": [
      "[[0.65805635 0.80166381]\n",
      " [0.67667164 0.81181408]\n",
      " [0.6156     0.71      ]]\n",
      "rec time now 3 dataset now: Syn6\n"
     ]
    },
    {
     "name": "stderr",
     "output_type": "stream",
     "text": [
      "TPR mean: 99.5%  std: 4.4%\n",
      "FDR mean: 12.2%  std: 17.7%\n",
      "Epoch:      0, d_loss (Acc)): 0.396, v_loss (Acc): 0.001, g_loss: -16.1314\n"
     ]
    },
    {
     "name": "stdout",
     "output_type": "stream",
     "text": [
      "[[0.65805635 0.80161925]\n",
      " [0.67667164 0.81177813]\n",
      " [0.6156     0.71      ]]\n",
      "now at training epoch number 7100 hyp-params: lamda 1.4200 prior 0.1450\n",
      "rec time now 0 dataset now: Syn6\n"
     ]
    },
    {
     "name": "stderr",
     "output_type": "stream",
     "text": [
      "TPR mean: 99.5%  std: 4.3%\n",
      "FDR mean: 14.8%  std: 19.0%\n"
     ]
    },
    {
     "name": "stdout",
     "output_type": "stream",
     "text": [
      "[[0.65972291 0.81257594]\n",
      " [0.67809276 0.82065608]\n",
      " [0.6168     0.7262    ]]\n",
      "rec time now 1 dataset now: Syn6\n"
     ]
    },
    {
     "name": "stderr",
     "output_type": "stream",
     "text": [
      "TPR mean: 99.5%  std: 4.3%\n",
      "FDR mean: 12.1%  std: 17.7%\n"
     ]
    },
    {
     "name": "stdout",
     "output_type": "stream",
     "text": [
      "[[0.65972291 0.81232504]\n",
      " [0.67809276 0.82123971]\n",
      " [0.6168     0.7219    ]]\n",
      "rec time now 2 dataset now: Syn6\n"
     ]
    },
    {
     "name": "stderr",
     "output_type": "stream",
     "text": [
      "TPR mean: 99.5%  std: 4.3%\n",
      "FDR mean: 12.0%  std: 17.7%\n"
     ]
    },
    {
     "name": "stdout",
     "output_type": "stream",
     "text": [
      "[[0.65972291 0.81210013]\n",
      " [0.67809276 0.82106466]\n",
      " [0.6168     0.7214    ]]\n",
      "rec time now 3 dataset now: Syn6\n"
     ]
    },
    {
     "name": "stderr",
     "output_type": "stream",
     "text": [
      "TPR mean: 99.5%  std: 4.3%\n",
      "FDR mean: 12.0%  std: 17.7%\n",
      "Epoch:      0, d_loss (Acc)): 0.424, v_loss (Acc): 0.001, g_loss: -16.7468\n"
     ]
    },
    {
     "name": "stdout",
     "output_type": "stream",
     "text": [
      "[[0.65972291 0.81208142]\n",
      " [0.67809276 0.82104606]\n",
      " [0.6168     0.7214    ]]\n",
      "now at training epoch number 7200 hyp-params: lamda 1.4400 prior 0.1400\n",
      "rec time now 0 dataset now: Syn6\n"
     ]
    },
    {
     "name": "stderr",
     "output_type": "stream",
     "text": [
      "TPR mean: 99.5%  std: 4.5%\n",
      "FDR mean: 14.4%  std: 18.9%\n"
     ]
    },
    {
     "name": "stdout",
     "output_type": "stream",
     "text": [
      "[[0.65736974 0.81775694]\n",
      " [0.6753044  0.82540576]\n",
      " [0.6118     0.7304    ]]\n",
      "rec time now 1 dataset now: Syn6\n"
     ]
    },
    {
     "name": "stderr",
     "output_type": "stream",
     "text": [
      "TPR mean: 99.5%  std: 4.5%\n",
      "FDR mean: 11.6%  std: 17.5%\n"
     ]
    },
    {
     "name": "stdout",
     "output_type": "stream",
     "text": [
      "[[0.65736974 0.81770801]\n",
      " [0.6753044  0.82621606]\n",
      " [0.6118     0.7263    ]]\n",
      "rec time now 2 dataset now: Syn6\n"
     ]
    },
    {
     "name": "stderr",
     "output_type": "stream",
     "text": [
      "TPR mean: 99.5%  std: 4.5%\n",
      "FDR mean: 11.5%  std: 17.5%\n"
     ]
    },
    {
     "name": "stdout",
     "output_type": "stream",
     "text": [
      "[[0.65736974 0.81731171]\n",
      " [0.6753044  0.82583685]\n",
      " [0.6118     0.7259    ]]\n",
      "rec time now 3 dataset now: Syn6\n"
     ]
    },
    {
     "name": "stderr",
     "output_type": "stream",
     "text": [
      "TPR mean: 99.5%  std: 4.5%\n",
      "FDR mean: 11.5%  std: 17.5%\n",
      "Epoch:      0, d_loss (Acc)): 0.397, v_loss (Acc): 0.002, g_loss: -15.3784\n"
     ]
    },
    {
     "name": "stdout",
     "output_type": "stream",
     "text": [
      "[[0.65736974 0.8173127 ]\n",
      " [0.6753044  0.82583769]\n",
      " [0.6118     0.726     ]]\n",
      "now at training epoch number 7300 hyp-params: lamda 1.4600 prior 0.1350\n",
      "rec time now 0 dataset now: Syn6\n"
     ]
    },
    {
     "name": "stderr",
     "output_type": "stream",
     "text": [
      "TPR mean: 99.5%  std: 4.6%\n",
      "FDR mean: 14.0%  std: 19.0%\n"
     ]
    },
    {
     "name": "stdout",
     "output_type": "stream",
     "text": [
      "[[0.65747656 0.82900703]\n",
      " [0.67528169 0.83547907]\n",
      " [0.6175     0.7441    ]]\n",
      "rec time now 1 dataset now: Syn6\n"
     ]
    },
    {
     "name": "stderr",
     "output_type": "stream",
     "text": [
      "TPR mean: 99.5%  std: 4.6%\n",
      "FDR mean: 11.3%  std: 17.5%\n"
     ]
    },
    {
     "name": "stdout",
     "output_type": "stream",
     "text": [
      "[[0.65747656 0.82830771]\n",
      " [0.67528169 0.83590489]\n",
      " [0.6175     0.7393    ]]\n",
      "rec time now 2 dataset now: Syn6\n"
     ]
    },
    {
     "name": "stderr",
     "output_type": "stream",
     "text": [
      "TPR mean: 99.5%  std: 4.6%\n",
      "FDR mean: 11.2%  std: 17.5%\n"
     ]
    },
    {
     "name": "stdout",
     "output_type": "stream",
     "text": [
      "[[0.65747656 0.82817391]\n",
      " [0.67528169 0.83581849]\n",
      " [0.6175     0.739     ]]\n",
      "rec time now 3 dataset now: Syn6\n"
     ]
    },
    {
     "name": "stderr",
     "output_type": "stream",
     "text": [
      "TPR mean: 99.5%  std: 4.6%\n",
      "FDR mean: 11.2%  std: 17.5%\n",
      "Epoch:      0, d_loss (Acc)): 0.390, v_loss (Acc): 0.017, g_loss: -14.2414\n"
     ]
    },
    {
     "name": "stdout",
     "output_type": "stream",
     "text": [
      "[[0.65747656 0.82811058]\n",
      " [0.67528169 0.8357602 ]\n",
      " [0.6175     0.739     ]]\n",
      "now at training epoch number 7400 hyp-params: lamda 1.4800 prior 0.1300\n",
      "rec time now 0 dataset now: Syn6\n"
     ]
    },
    {
     "name": "stderr",
     "output_type": "stream",
     "text": [
      "TPR mean: 99.6%  std: 4.2%\n",
      "FDR mean: 13.9%  std: 19.0%\n"
     ]
    },
    {
     "name": "stdout",
     "output_type": "stream",
     "text": [
      "[[0.65887973 0.81862662]\n",
      " [0.67706526 0.82623662]\n",
      " [0.6167     0.7329    ]]\n",
      "rec time now 1 dataset now: Syn6\n"
     ]
    },
    {
     "name": "stderr",
     "output_type": "stream",
     "text": [
      "TPR mean: 99.6%  std: 4.2%\n",
      "FDR mean: 11.1%  std: 17.5%\n"
     ]
    },
    {
     "name": "stdout",
     "output_type": "stream",
     "text": [
      "[[0.65887973 0.81838735]\n",
      " [0.67706526 0.82696213]\n",
      " [0.6167     0.7306    ]]\n",
      "rec time now 2 dataset now: Syn6\n"
     ]
    },
    {
     "name": "stderr",
     "output_type": "stream",
     "text": [
      "TPR mean: 99.6%  std: 4.2%\n",
      "FDR mean: 11.0%  std: 17.5%\n"
     ]
    },
    {
     "name": "stdout",
     "output_type": "stream",
     "text": [
      "[[0.65887973 0.8183415 ]\n",
      " [0.67706526 0.82691899]\n",
      " [0.6167     0.7308    ]]\n",
      "rec time now 3 dataset now: Syn6\n"
     ]
    },
    {
     "name": "stderr",
     "output_type": "stream",
     "text": [
      "TPR mean: 99.6%  std: 4.2%\n",
      "FDR mean: 11.0%  std: 17.5%\n",
      "Epoch:      0, d_loss (Acc)): 0.418, v_loss (Acc): 0.001, g_loss: -15.3236\n"
     ]
    },
    {
     "name": "stdout",
     "output_type": "stream",
     "text": [
      "[[0.65887973 0.81832152]\n",
      " [0.67706526 0.82689494]\n",
      " [0.6167     0.7307    ]]\n",
      "now at training epoch number 7500 hyp-params: lamda 1.5000 prior 0.1250\n",
      "rec time now 0 dataset now: Syn6\n"
     ]
    },
    {
     "name": "stderr",
     "output_type": "stream",
     "text": [
      "TPR mean: 99.6%  std: 4.1%\n",
      "FDR mean: 13.6%  std: 19.0%\n"
     ]
    },
    {
     "name": "stdout",
     "output_type": "stream",
     "text": [
      "[[0.66013748 0.82045827]\n",
      " [0.6786767  0.82774444]\n",
      " [0.6165     0.7336    ]]\n",
      "rec time now 1 dataset now: Syn6\n"
     ]
    },
    {
     "name": "stderr",
     "output_type": "stream",
     "text": [
      "TPR mean: 99.6%  std: 4.1%\n",
      "FDR mean: 11.0%  std: 17.6%\n"
     ]
    },
    {
     "name": "stdout",
     "output_type": "stream",
     "text": [
      "[[0.66013748 0.82055142]\n",
      " [0.6786767  0.8286788 ]\n",
      " [0.6165     0.7324    ]]\n",
      "rec time now 2 dataset now: Syn6\n"
     ]
    },
    {
     "name": "stderr",
     "output_type": "stream",
     "text": [
      "TPR mean: 99.6%  std: 4.1%\n",
      "FDR mean: 10.9%  std: 17.6%\n"
     ]
    },
    {
     "name": "stdout",
     "output_type": "stream",
     "text": [
      "[[0.66013748 0.82043871]\n",
      " [0.6786767  0.82856287]\n",
      " [0.6165     0.7324    ]]\n",
      "rec time now 3 dataset now: Syn6\n"
     ]
    },
    {
     "name": "stderr",
     "output_type": "stream",
     "text": [
      "TPR mean: 99.6%  std: 4.1%\n",
      "FDR mean: 10.9%  std: 17.5%\n",
      "Epoch:      0, d_loss (Acc)): 0.418, v_loss (Acc): 0.001, g_loss: -15.1636\n"
     ]
    },
    {
     "name": "stdout",
     "output_type": "stream",
     "text": [
      "[[0.66013748 0.82039744]\n",
      " [0.6786767  0.82852918]\n",
      " [0.6165     0.7323    ]]\n",
      "now at training epoch number 7600 hyp-params: lamda 1.5200 prior 0.1200\n",
      "rec time now 0 dataset now: Syn6\n"
     ]
    },
    {
     "name": "stderr",
     "output_type": "stream",
     "text": [
      "TPR mean: 99.6%  std: 3.8%\n",
      "FDR mean: 13.3%  std: 18.7%\n"
     ]
    },
    {
     "name": "stdout",
     "output_type": "stream",
     "text": [
      "[[0.65871817 0.82124052]\n",
      " [0.67714179 0.82839268]\n",
      " [0.6157     0.7381    ]]\n",
      "rec time now 1 dataset now: Syn6\n"
     ]
    },
    {
     "name": "stderr",
     "output_type": "stream",
     "text": [
      "TPR mean: 99.6%  std: 3.8%\n",
      "FDR mean: 10.8%  std: 17.3%\n"
     ]
    },
    {
     "name": "stdout",
     "output_type": "stream",
     "text": [
      "[[0.65871817 0.82133712]\n",
      " [0.67714179 0.82924855]\n",
      " [0.6157     0.7341    ]]\n",
      "rec time now 2 dataset now: Syn6\n"
     ]
    },
    {
     "name": "stderr",
     "output_type": "stream",
     "text": [
      "TPR mean: 99.6%  std: 3.8%\n",
      "FDR mean: 10.7%  std: 17.3%\n"
     ]
    },
    {
     "name": "stdout",
     "output_type": "stream",
     "text": [
      "[[0.65871817 0.82143476]\n",
      " [0.67714179 0.82933422]\n",
      " [0.6157     0.7337    ]]\n",
      "rec time now 3 dataset now: Syn6\n"
     ]
    },
    {
     "name": "stderr",
     "output_type": "stream",
     "text": [
      "TPR mean: 99.6%  std: 3.8%\n",
      "FDR mean: 10.7%  std: 17.3%\n",
      "Epoch:      0, d_loss (Acc)): 0.416, v_loss (Acc): 0.001, g_loss: -14.4761\n"
     ]
    },
    {
     "name": "stdout",
     "output_type": "stream",
     "text": [
      "[[0.65871817 0.82141393]\n",
      " [0.67714179 0.82930721]\n",
      " [0.6157     0.7336    ]]\n",
      "now at training epoch number 7700 hyp-params: lamda 1.5400 prior 0.1150\n",
      "rec time now 0 dataset now: Syn6\n"
     ]
    },
    {
     "name": "stderr",
     "output_type": "stream",
     "text": [
      "TPR mean: 99.6%  std: 3.6%\n",
      "FDR mean: 13.0%  std: 18.6%\n"
     ]
    },
    {
     "name": "stdout",
     "output_type": "stream",
     "text": [
      "[[0.65970944 0.82629114]\n",
      " [0.67829732 0.8340541 ]\n",
      " [0.6177     0.7407    ]]\n",
      "rec time now 1 dataset now: Syn6\n"
     ]
    },
    {
     "name": "stderr",
     "output_type": "stream",
     "text": [
      "TPR mean: 99.6%  std: 3.6%\n",
      "FDR mean: 10.5%  std: 17.1%\n"
     ]
    },
    {
     "name": "stdout",
     "output_type": "stream",
     "text": [
      "[[0.65970944 0.82672996]\n",
      " [0.67829732 0.83504147]\n",
      " [0.6177     0.7394    ]]\n",
      "rec time now 2 dataset now: Syn6\n"
     ]
    },
    {
     "name": "stderr",
     "output_type": "stream",
     "text": [
      "TPR mean: 99.6%  std: 3.6%\n",
      "FDR mean: 10.4%  std: 17.1%\n"
     ]
    },
    {
     "name": "stdout",
     "output_type": "stream",
     "text": [
      "[[0.65970944 0.82679275]\n",
      " [0.67829732 0.83512177]\n",
      " [0.6177     0.7393    ]]\n",
      "rec time now 3 dataset now: Syn6\n"
     ]
    },
    {
     "name": "stderr",
     "output_type": "stream",
     "text": [
      "TPR mean: 99.6%  std: 3.6%\n",
      "FDR mean: 10.4%  std: 17.1%\n",
      "Epoch:      0, d_loss (Acc)): 0.438, v_loss (Acc): 0.001, g_loss: -15.2035\n"
     ]
    },
    {
     "name": "stdout",
     "output_type": "stream",
     "text": [
      "[[0.65970944 0.82676874]\n",
      " [0.67829732 0.83508677]\n",
      " [0.6177     0.7392    ]]\n",
      "now at training epoch number 7800 hyp-params: lamda 1.5600 prior 0.1100\n",
      "rec time now 0 dataset now: Syn6\n"
     ]
    },
    {
     "name": "stderr",
     "output_type": "stream",
     "text": [
      "TPR mean: 99.6%  std: 3.8%\n",
      "FDR mean: 12.8%  std: 18.6%\n"
     ]
    },
    {
     "name": "stdout",
     "output_type": "stream",
     "text": [
      "[[0.65941694 0.83743699]\n",
      " [0.67767821 0.84460121]\n",
      " [0.6155     0.7556    ]]\n",
      "rec time now 1 dataset now: Syn6\n"
     ]
    },
    {
     "name": "stderr",
     "output_type": "stream",
     "text": [
      "TPR mean: 99.6%  std: 3.8%\n",
      "FDR mean: 10.2%  std: 17.1%\n"
     ]
    },
    {
     "name": "stdout",
     "output_type": "stream",
     "text": [
      "[[0.65941694 0.8379318 ]\n",
      " [0.67767821 0.84564177]\n",
      " [0.6155     0.7536    ]]\n",
      "rec time now 2 dataset now: Syn6\n"
     ]
    },
    {
     "name": "stderr",
     "output_type": "stream",
     "text": [
      "TPR mean: 99.6%  std: 3.8%\n",
      "FDR mean: 10.1%  std: 17.0%\n"
     ]
    },
    {
     "name": "stdout",
     "output_type": "stream",
     "text": [
      "[[0.65941694 0.83777626]\n",
      " [0.67767821 0.84547949]\n",
      " [0.6155     0.7531    ]]\n",
      "rec time now 3 dataset now: Syn6\n"
     ]
    },
    {
     "name": "stderr",
     "output_type": "stream",
     "text": [
      "TPR mean: 99.6%  std: 3.8%\n",
      "FDR mean: 10.1%  std: 17.0%\n",
      "Epoch:      0, d_loss (Acc)): 0.412, v_loss (Acc): 0.001, g_loss: -13.7367\n"
     ]
    },
    {
     "name": "stdout",
     "output_type": "stream",
     "text": [
      "[[0.65941694 0.83774311]\n",
      " [0.67767821 0.84544973]\n",
      " [0.6155     0.7529    ]]\n",
      "now at training epoch number 7900 hyp-params: lamda 1.5800 prior 0.1050\n",
      "rec time now 0 dataset now: Syn6\n"
     ]
    },
    {
     "name": "stderr",
     "output_type": "stream",
     "text": [
      "TPR mean: 99.6%  std: 4.2%\n",
      "FDR mean: 12.4%  std: 18.5%\n"
     ]
    },
    {
     "name": "stdout",
     "output_type": "stream",
     "text": [
      "[[0.65865401 0.82811485]\n",
      " [0.67596907 0.83557035]\n",
      " [0.6152     0.7443    ]]\n",
      "rec time now 1 dataset now: Syn6\n"
     ]
    },
    {
     "name": "stderr",
     "output_type": "stream",
     "text": [
      "TPR mean: 99.6%  std: 4.2%\n",
      "FDR mean: 9.9%  std: 16.9%\n"
     ]
    },
    {
     "name": "stdout",
     "output_type": "stream",
     "text": [
      "[[0.65865401 0.82855492]\n",
      " [0.67596907 0.83657928]\n",
      " [0.6152     0.7435    ]]\n",
      "rec time now 2 dataset now: Syn6\n"
     ]
    },
    {
     "name": "stderr",
     "output_type": "stream",
     "text": [
      "TPR mean: 99.6%  std: 4.2%\n",
      "FDR mean: 9.8%  std: 16.9%\n"
     ]
    },
    {
     "name": "stdout",
     "output_type": "stream",
     "text": [
      "[[0.65865401 0.82844993]\n",
      " [0.67596907 0.83649451]\n",
      " [0.6152     0.743     ]]\n",
      "rec time now 3 dataset now: Syn6\n"
     ]
    },
    {
     "name": "stderr",
     "output_type": "stream",
     "text": [
      "TPR mean: 99.6%  std: 4.2%\n",
      "FDR mean: 9.8%  std: 16.9%\n",
      "Epoch:      0, d_loss (Acc)): 0.403, v_loss (Acc): 0.001, g_loss: -13.0226\n"
     ]
    },
    {
     "name": "stdout",
     "output_type": "stream",
     "text": [
      "[[0.65865401 0.8284459 ]\n",
      " [0.67596907 0.8364952 ]\n",
      " [0.6152     0.7431    ]]\n",
      "now at training epoch number 8000 hyp-params: lamda 1.6000 prior 0.1000\n",
      "rec time now 0 dataset now: Syn6\n"
     ]
    },
    {
     "name": "stderr",
     "output_type": "stream",
     "text": [
      "TPR mean: 99.6%  std: 3.9%\n",
      "FDR mean: 12.2%  std: 18.4%\n"
     ]
    },
    {
     "name": "stdout",
     "output_type": "stream",
     "text": [
      "[[0.65911368 0.83510752]\n",
      " [0.67725739 0.84228878]\n",
      " [0.6167     0.7524    ]]\n",
      "rec time now 1 dataset now: Syn6\n"
     ]
    },
    {
     "name": "stderr",
     "output_type": "stream",
     "text": [
      "TPR mean: 99.6%  std: 3.9%\n",
      "FDR mean: 9.8%  std: 16.9%\n"
     ]
    },
    {
     "name": "stdout",
     "output_type": "stream",
     "text": [
      "[[0.65911368 0.83559685]\n",
      " [0.67725739 0.84335863]\n",
      " [0.6167     0.7495    ]]\n",
      "rec time now 2 dataset now: Syn6\n"
     ]
    },
    {
     "name": "stderr",
     "output_type": "stream",
     "text": [
      "TPR mean: 99.6%  std: 3.9%\n",
      "FDR mean: 9.7%  std: 16.8%\n"
     ]
    },
    {
     "name": "stdout",
     "output_type": "stream",
     "text": [
      "[[0.65911368 0.8354765 ]\n",
      " [0.67725739 0.84323377]\n",
      " [0.6167     0.7494    ]]\n",
      "rec time now 3 dataset now: Syn6\n"
     ]
    },
    {
     "name": "stderr",
     "output_type": "stream",
     "text": [
      "TPR mean: 99.6%  std: 3.9%\n",
      "FDR mean: 9.7%  std: 16.8%\n",
      "Epoch:      0, d_loss (Acc)): 0.434, v_loss (Acc): 0.001, g_loss: -13.4471\n"
     ]
    },
    {
     "name": "stdout",
     "output_type": "stream",
     "text": [
      "[[0.65911368 0.83546518]\n",
      " [0.67725739 0.84322466]\n",
      " [0.6167     0.7493    ]]\n",
      "now at training epoch number 8100 hyp-params: lamda 1.6200 prior 0.0950\n",
      "rec time now 0 dataset now: Syn6\n"
     ]
    },
    {
     "name": "stderr",
     "output_type": "stream",
     "text": [
      "TPR mean: 99.6%  std: 4.1%\n",
      "FDR mean: 11.9%  std: 18.2%\n"
     ]
    },
    {
     "name": "stdout",
     "output_type": "stream",
     "text": [
      "[[0.65925827 0.83514176]\n",
      " [0.67718324 0.84178299]\n",
      " [0.6156     0.7565    ]]\n",
      "rec time now 1 dataset now: Syn6\n"
     ]
    },
    {
     "name": "stderr",
     "output_type": "stream",
     "text": [
      "TPR mean: 99.6%  std: 4.1%\n",
      "FDR mean: 9.5%  std: 16.7%\n"
     ]
    },
    {
     "name": "stdout",
     "output_type": "stream",
     "text": [
      "[[0.65925827 0.83601074]\n",
      " [0.67718324 0.84316361]\n",
      " [0.6156     0.7527    ]]\n",
      "rec time now 2 dataset now: Syn6\n"
     ]
    },
    {
     "name": "stderr",
     "output_type": "stream",
     "text": [
      "TPR mean: 99.6%  std: 4.1%\n",
      "FDR mean: 9.4%  std: 16.6%\n"
     ]
    },
    {
     "name": "stdout",
     "output_type": "stream",
     "text": [
      "[[0.65925827 0.83581152]\n",
      " [0.67718324 0.84292185]\n",
      " [0.6156     0.7524    ]]\n",
      "rec time now 3 dataset now: Syn6\n"
     ]
    },
    {
     "name": "stderr",
     "output_type": "stream",
     "text": [
      "TPR mean: 99.6%  std: 4.1%\n",
      "FDR mean: 9.4%  std: 16.6%\n",
      "Epoch:      0, d_loss (Acc)): 0.434, v_loss (Acc): 0.001, g_loss: -13.2080\n"
     ]
    },
    {
     "name": "stdout",
     "output_type": "stream",
     "text": [
      "[[0.65925827 0.83582049]\n",
      " [0.67718324 0.84293265]\n",
      " [0.6156     0.7524    ]]\n",
      "now at training epoch number 8200 hyp-params: lamda 1.6400 prior 0.0900\n",
      "rec time now 0 dataset now: Syn6\n"
     ]
    },
    {
     "name": "stderr",
     "output_type": "stream",
     "text": [
      "TPR mean: 99.6%  std: 3.9%\n",
      "FDR mean: 11.8%  std: 18.2%\n"
     ]
    },
    {
     "name": "stdout",
     "output_type": "stream",
     "text": [
      "[[0.65933097 0.85199131]\n",
      " [0.67670632 0.85941045]\n",
      " [0.6162     0.7733    ]]\n",
      "rec time now 1 dataset now: Syn6\n"
     ]
    },
    {
     "name": "stderr",
     "output_type": "stream",
     "text": [
      "TPR mean: 99.6%  std: 3.9%\n",
      "FDR mean: 9.4%  std: 16.6%\n"
     ]
    },
    {
     "name": "stdout",
     "output_type": "stream",
     "text": [
      "[[0.65933097 0.85273491]\n",
      " [0.67670632 0.86057957]\n",
      " [0.6162     0.7702    ]]\n",
      "rec time now 2 dataset now: Syn6\n"
     ]
    },
    {
     "name": "stderr",
     "output_type": "stream",
     "text": [
      "TPR mean: 99.6%  std: 3.9%\n",
      "FDR mean: 9.3%  std: 16.6%\n"
     ]
    },
    {
     "name": "stdout",
     "output_type": "stream",
     "text": [
      "[[0.65933097 0.85261553]\n",
      " [0.67670632 0.86040828]\n",
      " [0.6162     0.7696    ]]\n",
      "rec time now 3 dataset now: Syn6\n"
     ]
    },
    {
     "name": "stderr",
     "output_type": "stream",
     "text": [
      "TPR mean: 99.6%  std: 3.9%\n",
      "FDR mean: 9.3%  std: 16.6%\n",
      "Epoch:      0, d_loss (Acc)): 0.403, v_loss (Acc): 0.000, g_loss: -11.6297\n"
     ]
    },
    {
     "name": "stdout",
     "output_type": "stream",
     "text": [
      "[[0.65933097 0.85258942]\n",
      " [0.67670632 0.86037188]\n",
      " [0.6162     0.7697    ]]\n",
      "now at training epoch number 8300 hyp-params: lamda 1.6600 prior 0.0850\n",
      "rec time now 0 dataset now: Syn6\n"
     ]
    },
    {
     "name": "stderr",
     "output_type": "stream",
     "text": [
      "TPR mean: 99.6%  std: 4.2%\n",
      "FDR mean: 11.3%  std: 18.0%\n"
     ]
    },
    {
     "name": "stdout",
     "output_type": "stream",
     "text": [
      "[[0.65997884 0.85065869]\n",
      " [0.67768305 0.85711264]\n",
      " [0.6177     0.7713    ]]\n",
      "rec time now 1 dataset now: Syn6\n"
     ]
    },
    {
     "name": "stderr",
     "output_type": "stream",
     "text": [
      "TPR mean: 99.6%  std: 4.2%\n",
      "FDR mean: 8.9%  std: 16.4%\n"
     ]
    },
    {
     "name": "stdout",
     "output_type": "stream",
     "text": [
      "[[0.65997884 0.85104645]\n",
      " [0.67768305 0.8578955 ]\n",
      " [0.6177     0.7689    ]]\n",
      "rec time now 2 dataset now: Syn6\n"
     ]
    },
    {
     "name": "stderr",
     "output_type": "stream",
     "text": [
      "TPR mean: 99.6%  std: 4.2%\n",
      "FDR mean: 8.8%  std: 16.4%\n"
     ]
    },
    {
     "name": "stdout",
     "output_type": "stream",
     "text": [
      "[[0.65997884 0.85087447]\n",
      " [0.67768305 0.85769682]\n",
      " [0.6177     0.7686    ]]\n",
      "rec time now 3 dataset now: Syn6\n"
     ]
    },
    {
     "name": "stderr",
     "output_type": "stream",
     "text": [
      "TPR mean: 99.6%  std: 4.2%\n",
      "FDR mean: 8.8%  std: 16.4%\n",
      "Epoch:      0, d_loss (Acc)): 0.394, v_loss (Acc): 0.001, g_loss: -11.0642\n"
     ]
    },
    {
     "name": "stdout",
     "output_type": "stream",
     "text": [
      "[[0.65997884 0.85084906]\n",
      " [0.67768305 0.85767234]\n",
      " [0.6177     0.7686    ]]\n",
      "now at training epoch number 8400 hyp-params: lamda 1.6800 prior 0.0800\n",
      "rec time now 0 dataset now: Syn6\n"
     ]
    },
    {
     "name": "stderr",
     "output_type": "stream",
     "text": [
      "TPR mean: 99.6%  std: 4.1%\n",
      "FDR mean: 11.0%  std: 17.8%\n"
     ]
    },
    {
     "name": "stdout",
     "output_type": "stream",
     "text": [
      "[[0.65942941 0.84890202]\n",
      " [0.67767042 0.85562241]\n",
      " [0.616      0.7697    ]]\n",
      "rec time now 1 dataset now: Syn6\n"
     ]
    },
    {
     "name": "stderr",
     "output_type": "stream",
     "text": [
      "TPR mean: 99.6%  std: 4.1%\n",
      "FDR mean: 8.6%  std: 16.1%\n"
     ]
    },
    {
     "name": "stdout",
     "output_type": "stream",
     "text": [
      "[[0.65942941 0.85028779]\n",
      " [0.67767042 0.85753612]\n",
      " [0.616      0.7686    ]]\n",
      "rec time now 2 dataset now: Syn6\n"
     ]
    },
    {
     "name": "stderr",
     "output_type": "stream",
     "text": [
      "TPR mean: 99.6%  std: 4.1%\n",
      "FDR mean: 8.5%  std: 16.1%\n"
     ]
    },
    {
     "name": "stdout",
     "output_type": "stream",
     "text": [
      "[[0.65942941 0.85004159]\n",
      " [0.67767042 0.85728252]\n",
      " [0.616      0.7682    ]]\n",
      "rec time now 3 dataset now: Syn6\n"
     ]
    },
    {
     "name": "stderr",
     "output_type": "stream",
     "text": [
      "TPR mean: 99.6%  std: 4.1%\n",
      "FDR mean: 8.5%  std: 16.1%\n",
      "Epoch:      0, d_loss (Acc)): 0.401, v_loss (Acc): 0.000, g_loss: -10.8220\n"
     ]
    },
    {
     "name": "stdout",
     "output_type": "stream",
     "text": [
      "[[0.65942941 0.85003163]\n",
      " [0.67767042 0.8572709 ]\n",
      " [0.616      0.7682    ]]\n",
      "now at training epoch number 8500 hyp-params: lamda 1.7000 prior 0.0750\n",
      "rec time now 0 dataset now: Syn6\n"
     ]
    },
    {
     "name": "stderr",
     "output_type": "stream",
     "text": [
      "TPR mean: 99.5%  std: 4.4%\n",
      "FDR mean: 10.7%  std: 17.7%\n"
     ]
    },
    {
     "name": "stdout",
     "output_type": "stream",
     "text": [
      "[[0.66009578 0.85067437]\n",
      " [0.67781484 0.85808782]\n",
      " [0.616      0.7691    ]]\n",
      "rec time now 1 dataset now: Syn6\n"
     ]
    },
    {
     "name": "stderr",
     "output_type": "stream",
     "text": [
      "TPR mean: 99.5%  std: 4.4%\n",
      "FDR mean: 8.4%  std: 16.0%\n"
     ]
    },
    {
     "name": "stdout",
     "output_type": "stream",
     "text": [
      "[[0.66009578 0.85179888]\n",
      " [0.67781484 0.85976938]\n",
      " [0.616      0.769     ]]\n",
      "rec time now 2 dataset now: Syn6\n"
     ]
    },
    {
     "name": "stderr",
     "output_type": "stream",
     "text": [
      "TPR mean: 99.5%  std: 4.4%\n",
      "FDR mean: 8.3%  std: 15.9%\n"
     ]
    },
    {
     "name": "stdout",
     "output_type": "stream",
     "text": [
      "[[0.66009578 0.85184259]\n",
      " [0.67781484 0.85980381]\n",
      " [0.616      0.7689    ]]\n",
      "rec time now 3 dataset now: Syn6\n"
     ]
    },
    {
     "name": "stderr",
     "output_type": "stream",
     "text": [
      "TPR mean: 99.5%  std: 4.4%\n",
      "FDR mean: 8.3%  std: 15.9%\n",
      "Epoch:      0, d_loss (Acc)): 0.390, v_loss (Acc): 0.001, g_loss: -10.0305\n"
     ]
    },
    {
     "name": "stdout",
     "output_type": "stream",
     "text": [
      "[[0.66009578 0.85183816]\n",
      " [0.67781484 0.85979742]\n",
      " [0.616      0.7689    ]]\n",
      "now at training epoch number 8600 hyp-params: lamda 1.7200 prior 0.0700\n",
      "rec time now 0 dataset now: Syn6\n"
     ]
    },
    {
     "name": "stderr",
     "output_type": "stream",
     "text": [
      "TPR mean: 99.5%  std: 4.5%\n",
      "FDR mean: 10.5%  std: 17.6%\n"
     ]
    },
    {
     "name": "stdout",
     "output_type": "stream",
     "text": [
      "[[0.65880592 0.85731407]\n",
      " [0.67577139 0.86536362]\n",
      " [0.6153     0.7761    ]]\n",
      "rec time now 1 dataset now: Syn6\n"
     ]
    },
    {
     "name": "stderr",
     "output_type": "stream",
     "text": [
      "TPR mean: 99.5%  std: 4.5%\n",
      "FDR mean: 8.2%  std: 15.9%\n"
     ]
    },
    {
     "name": "stdout",
     "output_type": "stream",
     "text": [
      "[[0.65880592 0.85867352]\n",
      " [0.67577139 0.86697829]\n",
      " [0.6153     0.7746    ]]\n",
      "rec time now 2 dataset now: Syn6\n"
     ]
    },
    {
     "name": "stderr",
     "output_type": "stream",
     "text": [
      "TPR mean: 99.5%  std: 4.5%\n",
      "FDR mean: 8.1%  std: 15.8%\n"
     ]
    },
    {
     "name": "stdout",
     "output_type": "stream",
     "text": [
      "[[0.65880592 0.85858333]\n",
      " [0.67577139 0.86687561]\n",
      " [0.6153     0.7744    ]]\n",
      "rec time now 3 dataset now: Syn6\n"
     ]
    },
    {
     "name": "stderr",
     "output_type": "stream",
     "text": [
      "TPR mean: 99.5%  std: 4.5%\n",
      "FDR mean: 8.1%  std: 15.8%\n",
      "Epoch:      0, d_loss (Acc)): 0.403, v_loss (Acc): 0.001, g_loss: -9.9566\n"
     ]
    },
    {
     "name": "stdout",
     "output_type": "stream",
     "text": [
      "[[0.65880592 0.8585546 ]\n",
      " [0.67577139 0.86684106]\n",
      " [0.6153     0.7744    ]]\n",
      "now at training epoch number 8700 hyp-params: lamda 1.7400 prior 0.0650\n",
      "rec time now 0 dataset now: Syn6\n"
     ]
    },
    {
     "name": "stderr",
     "output_type": "stream",
     "text": [
      "TPR mean: 99.5%  std: 4.9%\n",
      "FDR mean: 10.0%  std: 17.4%\n"
     ]
    },
    {
     "name": "stdout",
     "output_type": "stream",
     "text": [
      "[[0.65866625 0.85917776]\n",
      " [0.67607365 0.86597507]\n",
      " [0.616      0.778     ]]\n",
      "rec time now 1 dataset now: Syn6\n"
     ]
    },
    {
     "name": "stderr",
     "output_type": "stream",
     "text": [
      "TPR mean: 99.5%  std: 4.9%\n",
      "FDR mean: 7.7%  std: 15.6%\n"
     ]
    },
    {
     "name": "stdout",
     "output_type": "stream",
     "text": [
      "[[0.65866625 0.86029356]\n",
      " [0.67607365 0.86741878]\n",
      " [0.616      0.7778    ]]\n",
      "rec time now 2 dataset now: Syn6\n"
     ]
    },
    {
     "name": "stderr",
     "output_type": "stream",
     "text": [
      "TPR mean: 99.5%  std: 4.9%\n",
      "FDR mean: 7.6%  std: 15.5%\n"
     ]
    },
    {
     "name": "stdout",
     "output_type": "stream",
     "text": [
      "[[0.65866625 0.8602638 ]\n",
      " [0.67607365 0.86731281]\n",
      " [0.616      0.7777    ]]\n",
      "rec time now 3 dataset now: Syn6\n"
     ]
    },
    {
     "name": "stderr",
     "output_type": "stream",
     "text": [
      "TPR mean: 99.5%  std: 4.9%\n",
      "FDR mean: 7.6%  std: 15.5%\n",
      "Epoch:      0, d_loss (Acc)): 0.431, v_loss (Acc): 0.000, g_loss: -10.0620\n"
     ]
    },
    {
     "name": "stdout",
     "output_type": "stream",
     "text": [
      "[[0.65866625 0.86025229]\n",
      " [0.67607365 0.86729688]\n",
      " [0.616      0.7777    ]]\n",
      "now at training epoch number 8800 hyp-params: lamda 1.7600 prior 0.0600\n",
      "rec time now 0 dataset now: Syn6\n"
     ]
    },
    {
     "name": "stderr",
     "output_type": "stream",
     "text": [
      "TPR mean: 99.5%  std: 4.9%\n",
      "FDR mean: 9.8%  std: 17.3%\n"
     ]
    },
    {
     "name": "stdout",
     "output_type": "stream",
     "text": [
      "[[0.65918897 0.85935348]\n",
      " [0.67632349 0.86653114]\n",
      " [0.6166     0.7805    ]]\n",
      "rec time now 1 dataset now: Syn6\n"
     ]
    },
    {
     "name": "stderr",
     "output_type": "stream",
     "text": [
      "TPR mean: 99.5%  std: 4.9%\n",
      "FDR mean: 7.6%  std: 15.5%\n"
     ]
    },
    {
     "name": "stdout",
     "output_type": "stream",
     "text": [
      "[[0.65918897 0.8607915 ]\n",
      " [0.67632349 0.86833299]\n",
      " [0.6166     0.7807    ]]\n",
      "rec time now 2 dataset now: Syn6\n"
     ]
    },
    {
     "name": "stderr",
     "output_type": "stream",
     "text": [
      "TPR mean: 99.5%  std: 4.9%\n",
      "FDR mean: 7.5%  std: 15.5%\n"
     ]
    },
    {
     "name": "stdout",
     "output_type": "stream",
     "text": [
      "[[0.65918897 0.86057102]\n",
      " [0.67632349 0.86809538]\n",
      " [0.6166     0.7802    ]]\n",
      "rec time now 3 dataset now: Syn6\n"
     ]
    },
    {
     "name": "stderr",
     "output_type": "stream",
     "text": [
      "TPR mean: 99.5%  std: 4.9%\n",
      "FDR mean: 7.5%  std: 15.5%\n",
      "Epoch:      0, d_loss (Acc)): 0.401, v_loss (Acc): 0.001, g_loss: -8.8674\n"
     ]
    },
    {
     "name": "stdout",
     "output_type": "stream",
     "text": [
      "[[0.65918897 0.86057322]\n",
      " [0.67632349 0.86809061]\n",
      " [0.6166     0.7802    ]]\n",
      "now at training epoch number 8900 hyp-params: lamda 1.7800 prior 0.0550\n",
      "rec time now 0 dataset now: Syn6\n"
     ]
    },
    {
     "name": "stderr",
     "output_type": "stream",
     "text": [
      "TPR mean: 99.5%  std: 4.9%\n",
      "FDR mean: 9.8%  std: 17.3%\n"
     ]
    },
    {
     "name": "stdout",
     "output_type": "stream",
     "text": [
      "[[0.65883546 0.86945532]\n",
      " [0.67527458 0.87633709]\n",
      " [0.6165     0.7884    ]]\n",
      "rec time now 1 dataset now: Syn6\n"
     ]
    },
    {
     "name": "stderr",
     "output_type": "stream",
     "text": [
      "TPR mean: 99.5%  std: 4.9%\n",
      "FDR mean: 7.5%  std: 15.4%\n"
     ]
    },
    {
     "name": "stdout",
     "output_type": "stream",
     "text": [
      "[[0.65883546 0.87098018]\n",
      " [0.67527458 0.87812998]\n",
      " [0.6165     0.7867    ]]\n",
      "rec time now 2 dataset now: Syn6\n"
     ]
    },
    {
     "name": "stderr",
     "output_type": "stream",
     "text": [
      "TPR mean: 99.5%  std: 4.9%\n",
      "FDR mean: 7.4%  std: 15.4%\n"
     ]
    },
    {
     "name": "stdout",
     "output_type": "stream",
     "text": [
      "[[0.65883546 0.87097171]\n",
      " [0.67527458 0.87816945]\n",
      " [0.6165     0.7869    ]]\n",
      "rec time now 3 dataset now: Syn6\n"
     ]
    },
    {
     "name": "stderr",
     "output_type": "stream",
     "text": [
      "TPR mean: 99.5%  std: 4.9%\n",
      "FDR mean: 7.4%  std: 15.4%\n",
      "Epoch:      0, d_loss (Acc)): 0.412, v_loss (Acc): 0.000, g_loss: -8.5283\n"
     ]
    },
    {
     "name": "stdout",
     "output_type": "stream",
     "text": [
      "[[0.65883546 0.870948  ]\n",
      " [0.67527458 0.87814957]\n",
      " [0.6165     0.7868    ]]\n",
      "now at training epoch number 9000 hyp-params: lamda 1.8000 prior 0.0500\n",
      "rec time now 0 dataset now: Syn6\n"
     ]
    },
    {
     "name": "stderr",
     "output_type": "stream",
     "text": [
      "TPR mean: 99.4%  std: 5.3%\n",
      "FDR mean: 9.5%  std: 17.1%\n"
     ]
    },
    {
     "name": "stdout",
     "output_type": "stream",
     "text": [
      "[[0.65879156 0.86717022]\n",
      " [0.67648648 0.87483585]\n",
      " [0.6143     0.7876    ]]\n",
      "rec time now 1 dataset now: Syn6\n"
     ]
    },
    {
     "name": "stderr",
     "output_type": "stream",
     "text": [
      "TPR mean: 99.4%  std: 5.3%\n",
      "FDR mean: 7.3%  std: 15.2%\n"
     ]
    },
    {
     "name": "stdout",
     "output_type": "stream",
     "text": [
      "[[0.65879156 0.86839094]\n",
      " [0.67648648 0.87625524]\n",
      " [0.6143     0.7859    ]]\n",
      "rec time now 2 dataset now: Syn6\n"
     ]
    },
    {
     "name": "stderr",
     "output_type": "stream",
     "text": [
      "TPR mean: 99.4%  std: 5.3%\n",
      "FDR mean: 7.2%  std: 15.1%\n"
     ]
    },
    {
     "name": "stdout",
     "output_type": "stream",
     "text": [
      "[[0.65879156 0.86828228]\n",
      " [0.67648648 0.87624508]\n",
      " [0.6143     0.7859    ]]\n",
      "rec time now 3 dataset now: Syn6\n"
     ]
    },
    {
     "name": "stderr",
     "output_type": "stream",
     "text": [
      "TPR mean: 99.4%  std: 5.3%\n",
      "FDR mean: 7.2%  std: 15.1%\n",
      "Epoch:      0, d_loss (Acc)): 0.424, v_loss (Acc): 0.000, g_loss: -8.3939\n"
     ]
    },
    {
     "name": "stdout",
     "output_type": "stream",
     "text": [
      "[[0.65879156 0.86827263]\n",
      " [0.67648648 0.87623501]\n",
      " [0.6143     0.7858    ]]\n",
      "now at training epoch number 9100 hyp-params: lamda 1.8200 prior 0.0450\n",
      "rec time now 0 dataset now: Syn6\n"
     ]
    },
    {
     "name": "stderr",
     "output_type": "stream",
     "text": [
      "TPR mean: 99.3%  std: 5.6%\n",
      "FDR mean: 9.0%  std: 16.7%\n"
     ]
    },
    {
     "name": "stdout",
     "output_type": "stream",
     "text": [
      "[[0.65852287 0.86782366]\n",
      " [0.6750035  0.87509277]\n",
      " [0.6149     0.7872    ]]\n",
      "rec time now 1 dataset now: Syn6\n"
     ]
    },
    {
     "name": "stderr",
     "output_type": "stream",
     "text": [
      "TPR mean: 99.3%  std: 5.6%\n",
      "FDR mean: 6.9%  std: 14.8%\n"
     ]
    },
    {
     "name": "stdout",
     "output_type": "stream",
     "text": [
      "[[0.65852287 0.86935197]\n",
      " [0.6750035  0.87638735]\n",
      " [0.6149     0.7878    ]]\n",
      "rec time now 2 dataset now: Syn6\n"
     ]
    },
    {
     "name": "stderr",
     "output_type": "stream",
     "text": [
      "TPR mean: 99.3%  std: 5.6%\n",
      "FDR mean: 6.8%  std: 14.7%\n"
     ]
    },
    {
     "name": "stdout",
     "output_type": "stream",
     "text": [
      "[[0.65852287 0.86905334]\n",
      " [0.6750035  0.87615179]\n",
      " [0.6149     0.787     ]]\n",
      "rec time now 3 dataset now: Syn6\n"
     ]
    },
    {
     "name": "stderr",
     "output_type": "stream",
     "text": [
      "TPR mean: 99.3%  std: 5.6%\n",
      "FDR mean: 6.8%  std: 14.7%\n",
      "Epoch:      0, d_loss (Acc)): 0.385, v_loss (Acc): 0.000, g_loss: -7.0314\n"
     ]
    },
    {
     "name": "stdout",
     "output_type": "stream",
     "text": [
      "[[0.65852287 0.86901679]\n",
      " [0.6750035  0.87611378]\n",
      " [0.6149     0.7869    ]]\n",
      "now at training epoch number 9200 hyp-params: lamda 1.8400 prior 0.0400\n",
      "rec time now 0 dataset now: Syn6\n"
     ]
    },
    {
     "name": "stderr",
     "output_type": "stream",
     "text": [
      "TPR mean: 99.3%  std: 5.8%\n",
      "FDR mean: 9.0%  std: 16.7%\n"
     ]
    },
    {
     "name": "stdout",
     "output_type": "stream",
     "text": [
      "[[0.65832623 0.8701986 ]\n",
      " [0.67440342 0.87715202]\n",
      " [0.6158     0.7936    ]]\n",
      "rec time now 1 dataset now: Syn6\n"
     ]
    },
    {
     "name": "stderr",
     "output_type": "stream",
     "text": [
      "TPR mean: 99.2%  std: 5.8%\n",
      "FDR mean: 6.8%  std: 14.8%\n"
     ]
    },
    {
     "name": "stdout",
     "output_type": "stream",
     "text": [
      "[[0.65832623 0.87176273]\n",
      " [0.67440342 0.87840098]\n",
      " [0.6158     0.7928    ]]\n",
      "rec time now 2 dataset now: Syn6\n"
     ]
    },
    {
     "name": "stderr",
     "output_type": "stream",
     "text": [
      "TPR mean: 99.2%  std: 5.8%\n",
      "FDR mean: 6.7%  std: 14.7%\n"
     ]
    },
    {
     "name": "stdout",
     "output_type": "stream",
     "text": [
      "[[0.65832623 0.87159254]\n",
      " [0.67440342 0.87829271]\n",
      " [0.6158     0.7921    ]]\n",
      "rec time now 3 dataset now: Syn6\n"
     ]
    },
    {
     "name": "stderr",
     "output_type": "stream",
     "text": [
      "TPR mean: 99.2%  std: 5.8%\n",
      "FDR mean: 6.7%  std: 14.7%\n",
      "Epoch:      0, d_loss (Acc)): 0.422, v_loss (Acc): 0.000, g_loss: -7.3014\n"
     ]
    },
    {
     "name": "stdout",
     "output_type": "stream",
     "text": [
      "[[0.65832623 0.8715654 ]\n",
      " [0.67440342 0.87825807]\n",
      " [0.6158     0.792     ]]\n",
      "now at training epoch number 9300 hyp-params: lamda 1.8600 prior 0.0350\n",
      "rec time now 0 dataset now: Syn6\n"
     ]
    },
    {
     "name": "stderr",
     "output_type": "stream",
     "text": [
      "TPR mean: 99.2%  std: 6.3%\n",
      "FDR mean: 8.6%  std: 16.6%\n"
     ]
    },
    {
     "name": "stdout",
     "output_type": "stream",
     "text": [
      "[[0.65871234 0.86908443]\n",
      " [0.67577159 0.87643514]\n",
      " [0.6152     0.7877    ]]\n",
      "rec time now 1 dataset now: Syn6\n"
     ]
    },
    {
     "name": "stderr",
     "output_type": "stream",
     "text": [
      "TPR mean: 99.2%  std: 6.3%\n",
      "FDR mean: 6.5%  std: 14.6%\n"
     ]
    },
    {
     "name": "stdout",
     "output_type": "stream",
     "text": [
      "[[0.65871234 0.87031108]\n",
      " [0.67577159 0.87747558]\n",
      " [0.6152     0.7859    ]]\n",
      "rec time now 2 dataset now: Syn6\n"
     ]
    },
    {
     "name": "stderr",
     "output_type": "stream",
     "text": [
      "TPR mean: 99.2%  std: 6.3%\n",
      "FDR mean: 6.4%  std: 14.6%\n"
     ]
    },
    {
     "name": "stdout",
     "output_type": "stream",
     "text": [
      "[[0.65871234 0.87026398]\n",
      " [0.67577159 0.87745219]\n",
      " [0.6152     0.7865    ]]\n",
      "rec time now 3 dataset now: Syn6\n"
     ]
    },
    {
     "name": "stderr",
     "output_type": "stream",
     "text": [
      "TPR mean: 99.2%  std: 6.3%\n",
      "FDR mean: 6.4%  std: 14.6%\n",
      "Epoch:      0, d_loss (Acc)): 0.414, v_loss (Acc): 0.000, g_loss: -6.5050\n"
     ]
    },
    {
     "name": "stdout",
     "output_type": "stream",
     "text": [
      "[[0.65871234 0.87026364]\n",
      " [0.67577159 0.87745663]\n",
      " [0.6152     0.7865    ]]\n",
      "now at training epoch number 9400 hyp-params: lamda 1.8800 prior 0.0300\n",
      "rec time now 0 dataset now: Syn6\n"
     ]
    },
    {
     "name": "stderr",
     "output_type": "stream",
     "text": [
      "TPR mean: 99.2%  std: 6.2%\n",
      "FDR mean: 8.3%  std: 16.4%\n"
     ]
    },
    {
     "name": "stdout",
     "output_type": "stream",
     "text": [
      "[[0.65935968 0.87662345]\n",
      " [0.67589475 0.88351851]\n",
      " [0.6165     0.7954    ]]\n",
      "rec time now 1 dataset now: Syn6\n"
     ]
    },
    {
     "name": "stderr",
     "output_type": "stream",
     "text": [
      "TPR mean: 99.2%  std: 6.2%\n",
      "FDR mean: 6.1%  std: 14.3%\n"
     ]
    },
    {
     "name": "stdout",
     "output_type": "stream",
     "text": [
      "[[0.65935968 0.87861777]\n",
      " [0.67589475 0.88543544]\n",
      " [0.6165     0.796     ]]\n",
      "rec time now 2 dataset now: Syn6\n"
     ]
    },
    {
     "name": "stderr",
     "output_type": "stream",
     "text": [
      "TPR mean: 99.2%  std: 6.2%\n",
      "FDR mean: 6.0%  std: 14.3%\n"
     ]
    },
    {
     "name": "stdout",
     "output_type": "stream",
     "text": [
      "[[0.65935968 0.87871449]\n",
      " [0.67589475 0.88561897]\n",
      " [0.6165     0.7959    ]]\n",
      "rec time now 3 dataset now: Syn6\n"
     ]
    },
    {
     "name": "stderr",
     "output_type": "stream",
     "text": [
      "TPR mean: 99.2%  std: 6.2%\n",
      "FDR mean: 6.0%  std: 14.3%\n",
      "Epoch:      0, d_loss (Acc)): 0.380, v_loss (Acc): 0.000, g_loss: -5.4284\n"
     ]
    },
    {
     "name": "stdout",
     "output_type": "stream",
     "text": [
      "[[0.65935968 0.87871929]\n",
      " [0.67589475 0.88562796]\n",
      " [0.6165     0.796     ]]\n",
      "now at training epoch number 9500 hyp-params: lamda 1.9000 prior 0.0250\n",
      "rec time now 0 dataset now: Syn6\n"
     ]
    },
    {
     "name": "stderr",
     "output_type": "stream",
     "text": [
      "TPR mean: 99.2%  std: 6.2%\n",
      "FDR mean: 8.0%  std: 16.3%\n"
     ]
    },
    {
     "name": "stdout",
     "output_type": "stream",
     "text": [
      "[[0.65891219 0.87438266]\n",
      " [0.67427339 0.88198228]\n",
      " [0.6164     0.7918    ]]\n",
      "rec time now 1 dataset now: Syn6\n"
     ]
    },
    {
     "name": "stderr",
     "output_type": "stream",
     "text": [
      "TPR mean: 99.2%  std: 6.2%\n",
      "FDR mean: 5.9%  std: 14.2%\n"
     ]
    },
    {
     "name": "stdout",
     "output_type": "stream",
     "text": [
      "[[0.65891219 0.87647924]\n",
      " [0.67427339 0.88396404]\n",
      " [0.6164     0.7951    ]]\n",
      "rec time now 2 dataset now: Syn6\n"
     ]
    },
    {
     "name": "stderr",
     "output_type": "stream",
     "text": [
      "TPR mean: 99.2%  std: 6.2%\n",
      "FDR mean: 5.8%  std: 14.2%\n"
     ]
    },
    {
     "name": "stdout",
     "output_type": "stream",
     "text": [
      "[[0.65891219 0.8764982 ]\n",
      " [0.67427339 0.88399756]\n",
      " [0.6164     0.7952    ]]\n",
      "rec time now 3 dataset now: Syn6\n"
     ]
    },
    {
     "name": "stderr",
     "output_type": "stream",
     "text": [
      "TPR mean: 99.2%  std: 6.2%\n",
      "FDR mean: 5.8%  std: 14.2%\n",
      "Epoch:      0, d_loss (Acc)): 0.390, v_loss (Acc): 0.000, g_loss: -4.7999\n"
     ]
    },
    {
     "name": "stdout",
     "output_type": "stream",
     "text": [
      "[[0.65891219 0.87649941]\n",
      " [0.67427339 0.88400074]\n",
      " [0.6164     0.7952    ]]\n",
      "now at training epoch number 9600 hyp-params: lamda 1.9200 prior 0.0200\n",
      "rec time now 0 dataset now: Syn6\n"
     ]
    },
    {
     "name": "stderr",
     "output_type": "stream",
     "text": [
      "TPR mean: 99.3%  std: 5.8%\n",
      "FDR mean: 7.8%  std: 16.3%\n"
     ]
    },
    {
     "name": "stdout",
     "output_type": "stream",
     "text": [
      "[[0.65730433 0.87734041]\n",
      " [0.67361501 0.88545545]\n",
      " [0.6159     0.7969    ]]\n",
      "rec time now 1 dataset now: Syn6\n"
     ]
    },
    {
     "name": "stderr",
     "output_type": "stream",
     "text": [
      "TPR mean: 99.3%  std: 5.8%\n",
      "FDR mean: 5.7%  std: 14.1%\n"
     ]
    },
    {
     "name": "stdout",
     "output_type": "stream",
     "text": [
      "[[0.65730433 0.87926463]\n",
      " [0.67361501 0.88697353]\n",
      " [0.6159     0.7985    ]]\n",
      "rec time now 2 dataset now: Syn6\n"
     ]
    },
    {
     "name": "stderr",
     "output_type": "stream",
     "text": [
      "TPR mean: 99.3%  std: 5.8%\n",
      "FDR mean: 5.6%  std: 14.0%\n"
     ]
    },
    {
     "name": "stdout",
     "output_type": "stream",
     "text": [
      "[[0.65730433 0.87929434]\n",
      " [0.67361501 0.88705216]\n",
      " [0.6159     0.7986    ]]\n",
      "rec time now 3 dataset now: Syn6\n"
     ]
    },
    {
     "name": "stderr",
     "output_type": "stream",
     "text": [
      "TPR mean: 99.3%  std: 5.8%\n",
      "FDR mean: 5.6%  std: 14.0%\n",
      "Epoch:      0, d_loss (Acc)): 0.423, v_loss (Acc): 0.000, g_loss: -4.6409\n"
     ]
    },
    {
     "name": "stdout",
     "output_type": "stream",
     "text": [
      "[[0.65730433 0.87929434]\n",
      " [0.67361501 0.88705216]\n",
      " [0.6159     0.7986    ]]\n",
      "now at training epoch number 9700 hyp-params: lamda 1.9400 prior 0.0150\n",
      "rec time now 0 dataset now: Syn6\n"
     ]
    },
    {
     "name": "stderr",
     "output_type": "stream",
     "text": [
      "TPR mean: 99.2%  std: 6.2%\n",
      "FDR mean: 7.6%  std: 16.1%\n"
     ]
    },
    {
     "name": "stdout",
     "output_type": "stream",
     "text": [
      "[[0.65816243 0.88004191]\n",
      " [0.67379319 0.88800375]\n",
      " [0.6169     0.7986    ]]\n",
      "rec time now 1 dataset now: Syn6\n"
     ]
    },
    {
     "name": "stderr",
     "output_type": "stream",
     "text": [
      "TPR mean: 99.2%  std: 6.2%\n",
      "FDR mean: 5.5%  std: 13.9%\n"
     ]
    },
    {
     "name": "stdout",
     "output_type": "stream",
     "text": [
      "[[0.65816243 0.88308177]\n",
      " [0.67379319 0.8908181 ]\n",
      " [0.6169     0.801     ]]\n",
      "rec time now 2 dataset now: Syn6\n"
     ]
    },
    {
     "name": "stderr",
     "output_type": "stream",
     "text": [
      "TPR mean: 99.2%  std: 6.2%\n",
      "FDR mean: 5.4%  std: 13.9%\n"
     ]
    },
    {
     "name": "stdout",
     "output_type": "stream",
     "text": [
      "[[0.65816243 0.88327593]\n",
      " [0.67379319 0.89104122]\n",
      " [0.6169     0.801     ]]\n",
      "rec time now 3 dataset now: Syn6\n"
     ]
    },
    {
     "name": "stderr",
     "output_type": "stream",
     "text": [
      "TPR mean: 99.2%  std: 6.2%\n",
      "FDR mean: 5.4%  std: 13.9%\n",
      "Epoch:      0, d_loss (Acc)): 0.371, v_loss (Acc): 0.000, g_loss: -3.7328\n"
     ]
    },
    {
     "name": "stdout",
     "output_type": "stream",
     "text": [
      "[[0.65816243 0.88327593]\n",
      " [0.67379319 0.89104122]\n",
      " [0.6169     0.801     ]]\n",
      "now at training epoch number 9800 hyp-params: lamda 1.9600 prior 0.0100\n",
      "rec time now 0 dataset now: Syn6\n"
     ]
    },
    {
     "name": "stderr",
     "output_type": "stream",
     "text": [
      "TPR mean: 99.2%  std: 6.3%\n",
      "FDR mean: 7.2%  std: 15.8%\n"
     ]
    },
    {
     "name": "stdout",
     "output_type": "stream",
     "text": [
      "[[0.65920229 0.88037365]\n",
      " [0.67569529 0.88821169]\n",
      " [0.6155     0.8006    ]]\n",
      "rec time now 1 dataset now: Syn6\n"
     ]
    },
    {
     "name": "stderr",
     "output_type": "stream",
     "text": [
      "TPR mean: 99.1%  std: 6.3%\n",
      "FDR mean: 5.2%  std: 13.5%\n"
     ]
    },
    {
     "name": "stdout",
     "output_type": "stream",
     "text": [
      "[[0.65920229 0.88352248]\n",
      " [0.67569529 0.89081926]\n",
      " [0.6155     0.8044    ]]\n",
      "rec time now 2 dataset now: Syn6\n"
     ]
    },
    {
     "name": "stderr",
     "output_type": "stream",
     "text": [
      "TPR mean: 99.1%  std: 6.3%\n",
      "FDR mean: 5.1%  std: 13.4%\n"
     ]
    },
    {
     "name": "stdout",
     "output_type": "stream",
     "text": [
      "[[0.65920229 0.88363467]\n",
      " [0.67569529 0.89096847]\n",
      " [0.6155     0.8043    ]]\n",
      "rec time now 3 dataset now: Syn6\n"
     ]
    },
    {
     "name": "stderr",
     "output_type": "stream",
     "text": [
      "TPR mean: 99.1%  std: 6.3%\n",
      "FDR mean: 5.1%  std: 13.4%\n",
      "Epoch:      0, d_loss (Acc)): 0.407, v_loss (Acc): 0.000, g_loss: -3.4897\n"
     ]
    },
    {
     "name": "stdout",
     "output_type": "stream",
     "text": [
      "[[0.65920229 0.88363467]\n",
      " [0.67569529 0.89096847]\n",
      " [0.6155     0.8043    ]]\n",
      "now at training epoch number 9900 hyp-params: lamda 1.9800 prior 0.0050\n",
      "rec time now 0 dataset now: Syn6\n"
     ]
    },
    {
     "name": "stderr",
     "output_type": "stream",
     "text": [
      "TPR mean: 98.9%  std: 7.1%\n",
      "FDR mean: 7.0%  std: 15.6%\n"
     ]
    },
    {
     "name": "stdout",
     "output_type": "stream",
     "text": [
      "[[0.65405349 0.87844419]\n",
      " [0.6700358  0.88604594]\n",
      " [0.6148     0.8003    ]]\n",
      "rec time now 1 dataset now: Syn6\n"
     ]
    },
    {
     "name": "stderr",
     "output_type": "stream",
     "text": [
      "TPR mean: 98.9%  std: 7.2%\n",
      "FDR mean: 5.0%  std: 13.3%\n"
     ]
    },
    {
     "name": "stdout",
     "output_type": "stream",
     "text": [
      "[[0.65405349 0.8811295 ]\n",
      " [0.6700358  0.88828976]\n",
      " [0.6148     0.8008    ]]\n",
      "rec time now 2 dataset now: Syn6\n"
     ]
    },
    {
     "name": "stderr",
     "output_type": "stream",
     "text": [
      "TPR mean: 98.9%  std: 7.2%\n",
      "FDR mean: 4.9%  std: 13.3%\n"
     ]
    },
    {
     "name": "stdout",
     "output_type": "stream",
     "text": [
      "[[0.65405349 0.88104746]\n",
      " [0.6700358  0.88823368]\n",
      " [0.6148     0.8005    ]]\n",
      "rec time now 3 dataset now: Syn6\n"
     ]
    },
    {
     "name": "stderr",
     "output_type": "stream",
     "text": [
      "TPR mean: 98.9%  std: 7.2%\n",
      "FDR mean: 4.9%  std: 13.3%\n"
     ]
    },
    {
     "name": "stdout",
     "output_type": "stream",
     "text": [
      "[[0.65405349 0.88104837]\n",
      " [0.6700358  0.88823427]\n",
      " [0.6148     0.8005    ]]\n",
      "PyTorch Version: elapsed time for Syn6: 100 feature, 10000 sample: [1081.6419 1078.2215  984.1279] sec.\n"
     ]
    }
   ],
   "source": [
    "REAL_LMD = 2.0 # 0.0 - 0.5\n",
    "\n",
    "\n",
    "import time\n",
    "elapsed_time = []\n",
    "\n",
    "class init_arg(object):\n",
    "    def __init__(self, it = 10000, o = 'feature_score.csv.gz', dataset = None, i= None, target = None):\n",
    "        self.it = it\n",
    "        self.o = o\n",
    "        self.dataset = dataset\n",
    "        self.i = i\n",
    "        self.target = target\n",
    "        \n",
    "        \n",
    "        \n",
    "progress_loger = []\n",
    "\n",
    "\n",
    "\n",
    "\n",
    "for DATASET in ['Syn4','Syn5','Syn6']:\n",
    "    sub_logger = []\n",
    "    args = init_arg(dataset = DATASET, it = 10000, )\n",
    "    ocsv = args.o # 'feature_score.csv.gz'\n",
    "    odir = os.path.dirname(ocsv)\n",
    "    odir = '.' if not len(odir) else odir\n",
    "    fn_csv = args.i #'data.csv'\n",
    "    label_nm = args.target # 'target'\n",
    "    nepoch = args.it\n",
    "    logger = utilmlab.init_logger(odir)\n",
    "\n",
    "    dataset = args.dataset\n",
    "\n",
    "    assert dataset is not None or fn_csv is not None\n",
    "    assert fn_csv is None or label_nm is not None\n",
    "\n",
    "    # Data output can be either binary (Y) or Probability (Prob)\n",
    "    data_out_sets = ['Y', 'Prob']\n",
    "    data_out = data_out_sets[0]\n",
    "\n",
    "    logger.info('invase: {} {} {} {}'.format(dataset, nepoch, odir, data_out))\n",
    "\n",
    "    # Number of Training and Testing samples\n",
    "    train_N = 10000\n",
    "    test_N = 10000\n",
    "\n",
    "    # Seeds (different seeds for training and testing)\n",
    "    train_seed = 0\n",
    "    test_seed = 1\n",
    "\n",
    "    x_train, y_train, _, x_test, y_test, g_test, df_train, df_test, \\\n",
    "        dset, features = load_create_data(\n",
    "            dataset,\n",
    "            data_out,\n",
    "            is_logging_enabled=True,\n",
    "            fn_csv=fn_csv,\n",
    "            label_nm=label_nm)\n",
    "    \n",
    "\n",
    "    start_time = time.time()\n",
    "    for thres_i in [0.0]:\n",
    "        Predict_Out_temp = np.zeros([3, 2])    \n",
    "\n",
    "        PVS_Alg = PVS(x_train, dataset, 100, thres=thres_i)\n",
    "\n",
    "        for train_epoch in range(int(nepoch/100)):\n",
    "            \n",
    "            Lmd = train_epoch*100/nepoch * REAL_LMD\n",
    "            Thr = 0.5*(1 - train_epoch*100/nepoch)\n",
    "            print('now at training epoch number', int(train_epoch * 100),'hyp-params: lamda %.4f prior %.4f'%(Lmd,Thr))\n",
    "            PVS_Alg.train(x_train, y_train, lmd = Lmd , thr = Thr)\n",
    "            # 3. Get the selection probability on the testing set\n",
    "            #Sel_Prob_Test = PVS_Alg.output(x_test)\n",
    "\n",
    "\n",
    "\n",
    "            '''recurssive generation'''\n",
    "            input_batch = x_test * 1.0\n",
    "            sel_prob_tot = 1.0\n",
    "            for recur_time in range(4):\n",
    "                print('rec time now',recur_time,'dataset now:',DATASET)\n",
    "                gen_prob = PVS_Alg.generator(torch.as_tensor(input_batch).float().to(device))\n",
    "                #sel_prob = PVS_Alg.Sample_M(gen_prob)\n",
    "                sel_prob = 1.*(gen_prob > 0.5)\n",
    "                sel_prob_tot_0 = sel_prob_tot * 1.0\n",
    "                sel_prob_tot = torch.as_tensor(sel_prob * sel_prob_tot).to(device)\n",
    "                input_batch = sel_prob_tot * torch.as_tensor(input_batch).to(device)\n",
    "\n",
    "                score = sel_prob_tot\n",
    "                #print('score',score)\n",
    "\n",
    "\n",
    "\n",
    "                # 4. Selected features\n",
    "                # 5. Prediction\n",
    "                val_predict, dis_predict = PVS_Alg.get_prediction(torch.as_tensor(x_test).float().to(device), score)\n",
    "                val_predict = torch.softmax(torch.as_tensor(val_predict),-1).cpu().numpy()\n",
    "                dis_predict = torch.softmax(torch.as_tensor(dis_predict),-1).cpu().numpy()\n",
    "\n",
    "\n",
    "                def performance_metric(score, g_truth):\n",
    "\n",
    "                    n = len(score)\n",
    "                    Temp_TPR = np.zeros([n,])\n",
    "                    Temp_FDR = np.zeros([n,])\n",
    "\n",
    "                    for i in range(n):\n",
    "\n",
    "                        # TPR    \n",
    "                        # embed()\n",
    "                        TPR_Nom = np.sum((score[i,:].cpu().detach().numpy() * g_truth[i,:]))\n",
    "                        TPR_Den = np.sum(g_truth[i,:])\n",
    "                        Temp_TPR[i] = 100 * float(TPR_Nom)/float(TPR_Den+1e-8)\n",
    "\n",
    "                        # FDR\n",
    "                        FDR_Nom = np.sum((score[i,:].cpu().detach().numpy() * (1-g_truth[i,:])))\n",
    "                        FDR_Den = np.sum(score[i,:].cpu().detach().numpy())\n",
    "                        Temp_FDR[i] = 100 * float(FDR_Nom)/float(FDR_Den+1e-8)\n",
    "\n",
    "                    return np.mean(Temp_TPR), np.mean(Temp_FDR),\\\n",
    "                        np.std(Temp_TPR), np.std(Temp_FDR)\n",
    "\n",
    "                #%% Output\n",
    "\n",
    "                TPR_mean, TPR_std = -1, 0\n",
    "                FDR_mean, FDR_std = -1, 0\n",
    "                if g_test is not None:\n",
    "                    TPR_mean, FDR_mean, TPR_std, FDR_std = performance_metric(\n",
    "                        score, g_test)\n",
    "\n",
    "                    logger.info('TPR mean: {:0.1f}%  std: {:0.1f}%'.format(\n",
    "                        TPR_mean, TPR_std))\n",
    "                    logger.info('FDR mean: {:0.1f}%  std: {:0.1f}%'.format(\n",
    "                        FDR_mean, FDR_std))\n",
    "                else:\n",
    "                    logger.info('no ground truth relevance')\n",
    "\n",
    "\n",
    "\n",
    "                #%% Performance Metrics\n",
    "                Predict_Out_temp[0,0] = roc_auc_score(y_test[:,1], val_predict[:,1])\n",
    "                Predict_Out_temp[1,0] = average_precision_score(y_test[:,1], val_predict[:,1])\n",
    "                Predict_Out_temp[2,0] = accuracy_score(y_test[:,1], 1. * (val_predict[:,1]>0.5) )\n",
    "\n",
    "                Predict_Out_temp[0,1] = roc_auc_score(y_test[:,1], dis_predict[:,1])\n",
    "                Predict_Out_temp[1,1] = average_precision_score(y_test[:,1], dis_predict[:,1])\n",
    "                Predict_Out_temp[2,1] = accuracy_score(y_test[:,1], 1. * (dis_predict[:,1]>0.5) )\n",
    "                print(Predict_Out_temp)\n",
    "                sub_logger.append((Predict_Out_temp,TPR_mean,FDR_mean,TPR_std,FDR_std))\n",
    "        progress_loger.append(sub_logger)\n",
    "    elapsed_time.append(time.time() - start_time)\n",
    "    print('PyTorch Version: elapsed time for {}: 100 feature, 10000 sample:'.format(DATASET),np.round(elapsed_time,4),'sec.')\n"
   ]
  },
  {
   "cell_type": "code",
   "execution_count": null,
   "metadata": {},
   "outputs": [],
   "source": []
  }
 ],
 "metadata": {
  "kernelspec": {
   "display_name": "py3.79",
   "language": "python",
   "name": "py2.7"
  },
  "language_info": {
   "codemirror_mode": {
    "name": "ipython",
    "version": 3
   },
   "file_extension": ".py",
   "mimetype": "text/x-python",
   "name": "python",
   "nbconvert_exporter": "python",
   "pygments_lexer": "ipython3",
   "version": "3.7.9"
  }
 },
 "nbformat": 4,
 "nbformat_minor": 4
}
