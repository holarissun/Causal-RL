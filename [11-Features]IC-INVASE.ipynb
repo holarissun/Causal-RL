{
 "cells": [
  {
   "cell_type": "code",
   "execution_count": 1,
   "metadata": {},
   "outputs": [],
   "source": [
    "X_DIM = 11 # feature dimension Hyper-Param"
   ]
  },
  {
   "cell_type": "code",
   "execution_count": 2,
   "metadata": {},
   "outputs": [],
   "source": [
    "import numpy as np\n",
    "from sklearn.metrics import roc_auc_score\n",
    "from sklearn.metrics import average_precision_score\n",
    "from sklearn.metrics import accuracy_score\n",
    "# import argparse\n",
    "from data_generation import generate_data\n",
    "import os\n",
    "import json\n",
    "import pandas as pd\n",
    "import time\n",
    "import initpath_alg\n",
    "#initpath_alg.init_sys_path()\n",
    "import utilmlab\n",
    "import data_loader_mlab\n",
    "\n",
    "\n",
    "def array2str(a):\n",
    "    s = ''\n",
    "    for idx, el in enumerate(a):\n",
    "        s += (' ' if idx > 0 else '') + '{:0.3f}'.format(el)\n",
    "    return s\n",
    "\n",
    "\n",
    "def one_hot_encoder(a):\n",
    "    n_values = np.max(a) + 1\n",
    "    return np.eye(n_values)[a]\n",
    "\n",
    "\n",
    "def load_create_data(\n",
    "        data_type,\n",
    "        data_out,\n",
    "        is_logging_enabled=True,\n",
    "        fn_csv=None,\n",
    "        label_nm=None):\n",
    "\n",
    "    df_train, df_test, dset = None, None, None\n",
    "    features = None\n",
    "    if data_type in data_loader_mlab.get_available_datasets() + ['show'] \\\n",
    "       or fn_csv is not None:\n",
    "        if fn_csv is not None:\n",
    "            rval, dset = data_loader_mlab.load_dataset_from_csv(\n",
    "                logger, fn_csv, label_nm)\n",
    "        else:\n",
    "            rval, dset = data_loader_mlab.get_dataset(data_type)\n",
    "        assert rval == 0\n",
    "        data_loader_mlab.dataset_log_properties(logger, dset)\n",
    "        if is_logging_enabled:\n",
    "            logger.info('warning no seed')\n",
    "        df = dset['df']\n",
    "        features = dset['features']\n",
    "        labels = dset['targets']\n",
    "        nsample = len(df)\n",
    "        train_ratio = 0.8\n",
    "        idx = np.random.permutation(nsample)\n",
    "        ntrain = int(nsample * train_ratio)\n",
    "        df_train = df.iloc[idx[:ntrain]]\n",
    "        df_test = df.iloc[idx[ntrain:]]\n",
    "\n",
    "        col_drop = utilmlab.col_with_nan(df)\n",
    "        if is_logging_enabled and len(col_drop):\n",
    "            print('warning: dropping features {}'\n",
    "                  ', contains nan'.format(col_drop))\n",
    "            time.sleep(2)\n",
    "\n",
    "        features = [el for el in features if el not in col_drop]\n",
    "\n",
    "        x_train = df_train[features].values\n",
    "        y_train = df_train[labels].values\n",
    "        x_test = df_test[features].values\n",
    "        y_test = df_test[labels].values\n",
    "\n",
    "        g_train, g_test = None, None\n",
    "\n",
    "        y_train = one_hot_encoder(np.ravel(y_train))\n",
    "        y_test = one_hot_encoder(np.ravel(y_test))\n",
    "        if is_logging_enabled:\n",
    "            logger.info('y: train:{} test:{}'.format(\n",
    "                set(np.ravel(y_train)), set(np.ravel(y_test))))\n",
    "    else:\n",
    "        x_train, y_train, g_train = generate_data(\n",
    "            n=train_N, data_type=data_type, seed=train_seed, out=data_out, x_dim = X_DIM)\n",
    "        x_test,  y_test,  g_test = generate_data(\n",
    "            n=test_N,  data_type=data_type, seed=test_seed,  out=data_out, x_dim = X_DIM)\n",
    "    if is_logging_enabled:\n",
    "        logger.info('{} {} {} {}'.format(\n",
    "            x_train.shape,\n",
    "            y_train.shape,\n",
    "            x_test.shape,\n",
    "            y_test.shape))\n",
    "    return x_train, y_train, g_train, x_test, y_test, \\\n",
    "        g_test, df_train, df_test, dset, features\n",
    "\n",
    "\n"
   ]
  },
  {
   "cell_type": "code",
   "execution_count": 3,
   "metadata": {},
   "outputs": [],
   "source": [
    "from IPython import embed\n",
    "import torch\n",
    "import torch.nn as nn\n",
    "import torch.nn.functional as F\n",
    "device = torch.device(\"cuda\" if torch.cuda.is_available() else \"cpu\")\n",
    "torch.cuda.set_device(1)\n",
    "\n",
    "# Generator (Actor) in PyTorch\n",
    "class Actor(nn.Module):\n",
    "    def __init__(self, state_dim, action_dim):\n",
    "        super(Actor, self).__init__()\n",
    "\n",
    "        self.l1 = nn.Linear(state_dim, 100)\n",
    "        self.l2 = nn.Linear(100, 100)\n",
    "        self.l3 = nn.Linear(100, action_dim)\n",
    "\n",
    "\n",
    "    def forward(self, state):\n",
    "        a = F.selu(self.l1(state))\n",
    "        a = F.selu(self.l2(a))\n",
    "        return torch.sigmoid(self.l3(a))\n",
    "        \n",
    "# Discriminator (Critic) in PyTorch    \n",
    "# Critic in INVASE is a classifier that provide return signal\n",
    "class Critic(nn.Module):\n",
    "    def __init__(self, state_dim, action_dim):\n",
    "        super(Critic, self).__init__()\n",
    "\n",
    "        # Q1 architecture\n",
    "        self.l1 = nn.Linear(state_dim, 200)\n",
    "        self.bn1 = nn.BatchNorm1d(num_features=200)\n",
    "        self.l2 = nn.Linear(200, 200)\n",
    "        self.bn2 = nn.BatchNorm1d(num_features=200)\n",
    "        self.l3 = nn.Linear(200, 2)\n",
    "\n",
    "\n",
    "    def forward(self, state, action):\n",
    "        #sa = torch.cat([state, action], 1)\n",
    "        sa = state * action\n",
    "\n",
    "        q1 = F.selu(self.bn1(self.l1(sa)))\n",
    "        q1 = F.selu(self.bn2(self.l2(q1)))\n",
    "        q1 = self.l3(q1)\n",
    "\n",
    "        return q1 # prob, actually the binary classification result with softmax activation (logits)\n",
    "    \n",
    "# Valuefunction (Baseline) in PyTorch   \n",
    "# Valuefunction in INVASE is a classifier that provide return signal\n",
    "class Baseline(nn.Module):\n",
    "    def __init__(self, state_dim, action_dim):\n",
    "        super(Baseline, self).__init__()\n",
    "\n",
    "        # Q1 architecture\n",
    "        self.l1 = nn.Linear(state_dim, 200)\n",
    "        self.bn1 = nn.BatchNorm1d(num_features=200)\n",
    "        self.l2 = nn.Linear(200, 200)\n",
    "        self.bn2 = nn.BatchNorm1d(num_features=200)\n",
    "        self.l3 = nn.Linear(200, 2)\n",
    "\n",
    "\n",
    "    def forward(self, state):\n",
    "        #sa = torch.cat([state, action], 1)\n",
    "        sa = state\n",
    "\n",
    "        q1 = F.selu(self.bn1(self.l1(sa)))\n",
    "        q1 = F.selu(self.bn2(self.l2(q1)))\n",
    "        q1 = self.l3(q1)\n",
    "\n",
    "        return q1 # prob, actually the binary classification result with softmax activation (logits)    \n",
    "\n",
    "    \n",
    "    \n",
    "class PVS():\n",
    "    # 1. Initialization\n",
    "    '''\n",
    "    x_train: training samples\n",
    "    data_type: Syn1 to Syn 6\n",
    "    '''\n",
    "    def __init__(self, x_train, data_type, nepoch, is_logging_enabled=True, thres = 0.5):\n",
    "        self.is_logging_enabled = is_logging_enabled\n",
    "        self.latent_dim1 = 100      # Dimension of actor (generator) network\n",
    "        self.latent_dim2 = 200      # Dimension of critic (discriminator) network\n",
    "        \n",
    "        self.batch_size = min(1000, x_train.shape[0])      # Batch size\n",
    "        self.epochs = nepoch        # Epoch size (large epoch is needed due to the policy gradient framework)\n",
    "        self.lamda = 99999.           # Hyper-parameter for the number of selected features \n",
    "        self.thres = thres\n",
    "        '''lamda is number of selected features? is it the coefficient?'''\n",
    "        \n",
    "        \n",
    "        self.input_shape = x_train.shape[1]     # Input dimension\n",
    "        logger.info('input shape: {}'.format(self.input_shape))\n",
    "        \n",
    "        # Actionvation. (For Syn1 and 2, relu, others, selu)\n",
    "        self.activation = 'relu' if data_type in ['Syn1','Syn2'] else 'selu'       \n",
    "        \n",
    "        \n",
    "        self.generator = Actor(state_dim=self.input_shape, action_dim = self.input_shape).to(device)\n",
    "        self.discriminator = Critic(state_dim=self.input_shape, action_dim = self.input_shape).to(device)\n",
    "        self.valfunction = Baseline(state_dim=self.input_shape, action_dim = self.input_shape).to(device)\n",
    "        \n",
    "        \n",
    "        self.generator_optimizer = torch.optim.Adam(self.generator.parameters(), lr=1e-4)#,weight_decay=1e-3)\n",
    "        self.discriminator_optimizer = torch.optim.Adam(self.discriminator.parameters(), lr=1e-4)#,weight_decay=1e-3)\n",
    "        self.valfunction_optimizer = torch.optim.Adam(self.valfunction.parameters(), lr=1e-4)#,weight_decay=1e-3)\n",
    "        \n",
    "\n",
    "    #%% Custom loss definition\n",
    "    def my_loss(self, y_true, y_pred,lmd,thr):\n",
    "        \n",
    "        \n",
    "        # dimension of the features\n",
    "        d = y_pred.shape[1]        \n",
    "        \n",
    "        # Put all three in y_true \n",
    "        # 1. selected probability\n",
    "        sel_prob = y_true[:,:d] # bs x d\n",
    "        # 2. discriminator output\n",
    "        dis_prob = y_true[:,d:(d+2)] # bs x 2\n",
    "        # 3. valfunction output\n",
    "        val_prob = y_true[:,(d+2):(d+4)] # bs x 2\n",
    "        # 4. ground truth\n",
    "        y_final = y_true[:,(d+4):] # bs x 2\n",
    "        \n",
    "        # A1. Compute the rewards of the actor network\n",
    "        Reward1 = torch.sum( y_final * torch.log(dis_prob + 1e-8), axis = 1)  \n",
    "        #reduce_sum(\n",
    "        \n",
    "        # A2. Compute the rewards of the actor network\n",
    "        Reward2 = torch.sum( y_final * torch.log(val_prob + 1e-8), axis = 1)  \n",
    "\n",
    "        # Difference is the rewards\n",
    "        Reward = Reward1 - Reward2\n",
    "\n",
    "        # B. Policy gradient loss computation. \n",
    "        #embed()\n",
    "        loss1 = Reward * torch.sum( sel_prob * torch.log(y_pred + 1e-8) + (1-sel_prob) * torch.log(1-y_pred + 1e-8), axis = 1) - lmd *torch.mean( torch.abs(y_pred-thr), axis = 1)\n",
    "        \n",
    "        # C. Maximize the loss1\n",
    "        loss = torch.mean(-loss1)\n",
    "        #embed()\n",
    "        return loss\n",
    "    \n",
    "\n",
    "    def Sample_M(self, gen_prob):\n",
    "        # Shape of the selection probability\n",
    "        n = gen_prob.shape[0]\n",
    "        d = gen_prob.shape[1]\n",
    "        # Sampling\n",
    "        samples = np.random.binomial(1, gen_prob, (n,d))\n",
    "\n",
    "        return samples\n",
    "\n",
    "    #%% Training procedure\n",
    "    def train(self, x_train, y_train, lmd,thr):\n",
    "\n",
    "        # For each epoch (actually iterations)\n",
    "        for epoch in range(self.epochs):\n",
    "\n",
    "            #%% Train Discriminator\n",
    "            # Select a random batch of samples\n",
    "            idx = np.random.randint(0, x_train.shape[0], self.batch_size)\n",
    "            x_batch = torch.as_tensor(x_train[idx,:]).float().to(device)\n",
    "            y_batch = torch.as_tensor(np.argmax(y_train[idx,:],1)).long().to(device)\n",
    "            \n",
    "            # Generate a batch of probabilities of feature selection\n",
    "            gen_prob = self.generator(x_batch).cpu().detach().numpy()\n",
    "            #print(gen_prob)\n",
    "            # Sampling the features based on the generated probability\n",
    "            sel_prob = self.Sample_M(gen_prob)\n",
    "            '''sel_prob is the mask'''\n",
    "            \n",
    "            # Compute the prediction of the critic based on the sampled features (used for generator training)\n",
    "            dis_prob = self.discriminator(x_batch, torch.as_tensor(sel_prob).float().to(device))\n",
    "            \n",
    "            # Train the discriminator\n",
    "            #d_loss = self.discriminator.train_on_batch([x_batch, sel_prob], y_batch)\n",
    "            loss_func_c = nn.CrossEntropyLoss()\n",
    "            self.discriminator_optimizer.zero_grad()\n",
    "            critic_loss = loss_func_c(dis_prob, y_batch)\n",
    "            critic_loss.backward()\n",
    "            self.discriminator_optimizer.step()\n",
    "\n",
    "            #%% Train Valud function\n",
    "\n",
    "            # Compute the prediction of the baseline based on the sampled features (used for generator training)\n",
    "            val_prob = self.valfunction(x_batch)#.cpu().detach().numpy()\n",
    "            \n",
    "            # Train the baseline model\n",
    "            #v_loss = self.valfunction.train_on_batch(x_batch, y_batch)\n",
    "            loss_func_v = nn.CrossEntropyLoss()\n",
    "            self.valfunction_optimizer.zero_grad()\n",
    "            value_loss = loss_func_v(val_prob, y_batch)\n",
    "            value_loss.backward()\n",
    "            self.valfunction_optimizer.step()\n",
    "            \n",
    "            \n",
    "            #%% Train Generator\n",
    "            # Use three things as the y_true: sel_prob, dis_prob, and ground truth (y_batch)\n",
    "            '''\n",
    "            sel_prob: the mask generated by bernulli sampler [bs, d]\n",
    "            dis_prob: prediction of the critic               [bs, 2]\n",
    "            val_prob: prediction of the baseline model       [bs, 2]\n",
    "            y_batch: batch of y_train                        [bs, 2]\n",
    "            all of those variables are 'placeholders'\n",
    "            '''\n",
    "            \n",
    "            y_batch_final = torch.as_tensor(np.concatenate( (sel_prob, np.asarray(torch.softmax(torch.as_tensor(dis_prob),-1).cpu().detach().numpy()), np.asarray(torch.softmax(torch.as_tensor(val_prob),-1).cpu().detach().numpy()), y_train[idx,:]), axis = 1 )).to(device)\n",
    "            # Train the generator\n",
    "            \n",
    "            actor_pred = self.generator(x_batch)\n",
    "            self.generator_optimizer.zero_grad()\n",
    "            actor_loss = self.my_loss(y_batch_final,actor_pred,lmd,thr)\n",
    "            actor_loss.backward()\n",
    "            self.generator_optimizer.step()\n",
    "            \n",
    "            #%% Plot the progress\n",
    "            dialog = 'Epoch: ' + '{:6d}'.format(epoch) + ', d_loss (Acc)): '\n",
    "            dialog += '{:0.3f}'.format(critic_loss) + ', v_loss (Acc): '\n",
    "            dialog += '{:0.3f}'.format(value_loss) + ', g_loss: ' + '{:+6.4f}'.format(actor_loss)\n",
    "\n",
    "            if epoch % 100 == 0:\n",
    "                logger.info('{}'.format(dialog))\n",
    "    \n",
    "    #%% Selected Features        \n",
    "    def output(self, x_train):\n",
    "        \n",
    "        gen_prob = self.generator(x_train).cpu().detach().numpy()\n",
    "        \n",
    "        return np.asarray(gen_prob)\n",
    "     \n",
    "    #%% Prediction Results \n",
    "    def get_prediction(self, x_train, m_train):\n",
    "        \n",
    "        val_prediction = self.valfunction(x_train).cpu().detach().numpy()\n",
    "        \n",
    "        dis_prediction = self.discriminator(x_train, m_train).cpu().detach().numpy()\n",
    "        \n",
    "        return np.asarray(val_prediction), np.asarray(dis_prediction)"
   ]
  },
  {
   "cell_type": "code",
   "execution_count": 4,
   "metadata": {},
   "outputs": [
    {
     "name": "stderr",
     "output_type": "stream",
     "text": [
      "invase: Syn1 5000 . Y\n",
      "(10000, 11) (10000, 2) (10000, 11) (10000, 2)\n",
      "input shape: 11\n",
      "Epoch:      0, d_loss (Acc)): 0.755, v_loss (Acc): 0.750, g_loss: -0.0237\n"
     ]
    },
    {
     "name": "stdout",
     "output_type": "stream",
     "text": [
      "now at training epoch number 0 hyp-params: lamda 0.0000 prior 0.5000\n",
      "rec time now 0 dataset now: Syn1\n"
     ]
    },
    {
     "name": "stderr",
     "output_type": "stream",
     "text": [
      "TPR mean: 82.2%  std: 25.0%\n",
      "FDR mean: 74.6%  std: 7.9%\n"
     ]
    },
    {
     "name": "stdout",
     "output_type": "stream",
     "text": [
      "[[0.60008272 0.57837226]\n",
      " [0.60371374 0.57872882]\n",
      " [0.5664     0.5471    ]]\n",
      "rec time now 1 dataset now: Syn1\n"
     ]
    },
    {
     "name": "stderr",
     "output_type": "stream",
     "text": [
      "TPR mean: 79.4%  std: 26.3%\n",
      "FDR mean: 71.0%  std: 10.3%\n"
     ]
    },
    {
     "name": "stdout",
     "output_type": "stream",
     "text": [
      "[[0.60008272 0.57829698]\n",
      " [0.60371374 0.57929267]\n",
      " [0.5664     0.545     ]]\n",
      "rec time now 2 dataset now: Syn1\n"
     ]
    },
    {
     "name": "stderr",
     "output_type": "stream",
     "text": [
      "TPR mean: 78.8%  std: 26.4%\n",
      "FDR mean: 69.5%  std: 12.0%\n"
     ]
    },
    {
     "name": "stdout",
     "output_type": "stream",
     "text": [
      "[[0.60008272 0.57824699]\n",
      " [0.60371374 0.57924982]\n",
      " [0.5664     0.5468    ]]\n",
      "rec time now 3 dataset now: Syn1\n"
     ]
    },
    {
     "name": "stderr",
     "output_type": "stream",
     "text": [
      "TPR mean: 78.7%  std: 26.5%\n",
      "FDR mean: 69.0%  std: 12.9%\n",
      "Epoch:      0, d_loss (Acc)): 0.687, v_loss (Acc): 0.672, g_loss: -0.1180\n"
     ]
    },
    {
     "name": "stdout",
     "output_type": "stream",
     "text": [
      "[[0.60008272 0.5796687 ]\n",
      " [0.60371374 0.58023501]\n",
      " [0.5664     0.5472    ]]\n",
      "now at training epoch number 100 hyp-params: lamda 0.0060 prior 0.4900\n",
      "rec time now 0 dataset now: Syn1\n"
     ]
    },
    {
     "name": "stderr",
     "output_type": "stream",
     "text": [
      "TPR mean: 96.0%  std: 13.6%\n",
      "FDR mean: 70.5%  std: 6.7%\n"
     ]
    },
    {
     "name": "stdout",
     "output_type": "stream",
     "text": [
      "[[0.65164184 0.63529967]\n",
      " [0.65795894 0.64112974]\n",
      " [0.6019     0.5843    ]]\n",
      "rec time now 1 dataset now: Syn1\n"
     ]
    },
    {
     "name": "stderr",
     "output_type": "stream",
     "text": [
      "TPR mean: 95.6%  std: 14.2%\n",
      "FDR mean: 65.6%  std: 9.6%\n"
     ]
    },
    {
     "name": "stdout",
     "output_type": "stream",
     "text": [
      "[[0.65164184 0.63738922]\n",
      " [0.65795894 0.64567103]\n",
      " [0.6019     0.5892    ]]\n",
      "rec time now 2 dataset now: Syn1\n"
     ]
    },
    {
     "name": "stderr",
     "output_type": "stream",
     "text": [
      "TPR mean: 95.5%  std: 14.3%\n",
      "FDR mean: 63.9%  std: 11.3%\n"
     ]
    },
    {
     "name": "stdout",
     "output_type": "stream",
     "text": [
      "[[0.65164184 0.63850655]\n",
      " [0.65795894 0.64636947]\n",
      " [0.6019     0.5895    ]]\n",
      "rec time now 3 dataset now: Syn1\n"
     ]
    },
    {
     "name": "stderr",
     "output_type": "stream",
     "text": [
      "TPR mean: 95.5%  std: 14.3%\n",
      "FDR mean: 63.5%  std: 11.9%\n",
      "Epoch:      0, d_loss (Acc)): 0.672, v_loss (Acc): 0.642, g_loss: -0.2290\n"
     ]
    },
    {
     "name": "stdout",
     "output_type": "stream",
     "text": [
      "[[0.65164184 0.63857078]\n",
      " [0.65795894 0.64677432]\n",
      " [0.6019     0.5887    ]]\n",
      "now at training epoch number 200 hyp-params: lamda 0.0120 prior 0.4800\n",
      "rec time now 0 dataset now: Syn1\n"
     ]
    },
    {
     "name": "stderr",
     "output_type": "stream",
     "text": [
      "TPR mean: 99.8%  std: 3.0%\n",
      "FDR mean: 69.2%  std: 5.7%\n"
     ]
    },
    {
     "name": "stdout",
     "output_type": "stream",
     "text": [
      "[[0.66177433 0.66537325]\n",
      " [0.67092069 0.67607673]\n",
      " [0.6055     0.6071    ]]\n",
      "rec time now 1 dataset now: Syn1\n"
     ]
    },
    {
     "name": "stderr",
     "output_type": "stream",
     "text": [
      "TPR mean: 99.8%  std: 3.0%\n",
      "FDR mean: 64.1%  std: 8.9%\n"
     ]
    },
    {
     "name": "stdout",
     "output_type": "stream",
     "text": [
      "[[0.66177433 0.66889905]\n",
      " [0.67092069 0.67913044]\n",
      " [0.6055     0.6079    ]]\n",
      "rec time now 2 dataset now: Syn1\n"
     ]
    },
    {
     "name": "stderr",
     "output_type": "stream",
     "text": [
      "TPR mean: 99.8%  std: 3.0%\n",
      "FDR mean: 62.6%  std: 10.5%\n"
     ]
    },
    {
     "name": "stdout",
     "output_type": "stream",
     "text": [
      "[[0.66177433 0.67075443]\n",
      " [0.67092069 0.68058147]\n",
      " [0.6055     0.61      ]]\n",
      "rec time now 3 dataset now: Syn1\n"
     ]
    },
    {
     "name": "stderr",
     "output_type": "stream",
     "text": [
      "TPR mean: 99.8%  std: 3.0%\n",
      "FDR mean: 62.3%  std: 10.9%\n",
      "Epoch:      0, d_loss (Acc)): 0.671, v_loss (Acc): 0.620, g_loss: -0.3936\n"
     ]
    },
    {
     "name": "stdout",
     "output_type": "stream",
     "text": [
      "[[0.66177433 0.67095707]\n",
      " [0.67092069 0.68101094]\n",
      " [0.6055     0.6095    ]]\n",
      "now at training epoch number 300 hyp-params: lamda 0.0180 prior 0.4700\n",
      "rec time now 0 dataset now: Syn1\n"
     ]
    },
    {
     "name": "stderr",
     "output_type": "stream",
     "text": [
      "TPR mean: 100.0%  std: 0.5%\n",
      "FDR mean: 68.6%  std: 5.6%\n"
     ]
    },
    {
     "name": "stdout",
     "output_type": "stream",
     "text": [
      "[[0.67991367 0.68256411]\n",
      " [0.68864721 0.69244251]\n",
      " [0.6169     0.6188    ]]\n",
      "rec time now 1 dataset now: Syn1\n"
     ]
    },
    {
     "name": "stderr",
     "output_type": "stream",
     "text": [
      "TPR mean: 100.0%  std: 0.5%\n",
      "FDR mean: 63.6%  std: 8.4%\n"
     ]
    },
    {
     "name": "stdout",
     "output_type": "stream",
     "text": [
      "[[0.67991367 0.68603401]\n",
      " [0.68864721 0.6953162 ]\n",
      " [0.6169     0.6218    ]]\n",
      "rec time now 2 dataset now: Syn1\n"
     ]
    },
    {
     "name": "stderr",
     "output_type": "stream",
     "text": [
      "TPR mean: 100.0%  std: 0.5%\n",
      "FDR mean: 62.3%  std: 9.4%\n"
     ]
    },
    {
     "name": "stdout",
     "output_type": "stream",
     "text": [
      "[[0.67991367 0.68807975]\n",
      " [0.68864721 0.69735381]\n",
      " [0.6169     0.6241    ]]\n",
      "rec time now 3 dataset now: Syn1\n"
     ]
    },
    {
     "name": "stderr",
     "output_type": "stream",
     "text": [
      "TPR mean: 100.0%  std: 0.5%\n",
      "FDR mean: 62.2%  std: 9.7%\n",
      "Epoch:      0, d_loss (Acc)): 0.644, v_loss (Acc): 0.617, g_loss: -0.2151\n"
     ]
    },
    {
     "name": "stdout",
     "output_type": "stream",
     "text": [
      "[[0.67991367 0.68806467]\n",
      " [0.68864721 0.69742218]\n",
      " [0.6169     0.6237    ]]\n",
      "now at training epoch number 400 hyp-params: lamda 0.0240 prior 0.4600\n",
      "rec time now 0 dataset now: Syn1\n"
     ]
    },
    {
     "name": "stderr",
     "output_type": "stream",
     "text": [
      "TPR mean: 100.0%  std: 0.0%\n",
      "FDR mean: 66.3%  std: 6.9%\n"
     ]
    },
    {
     "name": "stdout",
     "output_type": "stream",
     "text": [
      "[[0.6788186  0.69013057]\n",
      " [0.68662093 0.69939191]\n",
      " [0.6139     0.6238    ]]\n",
      "rec time now 1 dataset now: Syn1\n"
     ]
    },
    {
     "name": "stderr",
     "output_type": "stream",
     "text": [
      "TPR mean: 100.0%  std: 0.0%\n",
      "FDR mean: 61.5%  std: 9.3%\n"
     ]
    },
    {
     "name": "stdout",
     "output_type": "stream",
     "text": [
      "[[0.6788186  0.69288513]\n",
      " [0.68662093 0.70215236]\n",
      " [0.6139     0.6252    ]]\n",
      "rec time now 2 dataset now: Syn1\n"
     ]
    },
    {
     "name": "stderr",
     "output_type": "stream",
     "text": [
      "TPR mean: 100.0%  std: 0.0%\n",
      "FDR mean: 60.5%  std: 10.0%\n"
     ]
    },
    {
     "name": "stdout",
     "output_type": "stream",
     "text": [
      "[[0.6788186  0.69280691]\n",
      " [0.68662093 0.70237694]\n",
      " [0.6139     0.6266    ]]\n",
      "rec time now 3 dataset now: Syn1\n"
     ]
    },
    {
     "name": "stderr",
     "output_type": "stream",
     "text": [
      "TPR mean: 100.0%  std: 0.0%\n",
      "FDR mean: 60.4%  std: 10.1%\n",
      "Epoch:      0, d_loss (Acc)): 0.639, v_loss (Acc): 0.622, g_loss: -0.1187\n"
     ]
    },
    {
     "name": "stdout",
     "output_type": "stream",
     "text": [
      "[[0.6788186  0.69305046]\n",
      " [0.68662093 0.7026123 ]\n",
      " [0.6139     0.6263    ]]\n",
      "now at training epoch number 500 hyp-params: lamda 0.0300 prior 0.4500\n",
      "rec time now 0 dataset now: Syn1\n"
     ]
    },
    {
     "name": "stderr",
     "output_type": "stream",
     "text": [
      "TPR mean: 100.0%  std: 0.0%\n",
      "FDR mean: 64.5%  std: 6.8%\n"
     ]
    },
    {
     "name": "stdout",
     "output_type": "stream",
     "text": [
      "[[0.6797583  0.69035415]\n",
      " [0.68833964 0.70002837]\n",
      " [0.6201     0.6245    ]]\n",
      "rec time now 1 dataset now: Syn1\n"
     ]
    },
    {
     "name": "stderr",
     "output_type": "stream",
     "text": [
      "TPR mean: 100.0%  std: 0.0%\n",
      "FDR mean: 59.1%  std: 9.1%\n"
     ]
    },
    {
     "name": "stdout",
     "output_type": "stream",
     "text": [
      "[[0.6797583  0.69238602]\n",
      " [0.68833964 0.70163017]\n",
      " [0.6201     0.6261    ]]\n",
      "rec time now 2 dataset now: Syn1\n"
     ]
    },
    {
     "name": "stderr",
     "output_type": "stream",
     "text": [
      "TPR mean: 100.0%  std: 0.0%\n",
      "FDR mean: 58.0%  std: 9.8%\n"
     ]
    },
    {
     "name": "stdout",
     "output_type": "stream",
     "text": [
      "[[0.6797583  0.69302113]\n",
      " [0.68833964 0.70223721]\n",
      " [0.6201     0.6277    ]]\n",
      "rec time now 3 dataset now: Syn1\n"
     ]
    },
    {
     "name": "stderr",
     "output_type": "stream",
     "text": [
      "TPR mean: 100.0%  std: 0.0%\n",
      "FDR mean: 57.9%  std: 9.9%\n",
      "Epoch:      0, d_loss (Acc)): 0.620, v_loss (Acc): 0.594, g_loss: -0.1807\n"
     ]
    },
    {
     "name": "stdout",
     "output_type": "stream",
     "text": [
      "[[0.6797583  0.69322573]\n",
      " [0.68833964 0.70234279]\n",
      " [0.6201     0.6283    ]]\n",
      "now at training epoch number 600 hyp-params: lamda 0.0360 prior 0.4400\n",
      "rec time now 0 dataset now: Syn1\n"
     ]
    },
    {
     "name": "stderr",
     "output_type": "stream",
     "text": [
      "TPR mean: 100.0%  std: 0.0%\n",
      "FDR mean: 59.1%  std: 10.5%\n"
     ]
    },
    {
     "name": "stdout",
     "output_type": "stream",
     "text": [
      "[[0.68082863 0.6890259 ]\n",
      " [0.69014568 0.70003969]\n",
      " [0.6177     0.6197    ]]\n",
      "rec time now 1 dataset now: Syn1\n"
     ]
    },
    {
     "name": "stderr",
     "output_type": "stream",
     "text": [
      "TPR mean: 100.0%  std: 0.0%\n",
      "FDR mean: 50.5%  std: 14.0%\n"
     ]
    },
    {
     "name": "stdout",
     "output_type": "stream",
     "text": [
      "[[0.68082863 0.69148018]\n",
      " [0.69014568 0.70219146]\n",
      " [0.6177     0.6257    ]]\n",
      "rec time now 2 dataset now: Syn1\n"
     ]
    },
    {
     "name": "stderr",
     "output_type": "stream",
     "text": [
      "TPR mean: 100.0%  std: 0.0%\n",
      "FDR mean: 48.6%  std: 14.9%\n"
     ]
    },
    {
     "name": "stdout",
     "output_type": "stream",
     "text": [
      "[[0.68082863 0.69063756]\n",
      " [0.69014568 0.70153134]\n",
      " [0.6177     0.6251    ]]\n",
      "rec time now 3 dataset now: Syn1\n"
     ]
    },
    {
     "name": "stderr",
     "output_type": "stream",
     "text": [
      "TPR mean: 100.0%  std: 0.0%\n",
      "FDR mean: 48.4%  std: 15.0%\n",
      "Epoch:      0, d_loss (Acc)): 0.614, v_loss (Acc): 0.592, g_loss: -0.1363\n"
     ]
    },
    {
     "name": "stdout",
     "output_type": "stream",
     "text": [
      "[[0.68082863 0.69050461]\n",
      " [0.69014568 0.70151086]\n",
      " [0.6177     0.6246    ]]\n",
      "now at training epoch number 700 hyp-params: lamda 0.0420 prior 0.4300\n",
      "rec time now 0 dataset now: Syn1\n"
     ]
    },
    {
     "name": "stderr",
     "output_type": "stream",
     "text": [
      "TPR mean: 100.0%  std: 0.0%\n",
      "FDR mean: 51.7%  std: 13.0%\n"
     ]
    },
    {
     "name": "stdout",
     "output_type": "stream",
     "text": [
      "[[0.67710222 0.69175747]\n",
      " [0.68566142 0.7015014 ]\n",
      " [0.6174     0.6231    ]]\n",
      "rec time now 1 dataset now: Syn1\n"
     ]
    },
    {
     "name": "stderr",
     "output_type": "stream",
     "text": [
      "TPR mean: 100.0%  std: 0.0%\n",
      "FDR mean: 40.8%  std: 14.8%\n"
     ]
    },
    {
     "name": "stdout",
     "output_type": "stream",
     "text": [
      "[[0.67710222 0.69128177]\n",
      " [0.68566142 0.70177843]\n",
      " [0.6174     0.6222    ]]\n",
      "rec time now 2 dataset now: Syn1\n"
     ]
    },
    {
     "name": "stderr",
     "output_type": "stream",
     "text": [
      "TPR mean: 100.0%  std: 0.0%\n",
      "FDR mean: 39.2%  std: 15.0%\n"
     ]
    },
    {
     "name": "stdout",
     "output_type": "stream",
     "text": [
      "[[0.67710222 0.69065658]\n",
      " [0.68566142 0.70157918]\n",
      " [0.6174     0.6193    ]]\n",
      "rec time now 3 dataset now: Syn1\n"
     ]
    },
    {
     "name": "stderr",
     "output_type": "stream",
     "text": [
      "TPR mean: 100.0%  std: 0.0%\n",
      "FDR mean: 39.1%  std: 15.0%\n",
      "Epoch:      0, d_loss (Acc)): 0.614, v_loss (Acc): 0.588, g_loss: -0.1638\n"
     ]
    },
    {
     "name": "stdout",
     "output_type": "stream",
     "text": [
      "[[0.67710222 0.69092257]\n",
      " [0.68566142 0.70183544]\n",
      " [0.6174     0.6195    ]]\n",
      "now at training epoch number 800 hyp-params: lamda 0.0480 prior 0.4200\n",
      "rec time now 0 dataset now: Syn1\n"
     ]
    },
    {
     "name": "stderr",
     "output_type": "stream",
     "text": [
      "TPR mean: 100.0%  std: 0.0%\n",
      "FDR mean: 35.7%  std: 17.4%\n"
     ]
    },
    {
     "name": "stdout",
     "output_type": "stream",
     "text": [
      "[[0.684138   0.69511158]\n",
      " [0.69316762 0.70492984]\n",
      " [0.6205     0.6259    ]]\n",
      "rec time now 1 dataset now: Syn1\n"
     ]
    },
    {
     "name": "stderr",
     "output_type": "stream",
     "text": [
      "TPR mean: 100.0%  std: 0.0%\n",
      "FDR mean: 21.3%  std: 17.2%\n"
     ]
    },
    {
     "name": "stdout",
     "output_type": "stream",
     "text": [
      "[[0.684138   0.6934375 ]\n",
      " [0.69316762 0.70468902]\n",
      " [0.6205     0.6276    ]]\n",
      "rec time now 2 dataset now: Syn1\n"
     ]
    },
    {
     "name": "stderr",
     "output_type": "stream",
     "text": [
      "TPR mean: 100.0%  std: 0.0%\n",
      "FDR mean: 20.2%  std: 17.2%\n"
     ]
    },
    {
     "name": "stdout",
     "output_type": "stream",
     "text": [
      "[[0.684138   0.69410226]\n",
      " [0.69316762 0.70538113]\n",
      " [0.6205     0.6272    ]]\n",
      "rec time now 3 dataset now: Syn1\n"
     ]
    },
    {
     "name": "stderr",
     "output_type": "stream",
     "text": [
      "TPR mean: 100.0%  std: 0.0%\n",
      "FDR mean: 20.2%  std: 17.2%\n",
      "Epoch:      0, d_loss (Acc)): 0.632, v_loss (Acc): 0.617, g_loss: -0.1041\n"
     ]
    },
    {
     "name": "stdout",
     "output_type": "stream",
     "text": [
      "[[0.684138   0.69398102]\n",
      " [0.69316762 0.70531595]\n",
      " [0.6205     0.6271    ]]\n",
      "now at training epoch number 900 hyp-params: lamda 0.0540 prior 0.4100\n",
      "rec time now 0 dataset now: Syn1\n"
     ]
    },
    {
     "name": "stderr",
     "output_type": "stream",
     "text": [
      "TPR mean: 100.0%  std: 0.0%\n",
      "FDR mean: 25.5%  std: 19.1%\n"
     ]
    },
    {
     "name": "stdout",
     "output_type": "stream",
     "text": [
      "[[0.67844283 0.69082065]\n",
      " [0.68886615 0.70282672]\n",
      " [0.6139     0.6242    ]]\n",
      "rec time now 1 dataset now: Syn1\n"
     ]
    },
    {
     "name": "stderr",
     "output_type": "stream",
     "text": [
      "TPR mean: 100.0%  std: 0.0%\n",
      "FDR mean: 9.1%  std: 15.2%\n"
     ]
    },
    {
     "name": "stdout",
     "output_type": "stream",
     "text": [
      "[[0.67844283 0.68293021]\n",
      " [0.68886615 0.69760792]\n",
      " [0.6139     0.6155    ]]\n",
      "rec time now 2 dataset now: Syn1\n"
     ]
    },
    {
     "name": "stderr",
     "output_type": "stream",
     "text": [
      "TPR mean: 100.0%  std: 0.0%\n",
      "FDR mean: 8.4%  std: 14.9%\n"
     ]
    },
    {
     "name": "stdout",
     "output_type": "stream",
     "text": [
      "[[0.67844283 0.68290373]\n",
      " [0.68886615 0.69777805]\n",
      " [0.6139     0.6149    ]]\n",
      "rec time now 3 dataset now: Syn1\n"
     ]
    },
    {
     "name": "stderr",
     "output_type": "stream",
     "text": [
      "TPR mean: 100.0%  std: 0.0%\n",
      "FDR mean: 8.4%  std: 14.8%\n",
      "Epoch:      0, d_loss (Acc)): 0.615, v_loss (Acc): 0.590, g_loss: -0.1665\n"
     ]
    },
    {
     "name": "stdout",
     "output_type": "stream",
     "text": [
      "[[0.67844283 0.68285664]\n",
      " [0.68886615 0.69775304]\n",
      " [0.6139     0.6147    ]]\n",
      "now at training epoch number 1000 hyp-params: lamda 0.0600 prior 0.4000\n",
      "rec time now 0 dataset now: Syn1\n"
     ]
    },
    {
     "name": "stderr",
     "output_type": "stream",
     "text": [
      "TPR mean: 100.0%  std: 0.0%\n",
      "FDR mean: 5.9%  std: 13.0%\n"
     ]
    },
    {
     "name": "stdout",
     "output_type": "stream",
     "text": [
      "[[0.68230667 0.68867097]\n",
      " [0.69191453 0.70235935]\n",
      " [0.6215     0.6223    ]]\n",
      "rec time now 1 dataset now: Syn1\n"
     ]
    },
    {
     "name": "stderr",
     "output_type": "stream",
     "text": [
      "TPR mean: 100.0%  std: 0.0%\n",
      "FDR mean: 0.6%  std: 4.4%\n"
     ]
    },
    {
     "name": "stdout",
     "output_type": "stream",
     "text": [
      "[[0.68230667 0.687908  ]\n",
      " [0.69191453 0.70084101]\n",
      " [0.6215     0.6193    ]]\n",
      "rec time now 2 dataset now: Syn1\n"
     ]
    },
    {
     "name": "stderr",
     "output_type": "stream",
     "text": [
      "TPR mean: 100.0%  std: 0.0%\n",
      "FDR mean: 0.6%  std: 4.4%\n"
     ]
    },
    {
     "name": "stdout",
     "output_type": "stream",
     "text": [
      "[[0.68230667 0.68790988]\n",
      " [0.69191453 0.70084027]\n",
      " [0.6215     0.6193    ]]\n",
      "rec time now 3 dataset now: Syn1\n"
     ]
    },
    {
     "name": "stderr",
     "output_type": "stream",
     "text": [
      "TPR mean: 100.0%  std: 0.0%\n",
      "FDR mean: 0.6%  std: 4.4%\n",
      "Epoch:      0, d_loss (Acc)): 0.625, v_loss (Acc): 0.608, g_loss: -0.0968\n"
     ]
    },
    {
     "name": "stdout",
     "output_type": "stream",
     "text": [
      "[[0.68230667 0.68790988]\n",
      " [0.69191453 0.70084027]\n",
      " [0.6215     0.6193    ]]\n",
      "now at training epoch number 1100 hyp-params: lamda 0.0660 prior 0.3900\n",
      "rec time now 0 dataset now: Syn1\n"
     ]
    },
    {
     "name": "stderr",
     "output_type": "stream",
     "text": [
      "TPR mean: 100.0%  std: 0.0%\n",
      "FDR mean: 1.6%  std: 7.1%\n"
     ]
    },
    {
     "name": "stdout",
     "output_type": "stream",
     "text": [
      "[[0.6774527  0.68810063]\n",
      " [0.68698637 0.70211914]\n",
      " [0.6132     0.6178    ]]\n",
      "rec time now 1 dataset now: Syn1\n"
     ]
    },
    {
     "name": "stderr",
     "output_type": "stream",
     "text": [
      "TPR mean: 100.0%  std: 0.0%\n",
      "FDR mean: 0.1%  std: 1.3%\n"
     ]
    },
    {
     "name": "stdout",
     "output_type": "stream",
     "text": [
      "[[0.6774527  0.68887029]\n",
      " [0.68698637 0.70244804]\n",
      " [0.6132     0.6177    ]]\n",
      "rec time now 2 dataset now: Syn1\n"
     ]
    },
    {
     "name": "stderr",
     "output_type": "stream",
     "text": [
      "TPR mean: 100.0%  std: 0.0%\n",
      "FDR mean: 0.1%  std: 1.3%\n"
     ]
    },
    {
     "name": "stdout",
     "output_type": "stream",
     "text": [
      "[[0.6774527  0.68887029]\n",
      " [0.68698637 0.70244804]\n",
      " [0.6132     0.6177    ]]\n",
      "rec time now 3 dataset now: Syn1\n"
     ]
    },
    {
     "name": "stderr",
     "output_type": "stream",
     "text": [
      "TPR mean: 100.0%  std: 0.0%\n",
      "FDR mean: 0.1%  std: 1.3%\n",
      "Epoch:      0, d_loss (Acc)): 0.605, v_loss (Acc): 0.580, g_loss: -0.1502\n"
     ]
    },
    {
     "name": "stdout",
     "output_type": "stream",
     "text": [
      "[[0.6774527  0.68887029]\n",
      " [0.68698637 0.70244804]\n",
      " [0.6132     0.6177    ]]\n",
      "now at training epoch number 1200 hyp-params: lamda 0.0720 prior 0.3800\n",
      "rec time now 0 dataset now: Syn1\n"
     ]
    },
    {
     "name": "stderr",
     "output_type": "stream",
     "text": [
      "TPR mean: 100.0%  std: 0.0%\n",
      "FDR mean: 0.4%  std: 3.4%\n"
     ]
    },
    {
     "name": "stdout",
     "output_type": "stream",
     "text": [
      "[[0.67900051 0.69001631]\n",
      " [0.68824357 0.70345297]\n",
      " [0.6168     0.6219    ]]\n",
      "rec time now 1 dataset now: Syn1\n"
     ]
    },
    {
     "name": "stderr",
     "output_type": "stream",
     "text": [
      "TPR mean: 100.0%  std: 0.0%\n",
      "FDR mean: 0.0%  std: 0.3%\n"
     ]
    },
    {
     "name": "stdout",
     "output_type": "stream",
     "text": [
      "[[0.67900051 0.69102174]\n",
      " [0.68824357 0.70412429]\n",
      " [0.6168     0.6227    ]]\n",
      "rec time now 2 dataset now: Syn1\n"
     ]
    },
    {
     "name": "stderr",
     "output_type": "stream",
     "text": [
      "TPR mean: 100.0%  std: 0.0%\n",
      "FDR mean: 0.0%  std: 0.3%\n"
     ]
    },
    {
     "name": "stdout",
     "output_type": "stream",
     "text": [
      "[[0.67900051 0.69102174]\n",
      " [0.68824357 0.70412429]\n",
      " [0.6168     0.6227    ]]\n",
      "rec time now 3 dataset now: Syn1\n"
     ]
    },
    {
     "name": "stderr",
     "output_type": "stream",
     "text": [
      "TPR mean: 100.0%  std: 0.0%\n",
      "FDR mean: 0.0%  std: 0.3%\n",
      "Epoch:      0, d_loss (Acc)): 0.626, v_loss (Acc): 0.590, g_loss: -0.2171\n"
     ]
    },
    {
     "name": "stdout",
     "output_type": "stream",
     "text": [
      "[[0.67900051 0.69102174]\n",
      " [0.68824357 0.70412429]\n",
      " [0.6168     0.6227    ]]\n",
      "now at training epoch number 1300 hyp-params: lamda 0.0780 prior 0.3700\n",
      "rec time now 0 dataset now: Syn1\n"
     ]
    },
    {
     "name": "stderr",
     "output_type": "stream",
     "text": [
      "TPR mean: 100.0%  std: 0.0%\n",
      "FDR mean: 0.0%  std: 0.5%\n"
     ]
    },
    {
     "name": "stdout",
     "output_type": "stream",
     "text": [
      "[[0.6828643  0.68748167]\n",
      " [0.69284958 0.70119296]\n",
      " [0.6205     0.617     ]]\n",
      "rec time now 1 dataset now: Syn1\n"
     ]
    },
    {
     "name": "stderr",
     "output_type": "stream",
     "text": [
      "TPR mean: 100.0%  std: 0.0%\n",
      "FDR mean: 0.0%  std: 0.0%\n"
     ]
    },
    {
     "name": "stdout",
     "output_type": "stream",
     "text": [
      "[[0.6828643  0.68747267]\n",
      " [0.69284958 0.70119196]\n",
      " [0.6205     0.617     ]]\n",
      "rec time now 2 dataset now: Syn1\n"
     ]
    },
    {
     "name": "stderr",
     "output_type": "stream",
     "text": [
      "TPR mean: 100.0%  std: 0.0%\n",
      "FDR mean: 0.0%  std: 0.0%\n"
     ]
    },
    {
     "name": "stdout",
     "output_type": "stream",
     "text": [
      "[[0.6828643  0.68747267]\n",
      " [0.69284958 0.70119196]\n",
      " [0.6205     0.617     ]]\n",
      "rec time now 3 dataset now: Syn1\n"
     ]
    },
    {
     "name": "stderr",
     "output_type": "stream",
     "text": [
      "TPR mean: 100.0%  std: 0.0%\n",
      "FDR mean: 0.0%  std: 0.0%\n",
      "Epoch:      0, d_loss (Acc)): 0.619, v_loss (Acc): 0.593, g_loss: -0.1301\n"
     ]
    },
    {
     "name": "stdout",
     "output_type": "stream",
     "text": [
      "[[0.6828643  0.68747267]\n",
      " [0.69284958 0.70119196]\n",
      " [0.6205     0.617     ]]\n",
      "now at training epoch number 1400 hyp-params: lamda 0.0840 prior 0.3600\n",
      "rec time now 0 dataset now: Syn1\n"
     ]
    },
    {
     "name": "stderr",
     "output_type": "stream",
     "text": [
      "TPR mean: 100.0%  std: 0.0%\n",
      "FDR mean: 0.0%  std: 0.0%\n"
     ]
    },
    {
     "name": "stdout",
     "output_type": "stream",
     "text": [
      "[[0.68034596 0.69107647]\n",
      " [0.69057552 0.70361269]\n",
      " [0.6185     0.622     ]]\n",
      "rec time now 1 dataset now: Syn1\n"
     ]
    },
    {
     "name": "stderr",
     "output_type": "stream",
     "text": [
      "TPR mean: 100.0%  std: 0.0%\n",
      "FDR mean: 0.0%  std: 0.0%\n"
     ]
    },
    {
     "name": "stdout",
     "output_type": "stream",
     "text": [
      "[[0.68034596 0.69107647]\n",
      " [0.69057552 0.70361269]\n",
      " [0.6185     0.622     ]]\n",
      "rec time now 2 dataset now: Syn1\n"
     ]
    },
    {
     "name": "stderr",
     "output_type": "stream",
     "text": [
      "TPR mean: 100.0%  std: 0.0%\n",
      "FDR mean: 0.0%  std: 0.0%\n"
     ]
    },
    {
     "name": "stdout",
     "output_type": "stream",
     "text": [
      "[[0.68034596 0.69107647]\n",
      " [0.69057552 0.70361269]\n",
      " [0.6185     0.622     ]]\n",
      "rec time now 3 dataset now: Syn1\n"
     ]
    },
    {
     "name": "stderr",
     "output_type": "stream",
     "text": [
      "TPR mean: 100.0%  std: 0.0%\n",
      "FDR mean: 0.0%  std: 0.0%\n",
      "Epoch:      0, d_loss (Acc)): 0.618, v_loss (Acc): 0.588, g_loss: -0.1768\n"
     ]
    },
    {
     "name": "stdout",
     "output_type": "stream",
     "text": [
      "[[0.68034596 0.69107647]\n",
      " [0.69057552 0.70361269]\n",
      " [0.6185     0.622     ]]\n",
      "now at training epoch number 1500 hyp-params: lamda 0.0900 prior 0.3500\n",
      "rec time now 0 dataset now: Syn1\n"
     ]
    },
    {
     "name": "stderr",
     "output_type": "stream",
     "text": [
      "TPR mean: 100.0%  std: 0.0%\n",
      "FDR mean: 0.0%  std: 0.0%\n"
     ]
    },
    {
     "name": "stdout",
     "output_type": "stream",
     "text": [
      "[[0.68085091 0.68980615]\n",
      " [0.68983213 0.70268717]\n",
      " [0.6181     0.6213    ]]\n",
      "rec time now 1 dataset now: Syn1\n"
     ]
    },
    {
     "name": "stderr",
     "output_type": "stream",
     "text": [
      "TPR mean: 100.0%  std: 0.0%\n",
      "FDR mean: 0.0%  std: 0.0%\n"
     ]
    },
    {
     "name": "stdout",
     "output_type": "stream",
     "text": [
      "[[0.68085091 0.68980615]\n",
      " [0.68983213 0.70268717]\n",
      " [0.6181     0.6213    ]]\n",
      "rec time now 2 dataset now: Syn1\n"
     ]
    },
    {
     "name": "stderr",
     "output_type": "stream",
     "text": [
      "TPR mean: 100.0%  std: 0.0%\n",
      "FDR mean: 0.0%  std: 0.0%\n"
     ]
    },
    {
     "name": "stdout",
     "output_type": "stream",
     "text": [
      "[[0.68085091 0.68980615]\n",
      " [0.68983213 0.70268717]\n",
      " [0.6181     0.6213    ]]\n",
      "rec time now 3 dataset now: Syn1\n"
     ]
    },
    {
     "name": "stderr",
     "output_type": "stream",
     "text": [
      "TPR mean: 100.0%  std: 0.0%\n",
      "FDR mean: 0.0%  std: 0.0%\n",
      "Epoch:      0, d_loss (Acc)): 0.624, v_loss (Acc): 0.596, g_loss: -0.1491\n"
     ]
    },
    {
     "name": "stdout",
     "output_type": "stream",
     "text": [
      "[[0.68085091 0.68980615]\n",
      " [0.68983213 0.70268717]\n",
      " [0.6181     0.6213    ]]\n",
      "now at training epoch number 1600 hyp-params: lamda 0.0960 prior 0.3400\n",
      "rec time now 0 dataset now: Syn1\n"
     ]
    },
    {
     "name": "stderr",
     "output_type": "stream",
     "text": [
      "TPR mean: 100.0%  std: 0.0%\n",
      "FDR mean: 0.0%  std: 0.0%\n"
     ]
    },
    {
     "name": "stdout",
     "output_type": "stream",
     "text": [
      "[[0.67806181 0.69117515]\n",
      " [0.68830038 0.70403865]\n",
      " [0.6139     0.6211    ]]\n",
      "rec time now 1 dataset now: Syn1\n"
     ]
    },
    {
     "name": "stderr",
     "output_type": "stream",
     "text": [
      "TPR mean: 100.0%  std: 0.0%\n",
      "FDR mean: 0.0%  std: 0.0%\n"
     ]
    },
    {
     "name": "stdout",
     "output_type": "stream",
     "text": [
      "[[0.67806181 0.69117515]\n",
      " [0.68830038 0.70403865]\n",
      " [0.6139     0.6211    ]]\n",
      "rec time now 2 dataset now: Syn1\n"
     ]
    },
    {
     "name": "stderr",
     "output_type": "stream",
     "text": [
      "TPR mean: 100.0%  std: 0.0%\n",
      "FDR mean: 0.0%  std: 0.0%\n"
     ]
    },
    {
     "name": "stdout",
     "output_type": "stream",
     "text": [
      "[[0.67806181 0.69117515]\n",
      " [0.68830038 0.70403865]\n",
      " [0.6139     0.6211    ]]\n",
      "rec time now 3 dataset now: Syn1\n"
     ]
    },
    {
     "name": "stderr",
     "output_type": "stream",
     "text": [
      "TPR mean: 100.0%  std: 0.0%\n",
      "FDR mean: 0.0%  std: 0.0%\n",
      "Epoch:      0, d_loss (Acc)): 0.611, v_loss (Acc): 0.577, g_loss: -0.1900\n"
     ]
    },
    {
     "name": "stdout",
     "output_type": "stream",
     "text": [
      "[[0.67806181 0.69117515]\n",
      " [0.68830038 0.70403865]\n",
      " [0.6139     0.6211    ]]\n",
      "now at training epoch number 1700 hyp-params: lamda 0.1020 prior 0.3300\n",
      "rec time now 0 dataset now: Syn1\n"
     ]
    },
    {
     "name": "stderr",
     "output_type": "stream",
     "text": [
      "TPR mean: 100.0%  std: 0.0%\n",
      "FDR mean: 0.0%  std: 0.0%\n"
     ]
    },
    {
     "name": "stdout",
     "output_type": "stream",
     "text": [
      "[[0.67680819 0.6920332 ]\n",
      " [0.68717747 0.70496729]\n",
      " [0.6182     0.6254    ]]\n",
      "rec time now 1 dataset now: Syn1\n"
     ]
    },
    {
     "name": "stderr",
     "output_type": "stream",
     "text": [
      "TPR mean: 100.0%  std: 0.0%\n",
      "FDR mean: 0.0%  std: 0.0%\n"
     ]
    },
    {
     "name": "stdout",
     "output_type": "stream",
     "text": [
      "[[0.67680819 0.6920332 ]\n",
      " [0.68717747 0.70496729]\n",
      " [0.6182     0.6254    ]]\n",
      "rec time now 2 dataset now: Syn1\n"
     ]
    },
    {
     "name": "stderr",
     "output_type": "stream",
     "text": [
      "TPR mean: 100.0%  std: 0.0%\n",
      "FDR mean: 0.0%  std: 0.0%\n"
     ]
    },
    {
     "name": "stdout",
     "output_type": "stream",
     "text": [
      "[[0.67680819 0.6920332 ]\n",
      " [0.68717747 0.70496729]\n",
      " [0.6182     0.6254    ]]\n",
      "rec time now 3 dataset now: Syn1\n"
     ]
    },
    {
     "name": "stderr",
     "output_type": "stream",
     "text": [
      "TPR mean: 100.0%  std: 0.0%\n",
      "FDR mean: 0.0%  std: 0.0%\n",
      "Epoch:      0, d_loss (Acc)): 0.616, v_loss (Acc): 0.578, g_loss: -0.2096\n"
     ]
    },
    {
     "name": "stdout",
     "output_type": "stream",
     "text": [
      "[[0.67680819 0.6920332 ]\n",
      " [0.68717747 0.70496729]\n",
      " [0.6182     0.6254    ]]\n",
      "now at training epoch number 1800 hyp-params: lamda 0.1080 prior 0.3200\n",
      "rec time now 0 dataset now: Syn1\n"
     ]
    },
    {
     "name": "stderr",
     "output_type": "stream",
     "text": [
      "TPR mean: 100.0%  std: 0.0%\n",
      "FDR mean: 0.0%  std: 0.0%\n"
     ]
    },
    {
     "name": "stdout",
     "output_type": "stream",
     "text": [
      "[[0.67880069 0.69243461]\n",
      " [0.68867866 0.70521284]\n",
      " [0.618      0.6244    ]]\n",
      "rec time now 1 dataset now: Syn1\n"
     ]
    },
    {
     "name": "stderr",
     "output_type": "stream",
     "text": [
      "TPR mean: 100.0%  std: 0.0%\n",
      "FDR mean: 0.0%  std: 0.0%\n"
     ]
    },
    {
     "name": "stdout",
     "output_type": "stream",
     "text": [
      "[[0.67880069 0.69243461]\n",
      " [0.68867866 0.70521284]\n",
      " [0.618      0.6244    ]]\n",
      "rec time now 2 dataset now: Syn1\n"
     ]
    },
    {
     "name": "stderr",
     "output_type": "stream",
     "text": [
      "TPR mean: 100.0%  std: 0.0%\n",
      "FDR mean: 0.0%  std: 0.0%\n"
     ]
    },
    {
     "name": "stdout",
     "output_type": "stream",
     "text": [
      "[[0.67880069 0.69243461]\n",
      " [0.68867866 0.70521284]\n",
      " [0.618      0.6244    ]]\n",
      "rec time now 3 dataset now: Syn1\n"
     ]
    },
    {
     "name": "stderr",
     "output_type": "stream",
     "text": [
      "TPR mean: 100.0%  std: 0.0%\n",
      "FDR mean: 0.0%  std: 0.0%\n",
      "Epoch:      0, d_loss (Acc)): 0.609, v_loss (Acc): 0.588, g_loss: -0.1022\n"
     ]
    },
    {
     "name": "stdout",
     "output_type": "stream",
     "text": [
      "[[0.67880069 0.69243461]\n",
      " [0.68867866 0.70521284]\n",
      " [0.618      0.6244    ]]\n",
      "now at training epoch number 1900 hyp-params: lamda 0.1140 prior 0.3100\n",
      "rec time now 0 dataset now: Syn1\n"
     ]
    },
    {
     "name": "stderr",
     "output_type": "stream",
     "text": [
      "TPR mean: 100.0%  std: 0.0%\n",
      "FDR mean: 0.0%  std: 0.0%\n"
     ]
    },
    {
     "name": "stdout",
     "output_type": "stream",
     "text": [
      "[[0.67867493 0.69289983]\n",
      " [0.6878146  0.70555435]\n",
      " [0.6161     0.6238    ]]\n",
      "rec time now 1 dataset now: Syn1\n"
     ]
    },
    {
     "name": "stderr",
     "output_type": "stream",
     "text": [
      "TPR mean: 100.0%  std: 0.0%\n",
      "FDR mean: 0.0%  std: 0.0%\n"
     ]
    },
    {
     "name": "stdout",
     "output_type": "stream",
     "text": [
      "[[0.67867493 0.69289983]\n",
      " [0.6878146  0.70555435]\n",
      " [0.6161     0.6238    ]]\n",
      "rec time now 2 dataset now: Syn1\n"
     ]
    },
    {
     "name": "stderr",
     "output_type": "stream",
     "text": [
      "TPR mean: 100.0%  std: 0.0%\n",
      "FDR mean: 0.0%  std: 0.0%\n"
     ]
    },
    {
     "name": "stdout",
     "output_type": "stream",
     "text": [
      "[[0.67867493 0.69289983]\n",
      " [0.6878146  0.70555435]\n",
      " [0.6161     0.6238    ]]\n",
      "rec time now 3 dataset now: Syn1\n"
     ]
    },
    {
     "name": "stderr",
     "output_type": "stream",
     "text": [
      "TPR mean: 100.0%  std: 0.0%\n",
      "FDR mean: 0.0%  std: 0.0%\n",
      "Epoch:      0, d_loss (Acc)): 0.633, v_loss (Acc): 0.602, g_loss: -0.1437\n"
     ]
    },
    {
     "name": "stdout",
     "output_type": "stream",
     "text": [
      "[[0.67867493 0.69289983]\n",
      " [0.6878146  0.70555435]\n",
      " [0.6161     0.6238    ]]\n",
      "now at training epoch number 2000 hyp-params: lamda 0.1200 prior 0.3000\n",
      "rec time now 0 dataset now: Syn1\n"
     ]
    },
    {
     "name": "stderr",
     "output_type": "stream",
     "text": [
      "TPR mean: 100.0%  std: 0.0%\n",
      "FDR mean: 0.0%  std: 0.0%\n"
     ]
    },
    {
     "name": "stdout",
     "output_type": "stream",
     "text": [
      "[[0.67517444 0.69370855]\n",
      " [0.68538905 0.70611747]\n",
      " [0.6138     0.6254    ]]\n",
      "rec time now 1 dataset now: Syn1\n"
     ]
    },
    {
     "name": "stderr",
     "output_type": "stream",
     "text": [
      "TPR mean: 100.0%  std: 0.0%\n",
      "FDR mean: 0.0%  std: 0.0%\n"
     ]
    },
    {
     "name": "stdout",
     "output_type": "stream",
     "text": [
      "[[0.67517444 0.69370855]\n",
      " [0.68538905 0.70611747]\n",
      " [0.6138     0.6254    ]]\n",
      "rec time now 2 dataset now: Syn1\n"
     ]
    },
    {
     "name": "stderr",
     "output_type": "stream",
     "text": [
      "TPR mean: 100.0%  std: 0.0%\n",
      "FDR mean: 0.0%  std: 0.0%\n"
     ]
    },
    {
     "name": "stdout",
     "output_type": "stream",
     "text": [
      "[[0.67517444 0.69370855]\n",
      " [0.68538905 0.70611747]\n",
      " [0.6138     0.6254    ]]\n",
      "rec time now 3 dataset now: Syn1\n"
     ]
    },
    {
     "name": "stderr",
     "output_type": "stream",
     "text": [
      "TPR mean: 100.0%  std: 0.0%\n",
      "FDR mean: 0.0%  std: 0.0%\n",
      "Epoch:      0, d_loss (Acc)): 0.606, v_loss (Acc): 0.574, g_loss: -0.1627\n"
     ]
    },
    {
     "name": "stdout",
     "output_type": "stream",
     "text": [
      "[[0.67517444 0.69370855]\n",
      " [0.68538905 0.70611747]\n",
      " [0.6138     0.6254    ]]\n",
      "now at training epoch number 2100 hyp-params: lamda 0.1260 prior 0.2900\n",
      "rec time now 0 dataset now: Syn1\n"
     ]
    },
    {
     "name": "stderr",
     "output_type": "stream",
     "text": [
      "TPR mean: 100.0%  std: 0.0%\n",
      "FDR mean: 0.0%  std: 0.0%\n"
     ]
    },
    {
     "name": "stdout",
     "output_type": "stream",
     "text": [
      "[[0.67716743 0.6924785 ]\n",
      " [0.6875996  0.70536112]\n",
      " [0.6136     0.6234    ]]\n",
      "rec time now 1 dataset now: Syn1\n"
     ]
    },
    {
     "name": "stderr",
     "output_type": "stream",
     "text": [
      "TPR mean: 100.0%  std: 0.0%\n",
      "FDR mean: 0.0%  std: 0.0%\n"
     ]
    },
    {
     "name": "stdout",
     "output_type": "stream",
     "text": [
      "[[0.67716743 0.6924785 ]\n",
      " [0.6875996  0.70536112]\n",
      " [0.6136     0.6234    ]]\n",
      "rec time now 2 dataset now: Syn1\n"
     ]
    },
    {
     "name": "stderr",
     "output_type": "stream",
     "text": [
      "TPR mean: 100.0%  std: 0.0%\n",
      "FDR mean: 0.0%  std: 0.0%\n"
     ]
    },
    {
     "name": "stdout",
     "output_type": "stream",
     "text": [
      "[[0.67716743 0.6924785 ]\n",
      " [0.6875996  0.70536112]\n",
      " [0.6136     0.6234    ]]\n",
      "rec time now 3 dataset now: Syn1\n"
     ]
    },
    {
     "name": "stderr",
     "output_type": "stream",
     "text": [
      "TPR mean: 100.0%  std: 0.0%\n",
      "FDR mean: 0.0%  std: 0.0%\n",
      "Epoch:      0, d_loss (Acc)): 0.605, v_loss (Acc): 0.573, g_loss: -0.1624\n"
     ]
    },
    {
     "name": "stdout",
     "output_type": "stream",
     "text": [
      "[[0.67716743 0.6924785 ]\n",
      " [0.6875996  0.70536112]\n",
      " [0.6136     0.6234    ]]\n",
      "now at training epoch number 2200 hyp-params: lamda 0.1320 prior 0.2800\n",
      "rec time now 0 dataset now: Syn1\n"
     ]
    },
    {
     "name": "stderr",
     "output_type": "stream",
     "text": [
      "TPR mean: 100.0%  std: 0.0%\n",
      "FDR mean: 0.0%  std: 0.0%\n"
     ]
    },
    {
     "name": "stdout",
     "output_type": "stream",
     "text": [
      "[[0.66940118 0.69264413]\n",
      " [0.68088821 0.70545927]\n",
      " [0.6085     0.6255    ]]\n",
      "rec time now 1 dataset now: Syn1\n"
     ]
    },
    {
     "name": "stderr",
     "output_type": "stream",
     "text": [
      "TPR mean: 100.0%  std: 0.0%\n",
      "FDR mean: 0.0%  std: 0.0%\n"
     ]
    },
    {
     "name": "stdout",
     "output_type": "stream",
     "text": [
      "[[0.66940118 0.69264413]\n",
      " [0.68088821 0.70545927]\n",
      " [0.6085     0.6255    ]]\n",
      "rec time now 2 dataset now: Syn1\n"
     ]
    },
    {
     "name": "stderr",
     "output_type": "stream",
     "text": [
      "TPR mean: 100.0%  std: 0.0%\n",
      "FDR mean: 0.0%  std: 0.0%\n"
     ]
    },
    {
     "name": "stdout",
     "output_type": "stream",
     "text": [
      "[[0.66940118 0.69264413]\n",
      " [0.68088821 0.70545927]\n",
      " [0.6085     0.6255    ]]\n",
      "rec time now 3 dataset now: Syn1\n"
     ]
    },
    {
     "name": "stderr",
     "output_type": "stream",
     "text": [
      "TPR mean: 100.0%  std: 0.0%\n",
      "FDR mean: 0.0%  std: 0.0%\n",
      "Epoch:      0, d_loss (Acc)): 0.607, v_loss (Acc): 0.572, g_loss: -0.1653\n"
     ]
    },
    {
     "name": "stdout",
     "output_type": "stream",
     "text": [
      "[[0.66940118 0.69264413]\n",
      " [0.68088821 0.70545927]\n",
      " [0.6085     0.6255    ]]\n",
      "now at training epoch number 2300 hyp-params: lamda 0.1380 prior 0.2700\n",
      "rec time now 0 dataset now: Syn1\n"
     ]
    },
    {
     "name": "stderr",
     "output_type": "stream",
     "text": [
      "TPR mean: 100.0%  std: 0.0%\n",
      "FDR mean: 0.0%  std: 0.0%\n"
     ]
    },
    {
     "name": "stdout",
     "output_type": "stream",
     "text": [
      "[[0.67695041 0.69421358]\n",
      " [0.68714453 0.70645649]\n",
      " [0.6167     0.6262    ]]\n",
      "rec time now 1 dataset now: Syn1\n"
     ]
    },
    {
     "name": "stderr",
     "output_type": "stream",
     "text": [
      "TPR mean: 100.0%  std: 0.0%\n",
      "FDR mean: 0.0%  std: 0.0%\n"
     ]
    },
    {
     "name": "stdout",
     "output_type": "stream",
     "text": [
      "[[0.67695041 0.69421358]\n",
      " [0.68714453 0.70645649]\n",
      " [0.6167     0.6262    ]]\n",
      "rec time now 2 dataset now: Syn1\n"
     ]
    },
    {
     "name": "stderr",
     "output_type": "stream",
     "text": [
      "TPR mean: 100.0%  std: 0.0%\n",
      "FDR mean: 0.0%  std: 0.0%\n"
     ]
    },
    {
     "name": "stdout",
     "output_type": "stream",
     "text": [
      "[[0.67695041 0.69421358]\n",
      " [0.68714453 0.70645649]\n",
      " [0.6167     0.6262    ]]\n",
      "rec time now 3 dataset now: Syn1\n"
     ]
    },
    {
     "name": "stderr",
     "output_type": "stream",
     "text": [
      "TPR mean: 100.0%  std: 0.0%\n",
      "FDR mean: 0.0%  std: 0.0%\n",
      "Epoch:      0, d_loss (Acc)): 0.646, v_loss (Acc): 0.602, g_loss: -0.2106\n"
     ]
    },
    {
     "name": "stdout",
     "output_type": "stream",
     "text": [
      "[[0.67695041 0.69421358]\n",
      " [0.68714453 0.70645649]\n",
      " [0.6167     0.6262    ]]\n",
      "now at training epoch number 2400 hyp-params: lamda 0.1440 prior 0.2600\n",
      "rec time now 0 dataset now: Syn1\n"
     ]
    },
    {
     "name": "stderr",
     "output_type": "stream",
     "text": [
      "TPR mean: 100.0%  std: 0.0%\n",
      "FDR mean: 0.0%  std: 0.0%\n"
     ]
    },
    {
     "name": "stdout",
     "output_type": "stream",
     "text": [
      "[[0.6720792  0.69226648]\n",
      " [0.68204446 0.7052094 ]\n",
      " [0.6115     0.6238    ]]\n",
      "rec time now 1 dataset now: Syn1\n"
     ]
    },
    {
     "name": "stderr",
     "output_type": "stream",
     "text": [
      "TPR mean: 100.0%  std: 0.0%\n",
      "FDR mean: 0.0%  std: 0.0%\n"
     ]
    },
    {
     "name": "stdout",
     "output_type": "stream",
     "text": [
      "[[0.6720792  0.69226648]\n",
      " [0.68204446 0.7052094 ]\n",
      " [0.6115     0.6238    ]]\n",
      "rec time now 2 dataset now: Syn1\n"
     ]
    },
    {
     "name": "stderr",
     "output_type": "stream",
     "text": [
      "TPR mean: 100.0%  std: 0.0%\n",
      "FDR mean: 0.0%  std: 0.0%\n"
     ]
    },
    {
     "name": "stdout",
     "output_type": "stream",
     "text": [
      "[[0.6720792  0.69226648]\n",
      " [0.68204446 0.7052094 ]\n",
      " [0.6115     0.6238    ]]\n",
      "rec time now 3 dataset now: Syn1\n"
     ]
    },
    {
     "name": "stderr",
     "output_type": "stream",
     "text": [
      "TPR mean: 100.0%  std: 0.0%\n",
      "FDR mean: 0.0%  std: 0.0%\n",
      "Epoch:      0, d_loss (Acc)): 0.602, v_loss (Acc): 0.568, g_loss: -0.1483\n"
     ]
    },
    {
     "name": "stdout",
     "output_type": "stream",
     "text": [
      "[[0.6720792  0.69226648]\n",
      " [0.68204446 0.7052094 ]\n",
      " [0.6115     0.6238    ]]\n",
      "now at training epoch number 2500 hyp-params: lamda 0.1500 prior 0.2500\n",
      "rec time now 0 dataset now: Syn1\n"
     ]
    },
    {
     "name": "stderr",
     "output_type": "stream",
     "text": [
      "TPR mean: 100.0%  std: 0.0%\n",
      "FDR mean: 0.0%  std: 0.0%\n"
     ]
    },
    {
     "name": "stdout",
     "output_type": "stream",
     "text": [
      "[[0.67546025 0.69396774]\n",
      " [0.68602999 0.70636692]\n",
      " [0.6198     0.6254    ]]\n",
      "rec time now 1 dataset now: Syn1\n"
     ]
    },
    {
     "name": "stderr",
     "output_type": "stream",
     "text": [
      "TPR mean: 100.0%  std: 0.0%\n",
      "FDR mean: 0.0%  std: 0.0%\n"
     ]
    },
    {
     "name": "stdout",
     "output_type": "stream",
     "text": [
      "[[0.67546025 0.69396774]\n",
      " [0.68602999 0.70636692]\n",
      " [0.6198     0.6254    ]]\n",
      "rec time now 2 dataset now: Syn1\n"
     ]
    },
    {
     "name": "stderr",
     "output_type": "stream",
     "text": [
      "TPR mean: 100.0%  std: 0.0%\n",
      "FDR mean: 0.0%  std: 0.0%\n"
     ]
    },
    {
     "name": "stdout",
     "output_type": "stream",
     "text": [
      "[[0.67546025 0.69396774]\n",
      " [0.68602999 0.70636692]\n",
      " [0.6198     0.6254    ]]\n",
      "rec time now 3 dataset now: Syn1\n"
     ]
    },
    {
     "name": "stderr",
     "output_type": "stream",
     "text": [
      "TPR mean: 100.0%  std: 0.0%\n",
      "FDR mean: 0.0%  std: 0.0%\n",
      "Epoch:      0, d_loss (Acc)): 0.597, v_loss (Acc): 0.562, g_loss: -0.1371\n"
     ]
    },
    {
     "name": "stdout",
     "output_type": "stream",
     "text": [
      "[[0.67546025 0.69396774]\n",
      " [0.68602999 0.70636692]\n",
      " [0.6198     0.6254    ]]\n",
      "now at training epoch number 2600 hyp-params: lamda 0.1560 prior 0.2400\n",
      "rec time now 0 dataset now: Syn1\n"
     ]
    },
    {
     "name": "stderr",
     "output_type": "stream",
     "text": [
      "TPR mean: 100.0%  std: 0.0%\n",
      "FDR mean: 0.0%  std: 0.0%\n"
     ]
    },
    {
     "name": "stdout",
     "output_type": "stream",
     "text": [
      "[[0.67408511 0.69472615]\n",
      " [0.68494299 0.70684793]\n",
      " [0.613      0.6271    ]]\n",
      "rec time now 1 dataset now: Syn1\n"
     ]
    },
    {
     "name": "stderr",
     "output_type": "stream",
     "text": [
      "TPR mean: 100.0%  std: 0.0%\n",
      "FDR mean: 0.0%  std: 0.0%\n"
     ]
    },
    {
     "name": "stdout",
     "output_type": "stream",
     "text": [
      "[[0.67408511 0.69472615]\n",
      " [0.68494299 0.70684793]\n",
      " [0.613      0.6271    ]]\n",
      "rec time now 2 dataset now: Syn1\n"
     ]
    },
    {
     "name": "stderr",
     "output_type": "stream",
     "text": [
      "TPR mean: 100.0%  std: 0.0%\n",
      "FDR mean: 0.0%  std: 0.0%\n"
     ]
    },
    {
     "name": "stdout",
     "output_type": "stream",
     "text": [
      "[[0.67408511 0.69472615]\n",
      " [0.68494299 0.70684793]\n",
      " [0.613      0.6271    ]]\n",
      "rec time now 3 dataset now: Syn1\n"
     ]
    },
    {
     "name": "stderr",
     "output_type": "stream",
     "text": [
      "TPR mean: 100.0%  std: 0.0%\n",
      "FDR mean: 0.0%  std: 0.0%\n",
      "Epoch:      0, d_loss (Acc)): 0.606, v_loss (Acc): 0.572, g_loss: -0.1298\n"
     ]
    },
    {
     "name": "stdout",
     "output_type": "stream",
     "text": [
      "[[0.67408511 0.69472615]\n",
      " [0.68494299 0.70684793]\n",
      " [0.613      0.6271    ]]\n",
      "now at training epoch number 2700 hyp-params: lamda 0.1620 prior 0.2300\n",
      "rec time now 0 dataset now: Syn1\n"
     ]
    },
    {
     "name": "stderr",
     "output_type": "stream",
     "text": [
      "TPR mean: 100.0%  std: 0.0%\n",
      "FDR mean: 0.0%  std: 0.0%\n"
     ]
    },
    {
     "name": "stdout",
     "output_type": "stream",
     "text": [
      "[[0.67218288 0.69344035]\n",
      " [0.68291069 0.70592565]\n",
      " [0.6141     0.6237    ]]\n",
      "rec time now 1 dataset now: Syn1\n"
     ]
    },
    {
     "name": "stderr",
     "output_type": "stream",
     "text": [
      "TPR mean: 100.0%  std: 0.0%\n",
      "FDR mean: 0.0%  std: 0.0%\n"
     ]
    },
    {
     "name": "stdout",
     "output_type": "stream",
     "text": [
      "[[0.67218288 0.69344035]\n",
      " [0.68291069 0.70592565]\n",
      " [0.6141     0.6237    ]]\n",
      "rec time now 2 dataset now: Syn1\n"
     ]
    },
    {
     "name": "stderr",
     "output_type": "stream",
     "text": [
      "TPR mean: 100.0%  std: 0.0%\n",
      "FDR mean: 0.0%  std: 0.0%\n"
     ]
    },
    {
     "name": "stdout",
     "output_type": "stream",
     "text": [
      "[[0.67218288 0.69344035]\n",
      " [0.68291069 0.70592565]\n",
      " [0.6141     0.6237    ]]\n",
      "rec time now 3 dataset now: Syn1\n"
     ]
    },
    {
     "name": "stderr",
     "output_type": "stream",
     "text": [
      "TPR mean: 100.0%  std: 0.0%\n",
      "FDR mean: 0.0%  std: 0.0%\n",
      "Epoch:      0, d_loss (Acc)): 0.611, v_loss (Acc): 0.568, g_loss: -0.1885\n"
     ]
    },
    {
     "name": "stdout",
     "output_type": "stream",
     "text": [
      "[[0.67218288 0.69344035]\n",
      " [0.68291069 0.70592565]\n",
      " [0.6141     0.6237    ]]\n",
      "now at training epoch number 2800 hyp-params: lamda 0.1680 prior 0.2200\n",
      "rec time now 0 dataset now: Syn1\n"
     ]
    },
    {
     "name": "stderr",
     "output_type": "stream",
     "text": [
      "TPR mean: 100.0%  std: 0.0%\n",
      "FDR mean: 0.0%  std: 0.0%\n"
     ]
    },
    {
     "name": "stdout",
     "output_type": "stream",
     "text": [
      "[[0.67185804 0.69313883]\n",
      " [0.68211899 0.70538343]\n",
      " [0.6135     0.6251    ]]\n",
      "rec time now 1 dataset now: Syn1\n"
     ]
    },
    {
     "name": "stderr",
     "output_type": "stream",
     "text": [
      "TPR mean: 100.0%  std: 0.0%\n",
      "FDR mean: 0.0%  std: 0.0%\n"
     ]
    },
    {
     "name": "stdout",
     "output_type": "stream",
     "text": [
      "[[0.67185804 0.69313883]\n",
      " [0.68211899 0.70538343]\n",
      " [0.6135     0.6251    ]]\n",
      "rec time now 2 dataset now: Syn1\n"
     ]
    },
    {
     "name": "stderr",
     "output_type": "stream",
     "text": [
      "TPR mean: 100.0%  std: 0.0%\n",
      "FDR mean: 0.0%  std: 0.0%\n"
     ]
    },
    {
     "name": "stdout",
     "output_type": "stream",
     "text": [
      "[[0.67185804 0.69313883]\n",
      " [0.68211899 0.70538343]\n",
      " [0.6135     0.6251    ]]\n",
      "rec time now 3 dataset now: Syn1\n"
     ]
    },
    {
     "name": "stderr",
     "output_type": "stream",
     "text": [
      "TPR mean: 100.0%  std: 0.0%\n",
      "FDR mean: 0.0%  std: 0.0%\n",
      "Epoch:      0, d_loss (Acc)): 0.627, v_loss (Acc): 0.582, g_loss: -0.1731\n"
     ]
    },
    {
     "name": "stdout",
     "output_type": "stream",
     "text": [
      "[[0.67185804 0.69313883]\n",
      " [0.68211899 0.70538343]\n",
      " [0.6135     0.6251    ]]\n",
      "now at training epoch number 2900 hyp-params: lamda 0.1740 prior 0.2100\n",
      "rec time now 0 dataset now: Syn1\n"
     ]
    },
    {
     "name": "stderr",
     "output_type": "stream",
     "text": [
      "TPR mean: 100.0%  std: 0.0%\n",
      "FDR mean: 0.0%  std: 0.0%\n"
     ]
    },
    {
     "name": "stdout",
     "output_type": "stream",
     "text": [
      "[[0.66879753 0.69616294]\n",
      " [0.67861314 0.70778977]\n",
      " [0.6111     0.6249    ]]\n",
      "rec time now 1 dataset now: Syn1\n"
     ]
    },
    {
     "name": "stderr",
     "output_type": "stream",
     "text": [
      "TPR mean: 100.0%  std: 0.0%\n",
      "FDR mean: 0.0%  std: 0.0%\n"
     ]
    },
    {
     "name": "stdout",
     "output_type": "stream",
     "text": [
      "[[0.66879753 0.69616294]\n",
      " [0.67861314 0.70778977]\n",
      " [0.6111     0.6249    ]]\n",
      "rec time now 2 dataset now: Syn1\n"
     ]
    },
    {
     "name": "stderr",
     "output_type": "stream",
     "text": [
      "TPR mean: 100.0%  std: 0.0%\n",
      "FDR mean: 0.0%  std: 0.0%\n"
     ]
    },
    {
     "name": "stdout",
     "output_type": "stream",
     "text": [
      "[[0.66879753 0.69616294]\n",
      " [0.67861314 0.70778977]\n",
      " [0.6111     0.6249    ]]\n",
      "rec time now 3 dataset now: Syn1\n"
     ]
    },
    {
     "name": "stderr",
     "output_type": "stream",
     "text": [
      "TPR mean: 100.0%  std: 0.0%\n",
      "FDR mean: 0.0%  std: 0.0%\n",
      "Epoch:      0, d_loss (Acc)): 0.619, v_loss (Acc): 0.577, g_loss: -0.1471\n"
     ]
    },
    {
     "name": "stdout",
     "output_type": "stream",
     "text": [
      "[[0.66879753 0.69616294]\n",
      " [0.67861314 0.70778977]\n",
      " [0.6111     0.6249    ]]\n",
      "now at training epoch number 3000 hyp-params: lamda 0.1800 prior 0.2000\n",
      "rec time now 0 dataset now: Syn1\n"
     ]
    },
    {
     "name": "stderr",
     "output_type": "stream",
     "text": [
      "TPR mean: 100.0%  std: 0.0%\n",
      "FDR mean: 0.0%  std: 0.0%\n"
     ]
    },
    {
     "name": "stdout",
     "output_type": "stream",
     "text": [
      "[[0.67067698 0.69556568]\n",
      " [0.68166774 0.70755291]\n",
      " [0.6102     0.6254    ]]\n",
      "rec time now 1 dataset now: Syn1\n"
     ]
    },
    {
     "name": "stderr",
     "output_type": "stream",
     "text": [
      "TPR mean: 100.0%  std: 0.0%\n",
      "FDR mean: 0.0%  std: 0.0%\n"
     ]
    },
    {
     "name": "stdout",
     "output_type": "stream",
     "text": [
      "[[0.67067698 0.69556568]\n",
      " [0.68166774 0.70755291]\n",
      " [0.6102     0.6254    ]]\n",
      "rec time now 2 dataset now: Syn1\n"
     ]
    },
    {
     "name": "stderr",
     "output_type": "stream",
     "text": [
      "TPR mean: 100.0%  std: 0.0%\n",
      "FDR mean: 0.0%  std: 0.0%\n"
     ]
    },
    {
     "name": "stdout",
     "output_type": "stream",
     "text": [
      "[[0.67067698 0.69556568]\n",
      " [0.68166774 0.70755291]\n",
      " [0.6102     0.6254    ]]\n",
      "rec time now 3 dataset now: Syn1\n"
     ]
    },
    {
     "name": "stderr",
     "output_type": "stream",
     "text": [
      "TPR mean: 100.0%  std: 0.0%\n",
      "FDR mean: 0.0%  std: 0.0%\n",
      "Epoch:      0, d_loss (Acc)): 0.608, v_loss (Acc): 0.569, g_loss: -0.1336\n"
     ]
    },
    {
     "name": "stdout",
     "output_type": "stream",
     "text": [
      "[[0.67067698 0.69556568]\n",
      " [0.68166774 0.70755291]\n",
      " [0.6102     0.6254    ]]\n",
      "now at training epoch number 3100 hyp-params: lamda 0.1860 prior 0.1900\n",
      "rec time now 0 dataset now: Syn1\n"
     ]
    },
    {
     "name": "stderr",
     "output_type": "stream",
     "text": [
      "TPR mean: 100.0%  std: 0.0%\n",
      "FDR mean: 0.0%  std: 0.0%\n"
     ]
    },
    {
     "name": "stdout",
     "output_type": "stream",
     "text": [
      "[[0.67088898 0.69497253]\n",
      " [0.68078919 0.70695155]\n",
      " [0.6119     0.6266    ]]\n",
      "rec time now 1 dataset now: Syn1\n"
     ]
    },
    {
     "name": "stderr",
     "output_type": "stream",
     "text": [
      "TPR mean: 100.0%  std: 0.0%\n",
      "FDR mean: 0.0%  std: 0.0%\n"
     ]
    },
    {
     "name": "stdout",
     "output_type": "stream",
     "text": [
      "[[0.67088898 0.69497253]\n",
      " [0.68078919 0.70695155]\n",
      " [0.6119     0.6266    ]]\n",
      "rec time now 2 dataset now: Syn1\n"
     ]
    },
    {
     "name": "stderr",
     "output_type": "stream",
     "text": [
      "TPR mean: 100.0%  std: 0.0%\n",
      "FDR mean: 0.0%  std: 0.0%\n"
     ]
    },
    {
     "name": "stdout",
     "output_type": "stream",
     "text": [
      "[[0.67088898 0.69497253]\n",
      " [0.68078919 0.70695155]\n",
      " [0.6119     0.6266    ]]\n",
      "rec time now 3 dataset now: Syn1\n"
     ]
    },
    {
     "name": "stderr",
     "output_type": "stream",
     "text": [
      "TPR mean: 100.0%  std: 0.0%\n",
      "FDR mean: 0.0%  std: 0.0%\n",
      "Epoch:      0, d_loss (Acc)): 0.615, v_loss (Acc): 0.562, g_loss: -0.2225\n"
     ]
    },
    {
     "name": "stdout",
     "output_type": "stream",
     "text": [
      "[[0.67088898 0.69497253]\n",
      " [0.68078919 0.70695155]\n",
      " [0.6119     0.6266    ]]\n",
      "now at training epoch number 3200 hyp-params: lamda 0.1920 prior 0.1800\n",
      "rec time now 0 dataset now: Syn1\n"
     ]
    },
    {
     "name": "stderr",
     "output_type": "stream",
     "text": [
      "TPR mean: 100.0%  std: 0.0%\n",
      "FDR mean: 0.0%  std: 0.0%\n"
     ]
    },
    {
     "name": "stdout",
     "output_type": "stream",
     "text": [
      "[[0.66518768 0.69577335]\n",
      " [0.67694392 0.70765444]\n",
      " [0.6059     0.6278    ]]\n",
      "rec time now 1 dataset now: Syn1\n"
     ]
    },
    {
     "name": "stderr",
     "output_type": "stream",
     "text": [
      "TPR mean: 100.0%  std: 0.0%\n",
      "FDR mean: 0.0%  std: 0.0%\n"
     ]
    },
    {
     "name": "stdout",
     "output_type": "stream",
     "text": [
      "[[0.66518768 0.69577335]\n",
      " [0.67694392 0.70765444]\n",
      " [0.6059     0.6278    ]]\n",
      "rec time now 2 dataset now: Syn1\n"
     ]
    },
    {
     "name": "stderr",
     "output_type": "stream",
     "text": [
      "TPR mean: 100.0%  std: 0.0%\n",
      "FDR mean: 0.0%  std: 0.0%\n"
     ]
    },
    {
     "name": "stdout",
     "output_type": "stream",
     "text": [
      "[[0.66518768 0.69577335]\n",
      " [0.67694392 0.70765444]\n",
      " [0.6059     0.6278    ]]\n",
      "rec time now 3 dataset now: Syn1\n"
     ]
    },
    {
     "name": "stderr",
     "output_type": "stream",
     "text": [
      "TPR mean: 100.0%  std: 0.0%\n",
      "FDR mean: 0.0%  std: 0.0%\n",
      "Epoch:      0, d_loss (Acc)): 0.618, v_loss (Acc): 0.593, g_loss: -0.0857\n"
     ]
    },
    {
     "name": "stdout",
     "output_type": "stream",
     "text": [
      "[[0.66518768 0.69577335]\n",
      " [0.67694392 0.70765444]\n",
      " [0.6059     0.6278    ]]\n",
      "now at training epoch number 3300 hyp-params: lamda 0.1980 prior 0.1700\n",
      "rec time now 0 dataset now: Syn1\n"
     ]
    },
    {
     "name": "stderr",
     "output_type": "stream",
     "text": [
      "TPR mean: 100.0%  std: 0.0%\n",
      "FDR mean: 0.0%  std: 0.0%\n"
     ]
    },
    {
     "name": "stdout",
     "output_type": "stream",
     "text": [
      "[[0.66798213 0.6969733 ]\n",
      " [0.67803018 0.70839203]\n",
      " [0.6074     0.6296    ]]\n",
      "rec time now 1 dataset now: Syn1\n"
     ]
    },
    {
     "name": "stderr",
     "output_type": "stream",
     "text": [
      "TPR mean: 100.0%  std: 0.0%\n",
      "FDR mean: 0.0%  std: 0.0%\n"
     ]
    },
    {
     "name": "stdout",
     "output_type": "stream",
     "text": [
      "[[0.66798213 0.6969733 ]\n",
      " [0.67803018 0.70839203]\n",
      " [0.6074     0.6296    ]]\n",
      "rec time now 2 dataset now: Syn1\n"
     ]
    },
    {
     "name": "stderr",
     "output_type": "stream",
     "text": [
      "TPR mean: 100.0%  std: 0.0%\n",
      "FDR mean: 0.0%  std: 0.0%\n"
     ]
    },
    {
     "name": "stdout",
     "output_type": "stream",
     "text": [
      "[[0.66798213 0.6969733 ]\n",
      " [0.67803018 0.70839203]\n",
      " [0.6074     0.6296    ]]\n",
      "rec time now 3 dataset now: Syn1\n"
     ]
    },
    {
     "name": "stderr",
     "output_type": "stream",
     "text": [
      "TPR mean: 100.0%  std: 0.0%\n",
      "FDR mean: 0.0%  std: 0.0%\n",
      "Epoch:      0, d_loss (Acc)): 0.601, v_loss (Acc): 0.544, g_loss: -0.1948\n"
     ]
    },
    {
     "name": "stdout",
     "output_type": "stream",
     "text": [
      "[[0.66798213 0.6969733 ]\n",
      " [0.67803018 0.70839203]\n",
      " [0.6074     0.6296    ]]\n",
      "now at training epoch number 3400 hyp-params: lamda 0.2040 prior 0.1600\n",
      "rec time now 0 dataset now: Syn1\n"
     ]
    },
    {
     "name": "stderr",
     "output_type": "stream",
     "text": [
      "TPR mean: 100.0%  std: 0.0%\n",
      "FDR mean: 0.0%  std: 0.0%\n"
     ]
    },
    {
     "name": "stdout",
     "output_type": "stream",
     "text": [
      "[[0.66720419 0.69083055]\n",
      " [0.67812999 0.7024122 ]\n",
      " [0.6111     0.6211    ]]\n",
      "rec time now 1 dataset now: Syn1\n"
     ]
    },
    {
     "name": "stderr",
     "output_type": "stream",
     "text": [
      "TPR mean: 100.0%  std: 0.0%\n",
      "FDR mean: 0.0%  std: 0.0%\n"
     ]
    },
    {
     "name": "stdout",
     "output_type": "stream",
     "text": [
      "[[0.66720419 0.69083055]\n",
      " [0.67812999 0.7024122 ]\n",
      " [0.6111     0.6211    ]]\n",
      "rec time now 2 dataset now: Syn1\n"
     ]
    },
    {
     "name": "stderr",
     "output_type": "stream",
     "text": [
      "TPR mean: 100.0%  std: 0.0%\n",
      "FDR mean: 0.0%  std: 0.0%\n"
     ]
    },
    {
     "name": "stdout",
     "output_type": "stream",
     "text": [
      "[[0.66720419 0.69083055]\n",
      " [0.67812999 0.7024122 ]\n",
      " [0.6111     0.6211    ]]\n",
      "rec time now 3 dataset now: Syn1\n"
     ]
    },
    {
     "name": "stderr",
     "output_type": "stream",
     "text": [
      "TPR mean: 100.0%  std: 0.0%\n",
      "FDR mean: 0.0%  std: 0.0%\n",
      "Epoch:      0, d_loss (Acc)): 0.614, v_loss (Acc): 0.548, g_loss: -0.2272\n"
     ]
    },
    {
     "name": "stdout",
     "output_type": "stream",
     "text": [
      "[[0.66720419 0.69083055]\n",
      " [0.67812999 0.7024122 ]\n",
      " [0.6111     0.6211    ]]\n",
      "now at training epoch number 3500 hyp-params: lamda 0.2100 prior 0.1500\n",
      "rec time now 0 dataset now: Syn1\n"
     ]
    },
    {
     "name": "stderr",
     "output_type": "stream",
     "text": [
      "TPR mean: 100.0%  std: 0.0%\n",
      "FDR mean: 0.0%  std: 0.0%\n"
     ]
    },
    {
     "name": "stdout",
     "output_type": "stream",
     "text": [
      "[[0.66772921 0.69268797]\n",
      " [0.67895129 0.70425469]\n",
      " [0.609      0.6246    ]]\n",
      "rec time now 1 dataset now: Syn1\n"
     ]
    },
    {
     "name": "stderr",
     "output_type": "stream",
     "text": [
      "TPR mean: 100.0%  std: 0.0%\n",
      "FDR mean: 0.0%  std: 0.0%\n"
     ]
    },
    {
     "name": "stdout",
     "output_type": "stream",
     "text": [
      "[[0.66772921 0.69268797]\n",
      " [0.67895129 0.70425469]\n",
      " [0.609      0.6246    ]]\n",
      "rec time now 2 dataset now: Syn1\n"
     ]
    },
    {
     "name": "stderr",
     "output_type": "stream",
     "text": [
      "TPR mean: 100.0%  std: 0.0%\n",
      "FDR mean: 0.0%  std: 0.0%\n"
     ]
    },
    {
     "name": "stdout",
     "output_type": "stream",
     "text": [
      "[[0.66772921 0.69268797]\n",
      " [0.67895129 0.70425469]\n",
      " [0.609      0.6246    ]]\n",
      "rec time now 3 dataset now: Syn1\n"
     ]
    },
    {
     "name": "stderr",
     "output_type": "stream",
     "text": [
      "TPR mean: 100.0%  std: 0.0%\n",
      "FDR mean: 0.0%  std: 0.0%\n",
      "Epoch:      0, d_loss (Acc)): 0.629, v_loss (Acc): 0.564, g_loss: -0.2225\n"
     ]
    },
    {
     "name": "stdout",
     "output_type": "stream",
     "text": [
      "[[0.66772921 0.69268797]\n",
      " [0.67895129 0.70425469]\n",
      " [0.609      0.6246    ]]\n",
      "now at training epoch number 3600 hyp-params: lamda 0.2160 prior 0.1400\n",
      "rec time now 0 dataset now: Syn1\n"
     ]
    },
    {
     "name": "stderr",
     "output_type": "stream",
     "text": [
      "TPR mean: 100.0%  std: 0.0%\n",
      "FDR mean: 0.0%  std: 0.0%\n"
     ]
    },
    {
     "name": "stdout",
     "output_type": "stream",
     "text": [
      "[[0.6667528  0.69534502]\n",
      " [0.67803245 0.70691853]\n",
      " [0.6088     0.6261    ]]\n",
      "rec time now 1 dataset now: Syn1\n"
     ]
    },
    {
     "name": "stderr",
     "output_type": "stream",
     "text": [
      "TPR mean: 100.0%  std: 0.0%\n",
      "FDR mean: 0.0%  std: 0.0%\n"
     ]
    },
    {
     "name": "stdout",
     "output_type": "stream",
     "text": [
      "[[0.6667528  0.69534502]\n",
      " [0.67803245 0.70691853]\n",
      " [0.6088     0.6261    ]]\n",
      "rec time now 2 dataset now: Syn1\n"
     ]
    },
    {
     "name": "stderr",
     "output_type": "stream",
     "text": [
      "TPR mean: 100.0%  std: 0.0%\n",
      "FDR mean: 0.0%  std: 0.0%\n"
     ]
    },
    {
     "name": "stdout",
     "output_type": "stream",
     "text": [
      "[[0.6667528  0.69534502]\n",
      " [0.67803245 0.70691853]\n",
      " [0.6088     0.6261    ]]\n",
      "rec time now 3 dataset now: Syn1\n"
     ]
    },
    {
     "name": "stderr",
     "output_type": "stream",
     "text": [
      "TPR mean: 100.0%  std: 0.0%\n",
      "FDR mean: 0.0%  std: 0.0%\n",
      "Epoch:      0, d_loss (Acc)): 0.619, v_loss (Acc): 0.563, g_loss: -0.1862\n"
     ]
    },
    {
     "name": "stdout",
     "output_type": "stream",
     "text": [
      "[[0.6667528  0.69534502]\n",
      " [0.67803245 0.70691853]\n",
      " [0.6088     0.6261    ]]\n",
      "now at training epoch number 3700 hyp-params: lamda 0.2220 prior 0.1300\n",
      "rec time now 0 dataset now: Syn1\n"
     ]
    },
    {
     "name": "stderr",
     "output_type": "stream",
     "text": [
      "TPR mean: 100.0%  std: 0.0%\n",
      "FDR mean: 0.0%  std: 0.0%\n"
     ]
    },
    {
     "name": "stdout",
     "output_type": "stream",
     "text": [
      "[[0.66032632 0.69687434]\n",
      " [0.6727369  0.7082502 ]\n",
      " [0.6079     0.6281    ]]\n",
      "rec time now 1 dataset now: Syn1\n"
     ]
    },
    {
     "name": "stderr",
     "output_type": "stream",
     "text": [
      "TPR mean: 100.0%  std: 0.0%\n",
      "FDR mean: 0.0%  std: 0.0%\n"
     ]
    },
    {
     "name": "stdout",
     "output_type": "stream",
     "text": [
      "[[0.66032632 0.69687434]\n",
      " [0.6727369  0.7082502 ]\n",
      " [0.6079     0.6281    ]]\n",
      "rec time now 2 dataset now: Syn1\n"
     ]
    },
    {
     "name": "stderr",
     "output_type": "stream",
     "text": [
      "TPR mean: 100.0%  std: 0.0%\n",
      "FDR mean: 0.0%  std: 0.0%\n"
     ]
    },
    {
     "name": "stdout",
     "output_type": "stream",
     "text": [
      "[[0.66032632 0.69687434]\n",
      " [0.6727369  0.7082502 ]\n",
      " [0.6079     0.6281    ]]\n",
      "rec time now 3 dataset now: Syn1\n"
     ]
    },
    {
     "name": "stderr",
     "output_type": "stream",
     "text": [
      "TPR mean: 100.0%  std: 0.0%\n",
      "FDR mean: 0.0%  std: 0.0%\n",
      "Epoch:      0, d_loss (Acc)): 0.626, v_loss (Acc): 0.576, g_loss: -0.1287\n"
     ]
    },
    {
     "name": "stdout",
     "output_type": "stream",
     "text": [
      "[[0.66032632 0.69687434]\n",
      " [0.6727369  0.7082502 ]\n",
      " [0.6079     0.6281    ]]\n",
      "now at training epoch number 3800 hyp-params: lamda 0.2280 prior 0.1200\n",
      "rec time now 0 dataset now: Syn1\n"
     ]
    },
    {
     "name": "stderr",
     "output_type": "stream",
     "text": [
      "TPR mean: 100.0%  std: 0.0%\n",
      "FDR mean: 0.0%  std: 0.0%\n"
     ]
    },
    {
     "name": "stdout",
     "output_type": "stream",
     "text": [
      "[[0.65983203 0.6935112 ]\n",
      " [0.66985798 0.70530048]\n",
      " [0.6063     0.6245    ]]\n",
      "rec time now 1 dataset now: Syn1\n"
     ]
    },
    {
     "name": "stderr",
     "output_type": "stream",
     "text": [
      "TPR mean: 100.0%  std: 0.0%\n",
      "FDR mean: 0.0%  std: 0.0%\n"
     ]
    },
    {
     "name": "stdout",
     "output_type": "stream",
     "text": [
      "[[0.65983203 0.6935112 ]\n",
      " [0.66985798 0.70530048]\n",
      " [0.6063     0.6245    ]]\n",
      "rec time now 2 dataset now: Syn1\n"
     ]
    },
    {
     "name": "stderr",
     "output_type": "stream",
     "text": [
      "TPR mean: 100.0%  std: 0.0%\n",
      "FDR mean: 0.0%  std: 0.0%\n"
     ]
    },
    {
     "name": "stdout",
     "output_type": "stream",
     "text": [
      "[[0.65983203 0.6935112 ]\n",
      " [0.66985798 0.70530048]\n",
      " [0.6063     0.6245    ]]\n",
      "rec time now 3 dataset now: Syn1\n"
     ]
    },
    {
     "name": "stderr",
     "output_type": "stream",
     "text": [
      "TPR mean: 100.0%  std: 0.0%\n",
      "FDR mean: 0.0%  std: 0.0%\n",
      "Epoch:      0, d_loss (Acc)): 0.602, v_loss (Acc): 0.544, g_loss: -0.1584\n"
     ]
    },
    {
     "name": "stdout",
     "output_type": "stream",
     "text": [
      "[[0.65983203 0.6935112 ]\n",
      " [0.66985798 0.70530048]\n",
      " [0.6063     0.6245    ]]\n",
      "now at training epoch number 3900 hyp-params: lamda 0.2340 prior 0.1100\n",
      "rec time now 0 dataset now: Syn1\n"
     ]
    },
    {
     "name": "stderr",
     "output_type": "stream",
     "text": [
      "TPR mean: 100.0%  std: 0.0%\n",
      "FDR mean: 0.0%  std: 0.0%\n"
     ]
    },
    {
     "name": "stdout",
     "output_type": "stream",
     "text": [
      "[[0.6690725  0.69166902]\n",
      " [0.68000015 0.70372249]\n",
      " [0.614      0.6205    ]]\n",
      "rec time now 1 dataset now: Syn1\n"
     ]
    },
    {
     "name": "stderr",
     "output_type": "stream",
     "text": [
      "TPR mean: 100.0%  std: 0.0%\n",
      "FDR mean: 0.0%  std: 0.0%\n"
     ]
    },
    {
     "name": "stdout",
     "output_type": "stream",
     "text": [
      "[[0.6690725  0.69166902]\n",
      " [0.68000015 0.70372249]\n",
      " [0.614      0.6205    ]]\n",
      "rec time now 2 dataset now: Syn1\n"
     ]
    },
    {
     "name": "stderr",
     "output_type": "stream",
     "text": [
      "TPR mean: 100.0%  std: 0.0%\n",
      "FDR mean: 0.0%  std: 0.0%\n"
     ]
    },
    {
     "name": "stdout",
     "output_type": "stream",
     "text": [
      "[[0.6690725  0.69166902]\n",
      " [0.68000015 0.70372249]\n",
      " [0.614      0.6205    ]]\n",
      "rec time now 3 dataset now: Syn1\n"
     ]
    },
    {
     "name": "stderr",
     "output_type": "stream",
     "text": [
      "TPR mean: 100.0%  std: 0.0%\n",
      "FDR mean: 0.0%  std: 0.0%\n",
      "Epoch:      0, d_loss (Acc)): 0.626, v_loss (Acc): 0.564, g_loss: -0.1439\n"
     ]
    },
    {
     "name": "stdout",
     "output_type": "stream",
     "text": [
      "[[0.6690725  0.69166902]\n",
      " [0.68000015 0.70372249]\n",
      " [0.614      0.6205    ]]\n",
      "now at training epoch number 4000 hyp-params: lamda 0.2400 prior 0.1000\n",
      "rec time now 0 dataset now: Syn1\n"
     ]
    },
    {
     "name": "stderr",
     "output_type": "stream",
     "text": [
      "TPR mean: 100.0%  std: 0.0%\n",
      "FDR mean: 0.0%  std: 0.0%\n"
     ]
    },
    {
     "name": "stdout",
     "output_type": "stream",
     "text": [
      "[[0.66335936 0.69688835]\n",
      " [0.67466985 0.7084645 ]\n",
      " [0.6083     0.6265    ]]\n",
      "rec time now 1 dataset now: Syn1\n"
     ]
    },
    {
     "name": "stderr",
     "output_type": "stream",
     "text": [
      "TPR mean: 100.0%  std: 0.0%\n",
      "FDR mean: 0.0%  std: 0.0%\n"
     ]
    },
    {
     "name": "stdout",
     "output_type": "stream",
     "text": [
      "[[0.66335936 0.69688835]\n",
      " [0.67466985 0.7084645 ]\n",
      " [0.6083     0.6265    ]]\n",
      "rec time now 2 dataset now: Syn1\n"
     ]
    },
    {
     "name": "stderr",
     "output_type": "stream",
     "text": [
      "TPR mean: 100.0%  std: 0.0%\n",
      "FDR mean: 0.0%  std: 0.0%\n"
     ]
    },
    {
     "name": "stdout",
     "output_type": "stream",
     "text": [
      "[[0.66335936 0.69688835]\n",
      " [0.67466985 0.7084645 ]\n",
      " [0.6083     0.6265    ]]\n",
      "rec time now 3 dataset now: Syn1\n"
     ]
    },
    {
     "name": "stderr",
     "output_type": "stream",
     "text": [
      "TPR mean: 100.0%  std: 0.0%\n",
      "FDR mean: 0.0%  std: 0.0%\n",
      "Epoch:      0, d_loss (Acc)): 0.617, v_loss (Acc): 0.555, g_loss: -0.1509\n"
     ]
    },
    {
     "name": "stdout",
     "output_type": "stream",
     "text": [
      "[[0.66335936 0.69688835]\n",
      " [0.67466985 0.7084645 ]\n",
      " [0.6083     0.6265    ]]\n",
      "now at training epoch number 4100 hyp-params: lamda 0.2460 prior 0.0900\n",
      "rec time now 0 dataset now: Syn1\n"
     ]
    },
    {
     "name": "stderr",
     "output_type": "stream",
     "text": [
      "TPR mean: 100.0%  std: 0.0%\n",
      "FDR mean: 0.0%  std: 0.0%\n"
     ]
    },
    {
     "name": "stdout",
     "output_type": "stream",
     "text": [
      "[[0.66521467 0.69707604]\n",
      " [0.6757921  0.70831268]\n",
      " [0.6079     0.6268    ]]\n",
      "rec time now 1 dataset now: Syn1\n"
     ]
    },
    {
     "name": "stderr",
     "output_type": "stream",
     "text": [
      "TPR mean: 100.0%  std: 0.0%\n",
      "FDR mean: 0.0%  std: 0.0%\n"
     ]
    },
    {
     "name": "stdout",
     "output_type": "stream",
     "text": [
      "[[0.66521467 0.69707604]\n",
      " [0.6757921  0.70831268]\n",
      " [0.6079     0.6268    ]]\n",
      "rec time now 2 dataset now: Syn1\n"
     ]
    },
    {
     "name": "stderr",
     "output_type": "stream",
     "text": [
      "TPR mean: 100.0%  std: 0.0%\n",
      "FDR mean: 0.0%  std: 0.0%\n"
     ]
    },
    {
     "name": "stdout",
     "output_type": "stream",
     "text": [
      "[[0.66521467 0.69707604]\n",
      " [0.6757921  0.70831268]\n",
      " [0.6079     0.6268    ]]\n",
      "rec time now 3 dataset now: Syn1\n"
     ]
    },
    {
     "name": "stderr",
     "output_type": "stream",
     "text": [
      "TPR mean: 100.0%  std: 0.0%\n",
      "FDR mean: 0.0%  std: 0.0%\n",
      "Epoch:      0, d_loss (Acc)): 0.610, v_loss (Acc): 0.535, g_loss: -0.1603\n"
     ]
    },
    {
     "name": "stdout",
     "output_type": "stream",
     "text": [
      "[[0.66521467 0.69707604]\n",
      " [0.6757921  0.70831268]\n",
      " [0.6079     0.6268    ]]\n",
      "now at training epoch number 4200 hyp-params: lamda 0.2520 prior 0.0800\n",
      "rec time now 0 dataset now: Syn1\n"
     ]
    },
    {
     "name": "stderr",
     "output_type": "stream",
     "text": [
      "TPR mean: 100.0%  std: 0.0%\n",
      "FDR mean: 0.0%  std: 0.0%\n"
     ]
    },
    {
     "name": "stdout",
     "output_type": "stream",
     "text": [
      "[[0.66552654 0.69441377]\n",
      " [0.67766935 0.70579006]\n",
      " [0.6082     0.6241    ]]\n",
      "rec time now 1 dataset now: Syn1\n"
     ]
    },
    {
     "name": "stderr",
     "output_type": "stream",
     "text": [
      "TPR mean: 100.0%  std: 0.0%\n",
      "FDR mean: 0.0%  std: 0.0%\n"
     ]
    },
    {
     "name": "stdout",
     "output_type": "stream",
     "text": [
      "[[0.66552654 0.69441377]\n",
      " [0.67766935 0.70579006]\n",
      " [0.6082     0.6241    ]]\n",
      "rec time now 2 dataset now: Syn1\n"
     ]
    },
    {
     "name": "stderr",
     "output_type": "stream",
     "text": [
      "TPR mean: 100.0%  std: 0.0%\n",
      "FDR mean: 0.0%  std: 0.0%\n"
     ]
    },
    {
     "name": "stdout",
     "output_type": "stream",
     "text": [
      "[[0.66552654 0.69441377]\n",
      " [0.67766935 0.70579006]\n",
      " [0.6082     0.6241    ]]\n",
      "rec time now 3 dataset now: Syn1\n"
     ]
    },
    {
     "name": "stderr",
     "output_type": "stream",
     "text": [
      "TPR mean: 100.0%  std: 0.0%\n",
      "FDR mean: 0.0%  std: 0.0%\n",
      "Epoch:      0, d_loss (Acc)): 0.623, v_loss (Acc): 0.548, g_loss: -0.1714\n"
     ]
    },
    {
     "name": "stdout",
     "output_type": "stream",
     "text": [
      "[[0.66552654 0.69441377]\n",
      " [0.67766935 0.70579006]\n",
      " [0.6082     0.6241    ]]\n",
      "now at training epoch number 4300 hyp-params: lamda 0.2580 prior 0.0700\n",
      "rec time now 0 dataset now: Syn1\n"
     ]
    },
    {
     "name": "stderr",
     "output_type": "stream",
     "text": [
      "TPR mean: 100.0%  std: 0.0%\n",
      "FDR mean: 0.0%  std: 0.0%\n"
     ]
    },
    {
     "name": "stdout",
     "output_type": "stream",
     "text": [
      "[[0.66399946 0.69502526]\n",
      " [0.67647789 0.70632185]\n",
      " [0.6079     0.6267    ]]\n",
      "rec time now 1 dataset now: Syn1\n"
     ]
    },
    {
     "name": "stderr",
     "output_type": "stream",
     "text": [
      "TPR mean: 100.0%  std: 0.0%\n",
      "FDR mean: 0.0%  std: 0.0%\n"
     ]
    },
    {
     "name": "stdout",
     "output_type": "stream",
     "text": [
      "[[0.66399946 0.69502526]\n",
      " [0.67647789 0.70632185]\n",
      " [0.6079     0.6267    ]]\n",
      "rec time now 2 dataset now: Syn1\n"
     ]
    },
    {
     "name": "stderr",
     "output_type": "stream",
     "text": [
      "TPR mean: 100.0%  std: 0.0%\n",
      "FDR mean: 0.0%  std: 0.0%\n"
     ]
    },
    {
     "name": "stdout",
     "output_type": "stream",
     "text": [
      "[[0.66399946 0.69502526]\n",
      " [0.67647789 0.70632185]\n",
      " [0.6079     0.6267    ]]\n",
      "rec time now 3 dataset now: Syn1\n"
     ]
    },
    {
     "name": "stderr",
     "output_type": "stream",
     "text": [
      "TPR mean: 100.0%  std: 0.0%\n",
      "FDR mean: 0.0%  std: 0.0%\n",
      "Epoch:      0, d_loss (Acc)): 0.627, v_loss (Acc): 0.561, g_loss: -0.1510\n"
     ]
    },
    {
     "name": "stdout",
     "output_type": "stream",
     "text": [
      "[[0.66399946 0.69502526]\n",
      " [0.67647789 0.70632185]\n",
      " [0.6079     0.6267    ]]\n",
      "now at training epoch number 4400 hyp-params: lamda 0.2640 prior 0.0600\n",
      "rec time now 0 dataset now: Syn1\n"
     ]
    },
    {
     "name": "stderr",
     "output_type": "stream",
     "text": [
      "TPR mean: 100.0%  std: 0.0%\n",
      "FDR mean: 0.0%  std: 0.0%\n"
     ]
    },
    {
     "name": "stdout",
     "output_type": "stream",
     "text": [
      "[[0.66405677 0.69168572]\n",
      " [0.67562415 0.70266912]\n",
      " [0.6084     0.624     ]]\n",
      "rec time now 1 dataset now: Syn1\n"
     ]
    },
    {
     "name": "stderr",
     "output_type": "stream",
     "text": [
      "TPR mean: 100.0%  std: 0.0%\n",
      "FDR mean: 0.0%  std: 0.0%\n"
     ]
    },
    {
     "name": "stdout",
     "output_type": "stream",
     "text": [
      "[[0.66405677 0.69168572]\n",
      " [0.67562415 0.70266912]\n",
      " [0.6084     0.624     ]]\n",
      "rec time now 2 dataset now: Syn1\n"
     ]
    },
    {
     "name": "stderr",
     "output_type": "stream",
     "text": [
      "TPR mean: 100.0%  std: 0.0%\n",
      "FDR mean: 0.0%  std: 0.0%\n"
     ]
    },
    {
     "name": "stdout",
     "output_type": "stream",
     "text": [
      "[[0.66405677 0.69168572]\n",
      " [0.67562415 0.70266912]\n",
      " [0.6084     0.624     ]]\n",
      "rec time now 3 dataset now: Syn1\n"
     ]
    },
    {
     "name": "stderr",
     "output_type": "stream",
     "text": [
      "TPR mean: 100.0%  std: 0.0%\n",
      "FDR mean: 0.0%  std: 0.0%\n",
      "Epoch:      0, d_loss (Acc)): 0.612, v_loss (Acc): 0.550, g_loss: -0.0533\n"
     ]
    },
    {
     "name": "stdout",
     "output_type": "stream",
     "text": [
      "[[0.66405677 0.69168572]\n",
      " [0.67562415 0.70266912]\n",
      " [0.6084     0.624     ]]\n",
      "now at training epoch number 4500 hyp-params: lamda 0.2700 prior 0.0500\n",
      "rec time now 0 dataset now: Syn1\n"
     ]
    },
    {
     "name": "stderr",
     "output_type": "stream",
     "text": [
      "TPR mean: 100.0%  std: 0.0%\n",
      "FDR mean: 0.0%  std: 0.0%\n"
     ]
    },
    {
     "name": "stdout",
     "output_type": "stream",
     "text": [
      "[[0.66032255 0.69837919]\n",
      " [0.67033871 0.70937882]\n",
      " [0.6058     0.6301    ]]\n",
      "rec time now 1 dataset now: Syn1\n"
     ]
    },
    {
     "name": "stderr",
     "output_type": "stream",
     "text": [
      "TPR mean: 100.0%  std: 0.0%\n",
      "FDR mean: 0.0%  std: 0.0%\n"
     ]
    },
    {
     "name": "stdout",
     "output_type": "stream",
     "text": [
      "[[0.66032255 0.69837919]\n",
      " [0.67033871 0.70937882]\n",
      " [0.6058     0.6301    ]]\n",
      "rec time now 2 dataset now: Syn1\n"
     ]
    },
    {
     "name": "stderr",
     "output_type": "stream",
     "text": [
      "TPR mean: 100.0%  std: 0.0%\n",
      "FDR mean: 0.0%  std: 0.0%\n"
     ]
    },
    {
     "name": "stdout",
     "output_type": "stream",
     "text": [
      "[[0.66032255 0.69837919]\n",
      " [0.67033871 0.70937882]\n",
      " [0.6058     0.6301    ]]\n",
      "rec time now 3 dataset now: Syn1\n"
     ]
    },
    {
     "name": "stderr",
     "output_type": "stream",
     "text": [
      "TPR mean: 100.0%  std: 0.0%\n",
      "FDR mean: 0.0%  std: 0.0%\n",
      "Epoch:      0, d_loss (Acc)): 0.598, v_loss (Acc): 0.539, g_loss: -0.0676\n"
     ]
    },
    {
     "name": "stdout",
     "output_type": "stream",
     "text": [
      "[[0.66032255 0.69837919]\n",
      " [0.67033871 0.70937882]\n",
      " [0.6058     0.6301    ]]\n",
      "now at training epoch number 4600 hyp-params: lamda 0.2760 prior 0.0400\n",
      "rec time now 0 dataset now: Syn1\n"
     ]
    },
    {
     "name": "stderr",
     "output_type": "stream",
     "text": [
      "TPR mean: 100.0%  std: 0.0%\n",
      "FDR mean: 0.0%  std: 0.0%\n"
     ]
    },
    {
     "name": "stdout",
     "output_type": "stream",
     "text": [
      "[[0.66617247 0.69834496]\n",
      " [0.67645965 0.70932256]\n",
      " [0.6091     0.6298    ]]\n",
      "rec time now 1 dataset now: Syn1\n"
     ]
    },
    {
     "name": "stderr",
     "output_type": "stream",
     "text": [
      "TPR mean: 100.0%  std: 0.0%\n",
      "FDR mean: 0.0%  std: 0.0%\n"
     ]
    },
    {
     "name": "stdout",
     "output_type": "stream",
     "text": [
      "[[0.66617247 0.69834496]\n",
      " [0.67645965 0.70932256]\n",
      " [0.6091     0.6298    ]]\n",
      "rec time now 2 dataset now: Syn1\n"
     ]
    },
    {
     "name": "stderr",
     "output_type": "stream",
     "text": [
      "TPR mean: 100.0%  std: 0.0%\n",
      "FDR mean: 0.0%  std: 0.0%\n"
     ]
    },
    {
     "name": "stdout",
     "output_type": "stream",
     "text": [
      "[[0.66617247 0.69834496]\n",
      " [0.67645965 0.70932256]\n",
      " [0.6091     0.6298    ]]\n",
      "rec time now 3 dataset now: Syn1\n"
     ]
    },
    {
     "name": "stderr",
     "output_type": "stream",
     "text": [
      "TPR mean: 100.0%  std: 0.0%\n",
      "FDR mean: 0.0%  std: 0.0%\n",
      "Epoch:      0, d_loss (Acc)): 0.613, v_loss (Acc): 0.547, g_loss: -0.0606\n"
     ]
    },
    {
     "name": "stdout",
     "output_type": "stream",
     "text": [
      "[[0.66617247 0.69834496]\n",
      " [0.67645965 0.70932256]\n",
      " [0.6091     0.6298    ]]\n",
      "now at training epoch number 4700 hyp-params: lamda 0.2820 prior 0.0300\n",
      "rec time now 0 dataset now: Syn1\n"
     ]
    },
    {
     "name": "stderr",
     "output_type": "stream",
     "text": [
      "TPR mean: 100.0%  std: 0.0%\n",
      "FDR mean: 0.0%  std: 0.0%\n"
     ]
    },
    {
     "name": "stdout",
     "output_type": "stream",
     "text": [
      "[[0.65985573 0.69755332]\n",
      " [0.670618   0.70882415]\n",
      " [0.6033     0.6265    ]]\n",
      "rec time now 1 dataset now: Syn1\n"
     ]
    },
    {
     "name": "stderr",
     "output_type": "stream",
     "text": [
      "TPR mean: 100.0%  std: 0.0%\n",
      "FDR mean: 0.0%  std: 0.0%\n"
     ]
    },
    {
     "name": "stdout",
     "output_type": "stream",
     "text": [
      "[[0.65985573 0.69755332]\n",
      " [0.670618   0.70882415]\n",
      " [0.6033     0.6265    ]]\n",
      "rec time now 2 dataset now: Syn1\n"
     ]
    },
    {
     "name": "stderr",
     "output_type": "stream",
     "text": [
      "TPR mean: 100.0%  std: 0.0%\n",
      "FDR mean: 0.0%  std: 0.0%\n"
     ]
    },
    {
     "name": "stdout",
     "output_type": "stream",
     "text": [
      "[[0.65985573 0.69755332]\n",
      " [0.670618   0.70882415]\n",
      " [0.6033     0.6265    ]]\n",
      "rec time now 3 dataset now: Syn1\n"
     ]
    },
    {
     "name": "stderr",
     "output_type": "stream",
     "text": [
      "TPR mean: 100.0%  std: 0.0%\n",
      "FDR mean: 0.0%  std: 0.0%\n",
      "Epoch:      0, d_loss (Acc)): 0.636, v_loss (Acc): 0.556, g_loss: -0.0368\n"
     ]
    },
    {
     "name": "stdout",
     "output_type": "stream",
     "text": [
      "[[0.65985573 0.69755332]\n",
      " [0.670618   0.70882415]\n",
      " [0.6033     0.6265    ]]\n",
      "now at training epoch number 4800 hyp-params: lamda 0.2880 prior 0.0200\n",
      "rec time now 0 dataset now: Syn1\n"
     ]
    },
    {
     "name": "stderr",
     "output_type": "stream",
     "text": [
      "TPR mean: 100.0%  std: 0.0%\n",
      "FDR mean: 0.0%  std: 0.0%\n"
     ]
    },
    {
     "name": "stdout",
     "output_type": "stream",
     "text": [
      "[[0.66128364 0.69854589]\n",
      " [0.67348418 0.70942887]\n",
      " [0.6048     0.6288    ]]\n",
      "rec time now 1 dataset now: Syn1\n"
     ]
    },
    {
     "name": "stderr",
     "output_type": "stream",
     "text": [
      "TPR mean: 100.0%  std: 0.0%\n",
      "FDR mean: 0.0%  std: 0.0%\n"
     ]
    },
    {
     "name": "stdout",
     "output_type": "stream",
     "text": [
      "[[0.66128364 0.69854589]\n",
      " [0.67348418 0.70942887]\n",
      " [0.6048     0.6288    ]]\n",
      "rec time now 2 dataset now: Syn1\n"
     ]
    },
    {
     "name": "stderr",
     "output_type": "stream",
     "text": [
      "TPR mean: 100.0%  std: 0.0%\n",
      "FDR mean: 0.0%  std: 0.0%\n"
     ]
    },
    {
     "name": "stdout",
     "output_type": "stream",
     "text": [
      "[[0.66128364 0.69854589]\n",
      " [0.67348418 0.70942887]\n",
      " [0.6048     0.6288    ]]\n",
      "rec time now 3 dataset now: Syn1\n"
     ]
    },
    {
     "name": "stderr",
     "output_type": "stream",
     "text": [
      "TPR mean: 100.0%  std: 0.0%\n",
      "FDR mean: 0.0%  std: 0.0%\n",
      "Epoch:      0, d_loss (Acc)): 0.619, v_loss (Acc): 0.529, g_loss: -0.0293\n"
     ]
    },
    {
     "name": "stdout",
     "output_type": "stream",
     "text": [
      "[[0.66128364 0.69854589]\n",
      " [0.67348418 0.70942887]\n",
      " [0.6048     0.6288    ]]\n",
      "now at training epoch number 4900 hyp-params: lamda 0.2940 prior 0.0100\n",
      "rec time now 0 dataset now: Syn1\n"
     ]
    },
    {
     "name": "stderr",
     "output_type": "stream",
     "text": [
      "TPR mean: 100.0%  std: 0.0%\n",
      "FDR mean: 0.0%  std: 0.0%\n"
     ]
    },
    {
     "name": "stdout",
     "output_type": "stream",
     "text": [
      "[[0.66202121 0.69752788]\n",
      " [0.67354525 0.70846333]\n",
      " [0.6055     0.6319    ]]\n",
      "rec time now 1 dataset now: Syn1\n"
     ]
    },
    {
     "name": "stderr",
     "output_type": "stream",
     "text": [
      "TPR mean: 100.0%  std: 0.0%\n",
      "FDR mean: 0.0%  std: 0.0%\n"
     ]
    },
    {
     "name": "stdout",
     "output_type": "stream",
     "text": [
      "[[0.66202121 0.69752788]\n",
      " [0.67354525 0.70846333]\n",
      " [0.6055     0.6319    ]]\n",
      "rec time now 2 dataset now: Syn1\n"
     ]
    },
    {
     "name": "stderr",
     "output_type": "stream",
     "text": [
      "TPR mean: 100.0%  std: 0.0%\n",
      "FDR mean: 0.0%  std: 0.0%\n"
     ]
    },
    {
     "name": "stdout",
     "output_type": "stream",
     "text": [
      "[[0.66202121 0.69752788]\n",
      " [0.67354525 0.70846333]\n",
      " [0.6055     0.6319    ]]\n",
      "rec time now 3 dataset now: Syn1\n"
     ]
    },
    {
     "name": "stderr",
     "output_type": "stream",
     "text": [
      "TPR mean: 100.0%  std: 0.0%\n",
      "FDR mean: 0.0%  std: 0.0%\n",
      "invase: Syn2 5000 . Y\n",
      "(10000, 11) (10000, 2) (10000, 11) (10000, 2)\n",
      "input shape: 11\n",
      "Epoch:      0, d_loss (Acc)): 0.803, v_loss (Acc): 0.827, g_loss: +0.1922\n"
     ]
    },
    {
     "name": "stdout",
     "output_type": "stream",
     "text": [
      "[[0.66202121 0.69752788]\n",
      " [0.67354525 0.70846333]\n",
      " [0.6055     0.6319    ]]\n",
      "PyTorch Version: elapsed time for Syn1: 11 feature, 10000 sample: [462.5538] sec.\n",
      "now at training epoch number 0 hyp-params: lamda 0.0000 prior 0.5000\n",
      "rec time now 0 dataset now: Syn2\n"
     ]
    },
    {
     "name": "stderr",
     "output_type": "stream",
     "text": [
      "TPR mean: 72.8%  std: 22.7%\n",
      "FDR mean: 50.8%  std: 12.1%\n"
     ]
    },
    {
     "name": "stdout",
     "output_type": "stream",
     "text": [
      "[[0.80668047 0.75008721]\n",
      " [0.82617948 0.73688092]\n",
      " [0.7321     0.713     ]]\n",
      "rec time now 1 dataset now: Syn2\n"
     ]
    },
    {
     "name": "stderr",
     "output_type": "stream",
     "text": [
      "TPR mean: 65.8%  std: 24.1%\n",
      "FDR mean: 45.9%  std: 15.7%\n"
     ]
    },
    {
     "name": "stdout",
     "output_type": "stream",
     "text": [
      "[[0.80668047 0.71629855]\n",
      " [0.82617948 0.70269576]\n",
      " [0.7321     0.6916    ]]\n",
      "rec time now 2 dataset now: Syn2\n"
     ]
    },
    {
     "name": "stderr",
     "output_type": "stream",
     "text": [
      "TPR mean: 64.3%  std: 24.6%\n",
      "FDR mean: 43.8%  std: 17.2%\n"
     ]
    },
    {
     "name": "stdout",
     "output_type": "stream",
     "text": [
      "[[0.80668047 0.7053718 ]\n",
      " [0.82617948 0.69238013]\n",
      " [0.7321     0.6875    ]]\n",
      "rec time now 3 dataset now: Syn2\n"
     ]
    },
    {
     "name": "stderr",
     "output_type": "stream",
     "text": [
      "TPR mean: 64.0%  std: 24.7%\n",
      "FDR mean: 43.0%  std: 17.8%\n",
      "Epoch:      0, d_loss (Acc)): 0.617, v_loss (Acc): 0.590, g_loss: -0.2091\n"
     ]
    },
    {
     "name": "stdout",
     "output_type": "stream",
     "text": [
      "[[0.80668047 0.7015612 ]\n",
      " [0.82617948 0.6874296 ]\n",
      " [0.7321     0.6844    ]]\n",
      "now at training epoch number 100 hyp-params: lamda 0.0060 prior 0.4900\n",
      "rec time now 0 dataset now: Syn2\n"
     ]
    },
    {
     "name": "stderr",
     "output_type": "stream",
     "text": [
      "TPR mean: 97.7%  std: 8.0%\n",
      "FDR mean: 40.2%  std: 10.4%\n"
     ]
    },
    {
     "name": "stdout",
     "output_type": "stream",
     "text": [
      "[[0.84093027 0.85783895]\n",
      " [0.85865009 0.86151376]\n",
      " [0.7612     0.7832    ]]\n",
      "rec time now 1 dataset now: Syn2\n"
     ]
    },
    {
     "name": "stderr",
     "output_type": "stream",
     "text": [
      "TPR mean: 97.4%  std: 8.6%\n",
      "FDR mean: 34.9%  std: 11.7%\n"
     ]
    },
    {
     "name": "stdout",
     "output_type": "stream",
     "text": [
      "[[0.84093027 0.85663362]\n",
      " [0.85865009 0.85833797]\n",
      " [0.7612     0.7831    ]]\n",
      "rec time now 2 dataset now: Syn2\n"
     ]
    },
    {
     "name": "stderr",
     "output_type": "stream",
     "text": [
      "TPR mean: 97.4%  std: 8.6%\n",
      "FDR mean: 34.1%  std: 12.1%\n"
     ]
    },
    {
     "name": "stdout",
     "output_type": "stream",
     "text": [
      "[[0.84093027 0.85614571]\n",
      " [0.85865009 0.85779712]\n",
      " [0.7612     0.7818    ]]\n",
      "rec time now 3 dataset now: Syn2\n"
     ]
    },
    {
     "name": "stderr",
     "output_type": "stream",
     "text": [
      "TPR mean: 97.4%  std: 8.6%\n",
      "FDR mean: 34.0%  std: 12.2%\n",
      "Epoch:      0, d_loss (Acc)): 0.586, v_loss (Acc): 0.502, g_loss: -0.6490\n"
     ]
    },
    {
     "name": "stdout",
     "output_type": "stream",
     "text": [
      "[[0.84093027 0.85604167]\n",
      " [0.85865009 0.85759272]\n",
      " [0.7612     0.7817    ]]\n",
      "now at training epoch number 200 hyp-params: lamda 0.0120 prior 0.4800\n",
      "rec time now 0 dataset now: Syn2\n"
     ]
    },
    {
     "name": "stderr",
     "output_type": "stream",
     "text": [
      "TPR mean: 100.0%  std: 0.7%\n",
      "FDR mean: 37.8%  std: 10.6%\n"
     ]
    },
    {
     "name": "stdout",
     "output_type": "stream",
     "text": [
      "[[0.8582605  0.881187  ]\n",
      " [0.87123646 0.88736392]\n",
      " [0.7774     0.7999    ]]\n",
      "rec time now 1 dataset now: Syn2\n"
     ]
    },
    {
     "name": "stderr",
     "output_type": "stream",
     "text": [
      "TPR mean: 100.0%  std: 0.8%\n",
      "FDR mean: 33.3%  std: 11.4%\n"
     ]
    },
    {
     "name": "stdout",
     "output_type": "stream",
     "text": [
      "[[0.8582605  0.8822347 ]\n",
      " [0.87123646 0.88860564]\n",
      " [0.7774     0.8005    ]]\n",
      "rec time now 2 dataset now: Syn2\n"
     ]
    },
    {
     "name": "stderr",
     "output_type": "stream",
     "text": [
      "TPR mean: 100.0%  std: 0.8%\n",
      "FDR mean: 32.8%  std: 11.6%\n"
     ]
    },
    {
     "name": "stdout",
     "output_type": "stream",
     "text": [
      "[[0.8582605  0.882355  ]\n",
      " [0.87123646 0.88851959]\n",
      " [0.7774     0.8008    ]]\n",
      "rec time now 3 dataset now: Syn2\n"
     ]
    },
    {
     "name": "stderr",
     "output_type": "stream",
     "text": [
      "TPR mean: 100.0%  std: 0.8%\n",
      "FDR mean: 32.8%  std: 11.6%\n",
      "Epoch:      0, d_loss (Acc)): 0.534, v_loss (Acc): 0.464, g_loss: -0.5517\n"
     ]
    },
    {
     "name": "stdout",
     "output_type": "stream",
     "text": [
      "[[0.8582605  0.88235055]\n",
      " [0.87123646 0.88847649]\n",
      " [0.7774     0.8008    ]]\n",
      "now at training epoch number 300 hyp-params: lamda 0.0180 prior 0.4700\n",
      "rec time now 0 dataset now: Syn2\n"
     ]
    },
    {
     "name": "stderr",
     "output_type": "stream",
     "text": [
      "TPR mean: 100.0%  std: 0.0%\n",
      "FDR mean: 35.4%  std: 11.1%\n"
     ]
    },
    {
     "name": "stdout",
     "output_type": "stream",
     "text": [
      "[[0.86985701 0.88667926]\n",
      " [0.88117775 0.89461866]\n",
      " [0.7934     0.8085    ]]\n",
      "rec time now 1 dataset now: Syn2\n"
     ]
    },
    {
     "name": "stderr",
     "output_type": "stream",
     "text": [
      "TPR mean: 100.0%  std: 0.0%\n",
      "FDR mean: 31.0%  std: 11.7%\n"
     ]
    },
    {
     "name": "stdout",
     "output_type": "stream",
     "text": [
      "[[0.86985701 0.88647406]\n",
      " [0.88117775 0.89572538]\n",
      " [0.7934     0.8048    ]]\n",
      "rec time now 2 dataset now: Syn2\n"
     ]
    },
    {
     "name": "stderr",
     "output_type": "stream",
     "text": [
      "TPR mean: 100.0%  std: 0.0%\n",
      "FDR mean: 30.5%  std: 11.9%\n"
     ]
    },
    {
     "name": "stdout",
     "output_type": "stream",
     "text": [
      "[[0.86985701 0.88605685]\n",
      " [0.88117775 0.89514558]\n",
      " [0.7934     0.8045    ]]\n",
      "rec time now 3 dataset now: Syn2\n"
     ]
    },
    {
     "name": "stderr",
     "output_type": "stream",
     "text": [
      "TPR mean: 100.0%  std: 0.0%\n",
      "FDR mean: 30.5%  std: 12.0%\n",
      "Epoch:      0, d_loss (Acc)): 0.472, v_loss (Acc): 0.432, g_loss: -0.2966\n"
     ]
    },
    {
     "name": "stdout",
     "output_type": "stream",
     "text": [
      "[[0.86985701 0.88604329]\n",
      " [0.88117775 0.89518584]\n",
      " [0.7934     0.8044    ]]\n",
      "now at training epoch number 400 hyp-params: lamda 0.0240 prior 0.4600\n",
      "rec time now 0 dataset now: Syn2\n"
     ]
    },
    {
     "name": "stderr",
     "output_type": "stream",
     "text": [
      "TPR mean: 100.0%  std: 0.0%\n",
      "FDR mean: 31.6%  std: 10.9%\n"
     ]
    },
    {
     "name": "stdout",
     "output_type": "stream",
     "text": [
      "[[0.87628865 0.88783328]\n",
      " [0.8854266  0.89519141]\n",
      " [0.8023     0.8107    ]]\n",
      "rec time now 1 dataset now: Syn2\n"
     ]
    },
    {
     "name": "stderr",
     "output_type": "stream",
     "text": [
      "TPR mean: 100.0%  std: 0.0%\n",
      "FDR mean: 27.8%  std: 10.4%\n"
     ]
    },
    {
     "name": "stdout",
     "output_type": "stream",
     "text": [
      "[[0.87628865 0.88647416]\n",
      " [0.8854266  0.89509585]\n",
      " [0.8023     0.8085    ]]\n",
      "rec time now 2 dataset now: Syn2\n"
     ]
    },
    {
     "name": "stderr",
     "output_type": "stream",
     "text": [
      "TPR mean: 100.0%  std: 0.0%\n",
      "FDR mean: 27.5%  std: 10.4%\n"
     ]
    },
    {
     "name": "stdout",
     "output_type": "stream",
     "text": [
      "[[0.87628865 0.88628328]\n",
      " [0.8854266  0.89472371]\n",
      " [0.8023     0.8083    ]]\n",
      "rec time now 3 dataset now: Syn2\n"
     ]
    },
    {
     "name": "stderr",
     "output_type": "stream",
     "text": [
      "TPR mean: 100.0%  std: 0.0%\n",
      "FDR mean: 27.5%  std: 10.4%\n",
      "Epoch:      0, d_loss (Acc)): 0.506, v_loss (Acc): 0.471, g_loss: -0.2522\n"
     ]
    },
    {
     "name": "stdout",
     "output_type": "stream",
     "text": [
      "[[0.87628865 0.88630153]\n",
      " [0.8854266  0.89473646]\n",
      " [0.8023     0.8084    ]]\n",
      "now at training epoch number 500 hyp-params: lamda 0.0300 prior 0.4500\n",
      "rec time now 0 dataset now: Syn2\n"
     ]
    },
    {
     "name": "stderr",
     "output_type": "stream",
     "text": [
      "TPR mean: 100.0%  std: 0.0%\n",
      "FDR mean: 29.3%  std: 10.5%\n"
     ]
    },
    {
     "name": "stdout",
     "output_type": "stream",
     "text": [
      "[[0.87839551 0.89072971]\n",
      " [0.88548245 0.89915023]\n",
      " [0.8067     0.8136    ]]\n",
      "rec time now 1 dataset now: Syn2\n"
     ]
    },
    {
     "name": "stderr",
     "output_type": "stream",
     "text": [
      "TPR mean: 100.0%  std: 0.0%\n",
      "FDR mean: 25.8%  std: 9.6%\n"
     ]
    },
    {
     "name": "stdout",
     "output_type": "stream",
     "text": [
      "[[0.87839551 0.88874163]\n",
      " [0.88548245 0.89873331]\n",
      " [0.8067     0.8138    ]]\n",
      "rec time now 2 dataset now: Syn2\n"
     ]
    },
    {
     "name": "stderr",
     "output_type": "stream",
     "text": [
      "TPR mean: 100.0%  std: 0.0%\n",
      "FDR mean: 25.5%  std: 9.6%\n"
     ]
    },
    {
     "name": "stdout",
     "output_type": "stream",
     "text": [
      "[[0.87839551 0.88861039]\n",
      " [0.88548245 0.89850003]\n",
      " [0.8067     0.8139    ]]\n",
      "rec time now 3 dataset now: Syn2\n"
     ]
    },
    {
     "name": "stderr",
     "output_type": "stream",
     "text": [
      "TPR mean: 100.0%  std: 0.0%\n",
      "FDR mean: 25.5%  std: 9.6%\n",
      "Epoch:      0, d_loss (Acc)): 0.452, v_loss (Acc): 0.432, g_loss: -0.1628\n"
     ]
    },
    {
     "name": "stdout",
     "output_type": "stream",
     "text": [
      "[[0.87839551 0.88865109]\n",
      " [0.88548245 0.89852386]\n",
      " [0.8067     0.8141    ]]\n",
      "now at training epoch number 600 hyp-params: lamda 0.0360 prior 0.4400\n",
      "rec time now 0 dataset now: Syn2\n"
     ]
    },
    {
     "name": "stderr",
     "output_type": "stream",
     "text": [
      "TPR mean: 100.0%  std: 0.0%\n",
      "FDR mean: 21.5%  std: 12.4%\n"
     ]
    },
    {
     "name": "stdout",
     "output_type": "stream",
     "text": [
      "[[0.88262679 0.89075125]\n",
      " [0.89047832 0.8965961 ]\n",
      " [0.8082     0.8187    ]]\n",
      "rec time now 1 dataset now: Syn2\n"
     ]
    },
    {
     "name": "stderr",
     "output_type": "stream",
     "text": [
      "TPR mean: 100.0%  std: 0.0%\n",
      "FDR mean: 17.8%  std: 11.5%\n"
     ]
    },
    {
     "name": "stdout",
     "output_type": "stream",
     "text": [
      "[[0.88262679 0.88814087]\n",
      " [0.89047832 0.89087864]\n",
      " [0.8082     0.8156    ]]\n",
      "rec time now 2 dataset now: Syn2\n"
     ]
    },
    {
     "name": "stderr",
     "output_type": "stream",
     "text": [
      "TPR mean: 100.0%  std: 0.0%\n",
      "FDR mean: 17.6%  std: 11.5%\n"
     ]
    },
    {
     "name": "stdout",
     "output_type": "stream",
     "text": [
      "[[0.88262679 0.88849113]\n",
      " [0.89047832 0.89138692]\n",
      " [0.8082     0.8161    ]]\n",
      "rec time now 3 dataset now: Syn2\n"
     ]
    },
    {
     "name": "stderr",
     "output_type": "stream",
     "text": [
      "TPR mean: 100.0%  std: 0.0%\n",
      "FDR mean: 17.6%  std: 11.5%\n",
      "Epoch:      0, d_loss (Acc)): 0.424, v_loss (Acc): 0.412, g_loss: -0.0648\n"
     ]
    },
    {
     "name": "stdout",
     "output_type": "stream",
     "text": [
      "[[0.88262679 0.88854261]\n",
      " [0.89047832 0.89140844]\n",
      " [0.8082     0.8162    ]]\n",
      "now at training epoch number 700 hyp-params: lamda 0.0420 prior 0.4300\n",
      "rec time now 0 dataset now: Syn2\n"
     ]
    },
    {
     "name": "stderr",
     "output_type": "stream",
     "text": [
      "TPR mean: 100.0%  std: 0.0%\n",
      "FDR mean: 17.2%  std: 14.8%\n"
     ]
    },
    {
     "name": "stdout",
     "output_type": "stream",
     "text": [
      "[[0.88433357 0.89119978]\n",
      " [0.89211667 0.89717711]\n",
      " [0.8066     0.8193    ]]\n",
      "rec time now 1 dataset now: Syn2\n"
     ]
    },
    {
     "name": "stderr",
     "output_type": "stream",
     "text": [
      "TPR mean: 100.0%  std: 0.0%\n",
      "FDR mean: 12.3%  std: 13.5%\n"
     ]
    },
    {
     "name": "stdout",
     "output_type": "stream",
     "text": [
      "[[0.88433357 0.88737872]\n",
      " [0.89211667 0.8898935 ]\n",
      " [0.8066     0.8165    ]]\n",
      "rec time now 2 dataset now: Syn2\n"
     ]
    },
    {
     "name": "stderr",
     "output_type": "stream",
     "text": [
      "TPR mean: 100.0%  std: 0.0%\n",
      "FDR mean: 11.9%  std: 13.4%\n"
     ]
    },
    {
     "name": "stdout",
     "output_type": "stream",
     "text": [
      "[[0.88433357 0.88733258]\n",
      " [0.89211667 0.88958346]\n",
      " [0.8066     0.8165    ]]\n",
      "rec time now 3 dataset now: Syn2\n"
     ]
    },
    {
     "name": "stderr",
     "output_type": "stream",
     "text": [
      "TPR mean: 100.0%  std: 0.0%\n",
      "FDR mean: 11.8%  std: 13.4%\n",
      "Epoch:      0, d_loss (Acc)): 0.402, v_loss (Acc): 0.390, g_loss: -0.0964\n"
     ]
    },
    {
     "name": "stdout",
     "output_type": "stream",
     "text": [
      "[[0.88433357 0.88731341]\n",
      " [0.89211667 0.88955639]\n",
      " [0.8066     0.8165    ]]\n",
      "now at training epoch number 800 hyp-params: lamda 0.0480 prior 0.4200\n",
      "rec time now 0 dataset now: Syn2\n"
     ]
    },
    {
     "name": "stderr",
     "output_type": "stream",
     "text": [
      "TPR mean: 100.0%  std: 0.0%\n",
      "FDR mean: 11.3%  std: 12.3%\n"
     ]
    },
    {
     "name": "stdout",
     "output_type": "stream",
     "text": [
      "[[0.88234566 0.8836216 ]\n",
      " [0.88935472 0.88446188]\n",
      " [0.8079     0.815     ]]\n",
      "rec time now 1 dataset now: Syn2\n"
     ]
    },
    {
     "name": "stderr",
     "output_type": "stream",
     "text": [
      "TPR mean: 100.0%  std: 0.0%\n",
      "FDR mean: 8.0%  std: 10.7%\n"
     ]
    },
    {
     "name": "stdout",
     "output_type": "stream",
     "text": [
      "[[0.88234566 0.88368691]\n",
      " [0.88935472 0.87959224]\n",
      " [0.8079     0.8144    ]]\n",
      "rec time now 2 dataset now: Syn2\n"
     ]
    },
    {
     "name": "stderr",
     "output_type": "stream",
     "text": [
      "TPR mean: 100.0%  std: 0.0%\n",
      "FDR mean: 7.8%  std: 10.6%\n"
     ]
    },
    {
     "name": "stdout",
     "output_type": "stream",
     "text": [
      "[[0.88234566 0.88382694]\n",
      " [0.88935472 0.87979998]\n",
      " [0.8079     0.8146    ]]\n",
      "rec time now 3 dataset now: Syn2\n"
     ]
    },
    {
     "name": "stderr",
     "output_type": "stream",
     "text": [
      "TPR mean: 100.0%  std: 0.0%\n",
      "FDR mean: 7.8%  std: 10.6%\n",
      "Epoch:      0, d_loss (Acc)): 0.421, v_loss (Acc): 0.414, g_loss: -0.0262\n"
     ]
    },
    {
     "name": "stdout",
     "output_type": "stream",
     "text": [
      "[[0.88234566 0.88383843]\n",
      " [0.88935472 0.87979615]\n",
      " [0.8079     0.8144    ]]\n",
      "now at training epoch number 900 hyp-params: lamda 0.0540 prior 0.4100\n",
      "rec time now 0 dataset now: Syn2\n"
     ]
    },
    {
     "name": "stderr",
     "output_type": "stream",
     "text": [
      "TPR mean: 100.0%  std: 0.0%\n",
      "FDR mean: 11.6%  std: 13.0%\n"
     ]
    },
    {
     "name": "stdout",
     "output_type": "stream",
     "text": [
      "[[0.88605334 0.88188787]\n",
      " [0.89460071 0.88466037]\n",
      " [0.8128     0.8117    ]]\n",
      "rec time now 1 dataset now: Syn2\n"
     ]
    },
    {
     "name": "stderr",
     "output_type": "stream",
     "text": [
      "TPR mean: 100.0%  std: 0.0%\n",
      "FDR mean: 8.2%  std: 11.3%\n"
     ]
    },
    {
     "name": "stdout",
     "output_type": "stream",
     "text": [
      "[[0.88605334 0.88192632]\n",
      " [0.89460071 0.88485012]\n",
      " [0.8128     0.8089    ]]\n",
      "rec time now 2 dataset now: Syn2\n"
     ]
    },
    {
     "name": "stderr",
     "output_type": "stream",
     "text": [
      "TPR mean: 100.0%  std: 0.0%\n",
      "FDR mean: 8.0%  std: 11.2%\n"
     ]
    },
    {
     "name": "stdout",
     "output_type": "stream",
     "text": [
      "[[0.88605334 0.88226261]\n",
      " [0.89460071 0.88501587]\n",
      " [0.8128     0.8088    ]]\n",
      "rec time now 3 dataset now: Syn2\n"
     ]
    },
    {
     "name": "stderr",
     "output_type": "stream",
     "text": [
      "TPR mean: 100.0%  std: 0.0%\n",
      "FDR mean: 7.9%  std: 11.2%\n",
      "Epoch:      0, d_loss (Acc)): 0.436, v_loss (Acc): 0.411, g_loss: -0.1409\n"
     ]
    },
    {
     "name": "stdout",
     "output_type": "stream",
     "text": [
      "[[0.88605334 0.8821808 ]\n",
      " [0.89460071 0.88478996]\n",
      " [0.8128     0.8088    ]]\n",
      "now at training epoch number 1000 hyp-params: lamda 0.0600 prior 0.4000\n",
      "rec time now 0 dataset now: Syn2\n"
     ]
    },
    {
     "name": "stderr",
     "output_type": "stream",
     "text": [
      "TPR mean: 100.0%  std: 0.0%\n",
      "FDR mean: 4.8%  std: 9.7%\n"
     ]
    },
    {
     "name": "stdout",
     "output_type": "stream",
     "text": [
      "[[0.88627277 0.8841567 ]\n",
      " [0.89510418 0.87993356]\n",
      " [0.811      0.8153    ]]\n",
      "rec time now 1 dataset now: Syn2\n"
     ]
    },
    {
     "name": "stderr",
     "output_type": "stream",
     "text": [
      "TPR mean: 100.0%  std: 0.0%\n",
      "FDR mean: 2.2%  std: 6.7%\n"
     ]
    },
    {
     "name": "stdout",
     "output_type": "stream",
     "text": [
      "[[0.88627277 0.88628166]\n",
      " [0.89510418 0.880941  ]\n",
      " [0.811      0.8138    ]]\n",
      "rec time now 2 dataset now: Syn2\n"
     ]
    },
    {
     "name": "stderr",
     "output_type": "stream",
     "text": [
      "TPR mean: 100.0%  std: 0.0%\n",
      "FDR mean: 2.1%  std: 6.5%\n"
     ]
    },
    {
     "name": "stdout",
     "output_type": "stream",
     "text": [
      "[[0.88627277 0.88643848]\n",
      " [0.89510418 0.88115866]\n",
      " [0.811      0.8145    ]]\n",
      "rec time now 3 dataset now: Syn2\n"
     ]
    },
    {
     "name": "stderr",
     "output_type": "stream",
     "text": [
      "TPR mean: 100.0%  std: 0.0%\n",
      "FDR mean: 2.1%  std: 6.5%\n",
      "Epoch:      0, d_loss (Acc)): 0.422, v_loss (Acc): 0.422, g_loss: -0.0068\n"
     ]
    },
    {
     "name": "stdout",
     "output_type": "stream",
     "text": [
      "[[0.88627277 0.88641915]\n",
      " [0.89510418 0.88100159]\n",
      " [0.811      0.8147    ]]\n",
      "now at training epoch number 1100 hyp-params: lamda 0.0660 prior 0.3900\n",
      "rec time now 0 dataset now: Syn2\n"
     ]
    },
    {
     "name": "stderr",
     "output_type": "stream",
     "text": [
      "TPR mean: 100.0%  std: 0.0%\n",
      "FDR mean: 1.8%  std: 6.2%\n"
     ]
    },
    {
     "name": "stdout",
     "output_type": "stream",
     "text": [
      "[[0.88573412 0.88651012]\n",
      " [0.89358761 0.88131452]\n",
      " [0.808      0.8187    ]]\n",
      "rec time now 1 dataset now: Syn2\n"
     ]
    },
    {
     "name": "stderr",
     "output_type": "stream",
     "text": [
      "TPR mean: 100.0%  std: 0.0%\n",
      "FDR mean: 0.6%  std: 3.5%\n"
     ]
    },
    {
     "name": "stdout",
     "output_type": "stream",
     "text": [
      "[[0.88573412 0.88952733]\n",
      " [0.89358761 0.88681357]\n",
      " [0.808      0.8197    ]]\n",
      "rec time now 2 dataset now: Syn2\n"
     ]
    },
    {
     "name": "stderr",
     "output_type": "stream",
     "text": [
      "TPR mean: 100.0%  std: 0.0%\n",
      "FDR mean: 0.5%  std: 3.3%\n"
     ]
    },
    {
     "name": "stdout",
     "output_type": "stream",
     "text": [
      "[[0.88573412 0.88942991]\n",
      " [0.89358761 0.88664365]\n",
      " [0.808      0.8198    ]]\n",
      "rec time now 3 dataset now: Syn2\n"
     ]
    },
    {
     "name": "stderr",
     "output_type": "stream",
     "text": [
      "TPR mean: 100.0%  std: 0.0%\n",
      "FDR mean: 0.5%  std: 3.3%\n",
      "Epoch:      0, d_loss (Acc)): 0.407, v_loss (Acc): 0.378, g_loss: -0.1159\n"
     ]
    },
    {
     "name": "stdout",
     "output_type": "stream",
     "text": [
      "[[0.88573412 0.88942991]\n",
      " [0.89358761 0.88664365]\n",
      " [0.808      0.8198    ]]\n",
      "now at training epoch number 1200 hyp-params: lamda 0.0720 prior 0.3800\n",
      "rec time now 0 dataset now: Syn2\n"
     ]
    },
    {
     "name": "stderr",
     "output_type": "stream",
     "text": [
      "TPR mean: 100.0%  std: 0.0%\n",
      "FDR mean: 0.4%  std: 2.9%\n"
     ]
    },
    {
     "name": "stdout",
     "output_type": "stream",
     "text": [
      "[[0.88834671 0.89373328]\n",
      " [0.89621828 0.89481952]\n",
      " [0.8129     0.8211    ]]\n",
      "rec time now 1 dataset now: Syn2\n"
     ]
    },
    {
     "name": "stderr",
     "output_type": "stream",
     "text": [
      "TPR mean: 100.0%  std: 0.0%\n",
      "FDR mean: 0.1%  std: 1.1%\n"
     ]
    },
    {
     "name": "stdout",
     "output_type": "stream",
     "text": [
      "[[0.88834671 0.89633426]\n",
      " [0.89621828 0.90277059]\n",
      " [0.8129     0.8225    ]]\n",
      "rec time now 2 dataset now: Syn2\n"
     ]
    },
    {
     "name": "stderr",
     "output_type": "stream",
     "text": [
      "TPR mean: 100.0%  std: 0.0%\n",
      "FDR mean: 0.1%  std: 1.0%\n"
     ]
    },
    {
     "name": "stdout",
     "output_type": "stream",
     "text": [
      "[[0.88834671 0.89632397]\n",
      " [0.89621828 0.90270667]\n",
      " [0.8129     0.8223    ]]\n",
      "rec time now 3 dataset now: Syn2\n"
     ]
    },
    {
     "name": "stderr",
     "output_type": "stream",
     "text": [
      "TPR mean: 100.0%  std: 0.0%\n",
      "FDR mean: 0.1%  std: 1.0%\n",
      "Epoch:      0, d_loss (Acc)): 0.420, v_loss (Acc): 0.399, g_loss: -0.0963\n"
     ]
    },
    {
     "name": "stdout",
     "output_type": "stream",
     "text": [
      "[[0.88834671 0.89632397]\n",
      " [0.89621828 0.90270667]\n",
      " [0.8129     0.8223    ]]\n",
      "now at training epoch number 1300 hyp-params: lamda 0.0780 prior 0.3700\n",
      "rec time now 0 dataset now: Syn2\n"
     ]
    },
    {
     "name": "stderr",
     "output_type": "stream",
     "text": [
      "TPR mean: 100.0%  std: 0.0%\n",
      "FDR mean: 0.1%  std: 1.2%\n"
     ]
    },
    {
     "name": "stdout",
     "output_type": "stream",
     "text": [
      "[[0.88850818 0.89451348]\n",
      " [0.89645598 0.89795346]\n",
      " [0.8148     0.8201    ]]\n",
      "rec time now 1 dataset now: Syn2\n"
     ]
    },
    {
     "name": "stderr",
     "output_type": "stream",
     "text": [
      "TPR mean: 100.0%  std: 0.0%\n",
      "FDR mean: 0.0%  std: 0.2%\n"
     ]
    },
    {
     "name": "stdout",
     "output_type": "stream",
     "text": [
      "[[0.88850818 0.89617095]\n",
      " [0.89645598 0.90326972]\n",
      " [0.8148     0.8209    ]]\n",
      "rec time now 2 dataset now: Syn2\n"
     ]
    },
    {
     "name": "stderr",
     "output_type": "stream",
     "text": [
      "TPR mean: 100.0%  std: 0.0%\n",
      "FDR mean: 0.0%  std: 0.2%\n"
     ]
    },
    {
     "name": "stdout",
     "output_type": "stream",
     "text": [
      "[[0.88850818 0.89617095]\n",
      " [0.89645598 0.90326972]\n",
      " [0.8148     0.8209    ]]\n",
      "rec time now 3 dataset now: Syn2\n"
     ]
    },
    {
     "name": "stderr",
     "output_type": "stream",
     "text": [
      "TPR mean: 100.0%  std: 0.0%\n",
      "FDR mean: 0.0%  std: 0.2%\n",
      "Epoch:      0, d_loss (Acc)): 0.394, v_loss (Acc): 0.380, g_loss: -0.0584\n"
     ]
    },
    {
     "name": "stdout",
     "output_type": "stream",
     "text": [
      "[[0.88850818 0.89617095]\n",
      " [0.89645598 0.90326972]\n",
      " [0.8148     0.8209    ]]\n",
      "now at training epoch number 1400 hyp-params: lamda 0.0840 prior 0.3600\n",
      "rec time now 0 dataset now: Syn2\n"
     ]
    },
    {
     "name": "stderr",
     "output_type": "stream",
     "text": [
      "TPR mean: 100.0%  std: 0.0%\n",
      "FDR mean: 0.1%  std: 1.2%\n"
     ]
    },
    {
     "name": "stdout",
     "output_type": "stream",
     "text": [
      "[[0.88760965 0.89309644]\n",
      " [0.89557421 0.90057471]\n",
      " [0.8137     0.8177    ]]\n",
      "rec time now 1 dataset now: Syn2\n"
     ]
    },
    {
     "name": "stderr",
     "output_type": "stream",
     "text": [
      "TPR mean: 100.0%  std: 0.0%\n",
      "FDR mean: 0.0%  std: 0.0%\n"
     ]
    },
    {
     "name": "stdout",
     "output_type": "stream",
     "text": [
      "[[0.88760965 0.89400339]\n",
      " [0.89557421 0.90265518]\n",
      " [0.8137     0.8181    ]]\n",
      "rec time now 2 dataset now: Syn2\n"
     ]
    },
    {
     "name": "stderr",
     "output_type": "stream",
     "text": [
      "TPR mean: 100.0%  std: 0.0%\n",
      "FDR mean: 0.0%  std: 0.0%\n"
     ]
    },
    {
     "name": "stdout",
     "output_type": "stream",
     "text": [
      "[[0.88760965 0.89400339]\n",
      " [0.89557421 0.90265518]\n",
      " [0.8137     0.8181    ]]\n",
      "rec time now 3 dataset now: Syn2\n"
     ]
    },
    {
     "name": "stderr",
     "output_type": "stream",
     "text": [
      "TPR mean: 100.0%  std: 0.0%\n",
      "FDR mean: 0.0%  std: 0.0%\n",
      "Epoch:      0, d_loss (Acc)): 0.397, v_loss (Acc): 0.370, g_loss: -0.1235\n"
     ]
    },
    {
     "name": "stdout",
     "output_type": "stream",
     "text": [
      "[[0.88760965 0.89400339]\n",
      " [0.89557421 0.90265518]\n",
      " [0.8137     0.8181    ]]\n",
      "now at training epoch number 1500 hyp-params: lamda 0.0900 prior 0.3500\n",
      "rec time now 0 dataset now: Syn2\n"
     ]
    },
    {
     "name": "stderr",
     "output_type": "stream",
     "text": [
      "TPR mean: 100.0%  std: 0.0%\n",
      "FDR mean: 0.0%  std: 0.0%\n"
     ]
    },
    {
     "name": "stdout",
     "output_type": "stream",
     "text": [
      "[[0.88830739 0.89521767]\n",
      " [0.89590697 0.90324061]\n",
      " [0.8135     0.8193    ]]\n",
      "rec time now 1 dataset now: Syn2\n"
     ]
    },
    {
     "name": "stderr",
     "output_type": "stream",
     "text": [
      "TPR mean: 100.0%  std: 0.0%\n",
      "FDR mean: 0.0%  std: 0.0%\n"
     ]
    },
    {
     "name": "stdout",
     "output_type": "stream",
     "text": [
      "[[0.88830739 0.89521767]\n",
      " [0.89590697 0.90324061]\n",
      " [0.8135     0.8193    ]]\n",
      "rec time now 2 dataset now: Syn2\n"
     ]
    },
    {
     "name": "stderr",
     "output_type": "stream",
     "text": [
      "TPR mean: 100.0%  std: 0.0%\n",
      "FDR mean: 0.0%  std: 0.0%\n"
     ]
    },
    {
     "name": "stdout",
     "output_type": "stream",
     "text": [
      "[[0.88830739 0.89521767]\n",
      " [0.89590697 0.90324061]\n",
      " [0.8135     0.8193    ]]\n",
      "rec time now 3 dataset now: Syn2\n"
     ]
    },
    {
     "name": "stderr",
     "output_type": "stream",
     "text": [
      "TPR mean: 100.0%  std: 0.0%\n",
      "FDR mean: 0.0%  std: 0.0%\n",
      "Epoch:      0, d_loss (Acc)): 0.403, v_loss (Acc): 0.393, g_loss: -0.0185\n"
     ]
    },
    {
     "name": "stdout",
     "output_type": "stream",
     "text": [
      "[[0.88830739 0.89521767]\n",
      " [0.89590697 0.90324061]\n",
      " [0.8135     0.8193    ]]\n",
      "now at training epoch number 1600 hyp-params: lamda 0.0960 prior 0.3400\n",
      "rec time now 0 dataset now: Syn2\n"
     ]
    },
    {
     "name": "stderr",
     "output_type": "stream",
     "text": [
      "TPR mean: 100.0%  std: 0.0%\n",
      "FDR mean: 0.0%  std: 0.0%\n"
     ]
    },
    {
     "name": "stdout",
     "output_type": "stream",
     "text": [
      "[[0.88826915 0.89681164]\n",
      " [0.89635987 0.90444643]\n",
      " [0.8136     0.8246    ]]\n",
      "rec time now 1 dataset now: Syn2\n"
     ]
    },
    {
     "name": "stderr",
     "output_type": "stream",
     "text": [
      "TPR mean: 100.0%  std: 0.0%\n",
      "FDR mean: 0.0%  std: 0.0%\n"
     ]
    },
    {
     "name": "stdout",
     "output_type": "stream",
     "text": [
      "[[0.88826915 0.89681164]\n",
      " [0.89635987 0.90444643]\n",
      " [0.8136     0.8246    ]]\n",
      "rec time now 2 dataset now: Syn2\n"
     ]
    },
    {
     "name": "stderr",
     "output_type": "stream",
     "text": [
      "TPR mean: 100.0%  std: 0.0%\n",
      "FDR mean: 0.0%  std: 0.0%\n"
     ]
    },
    {
     "name": "stdout",
     "output_type": "stream",
     "text": [
      "[[0.88826915 0.89681164]\n",
      " [0.89635987 0.90444643]\n",
      " [0.8136     0.8246    ]]\n",
      "rec time now 3 dataset now: Syn2\n"
     ]
    },
    {
     "name": "stderr",
     "output_type": "stream",
     "text": [
      "TPR mean: 100.0%  std: 0.0%\n",
      "FDR mean: 0.0%  std: 0.0%\n",
      "Epoch:      0, d_loss (Acc)): 0.396, v_loss (Acc): 0.361, g_loss: -0.1545\n"
     ]
    },
    {
     "name": "stdout",
     "output_type": "stream",
     "text": [
      "[[0.88826915 0.89681164]\n",
      " [0.89635987 0.90444643]\n",
      " [0.8136     0.8246    ]]\n",
      "now at training epoch number 1700 hyp-params: lamda 0.1020 prior 0.3300\n",
      "rec time now 0 dataset now: Syn2\n"
     ]
    },
    {
     "name": "stderr",
     "output_type": "stream",
     "text": [
      "TPR mean: 100.0%  std: 0.0%\n",
      "FDR mean: 0.0%  std: 0.0%\n"
     ]
    },
    {
     "name": "stdout",
     "output_type": "stream",
     "text": [
      "[[0.8883268  0.89767086]\n",
      " [0.89689451 0.90459502]\n",
      " [0.8111     0.8238    ]]\n",
      "rec time now 1 dataset now: Syn2\n"
     ]
    },
    {
     "name": "stderr",
     "output_type": "stream",
     "text": [
      "TPR mean: 100.0%  std: 0.0%\n",
      "FDR mean: 0.0%  std: 0.0%\n"
     ]
    },
    {
     "name": "stdout",
     "output_type": "stream",
     "text": [
      "[[0.8883268  0.89767086]\n",
      " [0.89689451 0.90459502]\n",
      " [0.8111     0.8238    ]]\n",
      "rec time now 2 dataset now: Syn2\n"
     ]
    },
    {
     "name": "stderr",
     "output_type": "stream",
     "text": [
      "TPR mean: 100.0%  std: 0.0%\n",
      "FDR mean: 0.0%  std: 0.0%\n"
     ]
    },
    {
     "name": "stdout",
     "output_type": "stream",
     "text": [
      "[[0.8883268  0.89767086]\n",
      " [0.89689451 0.90459502]\n",
      " [0.8111     0.8238    ]]\n",
      "rec time now 3 dataset now: Syn2\n"
     ]
    },
    {
     "name": "stderr",
     "output_type": "stream",
     "text": [
      "TPR mean: 100.0%  std: 0.0%\n",
      "FDR mean: 0.0%  std: 0.0%\n",
      "Epoch:      0, d_loss (Acc)): 0.408, v_loss (Acc): 0.377, g_loss: -0.1094\n"
     ]
    },
    {
     "name": "stdout",
     "output_type": "stream",
     "text": [
      "[[0.8883268  0.89767086]\n",
      " [0.89689451 0.90459502]\n",
      " [0.8111     0.8238    ]]\n",
      "now at training epoch number 1800 hyp-params: lamda 0.1080 prior 0.3200\n",
      "rec time now 0 dataset now: Syn2\n"
     ]
    },
    {
     "name": "stderr",
     "output_type": "stream",
     "text": [
      "TPR mean: 100.0%  std: 0.0%\n",
      "FDR mean: 0.0%  std: 0.0%\n"
     ]
    },
    {
     "name": "stdout",
     "output_type": "stream",
     "text": [
      "[[0.88694421 0.89508781]\n",
      " [0.89432388 0.90377709]\n",
      " [0.8127     0.8208    ]]\n",
      "rec time now 1 dataset now: Syn2\n"
     ]
    },
    {
     "name": "stderr",
     "output_type": "stream",
     "text": [
      "TPR mean: 100.0%  std: 0.0%\n",
      "FDR mean: 0.0%  std: 0.0%\n"
     ]
    },
    {
     "name": "stdout",
     "output_type": "stream",
     "text": [
      "[[0.88694421 0.89508781]\n",
      " [0.89432388 0.90377709]\n",
      " [0.8127     0.8208    ]]\n",
      "rec time now 2 dataset now: Syn2\n"
     ]
    },
    {
     "name": "stderr",
     "output_type": "stream",
     "text": [
      "TPR mean: 100.0%  std: 0.0%\n",
      "FDR mean: 0.0%  std: 0.0%\n"
     ]
    },
    {
     "name": "stdout",
     "output_type": "stream",
     "text": [
      "[[0.88694421 0.89508781]\n",
      " [0.89432388 0.90377709]\n",
      " [0.8127     0.8208    ]]\n",
      "rec time now 3 dataset now: Syn2\n"
     ]
    },
    {
     "name": "stderr",
     "output_type": "stream",
     "text": [
      "TPR mean: 100.0%  std: 0.0%\n",
      "FDR mean: 0.0%  std: 0.0%\n",
      "Epoch:      0, d_loss (Acc)): 0.417, v_loss (Acc): 0.397, g_loss: -0.0734\n"
     ]
    },
    {
     "name": "stdout",
     "output_type": "stream",
     "text": [
      "[[0.88694421 0.89508781]\n",
      " [0.89432388 0.90377709]\n",
      " [0.8127     0.8208    ]]\n",
      "now at training epoch number 1900 hyp-params: lamda 0.1140 prior 0.3100\n",
      "rec time now 0 dataset now: Syn2\n"
     ]
    },
    {
     "name": "stderr",
     "output_type": "stream",
     "text": [
      "TPR mean: 100.0%  std: 0.0%\n",
      "FDR mean: 0.0%  std: 0.0%\n"
     ]
    },
    {
     "name": "stdout",
     "output_type": "stream",
     "text": [
      "[[0.8883554  0.89707526]\n",
      " [0.89619913 0.90360753]\n",
      " [0.8131     0.8251    ]]\n",
      "rec time now 1 dataset now: Syn2\n"
     ]
    },
    {
     "name": "stderr",
     "output_type": "stream",
     "text": [
      "TPR mean: 100.0%  std: 0.0%\n",
      "FDR mean: 0.0%  std: 0.0%\n"
     ]
    },
    {
     "name": "stdout",
     "output_type": "stream",
     "text": [
      "[[0.8883554  0.89707526]\n",
      " [0.89619913 0.90360753]\n",
      " [0.8131     0.8251    ]]\n",
      "rec time now 2 dataset now: Syn2\n"
     ]
    },
    {
     "name": "stderr",
     "output_type": "stream",
     "text": [
      "TPR mean: 100.0%  std: 0.0%\n",
      "FDR mean: 0.0%  std: 0.0%\n"
     ]
    },
    {
     "name": "stdout",
     "output_type": "stream",
     "text": [
      "[[0.8883554  0.89707526]\n",
      " [0.89619913 0.90360753]\n",
      " [0.8131     0.8251    ]]\n",
      "rec time now 3 dataset now: Syn2\n"
     ]
    },
    {
     "name": "stderr",
     "output_type": "stream",
     "text": [
      "TPR mean: 100.0%  std: 0.0%\n",
      "FDR mean: 0.0%  std: 0.0%\n",
      "Epoch:      0, d_loss (Acc)): 0.404, v_loss (Acc): 0.382, g_loss: -0.0624\n"
     ]
    },
    {
     "name": "stdout",
     "output_type": "stream",
     "text": [
      "[[0.8883554  0.89707526]\n",
      " [0.89619913 0.90360753]\n",
      " [0.8131     0.8251    ]]\n",
      "now at training epoch number 2000 hyp-params: lamda 0.1200 prior 0.3000\n",
      "rec time now 0 dataset now: Syn2\n"
     ]
    },
    {
     "name": "stderr",
     "output_type": "stream",
     "text": [
      "TPR mean: 100.0%  std: 0.0%\n",
      "FDR mean: 0.0%  std: 0.0%\n"
     ]
    },
    {
     "name": "stdout",
     "output_type": "stream",
     "text": [
      "[[0.88706654 0.89557668]\n",
      " [0.89523414 0.90419928]\n",
      " [0.8111     0.8241    ]]\n",
      "rec time now 1 dataset now: Syn2\n"
     ]
    },
    {
     "name": "stderr",
     "output_type": "stream",
     "text": [
      "TPR mean: 100.0%  std: 0.0%\n",
      "FDR mean: 0.0%  std: 0.0%\n"
     ]
    },
    {
     "name": "stdout",
     "output_type": "stream",
     "text": [
      "[[0.88706654 0.89557668]\n",
      " [0.89523414 0.90419928]\n",
      " [0.8111     0.8241    ]]\n",
      "rec time now 2 dataset now: Syn2\n"
     ]
    },
    {
     "name": "stderr",
     "output_type": "stream",
     "text": [
      "TPR mean: 100.0%  std: 0.0%\n",
      "FDR mean: 0.0%  std: 0.0%\n"
     ]
    },
    {
     "name": "stdout",
     "output_type": "stream",
     "text": [
      "[[0.88706654 0.89557668]\n",
      " [0.89523414 0.90419928]\n",
      " [0.8111     0.8241    ]]\n",
      "rec time now 3 dataset now: Syn2\n"
     ]
    },
    {
     "name": "stderr",
     "output_type": "stream",
     "text": [
      "TPR mean: 100.0%  std: 0.0%\n",
      "FDR mean: 0.0%  std: 0.0%\n",
      "Epoch:      0, d_loss (Acc)): 0.416, v_loss (Acc): 0.380, g_loss: -0.1160\n"
     ]
    },
    {
     "name": "stdout",
     "output_type": "stream",
     "text": [
      "[[0.88706654 0.89557668]\n",
      " [0.89523414 0.90419928]\n",
      " [0.8111     0.8241    ]]\n",
      "now at training epoch number 2100 hyp-params: lamda 0.1260 prior 0.2900\n",
      "rec time now 0 dataset now: Syn2\n"
     ]
    },
    {
     "name": "stderr",
     "output_type": "stream",
     "text": [
      "TPR mean: 100.0%  std: 0.0%\n",
      "FDR mean: 0.0%  std: 0.0%\n"
     ]
    },
    {
     "name": "stdout",
     "output_type": "stream",
     "text": [
      "[[0.888581   0.89576687]\n",
      " [0.89710092 0.90429573]\n",
      " [0.8139     0.8228    ]]\n",
      "rec time now 1 dataset now: Syn2\n"
     ]
    },
    {
     "name": "stderr",
     "output_type": "stream",
     "text": [
      "TPR mean: 100.0%  std: 0.0%\n",
      "FDR mean: 0.0%  std: 0.0%\n"
     ]
    },
    {
     "name": "stdout",
     "output_type": "stream",
     "text": [
      "[[0.888581   0.89576687]\n",
      " [0.89710092 0.90429573]\n",
      " [0.8139     0.8228    ]]\n",
      "rec time now 2 dataset now: Syn2\n"
     ]
    },
    {
     "name": "stderr",
     "output_type": "stream",
     "text": [
      "TPR mean: 100.0%  std: 0.0%\n",
      "FDR mean: 0.0%  std: 0.0%\n"
     ]
    },
    {
     "name": "stdout",
     "output_type": "stream",
     "text": [
      "[[0.888581   0.89576687]\n",
      " [0.89710092 0.90429573]\n",
      " [0.8139     0.8228    ]]\n",
      "rec time now 3 dataset now: Syn2\n"
     ]
    },
    {
     "name": "stderr",
     "output_type": "stream",
     "text": [
      "TPR mean: 100.0%  std: 0.0%\n",
      "FDR mean: 0.0%  std: 0.0%\n",
      "Epoch:      0, d_loss (Acc)): 0.381, v_loss (Acc): 0.356, g_loss: -0.0781\n"
     ]
    },
    {
     "name": "stdout",
     "output_type": "stream",
     "text": [
      "[[0.888581   0.89576687]\n",
      " [0.89710092 0.90429573]\n",
      " [0.8139     0.8228    ]]\n",
      "now at training epoch number 2200 hyp-params: lamda 0.1320 prior 0.2800\n",
      "rec time now 0 dataset now: Syn2\n"
     ]
    },
    {
     "name": "stderr",
     "output_type": "stream",
     "text": [
      "TPR mean: 100.0%  std: 0.0%\n",
      "FDR mean: 0.0%  std: 0.0%\n"
     ]
    },
    {
     "name": "stdout",
     "output_type": "stream",
     "text": [
      "[[0.88799879 0.89662829]\n",
      " [0.89682578 0.90445828]\n",
      " [0.8121     0.8228    ]]\n",
      "rec time now 1 dataset now: Syn2\n"
     ]
    },
    {
     "name": "stderr",
     "output_type": "stream",
     "text": [
      "TPR mean: 100.0%  std: 0.0%\n",
      "FDR mean: 0.0%  std: 0.0%\n"
     ]
    },
    {
     "name": "stdout",
     "output_type": "stream",
     "text": [
      "[[0.88799879 0.89662829]\n",
      " [0.89682578 0.90445828]\n",
      " [0.8121     0.8228    ]]\n",
      "rec time now 2 dataset now: Syn2\n"
     ]
    },
    {
     "name": "stderr",
     "output_type": "stream",
     "text": [
      "TPR mean: 100.0%  std: 0.0%\n",
      "FDR mean: 0.0%  std: 0.0%\n"
     ]
    },
    {
     "name": "stdout",
     "output_type": "stream",
     "text": [
      "[[0.88799879 0.89662829]\n",
      " [0.89682578 0.90445828]\n",
      " [0.8121     0.8228    ]]\n",
      "rec time now 3 dataset now: Syn2\n"
     ]
    },
    {
     "name": "stderr",
     "output_type": "stream",
     "text": [
      "TPR mean: 100.0%  std: 0.0%\n",
      "FDR mean: 0.0%  std: 0.0%\n",
      "Epoch:      0, d_loss (Acc)): 0.400, v_loss (Acc): 0.373, g_loss: -0.0876\n"
     ]
    },
    {
     "name": "stdout",
     "output_type": "stream",
     "text": [
      "[[0.88799879 0.89662829]\n",
      " [0.89682578 0.90445828]\n",
      " [0.8121     0.8228    ]]\n",
      "now at training epoch number 2300 hyp-params: lamda 0.1380 prior 0.2700\n",
      "rec time now 0 dataset now: Syn2\n"
     ]
    },
    {
     "name": "stderr",
     "output_type": "stream",
     "text": [
      "TPR mean: 100.0%  std: 0.0%\n",
      "FDR mean: 0.0%  std: 0.0%\n"
     ]
    },
    {
     "name": "stdout",
     "output_type": "stream",
     "text": [
      "[[0.8873934  0.89727755]\n",
      " [0.89558987 0.90402713]\n",
      " [0.8124     0.8234    ]]\n",
      "rec time now 1 dataset now: Syn2\n"
     ]
    },
    {
     "name": "stderr",
     "output_type": "stream",
     "text": [
      "TPR mean: 100.0%  std: 0.0%\n",
      "FDR mean: 0.0%  std: 0.0%\n"
     ]
    },
    {
     "name": "stdout",
     "output_type": "stream",
     "text": [
      "[[0.8873934  0.89727755]\n",
      " [0.89558987 0.90402713]\n",
      " [0.8124     0.8234    ]]\n",
      "rec time now 2 dataset now: Syn2\n"
     ]
    },
    {
     "name": "stderr",
     "output_type": "stream",
     "text": [
      "TPR mean: 100.0%  std: 0.0%\n",
      "FDR mean: 0.0%  std: 0.0%\n"
     ]
    },
    {
     "name": "stdout",
     "output_type": "stream",
     "text": [
      "[[0.8873934  0.89727755]\n",
      " [0.89558987 0.90402713]\n",
      " [0.8124     0.8234    ]]\n",
      "rec time now 3 dataset now: Syn2\n"
     ]
    },
    {
     "name": "stderr",
     "output_type": "stream",
     "text": [
      "TPR mean: 100.0%  std: 0.0%\n",
      "FDR mean: 0.0%  std: 0.0%\n",
      "Epoch:      0, d_loss (Acc)): 0.434, v_loss (Acc): 0.401, g_loss: -0.0824\n"
     ]
    },
    {
     "name": "stdout",
     "output_type": "stream",
     "text": [
      "[[0.8873934  0.89727755]\n",
      " [0.89558987 0.90402713]\n",
      " [0.8124     0.8234    ]]\n",
      "now at training epoch number 2400 hyp-params: lamda 0.1440 prior 0.2600\n",
      "rec time now 0 dataset now: Syn2\n"
     ]
    },
    {
     "name": "stderr",
     "output_type": "stream",
     "text": [
      "TPR mean: 100.0%  std: 0.0%\n",
      "FDR mean: 0.0%  std: 0.0%\n"
     ]
    },
    {
     "name": "stdout",
     "output_type": "stream",
     "text": [
      "[[0.88666474 0.89844489]\n",
      " [0.89450031 0.90479981]\n",
      " [0.8095     0.826     ]]\n",
      "rec time now 1 dataset now: Syn2\n"
     ]
    },
    {
     "name": "stderr",
     "output_type": "stream",
     "text": [
      "TPR mean: 100.0%  std: 0.0%\n",
      "FDR mean: 0.0%  std: 0.0%\n"
     ]
    },
    {
     "name": "stdout",
     "output_type": "stream",
     "text": [
      "[[0.88666474 0.89844489]\n",
      " [0.89450031 0.90479981]\n",
      " [0.8095     0.826     ]]\n",
      "rec time now 2 dataset now: Syn2\n"
     ]
    },
    {
     "name": "stderr",
     "output_type": "stream",
     "text": [
      "TPR mean: 100.0%  std: 0.0%\n",
      "FDR mean: 0.0%  std: 0.0%\n"
     ]
    },
    {
     "name": "stdout",
     "output_type": "stream",
     "text": [
      "[[0.88666474 0.89844489]\n",
      " [0.89450031 0.90479981]\n",
      " [0.8095     0.826     ]]\n",
      "rec time now 3 dataset now: Syn2\n"
     ]
    },
    {
     "name": "stderr",
     "output_type": "stream",
     "text": [
      "TPR mean: 100.0%  std: 0.0%\n",
      "FDR mean: 0.0%  std: 0.0%\n",
      "Epoch:      0, d_loss (Acc)): 0.388, v_loss (Acc): 0.362, g_loss: -0.0755\n"
     ]
    },
    {
     "name": "stdout",
     "output_type": "stream",
     "text": [
      "[[0.88666474 0.89844489]\n",
      " [0.89450031 0.90479981]\n",
      " [0.8095     0.826     ]]\n",
      "now at training epoch number 2500 hyp-params: lamda 0.1500 prior 0.2500\n",
      "rec time now 0 dataset now: Syn2\n"
     ]
    },
    {
     "name": "stderr",
     "output_type": "stream",
     "text": [
      "TPR mean: 100.0%  std: 0.0%\n",
      "FDR mean: 0.0%  std: 0.0%\n"
     ]
    },
    {
     "name": "stdout",
     "output_type": "stream",
     "text": [
      "[[0.88828181 0.89535277]\n",
      " [0.89648133 0.90301401]\n",
      " [0.8118     0.8198    ]]\n",
      "rec time now 1 dataset now: Syn2\n"
     ]
    },
    {
     "name": "stderr",
     "output_type": "stream",
     "text": [
      "TPR mean: 100.0%  std: 0.0%\n",
      "FDR mean: 0.0%  std: 0.0%\n"
     ]
    },
    {
     "name": "stdout",
     "output_type": "stream",
     "text": [
      "[[0.88828181 0.89535277]\n",
      " [0.89648133 0.90301401]\n",
      " [0.8118     0.8198    ]]\n",
      "rec time now 2 dataset now: Syn2\n"
     ]
    },
    {
     "name": "stderr",
     "output_type": "stream",
     "text": [
      "TPR mean: 100.0%  std: 0.0%\n",
      "FDR mean: 0.0%  std: 0.0%\n"
     ]
    },
    {
     "name": "stdout",
     "output_type": "stream",
     "text": [
      "[[0.88828181 0.89535277]\n",
      " [0.89648133 0.90301401]\n",
      " [0.8118     0.8198    ]]\n",
      "rec time now 3 dataset now: Syn2\n"
     ]
    },
    {
     "name": "stderr",
     "output_type": "stream",
     "text": [
      "TPR mean: 100.0%  std: 0.0%\n",
      "FDR mean: 0.0%  std: 0.0%\n",
      "Epoch:      0, d_loss (Acc)): 0.379, v_loss (Acc): 0.349, g_loss: -0.0798\n"
     ]
    },
    {
     "name": "stdout",
     "output_type": "stream",
     "text": [
      "[[0.88828181 0.89535277]\n",
      " [0.89648133 0.90301401]\n",
      " [0.8118     0.8198    ]]\n",
      "now at training epoch number 2600 hyp-params: lamda 0.1560 prior 0.2400\n",
      "rec time now 0 dataset now: Syn2\n"
     ]
    },
    {
     "name": "stderr",
     "output_type": "stream",
     "text": [
      "TPR mean: 100.0%  std: 0.0%\n",
      "FDR mean: 0.0%  std: 0.0%\n"
     ]
    },
    {
     "name": "stdout",
     "output_type": "stream",
     "text": [
      "[[0.88807087 0.8973595 ]\n",
      " [0.89712636 0.9051171 ]\n",
      " [0.8098     0.8252    ]]\n",
      "rec time now 1 dataset now: Syn2\n"
     ]
    },
    {
     "name": "stderr",
     "output_type": "stream",
     "text": [
      "TPR mean: 100.0%  std: 0.0%\n",
      "FDR mean: 0.0%  std: 0.0%\n"
     ]
    },
    {
     "name": "stdout",
     "output_type": "stream",
     "text": [
      "[[0.88807087 0.8973595 ]\n",
      " [0.89712636 0.9051171 ]\n",
      " [0.8098     0.8252    ]]\n",
      "rec time now 2 dataset now: Syn2\n"
     ]
    },
    {
     "name": "stderr",
     "output_type": "stream",
     "text": [
      "TPR mean: 100.0%  std: 0.0%\n",
      "FDR mean: 0.0%  std: 0.0%\n"
     ]
    },
    {
     "name": "stdout",
     "output_type": "stream",
     "text": [
      "[[0.88807087 0.8973595 ]\n",
      " [0.89712636 0.9051171 ]\n",
      " [0.8098     0.8252    ]]\n",
      "rec time now 3 dataset now: Syn2\n"
     ]
    },
    {
     "name": "stderr",
     "output_type": "stream",
     "text": [
      "TPR mean: 100.0%  std: 0.0%\n",
      "FDR mean: 0.0%  std: 0.0%\n",
      "Epoch:      0, d_loss (Acc)): 0.376, v_loss (Acc): 0.343, g_loss: -0.0845\n"
     ]
    },
    {
     "name": "stdout",
     "output_type": "stream",
     "text": [
      "[[0.88807087 0.8973595 ]\n",
      " [0.89712636 0.9051171 ]\n",
      " [0.8098     0.8252    ]]\n",
      "now at training epoch number 2700 hyp-params: lamda 0.1620 prior 0.2300\n",
      "rec time now 0 dataset now: Syn2\n"
     ]
    },
    {
     "name": "stderr",
     "output_type": "stream",
     "text": [
      "TPR mean: 100.0%  std: 0.0%\n",
      "FDR mean: 0.0%  std: 0.0%\n"
     ]
    },
    {
     "name": "stdout",
     "output_type": "stream",
     "text": [
      "[[0.88904577 0.89774332]\n",
      " [0.8975324  0.90547778]\n",
      " [0.8112     0.8252    ]]\n",
      "rec time now 1 dataset now: Syn2\n"
     ]
    },
    {
     "name": "stderr",
     "output_type": "stream",
     "text": [
      "TPR mean: 100.0%  std: 0.0%\n",
      "FDR mean: 0.0%  std: 0.0%\n"
     ]
    },
    {
     "name": "stdout",
     "output_type": "stream",
     "text": [
      "[[0.88904577 0.89774332]\n",
      " [0.8975324  0.90547778]\n",
      " [0.8112     0.8252    ]]\n",
      "rec time now 2 dataset now: Syn2\n"
     ]
    },
    {
     "name": "stderr",
     "output_type": "stream",
     "text": [
      "TPR mean: 100.0%  std: 0.0%\n",
      "FDR mean: 0.0%  std: 0.0%\n"
     ]
    },
    {
     "name": "stdout",
     "output_type": "stream",
     "text": [
      "[[0.88904577 0.89774332]\n",
      " [0.8975324  0.90547778]\n",
      " [0.8112     0.8252    ]]\n",
      "rec time now 3 dataset now: Syn2\n"
     ]
    },
    {
     "name": "stderr",
     "output_type": "stream",
     "text": [
      "TPR mean: 100.0%  std: 0.0%\n",
      "FDR mean: 0.0%  std: 0.0%\n",
      "Epoch:      0, d_loss (Acc)): 0.394, v_loss (Acc): 0.347, g_loss: -0.1368\n"
     ]
    },
    {
     "name": "stdout",
     "output_type": "stream",
     "text": [
      "[[0.88904577 0.89774332]\n",
      " [0.8975324  0.90547778]\n",
      " [0.8112     0.8252    ]]\n",
      "now at training epoch number 2800 hyp-params: lamda 0.1680 prior 0.2200\n",
      "rec time now 0 dataset now: Syn2\n"
     ]
    },
    {
     "name": "stderr",
     "output_type": "stream",
     "text": [
      "TPR mean: 100.0%  std: 0.0%\n",
      "FDR mean: 0.0%  std: 0.0%\n"
     ]
    },
    {
     "name": "stdout",
     "output_type": "stream",
     "text": [
      "[[0.88785959 0.89871088]\n",
      " [0.89622427 0.90595212]\n",
      " [0.8116     0.8284    ]]\n",
      "rec time now 1 dataset now: Syn2\n"
     ]
    },
    {
     "name": "stderr",
     "output_type": "stream",
     "text": [
      "TPR mean: 100.0%  std: 0.0%\n",
      "FDR mean: 0.0%  std: 0.0%\n"
     ]
    },
    {
     "name": "stdout",
     "output_type": "stream",
     "text": [
      "[[0.88785959 0.89871088]\n",
      " [0.89622427 0.90595212]\n",
      " [0.8116     0.8284    ]]\n",
      "rec time now 2 dataset now: Syn2\n"
     ]
    },
    {
     "name": "stderr",
     "output_type": "stream",
     "text": [
      "TPR mean: 100.0%  std: 0.0%\n",
      "FDR mean: 0.0%  std: 0.0%\n"
     ]
    },
    {
     "name": "stdout",
     "output_type": "stream",
     "text": [
      "[[0.88785959 0.89871088]\n",
      " [0.89622427 0.90595212]\n",
      " [0.8116     0.8284    ]]\n",
      "rec time now 3 dataset now: Syn2\n"
     ]
    },
    {
     "name": "stderr",
     "output_type": "stream",
     "text": [
      "TPR mean: 100.0%  std: 0.0%\n",
      "FDR mean: 0.0%  std: 0.0%\n",
      "Epoch:      0, d_loss (Acc)): 0.435, v_loss (Acc): 0.395, g_loss: -0.0852\n"
     ]
    },
    {
     "name": "stdout",
     "output_type": "stream",
     "text": [
      "[[0.88785959 0.89871088]\n",
      " [0.89622427 0.90595212]\n",
      " [0.8116     0.8284    ]]\n",
      "now at training epoch number 2900 hyp-params: lamda 0.1740 prior 0.2100\n",
      "rec time now 0 dataset now: Syn2\n"
     ]
    },
    {
     "name": "stderr",
     "output_type": "stream",
     "text": [
      "TPR mean: 100.0%  std: 0.0%\n",
      "FDR mean: 0.0%  std: 0.0%\n"
     ]
    },
    {
     "name": "stdout",
     "output_type": "stream",
     "text": [
      "[[0.88768899 0.89762403]\n",
      " [0.89695789 0.90539788]\n",
      " [0.8113     0.8281    ]]\n",
      "rec time now 1 dataset now: Syn2\n"
     ]
    },
    {
     "name": "stderr",
     "output_type": "stream",
     "text": [
      "TPR mean: 100.0%  std: 0.0%\n",
      "FDR mean: 0.0%  std: 0.0%\n"
     ]
    },
    {
     "name": "stdout",
     "output_type": "stream",
     "text": [
      "[[0.88768899 0.89762403]\n",
      " [0.89695789 0.90539788]\n",
      " [0.8113     0.8281    ]]\n",
      "rec time now 2 dataset now: Syn2\n"
     ]
    },
    {
     "name": "stderr",
     "output_type": "stream",
     "text": [
      "TPR mean: 100.0%  std: 0.0%\n",
      "FDR mean: 0.0%  std: 0.0%\n"
     ]
    },
    {
     "name": "stdout",
     "output_type": "stream",
     "text": [
      "[[0.88768899 0.89762403]\n",
      " [0.89695789 0.90539788]\n",
      " [0.8113     0.8281    ]]\n",
      "rec time now 3 dataset now: Syn2\n"
     ]
    },
    {
     "name": "stderr",
     "output_type": "stream",
     "text": [
      "TPR mean: 100.0%  std: 0.0%\n",
      "FDR mean: 0.0%  std: 0.0%\n",
      "Epoch:      0, d_loss (Acc)): 0.372, v_loss (Acc): 0.330, g_loss: -0.0984\n"
     ]
    },
    {
     "name": "stdout",
     "output_type": "stream",
     "text": [
      "[[0.88768899 0.89762403]\n",
      " [0.89695789 0.90539788]\n",
      " [0.8113     0.8281    ]]\n",
      "now at training epoch number 3000 hyp-params: lamda 0.1800 prior 0.2000\n",
      "rec time now 0 dataset now: Syn2\n"
     ]
    },
    {
     "name": "stderr",
     "output_type": "stream",
     "text": [
      "TPR mean: 100.0%  std: 0.0%\n",
      "FDR mean: 0.0%  std: 0.0%\n"
     ]
    },
    {
     "name": "stdout",
     "output_type": "stream",
     "text": [
      "[[0.88710566 0.89875579]\n",
      " [0.89616044 0.90592621]\n",
      " [0.8104     0.8255    ]]\n",
      "rec time now 1 dataset now: Syn2\n"
     ]
    },
    {
     "name": "stderr",
     "output_type": "stream",
     "text": [
      "TPR mean: 100.0%  std: 0.0%\n",
      "FDR mean: 0.0%  std: 0.0%\n"
     ]
    },
    {
     "name": "stdout",
     "output_type": "stream",
     "text": [
      "[[0.88710566 0.89875579]\n",
      " [0.89616044 0.90592621]\n",
      " [0.8104     0.8255    ]]\n",
      "rec time now 2 dataset now: Syn2\n"
     ]
    },
    {
     "name": "stderr",
     "output_type": "stream",
     "text": [
      "TPR mean: 100.0%  std: 0.0%\n",
      "FDR mean: 0.0%  std: 0.0%\n"
     ]
    },
    {
     "name": "stdout",
     "output_type": "stream",
     "text": [
      "[[0.88710566 0.89875579]\n",
      " [0.89616044 0.90592621]\n",
      " [0.8104     0.8255    ]]\n",
      "rec time now 3 dataset now: Syn2\n"
     ]
    },
    {
     "name": "stderr",
     "output_type": "stream",
     "text": [
      "TPR mean: 100.0%  std: 0.0%\n",
      "FDR mean: 0.0%  std: 0.0%\n",
      "Epoch:      0, d_loss (Acc)): 0.398, v_loss (Acc): 0.351, g_loss: -0.1144\n"
     ]
    },
    {
     "name": "stdout",
     "output_type": "stream",
     "text": [
      "[[0.88710566 0.89875579]\n",
      " [0.89616044 0.90592621]\n",
      " [0.8104     0.8255    ]]\n",
      "now at training epoch number 3100 hyp-params: lamda 0.1860 prior 0.1900\n",
      "rec time now 0 dataset now: Syn2\n"
     ]
    },
    {
     "name": "stderr",
     "output_type": "stream",
     "text": [
      "TPR mean: 100.0%  std: 0.0%\n",
      "FDR mean: 0.0%  std: 0.0%\n"
     ]
    },
    {
     "name": "stdout",
     "output_type": "stream",
     "text": [
      "[[0.88794373 0.89795726]\n",
      " [0.89674038 0.90570315]\n",
      " [0.8145     0.8272    ]]\n",
      "rec time now 1 dataset now: Syn2\n"
     ]
    },
    {
     "name": "stderr",
     "output_type": "stream",
     "text": [
      "TPR mean: 100.0%  std: 0.0%\n",
      "FDR mean: 0.0%  std: 0.0%\n"
     ]
    },
    {
     "name": "stdout",
     "output_type": "stream",
     "text": [
      "[[0.88794373 0.89795726]\n",
      " [0.89674038 0.90570315]\n",
      " [0.8145     0.8272    ]]\n",
      "rec time now 2 dataset now: Syn2\n"
     ]
    },
    {
     "name": "stderr",
     "output_type": "stream",
     "text": [
      "TPR mean: 100.0%  std: 0.0%\n",
      "FDR mean: 0.0%  std: 0.0%\n"
     ]
    },
    {
     "name": "stdout",
     "output_type": "stream",
     "text": [
      "[[0.88794373 0.89795726]\n",
      " [0.89674038 0.90570315]\n",
      " [0.8145     0.8272    ]]\n",
      "rec time now 3 dataset now: Syn2\n"
     ]
    },
    {
     "name": "stderr",
     "output_type": "stream",
     "text": [
      "TPR mean: 100.0%  std: 0.0%\n",
      "FDR mean: 0.0%  std: 0.0%\n",
      "Epoch:      0, d_loss (Acc)): 0.389, v_loss (Acc): 0.343, g_loss: -0.1135\n"
     ]
    },
    {
     "name": "stdout",
     "output_type": "stream",
     "text": [
      "[[0.88794373 0.89795726]\n",
      " [0.89674038 0.90570315]\n",
      " [0.8145     0.8272    ]]\n",
      "now at training epoch number 3200 hyp-params: lamda 0.1920 prior 0.1800\n",
      "rec time now 0 dataset now: Syn2\n"
     ]
    },
    {
     "name": "stderr",
     "output_type": "stream",
     "text": [
      "TPR mean: 100.0%  std: 0.0%\n",
      "FDR mean: 0.0%  std: 0.0%\n"
     ]
    },
    {
     "name": "stdout",
     "output_type": "stream",
     "text": [
      "[[0.88847355 0.89798077]\n",
      " [0.89774839 0.905974  ]\n",
      " [0.8142     0.8276    ]]\n",
      "rec time now 1 dataset now: Syn2\n"
     ]
    },
    {
     "name": "stderr",
     "output_type": "stream",
     "text": [
      "TPR mean: 100.0%  std: 0.0%\n",
      "FDR mean: 0.0%  std: 0.0%\n"
     ]
    },
    {
     "name": "stdout",
     "output_type": "stream",
     "text": [
      "[[0.88847355 0.89798077]\n",
      " [0.89774839 0.905974  ]\n",
      " [0.8142     0.8276    ]]\n",
      "rec time now 2 dataset now: Syn2\n"
     ]
    },
    {
     "name": "stderr",
     "output_type": "stream",
     "text": [
      "TPR mean: 100.0%  std: 0.0%\n",
      "FDR mean: 0.0%  std: 0.0%\n"
     ]
    },
    {
     "name": "stdout",
     "output_type": "stream",
     "text": [
      "[[0.88847355 0.89798077]\n",
      " [0.89774839 0.905974  ]\n",
      " [0.8142     0.8276    ]]\n",
      "rec time now 3 dataset now: Syn2\n"
     ]
    },
    {
     "name": "stderr",
     "output_type": "stream",
     "text": [
      "TPR mean: 100.0%  std: 0.0%\n",
      "FDR mean: 0.0%  std: 0.0%\n",
      "Epoch:      0, d_loss (Acc)): 0.406, v_loss (Acc): 0.353, g_loss: -0.1085\n"
     ]
    },
    {
     "name": "stdout",
     "output_type": "stream",
     "text": [
      "[[0.88847355 0.89798077]\n",
      " [0.89774839 0.905974  ]\n",
      " [0.8142     0.8276    ]]\n",
      "now at training epoch number 3300 hyp-params: lamda 0.1980 prior 0.1700\n",
      "rec time now 0 dataset now: Syn2\n"
     ]
    },
    {
     "name": "stderr",
     "output_type": "stream",
     "text": [
      "TPR mean: 100.0%  std: 0.0%\n",
      "FDR mean: 0.0%  std: 0.0%\n"
     ]
    },
    {
     "name": "stdout",
     "output_type": "stream",
     "text": [
      "[[0.88818983 0.897848  ]\n",
      " [0.89679227 0.90575128]\n",
      " [0.8114     0.8245    ]]\n",
      "rec time now 1 dataset now: Syn2\n"
     ]
    },
    {
     "name": "stderr",
     "output_type": "stream",
     "text": [
      "TPR mean: 100.0%  std: 0.0%\n",
      "FDR mean: 0.0%  std: 0.0%\n"
     ]
    },
    {
     "name": "stdout",
     "output_type": "stream",
     "text": [
      "[[0.88818983 0.897848  ]\n",
      " [0.89679227 0.90575128]\n",
      " [0.8114     0.8245    ]]\n",
      "rec time now 2 dataset now: Syn2\n"
     ]
    },
    {
     "name": "stderr",
     "output_type": "stream",
     "text": [
      "TPR mean: 100.0%  std: 0.0%\n",
      "FDR mean: 0.0%  std: 0.0%\n"
     ]
    },
    {
     "name": "stdout",
     "output_type": "stream",
     "text": [
      "[[0.88818983 0.897848  ]\n",
      " [0.89679227 0.90575128]\n",
      " [0.8114     0.8245    ]]\n",
      "rec time now 3 dataset now: Syn2\n"
     ]
    },
    {
     "name": "stderr",
     "output_type": "stream",
     "text": [
      "TPR mean: 100.0%  std: 0.0%\n",
      "FDR mean: 0.0%  std: 0.0%\n",
      "Epoch:      0, d_loss (Acc)): 0.399, v_loss (Acc): 0.351, g_loss: -0.0792\n"
     ]
    },
    {
     "name": "stdout",
     "output_type": "stream",
     "text": [
      "[[0.88818983 0.897848  ]\n",
      " [0.89679227 0.90575128]\n",
      " [0.8114     0.8245    ]]\n",
      "now at training epoch number 3400 hyp-params: lamda 0.2040 prior 0.1600\n",
      "rec time now 0 dataset now: Syn2\n"
     ]
    },
    {
     "name": "stderr",
     "output_type": "stream",
     "text": [
      "TPR mean: 100.0%  std: 0.0%\n",
      "FDR mean: 0.0%  std: 0.0%\n"
     ]
    },
    {
     "name": "stdout",
     "output_type": "stream",
     "text": [
      "[[0.88780066 0.89795222]\n",
      " [0.89606417 0.90573701]\n",
      " [0.8127     0.8269    ]]\n",
      "rec time now 1 dataset now: Syn2\n"
     ]
    },
    {
     "name": "stderr",
     "output_type": "stream",
     "text": [
      "TPR mean: 100.0%  std: 0.0%\n",
      "FDR mean: 0.0%  std: 0.0%\n"
     ]
    },
    {
     "name": "stdout",
     "output_type": "stream",
     "text": [
      "[[0.88780066 0.89795222]\n",
      " [0.89606417 0.90573701]\n",
      " [0.8127     0.8269    ]]\n",
      "rec time now 2 dataset now: Syn2\n"
     ]
    },
    {
     "name": "stderr",
     "output_type": "stream",
     "text": [
      "TPR mean: 100.0%  std: 0.0%\n",
      "FDR mean: 0.0%  std: 0.0%\n"
     ]
    },
    {
     "name": "stdout",
     "output_type": "stream",
     "text": [
      "[[0.88780066 0.89795222]\n",
      " [0.89606417 0.90573701]\n",
      " [0.8127     0.8269    ]]\n",
      "rec time now 3 dataset now: Syn2\n"
     ]
    },
    {
     "name": "stderr",
     "output_type": "stream",
     "text": [
      "TPR mean: 100.0%  std: 0.0%\n",
      "FDR mean: 0.0%  std: 0.0%\n",
      "Epoch:      0, d_loss (Acc)): 0.378, v_loss (Acc): 0.337, g_loss: -0.0715\n"
     ]
    },
    {
     "name": "stdout",
     "output_type": "stream",
     "text": [
      "[[0.88780066 0.89795222]\n",
      " [0.89606417 0.90573701]\n",
      " [0.8127     0.8269    ]]\n",
      "now at training epoch number 3500 hyp-params: lamda 0.2100 prior 0.1500\n",
      "rec time now 0 dataset now: Syn2\n"
     ]
    },
    {
     "name": "stderr",
     "output_type": "stream",
     "text": [
      "TPR mean: 100.0%  std: 0.0%\n",
      "FDR mean: 0.0%  std: 0.0%\n"
     ]
    },
    {
     "name": "stdout",
     "output_type": "stream",
     "text": [
      "[[0.88672018 0.89778191]\n",
      " [0.89536918 0.90453787]\n",
      " [0.8116     0.8248    ]]\n",
      "rec time now 1 dataset now: Syn2\n"
     ]
    },
    {
     "name": "stderr",
     "output_type": "stream",
     "text": [
      "TPR mean: 100.0%  std: 0.0%\n",
      "FDR mean: 0.0%  std: 0.0%\n"
     ]
    },
    {
     "name": "stdout",
     "output_type": "stream",
     "text": [
      "[[0.88672018 0.89778191]\n",
      " [0.89536918 0.90453787]\n",
      " [0.8116     0.8248    ]]\n",
      "rec time now 2 dataset now: Syn2\n"
     ]
    },
    {
     "name": "stderr",
     "output_type": "stream",
     "text": [
      "TPR mean: 100.0%  std: 0.0%\n",
      "FDR mean: 0.0%  std: 0.0%\n"
     ]
    },
    {
     "name": "stdout",
     "output_type": "stream",
     "text": [
      "[[0.88672018 0.89778191]\n",
      " [0.89536918 0.90453787]\n",
      " [0.8116     0.8248    ]]\n",
      "rec time now 3 dataset now: Syn2\n"
     ]
    },
    {
     "name": "stderr",
     "output_type": "stream",
     "text": [
      "TPR mean: 100.0%  std: 0.0%\n",
      "FDR mean: 0.0%  std: 0.0%\n",
      "Epoch:      0, d_loss (Acc)): 0.396, v_loss (Acc): 0.366, g_loss: -0.0132\n"
     ]
    },
    {
     "name": "stdout",
     "output_type": "stream",
     "text": [
      "[[0.88672018 0.89778191]\n",
      " [0.89536918 0.90453787]\n",
      " [0.8116     0.8248    ]]\n",
      "now at training epoch number 3600 hyp-params: lamda 0.2160 prior 0.1400\n",
      "rec time now 0 dataset now: Syn2\n"
     ]
    },
    {
     "name": "stderr",
     "output_type": "stream",
     "text": [
      "TPR mean: 100.0%  std: 0.0%\n",
      "FDR mean: 0.0%  std: 0.0%\n"
     ]
    },
    {
     "name": "stdout",
     "output_type": "stream",
     "text": [
      "[[0.8880956  0.8966874 ]\n",
      " [0.89752958 0.90430289]\n",
      " [0.8131     0.8243    ]]\n",
      "rec time now 1 dataset now: Syn2\n"
     ]
    },
    {
     "name": "stderr",
     "output_type": "stream",
     "text": [
      "TPR mean: 100.0%  std: 0.0%\n",
      "FDR mean: 0.0%  std: 0.0%\n"
     ]
    },
    {
     "name": "stdout",
     "output_type": "stream",
     "text": [
      "[[0.8880956  0.8966874 ]\n",
      " [0.89752958 0.90430289]\n",
      " [0.8131     0.8243    ]]\n",
      "rec time now 2 dataset now: Syn2\n"
     ]
    },
    {
     "name": "stderr",
     "output_type": "stream",
     "text": [
      "TPR mean: 100.0%  std: 0.0%\n",
      "FDR mean: 0.0%  std: 0.0%\n"
     ]
    },
    {
     "name": "stdout",
     "output_type": "stream",
     "text": [
      "[[0.8880956  0.8966874 ]\n",
      " [0.89752958 0.90430289]\n",
      " [0.8131     0.8243    ]]\n",
      "rec time now 3 dataset now: Syn2\n"
     ]
    },
    {
     "name": "stderr",
     "output_type": "stream",
     "text": [
      "TPR mean: 100.0%  std: 0.0%\n",
      "FDR mean: 0.0%  std: 0.0%\n",
      "Epoch:      0, d_loss (Acc)): 0.440, v_loss (Acc): 0.404, g_loss: -0.0439\n"
     ]
    },
    {
     "name": "stdout",
     "output_type": "stream",
     "text": [
      "[[0.8880956  0.8966874 ]\n",
      " [0.89752958 0.90430289]\n",
      " [0.8131     0.8243    ]]\n",
      "now at training epoch number 3700 hyp-params: lamda 0.2220 prior 0.1300\n",
      "rec time now 0 dataset now: Syn2\n"
     ]
    },
    {
     "name": "stderr",
     "output_type": "stream",
     "text": [
      "TPR mean: 100.0%  std: 0.0%\n",
      "FDR mean: 0.0%  std: 0.0%\n"
     ]
    },
    {
     "name": "stdout",
     "output_type": "stream",
     "text": [
      "[[0.88551098 0.89630657]\n",
      " [0.89470661 0.90427322]\n",
      " [0.8151     0.8244    ]]\n",
      "rec time now 1 dataset now: Syn2\n"
     ]
    },
    {
     "name": "stderr",
     "output_type": "stream",
     "text": [
      "TPR mean: 100.0%  std: 0.0%\n",
      "FDR mean: 0.0%  std: 0.0%\n"
     ]
    },
    {
     "name": "stdout",
     "output_type": "stream",
     "text": [
      "[[0.88551098 0.89630657]\n",
      " [0.89470661 0.90427322]\n",
      " [0.8151     0.8244    ]]\n",
      "rec time now 2 dataset now: Syn2\n"
     ]
    },
    {
     "name": "stderr",
     "output_type": "stream",
     "text": [
      "TPR mean: 100.0%  std: 0.0%\n",
      "FDR mean: 0.0%  std: 0.0%\n"
     ]
    },
    {
     "name": "stdout",
     "output_type": "stream",
     "text": [
      "[[0.88551098 0.89630657]\n",
      " [0.89470661 0.90427322]\n",
      " [0.8151     0.8244    ]]\n",
      "rec time now 3 dataset now: Syn2\n"
     ]
    },
    {
     "name": "stderr",
     "output_type": "stream",
     "text": [
      "TPR mean: 100.0%  std: 0.0%\n",
      "FDR mean: 0.0%  std: 0.0%\n",
      "Epoch:      0, d_loss (Acc)): 0.388, v_loss (Acc): 0.342, g_loss: -0.0407\n"
     ]
    },
    {
     "name": "stdout",
     "output_type": "stream",
     "text": [
      "[[0.88551098 0.89630657]\n",
      " [0.89470661 0.90427322]\n",
      " [0.8151     0.8244    ]]\n",
      "now at training epoch number 3800 hyp-params: lamda 0.2280 prior 0.1200\n",
      "rec time now 0 dataset now: Syn2\n"
     ]
    },
    {
     "name": "stderr",
     "output_type": "stream",
     "text": [
      "TPR mean: 100.0%  std: 0.0%\n",
      "FDR mean: 0.0%  std: 0.0%\n"
     ]
    },
    {
     "name": "stdout",
     "output_type": "stream",
     "text": [
      "[[0.88550018 0.89804796]\n",
      " [0.89421181 0.90546367]\n",
      " [0.8098     0.8256    ]]\n",
      "rec time now 1 dataset now: Syn2\n"
     ]
    },
    {
     "name": "stderr",
     "output_type": "stream",
     "text": [
      "TPR mean: 100.0%  std: 0.0%\n",
      "FDR mean: 0.0%  std: 0.0%\n"
     ]
    },
    {
     "name": "stdout",
     "output_type": "stream",
     "text": [
      "[[0.88550018 0.89804796]\n",
      " [0.89421181 0.90546367]\n",
      " [0.8098     0.8256    ]]\n",
      "rec time now 2 dataset now: Syn2\n"
     ]
    },
    {
     "name": "stderr",
     "output_type": "stream",
     "text": [
      "TPR mean: 100.0%  std: 0.0%\n",
      "FDR mean: 0.0%  std: 0.0%\n"
     ]
    },
    {
     "name": "stdout",
     "output_type": "stream",
     "text": [
      "[[0.88550018 0.89804796]\n",
      " [0.89421181 0.90546367]\n",
      " [0.8098     0.8256    ]]\n",
      "rec time now 3 dataset now: Syn2\n"
     ]
    },
    {
     "name": "stderr",
     "output_type": "stream",
     "text": [
      "TPR mean: 100.0%  std: 0.0%\n",
      "FDR mean: 0.0%  std: 0.0%\n",
      "Epoch:      0, d_loss (Acc)): 0.374, v_loss (Acc): 0.333, g_loss: -0.0330\n"
     ]
    },
    {
     "name": "stdout",
     "output_type": "stream",
     "text": [
      "[[0.88550018 0.89804796]\n",
      " [0.89421181 0.90546367]\n",
      " [0.8098     0.8256    ]]\n",
      "now at training epoch number 3900 hyp-params: lamda 0.2340 prior 0.1100\n",
      "rec time now 0 dataset now: Syn2\n"
     ]
    },
    {
     "name": "stderr",
     "output_type": "stream",
     "text": [
      "TPR mean: 100.0%  std: 0.0%\n",
      "FDR mean: 0.0%  std: 0.0%\n"
     ]
    },
    {
     "name": "stdout",
     "output_type": "stream",
     "text": [
      "[[0.88648247 0.89841219]\n",
      " [0.89592124 0.90576226]\n",
      " [0.8091     0.8267    ]]\n",
      "rec time now 1 dataset now: Syn2\n"
     ]
    },
    {
     "name": "stderr",
     "output_type": "stream",
     "text": [
      "TPR mean: 100.0%  std: 0.0%\n",
      "FDR mean: 0.0%  std: 0.0%\n"
     ]
    },
    {
     "name": "stdout",
     "output_type": "stream",
     "text": [
      "[[0.88648247 0.89841219]\n",
      " [0.89592124 0.90576226]\n",
      " [0.8091     0.8267    ]]\n",
      "rec time now 2 dataset now: Syn2\n"
     ]
    },
    {
     "name": "stderr",
     "output_type": "stream",
     "text": [
      "TPR mean: 100.0%  std: 0.0%\n",
      "FDR mean: 0.0%  std: 0.0%\n"
     ]
    },
    {
     "name": "stdout",
     "output_type": "stream",
     "text": [
      "[[0.88648247 0.89841219]\n",
      " [0.89592124 0.90576226]\n",
      " [0.8091     0.8267    ]]\n",
      "rec time now 3 dataset now: Syn2\n"
     ]
    },
    {
     "name": "stderr",
     "output_type": "stream",
     "text": [
      "TPR mean: 100.0%  std: 0.0%\n",
      "FDR mean: 0.0%  std: 0.0%\n",
      "Epoch:      0, d_loss (Acc)): 0.404, v_loss (Acc): 0.349, g_loss: -0.0847\n"
     ]
    },
    {
     "name": "stdout",
     "output_type": "stream",
     "text": [
      "[[0.88648247 0.89841219]\n",
      " [0.89592124 0.90576226]\n",
      " [0.8091     0.8267    ]]\n",
      "now at training epoch number 4000 hyp-params: lamda 0.2400 prior 0.1000\n",
      "rec time now 0 dataset now: Syn2\n"
     ]
    },
    {
     "name": "stderr",
     "output_type": "stream",
     "text": [
      "TPR mean: 100.0%  std: 0.0%\n",
      "FDR mean: 0.0%  std: 0.0%\n"
     ]
    },
    {
     "name": "stdout",
     "output_type": "stream",
     "text": [
      "[[0.88687714 0.8984821 ]\n",
      " [0.89623382 0.9050416 ]\n",
      " [0.8103     0.8249    ]]\n",
      "rec time now 1 dataset now: Syn2\n"
     ]
    },
    {
     "name": "stderr",
     "output_type": "stream",
     "text": [
      "TPR mean: 100.0%  std: 0.0%\n",
      "FDR mean: 0.0%  std: 0.0%\n"
     ]
    },
    {
     "name": "stdout",
     "output_type": "stream",
     "text": [
      "[[0.88687714 0.8984821 ]\n",
      " [0.89623382 0.9050416 ]\n",
      " [0.8103     0.8249    ]]\n",
      "rec time now 2 dataset now: Syn2\n"
     ]
    },
    {
     "name": "stderr",
     "output_type": "stream",
     "text": [
      "TPR mean: 100.0%  std: 0.0%\n",
      "FDR mean: 0.0%  std: 0.0%\n"
     ]
    },
    {
     "name": "stdout",
     "output_type": "stream",
     "text": [
      "[[0.88687714 0.8984821 ]\n",
      " [0.89623382 0.9050416 ]\n",
      " [0.8103     0.8249    ]]\n",
      "rec time now 3 dataset now: Syn2\n"
     ]
    },
    {
     "name": "stderr",
     "output_type": "stream",
     "text": [
      "TPR mean: 100.0%  std: 0.0%\n",
      "FDR mean: 0.0%  std: 0.0%\n",
      "Epoch:      0, d_loss (Acc)): 0.443, v_loss (Acc): 0.387, g_loss: -0.0676\n"
     ]
    },
    {
     "name": "stdout",
     "output_type": "stream",
     "text": [
      "[[0.88687714 0.8984821 ]\n",
      " [0.89623382 0.9050416 ]\n",
      " [0.8103     0.8249    ]]\n",
      "now at training epoch number 4100 hyp-params: lamda 0.2460 prior 0.0900\n",
      "rec time now 0 dataset now: Syn2\n"
     ]
    },
    {
     "name": "stderr",
     "output_type": "stream",
     "text": [
      "TPR mean: 100.0%  std: 0.0%\n",
      "FDR mean: 0.0%  std: 0.0%\n"
     ]
    },
    {
     "name": "stdout",
     "output_type": "stream",
     "text": [
      "[[0.88564346 0.89659613]\n",
      " [0.89488527 0.90447327]\n",
      " [0.8093     0.8228    ]]\n",
      "rec time now 1 dataset now: Syn2\n"
     ]
    },
    {
     "name": "stderr",
     "output_type": "stream",
     "text": [
      "TPR mean: 100.0%  std: 0.0%\n",
      "FDR mean: 0.0%  std: 0.0%\n"
     ]
    },
    {
     "name": "stdout",
     "output_type": "stream",
     "text": [
      "[[0.88564346 0.89659613]\n",
      " [0.89488527 0.90447327]\n",
      " [0.8093     0.8228    ]]\n",
      "rec time now 2 dataset now: Syn2\n"
     ]
    },
    {
     "name": "stderr",
     "output_type": "stream",
     "text": [
      "TPR mean: 100.0%  std: 0.0%\n",
      "FDR mean: 0.0%  std: 0.0%\n"
     ]
    },
    {
     "name": "stdout",
     "output_type": "stream",
     "text": [
      "[[0.88564346 0.89659613]\n",
      " [0.89488527 0.90447327]\n",
      " [0.8093     0.8228    ]]\n",
      "rec time now 3 dataset now: Syn2\n"
     ]
    },
    {
     "name": "stderr",
     "output_type": "stream",
     "text": [
      "TPR mean: 100.0%  std: 0.0%\n",
      "FDR mean: 0.0%  std: 0.0%\n",
      "Epoch:      0, d_loss (Acc)): 0.423, v_loss (Acc): 0.375, g_loss: -0.0064\n"
     ]
    },
    {
     "name": "stdout",
     "output_type": "stream",
     "text": [
      "[[0.88564346 0.89659613]\n",
      " [0.89488527 0.90447327]\n",
      " [0.8093     0.8228    ]]\n",
      "now at training epoch number 4200 hyp-params: lamda 0.2520 prior 0.0800\n",
      "rec time now 0 dataset now: Syn2\n"
     ]
    },
    {
     "name": "stderr",
     "output_type": "stream",
     "text": [
      "TPR mean: 100.0%  std: 0.0%\n",
      "FDR mean: 0.0%  std: 0.0%\n"
     ]
    },
    {
     "name": "stdout",
     "output_type": "stream",
     "text": [
      "[[0.8860236  0.89903914]\n",
      " [0.89538489 0.90538022]\n",
      " [0.8098     0.8264    ]]\n",
      "rec time now 1 dataset now: Syn2\n"
     ]
    },
    {
     "name": "stderr",
     "output_type": "stream",
     "text": [
      "TPR mean: 100.0%  std: 0.0%\n",
      "FDR mean: 0.0%  std: 0.0%\n"
     ]
    },
    {
     "name": "stdout",
     "output_type": "stream",
     "text": [
      "[[0.8860236  0.89903914]\n",
      " [0.89538489 0.90538022]\n",
      " [0.8098     0.8264    ]]\n",
      "rec time now 2 dataset now: Syn2\n"
     ]
    },
    {
     "name": "stderr",
     "output_type": "stream",
     "text": [
      "TPR mean: 100.0%  std: 0.0%\n",
      "FDR mean: 0.0%  std: 0.0%\n"
     ]
    },
    {
     "name": "stdout",
     "output_type": "stream",
     "text": [
      "[[0.8860236  0.89903914]\n",
      " [0.89538489 0.90538022]\n",
      " [0.8098     0.8264    ]]\n",
      "rec time now 3 dataset now: Syn2\n"
     ]
    },
    {
     "name": "stderr",
     "output_type": "stream",
     "text": [
      "TPR mean: 100.0%  std: 0.0%\n",
      "FDR mean: 0.0%  std: 0.0%\n",
      "Epoch:      0, d_loss (Acc)): 0.409, v_loss (Acc): 0.355, g_loss: -0.0054\n"
     ]
    },
    {
     "name": "stdout",
     "output_type": "stream",
     "text": [
      "[[0.8860236  0.89903914]\n",
      " [0.89538489 0.90538022]\n",
      " [0.8098     0.8264    ]]\n",
      "now at training epoch number 4300 hyp-params: lamda 0.2580 prior 0.0700\n",
      "rec time now 0 dataset now: Syn2\n"
     ]
    },
    {
     "name": "stderr",
     "output_type": "stream",
     "text": [
      "TPR mean: 100.0%  std: 0.0%\n",
      "FDR mean: 0.0%  std: 0.0%\n"
     ]
    },
    {
     "name": "stdout",
     "output_type": "stream",
     "text": [
      "[[0.8860968  0.8988648 ]\n",
      " [0.89526745 0.90669877]\n",
      " [0.8096     0.827     ]]\n",
      "rec time now 1 dataset now: Syn2\n"
     ]
    },
    {
     "name": "stderr",
     "output_type": "stream",
     "text": [
      "TPR mean: 100.0%  std: 0.0%\n",
      "FDR mean: 0.0%  std: 0.0%\n"
     ]
    },
    {
     "name": "stdout",
     "output_type": "stream",
     "text": [
      "[[0.8860968  0.8988648 ]\n",
      " [0.89526745 0.90669877]\n",
      " [0.8096     0.827     ]]\n",
      "rec time now 2 dataset now: Syn2\n"
     ]
    },
    {
     "name": "stderr",
     "output_type": "stream",
     "text": [
      "TPR mean: 100.0%  std: 0.0%\n",
      "FDR mean: 0.0%  std: 0.0%\n"
     ]
    },
    {
     "name": "stdout",
     "output_type": "stream",
     "text": [
      "[[0.8860968  0.8988648 ]\n",
      " [0.89526745 0.90669877]\n",
      " [0.8096     0.827     ]]\n",
      "rec time now 3 dataset now: Syn2\n"
     ]
    },
    {
     "name": "stderr",
     "output_type": "stream",
     "text": [
      "TPR mean: 100.0%  std: 0.0%\n",
      "FDR mean: 0.0%  std: 0.0%\n",
      "Epoch:      0, d_loss (Acc)): 0.381, v_loss (Acc): 0.328, g_loss: -0.0087\n"
     ]
    },
    {
     "name": "stdout",
     "output_type": "stream",
     "text": [
      "[[0.8860968  0.8988648 ]\n",
      " [0.89526745 0.90669877]\n",
      " [0.8096     0.827     ]]\n",
      "now at training epoch number 4400 hyp-params: lamda 0.2640 prior 0.0600\n",
      "rec time now 0 dataset now: Syn2\n"
     ]
    },
    {
     "name": "stderr",
     "output_type": "stream",
     "text": [
      "TPR mean: 100.0%  std: 0.0%\n",
      "FDR mean: 0.0%  std: 0.0%\n"
     ]
    },
    {
     "name": "stdout",
     "output_type": "stream",
     "text": [
      "[[0.88555369 0.89934609]\n",
      " [0.89460978 0.90637907]\n",
      " [0.8099     0.8292    ]]\n",
      "rec time now 1 dataset now: Syn2\n"
     ]
    },
    {
     "name": "stderr",
     "output_type": "stream",
     "text": [
      "TPR mean: 100.0%  std: 0.0%\n",
      "FDR mean: 0.0%  std: 0.0%\n"
     ]
    },
    {
     "name": "stdout",
     "output_type": "stream",
     "text": [
      "[[0.88555369 0.89934609]\n",
      " [0.89460978 0.90637907]\n",
      " [0.8099     0.8292    ]]\n",
      "rec time now 2 dataset now: Syn2\n"
     ]
    },
    {
     "name": "stderr",
     "output_type": "stream",
     "text": [
      "TPR mean: 100.0%  std: 0.0%\n",
      "FDR mean: 0.0%  std: 0.0%\n"
     ]
    },
    {
     "name": "stdout",
     "output_type": "stream",
     "text": [
      "[[0.88555369 0.89934609]\n",
      " [0.89460978 0.90637907]\n",
      " [0.8099     0.8292    ]]\n",
      "rec time now 3 dataset now: Syn2\n"
     ]
    },
    {
     "name": "stderr",
     "output_type": "stream",
     "text": [
      "TPR mean: 100.0%  std: 0.0%\n",
      "FDR mean: 0.0%  std: 0.0%\n",
      "Epoch:      0, d_loss (Acc)): 0.374, v_loss (Acc): 0.325, g_loss: +0.0055\n"
     ]
    },
    {
     "name": "stdout",
     "output_type": "stream",
     "text": [
      "[[0.88555369 0.89934609]\n",
      " [0.89460978 0.90637907]\n",
      " [0.8099     0.8292    ]]\n",
      "now at training epoch number 4500 hyp-params: lamda 0.2700 prior 0.0500\n",
      "rec time now 0 dataset now: Syn2\n"
     ]
    },
    {
     "name": "stderr",
     "output_type": "stream",
     "text": [
      "TPR mean: 100.0%  std: 0.0%\n",
      "FDR mean: 0.0%  std: 0.0%\n"
     ]
    },
    {
     "name": "stdout",
     "output_type": "stream",
     "text": [
      "[[0.88630721 0.89830949]\n",
      " [0.89504249 0.9059634 ]\n",
      " [0.8106     0.827     ]]\n",
      "rec time now 1 dataset now: Syn2\n"
     ]
    },
    {
     "name": "stderr",
     "output_type": "stream",
     "text": [
      "TPR mean: 100.0%  std: 0.0%\n",
      "FDR mean: 0.0%  std: 0.0%\n"
     ]
    },
    {
     "name": "stdout",
     "output_type": "stream",
     "text": [
      "[[0.88630721 0.89830949]\n",
      " [0.89504249 0.9059634 ]\n",
      " [0.8106     0.827     ]]\n",
      "rec time now 2 dataset now: Syn2\n"
     ]
    },
    {
     "name": "stderr",
     "output_type": "stream",
     "text": [
      "TPR mean: 100.0%  std: 0.0%\n",
      "FDR mean: 0.0%  std: 0.0%\n"
     ]
    },
    {
     "name": "stdout",
     "output_type": "stream",
     "text": [
      "[[0.88630721 0.89830949]\n",
      " [0.89504249 0.9059634 ]\n",
      " [0.8106     0.827     ]]\n",
      "rec time now 3 dataset now: Syn2\n"
     ]
    },
    {
     "name": "stderr",
     "output_type": "stream",
     "text": [
      "TPR mean: 100.0%  std: 0.0%\n",
      "FDR mean: 0.0%  std: 0.0%\n",
      "Epoch:      0, d_loss (Acc)): 0.360, v_loss (Acc): 0.312, g_loss: +0.0126\n"
     ]
    },
    {
     "name": "stdout",
     "output_type": "stream",
     "text": [
      "[[0.88630721 0.89830949]\n",
      " [0.89504249 0.9059634 ]\n",
      " [0.8106     0.827     ]]\n",
      "now at training epoch number 4600 hyp-params: lamda 0.2760 prior 0.0400\n",
      "rec time now 0 dataset now: Syn2\n"
     ]
    },
    {
     "name": "stderr",
     "output_type": "stream",
     "text": [
      "TPR mean: 100.0%  std: 0.0%\n",
      "FDR mean: 0.0%  std: 0.0%\n"
     ]
    },
    {
     "name": "stdout",
     "output_type": "stream",
     "text": [
      "[[0.8859978  0.89879117]\n",
      " [0.89503874 0.90537381]\n",
      " [0.8071     0.8256    ]]\n",
      "rec time now 1 dataset now: Syn2\n"
     ]
    },
    {
     "name": "stderr",
     "output_type": "stream",
     "text": [
      "TPR mean: 100.0%  std: 0.0%\n",
      "FDR mean: 0.0%  std: 0.0%\n"
     ]
    },
    {
     "name": "stdout",
     "output_type": "stream",
     "text": [
      "[[0.8859978  0.89879117]\n",
      " [0.89503874 0.90537381]\n",
      " [0.8071     0.8256    ]]\n",
      "rec time now 2 dataset now: Syn2\n"
     ]
    },
    {
     "name": "stderr",
     "output_type": "stream",
     "text": [
      "TPR mean: 100.0%  std: 0.0%\n",
      "FDR mean: 0.0%  std: 0.0%\n"
     ]
    },
    {
     "name": "stdout",
     "output_type": "stream",
     "text": [
      "[[0.8859978  0.89879117]\n",
      " [0.89503874 0.90537381]\n",
      " [0.8071     0.8256    ]]\n",
      "rec time now 3 dataset now: Syn2\n"
     ]
    },
    {
     "name": "stderr",
     "output_type": "stream",
     "text": [
      "TPR mean: 100.0%  std: 0.0%\n",
      "FDR mean: 0.0%  std: 0.0%\n",
      "Epoch:      0, d_loss (Acc)): 0.395, v_loss (Acc): 0.343, g_loss: +0.0357\n"
     ]
    },
    {
     "name": "stdout",
     "output_type": "stream",
     "text": [
      "[[0.8859978  0.89879117]\n",
      " [0.89503874 0.90537381]\n",
      " [0.8071     0.8256    ]]\n",
      "now at training epoch number 4700 hyp-params: lamda 0.2820 prior 0.0300\n",
      "rec time now 0 dataset now: Syn2\n"
     ]
    },
    {
     "name": "stderr",
     "output_type": "stream",
     "text": [
      "TPR mean: 100.0%  std: 0.0%\n",
      "FDR mean: 0.0%  std: 0.0%\n"
     ]
    },
    {
     "name": "stdout",
     "output_type": "stream",
     "text": [
      "[[0.88545976 0.89908834]\n",
      " [0.89423221 0.90600886]\n",
      " [0.811      0.8263    ]]\n",
      "rec time now 1 dataset now: Syn2\n"
     ]
    },
    {
     "name": "stderr",
     "output_type": "stream",
     "text": [
      "TPR mean: 100.0%  std: 0.0%\n",
      "FDR mean: 0.0%  std: 0.0%\n"
     ]
    },
    {
     "name": "stdout",
     "output_type": "stream",
     "text": [
      "[[0.88545976 0.89908834]\n",
      " [0.89423221 0.90600886]\n",
      " [0.811      0.8263    ]]\n",
      "rec time now 2 dataset now: Syn2\n"
     ]
    },
    {
     "name": "stderr",
     "output_type": "stream",
     "text": [
      "TPR mean: 100.0%  std: 0.0%\n",
      "FDR mean: 0.0%  std: 0.0%\n"
     ]
    },
    {
     "name": "stdout",
     "output_type": "stream",
     "text": [
      "[[0.88545976 0.89908834]\n",
      " [0.89423221 0.90600886]\n",
      " [0.811      0.8263    ]]\n",
      "rec time now 3 dataset now: Syn2\n"
     ]
    },
    {
     "name": "stderr",
     "output_type": "stream",
     "text": [
      "TPR mean: 100.0%  std: 0.0%\n",
      "FDR mean: 0.0%  std: 0.0%\n",
      "Epoch:      0, d_loss (Acc)): 0.402, v_loss (Acc): 0.355, g_loss: +0.0419\n"
     ]
    },
    {
     "name": "stdout",
     "output_type": "stream",
     "text": [
      "[[0.88545976 0.89908834]\n",
      " [0.89423221 0.90600886]\n",
      " [0.811      0.8263    ]]\n",
      "now at training epoch number 4800 hyp-params: lamda 0.2880 prior 0.0200\n",
      "rec time now 0 dataset now: Syn2\n"
     ]
    },
    {
     "name": "stderr",
     "output_type": "stream",
     "text": [
      "TPR mean: 100.0%  std: 0.0%\n",
      "FDR mean: 0.0%  std: 0.0%\n"
     ]
    },
    {
     "name": "stdout",
     "output_type": "stream",
     "text": [
      "[[0.88338434 0.8990248 ]\n",
      " [0.89375413 0.90620322]\n",
      " [0.804      0.8274    ]]\n",
      "rec time now 1 dataset now: Syn2\n"
     ]
    },
    {
     "name": "stderr",
     "output_type": "stream",
     "text": [
      "TPR mean: 100.0%  std: 0.0%\n",
      "FDR mean: 0.0%  std: 0.0%\n"
     ]
    },
    {
     "name": "stdout",
     "output_type": "stream",
     "text": [
      "[[0.88338434 0.8990248 ]\n",
      " [0.89375413 0.90620322]\n",
      " [0.804      0.8274    ]]\n",
      "rec time now 2 dataset now: Syn2\n"
     ]
    },
    {
     "name": "stderr",
     "output_type": "stream",
     "text": [
      "TPR mean: 100.0%  std: 0.0%\n",
      "FDR mean: 0.0%  std: 0.0%\n"
     ]
    },
    {
     "name": "stdout",
     "output_type": "stream",
     "text": [
      "[[0.88338434 0.8990248 ]\n",
      " [0.89375413 0.90620322]\n",
      " [0.804      0.8274    ]]\n",
      "rec time now 3 dataset now: Syn2\n"
     ]
    },
    {
     "name": "stderr",
     "output_type": "stream",
     "text": [
      "TPR mean: 100.0%  std: 0.0%\n",
      "FDR mean: 0.0%  std: 0.0%\n",
      "Epoch:      0, d_loss (Acc)): 0.362, v_loss (Acc): 0.314, g_loss: +0.0756\n"
     ]
    },
    {
     "name": "stdout",
     "output_type": "stream",
     "text": [
      "[[0.88338434 0.8990248 ]\n",
      " [0.89375413 0.90620322]\n",
      " [0.804      0.8274    ]]\n",
      "now at training epoch number 4900 hyp-params: lamda 0.2940 prior 0.0100\n",
      "rec time now 0 dataset now: Syn2\n"
     ]
    },
    {
     "name": "stderr",
     "output_type": "stream",
     "text": [
      "TPR mean: 100.0%  std: 0.0%\n",
      "FDR mean: 0.0%  std: 0.0%\n"
     ]
    },
    {
     "name": "stdout",
     "output_type": "stream",
     "text": [
      "[[0.88539113 0.89805653]\n",
      " [0.8955444  0.90554291]\n",
      " [0.8107     0.8279    ]]\n",
      "rec time now 1 dataset now: Syn2\n"
     ]
    },
    {
     "name": "stderr",
     "output_type": "stream",
     "text": [
      "TPR mean: 100.0%  std: 0.0%\n",
      "FDR mean: 0.0%  std: 0.0%\n"
     ]
    },
    {
     "name": "stdout",
     "output_type": "stream",
     "text": [
      "[[0.88539113 0.89805653]\n",
      " [0.8955444  0.90554291]\n",
      " [0.8107     0.8279    ]]\n",
      "rec time now 2 dataset now: Syn2\n"
     ]
    },
    {
     "name": "stderr",
     "output_type": "stream",
     "text": [
      "TPR mean: 100.0%  std: 0.0%\n",
      "FDR mean: 0.0%  std: 0.0%\n"
     ]
    },
    {
     "name": "stdout",
     "output_type": "stream",
     "text": [
      "[[0.88539113 0.89805653]\n",
      " [0.8955444  0.90554291]\n",
      " [0.8107     0.8279    ]]\n",
      "rec time now 3 dataset now: Syn2\n"
     ]
    },
    {
     "name": "stderr",
     "output_type": "stream",
     "text": [
      "TPR mean: 100.0%  std: 0.0%\n",
      "FDR mean: 0.0%  std: 0.0%\n",
      "invase: Syn3 5000 . Y\n",
      "(10000, 11) (10000, 2) (10000, 11) (10000, 2)\n",
      "input shape: 11\n",
      "Epoch:      0, d_loss (Acc)): 0.790, v_loss (Acc): 0.835, g_loss: +0.3305\n"
     ]
    },
    {
     "name": "stdout",
     "output_type": "stream",
     "text": [
      "[[0.88539113 0.89805653]\n",
      " [0.8955444  0.90554291]\n",
      " [0.8107     0.8279    ]]\n",
      "PyTorch Version: elapsed time for Syn2: 11 feature, 10000 sample: [462.5538 459.184 ] sec.\n",
      "now at training epoch number 0 hyp-params: lamda 0.0000 prior 0.5000\n",
      "rec time now 0 dataset now: Syn3\n"
     ]
    },
    {
     "name": "stderr",
     "output_type": "stream",
     "text": [
      "TPR mean: 70.9%  std: 17.1%\n",
      "FDR mean: 51.6%  std: 10.9%\n"
     ]
    },
    {
     "name": "stdout",
     "output_type": "stream",
     "text": [
      "[[0.88800747 0.87804294]\n",
      " [0.89538887 0.88811465]\n",
      " [0.8077     0.794     ]]\n",
      "rec time now 1 dataset now: Syn3\n"
     ]
    },
    {
     "name": "stderr",
     "output_type": "stream",
     "text": [
      "TPR mean: 67.1%  std: 18.0%\n",
      "FDR mean: 48.9%  std: 12.7%\n"
     ]
    },
    {
     "name": "stdout",
     "output_type": "stream",
     "text": [
      "[[0.88800747 0.87654315]\n",
      " [0.89538887 0.88607973]\n",
      " [0.8077     0.7929    ]]\n",
      "rec time now 2 dataset now: Syn3\n"
     ]
    },
    {
     "name": "stderr",
     "output_type": "stream",
     "text": [
      "TPR mean: 66.7%  std: 18.1%\n",
      "FDR mean: 48.3%  std: 13.2%\n"
     ]
    },
    {
     "name": "stdout",
     "output_type": "stream",
     "text": [
      "[[0.88800747 0.87641413]\n",
      " [0.89538887 0.88604745]\n",
      " [0.8077     0.7933    ]]\n",
      "rec time now 3 dataset now: Syn3\n"
     ]
    },
    {
     "name": "stderr",
     "output_type": "stream",
     "text": [
      "TPR mean: 66.6%  std: 18.2%\n",
      "FDR mean: 48.2%  std: 13.2%\n",
      "Epoch:      0, d_loss (Acc)): 0.520, v_loss (Acc): 0.418, g_loss: -0.7839\n"
     ]
    },
    {
     "name": "stdout",
     "output_type": "stream",
     "text": [
      "[[0.88800747 0.87640818]\n",
      " [0.89538887 0.88598275]\n",
      " [0.8077     0.7928    ]]\n",
      "now at training epoch number 100 hyp-params: lamda 0.0060 prior 0.4900\n",
      "rec time now 0 dataset now: Syn3\n"
     ]
    },
    {
     "name": "stderr",
     "output_type": "stream",
     "text": [
      "TPR mean: 79.1%  std: 12.3%\n",
      "FDR mean: 49.2%  std: 9.4%\n"
     ]
    },
    {
     "name": "stdout",
     "output_type": "stream",
     "text": [
      "[[0.89184166 0.8836799 ]\n",
      " [0.8991048  0.892389  ]\n",
      " [0.8088     0.7988    ]]\n",
      "rec time now 1 dataset now: Syn3\n"
     ]
    },
    {
     "name": "stderr",
     "output_type": "stream",
     "text": [
      "TPR mean: 76.5%  std: 12.9%\n",
      "FDR mean: 46.5%  std: 10.7%\n"
     ]
    },
    {
     "name": "stdout",
     "output_type": "stream",
     "text": [
      "[[0.89184166 0.8832225 ]\n",
      " [0.8991048  0.8913279 ]\n",
      " [0.8088     0.7971    ]]\n",
      "rec time now 2 dataset now: Syn3\n"
     ]
    },
    {
     "name": "stderr",
     "output_type": "stream",
     "text": [
      "TPR mean: 76.3%  std: 12.9%\n",
      "FDR mean: 46.1%  std: 10.8%\n"
     ]
    },
    {
     "name": "stdout",
     "output_type": "stream",
     "text": [
      "[[0.89184166 0.88322717]\n",
      " [0.8991048  0.8914459 ]\n",
      " [0.8088     0.797     ]]\n",
      "rec time now 3 dataset now: Syn3\n"
     ]
    },
    {
     "name": "stderr",
     "output_type": "stream",
     "text": [
      "TPR mean: 76.3%  std: 12.9%\n",
      "FDR mean: 46.1%  std: 10.8%\n",
      "Epoch:      0, d_loss (Acc)): 0.478, v_loss (Acc): 0.407, g_loss: -0.5759\n"
     ]
    },
    {
     "name": "stdout",
     "output_type": "stream",
     "text": [
      "[[0.89184166 0.88320256]\n",
      " [0.8991048  0.8913727 ]\n",
      " [0.8088     0.797     ]]\n",
      "now at training epoch number 200 hyp-params: lamda 0.0120 prior 0.4800\n",
      "rec time now 0 dataset now: Syn3\n"
     ]
    },
    {
     "name": "stderr",
     "output_type": "stream",
     "text": [
      "TPR mean: 85.7%  std: 12.8%\n",
      "FDR mean: 46.5%  std: 9.1%\n"
     ]
    },
    {
     "name": "stdout",
     "output_type": "stream",
     "text": [
      "[[0.89546505 0.89038021]\n",
      " [0.90200289 0.89620478]\n",
      " [0.8128     0.8074    ]]\n",
      "rec time now 1 dataset now: Syn3\n"
     ]
    },
    {
     "name": "stderr",
     "output_type": "stream",
     "text": [
      "TPR mean: 83.9%  std: 13.4%\n",
      "FDR mean: 43.2%  std: 10.7%\n"
     ]
    },
    {
     "name": "stdout",
     "output_type": "stream",
     "text": [
      "[[0.89546505 0.89031032]\n",
      " [0.90200289 0.89611244]\n",
      " [0.8128     0.806     ]]\n",
      "rec time now 2 dataset now: Syn3\n"
     ]
    },
    {
     "name": "stderr",
     "output_type": "stream",
     "text": [
      "TPR mean: 83.6%  std: 13.5%\n",
      "FDR mean: 42.7%  std: 10.9%\n"
     ]
    },
    {
     "name": "stdout",
     "output_type": "stream",
     "text": [
      "[[0.89546505 0.89028333]\n",
      " [0.90200289 0.89614845]\n",
      " [0.8128     0.8064    ]]\n",
      "rec time now 3 dataset now: Syn3\n"
     ]
    },
    {
     "name": "stderr",
     "output_type": "stream",
     "text": [
      "TPR mean: 83.6%  std: 13.5%\n",
      "FDR mean: 42.7%  std: 11.0%\n",
      "Epoch:      0, d_loss (Acc)): 0.406, v_loss (Acc): 0.365, g_loss: -0.3202\n"
     ]
    },
    {
     "name": "stdout",
     "output_type": "stream",
     "text": [
      "[[0.89546505 0.89017792]\n",
      " [0.90200289 0.89609231]\n",
      " [0.8128     0.8064    ]]\n",
      "now at training epoch number 300 hyp-params: lamda 0.0180 prior 0.4700\n",
      "rec time now 0 dataset now: Syn3\n"
     ]
    },
    {
     "name": "stderr",
     "output_type": "stream",
     "text": [
      "TPR mean: 94.1%  std: 10.6%\n",
      "FDR mean: 43.0%  std: 9.4%\n"
     ]
    },
    {
     "name": "stdout",
     "output_type": "stream",
     "text": [
      "[[0.8968071  0.8948613 ]\n",
      " [0.90292859 0.90186408]\n",
      " [0.8146     0.8129    ]]\n",
      "rec time now 1 dataset now: Syn3\n"
     ]
    },
    {
     "name": "stderr",
     "output_type": "stream",
     "text": [
      "TPR mean: 93.3%  std: 11.2%\n",
      "FDR mean: 39.4%  std: 11.0%\n"
     ]
    },
    {
     "name": "stdout",
     "output_type": "stream",
     "text": [
      "[[0.8968071  0.89456174]\n",
      " [0.90292859 0.90169716]\n",
      " [0.8146     0.8136    ]]\n",
      "rec time now 2 dataset now: Syn3\n"
     ]
    },
    {
     "name": "stderr",
     "output_type": "stream",
     "text": [
      "TPR mean: 93.2%  std: 11.2%\n",
      "FDR mean: 39.1%  std: 11.2%\n"
     ]
    },
    {
     "name": "stdout",
     "output_type": "stream",
     "text": [
      "[[0.8968071  0.89457998]\n",
      " [0.90292859 0.90165745]\n",
      " [0.8146     0.8133    ]]\n",
      "rec time now 3 dataset now: Syn3\n"
     ]
    },
    {
     "name": "stderr",
     "output_type": "stream",
     "text": [
      "TPR mean: 93.2%  std: 11.2%\n",
      "FDR mean: 39.1%  std: 11.3%\n",
      "Epoch:      0, d_loss (Acc)): 0.426, v_loss (Acc): 0.404, g_loss: -0.1786\n"
     ]
    },
    {
     "name": "stdout",
     "output_type": "stream",
     "text": [
      "[[0.8968071  0.89458725]\n",
      " [0.90292859 0.9016949 ]\n",
      " [0.8146     0.8133    ]]\n",
      "now at training epoch number 400 hyp-params: lamda 0.0240 prior 0.4600\n",
      "rec time now 0 dataset now: Syn3\n"
     ]
    },
    {
     "name": "stderr",
     "output_type": "stream",
     "text": [
      "TPR mean: 99.0%  std: 4.8%\n",
      "FDR mean: 36.0%  std: 10.7%\n"
     ]
    },
    {
     "name": "stdout",
     "output_type": "stream",
     "text": [
      "[[0.89906447 0.89819073]\n",
      " [0.90510308 0.90559111]\n",
      " [0.8174     0.8171    ]]\n",
      "rec time now 1 dataset now: Syn3\n"
     ]
    },
    {
     "name": "stderr",
     "output_type": "stream",
     "text": [
      "TPR mean: 98.9%  std: 5.1%\n",
      "FDR mean: 31.3%  std: 11.8%\n"
     ]
    },
    {
     "name": "stdout",
     "output_type": "stream",
     "text": [
      "[[0.89906447 0.8978808 ]\n",
      " [0.90510308 0.90547682]\n",
      " [0.8174     0.8176    ]]\n",
      "rec time now 2 dataset now: Syn3\n"
     ]
    },
    {
     "name": "stderr",
     "output_type": "stream",
     "text": [
      "TPR mean: 98.9%  std: 5.1%\n",
      "FDR mean: 30.8%  std: 12.0%\n"
     ]
    },
    {
     "name": "stdout",
     "output_type": "stream",
     "text": [
      "[[0.89906447 0.89792969]\n",
      " [0.90510308 0.90558381]\n",
      " [0.8174     0.8177    ]]\n",
      "rec time now 3 dataset now: Syn3\n"
     ]
    },
    {
     "name": "stderr",
     "output_type": "stream",
     "text": [
      "TPR mean: 98.9%  std: 5.1%\n",
      "FDR mean: 30.8%  std: 12.0%\n",
      "Epoch:      0, d_loss (Acc)): 0.431, v_loss (Acc): 0.417, g_loss: -0.1137\n"
     ]
    },
    {
     "name": "stdout",
     "output_type": "stream",
     "text": [
      "[[0.89906447 0.89791881]\n",
      " [0.90510308 0.90558057]\n",
      " [0.8174     0.8177    ]]\n",
      "now at training epoch number 500 hyp-params: lamda 0.0300 prior 0.4500\n",
      "rec time now 0 dataset now: Syn3\n"
     ]
    },
    {
     "name": "stderr",
     "output_type": "stream",
     "text": [
      "TPR mean: 99.9%  std: 1.5%\n",
      "FDR mean: 31.9%  std: 10.7%\n"
     ]
    },
    {
     "name": "stdout",
     "output_type": "stream",
     "text": [
      "[[0.90031434 0.90098985]\n",
      " [0.90567872 0.90725855]\n",
      " [0.8193     0.8218    ]]\n",
      "rec time now 1 dataset now: Syn3\n"
     ]
    },
    {
     "name": "stderr",
     "output_type": "stream",
     "text": [
      "TPR mean: 99.9%  std: 1.6%\n",
      "FDR mean: 26.9%  std: 11.0%\n"
     ]
    },
    {
     "name": "stdout",
     "output_type": "stream",
     "text": [
      "[[0.90031434 0.90050155]\n",
      " [0.90567872 0.90719878]\n",
      " [0.8193     0.8211    ]]\n",
      "rec time now 2 dataset now: Syn3\n"
     ]
    },
    {
     "name": "stderr",
     "output_type": "stream",
     "text": [
      "TPR mean: 99.9%  std: 1.6%\n",
      "FDR mean: 26.5%  std: 11.1%\n"
     ]
    },
    {
     "name": "stdout",
     "output_type": "stream",
     "text": [
      "[[0.90031434 0.90053425]\n",
      " [0.90567872 0.90724949]\n",
      " [0.8193     0.8211    ]]\n",
      "rec time now 3 dataset now: Syn3\n"
     ]
    },
    {
     "name": "stderr",
     "output_type": "stream",
     "text": [
      "TPR mean: 99.9%  std: 1.6%\n",
      "FDR mean: 26.5%  std: 11.2%\n",
      "Epoch:      0, d_loss (Acc)): 0.410, v_loss (Acc): 0.370, g_loss: -0.2999\n"
     ]
    },
    {
     "name": "stdout",
     "output_type": "stream",
     "text": [
      "[[0.90031434 0.9005185 ]\n",
      " [0.90567872 0.90724879]\n",
      " [0.8193     0.8211    ]]\n",
      "now at training epoch number 600 hyp-params: lamda 0.0360 prior 0.4400\n",
      "rec time now 0 dataset now: Syn3\n"
     ]
    },
    {
     "name": "stderr",
     "output_type": "stream",
     "text": [
      "TPR mean: 100.0%  std: 0.7%\n",
      "FDR mean: 25.9%  std: 12.7%\n"
     ]
    },
    {
     "name": "stdout",
     "output_type": "stream",
     "text": [
      "[[0.89956037 0.90102259]\n",
      " [0.90550504 0.90757955]\n",
      " [0.817      0.8196    ]]\n",
      "rec time now 1 dataset now: Syn3\n"
     ]
    },
    {
     "name": "stderr",
     "output_type": "stream",
     "text": [
      "TPR mean: 100.0%  std: 0.9%\n",
      "FDR mean: 19.5%  std: 13.3%\n"
     ]
    },
    {
     "name": "stdout",
     "output_type": "stream",
     "text": [
      "[[0.89956037 0.90091818]\n",
      " [0.90550504 0.90757348]\n",
      " [0.817      0.8184    ]]\n",
      "rec time now 2 dataset now: Syn3\n"
     ]
    },
    {
     "name": "stderr",
     "output_type": "stream",
     "text": [
      "TPR mean: 100.0%  std: 0.9%\n",
      "FDR mean: 19.0%  std: 13.5%\n"
     ]
    },
    {
     "name": "stdout",
     "output_type": "stream",
     "text": [
      "[[0.89956037 0.90080216]\n",
      " [0.90550504 0.90752454]\n",
      " [0.817      0.8179    ]]\n",
      "rec time now 3 dataset now: Syn3\n"
     ]
    },
    {
     "name": "stderr",
     "output_type": "stream",
     "text": [
      "TPR mean: 100.0%  std: 0.9%\n",
      "FDR mean: 19.0%  std: 13.5%\n",
      "Epoch:      0, d_loss (Acc)): 0.410, v_loss (Acc): 0.389, g_loss: -0.1378\n"
     ]
    },
    {
     "name": "stdout",
     "output_type": "stream",
     "text": [
      "[[0.89956037 0.90081555]\n",
      " [0.90550504 0.90753533]\n",
      " [0.817      0.8179    ]]\n",
      "now at training epoch number 700 hyp-params: lamda 0.0420 prior 0.4300\n",
      "rec time now 0 dataset now: Syn3\n"
     ]
    },
    {
     "name": "stderr",
     "output_type": "stream",
     "text": [
      "TPR mean: 100.0%  std: 0.0%\n",
      "FDR mean: 15.2%  std: 13.8%\n"
     ]
    },
    {
     "name": "stdout",
     "output_type": "stream",
     "text": [
      "[[0.90129726 0.90112065]\n",
      " [0.90688576 0.90766737]\n",
      " [0.8189     0.8196    ]]\n",
      "rec time now 1 dataset now: Syn3\n"
     ]
    },
    {
     "name": "stderr",
     "output_type": "stream",
     "text": [
      "TPR mean: 100.0%  std: 0.0%\n",
      "FDR mean: 8.6%  std: 12.5%\n"
     ]
    },
    {
     "name": "stdout",
     "output_type": "stream",
     "text": [
      "[[0.90129726 0.90074806]\n",
      " [0.90688576 0.90765251]\n",
      " [0.8189     0.8178    ]]\n",
      "rec time now 2 dataset now: Syn3\n"
     ]
    },
    {
     "name": "stderr",
     "output_type": "stream",
     "text": [
      "TPR mean: 100.0%  std: 0.0%\n",
      "FDR mean: 8.4%  std: 12.4%\n"
     ]
    },
    {
     "name": "stdout",
     "output_type": "stream",
     "text": [
      "[[0.90129726 0.90066032]\n",
      " [0.90688576 0.90754377]\n",
      " [0.8189     0.8173    ]]\n",
      "rec time now 3 dataset now: Syn3\n"
     ]
    },
    {
     "name": "stderr",
     "output_type": "stream",
     "text": [
      "TPR mean: 100.0%  std: 0.0%\n",
      "FDR mean: 8.4%  std: 12.4%\n",
      "Epoch:      0, d_loss (Acc)): 0.374, v_loss (Acc): 0.357, g_loss: -0.1104\n"
     ]
    },
    {
     "name": "stdout",
     "output_type": "stream",
     "text": [
      "[[0.90129726 0.90065996]\n",
      " [0.90688576 0.9075428 ]\n",
      " [0.8189     0.8173    ]]\n",
      "now at training epoch number 800 hyp-params: lamda 0.0480 prior 0.4200\n",
      "rec time now 0 dataset now: Syn3\n"
     ]
    },
    {
     "name": "stderr",
     "output_type": "stream",
     "text": [
      "TPR mean: 100.0%  std: 0.0%\n",
      "FDR mean: 8.4%  std: 11.9%\n"
     ]
    },
    {
     "name": "stdout",
     "output_type": "stream",
     "text": [
      "[[0.90020582 0.90132545]\n",
      " [0.90535923 0.90765373]\n",
      " [0.8198     0.8192    ]]\n",
      "rec time now 1 dataset now: Syn3\n"
     ]
    },
    {
     "name": "stderr",
     "output_type": "stream",
     "text": [
      "TPR mean: 100.0%  std: 0.0%\n",
      "FDR mean: 4.2%  std: 9.5%\n"
     ]
    },
    {
     "name": "stdout",
     "output_type": "stream",
     "text": [
      "[[0.90020582 0.90119884]\n",
      " [0.90535923 0.90752302]\n",
      " [0.8198     0.8194    ]]\n",
      "rec time now 2 dataset now: Syn3\n"
     ]
    },
    {
     "name": "stderr",
     "output_type": "stream",
     "text": [
      "TPR mean: 100.0%  std: 0.0%\n",
      "FDR mean: 4.1%  std: 9.4%\n"
     ]
    },
    {
     "name": "stdout",
     "output_type": "stream",
     "text": [
      "[[0.90020582 0.90114832]\n",
      " [0.90535923 0.90750724]\n",
      " [0.8198     0.8193    ]]\n",
      "rec time now 3 dataset now: Syn3\n"
     ]
    },
    {
     "name": "stderr",
     "output_type": "stream",
     "text": [
      "TPR mean: 100.0%  std: 0.0%\n",
      "FDR mean: 4.1%  std: 9.4%\n",
      "Epoch:      0, d_loss (Acc)): 0.424, v_loss (Acc): 0.402, g_loss: -0.1253\n"
     ]
    },
    {
     "name": "stdout",
     "output_type": "stream",
     "text": [
      "[[0.90020582 0.90114832]\n",
      " [0.90535923 0.90750724]\n",
      " [0.8198     0.8193    ]]\n",
      "now at training epoch number 900 hyp-params: lamda 0.0540 prior 0.4100\n",
      "rec time now 0 dataset now: Syn3\n"
     ]
    },
    {
     "name": "stderr",
     "output_type": "stream",
     "text": [
      "TPR mean: 100.0%  std: 0.0%\n",
      "FDR mean: 4.9%  std: 9.6%\n"
     ]
    },
    {
     "name": "stdout",
     "output_type": "stream",
     "text": [
      "[[0.90058993 0.9014705 ]\n",
      " [0.90649279 0.90797456]\n",
      " [0.8163     0.8197    ]]\n",
      "rec time now 1 dataset now: Syn3\n"
     ]
    },
    {
     "name": "stderr",
     "output_type": "stream",
     "text": [
      "TPR mean: 100.0%  std: 0.0%\n",
      "FDR mean: 1.9%  std: 6.6%\n"
     ]
    },
    {
     "name": "stdout",
     "output_type": "stream",
     "text": [
      "[[0.90058993 0.90160667]\n",
      " [0.90649279 0.90795749]\n",
      " [0.8163     0.8193    ]]\n",
      "rec time now 2 dataset now: Syn3\n"
     ]
    },
    {
     "name": "stderr",
     "output_type": "stream",
     "text": [
      "TPR mean: 100.0%  std: 0.0%\n",
      "FDR mean: 1.8%  std: 6.5%\n"
     ]
    },
    {
     "name": "stdout",
     "output_type": "stream",
     "text": [
      "[[0.90058993 0.90158355]\n",
      " [0.90649279 0.90794584]\n",
      " [0.8163     0.8192    ]]\n",
      "rec time now 3 dataset now: Syn3\n"
     ]
    },
    {
     "name": "stderr",
     "output_type": "stream",
     "text": [
      "TPR mean: 100.0%  std: 0.0%\n",
      "FDR mean: 1.8%  std: 6.5%\n",
      "Epoch:      0, d_loss (Acc)): 0.403, v_loss (Acc): 0.389, g_loss: -0.0792\n"
     ]
    },
    {
     "name": "stdout",
     "output_type": "stream",
     "text": [
      "[[0.90058993 0.90158355]\n",
      " [0.90649279 0.90794584]\n",
      " [0.8163     0.8192    ]]\n",
      "now at training epoch number 1000 hyp-params: lamda 0.0600 prior 0.4000\n",
      "rec time now 0 dataset now: Syn3\n"
     ]
    },
    {
     "name": "stderr",
     "output_type": "stream",
     "text": [
      "TPR mean: 100.0%  std: 0.0%\n",
      "FDR mean: 1.9%  std: 6.3%\n"
     ]
    },
    {
     "name": "stdout",
     "output_type": "stream",
     "text": [
      "[[0.90077966 0.9005327 ]\n",
      " [0.90629425 0.90680395]\n",
      " [0.8203     0.8194    ]]\n",
      "rec time now 1 dataset now: Syn3\n"
     ]
    },
    {
     "name": "stderr",
     "output_type": "stream",
     "text": [
      "TPR mean: 100.0%  std: 0.0%\n",
      "FDR mean: 0.5%  std: 3.5%\n"
     ]
    },
    {
     "name": "stdout",
     "output_type": "stream",
     "text": [
      "[[0.90077966 0.90041352]\n",
      " [0.90629425 0.90644243]\n",
      " [0.8203     0.8198    ]]\n",
      "rec time now 2 dataset now: Syn3\n"
     ]
    },
    {
     "name": "stderr",
     "output_type": "stream",
     "text": [
      "TPR mean: 100.0%  std: 0.0%\n",
      "FDR mean: 0.5%  std: 3.4%\n"
     ]
    },
    {
     "name": "stdout",
     "output_type": "stream",
     "text": [
      "[[0.90077966 0.90041066]\n",
      " [0.90629425 0.90642728]\n",
      " [0.8203     0.8199    ]]\n",
      "rec time now 3 dataset now: Syn3\n"
     ]
    },
    {
     "name": "stderr",
     "output_type": "stream",
     "text": [
      "TPR mean: 100.0%  std: 0.0%\n",
      "FDR mean: 0.5%  std: 3.4%\n",
      "Epoch:      0, d_loss (Acc)): 0.413, v_loss (Acc): 0.392, g_loss: -0.1072\n"
     ]
    },
    {
     "name": "stdout",
     "output_type": "stream",
     "text": [
      "[[0.90077966 0.90041066]\n",
      " [0.90629425 0.90642728]\n",
      " [0.8203     0.8199    ]]\n",
      "now at training epoch number 1100 hyp-params: lamda 0.0660 prior 0.3900\n",
      "rec time now 0 dataset now: Syn3\n"
     ]
    },
    {
     "name": "stderr",
     "output_type": "stream",
     "text": [
      "TPR mean: 100.0%  std: 0.0%\n",
      "FDR mean: 0.8%  std: 4.0%\n"
     ]
    },
    {
     "name": "stdout",
     "output_type": "stream",
     "text": [
      "[[0.90103331 0.90100177]\n",
      " [0.90665029 0.90716964]\n",
      " [0.8184     0.8193    ]]\n",
      "rec time now 1 dataset now: Syn3\n"
     ]
    },
    {
     "name": "stderr",
     "output_type": "stream",
     "text": [
      "TPR mean: 100.0%  std: 0.0%\n",
      "FDR mean: 0.2%  std: 2.1%\n"
     ]
    },
    {
     "name": "stdout",
     "output_type": "stream",
     "text": [
      "[[0.90103331 0.90108827]\n",
      " [0.90665029 0.90734092]\n",
      " [0.8184     0.8195    ]]\n",
      "rec time now 2 dataset now: Syn3\n"
     ]
    },
    {
     "name": "stderr",
     "output_type": "stream",
     "text": [
      "TPR mean: 100.0%  std: 0.0%\n",
      "FDR mean: 0.2%  std: 2.0%\n"
     ]
    },
    {
     "name": "stdout",
     "output_type": "stream",
     "text": [
      "[[0.90103331 0.90109779]\n",
      " [0.90665029 0.90734099]\n",
      " [0.8184     0.8195    ]]\n",
      "rec time now 3 dataset now: Syn3\n"
     ]
    },
    {
     "name": "stderr",
     "output_type": "stream",
     "text": [
      "TPR mean: 100.0%  std: 0.0%\n",
      "FDR mean: 0.2%  std: 2.0%\n",
      "Epoch:      0, d_loss (Acc)): 0.385, v_loss (Acc): 0.371, g_loss: -0.0634\n"
     ]
    },
    {
     "name": "stdout",
     "output_type": "stream",
     "text": [
      "[[0.90103331 0.90109779]\n",
      " [0.90665029 0.90734099]\n",
      " [0.8184     0.8195    ]]\n",
      "now at training epoch number 1200 hyp-params: lamda 0.0720 prior 0.3800\n",
      "rec time now 0 dataset now: Syn3\n"
     ]
    },
    {
     "name": "stderr",
     "output_type": "stream",
     "text": [
      "TPR mean: 100.0%  std: 0.0%\n",
      "FDR mean: 0.1%  std: 1.6%\n"
     ]
    },
    {
     "name": "stdout",
     "output_type": "stream",
     "text": [
      "[[0.90044354 0.90200381]\n",
      " [0.9063642  0.90843107]\n",
      " [0.8188     0.8207    ]]\n",
      "rec time now 1 dataset now: Syn3\n"
     ]
    },
    {
     "name": "stderr",
     "output_type": "stream",
     "text": [
      "TPR mean: 100.0%  std: 0.0%\n",
      "FDR mean: 0.0%  std: 0.5%\n"
     ]
    },
    {
     "name": "stdout",
     "output_type": "stream",
     "text": [
      "[[0.90044354 0.90210527]\n",
      " [0.9063642  0.90847922]\n",
      " [0.8188     0.8213    ]]\n",
      "rec time now 2 dataset now: Syn3\n"
     ]
    },
    {
     "name": "stderr",
     "output_type": "stream",
     "text": [
      "TPR mean: 100.0%  std: 0.0%\n",
      "FDR mean: 0.0%  std: 0.5%\n"
     ]
    },
    {
     "name": "stdout",
     "output_type": "stream",
     "text": [
      "[[0.90044354 0.90210527]\n",
      " [0.9063642  0.90847922]\n",
      " [0.8188     0.8213    ]]\n",
      "rec time now 3 dataset now: Syn3\n"
     ]
    },
    {
     "name": "stderr",
     "output_type": "stream",
     "text": [
      "TPR mean: 100.0%  std: 0.0%\n",
      "FDR mean: 0.0%  std: 0.5%\n",
      "Epoch:      0, d_loss (Acc)): 0.402, v_loss (Acc): 0.385, g_loss: -0.0771\n"
     ]
    },
    {
     "name": "stdout",
     "output_type": "stream",
     "text": [
      "[[0.90044354 0.90210527]\n",
      " [0.9063642  0.90847922]\n",
      " [0.8188     0.8213    ]]\n",
      "now at training epoch number 1300 hyp-params: lamda 0.0780 prior 0.3700\n",
      "rec time now 0 dataset now: Syn3\n"
     ]
    },
    {
     "name": "stderr",
     "output_type": "stream",
     "text": [
      "TPR mean: 100.0%  std: 0.0%\n",
      "FDR mean: 0.0%  std: 0.5%\n"
     ]
    },
    {
     "name": "stdout",
     "output_type": "stream",
     "text": [
      "[[0.90015026 0.90174038]\n",
      " [0.90545501 0.90785404]\n",
      " [0.8174     0.8212    ]]\n",
      "rec time now 1 dataset now: Syn3\n"
     ]
    },
    {
     "name": "stderr",
     "output_type": "stream",
     "text": [
      "TPR mean: 100.0%  std: 0.0%\n",
      "FDR mean: 0.0%  std: 0.0%\n"
     ]
    },
    {
     "name": "stdout",
     "output_type": "stream",
     "text": [
      "[[0.90015026 0.90173847]\n",
      " [0.90545501 0.90785189]\n",
      " [0.8174     0.8212    ]]\n",
      "rec time now 2 dataset now: Syn3\n"
     ]
    },
    {
     "name": "stderr",
     "output_type": "stream",
     "text": [
      "TPR mean: 100.0%  std: 0.0%\n",
      "FDR mean: 0.0%  std: 0.0%\n"
     ]
    },
    {
     "name": "stdout",
     "output_type": "stream",
     "text": [
      "[[0.90015026 0.90173847]\n",
      " [0.90545501 0.90785189]\n",
      " [0.8174     0.8212    ]]\n",
      "rec time now 3 dataset now: Syn3\n"
     ]
    },
    {
     "name": "stderr",
     "output_type": "stream",
     "text": [
      "TPR mean: 100.0%  std: 0.0%\n",
      "FDR mean: 0.0%  std: 0.0%\n",
      "Epoch:      0, d_loss (Acc)): 0.391, v_loss (Acc): 0.376, g_loss: -0.0481\n"
     ]
    },
    {
     "name": "stdout",
     "output_type": "stream",
     "text": [
      "[[0.90015026 0.90173847]\n",
      " [0.90545501 0.90785189]\n",
      " [0.8174     0.8212    ]]\n",
      "now at training epoch number 1400 hyp-params: lamda 0.0840 prior 0.3600\n",
      "rec time now 0 dataset now: Syn3\n"
     ]
    },
    {
     "name": "stderr",
     "output_type": "stream",
     "text": [
      "TPR mean: 100.0%  std: 0.0%\n",
      "FDR mean: 0.0%  std: 0.0%\n"
     ]
    },
    {
     "name": "stdout",
     "output_type": "stream",
     "text": [
      "[[0.90100538 0.90121306]\n",
      " [0.9064019  0.90739256]\n",
      " [0.8188     0.8195    ]]\n",
      "rec time now 1 dataset now: Syn3\n"
     ]
    },
    {
     "name": "stderr",
     "output_type": "stream",
     "text": [
      "TPR mean: 100.0%  std: 0.0%\n",
      "FDR mean: 0.0%  std: 0.0%\n"
     ]
    },
    {
     "name": "stdout",
     "output_type": "stream",
     "text": [
      "[[0.90100538 0.90121306]\n",
      " [0.9064019  0.90739256]\n",
      " [0.8188     0.8195    ]]\n",
      "rec time now 2 dataset now: Syn3\n"
     ]
    },
    {
     "name": "stderr",
     "output_type": "stream",
     "text": [
      "TPR mean: 100.0%  std: 0.0%\n",
      "FDR mean: 0.0%  std: 0.0%\n"
     ]
    },
    {
     "name": "stdout",
     "output_type": "stream",
     "text": [
      "[[0.90100538 0.90121306]\n",
      " [0.9064019  0.90739256]\n",
      " [0.8188     0.8195    ]]\n",
      "rec time now 3 dataset now: Syn3\n"
     ]
    },
    {
     "name": "stderr",
     "output_type": "stream",
     "text": [
      "TPR mean: 100.0%  std: 0.0%\n",
      "FDR mean: 0.0%  std: 0.0%\n",
      "Epoch:      0, d_loss (Acc)): 0.406, v_loss (Acc): 0.376, g_loss: -0.1164\n"
     ]
    },
    {
     "name": "stdout",
     "output_type": "stream",
     "text": [
      "[[0.90100538 0.90121306]\n",
      " [0.9064019  0.90739256]\n",
      " [0.8188     0.8195    ]]\n",
      "now at training epoch number 1500 hyp-params: lamda 0.0900 prior 0.3500\n",
      "rec time now 0 dataset now: Syn3\n"
     ]
    },
    {
     "name": "stderr",
     "output_type": "stream",
     "text": [
      "TPR mean: 100.0%  std: 0.0%\n",
      "FDR mean: 0.0%  std: 0.0%\n"
     ]
    },
    {
     "name": "stdout",
     "output_type": "stream",
     "text": [
      "[[0.90048211 0.90163999]\n",
      " [0.90623904 0.90787678]\n",
      " [0.819      0.8218    ]]\n",
      "rec time now 1 dataset now: Syn3\n"
     ]
    },
    {
     "name": "stderr",
     "output_type": "stream",
     "text": [
      "TPR mean: 100.0%  std: 0.0%\n",
      "FDR mean: 0.0%  std: 0.0%\n"
     ]
    },
    {
     "name": "stdout",
     "output_type": "stream",
     "text": [
      "[[0.90048211 0.90163999]\n",
      " [0.90623904 0.90787678]\n",
      " [0.819      0.8218    ]]\n",
      "rec time now 2 dataset now: Syn3\n"
     ]
    },
    {
     "name": "stderr",
     "output_type": "stream",
     "text": [
      "TPR mean: 100.0%  std: 0.0%\n",
      "FDR mean: 0.0%  std: 0.0%\n"
     ]
    },
    {
     "name": "stdout",
     "output_type": "stream",
     "text": [
      "[[0.90048211 0.90163999]\n",
      " [0.90623904 0.90787678]\n",
      " [0.819      0.8218    ]]\n",
      "rec time now 3 dataset now: Syn3\n"
     ]
    },
    {
     "name": "stderr",
     "output_type": "stream",
     "text": [
      "TPR mean: 100.0%  std: 0.0%\n",
      "FDR mean: 0.0%  std: 0.0%\n",
      "Epoch:      0, d_loss (Acc)): 0.388, v_loss (Acc): 0.371, g_loss: -0.0495\n"
     ]
    },
    {
     "name": "stdout",
     "output_type": "stream",
     "text": [
      "[[0.90048211 0.90163999]\n",
      " [0.90623904 0.90787678]\n",
      " [0.819      0.8218    ]]\n",
      "now at training epoch number 1600 hyp-params: lamda 0.0960 prior 0.3400\n",
      "rec time now 0 dataset now: Syn3\n"
     ]
    },
    {
     "name": "stderr",
     "output_type": "stream",
     "text": [
      "TPR mean: 100.0%  std: 0.0%\n",
      "FDR mean: 0.0%  std: 0.0%\n"
     ]
    },
    {
     "name": "stdout",
     "output_type": "stream",
     "text": [
      "[[0.89913386 0.90119787]\n",
      " [0.9050211  0.90738005]\n",
      " [0.8147     0.8188    ]]\n",
      "rec time now 1 dataset now: Syn3\n"
     ]
    },
    {
     "name": "stderr",
     "output_type": "stream",
     "text": [
      "TPR mean: 100.0%  std: 0.0%\n",
      "FDR mean: 0.0%  std: 0.0%\n"
     ]
    },
    {
     "name": "stdout",
     "output_type": "stream",
     "text": [
      "[[0.89913386 0.90119787]\n",
      " [0.9050211  0.90738005]\n",
      " [0.8147     0.8188    ]]\n",
      "rec time now 2 dataset now: Syn3\n"
     ]
    },
    {
     "name": "stderr",
     "output_type": "stream",
     "text": [
      "TPR mean: 100.0%  std: 0.0%\n",
      "FDR mean: 0.0%  std: 0.0%\n"
     ]
    },
    {
     "name": "stdout",
     "output_type": "stream",
     "text": [
      "[[0.89913386 0.90119787]\n",
      " [0.9050211  0.90738005]\n",
      " [0.8147     0.8188    ]]\n",
      "rec time now 3 dataset now: Syn3\n"
     ]
    },
    {
     "name": "stderr",
     "output_type": "stream",
     "text": [
      "TPR mean: 100.0%  std: 0.0%\n",
      "FDR mean: 0.0%  std: 0.0%\n",
      "Epoch:      0, d_loss (Acc)): 0.379, v_loss (Acc): 0.359, g_loss: -0.0800\n"
     ]
    },
    {
     "name": "stdout",
     "output_type": "stream",
     "text": [
      "[[0.89913386 0.90119787]\n",
      " [0.9050211  0.90738005]\n",
      " [0.8147     0.8188    ]]\n",
      "now at training epoch number 1700 hyp-params: lamda 0.1020 prior 0.3300\n",
      "rec time now 0 dataset now: Syn3\n"
     ]
    },
    {
     "name": "stderr",
     "output_type": "stream",
     "text": [
      "TPR mean: 100.0%  std: 0.0%\n",
      "FDR mean: 0.0%  std: 0.0%\n"
     ]
    },
    {
     "name": "stdout",
     "output_type": "stream",
     "text": [
      "[[0.89995089 0.90136695]\n",
      " [0.90598248 0.90786522]\n",
      " [0.8176     0.8189    ]]\n",
      "rec time now 1 dataset now: Syn3\n"
     ]
    },
    {
     "name": "stderr",
     "output_type": "stream",
     "text": [
      "TPR mean: 100.0%  std: 0.0%\n",
      "FDR mean: 0.0%  std: 0.0%\n"
     ]
    },
    {
     "name": "stdout",
     "output_type": "stream",
     "text": [
      "[[0.89995089 0.90136695]\n",
      " [0.90598248 0.90786522]\n",
      " [0.8176     0.8189    ]]\n",
      "rec time now 2 dataset now: Syn3\n"
     ]
    },
    {
     "name": "stderr",
     "output_type": "stream",
     "text": [
      "TPR mean: 100.0%  std: 0.0%\n",
      "FDR mean: 0.0%  std: 0.0%\n"
     ]
    },
    {
     "name": "stdout",
     "output_type": "stream",
     "text": [
      "[[0.89995089 0.90136695]\n",
      " [0.90598248 0.90786522]\n",
      " [0.8176     0.8189    ]]\n",
      "rec time now 3 dataset now: Syn3\n"
     ]
    },
    {
     "name": "stderr",
     "output_type": "stream",
     "text": [
      "TPR mean: 100.0%  std: 0.0%\n",
      "FDR mean: 0.0%  std: 0.0%\n",
      "Epoch:      0, d_loss (Acc)): 0.383, v_loss (Acc): 0.365, g_loss: -0.0850\n"
     ]
    },
    {
     "name": "stdout",
     "output_type": "stream",
     "text": [
      "[[0.89995089 0.90136695]\n",
      " [0.90598248 0.90786522]\n",
      " [0.8176     0.8189    ]]\n",
      "now at training epoch number 1800 hyp-params: lamda 0.1080 prior 0.3200\n",
      "rec time now 0 dataset now: Syn3\n"
     ]
    },
    {
     "name": "stderr",
     "output_type": "stream",
     "text": [
      "TPR mean: 100.0%  std: 0.0%\n",
      "FDR mean: 0.0%  std: 0.0%\n"
     ]
    },
    {
     "name": "stdout",
     "output_type": "stream",
     "text": [
      "[[0.89966474 0.90132271]\n",
      " [0.90554747 0.90762609]\n",
      " [0.8179     0.821     ]]\n",
      "rec time now 1 dataset now: Syn3\n"
     ]
    },
    {
     "name": "stderr",
     "output_type": "stream",
     "text": [
      "TPR mean: 100.0%  std: 0.0%\n",
      "FDR mean: 0.0%  std: 0.0%\n"
     ]
    },
    {
     "name": "stdout",
     "output_type": "stream",
     "text": [
      "[[0.89966474 0.90132271]\n",
      " [0.90554747 0.90762609]\n",
      " [0.8179     0.821     ]]\n",
      "rec time now 2 dataset now: Syn3\n"
     ]
    },
    {
     "name": "stderr",
     "output_type": "stream",
     "text": [
      "TPR mean: 100.0%  std: 0.0%\n",
      "FDR mean: 0.0%  std: 0.0%\n"
     ]
    },
    {
     "name": "stdout",
     "output_type": "stream",
     "text": [
      "[[0.89966474 0.90132271]\n",
      " [0.90554747 0.90762609]\n",
      " [0.8179     0.821     ]]\n",
      "rec time now 3 dataset now: Syn3\n"
     ]
    },
    {
     "name": "stderr",
     "output_type": "stream",
     "text": [
      "TPR mean: 100.0%  std: 0.0%\n",
      "FDR mean: 0.0%  std: 0.0%\n",
      "Epoch:      0, d_loss (Acc)): 0.377, v_loss (Acc): 0.363, g_loss: -0.0164\n"
     ]
    },
    {
     "name": "stdout",
     "output_type": "stream",
     "text": [
      "[[0.89966474 0.90132271]\n",
      " [0.90554747 0.90762609]\n",
      " [0.8179     0.821     ]]\n",
      "now at training epoch number 1900 hyp-params: lamda 0.1140 prior 0.3100\n",
      "rec time now 0 dataset now: Syn3\n"
     ]
    },
    {
     "name": "stderr",
     "output_type": "stream",
     "text": [
      "TPR mean: 100.0%  std: 0.0%\n",
      "FDR mean: 0.0%  std: 0.0%\n"
     ]
    },
    {
     "name": "stdout",
     "output_type": "stream",
     "text": [
      "[[0.89867068 0.90240218]\n",
      " [0.90494303 0.90872891]\n",
      " [0.8172     0.8218    ]]\n",
      "rec time now 1 dataset now: Syn3\n"
     ]
    },
    {
     "name": "stderr",
     "output_type": "stream",
     "text": [
      "TPR mean: 100.0%  std: 0.0%\n",
      "FDR mean: 0.0%  std: 0.0%\n"
     ]
    },
    {
     "name": "stdout",
     "output_type": "stream",
     "text": [
      "[[0.89867068 0.90240218]\n",
      " [0.90494303 0.90872891]\n",
      " [0.8172     0.8218    ]]\n",
      "rec time now 2 dataset now: Syn3\n"
     ]
    },
    {
     "name": "stderr",
     "output_type": "stream",
     "text": [
      "TPR mean: 100.0%  std: 0.0%\n",
      "FDR mean: 0.0%  std: 0.0%\n"
     ]
    },
    {
     "name": "stdout",
     "output_type": "stream",
     "text": [
      "[[0.89867068 0.90240218]\n",
      " [0.90494303 0.90872891]\n",
      " [0.8172     0.8218    ]]\n",
      "rec time now 3 dataset now: Syn3\n"
     ]
    },
    {
     "name": "stderr",
     "output_type": "stream",
     "text": [
      "TPR mean: 100.0%  std: 0.0%\n",
      "FDR mean: 0.0%  std: 0.0%\n",
      "Epoch:      0, d_loss (Acc)): 0.410, v_loss (Acc): 0.396, g_loss: -0.0570\n"
     ]
    },
    {
     "name": "stdout",
     "output_type": "stream",
     "text": [
      "[[0.89867068 0.90240218]\n",
      " [0.90494303 0.90872891]\n",
      " [0.8172     0.8218    ]]\n",
      "now at training epoch number 2000 hyp-params: lamda 0.1200 prior 0.3000\n",
      "rec time now 0 dataset now: Syn3\n"
     ]
    },
    {
     "name": "stderr",
     "output_type": "stream",
     "text": [
      "TPR mean: 100.0%  std: 0.0%\n",
      "FDR mean: 0.0%  std: 0.0%\n"
     ]
    },
    {
     "name": "stdout",
     "output_type": "stream",
     "text": [
      "[[0.89717031 0.90194762]\n",
      " [0.90348675 0.90823233]\n",
      " [0.8121     0.8212    ]]\n",
      "rec time now 1 dataset now: Syn3\n"
     ]
    },
    {
     "name": "stderr",
     "output_type": "stream",
     "text": [
      "TPR mean: 100.0%  std: 0.0%\n",
      "FDR mean: 0.0%  std: 0.0%\n"
     ]
    },
    {
     "name": "stdout",
     "output_type": "stream",
     "text": [
      "[[0.89717031 0.90194762]\n",
      " [0.90348675 0.90823233]\n",
      " [0.8121     0.8212    ]]\n",
      "rec time now 2 dataset now: Syn3\n"
     ]
    },
    {
     "name": "stderr",
     "output_type": "stream",
     "text": [
      "TPR mean: 100.0%  std: 0.0%\n",
      "FDR mean: 0.0%  std: 0.0%\n"
     ]
    },
    {
     "name": "stdout",
     "output_type": "stream",
     "text": [
      "[[0.89717031 0.90194762]\n",
      " [0.90348675 0.90823233]\n",
      " [0.8121     0.8212    ]]\n",
      "rec time now 3 dataset now: Syn3\n"
     ]
    },
    {
     "name": "stderr",
     "output_type": "stream",
     "text": [
      "TPR mean: 100.0%  std: 0.0%\n",
      "FDR mean: 0.0%  std: 0.0%\n",
      "Epoch:      0, d_loss (Acc)): 0.395, v_loss (Acc): 0.368, g_loss: -0.0796\n"
     ]
    },
    {
     "name": "stdout",
     "output_type": "stream",
     "text": [
      "[[0.89717031 0.90194762]\n",
      " [0.90348675 0.90823233]\n",
      " [0.8121     0.8212    ]]\n",
      "now at training epoch number 2100 hyp-params: lamda 0.1260 prior 0.2900\n",
      "rec time now 0 dataset now: Syn3\n"
     ]
    },
    {
     "name": "stderr",
     "output_type": "stream",
     "text": [
      "TPR mean: 100.0%  std: 0.0%\n",
      "FDR mean: 0.0%  std: 0.0%\n"
     ]
    },
    {
     "name": "stdout",
     "output_type": "stream",
     "text": [
      "[[0.89842751 0.90133142]\n",
      " [0.90433187 0.90760989]\n",
      " [0.8142     0.8209    ]]\n",
      "rec time now 1 dataset now: Syn3\n"
     ]
    },
    {
     "name": "stderr",
     "output_type": "stream",
     "text": [
      "TPR mean: 100.0%  std: 0.0%\n",
      "FDR mean: 0.0%  std: 0.0%\n"
     ]
    },
    {
     "name": "stdout",
     "output_type": "stream",
     "text": [
      "[[0.89842751 0.90133142]\n",
      " [0.90433187 0.90760989]\n",
      " [0.8142     0.8209    ]]\n",
      "rec time now 2 dataset now: Syn3\n"
     ]
    },
    {
     "name": "stderr",
     "output_type": "stream",
     "text": [
      "TPR mean: 100.0%  std: 0.0%\n",
      "FDR mean: 0.0%  std: 0.0%\n"
     ]
    },
    {
     "name": "stdout",
     "output_type": "stream",
     "text": [
      "[[0.89842751 0.90133142]\n",
      " [0.90433187 0.90760989]\n",
      " [0.8142     0.8209    ]]\n",
      "rec time now 3 dataset now: Syn3\n"
     ]
    },
    {
     "name": "stderr",
     "output_type": "stream",
     "text": [
      "TPR mean: 100.0%  std: 0.0%\n",
      "FDR mean: 0.0%  std: 0.0%\n",
      "Epoch:      0, d_loss (Acc)): 0.399, v_loss (Acc): 0.374, g_loss: -0.0682\n"
     ]
    },
    {
     "name": "stdout",
     "output_type": "stream",
     "text": [
      "[[0.89842751 0.90133142]\n",
      " [0.90433187 0.90760989]\n",
      " [0.8142     0.8209    ]]\n",
      "now at training epoch number 2200 hyp-params: lamda 0.1320 prior 0.2800\n",
      "rec time now 0 dataset now: Syn3\n"
     ]
    },
    {
     "name": "stderr",
     "output_type": "stream",
     "text": [
      "TPR mean: 100.0%  std: 0.0%\n",
      "FDR mean: 0.0%  std: 0.0%\n"
     ]
    },
    {
     "name": "stdout",
     "output_type": "stream",
     "text": [
      "[[0.89869769 0.90218682]\n",
      " [0.90465126 0.90844382]\n",
      " [0.8181     0.8204    ]]\n",
      "rec time now 1 dataset now: Syn3\n"
     ]
    },
    {
     "name": "stderr",
     "output_type": "stream",
     "text": [
      "TPR mean: 100.0%  std: 0.0%\n",
      "FDR mean: 0.0%  std: 0.0%\n"
     ]
    },
    {
     "name": "stdout",
     "output_type": "stream",
     "text": [
      "[[0.89869769 0.90218682]\n",
      " [0.90465126 0.90844382]\n",
      " [0.8181     0.8204    ]]\n",
      "rec time now 2 dataset now: Syn3\n"
     ]
    },
    {
     "name": "stderr",
     "output_type": "stream",
     "text": [
      "TPR mean: 100.0%  std: 0.0%\n",
      "FDR mean: 0.0%  std: 0.0%\n"
     ]
    },
    {
     "name": "stdout",
     "output_type": "stream",
     "text": [
      "[[0.89869769 0.90218682]\n",
      " [0.90465126 0.90844382]\n",
      " [0.8181     0.8204    ]]\n",
      "rec time now 3 dataset now: Syn3\n"
     ]
    },
    {
     "name": "stderr",
     "output_type": "stream",
     "text": [
      "TPR mean: 100.0%  std: 0.0%\n",
      "FDR mean: 0.0%  std: 0.0%\n",
      "Epoch:      0, d_loss (Acc)): 0.380, v_loss (Acc): 0.352, g_loss: -0.0815\n"
     ]
    },
    {
     "name": "stdout",
     "output_type": "stream",
     "text": [
      "[[0.89869769 0.90218682]\n",
      " [0.90465126 0.90844382]\n",
      " [0.8181     0.8204    ]]\n",
      "now at training epoch number 2300 hyp-params: lamda 0.1380 prior 0.2700\n",
      "rec time now 0 dataset now: Syn3\n"
     ]
    },
    {
     "name": "stderr",
     "output_type": "stream",
     "text": [
      "TPR mean: 100.0%  std: 0.0%\n",
      "FDR mean: 0.0%  std: 0.0%\n"
     ]
    },
    {
     "name": "stdout",
     "output_type": "stream",
     "text": [
      "[[0.89877696 0.9018738 ]\n",
      " [0.90489481 0.9081749 ]\n",
      " [0.8159     0.8222    ]]\n",
      "rec time now 1 dataset now: Syn3\n"
     ]
    },
    {
     "name": "stderr",
     "output_type": "stream",
     "text": [
      "TPR mean: 100.0%  std: 0.0%\n",
      "FDR mean: 0.0%  std: 0.0%\n"
     ]
    },
    {
     "name": "stdout",
     "output_type": "stream",
     "text": [
      "[[0.89877696 0.9018738 ]\n",
      " [0.90489481 0.9081749 ]\n",
      " [0.8159     0.8222    ]]\n",
      "rec time now 2 dataset now: Syn3\n"
     ]
    },
    {
     "name": "stderr",
     "output_type": "stream",
     "text": [
      "TPR mean: 100.0%  std: 0.0%\n",
      "FDR mean: 0.0%  std: 0.0%\n"
     ]
    },
    {
     "name": "stdout",
     "output_type": "stream",
     "text": [
      "[[0.89877696 0.9018738 ]\n",
      " [0.90489481 0.9081749 ]\n",
      " [0.8159     0.8222    ]]\n",
      "rec time now 3 dataset now: Syn3\n"
     ]
    },
    {
     "name": "stderr",
     "output_type": "stream",
     "text": [
      "TPR mean: 100.0%  std: 0.0%\n",
      "FDR mean: 0.0%  std: 0.0%\n",
      "Epoch:      0, d_loss (Acc)): 0.418, v_loss (Acc): 0.387, g_loss: -0.0813\n"
     ]
    },
    {
     "name": "stdout",
     "output_type": "stream",
     "text": [
      "[[0.89877696 0.9018738 ]\n",
      " [0.90489481 0.9081749 ]\n",
      " [0.8159     0.8222    ]]\n",
      "now at training epoch number 2400 hyp-params: lamda 0.1440 prior 0.2600\n",
      "rec time now 0 dataset now: Syn3\n"
     ]
    },
    {
     "name": "stderr",
     "output_type": "stream",
     "text": [
      "TPR mean: 100.0%  std: 0.0%\n",
      "FDR mean: 0.0%  std: 0.0%\n"
     ]
    },
    {
     "name": "stdout",
     "output_type": "stream",
     "text": [
      "[[0.89730772 0.90242076]\n",
      " [0.90372164 0.908726  ]\n",
      " [0.8131     0.8229    ]]\n",
      "rec time now 1 dataset now: Syn3\n"
     ]
    },
    {
     "name": "stderr",
     "output_type": "stream",
     "text": [
      "TPR mean: 100.0%  std: 0.0%\n",
      "FDR mean: 0.0%  std: 0.0%\n"
     ]
    },
    {
     "name": "stdout",
     "output_type": "stream",
     "text": [
      "[[0.89730772 0.90242076]\n",
      " [0.90372164 0.908726  ]\n",
      " [0.8131     0.8229    ]]\n",
      "rec time now 2 dataset now: Syn3\n"
     ]
    },
    {
     "name": "stderr",
     "output_type": "stream",
     "text": [
      "TPR mean: 100.0%  std: 0.0%\n",
      "FDR mean: 0.0%  std: 0.0%\n"
     ]
    },
    {
     "name": "stdout",
     "output_type": "stream",
     "text": [
      "[[0.89730772 0.90242076]\n",
      " [0.90372164 0.908726  ]\n",
      " [0.8131     0.8229    ]]\n",
      "rec time now 3 dataset now: Syn3\n"
     ]
    },
    {
     "name": "stderr",
     "output_type": "stream",
     "text": [
      "TPR mean: 100.0%  std: 0.0%\n",
      "FDR mean: 0.0%  std: 0.0%\n",
      "Epoch:      0, d_loss (Acc)): 0.374, v_loss (Acc): 0.348, g_loss: -0.0606\n"
     ]
    },
    {
     "name": "stdout",
     "output_type": "stream",
     "text": [
      "[[0.89730772 0.90242076]\n",
      " [0.90372164 0.908726  ]\n",
      " [0.8131     0.8229    ]]\n",
      "now at training epoch number 2500 hyp-params: lamda 0.1500 prior 0.2500\n",
      "rec time now 0 dataset now: Syn3\n"
     ]
    },
    {
     "name": "stderr",
     "output_type": "stream",
     "text": [
      "TPR mean: 100.0%  std: 0.0%\n",
      "FDR mean: 0.0%  std: 0.0%\n"
     ]
    },
    {
     "name": "stdout",
     "output_type": "stream",
     "text": [
      "[[0.89856344 0.90101957]\n",
      " [0.9047767  0.90740029]\n",
      " [0.8143     0.8195    ]]\n",
      "rec time now 1 dataset now: Syn3\n"
     ]
    },
    {
     "name": "stderr",
     "output_type": "stream",
     "text": [
      "TPR mean: 100.0%  std: 0.0%\n",
      "FDR mean: 0.0%  std: 0.0%\n"
     ]
    },
    {
     "name": "stdout",
     "output_type": "stream",
     "text": [
      "[[0.89856344 0.90101957]\n",
      " [0.9047767  0.90740029]\n",
      " [0.8143     0.8195    ]]\n",
      "rec time now 2 dataset now: Syn3\n"
     ]
    },
    {
     "name": "stderr",
     "output_type": "stream",
     "text": [
      "TPR mean: 100.0%  std: 0.0%\n",
      "FDR mean: 0.0%  std: 0.0%\n"
     ]
    },
    {
     "name": "stdout",
     "output_type": "stream",
     "text": [
      "[[0.89856344 0.90101957]\n",
      " [0.9047767  0.90740029]\n",
      " [0.8143     0.8195    ]]\n",
      "rec time now 3 dataset now: Syn3\n"
     ]
    },
    {
     "name": "stderr",
     "output_type": "stream",
     "text": [
      "TPR mean: 100.0%  std: 0.0%\n",
      "FDR mean: 0.0%  std: 0.0%\n",
      "Epoch:      0, d_loss (Acc)): 0.380, v_loss (Acc): 0.348, g_loss: -0.0797\n"
     ]
    },
    {
     "name": "stdout",
     "output_type": "stream",
     "text": [
      "[[0.89856344 0.90101957]\n",
      " [0.9047767  0.90740029]\n",
      " [0.8143     0.8195    ]]\n",
      "now at training epoch number 2600 hyp-params: lamda 0.1560 prior 0.2400\n",
      "rec time now 0 dataset now: Syn3\n"
     ]
    },
    {
     "name": "stderr",
     "output_type": "stream",
     "text": [
      "TPR mean: 100.0%  std: 0.0%\n",
      "FDR mean: 0.0%  std: 0.0%\n"
     ]
    },
    {
     "name": "stdout",
     "output_type": "stream",
     "text": [
      "[[0.89545442 0.90234143]\n",
      " [0.90176928 0.90865628]\n",
      " [0.8142     0.8202    ]]\n",
      "rec time now 1 dataset now: Syn3\n"
     ]
    },
    {
     "name": "stderr",
     "output_type": "stream",
     "text": [
      "TPR mean: 100.0%  std: 0.0%\n",
      "FDR mean: 0.0%  std: 0.0%\n"
     ]
    },
    {
     "name": "stdout",
     "output_type": "stream",
     "text": [
      "[[0.89545442 0.90234143]\n",
      " [0.90176928 0.90865628]\n",
      " [0.8142     0.8202    ]]\n",
      "rec time now 2 dataset now: Syn3\n"
     ]
    },
    {
     "name": "stderr",
     "output_type": "stream",
     "text": [
      "TPR mean: 100.0%  std: 0.0%\n",
      "FDR mean: 0.0%  std: 0.0%\n"
     ]
    },
    {
     "name": "stdout",
     "output_type": "stream",
     "text": [
      "[[0.89545442 0.90234143]\n",
      " [0.90176928 0.90865628]\n",
      " [0.8142     0.8202    ]]\n",
      "rec time now 3 dataset now: Syn3\n"
     ]
    },
    {
     "name": "stderr",
     "output_type": "stream",
     "text": [
      "TPR mean: 100.0%  std: 0.0%\n",
      "FDR mean: 0.0%  std: 0.0%\n",
      "Epoch:      0, d_loss (Acc)): 0.381, v_loss (Acc): 0.350, g_loss: -0.0870\n"
     ]
    },
    {
     "name": "stdout",
     "output_type": "stream",
     "text": [
      "[[0.89545442 0.90234143]\n",
      " [0.90176928 0.90865628]\n",
      " [0.8142     0.8202    ]]\n",
      "now at training epoch number 2700 hyp-params: lamda 0.1620 prior 0.2300\n",
      "rec time now 0 dataset now: Syn3\n"
     ]
    },
    {
     "name": "stderr",
     "output_type": "stream",
     "text": [
      "TPR mean: 100.0%  std: 0.0%\n",
      "FDR mean: 0.0%  std: 0.0%\n"
     ]
    },
    {
     "name": "stdout",
     "output_type": "stream",
     "text": [
      "[[0.89748397 0.90250353]\n",
      " [0.903692   0.9087197 ]\n",
      " [0.8147     0.8211    ]]\n",
      "rec time now 1 dataset now: Syn3\n"
     ]
    },
    {
     "name": "stderr",
     "output_type": "stream",
     "text": [
      "TPR mean: 100.0%  std: 0.0%\n",
      "FDR mean: 0.0%  std: 0.0%\n"
     ]
    },
    {
     "name": "stdout",
     "output_type": "stream",
     "text": [
      "[[0.89748397 0.90250353]\n",
      " [0.903692   0.9087197 ]\n",
      " [0.8147     0.8211    ]]\n",
      "rec time now 2 dataset now: Syn3\n"
     ]
    },
    {
     "name": "stderr",
     "output_type": "stream",
     "text": [
      "TPR mean: 100.0%  std: 0.0%\n",
      "FDR mean: 0.0%  std: 0.0%\n"
     ]
    },
    {
     "name": "stdout",
     "output_type": "stream",
     "text": [
      "[[0.89748397 0.90250353]\n",
      " [0.903692   0.9087197 ]\n",
      " [0.8147     0.8211    ]]\n",
      "rec time now 3 dataset now: Syn3\n"
     ]
    },
    {
     "name": "stderr",
     "output_type": "stream",
     "text": [
      "TPR mean: 100.0%  std: 0.0%\n",
      "FDR mean: 0.0%  std: 0.0%\n",
      "Epoch:      0, d_loss (Acc)): 0.407, v_loss (Acc): 0.373, g_loss: -0.0867\n"
     ]
    },
    {
     "name": "stdout",
     "output_type": "stream",
     "text": [
      "[[0.89748397 0.90250353]\n",
      " [0.903692   0.9087197 ]\n",
      " [0.8147     0.8211    ]]\n",
      "now at training epoch number 2800 hyp-params: lamda 0.1680 prior 0.2200\n",
      "rec time now 0 dataset now: Syn3\n"
     ]
    },
    {
     "name": "stderr",
     "output_type": "stream",
     "text": [
      "TPR mean: 100.0%  std: 0.0%\n",
      "FDR mean: 0.0%  std: 0.0%\n"
     ]
    },
    {
     "name": "stdout",
     "output_type": "stream",
     "text": [
      "[[0.89740316 0.90309114]\n",
      " [0.90377428 0.90931738]\n",
      " [0.8135     0.8211    ]]\n",
      "rec time now 1 dataset now: Syn3\n"
     ]
    },
    {
     "name": "stderr",
     "output_type": "stream",
     "text": [
      "TPR mean: 100.0%  std: 0.0%\n",
      "FDR mean: 0.0%  std: 0.0%\n"
     ]
    },
    {
     "name": "stdout",
     "output_type": "stream",
     "text": [
      "[[0.89740316 0.90309114]\n",
      " [0.90377428 0.90931738]\n",
      " [0.8135     0.8211    ]]\n",
      "rec time now 2 dataset now: Syn3\n"
     ]
    },
    {
     "name": "stderr",
     "output_type": "stream",
     "text": [
      "TPR mean: 100.0%  std: 0.0%\n",
      "FDR mean: 0.0%  std: 0.0%\n"
     ]
    },
    {
     "name": "stdout",
     "output_type": "stream",
     "text": [
      "[[0.89740316 0.90309114]\n",
      " [0.90377428 0.90931738]\n",
      " [0.8135     0.8211    ]]\n",
      "rec time now 3 dataset now: Syn3\n"
     ]
    },
    {
     "name": "stderr",
     "output_type": "stream",
     "text": [
      "TPR mean: 100.0%  std: 0.0%\n",
      "FDR mean: 0.0%  std: 0.0%\n",
      "Epoch:      0, d_loss (Acc)): 0.387, v_loss (Acc): 0.362, g_loss: -0.0467\n"
     ]
    },
    {
     "name": "stdout",
     "output_type": "stream",
     "text": [
      "[[0.89740316 0.90309114]\n",
      " [0.90377428 0.90931738]\n",
      " [0.8135     0.8211    ]]\n",
      "now at training epoch number 2900 hyp-params: lamda 0.1740 prior 0.2100\n",
      "rec time now 0 dataset now: Syn3\n"
     ]
    },
    {
     "name": "stderr",
     "output_type": "stream",
     "text": [
      "TPR mean: 100.0%  std: 0.0%\n",
      "FDR mean: 0.0%  std: 0.0%\n"
     ]
    },
    {
     "name": "stdout",
     "output_type": "stream",
     "text": [
      "[[0.89561974 0.90345266]\n",
      " [0.90224385 0.90970289]\n",
      " [0.8108     0.8186    ]]\n",
      "rec time now 1 dataset now: Syn3\n"
     ]
    },
    {
     "name": "stderr",
     "output_type": "stream",
     "text": [
      "TPR mean: 100.0%  std: 0.0%\n",
      "FDR mean: 0.0%  std: 0.0%\n"
     ]
    },
    {
     "name": "stdout",
     "output_type": "stream",
     "text": [
      "[[0.89561974 0.90345266]\n",
      " [0.90224385 0.90970289]\n",
      " [0.8108     0.8186    ]]\n",
      "rec time now 2 dataset now: Syn3\n"
     ]
    },
    {
     "name": "stderr",
     "output_type": "stream",
     "text": [
      "TPR mean: 100.0%  std: 0.0%\n",
      "FDR mean: 0.0%  std: 0.0%\n"
     ]
    },
    {
     "name": "stdout",
     "output_type": "stream",
     "text": [
      "[[0.89561974 0.90345266]\n",
      " [0.90224385 0.90970289]\n",
      " [0.8108     0.8186    ]]\n",
      "rec time now 3 dataset now: Syn3\n"
     ]
    },
    {
     "name": "stderr",
     "output_type": "stream",
     "text": [
      "TPR mean: 100.0%  std: 0.0%\n",
      "FDR mean: 0.0%  std: 0.0%\n",
      "Epoch:      0, d_loss (Acc)): 0.362, v_loss (Acc): 0.320, g_loss: -0.0957\n"
     ]
    },
    {
     "name": "stdout",
     "output_type": "stream",
     "text": [
      "[[0.89561974 0.90345266]\n",
      " [0.90224385 0.90970289]\n",
      " [0.8108     0.8186    ]]\n",
      "now at training epoch number 3000 hyp-params: lamda 0.1800 prior 0.2000\n",
      "rec time now 0 dataset now: Syn3\n"
     ]
    },
    {
     "name": "stderr",
     "output_type": "stream",
     "text": [
      "TPR mean: 100.0%  std: 0.0%\n",
      "FDR mean: 0.0%  std: 0.0%\n"
     ]
    },
    {
     "name": "stdout",
     "output_type": "stream",
     "text": [
      "[[0.89673681 0.90328668]\n",
      " [0.90327421 0.90940423]\n",
      " [0.8122     0.8202    ]]\n",
      "rec time now 1 dataset now: Syn3\n"
     ]
    },
    {
     "name": "stderr",
     "output_type": "stream",
     "text": [
      "TPR mean: 100.0%  std: 0.0%\n",
      "FDR mean: 0.0%  std: 0.0%\n"
     ]
    },
    {
     "name": "stdout",
     "output_type": "stream",
     "text": [
      "[[0.89673681 0.90328668]\n",
      " [0.90327421 0.90940423]\n",
      " [0.8122     0.8202    ]]\n",
      "rec time now 2 dataset now: Syn3\n"
     ]
    },
    {
     "name": "stderr",
     "output_type": "stream",
     "text": [
      "TPR mean: 100.0%  std: 0.0%\n",
      "FDR mean: 0.0%  std: 0.0%\n"
     ]
    },
    {
     "name": "stdout",
     "output_type": "stream",
     "text": [
      "[[0.89673681 0.90328668]\n",
      " [0.90327421 0.90940423]\n",
      " [0.8122     0.8202    ]]\n",
      "rec time now 3 dataset now: Syn3\n"
     ]
    },
    {
     "name": "stderr",
     "output_type": "stream",
     "text": [
      "TPR mean: 100.0%  std: 0.0%\n",
      "FDR mean: 0.0%  std: 0.0%\n",
      "Epoch:      0, d_loss (Acc)): 0.391, v_loss (Acc): 0.358, g_loss: -0.0446\n"
     ]
    },
    {
     "name": "stdout",
     "output_type": "stream",
     "text": [
      "[[0.89673681 0.90328668]\n",
      " [0.90327421 0.90940423]\n",
      " [0.8122     0.8202    ]]\n",
      "now at training epoch number 3100 hyp-params: lamda 0.1860 prior 0.1900\n",
      "rec time now 0 dataset now: Syn3\n"
     ]
    },
    {
     "name": "stderr",
     "output_type": "stream",
     "text": [
      "TPR mean: 100.0%  std: 0.0%\n",
      "FDR mean: 0.0%  std: 0.0%\n"
     ]
    },
    {
     "name": "stdout",
     "output_type": "stream",
     "text": [
      "[[0.89689436 0.90341982]\n",
      " [0.90368999 0.90972357]\n",
      " [0.8106     0.8203    ]]\n",
      "rec time now 1 dataset now: Syn3\n"
     ]
    },
    {
     "name": "stderr",
     "output_type": "stream",
     "text": [
      "TPR mean: 100.0%  std: 0.0%\n",
      "FDR mean: 0.0%  std: 0.0%\n"
     ]
    },
    {
     "name": "stdout",
     "output_type": "stream",
     "text": [
      "[[0.89689436 0.90341982]\n",
      " [0.90368999 0.90972357]\n",
      " [0.8106     0.8203    ]]\n",
      "rec time now 2 dataset now: Syn3\n"
     ]
    },
    {
     "name": "stderr",
     "output_type": "stream",
     "text": [
      "TPR mean: 100.0%  std: 0.0%\n",
      "FDR mean: 0.0%  std: 0.0%\n"
     ]
    },
    {
     "name": "stdout",
     "output_type": "stream",
     "text": [
      "[[0.89689436 0.90341982]\n",
      " [0.90368999 0.90972357]\n",
      " [0.8106     0.8203    ]]\n",
      "rec time now 3 dataset now: Syn3\n"
     ]
    },
    {
     "name": "stderr",
     "output_type": "stream",
     "text": [
      "TPR mean: 100.0%  std: 0.0%\n",
      "FDR mean: 0.0%  std: 0.0%\n",
      "Epoch:      0, d_loss (Acc)): 0.392, v_loss (Acc): 0.365, g_loss: -0.0385\n"
     ]
    },
    {
     "name": "stdout",
     "output_type": "stream",
     "text": [
      "[[0.89689436 0.90341982]\n",
      " [0.90368999 0.90972357]\n",
      " [0.8106     0.8203    ]]\n",
      "now at training epoch number 3200 hyp-params: lamda 0.1920 prior 0.1800\n",
      "rec time now 0 dataset now: Syn3\n"
     ]
    },
    {
     "name": "stderr",
     "output_type": "stream",
     "text": [
      "TPR mean: 100.0%  std: 0.0%\n",
      "FDR mean: 0.0%  std: 0.0%\n"
     ]
    },
    {
     "name": "stdout",
     "output_type": "stream",
     "text": [
      "[[0.89485811 0.90310588]\n",
      " [0.90134614 0.90924258]\n",
      " [0.8074     0.8204    ]]\n",
      "rec time now 1 dataset now: Syn3\n"
     ]
    },
    {
     "name": "stderr",
     "output_type": "stream",
     "text": [
      "TPR mean: 100.0%  std: 0.0%\n",
      "FDR mean: 0.0%  std: 0.0%\n"
     ]
    },
    {
     "name": "stdout",
     "output_type": "stream",
     "text": [
      "[[0.89485811 0.90310588]\n",
      " [0.90134614 0.90924258]\n",
      " [0.8074     0.8204    ]]\n",
      "rec time now 2 dataset now: Syn3\n"
     ]
    },
    {
     "name": "stderr",
     "output_type": "stream",
     "text": [
      "TPR mean: 100.0%  std: 0.0%\n",
      "FDR mean: 0.0%  std: 0.0%\n"
     ]
    },
    {
     "name": "stdout",
     "output_type": "stream",
     "text": [
      "[[0.89485811 0.90310588]\n",
      " [0.90134614 0.90924258]\n",
      " [0.8074     0.8204    ]]\n",
      "rec time now 3 dataset now: Syn3\n"
     ]
    },
    {
     "name": "stderr",
     "output_type": "stream",
     "text": [
      "TPR mean: 100.0%  std: 0.0%\n",
      "FDR mean: 0.0%  std: 0.0%\n",
      "Epoch:      0, d_loss (Acc)): 0.382, v_loss (Acc): 0.346, g_loss: -0.0577\n"
     ]
    },
    {
     "name": "stdout",
     "output_type": "stream",
     "text": [
      "[[0.89485811 0.90310588]\n",
      " [0.90134614 0.90924258]\n",
      " [0.8074     0.8204    ]]\n",
      "now at training epoch number 3300 hyp-params: lamda 0.1980 prior 0.1700\n",
      "rec time now 0 dataset now: Syn3\n"
     ]
    },
    {
     "name": "stderr",
     "output_type": "stream",
     "text": [
      "TPR mean: 100.0%  std: 0.0%\n",
      "FDR mean: 0.0%  std: 0.0%\n"
     ]
    },
    {
     "name": "stdout",
     "output_type": "stream",
     "text": [
      "[[0.89452806 0.90302473]\n",
      " [0.90142835 0.90928883]\n",
      " [0.8092     0.8214    ]]\n",
      "rec time now 1 dataset now: Syn3\n"
     ]
    },
    {
     "name": "stderr",
     "output_type": "stream",
     "text": [
      "TPR mean: 100.0%  std: 0.0%\n",
      "FDR mean: 0.0%  std: 0.0%\n"
     ]
    },
    {
     "name": "stdout",
     "output_type": "stream",
     "text": [
      "[[0.89452806 0.90302473]\n",
      " [0.90142835 0.90928883]\n",
      " [0.8092     0.8214    ]]\n",
      "rec time now 2 dataset now: Syn3\n"
     ]
    },
    {
     "name": "stderr",
     "output_type": "stream",
     "text": [
      "TPR mean: 100.0%  std: 0.0%\n",
      "FDR mean: 0.0%  std: 0.0%\n"
     ]
    },
    {
     "name": "stdout",
     "output_type": "stream",
     "text": [
      "[[0.89452806 0.90302473]\n",
      " [0.90142835 0.90928883]\n",
      " [0.8092     0.8214    ]]\n",
      "rec time now 3 dataset now: Syn3\n"
     ]
    },
    {
     "name": "stderr",
     "output_type": "stream",
     "text": [
      "TPR mean: 100.0%  std: 0.0%\n",
      "FDR mean: 0.0%  std: 0.0%\n",
      "Epoch:      0, d_loss (Acc)): 0.368, v_loss (Acc): 0.320, g_loss: -0.1062\n"
     ]
    },
    {
     "name": "stdout",
     "output_type": "stream",
     "text": [
      "[[0.89452806 0.90302473]\n",
      " [0.90142835 0.90928883]\n",
      " [0.8092     0.8214    ]]\n",
      "now at training epoch number 3400 hyp-params: lamda 0.2040 prior 0.1600\n",
      "rec time now 0 dataset now: Syn3\n"
     ]
    },
    {
     "name": "stderr",
     "output_type": "stream",
     "text": [
      "TPR mean: 100.0%  std: 0.0%\n",
      "FDR mean: 0.0%  std: 0.0%\n"
     ]
    },
    {
     "name": "stdout",
     "output_type": "stream",
     "text": [
      "[[0.89544015 0.90310757]\n",
      " [0.90246527 0.90954127]\n",
      " [0.8111     0.8206    ]]\n",
      "rec time now 1 dataset now: Syn3\n"
     ]
    },
    {
     "name": "stderr",
     "output_type": "stream",
     "text": [
      "TPR mean: 100.0%  std: 0.0%\n",
      "FDR mean: 0.0%  std: 0.0%\n"
     ]
    },
    {
     "name": "stdout",
     "output_type": "stream",
     "text": [
      "[[0.89544015 0.90310757]\n",
      " [0.90246527 0.90954127]\n",
      " [0.8111     0.8206    ]]\n",
      "rec time now 2 dataset now: Syn3\n"
     ]
    },
    {
     "name": "stderr",
     "output_type": "stream",
     "text": [
      "TPR mean: 100.0%  std: 0.0%\n",
      "FDR mean: 0.0%  std: 0.0%\n"
     ]
    },
    {
     "name": "stdout",
     "output_type": "stream",
     "text": [
      "[[0.89544015 0.90310757]\n",
      " [0.90246527 0.90954127]\n",
      " [0.8111     0.8206    ]]\n",
      "rec time now 3 dataset now: Syn3\n"
     ]
    },
    {
     "name": "stderr",
     "output_type": "stream",
     "text": [
      "TPR mean: 100.0%  std: 0.0%\n",
      "FDR mean: 0.0%  std: 0.0%\n",
      "Epoch:      0, d_loss (Acc)): 0.372, v_loss (Acc): 0.324, g_loss: -0.0935\n"
     ]
    },
    {
     "name": "stdout",
     "output_type": "stream",
     "text": [
      "[[0.89544015 0.90310757]\n",
      " [0.90246527 0.90954127]\n",
      " [0.8111     0.8206    ]]\n",
      "now at training epoch number 3500 hyp-params: lamda 0.2100 prior 0.1500\n",
      "rec time now 0 dataset now: Syn3\n"
     ]
    },
    {
     "name": "stderr",
     "output_type": "stream",
     "text": [
      "TPR mean: 100.0%  std: 0.0%\n",
      "FDR mean: 0.0%  std: 0.0%\n"
     ]
    },
    {
     "name": "stdout",
     "output_type": "stream",
     "text": [
      "[[0.89466548 0.90270883]\n",
      " [0.90117461 0.90912875]\n",
      " [0.8114     0.8217    ]]\n",
      "rec time now 1 dataset now: Syn3\n"
     ]
    },
    {
     "name": "stderr",
     "output_type": "stream",
     "text": [
      "TPR mean: 100.0%  std: 0.0%\n",
      "FDR mean: 0.0%  std: 0.0%\n"
     ]
    },
    {
     "name": "stdout",
     "output_type": "stream",
     "text": [
      "[[0.89466548 0.90270883]\n",
      " [0.90117461 0.90912875]\n",
      " [0.8114     0.8217    ]]\n",
      "rec time now 2 dataset now: Syn3\n"
     ]
    },
    {
     "name": "stderr",
     "output_type": "stream",
     "text": [
      "TPR mean: 100.0%  std: 0.0%\n",
      "FDR mean: 0.0%  std: 0.0%\n"
     ]
    },
    {
     "name": "stdout",
     "output_type": "stream",
     "text": [
      "[[0.89466548 0.90270883]\n",
      " [0.90117461 0.90912875]\n",
      " [0.8114     0.8217    ]]\n",
      "rec time now 3 dataset now: Syn3\n"
     ]
    },
    {
     "name": "stderr",
     "output_type": "stream",
     "text": [
      "TPR mean: 100.0%  std: 0.0%\n",
      "FDR mean: 0.0%  std: 0.0%\n",
      "Epoch:      0, d_loss (Acc)): 0.387, v_loss (Acc): 0.341, g_loss: -0.0854\n"
     ]
    },
    {
     "name": "stdout",
     "output_type": "stream",
     "text": [
      "[[0.89466548 0.90270883]\n",
      " [0.90117461 0.90912875]\n",
      " [0.8114     0.8217    ]]\n",
      "now at training epoch number 3600 hyp-params: lamda 0.2160 prior 0.1400\n",
      "rec time now 0 dataset now: Syn3\n"
     ]
    },
    {
     "name": "stderr",
     "output_type": "stream",
     "text": [
      "TPR mean: 100.0%  std: 0.0%\n",
      "FDR mean: 0.0%  std: 0.0%\n"
     ]
    },
    {
     "name": "stdout",
     "output_type": "stream",
     "text": [
      "[[0.89669805 0.90346226]\n",
      " [0.90339776 0.90961913]\n",
      " [0.8116     0.8222    ]]\n",
      "rec time now 1 dataset now: Syn3\n"
     ]
    },
    {
     "name": "stderr",
     "output_type": "stream",
     "text": [
      "TPR mean: 100.0%  std: 0.0%\n",
      "FDR mean: 0.0%  std: 0.0%\n"
     ]
    },
    {
     "name": "stdout",
     "output_type": "stream",
     "text": [
      "[[0.89669805 0.90346226]\n",
      " [0.90339776 0.90961913]\n",
      " [0.8116     0.8222    ]]\n",
      "rec time now 2 dataset now: Syn3\n"
     ]
    },
    {
     "name": "stderr",
     "output_type": "stream",
     "text": [
      "TPR mean: 100.0%  std: 0.0%\n",
      "FDR mean: 0.0%  std: 0.0%\n"
     ]
    },
    {
     "name": "stdout",
     "output_type": "stream",
     "text": [
      "[[0.89669805 0.90346226]\n",
      " [0.90339776 0.90961913]\n",
      " [0.8116     0.8222    ]]\n",
      "rec time now 3 dataset now: Syn3\n"
     ]
    },
    {
     "name": "stderr",
     "output_type": "stream",
     "text": [
      "TPR mean: 100.0%  std: 0.0%\n",
      "FDR mean: 0.0%  std: 0.0%\n",
      "Epoch:      0, d_loss (Acc)): 0.389, v_loss (Acc): 0.358, g_loss: -0.0216\n"
     ]
    },
    {
     "name": "stdout",
     "output_type": "stream",
     "text": [
      "[[0.89669805 0.90346226]\n",
      " [0.90339776 0.90961913]\n",
      " [0.8116     0.8222    ]]\n",
      "now at training epoch number 3700 hyp-params: lamda 0.2220 prior 0.1300\n",
      "rec time now 0 dataset now: Syn3\n"
     ]
    },
    {
     "name": "stderr",
     "output_type": "stream",
     "text": [
      "TPR mean: 100.0%  std: 0.0%\n",
      "FDR mean: 0.0%  std: 0.0%\n"
     ]
    },
    {
     "name": "stdout",
     "output_type": "stream",
     "text": [
      "[[0.89560097 0.90404017]\n",
      " [0.90222361 0.91019266]\n",
      " [0.8113     0.8224    ]]\n",
      "rec time now 1 dataset now: Syn3\n"
     ]
    },
    {
     "name": "stderr",
     "output_type": "stream",
     "text": [
      "TPR mean: 100.0%  std: 0.0%\n",
      "FDR mean: 0.0%  std: 0.0%\n"
     ]
    },
    {
     "name": "stdout",
     "output_type": "stream",
     "text": [
      "[[0.89560097 0.90404017]\n",
      " [0.90222361 0.91019266]\n",
      " [0.8113     0.8224    ]]\n",
      "rec time now 2 dataset now: Syn3\n"
     ]
    },
    {
     "name": "stderr",
     "output_type": "stream",
     "text": [
      "TPR mean: 100.0%  std: 0.0%\n",
      "FDR mean: 0.0%  std: 0.0%\n"
     ]
    },
    {
     "name": "stdout",
     "output_type": "stream",
     "text": [
      "[[0.89560097 0.90404017]\n",
      " [0.90222361 0.91019266]\n",
      " [0.8113     0.8224    ]]\n",
      "rec time now 3 dataset now: Syn3\n"
     ]
    },
    {
     "name": "stderr",
     "output_type": "stream",
     "text": [
      "TPR mean: 100.0%  std: 0.0%\n",
      "FDR mean: 0.0%  std: 0.0%\n",
      "Epoch:      0, d_loss (Acc)): 0.373, v_loss (Acc): 0.321, g_loss: -0.0848\n"
     ]
    },
    {
     "name": "stdout",
     "output_type": "stream",
     "text": [
      "[[0.89560097 0.90404017]\n",
      " [0.90222361 0.91019266]\n",
      " [0.8113     0.8224    ]]\n",
      "now at training epoch number 3800 hyp-params: lamda 0.2280 prior 0.1200\n",
      "rec time now 0 dataset now: Syn3\n"
     ]
    },
    {
     "name": "stderr",
     "output_type": "stream",
     "text": [
      "TPR mean: 100.0%  std: 0.0%\n",
      "FDR mean: 0.0%  std: 0.0%\n"
     ]
    },
    {
     "name": "stdout",
     "output_type": "stream",
     "text": [
      "[[0.8949934  0.90423154]\n",
      " [0.90178791 0.91036993]\n",
      " [0.81       0.8216    ]]\n",
      "rec time now 1 dataset now: Syn3\n"
     ]
    },
    {
     "name": "stderr",
     "output_type": "stream",
     "text": [
      "TPR mean: 100.0%  std: 0.0%\n",
      "FDR mean: 0.0%  std: 0.0%\n"
     ]
    },
    {
     "name": "stdout",
     "output_type": "stream",
     "text": [
      "[[0.8949934  0.90423154]\n",
      " [0.90178791 0.91036993]\n",
      " [0.81       0.8216    ]]\n",
      "rec time now 2 dataset now: Syn3\n"
     ]
    },
    {
     "name": "stderr",
     "output_type": "stream",
     "text": [
      "TPR mean: 100.0%  std: 0.0%\n",
      "FDR mean: 0.0%  std: 0.0%\n"
     ]
    },
    {
     "name": "stdout",
     "output_type": "stream",
     "text": [
      "[[0.8949934  0.90423154]\n",
      " [0.90178791 0.91036993]\n",
      " [0.81       0.8216    ]]\n",
      "rec time now 3 dataset now: Syn3\n"
     ]
    },
    {
     "name": "stderr",
     "output_type": "stream",
     "text": [
      "TPR mean: 100.0%  std: 0.0%\n",
      "FDR mean: 0.0%  std: 0.0%\n",
      "Epoch:      0, d_loss (Acc)): 0.378, v_loss (Acc): 0.334, g_loss: -0.0242\n"
     ]
    },
    {
     "name": "stdout",
     "output_type": "stream",
     "text": [
      "[[0.8949934  0.90423154]\n",
      " [0.90178791 0.91036993]\n",
      " [0.81       0.8216    ]]\n",
      "now at training epoch number 3900 hyp-params: lamda 0.2340 prior 0.1100\n",
      "rec time now 0 dataset now: Syn3\n"
     ]
    },
    {
     "name": "stderr",
     "output_type": "stream",
     "text": [
      "TPR mean: 100.0%  std: 0.0%\n",
      "FDR mean: 0.0%  std: 0.0%\n"
     ]
    },
    {
     "name": "stdout",
     "output_type": "stream",
     "text": [
      "[[0.89309507 0.90354171]\n",
      " [0.89964829 0.9095477 ]\n",
      " [0.8063     0.8222    ]]\n",
      "rec time now 1 dataset now: Syn3\n"
     ]
    },
    {
     "name": "stderr",
     "output_type": "stream",
     "text": [
      "TPR mean: 100.0%  std: 0.0%\n",
      "FDR mean: 0.0%  std: 0.0%\n"
     ]
    },
    {
     "name": "stdout",
     "output_type": "stream",
     "text": [
      "[[0.89309507 0.90354171]\n",
      " [0.89964829 0.9095477 ]\n",
      " [0.8063     0.8222    ]]\n",
      "rec time now 2 dataset now: Syn3\n"
     ]
    },
    {
     "name": "stderr",
     "output_type": "stream",
     "text": [
      "TPR mean: 100.0%  std: 0.0%\n",
      "FDR mean: 0.0%  std: 0.0%\n"
     ]
    },
    {
     "name": "stdout",
     "output_type": "stream",
     "text": [
      "[[0.89309507 0.90354171]\n",
      " [0.89964829 0.9095477 ]\n",
      " [0.8063     0.8222    ]]\n",
      "rec time now 3 dataset now: Syn3\n"
     ]
    },
    {
     "name": "stderr",
     "output_type": "stream",
     "text": [
      "TPR mean: 100.0%  std: 0.0%\n",
      "FDR mean: 0.0%  std: 0.0%\n",
      "Epoch:      0, d_loss (Acc)): 0.421, v_loss (Acc): 0.375, g_loss: -0.0437\n"
     ]
    },
    {
     "name": "stdout",
     "output_type": "stream",
     "text": [
      "[[0.89309507 0.90354171]\n",
      " [0.89964829 0.9095477 ]\n",
      " [0.8063     0.8222    ]]\n",
      "now at training epoch number 4000 hyp-params: lamda 0.2400 prior 0.1000\n",
      "rec time now 0 dataset now: Syn3\n"
     ]
    },
    {
     "name": "stderr",
     "output_type": "stream",
     "text": [
      "TPR mean: 100.0%  std: 0.0%\n",
      "FDR mean: 0.0%  std: 0.0%\n"
     ]
    },
    {
     "name": "stdout",
     "output_type": "stream",
     "text": [
      "[[0.89377988 0.90399607]\n",
      " [0.90051224 0.9100736 ]\n",
      " [0.8106     0.821     ]]\n",
      "rec time now 1 dataset now: Syn3\n"
     ]
    },
    {
     "name": "stderr",
     "output_type": "stream",
     "text": [
      "TPR mean: 100.0%  std: 0.0%\n",
      "FDR mean: 0.0%  std: 0.0%\n"
     ]
    },
    {
     "name": "stdout",
     "output_type": "stream",
     "text": [
      "[[0.89377988 0.90399607]\n",
      " [0.90051224 0.9100736 ]\n",
      " [0.8106     0.821     ]]\n",
      "rec time now 2 dataset now: Syn3\n"
     ]
    },
    {
     "name": "stderr",
     "output_type": "stream",
     "text": [
      "TPR mean: 100.0%  std: 0.0%\n",
      "FDR mean: 0.0%  std: 0.0%\n"
     ]
    },
    {
     "name": "stdout",
     "output_type": "stream",
     "text": [
      "[[0.89377988 0.90399607]\n",
      " [0.90051224 0.9100736 ]\n",
      " [0.8106     0.821     ]]\n",
      "rec time now 3 dataset now: Syn3\n"
     ]
    },
    {
     "name": "stderr",
     "output_type": "stream",
     "text": [
      "TPR mean: 100.0%  std: 0.0%\n",
      "FDR mean: 0.0%  std: 0.0%\n",
      "Epoch:      0, d_loss (Acc)): 0.406, v_loss (Acc): 0.353, g_loss: -0.0370\n"
     ]
    },
    {
     "name": "stdout",
     "output_type": "stream",
     "text": [
      "[[0.89377988 0.90399607]\n",
      " [0.90051224 0.9100736 ]\n",
      " [0.8106     0.821     ]]\n",
      "now at training epoch number 4100 hyp-params: lamda 0.2460 prior 0.0900\n",
      "rec time now 0 dataset now: Syn3\n"
     ]
    },
    {
     "name": "stderr",
     "output_type": "stream",
     "text": [
      "TPR mean: 100.0%  std: 0.0%\n",
      "FDR mean: 0.0%  std: 0.0%\n"
     ]
    },
    {
     "name": "stdout",
     "output_type": "stream",
     "text": [
      "[[0.89334832 0.90380007]\n",
      " [0.90030907 0.9100594 ]\n",
      " [0.8073     0.8215    ]]\n",
      "rec time now 1 dataset now: Syn3\n"
     ]
    },
    {
     "name": "stderr",
     "output_type": "stream",
     "text": [
      "TPR mean: 100.0%  std: 0.0%\n",
      "FDR mean: 0.0%  std: 0.0%\n"
     ]
    },
    {
     "name": "stdout",
     "output_type": "stream",
     "text": [
      "[[0.89334832 0.90380007]\n",
      " [0.90030907 0.9100594 ]\n",
      " [0.8073     0.8215    ]]\n",
      "rec time now 2 dataset now: Syn3\n"
     ]
    },
    {
     "name": "stderr",
     "output_type": "stream",
     "text": [
      "TPR mean: 100.0%  std: 0.0%\n",
      "FDR mean: 0.0%  std: 0.0%\n"
     ]
    },
    {
     "name": "stdout",
     "output_type": "stream",
     "text": [
      "[[0.89334832 0.90380007]\n",
      " [0.90030907 0.9100594 ]\n",
      " [0.8073     0.8215    ]]\n",
      "rec time now 3 dataset now: Syn3\n"
     ]
    },
    {
     "name": "stderr",
     "output_type": "stream",
     "text": [
      "TPR mean: 100.0%  std: 0.0%\n",
      "FDR mean: 0.0%  std: 0.0%\n",
      "Epoch:      0, d_loss (Acc)): 0.422, v_loss (Acc): 0.363, g_loss: -0.0624\n"
     ]
    },
    {
     "name": "stdout",
     "output_type": "stream",
     "text": [
      "[[0.89334832 0.90380007]\n",
      " [0.90030907 0.9100594 ]\n",
      " [0.8073     0.8215    ]]\n",
      "now at training epoch number 4200 hyp-params: lamda 0.2520 prior 0.0800\n",
      "rec time now 0 dataset now: Syn3\n"
     ]
    },
    {
     "name": "stderr",
     "output_type": "stream",
     "text": [
      "TPR mean: 100.0%  std: 0.0%\n",
      "FDR mean: 0.0%  std: 0.0%\n"
     ]
    },
    {
     "name": "stdout",
     "output_type": "stream",
     "text": [
      "[[0.89287314 0.90368071]\n",
      " [0.89985275 0.90990539]\n",
      " [0.8078     0.8217    ]]\n",
      "rec time now 1 dataset now: Syn3\n"
     ]
    },
    {
     "name": "stderr",
     "output_type": "stream",
     "text": [
      "TPR mean: 100.0%  std: 0.0%\n",
      "FDR mean: 0.0%  std: 0.0%\n"
     ]
    },
    {
     "name": "stdout",
     "output_type": "stream",
     "text": [
      "[[0.89287314 0.90368071]\n",
      " [0.89985275 0.90990539]\n",
      " [0.8078     0.8217    ]]\n",
      "rec time now 2 dataset now: Syn3\n"
     ]
    },
    {
     "name": "stderr",
     "output_type": "stream",
     "text": [
      "TPR mean: 100.0%  std: 0.0%\n",
      "FDR mean: 0.0%  std: 0.0%\n"
     ]
    },
    {
     "name": "stdout",
     "output_type": "stream",
     "text": [
      "[[0.89287314 0.90368071]\n",
      " [0.89985275 0.90990539]\n",
      " [0.8078     0.8217    ]]\n",
      "rec time now 3 dataset now: Syn3\n"
     ]
    },
    {
     "name": "stderr",
     "output_type": "stream",
     "text": [
      "TPR mean: 100.0%  std: 0.0%\n",
      "FDR mean: 0.0%  std: 0.0%\n",
      "Epoch:      0, d_loss (Acc)): 0.396, v_loss (Acc): 0.353, g_loss: -0.0113\n"
     ]
    },
    {
     "name": "stdout",
     "output_type": "stream",
     "text": [
      "[[0.89287314 0.90368071]\n",
      " [0.89985275 0.90990539]\n",
      " [0.8078     0.8217    ]]\n",
      "now at training epoch number 4300 hyp-params: lamda 0.2580 prior 0.0700\n",
      "rec time now 0 dataset now: Syn3\n"
     ]
    },
    {
     "name": "stderr",
     "output_type": "stream",
     "text": [
      "TPR mean: 100.0%  std: 0.0%\n",
      "FDR mean: 0.0%  std: 0.0%\n"
     ]
    },
    {
     "name": "stdout",
     "output_type": "stream",
     "text": [
      "[[0.8929454  0.90456442]\n",
      " [0.89988906 0.91064629]\n",
      " [0.8068     0.822     ]]\n",
      "rec time now 1 dataset now: Syn3\n"
     ]
    },
    {
     "name": "stderr",
     "output_type": "stream",
     "text": [
      "TPR mean: 100.0%  std: 0.0%\n",
      "FDR mean: 0.0%  std: 0.0%\n"
     ]
    },
    {
     "name": "stdout",
     "output_type": "stream",
     "text": [
      "[[0.8929454  0.90456442]\n",
      " [0.89988906 0.91064629]\n",
      " [0.8068     0.822     ]]\n",
      "rec time now 2 dataset now: Syn3\n"
     ]
    },
    {
     "name": "stderr",
     "output_type": "stream",
     "text": [
      "TPR mean: 100.0%  std: 0.0%\n",
      "FDR mean: 0.0%  std: 0.0%\n"
     ]
    },
    {
     "name": "stdout",
     "output_type": "stream",
     "text": [
      "[[0.8929454  0.90456442]\n",
      " [0.89988906 0.91064629]\n",
      " [0.8068     0.822     ]]\n",
      "rec time now 3 dataset now: Syn3\n"
     ]
    },
    {
     "name": "stderr",
     "output_type": "stream",
     "text": [
      "TPR mean: 100.0%  std: 0.0%\n",
      "FDR mean: 0.0%  std: 0.0%\n",
      "Epoch:      0, d_loss (Acc)): 0.373, v_loss (Acc): 0.325, g_loss: +0.0215\n"
     ]
    },
    {
     "name": "stdout",
     "output_type": "stream",
     "text": [
      "[[0.8929454  0.90456442]\n",
      " [0.89988906 0.91064629]\n",
      " [0.8068     0.822     ]]\n",
      "now at training epoch number 4400 hyp-params: lamda 0.2640 prior 0.0600\n",
      "rec time now 0 dataset now: Syn3\n"
     ]
    },
    {
     "name": "stderr",
     "output_type": "stream",
     "text": [
      "TPR mean: 100.0%  std: 0.0%\n",
      "FDR mean: 0.0%  std: 0.0%\n"
     ]
    },
    {
     "name": "stdout",
     "output_type": "stream",
     "text": [
      "[[0.89333165 0.90496007]\n",
      " [0.90028356 0.91094873]\n",
      " [0.8098     0.8207    ]]\n",
      "rec time now 1 dataset now: Syn3\n"
     ]
    },
    {
     "name": "stderr",
     "output_type": "stream",
     "text": [
      "TPR mean: 100.0%  std: 0.0%\n",
      "FDR mean: 0.0%  std: 0.0%\n"
     ]
    },
    {
     "name": "stdout",
     "output_type": "stream",
     "text": [
      "[[0.89333165 0.90496007]\n",
      " [0.90028356 0.91094873]\n",
      " [0.8098     0.8207    ]]\n",
      "rec time now 2 dataset now: Syn3\n"
     ]
    },
    {
     "name": "stderr",
     "output_type": "stream",
     "text": [
      "TPR mean: 100.0%  std: 0.0%\n",
      "FDR mean: 0.0%  std: 0.0%\n"
     ]
    },
    {
     "name": "stdout",
     "output_type": "stream",
     "text": [
      "[[0.89333165 0.90496007]\n",
      " [0.90028356 0.91094873]\n",
      " [0.8098     0.8207    ]]\n",
      "rec time now 3 dataset now: Syn3\n"
     ]
    },
    {
     "name": "stderr",
     "output_type": "stream",
     "text": [
      "TPR mean: 100.0%  std: 0.0%\n",
      "FDR mean: 0.0%  std: 0.0%\n",
      "Epoch:      0, d_loss (Acc)): 0.376, v_loss (Acc): 0.338, g_loss: +0.0479\n"
     ]
    },
    {
     "name": "stdout",
     "output_type": "stream",
     "text": [
      "[[0.89333165 0.90496007]\n",
      " [0.90028356 0.91094873]\n",
      " [0.8098     0.8207    ]]\n",
      "now at training epoch number 4500 hyp-params: lamda 0.2700 prior 0.0500\n",
      "rec time now 0 dataset now: Syn3\n"
     ]
    },
    {
     "name": "stderr",
     "output_type": "stream",
     "text": [
      "TPR mean: 100.0%  std: 0.0%\n",
      "FDR mean: 0.0%  std: 0.0%\n"
     ]
    },
    {
     "name": "stdout",
     "output_type": "stream",
     "text": [
      "[[0.8925273  0.90436555]\n",
      " [0.8992881  0.9104485 ]\n",
      " [0.808      0.8227    ]]\n",
      "rec time now 1 dataset now: Syn3\n"
     ]
    },
    {
     "name": "stderr",
     "output_type": "stream",
     "text": [
      "TPR mean: 100.0%  std: 0.0%\n",
      "FDR mean: 0.0%  std: 0.0%\n"
     ]
    },
    {
     "name": "stdout",
     "output_type": "stream",
     "text": [
      "[[0.8925273  0.90436555]\n",
      " [0.8992881  0.9104485 ]\n",
      " [0.808      0.8227    ]]\n",
      "rec time now 2 dataset now: Syn3\n"
     ]
    },
    {
     "name": "stderr",
     "output_type": "stream",
     "text": [
      "TPR mean: 100.0%  std: 0.0%\n",
      "FDR mean: 0.0%  std: 0.0%\n"
     ]
    },
    {
     "name": "stdout",
     "output_type": "stream",
     "text": [
      "[[0.8925273  0.90436555]\n",
      " [0.8992881  0.9104485 ]\n",
      " [0.808      0.8227    ]]\n",
      "rec time now 3 dataset now: Syn3\n"
     ]
    },
    {
     "name": "stderr",
     "output_type": "stream",
     "text": [
      "TPR mean: 100.0%  std: 0.0%\n",
      "FDR mean: 0.0%  std: 0.0%\n",
      "Epoch:      0, d_loss (Acc)): 0.339, v_loss (Acc): 0.292, g_loss: +0.0309\n"
     ]
    },
    {
     "name": "stdout",
     "output_type": "stream",
     "text": [
      "[[0.8925273  0.90436555]\n",
      " [0.8992881  0.9104485 ]\n",
      " [0.808      0.8227    ]]\n",
      "now at training epoch number 4600 hyp-params: lamda 0.2760 prior 0.0400\n",
      "rec time now 0 dataset now: Syn3\n"
     ]
    },
    {
     "name": "stderr",
     "output_type": "stream",
     "text": [
      "TPR mean: 100.0%  std: 0.0%\n",
      "FDR mean: 0.0%  std: 0.0%\n"
     ]
    },
    {
     "name": "stdout",
     "output_type": "stream",
     "text": [
      "[[0.89000923 0.90461032]\n",
      " [0.89711022 0.91066478]\n",
      " [0.8059     0.8215    ]]\n",
      "rec time now 1 dataset now: Syn3\n"
     ]
    },
    {
     "name": "stderr",
     "output_type": "stream",
     "text": [
      "TPR mean: 100.0%  std: 0.0%\n",
      "FDR mean: 0.0%  std: 0.0%\n"
     ]
    },
    {
     "name": "stdout",
     "output_type": "stream",
     "text": [
      "[[0.89000923 0.90461032]\n",
      " [0.89711022 0.91066478]\n",
      " [0.8059     0.8215    ]]\n",
      "rec time now 2 dataset now: Syn3\n"
     ]
    },
    {
     "name": "stderr",
     "output_type": "stream",
     "text": [
      "TPR mean: 100.0%  std: 0.0%\n",
      "FDR mean: 0.0%  std: 0.0%\n"
     ]
    },
    {
     "name": "stdout",
     "output_type": "stream",
     "text": [
      "[[0.89000923 0.90461032]\n",
      " [0.89711022 0.91066478]\n",
      " [0.8059     0.8215    ]]\n",
      "rec time now 3 dataset now: Syn3\n"
     ]
    },
    {
     "name": "stderr",
     "output_type": "stream",
     "text": [
      "TPR mean: 100.0%  std: 0.0%\n",
      "FDR mean: 0.0%  std: 0.0%\n",
      "Epoch:      0, d_loss (Acc)): 0.368, v_loss (Acc): 0.316, g_loss: +0.0359\n"
     ]
    },
    {
     "name": "stdout",
     "output_type": "stream",
     "text": [
      "[[0.89000923 0.90461032]\n",
      " [0.89711022 0.91066478]\n",
      " [0.8059     0.8215    ]]\n",
      "now at training epoch number 4700 hyp-params: lamda 0.2820 prior 0.0300\n",
      "rec time now 0 dataset now: Syn3\n"
     ]
    },
    {
     "name": "stderr",
     "output_type": "stream",
     "text": [
      "TPR mean: 100.0%  std: 0.0%\n",
      "FDR mean: 0.0%  std: 0.0%\n"
     ]
    },
    {
     "name": "stdout",
     "output_type": "stream",
     "text": [
      "[[0.89019058 0.90498099]\n",
      " [0.89681539 0.91109525]\n",
      " [0.8031     0.8221    ]]\n",
      "rec time now 1 dataset now: Syn3\n"
     ]
    },
    {
     "name": "stderr",
     "output_type": "stream",
     "text": [
      "TPR mean: 100.0%  std: 0.0%\n",
      "FDR mean: 0.0%  std: 0.0%\n"
     ]
    },
    {
     "name": "stdout",
     "output_type": "stream",
     "text": [
      "[[0.89019058 0.90498099]\n",
      " [0.89681539 0.91109525]\n",
      " [0.8031     0.8221    ]]\n",
      "rec time now 2 dataset now: Syn3\n"
     ]
    },
    {
     "name": "stderr",
     "output_type": "stream",
     "text": [
      "TPR mean: 100.0%  std: 0.0%\n",
      "FDR mean: 0.0%  std: 0.0%\n"
     ]
    },
    {
     "name": "stdout",
     "output_type": "stream",
     "text": [
      "[[0.89019058 0.90498099]\n",
      " [0.89681539 0.91109525]\n",
      " [0.8031     0.8221    ]]\n",
      "rec time now 3 dataset now: Syn3\n"
     ]
    },
    {
     "name": "stderr",
     "output_type": "stream",
     "text": [
      "TPR mean: 100.0%  std: 0.0%\n",
      "FDR mean: 0.0%  std: 0.0%\n",
      "Epoch:      0, d_loss (Acc)): 0.376, v_loss (Acc): 0.330, g_loss: +0.0569\n"
     ]
    },
    {
     "name": "stdout",
     "output_type": "stream",
     "text": [
      "[[0.89019058 0.90498099]\n",
      " [0.89681539 0.91109525]\n",
      " [0.8031     0.8221    ]]\n",
      "now at training epoch number 4800 hyp-params: lamda 0.2880 prior 0.0200\n",
      "rec time now 0 dataset now: Syn3\n"
     ]
    },
    {
     "name": "stderr",
     "output_type": "stream",
     "text": [
      "TPR mean: 100.0%  std: 0.0%\n",
      "FDR mean: 0.0%  std: 0.0%\n"
     ]
    },
    {
     "name": "stdout",
     "output_type": "stream",
     "text": [
      "[[0.89119107 0.9048012 ]\n",
      " [0.89870552 0.91094445]\n",
      " [0.8047     0.8223    ]]\n",
      "rec time now 1 dataset now: Syn3\n"
     ]
    },
    {
     "name": "stderr",
     "output_type": "stream",
     "text": [
      "TPR mean: 100.0%  std: 0.0%\n",
      "FDR mean: 0.0%  std: 0.0%\n"
     ]
    },
    {
     "name": "stdout",
     "output_type": "stream",
     "text": [
      "[[0.89119107 0.9048012 ]\n",
      " [0.89870552 0.91094445]\n",
      " [0.8047     0.8223    ]]\n",
      "rec time now 2 dataset now: Syn3\n"
     ]
    },
    {
     "name": "stderr",
     "output_type": "stream",
     "text": [
      "TPR mean: 100.0%  std: 0.0%\n",
      "FDR mean: 0.0%  std: 0.0%\n"
     ]
    },
    {
     "name": "stdout",
     "output_type": "stream",
     "text": [
      "[[0.89119107 0.9048012 ]\n",
      " [0.89870552 0.91094445]\n",
      " [0.8047     0.8223    ]]\n",
      "rec time now 3 dataset now: Syn3\n"
     ]
    },
    {
     "name": "stderr",
     "output_type": "stream",
     "text": [
      "TPR mean: 100.0%  std: 0.0%\n",
      "FDR mean: 0.0%  std: 0.0%\n",
      "Epoch:      0, d_loss (Acc)): 0.364, v_loss (Acc): 0.299, g_loss: +0.0697\n"
     ]
    },
    {
     "name": "stdout",
     "output_type": "stream",
     "text": [
      "[[0.89119107 0.9048012 ]\n",
      " [0.89870552 0.91094445]\n",
      " [0.8047     0.8223    ]]\n",
      "now at training epoch number 4900 hyp-params: lamda 0.2940 prior 0.0100\n",
      "rec time now 0 dataset now: Syn3\n"
     ]
    },
    {
     "name": "stderr",
     "output_type": "stream",
     "text": [
      "TPR mean: 100.0%  std: 0.0%\n",
      "FDR mean: 0.0%  std: 0.0%\n"
     ]
    },
    {
     "name": "stdout",
     "output_type": "stream",
     "text": [
      "[[0.89231032 0.90482715]\n",
      " [0.89962145 0.91084091]\n",
      " [0.8065     0.8237    ]]\n",
      "rec time now 1 dataset now: Syn3\n"
     ]
    },
    {
     "name": "stderr",
     "output_type": "stream",
     "text": [
      "TPR mean: 100.0%  std: 0.0%\n",
      "FDR mean: 0.0%  std: 0.0%\n"
     ]
    },
    {
     "name": "stdout",
     "output_type": "stream",
     "text": [
      "[[0.89231032 0.90482715]\n",
      " [0.89962145 0.91084091]\n",
      " [0.8065     0.8237    ]]\n",
      "rec time now 2 dataset now: Syn3\n"
     ]
    },
    {
     "name": "stderr",
     "output_type": "stream",
     "text": [
      "TPR mean: 100.0%  std: 0.0%\n",
      "FDR mean: 0.0%  std: 0.0%\n"
     ]
    },
    {
     "name": "stdout",
     "output_type": "stream",
     "text": [
      "[[0.89231032 0.90482715]\n",
      " [0.89962145 0.91084091]\n",
      " [0.8065     0.8237    ]]\n",
      "rec time now 3 dataset now: Syn3\n"
     ]
    },
    {
     "name": "stderr",
     "output_type": "stream",
     "text": [
      "TPR mean: 100.0%  std: 0.0%\n",
      "FDR mean: 0.0%  std: 0.0%\n",
      "invase: Syn4 5000 . Y\n",
      "(10000, 11) (10000, 2) (10000, 11) (10000, 2)\n",
      "input shape: 11\n",
      "Epoch:      0, d_loss (Acc)): 0.754, v_loss (Acc): 0.767, g_loss: +0.1128\n"
     ]
    },
    {
     "name": "stdout",
     "output_type": "stream",
     "text": [
      "[[0.89231032 0.90482715]\n",
      " [0.89962145 0.91084091]\n",
      " [0.8065     0.8237    ]]\n",
      "PyTorch Version: elapsed time for Syn3: 11 feature, 10000 sample: [462.5538 459.184  436.4912] sec.\n",
      "now at training epoch number 0 hyp-params: lamda 0.0000 prior 0.5000\n",
      "rec time now 0 dataset now: Syn4\n"
     ]
    },
    {
     "name": "stderr",
     "output_type": "stream",
     "text": [
      "TPR mean: 55.9%  std: 27.7%\n",
      "FDR mean: 58.0%  std: 23.7%\n"
     ]
    },
    {
     "name": "stdout",
     "output_type": "stream",
     "text": [
      "[[0.6742171  0.62160168]\n",
      " [0.70007997 0.62497575]\n",
      " [0.623      0.5958    ]]\n",
      "rec time now 1 dataset now: Syn4\n"
     ]
    },
    {
     "name": "stderr",
     "output_type": "stream",
     "text": [
      "TPR mean: 42.9%  std: 29.5%\n",
      "FDR mean: 58.8%  std: 29.3%\n"
     ]
    },
    {
     "name": "stdout",
     "output_type": "stream",
     "text": [
      "[[0.6742171  0.61215008]\n",
      " [0.70007997 0.61701789]\n",
      " [0.623      0.5928    ]]\n",
      "rec time now 2 dataset now: Syn4\n"
     ]
    },
    {
     "name": "stderr",
     "output_type": "stream",
     "text": [
      "TPR mean: 39.5%  std: 30.0%\n",
      "FDR mean: 59.6%  std: 30.8%\n"
     ]
    },
    {
     "name": "stdout",
     "output_type": "stream",
     "text": [
      "[[0.6742171  0.61043933]\n",
      " [0.70007997 0.61724518]\n",
      " [0.623      0.5948    ]]\n",
      "rec time now 3 dataset now: Syn4\n"
     ]
    },
    {
     "name": "stderr",
     "output_type": "stream",
     "text": [
      "TPR mean: 38.9%  std: 30.2%\n",
      "FDR mean: 59.8%  std: 31.2%\n",
      "Epoch:      0, d_loss (Acc)): 0.671, v_loss (Acc): 0.652, g_loss: -0.1480\n"
     ]
    },
    {
     "name": "stdout",
     "output_type": "stream",
     "text": [
      "[[0.6742171  0.60959194]\n",
      " [0.70007997 0.61660602]\n",
      " [0.623      0.5952    ]]\n",
      "now at training epoch number 100 hyp-params: lamda 0.0060 prior 0.4900\n",
      "rec time now 0 dataset now: Syn4\n"
     ]
    },
    {
     "name": "stderr",
     "output_type": "stream",
     "text": [
      "TPR mean: 70.1%  std: 27.8%\n",
      "FDR mean: 51.2%  std: 25.4%\n"
     ]
    },
    {
     "name": "stdout",
     "output_type": "stream",
     "text": [
      "[[0.70217102 0.68531113]\n",
      " [0.7287825  0.68953301]\n",
      " [0.6421     0.6407    ]]\n",
      "rec time now 1 dataset now: Syn4\n"
     ]
    },
    {
     "name": "stderr",
     "output_type": "stream",
     "text": [
      "TPR mean: 58.8%  std: 32.4%\n",
      "FDR mean: 50.4%  std: 31.5%\n"
     ]
    },
    {
     "name": "stdout",
     "output_type": "stream",
     "text": [
      "[[0.70217102 0.66526456]\n",
      " [0.7287825  0.66958894]\n",
      " [0.6421     0.6301    ]]\n",
      "rec time now 2 dataset now: Syn4\n"
     ]
    },
    {
     "name": "stderr",
     "output_type": "stream",
     "text": [
      "TPR mean: 55.0%  std: 34.2%\n",
      "FDR mean: 51.1%  std: 33.5%\n"
     ]
    },
    {
     "name": "stdout",
     "output_type": "stream",
     "text": [
      "[[0.70217102 0.65735191]\n",
      " [0.7287825  0.6607487 ]\n",
      " [0.6421     0.6276    ]]\n",
      "rec time now 3 dataset now: Syn4\n"
     ]
    },
    {
     "name": "stderr",
     "output_type": "stream",
     "text": [
      "TPR mean: 54.2%  std: 34.8%\n",
      "FDR mean: 51.4%  std: 34.0%\n",
      "Epoch:      0, d_loss (Acc)): 0.667, v_loss (Acc): 0.615, g_loss: -0.3905\n"
     ]
    },
    {
     "name": "stdout",
     "output_type": "stream",
     "text": [
      "[[0.70217102 0.65422865]\n",
      " [0.7287825  0.6579508 ]\n",
      " [0.6421     0.6266    ]]\n",
      "now at training epoch number 200 hyp-params: lamda 0.0120 prior 0.4800\n",
      "rec time now 0 dataset now: Syn4\n"
     ]
    },
    {
     "name": "stderr",
     "output_type": "stream",
     "text": [
      "TPR mean: 80.5%  std: 25.1%\n",
      "FDR mean: 46.1%  std: 25.3%\n"
     ]
    },
    {
     "name": "stdout",
     "output_type": "stream",
     "text": [
      "[[0.72087687 0.69852798]\n",
      " [0.73749891 0.70045435]\n",
      " [0.6626     0.6524    ]]\n",
      "rec time now 1 dataset now: Syn4\n"
     ]
    },
    {
     "name": "stderr",
     "output_type": "stream",
     "text": [
      "TPR mean: 73.3%  std: 30.6%\n",
      "FDR mean: 43.5%  std: 30.2%\n"
     ]
    },
    {
     "name": "stdout",
     "output_type": "stream",
     "text": [
      "[[0.72087687 0.6799812 ]\n",
      " [0.73749891 0.67426138]\n",
      " [0.6626     0.6463    ]]\n",
      "rec time now 2 dataset now: Syn4\n"
     ]
    },
    {
     "name": "stderr",
     "output_type": "stream",
     "text": [
      "TPR mean: 71.1%  std: 32.6%\n",
      "FDR mean: 43.5%  std: 31.6%\n"
     ]
    },
    {
     "name": "stdout",
     "output_type": "stream",
     "text": [
      "[[0.72087687 0.67509634]\n",
      " [0.73749891 0.66811887]\n",
      " [0.6626     0.6444    ]]\n",
      "rec time now 3 dataset now: Syn4\n"
     ]
    },
    {
     "name": "stderr",
     "output_type": "stream",
     "text": [
      "TPR mean: 70.5%  std: 33.3%\n",
      "FDR mean: 43.5%  std: 32.0%\n",
      "Epoch:      0, d_loss (Acc)): 0.639, v_loss (Acc): 0.596, g_loss: -0.3180\n"
     ]
    },
    {
     "name": "stdout",
     "output_type": "stream",
     "text": [
      "[[0.72087687 0.67389248]\n",
      " [0.73749891 0.66616091]\n",
      " [0.6626     0.6442    ]]\n",
      "now at training epoch number 300 hyp-params: lamda 0.0180 prior 0.4700\n",
      "rec time now 0 dataset now: Syn4\n"
     ]
    },
    {
     "name": "stderr",
     "output_type": "stream",
     "text": [
      "TPR mean: 87.2%  std: 21.0%\n",
      "FDR mean: 43.3%  std: 24.6%\n"
     ]
    },
    {
     "name": "stdout",
     "output_type": "stream",
     "text": [
      "[[0.72886761 0.7341893 ]\n",
      " [0.75414607 0.74855941]\n",
      " [0.6692     0.6722    ]]\n",
      "rec time now 1 dataset now: Syn4\n"
     ]
    },
    {
     "name": "stderr",
     "output_type": "stream",
     "text": [
      "TPR mean: 82.8%  std: 26.4%\n",
      "FDR mean: 40.0%  std: 28.3%\n"
     ]
    },
    {
     "name": "stdout",
     "output_type": "stream",
     "text": [
      "[[0.72886761 0.73082803]\n",
      " [0.75414607 0.74090164]\n",
      " [0.6692     0.6699    ]]\n",
      "rec time now 2 dataset now: Syn4\n"
     ]
    },
    {
     "name": "stderr",
     "output_type": "stream",
     "text": [
      "TPR mean: 81.6%  std: 28.1%\n",
      "FDR mean: 39.5%  std: 29.2%\n"
     ]
    },
    {
     "name": "stdout",
     "output_type": "stream",
     "text": [
      "[[0.72886761 0.72783023]\n",
      " [0.75414607 0.73687491]\n",
      " [0.6692     0.6689    ]]\n",
      "rec time now 3 dataset now: Syn4\n"
     ]
    },
    {
     "name": "stderr",
     "output_type": "stream",
     "text": [
      "TPR mean: 81.3%  std: 28.6%\n",
      "FDR mean: 39.4%  std: 29.3%\n",
      "Epoch:      0, d_loss (Acc)): 0.626, v_loss (Acc): 0.583, g_loss: -0.3157\n"
     ]
    },
    {
     "name": "stdout",
     "output_type": "stream",
     "text": [
      "[[0.72886761 0.72762589]\n",
      " [0.75414607 0.73657846]\n",
      " [0.6692     0.6693    ]]\n",
      "now at training epoch number 400 hyp-params: lamda 0.0240 prior 0.4600\n",
      "rec time now 0 dataset now: Syn4\n"
     ]
    },
    {
     "name": "stderr",
     "output_type": "stream",
     "text": [
      "TPR mean: 91.3%  std: 17.1%\n",
      "FDR mean: 41.9%  std: 23.6%\n"
     ]
    },
    {
     "name": "stdout",
     "output_type": "stream",
     "text": [
      "[[0.73642532 0.74044645]\n",
      " [0.75865979 0.76341984]\n",
      " [0.6758     0.6768    ]]\n",
      "rec time now 1 dataset now: Syn4\n"
     ]
    },
    {
     "name": "stderr",
     "output_type": "stream",
     "text": [
      "TPR mean: 88.8%  std: 21.0%\n",
      "FDR mean: 38.5%  std: 26.2%\n"
     ]
    },
    {
     "name": "stdout",
     "output_type": "stream",
     "text": [
      "[[0.73642532 0.73925087]\n",
      " [0.75865979 0.75942791]\n",
      " [0.6758     0.6751    ]]\n",
      "rec time now 2 dataset now: Syn4\n"
     ]
    },
    {
     "name": "stderr",
     "output_type": "stream",
     "text": [
      "TPR mean: 88.3%  std: 21.8%\n",
      "FDR mean: 37.9%  std: 26.6%\n"
     ]
    },
    {
     "name": "stdout",
     "output_type": "stream",
     "text": [
      "[[0.73642532 0.73809428]\n",
      " [0.75865979 0.75803319]\n",
      " [0.6758     0.6735    ]]\n",
      "rec time now 3 dataset now: Syn4\n"
     ]
    },
    {
     "name": "stderr",
     "output_type": "stream",
     "text": [
      "TPR mean: 88.2%  std: 22.0%\n",
      "FDR mean: 37.8%  std: 26.6%\n",
      "Epoch:      0, d_loss (Acc)): 0.649, v_loss (Acc): 0.595, g_loss: -0.3776\n"
     ]
    },
    {
     "name": "stdout",
     "output_type": "stream",
     "text": [
      "[[0.73642532 0.73780708]\n",
      " [0.75865979 0.75791298]\n",
      " [0.6758     0.6729    ]]\n",
      "now at training epoch number 500 hyp-params: lamda 0.0300 prior 0.4500\n",
      "rec time now 0 dataset now: Syn4\n"
     ]
    },
    {
     "name": "stderr",
     "output_type": "stream",
     "text": [
      "TPR mean: 93.6%  std: 15.2%\n",
      "FDR mean: 40.5%  std: 22.9%\n"
     ]
    },
    {
     "name": "stdout",
     "output_type": "stream",
     "text": [
      "[[0.73726269 0.7487361 ]\n",
      " [0.75757184 0.76650638]\n",
      " [0.675      0.6846    ]]\n",
      "rec time now 1 dataset now: Syn4\n"
     ]
    },
    {
     "name": "stderr",
     "output_type": "stream",
     "text": [
      "TPR mean: 91.9%  std: 18.3%\n",
      "FDR mean: 36.8%  std: 25.1%\n"
     ]
    },
    {
     "name": "stdout",
     "output_type": "stream",
     "text": [
      "[[0.73726269 0.74602507]\n",
      " [0.75757184 0.75904291]\n",
      " [0.675      0.6843    ]]\n",
      "rec time now 2 dataset now: Syn4\n"
     ]
    },
    {
     "name": "stderr",
     "output_type": "stream",
     "text": [
      "TPR mean: 91.6%  std: 19.0%\n",
      "FDR mean: 36.3%  std: 25.4%\n"
     ]
    },
    {
     "name": "stdout",
     "output_type": "stream",
     "text": [
      "[[0.73726269 0.74588384]\n",
      " [0.75757184 0.75907347]\n",
      " [0.675      0.6826    ]]\n",
      "rec time now 3 dataset now: Syn4\n"
     ]
    },
    {
     "name": "stderr",
     "output_type": "stream",
     "text": [
      "TPR mean: 91.6%  std: 19.1%\n",
      "FDR mean: 36.1%  std: 25.4%\n",
      "Epoch:      0, d_loss (Acc)): 0.637, v_loss (Acc): 0.604, g_loss: -0.2609\n"
     ]
    },
    {
     "name": "stdout",
     "output_type": "stream",
     "text": [
      "[[0.73726269 0.746126  ]\n",
      " [0.75757184 0.7597268 ]\n",
      " [0.675      0.6826    ]]\n",
      "now at training epoch number 600 hyp-params: lamda 0.0360 prior 0.4400\n",
      "rec time now 0 dataset now: Syn4\n"
     ]
    },
    {
     "name": "stderr",
     "output_type": "stream",
     "text": [
      "TPR mean: 96.0%  std: 12.5%\n",
      "FDR mean: 37.8%  std: 22.5%\n"
     ]
    },
    {
     "name": "stdout",
     "output_type": "stream",
     "text": [
      "[[0.74332729 0.74794556]\n",
      " [0.76199959 0.76076874]\n",
      " [0.6794     0.6859    ]]\n",
      "rec time now 1 dataset now: Syn4\n"
     ]
    },
    {
     "name": "stderr",
     "output_type": "stream",
     "text": [
      "TPR mean: 95.3%  std: 13.9%\n",
      "FDR mean: 34.1%  std: 24.3%\n"
     ]
    },
    {
     "name": "stdout",
     "output_type": "stream",
     "text": [
      "[[0.74332729 0.74404997]\n",
      " [0.76199959 0.75219087]\n",
      " [0.6794     0.6829    ]]\n",
      "rec time now 2 dataset now: Syn4\n"
     ]
    },
    {
     "name": "stderr",
     "output_type": "stream",
     "text": [
      "TPR mean: 95.2%  std: 14.1%\n",
      "FDR mean: 33.6%  std: 24.4%\n"
     ]
    },
    {
     "name": "stdout",
     "output_type": "stream",
     "text": [
      "[[0.74332729 0.74401334]\n",
      " [0.76199959 0.75268048]\n",
      " [0.6794     0.6834    ]]\n",
      "rec time now 3 dataset now: Syn4\n"
     ]
    },
    {
     "name": "stderr",
     "output_type": "stream",
     "text": [
      "TPR mean: 95.2%  std: 14.1%\n",
      "FDR mean: 33.5%  std: 24.5%\n",
      "Epoch:      0, d_loss (Acc)): 0.596, v_loss (Acc): 0.556, g_loss: -0.2681\n"
     ]
    },
    {
     "name": "stdout",
     "output_type": "stream",
     "text": [
      "[[0.74332729 0.74382321]\n",
      " [0.76199959 0.7525809 ]\n",
      " [0.6794     0.6832    ]]\n",
      "now at training epoch number 700 hyp-params: lamda 0.0420 prior 0.4300\n",
      "rec time now 0 dataset now: Syn4\n"
     ]
    },
    {
     "name": "stderr",
     "output_type": "stream",
     "text": [
      "TPR mean: 98.0%  std: 9.2%\n",
      "FDR mean: 35.5%  std: 22.4%\n"
     ]
    },
    {
     "name": "stdout",
     "output_type": "stream",
     "text": [
      "[[0.74557889 0.76123698]\n",
      " [0.76433775 0.78137319]\n",
      " [0.682      0.694     ]]\n",
      "rec time now 1 dataset now: Syn4\n"
     ]
    },
    {
     "name": "stderr",
     "output_type": "stream",
     "text": [
      "TPR mean: 97.7%  std: 9.9%\n",
      "FDR mean: 31.2%  std: 24.2%\n"
     ]
    },
    {
     "name": "stdout",
     "output_type": "stream",
     "text": [
      "[[0.74557889 0.75586611]\n",
      " [0.76433775 0.77198351]\n",
      " [0.682      0.6888    ]]\n",
      "rec time now 2 dataset now: Syn4\n"
     ]
    },
    {
     "name": "stderr",
     "output_type": "stream",
     "text": [
      "TPR mean: 97.6%  std: 10.0%\n",
      "FDR mean: 30.8%  std: 24.4%\n"
     ]
    },
    {
     "name": "stdout",
     "output_type": "stream",
     "text": [
      "[[0.74557889 0.75556533]\n",
      " [0.76433775 0.77132985]\n",
      " [0.682      0.6888    ]]\n",
      "rec time now 3 dataset now: Syn4\n"
     ]
    },
    {
     "name": "stderr",
     "output_type": "stream",
     "text": [
      "TPR mean: 97.6%  std: 10.0%\n",
      "FDR mean: 30.7%  std: 24.4%\n",
      "Epoch:      0, d_loss (Acc)): 0.594, v_loss (Acc): 0.550, g_loss: -0.3026\n"
     ]
    },
    {
     "name": "stdout",
     "output_type": "stream",
     "text": [
      "[[0.74557889 0.75552705]\n",
      " [0.76433775 0.77126336]\n",
      " [0.682      0.6889    ]]\n",
      "now at training epoch number 800 hyp-params: lamda 0.0480 prior 0.4200\n",
      "rec time now 0 dataset now: Syn4\n"
     ]
    },
    {
     "name": "stderr",
     "output_type": "stream",
     "text": [
      "TPR mean: 99.1%  std: 5.7%\n",
      "FDR mean: 32.2%  std: 22.3%\n"
     ]
    },
    {
     "name": "stdout",
     "output_type": "stream",
     "text": [
      "[[0.74746715 0.76077151]\n",
      " [0.76565508 0.77440204]\n",
      " [0.6805     0.6949    ]]\n",
      "rec time now 1 dataset now: Syn4\n"
     ]
    },
    {
     "name": "stderr",
     "output_type": "stream",
     "text": [
      "TPR mean: 99.1%  std: 6.0%\n",
      "FDR mean: 27.9%  std: 23.9%\n"
     ]
    },
    {
     "name": "stdout",
     "output_type": "stream",
     "text": [
      "[[0.74746715 0.75361646]\n",
      " [0.76565508 0.7641929 ]\n",
      " [0.6805     0.6911    ]]\n",
      "rec time now 2 dataset now: Syn4\n"
     ]
    },
    {
     "name": "stderr",
     "output_type": "stream",
     "text": [
      "TPR mean: 99.1%  std: 6.0%\n",
      "FDR mean: 27.5%  std: 24.0%\n"
     ]
    },
    {
     "name": "stdout",
     "output_type": "stream",
     "text": [
      "[[0.74746715 0.75326812]\n",
      " [0.76565508 0.76330248]\n",
      " [0.6805     0.6906    ]]\n",
      "rec time now 3 dataset now: Syn4\n"
     ]
    },
    {
     "name": "stderr",
     "output_type": "stream",
     "text": [
      "TPR mean: 99.1%  std: 6.0%\n",
      "FDR mean: 27.5%  std: 24.0%\n",
      "Epoch:      0, d_loss (Acc)): 0.603, v_loss (Acc): 0.566, g_loss: -0.2447\n"
     ]
    },
    {
     "name": "stdout",
     "output_type": "stream",
     "text": [
      "[[0.74746715 0.75327856]\n",
      " [0.76565508 0.7633062 ]\n",
      " [0.6805     0.6906    ]]\n",
      "now at training epoch number 900 hyp-params: lamda 0.0540 prior 0.4100\n",
      "rec time now 0 dataset now: Syn4\n"
     ]
    },
    {
     "name": "stderr",
     "output_type": "stream",
     "text": [
      "TPR mean: 99.7%  std: 3.1%\n",
      "FDR mean: 28.9%  std: 23.2%\n"
     ]
    },
    {
     "name": "stdout",
     "output_type": "stream",
     "text": [
      "[[0.74397883 0.75901238]\n",
      " [0.75931089 0.76939445]\n",
      " [0.6789     0.7007    ]]\n",
      "rec time now 1 dataset now: Syn4\n"
     ]
    },
    {
     "name": "stderr",
     "output_type": "stream",
     "text": [
      "TPR mean: 99.7%  std: 3.4%\n",
      "FDR mean: 24.8%  std: 24.2%\n"
     ]
    },
    {
     "name": "stdout",
     "output_type": "stream",
     "text": [
      "[[0.74397883 0.75481128]\n",
      " [0.75931089 0.76331041]\n",
      " [0.6789     0.6994    ]]\n",
      "rec time now 2 dataset now: Syn4\n"
     ]
    },
    {
     "name": "stderr",
     "output_type": "stream",
     "text": [
      "TPR mean: 99.7%  std: 3.4%\n",
      "FDR mean: 24.4%  std: 24.3%\n"
     ]
    },
    {
     "name": "stdout",
     "output_type": "stream",
     "text": [
      "[[0.74397883 0.75420444]\n",
      " [0.75931089 0.76238023]\n",
      " [0.6789     0.6988    ]]\n",
      "rec time now 3 dataset now: Syn4\n"
     ]
    },
    {
     "name": "stderr",
     "output_type": "stream",
     "text": [
      "TPR mean: 99.7%  std: 3.4%\n",
      "FDR mean: 24.4%  std: 24.3%\n",
      "Epoch:      0, d_loss (Acc)): 0.592, v_loss (Acc): 0.560, g_loss: -0.2284\n"
     ]
    },
    {
     "name": "stdout",
     "output_type": "stream",
     "text": [
      "[[0.74397883 0.75419369]\n",
      " [0.75931089 0.76243141]\n",
      " [0.6789     0.6986    ]]\n",
      "now at training epoch number 1000 hyp-params: lamda 0.0600 prior 0.4000\n",
      "rec time now 0 dataset now: Syn4\n"
     ]
    },
    {
     "name": "stderr",
     "output_type": "stream",
     "text": [
      "TPR mean: 99.9%  std: 1.7%\n",
      "FDR mean: 25.3%  std: 23.4%\n"
     ]
    },
    {
     "name": "stdout",
     "output_type": "stream",
     "text": [
      "[[0.75254675 0.7499432 ]\n",
      " [0.76866938 0.75187805]\n",
      " [0.6856     0.6926    ]]\n",
      "rec time now 1 dataset now: Syn4\n"
     ]
    },
    {
     "name": "stderr",
     "output_type": "stream",
     "text": [
      "TPR mean: 99.9%  std: 1.8%\n",
      "FDR mean: 21.3%  std: 24.1%\n"
     ]
    },
    {
     "name": "stdout",
     "output_type": "stream",
     "text": [
      "[[0.75254675 0.73936847]\n",
      " [0.76866938 0.73677078]\n",
      " [0.6856     0.6859    ]]\n",
      "rec time now 2 dataset now: Syn4\n"
     ]
    },
    {
     "name": "stderr",
     "output_type": "stream",
     "text": [
      "TPR mean: 99.9%  std: 1.8%\n",
      "FDR mean: 21.0%  std: 24.2%\n"
     ]
    },
    {
     "name": "stdout",
     "output_type": "stream",
     "text": [
      "[[0.75254675 0.73919584]\n",
      " [0.76866938 0.73649234]\n",
      " [0.6856     0.6856    ]]\n",
      "rec time now 3 dataset now: Syn4\n"
     ]
    },
    {
     "name": "stderr",
     "output_type": "stream",
     "text": [
      "TPR mean: 99.9%  std: 1.8%\n",
      "FDR mean: 21.0%  std: 24.2%\n",
      "Epoch:      0, d_loss (Acc)): 0.583, v_loss (Acc): 0.560, g_loss: -0.1373\n"
     ]
    },
    {
     "name": "stdout",
     "output_type": "stream",
     "text": [
      "[[0.75254675 0.73920492]\n",
      " [0.76866938 0.73650513]\n",
      " [0.6856     0.6856    ]]\n",
      "now at training epoch number 1100 hyp-params: lamda 0.0660 prior 0.3900\n",
      "rec time now 0 dataset now: Syn4\n"
     ]
    },
    {
     "name": "stderr",
     "output_type": "stream",
     "text": [
      "TPR mean: 100.0%  std: 1.2%\n",
      "FDR mean: 21.5%  std: 23.4%\n"
     ]
    },
    {
     "name": "stdout",
     "output_type": "stream",
     "text": [
      "[[0.75226101 0.7448099 ]\n",
      " [0.76873887 0.74482592]\n",
      " [0.6831     0.689     ]]\n",
      "rec time now 1 dataset now: Syn4\n"
     ]
    },
    {
     "name": "stderr",
     "output_type": "stream",
     "text": [
      "TPR mean: 100.0%  std: 1.3%\n",
      "FDR mean: 19.0%  std: 23.6%\n"
     ]
    },
    {
     "name": "stdout",
     "output_type": "stream",
     "text": [
      "[[0.75226101 0.73877008]\n",
      " [0.76873887 0.73633744]\n",
      " [0.6831     0.6857    ]]\n",
      "rec time now 2 dataset now: Syn4\n"
     ]
    },
    {
     "name": "stderr",
     "output_type": "stream",
     "text": [
      "TPR mean: 100.0%  std: 1.3%\n",
      "FDR mean: 18.9%  std: 23.6%\n"
     ]
    },
    {
     "name": "stdout",
     "output_type": "stream",
     "text": [
      "[[0.75226101 0.73889442]\n",
      " [0.76873887 0.73650404]\n",
      " [0.6831     0.6857    ]]\n",
      "rec time now 3 dataset now: Syn4\n"
     ]
    },
    {
     "name": "stderr",
     "output_type": "stream",
     "text": [
      "TPR mean: 100.0%  std: 1.3%\n",
      "FDR mean: 18.9%  std: 23.6%\n",
      "Epoch:      0, d_loss (Acc)): 0.579, v_loss (Acc): 0.551, g_loss: -0.1633\n"
     ]
    },
    {
     "name": "stdout",
     "output_type": "stream",
     "text": [
      "[[0.75226101 0.73888217]\n",
      " [0.76873887 0.7365089 ]\n",
      " [0.6831     0.6857    ]]\n",
      "now at training epoch number 1200 hyp-params: lamda 0.0720 prior 0.3800\n",
      "rec time now 0 dataset now: Syn4\n"
     ]
    },
    {
     "name": "stderr",
     "output_type": "stream",
     "text": [
      "TPR mean: 100.0%  std: 0.8%\n",
      "FDR mean: 19.1%  std: 23.3%\n"
     ]
    },
    {
     "name": "stdout",
     "output_type": "stream",
     "text": [
      "[[0.75115043 0.75095286]\n",
      " [0.76779694 0.75046326]\n",
      " [0.6818     0.6918    ]]\n",
      "rec time now 1 dataset now: Syn4\n"
     ]
    },
    {
     "name": "stderr",
     "output_type": "stream",
     "text": [
      "TPR mean: 100.0%  std: 0.9%\n",
      "FDR mean: 17.3%  std: 23.2%\n"
     ]
    },
    {
     "name": "stdout",
     "output_type": "stream",
     "text": [
      "[[0.75115043 0.74797392]\n",
      " [0.76779694 0.745982  ]\n",
      " [0.6818     0.6912    ]]\n",
      "rec time now 2 dataset now: Syn4\n"
     ]
    },
    {
     "name": "stderr",
     "output_type": "stream",
     "text": [
      "TPR mean: 100.0%  std: 0.9%\n",
      "FDR mean: 17.2%  std: 23.2%\n"
     ]
    },
    {
     "name": "stdout",
     "output_type": "stream",
     "text": [
      "[[0.75115043 0.74805365]\n",
      " [0.76779694 0.74615159]\n",
      " [0.6818     0.6909    ]]\n",
      "rec time now 3 dataset now: Syn4\n"
     ]
    },
    {
     "name": "stderr",
     "output_type": "stream",
     "text": [
      "TPR mean: 100.0%  std: 0.9%\n",
      "FDR mean: 17.2%  std: 23.2%\n",
      "Epoch:      0, d_loss (Acc)): 0.587, v_loss (Acc): 0.557, g_loss: -0.2160\n"
     ]
    },
    {
     "name": "stdout",
     "output_type": "stream",
     "text": [
      "[[0.75115043 0.74802413]\n",
      " [0.76779694 0.7461312 ]\n",
      " [0.6818     0.6909    ]]\n",
      "now at training epoch number 1300 hyp-params: lamda 0.0780 prior 0.3700\n",
      "rec time now 0 dataset now: Syn4\n"
     ]
    },
    {
     "name": "stderr",
     "output_type": "stream",
     "text": [
      "TPR mean: 100.0%  std: 0.3%\n",
      "FDR mean: 17.3%  std: 22.6%\n"
     ]
    },
    {
     "name": "stdout",
     "output_type": "stream",
     "text": [
      "[[0.75318279 0.73974745]\n",
      " [0.76614656 0.73581715]\n",
      " [0.688      0.6875    ]]\n",
      "rec time now 1 dataset now: Syn4\n"
     ]
    },
    {
     "name": "stderr",
     "output_type": "stream",
     "text": [
      "TPR mean: 100.0%  std: 0.5%\n",
      "FDR mean: 15.9%  std: 22.4%\n"
     ]
    },
    {
     "name": "stdout",
     "output_type": "stream",
     "text": [
      "[[0.75318279 0.73973438]\n",
      " [0.76614656 0.73564484]\n",
      " [0.688      0.6868    ]]\n",
      "rec time now 2 dataset now: Syn4\n"
     ]
    },
    {
     "name": "stderr",
     "output_type": "stream",
     "text": [
      "TPR mean: 100.0%  std: 0.5%\n",
      "FDR mean: 15.8%  std: 22.4%\n"
     ]
    },
    {
     "name": "stdout",
     "output_type": "stream",
     "text": [
      "[[0.75318279 0.73996037]\n",
      " [0.76614656 0.7360071 ]\n",
      " [0.688      0.6871    ]]\n",
      "rec time now 3 dataset now: Syn4\n"
     ]
    },
    {
     "name": "stderr",
     "output_type": "stream",
     "text": [
      "TPR mean: 100.0%  std: 0.5%\n",
      "FDR mean: 15.8%  std: 22.4%\n",
      "Epoch:      0, d_loss (Acc)): 0.576, v_loss (Acc): 0.548, g_loss: -0.1446\n"
     ]
    },
    {
     "name": "stdout",
     "output_type": "stream",
     "text": [
      "[[0.75318279 0.7399524 ]\n",
      " [0.76614656 0.73601155]\n",
      " [0.688      0.6871    ]]\n",
      "now at training epoch number 1400 hyp-params: lamda 0.0840 prior 0.3600\n",
      "rec time now 0 dataset now: Syn4\n"
     ]
    },
    {
     "name": "stderr",
     "output_type": "stream",
     "text": [
      "TPR mean: 100.0%  std: 0.5%\n",
      "FDR mean: 16.3%  std: 22.5%\n"
     ]
    },
    {
     "name": "stdout",
     "output_type": "stream",
     "text": [
      "[[0.75720135 0.74209993]\n",
      " [0.77161132 0.73670525]\n",
      " [0.688      0.6909    ]]\n",
      "rec time now 1 dataset now: Syn4\n"
     ]
    },
    {
     "name": "stderr",
     "output_type": "stream",
     "text": [
      "TPR mean: 100.0%  std: 0.6%\n",
      "FDR mean: 15.0%  std: 22.2%\n"
     ]
    },
    {
     "name": "stdout",
     "output_type": "stream",
     "text": [
      "[[0.75720135 0.74260142]\n",
      " [0.77161132 0.73694347]\n",
      " [0.688      0.6904    ]]\n",
      "rec time now 2 dataset now: Syn4\n"
     ]
    },
    {
     "name": "stderr",
     "output_type": "stream",
     "text": [
      "TPR mean: 100.0%  std: 0.6%\n",
      "FDR mean: 14.9%  std: 22.2%\n"
     ]
    },
    {
     "name": "stdout",
     "output_type": "stream",
     "text": [
      "[[0.75720135 0.74252223]\n",
      " [0.77161132 0.73680727]\n",
      " [0.688      0.6908    ]]\n",
      "rec time now 3 dataset now: Syn4\n"
     ]
    },
    {
     "name": "stderr",
     "output_type": "stream",
     "text": [
      "TPR mean: 100.0%  std: 0.6%\n",
      "FDR mean: 14.9%  std: 22.2%\n",
      "Epoch:      0, d_loss (Acc)): 0.569, v_loss (Acc): 0.534, g_loss: -0.1531\n"
     ]
    },
    {
     "name": "stdout",
     "output_type": "stream",
     "text": [
      "[[0.75720135 0.74252554]\n",
      " [0.77161132 0.73682188]\n",
      " [0.688      0.6909    ]]\n",
      "now at training epoch number 1500 hyp-params: lamda 0.0900 prior 0.3500\n",
      "rec time now 0 dataset now: Syn4\n"
     ]
    },
    {
     "name": "stderr",
     "output_type": "stream",
     "text": [
      "TPR mean: 100.0%  std: 0.3%\n",
      "FDR mean: 14.7%  std: 21.8%\n"
     ]
    },
    {
     "name": "stdout",
     "output_type": "stream",
     "text": [
      "[[0.75223099 0.7378663 ]\n",
      " [0.76797435 0.73079398]\n",
      " [0.6815     0.6812    ]]\n",
      "rec time now 1 dataset now: Syn4\n"
     ]
    },
    {
     "name": "stderr",
     "output_type": "stream",
     "text": [
      "TPR mean: 100.0%  std: 0.3%\n",
      "FDR mean: 13.3%  std: 21.4%\n"
     ]
    },
    {
     "name": "stdout",
     "output_type": "stream",
     "text": [
      "[[0.75223099 0.73883945]\n",
      " [0.76797435 0.73164544]\n",
      " [0.6815     0.6812    ]]\n",
      "rec time now 2 dataset now: Syn4\n"
     ]
    },
    {
     "name": "stderr",
     "output_type": "stream",
     "text": [
      "TPR mean: 100.0%  std: 0.3%\n",
      "FDR mean: 13.3%  std: 21.3%\n"
     ]
    },
    {
     "name": "stdout",
     "output_type": "stream",
     "text": [
      "[[0.75223099 0.73877444]\n",
      " [0.76797435 0.73165269]\n",
      " [0.6815     0.681     ]]\n",
      "rec time now 3 dataset now: Syn4\n"
     ]
    },
    {
     "name": "stderr",
     "output_type": "stream",
     "text": [
      "TPR mean: 100.0%  std: 0.3%\n",
      "FDR mean: 13.3%  std: 21.3%\n",
      "Epoch:      0, d_loss (Acc)): 0.540, v_loss (Acc): 0.530, g_loss: -0.0526\n"
     ]
    },
    {
     "name": "stdout",
     "output_type": "stream",
     "text": [
      "[[0.75223099 0.73874506]\n",
      " [0.76797435 0.73162746]\n",
      " [0.6815     0.681     ]]\n",
      "now at training epoch number 1600 hyp-params: lamda 0.0960 prior 0.3400\n",
      "rec time now 0 dataset now: Syn4\n"
     ]
    },
    {
     "name": "stderr",
     "output_type": "stream",
     "text": [
      "TPR mean: 100.0%  std: 0.5%\n",
      "FDR mean: 14.0%  std: 21.6%\n"
     ]
    },
    {
     "name": "stdout",
     "output_type": "stream",
     "text": [
      "[[0.75597455 0.74119379]\n",
      " [0.77031715 0.73645667]\n",
      " [0.6862     0.687     ]]\n",
      "rec time now 1 dataset now: Syn4\n"
     ]
    },
    {
     "name": "stderr",
     "output_type": "stream",
     "text": [
      "TPR mean: 100.0%  std: 0.5%\n",
      "FDR mean: 12.8%  std: 21.1%\n"
     ]
    },
    {
     "name": "stdout",
     "output_type": "stream",
     "text": [
      "[[0.75597455 0.74288141]\n",
      " [0.77031715 0.73900939]\n",
      " [0.6862     0.6878    ]]\n",
      "rec time now 2 dataset now: Syn4\n"
     ]
    },
    {
     "name": "stderr",
     "output_type": "stream",
     "text": [
      "TPR mean: 100.0%  std: 0.5%\n",
      "FDR mean: 12.7%  std: 21.1%\n"
     ]
    },
    {
     "name": "stdout",
     "output_type": "stream",
     "text": [
      "[[0.75597455 0.74278421]\n",
      " [0.77031715 0.73896168]\n",
      " [0.6862     0.6881    ]]\n",
      "rec time now 3 dataset now: Syn4\n"
     ]
    },
    {
     "name": "stderr",
     "output_type": "stream",
     "text": [
      "TPR mean: 100.0%  std: 0.5%\n",
      "FDR mean: 12.7%  std: 21.1%\n",
      "Epoch:      0, d_loss (Acc)): 0.546, v_loss (Acc): 0.531, g_loss: -0.0756\n"
     ]
    },
    {
     "name": "stdout",
     "output_type": "stream",
     "text": [
      "[[0.75597455 0.74273523]\n",
      " [0.77031715 0.73898776]\n",
      " [0.6862     0.688     ]]\n",
      "now at training epoch number 1700 hyp-params: lamda 0.1020 prior 0.3300\n",
      "rec time now 0 dataset now: Syn4\n"
     ]
    },
    {
     "name": "stderr",
     "output_type": "stream",
     "text": [
      "TPR mean: 100.0%  std: 0.5%\n",
      "FDR mean: 13.4%  std: 21.5%\n"
     ]
    },
    {
     "name": "stdout",
     "output_type": "stream",
     "text": [
      "[[0.75616293 0.73847416]\n",
      " [0.77138019 0.73125111]\n",
      " [0.6855     0.6861    ]]\n",
      "rec time now 1 dataset now: Syn4\n"
     ]
    },
    {
     "name": "stderr",
     "output_type": "stream",
     "text": [
      "TPR mean: 100.0%  std: 0.5%\n",
      "FDR mean: 12.3%  std: 21.0%\n"
     ]
    },
    {
     "name": "stdout",
     "output_type": "stream",
     "text": [
      "[[0.75616293 0.7402143 ]\n",
      " [0.77138019 0.73373017]\n",
      " [0.6855     0.6871    ]]\n",
      "rec time now 2 dataset now: Syn4\n"
     ]
    },
    {
     "name": "stderr",
     "output_type": "stream",
     "text": [
      "TPR mean: 100.0%  std: 0.5%\n",
      "FDR mean: 12.2%  std: 20.9%\n"
     ]
    },
    {
     "name": "stdout",
     "output_type": "stream",
     "text": [
      "[[0.75616293 0.7399771 ]\n",
      " [0.77138019 0.73348734]\n",
      " [0.6855     0.6872    ]]\n",
      "rec time now 3 dataset now: Syn4\n"
     ]
    },
    {
     "name": "stderr",
     "output_type": "stream",
     "text": [
      "TPR mean: 100.0%  std: 0.5%\n",
      "FDR mean: 12.2%  std: 20.9%\n",
      "Epoch:      0, d_loss (Acc)): 0.563, v_loss (Acc): 0.544, g_loss: -0.0654\n"
     ]
    },
    {
     "name": "stdout",
     "output_type": "stream",
     "text": [
      "[[0.75616293 0.73994523]\n",
      " [0.77138019 0.73346881]\n",
      " [0.6855     0.6872    ]]\n",
      "now at training epoch number 1800 hyp-params: lamda 0.1080 prior 0.3200\n",
      "rec time now 0 dataset now: Syn4\n"
     ]
    },
    {
     "name": "stderr",
     "output_type": "stream",
     "text": [
      "TPR mean: 100.0%  std: 1.1%\n",
      "FDR mean: 12.5%  std: 21.0%\n"
     ]
    },
    {
     "name": "stdout",
     "output_type": "stream",
     "text": [
      "[[0.75807614 0.7440446 ]\n",
      " [0.77309083 0.73915456]\n",
      " [0.6871     0.6887    ]]\n",
      "rec time now 1 dataset now: Syn4\n"
     ]
    },
    {
     "name": "stderr",
     "output_type": "stream",
     "text": [
      "TPR mean: 100.0%  std: 1.2%\n",
      "FDR mean: 11.3%  std: 20.4%\n"
     ]
    },
    {
     "name": "stdout",
     "output_type": "stream",
     "text": [
      "[[0.75807614 0.74528698]\n",
      " [0.77309083 0.74101518]\n",
      " [0.6871     0.6881    ]]\n",
      "rec time now 2 dataset now: Syn4\n"
     ]
    },
    {
     "name": "stderr",
     "output_type": "stream",
     "text": [
      "TPR mean: 100.0%  std: 1.2%\n",
      "FDR mean: 11.2%  std: 20.3%\n"
     ]
    },
    {
     "name": "stdout",
     "output_type": "stream",
     "text": [
      "[[0.75807614 0.74528365]\n",
      " [0.77309083 0.74126463]\n",
      " [0.6871     0.6881    ]]\n",
      "rec time now 3 dataset now: Syn4\n"
     ]
    },
    {
     "name": "stderr",
     "output_type": "stream",
     "text": [
      "TPR mean: 100.0%  std: 1.2%\n",
      "FDR mean: 11.2%  std: 20.3%\n",
      "Epoch:      0, d_loss (Acc)): 0.545, v_loss (Acc): 0.537, g_loss: -0.0021\n"
     ]
    },
    {
     "name": "stdout",
     "output_type": "stream",
     "text": [
      "[[0.75807614 0.74528427]\n",
      " [0.77309083 0.74126491]\n",
      " [0.6871     0.6881    ]]\n",
      "now at training epoch number 1900 hyp-params: lamda 0.1140 prior 0.3100\n",
      "rec time now 0 dataset now: Syn4\n"
     ]
    },
    {
     "name": "stderr",
     "output_type": "stream",
     "text": [
      "TPR mean: 100.0%  std: 1.0%\n",
      "FDR mean: 11.8%  std: 20.8%\n"
     ]
    },
    {
     "name": "stdout",
     "output_type": "stream",
     "text": [
      "[[0.75639288 0.7572414 ]\n",
      " [0.77242398 0.7549685 ]\n",
      " [0.6854     0.6943    ]]\n",
      "rec time now 1 dataset now: Syn4\n"
     ]
    },
    {
     "name": "stderr",
     "output_type": "stream",
     "text": [
      "TPR mean: 100.0%  std: 1.2%\n",
      "FDR mean: 10.7%  std: 20.2%\n"
     ]
    },
    {
     "name": "stdout",
     "output_type": "stream",
     "text": [
      "[[0.75639288 0.75848599]\n",
      " [0.77242398 0.75619149]\n",
      " [0.6854     0.6958    ]]\n",
      "rec time now 2 dataset now: Syn4\n"
     ]
    },
    {
     "name": "stderr",
     "output_type": "stream",
     "text": [
      "TPR mean: 100.0%  std: 1.2%\n",
      "FDR mean: 10.6%  std: 20.1%\n"
     ]
    },
    {
     "name": "stdout",
     "output_type": "stream",
     "text": [
      "[[0.75639288 0.75850657]\n",
      " [0.77242398 0.75639867]\n",
      " [0.6854     0.6957    ]]\n",
      "rec time now 3 dataset now: Syn4\n"
     ]
    },
    {
     "name": "stderr",
     "output_type": "stream",
     "text": [
      "TPR mean: 100.0%  std: 1.2%\n",
      "FDR mean: 10.6%  std: 20.1%\n",
      "Epoch:      0, d_loss (Acc)): 0.544, v_loss (Acc): 0.540, g_loss: +0.0215\n"
     ]
    },
    {
     "name": "stdout",
     "output_type": "stream",
     "text": [
      "[[0.75639288 0.75850352]\n",
      " [0.77242398 0.75640102]\n",
      " [0.6854     0.6957    ]]\n",
      "now at training epoch number 2000 hyp-params: lamda 0.1200 prior 0.3000\n",
      "rec time now 0 dataset now: Syn4\n"
     ]
    },
    {
     "name": "stderr",
     "output_type": "stream",
     "text": [
      "TPR mean: 100.0%  std: 1.3%\n",
      "FDR mean: 11.3%  std: 20.6%\n"
     ]
    },
    {
     "name": "stdout",
     "output_type": "stream",
     "text": [
      "[[0.75777116 0.74969819]\n",
      " [0.77106641 0.74658404]\n",
      " [0.6888     0.6921    ]]\n",
      "rec time now 1 dataset now: Syn4\n"
     ]
    },
    {
     "name": "stderr",
     "output_type": "stream",
     "text": [
      "TPR mean: 99.9%  std: 1.4%\n",
      "FDR mean: 10.3%  std: 20.0%\n"
     ]
    },
    {
     "name": "stdout",
     "output_type": "stream",
     "text": [
      "[[0.75777116 0.75099379]\n",
      " [0.77106641 0.74804758]\n",
      " [0.6888     0.6936    ]]\n",
      "rec time now 2 dataset now: Syn4\n"
     ]
    },
    {
     "name": "stderr",
     "output_type": "stream",
     "text": [
      "TPR mean: 99.9%  std: 1.4%\n",
      "FDR mean: 10.2%  std: 20.0%\n"
     ]
    },
    {
     "name": "stdout",
     "output_type": "stream",
     "text": [
      "[[0.75777116 0.75096258]\n",
      " [0.77106641 0.74809827]\n",
      " [0.6888     0.6934    ]]\n",
      "rec time now 3 dataset now: Syn4\n"
     ]
    },
    {
     "name": "stderr",
     "output_type": "stream",
     "text": [
      "TPR mean: 99.9%  std: 1.4%\n",
      "FDR mean: 10.2%  std: 20.0%\n",
      "Epoch:      0, d_loss (Acc)): 0.538, v_loss (Acc): 0.515, g_loss: -0.0681\n"
     ]
    },
    {
     "name": "stdout",
     "output_type": "stream",
     "text": [
      "[[0.75777116 0.75095987]\n",
      " [0.77106641 0.74809818]\n",
      " [0.6888     0.6934    ]]\n",
      "now at training epoch number 2100 hyp-params: lamda 0.1260 prior 0.2900\n",
      "rec time now 0 dataset now: Syn4\n"
     ]
    },
    {
     "name": "stderr",
     "output_type": "stream",
     "text": [
      "TPR mean: 99.9%  std: 1.6%\n",
      "FDR mean: 10.6%  std: 20.2%\n"
     ]
    },
    {
     "name": "stdout",
     "output_type": "stream",
     "text": [
      "[[0.75974238 0.74855833]\n",
      " [0.77254444 0.74222582]\n",
      " [0.6893     0.6934    ]]\n",
      "rec time now 1 dataset now: Syn4\n"
     ]
    },
    {
     "name": "stderr",
     "output_type": "stream",
     "text": [
      "TPR mean: 99.9%  std: 1.8%\n",
      "FDR mean: 9.4%  std: 19.4%\n"
     ]
    },
    {
     "name": "stdout",
     "output_type": "stream",
     "text": [
      "[[0.75974238 0.75026404]\n",
      " [0.77254444 0.74409092]\n",
      " [0.6893     0.694     ]]\n",
      "rec time now 2 dataset now: Syn4\n"
     ]
    },
    {
     "name": "stderr",
     "output_type": "stream",
     "text": [
      "TPR mean: 99.9%  std: 1.8%\n",
      "FDR mean: 9.3%  std: 19.4%\n"
     ]
    },
    {
     "name": "stdout",
     "output_type": "stream",
     "text": [
      "[[0.75974238 0.75033768]\n",
      " [0.77254444 0.74437931]\n",
      " [0.6893     0.6939    ]]\n",
      "rec time now 3 dataset now: Syn4\n"
     ]
    },
    {
     "name": "stderr",
     "output_type": "stream",
     "text": [
      "TPR mean: 99.9%  std: 1.8%\n",
      "FDR mean: 9.3%  std: 19.4%\n",
      "Epoch:      0, d_loss (Acc)): 0.529, v_loss (Acc): 0.510, g_loss: -0.0558\n"
     ]
    },
    {
     "name": "stdout",
     "output_type": "stream",
     "text": [
      "[[0.75974238 0.75034162]\n",
      " [0.77254444 0.74447209]\n",
      " [0.6893     0.6937    ]]\n",
      "now at training epoch number 2200 hyp-params: lamda 0.1320 prior 0.2800\n",
      "rec time now 0 dataset now: Syn4\n"
     ]
    },
    {
     "name": "stderr",
     "output_type": "stream",
     "text": [
      "TPR mean: 99.9%  std: 1.9%\n",
      "FDR mean: 9.7%  std: 19.4%\n"
     ]
    },
    {
     "name": "stdout",
     "output_type": "stream",
     "text": [
      "[[0.75564293 0.75627612]\n",
      " [0.77074683 0.75477347]\n",
      " [0.6868     0.6957    ]]\n",
      "rec time now 1 dataset now: Syn4\n"
     ]
    },
    {
     "name": "stderr",
     "output_type": "stream",
     "text": [
      "TPR mean: 99.9%  std: 2.2%\n",
      "FDR mean: 8.5%  std: 18.6%\n"
     ]
    },
    {
     "name": "stdout",
     "output_type": "stream",
     "text": [
      "[[0.75564293 0.75638477]\n",
      " [0.77074683 0.75541427]\n",
      " [0.6868     0.6943    ]]\n",
      "rec time now 2 dataset now: Syn4\n"
     ]
    },
    {
     "name": "stderr",
     "output_type": "stream",
     "text": [
      "TPR mean: 99.9%  std: 2.2%\n",
      "FDR mean: 8.4%  std: 18.5%\n"
     ]
    },
    {
     "name": "stdout",
     "output_type": "stream",
     "text": [
      "[[0.75564293 0.75655874]\n",
      " [0.77074683 0.75577517]\n",
      " [0.6868     0.6945    ]]\n",
      "rec time now 3 dataset now: Syn4\n"
     ]
    },
    {
     "name": "stderr",
     "output_type": "stream",
     "text": [
      "TPR mean: 99.9%  std: 2.2%\n",
      "FDR mean: 8.4%  std: 18.5%\n",
      "Epoch:      0, d_loss (Acc)): 0.559, v_loss (Acc): 0.529, g_loss: -0.0663\n"
     ]
    },
    {
     "name": "stdout",
     "output_type": "stream",
     "text": [
      "[[0.75564293 0.75655774]\n",
      " [0.77074683 0.7557747 ]\n",
      " [0.6868     0.6944    ]]\n",
      "now at training epoch number 2300 hyp-params: lamda 0.1380 prior 0.2700\n",
      "rec time now 0 dataset now: Syn4\n"
     ]
    },
    {
     "name": "stderr",
     "output_type": "stream",
     "text": [
      "TPR mean: 99.9%  std: 1.6%\n",
      "FDR mean: 8.9%  std: 18.7%\n"
     ]
    },
    {
     "name": "stdout",
     "output_type": "stream",
     "text": [
      "[[0.75737185 0.75393413]\n",
      " [0.77304411 0.7514196 ]\n",
      " [0.6858     0.6924    ]]\n",
      "rec time now 1 dataset now: Syn4\n"
     ]
    },
    {
     "name": "stderr",
     "output_type": "stream",
     "text": [
      "TPR mean: 99.9%  std: 1.7%\n",
      "FDR mean: 7.8%  std: 17.9%\n"
     ]
    },
    {
     "name": "stdout",
     "output_type": "stream",
     "text": [
      "[[0.75737185 0.75348391]\n",
      " [0.77304411 0.75124347]\n",
      " [0.6858     0.6924    ]]\n",
      "rec time now 2 dataset now: Syn4\n"
     ]
    },
    {
     "name": "stderr",
     "output_type": "stream",
     "text": [
      "TPR mean: 99.9%  std: 1.7%\n",
      "FDR mean: 7.7%  std: 17.8%\n"
     ]
    },
    {
     "name": "stdout",
     "output_type": "stream",
     "text": [
      "[[0.75737185 0.75387619]\n",
      " [0.77304411 0.75171606]\n",
      " [0.6858     0.6925    ]]\n",
      "rec time now 3 dataset now: Syn4\n"
     ]
    },
    {
     "name": "stderr",
     "output_type": "stream",
     "text": [
      "TPR mean: 99.9%  std: 1.7%\n",
      "FDR mean: 7.7%  std: 17.8%\n",
      "Epoch:      0, d_loss (Acc)): 0.570, v_loss (Acc): 0.541, g_loss: -0.0640\n"
     ]
    },
    {
     "name": "stdout",
     "output_type": "stream",
     "text": [
      "[[0.75737185 0.75390786]\n",
      " [0.77304411 0.75174133]\n",
      " [0.6858     0.6926    ]]\n",
      "now at training epoch number 2400 hyp-params: lamda 0.1440 prior 0.2600\n",
      "rec time now 0 dataset now: Syn4\n"
     ]
    },
    {
     "name": "stderr",
     "output_type": "stream",
     "text": [
      "TPR mean: 99.9%  std: 1.4%\n",
      "FDR mean: 8.5%  std: 18.4%\n"
     ]
    },
    {
     "name": "stdout",
     "output_type": "stream",
     "text": [
      "[[0.76101403 0.76591561]\n",
      " [0.77707163 0.7688562 ]\n",
      " [0.6881     0.7026    ]]\n",
      "rec time now 1 dataset now: Syn4\n"
     ]
    },
    {
     "name": "stderr",
     "output_type": "stream",
     "text": [
      "TPR mean: 99.9%  std: 1.6%\n",
      "FDR mean: 7.5%  std: 17.6%\n"
     ]
    },
    {
     "name": "stdout",
     "output_type": "stream",
     "text": [
      "[[0.76101403 0.76587442]\n",
      " [0.77707163 0.76884039]\n",
      " [0.6881     0.7014    ]]\n",
      "rec time now 2 dataset now: Syn4\n"
     ]
    },
    {
     "name": "stderr",
     "output_type": "stream",
     "text": [
      "TPR mean: 99.9%  std: 1.6%\n",
      "FDR mean: 7.4%  std: 17.6%\n"
     ]
    },
    {
     "name": "stdout",
     "output_type": "stream",
     "text": [
      "[[0.76101403 0.76611242]\n",
      " [0.77707163 0.76921691]\n",
      " [0.6881     0.7014    ]]\n",
      "rec time now 3 dataset now: Syn4\n"
     ]
    },
    {
     "name": "stderr",
     "output_type": "stream",
     "text": [
      "TPR mean: 99.9%  std: 1.6%\n",
      "FDR mean: 7.4%  std: 17.6%\n",
      "Epoch:      0, d_loss (Acc)): 0.542, v_loss (Acc): 0.526, g_loss: -0.0073\n"
     ]
    },
    {
     "name": "stdout",
     "output_type": "stream",
     "text": [
      "[[0.76101403 0.76609153]\n",
      " [0.77707163 0.76919228]\n",
      " [0.6881     0.7014    ]]\n",
      "now at training epoch number 2500 hyp-params: lamda 0.1500 prior 0.2500\n",
      "rec time now 0 dataset now: Syn4\n"
     ]
    },
    {
     "name": "stderr",
     "output_type": "stream",
     "text": [
      "TPR mean: 100.0%  std: 1.4%\n",
      "FDR mean: 8.0%  std: 17.9%\n"
     ]
    },
    {
     "name": "stdout",
     "output_type": "stream",
     "text": [
      "[[0.75849555 0.77122784]\n",
      " [0.7718678  0.77478499]\n",
      " [0.6867     0.7032    ]]\n",
      "rec time now 1 dataset now: Syn4\n"
     ]
    },
    {
     "name": "stderr",
     "output_type": "stream",
     "text": [
      "TPR mean: 99.9%  std: 1.5%\n",
      "FDR mean: 7.0%  std: 17.2%\n"
     ]
    },
    {
     "name": "stdout",
     "output_type": "stream",
     "text": [
      "[[0.75849555 0.77198521]\n",
      " [0.7718678  0.77559327]\n",
      " [0.6867     0.7021    ]]\n",
      "rec time now 2 dataset now: Syn4\n"
     ]
    },
    {
     "name": "stderr",
     "output_type": "stream",
     "text": [
      "TPR mean: 99.9%  std: 1.5%\n",
      "FDR mean: 7.0%  std: 17.1%\n"
     ]
    },
    {
     "name": "stdout",
     "output_type": "stream",
     "text": [
      "[[0.75849555 0.77210596]\n",
      " [0.7718678  0.77582742]\n",
      " [0.6867     0.7024    ]]\n",
      "rec time now 3 dataset now: Syn4\n"
     ]
    },
    {
     "name": "stderr",
     "output_type": "stream",
     "text": [
      "TPR mean: 99.9%  std: 1.5%\n",
      "FDR mean: 7.0%  std: 17.1%\n",
      "Epoch:      0, d_loss (Acc)): 0.538, v_loss (Acc): 0.534, g_loss: +0.0099\n"
     ]
    },
    {
     "name": "stdout",
     "output_type": "stream",
     "text": [
      "[[0.75849555 0.77210596]\n",
      " [0.7718678  0.77582742]\n",
      " [0.6867     0.7024    ]]\n",
      "now at training epoch number 2600 hyp-params: lamda 0.1560 prior 0.2400\n",
      "rec time now 0 dataset now: Syn4\n"
     ]
    },
    {
     "name": "stderr",
     "output_type": "stream",
     "text": [
      "TPR mean: 99.9%  std: 2.0%\n",
      "FDR mean: 7.7%  std: 17.6%\n"
     ]
    },
    {
     "name": "stdout",
     "output_type": "stream",
     "text": [
      "[[0.75930366 0.77337748]\n",
      " [0.77444993 0.7770534 ]\n",
      " [0.689      0.7039    ]]\n",
      "rec time now 1 dataset now: Syn4\n"
     ]
    },
    {
     "name": "stderr",
     "output_type": "stream",
     "text": [
      "TPR mean: 99.9%  std: 2.2%\n",
      "FDR mean: 6.6%  std: 16.7%\n"
     ]
    },
    {
     "name": "stdout",
     "output_type": "stream",
     "text": [
      "[[0.75930366 0.77344149]\n",
      " [0.77444993 0.77661867]\n",
      " [0.689      0.7025    ]]\n",
      "rec time now 2 dataset now: Syn4\n"
     ]
    },
    {
     "name": "stderr",
     "output_type": "stream",
     "text": [
      "TPR mean: 99.9%  std: 2.2%\n",
      "FDR mean: 6.5%  std: 16.7%\n"
     ]
    },
    {
     "name": "stdout",
     "output_type": "stream",
     "text": [
      "[[0.75930366 0.77349778]\n",
      " [0.77444993 0.77670866]\n",
      " [0.689      0.7026    ]]\n",
      "rec time now 3 dataset now: Syn4\n"
     ]
    },
    {
     "name": "stderr",
     "output_type": "stream",
     "text": [
      "TPR mean: 99.9%  std: 2.2%\n",
      "FDR mean: 6.5%  std: 16.7%\n",
      "Epoch:      0, d_loss (Acc)): 0.520, v_loss (Acc): 0.502, g_loss: +0.0052\n"
     ]
    },
    {
     "name": "stdout",
     "output_type": "stream",
     "text": [
      "[[0.75930366 0.77349778]\n",
      " [0.77444993 0.77670866]\n",
      " [0.689      0.7026    ]]\n",
      "now at training epoch number 2700 hyp-params: lamda 0.1620 prior 0.2300\n",
      "rec time now 0 dataset now: Syn4\n"
     ]
    },
    {
     "name": "stderr",
     "output_type": "stream",
     "text": [
      "TPR mean: 99.9%  std: 2.6%\n",
      "FDR mean: 7.2%  std: 17.1%\n"
     ]
    },
    {
     "name": "stdout",
     "output_type": "stream",
     "text": [
      "[[0.76120387 0.76987191]\n",
      " [0.77520014 0.77254428]\n",
      " [0.6944     0.7024    ]]\n",
      "rec time now 1 dataset now: Syn4\n"
     ]
    },
    {
     "name": "stderr",
     "output_type": "stream",
     "text": [
      "TPR mean: 99.8%  std: 2.9%\n",
      "FDR mean: 6.2%  std: 16.3%\n"
     ]
    },
    {
     "name": "stdout",
     "output_type": "stream",
     "text": [
      "[[0.76120387 0.77005911]\n",
      " [0.77520014 0.77261072]\n",
      " [0.6944     0.7018    ]]\n",
      "rec time now 2 dataset now: Syn4\n"
     ]
    },
    {
     "name": "stderr",
     "output_type": "stream",
     "text": [
      "TPR mean: 99.8%  std: 2.9%\n",
      "FDR mean: 6.1%  std: 16.2%\n"
     ]
    },
    {
     "name": "stdout",
     "output_type": "stream",
     "text": [
      "[[0.76120387 0.77031717]\n",
      " [0.77520014 0.77293881]\n",
      " [0.6944     0.7019    ]]\n",
      "rec time now 3 dataset now: Syn4\n"
     ]
    },
    {
     "name": "stderr",
     "output_type": "stream",
     "text": [
      "TPR mean: 99.8%  std: 2.9%\n",
      "FDR mean: 6.1%  std: 16.2%\n",
      "Epoch:      0, d_loss (Acc)): 0.531, v_loss (Acc): 0.493, g_loss: -0.1096\n"
     ]
    },
    {
     "name": "stdout",
     "output_type": "stream",
     "text": [
      "[[0.76120387 0.77032719]\n",
      " [0.77520014 0.77294603]\n",
      " [0.6944     0.7019    ]]\n",
      "now at training epoch number 2800 hyp-params: lamda 0.1680 prior 0.2200\n",
      "rec time now 0 dataset now: Syn4\n"
     ]
    },
    {
     "name": "stderr",
     "output_type": "stream",
     "text": [
      "TPR mean: 99.9%  std: 2.5%\n",
      "FDR mean: 6.8%  std: 16.7%\n"
     ]
    },
    {
     "name": "stdout",
     "output_type": "stream",
     "text": [
      "[[0.75775809 0.78637969]\n",
      " [0.77442647 0.79492532]\n",
      " [0.6884     0.7114    ]]\n",
      "rec time now 1 dataset now: Syn4\n"
     ]
    },
    {
     "name": "stderr",
     "output_type": "stream",
     "text": [
      "TPR mean: 99.8%  std: 3.0%\n",
      "FDR mean: 5.9%  std: 16.0%\n"
     ]
    },
    {
     "name": "stdout",
     "output_type": "stream",
     "text": [
      "[[0.75775809 0.78618411]\n",
      " [0.77442647 0.79430778]\n",
      " [0.6884     0.7125    ]]\n",
      "rec time now 2 dataset now: Syn4\n"
     ]
    },
    {
     "name": "stderr",
     "output_type": "stream",
     "text": [
      "TPR mean: 99.8%  std: 3.0%\n",
      "FDR mean: 5.8%  std: 15.9%\n"
     ]
    },
    {
     "name": "stdout",
     "output_type": "stream",
     "text": [
      "[[0.75775809 0.78624948]\n",
      " [0.77442647 0.79442849]\n",
      " [0.6884     0.7126    ]]\n",
      "rec time now 3 dataset now: Syn4\n"
     ]
    },
    {
     "name": "stderr",
     "output_type": "stream",
     "text": [
      "TPR mean: 99.8%  std: 3.0%\n",
      "FDR mean: 5.8%  std: 15.9%\n",
      "Epoch:      0, d_loss (Acc)): 0.545, v_loss (Acc): 0.537, g_loss: +0.0088\n"
     ]
    },
    {
     "name": "stdout",
     "output_type": "stream",
     "text": [
      "[[0.75775809 0.78624717]\n",
      " [0.77442647 0.79442747]\n",
      " [0.6884     0.7126    ]]\n",
      "now at training epoch number 2900 hyp-params: lamda 0.1740 prior 0.2100\n",
      "rec time now 0 dataset now: Syn4\n"
     ]
    },
    {
     "name": "stderr",
     "output_type": "stream",
     "text": [
      "TPR mean: 99.9%  std: 2.2%\n",
      "FDR mean: 6.2%  std: 15.9%\n"
     ]
    },
    {
     "name": "stdout",
     "output_type": "stream",
     "text": [
      "[[0.76036081 0.77114418]\n",
      " [0.77381941 0.77466641]\n",
      " [0.6902     0.7028    ]]\n",
      "rec time now 1 dataset now: Syn4\n"
     ]
    },
    {
     "name": "stderr",
     "output_type": "stream",
     "text": [
      "TPR mean: 99.9%  std: 2.5%\n",
      "FDR mean: 5.3%  std: 15.0%\n"
     ]
    },
    {
     "name": "stdout",
     "output_type": "stream",
     "text": [
      "[[0.76036081 0.77136451]\n",
      " [0.77381941 0.7748612 ]\n",
      " [0.6902     0.7033    ]]\n",
      "rec time now 2 dataset now: Syn4\n"
     ]
    },
    {
     "name": "stderr",
     "output_type": "stream",
     "text": [
      "TPR mean: 99.9%  std: 2.5%\n",
      "FDR mean: 5.2%  std: 14.9%\n"
     ]
    },
    {
     "name": "stdout",
     "output_type": "stream",
     "text": [
      "[[0.76036081 0.77167003]\n",
      " [0.77381941 0.7752444 ]\n",
      " [0.6902     0.7035    ]]\n",
      "rec time now 3 dataset now: Syn4\n"
     ]
    },
    {
     "name": "stderr",
     "output_type": "stream",
     "text": [
      "TPR mean: 99.9%  std: 2.5%\n",
      "FDR mean: 5.2%  std: 14.9%\n",
      "Epoch:      0, d_loss (Acc)): 0.511, v_loss (Acc): 0.476, g_loss: -0.0984\n"
     ]
    },
    {
     "name": "stdout",
     "output_type": "stream",
     "text": [
      "[[0.76036081 0.77167252]\n",
      " [0.77381941 0.7752523 ]\n",
      " [0.6902     0.7035    ]]\n",
      "now at training epoch number 3000 hyp-params: lamda 0.1800 prior 0.2000\n",
      "rec time now 0 dataset now: Syn4\n"
     ]
    },
    {
     "name": "stderr",
     "output_type": "stream",
     "text": [
      "TPR mean: 99.8%  std: 3.0%\n",
      "FDR mean: 5.9%  std: 15.6%\n"
     ]
    },
    {
     "name": "stdout",
     "output_type": "stream",
     "text": [
      "[[0.7614593  0.79378088]\n",
      " [0.77903642 0.80524286]\n",
      " [0.6867     0.7131    ]]\n",
      "rec time now 1 dataset now: Syn4\n"
     ]
    },
    {
     "name": "stderr",
     "output_type": "stream",
     "text": [
      "TPR mean: 99.8%  std: 3.3%\n",
      "FDR mean: 5.0%  std: 14.7%\n"
     ]
    },
    {
     "name": "stdout",
     "output_type": "stream",
     "text": [
      "[[0.7614593  0.79391519]\n",
      " [0.77903642 0.80439723]\n",
      " [0.6867     0.7141    ]]\n",
      "rec time now 2 dataset now: Syn4\n"
     ]
    },
    {
     "name": "stderr",
     "output_type": "stream",
     "text": [
      "TPR mean: 99.8%  std: 3.3%\n",
      "FDR mean: 4.9%  std: 14.7%\n"
     ]
    },
    {
     "name": "stdout",
     "output_type": "stream",
     "text": [
      "[[0.7614593  0.79393738]\n",
      " [0.77903642 0.80448352]\n",
      " [0.6867     0.7138    ]]\n",
      "rec time now 3 dataset now: Syn4\n"
     ]
    },
    {
     "name": "stderr",
     "output_type": "stream",
     "text": [
      "TPR mean: 99.8%  std: 3.3%\n",
      "FDR mean: 4.9%  std: 14.7%\n",
      "Epoch:      0, d_loss (Acc)): 0.524, v_loss (Acc): 0.508, g_loss: +0.0152\n"
     ]
    },
    {
     "name": "stdout",
     "output_type": "stream",
     "text": [
      "[[0.7614593  0.79393738]\n",
      " [0.77903642 0.80448352]\n",
      " [0.6867     0.7138    ]]\n",
      "now at training epoch number 3100 hyp-params: lamda 0.1860 prior 0.1900\n",
      "rec time now 0 dataset now: Syn4\n"
     ]
    },
    {
     "name": "stderr",
     "output_type": "stream",
     "text": [
      "TPR mean: 99.8%  std: 3.0%\n",
      "FDR mean: 5.5%  std: 15.2%\n"
     ]
    },
    {
     "name": "stdout",
     "output_type": "stream",
     "text": [
      "[[0.76234644 0.78968901]\n",
      " [0.77786977 0.7992255 ]\n",
      " [0.6908     0.7125    ]]\n",
      "rec time now 1 dataset now: Syn4\n"
     ]
    },
    {
     "name": "stderr",
     "output_type": "stream",
     "text": [
      "TPR mean: 99.8%  std: 3.2%\n",
      "FDR mean: 4.7%  std: 14.3%\n"
     ]
    },
    {
     "name": "stdout",
     "output_type": "stream",
     "text": [
      "[[0.76234644 0.78949108]\n",
      " [0.77786977 0.79859825]\n",
      " [0.6908     0.7113    ]]\n",
      "rec time now 2 dataset now: Syn4\n"
     ]
    },
    {
     "name": "stderr",
     "output_type": "stream",
     "text": [
      "TPR mean: 99.8%  std: 3.2%\n",
      "FDR mean: 4.7%  std: 14.3%\n"
     ]
    },
    {
     "name": "stdout",
     "output_type": "stream",
     "text": [
      "[[0.76234644 0.78966487]\n",
      " [0.77786977 0.79892646]\n",
      " [0.6908     0.7114    ]]\n",
      "rec time now 3 dataset now: Syn4\n"
     ]
    },
    {
     "name": "stderr",
     "output_type": "stream",
     "text": [
      "TPR mean: 99.8%  std: 3.2%\n",
      "FDR mean: 4.6%  std: 14.3%\n",
      "Epoch:      0, d_loss (Acc)): 0.514, v_loss (Acc): 0.500, g_loss: +0.0162\n"
     ]
    },
    {
     "name": "stdout",
     "output_type": "stream",
     "text": [
      "[[0.76234644 0.78966586]\n",
      " [0.77786977 0.79892737]\n",
      " [0.6908     0.7114    ]]\n",
      "now at training epoch number 3200 hyp-params: lamda 0.1920 prior 0.1800\n",
      "rec time now 0 dataset now: Syn4\n"
     ]
    },
    {
     "name": "stderr",
     "output_type": "stream",
     "text": [
      "TPR mean: 99.8%  std: 2.9%\n",
      "FDR mean: 5.1%  std: 14.6%\n"
     ]
    },
    {
     "name": "stdout",
     "output_type": "stream",
     "text": [
      "[[0.75916151 0.77237551]\n",
      " [0.77280431 0.77682571]\n",
      " [0.6889     0.7036    ]]\n",
      "rec time now 1 dataset now: Syn4\n"
     ]
    },
    {
     "name": "stderr",
     "output_type": "stream",
     "text": [
      "TPR mean: 99.7%  std: 3.3%\n",
      "FDR mean: 4.3%  std: 13.7%\n"
     ]
    },
    {
     "name": "stdout",
     "output_type": "stream",
     "text": [
      "[[0.75916151 0.77220091]\n",
      " [0.77280431 0.77655426]\n",
      " [0.6889     0.7029    ]]\n",
      "rec time now 2 dataset now: Syn4\n"
     ]
    },
    {
     "name": "stderr",
     "output_type": "stream",
     "text": [
      "TPR mean: 99.7%  std: 3.3%\n",
      "FDR mean: 4.3%  std: 13.6%\n"
     ]
    },
    {
     "name": "stdout",
     "output_type": "stream",
     "text": [
      "[[0.75916151 0.77207409]\n",
      " [0.77280431 0.7764541 ]\n",
      " [0.6889     0.7028    ]]\n",
      "rec time now 3 dataset now: Syn4\n"
     ]
    },
    {
     "name": "stderr",
     "output_type": "stream",
     "text": [
      "TPR mean: 99.7%  std: 3.3%\n",
      "FDR mean: 4.3%  std: 13.6%\n",
      "Epoch:      0, d_loss (Acc)): 0.507, v_loss (Acc): 0.489, g_loss: +0.0172\n"
     ]
    },
    {
     "name": "stdout",
     "output_type": "stream",
     "text": [
      "[[0.75916151 0.77205929]\n",
      " [0.77280431 0.77633331]\n",
      " [0.6889     0.7028    ]]\n",
      "now at training epoch number 3300 hyp-params: lamda 0.1980 prior 0.1700\n",
      "rec time now 0 dataset now: Syn4\n"
     ]
    },
    {
     "name": "stderr",
     "output_type": "stream",
     "text": [
      "TPR mean: 99.8%  std: 2.8%\n",
      "FDR mean: 5.0%  std: 14.4%\n"
     ]
    },
    {
     "name": "stdout",
     "output_type": "stream",
     "text": [
      "[[0.76243263 0.77493129]\n",
      " [0.77606977 0.78122934]\n",
      " [0.6915     0.703     ]]\n",
      "rec time now 1 dataset now: Syn4\n"
     ]
    },
    {
     "name": "stderr",
     "output_type": "stream",
     "text": [
      "TPR mean: 99.8%  std: 3.0%\n",
      "FDR mean: 4.1%  std: 13.4%\n"
     ]
    },
    {
     "name": "stdout",
     "output_type": "stream",
     "text": [
      "[[0.76243263 0.7738483 ]\n",
      " [0.77606977 0.77932305]\n",
      " [0.6915     0.701     ]]\n",
      "rec time now 2 dataset now: Syn4\n"
     ]
    },
    {
     "name": "stderr",
     "output_type": "stream",
     "text": [
      "TPR mean: 99.8%  std: 3.0%\n",
      "FDR mean: 4.1%  std: 13.3%\n"
     ]
    },
    {
     "name": "stdout",
     "output_type": "stream",
     "text": [
      "[[0.76243263 0.77393066]\n",
      " [0.77606977 0.77944868]\n",
      " [0.6915     0.7013    ]]\n",
      "rec time now 3 dataset now: Syn4\n"
     ]
    },
    {
     "name": "stderr",
     "output_type": "stream",
     "text": [
      "TPR mean: 99.8%  std: 3.0%\n",
      "FDR mean: 4.1%  std: 13.3%\n",
      "Epoch:      0, d_loss (Acc)): 0.518, v_loss (Acc): 0.484, g_loss: -0.0173\n"
     ]
    },
    {
     "name": "stdout",
     "output_type": "stream",
     "text": [
      "[[0.76243263 0.77393066]\n",
      " [0.77606977 0.77944868]\n",
      " [0.6915     0.7013    ]]\n",
      "now at training epoch number 3400 hyp-params: lamda 0.2040 prior 0.1600\n",
      "rec time now 0 dataset now: Syn4\n"
     ]
    },
    {
     "name": "stderr",
     "output_type": "stream",
     "text": [
      "TPR mean: 99.8%  std: 2.6%\n",
      "FDR mean: 4.5%  std: 13.6%\n"
     ]
    },
    {
     "name": "stdout",
     "output_type": "stream",
     "text": [
      "[[0.7632009  0.7973667 ]\n",
      " [0.77922172 0.80867425]\n",
      " [0.6925     0.7164    ]]\n",
      "rec time now 1 dataset now: Syn4\n"
     ]
    },
    {
     "name": "stderr",
     "output_type": "stream",
     "text": [
      "TPR mean: 99.8%  std: 2.8%\n",
      "FDR mean: 3.6%  std: 12.3%\n"
     ]
    },
    {
     "name": "stdout",
     "output_type": "stream",
     "text": [
      "[[0.7632009  0.79735103]\n",
      " [0.77922172 0.8083692 ]\n",
      " [0.6925     0.716     ]]\n",
      "rec time now 2 dataset now: Syn4\n"
     ]
    },
    {
     "name": "stderr",
     "output_type": "stream",
     "text": [
      "TPR mean: 99.8%  std: 2.8%\n",
      "FDR mean: 3.5%  std: 12.3%\n"
     ]
    },
    {
     "name": "stdout",
     "output_type": "stream",
     "text": [
      "[[0.7632009  0.79743992]\n",
      " [0.77922172 0.80842744]\n",
      " [0.6925     0.7161    ]]\n",
      "rec time now 3 dataset now: Syn4\n"
     ]
    },
    {
     "name": "stderr",
     "output_type": "stream",
     "text": [
      "TPR mean: 99.8%  std: 2.8%\n",
      "FDR mean: 3.5%  std: 12.2%\n",
      "Epoch:      0, d_loss (Acc)): 0.517, v_loss (Acc): 0.489, g_loss: -0.0186\n"
     ]
    },
    {
     "name": "stdout",
     "output_type": "stream",
     "text": [
      "[[0.7632009  0.79744036]\n",
      " [0.77922172 0.80842792]\n",
      " [0.6925     0.7161    ]]\n",
      "now at training epoch number 3500 hyp-params: lamda 0.2100 prior 0.1500\n",
      "rec time now 0 dataset now: Syn4\n"
     ]
    },
    {
     "name": "stderr",
     "output_type": "stream",
     "text": [
      "TPR mean: 99.8%  std: 2.6%\n",
      "FDR mean: 4.0%  std: 12.7%\n"
     ]
    },
    {
     "name": "stdout",
     "output_type": "stream",
     "text": [
      "[[0.76285417 0.7886756 ]\n",
      " [0.77850624 0.79885042]\n",
      " [0.6889     0.7098    ]]\n",
      "rec time now 1 dataset now: Syn4\n"
     ]
    },
    {
     "name": "stderr",
     "output_type": "stream",
     "text": [
      "TPR mean: 99.8%  std: 2.6%\n",
      "FDR mean: 3.1%  std: 11.3%\n"
     ]
    },
    {
     "name": "stdout",
     "output_type": "stream",
     "text": [
      "[[0.76285417 0.78861372]\n",
      " [0.77850624 0.79832708]\n",
      " [0.6889     0.7092    ]]\n",
      "rec time now 2 dataset now: Syn4\n"
     ]
    },
    {
     "name": "stderr",
     "output_type": "stream",
     "text": [
      "TPR mean: 99.8%  std: 2.6%\n",
      "FDR mean: 3.0%  std: 11.2%\n"
     ]
    },
    {
     "name": "stdout",
     "output_type": "stream",
     "text": [
      "[[0.76285417 0.78878716]\n",
      " [0.77850624 0.79847569]\n",
      " [0.6889     0.7089    ]]\n",
      "rec time now 3 dataset now: Syn4\n"
     ]
    },
    {
     "name": "stderr",
     "output_type": "stream",
     "text": [
      "TPR mean: 99.8%  std: 2.6%\n",
      "FDR mean: 3.0%  std: 11.2%\n",
      "Epoch:      0, d_loss (Acc)): 0.531, v_loss (Acc): 0.492, g_loss: -0.0587\n"
     ]
    },
    {
     "name": "stdout",
     "output_type": "stream",
     "text": [
      "[[0.76285417 0.78884911]\n",
      " [0.77850624 0.79853918]\n",
      " [0.6889     0.7088    ]]\n",
      "now at training epoch number 3600 hyp-params: lamda 0.2160 prior 0.1400\n",
      "rec time now 0 dataset now: Syn4\n"
     ]
    },
    {
     "name": "stderr",
     "output_type": "stream",
     "text": [
      "TPR mean: 99.8%  std: 2.8%\n",
      "FDR mean: 3.8%  std: 12.5%\n"
     ]
    },
    {
     "name": "stdout",
     "output_type": "stream",
     "text": [
      "[[0.75961602 0.79736349]\n",
      " [0.77513477 0.80895047]\n",
      " [0.6878     0.715     ]]\n",
      "rec time now 1 dataset now: Syn4\n"
     ]
    },
    {
     "name": "stderr",
     "output_type": "stream",
     "text": [
      "TPR mean: 99.8%  std: 2.9%\n",
      "FDR mean: 2.9%  std: 11.0%\n"
     ]
    },
    {
     "name": "stdout",
     "output_type": "stream",
     "text": [
      "[[0.75961602 0.79758269]\n",
      " [0.77513477 0.80888421]\n",
      " [0.6878     0.7145    ]]\n",
      "rec time now 2 dataset now: Syn4\n"
     ]
    },
    {
     "name": "stderr",
     "output_type": "stream",
     "text": [
      "TPR mean: 99.8%  std: 2.9%\n",
      "FDR mean: 2.8%  std: 10.9%\n"
     ]
    },
    {
     "name": "stdout",
     "output_type": "stream",
     "text": [
      "[[0.75961602 0.79757291]\n",
      " [0.77513477 0.80882596]\n",
      " [0.6878     0.7146    ]]\n",
      "rec time now 3 dataset now: Syn4\n"
     ]
    },
    {
     "name": "stderr",
     "output_type": "stream",
     "text": [
      "TPR mean: 99.8%  std: 2.9%\n",
      "FDR mean: 2.8%  std: 10.9%\n",
      "Epoch:      0, d_loss (Acc)): 0.537, v_loss (Acc): 0.526, g_loss: +0.0179\n"
     ]
    },
    {
     "name": "stdout",
     "output_type": "stream",
     "text": [
      "[[0.75961602 0.79757291]\n",
      " [0.77513477 0.80882596]\n",
      " [0.6878     0.7146    ]]\n",
      "now at training epoch number 3700 hyp-params: lamda 0.2220 prior 0.1300\n",
      "rec time now 0 dataset now: Syn4\n"
     ]
    },
    {
     "name": "stderr",
     "output_type": "stream",
     "text": [
      "TPR mean: 99.7%  std: 3.6%\n",
      "FDR mean: 3.5%  std: 12.1%\n"
     ]
    },
    {
     "name": "stdout",
     "output_type": "stream",
     "text": [
      "[[0.76181344 0.79152384]\n",
      " [0.77496469 0.80290649]\n",
      " [0.6917     0.7117    ]]\n",
      "rec time now 1 dataset now: Syn4\n"
     ]
    },
    {
     "name": "stderr",
     "output_type": "stream",
     "text": [
      "TPR mean: 99.7%  std: 3.7%\n",
      "FDR mean: 2.6%  std: 10.5%\n"
     ]
    },
    {
     "name": "stdout",
     "output_type": "stream",
     "text": [
      "[[0.76181344 0.79164337]\n",
      " [0.77496469 0.80229315]\n",
      " [0.6917     0.7117    ]]\n",
      "rec time now 2 dataset now: Syn4\n"
     ]
    },
    {
     "name": "stderr",
     "output_type": "stream",
     "text": [
      "TPR mean: 99.7%  std: 3.7%\n",
      "FDR mean: 2.5%  std: 10.4%\n"
     ]
    },
    {
     "name": "stdout",
     "output_type": "stream",
     "text": [
      "[[0.76181344 0.79184319]\n",
      " [0.77496469 0.80258981]\n",
      " [0.6917     0.7118    ]]\n",
      "rec time now 3 dataset now: Syn4\n"
     ]
    },
    {
     "name": "stderr",
     "output_type": "stream",
     "text": [
      "TPR mean: 99.7%  std: 3.7%\n",
      "FDR mean: 2.5%  std: 10.4%\n",
      "Epoch:      0, d_loss (Acc)): 0.533, v_loss (Acc): 0.492, g_loss: -0.0496\n"
     ]
    },
    {
     "name": "stdout",
     "output_type": "stream",
     "text": [
      "[[0.76181344 0.79184319]\n",
      " [0.77496469 0.80258981]\n",
      " [0.6917     0.7118    ]]\n",
      "now at training epoch number 3800 hyp-params: lamda 0.2280 prior 0.1200\n",
      "rec time now 0 dataset now: Syn4\n"
     ]
    },
    {
     "name": "stderr",
     "output_type": "stream",
     "text": [
      "TPR mean: 99.7%  std: 4.1%\n",
      "FDR mean: 3.2%  std: 11.7%\n"
     ]
    },
    {
     "name": "stdout",
     "output_type": "stream",
     "text": [
      "[[0.7619884  0.79493024]\n",
      " [0.77631637 0.80715387]\n",
      " [0.6914     0.7122    ]]\n",
      "rec time now 1 dataset now: Syn4\n"
     ]
    },
    {
     "name": "stderr",
     "output_type": "stream",
     "text": [
      "TPR mean: 99.7%  std: 4.1%\n",
      "FDR mean: 2.3%  std: 10.1%\n"
     ]
    },
    {
     "name": "stdout",
     "output_type": "stream",
     "text": [
      "[[0.7619884  0.79554794]\n",
      " [0.77631637 0.80711223]\n",
      " [0.6914     0.7123    ]]\n",
      "rec time now 2 dataset now: Syn4\n"
     ]
    },
    {
     "name": "stderr",
     "output_type": "stream",
     "text": [
      "TPR mean: 99.7%  std: 4.1%\n",
      "FDR mean: 2.3%  std: 10.1%\n"
     ]
    },
    {
     "name": "stdout",
     "output_type": "stream",
     "text": [
      "[[0.7619884  0.79567691]\n",
      " [0.77631637 0.8073869 ]\n",
      " [0.6914     0.7122    ]]\n",
      "rec time now 3 dataset now: Syn4\n"
     ]
    },
    {
     "name": "stderr",
     "output_type": "stream",
     "text": [
      "TPR mean: 99.7%  std: 4.1%\n",
      "FDR mean: 2.3%  std: 10.1%\n",
      "Epoch:      0, d_loss (Acc)): 0.504, v_loss (Acc): 0.451, g_loss: -0.1214\n"
     ]
    },
    {
     "name": "stdout",
     "output_type": "stream",
     "text": [
      "[[0.7619884  0.79567691]\n",
      " [0.77631637 0.8073869 ]\n",
      " [0.6914     0.7122    ]]\n",
      "now at training epoch number 3900 hyp-params: lamda 0.2340 prior 0.1100\n",
      "rec time now 0 dataset now: Syn4\n"
     ]
    },
    {
     "name": "stderr",
     "output_type": "stream",
     "text": [
      "TPR mean: 99.6%  std: 4.1%\n",
      "FDR mean: 2.9%  std: 11.0%\n"
     ]
    },
    {
     "name": "stdout",
     "output_type": "stream",
     "text": [
      "[[0.76278709 0.80135381]\n",
      " [0.77695455 0.81418692]\n",
      " [0.691      0.718     ]]\n",
      "rec time now 1 dataset now: Syn4\n"
     ]
    },
    {
     "name": "stderr",
     "output_type": "stream",
     "text": [
      "TPR mean: 99.6%  std: 4.3%\n",
      "FDR mean: 2.0%  std: 9.2%\n"
     ]
    },
    {
     "name": "stdout",
     "output_type": "stream",
     "text": [
      "[[0.76278709 0.80136391]\n",
      " [0.77695455 0.81400174]\n",
      " [0.691      0.7172    ]]\n",
      "rec time now 2 dataset now: Syn4\n"
     ]
    },
    {
     "name": "stderr",
     "output_type": "stream",
     "text": [
      "TPR mean: 99.6%  std: 4.3%\n",
      "FDR mean: 1.9%  std: 9.2%\n"
     ]
    },
    {
     "name": "stdout",
     "output_type": "stream",
     "text": [
      "[[0.76278709 0.80130085]\n",
      " [0.77695455 0.81405522]\n",
      " [0.691      0.7173    ]]\n",
      "rec time now 3 dataset now: Syn4\n"
     ]
    },
    {
     "name": "stderr",
     "output_type": "stream",
     "text": [
      "TPR mean: 99.6%  std: 4.3%\n",
      "FDR mean: 1.9%  std: 9.2%\n",
      "Epoch:      0, d_loss (Acc)): 0.522, v_loss (Acc): 0.488, g_loss: +0.0064\n"
     ]
    },
    {
     "name": "stdout",
     "output_type": "stream",
     "text": [
      "[[0.76278709 0.80130085]\n",
      " [0.77695455 0.81405522]\n",
      " [0.691      0.7173    ]]\n",
      "now at training epoch number 4000 hyp-params: lamda 0.2400 prior 0.1000\n",
      "rec time now 0 dataset now: Syn4\n"
     ]
    },
    {
     "name": "stderr",
     "output_type": "stream",
     "text": [
      "TPR mean: 99.5%  std: 5.1%\n",
      "FDR mean: 2.6%  std: 10.7%\n"
     ]
    },
    {
     "name": "stdout",
     "output_type": "stream",
     "text": [
      "[[0.75989672 0.79764408]\n",
      " [0.77359093 0.81028848]\n",
      " [0.6905     0.7123    ]]\n",
      "rec time now 1 dataset now: Syn4\n"
     ]
    },
    {
     "name": "stderr",
     "output_type": "stream",
     "text": [
      "TPR mean: 99.5%  std: 5.2%\n",
      "FDR mean: 1.7%  std: 8.8%\n"
     ]
    },
    {
     "name": "stdout",
     "output_type": "stream",
     "text": [
      "[[0.75989672 0.79766346]\n",
      " [0.77359093 0.81032676]\n",
      " [0.6905     0.7128    ]]\n",
      "rec time now 2 dataset now: Syn4\n"
     ]
    },
    {
     "name": "stderr",
     "output_type": "stream",
     "text": [
      "TPR mean: 99.5%  std: 5.2%\n",
      "FDR mean: 1.6%  std: 8.6%\n"
     ]
    },
    {
     "name": "stdout",
     "output_type": "stream",
     "text": [
      "[[0.75989672 0.79759851]\n",
      " [0.77359093 0.81035716]\n",
      " [0.6905     0.7127    ]]\n",
      "rec time now 3 dataset now: Syn4\n"
     ]
    },
    {
     "name": "stderr",
     "output_type": "stream",
     "text": [
      "TPR mean: 99.5%  std: 5.2%\n",
      "FDR mean: 1.6%  std: 8.6%\n",
      "Epoch:      0, d_loss (Acc)): 0.531, v_loss (Acc): 0.491, g_loss: -0.0131\n"
     ]
    },
    {
     "name": "stdout",
     "output_type": "stream",
     "text": [
      "[[0.75989672 0.79764278]\n",
      " [0.77359093 0.81039467]\n",
      " [0.6905     0.7126    ]]\n",
      "now at training epoch number 4100 hyp-params: lamda 0.2460 prior 0.0900\n",
      "rec time now 0 dataset now: Syn4\n"
     ]
    },
    {
     "name": "stderr",
     "output_type": "stream",
     "text": [
      "TPR mean: 99.3%  std: 6.0%\n",
      "FDR mean: 2.6%  std: 10.9%\n"
     ]
    },
    {
     "name": "stdout",
     "output_type": "stream",
     "text": [
      "[[0.76197704 0.7994095 ]\n",
      " [0.77527238 0.81110392]\n",
      " [0.6877     0.7152    ]]\n",
      "rec time now 1 dataset now: Syn4\n"
     ]
    },
    {
     "name": "stderr",
     "output_type": "stream",
     "text": [
      "TPR mean: 99.3%  std: 6.1%\n",
      "FDR mean: 1.6%  std: 8.7%\n"
     ]
    },
    {
     "name": "stdout",
     "output_type": "stream",
     "text": [
      "[[0.76197704 0.79921126]\n",
      " [0.77527238 0.81087521]\n",
      " [0.6877     0.7126    ]]\n",
      "rec time now 2 dataset now: Syn4\n"
     ]
    },
    {
     "name": "stderr",
     "output_type": "stream",
     "text": [
      "TPR mean: 99.3%  std: 6.1%\n",
      "FDR mean: 1.5%  std: 8.5%\n"
     ]
    },
    {
     "name": "stdout",
     "output_type": "stream",
     "text": [
      "[[0.76197704 0.79931557]\n",
      " [0.77527238 0.81098777]\n",
      " [0.6877     0.7127    ]]\n",
      "rec time now 3 dataset now: Syn4\n"
     ]
    },
    {
     "name": "stderr",
     "output_type": "stream",
     "text": [
      "TPR mean: 99.3%  std: 6.1%\n",
      "FDR mean: 1.5%  std: 8.5%\n",
      "Epoch:      0, d_loss (Acc)): 0.545, v_loss (Acc): 0.489, g_loss: -0.0202\n"
     ]
    },
    {
     "name": "stdout",
     "output_type": "stream",
     "text": [
      "[[0.76197704 0.79947039]\n",
      " [0.77527238 0.81114657]\n",
      " [0.6877     0.7127    ]]\n",
      "now at training epoch number 4200 hyp-params: lamda 0.2520 prior 0.0800\n",
      "rec time now 0 dataset now: Syn4\n"
     ]
    },
    {
     "name": "stderr",
     "output_type": "stream",
     "text": [
      "TPR mean: 99.3%  std: 6.0%\n",
      "FDR mean: 2.5%  std: 10.8%\n"
     ]
    },
    {
     "name": "stdout",
     "output_type": "stream",
     "text": [
      "[[0.75893634 0.79853513]\n",
      " [0.77229235 0.81137071]\n",
      " [0.6874     0.7146    ]]\n",
      "rec time now 1 dataset now: Syn4\n"
     ]
    },
    {
     "name": "stderr",
     "output_type": "stream",
     "text": [
      "TPR mean: 99.3%  std: 6.3%\n",
      "FDR mean: 1.6%  std: 8.9%\n"
     ]
    },
    {
     "name": "stdout",
     "output_type": "stream",
     "text": [
      "[[0.75893634 0.79840757]\n",
      " [0.77229235 0.81111072]\n",
      " [0.6874     0.7144    ]]\n",
      "rec time now 2 dataset now: Syn4\n"
     ]
    },
    {
     "name": "stderr",
     "output_type": "stream",
     "text": [
      "TPR mean: 99.3%  std: 6.3%\n",
      "FDR mean: 1.5%  std: 8.7%\n"
     ]
    },
    {
     "name": "stdout",
     "output_type": "stream",
     "text": [
      "[[0.75893634 0.79868913]\n",
      " [0.77229235 0.81141336]\n",
      " [0.6874     0.7147    ]]\n",
      "rec time now 3 dataset now: Syn4\n"
     ]
    },
    {
     "name": "stderr",
     "output_type": "stream",
     "text": [
      "TPR mean: 99.3%  std: 6.3%\n",
      "FDR mean: 1.5%  std: 8.7%\n",
      "Epoch:      0, d_loss (Acc)): 0.544, v_loss (Acc): 0.497, g_loss: -0.0249\n"
     ]
    },
    {
     "name": "stdout",
     "output_type": "stream",
     "text": [
      "[[0.75893634 0.79863971]\n",
      " [0.77229235 0.81137924]\n",
      " [0.6874     0.7146    ]]\n",
      "now at training epoch number 4300 hyp-params: lamda 0.2580 prior 0.0700\n",
      "rec time now 0 dataset now: Syn4\n"
     ]
    },
    {
     "name": "stderr",
     "output_type": "stream",
     "text": [
      "TPR mean: 99.5%  std: 5.3%\n",
      "FDR mean: 2.3%  std: 10.2%\n"
     ]
    },
    {
     "name": "stdout",
     "output_type": "stream",
     "text": [
      "[[0.76349467 0.80787069]\n",
      " [0.7803429  0.82096471]\n",
      " [0.6912     0.7232    ]]\n",
      "rec time now 1 dataset now: Syn4\n"
     ]
    },
    {
     "name": "stderr",
     "output_type": "stream",
     "text": [
      "TPR mean: 99.4%  std: 5.5%\n",
      "FDR mean: 1.4%  std: 8.1%\n"
     ]
    },
    {
     "name": "stdout",
     "output_type": "stream",
     "text": [
      "[[0.76349467 0.80854355]\n",
      " [0.7803429  0.82127302]\n",
      " [0.6912     0.7225    ]]\n",
      "rec time now 2 dataset now: Syn4\n"
     ]
    },
    {
     "name": "stderr",
     "output_type": "stream",
     "text": [
      "TPR mean: 99.4%  std: 5.5%\n",
      "FDR mean: 1.3%  std: 7.9%\n"
     ]
    },
    {
     "name": "stdout",
     "output_type": "stream",
     "text": [
      "[[0.76349467 0.80876697]\n",
      " [0.7803429  0.82149501]\n",
      " [0.6912     0.7223    ]]\n",
      "rec time now 3 dataset now: Syn4\n"
     ]
    },
    {
     "name": "stderr",
     "output_type": "stream",
     "text": [
      "TPR mean: 99.4%  std: 5.5%\n",
      "FDR mean: 1.3%  std: 7.9%\n",
      "Epoch:      0, d_loss (Acc)): 0.520, v_loss (Acc): 0.491, g_loss: +0.0010\n"
     ]
    },
    {
     "name": "stdout",
     "output_type": "stream",
     "text": [
      "[[0.76349467 0.80876697]\n",
      " [0.7803429  0.82149501]\n",
      " [0.6912     0.7223    ]]\n",
      "now at training epoch number 4400 hyp-params: lamda 0.2640 prior 0.0600\n",
      "rec time now 0 dataset now: Syn4\n"
     ]
    },
    {
     "name": "stderr",
     "output_type": "stream",
     "text": [
      "TPR mean: 99.3%  std: 6.0%\n",
      "FDR mean: 2.3%  std: 10.4%\n"
     ]
    },
    {
     "name": "stdout",
     "output_type": "stream",
     "text": [
      "[[0.7633607  0.80149799]\n",
      " [0.77907013 0.8132584 ]\n",
      " [0.6891     0.7164    ]]\n",
      "rec time now 1 dataset now: Syn4\n"
     ]
    },
    {
     "name": "stderr",
     "output_type": "stream",
     "text": [
      "TPR mean: 99.3%  std: 6.1%\n",
      "FDR mean: 1.4%  std: 8.1%\n"
     ]
    },
    {
     "name": "stdout",
     "output_type": "stream",
     "text": [
      "[[0.7633607  0.80190057]\n",
      " [0.77907013 0.81303648]\n",
      " [0.6891     0.7173    ]]\n",
      "rec time now 2 dataset now: Syn4\n"
     ]
    },
    {
     "name": "stderr",
     "output_type": "stream",
     "text": [
      "TPR mean: 99.3%  std: 6.1%\n",
      "FDR mean: 1.3%  std: 7.9%\n"
     ]
    },
    {
     "name": "stdout",
     "output_type": "stream",
     "text": [
      "[[0.7633607  0.80237635]\n",
      " [0.77907013 0.81338875]\n",
      " [0.6891     0.7174    ]]\n",
      "rec time now 3 dataset now: Syn4\n"
     ]
    },
    {
     "name": "stderr",
     "output_type": "stream",
     "text": [
      "TPR mean: 99.3%  std: 6.1%\n",
      "FDR mean: 1.3%  std: 7.9%\n",
      "Epoch:      0, d_loss (Acc)): 0.515, v_loss (Acc): 0.487, g_loss: +0.0772\n"
     ]
    },
    {
     "name": "stdout",
     "output_type": "stream",
     "text": [
      "[[0.7633607  0.80237637]\n",
      " [0.77907013 0.81338879]\n",
      " [0.6891     0.7174    ]]\n",
      "now at training epoch number 4500 hyp-params: lamda 0.2700 prior 0.0500\n",
      "rec time now 0 dataset now: Syn4\n"
     ]
    },
    {
     "name": "stderr",
     "output_type": "stream",
     "text": [
      "TPR mean: 99.4%  std: 5.4%\n",
      "FDR mean: 1.9%  std: 9.3%\n"
     ]
    },
    {
     "name": "stdout",
     "output_type": "stream",
     "text": [
      "[[0.76201025 0.81086445]\n",
      " [0.77821441 0.82421807]\n",
      " [0.6914     0.7231    ]]\n",
      "rec time now 1 dataset now: Syn4\n"
     ]
    },
    {
     "name": "stderr",
     "output_type": "stream",
     "text": [
      "TPR mean: 99.4%  std: 5.6%\n",
      "FDR mean: 1.1%  std: 7.2%\n"
     ]
    },
    {
     "name": "stdout",
     "output_type": "stream",
     "text": [
      "[[0.76201025 0.81206163]\n",
      " [0.77821441 0.82455528]\n",
      " [0.6914     0.7239    ]]\n",
      "rec time now 2 dataset now: Syn4\n"
     ]
    },
    {
     "name": "stderr",
     "output_type": "stream",
     "text": [
      "TPR mean: 99.4%  std: 5.6%\n",
      "FDR mean: 1.0%  std: 7.0%\n"
     ]
    },
    {
     "name": "stdout",
     "output_type": "stream",
     "text": [
      "[[0.76201025 0.81231666]\n",
      " [0.77821441 0.82477542]\n",
      " [0.6914     0.7242    ]]\n",
      "rec time now 3 dataset now: Syn4\n"
     ]
    },
    {
     "name": "stderr",
     "output_type": "stream",
     "text": [
      "TPR mean: 99.4%  std: 5.6%\n",
      "FDR mean: 1.0%  std: 7.0%\n",
      "Epoch:      0, d_loss (Acc)): 0.501, v_loss (Acc): 0.462, g_loss: +0.0370\n"
     ]
    },
    {
     "name": "stdout",
     "output_type": "stream",
     "text": [
      "[[0.76201025 0.81225884]\n",
      " [0.77821441 0.82472115]\n",
      " [0.6914     0.7243    ]]\n",
      "now at training epoch number 4600 hyp-params: lamda 0.2760 prior 0.0400\n",
      "rec time now 0 dataset now: Syn4\n"
     ]
    },
    {
     "name": "stderr",
     "output_type": "stream",
     "text": [
      "TPR mean: 99.5%  std: 4.9%\n",
      "FDR mean: 1.5%  std: 8.3%\n"
     ]
    },
    {
     "name": "stdout",
     "output_type": "stream",
     "text": [
      "[[0.75920407 0.81013418]\n",
      " [0.77353016 0.82314573]\n",
      " [0.6861     0.7228    ]]\n",
      "rec time now 1 dataset now: Syn4\n"
     ]
    },
    {
     "name": "stderr",
     "output_type": "stream",
     "text": [
      "TPR mean: 99.5%  std: 5.0%\n",
      "FDR mean: 0.9%  std: 6.2%\n"
     ]
    },
    {
     "name": "stdout",
     "output_type": "stream",
     "text": [
      "[[0.75920407 0.81113784]\n",
      " [0.77353016 0.82367712]\n",
      " [0.6861     0.7218    ]]\n",
      "rec time now 2 dataset now: Syn4\n"
     ]
    },
    {
     "name": "stderr",
     "output_type": "stream",
     "text": [
      "TPR mean: 99.5%  std: 5.0%\n",
      "FDR mean: 0.8%  std: 6.1%\n"
     ]
    },
    {
     "name": "stdout",
     "output_type": "stream",
     "text": [
      "[[0.75920407 0.81119393]\n",
      " [0.77353016 0.82375569]\n",
      " [0.6861     0.7217    ]]\n",
      "rec time now 3 dataset now: Syn4\n"
     ]
    },
    {
     "name": "stderr",
     "output_type": "stream",
     "text": [
      "TPR mean: 99.5%  std: 5.0%\n",
      "FDR mean: 0.8%  std: 6.0%\n",
      "Epoch:      0, d_loss (Acc)): 0.505, v_loss (Acc): 0.490, g_loss: +0.0964\n"
     ]
    },
    {
     "name": "stdout",
     "output_type": "stream",
     "text": [
      "[[0.75920407 0.81121058]\n",
      " [0.77353016 0.82377798]\n",
      " [0.6861     0.7217    ]]\n",
      "now at training epoch number 4700 hyp-params: lamda 0.2820 prior 0.0300\n",
      "rec time now 0 dataset now: Syn4\n"
     ]
    },
    {
     "name": "stderr",
     "output_type": "stream",
     "text": [
      "TPR mean: 99.5%  std: 5.1%\n",
      "FDR mean: 1.6%  std: 8.9%\n"
     ]
    },
    {
     "name": "stdout",
     "output_type": "stream",
     "text": [
      "[[0.76353945 0.81118393]\n",
      " [0.77928902 0.82378826]\n",
      " [0.6904     0.7218    ]]\n",
      "rec time now 1 dataset now: Syn4\n"
     ]
    },
    {
     "name": "stderr",
     "output_type": "stream",
     "text": [
      "TPR mean: 99.5%  std: 5.3%\n",
      "FDR mean: 1.0%  std: 7.2%\n"
     ]
    },
    {
     "name": "stdout",
     "output_type": "stream",
     "text": [
      "[[0.76353945 0.81076295]\n",
      " [0.77928902 0.82302155]\n",
      " [0.6904     0.722     ]]\n",
      "rec time now 2 dataset now: Syn4\n"
     ]
    },
    {
     "name": "stderr",
     "output_type": "stream",
     "text": [
      "TPR mean: 99.4%  std: 5.3%\n",
      "FDR mean: 1.0%  std: 7.0%\n"
     ]
    },
    {
     "name": "stdout",
     "output_type": "stream",
     "text": [
      "[[0.76353945 0.81128159]\n",
      " [0.77928902 0.8235435 ]\n",
      " [0.6904     0.7223    ]]\n",
      "rec time now 3 dataset now: Syn4\n"
     ]
    },
    {
     "name": "stderr",
     "output_type": "stream",
     "text": [
      "TPR mean: 99.4%  std: 5.3%\n",
      "FDR mean: 1.0%  std: 7.0%\n",
      "Epoch:      0, d_loss (Acc)): 0.527, v_loss (Acc): 0.490, g_loss: +0.0877\n"
     ]
    },
    {
     "name": "stdout",
     "output_type": "stream",
     "text": [
      "[[0.76353945 0.81129242]\n",
      " [0.77928902 0.82355568]\n",
      " [0.6904     0.7223    ]]\n",
      "now at training epoch number 4800 hyp-params: lamda 0.2880 prior 0.0200\n",
      "rec time now 0 dataset now: Syn4\n"
     ]
    },
    {
     "name": "stderr",
     "output_type": "stream",
     "text": [
      "TPR mean: 99.4%  std: 5.6%\n",
      "FDR mean: 1.5%  std: 8.5%\n"
     ]
    },
    {
     "name": "stdout",
     "output_type": "stream",
     "text": [
      "[[0.76004351 0.80845647]\n",
      " [0.7764693  0.82191774]\n",
      " [0.6881     0.7203    ]]\n",
      "rec time now 1 dataset now: Syn4\n"
     ]
    },
    {
     "name": "stderr",
     "output_type": "stream",
     "text": [
      "TPR mean: 99.4%  std: 5.7%\n",
      "FDR mean: 0.8%  std: 6.4%\n"
     ]
    },
    {
     "name": "stdout",
     "output_type": "stream",
     "text": [
      "[[0.76004351 0.80965989]\n",
      " [0.7764693  0.82250865]\n",
      " [0.6881     0.7199    ]]\n",
      "rec time now 2 dataset now: Syn4\n"
     ]
    },
    {
     "name": "stderr",
     "output_type": "stream",
     "text": [
      "TPR mean: 99.4%  std: 5.8%\n",
      "FDR mean: 0.8%  std: 6.1%\n"
     ]
    },
    {
     "name": "stdout",
     "output_type": "stream",
     "text": [
      "[[0.76004351 0.80976299]\n",
      " [0.7764693  0.82263178]\n",
      " [0.6881     0.7202    ]]\n",
      "rec time now 3 dataset now: Syn4\n"
     ]
    },
    {
     "name": "stderr",
     "output_type": "stream",
     "text": [
      "TPR mean: 99.4%  std: 5.8%\n",
      "FDR mean: 0.8%  std: 6.1%\n",
      "Epoch:      0, d_loss (Acc)): 0.503, v_loss (Acc): 0.462, g_loss: +0.0501\n"
     ]
    },
    {
     "name": "stdout",
     "output_type": "stream",
     "text": [
      "[[0.76004351 0.80976179]\n",
      " [0.7764693  0.82262943]\n",
      " [0.6881     0.7202    ]]\n",
      "now at training epoch number 4900 hyp-params: lamda 0.2940 prior 0.0100\n",
      "rec time now 0 dataset now: Syn4\n"
     ]
    },
    {
     "name": "stderr",
     "output_type": "stream",
     "text": [
      "TPR mean: 99.3%  std: 6.2%\n",
      "FDR mean: 1.6%  std: 9.0%\n"
     ]
    },
    {
     "name": "stdout",
     "output_type": "stream",
     "text": [
      "[[0.76370466 0.81152716]\n",
      " [0.77893388 0.82421137]\n",
      " [0.6896     0.7245    ]]\n",
      "rec time now 1 dataset now: Syn4\n"
     ]
    },
    {
     "name": "stderr",
     "output_type": "stream",
     "text": [
      "TPR mean: 99.3%  std: 6.4%\n",
      "FDR mean: 0.8%  std: 6.6%\n"
     ]
    },
    {
     "name": "stdout",
     "output_type": "stream",
     "text": [
      "[[0.76370466 0.81280113]\n",
      " [0.77893388 0.8258087 ]\n",
      " [0.6896     0.7248    ]]\n",
      "rec time now 2 dataset now: Syn4\n"
     ]
    },
    {
     "name": "stderr",
     "output_type": "stream",
     "text": [
      "TPR mean: 99.3%  std: 6.4%\n",
      "FDR mean: 0.8%  std: 6.4%\n"
     ]
    },
    {
     "name": "stdout",
     "output_type": "stream",
     "text": [
      "[[0.76370466 0.81290139]\n",
      " [0.77893388 0.82588745]\n",
      " [0.6896     0.7252    ]]\n",
      "rec time now 3 dataset now: Syn4\n"
     ]
    },
    {
     "name": "stderr",
     "output_type": "stream",
     "text": [
      "TPR mean: 99.3%  std: 6.4%\n",
      "FDR mean: 0.8%  std: 6.4%\n",
      "invase: Syn5 5000 . Y\n",
      "(10000, 11) (10000, 2) (10000, 11) (10000, 2)\n",
      "input shape: 11\n",
      "Epoch:      0, d_loss (Acc)): 0.791, v_loss (Acc): 0.799, g_loss: +0.0630\n"
     ]
    },
    {
     "name": "stdout",
     "output_type": "stream",
     "text": [
      "[[0.76370466 0.81290139]\n",
      " [0.77893388 0.82588745]\n",
      " [0.6896     0.7252    ]]\n",
      "PyTorch Version: elapsed time for Syn4: 11 feature, 10000 sample: [462.5538 459.184  436.4912 440.736 ] sec.\n",
      "now at training epoch number 0 hyp-params: lamda 0.0000 prior 0.5000\n",
      "rec time now 0 dataset now: Syn5\n"
     ]
    },
    {
     "name": "stderr",
     "output_type": "stream",
     "text": [
      "TPR mean: 38.3%  std: 20.3%\n",
      "FDR mean: 69.9%  std: 17.6%\n"
     ]
    },
    {
     "name": "stdout",
     "output_type": "stream",
     "text": [
      "[[0.72205021 0.65901713]\n",
      " [0.73034314 0.66830145]\n",
      " [0.665      0.6075    ]]\n",
      "rec time now 1 dataset now: Syn5\n"
     ]
    },
    {
     "name": "stderr",
     "output_type": "stream",
     "text": [
      "TPR mean: 24.5%  std: 20.0%\n",
      "FDR mean: 74.4%  std: 22.1%\n"
     ]
    },
    {
     "name": "stdout",
     "output_type": "stream",
     "text": [
      "[[0.72205021 0.64271295]\n",
      " [0.73034314 0.646855  ]\n",
      " [0.665      0.6055    ]]\n",
      "rec time now 2 dataset now: Syn5\n"
     ]
    },
    {
     "name": "stderr",
     "output_type": "stream",
     "text": [
      "TPR mean: 20.7%  std: 19.8%\n",
      "FDR mean: 76.4%  std: 23.9%\n"
     ]
    },
    {
     "name": "stdout",
     "output_type": "stream",
     "text": [
      "[[0.72205021 0.63533132]\n",
      " [0.73034314 0.63163017]\n",
      " [0.665      0.6021    ]]\n",
      "rec time now 3 dataset now: Syn5\n"
     ]
    },
    {
     "name": "stderr",
     "output_type": "stream",
     "text": [
      "TPR mean: 19.8%  std: 19.8%\n",
      "FDR mean: 76.8%  std: 24.4%\n",
      "Epoch:      0, d_loss (Acc)): 0.665, v_loss (Acc): 0.618, g_loss: -0.3510\n"
     ]
    },
    {
     "name": "stdout",
     "output_type": "stream",
     "text": [
      "[[0.72205021 0.63408838]\n",
      " [0.73034314 0.63034313]\n",
      " [0.665      0.6029    ]]\n",
      "now at training epoch number 100 hyp-params: lamda 0.0060 prior 0.4900\n",
      "rec time now 0 dataset now: Syn5\n"
     ]
    },
    {
     "name": "stderr",
     "output_type": "stream",
     "text": [
      "TPR mean: 49.0%  std: 20.3%\n",
      "FDR mean: 65.4%  std: 17.3%\n"
     ]
    },
    {
     "name": "stdout",
     "output_type": "stream",
     "text": [
      "[[0.74896821 0.69950661]\n",
      " [0.76269617 0.72151206]\n",
      " [0.6769     0.6405    ]]\n",
      "rec time now 1 dataset now: Syn5\n"
     ]
    },
    {
     "name": "stderr",
     "output_type": "stream",
     "text": [
      "TPR mean: 36.1%  std: 21.9%\n",
      "FDR mean: 67.3%  std: 22.1%\n"
     ]
    },
    {
     "name": "stdout",
     "output_type": "stream",
     "text": [
      "[[0.74896821 0.68939755]\n",
      " [0.76269617 0.70869108]\n",
      " [0.6769     0.6343    ]]\n",
      "rec time now 2 dataset now: Syn5\n"
     ]
    },
    {
     "name": "stderr",
     "output_type": "stream",
     "text": [
      "TPR mean: 32.8%  std: 22.1%\n",
      "FDR mean: 68.3%  std: 23.4%\n"
     ]
    },
    {
     "name": "stdout",
     "output_type": "stream",
     "text": [
      "[[0.74896821 0.68428812]\n",
      " [0.76269617 0.70018928]\n",
      " [0.6769     0.6335    ]]\n",
      "rec time now 3 dataset now: Syn5\n"
     ]
    },
    {
     "name": "stderr",
     "output_type": "stream",
     "text": [
      "TPR mean: 32.1%  std: 22.2%\n",
      "FDR mean: 68.6%  std: 23.7%\n",
      "Epoch:      0, d_loss (Acc)): 0.656, v_loss (Acc): 0.592, g_loss: -0.4897\n"
     ]
    },
    {
     "name": "stdout",
     "output_type": "stream",
     "text": [
      "[[0.74896821 0.68371529]\n",
      " [0.76269617 0.6993457 ]\n",
      " [0.6769     0.6331    ]]\n",
      "now at training epoch number 200 hyp-params: lamda 0.0120 prior 0.4800\n",
      "rec time now 0 dataset now: Syn5\n"
     ]
    },
    {
     "name": "stderr",
     "output_type": "stream",
     "text": [
      "TPR mean: 63.1%  std: 19.6%\n",
      "FDR mean: 60.8%  std: 14.8%\n"
     ]
    },
    {
     "name": "stdout",
     "output_type": "stream",
     "text": [
      "[[0.76340473 0.72202335]\n",
      " [0.77698406 0.7434288 ]\n",
      " [0.6863     0.6554    ]]\n",
      "rec time now 1 dataset now: Syn5\n"
     ]
    },
    {
     "name": "stderr",
     "output_type": "stream",
     "text": [
      "TPR mean: 52.4%  std: 21.2%\n",
      "FDR mean: 60.5%  std: 18.2%\n"
     ]
    },
    {
     "name": "stdout",
     "output_type": "stream",
     "text": [
      "[[0.76340473 0.71350894]\n",
      " [0.77698406 0.73689837]\n",
      " [0.6863     0.6471    ]]\n",
      "rec time now 2 dataset now: Syn5\n"
     ]
    },
    {
     "name": "stderr",
     "output_type": "stream",
     "text": [
      "TPR mean: 49.7%  std: 21.6%\n",
      "FDR mean: 60.4%  std: 19.2%\n"
     ]
    },
    {
     "name": "stdout",
     "output_type": "stream",
     "text": [
      "[[0.76340473 0.71101651]\n",
      " [0.77698406 0.73452441]\n",
      " [0.6863     0.6444    ]]\n",
      "rec time now 3 dataset now: Syn5\n"
     ]
    },
    {
     "name": "stderr",
     "output_type": "stream",
     "text": [
      "TPR mean: 49.2%  std: 21.7%\n",
      "FDR mean: 60.4%  std: 19.4%\n",
      "Epoch:      0, d_loss (Acc)): 0.627, v_loss (Acc): 0.557, g_loss: -0.5308\n"
     ]
    },
    {
     "name": "stdout",
     "output_type": "stream",
     "text": [
      "[[0.76340473 0.71012158]\n",
      " [0.77698406 0.73365993]\n",
      " [0.6863     0.6432    ]]\n",
      "now at training epoch number 300 hyp-params: lamda 0.0180 prior 0.4700\n",
      "rec time now 0 dataset now: Syn5\n"
     ]
    },
    {
     "name": "stderr",
     "output_type": "stream",
     "text": [
      "TPR mean: 74.2%  std: 19.7%\n",
      "FDR mean: 57.0%  std: 14.0%\n"
     ]
    },
    {
     "name": "stdout",
     "output_type": "stream",
     "text": [
      "[[0.76980017 0.73355493]\n",
      " [0.78369492 0.75605759]\n",
      " [0.6895     0.66      ]]\n",
      "rec time now 1 dataset now: Syn5\n"
     ]
    },
    {
     "name": "stderr",
     "output_type": "stream",
     "text": [
      "TPR mean: 67.0%  std: 21.8%\n",
      "FDR mean: 55.2%  std: 16.6%\n"
     ]
    },
    {
     "name": "stdout",
     "output_type": "stream",
     "text": [
      "[[0.76980017 0.72999012]\n",
      " [0.78369492 0.75308777]\n",
      " [0.6895     0.6569    ]]\n",
      "rec time now 2 dataset now: Syn5\n"
     ]
    },
    {
     "name": "stderr",
     "output_type": "stream",
     "text": [
      "TPR mean: 65.3%  std: 22.5%\n",
      "FDR mean: 54.8%  std: 17.3%\n"
     ]
    },
    {
     "name": "stdout",
     "output_type": "stream",
     "text": [
      "[[0.76980017 0.72877766]\n",
      " [0.78369492 0.75174995]\n",
      " [0.6895     0.6554    ]]\n",
      "rec time now 3 dataset now: Syn5\n"
     ]
    },
    {
     "name": "stderr",
     "output_type": "stream",
     "text": [
      "TPR mean: 65.0%  std: 22.7%\n",
      "FDR mean: 54.7%  std: 17.5%\n",
      "Epoch:      0, d_loss (Acc)): 0.619, v_loss (Acc): 0.548, g_loss: -0.5309\n"
     ]
    },
    {
     "name": "stdout",
     "output_type": "stream",
     "text": [
      "[[0.76980017 0.72867653]\n",
      " [0.78369492 0.75170203]\n",
      " [0.6895     0.6552    ]]\n",
      "now at training epoch number 400 hyp-params: lamda 0.0240 prior 0.4600\n",
      "rec time now 0 dataset now: Syn5\n"
     ]
    },
    {
     "name": "stderr",
     "output_type": "stream",
     "text": [
      "TPR mean: 84.9%  std: 17.9%\n",
      "FDR mean: 53.5%  std: 13.6%\n"
     ]
    },
    {
     "name": "stdout",
     "output_type": "stream",
     "text": [
      "[[0.77427347 0.74828228]\n",
      " [0.78948576 0.7713027 ]\n",
      " [0.6935     0.6742    ]]\n",
      "rec time now 1 dataset now: Syn5\n"
     ]
    },
    {
     "name": "stderr",
     "output_type": "stream",
     "text": [
      "TPR mean: 81.4%  std: 20.1%\n",
      "FDR mean: 50.9%  std: 15.1%\n"
     ]
    },
    {
     "name": "stdout",
     "output_type": "stream",
     "text": [
      "[[0.77427347 0.74777483]\n",
      " [0.78948576 0.77072692]\n",
      " [0.6935     0.6725    ]]\n",
      "rec time now 2 dataset now: Syn5\n"
     ]
    },
    {
     "name": "stderr",
     "output_type": "stream",
     "text": [
      "TPR mean: 80.8%  std: 20.7%\n",
      "FDR mean: 50.4%  std: 15.5%\n"
     ]
    },
    {
     "name": "stdout",
     "output_type": "stream",
     "text": [
      "[[0.77427347 0.74820904]\n",
      " [0.78948576 0.77066742]\n",
      " [0.6935     0.6714    ]]\n",
      "rec time now 3 dataset now: Syn5\n"
     ]
    },
    {
     "name": "stderr",
     "output_type": "stream",
     "text": [
      "TPR mean: 80.7%  std: 20.8%\n",
      "FDR mean: 50.3%  std: 15.6%\n",
      "Epoch:      0, d_loss (Acc)): 0.624, v_loss (Acc): 0.564, g_loss: -0.4395\n"
     ]
    },
    {
     "name": "stdout",
     "output_type": "stream",
     "text": [
      "[[0.77427347 0.74843396]\n",
      " [0.78948576 0.77091181]\n",
      " [0.6935     0.6714    ]]\n",
      "now at training epoch number 500 hyp-params: lamda 0.0300 prior 0.4500\n",
      "rec time now 0 dataset now: Syn5\n"
     ]
    },
    {
     "name": "stderr",
     "output_type": "stream",
     "text": [
      "TPR mean: 90.1%  std: 15.3%\n",
      "FDR mean: 51.5%  std: 13.3%\n"
     ]
    },
    {
     "name": "stdout",
     "output_type": "stream",
     "text": [
      "[[0.77458797 0.76090776]\n",
      " [0.78968695 0.77936797]\n",
      " [0.693      0.6847    ]]\n",
      "rec time now 1 dataset now: Syn5\n"
     ]
    },
    {
     "name": "stderr",
     "output_type": "stream",
     "text": [
      "TPR mean: 88.3%  std: 16.8%\n",
      "FDR mean: 48.6%  std: 14.3%\n"
     ]
    },
    {
     "name": "stdout",
     "output_type": "stream",
     "text": [
      "[[0.77458797 0.76193701]\n",
      " [0.78968695 0.78135826]\n",
      " [0.693      0.6855    ]]\n",
      "rec time now 2 dataset now: Syn5\n"
     ]
    },
    {
     "name": "stderr",
     "output_type": "stream",
     "text": [
      "TPR mean: 88.1%  std: 17.1%\n",
      "FDR mean: 48.0%  std: 14.6%\n"
     ]
    },
    {
     "name": "stdout",
     "output_type": "stream",
     "text": [
      "[[0.77458797 0.76180655]\n",
      " [0.78968695 0.78115417]\n",
      " [0.693      0.6844    ]]\n",
      "rec time now 3 dataset now: Syn5\n"
     ]
    },
    {
     "name": "stderr",
     "output_type": "stream",
     "text": [
      "TPR mean: 88.0%  std: 17.1%\n",
      "FDR mean: 47.9%  std: 14.7%\n",
      "Epoch:      0, d_loss (Acc)): 0.601, v_loss (Acc): 0.550, g_loss: -0.3694\n"
     ]
    },
    {
     "name": "stdout",
     "output_type": "stream",
     "text": [
      "[[0.77458797 0.76170442]\n",
      " [0.78968695 0.78112938]\n",
      " [0.693      0.6839    ]]\n",
      "now at training epoch number 600 hyp-params: lamda 0.0360 prior 0.4400\n",
      "rec time now 0 dataset now: Syn5\n"
     ]
    },
    {
     "name": "stderr",
     "output_type": "stream",
     "text": [
      "TPR mean: 93.6%  std: 13.0%\n",
      "FDR mean: 48.6%  std: 15.0%\n"
     ]
    },
    {
     "name": "stdout",
     "output_type": "stream",
     "text": [
      "[[0.77656302 0.77151442]\n",
      " [0.79182323 0.78839161]\n",
      " [0.6963     0.6938    ]]\n",
      "rec time now 1 dataset now: Syn5\n"
     ]
    },
    {
     "name": "stderr",
     "output_type": "stream",
     "text": [
      "TPR mean: 92.6%  std: 14.2%\n",
      "FDR mean: 44.9%  std: 16.4%\n"
     ]
    },
    {
     "name": "stdout",
     "output_type": "stream",
     "text": [
      "[[0.77656302 0.77235995]\n",
      " [0.79182323 0.78965449]\n",
      " [0.6963     0.694     ]]\n",
      "rec time now 2 dataset now: Syn5\n"
     ]
    },
    {
     "name": "stderr",
     "output_type": "stream",
     "text": [
      "TPR mean: 92.5%  std: 14.4%\n",
      "FDR mean: 44.2%  std: 16.8%\n"
     ]
    },
    {
     "name": "stdout",
     "output_type": "stream",
     "text": [
      "[[0.77656302 0.77253887]\n",
      " [0.79182323 0.7899037 ]\n",
      " [0.6963     0.6941    ]]\n",
      "rec time now 3 dataset now: Syn5\n"
     ]
    },
    {
     "name": "stderr",
     "output_type": "stream",
     "text": [
      "TPR mean: 92.4%  std: 14.4%\n",
      "FDR mean: 44.1%  std: 16.9%\n",
      "Epoch:      0, d_loss (Acc)): 0.580, v_loss (Acc): 0.521, g_loss: -0.4325\n"
     ]
    },
    {
     "name": "stdout",
     "output_type": "stream",
     "text": [
      "[[0.77656302 0.77236295]\n",
      " [0.79182323 0.78982151]\n",
      " [0.6963     0.6934    ]]\n",
      "now at training epoch number 700 hyp-params: lamda 0.0420 prior 0.4300\n",
      "rec time now 0 dataset now: Syn5\n"
     ]
    },
    {
     "name": "stderr",
     "output_type": "stream",
     "text": [
      "TPR mean: 95.6%  std: 10.4%\n",
      "FDR mean: 46.0%  std: 15.2%\n"
     ]
    },
    {
     "name": "stdout",
     "output_type": "stream",
     "text": [
      "[[0.77850524 0.7797838 ]\n",
      " [0.79324248 0.79440649]\n",
      " [0.6956     0.6991    ]]\n",
      "rec time now 1 dataset now: Syn5\n"
     ]
    },
    {
     "name": "stderr",
     "output_type": "stream",
     "text": [
      "TPR mean: 94.9%  std: 11.2%\n",
      "FDR mean: 41.5%  std: 16.9%\n"
     ]
    },
    {
     "name": "stdout",
     "output_type": "stream",
     "text": [
      "[[0.77850524 0.7802977 ]\n",
      " [0.79324248 0.79527618]\n",
      " [0.6956     0.6975    ]]\n",
      "rec time now 2 dataset now: Syn5\n"
     ]
    },
    {
     "name": "stderr",
     "output_type": "stream",
     "text": [
      "TPR mean: 94.8%  std: 11.3%\n",
      "FDR mean: 40.8%  std: 17.3%\n"
     ]
    },
    {
     "name": "stdout",
     "output_type": "stream",
     "text": [
      "[[0.77850524 0.78080671]\n",
      " [0.79324248 0.79572926]\n",
      " [0.6956     0.6974    ]]\n",
      "rec time now 3 dataset now: Syn5\n"
     ]
    },
    {
     "name": "stderr",
     "output_type": "stream",
     "text": [
      "TPR mean: 94.8%  std: 11.3%\n",
      "FDR mean: 40.7%  std: 17.3%\n",
      "Epoch:      0, d_loss (Acc)): 0.569, v_loss (Acc): 0.529, g_loss: -0.2658\n"
     ]
    },
    {
     "name": "stdout",
     "output_type": "stream",
     "text": [
      "[[0.77850524 0.78048314]\n",
      " [0.79324248 0.79539366]\n",
      " [0.6956     0.6973    ]]\n",
      "now at training epoch number 800 hyp-params: lamda 0.0480 prior 0.4200\n",
      "rec time now 0 dataset now: Syn5\n"
     ]
    },
    {
     "name": "stderr",
     "output_type": "stream",
     "text": [
      "TPR mean: 97.2%  std: 8.5%\n",
      "FDR mean: 41.5%  std: 17.4%\n"
     ]
    },
    {
     "name": "stdout",
     "output_type": "stream",
     "text": [
      "[[0.77904326 0.78718807]\n",
      " [0.79354332 0.80012134]\n",
      " [0.7        0.7034    ]]\n",
      "rec time now 1 dataset now: Syn5\n"
     ]
    },
    {
     "name": "stderr",
     "output_type": "stream",
     "text": [
      "TPR mean: 96.7%  std: 9.2%\n",
      "FDR mean: 36.2%  std: 19.6%\n"
     ]
    },
    {
     "name": "stdout",
     "output_type": "stream",
     "text": [
      "[[0.77904326 0.78840882]\n",
      " [0.79354332 0.80181203]\n",
      " [0.7        0.7042    ]]\n",
      "rec time now 2 dataset now: Syn5\n"
     ]
    },
    {
     "name": "stderr",
     "output_type": "stream",
     "text": [
      "TPR mean: 96.7%  std: 9.3%\n",
      "FDR mean: 35.5%  std: 19.9%\n"
     ]
    },
    {
     "name": "stdout",
     "output_type": "stream",
     "text": [
      "[[0.77904326 0.78863278]\n",
      " [0.79354332 0.80181423]\n",
      " [0.7        0.7059    ]]\n",
      "rec time now 3 dataset now: Syn5\n"
     ]
    },
    {
     "name": "stderr",
     "output_type": "stream",
     "text": [
      "TPR mean: 96.7%  std: 9.3%\n",
      "FDR mean: 35.4%  std: 19.9%\n",
      "Epoch:      0, d_loss (Acc)): 0.569, v_loss (Acc): 0.525, g_loss: -0.2938\n"
     ]
    },
    {
     "name": "stdout",
     "output_type": "stream",
     "text": [
      "[[0.77904326 0.78851748]\n",
      " [0.79354332 0.801603  ]\n",
      " [0.7        0.7059    ]]\n",
      "now at training epoch number 900 hyp-params: lamda 0.0540 prior 0.4100\n",
      "rec time now 0 dataset now: Syn5\n"
     ]
    },
    {
     "name": "stderr",
     "output_type": "stream",
     "text": [
      "TPR mean: 98.5%  std: 6.1%\n",
      "FDR mean: 37.3%  std: 20.2%\n"
     ]
    },
    {
     "name": "stdout",
     "output_type": "stream",
     "text": [
      "[[0.77868867 0.7896221 ]\n",
      " [0.79282884 0.80288949]\n",
      " [0.7007     0.7052    ]]\n",
      "rec time now 1 dataset now: Syn5\n"
     ]
    },
    {
     "name": "stderr",
     "output_type": "stream",
     "text": [
      "TPR mean: 98.3%  std: 6.6%\n",
      "FDR mean: 32.5%  std: 21.3%\n"
     ]
    },
    {
     "name": "stdout",
     "output_type": "stream",
     "text": [
      "[[0.77868867 0.79169708]\n",
      " [0.79282884 0.8051627 ]\n",
      " [0.7007     0.7069    ]]\n",
      "rec time now 2 dataset now: Syn5\n"
     ]
    },
    {
     "name": "stderr",
     "output_type": "stream",
     "text": [
      "TPR mean: 98.3%  std: 6.6%\n",
      "FDR mean: 31.8%  std: 21.4%\n"
     ]
    },
    {
     "name": "stdout",
     "output_type": "stream",
     "text": [
      "[[0.77868867 0.79180648]\n",
      " [0.79282884 0.80487638]\n",
      " [0.7007     0.7073    ]]\n",
      "rec time now 3 dataset now: Syn5\n"
     ]
    },
    {
     "name": "stderr",
     "output_type": "stream",
     "text": [
      "TPR mean: 98.3%  std: 6.6%\n",
      "FDR mean: 31.8%  std: 21.5%\n",
      "Epoch:      0, d_loss (Acc)): 0.556, v_loss (Acc): 0.514, g_loss: -0.2797\n"
     ]
    },
    {
     "name": "stdout",
     "output_type": "stream",
     "text": [
      "[[0.77868867 0.79175079]\n",
      " [0.79282884 0.80484578]\n",
      " [0.7007     0.7074    ]]\n",
      "now at training epoch number 1000 hyp-params: lamda 0.0600 prior 0.4000\n",
      "rec time now 0 dataset now: Syn5\n"
     ]
    },
    {
     "name": "stderr",
     "output_type": "stream",
     "text": [
      "TPR mean: 99.1%  std: 4.9%\n",
      "FDR mean: 33.4%  std: 21.2%\n"
     ]
    },
    {
     "name": "stdout",
     "output_type": "stream",
     "text": [
      "[[0.77972745 0.79638832]\n",
      " [0.79444869 0.8086059 ]\n",
      " [0.6972     0.7141    ]]\n",
      "rec time now 1 dataset now: Syn5\n"
     ]
    },
    {
     "name": "stderr",
     "output_type": "stream",
     "text": [
      "TPR mean: 99.0%  std: 5.3%\n",
      "FDR mean: 28.9%  std: 21.1%\n"
     ]
    },
    {
     "name": "stdout",
     "output_type": "stream",
     "text": [
      "[[0.77972745 0.79792787]\n",
      " [0.79444869 0.81003069]\n",
      " [0.6972     0.7138    ]]\n",
      "rec time now 2 dataset now: Syn5\n"
     ]
    },
    {
     "name": "stderr",
     "output_type": "stream",
     "text": [
      "TPR mean: 99.0%  std: 5.3%\n",
      "FDR mean: 28.2%  std: 21.2%\n"
     ]
    },
    {
     "name": "stdout",
     "output_type": "stream",
     "text": [
      "[[0.77972745 0.79802426]\n",
      " [0.79444869 0.80994233]\n",
      " [0.6972     0.7135    ]]\n",
      "rec time now 3 dataset now: Syn5\n"
     ]
    },
    {
     "name": "stderr",
     "output_type": "stream",
     "text": [
      "TPR mean: 99.0%  std: 5.3%\n",
      "FDR mean: 28.1%  std: 21.2%\n",
      "Epoch:      0, d_loss (Acc)): 0.568, v_loss (Acc): 0.538, g_loss: -0.2047\n"
     ]
    },
    {
     "name": "stdout",
     "output_type": "stream",
     "text": [
      "[[0.77972745 0.79812785]\n",
      " [0.79444869 0.81007688]\n",
      " [0.6972     0.7136    ]]\n",
      "now at training epoch number 1100 hyp-params: lamda 0.0660 prior 0.3900\n",
      "rec time now 0 dataset now: Syn5\n"
     ]
    },
    {
     "name": "stderr",
     "output_type": "stream",
     "text": [
      "TPR mean: 99.5%  std: 3.5%\n",
      "FDR mean: 31.1%  std: 20.8%\n"
     ]
    },
    {
     "name": "stdout",
     "output_type": "stream",
     "text": [
      "[[0.78030748 0.79558639]\n",
      " [0.79389292 0.80842469]\n",
      " [0.6961     0.7115    ]]\n",
      "rec time now 1 dataset now: Syn5\n"
     ]
    },
    {
     "name": "stderr",
     "output_type": "stream",
     "text": [
      "TPR mean: 99.5%  std: 3.7%\n",
      "FDR mean: 26.1%  std: 20.8%\n"
     ]
    },
    {
     "name": "stdout",
     "output_type": "stream",
     "text": [
      "[[0.78030748 0.79760322]\n",
      " [0.79389292 0.81004458]\n",
      " [0.6961     0.7116    ]]\n",
      "rec time now 2 dataset now: Syn5\n"
     ]
    },
    {
     "name": "stderr",
     "output_type": "stream",
     "text": [
      "TPR mean: 99.5%  std: 3.7%\n",
      "FDR mean: 25.5%  std: 20.8%\n"
     ]
    },
    {
     "name": "stdout",
     "output_type": "stream",
     "text": [
      "[[0.78030748 0.79763872]\n",
      " [0.79389292 0.8100411 ]\n",
      " [0.6961     0.7121    ]]\n",
      "rec time now 3 dataset now: Syn5\n"
     ]
    },
    {
     "name": "stderr",
     "output_type": "stream",
     "text": [
      "TPR mean: 99.5%  std: 3.7%\n",
      "FDR mean: 25.4%  std: 20.8%\n",
      "Epoch:      0, d_loss (Acc)): 0.550, v_loss (Acc): 0.524, g_loss: -0.1422\n"
     ]
    },
    {
     "name": "stdout",
     "output_type": "stream",
     "text": [
      "[[0.78030748 0.79770011]\n",
      " [0.79389292 0.81009319]\n",
      " [0.6961     0.7123    ]]\n",
      "now at training epoch number 1200 hyp-params: lamda 0.0720 prior 0.3800\n",
      "rec time now 0 dataset now: Syn5\n"
     ]
    },
    {
     "name": "stderr",
     "output_type": "stream",
     "text": [
      "TPR mean: 99.7%  std: 2.8%\n",
      "FDR mean: 27.5%  std: 20.4%\n"
     ]
    },
    {
     "name": "stdout",
     "output_type": "stream",
     "text": [
      "[[0.78137689 0.79740797]\n",
      " [0.79625821 0.81073078]\n",
      " [0.6981     0.7134    ]]\n",
      "rec time now 1 dataset now: Syn5\n"
     ]
    },
    {
     "name": "stderr",
     "output_type": "stream",
     "text": [
      "TPR mean: 99.6%  std: 3.0%\n",
      "FDR mean: 22.8%  std: 20.0%\n"
     ]
    },
    {
     "name": "stdout",
     "output_type": "stream",
     "text": [
      "[[0.78137689 0.79836788]\n",
      " [0.79625821 0.81158509]\n",
      " [0.6981     0.7143    ]]\n",
      "rec time now 2 dataset now: Syn5\n"
     ]
    },
    {
     "name": "stderr",
     "output_type": "stream",
     "text": [
      "TPR mean: 99.6%  std: 3.0%\n",
      "FDR mean: 22.3%  std: 20.0%\n"
     ]
    },
    {
     "name": "stdout",
     "output_type": "stream",
     "text": [
      "[[0.78137689 0.79837785]\n",
      " [0.79625821 0.81151008]\n",
      " [0.6981     0.714     ]]\n",
      "rec time now 3 dataset now: Syn5\n"
     ]
    },
    {
     "name": "stderr",
     "output_type": "stream",
     "text": [
      "TPR mean: 99.6%  std: 3.0%\n",
      "FDR mean: 22.3%  std: 20.0%\n",
      "Epoch:      0, d_loss (Acc)): 0.565, v_loss (Acc): 0.531, g_loss: -0.2141\n"
     ]
    },
    {
     "name": "stdout",
     "output_type": "stream",
     "text": [
      "[[0.78137689 0.79838438]\n",
      " [0.79625821 0.81151794]\n",
      " [0.6981     0.714     ]]\n",
      "now at training epoch number 1300 hyp-params: lamda 0.0780 prior 0.3700\n",
      "rec time now 0 dataset now: Syn5\n"
     ]
    },
    {
     "name": "stderr",
     "output_type": "stream",
     "text": [
      "TPR mean: 99.8%  std: 2.2%\n",
      "FDR mean: 24.4%  std: 20.4%\n"
     ]
    },
    {
     "name": "stdout",
     "output_type": "stream",
     "text": [
      "[[0.77944784 0.79842275]\n",
      " [0.79398449 0.81091822]\n",
      " [0.6993     0.7128    ]]\n",
      "rec time now 1 dataset now: Syn5\n"
     ]
    },
    {
     "name": "stderr",
     "output_type": "stream",
     "text": [
      "TPR mean: 99.7%  std: 2.4%\n",
      "FDR mean: 20.2%  std: 20.1%\n"
     ]
    },
    {
     "name": "stdout",
     "output_type": "stream",
     "text": [
      "[[0.77944784 0.79933989]\n",
      " [0.79398449 0.81144306]\n",
      " [0.6993     0.7116    ]]\n",
      "rec time now 2 dataset now: Syn5\n"
     ]
    },
    {
     "name": "stderr",
     "output_type": "stream",
     "text": [
      "TPR mean: 99.7%  std: 2.4%\n",
      "FDR mean: 19.7%  std: 20.1%\n"
     ]
    },
    {
     "name": "stdout",
     "output_type": "stream",
     "text": [
      "[[0.77944784 0.79935882]\n",
      " [0.79398449 0.81144759]\n",
      " [0.6993     0.7118    ]]\n",
      "rec time now 3 dataset now: Syn5\n"
     ]
    },
    {
     "name": "stderr",
     "output_type": "stream",
     "text": [
      "TPR mean: 99.7%  std: 2.4%\n",
      "FDR mean: 19.7%  std: 20.1%\n",
      "Epoch:      0, d_loss (Acc)): 0.552, v_loss (Acc): 0.516, g_loss: -0.1907\n"
     ]
    },
    {
     "name": "stdout",
     "output_type": "stream",
     "text": [
      "[[0.77944784 0.79936919]\n",
      " [0.79398449 0.81144667]\n",
      " [0.6993     0.712     ]]\n",
      "now at training epoch number 1400 hyp-params: lamda 0.0840 prior 0.3600\n",
      "rec time now 0 dataset now: Syn5\n"
     ]
    },
    {
     "name": "stderr",
     "output_type": "stream",
     "text": [
      "TPR mean: 99.8%  std: 2.1%\n",
      "FDR mean: 20.3%  std: 20.1%\n"
     ]
    },
    {
     "name": "stdout",
     "output_type": "stream",
     "text": [
      "[[0.78080731 0.80028655]\n",
      " [0.79566739 0.81251447]\n",
      " [0.6965     0.7124    ]]\n",
      "rec time now 1 dataset now: Syn5\n"
     ]
    },
    {
     "name": "stderr",
     "output_type": "stream",
     "text": [
      "TPR mean: 99.8%  std: 2.3%\n",
      "FDR mean: 16.6%  std: 19.6%\n"
     ]
    },
    {
     "name": "stdout",
     "output_type": "stream",
     "text": [
      "[[0.78080731 0.80136306]\n",
      " [0.79566739 0.81320508]\n",
      " [0.6965     0.7142    ]]\n",
      "rec time now 2 dataset now: Syn5\n"
     ]
    },
    {
     "name": "stderr",
     "output_type": "stream",
     "text": [
      "TPR mean: 99.8%  std: 2.3%\n",
      "FDR mean: 16.3%  std: 19.6%\n"
     ]
    },
    {
     "name": "stdout",
     "output_type": "stream",
     "text": [
      "[[0.78080731 0.80141483]\n",
      " [0.79566739 0.81321665]\n",
      " [0.6965     0.714     ]]\n",
      "rec time now 3 dataset now: Syn5\n"
     ]
    },
    {
     "name": "stderr",
     "output_type": "stream",
     "text": [
      "TPR mean: 99.8%  std: 2.3%\n",
      "FDR mean: 16.3%  std: 19.6%\n",
      "Epoch:      0, d_loss (Acc)): 0.550, v_loss (Acc): 0.519, g_loss: -0.1537\n"
     ]
    },
    {
     "name": "stdout",
     "output_type": "stream",
     "text": [
      "[[0.78080731 0.80142448]\n",
      " [0.79566739 0.81319335]\n",
      " [0.6965     0.714     ]]\n",
      "now at training epoch number 1500 hyp-params: lamda 0.0900 prior 0.3500\n",
      "rec time now 0 dataset now: Syn5\n"
     ]
    },
    {
     "name": "stderr",
     "output_type": "stream",
     "text": [
      "TPR mean: 99.9%  std: 1.7%\n",
      "FDR mean: 18.1%  std: 20.4%\n"
     ]
    },
    {
     "name": "stdout",
     "output_type": "stream",
     "text": [
      "[[0.78019713 0.79953694]\n",
      " [0.79335012 0.81092478]\n",
      " [0.6999     0.7141    ]]\n",
      "rec time now 1 dataset now: Syn5\n"
     ]
    },
    {
     "name": "stderr",
     "output_type": "stream",
     "text": [
      "TPR mean: 99.9%  std: 1.8%\n",
      "FDR mean: 15.0%  std: 19.8%\n"
     ]
    },
    {
     "name": "stdout",
     "output_type": "stream",
     "text": [
      "[[0.78019713 0.80003432]\n",
      " [0.79335012 0.81112971]\n",
      " [0.6999     0.7142    ]]\n",
      "rec time now 2 dataset now: Syn5\n"
     ]
    },
    {
     "name": "stderr",
     "output_type": "stream",
     "text": [
      "TPR mean: 99.9%  std: 1.8%\n",
      "FDR mean: 14.7%  std: 19.8%\n"
     ]
    },
    {
     "name": "stdout",
     "output_type": "stream",
     "text": [
      "[[0.78019713 0.80011193]\n",
      " [0.79335012 0.81121233]\n",
      " [0.6999     0.714     ]]\n",
      "rec time now 3 dataset now: Syn5\n"
     ]
    },
    {
     "name": "stderr",
     "output_type": "stream",
     "text": [
      "TPR mean: 99.9%  std: 1.8%\n",
      "FDR mean: 14.7%  std: 19.8%\n",
      "Epoch:      0, d_loss (Acc)): 0.527, v_loss (Acc): 0.490, g_loss: -0.1864\n"
     ]
    },
    {
     "name": "stdout",
     "output_type": "stream",
     "text": [
      "[[0.78019713 0.80011784]\n",
      " [0.79335012 0.81121838]\n",
      " [0.6999     0.7137    ]]\n",
      "now at training epoch number 1600 hyp-params: lamda 0.0960 prior 0.3400\n",
      "rec time now 0 dataset now: Syn5\n"
     ]
    },
    {
     "name": "stderr",
     "output_type": "stream",
     "text": [
      "TPR mean: 99.9%  std: 1.4%\n",
      "FDR mean: 16.8%  std: 20.5%\n"
     ]
    },
    {
     "name": "stdout",
     "output_type": "stream",
     "text": [
      "[[0.77774645 0.7996957 ]\n",
      " [0.79178335 0.81210179]\n",
      " [0.6981     0.7133    ]]\n",
      "rec time now 1 dataset now: Syn5\n"
     ]
    },
    {
     "name": "stderr",
     "output_type": "stream",
     "text": [
      "TPR mean: 99.9%  std: 1.4%\n",
      "FDR mean: 14.3%  std: 20.0%\n"
     ]
    },
    {
     "name": "stdout",
     "output_type": "stream",
     "text": [
      "[[0.77774645 0.8003508 ]\n",
      " [0.79178335 0.81227308]\n",
      " [0.6981     0.7134    ]]\n",
      "rec time now 2 dataset now: Syn5\n"
     ]
    },
    {
     "name": "stderr",
     "output_type": "stream",
     "text": [
      "TPR mean: 99.9%  std: 1.4%\n",
      "FDR mean: 14.1%  std: 19.9%\n"
     ]
    },
    {
     "name": "stdout",
     "output_type": "stream",
     "text": [
      "[[0.77774645 0.80066066]\n",
      " [0.79178335 0.81253715]\n",
      " [0.6981     0.7134    ]]\n",
      "rec time now 3 dataset now: Syn5\n"
     ]
    },
    {
     "name": "stderr",
     "output_type": "stream",
     "text": [
      "TPR mean: 99.9%  std: 1.4%\n",
      "FDR mean: 14.1%  std: 19.9%\n",
      "Epoch:      0, d_loss (Acc)): 0.515, v_loss (Acc): 0.490, g_loss: -0.1439\n"
     ]
    },
    {
     "name": "stdout",
     "output_type": "stream",
     "text": [
      "[[0.77774645 0.80066014]\n",
      " [0.79178335 0.81253732]\n",
      " [0.6981     0.7134    ]]\n",
      "now at training epoch number 1700 hyp-params: lamda 0.1020 prior 0.3300\n",
      "rec time now 0 dataset now: Syn5\n"
     ]
    },
    {
     "name": "stderr",
     "output_type": "stream",
     "text": [
      "TPR mean: 99.9%  std: 1.3%\n",
      "FDR mean: 15.5%  std: 20.2%\n"
     ]
    },
    {
     "name": "stdout",
     "output_type": "stream",
     "text": [
      "[[0.77797193 0.80171826]\n",
      " [0.79190143 0.81386121]\n",
      " [0.6934     0.7133    ]]\n",
      "rec time now 1 dataset now: Syn5\n"
     ]
    },
    {
     "name": "stderr",
     "output_type": "stream",
     "text": [
      "TPR mean: 99.9%  std: 1.4%\n",
      "FDR mean: 13.4%  std: 19.6%\n"
     ]
    },
    {
     "name": "stdout",
     "output_type": "stream",
     "text": [
      "[[0.77797193 0.80252856]\n",
      " [0.79190143 0.81432339]\n",
      " [0.6934     0.7153    ]]\n",
      "rec time now 2 dataset now: Syn5\n"
     ]
    },
    {
     "name": "stderr",
     "output_type": "stream",
     "text": [
      "TPR mean: 99.9%  std: 1.4%\n",
      "FDR mean: 13.2%  std: 19.6%\n"
     ]
    },
    {
     "name": "stdout",
     "output_type": "stream",
     "text": [
      "[[0.77797193 0.80278971]\n",
      " [0.79190143 0.81452581]\n",
      " [0.6934     0.7149    ]]\n",
      "rec time now 3 dataset now: Syn5\n"
     ]
    },
    {
     "name": "stderr",
     "output_type": "stream",
     "text": [
      "TPR mean: 99.9%  std: 1.4%\n",
      "FDR mean: 13.2%  std: 19.6%\n",
      "Epoch:      0, d_loss (Acc)): 0.539, v_loss (Acc): 0.507, g_loss: -0.1457\n"
     ]
    },
    {
     "name": "stdout",
     "output_type": "stream",
     "text": [
      "[[0.77797193 0.80281189]\n",
      " [0.79190143 0.81454129]\n",
      " [0.6934     0.7151    ]]\n",
      "now at training epoch number 1800 hyp-params: lamda 0.1080 prior 0.3200\n",
      "rec time now 0 dataset now: Syn5\n"
     ]
    },
    {
     "name": "stderr",
     "output_type": "stream",
     "text": [
      "TPR mean: 99.9%  std: 1.2%\n",
      "FDR mean: 14.6%  std: 19.8%\n"
     ]
    },
    {
     "name": "stdout",
     "output_type": "stream",
     "text": [
      "[[0.78095268 0.80277019]\n",
      " [0.79584203 0.81516022]\n",
      " [0.6969     0.7133    ]]\n",
      "rec time now 1 dataset now: Syn5\n"
     ]
    },
    {
     "name": "stderr",
     "output_type": "stream",
     "text": [
      "TPR mean: 99.9%  std: 1.3%\n",
      "FDR mean: 12.7%  std: 19.1%\n"
     ]
    },
    {
     "name": "stdout",
     "output_type": "stream",
     "text": [
      "[[0.78095268 0.80396397]\n",
      " [0.79584203 0.81588402]\n",
      " [0.6969     0.7141    ]]\n",
      "rec time now 2 dataset now: Syn5\n"
     ]
    },
    {
     "name": "stderr",
     "output_type": "stream",
     "text": [
      "TPR mean: 99.9%  std: 1.3%\n",
      "FDR mean: 12.5%  std: 19.0%\n"
     ]
    },
    {
     "name": "stdout",
     "output_type": "stream",
     "text": [
      "[[0.78095268 0.80414267]\n",
      " [0.79584203 0.81599694]\n",
      " [0.6969     0.7142    ]]\n",
      "rec time now 3 dataset now: Syn5\n"
     ]
    },
    {
     "name": "stderr",
     "output_type": "stream",
     "text": [
      "TPR mean: 99.9%  std: 1.3%\n",
      "FDR mean: 12.5%  std: 19.0%\n",
      "Epoch:      0, d_loss (Acc)): 0.543, v_loss (Acc): 0.515, g_loss: -0.0811\n"
     ]
    },
    {
     "name": "stdout",
     "output_type": "stream",
     "text": [
      "[[0.78095268 0.80418595]\n",
      " [0.79584203 0.81603208]\n",
      " [0.6969     0.7144    ]]\n",
      "now at training epoch number 1900 hyp-params: lamda 0.1140 prior 0.3100\n",
      "rec time now 0 dataset now: Syn5\n"
     ]
    },
    {
     "name": "stderr",
     "output_type": "stream",
     "text": [
      "TPR mean: 99.9%  std: 1.2%\n",
      "FDR mean: 13.9%  std: 19.6%\n"
     ]
    },
    {
     "name": "stdout",
     "output_type": "stream",
     "text": [
      "[[0.78071208 0.8031667 ]\n",
      " [0.79490012 0.8154121 ]\n",
      " [0.6972     0.7161    ]]\n",
      "rec time now 1 dataset now: Syn5\n"
     ]
    },
    {
     "name": "stderr",
     "output_type": "stream",
     "text": [
      "TPR mean: 99.9%  std: 1.3%\n",
      "FDR mean: 12.1%  std: 18.8%\n"
     ]
    },
    {
     "name": "stdout",
     "output_type": "stream",
     "text": [
      "[[0.78071208 0.80346249]\n",
      " [0.79490012 0.81520218]\n",
      " [0.6972     0.7153    ]]\n",
      "rec time now 2 dataset now: Syn5\n"
     ]
    },
    {
     "name": "stderr",
     "output_type": "stream",
     "text": [
      "TPR mean: 99.9%  std: 1.3%\n",
      "FDR mean: 11.9%  std: 18.8%\n"
     ]
    },
    {
     "name": "stdout",
     "output_type": "stream",
     "text": [
      "[[0.78071208 0.80355589]\n",
      " [0.79490012 0.81531183]\n",
      " [0.6972     0.7151    ]]\n",
      "rec time now 3 dataset now: Syn5\n"
     ]
    },
    {
     "name": "stderr",
     "output_type": "stream",
     "text": [
      "TPR mean: 99.9%  std: 1.3%\n",
      "FDR mean: 11.9%  std: 18.8%\n",
      "Epoch:      0, d_loss (Acc)): 0.540, v_loss (Acc): 0.515, g_loss: -0.1213\n"
     ]
    },
    {
     "name": "stdout",
     "output_type": "stream",
     "text": [
      "[[0.78071208 0.8035899 ]\n",
      " [0.79490012 0.81533996]\n",
      " [0.6972     0.7152    ]]\n",
      "now at training epoch number 2000 hyp-params: lamda 0.1200 prior 0.3000\n",
      "rec time now 0 dataset now: Syn5\n"
     ]
    },
    {
     "name": "stderr",
     "output_type": "stream",
     "text": [
      "TPR mean: 99.9%  std: 1.2%\n",
      "FDR mean: 13.1%  std: 19.4%\n"
     ]
    },
    {
     "name": "stdout",
     "output_type": "stream",
     "text": [
      "[[0.77813554 0.8037683 ]\n",
      " [0.79217254 0.81593843]\n",
      " [0.6951     0.7136    ]]\n",
      "rec time now 1 dataset now: Syn5\n"
     ]
    },
    {
     "name": "stderr",
     "output_type": "stream",
     "text": [
      "TPR mean: 99.9%  std: 1.3%\n",
      "FDR mean: 11.4%  std: 18.8%\n"
     ]
    },
    {
     "name": "stdout",
     "output_type": "stream",
     "text": [
      "[[0.77813554 0.80432685]\n",
      " [0.79217254 0.81609351]\n",
      " [0.6951     0.7141    ]]\n",
      "rec time now 2 dataset now: Syn5\n"
     ]
    },
    {
     "name": "stderr",
     "output_type": "stream",
     "text": [
      "TPR mean: 99.9%  std: 1.3%\n",
      "FDR mean: 11.3%  std: 18.7%\n"
     ]
    },
    {
     "name": "stdout",
     "output_type": "stream",
     "text": [
      "[[0.77813554 0.80432928]\n",
      " [0.79217254 0.81608249]\n",
      " [0.6951     0.7145    ]]\n",
      "rec time now 3 dataset now: Syn5\n"
     ]
    },
    {
     "name": "stderr",
     "output_type": "stream",
     "text": [
      "TPR mean: 99.9%  std: 1.3%\n",
      "FDR mean: 11.2%  std: 18.7%\n",
      "Epoch:      0, d_loss (Acc)): 0.527, v_loss (Acc): 0.502, g_loss: -0.0845\n"
     ]
    },
    {
     "name": "stdout",
     "output_type": "stream",
     "text": [
      "[[0.77813554 0.80433698]\n",
      " [0.79217254 0.81607794]\n",
      " [0.6951     0.7144    ]]\n",
      "now at training epoch number 2100 hyp-params: lamda 0.1260 prior 0.2900\n",
      "rec time now 0 dataset now: Syn5\n"
     ]
    },
    {
     "name": "stderr",
     "output_type": "stream",
     "text": [
      "TPR mean: 99.9%  std: 1.2%\n",
      "FDR mean: 12.3%  std: 19.1%\n"
     ]
    },
    {
     "name": "stdout",
     "output_type": "stream",
     "text": [
      "[[0.77921565 0.80366517]\n",
      " [0.79316954 0.81492681]\n",
      " [0.6992     0.7152    ]]\n",
      "rec time now 1 dataset now: Syn5\n"
     ]
    },
    {
     "name": "stderr",
     "output_type": "stream",
     "text": [
      "TPR mean: 99.9%  std: 1.2%\n",
      "FDR mean: 10.6%  std: 18.4%\n"
     ]
    },
    {
     "name": "stdout",
     "output_type": "stream",
     "text": [
      "[[0.77921565 0.803878  ]\n",
      " [0.79316954 0.81487395]\n",
      " [0.6992     0.7154    ]]\n",
      "rec time now 2 dataset now: Syn5\n"
     ]
    },
    {
     "name": "stderr",
     "output_type": "stream",
     "text": [
      "TPR mean: 99.9%  std: 1.2%\n",
      "FDR mean: 10.5%  std: 18.3%\n"
     ]
    },
    {
     "name": "stdout",
     "output_type": "stream",
     "text": [
      "[[0.77921565 0.80425039]\n",
      " [0.79316954 0.81518084]\n",
      " [0.6992     0.716     ]]\n",
      "rec time now 3 dataset now: Syn5\n"
     ]
    },
    {
     "name": "stderr",
     "output_type": "stream",
     "text": [
      "TPR mean: 99.9%  std: 1.2%\n",
      "FDR mean: 10.5%  std: 18.3%\n",
      "Epoch:      0, d_loss (Acc)): 0.506, v_loss (Acc): 0.492, g_loss: -0.0351\n"
     ]
    },
    {
     "name": "stdout",
     "output_type": "stream",
     "text": [
      "[[0.77921565 0.80425523]\n",
      " [0.79316954 0.8151816 ]\n",
      " [0.6992     0.716     ]]\n",
      "now at training epoch number 2200 hyp-params: lamda 0.1320 prior 0.2800\n",
      "rec time now 0 dataset now: Syn5\n"
     ]
    },
    {
     "name": "stderr",
     "output_type": "stream",
     "text": [
      "TPR mean: 99.9%  std: 1.2%\n",
      "FDR mean: 11.5%  std: 18.8%\n"
     ]
    },
    {
     "name": "stdout",
     "output_type": "stream",
     "text": [
      "[[0.77913943 0.80449809]\n",
      " [0.79202539 0.81595427]\n",
      " [0.6992     0.7167    ]]\n",
      "rec time now 1 dataset now: Syn5\n"
     ]
    },
    {
     "name": "stderr",
     "output_type": "stream",
     "text": [
      "TPR mean: 99.9%  std: 1.3%\n",
      "FDR mean: 9.7%  std: 17.9%\n"
     ]
    },
    {
     "name": "stdout",
     "output_type": "stream",
     "text": [
      "[[0.77913943 0.80529491]\n",
      " [0.79202539 0.81624338]\n",
      " [0.6992     0.7164    ]]\n",
      "rec time now 2 dataset now: Syn5\n"
     ]
    },
    {
     "name": "stderr",
     "output_type": "stream",
     "text": [
      "TPR mean: 99.9%  std: 1.3%\n",
      "FDR mean: 9.5%  std: 17.8%\n"
     ]
    },
    {
     "name": "stdout",
     "output_type": "stream",
     "text": [
      "[[0.77913943 0.80556986]\n",
      " [0.79202539 0.81646557]\n",
      " [0.6992     0.7171    ]]\n",
      "rec time now 3 dataset now: Syn5\n"
     ]
    },
    {
     "name": "stderr",
     "output_type": "stream",
     "text": [
      "TPR mean: 99.9%  std: 1.3%\n",
      "FDR mean: 9.5%  std: 17.8%\n",
      "Epoch:      0, d_loss (Acc)): 0.523, v_loss (Acc): 0.495, g_loss: -0.0686\n"
     ]
    },
    {
     "name": "stdout",
     "output_type": "stream",
     "text": [
      "[[0.77913943 0.80556443]\n",
      " [0.79202539 0.81645197]\n",
      " [0.6992     0.7172    ]]\n",
      "now at training epoch number 2300 hyp-params: lamda 0.1380 prior 0.2700\n",
      "rec time now 0 dataset now: Syn5\n"
     ]
    },
    {
     "name": "stderr",
     "output_type": "stream",
     "text": [
      "TPR mean: 99.9%  std: 1.7%\n",
      "FDR mean: 10.6%  std: 18.1%\n"
     ]
    },
    {
     "name": "stdout",
     "output_type": "stream",
     "text": [
      "[[0.77964033 0.80573156]\n",
      " [0.79480255 0.81797147]\n",
      " [0.6987     0.716     ]]\n",
      "rec time now 1 dataset now: Syn5\n"
     ]
    },
    {
     "name": "stderr",
     "output_type": "stream",
     "text": [
      "TPR mean: 99.8%  std: 1.8%\n",
      "FDR mean: 8.8%  std: 17.0%\n"
     ]
    },
    {
     "name": "stdout",
     "output_type": "stream",
     "text": [
      "[[0.77964033 0.80634403]\n",
      " [0.79480255 0.81810408]\n",
      " [0.6987     0.7164    ]]\n",
      "rec time now 2 dataset now: Syn5\n"
     ]
    },
    {
     "name": "stderr",
     "output_type": "stream",
     "text": [
      "TPR mean: 99.8%  std: 1.8%\n",
      "FDR mean: 8.6%  std: 16.9%\n"
     ]
    },
    {
     "name": "stdout",
     "output_type": "stream",
     "text": [
      "[[0.77964033 0.8066104 ]\n",
      " [0.79480255 0.81832664]\n",
      " [0.6987     0.7164    ]]\n",
      "rec time now 3 dataset now: Syn5\n"
     ]
    },
    {
     "name": "stderr",
     "output_type": "stream",
     "text": [
      "TPR mean: 99.8%  std: 1.8%\n",
      "FDR mean: 8.6%  std: 16.9%\n",
      "Epoch:      0, d_loss (Acc)): 0.562, v_loss (Acc): 0.524, g_loss: -0.1087\n"
     ]
    },
    {
     "name": "stdout",
     "output_type": "stream",
     "text": [
      "[[0.77964033 0.80664585]\n",
      " [0.79480255 0.81835671]\n",
      " [0.6987     0.7164    ]]\n",
      "now at training epoch number 2400 hyp-params: lamda 0.1440 prior 0.2600\n",
      "rec time now 0 dataset now: Syn5\n"
     ]
    },
    {
     "name": "stderr",
     "output_type": "stream",
     "text": [
      "TPR mean: 99.8%  std: 1.9%\n",
      "FDR mean: 9.5%  std: 17.3%\n"
     ]
    },
    {
     "name": "stdout",
     "output_type": "stream",
     "text": [
      "[[0.77666113 0.80415696]\n",
      " [0.79044137 0.81554112]\n",
      " [0.6933     0.7162    ]]\n",
      "rec time now 1 dataset now: Syn5\n"
     ]
    },
    {
     "name": "stderr",
     "output_type": "stream",
     "text": [
      "TPR mean: 99.8%  std: 2.0%\n",
      "FDR mean: 7.8%  std: 16.1%\n"
     ]
    },
    {
     "name": "stdout",
     "output_type": "stream",
     "text": [
      "[[0.77666113 0.80536494]\n",
      " [0.79044137 0.81653573]\n",
      " [0.6933     0.7179    ]]\n",
      "rec time now 2 dataset now: Syn5\n"
     ]
    },
    {
     "name": "stderr",
     "output_type": "stream",
     "text": [
      "TPR mean: 99.8%  std: 2.0%\n",
      "FDR mean: 7.6%  std: 15.9%\n"
     ]
    },
    {
     "name": "stdout",
     "output_type": "stream",
     "text": [
      "[[0.77666113 0.80545976]\n",
      " [0.79044137 0.81661417]\n",
      " [0.6933     0.7178    ]]\n",
      "rec time now 3 dataset now: Syn5\n"
     ]
    },
    {
     "name": "stderr",
     "output_type": "stream",
     "text": [
      "TPR mean: 99.8%  std: 2.0%\n",
      "FDR mean: 7.6%  std: 15.9%\n",
      "Epoch:      0, d_loss (Acc)): 0.517, v_loss (Acc): 0.487, g_loss: -0.0960\n"
     ]
    },
    {
     "name": "stdout",
     "output_type": "stream",
     "text": [
      "[[0.77666113 0.80544363]\n",
      " [0.79044137 0.81659568]\n",
      " [0.6933     0.7176    ]]\n",
      "now at training epoch number 2500 hyp-params: lamda 0.1500 prior 0.2500\n",
      "rec time now 0 dataset now: Syn5\n"
     ]
    },
    {
     "name": "stderr",
     "output_type": "stream",
     "text": [
      "TPR mean: 99.8%  std: 2.1%\n",
      "FDR mean: 8.7%  std: 16.7%\n"
     ]
    },
    {
     "name": "stdout",
     "output_type": "stream",
     "text": [
      "[[0.78027211 0.8072429 ]\n",
      " [0.79438572 0.81833789]\n",
      " [0.6938     0.7147    ]]\n",
      "rec time now 1 dataset now: Syn5\n"
     ]
    },
    {
     "name": "stderr",
     "output_type": "stream",
     "text": [
      "TPR mean: 99.8%  std: 2.2%\n",
      "FDR mean: 6.9%  std: 15.2%\n"
     ]
    },
    {
     "name": "stdout",
     "output_type": "stream",
     "text": [
      "[[0.78027211 0.80863518]\n",
      " [0.79438572 0.81932971]\n",
      " [0.6938     0.7168    ]]\n",
      "rec time now 2 dataset now: Syn5\n"
     ]
    },
    {
     "name": "stderr",
     "output_type": "stream",
     "text": [
      "TPR mean: 99.8%  std: 2.2%\n",
      "FDR mean: 6.7%  std: 15.1%\n"
     ]
    },
    {
     "name": "stdout",
     "output_type": "stream",
     "text": [
      "[[0.78027211 0.80874472]\n",
      " [0.79438572 0.81940918]\n",
      " [0.6938     0.717     ]]\n",
      "rec time now 3 dataset now: Syn5\n"
     ]
    },
    {
     "name": "stderr",
     "output_type": "stream",
     "text": [
      "TPR mean: 99.8%  std: 2.2%\n",
      "FDR mean: 6.7%  std: 15.1%\n",
      "Epoch:      0, d_loss (Acc)): 0.500, v_loss (Acc): 0.484, g_loss: -0.0518\n"
     ]
    },
    {
     "name": "stdout",
     "output_type": "stream",
     "text": [
      "[[0.78027211 0.80873469]\n",
      " [0.79438572 0.81939857]\n",
      " [0.6938     0.7171    ]]\n",
      "now at training epoch number 2600 hyp-params: lamda 0.1560 prior 0.2400\n",
      "rec time now 0 dataset now: Syn5\n"
     ]
    },
    {
     "name": "stderr",
     "output_type": "stream",
     "text": [
      "TPR mean: 99.8%  std: 1.9%\n",
      "FDR mean: 7.8%  std: 16.2%\n"
     ]
    },
    {
     "name": "stdout",
     "output_type": "stream",
     "text": [
      "[[0.77868893 0.809061  ]\n",
      " [0.7917562  0.81992772]\n",
      " [0.6968     0.7201    ]]\n",
      "rec time now 1 dataset now: Syn5\n"
     ]
    },
    {
     "name": "stderr",
     "output_type": "stream",
     "text": [
      "TPR mean: 99.8%  std: 2.0%\n",
      "FDR mean: 6.1%  std: 14.7%\n"
     ]
    },
    {
     "name": "stdout",
     "output_type": "stream",
     "text": [
      "[[0.77868893 0.81012801]\n",
      " [0.7917562  0.82068288]\n",
      " [0.6968     0.7211    ]]\n",
      "rec time now 2 dataset now: Syn5\n"
     ]
    },
    {
     "name": "stderr",
     "output_type": "stream",
     "text": [
      "TPR mean: 99.8%  std: 2.0%\n",
      "FDR mean: 6.0%  std: 14.6%\n"
     ]
    },
    {
     "name": "stdout",
     "output_type": "stream",
     "text": [
      "[[0.77868893 0.81020978]\n",
      " [0.7917562  0.82072634]\n",
      " [0.6968     0.7212    ]]\n",
      "rec time now 3 dataset now: Syn5\n"
     ]
    },
    {
     "name": "stderr",
     "output_type": "stream",
     "text": [
      "TPR mean: 99.8%  std: 2.0%\n",
      "FDR mean: 6.0%  std: 14.6%\n",
      "Epoch:      0, d_loss (Acc)): 0.515, v_loss (Acc): 0.478, g_loss: -0.0972\n"
     ]
    },
    {
     "name": "stdout",
     "output_type": "stream",
     "text": [
      "[[0.77868893 0.81024083]\n",
      " [0.7917562  0.82075289]\n",
      " [0.6968     0.7212    ]]\n",
      "now at training epoch number 2700 hyp-params: lamda 0.1620 prior 0.2300\n",
      "rec time now 0 dataset now: Syn5\n"
     ]
    },
    {
     "name": "stderr",
     "output_type": "stream",
     "text": [
      "TPR mean: 99.8%  std: 2.3%\n",
      "FDR mean: 7.2%  std: 15.7%\n"
     ]
    },
    {
     "name": "stdout",
     "output_type": "stream",
     "text": [
      "[[0.77761011 0.80966944]\n",
      " [0.78958896 0.8210229 ]\n",
      " [0.6957     0.7174    ]]\n",
      "rec time now 1 dataset now: Syn5\n"
     ]
    },
    {
     "name": "stderr",
     "output_type": "stream",
     "text": [
      "TPR mean: 99.8%  std: 2.3%\n",
      "FDR mean: 5.7%  std: 14.3%\n"
     ]
    },
    {
     "name": "stdout",
     "output_type": "stream",
     "text": [
      "[[0.77761011 0.81037693]\n",
      " [0.78958896 0.8216755 ]\n",
      " [0.6957     0.7184    ]]\n",
      "rec time now 2 dataset now: Syn5\n"
     ]
    },
    {
     "name": "stderr",
     "output_type": "stream",
     "text": [
      "TPR mean: 99.8%  std: 2.3%\n",
      "FDR mean: 5.6%  std: 14.2%\n"
     ]
    },
    {
     "name": "stdout",
     "output_type": "stream",
     "text": [
      "[[0.77761011 0.81032696]\n",
      " [0.78958896 0.82166815]\n",
      " [0.6957     0.7182    ]]\n",
      "rec time now 3 dataset now: Syn5\n"
     ]
    },
    {
     "name": "stderr",
     "output_type": "stream",
     "text": [
      "TPR mean: 99.8%  std: 2.3%\n",
      "FDR mean: 5.5%  std: 14.1%\n",
      "Epoch:      0, d_loss (Acc)): 0.509, v_loss (Acc): 0.493, g_loss: -0.0301\n"
     ]
    },
    {
     "name": "stdout",
     "output_type": "stream",
     "text": [
      "[[0.77761011 0.81035521]\n",
      " [0.78958896 0.82168857]\n",
      " [0.6957     0.7185    ]]\n",
      "now at training epoch number 2800 hyp-params: lamda 0.1680 prior 0.2200\n",
      "rec time now 0 dataset now: Syn5\n"
     ]
    },
    {
     "name": "stderr",
     "output_type": "stream",
     "text": [
      "TPR mean: 99.9%  std: 1.7%\n",
      "FDR mean: 6.8%  std: 15.5%\n"
     ]
    },
    {
     "name": "stdout",
     "output_type": "stream",
     "text": [
      "[[0.78053296 0.80990377]\n",
      " [0.79619025 0.82109766]\n",
      " [0.6944     0.7184    ]]\n",
      "rec time now 1 dataset now: Syn5\n"
     ]
    },
    {
     "name": "stderr",
     "output_type": "stream",
     "text": [
      "TPR mean: 99.9%  std: 1.8%\n",
      "FDR mean: 5.4%  std: 14.2%\n"
     ]
    },
    {
     "name": "stdout",
     "output_type": "stream",
     "text": [
      "[[0.78053296 0.81105995]\n",
      " [0.79619025 0.82221627]\n",
      " [0.6944     0.7194    ]]\n",
      "rec time now 2 dataset now: Syn5\n"
     ]
    },
    {
     "name": "stderr",
     "output_type": "stream",
     "text": [
      "TPR mean: 99.9%  std: 1.8%\n",
      "FDR mean: 5.3%  std: 14.1%\n"
     ]
    },
    {
     "name": "stdout",
     "output_type": "stream",
     "text": [
      "[[0.78053296 0.81120967]\n",
      " [0.79619025 0.82232328]\n",
      " [0.6944     0.7195    ]]\n",
      "rec time now 3 dataset now: Syn5\n"
     ]
    },
    {
     "name": "stderr",
     "output_type": "stream",
     "text": [
      "TPR mean: 99.9%  std: 1.8%\n",
      "FDR mean: 5.3%  std: 14.1%\n",
      "Epoch:      0, d_loss (Acc)): 0.538, v_loss (Acc): 0.519, g_loss: +0.0042\n"
     ]
    },
    {
     "name": "stdout",
     "output_type": "stream",
     "text": [
      "[[0.78053296 0.81123157]\n",
      " [0.79619025 0.8223427 ]\n",
      " [0.6944     0.7195    ]]\n",
      "now at training epoch number 2900 hyp-params: lamda 0.1740 prior 0.2100\n",
      "rec time now 0 dataset now: Syn5\n"
     ]
    },
    {
     "name": "stderr",
     "output_type": "stream",
     "text": [
      "TPR mean: 99.8%  std: 1.9%\n",
      "FDR mean: 6.4%  std: 15.0%\n"
     ]
    },
    {
     "name": "stdout",
     "output_type": "stream",
     "text": [
      "[[0.77816578 0.80905425]\n",
      " [0.79048221 0.82072312]\n",
      " [0.6972     0.7192    ]]\n",
      "rec time now 1 dataset now: Syn5\n"
     ]
    },
    {
     "name": "stderr",
     "output_type": "stream",
     "text": [
      "TPR mean: 99.8%  std: 2.0%\n",
      "FDR mean: 5.0%  std: 13.5%\n"
     ]
    },
    {
     "name": "stdout",
     "output_type": "stream",
     "text": [
      "[[0.77816578 0.80929365]\n",
      " [0.79048221 0.82092697]\n",
      " [0.6972     0.7192    ]]\n",
      "rec time now 2 dataset now: Syn5\n"
     ]
    },
    {
     "name": "stderr",
     "output_type": "stream",
     "text": [
      "TPR mean: 99.8%  std: 2.0%\n",
      "FDR mean: 4.9%  std: 13.4%\n"
     ]
    },
    {
     "name": "stdout",
     "output_type": "stream",
     "text": [
      "[[0.77816578 0.80936068]\n",
      " [0.79048221 0.82098126]\n",
      " [0.6972     0.7195    ]]\n",
      "rec time now 3 dataset now: Syn5\n"
     ]
    },
    {
     "name": "stderr",
     "output_type": "stream",
     "text": [
      "TPR mean: 99.8%  std: 2.0%\n",
      "FDR mean: 4.9%  std: 13.4%\n",
      "Epoch:      0, d_loss (Acc)): 0.512, v_loss (Acc): 0.477, g_loss: -0.1105\n"
     ]
    },
    {
     "name": "stdout",
     "output_type": "stream",
     "text": [
      "[[0.77816578 0.80937714]\n",
      " [0.79048221 0.82099664]\n",
      " [0.6972     0.7196    ]]\n",
      "now at training epoch number 3000 hyp-params: lamda 0.1800 prior 0.2000\n",
      "rec time now 0 dataset now: Syn5\n"
     ]
    },
    {
     "name": "stderr",
     "output_type": "stream",
     "text": [
      "TPR mean: 99.8%  std: 2.1%\n",
      "FDR mean: 5.8%  std: 14.2%\n"
     ]
    },
    {
     "name": "stdout",
     "output_type": "stream",
     "text": [
      "[[0.78013821 0.81049479]\n",
      " [0.79491976 0.82181372]\n",
      " [0.6953     0.7177    ]]\n",
      "rec time now 1 dataset now: Syn5\n"
     ]
    },
    {
     "name": "stderr",
     "output_type": "stream",
     "text": [
      "TPR mean: 99.8%  std: 2.2%\n",
      "FDR mean: 4.4%  std: 12.8%\n"
     ]
    },
    {
     "name": "stdout",
     "output_type": "stream",
     "text": [
      "[[0.78013821 0.81109094]\n",
      " [0.79491976 0.82236535]\n",
      " [0.6953     0.7183    ]]\n",
      "rec time now 2 dataset now: Syn5\n"
     ]
    },
    {
     "name": "stderr",
     "output_type": "stream",
     "text": [
      "TPR mean: 99.8%  std: 2.2%\n",
      "FDR mean: 4.4%  std: 12.7%\n"
     ]
    },
    {
     "name": "stdout",
     "output_type": "stream",
     "text": [
      "[[0.78013821 0.8109518 ]\n",
      " [0.79491976 0.82227656]\n",
      " [0.6953     0.7183    ]]\n",
      "rec time now 3 dataset now: Syn5\n"
     ]
    },
    {
     "name": "stderr",
     "output_type": "stream",
     "text": [
      "TPR mean: 99.8%  std: 2.2%\n",
      "FDR mean: 4.4%  std: 12.7%\n",
      "Epoch:      0, d_loss (Acc)): 0.512, v_loss (Acc): 0.496, g_loss: -0.0237\n"
     ]
    },
    {
     "name": "stdout",
     "output_type": "stream",
     "text": [
      "[[0.78013821 0.81096931]\n",
      " [0.79491976 0.82229651]\n",
      " [0.6953     0.7183    ]]\n",
      "now at training epoch number 3100 hyp-params: lamda 0.1860 prior 0.1900\n",
      "rec time now 0 dataset now: Syn5\n"
     ]
    },
    {
     "name": "stderr",
     "output_type": "stream",
     "text": [
      "TPR mean: 99.7%  std: 2.6%\n",
      "FDR mean: 5.1%  std: 13.2%\n"
     ]
    },
    {
     "name": "stdout",
     "output_type": "stream",
     "text": [
      "[[0.77892718 0.81080337]\n",
      " [0.79322385 0.82197185]\n",
      " [0.6946     0.7205    ]]\n",
      "rec time now 1 dataset now: Syn5\n"
     ]
    },
    {
     "name": "stderr",
     "output_type": "stream",
     "text": [
      "TPR mean: 99.7%  std: 2.8%\n",
      "FDR mean: 3.8%  std: 11.7%\n"
     ]
    },
    {
     "name": "stdout",
     "output_type": "stream",
     "text": [
      "[[0.77892718 0.81143767]\n",
      " [0.79322385 0.82270922]\n",
      " [0.6946     0.7203    ]]\n",
      "rec time now 2 dataset now: Syn5\n"
     ]
    },
    {
     "name": "stderr",
     "output_type": "stream",
     "text": [
      "TPR mean: 99.7%  std: 2.8%\n",
      "FDR mean: 3.8%  std: 11.6%\n"
     ]
    },
    {
     "name": "stdout",
     "output_type": "stream",
     "text": [
      "[[0.77892718 0.81140818]\n",
      " [0.79322385 0.82268726]\n",
      " [0.6946     0.7201    ]]\n",
      "rec time now 3 dataset now: Syn5\n"
     ]
    },
    {
     "name": "stderr",
     "output_type": "stream",
     "text": [
      "TPR mean: 99.7%  std: 2.8%\n",
      "FDR mean: 3.8%  std: 11.6%\n",
      "Epoch:      0, d_loss (Acc)): 0.524, v_loss (Acc): 0.484, g_loss: -0.0749\n"
     ]
    },
    {
     "name": "stdout",
     "output_type": "stream",
     "text": [
      "[[0.77892718 0.81139599]\n",
      " [0.79322385 0.82267801]\n",
      " [0.6946     0.72      ]]\n",
      "now at training epoch number 3200 hyp-params: lamda 0.1920 prior 0.1800\n",
      "rec time now 0 dataset now: Syn5\n"
     ]
    },
    {
     "name": "stderr",
     "output_type": "stream",
     "text": [
      "TPR mean: 99.8%  std: 2.7%\n",
      "FDR mean: 4.8%  std: 13.0%\n"
     ]
    },
    {
     "name": "stdout",
     "output_type": "stream",
     "text": [
      "[[0.77854934 0.81045786]\n",
      " [0.7925694  0.82143265]\n",
      " [0.6959     0.7192    ]]\n",
      "rec time now 1 dataset now: Syn5\n"
     ]
    },
    {
     "name": "stderr",
     "output_type": "stream",
     "text": [
      "TPR mean: 99.7%  std: 2.8%\n",
      "FDR mean: 3.6%  std: 11.5%\n"
     ]
    },
    {
     "name": "stdout",
     "output_type": "stream",
     "text": [
      "[[0.77854934 0.81137197]\n",
      " [0.7925694  0.82226526]\n",
      " [0.6959     0.7189    ]]\n",
      "rec time now 2 dataset now: Syn5\n"
     ]
    },
    {
     "name": "stderr",
     "output_type": "stream",
     "text": [
      "TPR mean: 99.7%  std: 2.8%\n",
      "FDR mean: 3.5%  std: 11.4%\n"
     ]
    },
    {
     "name": "stdout",
     "output_type": "stream",
     "text": [
      "[[0.77854934 0.81142149]\n",
      " [0.7925694  0.82226612]\n",
      " [0.6959     0.719     ]]\n",
      "rec time now 3 dataset now: Syn5\n"
     ]
    },
    {
     "name": "stderr",
     "output_type": "stream",
     "text": [
      "TPR mean: 99.7%  std: 2.8%\n",
      "FDR mean: 3.5%  std: 11.4%\n",
      "Epoch:      0, d_loss (Acc)): 0.507, v_loss (Acc): 0.476, g_loss: -0.0455\n"
     ]
    },
    {
     "name": "stdout",
     "output_type": "stream",
     "text": [
      "[[0.77854934 0.81142149]\n",
      " [0.7925694  0.82226612]\n",
      " [0.6959     0.719     ]]\n",
      "now at training epoch number 3300 hyp-params: lamda 0.1980 prior 0.1700\n",
      "rec time now 0 dataset now: Syn5\n"
     ]
    },
    {
     "name": "stderr",
     "output_type": "stream",
     "text": [
      "TPR mean: 99.8%  std: 2.4%\n",
      "FDR mean: 4.4%  std: 12.4%\n"
     ]
    },
    {
     "name": "stdout",
     "output_type": "stream",
     "text": [
      "[[0.77635197 0.81006051]\n",
      " [0.7889451  0.8213009 ]\n",
      " [0.6963     0.7182    ]]\n",
      "rec time now 1 dataset now: Syn5\n"
     ]
    },
    {
     "name": "stderr",
     "output_type": "stream",
     "text": [
      "TPR mean: 99.7%  std: 2.6%\n",
      "FDR mean: 3.4%  std: 11.0%\n"
     ]
    },
    {
     "name": "stdout",
     "output_type": "stream",
     "text": [
      "[[0.77635197 0.81028064]\n",
      " [0.7889451  0.82166358]\n",
      " [0.6963     0.7174    ]]\n",
      "rec time now 2 dataset now: Syn5\n"
     ]
    },
    {
     "name": "stderr",
     "output_type": "stream",
     "text": [
      "TPR mean: 99.7%  std: 2.6%\n",
      "FDR mean: 3.4%  std: 11.0%\n"
     ]
    },
    {
     "name": "stdout",
     "output_type": "stream",
     "text": [
      "[[0.77635197 0.81022475]\n",
      " [0.7889451  0.82161047]\n",
      " [0.6963     0.7176    ]]\n",
      "rec time now 3 dataset now: Syn5\n"
     ]
    },
    {
     "name": "stderr",
     "output_type": "stream",
     "text": [
      "TPR mean: 99.7%  std: 2.6%\n",
      "FDR mean: 3.4%  std: 11.0%\n",
      "Epoch:      0, d_loss (Acc)): 0.500, v_loss (Acc): 0.466, g_loss: -0.0531\n"
     ]
    },
    {
     "name": "stdout",
     "output_type": "stream",
     "text": [
      "[[0.77635197 0.81022475]\n",
      " [0.7889451  0.82161047]\n",
      " [0.6963     0.7176    ]]\n",
      "now at training epoch number 3400 hyp-params: lamda 0.2040 prior 0.1600\n",
      "rec time now 0 dataset now: Syn5\n"
     ]
    },
    {
     "name": "stderr",
     "output_type": "stream",
     "text": [
      "TPR mean: 99.7%  std: 2.7%\n",
      "FDR mean: 4.0%  std: 11.7%\n"
     ]
    },
    {
     "name": "stdout",
     "output_type": "stream",
     "text": [
      "[[0.7794496  0.81049441]\n",
      " [0.79238902 0.82215682]\n",
      " [0.6945     0.7173    ]]\n",
      "rec time now 1 dataset now: Syn5\n"
     ]
    },
    {
     "name": "stderr",
     "output_type": "stream",
     "text": [
      "TPR mean: 99.6%  std: 2.9%\n",
      "FDR mean: 3.0%  std: 10.2%\n"
     ]
    },
    {
     "name": "stdout",
     "output_type": "stream",
     "text": [
      "[[0.7794496  0.810929  ]\n",
      " [0.79238902 0.822674  ]\n",
      " [0.6945     0.7169    ]]\n",
      "rec time now 2 dataset now: Syn5\n"
     ]
    },
    {
     "name": "stderr",
     "output_type": "stream",
     "text": [
      "TPR mean: 99.6%  std: 2.9%\n",
      "FDR mean: 2.9%  std: 10.1%\n"
     ]
    },
    {
     "name": "stdout",
     "output_type": "stream",
     "text": [
      "[[0.7794496  0.81083359]\n",
      " [0.79238902 0.82255215]\n",
      " [0.6945     0.7166    ]]\n",
      "rec time now 3 dataset now: Syn5\n"
     ]
    },
    {
     "name": "stderr",
     "output_type": "stream",
     "text": [
      "TPR mean: 99.6%  std: 2.9%\n",
      "FDR mean: 2.9%  std: 10.1%\n",
      "Epoch:      0, d_loss (Acc)): 0.508, v_loss (Acc): 0.474, g_loss: +0.0028\n"
     ]
    },
    {
     "name": "stdout",
     "output_type": "stream",
     "text": [
      "[[0.7794496  0.81083359]\n",
      " [0.79238902 0.82255215]\n",
      " [0.6945     0.7166    ]]\n",
      "now at training epoch number 3500 hyp-params: lamda 0.2100 prior 0.1500\n",
      "rec time now 0 dataset now: Syn5\n"
     ]
    },
    {
     "name": "stderr",
     "output_type": "stream",
     "text": [
      "TPR mean: 99.6%  std: 3.2%\n",
      "FDR mean: 3.7%  std: 11.3%\n"
     ]
    },
    {
     "name": "stdout",
     "output_type": "stream",
     "text": [
      "[[0.77979405 0.81094928]\n",
      " [0.79476299 0.82210193]\n",
      " [0.6947     0.7186    ]]\n",
      "rec time now 1 dataset now: Syn5\n"
     ]
    },
    {
     "name": "stderr",
     "output_type": "stream",
     "text": [
      "TPR mean: 99.6%  std: 3.4%\n",
      "FDR mean: 2.7%  std: 9.8%\n"
     ]
    },
    {
     "name": "stdout",
     "output_type": "stream",
     "text": [
      "[[0.77979405 0.8111984 ]\n",
      " [0.79476299 0.82243297]\n",
      " [0.6947     0.7189    ]]\n",
      "rec time now 2 dataset now: Syn5\n"
     ]
    },
    {
     "name": "stderr",
     "output_type": "stream",
     "text": [
      "TPR mean: 99.6%  std: 3.4%\n",
      "FDR mean: 2.6%  std: 9.7%\n"
     ]
    },
    {
     "name": "stdout",
     "output_type": "stream",
     "text": [
      "[[0.77979405 0.81133486]\n",
      " [0.79476299 0.82253034]\n",
      " [0.6947     0.7193    ]]\n",
      "rec time now 3 dataset now: Syn5\n"
     ]
    },
    {
     "name": "stderr",
     "output_type": "stream",
     "text": [
      "TPR mean: 99.6%  std: 3.4%\n",
      "FDR mean: 2.6%  std: 9.7%\n",
      "Epoch:      0, d_loss (Acc)): 0.531, v_loss (Acc): 0.484, g_loss: -0.0639\n"
     ]
    },
    {
     "name": "stdout",
     "output_type": "stream",
     "text": [
      "[[0.77979405 0.81132623]\n",
      " [0.79476299 0.82252543]\n",
      " [0.6947     0.7192    ]]\n",
      "now at training epoch number 3600 hyp-params: lamda 0.2160 prior 0.1400\n",
      "rec time now 0 dataset now: Syn5\n"
     ]
    },
    {
     "name": "stderr",
     "output_type": "stream",
     "text": [
      "TPR mean: 99.5%  std: 3.8%\n",
      "FDR mean: 3.2%  std: 10.6%\n"
     ]
    },
    {
     "name": "stdout",
     "output_type": "stream",
     "text": [
      "[[0.7783878  0.81223382]\n",
      " [0.79256722 0.82396403]\n",
      " [0.6947     0.7183    ]]\n",
      "rec time now 1 dataset now: Syn5\n"
     ]
    },
    {
     "name": "stderr",
     "output_type": "stream",
     "text": [
      "TPR mean: 99.5%  std: 4.1%\n",
      "FDR mean: 2.3%  std: 9.1%\n"
     ]
    },
    {
     "name": "stdout",
     "output_type": "stream",
     "text": [
      "[[0.7783878  0.81282922]\n",
      " [0.79256722 0.82497962]\n",
      " [0.6947     0.7178    ]]\n",
      "rec time now 2 dataset now: Syn5\n"
     ]
    },
    {
     "name": "stderr",
     "output_type": "stream",
     "text": [
      "TPR mean: 99.5%  std: 4.1%\n",
      "FDR mean: 2.2%  std: 9.0%\n"
     ]
    },
    {
     "name": "stdout",
     "output_type": "stream",
     "text": [
      "[[0.7783878  0.81283533]\n",
      " [0.79256722 0.82501638]\n",
      " [0.6947     0.7174    ]]\n",
      "rec time now 3 dataset now: Syn5\n"
     ]
    },
    {
     "name": "stderr",
     "output_type": "stream",
     "text": [
      "TPR mean: 99.5%  std: 4.1%\n",
      "FDR mean: 2.2%  std: 9.0%\n",
      "Epoch:      0, d_loss (Acc)): 0.510, v_loss (Acc): 0.494, g_loss: +0.0051\n"
     ]
    },
    {
     "name": "stdout",
     "output_type": "stream",
     "text": [
      "[[0.7783878  0.81283645]\n",
      " [0.79256722 0.8250174 ]\n",
      " [0.6947     0.7175    ]]\n",
      "now at training epoch number 3700 hyp-params: lamda 0.2220 prior 0.1300\n",
      "rec time now 0 dataset now: Syn5\n"
     ]
    },
    {
     "name": "stderr",
     "output_type": "stream",
     "text": [
      "TPR mean: 99.5%  std: 4.0%\n",
      "FDR mean: 2.9%  std: 10.1%\n"
     ]
    },
    {
     "name": "stdout",
     "output_type": "stream",
     "text": [
      "[[0.77663302 0.8139695 ]\n",
      " [0.7897818  0.82574672]\n",
      " [0.6948     0.7195    ]]\n",
      "rec time now 1 dataset now: Syn5\n"
     ]
    },
    {
     "name": "stderr",
     "output_type": "stream",
     "text": [
      "TPR mean: 99.4%  std: 4.2%\n",
      "FDR mean: 2.0%  std: 8.6%\n"
     ]
    },
    {
     "name": "stdout",
     "output_type": "stream",
     "text": [
      "[[0.77663302 0.81499385]\n",
      " [0.7897818  0.82689171]\n",
      " [0.6948     0.7191    ]]\n",
      "rec time now 2 dataset now: Syn5\n"
     ]
    },
    {
     "name": "stderr",
     "output_type": "stream",
     "text": [
      "TPR mean: 99.4%  std: 4.2%\n",
      "FDR mean: 1.9%  std: 8.5%\n"
     ]
    },
    {
     "name": "stdout",
     "output_type": "stream",
     "text": [
      "[[0.77663302 0.81507944]\n",
      " [0.7897818  0.82697877]\n",
      " [0.6948     0.7193    ]]\n",
      "rec time now 3 dataset now: Syn5\n"
     ]
    },
    {
     "name": "stderr",
     "output_type": "stream",
     "text": [
      "TPR mean: 99.4%  std: 4.2%\n",
      "FDR mean: 1.9%  std: 8.5%\n",
      "Epoch:      0, d_loss (Acc)): 0.523, v_loss (Acc): 0.478, g_loss: -0.0750\n"
     ]
    },
    {
     "name": "stdout",
     "output_type": "stream",
     "text": [
      "[[0.77663302 0.81509434]\n",
      " [0.7897818  0.82699247]\n",
      " [0.6948     0.7193    ]]\n",
      "now at training epoch number 3800 hyp-params: lamda 0.2280 prior 0.1200\n",
      "rec time now 0 dataset now: Syn5\n"
     ]
    },
    {
     "name": "stderr",
     "output_type": "stream",
     "text": [
      "TPR mean: 99.4%  std: 4.4%\n",
      "FDR mean: 2.6%  std: 9.4%\n"
     ]
    },
    {
     "name": "stdout",
     "output_type": "stream",
     "text": [
      "[[0.77889407 0.81320664]\n",
      " [0.79301903 0.82501059]\n",
      " [0.6947     0.7231    ]]\n",
      "rec time now 1 dataset now: Syn5\n"
     ]
    },
    {
     "name": "stderr",
     "output_type": "stream",
     "text": [
      "TPR mean: 99.3%  std: 4.8%\n",
      "FDR mean: 1.8%  std: 8.0%\n"
     ]
    },
    {
     "name": "stdout",
     "output_type": "stream",
     "text": [
      "[[0.77889407 0.81389589]\n",
      " [0.79301903 0.82573731]\n",
      " [0.6947     0.7244    ]]\n",
      "rec time now 2 dataset now: Syn5\n"
     ]
    },
    {
     "name": "stderr",
     "output_type": "stream",
     "text": [
      "TPR mean: 99.3%  std: 4.8%\n",
      "FDR mean: 1.8%  std: 8.0%\n"
     ]
    },
    {
     "name": "stdout",
     "output_type": "stream",
     "text": [
      "[[0.77889407 0.81394043]\n",
      " [0.79301903 0.82578724]\n",
      " [0.6947     0.7246    ]]\n",
      "rec time now 3 dataset now: Syn5\n"
     ]
    },
    {
     "name": "stderr",
     "output_type": "stream",
     "text": [
      "TPR mean: 99.3%  std: 4.8%\n",
      "FDR mean: 1.8%  std: 8.0%\n",
      "Epoch:      0, d_loss (Acc)): 0.512, v_loss (Acc): 0.479, g_loss: -0.0233\n"
     ]
    },
    {
     "name": "stdout",
     "output_type": "stream",
     "text": [
      "[[0.77889407 0.81395785]\n",
      " [0.79301903 0.82581235]\n",
      " [0.6947     0.7246    ]]\n",
      "now at training epoch number 3900 hyp-params: lamda 0.2340 prior 0.1100\n",
      "rec time now 0 dataset now: Syn5\n"
     ]
    },
    {
     "name": "stderr",
     "output_type": "stream",
     "text": [
      "TPR mean: 99.3%  std: 4.6%\n",
      "FDR mean: 2.4%  std: 8.8%\n"
     ]
    },
    {
     "name": "stdout",
     "output_type": "stream",
     "text": [
      "[[0.77749451 0.81356376]\n",
      " [0.79276696 0.82497974]\n",
      " [0.6974     0.7205    ]]\n",
      "rec time now 1 dataset now: Syn5\n"
     ]
    },
    {
     "name": "stderr",
     "output_type": "stream",
     "text": [
      "TPR mean: 99.2%  std: 5.1%\n",
      "FDR mean: 1.6%  std: 7.3%\n"
     ]
    },
    {
     "name": "stdout",
     "output_type": "stream",
     "text": [
      "[[0.77749451 0.81411625]\n",
      " [0.79276696 0.82549516]\n",
      " [0.6974     0.7205    ]]\n",
      "rec time now 2 dataset now: Syn5\n"
     ]
    },
    {
     "name": "stderr",
     "output_type": "stream",
     "text": [
      "TPR mean: 99.2%  std: 5.1%\n",
      "FDR mean: 1.5%  std: 7.2%\n"
     ]
    },
    {
     "name": "stdout",
     "output_type": "stream",
     "text": [
      "[[0.77749451 0.81425393]\n",
      " [0.79276696 0.82559827]\n",
      " [0.6974     0.7207    ]]\n",
      "rec time now 3 dataset now: Syn5\n"
     ]
    },
    {
     "name": "stderr",
     "output_type": "stream",
     "text": [
      "TPR mean: 99.2%  std: 5.1%\n",
      "FDR mean: 1.5%  std: 7.2%\n",
      "Epoch:      0, d_loss (Acc)): 0.524, v_loss (Acc): 0.496, g_loss: +0.0417\n"
     ]
    },
    {
     "name": "stdout",
     "output_type": "stream",
     "text": [
      "[[0.77749451 0.81426286]\n",
      " [0.79276696 0.82560576]\n",
      " [0.6974     0.7207    ]]\n",
      "now at training epoch number 4000 hyp-params: lamda 0.2400 prior 0.1000\n",
      "rec time now 0 dataset now: Syn5\n"
     ]
    },
    {
     "name": "stderr",
     "output_type": "stream",
     "text": [
      "TPR mean: 99.2%  std: 5.2%\n",
      "FDR mean: 2.0%  std: 8.0%\n"
     ]
    },
    {
     "name": "stdout",
     "output_type": "stream",
     "text": [
      "[[0.77910888 0.81345226]\n",
      " [0.79349671 0.8258577 ]\n",
      " [0.6937     0.7206    ]]\n",
      "rec time now 1 dataset now: Syn5\n"
     ]
    },
    {
     "name": "stderr",
     "output_type": "stream",
     "text": [
      "TPR mean: 99.0%  std: 5.9%\n",
      "FDR mean: 1.3%  std: 6.5%\n"
     ]
    },
    {
     "name": "stdout",
     "output_type": "stream",
     "text": [
      "[[0.77910888 0.8141572 ]\n",
      " [0.79349671 0.8261709 ]\n",
      " [0.6937     0.7218    ]]\n",
      "rec time now 2 dataset now: Syn5\n"
     ]
    },
    {
     "name": "stderr",
     "output_type": "stream",
     "text": [
      "TPR mean: 99.0%  std: 6.0%\n",
      "FDR mean: 1.3%  std: 6.4%\n"
     ]
    },
    {
     "name": "stdout",
     "output_type": "stream",
     "text": [
      "[[0.77910888 0.81426616]\n",
      " [0.79349671 0.82625976]\n",
      " [0.6937     0.722     ]]\n",
      "rec time now 3 dataset now: Syn5\n"
     ]
    },
    {
     "name": "stderr",
     "output_type": "stream",
     "text": [
      "TPR mean: 99.0%  std: 6.0%\n",
      "FDR mean: 1.3%  std: 6.4%\n",
      "Epoch:      0, d_loss (Acc)): 0.522, v_loss (Acc): 0.505, g_loss: +0.0108\n"
     ]
    },
    {
     "name": "stdout",
     "output_type": "stream",
     "text": [
      "[[0.77910888 0.81425831]\n",
      " [0.79349671 0.82625465]\n",
      " [0.6937     0.7219    ]]\n",
      "now at training epoch number 4100 hyp-params: lamda 0.2460 prior 0.0900\n",
      "rec time now 0 dataset now: Syn5\n"
     ]
    },
    {
     "name": "stderr",
     "output_type": "stream",
     "text": [
      "TPR mean: 98.9%  std: 6.2%\n",
      "FDR mean: 1.8%  std: 7.7%\n"
     ]
    },
    {
     "name": "stdout",
     "output_type": "stream",
     "text": [
      "[[0.77858862 0.81428428]\n",
      " [0.79347131 0.82634719]\n",
      " [0.695      0.7191    ]]\n",
      "rec time now 1 dataset now: Syn5\n"
     ]
    },
    {
     "name": "stderr",
     "output_type": "stream",
     "text": [
      "TPR mean: 98.7%  std: 7.0%\n",
      "FDR mean: 1.1%  std: 6.4%\n"
     ]
    },
    {
     "name": "stdout",
     "output_type": "stream",
     "text": [
      "[[0.77858862 0.81447931]\n",
      " [0.79347131 0.82653907]\n",
      " [0.695      0.7188    ]]\n",
      "rec time now 2 dataset now: Syn5\n"
     ]
    },
    {
     "name": "stderr",
     "output_type": "stream",
     "text": [
      "TPR mean: 98.7%  std: 7.1%\n",
      "FDR mean: 1.1%  std: 6.3%\n"
     ]
    },
    {
     "name": "stdout",
     "output_type": "stream",
     "text": [
      "[[0.77858862 0.81435246]\n",
      " [0.79347131 0.82644552]\n",
      " [0.695      0.7184    ]]\n",
      "rec time now 3 dataset now: Syn5\n"
     ]
    },
    {
     "name": "stderr",
     "output_type": "stream",
     "text": [
      "TPR mean: 98.7%  std: 7.1%\n",
      "FDR mean: 1.1%  std: 6.3%\n",
      "Epoch:      0, d_loss (Acc)): 0.520, v_loss (Acc): 0.475, g_loss: -0.0237\n"
     ]
    },
    {
     "name": "stdout",
     "output_type": "stream",
     "text": [
      "[[0.77858862 0.81435382]\n",
      " [0.79347131 0.82644659]\n",
      " [0.695      0.7183    ]]\n",
      "now at training epoch number 4200 hyp-params: lamda 0.2520 prior 0.0800\n",
      "rec time now 0 dataset now: Syn5\n"
     ]
    },
    {
     "name": "stderr",
     "output_type": "stream",
     "text": [
      "TPR mean: 98.8%  std: 6.8%\n",
      "FDR mean: 1.6%  std: 7.5%\n"
     ]
    },
    {
     "name": "stdout",
     "output_type": "stream",
     "text": [
      "[[0.77836104 0.81345466]\n",
      " [0.79237839 0.82626855]\n",
      " [0.6965     0.7205    ]]\n",
      "rec time now 1 dataset now: Syn5\n"
     ]
    },
    {
     "name": "stderr",
     "output_type": "stream",
     "text": [
      "TPR mean: 98.5%  std: 7.6%\n",
      "FDR mean: 0.9%  std: 5.9%\n"
     ]
    },
    {
     "name": "stdout",
     "output_type": "stream",
     "text": [
      "[[0.77836104 0.81330541]\n",
      " [0.79237839 0.82596726]\n",
      " [0.6965     0.7203    ]]\n",
      "rec time now 2 dataset now: Syn5\n"
     ]
    },
    {
     "name": "stderr",
     "output_type": "stream",
     "text": [
      "TPR mean: 98.5%  std: 7.7%\n",
      "FDR mean: 0.9%  std: 5.8%\n"
     ]
    },
    {
     "name": "stdout",
     "output_type": "stream",
     "text": [
      "[[0.77836104 0.81327488]\n",
      " [0.79237839 0.82593803]\n",
      " [0.6965     0.7203    ]]\n",
      "rec time now 3 dataset now: Syn5\n"
     ]
    },
    {
     "name": "stderr",
     "output_type": "stream",
     "text": [
      "TPR mean: 98.5%  std: 7.7%\n",
      "FDR mean: 0.9%  std: 5.8%\n",
      "Epoch:      0, d_loss (Acc)): 0.523, v_loss (Acc): 0.499, g_loss: +0.0655\n"
     ]
    },
    {
     "name": "stdout",
     "output_type": "stream",
     "text": [
      "[[0.77836104 0.81327488]\n",
      " [0.79237839 0.82593803]\n",
      " [0.6965     0.7203    ]]\n",
      "now at training epoch number 4300 hyp-params: lamda 0.2580 prior 0.0700\n",
      "rec time now 0 dataset now: Syn5\n"
     ]
    },
    {
     "name": "stderr",
     "output_type": "stream",
     "text": [
      "TPR mean: 98.5%  std: 7.6%\n",
      "FDR mean: 1.5%  std: 7.2%\n"
     ]
    },
    {
     "name": "stdout",
     "output_type": "stream",
     "text": [
      "[[0.77870078 0.81494817]\n",
      " [0.79240986 0.8273632 ]\n",
      " [0.6953     0.7201    ]]\n",
      "rec time now 1 dataset now: Syn5\n"
     ]
    },
    {
     "name": "stderr",
     "output_type": "stream",
     "text": [
      "TPR mean: 98.2%  std: 8.5%\n",
      "FDR mean: 0.9%  std: 5.9%\n"
     ]
    },
    {
     "name": "stdout",
     "output_type": "stream",
     "text": [
      "[[0.77870078 0.81498596]\n",
      " [0.79240986 0.82722318]\n",
      " [0.6953     0.7199    ]]\n",
      "rec time now 2 dataset now: Syn5\n"
     ]
    },
    {
     "name": "stderr",
     "output_type": "stream",
     "text": [
      "TPR mean: 98.2%  std: 8.6%\n",
      "FDR mean: 0.8%  std: 5.7%\n"
     ]
    },
    {
     "name": "stdout",
     "output_type": "stream",
     "text": [
      "[[0.77870078 0.81514961]\n",
      " [0.79240986 0.82734889]\n",
      " [0.6953     0.7203    ]]\n",
      "rec time now 3 dataset now: Syn5\n"
     ]
    },
    {
     "name": "stderr",
     "output_type": "stream",
     "text": [
      "TPR mean: 98.2%  std: 8.6%\n",
      "FDR mean: 0.8%  std: 5.7%\n",
      "Epoch:      0, d_loss (Acc)): 0.526, v_loss (Acc): 0.470, g_loss: -0.0765\n"
     ]
    },
    {
     "name": "stdout",
     "output_type": "stream",
     "text": [
      "[[0.77870078 0.8151164 ]\n",
      " [0.79240986 0.82733289]\n",
      " [0.6953     0.7204    ]]\n",
      "now at training epoch number 4400 hyp-params: lamda 0.2640 prior 0.0600\n",
      "rec time now 0 dataset now: Syn5\n"
     ]
    },
    {
     "name": "stderr",
     "output_type": "stream",
     "text": [
      "TPR mean: 98.1%  std: 8.8%\n",
      "FDR mean: 1.3%  std: 7.1%\n"
     ]
    },
    {
     "name": "stdout",
     "output_type": "stream",
     "text": [
      "[[0.77587895 0.81236549]\n",
      " [0.78969417 0.82504925]\n",
      " [0.693      0.7177    ]]\n",
      "rec time now 1 dataset now: Syn5\n"
     ]
    },
    {
     "name": "stderr",
     "output_type": "stream",
     "text": [
      "TPR mean: 97.8%  std: 9.7%\n",
      "FDR mean: 0.7%  std: 5.6%\n"
     ]
    },
    {
     "name": "stdout",
     "output_type": "stream",
     "text": [
      "[[0.77587895 0.81233799]\n",
      " [0.78969417 0.82502823]\n",
      " [0.693      0.718     ]]\n",
      "rec time now 2 dataset now: Syn5\n"
     ]
    },
    {
     "name": "stderr",
     "output_type": "stream",
     "text": [
      "TPR mean: 97.8%  std: 9.9%\n",
      "FDR mean: 0.7%  std: 5.3%\n"
     ]
    },
    {
     "name": "stdout",
     "output_type": "stream",
     "text": [
      "[[0.77587895 0.81220055]\n",
      " [0.78969417 0.82484777]\n",
      " [0.693      0.7185    ]]\n",
      "rec time now 3 dataset now: Syn5\n"
     ]
    },
    {
     "name": "stderr",
     "output_type": "stream",
     "text": [
      "TPR mean: 97.8%  std: 9.9%\n",
      "FDR mean: 0.7%  std: 5.3%\n",
      "Epoch:      0, d_loss (Acc)): 0.491, v_loss (Acc): 0.455, g_loss: +0.0294\n"
     ]
    },
    {
     "name": "stdout",
     "output_type": "stream",
     "text": [
      "[[0.77587895 0.81217837]\n",
      " [0.78969417 0.82483477]\n",
      " [0.693      0.7185    ]]\n",
      "now at training epoch number 4500 hyp-params: lamda 0.2700 prior 0.0500\n",
      "rec time now 0 dataset now: Syn5\n"
     ]
    },
    {
     "name": "stderr",
     "output_type": "stream",
     "text": [
      "TPR mean: 97.8%  std: 9.4%\n",
      "FDR mean: 1.2%  std: 7.0%\n"
     ]
    },
    {
     "name": "stdout",
     "output_type": "stream",
     "text": [
      "[[0.77714674 0.81321595]\n",
      " [0.79151737 0.82588729]\n",
      " [0.6914     0.7199    ]]\n",
      "rec time now 1 dataset now: Syn5\n"
     ]
    },
    {
     "name": "stderr",
     "output_type": "stream",
     "text": [
      "TPR mean: 97.6%  std: 10.2%\n",
      "FDR mean: 0.6%  std: 5.0%\n"
     ]
    },
    {
     "name": "stdout",
     "output_type": "stream",
     "text": [
      "[[0.77714674 0.81347258]\n",
      " [0.79151737 0.82632622]\n",
      " [0.6914     0.7189    ]]\n",
      "rec time now 2 dataset now: Syn5\n"
     ]
    },
    {
     "name": "stderr",
     "output_type": "stream",
     "text": [
      "TPR mean: 97.6%  std: 10.2%\n",
      "FDR mean: 0.6%  std: 4.9%\n"
     ]
    },
    {
     "name": "stdout",
     "output_type": "stream",
     "text": [
      "[[0.77714674 0.81335713]\n",
      " [0.79151737 0.82618416]\n",
      " [0.6914     0.7188    ]]\n",
      "rec time now 3 dataset now: Syn5\n"
     ]
    },
    {
     "name": "stderr",
     "output_type": "stream",
     "text": [
      "TPR mean: 97.6%  std: 10.2%\n",
      "FDR mean: 0.6%  std: 4.8%\n",
      "Epoch:      0, d_loss (Acc)): 0.481, v_loss (Acc): 0.431, g_loss: -0.0096\n"
     ]
    },
    {
     "name": "stdout",
     "output_type": "stream",
     "text": [
      "[[0.77714674 0.8133666 ]\n",
      " [0.79151737 0.82619363]\n",
      " [0.6914     0.7188    ]]\n",
      "now at training epoch number 4600 hyp-params: lamda 0.2760 prior 0.0400\n",
      "rec time now 0 dataset now: Syn5\n"
     ]
    },
    {
     "name": "stderr",
     "output_type": "stream",
     "text": [
      "TPR mean: 97.7%  std: 9.6%\n",
      "FDR mean: 1.2%  std: 6.9%\n"
     ]
    },
    {
     "name": "stdout",
     "output_type": "stream",
     "text": [
      "[[0.77623873 0.81220679]\n",
      " [0.79059499 0.82516621]\n",
      " [0.6958     0.7196    ]]\n",
      "rec time now 1 dataset now: Syn5\n"
     ]
    },
    {
     "name": "stderr",
     "output_type": "stream",
     "text": [
      "TPR mean: 97.4%  std: 10.5%\n",
      "FDR mean: 0.5%  std: 4.8%\n"
     ]
    },
    {
     "name": "stdout",
     "output_type": "stream",
     "text": [
      "[[0.77623873 0.81274313]\n",
      " [0.79059499 0.8257676 ]\n",
      " [0.6958     0.7199    ]]\n",
      "rec time now 2 dataset now: Syn5\n"
     ]
    },
    {
     "name": "stderr",
     "output_type": "stream",
     "text": [
      "TPR mean: 97.4%  std: 10.6%\n",
      "FDR mean: 0.5%  std: 4.5%\n"
     ]
    },
    {
     "name": "stdout",
     "output_type": "stream",
     "text": [
      "[[0.77623873 0.81286484]\n",
      " [0.79059499 0.82583692]\n",
      " [0.6958     0.7202    ]]\n",
      "rec time now 3 dataset now: Syn5\n"
     ]
    },
    {
     "name": "stderr",
     "output_type": "stream",
     "text": [
      "TPR mean: 97.4%  std: 10.6%\n",
      "FDR mean: 0.5%  std: 4.5%\n",
      "Epoch:      0, d_loss (Acc)): 0.503, v_loss (Acc): 0.452, g_loss: -0.0089\n"
     ]
    },
    {
     "name": "stdout",
     "output_type": "stream",
     "text": [
      "[[0.77623873 0.81286484]\n",
      " [0.79059499 0.82583692]\n",
      " [0.6958     0.7202    ]]\n",
      "now at training epoch number 4700 hyp-params: lamda 0.2820 prior 0.0300\n",
      "rec time now 0 dataset now: Syn5\n"
     ]
    },
    {
     "name": "stderr",
     "output_type": "stream",
     "text": [
      "TPR mean: 97.4%  std: 10.5%\n",
      "FDR mean: 1.1%  std: 6.8%\n"
     ]
    },
    {
     "name": "stdout",
     "output_type": "stream",
     "text": [
      "[[0.77736077 0.81280845]\n",
      " [0.79216275 0.82519883]\n",
      " [0.696      0.7202    ]]\n",
      "rec time now 1 dataset now: Syn5\n"
     ]
    },
    {
     "name": "stderr",
     "output_type": "stream",
     "text": [
      "TPR mean: 97.1%  std: 11.5%\n",
      "FDR mean: 0.5%  std: 4.6%\n"
     ]
    },
    {
     "name": "stdout",
     "output_type": "stream",
     "text": [
      "[[0.77736077 0.81235294]\n",
      " [0.79216275 0.82487773]\n",
      " [0.696      0.7198    ]]\n",
      "rec time now 2 dataset now: Syn5\n"
     ]
    },
    {
     "name": "stderr",
     "output_type": "stream",
     "text": [
      "TPR mean: 97.0%  std: 11.6%\n",
      "FDR mean: 0.4%  std: 4.4%\n"
     ]
    },
    {
     "name": "stdout",
     "output_type": "stream",
     "text": [
      "[[0.77736077 0.81241746]\n",
      " [0.79216275 0.82490271]\n",
      " [0.696      0.72      ]]\n",
      "rec time now 3 dataset now: Syn5\n"
     ]
    },
    {
     "name": "stderr",
     "output_type": "stream",
     "text": [
      "TPR mean: 97.0%  std: 11.6%\n",
      "FDR mean: 0.4%  std: 4.4%\n",
      "Epoch:      0, d_loss (Acc)): 0.516, v_loss (Acc): 0.454, g_loss: -0.0344\n"
     ]
    },
    {
     "name": "stdout",
     "output_type": "stream",
     "text": [
      "[[0.77736077 0.81243936]\n",
      " [0.79216275 0.82492155]\n",
      " [0.696      0.72      ]]\n",
      "now at training epoch number 4800 hyp-params: lamda 0.2880 prior 0.0200\n",
      "rec time now 0 dataset now: Syn5\n"
     ]
    },
    {
     "name": "stderr",
     "output_type": "stream",
     "text": [
      "TPR mean: 97.2%  std: 10.6%\n",
      "FDR mean: 1.1%  std: 7.0%\n"
     ]
    },
    {
     "name": "stdout",
     "output_type": "stream",
     "text": [
      "[[0.77726244 0.81377599]\n",
      " [0.7911437  0.82653054]\n",
      " [0.6937     0.7174    ]]\n",
      "rec time now 1 dataset now: Syn5\n"
     ]
    },
    {
     "name": "stderr",
     "output_type": "stream",
     "text": [
      "TPR mean: 96.9%  std: 11.6%\n",
      "FDR mean: 0.4%  std: 4.4%\n"
     ]
    },
    {
     "name": "stdout",
     "output_type": "stream",
     "text": [
      "[[0.77726244 0.81269346]\n",
      " [0.7911437  0.82561071]\n",
      " [0.6937     0.716     ]]\n",
      "rec time now 2 dataset now: Syn5\n"
     ]
    },
    {
     "name": "stderr",
     "output_type": "stream",
     "text": [
      "TPR mean: 96.8%  std: 11.7%\n",
      "FDR mean: 0.3%  std: 4.1%\n"
     ]
    },
    {
     "name": "stdout",
     "output_type": "stream",
     "text": [
      "[[0.77726244 0.81304534]\n",
      " [0.7911437  0.82579286]\n",
      " [0.6937     0.7163    ]]\n",
      "rec time now 3 dataset now: Syn5\n"
     ]
    },
    {
     "name": "stderr",
     "output_type": "stream",
     "text": [
      "TPR mean: 96.8%  std: 11.7%\n",
      "FDR mean: 0.3%  std: 4.1%\n",
      "Epoch:      0, d_loss (Acc)): 0.492, v_loss (Acc): 0.439, g_loss: +0.0257\n"
     ]
    },
    {
     "name": "stdout",
     "output_type": "stream",
     "text": [
      "[[0.77726244 0.81305434]\n",
      " [0.7911437  0.82580229]\n",
      " [0.6937     0.7163    ]]\n",
      "now at training epoch number 4900 hyp-params: lamda 0.2940 prior 0.0100\n",
      "rec time now 0 dataset now: Syn5\n"
     ]
    },
    {
     "name": "stderr",
     "output_type": "stream",
     "text": [
      "TPR mean: 96.8%  std: 11.6%\n",
      "FDR mean: 1.0%  std: 7.0%\n"
     ]
    },
    {
     "name": "stdout",
     "output_type": "stream",
     "text": [
      "[[0.77874225 0.81239502]\n",
      " [0.79335851 0.82521818]\n",
      " [0.6949     0.7167    ]]\n",
      "rec time now 1 dataset now: Syn5\n"
     ]
    },
    {
     "name": "stderr",
     "output_type": "stream",
     "text": [
      "TPR mean: 96.4%  std: 12.9%\n",
      "FDR mean: 0.4%  std: 4.6%\n"
     ]
    },
    {
     "name": "stdout",
     "output_type": "stream",
     "text": [
      "[[0.77874225 0.81168145]\n",
      " [0.79335851 0.82455621]\n",
      " [0.6949     0.7147    ]]\n",
      "rec time now 2 dataset now: Syn5\n"
     ]
    },
    {
     "name": "stderr",
     "output_type": "stream",
     "text": [
      "TPR mean: 96.4%  std: 13.0%\n",
      "FDR mean: 0.4%  std: 4.4%\n"
     ]
    },
    {
     "name": "stdout",
     "output_type": "stream",
     "text": [
      "[[0.77874225 0.81164131]\n",
      " [0.79335851 0.82442331]\n",
      " [0.6949     0.7146    ]]\n",
      "rec time now 3 dataset now: Syn5\n"
     ]
    },
    {
     "name": "stderr",
     "output_type": "stream",
     "text": [
      "TPR mean: 96.4%  std: 13.0%\n",
      "FDR mean: 0.4%  std: 4.4%\n",
      "invase: Syn6 5000 . Y\n",
      "(10000, 11) (10000, 2) (10000, 11) (10000, 2)\n",
      "input shape: 11\n",
      "Epoch:      0, d_loss (Acc)): 0.802, v_loss (Acc): 0.747, g_loss: -0.4188\n"
     ]
    },
    {
     "name": "stdout",
     "output_type": "stream",
     "text": [
      "[[0.77874225 0.81164131]\n",
      " [0.79335851 0.82442331]\n",
      " [0.6949     0.7146    ]]\n",
      "PyTorch Version: elapsed time for Syn5: 11 feature, 10000 sample: [462.5538 459.184  436.4912 440.736  430.0647] sec.\n",
      "now at training epoch number 0 hyp-params: lamda 0.0000 prior 0.5000\n",
      "rec time now 0 dataset now: Syn6\n"
     ]
    },
    {
     "name": "stderr",
     "output_type": "stream",
     "text": [
      "TPR mean: 57.5%  std: 19.8%\n",
      "FDR mean: 43.9%  std: 16.9%\n"
     ]
    },
    {
     "name": "stdout",
     "output_type": "stream",
     "text": [
      "[[0.74240364 0.74344562]\n",
      " [0.75778075 0.75700401]\n",
      " [0.6822     0.6846    ]]\n",
      "rec time now 1 dataset now: Syn6\n"
     ]
    },
    {
     "name": "stderr",
     "output_type": "stream",
     "text": [
      "TPR mean: 45.8%  std: 22.2%\n",
      "FDR mean: 42.5%  std: 23.1%\n"
     ]
    },
    {
     "name": "stdout",
     "output_type": "stream",
     "text": [
      "[[0.74240364 0.71242263]\n",
      " [0.75778075 0.72316889]\n",
      " [0.6822     0.6645    ]]\n",
      "rec time now 2 dataset now: Syn6\n"
     ]
    },
    {
     "name": "stderr",
     "output_type": "stream",
     "text": [
      "TPR mean: 43.0%  std: 22.7%\n",
      "FDR mean: 42.3%  std: 24.9%\n"
     ]
    },
    {
     "name": "stdout",
     "output_type": "stream",
     "text": [
      "[[0.74240364 0.70507601]\n",
      " [0.75778075 0.71590308]\n",
      " [0.6822     0.6589    ]]\n",
      "rec time now 3 dataset now: Syn6\n"
     ]
    },
    {
     "name": "stderr",
     "output_type": "stream",
     "text": [
      "TPR mean: 42.6%  std: 22.9%\n",
      "FDR mean: 42.3%  std: 25.4%\n",
      "Epoch:      0, d_loss (Acc)): 0.633, v_loss (Acc): 0.584, g_loss: -0.3730\n"
     ]
    },
    {
     "name": "stdout",
     "output_type": "stream",
     "text": [
      "[[0.74240364 0.70423052]\n",
      " [0.75778075 0.71457492]\n",
      " [0.6822     0.657     ]]\n",
      "now at training epoch number 100 hyp-params: lamda 0.0060 prior 0.4900\n",
      "rec time now 0 dataset now: Syn6\n"
     ]
    },
    {
     "name": "stderr",
     "output_type": "stream",
     "text": [
      "TPR mean: 72.8%  std: 18.3%\n",
      "FDR mean: 39.1%  std: 15.3%\n"
     ]
    },
    {
     "name": "stdout",
     "output_type": "stream",
     "text": [
      "[[0.78368425 0.7773651 ]\n",
      " [0.80171538 0.79335226]\n",
      " [0.7097     0.7098    ]]\n",
      "rec time now 1 dataset now: Syn6\n"
     ]
    },
    {
     "name": "stderr",
     "output_type": "stream",
     "text": [
      "TPR mean: 66.7%  std: 20.5%\n",
      "FDR mean: 37.0%  std: 18.6%\n"
     ]
    },
    {
     "name": "stdout",
     "output_type": "stream",
     "text": [
      "[[0.78368425 0.76843647]\n",
      " [0.80171538 0.78048284]\n",
      " [0.7097     0.7046    ]]\n",
      "rec time now 2 dataset now: Syn6\n"
     ]
    },
    {
     "name": "stderr",
     "output_type": "stream",
     "text": [
      "TPR mean: 65.6%  std: 21.1%\n",
      "FDR mean: 36.6%  std: 19.2%\n"
     ]
    },
    {
     "name": "stdout",
     "output_type": "stream",
     "text": [
      "[[0.78368425 0.76636915]\n",
      " [0.80171538 0.77751553]\n",
      " [0.7097     0.7023    ]]\n",
      "rec time now 3 dataset now: Syn6\n"
     ]
    },
    {
     "name": "stderr",
     "output_type": "stream",
     "text": [
      "TPR mean: 65.4%  std: 21.2%\n",
      "FDR mean: 36.6%  std: 19.3%\n",
      "Epoch:      0, d_loss (Acc)): 0.612, v_loss (Acc): 0.552, g_loss: -0.4653\n"
     ]
    },
    {
     "name": "stdout",
     "output_type": "stream",
     "text": [
      "[[0.78368425 0.76625996]\n",
      " [0.80171538 0.7772912 ]\n",
      " [0.7097     0.7028    ]]\n",
      "now at training epoch number 200 hyp-params: lamda 0.0120 prior 0.4800\n",
      "rec time now 0 dataset now: Syn6\n"
     ]
    },
    {
     "name": "stderr",
     "output_type": "stream",
     "text": [
      "TPR mean: 84.9%  std: 16.8%\n",
      "FDR mean: 35.3%  std: 15.3%\n"
     ]
    },
    {
     "name": "stdout",
     "output_type": "stream",
     "text": [
      "[[0.80589435 0.79723269]\n",
      " [0.82298763 0.8113867 ]\n",
      " [0.7311     0.7269    ]]\n",
      "rec time now 1 dataset now: Syn6\n"
     ]
    },
    {
     "name": "stderr",
     "output_type": "stream",
     "text": [
      "TPR mean: 81.6%  std: 18.9%\n",
      "FDR mean: 32.9%  std: 17.6%\n"
     ]
    },
    {
     "name": "stdout",
     "output_type": "stream",
     "text": [
      "[[0.80589435 0.79121251]\n",
      " [0.82298763 0.80200986]\n",
      " [0.7311     0.7256    ]]\n",
      "rec time now 2 dataset now: Syn6\n"
     ]
    },
    {
     "name": "stderr",
     "output_type": "stream",
     "text": [
      "TPR mean: 81.0%  std: 19.3%\n",
      "FDR mean: 32.7%  std: 17.9%\n"
     ]
    },
    {
     "name": "stdout",
     "output_type": "stream",
     "text": [
      "[[0.80589435 0.78965249]\n",
      " [0.82298763 0.79951552]\n",
      " [0.7311     0.7248    ]]\n",
      "rec time now 3 dataset now: Syn6\n"
     ]
    },
    {
     "name": "stderr",
     "output_type": "stream",
     "text": [
      "TPR mean: 80.9%  std: 19.4%\n",
      "FDR mean: 32.7%  std: 17.9%\n",
      "Epoch:      0, d_loss (Acc)): 0.580, v_loss (Acc): 0.511, g_loss: -0.5227\n"
     ]
    },
    {
     "name": "stdout",
     "output_type": "stream",
     "text": [
      "[[0.80589435 0.78951186]\n",
      " [0.82298763 0.7992563 ]\n",
      " [0.7311     0.7247    ]]\n",
      "now at training epoch number 300 hyp-params: lamda 0.0180 prior 0.4700\n",
      "rec time now 0 dataset now: Syn6\n"
     ]
    },
    {
     "name": "stderr",
     "output_type": "stream",
     "text": [
      "TPR mean: 91.9%  std: 13.2%\n",
      "FDR mean: 32.7%  std: 15.6%\n"
     ]
    },
    {
     "name": "stdout",
     "output_type": "stream",
     "text": [
      "[[0.81804851 0.820383  ]\n",
      " [0.83314676 0.83326262]\n",
      " [0.7405     0.7446    ]]\n",
      "rec time now 1 dataset now: Syn6\n"
     ]
    },
    {
     "name": "stderr",
     "output_type": "stream",
     "text": [
      "TPR mean: 90.2%  std: 15.0%\n",
      "FDR mean: 29.8%  std: 17.6%\n"
     ]
    },
    {
     "name": "stdout",
     "output_type": "stream",
     "text": [
      "[[0.81804851 0.8177187 ]\n",
      " [0.83314676 0.82821465]\n",
      " [0.7405     0.7453    ]]\n",
      "rec time now 2 dataset now: Syn6\n"
     ]
    },
    {
     "name": "stderr",
     "output_type": "stream",
     "text": [
      "TPR mean: 90.0%  std: 15.3%\n",
      "FDR mean: 29.6%  std: 17.7%\n"
     ]
    },
    {
     "name": "stdout",
     "output_type": "stream",
     "text": [
      "[[0.81804851 0.81699456]\n",
      " [0.83314676 0.82712548]\n",
      " [0.7405     0.7459    ]]\n",
      "rec time now 3 dataset now: Syn6\n"
     ]
    },
    {
     "name": "stderr",
     "output_type": "stream",
     "text": [
      "TPR mean: 89.9%  std: 15.3%\n",
      "FDR mean: 29.6%  std: 17.8%\n",
      "Epoch:      0, d_loss (Acc)): 0.574, v_loss (Acc): 0.522, g_loss: -0.3853\n"
     ]
    },
    {
     "name": "stdout",
     "output_type": "stream",
     "text": [
      "[[0.81804851 0.81700941]\n",
      " [0.83314676 0.82717125]\n",
      " [0.7405     0.7459    ]]\n",
      "now at training epoch number 400 hyp-params: lamda 0.0240 prior 0.4600\n",
      "rec time now 0 dataset now: Syn6\n"
     ]
    },
    {
     "name": "stderr",
     "output_type": "stream",
     "text": [
      "TPR mean: 94.5%  std: 10.9%\n",
      "FDR mean: 30.7%  std: 16.5%\n"
     ]
    },
    {
     "name": "stdout",
     "output_type": "stream",
     "text": [
      "[[0.82689536 0.83257162]\n",
      " [0.84179006 0.84659323]\n",
      " [0.7529     0.7569    ]]\n",
      "rec time now 1 dataset now: Syn6\n"
     ]
    },
    {
     "name": "stderr",
     "output_type": "stream",
     "text": [
      "TPR mean: 93.3%  std: 12.0%\n",
      "FDR mean: 27.8%  std: 17.9%\n"
     ]
    },
    {
     "name": "stdout",
     "output_type": "stream",
     "text": [
      "[[0.82689536 0.83145568]\n",
      " [0.84179006 0.84449404]\n",
      " [0.7529     0.7585    ]]\n",
      "rec time now 2 dataset now: Syn6\n"
     ]
    },
    {
     "name": "stderr",
     "output_type": "stream",
     "text": [
      "TPR mean: 93.2%  std: 12.1%\n",
      "FDR mean: 27.6%  std: 18.0%\n"
     ]
    },
    {
     "name": "stdout",
     "output_type": "stream",
     "text": [
      "[[0.82689536 0.83115549]\n",
      " [0.84179006 0.84378295]\n",
      " [0.7529     0.7577    ]]\n",
      "rec time now 3 dataset now: Syn6\n"
     ]
    },
    {
     "name": "stderr",
     "output_type": "stream",
     "text": [
      "TPR mean: 93.2%  std: 12.1%\n",
      "FDR mean: 27.6%  std: 18.0%\n",
      "Epoch:      0, d_loss (Acc)): 0.568, v_loss (Acc): 0.504, g_loss: -0.4815\n"
     ]
    },
    {
     "name": "stdout",
     "output_type": "stream",
     "text": [
      "[[0.82689536 0.83108177]\n",
      " [0.84179006 0.84364555]\n",
      " [0.7529     0.7575    ]]\n",
      "now at training epoch number 500 hyp-params: lamda 0.0300 prior 0.4500\n",
      "rec time now 0 dataset now: Syn6\n"
     ]
    },
    {
     "name": "stderr",
     "output_type": "stream",
     "text": [
      "TPR mean: 97.2%  std: 8.1%\n",
      "FDR mean: 29.1%  std: 17.4%\n"
     ]
    },
    {
     "name": "stdout",
     "output_type": "stream",
     "text": [
      "[[0.82933602 0.84547649]\n",
      " [0.8428989  0.86061838]\n",
      " [0.7546     0.7668    ]]\n",
      "rec time now 1 dataset now: Syn6\n"
     ]
    },
    {
     "name": "stderr",
     "output_type": "stream",
     "text": [
      "TPR mean: 96.7%  std: 9.1%\n",
      "FDR mean: 26.7%  std: 18.2%\n"
     ]
    },
    {
     "name": "stdout",
     "output_type": "stream",
     "text": [
      "[[0.82933602 0.84605601]\n",
      " [0.8428989  0.86039076]\n",
      " [0.7546     0.7685    ]]\n",
      "rec time now 2 dataset now: Syn6\n"
     ]
    },
    {
     "name": "stderr",
     "output_type": "stream",
     "text": [
      "TPR mean: 96.6%  std: 9.3%\n",
      "FDR mean: 26.5%  std: 18.3%\n"
     ]
    },
    {
     "name": "stdout",
     "output_type": "stream",
     "text": [
      "[[0.82933602 0.84608131]\n",
      " [0.8428989  0.86050159]\n",
      " [0.7546     0.7683    ]]\n",
      "rec time now 3 dataset now: Syn6\n"
     ]
    },
    {
     "name": "stderr",
     "output_type": "stream",
     "text": [
      "TPR mean: 96.6%  std: 9.3%\n",
      "FDR mean: 26.5%  std: 18.3%\n",
      "Epoch:      0, d_loss (Acc)): 0.542, v_loss (Acc): 0.502, g_loss: -0.2985\n"
     ]
    },
    {
     "name": "stdout",
     "output_type": "stream",
     "text": [
      "[[0.82933602 0.84607919]\n",
      " [0.8428989  0.86049479]\n",
      " [0.7546     0.7682    ]]\n",
      "now at training epoch number 600 hyp-params: lamda 0.0360 prior 0.4400\n",
      "rec time now 0 dataset now: Syn6\n"
     ]
    },
    {
     "name": "stderr",
     "output_type": "stream",
     "text": [
      "TPR mean: 98.4%  std: 6.1%\n",
      "FDR mean: 25.5%  std: 17.7%\n"
     ]
    },
    {
     "name": "stdout",
     "output_type": "stream",
     "text": [
      "[[0.83546043 0.85062979]\n",
      " [0.84831502 0.86483999]\n",
      " [0.7583     0.7704    ]]\n",
      "rec time now 1 dataset now: Syn6\n"
     ]
    },
    {
     "name": "stderr",
     "output_type": "stream",
     "text": [
      "TPR mean: 98.1%  std: 6.9%\n",
      "FDR mean: 23.3%  std: 18.3%\n"
     ]
    },
    {
     "name": "stdout",
     "output_type": "stream",
     "text": [
      "[[0.83546043 0.85178467]\n",
      " [0.84831502 0.86528803]\n",
      " [0.7583     0.7742    ]]\n",
      "rec time now 2 dataset now: Syn6\n"
     ]
    },
    {
     "name": "stderr",
     "output_type": "stream",
     "text": [
      "TPR mean: 98.1%  std: 7.0%\n",
      "FDR mean: 23.1%  std: 18.3%\n"
     ]
    },
    {
     "name": "stdout",
     "output_type": "stream",
     "text": [
      "[[0.83546043 0.85179326]\n",
      " [0.84831502 0.86528873]\n",
      " [0.7583     0.7744    ]]\n",
      "rec time now 3 dataset now: Syn6\n"
     ]
    },
    {
     "name": "stderr",
     "output_type": "stream",
     "text": [
      "TPR mean: 98.1%  std: 7.0%\n",
      "FDR mean: 23.1%  std: 18.3%\n",
      "Epoch:      0, d_loss (Acc)): 0.525, v_loss (Acc): 0.476, g_loss: -0.3266\n"
     ]
    },
    {
     "name": "stdout",
     "output_type": "stream",
     "text": [
      "[[0.83546043 0.85182542]\n",
      " [0.84831502 0.86530781]\n",
      " [0.7583     0.7744    ]]\n",
      "now at training epoch number 700 hyp-params: lamda 0.0420 prior 0.4300\n",
      "rec time now 0 dataset now: Syn6\n"
     ]
    },
    {
     "name": "stderr",
     "output_type": "stream",
     "text": [
      "TPR mean: 99.1%  std: 4.5%\n",
      "FDR mean: 24.5%  std: 17.9%\n"
     ]
    },
    {
     "name": "stdout",
     "output_type": "stream",
     "text": [
      "[[0.83897108 0.85730787]\n",
      " [0.85189542 0.8705638 ]\n",
      " [0.7628     0.7803    ]]\n",
      "rec time now 1 dataset now: Syn6\n"
     ]
    },
    {
     "name": "stderr",
     "output_type": "stream",
     "text": [
      "TPR mean: 99.0%  std: 5.4%\n",
      "FDR mean: 22.3%  std: 18.6%\n"
     ]
    },
    {
     "name": "stdout",
     "output_type": "stream",
     "text": [
      "[[0.83897108 0.85826831]\n",
      " [0.85189542 0.87089095]\n",
      " [0.7628     0.7829    ]]\n",
      "rec time now 2 dataset now: Syn6\n"
     ]
    },
    {
     "name": "stderr",
     "output_type": "stream",
     "text": [
      "TPR mean: 99.0%  std: 5.4%\n",
      "FDR mean: 22.2%  std: 18.6%\n"
     ]
    },
    {
     "name": "stdout",
     "output_type": "stream",
     "text": [
      "[[0.83897108 0.85820165]\n",
      " [0.85189542 0.87090177]\n",
      " [0.7628     0.7823    ]]\n",
      "rec time now 3 dataset now: Syn6\n"
     ]
    },
    {
     "name": "stderr",
     "output_type": "stream",
     "text": [
      "TPR mean: 99.0%  std: 5.4%\n",
      "FDR mean: 22.1%  std: 18.6%\n",
      "Epoch:      0, d_loss (Acc)): 0.474, v_loss (Acc): 0.448, g_loss: -0.1494\n"
     ]
    },
    {
     "name": "stdout",
     "output_type": "stream",
     "text": [
      "[[0.83897108 0.85819578]\n",
      " [0.85189542 0.87091117]\n",
      " [0.7628     0.7823    ]]\n",
      "now at training epoch number 800 hyp-params: lamda 0.0480 prior 0.4200\n",
      "rec time now 0 dataset now: Syn6\n"
     ]
    },
    {
     "name": "stderr",
     "output_type": "stream",
     "text": [
      "TPR mean: 99.4%  std: 3.8%\n",
      "FDR mean: 23.6%  std: 18.3%\n"
     ]
    },
    {
     "name": "stdout",
     "output_type": "stream",
     "text": [
      "[[0.83867824 0.85984529]\n",
      " [0.85108373 0.87189752]\n",
      " [0.7612     0.7826    ]]\n",
      "rec time now 1 dataset now: Syn6\n"
     ]
    },
    {
     "name": "stderr",
     "output_type": "stream",
     "text": [
      "TPR mean: 99.3%  std: 4.4%\n",
      "FDR mean: 21.5%  std: 19.1%\n"
     ]
    },
    {
     "name": "stdout",
     "output_type": "stream",
     "text": [
      "[[0.83867824 0.85943785]\n",
      " [0.85108373 0.87125061]\n",
      " [0.7612     0.7846    ]]\n",
      "rec time now 2 dataset now: Syn6\n"
     ]
    },
    {
     "name": "stderr",
     "output_type": "stream",
     "text": [
      "TPR mean: 99.3%  std: 4.4%\n",
      "FDR mean: 21.4%  std: 19.1%\n"
     ]
    },
    {
     "name": "stdout",
     "output_type": "stream",
     "text": [
      "[[0.83867824 0.85952811]\n",
      " [0.85108373 0.8713871 ]\n",
      " [0.7612     0.7846    ]]\n",
      "rec time now 3 dataset now: Syn6\n"
     ]
    },
    {
     "name": "stderr",
     "output_type": "stream",
     "text": [
      "TPR mean: 99.3%  std: 4.4%\n",
      "FDR mean: 21.3%  std: 19.1%\n",
      "Epoch:      0, d_loss (Acc)): 0.469, v_loss (Acc): 0.465, g_loss: -0.0540\n"
     ]
    },
    {
     "name": "stdout",
     "output_type": "stream",
     "text": [
      "[[0.83867824 0.85951818]\n",
      " [0.85108373 0.87138229]\n",
      " [0.7612     0.7846    ]]\n",
      "now at training epoch number 900 hyp-params: lamda 0.0540 prior 0.4100\n",
      "rec time now 0 dataset now: Syn6\n"
     ]
    },
    {
     "name": "stderr",
     "output_type": "stream",
     "text": [
      "TPR mean: 99.6%  std: 3.1%\n",
      "FDR mean: 21.4%  std: 18.9%\n"
     ]
    },
    {
     "name": "stdout",
     "output_type": "stream",
     "text": [
      "[[0.84364653 0.86199842]\n",
      " [0.85653326 0.87462066]\n",
      " [0.7685     0.7851    ]]\n",
      "rec time now 1 dataset now: Syn6\n"
     ]
    },
    {
     "name": "stderr",
     "output_type": "stream",
     "text": [
      "TPR mean: 99.5%  std: 3.8%\n",
      "FDR mean: 19.8%  std: 19.4%\n"
     ]
    },
    {
     "name": "stdout",
     "output_type": "stream",
     "text": [
      "[[0.84364653 0.86294439]\n",
      " [0.85653326 0.87551068]\n",
      " [0.7685     0.7854    ]]\n",
      "rec time now 2 dataset now: Syn6\n"
     ]
    },
    {
     "name": "stderr",
     "output_type": "stream",
     "text": [
      "TPR mean: 99.5%  std: 3.9%\n",
      "FDR mean: 19.7%  std: 19.4%\n"
     ]
    },
    {
     "name": "stdout",
     "output_type": "stream",
     "text": [
      "[[0.84364653 0.8629881 ]\n",
      " [0.85653326 0.8755874 ]\n",
      " [0.7685     0.7854    ]]\n",
      "rec time now 3 dataset now: Syn6\n"
     ]
    },
    {
     "name": "stderr",
     "output_type": "stream",
     "text": [
      "TPR mean: 99.5%  std: 3.9%\n",
      "FDR mean: 19.7%  std: 19.4%\n",
      "Epoch:      0, d_loss (Acc)): 0.483, v_loss (Acc): 0.451, g_loss: -0.2023\n"
     ]
    },
    {
     "name": "stdout",
     "output_type": "stream",
     "text": [
      "[[0.84364653 0.8630985 ]\n",
      " [0.85653326 0.87564918]\n",
      " [0.7685     0.7856    ]]\n",
      "now at training epoch number 1000 hyp-params: lamda 0.0600 prior 0.4000\n",
      "rec time now 0 dataset now: Syn6\n"
     ]
    },
    {
     "name": "stderr",
     "output_type": "stream",
     "text": [
      "TPR mean: 99.7%  std: 2.5%\n",
      "FDR mean: 20.2%  std: 19.0%\n"
     ]
    },
    {
     "name": "stdout",
     "output_type": "stream",
     "text": [
      "[[0.84059221 0.86419788]\n",
      " [0.85132724 0.87560949]\n",
      " [0.7678     0.7902    ]]\n",
      "rec time now 1 dataset now: Syn6\n"
     ]
    },
    {
     "name": "stderr",
     "output_type": "stream",
     "text": [
      "TPR mean: 99.7%  std: 3.0%\n",
      "FDR mean: 18.8%  std: 19.3%\n"
     ]
    },
    {
     "name": "stdout",
     "output_type": "stream",
     "text": [
      "[[0.84059221 0.86508295]\n",
      " [0.85132724 0.8760017 ]\n",
      " [0.7678     0.7891    ]]\n",
      "rec time now 2 dataset now: Syn6\n"
     ]
    },
    {
     "name": "stderr",
     "output_type": "stream",
     "text": [
      "TPR mean: 99.7%  std: 3.2%\n",
      "FDR mean: 18.8%  std: 19.3%\n"
     ]
    },
    {
     "name": "stdout",
     "output_type": "stream",
     "text": [
      "[[0.84059221 0.86511653]\n",
      " [0.85132724 0.87610299]\n",
      " [0.7678     0.7889    ]]\n",
      "rec time now 3 dataset now: Syn6\n"
     ]
    },
    {
     "name": "stderr",
     "output_type": "stream",
     "text": [
      "TPR mean: 99.7%  std: 3.2%\n",
      "FDR mean: 18.8%  std: 19.3%\n",
      "Epoch:      0, d_loss (Acc)): 0.476, v_loss (Acc): 0.477, g_loss: -0.0228\n"
     ]
    },
    {
     "name": "stdout",
     "output_type": "stream",
     "text": [
      "[[0.84059221 0.86513106]\n",
      " [0.85132724 0.87611181]\n",
      " [0.7678     0.789     ]]\n",
      "now at training epoch number 1100 hyp-params: lamda 0.0660 prior 0.3900\n",
      "rec time now 0 dataset now: Syn6\n"
     ]
    },
    {
     "name": "stderr",
     "output_type": "stream",
     "text": [
      "TPR mean: 99.8%  std: 2.3%\n",
      "FDR mean: 19.2%  std: 18.9%\n"
     ]
    },
    {
     "name": "stdout",
     "output_type": "stream",
     "text": [
      "[[0.84641474 0.86610466]\n",
      " [0.85832319 0.87850655]\n",
      " [0.7718     0.7893    ]]\n",
      "rec time now 1 dataset now: Syn6\n"
     ]
    },
    {
     "name": "stderr",
     "output_type": "stream",
     "text": [
      "TPR mean: 99.7%  std: 2.9%\n",
      "FDR mean: 18.2%  std: 19.1%\n"
     ]
    },
    {
     "name": "stdout",
     "output_type": "stream",
     "text": [
      "[[0.84641474 0.86609523]\n",
      " [0.85832319 0.87847975]\n",
      " [0.7718     0.7896    ]]\n",
      "rec time now 2 dataset now: Syn6\n"
     ]
    },
    {
     "name": "stderr",
     "output_type": "stream",
     "text": [
      "TPR mean: 99.7%  std: 2.9%\n",
      "FDR mean: 18.1%  std: 19.1%\n"
     ]
    },
    {
     "name": "stdout",
     "output_type": "stream",
     "text": [
      "[[0.84641474 0.86615452]\n",
      " [0.85832319 0.87854149]\n",
      " [0.7718     0.7897    ]]\n",
      "rec time now 3 dataset now: Syn6\n"
     ]
    },
    {
     "name": "stderr",
     "output_type": "stream",
     "text": [
      "TPR mean: 99.7%  std: 2.9%\n",
      "FDR mean: 18.1%  std: 19.1%\n",
      "Epoch:      0, d_loss (Acc)): 0.474, v_loss (Acc): 0.470, g_loss: -0.0191\n"
     ]
    },
    {
     "name": "stdout",
     "output_type": "stream",
     "text": [
      "[[0.84641474 0.86615452]\n",
      " [0.85832319 0.87854149]\n",
      " [0.7718     0.7897    ]]\n",
      "now at training epoch number 1200 hyp-params: lamda 0.0720 prior 0.3800\n",
      "rec time now 0 dataset now: Syn6\n"
     ]
    },
    {
     "name": "stderr",
     "output_type": "stream",
     "text": [
      "TPR mean: 99.8%  std: 2.0%\n",
      "FDR mean: 18.3%  std: 18.9%\n"
     ]
    },
    {
     "name": "stdout",
     "output_type": "stream",
     "text": [
      "[[0.84464648 0.86513753]\n",
      " [0.85569042 0.87607923]\n",
      " [0.7681     0.7891    ]]\n",
      "rec time now 1 dataset now: Syn6\n"
     ]
    },
    {
     "name": "stderr",
     "output_type": "stream",
     "text": [
      "TPR mean: 99.8%  std: 2.4%\n",
      "FDR mean: 17.1%  std: 19.0%\n"
     ]
    },
    {
     "name": "stdout",
     "output_type": "stream",
     "text": [
      "[[0.84464648 0.86549091]\n",
      " [0.85569042 0.87618497]\n",
      " [0.7681     0.7892    ]]\n",
      "rec time now 2 dataset now: Syn6\n"
     ]
    },
    {
     "name": "stderr",
     "output_type": "stream",
     "text": [
      "TPR mean: 99.8%  std: 2.6%\n",
      "FDR mean: 17.1%  std: 19.1%\n"
     ]
    },
    {
     "name": "stdout",
     "output_type": "stream",
     "text": [
      "[[0.84464648 0.86559517]\n",
      " [0.85569042 0.87633888]\n",
      " [0.7681     0.7893    ]]\n",
      "rec time now 3 dataset now: Syn6\n"
     ]
    },
    {
     "name": "stderr",
     "output_type": "stream",
     "text": [
      "TPR mean: 99.8%  std: 2.6%\n",
      "FDR mean: 17.1%  std: 19.1%\n",
      "Epoch:      0, d_loss (Acc)): 0.462, v_loss (Acc): 0.447, g_loss: -0.0676\n"
     ]
    },
    {
     "name": "stdout",
     "output_type": "stream",
     "text": [
      "[[0.84464648 0.86559517]\n",
      " [0.85569042 0.87633888]\n",
      " [0.7681     0.7893    ]]\n",
      "now at training epoch number 1300 hyp-params: lamda 0.0780 prior 0.3700\n",
      "rec time now 0 dataset now: Syn6\n"
     ]
    },
    {
     "name": "stderr",
     "output_type": "stream",
     "text": [
      "TPR mean: 99.9%  std: 1.8%\n",
      "FDR mean: 17.5%  std: 18.8%\n"
     ]
    },
    {
     "name": "stdout",
     "output_type": "stream",
     "text": [
      "[[0.84516184 0.86515163]\n",
      " [0.85740129 0.8762944 ]\n",
      " [0.7677     0.7859    ]]\n",
      "rec time now 1 dataset now: Syn6\n"
     ]
    },
    {
     "name": "stderr",
     "output_type": "stream",
     "text": [
      "TPR mean: 99.9%  std: 2.3%\n",
      "FDR mean: 16.5%  std: 19.0%\n"
     ]
    },
    {
     "name": "stdout",
     "output_type": "stream",
     "text": [
      "[[0.84516184 0.86502854]\n",
      " [0.85740129 0.87596647]\n",
      " [0.7677     0.7868    ]]\n",
      "rec time now 2 dataset now: Syn6\n"
     ]
    },
    {
     "name": "stderr",
     "output_type": "stream",
     "text": [
      "TPR mean: 99.8%  std: 2.5%\n",
      "FDR mean: 16.5%  std: 19.0%\n"
     ]
    },
    {
     "name": "stdout",
     "output_type": "stream",
     "text": [
      "[[0.84516184 0.86504805]\n",
      " [0.85740129 0.8759773 ]\n",
      " [0.7677     0.7868    ]]\n",
      "rec time now 3 dataset now: Syn6\n"
     ]
    },
    {
     "name": "stderr",
     "output_type": "stream",
     "text": [
      "TPR mean: 99.8%  std: 2.5%\n",
      "FDR mean: 16.5%  std: 19.0%\n",
      "Epoch:      0, d_loss (Acc)): 0.462, v_loss (Acc): 0.445, g_loss: -0.0638\n"
     ]
    },
    {
     "name": "stdout",
     "output_type": "stream",
     "text": [
      "[[0.84516184 0.86504662]\n",
      " [0.85740129 0.87597601]\n",
      " [0.7677     0.7868    ]]\n",
      "now at training epoch number 1400 hyp-params: lamda 0.0840 prior 0.3600\n",
      "rec time now 0 dataset now: Syn6\n"
     ]
    },
    {
     "name": "stderr",
     "output_type": "stream",
     "text": [
      "TPR mean: 99.9%  std: 1.8%\n",
      "FDR mean: 16.3%  std: 18.7%\n"
     ]
    },
    {
     "name": "stdout",
     "output_type": "stream",
     "text": [
      "[[0.847338   0.8679322 ]\n",
      " [0.85911524 0.87850094]\n",
      " [0.7709     0.7904    ]]\n",
      "rec time now 1 dataset now: Syn6\n"
     ]
    },
    {
     "name": "stderr",
     "output_type": "stream",
     "text": [
      "TPR mean: 99.9%  std: 2.2%\n",
      "FDR mean: 15.4%  std: 18.8%\n"
     ]
    },
    {
     "name": "stdout",
     "output_type": "stream",
     "text": [
      "[[0.847338   0.86840787]\n",
      " [0.85911524 0.87869806]\n",
      " [0.7709     0.7902    ]]\n",
      "rec time now 2 dataset now: Syn6\n"
     ]
    },
    {
     "name": "stderr",
     "output_type": "stream",
     "text": [
      "TPR mean: 99.9%  std: 2.3%\n",
      "FDR mean: 15.3%  std: 18.8%\n"
     ]
    },
    {
     "name": "stdout",
     "output_type": "stream",
     "text": [
      "[[0.847338   0.86839377]\n",
      " [0.85911524 0.87869216]\n",
      " [0.7709     0.7902    ]]\n",
      "rec time now 3 dataset now: Syn6\n"
     ]
    },
    {
     "name": "stderr",
     "output_type": "stream",
     "text": [
      "TPR mean: 99.9%  std: 2.3%\n",
      "FDR mean: 15.3%  std: 18.8%\n",
      "Epoch:      0, d_loss (Acc)): 0.451, v_loss (Acc): 0.430, g_loss: -0.0949\n"
     ]
    },
    {
     "name": "stdout",
     "output_type": "stream",
     "text": [
      "[[0.847338   0.86839383]\n",
      " [0.85911524 0.87869275]\n",
      " [0.7709     0.7902    ]]\n",
      "now at training epoch number 1500 hyp-params: lamda 0.0900 prior 0.3500\n",
      "rec time now 0 dataset now: Syn6\n"
     ]
    },
    {
     "name": "stderr",
     "output_type": "stream",
     "text": [
      "TPR mean: 99.9%  std: 1.6%\n",
      "FDR mean: 15.0%  std: 18.5%\n"
     ]
    },
    {
     "name": "stdout",
     "output_type": "stream",
     "text": [
      "[[0.85009575 0.87106574]\n",
      " [0.86131806 0.88146772]\n",
      " [0.7735     0.7935    ]]\n",
      "rec time now 1 dataset now: Syn6\n"
     ]
    },
    {
     "name": "stderr",
     "output_type": "stream",
     "text": [
      "TPR mean: 99.9%  std: 2.0%\n",
      "FDR mean: 14.1%  std: 18.4%\n"
     ]
    },
    {
     "name": "stdout",
     "output_type": "stream",
     "text": [
      "[[0.85009575 0.87154029]\n",
      " [0.86131806 0.88192738]\n",
      " [0.7735     0.7932    ]]\n",
      "rec time now 2 dataset now: Syn6\n"
     ]
    },
    {
     "name": "stderr",
     "output_type": "stream",
     "text": [
      "TPR mean: 99.9%  std: 2.0%\n",
      "FDR mean: 14.1%  std: 18.4%\n"
     ]
    },
    {
     "name": "stdout",
     "output_type": "stream",
     "text": [
      "[[0.85009575 0.87155428]\n",
      " [0.86131806 0.88193396]\n",
      " [0.7735     0.7933    ]]\n",
      "rec time now 3 dataset now: Syn6\n"
     ]
    },
    {
     "name": "stderr",
     "output_type": "stream",
     "text": [
      "TPR mean: 99.9%  std: 2.0%\n",
      "FDR mean: 14.1%  std: 18.4%\n",
      "Epoch:      0, d_loss (Acc)): 0.431, v_loss (Acc): 0.418, g_loss: -0.0508\n"
     ]
    },
    {
     "name": "stdout",
     "output_type": "stream",
     "text": [
      "[[0.85009575 0.87155428]\n",
      " [0.86131806 0.88193396]\n",
      " [0.7735     0.7933    ]]\n",
      "now at training epoch number 1600 hyp-params: lamda 0.0960 prior 0.3400\n",
      "rec time now 0 dataset now: Syn6\n"
     ]
    },
    {
     "name": "stderr",
     "output_type": "stream",
     "text": [
      "TPR mean: 99.9%  std: 1.5%\n",
      "FDR mean: 13.9%  std: 18.0%\n"
     ]
    },
    {
     "name": "stdout",
     "output_type": "stream",
     "text": [
      "[[0.84952521 0.87094638]\n",
      " [0.86030971 0.88145755]\n",
      " [0.7734     0.7926    ]]\n",
      "rec time now 1 dataset now: Syn6\n"
     ]
    },
    {
     "name": "stderr",
     "output_type": "stream",
     "text": [
      "TPR mean: 99.9%  std: 1.9%\n",
      "FDR mean: 13.0%  std: 17.9%\n"
     ]
    },
    {
     "name": "stdout",
     "output_type": "stream",
     "text": [
      "[[0.84952521 0.87107451]\n",
      " [0.86030971 0.88159518]\n",
      " [0.7734     0.7929    ]]\n",
      "rec time now 2 dataset now: Syn6\n"
     ]
    },
    {
     "name": "stderr",
     "output_type": "stream",
     "text": [
      "TPR mean: 99.9%  std: 1.9%\n",
      "FDR mean: 13.0%  std: 17.9%\n"
     ]
    },
    {
     "name": "stdout",
     "output_type": "stream",
     "text": [
      "[[0.84952521 0.87105109]\n",
      " [0.86030971 0.88156763]\n",
      " [0.7734     0.7926    ]]\n",
      "rec time now 3 dataset now: Syn6\n"
     ]
    },
    {
     "name": "stderr",
     "output_type": "stream",
     "text": [
      "TPR mean: 99.9%  std: 1.9%\n",
      "FDR mean: 13.0%  std: 17.9%\n",
      "Epoch:      0, d_loss (Acc)): 0.422, v_loss (Acc): 0.419, g_loss: -0.0205\n"
     ]
    },
    {
     "name": "stdout",
     "output_type": "stream",
     "text": [
      "[[0.84952521 0.87105109]\n",
      " [0.86030971 0.88156763]\n",
      " [0.7734     0.7926    ]]\n",
      "now at training epoch number 1700 hyp-params: lamda 0.1020 prior 0.3300\n",
      "rec time now 0 dataset now: Syn6\n"
     ]
    },
    {
     "name": "stderr",
     "output_type": "stream",
     "text": [
      "TPR mean: 99.9%  std: 1.4%\n",
      "FDR mean: 13.6%  std: 17.9%\n"
     ]
    },
    {
     "name": "stdout",
     "output_type": "stream",
     "text": [
      "[[0.85012534 0.87218481]\n",
      " [0.86121154 0.88309545]\n",
      " [0.7724     0.7957    ]]\n",
      "rec time now 1 dataset now: Syn6\n"
     ]
    },
    {
     "name": "stderr",
     "output_type": "stream",
     "text": [
      "TPR mean: 99.9%  std: 1.6%\n",
      "FDR mean: 12.7%  std: 17.8%\n"
     ]
    },
    {
     "name": "stdout",
     "output_type": "stream",
     "text": [
      "[[0.85012534 0.87260934]\n",
      " [0.86121154 0.8835368 ]\n",
      " [0.7724     0.7959    ]]\n",
      "rec time now 2 dataset now: Syn6\n"
     ]
    },
    {
     "name": "stderr",
     "output_type": "stream",
     "text": [
      "TPR mean: 99.9%  std: 1.6%\n",
      "FDR mean: 12.6%  std: 17.8%\n"
     ]
    },
    {
     "name": "stdout",
     "output_type": "stream",
     "text": [
      "[[0.85012534 0.87259741]\n",
      " [0.86121154 0.88354052]\n",
      " [0.7724     0.7957    ]]\n",
      "rec time now 3 dataset now: Syn6\n"
     ]
    },
    {
     "name": "stderr",
     "output_type": "stream",
     "text": [
      "TPR mean: 99.9%  std: 1.6%\n",
      "FDR mean: 12.6%  std: 17.8%\n",
      "Epoch:      0, d_loss (Acc)): 0.424, v_loss (Acc): 0.424, g_loss: +0.0355\n"
     ]
    },
    {
     "name": "stdout",
     "output_type": "stream",
     "text": [
      "[[0.85012534 0.87259594]\n",
      " [0.86121154 0.88354139]\n",
      " [0.7724     0.7957    ]]\n",
      "now at training epoch number 1800 hyp-params: lamda 0.1080 prior 0.3200\n",
      "rec time now 0 dataset now: Syn6\n"
     ]
    },
    {
     "name": "stderr",
     "output_type": "stream",
     "text": [
      "TPR mean: 99.9%  std: 1.5%\n",
      "FDR mean: 12.8%  std: 17.5%\n"
     ]
    },
    {
     "name": "stdout",
     "output_type": "stream",
     "text": [
      "[[0.85307424 0.87436759]\n",
      " [0.86489162 0.88547629]\n",
      " [0.7741     0.7941    ]]\n",
      "rec time now 1 dataset now: Syn6\n"
     ]
    },
    {
     "name": "stderr",
     "output_type": "stream",
     "text": [
      "TPR mean: 99.9%  std: 1.7%\n",
      "FDR mean: 11.9%  std: 17.4%\n"
     ]
    },
    {
     "name": "stdout",
     "output_type": "stream",
     "text": [
      "[[0.85307424 0.8748973 ]\n",
      " [0.86489162 0.88634305]\n",
      " [0.7741     0.7963    ]]\n",
      "rec time now 2 dataset now: Syn6\n"
     ]
    },
    {
     "name": "stderr",
     "output_type": "stream",
     "text": [
      "TPR mean: 99.9%  std: 1.7%\n",
      "FDR mean: 11.8%  std: 17.4%\n"
     ]
    },
    {
     "name": "stdout",
     "output_type": "stream",
     "text": [
      "[[0.85307424 0.87493021]\n",
      " [0.86489162 0.88639821]\n",
      " [0.7741     0.7961    ]]\n",
      "rec time now 3 dataset now: Syn6\n"
     ]
    },
    {
     "name": "stderr",
     "output_type": "stream",
     "text": [
      "TPR mean: 99.9%  std: 1.7%\n",
      "FDR mean: 11.8%  std: 17.4%\n",
      "Epoch:      0, d_loss (Acc)): 0.473, v_loss (Acc): 0.462, g_loss: -0.0317\n"
     ]
    },
    {
     "name": "stdout",
     "output_type": "stream",
     "text": [
      "[[0.85307424 0.87493019]\n",
      " [0.86489162 0.88639821]\n",
      " [0.7741     0.7961    ]]\n",
      "now at training epoch number 1900 hyp-params: lamda 0.1140 prior 0.3100\n",
      "rec time now 0 dataset now: Syn6\n"
     ]
    },
    {
     "name": "stderr",
     "output_type": "stream",
     "text": [
      "TPR mean: 99.9%  std: 2.3%\n",
      "FDR mean: 12.4%  std: 17.3%\n"
     ]
    },
    {
     "name": "stdout",
     "output_type": "stream",
     "text": [
      "[[0.84963956 0.87300402]\n",
      " [0.86275271 0.88308362]\n",
      " [0.7723     0.7945    ]]\n",
      "rec time now 1 dataset now: Syn6\n"
     ]
    },
    {
     "name": "stderr",
     "output_type": "stream",
     "text": [
      "TPR mean: 99.9%  std: 2.4%\n",
      "FDR mean: 11.6%  std: 17.2%\n"
     ]
    },
    {
     "name": "stdout",
     "output_type": "stream",
     "text": [
      "[[0.84963956 0.87361829]\n",
      " [0.86275271 0.88373147]\n",
      " [0.7723     0.7953    ]]\n",
      "rec time now 2 dataset now: Syn6\n"
     ]
    },
    {
     "name": "stderr",
     "output_type": "stream",
     "text": [
      "TPR mean: 99.9%  std: 2.4%\n",
      "FDR mean: 11.5%  std: 17.2%\n"
     ]
    },
    {
     "name": "stdout",
     "output_type": "stream",
     "text": [
      "[[0.84963956 0.87363825]\n",
      " [0.86275271 0.88388142]\n",
      " [0.7723     0.7951    ]]\n",
      "rec time now 3 dataset now: Syn6\n"
     ]
    },
    {
     "name": "stderr",
     "output_type": "stream",
     "text": [
      "TPR mean: 99.9%  std: 2.4%\n",
      "FDR mean: 11.5%  std: 17.2%\n",
      "Epoch:      0, d_loss (Acc)): 0.425, v_loss (Acc): 0.435, g_loss: +0.0727\n"
     ]
    },
    {
     "name": "stdout",
     "output_type": "stream",
     "text": [
      "[[0.84963956 0.87363825]\n",
      " [0.86275271 0.88388142]\n",
      " [0.7723     0.7951    ]]\n",
      "now at training epoch number 2000 hyp-params: lamda 0.1200 prior 0.3000\n",
      "rec time now 0 dataset now: Syn6\n"
     ]
    },
    {
     "name": "stderr",
     "output_type": "stream",
     "text": [
      "TPR mean: 99.9%  std: 2.3%\n",
      "FDR mean: 11.3%  std: 17.0%\n"
     ]
    },
    {
     "name": "stdout",
     "output_type": "stream",
     "text": [
      "[[0.85059567 0.87649148]\n",
      " [0.8630755  0.88633933]\n",
      " [0.7732     0.8018    ]]\n",
      "rec time now 1 dataset now: Syn6\n"
     ]
    },
    {
     "name": "stderr",
     "output_type": "stream",
     "text": [
      "TPR mean: 99.8%  std: 2.4%\n",
      "FDR mean: 10.5%  std: 16.8%\n"
     ]
    },
    {
     "name": "stdout",
     "output_type": "stream",
     "text": [
      "[[0.85059567 0.87747988]\n",
      " [0.8630755  0.88745103]\n",
      " [0.7732     0.8023    ]]\n",
      "rec time now 2 dataset now: Syn6\n"
     ]
    },
    {
     "name": "stderr",
     "output_type": "stream",
     "text": [
      "TPR mean: 99.8%  std: 2.4%\n",
      "FDR mean: 10.5%  std: 16.8%\n"
     ]
    },
    {
     "name": "stdout",
     "output_type": "stream",
     "text": [
      "[[0.85059567 0.87748409]\n",
      " [0.8630755  0.8875084 ]\n",
      " [0.7732     0.8021    ]]\n",
      "rec time now 3 dataset now: Syn6\n"
     ]
    },
    {
     "name": "stderr",
     "output_type": "stream",
     "text": [
      "TPR mean: 99.8%  std: 2.4%\n",
      "FDR mean: 10.5%  std: 16.8%\n",
      "Epoch:      0, d_loss (Acc)): 0.439, v_loss (Acc): 0.434, g_loss: +0.0227\n"
     ]
    },
    {
     "name": "stdout",
     "output_type": "stream",
     "text": [
      "[[0.85059567 0.87748409]\n",
      " [0.8630755  0.8875084 ]\n",
      " [0.7732     0.8021    ]]\n",
      "now at training epoch number 2100 hyp-params: lamda 0.1260 prior 0.2900\n",
      "rec time now 0 dataset now: Syn6\n"
     ]
    },
    {
     "name": "stderr",
     "output_type": "stream",
     "text": [
      "TPR mean: 99.9%  std: 2.0%\n",
      "FDR mean: 10.6%  std: 16.7%\n"
     ]
    },
    {
     "name": "stdout",
     "output_type": "stream",
     "text": [
      "[[0.85244298 0.87548299]\n",
      " [0.86397767 0.88601198]\n",
      " [0.776      0.7996    ]]\n",
      "rec time now 1 dataset now: Syn6\n"
     ]
    },
    {
     "name": "stderr",
     "output_type": "stream",
     "text": [
      "TPR mean: 99.9%  std: 2.2%\n",
      "FDR mean: 9.8%  std: 16.4%\n"
     ]
    },
    {
     "name": "stdout",
     "output_type": "stream",
     "text": [
      "[[0.85244298 0.87605506]\n",
      " [0.86397767 0.88687169]\n",
      " [0.776      0.7995    ]]\n",
      "rec time now 2 dataset now: Syn6\n"
     ]
    },
    {
     "name": "stderr",
     "output_type": "stream",
     "text": [
      "TPR mean: 99.9%  std: 2.2%\n",
      "FDR mean: 9.8%  std: 16.4%\n"
     ]
    },
    {
     "name": "stdout",
     "output_type": "stream",
     "text": [
      "[[0.85244298 0.87611111]\n",
      " [0.86397767 0.88690406]\n",
      " [0.776      0.7997    ]]\n",
      "rec time now 3 dataset now: Syn6\n"
     ]
    },
    {
     "name": "stderr",
     "output_type": "stream",
     "text": [
      "TPR mean: 99.9%  std: 2.2%\n",
      "FDR mean: 9.8%  std: 16.4%\n",
      "Epoch:      0, d_loss (Acc)): 0.429, v_loss (Acc): 0.409, g_loss: -0.0564\n"
     ]
    },
    {
     "name": "stdout",
     "output_type": "stream",
     "text": [
      "[[0.85244298 0.87610974]\n",
      " [0.86397767 0.88689644]\n",
      " [0.776      0.7997    ]]\n",
      "now at training epoch number 2200 hyp-params: lamda 0.1320 prior 0.2800\n",
      "rec time now 0 dataset now: Syn6\n"
     ]
    },
    {
     "name": "stderr",
     "output_type": "stream",
     "text": [
      "TPR mean: 99.8%  std: 2.8%\n",
      "FDR mean: 10.0%  std: 16.4%\n"
     ]
    },
    {
     "name": "stdout",
     "output_type": "stream",
     "text": [
      "[[0.85308065 0.87735374]\n",
      " [0.86421712 0.88674835]\n",
      " [0.7772     0.8012    ]]\n",
      "rec time now 1 dataset now: Syn6\n"
     ]
    },
    {
     "name": "stderr",
     "output_type": "stream",
     "text": [
      "TPR mean: 99.8%  std: 2.9%\n",
      "FDR mean: 9.2%  std: 16.1%\n"
     ]
    },
    {
     "name": "stdout",
     "output_type": "stream",
     "text": [
      "[[0.85308065 0.87788655]\n",
      " [0.86421712 0.88746977]\n",
      " [0.7772     0.8005    ]]\n",
      "rec time now 2 dataset now: Syn6\n"
     ]
    },
    {
     "name": "stderr",
     "output_type": "stream",
     "text": [
      "TPR mean: 99.8%  std: 2.9%\n",
      "FDR mean: 9.2%  std: 16.1%\n"
     ]
    },
    {
     "name": "stdout",
     "output_type": "stream",
     "text": [
      "[[0.85308065 0.87802466]\n",
      " [0.86421712 0.88772353]\n",
      " [0.7772     0.8003    ]]\n",
      "rec time now 3 dataset now: Syn6\n"
     ]
    },
    {
     "name": "stderr",
     "output_type": "stream",
     "text": [
      "TPR mean: 99.8%  std: 2.9%\n",
      "FDR mean: 9.2%  std: 16.1%\n",
      "Epoch:      0, d_loss (Acc)): 0.432, v_loss (Acc): 0.415, g_loss: +0.0370\n"
     ]
    },
    {
     "name": "stdout",
     "output_type": "stream",
     "text": [
      "[[0.85308065 0.87800898]\n",
      " [0.86421712 0.88771085]\n",
      " [0.7772     0.8003    ]]\n",
      "now at training epoch number 2300 hyp-params: lamda 0.1380 prior 0.2700\n",
      "rec time now 0 dataset now: Syn6\n"
     ]
    },
    {
     "name": "stderr",
     "output_type": "stream",
     "text": [
      "TPR mean: 99.8%  std: 2.9%\n",
      "FDR mean: 9.5%  std: 16.1%\n"
     ]
    },
    {
     "name": "stdout",
     "output_type": "stream",
     "text": [
      "[[0.85439903 0.88065367]\n",
      " [0.86641517 0.89122509]\n",
      " [0.7782     0.8045    ]]\n",
      "rec time now 1 dataset now: Syn6\n"
     ]
    },
    {
     "name": "stderr",
     "output_type": "stream",
     "text": [
      "TPR mean: 99.8%  std: 3.0%\n",
      "FDR mean: 8.8%  std: 15.9%\n"
     ]
    },
    {
     "name": "stdout",
     "output_type": "stream",
     "text": [
      "[[0.85439903 0.88085647]\n",
      " [0.86641517 0.8914181 ]\n",
      " [0.7782     0.8041    ]]\n",
      "rec time now 2 dataset now: Syn6\n"
     ]
    },
    {
     "name": "stderr",
     "output_type": "stream",
     "text": [
      "TPR mean: 99.8%  std: 3.0%\n",
      "FDR mean: 8.8%  std: 15.8%\n"
     ]
    },
    {
     "name": "stdout",
     "output_type": "stream",
     "text": [
      "[[0.85439903 0.88095272]\n",
      " [0.86641517 0.89167642]\n",
      " [0.7782     0.804     ]]\n",
      "rec time now 3 dataset now: Syn6\n"
     ]
    },
    {
     "name": "stderr",
     "output_type": "stream",
     "text": [
      "TPR mean: 99.8%  std: 3.0%\n",
      "FDR mean: 8.8%  std: 15.8%\n",
      "Epoch:      0, d_loss (Acc)): 0.443, v_loss (Acc): 0.434, g_loss: +0.0010\n"
     ]
    },
    {
     "name": "stdout",
     "output_type": "stream",
     "text": [
      "[[0.85439903 0.88093025]\n",
      " [0.86641517 0.89165372]\n",
      " [0.7782     0.8041    ]]\n",
      "now at training epoch number 2400 hyp-params: lamda 0.1440 prior 0.2600\n",
      "rec time now 0 dataset now: Syn6\n"
     ]
    },
    {
     "name": "stderr",
     "output_type": "stream",
     "text": [
      "TPR mean: 99.8%  std: 2.5%\n",
      "FDR mean: 9.0%  std: 15.8%\n"
     ]
    },
    {
     "name": "stdout",
     "output_type": "stream",
     "text": [
      "[[0.85134237 0.87915677]\n",
      " [0.86305458 0.89083193]\n",
      " [0.7752     0.8035    ]]\n",
      "rec time now 1 dataset now: Syn6\n"
     ]
    },
    {
     "name": "stderr",
     "output_type": "stream",
     "text": [
      "TPR mean: 99.8%  std: 2.7%\n",
      "FDR mean: 8.2%  std: 15.4%\n"
     ]
    },
    {
     "name": "stdout",
     "output_type": "stream",
     "text": [
      "[[0.85134237 0.87993678]\n",
      " [0.86305458 0.89147112]\n",
      " [0.7752     0.8029    ]]\n",
      "rec time now 2 dataset now: Syn6\n"
     ]
    },
    {
     "name": "stderr",
     "output_type": "stream",
     "text": [
      "TPR mean: 99.8%  std: 2.7%\n",
      "FDR mean: 8.2%  std: 15.4%\n"
     ]
    },
    {
     "name": "stdout",
     "output_type": "stream",
     "text": [
      "[[0.85134237 0.87995673]\n",
      " [0.86305458 0.89154058]\n",
      " [0.7752     0.8027    ]]\n",
      "rec time now 3 dataset now: Syn6\n"
     ]
    },
    {
     "name": "stderr",
     "output_type": "stream",
     "text": [
      "TPR mean: 99.8%  std: 2.7%\n",
      "FDR mean: 8.2%  std: 15.4%\n",
      "Epoch:      0, d_loss (Acc)): 0.403, v_loss (Acc): 0.411, g_loss: +0.0969\n"
     ]
    },
    {
     "name": "stdout",
     "output_type": "stream",
     "text": [
      "[[0.85134237 0.87996286]\n",
      " [0.86305458 0.89153013]\n",
      " [0.7752     0.8029    ]]\n",
      "now at training epoch number 2500 hyp-params: lamda 0.1500 prior 0.2500\n",
      "rec time now 0 dataset now: Syn6\n"
     ]
    },
    {
     "name": "stderr",
     "output_type": "stream",
     "text": [
      "TPR mean: 99.8%  std: 2.6%\n",
      "FDR mean: 8.5%  std: 15.4%\n"
     ]
    },
    {
     "name": "stdout",
     "output_type": "stream",
     "text": [
      "[[0.85322829 0.88069466]\n",
      " [0.86470439 0.8898071 ]\n",
      " [0.7755     0.801     ]]\n",
      "rec time now 1 dataset now: Syn6\n"
     ]
    },
    {
     "name": "stderr",
     "output_type": "stream",
     "text": [
      "TPR mean: 99.8%  std: 2.7%\n",
      "FDR mean: 7.8%  std: 15.0%\n"
     ]
    },
    {
     "name": "stdout",
     "output_type": "stream",
     "text": [
      "[[0.85322829 0.88084633]\n",
      " [0.86470439 0.89003362]\n",
      " [0.7755     0.8012    ]]\n",
      "rec time now 2 dataset now: Syn6\n"
     ]
    },
    {
     "name": "stderr",
     "output_type": "stream",
     "text": [
      "TPR mean: 99.8%  std: 2.7%\n",
      "FDR mean: 7.8%  std: 15.0%\n"
     ]
    },
    {
     "name": "stdout",
     "output_type": "stream",
     "text": [
      "[[0.85322829 0.88089371]\n",
      " [0.86470439 0.89009161]\n",
      " [0.7755     0.8014    ]]\n",
      "rec time now 3 dataset now: Syn6\n"
     ]
    },
    {
     "name": "stderr",
     "output_type": "stream",
     "text": [
      "TPR mean: 99.8%  std: 2.7%\n",
      "FDR mean: 7.8%  std: 15.0%\n",
      "Epoch:      0, d_loss (Acc)): 0.406, v_loss (Acc): 0.404, g_loss: +0.0368\n"
     ]
    },
    {
     "name": "stdout",
     "output_type": "stream",
     "text": [
      "[[0.85322829 0.88089212]\n",
      " [0.86470439 0.89009045]\n",
      " [0.7755     0.8014    ]]\n",
      "now at training epoch number 2600 hyp-params: lamda 0.1560 prior 0.2400\n",
      "rec time now 0 dataset now: Syn6\n"
     ]
    },
    {
     "name": "stderr",
     "output_type": "stream",
     "text": [
      "TPR mean: 99.7%  std: 3.1%\n",
      "FDR mean: 8.1%  std: 15.2%\n"
     ]
    },
    {
     "name": "stdout",
     "output_type": "stream",
     "text": [
      "[[0.85404766 0.88341966]\n",
      " [0.867236   0.89385055]\n",
      " [0.7759     0.8042    ]]\n",
      "rec time now 1 dataset now: Syn6\n"
     ]
    },
    {
     "name": "stderr",
     "output_type": "stream",
     "text": [
      "TPR mean: 99.7%  std: 3.3%\n",
      "FDR mean: 7.4%  std: 14.8%\n"
     ]
    },
    {
     "name": "stdout",
     "output_type": "stream",
     "text": [
      "[[0.85404766 0.88376908]\n",
      " [0.867236   0.89415118]\n",
      " [0.7759     0.8046    ]]\n",
      "rec time now 2 dataset now: Syn6\n"
     ]
    },
    {
     "name": "stderr",
     "output_type": "stream",
     "text": [
      "TPR mean: 99.7%  std: 3.4%\n",
      "FDR mean: 7.4%  std: 14.8%\n"
     ]
    },
    {
     "name": "stdout",
     "output_type": "stream",
     "text": [
      "[[0.85404766 0.88382535]\n",
      " [0.867236   0.89431564]\n",
      " [0.7759     0.8047    ]]\n",
      "rec time now 3 dataset now: Syn6\n"
     ]
    },
    {
     "name": "stderr",
     "output_type": "stream",
     "text": [
      "TPR mean: 99.7%  std: 3.4%\n",
      "FDR mean: 7.4%  std: 14.8%\n",
      "Epoch:      0, d_loss (Acc)): 0.391, v_loss (Acc): 0.389, g_loss: +0.0007\n"
     ]
    },
    {
     "name": "stdout",
     "output_type": "stream",
     "text": [
      "[[0.85404766 0.88382631]\n",
      " [0.867236   0.8943187 ]\n",
      " [0.7759     0.8047    ]]\n",
      "now at training epoch number 2700 hyp-params: lamda 0.1620 prior 0.2300\n",
      "rec time now 0 dataset now: Syn6\n"
     ]
    },
    {
     "name": "stderr",
     "output_type": "stream",
     "text": [
      "TPR mean: 99.7%  std: 3.0%\n",
      "FDR mean: 7.6%  std: 14.8%\n"
     ]
    },
    {
     "name": "stdout",
     "output_type": "stream",
     "text": [
      "[[0.85438726 0.88336525]\n",
      " [0.86676112 0.89384998]\n",
      " [0.7791     0.8021    ]]\n",
      "rec time now 1 dataset now: Syn6\n"
     ]
    },
    {
     "name": "stderr",
     "output_type": "stream",
     "text": [
      "TPR mean: 99.7%  std: 3.2%\n",
      "FDR mean: 6.9%  std: 14.4%\n"
     ]
    },
    {
     "name": "stdout",
     "output_type": "stream",
     "text": [
      "[[0.85438726 0.88383339]\n",
      " [0.86676112 0.89432669]\n",
      " [0.7791     0.8021    ]]\n",
      "rec time now 2 dataset now: Syn6\n"
     ]
    },
    {
     "name": "stderr",
     "output_type": "stream",
     "text": [
      "TPR mean: 99.7%  std: 3.2%\n",
      "FDR mean: 6.9%  std: 14.3%\n"
     ]
    },
    {
     "name": "stdout",
     "output_type": "stream",
     "text": [
      "[[0.85438726 0.88389907]\n",
      " [0.86676112 0.89447499]\n",
      " [0.7791     0.8022    ]]\n",
      "rec time now 3 dataset now: Syn6\n"
     ]
    },
    {
     "name": "stderr",
     "output_type": "stream",
     "text": [
      "TPR mean: 99.7%  std: 3.2%\n",
      "FDR mean: 6.9%  std: 14.3%\n",
      "Epoch:      0, d_loss (Acc)): 0.416, v_loss (Acc): 0.415, g_loss: +0.0719\n"
     ]
    },
    {
     "name": "stdout",
     "output_type": "stream",
     "text": [
      "[[0.85438726 0.88389907]\n",
      " [0.86676112 0.89447499]\n",
      " [0.7791     0.8022    ]]\n",
      "now at training epoch number 2800 hyp-params: lamda 0.1680 prior 0.2200\n",
      "rec time now 0 dataset now: Syn6\n"
     ]
    },
    {
     "name": "stderr",
     "output_type": "stream",
     "text": [
      "TPR mean: 99.7%  std: 3.3%\n",
      "FDR mean: 7.3%  std: 14.6%\n"
     ]
    },
    {
     "name": "stdout",
     "output_type": "stream",
     "text": [
      "[[0.85473188 0.88287311]\n",
      " [0.86662621 0.89186455]\n",
      " [0.7769     0.8032    ]]\n",
      "rec time now 1 dataset now: Syn6\n"
     ]
    },
    {
     "name": "stderr",
     "output_type": "stream",
     "text": [
      "TPR mean: 99.7%  std: 3.5%\n",
      "FDR mean: 6.6%  std: 14.2%\n"
     ]
    },
    {
     "name": "stdout",
     "output_type": "stream",
     "text": [
      "[[0.85473188 0.88283252]\n",
      " [0.86662621 0.89185479]\n",
      " [0.7769     0.8023    ]]\n",
      "rec time now 2 dataset now: Syn6\n"
     ]
    },
    {
     "name": "stderr",
     "output_type": "stream",
     "text": [
      "TPR mean: 99.7%  std: 3.6%\n",
      "FDR mean: 6.6%  std: 14.2%\n"
     ]
    },
    {
     "name": "stdout",
     "output_type": "stream",
     "text": [
      "[[0.85473188 0.88281924]\n",
      " [0.86662621 0.89192276]\n",
      " [0.7769     0.802     ]]\n",
      "rec time now 3 dataset now: Syn6\n"
     ]
    },
    {
     "name": "stderr",
     "output_type": "stream",
     "text": [
      "TPR mean: 99.7%  std: 3.6%\n",
      "FDR mean: 6.6%  std: 14.2%\n",
      "Epoch:      0, d_loss (Acc)): 0.416, v_loss (Acc): 0.410, g_loss: +0.0424\n"
     ]
    },
    {
     "name": "stdout",
     "output_type": "stream",
     "text": [
      "[[0.85473188 0.88281924]\n",
      " [0.86662621 0.89192276]\n",
      " [0.7769     0.802     ]]\n",
      "now at training epoch number 2900 hyp-params: lamda 0.1740 prior 0.2100\n",
      "rec time now 0 dataset now: Syn6\n"
     ]
    },
    {
     "name": "stderr",
     "output_type": "stream",
     "text": [
      "TPR mean: 99.7%  std: 3.4%\n",
      "FDR mean: 6.7%  std: 14.0%\n"
     ]
    },
    {
     "name": "stdout",
     "output_type": "stream",
     "text": [
      "[[0.85350653 0.88365026]\n",
      " [0.86481303 0.89390177]\n",
      " [0.7746     0.8011    ]]\n",
      "rec time now 1 dataset now: Syn6\n"
     ]
    },
    {
     "name": "stderr",
     "output_type": "stream",
     "text": [
      "TPR mean: 99.7%  std: 3.7%\n",
      "FDR mean: 6.1%  std: 13.6%\n"
     ]
    },
    {
     "name": "stdout",
     "output_type": "stream",
     "text": [
      "[[0.85350653 0.88371882]\n",
      " [0.86481303 0.8935042 ]\n",
      " [0.7746     0.8018    ]]\n",
      "rec time now 2 dataset now: Syn6\n"
     ]
    },
    {
     "name": "stderr",
     "output_type": "stream",
     "text": [
      "TPR mean: 99.7%  std: 3.7%\n",
      "FDR mean: 6.1%  std: 13.6%\n"
     ]
    },
    {
     "name": "stdout",
     "output_type": "stream",
     "text": [
      "[[0.85350653 0.88383178]\n",
      " [0.86481303 0.8936678 ]\n",
      " [0.7746     0.8016    ]]\n",
      "rec time now 3 dataset now: Syn6\n"
     ]
    },
    {
     "name": "stderr",
     "output_type": "stream",
     "text": [
      "TPR mean: 99.7%  std: 3.7%\n",
      "FDR mean: 6.1%  std: 13.6%\n",
      "Epoch:      0, d_loss (Acc)): 0.408, v_loss (Acc): 0.393, g_loss: +0.0092\n"
     ]
    },
    {
     "name": "stdout",
     "output_type": "stream",
     "text": [
      "[[0.85350653 0.8838374 ]\n",
      " [0.86481303 0.89367234]\n",
      " [0.7746     0.8016    ]]\n",
      "now at training epoch number 3000 hyp-params: lamda 0.1800 prior 0.2000\n",
      "rec time now 0 dataset now: Syn6\n"
     ]
    },
    {
     "name": "stderr",
     "output_type": "stream",
     "text": [
      "TPR mean: 99.7%  std: 3.1%\n",
      "FDR mean: 6.2%  std: 13.6%\n"
     ]
    },
    {
     "name": "stdout",
     "output_type": "stream",
     "text": [
      "[[0.85553781 0.88589706]\n",
      " [0.86628549 0.89471572]\n",
      " [0.7797     0.8045    ]]\n",
      "rec time now 1 dataset now: Syn6\n"
     ]
    },
    {
     "name": "stderr",
     "output_type": "stream",
     "text": [
      "TPR mean: 99.7%  std: 3.3%\n",
      "FDR mean: 5.7%  std: 13.2%\n"
     ]
    },
    {
     "name": "stdout",
     "output_type": "stream",
     "text": [
      "[[0.85553781 0.88607314]\n",
      " [0.86628549 0.89449364]\n",
      " [0.7797     0.8037    ]]\n",
      "rec time now 2 dataset now: Syn6\n"
     ]
    },
    {
     "name": "stderr",
     "output_type": "stream",
     "text": [
      "TPR mean: 99.7%  std: 3.4%\n",
      "FDR mean: 5.7%  std: 13.2%\n"
     ]
    },
    {
     "name": "stdout",
     "output_type": "stream",
     "text": [
      "[[0.85553781 0.88621488]\n",
      " [0.86628549 0.89468483]\n",
      " [0.7797     0.8037    ]]\n",
      "rec time now 3 dataset now: Syn6\n"
     ]
    },
    {
     "name": "stderr",
     "output_type": "stream",
     "text": [
      "TPR mean: 99.7%  std: 3.4%\n",
      "FDR mean: 5.7%  std: 13.2%\n",
      "Epoch:      0, d_loss (Acc)): 0.407, v_loss (Acc): 0.399, g_loss: +0.0241\n"
     ]
    },
    {
     "name": "stdout",
     "output_type": "stream",
     "text": [
      "[[0.85553781 0.88621488]\n",
      " [0.86628549 0.89468483]\n",
      " [0.7797     0.8037    ]]\n",
      "now at training epoch number 3100 hyp-params: lamda 0.1860 prior 0.1900\n",
      "rec time now 0 dataset now: Syn6\n"
     ]
    },
    {
     "name": "stderr",
     "output_type": "stream",
     "text": [
      "TPR mean: 99.7%  std: 3.0%\n",
      "FDR mean: 5.7%  std: 13.1%\n"
     ]
    },
    {
     "name": "stdout",
     "output_type": "stream",
     "text": [
      "[[0.85467447 0.88311894]\n",
      " [0.86539657 0.89265945]\n",
      " [0.7769     0.8032    ]]\n",
      "rec time now 1 dataset now: Syn6\n"
     ]
    },
    {
     "name": "stderr",
     "output_type": "stream",
     "text": [
      "TPR mean: 99.7%  std: 3.2%\n",
      "FDR mean: 5.1%  std: 12.6%\n"
     ]
    },
    {
     "name": "stdout",
     "output_type": "stream",
     "text": [
      "[[0.85467447 0.88420135]\n",
      " [0.86539657 0.89348851]\n",
      " [0.7769     0.8037    ]]\n",
      "rec time now 2 dataset now: Syn6\n"
     ]
    },
    {
     "name": "stderr",
     "output_type": "stream",
     "text": [
      "TPR mean: 99.7%  std: 3.3%\n",
      "FDR mean: 5.1%  std: 12.6%\n"
     ]
    },
    {
     "name": "stdout",
     "output_type": "stream",
     "text": [
      "[[0.85467447 0.88439552]\n",
      " [0.86539657 0.89367367]\n",
      " [0.7769     0.8039    ]]\n",
      "rec time now 3 dataset now: Syn6\n"
     ]
    },
    {
     "name": "stderr",
     "output_type": "stream",
     "text": [
      "TPR mean: 99.7%  std: 3.3%\n",
      "FDR mean: 5.1%  std: 12.6%\n",
      "Epoch:      0, d_loss (Acc)): 0.408, v_loss (Acc): 0.418, g_loss: +0.1481\n"
     ]
    },
    {
     "name": "stdout",
     "output_type": "stream",
     "text": [
      "[[0.85467447 0.88439814]\n",
      " [0.86539657 0.89367902]\n",
      " [0.7769     0.8039    ]]\n",
      "now at training epoch number 3200 hyp-params: lamda 0.1920 prior 0.1800\n",
      "rec time now 0 dataset now: Syn6\n"
     ]
    },
    {
     "name": "stderr",
     "output_type": "stream",
     "text": [
      "TPR mean: 99.7%  std: 3.3%\n",
      "FDR mean: 5.4%  std: 12.8%\n"
     ]
    },
    {
     "name": "stdout",
     "output_type": "stream",
     "text": [
      "[[0.85596254 0.88364961]\n",
      " [0.86800517 0.89264342]\n",
      " [0.7784     0.8039    ]]\n",
      "rec time now 1 dataset now: Syn6\n"
     ]
    },
    {
     "name": "stderr",
     "output_type": "stream",
     "text": [
      "TPR mean: 99.7%  std: 3.6%\n",
      "FDR mean: 4.8%  std: 12.4%\n"
     ]
    },
    {
     "name": "stdout",
     "output_type": "stream",
     "text": [
      "[[0.85596254 0.88412962]\n",
      " [0.86800517 0.89304086]\n",
      " [0.7784     0.8045    ]]\n",
      "rec time now 2 dataset now: Syn6\n"
     ]
    },
    {
     "name": "stderr",
     "output_type": "stream",
     "text": [
      "TPR mean: 99.7%  std: 3.6%\n",
      "FDR mean: 4.8%  std: 12.4%\n"
     ]
    },
    {
     "name": "stdout",
     "output_type": "stream",
     "text": [
      "[[0.85596254 0.88422823]\n",
      " [0.86800517 0.89314103]\n",
      " [0.7784     0.8045    ]]\n",
      "rec time now 3 dataset now: Syn6\n"
     ]
    },
    {
     "name": "stderr",
     "output_type": "stream",
     "text": [
      "TPR mean: 99.7%  std: 3.6%\n",
      "FDR mean: 4.8%  std: 12.4%\n",
      "Epoch:      0, d_loss (Acc)): 0.418, v_loss (Acc): 0.392, g_loss: -0.0163\n"
     ]
    },
    {
     "name": "stdout",
     "output_type": "stream",
     "text": [
      "[[0.85596254 0.88422861]\n",
      " [0.86800517 0.8931428 ]\n",
      " [0.7784     0.8045    ]]\n",
      "now at training epoch number 3300 hyp-params: lamda 0.1980 prior 0.1700\n",
      "rec time now 0 dataset now: Syn6\n"
     ]
    },
    {
     "name": "stderr",
     "output_type": "stream",
     "text": [
      "TPR mean: 99.7%  std: 3.2%\n",
      "FDR mean: 5.0%  std: 12.4%\n"
     ]
    },
    {
     "name": "stdout",
     "output_type": "stream",
     "text": [
      "[[0.85481022 0.88619781]\n",
      " [0.86734975 0.89608054]\n",
      " [0.778      0.8047    ]]\n",
      "rec time now 1 dataset now: Syn6\n"
     ]
    },
    {
     "name": "stderr",
     "output_type": "stream",
     "text": [
      "TPR mean: 99.7%  std: 3.5%\n",
      "FDR mean: 4.4%  std: 11.9%\n"
     ]
    },
    {
     "name": "stdout",
     "output_type": "stream",
     "text": [
      "[[0.85481022 0.88744678]\n",
      " [0.86734975 0.89708264]\n",
      " [0.778      0.8065    ]]\n",
      "rec time now 2 dataset now: Syn6\n"
     ]
    },
    {
     "name": "stderr",
     "output_type": "stream",
     "text": [
      "TPR mean: 99.7%  std: 3.5%\n",
      "FDR mean: 4.4%  std: 11.8%\n"
     ]
    },
    {
     "name": "stdout",
     "output_type": "stream",
     "text": [
      "[[0.85481022 0.88739166]\n",
      " [0.86734975 0.89704719]\n",
      " [0.778      0.8065    ]]\n",
      "rec time now 3 dataset now: Syn6\n"
     ]
    },
    {
     "name": "stderr",
     "output_type": "stream",
     "text": [
      "TPR mean: 99.7%  std: 3.5%\n",
      "FDR mean: 4.4%  std: 11.8%\n",
      "Epoch:      0, d_loss (Acc)): 0.408, v_loss (Acc): 0.399, g_loss: +0.0464\n"
     ]
    },
    {
     "name": "stdout",
     "output_type": "stream",
     "text": [
      "[[0.85481022 0.88738993]\n",
      " [0.86734975 0.89704696]\n",
      " [0.778      0.8065    ]]\n",
      "now at training epoch number 3400 hyp-params: lamda 0.2040 prior 0.1600\n",
      "rec time now 0 dataset now: Syn6\n"
     ]
    },
    {
     "name": "stderr",
     "output_type": "stream",
     "text": [
      "TPR mean: 99.7%  std: 2.8%\n",
      "FDR mean: 4.5%  std: 11.8%\n"
     ]
    },
    {
     "name": "stdout",
     "output_type": "stream",
     "text": [
      "[[0.85462342 0.8865887 ]\n",
      " [0.86771052 0.89643968]\n",
      " [0.7751     0.806     ]]\n",
      "rec time now 1 dataset now: Syn6\n"
     ]
    },
    {
     "name": "stderr",
     "output_type": "stream",
     "text": [
      "TPR mean: 99.7%  std: 3.1%\n",
      "FDR mean: 4.0%  std: 11.3%\n"
     ]
    },
    {
     "name": "stdout",
     "output_type": "stream",
     "text": [
      "[[0.85462342 0.88781432]\n",
      " [0.86771052 0.89754496]\n",
      " [0.7751     0.8076    ]]\n",
      "rec time now 2 dataset now: Syn6\n"
     ]
    },
    {
     "name": "stderr",
     "output_type": "stream",
     "text": [
      "TPR mean: 99.7%  std: 3.1%\n",
      "FDR mean: 3.9%  std: 11.3%\n"
     ]
    },
    {
     "name": "stdout",
     "output_type": "stream",
     "text": [
      "[[0.85462342 0.88793784]\n",
      " [0.86771052 0.89759215]\n",
      " [0.7751     0.8077    ]]\n",
      "rec time now 3 dataset now: Syn6\n"
     ]
    },
    {
     "name": "stderr",
     "output_type": "stream",
     "text": [
      "TPR mean: 99.7%  std: 3.1%\n",
      "FDR mean: 3.9%  std: 11.3%\n",
      "Epoch:      0, d_loss (Acc)): 0.409, v_loss (Acc): 0.390, g_loss: +0.0175\n"
     ]
    },
    {
     "name": "stdout",
     "output_type": "stream",
     "text": [
      "[[0.85462342 0.88793784]\n",
      " [0.86771052 0.89759215]\n",
      " [0.7751     0.8077    ]]\n",
      "now at training epoch number 3500 hyp-params: lamda 0.2100 prior 0.1500\n",
      "rec time now 0 dataset now: Syn6\n"
     ]
    },
    {
     "name": "stderr",
     "output_type": "stream",
     "text": [
      "TPR mean: 99.6%  std: 3.7%\n",
      "FDR mean: 4.3%  std: 11.7%\n"
     ]
    },
    {
     "name": "stdout",
     "output_type": "stream",
     "text": [
      "[[0.85501613 0.88588057]\n",
      " [0.86654035 0.89483259]\n",
      " [0.7778     0.8037    ]]\n",
      "rec time now 1 dataset now: Syn6\n"
     ]
    },
    {
     "name": "stderr",
     "output_type": "stream",
     "text": [
      "TPR mean: 99.6%  std: 4.0%\n",
      "FDR mean: 3.8%  std: 11.3%\n"
     ]
    },
    {
     "name": "stdout",
     "output_type": "stream",
     "text": [
      "[[0.85501613 0.88685063]\n",
      " [0.86654035 0.89538068]\n",
      " [0.7778     0.8057    ]]\n",
      "rec time now 2 dataset now: Syn6\n"
     ]
    },
    {
     "name": "stderr",
     "output_type": "stream",
     "text": [
      "TPR mean: 99.6%  std: 4.1%\n",
      "FDR mean: 3.8%  std: 11.3%\n"
     ]
    },
    {
     "name": "stdout",
     "output_type": "stream",
     "text": [
      "[[0.85501613 0.88693205]\n",
      " [0.86654035 0.89547602]\n",
      " [0.7778     0.8059    ]]\n",
      "rec time now 3 dataset now: Syn6\n"
     ]
    },
    {
     "name": "stderr",
     "output_type": "stream",
     "text": [
      "TPR mean: 99.6%  std: 4.1%\n",
      "FDR mean: 3.8%  std: 11.3%\n",
      "Epoch:      0, d_loss (Acc)): 0.410, v_loss (Acc): 0.393, g_loss: +0.0413\n"
     ]
    },
    {
     "name": "stdout",
     "output_type": "stream",
     "text": [
      "[[0.85501613 0.88692649]\n",
      " [0.86654035 0.89546956]\n",
      " [0.7778     0.8059    ]]\n",
      "now at training epoch number 3600 hyp-params: lamda 0.2160 prior 0.1400\n",
      "rec time now 0 dataset now: Syn6\n"
     ]
    },
    {
     "name": "stderr",
     "output_type": "stream",
     "text": [
      "TPR mean: 99.6%  std: 3.5%\n",
      "FDR mean: 3.9%  std: 11.3%\n"
     ]
    },
    {
     "name": "stdout",
     "output_type": "stream",
     "text": [
      "[[0.85624854 0.88700654]\n",
      " [0.86846082 0.8953511 ]\n",
      " [0.7771     0.8062    ]]\n",
      "rec time now 1 dataset now: Syn6\n"
     ]
    },
    {
     "name": "stderr",
     "output_type": "stream",
     "text": [
      "TPR mean: 99.6%  std: 3.8%\n",
      "FDR mean: 3.5%  std: 10.9%\n"
     ]
    },
    {
     "name": "stdout",
     "output_type": "stream",
     "text": [
      "[[0.85624854 0.88799864]\n",
      " [0.86846082 0.89601282]\n",
      " [0.7771     0.8077    ]]\n",
      "rec time now 2 dataset now: Syn6\n"
     ]
    },
    {
     "name": "stderr",
     "output_type": "stream",
     "text": [
      "TPR mean: 99.6%  std: 3.9%\n",
      "FDR mean: 3.5%  std: 10.9%\n"
     ]
    },
    {
     "name": "stdout",
     "output_type": "stream",
     "text": [
      "[[0.85624854 0.88804413]\n",
      " [0.86846082 0.89601715]\n",
      " [0.7771     0.8075    ]]\n",
      "rec time now 3 dataset now: Syn6\n"
     ]
    },
    {
     "name": "stderr",
     "output_type": "stream",
     "text": [
      "TPR mean: 99.6%  std: 3.9%\n",
      "FDR mean: 3.5%  std: 10.9%\n",
      "Epoch:      0, d_loss (Acc)): 0.411, v_loss (Acc): 0.402, g_loss: +0.0399\n"
     ]
    },
    {
     "name": "stdout",
     "output_type": "stream",
     "text": [
      "[[0.85624854 0.88804413]\n",
      " [0.86846082 0.89601715]\n",
      " [0.7771     0.8075    ]]\n",
      "now at training epoch number 3700 hyp-params: lamda 0.2220 prior 0.1300\n",
      "rec time now 0 dataset now: Syn6\n"
     ]
    },
    {
     "name": "stderr",
     "output_type": "stream",
     "text": [
      "TPR mean: 99.6%  std: 3.6%\n",
      "FDR mean: 3.7%  std: 11.1%\n"
     ]
    },
    {
     "name": "stdout",
     "output_type": "stream",
     "text": [
      "[[0.85540666 0.88760295]\n",
      " [0.86689984 0.89519189]\n",
      " [0.7767     0.81      ]]\n",
      "rec time now 1 dataset now: Syn6\n"
     ]
    },
    {
     "name": "stderr",
     "output_type": "stream",
     "text": [
      "TPR mean: 99.6%  std: 3.9%\n",
      "FDR mean: 3.2%  std: 10.7%\n"
     ]
    },
    {
     "name": "stdout",
     "output_type": "stream",
     "text": [
      "[[0.85540666 0.88832994]\n",
      " [0.86689984 0.89563247]\n",
      " [0.7767     0.8107    ]]\n",
      "rec time now 2 dataset now: Syn6\n"
     ]
    },
    {
     "name": "stderr",
     "output_type": "stream",
     "text": [
      "TPR mean: 99.6%  std: 3.9%\n",
      "FDR mean: 3.2%  std: 10.6%\n"
     ]
    },
    {
     "name": "stdout",
     "output_type": "stream",
     "text": [
      "[[0.85540666 0.88840835]\n",
      " [0.86689984 0.89567376]\n",
      " [0.7767     0.8108    ]]\n",
      "rec time now 3 dataset now: Syn6\n"
     ]
    },
    {
     "name": "stderr",
     "output_type": "stream",
     "text": [
      "TPR mean: 99.6%  std: 3.9%\n",
      "FDR mean: 3.2%  std: 10.6%\n",
      "Epoch:      0, d_loss (Acc)): 0.380, v_loss (Acc): 0.365, g_loss: +0.0273\n"
     ]
    },
    {
     "name": "stdout",
     "output_type": "stream",
     "text": [
      "[[0.85540666 0.88837593]\n",
      " [0.86689984 0.89565412]\n",
      " [0.7767     0.8106    ]]\n",
      "now at training epoch number 3800 hyp-params: lamda 0.2280 prior 0.1200\n",
      "rec time now 0 dataset now: Syn6\n"
     ]
    },
    {
     "name": "stderr",
     "output_type": "stream",
     "text": [
      "TPR mean: 99.6%  std: 3.8%\n",
      "FDR mean: 3.4%  std: 10.8%\n"
     ]
    },
    {
     "name": "stdout",
     "output_type": "stream",
     "text": [
      "[[0.8568254  0.88850025]\n",
      " [0.86814549 0.89633847]\n",
      " [0.7785     0.808     ]]\n",
      "rec time now 1 dataset now: Syn6\n"
     ]
    },
    {
     "name": "stderr",
     "output_type": "stream",
     "text": [
      "TPR mean: 99.5%  std: 4.2%\n",
      "FDR mean: 3.0%  std: 10.4%\n"
     ]
    },
    {
     "name": "stdout",
     "output_type": "stream",
     "text": [
      "[[0.8568254  0.88913405]\n",
      " [0.86814549 0.89663935]\n",
      " [0.7785     0.8083    ]]\n",
      "rec time now 2 dataset now: Syn6\n"
     ]
    },
    {
     "name": "stderr",
     "output_type": "stream",
     "text": [
      "TPR mean: 99.5%  std: 4.2%\n",
      "FDR mean: 3.0%  std: 10.4%\n"
     ]
    },
    {
     "name": "stdout",
     "output_type": "stream",
     "text": [
      "[[0.8568254  0.88911763]\n",
      " [0.86814549 0.89663429]\n",
      " [0.7785     0.808     ]]\n",
      "rec time now 3 dataset now: Syn6\n"
     ]
    },
    {
     "name": "stderr",
     "output_type": "stream",
     "text": [
      "TPR mean: 99.5%  std: 4.2%\n",
      "FDR mean: 3.0%  std: 10.4%\n",
      "Epoch:      0, d_loss (Acc)): 0.419, v_loss (Acc): 0.386, g_loss: +0.0416\n"
     ]
    },
    {
     "name": "stdout",
     "output_type": "stream",
     "text": [
      "[[0.8568254  0.88911763]\n",
      " [0.86814549 0.89663429]\n",
      " [0.7785     0.808     ]]\n",
      "now at training epoch number 3900 hyp-params: lamda 0.2340 prior 0.1100\n",
      "rec time now 0 dataset now: Syn6\n"
     ]
    },
    {
     "name": "stderr",
     "output_type": "stream",
     "text": [
      "TPR mean: 99.6%  std: 4.1%\n",
      "FDR mean: 3.2%  std: 10.5%\n"
     ]
    },
    {
     "name": "stdout",
     "output_type": "stream",
     "text": [
      "[[0.85439188 0.88686893]\n",
      " [0.86683654 0.89518775]\n",
      " [0.7783     0.8058    ]]\n",
      "rec time now 1 dataset now: Syn6\n"
     ]
    },
    {
     "name": "stderr",
     "output_type": "stream",
     "text": [
      "TPR mean: 99.5%  std: 4.4%\n",
      "FDR mean: 2.8%  std: 10.1%\n"
     ]
    },
    {
     "name": "stdout",
     "output_type": "stream",
     "text": [
      "[[0.85439188 0.88751355]\n",
      " [0.86683654 0.89540343]\n",
      " [0.7783     0.8056    ]]\n",
      "rec time now 2 dataset now: Syn6\n"
     ]
    },
    {
     "name": "stderr",
     "output_type": "stream",
     "text": [
      "TPR mean: 99.5%  std: 4.5%\n",
      "FDR mean: 2.8%  std: 10.1%\n"
     ]
    },
    {
     "name": "stdout",
     "output_type": "stream",
     "text": [
      "[[0.85439188 0.88751222]\n",
      " [0.86683654 0.89541303]\n",
      " [0.7783     0.8055    ]]\n",
      "rec time now 3 dataset now: Syn6\n"
     ]
    },
    {
     "name": "stderr",
     "output_type": "stream",
     "text": [
      "TPR mean: 99.5%  std: 4.5%\n",
      "FDR mean: 2.8%  std: 10.1%\n",
      "Epoch:      0, d_loss (Acc)): 0.420, v_loss (Acc): 0.399, g_loss: +0.0456\n"
     ]
    },
    {
     "name": "stdout",
     "output_type": "stream",
     "text": [
      "[[0.85439188 0.88755829]\n",
      " [0.86683654 0.89545379]\n",
      " [0.7783     0.8056    ]]\n",
      "now at training epoch number 4000 hyp-params: lamda 0.2400 prior 0.1000\n",
      "rec time now 0 dataset now: Syn6\n"
     ]
    },
    {
     "name": "stderr",
     "output_type": "stream",
     "text": [
      "TPR mean: 99.6%  std: 3.9%\n",
      "FDR mean: 3.0%  std: 10.2%\n"
     ]
    },
    {
     "name": "stdout",
     "output_type": "stream",
     "text": [
      "[[0.85539378 0.88711153]\n",
      " [0.86670517 0.89478719]\n",
      " [0.7766     0.8051    ]]\n",
      "rec time now 1 dataset now: Syn6\n"
     ]
    },
    {
     "name": "stderr",
     "output_type": "stream",
     "text": [
      "TPR mean: 99.6%  std: 4.3%\n",
      "FDR mean: 2.6%  std: 9.8%\n"
     ]
    },
    {
     "name": "stdout",
     "output_type": "stream",
     "text": [
      "[[0.85539378 0.88754116]\n",
      " [0.86670517 0.89518611]\n",
      " [0.7766     0.8056    ]]\n",
      "rec time now 2 dataset now: Syn6\n"
     ]
    },
    {
     "name": "stderr",
     "output_type": "stream",
     "text": [
      "TPR mean: 99.6%  std: 4.3%\n",
      "FDR mean: 2.5%  std: 9.7%\n"
     ]
    },
    {
     "name": "stdout",
     "output_type": "stream",
     "text": [
      "[[0.85539378 0.88778689]\n",
      " [0.86670517 0.8952651 ]\n",
      " [0.7766     0.8054    ]]\n",
      "rec time now 3 dataset now: Syn6\n"
     ]
    },
    {
     "name": "stderr",
     "output_type": "stream",
     "text": [
      "TPR mean: 99.6%  std: 4.3%\n",
      "FDR mean: 2.5%  std: 9.7%\n",
      "Epoch:      0, d_loss (Acc)): 0.426, v_loss (Acc): 0.422, g_loss: +0.0791\n"
     ]
    },
    {
     "name": "stdout",
     "output_type": "stream",
     "text": [
      "[[0.85539378 0.88778689]\n",
      " [0.86670517 0.8952651 ]\n",
      " [0.7766     0.8054    ]]\n",
      "now at training epoch number 4100 hyp-params: lamda 0.2460 prior 0.0900\n",
      "rec time now 0 dataset now: Syn6\n"
     ]
    },
    {
     "name": "stderr",
     "output_type": "stream",
     "text": [
      "TPR mean: 99.6%  std: 3.8%\n",
      "FDR mean: 2.7%  std: 9.8%\n"
     ]
    },
    {
     "name": "stdout",
     "output_type": "stream",
     "text": [
      "[[0.85352833 0.88918236]\n",
      " [0.86590623 0.89780789]\n",
      " [0.7726     0.8087    ]]\n",
      "rec time now 1 dataset now: Syn6\n"
     ]
    },
    {
     "name": "stderr",
     "output_type": "stream",
     "text": [
      "TPR mean: 99.6%  std: 4.1%\n",
      "FDR mean: 2.3%  std: 9.3%\n"
     ]
    },
    {
     "name": "stdout",
     "output_type": "stream",
     "text": [
      "[[0.85352833 0.88995854]\n",
      " [0.86590623 0.89842671]\n",
      " [0.7726     0.8096    ]]\n",
      "rec time now 2 dataset now: Syn6\n"
     ]
    },
    {
     "name": "stderr",
     "output_type": "stream",
     "text": [
      "TPR mean: 99.6%  std: 4.1%\n",
      "FDR mean: 2.3%  std: 9.2%\n"
     ]
    },
    {
     "name": "stdout",
     "output_type": "stream",
     "text": [
      "[[0.85352833 0.88991348]\n",
      " [0.86590623 0.89836443]\n",
      " [0.7726     0.8095    ]]\n",
      "rec time now 3 dataset now: Syn6\n"
     ]
    },
    {
     "name": "stderr",
     "output_type": "stream",
     "text": [
      "TPR mean: 99.6%  std: 4.1%\n",
      "FDR mean: 2.3%  std: 9.2%\n",
      "Epoch:      0, d_loss (Acc)): 0.398, v_loss (Acc): 0.414, g_loss: +0.1353\n"
     ]
    },
    {
     "name": "stdout",
     "output_type": "stream",
     "text": [
      "[[0.85352833 0.88991965]\n",
      " [0.86590623 0.89837014]\n",
      " [0.7726     0.8095    ]]\n",
      "now at training epoch number 4200 hyp-params: lamda 0.2520 prior 0.0800\n",
      "rec time now 0 dataset now: Syn6\n"
     ]
    },
    {
     "name": "stderr",
     "output_type": "stream",
     "text": [
      "TPR mean: 99.6%  std: 3.9%\n",
      "FDR mean: 2.6%  std: 9.8%\n"
     ]
    },
    {
     "name": "stdout",
     "output_type": "stream",
     "text": [
      "[[0.8548501  0.89010316]\n",
      " [0.86674303 0.89854979]\n",
      " [0.7775     0.8104    ]]\n",
      "rec time now 1 dataset now: Syn6\n"
     ]
    },
    {
     "name": "stderr",
     "output_type": "stream",
     "text": [
      "TPR mean: 99.5%  std: 4.2%\n",
      "FDR mean: 2.2%  std: 9.2%\n"
     ]
    },
    {
     "name": "stdout",
     "output_type": "stream",
     "text": [
      "[[0.8548501  0.89097005]\n",
      " [0.86674303 0.89939669]\n",
      " [0.7775     0.8109    ]]\n",
      "rec time now 2 dataset now: Syn6\n"
     ]
    },
    {
     "name": "stderr",
     "output_type": "stream",
     "text": [
      "TPR mean: 99.5%  std: 4.2%\n",
      "FDR mean: 2.2%  std: 9.1%\n"
     ]
    },
    {
     "name": "stdout",
     "output_type": "stream",
     "text": [
      "[[0.8548501  0.89099958]\n",
      " [0.86674303 0.89941153]\n",
      " [0.7775     0.8109    ]]\n",
      "rec time now 3 dataset now: Syn6\n"
     ]
    },
    {
     "name": "stderr",
     "output_type": "stream",
     "text": [
      "TPR mean: 99.5%  std: 4.2%\n",
      "FDR mean: 2.2%  std: 9.1%\n",
      "Epoch:      0, d_loss (Acc)): 0.416, v_loss (Acc): 0.392, g_loss: +0.0932\n"
     ]
    },
    {
     "name": "stdout",
     "output_type": "stream",
     "text": [
      "[[0.8548501  0.89100153]\n",
      " [0.86674303 0.89941325]\n",
      " [0.7775     0.8109    ]]\n",
      "now at training epoch number 4300 hyp-params: lamda 0.2580 prior 0.0700\n",
      "rec time now 0 dataset now: Syn6\n"
     ]
    },
    {
     "name": "stderr",
     "output_type": "stream",
     "text": [
      "TPR mean: 99.6%  std: 3.8%\n",
      "FDR mean: 2.5%  std: 9.5%\n"
     ]
    },
    {
     "name": "stdout",
     "output_type": "stream",
     "text": [
      "[[0.85725501 0.8900981 ]\n",
      " [0.86937244 0.89821507]\n",
      " [0.7775     0.8087    ]]\n",
      "rec time now 1 dataset now: Syn6\n"
     ]
    },
    {
     "name": "stderr",
     "output_type": "stream",
     "text": [
      "TPR mean: 99.5%  std: 4.2%\n",
      "FDR mean: 2.1%  std: 9.1%\n"
     ]
    },
    {
     "name": "stdout",
     "output_type": "stream",
     "text": [
      "[[0.85725501 0.89080377]\n",
      " [0.86937244 0.89872397]\n",
      " [0.7775     0.8095    ]]\n",
      "rec time now 2 dataset now: Syn6\n"
     ]
    },
    {
     "name": "stderr",
     "output_type": "stream",
     "text": [
      "TPR mean: 99.5%  std: 4.3%\n",
      "FDR mean: 2.1%  std: 9.0%\n"
     ]
    },
    {
     "name": "stdout",
     "output_type": "stream",
     "text": [
      "[[0.85725501 0.8910313 ]\n",
      " [0.86937244 0.89881754]\n",
      " [0.7775     0.8096    ]]\n",
      "rec time now 3 dataset now: Syn6\n"
     ]
    },
    {
     "name": "stderr",
     "output_type": "stream",
     "text": [
      "TPR mean: 99.5%  std: 4.3%\n",
      "FDR mean: 2.1%  std: 9.0%\n",
      "Epoch:      0, d_loss (Acc)): 0.392, v_loss (Acc): 0.376, g_loss: +0.0555\n"
     ]
    },
    {
     "name": "stdout",
     "output_type": "stream",
     "text": [
      "[[0.85725501 0.89102102]\n",
      " [0.86937244 0.89879152]\n",
      " [0.7775     0.8096    ]]\n",
      "now at training epoch number 4400 hyp-params: lamda 0.2640 prior 0.0600\n",
      "rec time now 0 dataset now: Syn6\n"
     ]
    },
    {
     "name": "stderr",
     "output_type": "stream",
     "text": [
      "TPR mean: 99.6%  std: 3.5%\n",
      "FDR mean: 2.3%  std: 9.1%\n"
     ]
    },
    {
     "name": "stdout",
     "output_type": "stream",
     "text": [
      "[[0.85473587 0.89147919]\n",
      " [0.86650688 0.89991973]\n",
      " [0.7767     0.8097    ]]\n",
      "rec time now 1 dataset now: Syn6\n"
     ]
    },
    {
     "name": "stderr",
     "output_type": "stream",
     "text": [
      "TPR mean: 99.6%  std: 3.8%\n",
      "FDR mean: 2.0%  std: 8.6%\n"
     ]
    },
    {
     "name": "stdout",
     "output_type": "stream",
     "text": [
      "[[0.85473587 0.89202909]\n",
      " [0.86650688 0.90041263]\n",
      " [0.7767     0.811     ]]\n",
      "rec time now 2 dataset now: Syn6\n"
     ]
    },
    {
     "name": "stderr",
     "output_type": "stream",
     "text": [
      "TPR mean: 99.6%  std: 3.9%\n",
      "FDR mean: 2.0%  std: 8.6%\n"
     ]
    },
    {
     "name": "stdout",
     "output_type": "stream",
     "text": [
      "[[0.85473587 0.89228413]\n",
      " [0.86650688 0.90051086]\n",
      " [0.7767     0.811     ]]\n",
      "rec time now 3 dataset now: Syn6\n"
     ]
    },
    {
     "name": "stderr",
     "output_type": "stream",
     "text": [
      "TPR mean: 99.6%  std: 3.9%\n",
      "FDR mean: 2.0%  std: 8.6%\n",
      "Epoch:      0, d_loss (Acc)): 0.375, v_loss (Acc): 0.365, g_loss: +0.0733\n"
     ]
    },
    {
     "name": "stdout",
     "output_type": "stream",
     "text": [
      "[[0.85473587 0.89228413]\n",
      " [0.86650688 0.90051086]\n",
      " [0.7767     0.811     ]]\n",
      "now at training epoch number 4500 hyp-params: lamda 0.2700 prior 0.0500\n",
      "rec time now 0 dataset now: Syn6\n"
     ]
    },
    {
     "name": "stderr",
     "output_type": "stream",
     "text": [
      "TPR mean: 99.6%  std: 3.8%\n",
      "FDR mean: 2.2%  std: 9.0%\n"
     ]
    },
    {
     "name": "stdout",
     "output_type": "stream",
     "text": [
      "[[0.85735019 0.8916384 ]\n",
      " [0.8691087  0.89987685]\n",
      " [0.7796     0.8101    ]]\n",
      "rec time now 1 dataset now: Syn6\n"
     ]
    },
    {
     "name": "stderr",
     "output_type": "stream",
     "text": [
      "TPR mean: 99.5%  std: 4.2%\n",
      "FDR mean: 1.9%  std: 8.7%\n"
     ]
    },
    {
     "name": "stdout",
     "output_type": "stream",
     "text": [
      "[[0.85735019 0.89262099]\n",
      " [0.8691087  0.90053344]\n",
      " [0.7796     0.811     ]]\n",
      "rec time now 2 dataset now: Syn6\n"
     ]
    },
    {
     "name": "stderr",
     "output_type": "stream",
     "text": [
      "TPR mean: 99.5%  std: 4.3%\n",
      "FDR mean: 1.9%  std: 8.7%\n"
     ]
    },
    {
     "name": "stdout",
     "output_type": "stream",
     "text": [
      "[[0.85735019 0.89278941]\n",
      " [0.8691087  0.900647  ]\n",
      " [0.7796     0.8112    ]]\n",
      "rec time now 3 dataset now: Syn6\n"
     ]
    },
    {
     "name": "stderr",
     "output_type": "stream",
     "text": [
      "TPR mean: 99.5%  std: 4.3%\n",
      "FDR mean: 1.9%  std: 8.7%\n",
      "Epoch:      0, d_loss (Acc)): 0.352, v_loss (Acc): 0.349, g_loss: +0.1261\n"
     ]
    },
    {
     "name": "stdout",
     "output_type": "stream",
     "text": [
      "[[0.85735019 0.89278941]\n",
      " [0.8691087  0.900647  ]\n",
      " [0.7796     0.8112    ]]\n",
      "now at training epoch number 4600 hyp-params: lamda 0.2760 prior 0.0400\n",
      "rec time now 0 dataset now: Syn6\n"
     ]
    },
    {
     "name": "stderr",
     "output_type": "stream",
     "text": [
      "TPR mean: 99.6%  std: 4.2%\n",
      "FDR mean: 2.1%  std: 9.0%\n"
     ]
    },
    {
     "name": "stdout",
     "output_type": "stream",
     "text": [
      "[[0.85315086 0.89248739]\n",
      " [0.86551118 0.90084457]\n",
      " [0.77       0.8123    ]]\n",
      "rec time now 1 dataset now: Syn6\n"
     ]
    },
    {
     "name": "stderr",
     "output_type": "stream",
     "text": [
      "TPR mean: 99.5%  std: 4.5%\n",
      "FDR mean: 1.8%  std: 8.5%\n"
     ]
    },
    {
     "name": "stdout",
     "output_type": "stream",
     "text": [
      "[[0.85315086 0.89318147]\n",
      " [0.86551118 0.90104746]\n",
      " [0.77       0.8128    ]]\n",
      "rec time now 2 dataset now: Syn6\n"
     ]
    },
    {
     "name": "stderr",
     "output_type": "stream",
     "text": [
      "TPR mean: 99.5%  std: 4.5%\n",
      "FDR mean: 1.7%  std: 8.4%\n"
     ]
    },
    {
     "name": "stdout",
     "output_type": "stream",
     "text": [
      "[[0.85315086 0.89333383]\n",
      " [0.86551118 0.90132136]\n",
      " [0.77       0.8127    ]]\n",
      "rec time now 3 dataset now: Syn6\n"
     ]
    },
    {
     "name": "stderr",
     "output_type": "stream",
     "text": [
      "TPR mean: 99.5%  std: 4.5%\n",
      "FDR mean: 1.7%  std: 8.4%\n",
      "Epoch:      0, d_loss (Acc)): 0.395, v_loss (Acc): 0.383, g_loss: +0.1058\n"
     ]
    },
    {
     "name": "stdout",
     "output_type": "stream",
     "text": [
      "[[0.85315086 0.89333383]\n",
      " [0.86551118 0.90132136]\n",
      " [0.77       0.8127    ]]\n",
      "now at training epoch number 4700 hyp-params: lamda 0.2820 prior 0.0300\n",
      "rec time now 0 dataset now: Syn6\n"
     ]
    },
    {
     "name": "stderr",
     "output_type": "stream",
     "text": [
      "TPR mean: 99.5%  std: 4.7%\n",
      "FDR mean: 2.0%  std: 8.9%\n"
     ]
    },
    {
     "name": "stdout",
     "output_type": "stream",
     "text": [
      "[[0.85602887 0.89195355]\n",
      " [0.86713307 0.89929369]\n",
      " [0.7758     0.813     ]]\n",
      "rec time now 1 dataset now: Syn6\n"
     ]
    },
    {
     "name": "stderr",
     "output_type": "stream",
     "text": [
      "TPR mean: 99.4%  std: 5.3%\n",
      "FDR mean: 1.7%  std: 8.6%\n"
     ]
    },
    {
     "name": "stdout",
     "output_type": "stream",
     "text": [
      "[[0.85602887 0.89232393]\n",
      " [0.86713307 0.89933356]\n",
      " [0.7758     0.8129    ]]\n",
      "rec time now 2 dataset now: Syn6\n"
     ]
    },
    {
     "name": "stderr",
     "output_type": "stream",
     "text": [
      "TPR mean: 99.4%  std: 5.3%\n",
      "FDR mean: 1.7%  std: 8.5%\n"
     ]
    },
    {
     "name": "stdout",
     "output_type": "stream",
     "text": [
      "[[0.85602887 0.89235063]\n",
      " [0.86713307 0.8993459 ]\n",
      " [0.7758     0.813     ]]\n",
      "rec time now 3 dataset now: Syn6\n"
     ]
    },
    {
     "name": "stderr",
     "output_type": "stream",
     "text": [
      "TPR mean: 99.4%  std: 5.3%\n",
      "FDR mean: 1.7%  std: 8.5%\n",
      "Epoch:      0, d_loss (Acc)): 0.374, v_loss (Acc): 0.367, g_loss: +0.1230\n"
     ]
    },
    {
     "name": "stdout",
     "output_type": "stream",
     "text": [
      "[[0.85602887 0.89229124]\n",
      " [0.86713307 0.89930847]\n",
      " [0.7758     0.8129    ]]\n",
      "now at training epoch number 4800 hyp-params: lamda 0.2880 prior 0.0200\n",
      "rec time now 0 dataset now: Syn6\n"
     ]
    },
    {
     "name": "stderr",
     "output_type": "stream",
     "text": [
      "TPR mean: 99.5%  std: 4.5%\n",
      "FDR mean: 1.9%  std: 8.7%\n"
     ]
    },
    {
     "name": "stdout",
     "output_type": "stream",
     "text": [
      "[[0.8552967  0.89109654]\n",
      " [0.8677171  0.89924923]\n",
      " [0.7763     0.8102    ]]\n",
      "rec time now 1 dataset now: Syn6\n"
     ]
    },
    {
     "name": "stderr",
     "output_type": "stream",
     "text": [
      "TPR mean: 99.4%  std: 5.1%\n",
      "FDR mean: 1.6%  std: 8.4%\n"
     ]
    },
    {
     "name": "stdout",
     "output_type": "stream",
     "text": [
      "[[0.8552967  0.89192318]\n",
      " [0.8677171  0.89951793]\n",
      " [0.7763     0.8113    ]]\n",
      "rec time now 2 dataset now: Syn6\n"
     ]
    },
    {
     "name": "stderr",
     "output_type": "stream",
     "text": [
      "TPR mean: 99.4%  std: 5.1%\n",
      "FDR mean: 1.6%  std: 8.3%\n"
     ]
    },
    {
     "name": "stdout",
     "output_type": "stream",
     "text": [
      "[[0.8552967  0.89190829]\n",
      " [0.8677171  0.89951473]\n",
      " [0.7763     0.811     ]]\n",
      "rec time now 3 dataset now: Syn6\n"
     ]
    },
    {
     "name": "stderr",
     "output_type": "stream",
     "text": [
      "TPR mean: 99.4%  std: 5.1%\n",
      "FDR mean: 1.6%  std: 8.3%\n",
      "Epoch:      0, d_loss (Acc)): 0.359, v_loss (Acc): 0.341, g_loss: +0.0886\n"
     ]
    },
    {
     "name": "stdout",
     "output_type": "stream",
     "text": [
      "[[0.8552967  0.89191063]\n",
      " [0.8677171  0.89951489]\n",
      " [0.7763     0.811     ]]\n",
      "now at training epoch number 4900 hyp-params: lamda 0.2940 prior 0.0100\n",
      "rec time now 0 dataset now: Syn6\n"
     ]
    },
    {
     "name": "stderr",
     "output_type": "stream",
     "text": [
      "TPR mean: 99.4%  std: 5.0%\n",
      "FDR mean: 1.9%  std: 8.7%\n"
     ]
    },
    {
     "name": "stdout",
     "output_type": "stream",
     "text": [
      "[[0.85646176 0.8912186 ]\n",
      " [0.86893597 0.89926783]\n",
      " [0.7781     0.8105    ]]\n",
      "rec time now 1 dataset now: Syn6\n"
     ]
    },
    {
     "name": "stderr",
     "output_type": "stream",
     "text": [
      "TPR mean: 99.3%  std: 5.7%\n",
      "FDR mean: 1.6%  std: 8.4%\n"
     ]
    },
    {
     "name": "stdout",
     "output_type": "stream",
     "text": [
      "[[0.85646176 0.89159928]\n",
      " [0.86893597 0.89908055]\n",
      " [0.7781     0.8102    ]]\n",
      "rec time now 2 dataset now: Syn6\n"
     ]
    },
    {
     "name": "stderr",
     "output_type": "stream",
     "text": [
      "TPR mean: 99.3%  std: 5.8%\n",
      "FDR mean: 1.6%  std: 8.3%\n"
     ]
    },
    {
     "name": "stdout",
     "output_type": "stream",
     "text": [
      "[[0.85646176 0.89172433]\n",
      " [0.86893597 0.89912458]\n",
      " [0.7781     0.8103    ]]\n",
      "rec time now 3 dataset now: Syn6\n"
     ]
    },
    {
     "name": "stderr",
     "output_type": "stream",
     "text": [
      "TPR mean: 99.3%  std: 5.8%\n",
      "FDR mean: 1.6%  std: 8.3%\n"
     ]
    },
    {
     "name": "stdout",
     "output_type": "stream",
     "text": [
      "[[0.85646176 0.89172433]\n",
      " [0.86893597 0.89912458]\n",
      " [0.7781     0.8103    ]]\n",
      "PyTorch Version: elapsed time for Syn6: 11 feature, 10000 sample: [462.5538 459.184  436.4912 440.736  430.0647 438.7915] sec.\n"
     ]
    }
   ],
   "source": [
    "REAL_LMD = 0.3 # 0.0 - 0.5\n",
    "\n",
    "\n",
    "import time\n",
    "elapsed_time = []\n",
    "\n",
    "class init_arg(object):\n",
    "    def __init__(self, it = 10000, o = 'feature_score.csv.gz', dataset = None, i= None, target = None):\n",
    "        self.it = it\n",
    "        self.o = o\n",
    "        self.dataset = dataset\n",
    "        self.i = i\n",
    "        self.target = target\n",
    "        \n",
    "        \n",
    "        \n",
    "progress_loger = []\n",
    "\n",
    "\n",
    "\n",
    "\n",
    "for DATASET in ['Syn1','Syn2','Syn3', 'Syn4','Syn5','Syn6']:\n",
    "    sub_logger = []\n",
    "    args = init_arg(dataset = DATASET, it = 5000, )\n",
    "    ocsv = args.o # 'feature_score.csv.gz'\n",
    "    odir = os.path.dirname(ocsv)\n",
    "    odir = '.' if not len(odir) else odir\n",
    "    fn_csv = args.i #'data.csv'\n",
    "    label_nm = args.target # 'target'\n",
    "    nepoch = args.it\n",
    "    logger = utilmlab.init_logger(odir)\n",
    "\n",
    "    dataset = args.dataset\n",
    "\n",
    "    assert dataset is not None or fn_csv is not None\n",
    "    assert fn_csv is None or label_nm is not None\n",
    "\n",
    "    # Data output can be either binary (Y) or Probability (Prob)\n",
    "    data_out_sets = ['Y', 'Prob']\n",
    "    data_out = data_out_sets[0]\n",
    "\n",
    "    logger.info('invase: {} {} {} {}'.format(dataset, nepoch, odir, data_out))\n",
    "\n",
    "    # Number of Training and Testing samples\n",
    "    train_N = 10000\n",
    "    test_N = 10000\n",
    "\n",
    "    # Seeds (different seeds for training and testing)\n",
    "    train_seed = 0\n",
    "    test_seed = 1\n",
    "\n",
    "    x_train, y_train, _, x_test, y_test, g_test, df_train, df_test, \\\n",
    "        dset, features = load_create_data(\n",
    "            dataset,\n",
    "            data_out,\n",
    "            is_logging_enabled=True,\n",
    "            fn_csv=fn_csv,\n",
    "            label_nm=label_nm)\n",
    "    \n",
    "\n",
    "    start_time = time.time()\n",
    "    for thres_i in [0.0]:\n",
    "        Predict_Out_temp = np.zeros([3, 2])    \n",
    "\n",
    "        PVS_Alg = PVS(x_train, dataset, 100, thres=thres_i)\n",
    "\n",
    "        for train_epoch in range(int(nepoch/100)):\n",
    "            \n",
    "            Lmd = train_epoch*100/nepoch * REAL_LMD\n",
    "            Thr = 0.5*(1 - train_epoch*100/nepoch)\n",
    "            print('now at training epoch number', int(train_epoch * 100),'hyp-params: lamda %.4f prior %.4f'%(Lmd,Thr))\n",
    "            PVS_Alg.train(x_train, y_train, lmd = Lmd , thr = Thr)\n",
    "            # 3. Get the selection probability on the testing set\n",
    "\n",
    "\n",
    "\n",
    "            '''recurssive generation'''\n",
    "            input_batch = x_test * 1.0\n",
    "            sel_prob_tot = 1.0\n",
    "            for recur_time in range(4):\n",
    "                print('rec time now',recur_time,'dataset now:',DATASET)\n",
    "                gen_prob = PVS_Alg.generator(torch.as_tensor(input_batch).float().to(device))\n",
    "                #sel_prob = PVS_Alg.Sample_M(gen_prob)\n",
    "                sel_prob = 1.*(gen_prob > 0.5)\n",
    "                sel_prob_tot_0 = sel_prob_tot * 1.0\n",
    "                sel_prob_tot = torch.as_tensor(sel_prob * sel_prob_tot).to(device)\n",
    "                input_batch = sel_prob_tot * torch.as_tensor(input_batch).to(device)\n",
    "\n",
    "                score = sel_prob_tot\n",
    "                #print('score',score)\n",
    "\n",
    "\n",
    "\n",
    "                # 4. Selected features\n",
    "                # 5. Prediction\n",
    "                val_predict, dis_predict = PVS_Alg.get_prediction(torch.as_tensor(x_test).float().to(device), score)\n",
    "                val_predict = torch.softmax(torch.as_tensor(val_predict),-1).cpu().numpy()\n",
    "                dis_predict = torch.softmax(torch.as_tensor(dis_predict),-1).cpu().numpy()\n",
    "\n",
    "\n",
    "                def performance_metric(score, g_truth):\n",
    "\n",
    "                    n = len(score)\n",
    "                    Temp_TPR = np.zeros([n,])\n",
    "                    Temp_FDR = np.zeros([n,])\n",
    "\n",
    "                    for i in range(n):\n",
    "\n",
    "                        # TPR    \n",
    "                        # embed()\n",
    "                        TPR_Nom = np.sum((score[i,:].cpu().detach().numpy() * g_truth[i,:]))\n",
    "                        TPR_Den = np.sum(g_truth[i,:])\n",
    "                        Temp_TPR[i] = 100 * float(TPR_Nom)/float(TPR_Den+1e-8)\n",
    "\n",
    "                        # FDR\n",
    "                        FDR_Nom = np.sum((score[i,:].cpu().detach().numpy() * (1-g_truth[i,:])))\n",
    "                        FDR_Den = np.sum(score[i,:].cpu().detach().numpy())\n",
    "                        Temp_FDR[i] = 100 * float(FDR_Nom)/float(FDR_Den+1e-8)\n",
    "\n",
    "                    return np.mean(Temp_TPR), np.mean(Temp_FDR),\\\n",
    "                        np.std(Temp_TPR), np.std(Temp_FDR)\n",
    "\n",
    "                #%% Output\n",
    "\n",
    "                TPR_mean, TPR_std = -1, 0\n",
    "                FDR_mean, FDR_std = -1, 0\n",
    "                if g_test is not None:\n",
    "                    TPR_mean, FDR_mean, TPR_std, FDR_std = performance_metric(\n",
    "                        score, g_test)\n",
    "\n",
    "                    logger.info('TPR mean: {:0.1f}%  std: {:0.1f}%'.format(\n",
    "                        TPR_mean, TPR_std))\n",
    "                    logger.info('FDR mean: {:0.1f}%  std: {:0.1f}%'.format(\n",
    "                        FDR_mean, FDR_std))\n",
    "                else:\n",
    "                    logger.info('no ground truth relevance')\n",
    "\n",
    "\n",
    "\n",
    "                #%% Performance Metrics\n",
    "                Predict_Out_temp[0,0] = roc_auc_score(y_test[:,1], val_predict[:,1])\n",
    "                Predict_Out_temp[1,0] = average_precision_score(y_test[:,1], val_predict[:,1])\n",
    "                Predict_Out_temp[2,0] = accuracy_score(y_test[:,1], 1. * (val_predict[:,1]>0.5) )\n",
    "\n",
    "                Predict_Out_temp[0,1] = roc_auc_score(y_test[:,1], dis_predict[:,1])\n",
    "                Predict_Out_temp[1,1] = average_precision_score(y_test[:,1], dis_predict[:,1])\n",
    "                Predict_Out_temp[2,1] = accuracy_score(y_test[:,1], 1. * (dis_predict[:,1]>0.5) )\n",
    "                print(Predict_Out_temp)\n",
    "                sub_logger.append((Predict_Out_temp,TPR_mean,FDR_mean,TPR_std,FDR_std))\n",
    "        progress_loger.append(sub_logger)\n",
    "\n",
    "    elapsed_time.append(time.time() - start_time)\n",
    "    print('PyTorch Version: elapsed time for {}: 11 feature, 10000 sample:'.format(DATASET),np.round(elapsed_time,4),'sec.')\n"
   ]
  },
  {
   "cell_type": "code",
   "execution_count": null,
   "metadata": {},
   "outputs": [],
   "source": []
  }
 ],
 "metadata": {
  "kernelspec": {
   "display_name": "py3.79",
   "language": "python",
   "name": "py2.7"
  },
  "language_info": {
   "codemirror_mode": {
    "name": "ipython",
    "version": 3
   },
   "file_extension": ".py",
   "mimetype": "text/x-python",
   "name": "python",
   "nbconvert_exporter": "python",
   "pygments_lexer": "ipython3",
   "version": "3.7.9"
  }
 },
 "nbformat": 4,
 "nbformat_minor": 4
}
